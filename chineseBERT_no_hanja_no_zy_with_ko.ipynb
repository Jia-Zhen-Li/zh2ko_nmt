{
 "cells": [
  {
   "cell_type": "code",
   "execution_count": 1,
   "metadata": {
    "colab": {
     "base_uri": "https://localhost:8080/"
    },
    "executionInfo": {
     "elapsed": 18390,
     "status": "ok",
     "timestamp": 1716394103807,
     "user": {
      "displayName": "夏梨",
      "userId": "03563146555660366686"
     },
     "user_tz": -480
    },
    "id": "6Ypq5zelYtZs",
    "outputId": "ec1b1e09-aee4-453d-d537-f7a52b3d2e0e"
   },
   "outputs": [
    {
     "name": "stdout",
     "output_type": "stream",
     "text": [
      "Mounted at /content/drive\n"
     ]
    }
   ],
   "source": [
    "from google.colab import drive\n",
    "drive.mount('/content/drive')"
   ]
  },
  {
   "cell_type": "code",
   "execution_count": 1,
   "metadata": {
    "executionInfo": {
     "elapsed": 1376,
     "status": "ok",
     "timestamp": 1716394105181,
     "user": {
      "displayName": "夏梨",
      "userId": "03563146555660366686"
     },
     "user_tz": -480
    },
    "id": "0aI0sh5wHeUW"
   },
   "outputs": [],
   "source": [
    "import numpy as np\n",
    "import pandas as pd"
   ]
  },
  {
   "cell_type": "markdown",
   "metadata": {
    "id": "N1oxZYq3_s3M"
   },
   "source": [
    "# Load data"
   ]
  },
  {
   "cell_type": "markdown",
   "metadata": {
    "id": "YQrbZQJR--Q3"
   },
   "source": [
    "## Read sentence for each ALIGNED article csv file with train set and test set."
   ]
  },
  {
   "cell_type": "code",
   "execution_count": 2,
   "metadata": {
    "colab": {
     "base_uri": "https://localhost:8080/"
    },
    "executionInfo": {
     "elapsed": 8490,
     "status": "ok",
     "timestamp": 1716394113669,
     "user": {
      "displayName": "夏梨",
      "userId": "03563146555660366686"
     },
     "user_tz": -480
    },
    "id": "HpegKYMIBj2G",
    "outputId": "9f9a2a14-cc86-4d70-a253-ed5e0e4f4975"
   },
   "outputs": [
    {
     "name": "stdout",
     "output_type": "stream",
     "text": [
      "146660\n"
     ]
    }
   ],
   "source": [
    "df_train_transcript = pd.read_csv('./CORPUS/HANJA/HANJA_TRAIN_ALL.csv')\n",
    "df_train_transcript = df_train_transcript.to_dict(orient='dict')\n",
    "\n",
    "TRAIN_KSENT = (list(df_train_transcript['KO'].values()))\n",
    "TRAIN_KSENT.remove('\\\"')\n",
    "\n",
    "TRAIN_ZSENT = (list(df_train_transcript['ZH'].values()))\n",
    "TRAIN_ZSENT.remove('”')\n",
    "\n",
    "TRAIN_HSENT = (list(df_train_transcript['HANJA_Z'].values()))\n",
    "TRAIN_HSENT.remove('\\\"')\n",
    "\n",
    "#TRAIN_HSENT = (list(df_train_transcript['HANJA_K'].values()))\n",
    "#TRAIN_HSENT.remove('\\\"')\n",
    "\n",
    "print(len(TRAIN_KSENT))\n",
    "df_train_transcript = []"
   ]
  },
  {
   "cell_type": "code",
   "execution_count": 3,
   "metadata": {
    "colab": {
     "base_uri": "https://localhost:8080/"
    },
    "executionInfo": {
     "elapsed": 1730,
     "status": "ok",
     "timestamp": 1716394115396,
     "user": {
      "displayName": "夏梨",
      "userId": "03563146555660366686"
     },
     "user_tz": -480
    },
    "id": "cdp5CTVABkI_",
    "outputId": "d97aabff-1cb4-4aa9-aeb3-5e0845651802"
   },
   "outputs": [
    {
     "name": "stdout",
     "output_type": "stream",
     "text": [
      "36089\n"
     ]
    }
   ],
   "source": [
    "df_test_transcript = pd.read_csv('./CORPUS/HANJA/HANJA_TEST_ALL.csv')\n",
    "df_test_transcript = df_test_transcript.to_dict(orient='dict')\n",
    "\n",
    "TEST_KSENT = (list(df_test_transcript['KO'].values()))\n",
    "TEST_ZSENT = (list(df_test_transcript['ZH'].values()))\n",
    "TEST_HSENT = (list(df_test_transcript['HANJA_Z'].values()))\n",
    "#TEST_HSENT = (list(df_test_transcript['HANJA_K'].values()))\n",
    "\n",
    "df_test_transcript = []\n",
    "print(len(TEST_KSENT))"
   ]
  },
  {
   "cell_type": "code",
   "execution_count": 4,
   "metadata": {
    "colab": {
     "base_uri": "https://localhost:8080/"
    },
    "executionInfo": {
     "elapsed": 6219,
     "status": "ok",
     "timestamp": 1716394121611,
     "user": {
      "displayName": "夏梨",
      "userId": "03563146555660366686"
     },
     "user_tz": -480
    },
    "id": "TKQgkPEWJE9Q",
    "outputId": "4718f93c-55eb-4fa4-8046-22ef21846f99"
   },
   "outputs": [
    {
     "name": "stdout",
     "output_type": "stream",
     "text": [
      "146660\n"
     ]
    }
   ],
   "source": [
    "df_train_zhuyin = pd.read_csv('./CORPUS/ZHUYIN/ZHUYIN_TRAIN_ALL.csv')\n",
    "df_train_zhuyin = df_train_zhuyin.to_dict(orient='dict')\n",
    "\n",
    "TRAIN_ZYSENT = (list(df_train_zhuyin['zhuyin'].values()))\n",
    "TRAIN_ZYSENT.remove(np.nan)\n",
    "TRAIN_ZYSENT = [sent.replace('\\n','') for sent in TRAIN_ZYSENT]\n",
    "\n",
    "df_train_zhuyin = []\n",
    "print(len(TRAIN_ZYSENT))"
   ]
  },
  {
   "cell_type": "code",
   "execution_count": 5,
   "metadata": {
    "colab": {
     "base_uri": "https://localhost:8080/"
    },
    "executionInfo": {
     "elapsed": 878,
     "status": "ok",
     "timestamp": 1716394122487,
     "user": {
      "displayName": "夏梨",
      "userId": "03563146555660366686"
     },
     "user_tz": -480
    },
    "id": "Fbno4O52JE9Q",
    "outputId": "3e0b3deb-a500-47c6-c534-3038b72d7f1e"
   },
   "outputs": [
    {
     "name": "stdout",
     "output_type": "stream",
     "text": [
      "36089\n"
     ]
    }
   ],
   "source": [
    "df_test_zhuyin = pd.read_csv('./CORPUS/ZHUYIN/ZHUYIN_TEST_ALL.csv')\n",
    "df_test_zhuyin = df_test_zhuyin.to_dict(orient='dict')\n",
    "\n",
    "TEST_ZYSENT = [sent.replace('\\n','') for sent in (list(df_test_zhuyin['zhuyin'].values()))]\n",
    "\n",
    "df_test_transcript = []\n",
    "print(len(TEST_ZYSENT))"
   ]
  },
  {
   "cell_type": "code",
   "execution_count": 6,
   "metadata": {},
   "outputs": [],
   "source": [
    "def find_delete_indexs(src_lists,dst_lists):\n",
    "    delete_indexs = {}\n",
    "    for i in range(len(src_lists)):\n",
    "        if(len(src_lists[i]) < 3 or len(dst_lists[i]) < 3):\n",
    "            delete_indexs[i] = 1\n",
    "            #print(i,src_lists[i], dst_lists[i])\n",
    "    return list(delete_indexs.keys())"
   ]
  },
  {
   "cell_type": "code",
   "execution_count": 7,
   "metadata": {},
   "outputs": [],
   "source": [
    "def delete_indexs_items(lists,delete_indexs):\n",
    "    delete_indexs.reverse()\n",
    "    for i in delete_indexs:\n",
    "        del lists[i]\n",
    "    return lists"
   ]
  },
  {
   "cell_type": "code",
   "execution_count": 8,
   "metadata": {},
   "outputs": [
    {
     "name": "stdout",
     "output_type": "stream",
     "text": [
      "146612 146612 146612 146612\n"
     ]
    }
   ],
   "source": [
    "train_del_idxs = find_delete_indexs(TRAIN_ZSENT,TRAIN_KSENT)\n",
    "TRAIN_ZSENT = delete_indexs_items(TRAIN_ZSENT,train_del_idxs)\n",
    "TRAIN_KSENT = delete_indexs_items(TRAIN_KSENT,train_del_idxs)\n",
    "TRAIN_HSENT = delete_indexs_items(TRAIN_HSENT,train_del_idxs)\n",
    "TRAIN_ZYSENT = delete_indexs_items(TRAIN_ZYSENT,train_del_idxs)\n",
    "print(len(TRAIN_ZSENT),len(TRAIN_KSENT),len(TRAIN_HSENT),len(TRAIN_ZYSENT))"
   ]
  },
  {
   "cell_type": "code",
   "execution_count": 9,
   "metadata": {},
   "outputs": [
    {
     "name": "stdout",
     "output_type": "stream",
     "text": [
      "36072 36072 36072 36072\n"
     ]
    }
   ],
   "source": [
    "test_del_idxs = find_delete_indexs(TEST_ZSENT,TEST_KSENT)\n",
    "TEST_ZSENT = delete_indexs_items(TEST_ZSENT,test_del_idxs)\n",
    "TEST_KSENT = delete_indexs_items(TEST_KSENT,test_del_idxs)\n",
    "TEST_HSENT = delete_indexs_items(TEST_HSENT,test_del_idxs)\n",
    "TEST_ZYSENT = delete_indexs_items(TEST_ZYSENT,test_del_idxs)\n",
    "print(len(TEST_ZSENT),len(TEST_KSENT),len(TEST_HSENT),len(TEST_ZYSENT))"
   ]
  },
  {
   "cell_type": "code",
   "execution_count": 10,
   "metadata": {
    "colab": {
     "base_uri": "https://localhost:8080/"
    },
    "executionInfo": {
     "elapsed": 4,
     "status": "ok",
     "timestamp": 1716393414638,
     "user": {
      "displayName": "Yeezi",
      "userId": "08687854767328262193"
     },
     "user_tz": -480
    },
    "id": "MDNobIQfJE9Q",
    "outputId": "088c461d-217d-4505-946d-c6269b4d8f5c"
   },
   "outputs": [
    {
     "name": "stdout",
     "output_type": "stream",
     "text": [
      "ㄒㄧㄝˋㄒㄧㄝˋㄉㄚˋㄐㄧㄚ。\n",
      "ㄨㄛˇㄒㄧㄤㄒㄧㄣˋㄖㄨˊㄍㄨㄛˇㄋㄧˇㄍㄟˇㄊㄚㄇㄣ˙ㄓㄥˋㄑㄩㄝˋㄉㄜ˙ㄈㄤㄈㄚˇㄏㄜˊㄍㄨㄥㄐㄩˋ，ㄊㄚㄇㄣ˙ㄎㄜˇㄧˇㄅㄚˇㄕㄢㄉㄡㄓㄨㄢˇㄧˊㄌㄜ˙ㄒㄧㄝˋㄒㄧㄝˋ（ㄍㄨˇㄓㄤˇㄕㄥ）\n"
     ]
    }
   ],
   "source": [
    "print(TRAIN_ZYSENT[0])\n",
    "print(TEST_ZYSENT[0])"
   ]
  },
  {
   "cell_type": "markdown",
   "metadata": {},
   "source": [
    "## TED2020 Dataset"
   ]
  },
  {
   "cell_type": "code",
   "execution_count": 2,
   "metadata": {},
   "outputs": [
    {
     "name": "stdout",
     "output_type": "stream",
     "text": [
      "311376\n"
     ]
    }
   ],
   "source": [
    "df_train_transcript = pd.read_csv('./CORPUS/ted2020/TED2020_HANJA_TRAIN_ALL.csv')\n",
    "df_train_transcript = df_train_transcript.to_dict(orient='dict')\n",
    "\n",
    "TRAIN_KSENT = (list(df_train_transcript['KO'].values()))\n",
    "\n",
    "TRAIN_ZSENT = (list(df_train_transcript['ZH'].values()))\n",
    "\n",
    "TRAIN_HSENT = (list(df_train_transcript['HANJA_Z'].values()))\n",
    "\n",
    "print(len(TRAIN_KSENT))\n",
    "df_train_transcript = []"
   ]
  },
  {
   "cell_type": "code",
   "execution_count": 3,
   "metadata": {},
   "outputs": [
    {
     "name": "stdout",
     "output_type": "stream",
     "text": [
      "77844\n"
     ]
    }
   ],
   "source": [
    "df_test_transcript = pd.read_csv('./CORPUS/ted2020/TED2020_HANJA_TEST_ALL.csv')\n",
    "df_test_transcript = df_test_transcript.to_dict(orient='dict')\n",
    "\n",
    "TEST_KSENT = (list(df_test_transcript['KO'].values()))\n",
    "TEST_ZSENT = (list(df_test_transcript['ZH'].values()))\n",
    "TEST_HSENT = (list(df_test_transcript['HANJA_Z'].values()))\n",
    "#TEST_HSENT = (list(df_test_transcript['HANJA_K'].values()))\n",
    "\n",
    "df_test_transcript = []\n",
    "print(len(TEST_KSENT))"
   ]
  },
  {
   "cell_type": "code",
   "execution_count": 4,
   "metadata": {},
   "outputs": [
    {
     "name": "stdout",
     "output_type": "stream",
     "text": [
      "311376\n"
     ]
    }
   ],
   "source": [
    "df_train_zhuyin = pd.read_csv('./CORPUS/ted2020/TED2020_TRAIN_ALL_ZHUYIN.csv')\n",
    "df_train_zhuyin = df_train_zhuyin.to_dict(orient='dict')\n",
    "\n",
    "TRAIN_ZYSENT = (list(df_train_zhuyin['zhuyin'].values()))\n",
    "\n",
    "TRAIN_ZYSENT = [str(sent).replace('\\n','') for sent in TRAIN_ZYSENT]\n",
    "\n",
    "df_train_zhuyin = []\n",
    "print(len(TRAIN_ZYSENT))"
   ]
  },
  {
   "cell_type": "code",
   "execution_count": 5,
   "metadata": {},
   "outputs": [
    {
     "name": "stdout",
     "output_type": "stream",
     "text": [
      "77844\n"
     ]
    }
   ],
   "source": [
    "df_test_zhuyin = pd.read_csv('./CORPUS/ted2020/TED2020_TEST_ALL_ZHUYIN.csv')\n",
    "df_test_zhuyin = df_test_zhuyin.to_dict(orient='dict')\n",
    "\n",
    "TEST_ZYSENT = [str(sent).replace('\\n','') for sent in (list(df_test_zhuyin['zhuyin'].values()))]\n",
    "\n",
    "df_test_transcript = []\n",
    "print(len(TEST_ZYSENT))"
   ]
  },
  {
   "cell_type": "markdown",
   "metadata": {
    "id": "gbBZ0gHTc5S2"
   },
   "source": [
    "# Pretrain Model"
   ]
  },
  {
   "cell_type": "code",
   "execution_count": 10,
   "metadata": {
    "executionInfo": {
     "elapsed": 7752,
     "status": "ok",
     "timestamp": 1716394130237,
     "user": {
      "displayName": "夏梨",
      "userId": "03563146555660366686"
     },
     "user_tz": -480
    },
    "id": "Ja9cukshN9og"
   },
   "outputs": [],
   "source": [
    "import torch\n",
    "from transformers import BertTokenizer, BertModel, BertConfig, BertForPreTraining, AutoModel, BertTokenizerFast\n",
    "from torch.utils.data import Dataset, DataLoader\n",
    "from transformers import BertConfig, BertForMaskedLM\n",
    "import torch.nn as nn\n",
    "import torch.optim as optim\n",
    "import numpy as np\n",
    "import matplotlib.pyplot as plt\n",
    "import time"
   ]
  },
  {
   "cell_type": "markdown",
   "metadata": {
    "id": "yraQyz90_5Wp"
   },
   "source": [
    "## Set parameters"
   ]
  },
  {
   "cell_type": "code",
   "execution_count": 11,
   "metadata": {
    "executionInfo": {
     "elapsed": 251,
     "status": "ok",
     "timestamp": 1716394179356,
     "user": {
      "displayName": "夏梨",
      "userId": "03563146555660366686"
     },
     "user_tz": -480
    },
    "id": "5Y7gzOyzXXgK"
   },
   "outputs": [],
   "source": [
    "# 設定訓練參數\n",
    "device = torch.device(\"cuda\" if torch.cuda.is_available() else \"cpu\")\n",
    "max_length = 32\n",
    "batch_size = 16\n",
    "#batch_size = 32\n",
    "learning_rate = 1e-4\n",
    "num_epochs = 3\n"
   ]
  },
  {
   "cell_type": "code",
   "execution_count": 13,
   "metadata": {
    "colab": {
     "base_uri": "https://localhost:8080/"
    },
    "executionInfo": {
     "elapsed": 14,
     "status": "ok",
     "timestamp": 1716393421962,
     "user": {
      "displayName": "Yeezi",
      "userId": "08687854767328262193"
     },
     "user_tz": -480
    },
    "id": "D4tdbhn-JE9R",
    "outputId": "c54f7236-fa4d-490e-c3b0-2c4922416c19"
   },
   "outputs": [
    {
     "name": "stdout",
     "output_type": "stream",
     "text": [
      "cuda\n"
     ]
    }
   ],
   "source": [
    "print(device)"
   ]
  },
  {
   "cell_type": "markdown",
   "metadata": {
    "id": "UfN7Zeg0_8zF"
   },
   "source": [
    "## Load Tokenizer"
   ]
  },
  {
   "cell_type": "markdown",
   "metadata": {
    "id": "03Moe-doANbb"
   },
   "source": [
    "### Chinese Tokenizer"
   ]
  },
  {
   "cell_type": "code",
   "execution_count": 11,
   "metadata": {
    "colab": {
     "base_uri": "https://localhost:8080/"
    },
    "executionInfo": {
     "elapsed": 3924,
     "status": "ok",
     "timestamp": 1716394134158,
     "user": {
      "displayName": "夏梨",
      "userId": "03563146555660366686"
     },
     "user_tz": -480
    },
    "id": "Y0b1DUX3aGpx",
    "outputId": "003f1c8d-558f-4535-fa34-507eb5f19a94"
   },
   "outputs": [],
   "source": [
    "#zh_tokenizer = BertTokenizer.from_pretrained('./MODELS/TOKENIZER/new_zh_tokenizer_add_bpmf_korean_tokens_v2') # load bert-base-chinese tokenizer with bpmf、hangul tokens(from 'kykim/bert-kor-base' and konlpy)\n",
    "zh_tokenizer = BertTokenizerFast.from_pretrained('bert-base-chinese')"
   ]
  },
  {
   "cell_type": "code",
   "execution_count": 12,
   "metadata": {},
   "outputs": [
    {
     "name": "stdout",
     "output_type": "stream",
     "text": [
      "2751\n",
      "zy: 41\n",
      "zy tokens: 2089\n"
     ]
    }
   ],
   "source": [
    "# zhuyin tokens\n",
    "import re\n",
    "zhuyins = ['ㄅ','ㄆ','ㄇ','ㄈ','ㄉ','ㄊ','ㄋ','ㄌ','ㄍ','ㄎ','ㄏ','ㄐ','ㄑ','ㄒ','ㄓ','ㄔ','ㄕ','ㄖ','ㄗ','ㄘ','ㄙ','ㄧ','ㄨ','ㄩ','ㄚ','ㄛ','ㄜ','ㄝ','ㄞ','ㄟ','ㄠ','ㄡ','ㄢ','ㄣ','ㄤ','ㄥ','ㄦ','ˇ','ˋ','ˊ','˙']\n",
    "\n",
    "def check_bpmf_is_not(text):\n",
    "    test_list = ['.*[ㄅㄆㄇㄈㄉㄊㄋㄌㄍㄎㄏㄐㄑㄒㄓㄔㄕㄖㄗㄘㄙㄧㄨㄩㄚㄛㄜㄝㄞㄟㄠㄡㄢㄣㄤㄥㄦˇˋˊ˙]+.*']\n",
    "    for t in test_list:\n",
    "        valid = re.compile(t)\n",
    "        try:\n",
    "            if(valid.match(text) != None):\n",
    "                return True\n",
    "        except:\n",
    "            return False\n",
    "    return False\n",
    "\n",
    "zhuyin_df = pd.read_csv('./CORPUS/TOKEN/zhuyin_tokens_count.csv')\n",
    "zhuyin_df = zhuyin_df.to_dict(orient='dict')\n",
    "zhuyin_tokens = list(zhuyin_df['zhuyin'].values())\n",
    "print(len(zhuyin_tokens))\n",
    "\n",
    "for tok in zhuyin_tokens:\n",
    "  if(check_bpmf_is_not(tok)):\n",
    "    continue\n",
    "  else:\n",
    "    zhuyin_tokens.remove(tok)\n",
    "print('zy:',len(zhuyins))\n",
    "print('zy tokens:',len(zhuyin_tokens))"
   ]
  },
  {
   "cell_type": "code",
   "execution_count": 13,
   "metadata": {},
   "outputs": [
    {
     "name": "stdout",
     "output_type": "stream",
     "text": [
      "42000\n"
     ]
    }
   ],
   "source": [
    "# korean tokens\n",
    "ko_tokenizer = BertTokenizerFast.from_pretrained(\"kykim/bert-kor-base\")\n",
    "ko_tokenizer_tokens = list(ko_tokenizer.get_vocab().keys())\n",
    "print(len(ko_tokenizer_tokens))"
   ]
  },
  {
   "cell_type": "code",
   "execution_count": 14,
   "metadata": {},
   "outputs": [
    {
     "name": "stdout",
     "output_type": "stream",
     "text": [
      "Original Length:  21128\n",
      "Add korean tokens from kykim/bert-kor-base tokenizer:  61951\n"
     ]
    }
   ],
   "source": [
    "# add new tokens\n",
    "zh_tokenizer = BertTokenizerFast.from_pretrained('bert-base-chinese')\n",
    "print('Original Length: ',len(zh_tokenizer))\n",
    "\n",
    "#zh_tokenizer.add_tokens(zhuyins)\n",
    "#print('Add zhuyins: ',len(zh_tokenizer))\n",
    "\n",
    "#zh_tokenizer.add_tokens(zhuyin_tokens)\n",
    "#print('Add zhuyin tokens: ',len(zh_tokenizer))\n",
    "\n",
    "zh_tokenizer.add_tokens(ko_tokenizer_tokens)\n",
    "print('Add korean tokens from kykim/bert-kor-base tokenizer: ',len(zh_tokenizer))"
   ]
  },
  {
   "cell_type": "code",
   "execution_count": 15,
   "metadata": {
    "colab": {
     "base_uri": "https://localhost:8080/",
     "height": 257,
     "referenced_widgets": [
      "b22c7a401a2544d5b3e003e4bfc89848",
      "dc692d3bd30846c893969865f28231d5",
      "6a137696522c4a6ca2c8ad9dc7e9acd5",
      "9e5336577baf42f99c498a274e7b4d0c",
      "7fd9db41a1ad42f3b5aff4d361943bb6",
      "30c4c0cd48464741b15fd40e0c450e77",
      "d46cd83f2d084f96ace507dc7873d143",
      "73cfb114ca204454900aa142feedaa47",
      "945d2960866041a7bc653dfe62a40211",
      "c8c65ba734d84a958b11806ef8c45e9c",
      "733616701add43a0b47e2565c67cc277",
      "0adc71bb095f43799268b2919bb13a99",
      "32df952cd1364acdbb0b19240b4adf48",
      "715c99ee56c244d6b9f79384e293333b",
      "76b82f63b5cc49ebbbd4e97ff4820a50",
      "2d912a15a80142c686e2a4d85ee083d3",
      "26327b0bfc984ae0ac60478845121aa0",
      "f9c5eddf3686461280d275049ee72790",
      "84fc974f3f8c40199788427160646b56",
      "4b9dde8db8da4462b28fd0793ceb5d5a",
      "be5bf2d5e1a7442dad9e0439d50579f5",
      "46f1132276e742fb909466adf9d26fe9"
     ]
    },
    "executionInfo": {
     "elapsed": 12778,
     "status": "ok",
     "timestamp": 1716394146930,
     "user": {
      "displayName": "夏梨",
      "userId": "03563146555660366686"
     },
     "user_tz": -480
    },
    "id": "R3Rh8QZkJE9S",
    "outputId": "eebfbbee-3d23-4707-df0a-aaade8a82340"
   },
   "outputs": [
    {
     "name": "stderr",
     "output_type": "stream",
     "text": [
      "Some weights of BertModel were not initialized from the model checkpoint at ckiplab/bert-base-chinese and are newly initialized: ['bert.pooler.dense.bias', 'bert.pooler.dense.weight']\n",
      "You should probably TRAIN this model on a down-stream task to be able to use it for predictions and inference.\n"
     ]
    },
    {
     "data": {
      "text/plain": [
       "Embedding(61951, 768)"
      ]
     },
     "execution_count": 15,
     "metadata": {},
     "output_type": "execute_result"
    }
   ],
   "source": [
    "zh_bert_model = AutoModel.from_pretrained('ckiplab/bert-base-chinese')\n",
    "zh_bert_model.resize_token_embeddings(len(zh_tokenizer))"
   ]
  },
  {
   "cell_type": "markdown",
   "metadata": {
    "id": "s9ipZiyPwmrK"
   },
   "source": [
    "### Korean Tokenizer"
   ]
  },
  {
   "cell_type": "code",
   "execution_count": null,
   "metadata": {
    "colab": {
     "base_uri": "https://localhost:8080/",
     "height": 168,
     "referenced_widgets": [
      "720a589cb35d45f4aebf20dd2b73b07f",
      "9858cb49cdc247b1abd923428afb691e",
      "8fb4f3b706b14ed9bd565fa9ec9a6f9e",
      "238e7b4c12d644f9aa05c4f4c593d4cf",
      "d45bef2c5ce5422b8fd150dfb3378562",
      "644aa53bc9a047d1a4938cf9aa3de6e4",
      "759bab7844094ada9fe4d454058e3b3e",
      "0c734c2af04840a3af651a31e0ae33ee",
      "6fc971d8f2f24a62be8f9b3ff4301ba5",
      "da264c4adb1b4347a7a06dab0ce3dd57",
      "918e1783d17e44f79cfd44a9e9e1e009",
      "eee8199ead804a67a93cc1c6adcc7690",
      "7a6208ceae814dc69046c5a7a8f6d9b6",
      "22c2517d14394a4e8f3acd48feec8d56",
      "fc999c62f7f94238becc6229b2169da6",
      "dc0cec054f6947989c810c05bc469ada",
      "6074bfa7ab5145ad91c79fcac9875f3c",
      "6c4a5936add74d4cadffe7e6d9dfba73",
      "5a150d2dafa1478cb605c03ae1b6f11c",
      "7c3c148f9b90423385d516070de18258",
      "14c72a7544d547e19e3b04474ed198c2",
      "d910e33b773b44f1ac0b2461317e25ff",
      "23bacab63696486ca08b8a72ab7f9390",
      "ee853e912fec4f14ad6edacb24cf7f01",
      "8d5911ca7c2241d8a2bdb3a5f77a31e6",
      "ff694afd3f42475fb6829485061c9a72",
      "cfc8e231b76a49b7b7bcb877d5865a34",
      "a072699ae51044d8a72d5c82f8182411",
      "aa571eba262645259e967446753c17bf",
      "9370f273eb4647c4bdeadfe48dcee187",
      "b02773cc93624856906bd903ae3dff37",
      "422d1a5b399e4941bbec1937d5dee18a",
      "9a249264df174c9f8392583b817ff4b3"
     ]
    },
    "executionInfo": {
     "elapsed": 3720,
     "status": "ok",
     "timestamp": 1716393442928,
     "user": {
      "displayName": "Yeezi",
      "userId": "08687854767328262193"
     },
     "user_tz": -480
    },
    "id": "R7TXNOyqwqJa",
    "outputId": "0c02eaf5-e64b-4373-fbed-79bc6114ad4f"
   },
   "outputs": [
    {
     "data": {
      "application/vnd.jupyter.widget-view+json": {
       "model_id": "720a589cb35d45f4aebf20dd2b73b07f",
       "version_major": 2,
       "version_minor": 0
      },
      "text/plain": [
       "tokenizer_config.json:   0%|          | 0.00/80.0 [00:00<?, ?B/s]"
      ]
     },
     "metadata": {},
     "output_type": "display_data"
    },
    {
     "data": {
      "application/vnd.jupyter.widget-view+json": {
       "model_id": "eee8199ead804a67a93cc1c6adcc7690",
       "version_major": 2,
       "version_minor": 0
      },
      "text/plain": [
       "vocab.txt:   0%|          | 0.00/344k [00:00<?, ?B/s]"
      ]
     },
     "metadata": {},
     "output_type": "display_data"
    },
    {
     "name": "stderr",
     "output_type": "stream",
     "text": [
      "/usr/local/lib/python3.10/dist-packages/huggingface_hub/file_download.py:1132: FutureWarning: `resume_download` is deprecated and will be removed in version 1.0.0. Downloads always resume when possible. If you want to force a new download, use `force_download=True`.\n",
      "  warnings.warn(\n"
     ]
    },
    {
     "data": {
      "application/vnd.jupyter.widget-view+json": {
       "model_id": "23bacab63696486ca08b8a72ab7f9390",
       "version_major": 2,
       "version_minor": 0
      },
      "text/plain": [
       "config.json:   0%|          | 0.00/725 [00:00<?, ?B/s]"
      ]
     },
     "metadata": {},
     "output_type": "display_data"
    }
   ],
   "source": [
    "ko_tokenizer = BertTokenizerFast.from_pretrained(\"kykim/bert-kor-base\")"
   ]
  },
  {
   "cell_type": "code",
   "execution_count": null,
   "metadata": {
    "id": "bNSH5CeCxvSy"
   },
   "outputs": [],
   "source": [
    "ko_bert_model = BertModel.from_pretrained(\"kykim/bert-kor-base\")"
   ]
  },
  {
   "cell_type": "markdown",
   "metadata": {
    "id": "qTK4AyyywrIr"
   },
   "source": [
    "### mbert"
   ]
  },
  {
   "cell_type": "code",
   "execution_count": null,
   "metadata": {
    "colab": {
     "base_uri": "https://localhost:8080/",
     "height": 145,
     "referenced_widgets": [
      "ecd1452d40544b9f8e824893d8965f80",
      "cd2b767543f1435299935d6dadee5034",
      "14c4da599454480886928b62d789a0d5",
      "b988ec82ad424ae3835dd35d16a568db",
      "0b8c98a0d9b7446396cfbebb7356f676",
      "bc8062ce07204a17ab32b380b3792c1f",
      "ed9e0e610cec4c84aeb24b399e6e55a4",
      "46738251f2a847faaa21f90ce1c8725f",
      "6531766795024285ab5dcb1828072349",
      "d17c9b9a5592452eb4f6944648a2e8ea",
      "56fdffe8b977489b9ec2e5ea8a40edf5",
      "1586223071164a14abc0a26dc6c39df0",
      "66de85187d564d16953e5d45a48466d5",
      "527e76b798d444fb9c088467f8fa9e4c",
      "b4da9eee63a84ad383f189e13a6d0fa9",
      "538dd1ab4c82412b83dee2d6f709f994",
      "134d4d993a884a6e8c4fc86dedb75b21",
      "b6af3a537d524dfd8c48b06001d860b5",
      "611e6c598aa3483bb2c0143f2cd498cd",
      "d8b4b59278814e38a249ff6e7a1b0885",
      "3348d44475c94cb1b98061bfcb53900e",
      "56fd94b10ecc43178e1865f37f5e20e4",
      "926df48f58ae43e0b55924dc10143d60",
      "e1c08ebdce2346a3a9be94d10fb29fb7",
      "34720f0f64834830b1c090e5b86ca5c6",
      "e45bbf5f1ed0479c91c2a5ffd920af56",
      "0563cfc3dc7a4334a53b03abea67bf34",
      "907bc2da70694082b8147f9502c5983f",
      "a4e03bf1e679463ba560517492456925",
      "f3a35087770b400fa5877ce0e6842536",
      "89cac8a78da644598575401b3bd024d9",
      "569fcbc6a1c44d52b64226dbe4d5451e",
      "ad0ea6494ceb48a8ac8a39bca70999d8",
      "e974ba8f861c48aeb8548cab312d758c",
      "0938947be70f49b4a2668b30e45b1aae",
      "2cd96637c2054f7e8489493d5281508c",
      "f802bbfadf5145f3b291cad7a617c4d4",
      "d795e4d7c862477485a2fb3587a801bb",
      "82a629771ba64d33bd22296eea4422c9",
      "f8101c683be54ab8896726653a59bf9f",
      "5db7d093c33b4e2a8082774769259371",
      "bb325f7be9334219a976b70c49578c28",
      "52362e3759cb4b3f808c602671700337",
      "96ea27ef4a594badb71ef41b3d53bec6"
     ]
    },
    "executionInfo": {
     "elapsed": 3065,
     "status": "ok",
     "timestamp": 1716272122631,
     "user": {
      "displayName": "Yeezi",
      "userId": "08687854767328262193"
     },
     "user_tz": -480
    },
    "id": "aacISo-6wteU",
    "outputId": "500742d7-35a6-4ff3-a1d3-e0b1f89026f0"
   },
   "outputs": [
    {
     "data": {
      "application/vnd.jupyter.widget-view+json": {
       "model_id": "ecd1452d40544b9f8e824893d8965f80",
       "version_major": 2,
       "version_minor": 0
      },
      "text/plain": [
       "tokenizer_config.json:   0%|          | 0.00/49.0 [00:00<?, ?B/s]"
      ]
     },
     "metadata": {},
     "output_type": "display_data"
    },
    {
     "data": {
      "application/vnd.jupyter.widget-view+json": {
       "model_id": "1586223071164a14abc0a26dc6c39df0",
       "version_major": 2,
       "version_minor": 0
      },
      "text/plain": [
       "vocab.txt:   0%|          | 0.00/996k [00:00<?, ?B/s]"
      ]
     },
     "metadata": {},
     "output_type": "display_data"
    },
    {
     "data": {
      "application/vnd.jupyter.widget-view+json": {
       "model_id": "926df48f58ae43e0b55924dc10143d60",
       "version_major": 2,
       "version_minor": 0
      },
      "text/plain": [
       "tokenizer.json:   0%|          | 0.00/1.96M [00:00<?, ?B/s]"
      ]
     },
     "metadata": {},
     "output_type": "display_data"
    },
    {
     "data": {
      "application/vnd.jupyter.widget-view+json": {
       "model_id": "e974ba8f861c48aeb8548cab312d758c",
       "version_major": 2,
       "version_minor": 0
      },
      "text/plain": [
       "config.json:   0%|          | 0.00/625 [00:00<?, ?B/s]"
      ]
     },
     "metadata": {},
     "output_type": "display_data"
    }
   ],
   "source": [
    "mbert_tokenizer = BertTokenizer.from_pretrained('bert-base-multilingual-cased')"
   ]
  },
  {
   "cell_type": "code",
   "execution_count": null,
   "metadata": {
    "colab": {
     "base_uri": "https://localhost:8080/",
     "height": 49,
     "referenced_widgets": [
      "4696479d8ba840738d9a0bbec847c17b",
      "ed194bf6757a450f96d791fd7e0ecbd0",
      "3bb347ee412446e19040d3499a68a31c",
      "4fc089ca629e46179c17939fa94782bf",
      "1cba16906e3147ecadbc6706de0c39d6",
      "1de1d369d5294e5a85c9916b298fe2f1",
      "700c4a3194f241eaa4ae36b9fa476914",
      "3f5d8280b13f4a86a3604fd8a697a381",
      "dd0d07a703ed49a98f58ec914582192c",
      "32d07b4c240d44f5b7b9894bca42540f",
      "eea8c8d16bc04a93af2aabf6b526728b"
     ]
    },
    "executionInfo": {
     "elapsed": 7147,
     "status": "ok",
     "timestamp": 1716272129777,
     "user": {
      "displayName": "Yeezi",
      "userId": "08687854767328262193"
     },
     "user_tz": -480
    },
    "id": "2wrUUp8jxaBZ",
    "outputId": "f18b446b-170b-4bef-e66c-db9d99a2298c"
   },
   "outputs": [
    {
     "data": {
      "application/vnd.jupyter.widget-view+json": {
       "model_id": "4696479d8ba840738d9a0bbec847c17b",
       "version_major": 2,
       "version_minor": 0
      },
      "text/plain": [
       "model.safetensors:   0%|          | 0.00/714M [00:00<?, ?B/s]"
      ]
     },
     "metadata": {},
     "output_type": "display_data"
    }
   ],
   "source": [
    "mbert_model = BertModel.from_pretrained('bert-base-multilingual-cased').to(device)\n"
   ]
  },
  {
   "cell_type": "markdown",
   "metadata": {
    "id": "yHItFW4RwxZW"
   },
   "source": [
    "### chinese bert with phonetic"
   ]
  },
  {
   "cell_type": "code",
   "execution_count": null,
   "metadata": {
    "id": "Kla9x-iJw2p6"
   },
   "outputs": [],
   "source": []
  },
  {
   "cell_type": "code",
   "execution_count": 16,
   "metadata": {
    "executionInfo": {
     "elapsed": 4,
     "status": "ok",
     "timestamp": 1716394146930,
     "user": {
      "displayName": "夏梨",
      "userId": "03563146555660366686"
     },
     "user_tz": -480
    },
    "id": "SvX7R9FNJE9S"
   },
   "outputs": [],
   "source": [
    "my_tokenizer = zh_tokenizer\n",
    "tgt_tokenizer = zh_tokenizer"
   ]
  },
  {
   "cell_type": "code",
   "execution_count": 17,
   "metadata": {},
   "outputs": [],
   "source": [
    "\n",
    "#model_name = 'ZK12_zh_no_hanja_no_zy_with_ko' # use bert model : original model train() with dropout\n",
    "#model_name = 'ZK12_-_hanja_-_zy_+_ko' # use bert model : original model train() with dropout\n",
    "\n",
    "#model_name = 'TED_ZK12_-_hanja_-_zy_+_ko' # use bert model : original model train() with dropout\n",
    "model_name = 'ZK12_zh_no_hanja_no_zy_with_ko(again2)' # use bert model : original model train() with dropout\n",
    "#model_name = 'TED_ZK12_zh_no_hanja_no_zy_with_ko(again2)' # use bert model : original model train() with dropout\n",
    "#model_name = 'TED_ZK12_zh_no_hanja_no_zy_with_ko(again3)' # add nn.util.clip...\n",
    "#model_name = 'TED_ZK12_zh_no_hanja_no_zy_with_ko' # use bert model : original model train() with dropout"
   ]
  },
  {
   "cell_type": "code",
   "execution_count": 18,
   "metadata": {},
   "outputs": [],
   "source": [
    "my_model = zh_bert_model\n",
    "#my_model.load_state_dict(torch.load('./MODELS/BERTS/my_zh_model.pth'))\n",
    "my_model = my_model.to(device)\n",
    "#my_model.eval()"
   ]
  },
  {
   "cell_type": "code",
   "execution_count": null,
   "metadata": {},
   "outputs": [],
   "source": [
    "'''\n",
    "my_hanja_model = zh_bert_model\n",
    "my_hanja_model = my_hanja_model.to(device)\n",
    "my_hanja_model.load_state_dict(torch.load('./MODELS/BERTS/my_hanja_model.pth'))\n",
    "my_hanja_model.eval()"
   ]
  },
  {
   "cell_type": "code",
   "execution_count": null,
   "metadata": {},
   "outputs": [],
   "source": [
    "'''\n",
    "my_bpmf_model = zh_bert_model\n",
    "my_bpmf_model = my_bpmf_model.to(device)\n",
    "my_bpmf_model.load_state_dict(torch.load('./MODELS/BERTS/my_bpmf_model.pth'))\n",
    "my_bpmf_model.eval()"
   ]
  },
  {
   "cell_type": "code",
   "execution_count": null,
   "metadata": {},
   "outputs": [],
   "source": []
  },
  {
   "cell_type": "markdown",
   "metadata": {
    "id": "UjK5_xB2CB73"
   },
   "source": [
    "### Get Embeddings"
   ]
  },
  {
   "cell_type": "code",
   "execution_count": null,
   "metadata": {
    "colab": {
     "base_uri": "https://localhost:8080/"
    },
    "executionInfo": {
     "elapsed": 2232,
     "status": "ok",
     "timestamp": 1716272302673,
     "user": {
      "displayName": "Yeezi",
      "userId": "08687854767328262193"
     },
     "user_tz": -480
    },
    "id": "o_FjuY2mCE0m",
    "outputId": "0d76ff9e-012a-4b80-b968-c11dfcd7563b"
   },
   "outputs": [
    {
     "name": "stdout",
     "output_type": "stream",
     "text": [
      "그러다 結局에는 그냥 屈伏下故 末乃 버리綿 적어도 多飮에는 아무 日 없을 거라고 生角하는 持經까지 이르렀습니다. 패배자可 된 느낌이었죠.\n",
      "tensor([[[-1.2058e-01, -1.4019e-01, -7.5852e-01,  ...,  5.7960e-01,\n",
      "           1.4735e-01,  5.7352e-02],\n",
      "         [-6.1292e-01, -7.4539e-01, -8.3502e-02,  ...,  9.6286e-01,\n",
      "           3.0688e-01,  2.5471e-02],\n",
      "         [-4.5489e-01, -6.0978e-01, -3.0158e-01,  ...,  1.0734e+00,\n",
      "           2.0139e-01,  4.8326e-02],\n",
      "         ...,\n",
      "         [ 2.7903e-03, -8.0216e-02, -1.0318e+00,  ...,  5.6032e-01,\n",
      "          -8.0176e-04,  3.7377e-01],\n",
      "         [-1.9213e-01, -3.8575e-01, -6.5699e-01,  ...,  7.4177e-01,\n",
      "          -1.2330e-01,  3.6022e-01],\n",
      "         [-3.7075e-01, -2.1907e-01, -5.3335e-01,  ...,  7.2308e-01,\n",
      "           2.5642e-01,  7.5225e-02]]])\n"
     ]
    }
   ],
   "source": [
    "# 输入文本\n",
    "text = TEST_HSENT[923]\n",
    "print(text)\n",
    "# 使用 mBERT 分词器对文本进行编码\n",
    "inputs = mbert_tokenizer(text, return_tensors='pt', padding=True, truncation=True).to(device)\n",
    "\n",
    "# 将输入传递给 mBERT 模型以获取输出\n",
    "with torch.no_grad():\n",
    "    outputs = mbert_model(**inputs)\n",
    "\n",
    "# 提取嵌入\n",
    "embeddings = outputs.last_hidden_state\n",
    "\n",
    "print(embeddings)"
   ]
  },
  {
   "cell_type": "code",
   "execution_count": 15,
   "metadata": {
    "colab": {
     "base_uri": "https://localhost:8080/"
    },
    "executionInfo": {
     "elapsed": 489,
     "status": "ok",
     "timestamp": 1716272552247,
     "user": {
      "displayName": "Yeezi",
      "userId": "08687854767328262193"
     },
     "user_tz": -480
    },
    "id": "oSfAm4BHzDEw",
    "outputId": "8a264096-db37-4a94-cab9-5f4f3b345aa1"
   },
   "outputs": [
    {
     "name": "stdout",
     "output_type": "stream",
     "text": [
      "1994년도義 南 아프리카 共和國義 民主酒蟻路疑 變幻殷 牛李에게 말그대로, 꿈의 實現 이었습니다. \n",
      "tensor([[[ 0.4539, -0.0473, -0.1252,  ..., -0.0150,  0.2754,  0.2246],\n",
      "         [ 0.2028, -0.1798,  0.0435,  ...,  0.7129,  1.1715, -0.2255],\n",
      "         [ 0.2783, -0.8658, -0.4960,  ...,  1.1696,  0.8914,  0.1094],\n",
      "         ...,\n",
      "         [ 0.9248, -0.6796, -0.2644,  ...,  0.6522,  0.7148, -0.1465],\n",
      "         [ 0.5105, -0.3579, -0.0180,  ...,  0.3177,  0.4877,  0.0644],\n",
      "         [ 0.4539, -0.0473, -0.1252,  ..., -0.0150,  0.2754,  0.2246]]],\n",
      "       device='cuda:0')\n"
     ]
    }
   ],
   "source": [
    "# my_zh_model\n",
    "text = TEST_HSENT[923]\n",
    "print(text)\n",
    "# 使用 mBERT 分词器对文本进行编码\n",
    "inputs = zh_tokenizer(text, return_tensors='pt', padding=True, truncation=True).to(device)\n",
    "\n",
    "# 将输入传递给 mBERT 模型以获取输出\n",
    "with torch.no_grad():\n",
    "    outputs = my_model(**inputs)\n",
    "\n",
    "# 提取嵌入\n",
    "embeddings = outputs.last_hidden_state\n",
    "\n",
    "print(embeddings)"
   ]
  },
  {
   "cell_type": "code",
   "execution_count": 29,
   "metadata": {},
   "outputs": [
    {
     "name": "stdout",
     "output_type": "stream",
     "text": [
      "그러다 結局에는 그냥 屈伏下故 末乃 버리綿 적어도 多飮에는 아무 日 없을 거라고 生角하는 持經까지 이르렀습니다. 패배자可 된 느낌이었죠.\n",
      "tensor([[[ 1.3054e+00, -4.4438e+00, -2.7001e+00,  ..., -1.7835e+00,\n",
      "           5.2322e+00, -3.3590e-03],\n",
      "         [-3.1215e+00, -1.4925e+00, -6.2478e-01,  ...,  2.7746e+00,\n",
      "           3.1170e+00, -3.9944e-02],\n",
      "         [-8.0472e+00,  2.1473e+00, -6.6213e+00,  ...,  1.5663e+00,\n",
      "           3.7195e+00, -5.0157e-02],\n",
      "         ...,\n",
      "         [-5.2369e+00, -4.1304e+00,  8.6563e-01,  ..., -2.1396e+00,\n",
      "           2.4739e+00, -4.3135e-02],\n",
      "         [ 3.7941e-01, -2.1414e+00,  3.5418e+00,  ..., -3.2351e+00,\n",
      "          -1.3752e+00, -4.2022e-02],\n",
      "         [-1.5264e-02, -2.2320e+00,  2.6621e+00,  ...,  3.1985e+00,\n",
      "          -4.9516e+00, -5.2329e-02]]], device='cuda:0')\n"
     ]
    }
   ],
   "source": [
    "# my_hanja_model\n",
    "text = TEST_HSENT[923]\n",
    "print(text)\n",
    "# 使用 mBERT 分词器对文本进行编码\n",
    "inputs = zh_tokenizer(text, return_tensors='pt', padding=True, truncation=True).to(device)\n",
    "\n",
    "# 将输入传递给 mBERT 模型以获取输出\n",
    "with torch.no_grad():\n",
    "    outputs = my_hanja_model(**inputs)\n",
    "\n",
    "# 提取嵌入\n",
    "embeddings = outputs.last_hidden_state\n",
    "\n",
    "print(embeddings)"
   ]
  },
  {
   "cell_type": "code",
   "execution_count": 30,
   "metadata": {},
   "outputs": [
    {
     "name": "stdout",
     "output_type": "stream",
     "text": [
      "그러다 結局에는 그냥 屈伏下故 末乃 버리綿 적어도 多飮에는 아무 日 없을 거라고 生角하는 持經까지 이르렀습니다. 패배자可 된 느낌이었죠.\n",
      "tensor([[[ 1.3054e+00, -4.4438e+00, -2.7001e+00,  ..., -1.7835e+00,\n",
      "           5.2322e+00, -3.3590e-03],\n",
      "         [-3.1215e+00, -1.4925e+00, -6.2478e-01,  ...,  2.7746e+00,\n",
      "           3.1170e+00, -3.9944e-02],\n",
      "         [-8.0472e+00,  2.1473e+00, -6.6213e+00,  ...,  1.5663e+00,\n",
      "           3.7195e+00, -5.0157e-02],\n",
      "         ...,\n",
      "         [-5.2369e+00, -4.1304e+00,  8.6563e-01,  ..., -2.1396e+00,\n",
      "           2.4739e+00, -4.3135e-02],\n",
      "         [ 3.7941e-01, -2.1414e+00,  3.5418e+00,  ..., -3.2351e+00,\n",
      "          -1.3752e+00, -4.2022e-02],\n",
      "         [-1.5264e-02, -2.2320e+00,  2.6621e+00,  ...,  3.1985e+00,\n",
      "          -4.9516e+00, -5.2329e-02]]], device='cuda:0')\n"
     ]
    }
   ],
   "source": [
    "# my_bpmf_model\n",
    "text = TEST_HSENT[923]\n",
    "print(text)\n",
    "# 使用 mBERT 分词器对文本进行编码\n",
    "inputs = zh_tokenizer(text, return_tensors='pt', padding=True, truncation=True).to(device)\n",
    "\n",
    "# 将输入传递给 mBERT 模型以获取输出\n",
    "with torch.no_grad():\n",
    "    outputs = my_bpmf_model(**inputs)\n",
    "\n",
    "# 提取嵌入\n",
    "embeddings = outputs.last_hidden_state\n",
    "\n",
    "print(embeddings)"
   ]
  },
  {
   "cell_type": "code",
   "execution_count": null,
   "metadata": {
    "colab": {
     "base_uri": "https://localhost:8080/"
    },
    "executionInfo": {
     "elapsed": 301,
     "status": "ok",
     "timestamp": 1716272850935,
     "user": {
      "displayName": "Yeezi",
      "userId": "08687854767328262193"
     },
     "user_tz": -480
    },
    "id": "fJvv-q7J0aDG",
    "outputId": "99ed66c9-f5ab-4e73-e15f-f85c3791b3e8",
    "scrolled": true
   },
   "outputs": [],
   "source": [
    "# mbert_model\n",
    "print(TEST_ZSENT[923])\n",
    "text = TEST_ZYSENT[923]\n",
    "print(text)\n",
    "# 使用 mBERT 分词器对文本进行编码\n",
    "inputs = mbert_tokenizer(text, return_tensors='pt', padding=True, truncation=True).to(device)\n",
    "print(inputs['input_ids'])\n",
    "print(mbert_tokenizer.decode(inputs['input_ids'][0], skip_special_tokens=True))\n",
    "# 将输入传递给 mBERT 模型以获取输出\n",
    "with torch.no_grad():\n",
    "    outputs = mbert_model(**inputs)\n",
    "\n",
    "# 提取嵌入\n",
    "embeddings = outputs.last_hidden_state\n",
    "\n",
    "print(embeddings)"
   ]
  },
  {
   "cell_type": "code",
   "execution_count": 20,
   "metadata": {
    "colab": {
     "base_uri": "https://localhost:8080/"
    },
    "executionInfo": {
     "elapsed": 869,
     "status": "ok",
     "timestamp": 1716272859636,
     "user": {
      "displayName": "Yeezi",
      "userId": "08687854767328262193"
     },
     "user_tz": -480
    },
    "id": "eaAMxEeQ0cxY",
    "outputId": "3dd73a76-2319-41b4-bb12-f80f0e983eac"
   },
   "outputs": [
    {
     "name": "stdout",
     "output_type": "stream",
     "text": [
      "到最後我覺得，乾脆屈服熬過去，至少到下次再發生前我能得到點平靜。\n",
      "ㄉㄠˋㄗㄨㄟˋㄏㄡˋㄨㄛˇㄐㄩㄝˊㄉㄜ˙，ㄍㄢㄘㄨㄟˋㄑㄩㄈㄨˊㄠˊㄍㄨㄛˋㄑㄩˋ，ㄓˋㄕㄠˇㄉㄠˋㄒㄧㄚˋㄘˋㄗㄞˋㄈㄚㄕㄥㄑㄧㄢˊㄨㄛˇㄋㄥˊㄉㄜ˙ㄉㄠˋㄉㄧㄢˇㄆㄧㄥˊㄐㄧㄥˋ。\n",
      "tensor([[  101, 21212, 21314, 21222, 21160, 21298, 21178,  8024, 21847, 21669,\n",
      "         21683, 21566, 22097, 21245, 21282,  8024, 21248, 21326, 21212, 21250,\n",
      "         21176, 21159, 21463, 21158, 21164, 21160, 21293, 21178, 21212, 21330,\n",
      "         21347, 21360,   511,   102]], device='cuda:0')\n",
      "ㄉㄠˋ ㄗㄨㄟˋ ㄏㄡˋ ㄨㄛˇ ㄐㄩㄝˊ ㄉㄜ˙ ， ㄍㄢ ㄘㄨㄟˋ ㄑㄩ ㄈㄨˊ ㄠˊ ㄍㄨㄛˋ ㄑㄩˋ ， ㄓˋ ㄕㄠˇ ㄉㄠˋ ㄒㄧㄚˋ ㄘˋ ㄗㄞˋ ㄈㄚ ㄕㄥ ㄑㄧㄢˊ ㄨㄛˇ ㄋㄥˊ ㄉㄜ˙ ㄉㄠˋ ㄉㄧㄢˇ ㄆㄧㄥˊ ㄐㄧㄥˋ 。\n",
      "tensor([[[ 1.0444,  0.4776, -0.3137,  ...,  0.0884,  0.1758,  0.2491],\n",
      "         [ 0.0394,  0.7345, -0.6138,  ...,  0.5273,  0.5974, -0.1578],\n",
      "         [ 0.6699,  0.8073, -0.6991,  ...,  1.1291,  0.5514, -0.5418],\n",
      "         ...,\n",
      "         [ 0.0758,  0.1053, -0.7919,  ...,  1.0411,  0.2645, -0.2673],\n",
      "         [ 0.3935,  0.5438,  0.7982,  ...,  0.5464, -0.4632,  0.2710],\n",
      "         [ 1.0444,  0.4776, -0.3137,  ...,  0.0884,  0.1758,  0.2491]]],\n",
      "       device='cuda:0')\n"
     ]
    }
   ],
   "source": [
    "# 输入文本\n",
    "print(TEST_ZSENT[923])\n",
    "text = TEST_ZYSENT[923]\n",
    "print(text)\n",
    "# 使用 mBERT 分词器对文本进行编码\n",
    "inputs = zh_tokenizer(text, return_tensors='pt', padding=True, truncation=True).to(device)\n",
    "print(inputs['input_ids'])\n",
    "print(zh_tokenizer.decode(inputs['input_ids'][0], skip_special_tokens=True))\n",
    "\n",
    "# 将输入传递给 mBERT 模型以获取输出\n",
    "with torch.no_grad():\n",
    "    outputs = my_model(**inputs)\n",
    "\n",
    "# 提取嵌入\n",
    "embeddings = outputs.last_hidden_state\n",
    "\n",
    "print(embeddings)"
   ]
  },
  {
   "cell_type": "markdown",
   "metadata": {
    "id": "Zb2zO0JdJE9T"
   },
   "source": [
    "### Build Dataset Function"
   ]
  },
  {
   "cell_type": "code",
   "execution_count": 19,
   "metadata": {
    "executionInfo": {
     "elapsed": 3,
     "status": "ok",
     "timestamp": 1716394146930,
     "user": {
      "displayName": "夏梨",
      "userId": "03563146555660366686"
     },
     "user_tz": -480
    },
    "id": "MbMhr_ytXkPR"
   },
   "outputs": [],
   "source": [
    "# 假設您有一個平行語料庫，這是您的資料集\n",
    "class TranslationDataset(Dataset):\n",
    "    def __init__(self, source_sentences, target_sentences):\n",
    "        self.source_sentences = source_sentences\n",
    "        self.target_sentences = target_sentences\n",
    "        self.length = len(source_sentences)\n",
    "\n",
    "    def __len__(self):\n",
    "        return self.length\n",
    "\n",
    "    def __getitem__(self, index):\n",
    "        source = self.source_sentences[index]\n",
    "        target = self.target_sentences[index]\n",
    "        \n",
    "        source_token = my_tokenizer(source, padding='max_length', truncation=True, return_tensors='pt', max_length=max_length)\n",
    "        target_token = tgt_tokenizer(target, padding='max_length', truncation=True, return_tensors='pt', max_length=max_length)\n",
    "\n",
    "        \n",
    "        \n",
    "        #print(index)\n",
    "        return source, target, source_token, target_token\n"
   ]
  },
  {
   "cell_type": "markdown",
   "metadata": {
    "id": "Sm6_jekZJE9T"
   },
   "source": [
    "### Build Model"
   ]
  },
  {
   "cell_type": "code",
   "execution_count": 20,
   "metadata": {
    "executionInfo": {
     "elapsed": 3,
     "status": "ok",
     "timestamp": 1716394146930,
     "user": {
      "displayName": "夏梨",
      "userId": "03563146555660366686"
     },
     "user_tz": -480
    },
    "id": "Gl5SJr3J3F4W"
   },
   "outputs": [],
   "source": [
    "import torch\n",
    "import torch.nn as nn\n",
    "import torch.nn.functional as F"
   ]
  },
  {
   "cell_type": "code",
   "execution_count": 42,
   "metadata": {
    "executionInfo": {
     "elapsed": 247,
     "status": "ok",
     "timestamp": 1716394156152,
     "user": {
      "displayName": "夏梨",
      "userId": "03563146555660366686"
     },
     "user_tz": -480
    },
    "id": "zMHdA6GxJE9T"
   },
   "outputs": [],
   "source": [
    "class TranslationModel(nn.Module):\n",
    "    def __init__(self, bert_model, dropout_prob=0.3):\n",
    "        super(TranslationModel, self).__init__()\n",
    "        self.bert1 = bert_model\n",
    "        self.bert2 = bert_model\n",
    "        self.dropout1 = nn.Dropout(dropout_prob)\n",
    "        self.dropout2 = nn.Dropout(dropout_prob)\n",
    "        self.linear = nn.Linear(self.bert1.config.hidden_size, len(tgt_tokenizer))\n",
    "\n",
    "    def forward(self, input_ids, attention_mask, ko_ids, ko_attention_mask):\n",
    "        zh_outputs = self.bert1(input_ids=input_ids, attention_mask=attention_mask)\n",
    "        ko_outputs = self.bert2(input_ids=ko_ids, attention_mask=ko_attention_mask)\n",
    "\n",
    "        # Apply dropout\n",
    "        zh_outputs = self.dropout1(zh_outputs.last_hidden_state)\n",
    "        ko_outputs = self.dropout2(ko_outputs.last_hidden_state)\n",
    "        \n",
    "        # Combine representations\n",
    "        combined_outputs = 0.9 * zh_outputs + 0.1 * ko_outputs\n",
    "        \n",
    "        prediction_scores = self.linear(combined_outputs)\n",
    "        return prediction_scores\n"
   ]
  },
  {
   "cell_type": "code",
   "execution_count": 21,
   "metadata": {},
   "outputs": [
    {
     "ename": "SyntaxError",
     "evalue": "EOF while scanning triple-quoted string literal (2304112985.py, line 16)",
     "output_type": "error",
     "traceback": [
      "\u001b[0;36m  Cell \u001b[0;32mIn[21], line 16\u001b[0;36m\u001b[0m\n\u001b[0;31m    return prediction_scores\u001b[0m\n\u001b[0m                            \n^\u001b[0m\n\u001b[0;31mSyntaxError\u001b[0m\u001b[0;31m:\u001b[0m EOF while scanning triple-quoted string literal\n"
     ]
    }
   ],
   "source": [
    "'''class TranslationModel(nn.Module):\n",
    "    def __init__(self, bert_model, dropout_prob=0.1):\n",
    "        super(TranslationModel, self).__init__()\n",
    "        self.bert1 = bert_model\n",
    "        self.dropout1 = nn.Dropout(dropout_prob)\n",
    "        #self.linear = nn.Linear(self.bert1.config.hidden_size, len(tgt_tokenizer))\n",
    "        self.linear = nn.Linear(my_model.config.hidden_size, len(tgt_tokenizer))\n",
    "\n",
    "    def forward(self, input_ids, attention_mask):\n",
    "        zh_outputs = self.bert1(input_ids=input_ids, attention_mask=attention_mask)\n",
    "        #zh_outputs = my_model(input_ids=input_ids, attention_mask=attention_mask)\n",
    "\n",
    "        # Apply dropout\n",
    "        zh_outputs = self.dropout1(zh_outputs.last_hidden_state)\n",
    "        prediction_scores = self.linear(zh_outputs)\n",
    "        return prediction_scores\n"
   ]
  },
  {
   "cell_type": "markdown",
   "metadata": {
    "id": "GGVsQ3zAJE9U"
   },
   "source": [
    "### Data Loader"
   ]
  },
  {
   "cell_type": "code",
   "execution_count": 22,
   "metadata": {
    "executionInfo": {
     "elapsed": 268,
     "status": "ok",
     "timestamp": 1716394188834,
     "user": {
      "displayName": "夏梨",
      "userId": "03563146555660366686"
     },
     "user_tz": -480
    },
    "id": "3H9KG4_lXpgg"
   },
   "outputs": [],
   "source": [
    "# 載入資料集\n",
    "train_source_sentences = TRAIN_ZSENT  # 中文句子\n",
    "train_target_sentences = TRAIN_KSENT  # 韓文句子\n",
    "dataset = TranslationDataset(train_source_sentences, train_target_sentences)\n",
    "dataloader = DataLoader(dataset, batch_size=batch_size, shuffle=True)\n"
   ]
  },
  {
   "cell_type": "code",
   "execution_count": 23,
   "metadata": {
    "executionInfo": {
     "elapsed": 248,
     "status": "ok",
     "timestamp": 1716394192120,
     "user": {
      "displayName": "夏梨",
      "userId": "03563146555660366686"
     },
     "user_tz": -480
    },
    "id": "3YKuaojTXr37"
   },
   "outputs": [],
   "source": [
    "test_source_sentences = TEST_ZSENT  # 中文句子\n",
    "test_target_sentences = TEST_KSENT  # 韓文句子\n",
    "test_dataset = TranslationDataset(test_source_sentences, test_target_sentences)\n",
    "test_dataloader = DataLoader(test_dataset, batch_size=batch_size, shuffle=True)"
   ]
  },
  {
   "cell_type": "code",
   "execution_count": 19,
   "metadata": {
    "executionInfo": {
     "elapsed": 256,
     "status": "ok",
     "timestamp": 1716394193455,
     "user": {
      "displayName": "夏梨",
      "userId": "03563146555660366686"
     },
     "user_tz": -480
    },
    "id": "jtGKPrM2N_u-"
   },
   "outputs": [
    {
     "name": "stdout",
     "output_type": "stream",
     "text": [
      "0 m 53.64362931251526 s\n"
     ]
    }
   ],
   "source": [
    "start = time.time()\n",
    "for batch in dataloader:\n",
    "        source, target, source_tokens, target_tokens  = batch\n",
    "end = time.time()\n",
    "print(int((end-start)/60),'m',(end-start)%60,'s')"
   ]
  },
  {
   "cell_type": "code",
   "execution_count": 24,
   "metadata": {
    "executionInfo": {
     "elapsed": 245,
     "status": "ok",
     "timestamp": 1716394193698,
     "user": {
      "displayName": "夏梨",
      "userId": "03563146555660366686"
     },
     "user_tz": -480
    },
    "id": "uzfwsZmhR18j"
   },
   "outputs": [
    {
     "name": "stdout",
     "output_type": "stream",
     "text": [
      "0 m 13.943812608718872 s\n"
     ]
    }
   ],
   "source": [
    "start = time.time()\n",
    "for batch in test_dataloader:\n",
    "        source, target, source_tokens, target_tokens  = batch\n",
    "end = time.time()\n",
    "print(int((end-start)/60),'m',(end-start)%60,'s')"
   ]
  },
  {
   "cell_type": "markdown",
   "metadata": {
    "id": "ELC5MJCTJE9U"
   },
   "source": [
    "### Model"
   ]
  },
  {
   "cell_type": "code",
   "execution_count": 43,
   "metadata": {
    "executionInfo": {
     "elapsed": 2358,
     "status": "ok",
     "timestamp": 1716402639332,
     "user": {
      "displayName": "夏梨",
      "userId": "03563146555660366686"
     },
     "user_tz": -480
    },
    "id": "m1SBesmJXuch"
   },
   "outputs": [],
   "source": [
    "# 初始化模型、損失函數和優化器\n",
    "model = TranslationModel(my_model).to(device)\n",
    "criterion = nn.CrossEntropyLoss()\n",
    "optimizer = optim.Adam(model.parameters(), lr=learning_rate)"
   ]
  },
  {
   "cell_type": "code",
   "execution_count": 69,
   "metadata": {
    "colab": {
     "base_uri": "https://localhost:8080/",
     "height": 339
    },
    "executionInfo": {
     "elapsed": 515,
     "status": "error",
     "timestamp": 1716389322122,
     "user": {
      "displayName": "Yeezi",
      "userId": "08687854767328262193"
     },
     "user_tz": -480
    },
    "id": "elaXMMHpVltP",
    "outputId": "86357027-cf15-4636-853a-88aaebd7dbbf"
   },
   "outputs": [
    {
     "data": {
      "text/plain": [
       "<All keys matched successfully>"
      ]
     },
     "execution_count": 69,
     "metadata": {},
     "output_type": "execute_result"
    }
   ],
   "source": [
    "# 加載訓練好的模型\n",
    "#model = TranslationModel(model_mbert).to(device)\n",
    "model.load_state_dict(torch.load('./MODELS/best_translation_model({}).pth'.format(model_name)))"
   ]
  },
  {
   "cell_type": "markdown",
   "metadata": {
    "id": "sOyyXyBJJE9U"
   },
   "source": [
    "### Train and Evaluate"
   ]
  },
  {
   "cell_type": "code",
   "execution_count": 25,
   "metadata": {
    "executionInfo": {
     "elapsed": 391,
     "status": "ok",
     "timestamp": 1716394204800,
     "user": {
      "displayName": "夏梨",
      "userId": "03563146555660366686"
     },
     "user_tz": -480
    },
    "id": "ocuLcuL6Wz1f"
   },
   "outputs": [],
   "source": [
    "def epoch_time(start_time, end_time):\n",
    "  elapsed_time = end_time - start_time\n",
    "  elapsed_mins = int(elapsed_time/60)\n",
    "  elapsed_secs = int(elapsed_time%60)\n",
    "  return elapsed_mins, elapsed_secs"
   ]
  },
  {
   "cell_type": "code",
   "execution_count": 25,
   "metadata": {
    "colab": {
     "base_uri": "https://localhost:8080/"
    },
    "executionInfo": {
     "elapsed": 6366,
     "status": "ok",
     "timestamp": 1716394211618,
     "user": {
      "displayName": "夏梨",
      "userId": "03563146555660366686"
     },
     "user_tz": -480
    },
    "id": "1ol6KlEOdYkY",
    "outputId": "00958826-12c2-47b2-d197-014237482bfc"
   },
   "outputs": [
    {
     "name": "stderr",
     "output_type": "stream",
     "text": [
      "huggingface/tokenizers: The current process just got forked, after parallelism has already been used. Disabling parallelism to avoid deadlocks...\n",
      "To disable this warning, you can either:\n",
      "\t- Avoid using `tokenizers` before the fork if possible\n",
      "\t- Explicitly set the environment variable TOKENIZERS_PARALLELISM=(true | false)\n"
     ]
    },
    {
     "name": "stdout",
     "output_type": "stream",
     "text": [
      "Defaulting to user installation because normal site-packages is not writeable\n",
      "Requirement already satisfied: tqdm in /home/jiazhen/.local/lib/python3.8/site-packages (4.66.2)\n",
      "\u001b[33mDEPRECATION: distro-info 1.1build1 has a non-standard version number. pip 24.1 will enforce this behaviour change. A possible replacement is to upgrade to a newer version of distro-info or contact the author to suggest that they release a version with a conforming version number. Discussion can be found at https://github.com/pypa/pip/issues/12063\u001b[0m\u001b[33m\n",
      "\u001b[0m\u001b[33mDEPRECATION: python-debian 0.1.43ubuntu1 has a non-standard version number. pip 24.1 will enforce this behaviour change. A possible replacement is to upgrade to a newer version of python-debian or contact the author to suggest that they release a version with a conforming version number. Discussion can be found at https://github.com/pypa/pip/issues/12063\u001b[0m\u001b[33m\n",
      "\u001b[0m"
     ]
    }
   ],
   "source": [
    "!pip install tqdm"
   ]
  },
  {
   "cell_type": "code",
   "execution_count": 26,
   "metadata": {
    "executionInfo": {
     "elapsed": 4,
     "status": "ok",
     "timestamp": 1716394211618,
     "user": {
      "displayName": "夏梨",
      "userId": "03563146555660366686"
     },
     "user_tz": -480
    },
    "id": "rYYDgn6coBWc"
   },
   "outputs": [],
   "source": [
    "from tqdm import tqdm\n",
    "import wandb"
   ]
  },
  {
   "cell_type": "code",
   "execution_count": 27,
   "metadata": {
    "executionInfo": {
     "elapsed": 352,
     "status": "ok",
     "timestamp": 1716402643886,
     "user": {
      "displayName": "夏梨",
      "userId": "03563146555660366686"
     },
     "user_tz": -480
    },
    "id": "Qe1AC6QZXGku"
   },
   "outputs": [],
   "source": [
    "def train(path):\n",
    "    global model, dataloader, optimizer, criterion, my_tokenizer, tgt_tokenizer\n",
    "    model.train()\n",
    "    total_loss = 0\n",
    "    with tqdm(total = len(dataloader)) as pbar:\n",
    "      for batch in dataloader:\n",
    "        source_batch, target_batch, source_tokens, target_tokens  = batch\n",
    "        #print('source_tokens',source_tokens.input_ids.permute(1,0,2)[0].size())\n",
    "          \n",
    "        source_tokens_ids = source_tokens.input_ids.permute(1,0,2)[0].to(device)\n",
    "        source_tokens_attns = source_tokens.attention_mask.permute(1,0,2)[0].to(device)\n",
    "        target_tokens_ids = target_tokens.input_ids.permute(1,0,2)[0].to(device)\n",
    "        target_tokens_attns = target_tokens.attention_mask.permute(1,0,2)[0].to(device)\n",
    "          \n",
    "        #target_tokens_attns = target_tokens.to(device)\n",
    "        #source_tokens = my_tokenizer(source_batch, padding='max_length', truncation=True, return_tensors='pt', max_length=max_length).to(device)\n",
    "        #target_tokens = tgt_tokenizer(target_batch, padding='max_length', truncation=True, return_tensors='pt', max_length=max_length).to(device)\n",
    "        optimizer.zero_grad()\n",
    "        output = model(input_ids=source_tokens_ids,\n",
    "                       attention_mask=source_tokens_attns,\n",
    "                       ko_ids=target_tokens_ids,\n",
    "                       ko_attention_mask=target_tokens_attns)\n",
    "\n",
    "\n",
    "        loss = criterion(output.transpose(1, 2), target_tokens_ids)\n",
    "        loss.backward()\n",
    "          \n",
    "        # 应用梯度裁剪\n",
    "        torch.nn.utils.clip_grad_norm_(model.parameters(), max_norm=1.0)\n",
    "\n",
    "        optimizer.step()\n",
    "        wandb.log({\"Train_loss(batch)\": loss.item()})\n",
    "\n",
    "        total_loss += loss.item()\n",
    "        pbar.update(1)\n",
    "    torch.save(model.state_dict(), path)\n",
    "\n",
    "    return total_loss/len(dataloader)"
   ]
  },
  {
   "cell_type": "code",
   "execution_count": 28,
   "metadata": {
    "executionInfo": {
     "elapsed": 1,
     "status": "ok",
     "timestamp": 1716402644591,
     "user": {
      "displayName": "夏梨",
      "userId": "03563146555660366686"
     },
     "user_tz": -480
    },
    "id": "-YtHhdmNXJFo"
   },
   "outputs": [],
   "source": [
    "def evaluate():\n",
    "  global model, test_dataloader, criterion, my_tokenizer, tgt_tokenizer\n",
    "  model.eval()\n",
    "  total_loss = 0\n",
    "  with torch.no_grad():\n",
    "    with tqdm(total = len(test_dataloader)) as pbar:\n",
    "      for batch in test_dataloader:\n",
    "        source_batch, target_batch, source_tokens, target_tokens  = batch\n",
    "        source_tokens_ids = source_tokens.input_ids.permute(1,0,2)[0].to(device)\n",
    "        source_tokens_attns = source_tokens.attention_mask.permute(1,0,2)[0].to(device)\n",
    "        target_tokens_ids = target_tokens.input_ids.permute(1,0,2)[0].to(device)\n",
    "        target_tokens_attns = target_tokens.attention_mask.permute(1,0,2)[0].to(device)\n",
    "          \n",
    "        #source_tokens = my_tokenizer(source_batch, padding='max_length', truncation=True, return_tensors='pt', max_length=max_length).to(device)\n",
    "        #target_tokens = tgt_tokenizer(target_batch, padding='max_length', truncation=True, return_tensors='pt', max_length=max_length).to(device)\n",
    "\n",
    "        output = model(input_ids=source_tokens_ids, attention_mask=source_tokens_attns,\n",
    "                       ko_ids=target_tokens_ids,\n",
    "                       ko_attention_mask=target_tokens_attns)\n",
    "        loss = criterion(output.transpose(1, 2), target_tokens_ids)\n",
    "\n",
    "        total_loss += loss.item()\n",
    "\n",
    "        pbar.update(1)\n",
    "\n",
    "  return total_loss/len(test_dataloader)"
   ]
  },
  {
   "cell_type": "code",
   "execution_count": 29,
   "metadata": {
    "executionInfo": {
     "elapsed": 3,
     "status": "ok",
     "timestamp": 1716394212039,
     "user": {
      "displayName": "夏梨",
      "userId": "03563146555660366686"
     },
     "user_tz": -480
    },
    "id": "sq9krtvnXM8c"
   },
   "outputs": [],
   "source": [
    "def loss_history(train_loss_values, test_loss_values, path='', to_show=False):\n",
    "  before_train_loss = []\n",
    "  before_test_loss = []\n",
    "  try:\n",
    "    df_loss = pd.read_csv('./MODELS/LOSS_HISTORY/loss_plot_{}.csv'.format(path))\n",
    "    df_loss.to_dict(orient='dict')\n",
    "\n",
    "    try:\n",
    "      before_train_loss = list(df_loss['TRAIN_LOSS'].values())\n",
    "      before_test_loss = list(df_loss['TEST_LOSS'].values())\n",
    "    except:\n",
    "      before_train_loss = list(df_loss['TRAIN_LOSS'])\n",
    "      before_test_loss = list(df_loss['TEST_LOSS'])\n",
    "\n",
    "\n",
    "  except:\n",
    "    before_train_loss = []\n",
    "    before_test_loss = []\n",
    "\n",
    "  if(len(before_train_loss)>0):\n",
    "    train_loss_values = before_train_loss + train_loss_values\n",
    "    test_loss_values = before_test_loss + test_loss_values\n",
    "\n",
    "  # 假設您有每個 epoch 的索引\n",
    "  epochs = range(1, len(train_loss_values) + 1)\n",
    "  plt.clf()\n",
    "\n",
    "  # 繪製訓練損失和測試損失的折線圖\n",
    "  plt.plot(epochs, train_loss_values, 'b', label='Training loss')\n",
    "  plt.plot(epochs, test_loss_values, 'r', label='Test loss')\n",
    "  plt.title('Training and Test Loss')\n",
    "  plt.xlabel('Epochs')\n",
    "  plt.ylabel('Loss')\n",
    "  plt.legend()\n",
    "\n",
    "  # 儲存折線圖\n",
    "  plt.savefig('./MODELS/LOSS_HISTORY/loss_plot_{}.png'.format(path))\n",
    "  if to_show:\n",
    "    plt.show()\n",
    "\n",
    "  df_loss = pd.DataFrame({'TRAIN_LOSS':train_loss_values,'TEST_LOSS':test_loss_values})\n",
    "  df_loss.to_csv('./MODELS/LOSS_HISTORY/loss_plot_{}.csv'.format(path),index=False)"
   ]
  },
  {
   "cell_type": "code",
   "execution_count": 30,
   "metadata": {
    "executionInfo": {
     "elapsed": 3,
     "status": "ok",
     "timestamp": 1716394212039,
     "user": {
      "displayName": "夏梨",
      "userId": "03563146555660366686"
     },
     "user_tz": -480
    },
    "id": "bB31rAi_z0AT"
   },
   "outputs": [],
   "source": [
    "def bleu_history(bleu_score_values, path='', to_show=False):\n",
    "  before_bleu_score = []\n",
    "  try:\n",
    "    df_loss = pd.read_csv('./MODELS/LOSS_HISTORY/blue_plot_{}.csv'.format(path))\n",
    "    df_loss.to_dict(orient='dict')\n",
    "\n",
    "    try:\n",
    "      before_bleu_score = list(df_loss['BLEU_SCORE'].values())\n",
    "    except:\n",
    "      before_bleu_score = list(df_loss['BLEU_SCORE'])\n",
    "\n",
    "\n",
    "  except:\n",
    "    before_bleu_score = []\n",
    "\n",
    "  if(len(before_bleu_score)>0):\n",
    "    bleu_score_values = before_bleu_score + bleu_score_values\n",
    "\n",
    "  # 假設您有每個 epoch 的索引\n",
    "  epochs = range(1, len(bleu_score_values) + 1)\n",
    "  plt.clf()\n",
    "\n",
    "  # 繪製訓練損失和測試損失的折線圖\n",
    "  plt.plot(epochs, bleu_score_values, 'b', label='BLEU score')\n",
    "  plt.title('BLEU SCORE')\n",
    "  plt.xlabel('Epochs')\n",
    "  plt.ylabel('Score')\n",
    "  plt.legend()\n",
    "\n",
    "  # 儲存折線圖\n",
    "  plt.savefig('./MODELS/LOSS_HISTORY/blue_plot_{}.png'.format(path))\n",
    "  if to_show:\n",
    "    plt.show()\n",
    "\n",
    "  df_loss = pd.DataFrame({'BLEU_SCORE':bleu_score_values})\n",
    "  df_loss.to_csv('./MODELS/LOSS_HISTORY/blue_plot_{}.csv'.format(path),index=False)"
   ]
  },
  {
   "cell_type": "code",
   "execution_count": 31,
   "metadata": {
    "executionInfo": {
     "elapsed": 1452,
     "status": "ok",
     "timestamp": 1716394213489,
     "user": {
      "displayName": "夏梨",
      "userId": "03563146555660366686"
     },
     "user_tz": -480
    },
    "id": "GBwPiLJg75AY"
   },
   "outputs": [],
   "source": [
    "from nltk.translate.bleu_score import corpus_bleu\n",
    "from nltk.translate.bleu_score import SmoothingFunction\n",
    "\n",
    "def bleu_score():\n",
    "  global my_tokenizer, test_target_sentences, model, max_length, device\n",
    "  model.eval()\n",
    "  # 生成目標語句\n",
    "  generated_sentences = []\n",
    "  with tqdm(total = len(test_source_sentences)) as pbar:\n",
    "    for source_sentence in test_source_sentences:\n",
    "      source_tokens = my_tokenizer(source_sentence, padding=True, truncation=True, return_tensors='pt', max_length=max_length).to(device)\n",
    "      with torch.no_grad():\n",
    "        output = model(input_ids=source_tokens.input_ids, attention_mask=source_tokens.attention_mask)\n",
    "      generated_sentence = my_tokenizer.decode(output[0].argmax(dim=-1), skip_special_tokens=True)\n",
    "      generated_sentences.append(generated_sentence)\n",
    "      pbar.update(1)\n",
    "\n",
    "\n",
    "  # 計算 BLEU 分數\n",
    "  smoothie = SmoothingFunction().method4\n",
    "  bleu_score = corpus_bleu([[ref] for ref in test_target_sentences], generated_sentences, smoothing_function=smoothie)\n",
    "\n",
    "  #print(\"BLEU 分數:\", bleu_score)\n",
    "  return bleu_score"
   ]
  },
  {
   "cell_type": "code",
   "execution_count": 38,
   "metadata": {
    "colab": {
     "base_uri": "https://localhost:8080/"
    },
    "executionInfo": {
     "elapsed": 7136,
     "status": "ok",
     "timestamp": 1716394220622,
     "user": {
      "displayName": "夏梨",
      "userId": "03563146555660366686"
     },
     "user_tz": -480
    },
    "id": "fcwPgTFdKB-e",
    "outputId": "97acc58c-7d6e-4bef-aedf-c2c556cb0769"
   },
   "outputs": [
    {
     "name": "stderr",
     "output_type": "stream",
     "text": [
      "huggingface/tokenizers: The current process just got forked, after parallelism has already been used. Disabling parallelism to avoid deadlocks...\n",
      "To disable this warning, you can either:\n",
      "\t- Avoid using `tokenizers` before the fork if possible\n",
      "\t- Explicitly set the environment variable TOKENIZERS_PARALLELISM=(true | false)\n"
     ]
    },
    {
     "name": "stdout",
     "output_type": "stream",
     "text": [
      "Defaulting to user installation because normal site-packages is not writeable\n",
      "Requirement already satisfied: sacrebleu in /home/jiazhen/.local/lib/python3.8/site-packages (2.4.2)\n",
      "Requirement already satisfied: portalocker in /home/jiazhen/.local/lib/python3.8/site-packages (from sacrebleu) (2.8.2)\n",
      "Requirement already satisfied: regex in /home/jiazhen/.local/lib/python3.8/site-packages (from sacrebleu) (2023.12.25)\n",
      "Requirement already satisfied: tabulate>=0.8.9 in /home/jiazhen/.local/lib/python3.8/site-packages (from sacrebleu) (0.9.0)\n",
      "Requirement already satisfied: numpy>=1.17 in /home/jiazhen/.local/lib/python3.8/site-packages (from sacrebleu) (1.24.4)\n",
      "Requirement already satisfied: colorama in /usr/lib/python3/dist-packages (from sacrebleu) (0.4.4)\n",
      "Requirement already satisfied: lxml in /home/jiazhen/.local/lib/python3.8/site-packages (from sacrebleu) (5.2.1)\n",
      "\u001b[33mDEPRECATION: distro-info 1.1build1 has a non-standard version number. pip 24.1 will enforce this behaviour change. A possible replacement is to upgrade to a newer version of distro-info or contact the author to suggest that they release a version with a conforming version number. Discussion can be found at https://github.com/pypa/pip/issues/12063\u001b[0m\u001b[33m\n",
      "\u001b[0m\u001b[33mDEPRECATION: python-debian 0.1.43ubuntu1 has a non-standard version number. pip 24.1 will enforce this behaviour change. A possible replacement is to upgrade to a newer version of python-debian or contact the author to suggest that they release a version with a conforming version number. Discussion can be found at https://github.com/pypa/pip/issues/12063\u001b[0m\u001b[33m\n",
      "\u001b[0m"
     ]
    }
   ],
   "source": [
    "!pip install sacrebleu"
   ]
  },
  {
   "cell_type": "code",
   "execution_count": 32,
   "metadata": {
    "executionInfo": {
     "elapsed": 262,
     "status": "ok",
     "timestamp": 1716395870576,
     "user": {
      "displayName": "夏梨",
      "userId": "03563146555660366686"
     },
     "user_tz": -480
    },
    "id": "d6UfjjgfJE9a"
   },
   "outputs": [],
   "source": [
    "from sacrebleu.metrics import BLEU\n",
    "from tqdm import tqdm\n",
    "import numpy as np\n",
    "\n",
    "def analysis_score(s_list,title):\n",
    "# 平均\n",
    "  mean = np.mean(s_list)\n",
    "# 方差\n",
    "  var = np.var(s_list,ddof=1)\n",
    "# 標準差\n",
    "  std = np.std(s_list,ddof=1)\n",
    "  print('==',title,'==')\n",
    "  print('Mean:',mean)\n",
    "  print('Var:',var)\n",
    "  print('Std:',std)\n",
    "  return mean\n",
    "    \n",
    "def sacrebleu_score(model, source_sentences,target_sentences,lang='ko',output_generated=False):\n",
    "  global my_tokenizer, tgt_tokenizer, max_length, device\n",
    "  model.eval()\n",
    "  bleu = BLEU()\n",
    "  bleu.trg_lang = lang\n",
    "  avg_score = {'avg':[],'1-gram':[],'2-gram':[],'3-gram':[],'4-gram':[]}\n",
    "\n",
    "  # 生成目標語句\n",
    "  generated_sentences = []\n",
    "  with tqdm(total = len(source_sentences)) as pbar:\n",
    "    for i in range(len(source_sentences)):\n",
    "        source_sentence = source_sentences[i]\n",
    "        target_sentence = target_sentences[i]\n",
    "\n",
    "        source_tokens = my_tokenizer(source_sentence, padding='max_length', truncation=True, return_tensors='pt', max_length=max_length).to(device)\n",
    "        target_tokens = tgt_tokenizer(target_sentence, padding='max_length', truncation=True, return_tensors='pt', max_length=max_length).to(device)\n",
    "        #print('source_tokens',source_tokens.input_ids)\n",
    "        \n",
    "        with torch.no_grad():\n",
    "            output = model(input_ids=source_tokens.input_ids,\n",
    "                           attention_mask=source_tokens.attention_mask,\n",
    "                           ko_ids=target_tokens.input_ids,\n",
    "                           ko_attention_mask=target_tokens.attention_mask)\n",
    "        generated_sentence = tgt_tokenizer.decode(output[0].argmax(dim=-1), skip_special_tokens=True)\n",
    "        gen_sent = ''\n",
    "        for sent in generated_sentence:\n",
    "            gen_sent += sent \n",
    "        generated_sentences.append(gen_sent)\n",
    "        bleu_score = bleu.corpus_score([gen_sent],[[target_sentence]])\n",
    "        #print([gen_sent],[[target_sentence]])\n",
    "        #print(bleu_score)\n",
    "        avg_score['avg'].append(bleu_score.score)     \n",
    "        avg_score['1-gram'].append(bleu_score.precisions[0])      \n",
    "        avg_score['2-gram'].append(bleu_score.precisions[1])\n",
    "        avg_score['3-gram'].append(bleu_score.precisions[2])\n",
    "        avg_score['4-gram'].append(bleu_score.precisions[3])\n",
    "        pbar.update(1)\n",
    "\n",
    "  avg_score['avg'] = analysis_score(avg_score['avg'],title='avg')\n",
    "  avg_score['1-gram'] = analysis_score(avg_score['1-gram'],title='1-gram')\n",
    "  avg_score['2-gram'] = analysis_score(avg_score['2-gram'],title='2-gram')\n",
    "  avg_score['3-gram'] = analysis_score(avg_score['3-gram'],title='3-gram')\n",
    "  avg_score['4-gram'] = analysis_score(avg_score['4-gram'],title='4-gram')\n",
    "  if(output_generated):\n",
    "        avg_score['output'] = generated_sentences\n",
    "    #print(avg_score['output'])\n",
    "  #print('gen:',generated_sentences,'tar:',[[sent] for sent in target_sentences],'sor',source_sentences)\n",
    "  #print('BLEU Score:',bleu.score)\n",
    "\n",
    "\n",
    "  return avg_score"
   ]
  },
  {
   "cell_type": "code",
   "execution_count": 33,
   "metadata": {
    "executionInfo": {
     "elapsed": 3,
     "status": "ok",
     "timestamp": 1716394221065,
     "user": {
      "displayName": "夏梨",
      "userId": "03563146555660366686"
     },
     "user_tz": -480
    },
    "id": "gEPWbiT4v9ru"
   },
   "outputs": [],
   "source": [
    "def sacrebleu_history(bleu_score_values, path=model_name, to_show=False):\n",
    "  before_avg_score = {}\n",
    "  bleu_score_values = bleu_score_values[0]\n",
    "  tag = ['avg','1-gram','2-gram','3-gram','4-gram']\n",
    "  for key in tag:\n",
    "    bleu_score_values[key] = [bleu_score_values[key]]\n",
    "\n",
    "  try:\n",
    "    df_loss = pd.read_csv('./MODELS/LOSS_HISTORY/sacreblue_plot_{}.csv'.format(path))\n",
    "    df_loss.to_dict(orient='dict')\n",
    "    try:\n",
    "        for key in tag:\n",
    "            before_avg_score[key] = list(df_loss[key].values())\n",
    "    except:\n",
    "        for key in tag:\n",
    "            before_avg_score[key] = list(df_loss[key])\n",
    "\n",
    "\n",
    "  except:\n",
    "        for key in tag:\n",
    "            before_avg_score[key] = []\n",
    "\n",
    "  if(len(before_avg_score[tag[0]])>0):\n",
    "        for key in tag:\n",
    "            bleu_score_values[key] = before_avg_score[key] + bleu_score_values[key]\n",
    "  print(bleu_score_values)\n",
    "  # 假設您有每個 epoch 的索引\n",
    "  try:\n",
    "      epochs = range(1, len(bleu_score_values[tag[0]]) + 1)\n",
    "  except:\n",
    "      epochs = range(1,2)\n",
    "  plt.clf()\n",
    "\n",
    "  # 繪製訓練損失和測試損失的折線圖\n",
    "  for key in tag:\n",
    "        try:\n",
    "            plt.plot(epochs, bleu_score_values[key], label=key)\n",
    "        except:\n",
    "            plt.plot(epochs, list(bleu_score_values[key]), label=key)\n",
    "  plt.title('BLEU SCORE')\n",
    "  plt.xlabel('Epochs')\n",
    "  plt.ylabel('Score')\n",
    "  plt.legend()\n",
    "\n",
    "  # 儲存折線圖\n",
    "  plt.savefig('./MODELS/LOSS_HISTORY/sacreblue_plot_{}.png'.format(path))\n",
    "  if to_show:\n",
    "    plt.show()\n",
    "\n",
    "  df_loss = pd.DataFrame(bleu_score_values)\n",
    "  df_loss.to_csv('./MODELS/LOSS_HISTORY/sacreblue_plot_{}.csv'.format(path),index=False)\n",
    "  df_loss.head()"
   ]
  },
  {
   "cell_type": "code",
   "execution_count": 34,
   "metadata": {},
   "outputs": [],
   "source": [
    "import random\n",
    "random.seed(time.time())\n",
    "def get_samples(src_list,tgt_list,keys=['zh','ko'],p=0.1):\n",
    "    samples = {}\n",
    "    num=len(src_list)\n",
    "    for k in keys:\n",
    "        samples[k] = []\n",
    "    randomlist = random.sample(range(0, len(src_list)), int(num*p))\n",
    "    #print(randomlist[50:55])\n",
    "    for i in randomlist:\n",
    "        samples['zh'].append(src_list[i])\n",
    "        samples['ko'].append(tgt_list[i])\n",
    "    return samples"
   ]
  },
  {
   "cell_type": "code",
   "execution_count": 44,
   "metadata": {},
   "outputs": [
    {
     "name": "stderr",
     "output_type": "stream",
     "text": [
      "100%|█████████████████████████████████████████████| 3/3 [00:00<00:00, 35.19it/s]"
     ]
    },
    {
     "name": "stdout",
     "output_type": "stream",
     "text": [
      "== avg ==\n",
      "Mean: 0.0\n",
      "Var: 0.0\n",
      "Std: 0.0\n",
      "== 1-gram ==\n",
      "Mean: 0.0\n",
      "Var: 0.0\n",
      "Std: 0.0\n",
      "== 2-gram ==\n",
      "Mean: 0.0\n",
      "Var: 0.0\n",
      "Std: 0.0\n",
      "== 3-gram ==\n",
      "Mean: 0.0\n",
      "Var: 0.0\n",
      "Std: 0.0\n",
      "== 4-gram ==\n",
      "Mean: 0.0\n",
      "Var: 0.0\n",
      "Std: 0.0\n",
      "Eval Time: 0m 0s\n"
     ]
    },
    {
     "name": "stderr",
     "output_type": "stream",
     "text": [
      "\n"
     ]
    }
   ],
   "source": [
    "start_time = time.time()\n",
    "\n",
    "samples = get_samples(TEST_ZSENT,TEST_KSENT,p=0.0001)\n",
    "test_score = sacrebleu_score(model, source_sentences=samples['zh'],target_sentences=samples['ko'])\n",
    "#test_score = sacrebleu_score(model, source_sentences=TEST_ZSENT,target_sentences=TEST_KSENT)\n",
    "end_time = time.time()\n",
    "epoch_mins, epoch_secs = epoch_time(start_time, end_time)\n",
    "print(f'Eval Time: {epoch_mins}m {epoch_secs}s')\n",
    "    \n",
    "#print('\\tBLEU Score:')\n",
    "#for k in test_score.keys():\n",
    "#    print('\\t\\t{}: {:.3f}'.format(k,test_score[k]))\n"
   ]
  },
  {
   "cell_type": "code",
   "execution_count": null,
   "metadata": {
    "colab": {
     "base_uri": "https://localhost:8080/"
    },
    "executionInfo": {
     "elapsed": 6156,
     "status": "ok",
     "timestamp": 1716280529343,
     "user": {
      "displayName": "Yeezi",
      "userId": "08687854767328262193"
     },
     "user_tz": -480
    },
    "id": "YlalwXt-JE9a",
    "outputId": "b678a64e-9818-4627-ab27-5bda2b4b387e"
   },
   "outputs": [
    {
     "name": "stdout",
     "output_type": "stream",
     "text": [
      "Collecting rouge\n",
      "  Downloading rouge-1.0.1-py3-none-any.whl (13 kB)\n",
      "Requirement already satisfied: six in /usr/local/lib/python3.10/dist-packages (from rouge) (1.16.0)\n",
      "Installing collected packages: rouge\n",
      "Successfully installed rouge-1.0.1\n"
     ]
    }
   ],
   "source": [
    "!pip install rouge"
   ]
  },
  {
   "cell_type": "code",
   "execution_count": null,
   "metadata": {
    "id": "TNhmOInxzxmc"
   },
   "outputs": [],
   "source": [
    "from rouge import Rouge\n",
    "\n",
    "def rouge_score():\n",
    "  global my_tokenizer, test_target_sentences, model, max_length, device\n",
    "  total_score = 0\n",
    "  model.eval()\n",
    "  # 生成目標語句\n",
    "  generated_sentences = []\n",
    "  rouge = Rouge()\n",
    "  with tqdm(total = len(test_source_sentences)) as pbar:\n",
    "    for i in range(len(test_source_sentences)):\n",
    "      source_tokens = my_tokenizer(test_source_sentences[i], padding=True, truncation=True, return_tensors='pt', max_length=max_length).to(device)\n",
    "      with torch.no_grad():\n",
    "        output = model(input_ids=source_tokens.input_ids, attention_mask=source_tokens.attention_mask)\n",
    "      generated_sentence = my_tokenizer.decode(output[0].argmax(dim=-1), skip_special_tokens=True)\n",
    "      try:\n",
    "        scores = rouge.get_scores(generated_sentences, test_target_sentences[i])\n",
    "      except:\n",
    "        scores = 0\n",
    "      print(generated_sentences)\n",
    "      print(test_target_sentences[i])\n",
    "      #print(generated_sentence)\n",
    "      #for metric, score in scores.items():\n",
    "      #  print(f\"{metric}: {score}\")\n",
    "      total_score += scores\n",
    "      pbar.update(1)\n",
    "\n",
    "  avg_score = float(total_score)/len(test_source_sentences)\n",
    "  print('Rouge Score:',avg_score)\n",
    "  return avg_score"
   ]
  },
  {
   "cell_type": "markdown",
   "metadata": {
    "id": "aIja_lfmJE9a"
   },
   "source": [
    "### Run"
   ]
  },
  {
   "cell_type": "code",
   "execution_count": 34,
   "metadata": {
    "colab": {
     "base_uri": "https://localhost:8080/"
    },
    "executionInfo": {
     "elapsed": 35040,
     "status": "ok",
     "timestamp": 1716394256103,
     "user": {
      "displayName": "夏梨",
      "userId": "03563146555660366686"
     },
     "user_tz": -480
    },
    "id": "p5zyKLudJE9b",
    "outputId": "6371a60d-6483-4159-9f79-da89bff69fcf"
   },
   "outputs": [
    {
     "name": "stdout",
     "output_type": "stream",
     "text": [
      "Collecting wandb\n",
      "  Downloading wandb-0.17.0-py3-none-manylinux_2_5_x86_64.manylinux1_x86_64.manylinux_2_17_x86_64.manylinux2014_x86_64.whl (6.7 MB)\n",
      "\u001b[2K     \u001b[90m━━━━━━━━━━━━━━━━━━━━━━━━━━━━━━━━━━━━━━━━\u001b[0m \u001b[32m6.7/6.7 MB\u001b[0m \u001b[31m21.1 MB/s\u001b[0m eta \u001b[36m0:00:00\u001b[0m\n",
      "\u001b[?25hRequirement already satisfied: click!=8.0.0,>=7.1 in /usr/local/lib/python3.10/dist-packages (from wandb) (8.1.7)\n",
      "Collecting docker-pycreds>=0.4.0 (from wandb)\n",
      "  Downloading docker_pycreds-0.4.0-py2.py3-none-any.whl (9.0 kB)\n",
      "Collecting gitpython!=3.1.29,>=1.0.0 (from wandb)\n",
      "  Downloading GitPython-3.1.43-py3-none-any.whl (207 kB)\n",
      "\u001b[2K     \u001b[90m━━━━━━━━━━━━━━━━━━━━━━━━━━━━━━━━━━━━━━━━\u001b[0m \u001b[32m207.3/207.3 kB\u001b[0m \u001b[31m24.5 MB/s\u001b[0m eta \u001b[36m0:00:00\u001b[0m\n",
      "\u001b[?25hRequirement already satisfied: platformdirs in /usr/local/lib/python3.10/dist-packages (from wandb) (4.2.2)\n",
      "Requirement already satisfied: protobuf!=4.21.0,<5,>=3.19.0 in /usr/local/lib/python3.10/dist-packages (from wandb) (3.20.3)\n",
      "Requirement already satisfied: psutil>=5.0.0 in /usr/local/lib/python3.10/dist-packages (from wandb) (5.9.5)\n",
      "Requirement already satisfied: pyyaml in /usr/local/lib/python3.10/dist-packages (from wandb) (6.0.1)\n",
      "Requirement already satisfied: requests<3,>=2.0.0 in /usr/local/lib/python3.10/dist-packages (from wandb) (2.31.0)\n",
      "Collecting sentry-sdk>=1.0.0 (from wandb)\n",
      "  Downloading sentry_sdk-2.2.1-py2.py3-none-any.whl (281 kB)\n",
      "\u001b[2K     \u001b[90m━━━━━━━━━━━━━━━━━━━━━━━━━━━━━━━━━━━━━━━━\u001b[0m \u001b[32m281.6/281.6 kB\u001b[0m \u001b[31m29.9 MB/s\u001b[0m eta \u001b[36m0:00:00\u001b[0m\n",
      "\u001b[?25hCollecting setproctitle (from wandb)\n",
      "  Downloading setproctitle-1.3.3-cp310-cp310-manylinux_2_5_x86_64.manylinux1_x86_64.manylinux_2_17_x86_64.manylinux2014_x86_64.whl (30 kB)\n",
      "Requirement already satisfied: setuptools in /usr/local/lib/python3.10/dist-packages (from wandb) (67.7.2)\n",
      "Requirement already satisfied: six>=1.4.0 in /usr/local/lib/python3.10/dist-packages (from docker-pycreds>=0.4.0->wandb) (1.16.0)\n",
      "Collecting gitdb<5,>=4.0.1 (from gitpython!=3.1.29,>=1.0.0->wandb)\n",
      "  Downloading gitdb-4.0.11-py3-none-any.whl (62 kB)\n",
      "\u001b[2K     \u001b[90m━━━━━━━━━━━━━━━━━━━━━━━━━━━━━━━━━━━━━━━━\u001b[0m \u001b[32m62.7/62.7 kB\u001b[0m \u001b[31m8.5 MB/s\u001b[0m eta \u001b[36m0:00:00\u001b[0m\n",
      "\u001b[?25hRequirement already satisfied: charset-normalizer<4,>=2 in /usr/local/lib/python3.10/dist-packages (from requests<3,>=2.0.0->wandb) (3.3.2)\n",
      "Requirement already satisfied: idna<4,>=2.5 in /usr/local/lib/python3.10/dist-packages (from requests<3,>=2.0.0->wandb) (3.7)\n",
      "Requirement already satisfied: urllib3<3,>=1.21.1 in /usr/local/lib/python3.10/dist-packages (from requests<3,>=2.0.0->wandb) (2.0.7)\n",
      "Requirement already satisfied: certifi>=2017.4.17 in /usr/local/lib/python3.10/dist-packages (from requests<3,>=2.0.0->wandb) (2024.2.2)\n",
      "Collecting smmap<6,>=3.0.1 (from gitdb<5,>=4.0.1->gitpython!=3.1.29,>=1.0.0->wandb)\n",
      "  Downloading smmap-5.0.1-py3-none-any.whl (24 kB)\n",
      "Installing collected packages: smmap, setproctitle, sentry-sdk, docker-pycreds, gitdb, gitpython, wandb\n",
      "Successfully installed docker-pycreds-0.4.0 gitdb-4.0.11 gitpython-3.1.43 sentry-sdk-2.2.1 setproctitle-1.3.3 smmap-5.0.1 wandb-0.17.0\n",
      "\u001b[34m\u001b[1mwandb\u001b[0m: Logging into wandb.ai. (Learn how to deploy a W&B server locally: https://wandb.me/wandb-server)\n",
      "\u001b[34m\u001b[1mwandb\u001b[0m: You can find your API key in your browser here: https://wandb.ai/authorize\n",
      "\u001b[34m\u001b[1mwandb\u001b[0m: Paste an API key from your profile and hit enter, or press ctrl+c to quit: \n",
      "\u001b[34m\u001b[1mwandb\u001b[0m: Appending key for api.wandb.ai to your netrc file: /root/.netrc\n"
     ]
    }
   ],
   "source": [
    "#!pip install --upgrade protobuf\n",
    "!pip install wandb\n",
    "!wandb login"
   ]
  },
  {
   "cell_type": "code",
   "execution_count": 45,
   "metadata": {
    "colab": {
     "base_uri": "https://localhost:8080/",
     "height": 142
    },
    "executionInfo": {
     "elapsed": 8448,
     "status": "ok",
     "timestamp": 1716394270865,
     "user": {
      "displayName": "夏梨",
      "userId": "03563146555660366686"
     },
     "user_tz": -480
    },
    "id": "DEvaaVA55kgT",
    "outputId": "1324f615-89f9-4d2b-a45f-d73c3df70587"
   },
   "outputs": [
    {
     "data": {
      "text/html": [
       "wandb version 0.17.5 is available!  To upgrade, please run:\n",
       " $ pip install wandb --upgrade"
      ],
      "text/plain": [
       "<IPython.core.display.HTML object>"
      ]
     },
     "metadata": {},
     "output_type": "display_data"
    },
    {
     "data": {
      "text/html": [
       "Tracking run with wandb version 0.16.3"
      ],
      "text/plain": [
       "<IPython.core.display.HTML object>"
      ]
     },
     "metadata": {},
     "output_type": "display_data"
    },
    {
     "data": {
      "text/html": [
       "Run data is saved locally in <code>/home/jiazhen/my-study/wandb/run-20240803_005518-my_ZK12_zh_no_hanja_no_zy_with_ko(again2)</code>"
      ],
      "text/plain": [
       "<IPython.core.display.HTML object>"
      ]
     },
     "metadata": {},
     "output_type": "display_data"
    },
    {
     "data": {
      "text/html": [
       "Resuming run <strong><a href='https://wandb.ai/jiazhen_li/Chinese-Korean-Translation/runs/my_ZK12_zh_no_hanja_no_zy_with_ko%28again2%29' target=\"_blank\">ZK12_zh_no_hanja_no_zy_with_ko(again2)</a></strong> to <a href='https://wandb.ai/jiazhen_li/Chinese-Korean-Translation' target=\"_blank\">Weights & Biases</a> (<a href='https://wandb.me/run' target=\"_blank\">docs</a>)<br/>"
      ],
      "text/plain": [
       "<IPython.core.display.HTML object>"
      ]
     },
     "metadata": {},
     "output_type": "display_data"
    },
    {
     "data": {
      "text/html": [
       " View project at <a href='https://wandb.ai/jiazhen_li/Chinese-Korean-Translation' target=\"_blank\">https://wandb.ai/jiazhen_li/Chinese-Korean-Translation</a>"
      ],
      "text/plain": [
       "<IPython.core.display.HTML object>"
      ]
     },
     "metadata": {},
     "output_type": "display_data"
    },
    {
     "data": {
      "text/html": [
       " View run at <a href='https://wandb.ai/jiazhen_li/Chinese-Korean-Translation/runs/my_ZK12_zh_no_hanja_no_zy_with_ko%28again2%29' target=\"_blank\">https://wandb.ai/jiazhen_li/Chinese-Korean-Translation/runs/my_ZK12_zh_no_hanja_no_zy_with_ko%28again2%29</a>"
      ],
      "text/plain": [
       "<IPython.core.display.HTML object>"
      ]
     },
     "metadata": {},
     "output_type": "display_data"
    },
    {
     "data": {
      "text/html": [
       "<button onClick=\"this.nextSibling.style.display='block';this.style.display='none';\">Display W&B run</button><iframe src='https://wandb.ai/jiazhen_li/Chinese-Korean-Translation/runs/my_ZK12_zh_no_hanja_no_zy_with_ko%28again2%29?jupyter=true' style='border:none;width:100%;height:420px;display:none;'></iframe>"
      ],
      "text/plain": [
       "<wandb.sdk.wandb_run.Run at 0x7f906ff27970>"
      ]
     },
     "execution_count": 45,
     "metadata": {},
     "output_type": "execute_result"
    }
   ],
   "source": [
    "import wandb\n",
    "import random\n",
    "\n",
    "# start a new wandb run to track this script\n",
    "wandb.init(\n",
    "    # set the wandb project where this run will be logged\n",
    "    project=\"Chinese-Korean-Translation\",\n",
    "    name=model_name,\n",
    "    id='my_{}'.format(model_name),\n",
    "    resume='allow',\n",
    "    # track hyperparameters and run metadata\n",
    "    config={\n",
    "    \"learning_rate\": 1e-4,\n",
    "    \"architecture\": \"BERT\",\n",
    "    \"dataset\": \"TEDTalks\",\n",
    "    \"epochs\": 5,\n",
    "    }\n",
    ")"
   ]
  },
  {
   "cell_type": "code",
   "execution_count": 46,
   "metadata": {
    "executionInfo": {
     "elapsed": 242,
     "status": "ok",
     "timestamp": 1716402679913,
     "user": {
      "displayName": "夏梨",
      "userId": "03563146555660366686"
     },
     "user_tz": -480
    },
    "id": "7WyAXDtaXSmx"
   },
   "outputs": [],
   "source": [
    "best_loss = float('inf')\n",
    "#best_loss = 4.291\n",
    "#best_score = 1.132\n",
    "best_score = 0"
   ]
  },
  {
   "cell_type": "code",
   "execution_count": 47,
   "metadata": {
    "executionInfo": {
     "elapsed": 271,
     "status": "ok",
     "timestamp": 1716402681527,
     "user": {
      "displayName": "夏梨",
      "userId": "03563146555660366686"
     },
     "user_tz": -480
    },
    "id": "YD4OaqdCXPa9"
   },
   "outputs": [],
   "source": [
    "train_losses = []\n",
    "test_losses = []"
   ]
  },
  {
   "cell_type": "code",
   "execution_count": 48,
   "metadata": {
    "colab": {
     "base_uri": "https://localhost:8080/"
    },
    "id": "UcHtMBVDXQVX",
    "outputId": "10817315-b947-46fd-e2c0-daa6fc0cb65b"
   },
   "outputs": [
    {
     "name": "stderr",
     "output_type": "stream",
     "text": [
      "100%|███████████████████████████████████████| 9164/9164 [31:20<00:00,  4.87it/s]\n"
     ]
    },
    {
     "name": "stdout",
     "output_type": "stream",
     "text": [
      "Epoch 01 | Train Time: 31m 27s\n"
     ]
    },
    {
     "name": "stderr",
     "output_type": "stream",
     "text": [
      "100%|███████████████████████████████████████| 2255/2255 [02:10<00:00, 17.28it/s]\n"
     ]
    },
    {
     "name": "stdout",
     "output_type": "stream",
     "text": [
      "Epoch 01 | Test Time: 2m 10s\n"
     ]
    },
    {
     "name": "stderr",
     "output_type": "stream",
     "text": [
      "100%|███████████████████████████████████████| 3607/3607 [01:52<00:00, 32.07it/s]\n"
     ]
    },
    {
     "name": "stdout",
     "output_type": "stream",
     "text": [
      "== avg ==\n",
      "Mean: 28.484505579000597\n",
      "Var: 488.5988711219519\n",
      "Std: 22.10427268927779\n",
      "== 1-gram ==\n",
      "Mean: 52.85007571642518\n",
      "Var: 370.0112164209046\n",
      "Std: 19.235675616440005\n",
      "== 2-gram ==\n",
      "Mean: 35.93692523227337\n",
      "Var: 527.1788716589183\n",
      "Std: 22.960376121895703\n",
      "== 3-gram ==\n",
      "Mean: 25.08423929126942\n",
      "Var: 515.3335458362284\n",
      "Std: 22.70095913912512\n",
      "== 4-gram ==\n",
      "Mean: 18.231788944621613\n",
      "Var: 483.72806745376016\n",
      "Std: 21.99381884652504\n",
      "Epoch 01 | Eval Time: 1m 52s\n",
      "== save model ==\n",
      "\tTrain Loss: 1.262 | Test Loss: 0.318\n",
      "\tBLEU Score:\n",
      "\t\tavg: 28.485\n",
      "\t\t1-gram: 52.850\n",
      "\t\t2-gram: 35.937\n",
      "\t\t3-gram: 25.084\n",
      "\t\t4-gram: 18.232\n",
      "{'avg': [29.17302255935818, 28.730217102532954, 29.31450392691794, 29.124213988165817, 28.484505579000597], '1-gram': [53.51338177850794, 53.31688121794643, 53.7518168039159, 53.50168978432167, 52.85007571642518], '2-gram': [36.79481403913279, 36.62614296330829, 37.15562332469939, 36.78598145906655, 35.93692523227337], '3-gram': [25.806397363131207, 25.43154271601072, 25.946202101456223, 25.66010953717372, 25.08423929126942], '4-gram': [18.98349825514151, 18.514656822650995, 19.007109425206814, 18.811906868913766, 18.231788944621613]}\n"
     ]
    },
    {
     "name": "stderr",
     "output_type": "stream",
     "text": [
      "100%|███████████████████████████████████████| 9164/9164 [26:48<00:00,  5.70it/s]\n"
     ]
    },
    {
     "name": "stdout",
     "output_type": "stream",
     "text": [
      "Epoch 02 | Train Time: 26m 59s\n"
     ]
    },
    {
     "name": "stderr",
     "output_type": "stream",
     "text": [
      "100%|███████████████████████████████████████| 2255/2255 [01:26<00:00, 26.11it/s]\n"
     ]
    },
    {
     "name": "stdout",
     "output_type": "stream",
     "text": [
      "Epoch 02 | Test Time: 1m 26s\n"
     ]
    },
    {
     "name": "stderr",
     "output_type": "stream",
     "text": [
      "100%|███████████████████████████████████████| 3607/3607 [01:19<00:00, 45.09it/s]\n"
     ]
    },
    {
     "name": "stdout",
     "output_type": "stream",
     "text": [
      "== avg ==\n",
      "Mean: 28.256823268754882\n",
      "Var: 468.39509699238357\n",
      "Std: 21.642437408766686\n",
      "== 1-gram ==\n",
      "Mean: 52.9512818109058\n",
      "Var: 358.53128820540337\n",
      "Std: 18.934922450472392\n",
      "== 2-gram ==\n",
      "Mean: 36.125292335153674\n",
      "Var: 512.8919516233711\n",
      "Std: 22.64711795402168\n",
      "== 3-gram ==\n",
      "Mean: 24.79926347392\n",
      "Var: 496.395081972982\n",
      "Std: 22.27992553786888\n",
      "== 4-gram ==\n",
      "Mean: 18.01529665608128\n",
      "Var: 465.03780385812286\n",
      "Std: 21.56473519100392\n",
      "Epoch 02 | Eval Time: 1m 20s\n",
      "== save model ==\n",
      "\tTrain Loss: 0.181 | Test Loss: 0.093\n",
      "\tBLEU Score:\n",
      "\t\tavg: 28.257\n",
      "\t\t1-gram: 52.951\n",
      "\t\t2-gram: 36.125\n",
      "\t\t3-gram: 24.799\n",
      "\t\t4-gram: 18.015\n",
      "{'avg': [29.17302255935818, 28.730217102532954, 29.31450392691794, 29.124213988165817, 28.4845055790006, 28.256823268754882], '1-gram': [53.51338177850794, 53.31688121794643, 53.7518168039159, 53.50168978432167, 52.85007571642518, 52.9512818109058], '2-gram': [36.79481403913279, 36.62614296330829, 37.15562332469939, 36.78598145906655, 35.93692523227337, 36.125292335153674], '3-gram': [25.806397363131207, 25.43154271601072, 25.946202101456223, 25.66010953717372, 25.08423929126942, 24.79926347392], '4-gram': [18.98349825514151, 18.514656822650995, 19.007109425206814, 18.811906868913766, 18.231788944621613, 18.01529665608128]}\n"
     ]
    },
    {
     "name": "stderr",
     "output_type": "stream",
     "text": [
      "100%|███████████████████████████████████████| 9164/9164 [20:30<00:00,  7.45it/s]\n"
     ]
    },
    {
     "name": "stdout",
     "output_type": "stream",
     "text": [
      "Epoch 03 | Train Time: 20m 42s\n"
     ]
    },
    {
     "name": "stderr",
     "output_type": "stream",
     "text": [
      "100%|███████████████████████████████████████| 2255/2255 [01:26<00:00, 26.11it/s]\n"
     ]
    },
    {
     "name": "stdout",
     "output_type": "stream",
     "text": [
      "Epoch 03 | Test Time: 1m 26s\n"
     ]
    },
    {
     "name": "stderr",
     "output_type": "stream",
     "text": [
      "100%|███████████████████████████████████████| 3607/3607 [01:20<00:00, 44.86it/s]\n"
     ]
    },
    {
     "name": "stdout",
     "output_type": "stream",
     "text": [
      "== avg ==\n",
      "Mean: 29.09360852758252\n",
      "Var: 505.94079785720953\n",
      "Std: 22.49312779177697\n",
      "== 1-gram ==\n",
      "Mean: 53.63420265839812\n",
      "Var: 379.4530200160247\n",
      "Std: 19.479553896740672\n",
      "== 2-gram ==\n",
      "Mean: 37.049019382730464\n",
      "Var: 545.8342320342177\n",
      "Std: 23.363095514811768\n",
      "== 3-gram ==\n",
      "Mean: 25.862153806696956\n",
      "Var: 546.4596245454354\n",
      "Std: 23.376475879512622\n",
      "== 4-gram ==\n",
      "Mean: 18.845063230695814\n",
      "Var: 500.7980021047058\n",
      "Std: 22.378516530474172\n",
      "Epoch 03 | Eval Time: 1m 20s\n",
      "== save model ==\n",
      "\tTrain Loss: 0.077 | Test Loss: 0.066\n",
      "\tBLEU Score:\n",
      "\t\tavg: 29.094\n",
      "\t\t1-gram: 53.634\n",
      "\t\t2-gram: 37.049\n",
      "\t\t3-gram: 25.862\n",
      "\t\t4-gram: 18.845\n",
      "{'avg': [29.17302255935818, 28.730217102532954, 29.31450392691794, 29.124213988165817, 28.4845055790006, 28.25682326875488, 29.09360852758252], '1-gram': [53.51338177850794, 53.31688121794643, 53.7518168039159, 53.50168978432167, 52.85007571642518, 52.9512818109058, 53.63420265839812], '2-gram': [36.79481403913279, 36.62614296330829, 37.15562332469939, 36.78598145906655, 35.93692523227337, 36.12529233515368, 37.049019382730464], '3-gram': [25.806397363131207, 25.43154271601072, 25.946202101456223, 25.66010953717372, 25.08423929126942, 24.79926347392, 25.862153806696956], '4-gram': [18.98349825514151, 18.514656822650995, 19.007109425206814, 18.811906868913766, 18.231788944621613, 18.01529665608128, 18.845063230695814]}\n"
     ]
    },
    {
     "name": "stderr",
     "output_type": "stream",
     "text": [
      "wandb: WARNING Ensure read and write access to run files dir: /home/jiazhen/my-study/wandb/run-20240803_005518-my_ZK12_zh_no_hanja_no_zy_with_ko(again2)/files, control this via the WANDB_DIR env var. See https://docs.wandb.ai/guides/track/environment-variables\n"
     ]
    },
    {
     "data": {
      "application/vnd.jupyter.widget-view+json": {
       "model_id": "",
       "version_major": 2,
       "version_minor": 0
      },
      "text/plain": [
       "VBox(children=(Label(value='0.000 MB of 0.000 MB uploaded\\r'), FloatProgress(value=1.0, max=1.0)))"
      ]
     },
     "metadata": {},
     "output_type": "display_data"
    },
    {
     "data": {
      "text/html": [
       "<style>\n",
       "    table.wandb td:nth-child(1) { padding: 0 10px; text-align: left ; width: auto;} td:nth-child(2) {text-align: left ; width: 100%}\n",
       "    .wandb-row { display: flex; flex-direction: row; flex-wrap: wrap; justify-content: flex-start; width: 100% }\n",
       "    .wandb-col { display: flex; flex-direction: column; flex-basis: 100%; flex: 1; padding: 10px; }\n",
       "    </style>\n",
       "<div class=\"wandb-row\"><div class=\"wandb-col\"><h3>Run history:</h3><br/><table class=\"wandb\"><tr><td>1-gram</td><td>▁▂█</td></tr><tr><td>2-gram</td><td>▁▂█</td></tr><tr><td>3-gram</td><td>▃▁█</td></tr><tr><td>4-gram</td><td>▃▁█</td></tr><tr><td>BLEU_score(avg)</td><td>▃▁█</td></tr><tr><td>Test_loss(epoch)</td><td>█▂▁</td></tr><tr><td>Train_loss(batch)</td><td>█▆▅▄▄▃▂▃▂▂▂▂▂▂▂▁▁▁▁▁▁▁▁▁▁▁▁▁▁▁▁▁▁▁▁▁▁▁▁▁</td></tr><tr><td>Train_loss(epoch)</td><td>█▂▁</td></tr></table><br/></div><div class=\"wandb-col\"><h3>Run summary:</h3><br/><table class=\"wandb\"><tr><td>1-gram</td><td>53.6342</td></tr><tr><td>2-gram</td><td>37.04902</td></tr><tr><td>3-gram</td><td>25.86215</td></tr><tr><td>4-gram</td><td>18.84506</td></tr><tr><td>BLEU_score(avg)</td><td>29.09361</td></tr><tr><td>Test_loss</td><td>0.08193</td></tr><tr><td>Test_loss(epoch)</td><td>0.06648</td></tr><tr><td>Train_loss</td><td>0.57494</td></tr><tr><td>Train_loss(batch)</td><td>0.06359</td></tr><tr><td>Train_loss(epoch)</td><td>0.07671</td></tr></table><br/></div></div>"
      ],
      "text/plain": [
       "<IPython.core.display.HTML object>"
      ]
     },
     "metadata": {},
     "output_type": "display_data"
    },
    {
     "data": {
      "text/html": [
       " View run <strong style=\"color:#cdcd00\">ZK12_zh_no_hanja_no_zy_with_ko(again2)</strong> at: <a href='https://wandb.ai/jiazhen_li/Chinese-Korean-Translation/runs/my_ZK12_zh_no_hanja_no_zy_with_ko%28again2%29' target=\"_blank\">https://wandb.ai/jiazhen_li/Chinese-Korean-Translation/runs/my_ZK12_zh_no_hanja_no_zy_with_ko%28again2%29</a><br/>Synced 4 W&B file(s), 0 media file(s), 0 artifact file(s) and 0 other file(s)"
      ],
      "text/plain": [
       "<IPython.core.display.HTML object>"
      ]
     },
     "metadata": {},
     "output_type": "display_data"
    },
    {
     "data": {
      "text/html": [
       "Find logs at: <code>./wandb/run-20240803_005518-my_ZK12_zh_no_hanja_no_zy_with_ko(again2)/logs</code>"
      ],
      "text/plain": [
       "<IPython.core.display.HTML object>"
      ]
     },
     "metadata": {},
     "output_type": "display_data"
    },
    {
     "data": {
      "image/png": "[encoded data removed]",
      "text/plain": [
       "<Figure size 640x480 with 1 Axes>"
      ]
     },
     "metadata": {},
     "output_type": "display_data"
    }
   ],
   "source": [
    "# 訓練模型\n",
    "for epoch in range(num_epochs):\n",
    "    train_losses = []\n",
    "    test_losses = []\n",
    "    bleu_scores = []\n",
    "\n",
    "    start_time = time.time()\n",
    "    train_loss = train(path='./MODELS/translation_model({}).pth'.format(model_name))\n",
    "    end_time = time.time()\n",
    "    epoch_mins, epoch_secs = epoch_time(start_time, end_time)\n",
    "    #break\n",
    "    print(f'Epoch {epoch+1:02} | Train Time: {epoch_mins}m {epoch_secs}s')\n",
    "\n",
    "    start_time = time.time()\n",
    "    test_loss = evaluate()\n",
    "\n",
    "    end_time = time.time()\n",
    "    epoch_mins, epoch_secs = epoch_time(start_time, end_time)\n",
    "    print(f'Epoch {epoch+1:02} | Test Time: {epoch_mins}m {epoch_secs}s')\n",
    "\n",
    "    start_time = time.time()\n",
    "    samples = get_samples(TEST_ZSENT,TEST_KSENT,p=0.1)\n",
    "    test_score = sacrebleu_score(model, source_sentences=samples['zh'],target_sentences=samples['ko'])\n",
    "    #test_score = sacrebleu_score(model, source_sentences=TEST_ZSENT,target_sentences=TEST_KSENT)\n",
    "    end_time = time.time()\n",
    "    epoch_mins, epoch_secs = epoch_time(start_time, end_time)\n",
    "    print(f'Epoch {epoch+1:02} | Eval Time: {epoch_mins}m {epoch_secs}s')\n",
    "\n",
    "    wandb.log({\"Train_loss(epoch)\": train_loss, \"Test_loss(epoch)\": test_loss})\n",
    "    wandb.log({'BLEU_score(avg)':test_score['avg'],'1-gram':test_score['1-gram'],'2-gram':test_score['2-gram'],'3-gram':test_score['3-gram'],'4-gram':test_score['4-gram']})\n",
    "\n",
    "    # 儲存訓練好的模型\n",
    "    if(test_score['avg'] > best_score or test_loss < best_loss):\n",
    "       if(test_loss < best_loss):\n",
    "          best_loss = test_loss\n",
    "       if(test_score['avg'] > best_score):\n",
    "          best_score = test_score['avg']\n",
    "         \n",
    "       torch.save(model.state_dict(), './MODELS/best_translation_model({}).pth'.format(model_name))\n",
    "       print('== save model ==')\n",
    "    print('\\tTrain Loss: {:.3f} | Test Loss: {:.3f}'.format(train_loss, test_loss))\n",
    "    print('\\tBLEU Score:')\n",
    "    for k in test_score.keys():\n",
    "        print('\\t\\t{}: {:.3f}'.format(k,test_score[k]))\n",
    "\n",
    "\n",
    "    if(best_score - test_score['avg'] > 3 or test_score['avg'] < 0.01):\n",
    "      try:\n",
    "        model.load_state_dict(torch.load('./MODELS/best_translation_model({}).pth'.format(model_name)))\n",
    "        print('-'*5,'load_best_model','-'*5)\n",
    "      except:\n",
    "        model = TranslationModel(my_model).to(device)\n",
    "        print('-'*5,'initialize','-'*5)\n",
    "        #'nothing'\n",
    "\n",
    "    train_losses.append(train_loss)\n",
    "    test_losses.append(test_loss)\n",
    "    bleu_scores.append(test_score)\n",
    "\n",
    "    loss_history(train_losses, test_losses, path=model_name, to_show=False)\n",
    "    sacrebleu_history(bleu_scores, path=model_name, to_show=False)\n",
    "wandb.finish()"
   ]
  },
  {
   "cell_type": "code",
   "execution_count": null,
   "metadata": {
    "id": "ceNwfHY0W3rq"
   },
   "outputs": [],
   "source": [
    "bleu_score(test_source_sentences,model,tokenizer,max_length,device)"
   ]
  },
  {
   "cell_type": "code",
   "execution_count": null,
   "metadata": {
    "id": "d0aItTP3JE9b"
   },
   "outputs": [],
   "source": []
  },
  {
   "cell_type": "code",
   "execution_count": null,
   "metadata": {
    "id": "je6JQhwGJE9c"
   },
   "outputs": [],
   "source": [
    "from sacrebleu.metrics import BLEU\n",
    "\n",
    "def sacrebleu_score(source_sentences,target_sentences,lang='ko'):\n",
    "  global zh_tokenizer, ko_tokenizer, model, max_length, device\n",
    "  model.eval()\n",
    "  bleu = BLEU()\n",
    "  bleu.trg_lang = lang\n",
    "  avg_score = {'avg':0,'1-gram':0,'2-gram':0,'3-gram':0,'4-gram':0}\n",
    "\n",
    "  # 生成目標語句\n",
    "  generated_sentences = []\n",
    "  with tqdm(total = len(source_sentences)) as pbar:\n",
    "    for i in range(len(source_sentences)):\n",
    "        source_sentence = source_sentences[i]\n",
    "        target_sentence = target_sentences[i]\n",
    "        source_tokens = zh_tokenizer(source_sentence, padding=True, truncation=True, return_tensors='pt', max_length=max_length).to(device)\n",
    "        with torch.no_grad():\n",
    "            output = model(input_ids=source_tokens.input_ids, attention_mask=source_tokens.attention_mask)\n",
    "        generated_sentence = ko_tokenizer.decode(output[0].argmax(dim=-1), skip_special_tokens=True)\n",
    "        gen_sent = ''\n",
    "        for sent in generated_sentence:\n",
    "            gen_sent += sent\n",
    "        bleu_score = bleu.corpus_score([gen_sent],[[target_sentence]])\n",
    "        #print([gen_sent],[[target_sentence]])\n",
    "        #print(bleu_score)\n",
    "        avg_score['avg'] += bleu_score.score\n",
    "        avg_score['1-gram'] += bleu_score.precisions[0]\n",
    "        avg_score['2-gram'] += bleu_score.precisions[1]\n",
    "        avg_score['3-gram'] += bleu_score.precisions[2]\n",
    "        avg_score['4-gram'] += bleu_score.precisions[3]\n",
    "        pbar.update(1)\n",
    "  avg_score['avg'] /= len(source_sentences)\n",
    "  avg_score['1-gram'] /= len(source_sentences)\n",
    "  avg_score['2-gram'] /= len(source_sentences)\n",
    "  avg_score['3-gram'] /= len(source_sentences)\n",
    "  avg_score['4-gram'] /= len(source_sentences)\n",
    "\n",
    "  #print('gen:',generated_sentences,'tar:',[[sent] for sent in target_sentences],'sor',source_sentences)\n",
    "  #print('BLEU Score:',bleu.score)\n",
    "\n",
    "  return avg_score"
   ]
  },
  {
   "cell_type": "code",
   "execution_count": null,
   "metadata": {
    "id": "zuOJRIdhJE9c"
   },
   "outputs": [],
   "source": [
    "train_score = sacrebleu_score(TRAIN_ZSENT,TRAIN_KSENT)\n",
    "test_score = sacrebleu_score(TEST_ZSENT,TEST_KSENT)\n",
    "print('Train:',train_score)\n",
    "print('Test:',test_score)"
   ]
  },
  {
   "cell_type": "code",
   "execution_count": null,
   "metadata": {},
   "outputs": [],
   "source": []
  },
  {
   "cell_type": "code",
   "execution_count": 1,
   "metadata": {},
   "outputs": [],
   "source": [
    "import numpy as np\n",
    "def analysis_score(s_list):\n",
    "# 平均\n",
    "  mean = np.mean(s_list)\n",
    "# 方差\n",
    "  var = np.var(s_list,ddof=1)\n",
    "# 標準差\n",
    "  std = np.std(s_list,ddof=1)\n",
    "  print('Mean:',mean)\n",
    "  print('Var:',var)\n",
    "  print('Std:',std)\n",
    "  return mean"
   ]
  },
  {
   "cell_type": "code",
   "execution_count": 47,
   "metadata": {},
   "outputs": [
    {
     "name": "stderr",
     "output_type": "stream",
     "text": [
      "100%|██████████████████████████████████████| 7214/7214 [01:10<00:00, 102.66it/s]\n"
     ]
    },
    {
     "name": "stdout",
     "output_type": "stream",
     "text": [
      "== avg ==\n",
      "Mean: 29.77530133105024\n",
      "Var: 535.3966525355346\n",
      "Std: 23.138639816020618\n",
      "== 1-gram ==\n",
      "Mean: 54.041598977267334\n",
      "Var: 386.54041859368175\n",
      "Std: 19.66063118502765\n",
      "== 2-gram ==\n",
      "Mean: 37.471211883728394\n",
      "Var: 565.2113240197698\n",
      "Std: 23.77417346659542\n",
      "== 3-gram ==\n",
      "Mean: 26.444309247589324\n",
      "Var: 572.6286209619234\n",
      "Std: 23.92965985888482\n",
      "== 4-gram ==\n",
      "Mean: 19.636686123851078\n",
      "Var: 546.3220154616309\n",
      "Std: 23.373532370218047\n",
      "Eval Time: 1m 10s\n"
     ]
    },
    {
     "name": "stderr",
     "output_type": "stream",
     "text": [
      "100%|██████████████████████████████████████| 7214/7214 [01:11<00:00, 100.64it/s]\n"
     ]
    },
    {
     "name": "stdout",
     "output_type": "stream",
     "text": [
      "== avg ==\n",
      "Mean: 29.83928881249573\n",
      "Var: 517.0941488429883\n",
      "Std: 22.73970423824787\n",
      "== 1-gram ==\n",
      "Mean: 53.84454668769667\n",
      "Var: 376.605520549454\n",
      "Std: 19.40632681754726\n",
      "== 2-gram ==\n",
      "Mean: 37.3883958046469\n",
      "Var: 542.0935183415158\n",
      "Std: 23.282901845378206\n",
      "== 3-gram ==\n",
      "Mean: 26.46440297817263\n",
      "Var: 551.8088489312636\n",
      "Std: 23.49061193181786\n",
      "== 4-gram ==\n",
      "Mean: 19.533345333496055\n",
      "Var: 524.4225426249363\n",
      "Std: 22.90027385480218\n",
      "Eval Time: 1m 11s\n"
     ]
    },
    {
     "name": "stderr",
     "output_type": "stream",
     "text": [
      "100%|███████████████████████████████████████| 7214/7214 [01:22<00:00, 87.52it/s]\n"
     ]
    },
    {
     "name": "stdout",
     "output_type": "stream",
     "text": [
      "== avg ==\n",
      "Mean: 29.28164553016093\n",
      "Var: 512.7130795684444\n",
      "Std: 22.643168496666814\n",
      "== 1-gram ==\n",
      "Mean: 53.60397013014099\n",
      "Var: 373.515463444175\n",
      "Std: 19.326548151291142\n",
      "== 2-gram ==\n",
      "Mean: 37.03275199277796\n",
      "Var: 546.5588167526302\n",
      "Std: 23.37859740772808\n",
      "== 3-gram ==\n",
      "Mean: 25.9815965678181\n",
      "Var: 550.6589337655829\n",
      "Std: 23.466123108975264\n",
      "== 4-gram ==\n",
      "Mean: 19.06189078967169\n",
      "Var: 521.3259429760986\n",
      "Std: 22.83256321519988\n",
      "Eval Time: 1m 22s\n"
     ]
    },
    {
     "name": "stderr",
     "output_type": "stream",
     "text": [
      "100%|███████████████████████████████████████| 7214/7214 [02:32<00:00, 47.29it/s]\n"
     ]
    },
    {
     "name": "stdout",
     "output_type": "stream",
     "text": [
      "== avg ==\n",
      "Mean: 29.320182915652335\n",
      "Var: 516.0295825750346\n",
      "Std: 22.716284523993675\n",
      "== 1-gram ==\n",
      "Mean: 53.46333975303428\n",
      "Var: 373.79061063915736\n",
      "Std: 19.33366521483077\n",
      "== 2-gram ==\n",
      "Mean: 36.87088445434444\n",
      "Var: 542.8212833292496\n",
      "Std: 23.298525346666246\n",
      "== 3-gram ==\n",
      "Mean: 25.905724771728977\n",
      "Var: 547.5647130176567\n",
      "Std: 23.400100705288786\n",
      "== 4-gram ==\n",
      "Mean: 19.140548923358764\n",
      "Var: 524.9867274391132\n",
      "Std: 22.912588841925157\n",
      "Eval Time: 2m 32s\n"
     ]
    },
    {
     "name": "stderr",
     "output_type": "stream",
     "text": [
      "100%|███████████████████████████████████████| 7214/7214 [02:31<00:00, 47.54it/s]\n"
     ]
    },
    {
     "name": "stdout",
     "output_type": "stream",
     "text": [
      "== avg ==\n",
      "Mean: 30.127698486003965\n",
      "Var: 531.0876206566327\n",
      "Std: 23.045338371493543\n",
      "== 1-gram ==\n",
      "Mean: 54.11649115885113\n",
      "Var: 377.22839485154856\n",
      "Std: 19.42236841509162\n",
      "== 2-gram ==\n",
      "Mean: 37.69566227690231\n",
      "Var: 552.1612012905\n",
      "Std: 23.498110589800618\n",
      "== 3-gram ==\n",
      "Mean: 26.665429996452296\n",
      "Var: 563.2865158593256\n",
      "Std: 23.733657869349294\n",
      "== 4-gram ==\n",
      "Mean: 19.85719597458552\n",
      "Var: 545.1857461188014\n",
      "Std: 23.34921296572545\n",
      "Eval Time: 2m 31s\n"
     ]
    },
    {
     "name": "stderr",
     "output_type": "stream",
     "text": [
      "100%|███████████████████████████████████████| 7214/7214 [02:32<00:00, 47.30it/s]\n"
     ]
    },
    {
     "name": "stdout",
     "output_type": "stream",
     "text": [
      "== avg ==\n",
      "Mean: 29.212284806571446\n",
      "Var: 521.8346742124963\n",
      "Std: 22.843700974502717\n",
      "== 1-gram ==\n",
      "Mean: 53.549796598185736\n",
      "Var: 382.130202155312\n",
      "Std: 19.548150862813394\n",
      "== 2-gram ==\n",
      "Mean: 36.966077798057164\n",
      "Var: 557.215164362107\n",
      "Std: 23.60540540558681\n",
      "== 3-gram ==\n",
      "Mean: 25.84115242350593\n",
      "Var: 556.9794757070929\n",
      "Std: 23.600412617305928\n",
      "== 4-gram ==\n",
      "Mean: 19.08412525398096\n",
      "Var: 530.0358590770635\n",
      "Std: 23.0225076626562\n",
      "Eval Time: 2m 32s\n"
     ]
    },
    {
     "name": "stderr",
     "output_type": "stream",
     "text": [
      "100%|███████████████████████████████████████| 7214/7214 [02:31<00:00, 47.76it/s]\n"
     ]
    },
    {
     "name": "stdout",
     "output_type": "stream",
     "text": [
      "== avg ==\n",
      "Mean: 29.16624514103081\n",
      "Var: 501.8539157675126\n",
      "Std: 22.40209623601132\n",
      "== 1-gram ==\n",
      "Mean: 53.32976884537299\n",
      "Var: 371.82174139230546\n",
      "Std: 19.282679829118813\n",
      "== 2-gram ==\n",
      "Mean: 36.71563408629473\n",
      "Var: 532.6005271788728\n",
      "Std: 23.078139595272248\n",
      "== 3-gram ==\n",
      "Mean: 25.803152468509133\n",
      "Var: 536.5375412011565\n",
      "Std: 23.16328001819165\n",
      "== 4-gram ==\n",
      "Mean: 18.88916788910314\n",
      "Var: 503.69309477822134\n",
      "Std: 22.443107957193035\n",
      "Eval Time: 2m 31s\n"
     ]
    },
    {
     "name": "stderr",
     "output_type": "stream",
     "text": [
      "100%|███████████████████████████████████████| 7214/7214 [02:31<00:00, 47.70it/s]\n"
     ]
    },
    {
     "name": "stdout",
     "output_type": "stream",
     "text": [
      "== avg ==\n",
      "Mean: 29.035213393725215\n",
      "Var: 504.0392876456866\n",
      "Std: 22.450819309007112\n",
      "== 1-gram ==\n",
      "Mean: 53.35860741721476\n",
      "Var: 370.64105714344726\n",
      "Std: 19.252040337155105\n",
      "== 2-gram ==\n",
      "Mean: 36.71646065671853\n",
      "Var: 536.8428390832024\n",
      "Std: 23.169869207295978\n",
      "== 3-gram ==\n",
      "Mean: 25.71561580559841\n",
      "Var: 539.1281463150813\n",
      "Std: 23.219133194740092\n",
      "== 4-gram ==\n",
      "Mean: 18.78856025301382\n",
      "Var: 506.77519139595796\n",
      "Std: 22.51166789458209\n",
      "Eval Time: 2m 31s\n"
     ]
    },
    {
     "name": "stderr",
     "output_type": "stream",
     "text": [
      "100%|███████████████████████████████████████| 7214/7214 [02:31<00:00, 47.77it/s]\n"
     ]
    },
    {
     "name": "stdout",
     "output_type": "stream",
     "text": [
      "== avg ==\n",
      "Mean: 29.087617845070643\n",
      "Var: 505.0971317690311\n",
      "Std: 22.474366103831073\n",
      "== 1-gram ==\n",
      "Mean: 53.19986590239549\n",
      "Var: 372.0345209144707\n",
      "Std: 19.288196414244403\n",
      "== 2-gram ==\n",
      "Mean: 36.56338195578778\n",
      "Var: 532.5951783106137\n",
      "Std: 23.078023708944702\n",
      "== 3-gram ==\n",
      "Mean: 25.571077477136306\n",
      "Var: 531.6551724329922\n",
      "Std: 23.057648892135386\n",
      "== 4-gram ==\n",
      "Mean: 18.82520729517561\n",
      "Var: 506.85065420363543\n",
      "Std: 22.513343914301924\n",
      "Eval Time: 2m 31s\n"
     ]
    },
    {
     "name": "stderr",
     "output_type": "stream",
     "text": [
      "100%|███████████████████████████████████████| 7214/7214 [02:32<00:00, 47.21it/s]"
     ]
    },
    {
     "name": "stdout",
     "output_type": "stream",
     "text": [
      "== avg ==\n",
      "Mean: 29.59687179657031\n",
      "Var: 524.083308542401\n",
      "Std: 22.89286588748558\n",
      "== 1-gram ==\n",
      "Mean: 53.65664731401514\n",
      "Var: 377.6538743120824\n",
      "Std: 19.4333186643991\n",
      "== 2-gram ==\n",
      "Mean: 37.11441194080161\n",
      "Var: 549.3070549028885\n",
      "Std: 23.437300503745913\n",
      "== 3-gram ==\n",
      "Mean: 26.14716445431548\n",
      "Var: 556.000502988093\n",
      "Std: 23.579662910824087\n",
      "== 4-gram ==\n",
      "Mean: 19.38794194004687\n",
      "Var: 533.4102285231021\n",
      "Std: 23.095675537275415\n",
      "Eval Time: 2m 32s\n"
     ]
    },
    {
     "name": "stderr",
     "output_type": "stream",
     "text": [
      "\n"
     ]
    }
   ],
   "source": [
    "# ted tlaks\n",
    "# bleu score for 10 times\n",
    "scores = []\n",
    "for i in range(10):\n",
    "  start_time = time.time()\n",
    "\n",
    "  samples = get_samples(TEST_ZSENT,TEST_KSENT,p=0.2)\n",
    "  test_score = sacrebleu_score(model, source_sentences=samples['zh'],target_sentences=samples['ko'])\n",
    "  #test_score = sacrebleu_score(model, source_sentences=TEST_ZSENT,target_sentences=TEST_KSENT)\n",
    "  end_time = time.time()\n",
    "  epoch_mins, epoch_secs = epoch_time(start_time, end_time)\n",
    "  print(f'Eval Time: {epoch_mins}m {epoch_secs}s')\n",
    "    \n",
    "  #print('\\tBLEU Score:')\n",
    "  #for k in test_score.keys():\n",
    "  #  print('\\t\\t{}: {:.3f}'.format(k,test_score[k]))\n",
    "\n",
    "  scores.append(test_score['avg'])\n"
   ]
  },
  {
   "cell_type": "code",
   "execution_count": 48,
   "metadata": {},
   "outputs": [
    {
     "name": "stdout",
     "output_type": "stream",
     "text": [
      "ted talks:\n",
      "==  ==\n",
      "Mean: 29.444235005833168\n",
      "Var: 0.135941193059415\n",
      "Std: 0.3687020383174129\n"
     ]
    },
    {
     "data": {
      "text/plain": [
       "29.444235005833168"
      ]
     },
     "execution_count": 48,
     "metadata": {},
     "output_type": "execute_result"
    }
   ],
   "source": [
    "print('ted talks:')\n",
    "analysis_score(scores,'') # ted talks"
   ]
  },
  {
   "cell_type": "code",
   "execution_count": null,
   "metadata": {},
   "outputs": [],
   "source": []
  },
  {
   "cell_type": "code",
   "execution_count": 35,
   "metadata": {},
   "outputs": [
    {
     "name": "stderr",
     "output_type": "stream",
     "text": [
      "100%|█████████████████████████████████████| 15568/15568 [02:43<00:00, 95.11it/s]\n"
     ]
    },
    {
     "name": "stdout",
     "output_type": "stream",
     "text": [
      "== avg ==\n",
      "Mean: 26.69228094281312\n",
      "Var: 466.07491109212907\n",
      "Std: 21.588768169863908\n",
      "== 1-gram ==\n",
      "Mean: 51.0833826557802\n",
      "Var: 388.2752732798235\n",
      "Std: 19.70470180641726\n",
      "== 2-gram ==\n",
      "Mean: 34.743932677884516\n",
      "Var: 531.9019387550036\n",
      "Std: 23.062999344296127\n",
      "== 3-gram ==\n",
      "Mean: 24.368481571193477\n",
      "Var: 530.6404580679728\n",
      "Std: 23.03563452714018\n",
      "== 4-gram ==\n",
      "Mean: 17.15621922410215\n",
      "Var: 455.51570856464656\n",
      "Std: 21.342813979525907\n",
      "Eval Time: 2m 43s\n"
     ]
    },
    {
     "name": "stderr",
     "output_type": "stream",
     "text": [
      "100%|█████████████████████████████████████| 15568/15568 [02:48<00:00, 92.41it/s]\n"
     ]
    },
    {
     "name": "stdout",
     "output_type": "stream",
     "text": [
      "== avg ==\n",
      "Mean: 26.710693308958053\n",
      "Var: 467.03504418105166\n",
      "Std: 21.61099359541462\n",
      "== 1-gram ==\n",
      "Mean: 51.07255711104157\n",
      "Var: 388.5237030250412\n",
      "Std: 19.71100461734615\n",
      "== 2-gram ==\n",
      "Mean: 34.75320211105256\n",
      "Var: 532.4773199103016\n",
      "Std: 23.075470090776083\n",
      "== 3-gram ==\n",
      "Mean: 24.474348907004796\n",
      "Var: 538.4243532411396\n",
      "Std: 23.2039727900448\n",
      "== 4-gram ==\n",
      "Mean: 17.209674803393707\n",
      "Var: 460.1792755345144\n",
      "Std: 21.451789564847832\n",
      "Eval Time: 2m 48s\n"
     ]
    },
    {
     "name": "stderr",
     "output_type": "stream",
     "text": [
      "100%|█████████████████████████████████████| 15568/15568 [02:49<00:00, 92.10it/s]\n"
     ]
    },
    {
     "name": "stdout",
     "output_type": "stream",
     "text": [
      "== avg ==\n",
      "Mean: 26.527514114166898\n",
      "Var: 459.93946228395754\n",
      "Std: 21.446199250309075\n",
      "== 1-gram ==\n",
      "Mean: 50.789038228283545\n",
      "Var: 385.2782962715851\n",
      "Std: 19.62850723492709\n",
      "== 2-gram ==\n",
      "Mean: 34.3548191957319\n",
      "Var: 521.6246483811311\n",
      "Std: 22.83910349337581\n",
      "== 3-gram ==\n",
      "Mean: 24.104304652022872\n",
      "Var: 518.9936160275342\n",
      "Std: 22.781431386713482\n",
      "== 4-gram ==\n",
      "Mean: 17.0262199433217\n",
      "Var: 446.3094228097918\n",
      "Std: 21.12603660911795\n",
      "Eval Time: 2m 49s\n"
     ]
    },
    {
     "name": "stderr",
     "output_type": "stream",
     "text": [
      "100%|█████████████████████████████████████| 15568/15568 [02:49<00:00, 91.94it/s]\n"
     ]
    },
    {
     "name": "stdout",
     "output_type": "stream",
     "text": [
      "== avg ==\n",
      "Mean: 26.541821477909025\n",
      "Var: 473.26863449519095\n",
      "Std: 21.754738207921303\n",
      "== 1-gram ==\n",
      "Mean: 51.00772956905118\n",
      "Var: 394.3522578275102\n",
      "Std: 19.858304505357708\n",
      "== 2-gram ==\n",
      "Mean: 34.618860265898746\n",
      "Var: 541.2118723368352\n",
      "Std: 23.263960805005567\n",
      "== 3-gram ==\n",
      "Mean: 24.25707965669708\n",
      "Var: 541.4476434412061\n",
      "Std: 23.269027556844872\n",
      "== 4-gram ==\n",
      "Mean: 17.064699175117966\n",
      "Var: 464.7958444149956\n",
      "Std: 21.55912438887525\n",
      "Eval Time: 2m 49s\n"
     ]
    },
    {
     "name": "stderr",
     "output_type": "stream",
     "text": [
      "100%|█████████████████████████████████████| 15568/15568 [02:49<00:00, 91.86it/s]\n"
     ]
    },
    {
     "name": "stdout",
     "output_type": "stream",
     "text": [
      "== avg ==\n",
      "Mean: 26.636055986340885\n",
      "Var: 469.462127335499\n",
      "Std: 21.66707472954065\n",
      "== 1-gram ==\n",
      "Mean: 50.98253791222707\n",
      "Var: 393.2996395369663\n",
      "Std: 19.831783569234673\n",
      "== 2-gram ==\n",
      "Mean: 34.57639942431122\n",
      "Var: 537.5520093810494\n",
      "Std: 23.185167874765312\n",
      "== 3-gram ==\n",
      "Mean: 24.31788783276153\n",
      "Var: 536.575366693652\n",
      "Std: 23.164096500698058\n",
      "== 4-gram ==\n",
      "Mean: 17.14351463292931\n",
      "Var: 455.5747153173695\n",
      "Std: 21.344196291202195\n",
      "Eval Time: 2m 49s\n"
     ]
    },
    {
     "name": "stderr",
     "output_type": "stream",
     "text": [
      "100%|█████████████████████████████████████| 15568/15568 [02:49<00:00, 92.03it/s]\n"
     ]
    },
    {
     "name": "stdout",
     "output_type": "stream",
     "text": [
      "== avg ==\n",
      "Mean: 26.79020915656509\n",
      "Var: 471.38011681385257\n",
      "Std: 21.711290077143104\n",
      "== 1-gram ==\n",
      "Mean: 51.05211900983531\n",
      "Var: 389.10942868788516\n",
      "Std: 19.725856855606683\n",
      "== 2-gram ==\n",
      "Mean: 34.72813871974197\n",
      "Var: 532.4720915578042\n",
      "Std: 23.075356802394285\n",
      "== 3-gram ==\n",
      "Mean: 24.395496980897004\n",
      "Var: 534.684488556885\n",
      "Std: 23.123245631980062\n",
      "== 4-gram ==\n",
      "Mean: 17.241497297167754\n",
      "Var: 461.8227876391305\n",
      "Std: 21.490062532229416\n",
      "Eval Time: 2m 49s\n"
     ]
    },
    {
     "name": "stderr",
     "output_type": "stream",
     "text": [
      "100%|█████████████████████████████████████| 15568/15568 [02:48<00:00, 92.17it/s]\n"
     ]
    },
    {
     "name": "stdout",
     "output_type": "stream",
     "text": [
      "== avg ==\n",
      "Mean: 26.59276765017478\n",
      "Var: 471.2505998404976\n",
      "Std: 21.708307162017437\n",
      "== 1-gram ==\n",
      "Mean: 50.96559587066453\n",
      "Var: 396.5133963906203\n",
      "Std: 19.91264413358056\n",
      "== 2-gram ==\n",
      "Mean: 34.6410674658206\n",
      "Var: 541.3812248710999\n",
      "Std: 23.267600324724075\n",
      "== 3-gram ==\n",
      "Mean: 24.26038267962774\n",
      "Var: 536.9646232671358\n",
      "Std: 23.172497130588578\n",
      "== 4-gram ==\n",
      "Mean: 17.102892202717868\n",
      "Var: 462.00268138343455\n",
      "Std: 21.49424763473787\n",
      "Eval Time: 2m 48s\n"
     ]
    },
    {
     "name": "stderr",
     "output_type": "stream",
     "text": [
      "100%|█████████████████████████████████████| 15568/15568 [02:49<00:00, 92.03it/s]\n"
     ]
    },
    {
     "name": "stdout",
     "output_type": "stream",
     "text": [
      "== avg ==\n",
      "Mean: 26.649728024251107\n",
      "Var: 467.3761925970966\n",
      "Std: 21.618885091444856\n",
      "== 1-gram ==\n",
      "Mean: 50.98510813979677\n",
      "Var: 388.87381690484983\n",
      "Std: 19.71988379541953\n",
      "== 2-gram ==\n",
      "Mean: 34.579902611958936\n",
      "Var: 531.9596623601192\n",
      "Std: 23.064250743523388\n",
      "== 3-gram ==\n",
      "Mean: 24.198528431010367\n",
      "Var: 526.7047407669642\n",
      "Std: 22.950048818400457\n",
      "== 4-gram ==\n",
      "Mean: 17.10272355982654\n",
      "Var: 453.7536053272958\n",
      "Std: 21.301493030473143\n",
      "Eval Time: 2m 49s\n"
     ]
    },
    {
     "name": "stderr",
     "output_type": "stream",
     "text": [
      "100%|█████████████████████████████████████| 15568/15568 [02:49<00:00, 92.07it/s]\n"
     ]
    },
    {
     "name": "stdout",
     "output_type": "stream",
     "text": [
      "== avg ==\n",
      "Mean: 26.77447195152209\n",
      "Var: 471.34820767061734\n",
      "Std: 21.710555213320024\n",
      "== 1-gram ==\n",
      "Mean: 51.02434030046678\n",
      "Var: 390.9360115940902\n",
      "Std: 19.77210185069079\n",
      "== 2-gram ==\n",
      "Mean: 34.70048325252416\n",
      "Var: 533.6963864660361\n",
      "Std: 23.101869761256037\n",
      "== 3-gram ==\n",
      "Mean: 24.298459501615838\n",
      "Var: 528.7236578148289\n",
      "Std: 22.99399177643649\n",
      "== 4-gram ==\n",
      "Mean: 17.2235468197583\n",
      "Var: 458.8060255919043\n",
      "Std: 21.419757832242276\n",
      "Eval Time: 2m 49s\n"
     ]
    },
    {
     "name": "stderr",
     "output_type": "stream",
     "text": [
      "100%|█████████████████████████████████████| 15568/15568 [02:49<00:00, 91.61it/s]"
     ]
    },
    {
     "name": "stdout",
     "output_type": "stream",
     "text": [
      "== avg ==\n",
      "Mean: 27.052131042775258\n",
      "Var: 477.4796552150517\n",
      "Std: 21.851307860516076\n",
      "== 1-gram ==\n",
      "Mean: 51.374314117730705\n",
      "Var: 392.60886631318976\n",
      "Std: 19.814360103550904\n",
      "== 2-gram ==\n",
      "Mean: 35.12245900938244\n",
      "Var: 540.1702470465833\n",
      "Std: 23.24156292176977\n",
      "== 3-gram ==\n",
      "Mean: 24.791183945003418\n",
      "Var: 544.0334771256953\n",
      "Std: 23.324525228301976\n",
      "== 4-gram ==\n",
      "Mean: 17.509414945993516\n",
      "Var: 468.63537852634147\n",
      "Std: 21.647987863225104\n",
      "Eval Time: 2m 49s\n"
     ]
    },
    {
     "name": "stderr",
     "output_type": "stream",
     "text": [
      "\n"
     ]
    }
   ],
   "source": [
    "scores_2 = []\n",
    "for i in range(10):\n",
    "  start_time = time.time()\n",
    "\n",
    "  samples = get_samples(TEST_ZSENT,TEST_KSENT,p=0.2)\n",
    "  test_score = sacrebleu_score(model, source_sentences=samples['zh'],target_sentences=samples['ko'])\n",
    "  #test_score = sacrebleu_score(model, source_sentences=TEST_ZSENT,target_sentences=TEST_KSENT)\n",
    "  end_time = time.time()\n",
    "  epoch_mins, epoch_secs = epoch_time(start_time, end_time)\n",
    "  print(f'Eval Time: {epoch_mins}m {epoch_secs}s')\n",
    "    \n",
    "  #print('\\tBLEU Score:')\n",
    "  #for k in test_score.keys():\n",
    "  #  print('\\t\\t{}: {:.3f}'.format(k,test_score[k]))\n",
    "\n",
    "  scores_2.append(test_score['avg'])\n"
   ]
  },
  {
   "cell_type": "code",
   "execution_count": 36,
   "metadata": {},
   "outputs": [
    {
     "name": "stdout",
     "output_type": "stream",
     "text": [
      "\n",
      "ted2020:\n",
      "==  ==\n",
      "Mean: 26.69676736554763\n",
      "Var: 0.02340401968478585\n",
      "Std: 0.15298372359432832\n"
     ]
    },
    {
     "data": {
      "text/plain": [
       "26.69676736554763"
      ]
     },
     "execution_count": 36,
     "metadata": {},
     "output_type": "execute_result"
    }
   ],
   "source": [
    "print('\\nted2020:')\n",
    "analysis_score(scores_2,'') # ted2020\n"
   ]
  },
  {
   "cell_type": "code",
   "execution_count": null,
   "metadata": {},
   "outputs": [],
   "source": []
  },
  {
   "cell_type": "code",
   "execution_count": 50,
   "metadata": {},
   "outputs": [
    {
     "name": "stderr",
     "output_type": "stream",
     "text": [
      "100%|█████████████████████████████████████████████| 1/1 [00:00<00:00, 53.61it/s]\n"
     ]
    },
    {
     "name": "stdout",
     "output_type": "stream",
     "text": [
      "== avg ==\n",
      "Mean: 45.788313721339826\n",
      "Var: nan\n",
      "Std: nan\n",
      "== 1-gram ==\n",
      "Mean: 62.5\n",
      "Var: nan\n",
      "Std: nan\n",
      "== 2-gram ==\n",
      "Mean: 53.333333333333336\n",
      "Var: nan\n",
      "Std: nan\n",
      "== 3-gram ==\n",
      "Mean: 42.857142857142854\n",
      "Var: nan\n",
      "Std: nan\n",
      "== 4-gram ==\n",
      "Mean: 30.76923076923077\n",
      "Var: nan\n",
      "Std: nan\n",
      "2329 我衷心希望墨西哥灣事件能讓我們獲得真相。 멕시코만 문제 해결 안이 기도 한 제 소원은 우리들이 진실을 아는 것입니다.\n",
      "\tBLEU Score:\n",
      "\t\tavg: 45.788\n",
      "\t\t1-gram: 62.500\n",
      "\t\t2-gram: 53.333\n",
      "\t\t3-gram: 42.857\n",
      "\t\t4-gram: 30.769\n",
      "output : ['멕시코 만 문제 해결 안이 기도 한 제 소원 은 우리 들이 진실을 아는 것입니다.']\n"
     ]
    },
    {
     "name": "stderr",
     "output_type": "stream",
     "text": [
      "100%|█████████████████████████████████████████████| 1/1 [00:00<00:00, 33.24it/s]\n"
     ]
    },
    {
     "name": "stdout",
     "output_type": "stream",
     "text": [
      "== avg ==\n",
      "Mean: 4.02724819242185\n",
      "Var: nan\n",
      "Std: nan\n",
      "== 1-gram ==\n",
      "Mean: 16.666666666666668\n",
      "Var: nan\n",
      "Std: nan\n",
      "== 2-gram ==\n",
      "Mean: 4.545454545454546\n",
      "Var: nan\n",
      "Std: nan\n",
      "== 3-gram ==\n",
      "Mean: 2.5\n",
      "Var: nan\n",
      "Std: nan\n",
      "== 4-gram ==\n",
      "Mean: 1.3888888888888888\n",
      "Var: nan\n",
      "Std: nan\n",
      "10288 空氣聞起來有煙味和硫磺味。 공기에서 연기와 유황 냄새가 났습니다.\n",
      "\tBLEU Score:\n",
      "\t\tavg: 4.027\n",
      "\t\t1-gram: 16.667\n",
      "\t\t2-gram: 4.545\n",
      "\t\t3-gram: 2.500\n",
      "\t\t4-gram: 1.389\n",
      "output : ['공기 에서 연기 와 유 황 냄새가 났 습 니 다.']\n"
     ]
    },
    {
     "name": "stderr",
     "output_type": "stream",
     "text": [
      "100%|█████████████████████████████████████████████| 1/1 [00:00<00:00, 37.97it/s]"
     ]
    },
    {
     "name": "stdout",
     "output_type": "stream",
     "text": [
      "== avg ==\n",
      "Mean: 21.023693683267553\n",
      "Var: nan\n",
      "Std: nan\n",
      "== 1-gram ==\n",
      "Mean: 53.333333333333336\n",
      "Var: nan\n",
      "Std: nan\n",
      "== 2-gram ==\n",
      "Mean: 28.571428571428573\n",
      "Var: nan\n",
      "Std: nan\n",
      "== 3-gram ==\n",
      "Mean: 15.384615384615385\n",
      "Var: nan\n",
      "Std: nan\n",
      "== 4-gram ==\n",
      "Mean: 8.333333333333334\n",
      "Var: nan\n",
      "Std: nan\n",
      "19458 把它和我上個月在北京開車經過的一座類似橋樑做個比較。 이제 지난 달 제가 베이징에서 지나간 비슷한 다리와 비교해 봅시다.\n",
      "\tBLEU Score:\n",
      "\t\tavg: 21.024\n",
      "\t\t1-gram: 53.333\n",
      "\t\t2-gram: 28.571\n",
      "\t\t3-gram: 15.385\n",
      "\t\t4-gram: 8.333\n",
      "output : ['이제 지난 달 제가 베이징 에서 지나간 비슷한 다리 와 비교해 봅 시 다.']\n"
     ]
    },
    {
     "name": "stderr",
     "output_type": "stream",
     "text": [
      "\n"
     ]
    }
   ],
   "source": [
    "for i in [2329,10288,19458]:\n",
    "  test_score = sacrebleu_score(model, source_sentences=[TEST_ZSENT[i]],target_sentences=[TEST_KSENT[i]],output_generated=True)\n",
    "\n",
    "  print(i,TEST_ZSENT[i],TEST_KSENT[i])  \n",
    "  print('\\tBLEU Score:')\n",
    "  for k in test_score.keys():\n",
    "    try:\n",
    "        print('\\t\\t{}: {:.3f}'.format(k,test_score[k]))\n",
    "    except:\n",
    "        print(k,':',test_score[k])"
   ]
  },
  {
   "cell_type": "code",
   "execution_count": 49,
   "metadata": {},
   "outputs": [
    {
     "name": "stderr",
     "output_type": "stream",
     "text": [
      "100%|█████████████████████████████████████████████| 1/1 [00:00<00:00, 23.81it/s]\n",
      "/home/jiazhen/.local/lib/python3.8/site-packages/numpy/core/fromnumeric.py:3747: RuntimeWarning: Degrees of freedom <= 0 for slice\n",
      "  return _methods._var(a, axis=axis, dtype=dtype, out=out, ddof=ddof,\n",
      "/home/jiazhen/.local/lib/python3.8/site-packages/numpy/core/_methods.py:261: RuntimeWarning: invalid value encountered in scalar divide\n",
      "  ret = ret.dtype.type(ret / rcount)\n",
      "/home/jiazhen/.local/lib/python3.8/site-packages/numpy/core/_methods.py:269: RuntimeWarning: Degrees of freedom <= 0 for slice\n",
      "  ret = _var(a, axis=axis, dtype=dtype, out=out, ddof=ddof,\n"
     ]
    },
    {
     "name": "stdout",
     "output_type": "stream",
     "text": [
      "== avg ==\n",
      "Mean: 17.37643641367697\n",
      "Var: nan\n",
      "Std: nan\n",
      "== 1-gram ==\n",
      "Mean: 50.0\n",
      "Var: nan\n",
      "Std: nan\n",
      "== 2-gram ==\n",
      "Mean: 29.62962962962963\n",
      "Var: nan\n",
      "Std: nan\n",
      "== 3-gram ==\n",
      "Mean: 15.384615384615385\n",
      "Var: nan\n",
      "Std: nan\n",
      "== 4-gram ==\n",
      "Mean: 4.0\n",
      "Var: nan\n",
      "Std: nan\n",
      "1283 它被創作出來的五百多年之後——眉毛和睫毛早就淡去——《蒙娜麗莎》被保護在防彈、防地震的玻璃箱中。 그려진 지 500년이 훌쩍 넘고, 눈썹도 사라진 지 한참 지나서 모나리자는 지진도 이겨 내는 방탄 액자의 보호를 받습니다.\n",
      "\tBLEU Score:\n",
      "\t\tavg: 17.376\n",
      "\t\t1-gram: 50.000\n",
      "\t\t2-gram: 29.630\n",
      "\t\t3-gram: 15.385\n",
      "\t\t4-gram: 4.000\n",
      "output : ['그려진 지 500 년 이 훌쩍 넘 고, 눈썹 도 사라진 지 한참 지나서 모나 리 자는 지진 도 이겨 내는 방탄 액자 의 보호를 받습니다.']\n"
     ]
    },
    {
     "name": "stderr",
     "output_type": "stream",
     "text": [
      "100%|█████████████████████████████████████████████| 1/1 [00:00<00:00, 38.58it/s]\n"
     ]
    },
    {
     "name": "stdout",
     "output_type": "stream",
     "text": [
      "== avg ==\n",
      "Mean: 100.00000000000004\n",
      "Var: nan\n",
      "Std: nan\n",
      "== 1-gram ==\n",
      "Mean: 100.0\n",
      "Var: nan\n",
      "Std: nan\n",
      "== 2-gram ==\n",
      "Mean: 100.0\n",
      "Var: nan\n",
      "Std: nan\n",
      "== 3-gram ==\n",
      "Mean: 100.0\n",
      "Var: nan\n",
      "Std: nan\n",
      "== 4-gram ==\n",
      "Mean: 100.0\n",
      "Var: nan\n",
      "Std: nan\n",
      "26956 我晚上睡不著覺。 밤에 잠을 잘 수 없었습니다.\n",
      "\tBLEU Score:\n",
      "\t\tavg: 100.000\n",
      "\t\t1-gram: 100.000\n",
      "\t\t2-gram: 100.000\n",
      "\t\t3-gram: 100.000\n",
      "\t\t4-gram: 100.000\n",
      "output : ['밤에 잠을 잘 수 없었습니다.']\n"
     ]
    },
    {
     "name": "stderr",
     "output_type": "stream",
     "text": [
      "100%|█████████████████████████████████████████████| 1/1 [00:00<00:00, 63.21it/s]"
     ]
    },
    {
     "name": "stdout",
     "output_type": "stream",
     "text": [
      "== avg ==\n",
      "Mean: 58.34041060170845\n",
      "Var: nan\n",
      "Std: nan\n",
      "== 1-gram ==\n",
      "Mean: 76.19047619047619\n",
      "Var: nan\n",
      "Std: nan\n",
      "== 2-gram ==\n",
      "Mean: 65.0\n",
      "Var: nan\n",
      "Std: nan\n",
      "== 3-gram ==\n",
      "Mean: 52.63157894736842\n",
      "Var: nan\n",
      "Std: nan\n",
      "== 4-gram ==\n",
      "Mean: 44.44444444444444\n",
      "Var: nan\n",
      "Std: nan\n",
      "13215 現在，和一些很棒的女性合作，我要發起「51基金」。 지금 저는 몇 명의 대단한 여성들과 함께, \"51 펀드\" 라는 것을 론 칭하고 있습니다.\n",
      "\tBLEU Score:\n",
      "\t\tavg: 58.340\n",
      "\t\t1-gram: 76.190\n",
      "\t\t2-gram: 65.000\n",
      "\t\t3-gram: 52.632\n",
      "\t\t4-gram: 44.444\n",
      "output : ['지금 저는 몇 명의 대단한 여성 들 과 함께, \" 51 펀드 \" 라는 것을 론 칭 하고 있습니다.']\n"
     ]
    },
    {
     "name": "stderr",
     "output_type": "stream",
     "text": [
      "\n"
     ]
    }
   ],
   "source": [
    "for i in [1283, 26956, 13215]:\n",
    "  test_score = sacrebleu_score(model, source_sentences=[TEST_ZSENT[i]],target_sentences=[TEST_KSENT[i]],output_generated=True)\n",
    "\n",
    "  print(i,TEST_ZSENT[i],TEST_KSENT[i])  \n",
    "  print('\\tBLEU Score:')\n",
    "  for k in test_score.keys():\n",
    "    try:\n",
    "        print('\\t\\t{}: {:.3f}'.format(k,test_score[k]))\n",
    "    except:\n",
    "        print(k,':',test_score[k])"
   ]
  },
  {
   "cell_type": "code",
   "execution_count": 51,
   "metadata": {},
   "outputs": [
    {
     "name": "stdout",
     "output_type": "stream",
     "text": [
      "當白人在美國行使暴力行為時，他們是孤狼，患有精神疾病，或者是停車爭執而導致的。\n",
      "미국에서 백인 남자가 폭력을 저지르면 은둔 형 외톨이의 소행이나 정신 질환 주차 분쟁으로 다룹니다.\n",
      "美國에서 伯仁 男子街 暴力乙 저지르綿 은둔 型 외톨이疑 宵行이나 精神 疾患 駐車 紛爭乙奴 다룹니다.\n",
      "=====\n"
     ]
    },
    {
     "name": "stderr",
     "output_type": "stream",
     "text": [
      "100%|█████████████████████████████████████████████| 1/1 [00:00<00:00, 23.33it/s]"
     ]
    },
    {
     "name": "stdout",
     "output_type": "stream",
     "text": [
      "== avg ==\n",
      "Mean: 9.336098046190488\n",
      "Var: nan\n",
      "Std: nan\n",
      "== 1-gram ==\n",
      "Mean: 29.62962962962963\n",
      "Var: nan\n",
      "Std: nan\n",
      "== 2-gram ==\n",
      "Mean: 15.384615384615385\n",
      "Var: nan\n",
      "Std: nan\n",
      "== 3-gram ==\n",
      "Mean: 8.0\n",
      "Var: nan\n",
      "Std: nan\n",
      "== 4-gram ==\n",
      "Mean: 2.0833333333333335\n",
      "Var: nan\n",
      "Std: nan\n",
      "616 當白人在美國行使暴力行為時，他們是孤狼，患有精神疾病，或者是停車爭執而導致的。 미국에서 백인 남자가 폭력을 저지르면 은둔 형 외톨이의 소행이나 정신 질환 주차 분쟁으로 다룹니다.\n",
      "\tBLEU Score:\n",
      "\t\tavg: 9.336\n",
      "\t\t1-gram: 29.630\n",
      "\t\t2-gram: 15.385\n",
      "\t\t3-gram: 8.000\n",
      "\t\t4-gram: 2.083\n",
      "output : ['미국에서 백인 남자가 폭력 을 저지 르 면 은 둔 형 외 톨 이의 소 행 이나 정신 질환 주차 분쟁 으로 다 룹 니 다.']\n"
     ]
    },
    {
     "name": "stderr",
     "output_type": "stream",
     "text": [
      "\n"
     ]
    }
   ],
   "source": [
    "for i in [616]: # 0.835\n",
    "    print(TRAIN_ZSENT[i])\n",
    "    print(TRAIN_KSENT[i])\n",
    "    print(TRAIN_HSENT[i])\n",
    "    print('='*5)\n",
    "    test_score = sacrebleu_score(model, source_sentences=[TRAIN_ZSENT[i]],target_sentences=[TRAIN_KSENT[i]],output_generated=True)\n",
    "\n",
    "    print(i,TRAIN_ZSENT[i],TRAIN_KSENT[i])  \n",
    "    print('\\tBLEU Score:')\n",
    "    for k in test_score.keys():\n",
    "      try:\n",
    "        print('\\t\\t{}: {:.3f}'.format(k,test_score[k]))\n",
    "      except:\n",
    "        print(k,':',test_score[k])\n"
   ]
  },
  {
   "cell_type": "code",
   "execution_count": 52,
   "metadata": {},
   "outputs": [
    {
     "name": "stdout",
     "output_type": "stream",
     "text": [
      "當然,在人體內的情況更為複雜得多。\n",
      "하지만 인체 안에서의 상황은 물론 그것보다 훨씬 더 복잡합니다.\n",
      "하지만 人體 案에서疑 狀況은 物論 그것보다 훨씬 더 複雜합니다.\n",
      "=====\n"
     ]
    },
    {
     "name": "stderr",
     "output_type": "stream",
     "text": [
      "100%|█████████████████████████████████████████████| 1/1 [00:00<00:00, 50.45it/s]"
     ]
    },
    {
     "name": "stdout",
     "output_type": "stream",
     "text": [
      "== avg ==\n",
      "Mean: 11.121234698968381\n",
      "Var: nan\n",
      "Std: nan\n",
      "== 1-gram ==\n",
      "Mean: 53.84615384615385\n",
      "Var: nan\n",
      "Std: nan\n",
      "== 2-gram ==\n",
      "Mean: 25.0\n",
      "Var: nan\n",
      "Std: nan\n",
      "== 3-gram ==\n",
      "Mean: 4.545454545454546\n",
      "Var: nan\n",
      "Std: nan\n",
      "== 4-gram ==\n",
      "Mean: 2.5\n",
      "Var: nan\n",
      "Std: nan\n",
      "724 當然,在人體內的情況更為複雜得多。 하지만 인체 안에서의 상황은 물론 그것보다 훨씬 더 복잡합니다.\n",
      "\tBLEU Score:\n",
      "\t\tavg: 11.121\n",
      "\t\t1-gram: 53.846\n",
      "\t\t2-gram: 25.000\n",
      "\t\t3-gram: 4.545\n",
      "\t\t4-gram: 2.500\n",
      "output : ['하지만 인체 안에서 의 상황은 물론 그것 보다 훨씬 더 복잡 합니다.']\n"
     ]
    },
    {
     "name": "stderr",
     "output_type": "stream",
     "text": [
      "\n"
     ]
    }
   ],
   "source": [
    "for i in [724]: #0.569\n",
    "    print(TEST_ZSENT[i])\n",
    "    print(TEST_KSENT[i])\n",
    "    print(TEST_HSENT[i])\n",
    "    print('='*5)\n",
    "    test_score = sacrebleu_score(model, source_sentences=[TEST_ZSENT[i]],target_sentences=[TEST_KSENT[i]],output_generated=True)\n",
    "\n",
    "    print(i,TEST_ZSENT[i],TEST_KSENT[i])  \n",
    "    print('\\tBLEU Score:')\n",
    "    for k in test_score.keys():\n",
    "      try:\n",
    "        print('\\t\\t{}: {:.3f}'.format(k,test_score[k]))\n",
    "      except:\n",
    "        print(k,':',test_score[k])"
   ]
  },
  {
   "cell_type": "code",
   "execution_count": null,
   "metadata": {},
   "outputs": [],
   "source": []
  }
 ],
 "metadata": {
  "accelerator": "GPU",
  "colab": {
   "gpuType": "T4",
   "provenance": [
    {
     "file_id": "1ujERMOwPFmGoruZE_6CcVWyk3EPAGwP3",
     "timestamp": 1716394033678
    },
    {
     "file_id": "1_EEW5tkhh2ILfM2VDVsWwM_CRutS5n2N",
     "timestamp": 1712825273579
    }
   ]
  },
  "kernelspec": {
   "display_name": "Python 3 (ipykernel)",
   "language": "python",
   "name": "python3"
  },
  "language_info": {
   "codemirror_mode": {
    "name": "ipython",
    "version": 3
   },
   "file_extension": ".py",
   "mimetype": "text/x-python",
   "name": "python",
   "nbconvert_exporter": "python",
   "pygments_lexer": "ipython3",
   "version": "3.8.10"
  },
  "widgets": {
   "application/vnd.jupyter.widget-state+json": {
    "0563cfc3dc7a4334a53b03abea67bf34": {
     "model_module": "@jupyter-widgets/base",
     "model_module_version": "1.2.0",
     "model_name": "LayoutModel",
     "state": {
      "_model_module": "@jupyter-widgets/base",
      "_model_module_version": "1.2.0",
      "_model_name": "LayoutModel",
      "_view_count": null,
      "_view_module": "@jupyter-widgets/base",
      "_view_module_version": "1.2.0",
      "_view_name": "LayoutView",
      "align_content": null,
      "align_items": null,
      "align_self": null,
      "border": null,
      "bottom": null,
      "display": null,
      "flex": null,
      "flex_flow": null,
      "grid_area": null,
      "grid_auto_columns": null,
      "grid_auto_flow": null,
      "grid_auto_rows": null,
      "grid_column": null,
      "grid_gap": null,
      "grid_row": null,
      "grid_template_areas": null,
      "grid_template_columns": null,
      "grid_template_rows": null,
      "height": null,
      "justify_content": null,
      "justify_items": null,
      "left": null,
      "margin": null,
      "max_height": null,
      "max_width": null,
      "min_height": null,
      "min_width": null,
      "object_fit": null,
      "object_position": null,
      "order": null,
      "overflow": null,
      "overflow_x": null,
      "overflow_y": null,
      "padding": null,
      "right": null,
      "top": null,
      "visibility": null,
      "width": null
     }
    },
    "0938947be70f49b4a2668b30e45b1aae": {
     "model_module": "@jupyter-widgets/controls",
     "model_module_version": "1.5.0",
     "model_name": "HTMLModel",
     "state": {
      "_dom_classes": [],
      "_model_module": "@jupyter-widgets/controls",
      "_model_module_version": "1.5.0",
      "_model_name": "HTMLModel",
      "_view_count": null,
      "_view_module": "@jupyter-widgets/controls",
      "_view_module_version": "1.5.0",
      "_view_name": "HTMLView",
      "description": "",
      "description_tooltip": null,
      "layout": "IPY_MODEL_82a629771ba64d33bd22296eea4422c9",
      "placeholder": "​",
      "style": "IPY_MODEL_f8101c683be54ab8896726653a59bf9f",
      "value": "config.json: 100%"
     }
    },
    "0adc71bb095f43799268b2919bb13a99": {
     "model_module": "@jupyter-widgets/controls",
     "model_module_version": "1.5.0",
     "model_name": "HBoxModel",
     "state": {
      "_dom_classes": [],
      "_model_module": "@jupyter-widgets/controls",
      "_model_module_version": "1.5.0",
      "_model_name": "HBoxModel",
      "_view_count": null,
      "_view_module": "@jupyter-widgets/controls",
      "_view_module_version": "1.5.0",
      "_view_name": "HBoxView",
      "box_style": "",
      "children": [
       "IPY_MODEL_32df952cd1364acdbb0b19240b4adf48",
       "IPY_MODEL_715c99ee56c244d6b9f79384e293333b",
       "IPY_MODEL_76b82f63b5cc49ebbbd4e97ff4820a50"
      ],
      "layout": "IPY_MODEL_2d912a15a80142c686e2a4d85ee083d3"
     }
    },
    "0b8c98a0d9b7446396cfbebb7356f676": {
     "model_module": "@jupyter-widgets/base",
     "model_module_version": "1.2.0",
     "model_name": "LayoutModel",
     "state": {
      "_model_module": "@jupyter-widgets/base",
      "_model_module_version": "1.2.0",
      "_model_name": "LayoutModel",
      "_view_count": null,
      "_view_module": "@jupyter-widgets/base",
      "_view_module_version": "1.2.0",
      "_view_name": "LayoutView",
      "align_content": null,
      "align_items": null,
      "align_self": null,
      "border": null,
      "bottom": null,
      "display": null,
      "flex": null,
      "flex_flow": null,
      "grid_area": null,
      "grid_auto_columns": null,
      "grid_auto_flow": null,
      "grid_auto_rows": null,
      "grid_column": null,
      "grid_gap": null,
      "grid_row": null,
      "grid_template_areas": null,
      "grid_template_columns": null,
      "grid_template_rows": null,
      "height": null,
      "justify_content": null,
      "justify_items": null,
      "left": null,
      "margin": null,
      "max_height": null,
      "max_width": null,
      "min_height": null,
      "min_width": null,
      "object_fit": null,
      "object_position": null,
      "order": null,
      "overflow": null,
      "overflow_x": null,
      "overflow_y": null,
      "padding": null,
      "right": null,
      "top": null,
      "visibility": null,
      "width": null
     }
    },
    "0c734c2af04840a3af651a31e0ae33ee": {
     "model_module": "@jupyter-widgets/base",
     "model_module_version": "1.2.0",
     "model_name": "LayoutModel",
     "state": {
      "_model_module": "@jupyter-widgets/base",
      "_model_module_version": "1.2.0",
      "_model_name": "LayoutModel",
      "_view_count": null,
      "_view_module": "@jupyter-widgets/base",
      "_view_module_version": "1.2.0",
      "_view_name": "LayoutView",
      "align_content": null,
      "align_items": null,
      "align_self": null,
      "border": null,
      "bottom": null,
      "display": null,
      "flex": null,
      "flex_flow": null,
      "grid_area": null,
      "grid_auto_columns": null,
      "grid_auto_flow": null,
      "grid_auto_rows": null,
      "grid_column": null,
      "grid_gap": null,
      "grid_row": null,
      "grid_template_areas": null,
      "grid_template_columns": null,
      "grid_template_rows": null,
      "height": null,
      "justify_content": null,
      "justify_items": null,
      "left": null,
      "margin": null,
      "max_height": null,
      "max_width": null,
      "min_height": null,
      "min_width": null,
      "object_fit": null,
      "object_position": null,
      "order": null,
      "overflow": null,
      "overflow_x": null,
      "overflow_y": null,
      "padding": null,
      "right": null,
      "top": null,
      "visibility": null,
      "width": null
     }
    },
    "134d4d993a884a6e8c4fc86dedb75b21": {
     "model_module": "@jupyter-widgets/base",
     "model_module_version": "1.2.0",
     "model_name": "LayoutModel",
     "state": {
      "_model_module": "@jupyter-widgets/base",
      "_model_module_version": "1.2.0",
      "_model_name": "LayoutModel",
      "_view_count": null,
      "_view_module": "@jupyter-widgets/base",
      "_view_module_version": "1.2.0",
      "_view_name": "LayoutView",
      "align_content": null,
      "align_items": null,
      "align_self": null,
      "border": null,
      "bottom": null,
      "display": null,
      "flex": null,
      "flex_flow": null,
      "grid_area": null,
      "grid_auto_columns": null,
      "grid_auto_flow": null,
      "grid_auto_rows": null,
      "grid_column": null,
      "grid_gap": null,
      "grid_row": null,
      "grid_template_areas": null,
      "grid_template_columns": null,
      "grid_template_rows": null,
      "height": null,
      "justify_content": null,
      "justify_items": null,
      "left": null,
      "margin": null,
      "max_height": null,
      "max_width": null,
      "min_height": null,
      "min_width": null,
      "object_fit": null,
      "object_position": null,
      "order": null,
      "overflow": null,
      "overflow_x": null,
      "overflow_y": null,
      "padding": null,
      "right": null,
      "top": null,
      "visibility": null,
      "width": null
     }
    },
    "14c4da599454480886928b62d789a0d5": {
     "model_module": "@jupyter-widgets/controls",
     "model_module_version": "1.5.0",
     "model_name": "FloatProgressModel",
     "state": {
      "_dom_classes": [],
      "_model_module": "@jupyter-widgets/controls",
      "_model_module_version": "1.5.0",
      "_model_name": "FloatProgressModel",
      "_view_count": null,
      "_view_module": "@jupyter-widgets/controls",
      "_view_module_version": "1.5.0",
      "_view_name": "ProgressView",
      "bar_style": "success",
      "description": "",
      "description_tooltip": null,
      "layout": "IPY_MODEL_46738251f2a847faaa21f90ce1c8725f",
      "max": 49,
      "min": 0,
      "orientation": "horizontal",
      "style": "IPY_MODEL_6531766795024285ab5dcb1828072349",
      "value": 49
     }
    },
    "14c72a7544d547e19e3b04474ed198c2": {
     "model_module": "@jupyter-widgets/base",
     "model_module_version": "1.2.0",
     "model_name": "LayoutModel",
     "state": {
      "_model_module": "@jupyter-widgets/base",
      "_model_module_version": "1.2.0",
      "_model_name": "LayoutModel",
      "_view_count": null,
      "_view_module": "@jupyter-widgets/base",
      "_view_module_version": "1.2.0",
      "_view_name": "LayoutView",
      "align_content": null,
      "align_items": null,
      "align_self": null,
      "border": null,
      "bottom": null,
      "display": null,
      "flex": null,
      "flex_flow": null,
      "grid_area": null,
      "grid_auto_columns": null,
      "grid_auto_flow": null,
      "grid_auto_rows": null,
      "grid_column": null,
      "grid_gap": null,
      "grid_row": null,
      "grid_template_areas": null,
      "grid_template_columns": null,
      "grid_template_rows": null,
      "height": null,
      "justify_content": null,
      "justify_items": null,
      "left": null,
      "margin": null,
      "max_height": null,
      "max_width": null,
      "min_height": null,
      "min_width": null,
      "object_fit": null,
      "object_position": null,
      "order": null,
      "overflow": null,
      "overflow_x": null,
      "overflow_y": null,
      "padding": null,
      "right": null,
      "top": null,
      "visibility": null,
      "width": null
     }
    },
    "1586223071164a14abc0a26dc6c39df0": {
     "model_module": "@jupyter-widgets/controls",
     "model_module_version": "1.5.0",
     "model_name": "HBoxModel",
     "state": {
      "_dom_classes": [],
      "_model_module": "@jupyter-widgets/controls",
      "_model_module_version": "1.5.0",
      "_model_name": "HBoxModel",
      "_view_count": null,
      "_view_module": "@jupyter-widgets/controls",
      "_view_module_version": "1.5.0",
      "_view_name": "HBoxView",
      "box_style": "",
      "children": [
       "IPY_MODEL_66de85187d564d16953e5d45a48466d5",
       "IPY_MODEL_527e76b798d444fb9c088467f8fa9e4c",
       "IPY_MODEL_b4da9eee63a84ad383f189e13a6d0fa9"
      ],
      "layout": "IPY_MODEL_538dd1ab4c82412b83dee2d6f709f994"
     }
    },
    "1cba16906e3147ecadbc6706de0c39d6": {
     "model_module": "@jupyter-widgets/base",
     "model_module_version": "1.2.0",
     "model_name": "LayoutModel",
     "state": {
      "_model_module": "@jupyter-widgets/base",
      "_model_module_version": "1.2.0",
      "_model_name": "LayoutModel",
      "_view_count": null,
      "_view_module": "@jupyter-widgets/base",
      "_view_module_version": "1.2.0",
      "_view_name": "LayoutView",
      "align_content": null,
      "align_items": null,
      "align_self": null,
      "border": null,
      "bottom": null,
      "display": null,
      "flex": null,
      "flex_flow": null,
      "grid_area": null,
      "grid_auto_columns": null,
      "grid_auto_flow": null,
      "grid_auto_rows": null,
      "grid_column": null,
      "grid_gap": null,
      "grid_row": null,
      "grid_template_areas": null,
      "grid_template_columns": null,
      "grid_template_rows": null,
      "height": null,
      "justify_content": null,
      "justify_items": null,
      "left": null,
      "margin": null,
      "max_height": null,
      "max_width": null,
      "min_height": null,
      "min_width": null,
      "object_fit": null,
      "object_position": null,
      "order": null,
      "overflow": null,
      "overflow_x": null,
      "overflow_y": null,
      "padding": null,
      "right": null,
      "top": null,
      "visibility": null,
      "width": null
     }
    },
    "1de1d369d5294e5a85c9916b298fe2f1": {
     "model_module": "@jupyter-widgets/base",
     "model_module_version": "1.2.0",
     "model_name": "LayoutModel",
     "state": {
      "_model_module": "@jupyter-widgets/base",
      "_model_module_version": "1.2.0",
      "_model_name": "LayoutModel",
      "_view_count": null,
      "_view_module": "@jupyter-widgets/base",
      "_view_module_version": "1.2.0",
      "_view_name": "LayoutView",
      "align_content": null,
      "align_items": null,
      "align_self": null,
      "border": null,
      "bottom": null,
      "display": null,
      "flex": null,
      "flex_flow": null,
      "grid_area": null,
      "grid_auto_columns": null,
      "grid_auto_flow": null,
      "grid_auto_rows": null,
      "grid_column": null,
      "grid_gap": null,
      "grid_row": null,
      "grid_template_areas": null,
      "grid_template_columns": null,
      "grid_template_rows": null,
      "height": null,
      "justify_content": null,
      "justify_items": null,
      "left": null,
      "margin": null,
      "max_height": null,
      "max_width": null,
      "min_height": null,
      "min_width": null,
      "object_fit": null,
      "object_position": null,
      "order": null,
      "overflow": null,
      "overflow_x": null,
      "overflow_y": null,
      "padding": null,
      "right": null,
      "top": null,
      "visibility": null,
      "width": null
     }
    },
    "22c2517d14394a4e8f3acd48feec8d56": {
     "model_module": "@jupyter-widgets/controls",
     "model_module_version": "1.5.0",
     "model_name": "FloatProgressModel",
     "state": {
      "_dom_classes": [],
      "_model_module": "@jupyter-widgets/controls",
      "_model_module_version": "1.5.0",
      "_model_name": "FloatProgressModel",
      "_view_count": null,
      "_view_module": "@jupyter-widgets/controls",
      "_view_module_version": "1.5.0",
      "_view_name": "ProgressView",
      "bar_style": "success",
      "description": "",
      "description_tooltip": null,
      "layout": "IPY_MODEL_5a150d2dafa1478cb605c03ae1b6f11c",
      "max": 344259,
      "min": 0,
      "orientation": "horizontal",
      "style": "IPY_MODEL_7c3c148f9b90423385d516070de18258",
      "value": 344259
     }
    },
    "238e7b4c12d644f9aa05c4f4c593d4cf": {
     "model_module": "@jupyter-widgets/controls",
     "model_module_version": "1.5.0",
     "model_name": "HTMLModel",
     "state": {
      "_dom_classes": [],
      "_model_module": "@jupyter-widgets/controls",
      "_model_module_version": "1.5.0",
      "_model_name": "HTMLModel",
      "_view_count": null,
      "_view_module": "@jupyter-widgets/controls",
      "_view_module_version": "1.5.0",
      "_view_name": "HTMLView",
      "description": "",
      "description_tooltip": null,
      "layout": "IPY_MODEL_da264c4adb1b4347a7a06dab0ce3dd57",
      "placeholder": "​",
      "style": "IPY_MODEL_918e1783d17e44f79cfd44a9e9e1e009",
      "value": " 80.0/80.0 [00:00&lt;00:00, 2.23kB/s]"
     }
    },
    "23bacab63696486ca08b8a72ab7f9390": {
     "model_module": "@jupyter-widgets/controls",
     "model_module_version": "1.5.0",
     "model_name": "HBoxModel",
     "state": {
      "_dom_classes": [],
      "_model_module": "@jupyter-widgets/controls",
      "_model_module_version": "1.5.0",
      "_model_name": "HBoxModel",
      "_view_count": null,
      "_view_module": "@jupyter-widgets/controls",
      "_view_module_version": "1.5.0",
      "_view_name": "HBoxView",
      "box_style": "",
      "children": [
       "IPY_MODEL_ee853e912fec4f14ad6edacb24cf7f01",
       "IPY_MODEL_8d5911ca7c2241d8a2bdb3a5f77a31e6",
       "IPY_MODEL_ff694afd3f42475fb6829485061c9a72"
      ],
      "layout": "IPY_MODEL_cfc8e231b76a49b7b7bcb877d5865a34"
     }
    },
    "26327b0bfc984ae0ac60478845121aa0": {
     "model_module": "@jupyter-widgets/base",
     "model_module_version": "1.2.0",
     "model_name": "LayoutModel",
     "state": {
      "_model_module": "@jupyter-widgets/base",
      "_model_module_version": "1.2.0",
      "_model_name": "LayoutModel",
      "_view_count": null,
      "_view_module": "@jupyter-widgets/base",
      "_view_module_version": "1.2.0",
      "_view_name": "LayoutView",
      "align_content": null,
      "align_items": null,
      "align_self": null,
      "border": null,
      "bottom": null,
      "display": null,
      "flex": null,
      "flex_flow": null,
      "grid_area": null,
      "grid_auto_columns": null,
      "grid_auto_flow": null,
      "grid_auto_rows": null,
      "grid_column": null,
      "grid_gap": null,
      "grid_row": null,
      "grid_template_areas": null,
      "grid_template_columns": null,
      "grid_template_rows": null,
      "height": null,
      "justify_content": null,
      "justify_items": null,
      "left": null,
      "margin": null,
      "max_height": null,
      "max_width": null,
      "min_height": null,
      "min_width": null,
      "object_fit": null,
      "object_position": null,
      "order": null,
      "overflow": null,
      "overflow_x": null,
      "overflow_y": null,
      "padding": null,
      "right": null,
      "top": null,
      "visibility": null,
      "width": null
     }
    },
    "2cd96637c2054f7e8489493d5281508c": {
     "model_module": "@jupyter-widgets/controls",
     "model_module_version": "1.5.0",
     "model_name": "FloatProgressModel",
     "state": {
      "_dom_classes": [],
      "_model_module": "@jupyter-widgets/controls",
      "_model_module_version": "1.5.0",
      "_model_name": "FloatProgressModel",
      "_view_count": null,
      "_view_module": "@jupyter-widgets/controls",
      "_view_module_version": "1.5.0",
      "_view_name": "ProgressView",
      "bar_style": "success",
      "description": "",
      "description_tooltip": null,
      "layout": "IPY_MODEL_5db7d093c33b4e2a8082774769259371",
      "max": 625,
      "min": 0,
      "orientation": "horizontal",
      "style": "IPY_MODEL_bb325f7be9334219a976b70c49578c28",
      "value": 625
     }
    },
    "2d912a15a80142c686e2a4d85ee083d3": {
     "model_module": "@jupyter-widgets/base",
     "model_module_version": "1.2.0",
     "model_name": "LayoutModel",
     "state": {
      "_model_module": "@jupyter-widgets/base",
      "_model_module_version": "1.2.0",
      "_model_name": "LayoutModel",
      "_view_count": null,
      "_view_module": "@jupyter-widgets/base",
      "_view_module_version": "1.2.0",
      "_view_name": "LayoutView",
      "align_content": null,
      "align_items": null,
      "align_self": null,
      "border": null,
      "bottom": null,
      "display": null,
      "flex": null,
      "flex_flow": null,
      "grid_area": null,
      "grid_auto_columns": null,
      "grid_auto_flow": null,
      "grid_auto_rows": null,
      "grid_column": null,
      "grid_gap": null,
      "grid_row": null,
      "grid_template_areas": null,
      "grid_template_columns": null,
      "grid_template_rows": null,
      "height": null,
      "justify_content": null,
      "justify_items": null,
      "left": null,
      "margin": null,
      "max_height": null,
      "max_width": null,
      "min_height": null,
      "min_width": null,
      "object_fit": null,
      "object_position": null,
      "order": null,
      "overflow": null,
      "overflow_x": null,
      "overflow_y": null,
      "padding": null,
      "right": null,
      "top": null,
      "visibility": null,
      "width": null
     }
    },
    "30c4c0cd48464741b15fd40e0c450e77": {
     "model_module": "@jupyter-widgets/base",
     "model_module_version": "1.2.0",
     "model_name": "LayoutModel",
     "state": {
      "_model_module": "@jupyter-widgets/base",
      "_model_module_version": "1.2.0",
      "_model_name": "LayoutModel",
      "_view_count": null,
      "_view_module": "@jupyter-widgets/base",
      "_view_module_version": "1.2.0",
      "_view_name": "LayoutView",
      "align_content": null,
      "align_items": null,
      "align_self": null,
      "border": null,
      "bottom": null,
      "display": null,
      "flex": null,
      "flex_flow": null,
      "grid_area": null,
      "grid_auto_columns": null,
      "grid_auto_flow": null,
      "grid_auto_rows": null,
      "grid_column": null,
      "grid_gap": null,
      "grid_row": null,
      "grid_template_areas": null,
      "grid_template_columns": null,
      "grid_template_rows": null,
      "height": null,
      "justify_content": null,
      "justify_items": null,
      "left": null,
      "margin": null,
      "max_height": null,
      "max_width": null,
      "min_height": null,
      "min_width": null,
      "object_fit": null,
      "object_position": null,
      "order": null,
      "overflow": null,
      "overflow_x": null,
      "overflow_y": null,
      "padding": null,
      "right": null,
      "top": null,
      "visibility": null,
      "width": null
     }
    },
    "32d07b4c240d44f5b7b9894bca42540f": {
     "model_module": "@jupyter-widgets/base",
     "model_module_version": "1.2.0",
     "model_name": "LayoutModel",
     "state": {
      "_model_module": "@jupyter-widgets/base",
      "_model_module_version": "1.2.0",
      "_model_name": "LayoutModel",
      "_view_count": null,
      "_view_module": "@jupyter-widgets/base",
      "_view_module_version": "1.2.0",
      "_view_name": "LayoutView",
      "align_content": null,
      "align_items": null,
      "align_self": null,
      "border": null,
      "bottom": null,
      "display": null,
      "flex": null,
      "flex_flow": null,
      "grid_area": null,
      "grid_auto_columns": null,
      "grid_auto_flow": null,
      "grid_auto_rows": null,
      "grid_column": null,
      "grid_gap": null,
      "grid_row": null,
      "grid_template_areas": null,
      "grid_template_columns": null,
      "grid_template_rows": null,
      "height": null,
      "justify_content": null,
      "justify_items": null,
      "left": null,
      "margin": null,
      "max_height": null,
      "max_width": null,
      "min_height": null,
      "min_width": null,
      "object_fit": null,
      "object_position": null,
      "order": null,
      "overflow": null,
      "overflow_x": null,
      "overflow_y": null,
      "padding": null,
      "right": null,
      "top": null,
      "visibility": null,
      "width": null
     }
    },
    "32df952cd1364acdbb0b19240b4adf48": {
     "model_module": "@jupyter-widgets/controls",
     "model_module_version": "1.5.0",
     "model_name": "HTMLModel",
     "state": {
      "_dom_classes": [],
      "_model_module": "@jupyter-widgets/controls",
      "_model_module_version": "1.5.0",
      "_model_name": "HTMLModel",
      "_view_count": null,
      "_view_module": "@jupyter-widgets/controls",
      "_view_module_version": "1.5.0",
      "_view_name": "HTMLView",
      "description": "",
      "description_tooltip": null,
      "layout": "IPY_MODEL_26327b0bfc984ae0ac60478845121aa0",
      "placeholder": "​",
      "style": "IPY_MODEL_f9c5eddf3686461280d275049ee72790",
      "value": "pytorch_model.bin: 100%"
     }
    },
    "3348d44475c94cb1b98061bfcb53900e": {
     "model_module": "@jupyter-widgets/base",
     "model_module_version": "1.2.0",
     "model_name": "LayoutModel",
     "state": {
      "_model_module": "@jupyter-widgets/base",
      "_model_module_version": "1.2.0",
      "_model_name": "LayoutModel",
      "_view_count": null,
      "_view_module": "@jupyter-widgets/base",
      "_view_module_version": "1.2.0",
      "_view_name": "LayoutView",
      "align_content": null,
      "align_items": null,
      "align_self": null,
      "border": null,
      "bottom": null,
      "display": null,
      "flex": null,
      "flex_flow": null,
      "grid_area": null,
      "grid_auto_columns": null,
      "grid_auto_flow": null,
      "grid_auto_rows": null,
      "grid_column": null,
      "grid_gap": null,
      "grid_row": null,
      "grid_template_areas": null,
      "grid_template_columns": null,
      "grid_template_rows": null,
      "height": null,
      "justify_content": null,
      "justify_items": null,
      "left": null,
      "margin": null,
      "max_height": null,
      "max_width": null,
      "min_height": null,
      "min_width": null,
      "object_fit": null,
      "object_position": null,
      "order": null,
      "overflow": null,
      "overflow_x": null,
      "overflow_y": null,
      "padding": null,
      "right": null,
      "top": null,
      "visibility": null,
      "width": null
     }
    },
    "34720f0f64834830b1c090e5b86ca5c6": {
     "model_module": "@jupyter-widgets/controls",
     "model_module_version": "1.5.0",
     "model_name": "FloatProgressModel",
     "state": {
      "_dom_classes": [],
      "_model_module": "@jupyter-widgets/controls",
      "_model_module_version": "1.5.0",
      "_model_name": "FloatProgressModel",
      "_view_count": null,
      "_view_module": "@jupyter-widgets/controls",
      "_view_module_version": "1.5.0",
      "_view_name": "ProgressView",
      "bar_style": "success",
      "description": "",
      "description_tooltip": null,
      "layout": "IPY_MODEL_f3a35087770b400fa5877ce0e6842536",
      "max": 1961828,
      "min": 0,
      "orientation": "horizontal",
      "style": "IPY_MODEL_89cac8a78da644598575401b3bd024d9",
      "value": 1961828
     }
    },
    "3bb347ee412446e19040d3499a68a31c": {
     "model_module": "@jupyter-widgets/controls",
     "model_module_version": "1.5.0",
     "model_name": "FloatProgressModel",
     "state": {
      "_dom_classes": [],
      "_model_module": "@jupyter-widgets/controls",
      "_model_module_version": "1.5.0",
      "_model_name": "FloatProgressModel",
      "_view_count": null,
      "_view_module": "@jupyter-widgets/controls",
      "_view_module_version": "1.5.0",
      "_view_name": "ProgressView",
      "bar_style": "success",
      "description": "",
      "description_tooltip": null,
      "layout": "IPY_MODEL_3f5d8280b13f4a86a3604fd8a697a381",
      "max": 714290682,
      "min": 0,
      "orientation": "horizontal",
      "style": "IPY_MODEL_dd0d07a703ed49a98f58ec914582192c",
      "value": 714290682
     }
    },
    "3f5d8280b13f4a86a3604fd8a697a381": {
     "model_module": "@jupyter-widgets/base",
     "model_module_version": "1.2.0",
     "model_name": "LayoutModel",
     "state": {
      "_model_module": "@jupyter-widgets/base",
      "_model_module_version": "1.2.0",
      "_model_name": "LayoutModel",
      "_view_count": null,
      "_view_module": "@jupyter-widgets/base",
      "_view_module_version": "1.2.0",
      "_view_name": "LayoutView",
      "align_content": null,
      "align_items": null,
      "align_self": null,
      "border": null,
      "bottom": null,
      "display": null,
      "flex": null,
      "flex_flow": null,
      "grid_area": null,
      "grid_auto_columns": null,
      "grid_auto_flow": null,
      "grid_auto_rows": null,
      "grid_column": null,
      "grid_gap": null,
      "grid_row": null,
      "grid_template_areas": null,
      "grid_template_columns": null,
      "grid_template_rows": null,
      "height": null,
      "justify_content": null,
      "justify_items": null,
      "left": null,
      "margin": null,
      "max_height": null,
      "max_width": null,
      "min_height": null,
      "min_width": null,
      "object_fit": null,
      "object_position": null,
      "order": null,
      "overflow": null,
      "overflow_x": null,
      "overflow_y": null,
      "padding": null,
      "right": null,
      "top": null,
      "visibility": null,
      "width": null
     }
    },
    "422d1a5b399e4941bbec1937d5dee18a": {
     "model_module": "@jupyter-widgets/base",
     "model_module_version": "1.2.0",
     "model_name": "LayoutModel",
     "state": {
      "_model_module": "@jupyter-widgets/base",
      "_model_module_version": "1.2.0",
      "_model_name": "LayoutModel",
      "_view_count": null,
      "_view_module": "@jupyter-widgets/base",
      "_view_module_version": "1.2.0",
      "_view_name": "LayoutView",
      "align_content": null,
      "align_items": null,
      "align_self": null,
      "border": null,
      "bottom": null,
      "display": null,
      "flex": null,
      "flex_flow": null,
      "grid_area": null,
      "grid_auto_columns": null,
      "grid_auto_flow": null,
      "grid_auto_rows": null,
      "grid_column": null,
      "grid_gap": null,
      "grid_row": null,
      "grid_template_areas": null,
      "grid_template_columns": null,
      "grid_template_rows": null,
      "height": null,
      "justify_content": null,
      "justify_items": null,
      "left": null,
      "margin": null,
      "max_height": null,
      "max_width": null,
      "min_height": null,
      "min_width": null,
      "object_fit": null,
      "object_position": null,
      "order": null,
      "overflow": null,
      "overflow_x": null,
      "overflow_y": null,
      "padding": null,
      "right": null,
      "top": null,
      "visibility": null,
      "width": null
     }
    },
    "46738251f2a847faaa21f90ce1c8725f": {
     "model_module": "@jupyter-widgets/base",
     "model_module_version": "1.2.0",
     "model_name": "LayoutModel",
     "state": {
      "_model_module": "@jupyter-widgets/base",
      "_model_module_version": "1.2.0",
      "_model_name": "LayoutModel",
      "_view_count": null,
      "_view_module": "@jupyter-widgets/base",
      "_view_module_version": "1.2.0",
      "_view_name": "LayoutView",
      "align_content": null,
      "align_items": null,
      "align_self": null,
      "border": null,
      "bottom": null,
      "display": null,
      "flex": null,
      "flex_flow": null,
      "grid_area": null,
      "grid_auto_columns": null,
      "grid_auto_flow": null,
      "grid_auto_rows": null,
      "grid_column": null,
      "grid_gap": null,
      "grid_row": null,
      "grid_template_areas": null,
      "grid_template_columns": null,
      "grid_template_rows": null,
      "height": null,
      "justify_content": null,
      "justify_items": null,
      "left": null,
      "margin": null,
      "max_height": null,
      "max_width": null,
      "min_height": null,
      "min_width": null,
      "object_fit": null,
      "object_position": null,
      "order": null,
      "overflow": null,
      "overflow_x": null,
      "overflow_y": null,
      "padding": null,
      "right": null,
      "top": null,
      "visibility": null,
      "width": null
     }
    },
    "4696479d8ba840738d9a0bbec847c17b": {
     "model_module": "@jupyter-widgets/controls",
     "model_module_version": "1.5.0",
     "model_name": "HBoxModel",
     "state": {
      "_dom_classes": [],
      "_model_module": "@jupyter-widgets/controls",
      "_model_module_version": "1.5.0",
      "_model_name": "HBoxModel",
      "_view_count": null,
      "_view_module": "@jupyter-widgets/controls",
      "_view_module_version": "1.5.0",
      "_view_name": "HBoxView",
      "box_style": "",
      "children": [
       "IPY_MODEL_ed194bf6757a450f96d791fd7e0ecbd0",
       "IPY_MODEL_3bb347ee412446e19040d3499a68a31c",
       "IPY_MODEL_4fc089ca629e46179c17939fa94782bf"
      ],
      "layout": "IPY_MODEL_1cba16906e3147ecadbc6706de0c39d6"
     }
    },
    "46f1132276e742fb909466adf9d26fe9": {
     "model_module": "@jupyter-widgets/controls",
     "model_module_version": "1.5.0",
     "model_name": "DescriptionStyleModel",
     "state": {
      "_model_module": "@jupyter-widgets/controls",
      "_model_module_version": "1.5.0",
      "_model_name": "DescriptionStyleModel",
      "_view_count": null,
      "_view_module": "@jupyter-widgets/base",
      "_view_module_version": "1.2.0",
      "_view_name": "StyleView",
      "description_width": ""
     }
    },
    "4b9dde8db8da4462b28fd0793ceb5d5a": {
     "model_module": "@jupyter-widgets/controls",
     "model_module_version": "1.5.0",
     "model_name": "ProgressStyleModel",
     "state": {
      "_model_module": "@jupyter-widgets/controls",
      "_model_module_version": "1.5.0",
      "_model_name": "ProgressStyleModel",
      "_view_count": null,
      "_view_module": "@jupyter-widgets/base",
      "_view_module_version": "1.2.0",
      "_view_name": "StyleView",
      "bar_color": null,
      "description_width": ""
     }
    },
    "4fc089ca629e46179c17939fa94782bf": {
     "model_module": "@jupyter-widgets/controls",
     "model_module_version": "1.5.0",
     "model_name": "HTMLModel",
     "state": {
      "_dom_classes": [],
      "_model_module": "@jupyter-widgets/controls",
      "_model_module_version": "1.5.0",
      "_model_name": "HTMLModel",
      "_view_count": null,
      "_view_module": "@jupyter-widgets/controls",
      "_view_module_version": "1.5.0",
      "_view_name": "HTMLView",
      "description": "",
      "description_tooltip": null,
      "layout": "IPY_MODEL_32d07b4c240d44f5b7b9894bca42540f",
      "placeholder": "​",
      "style": "IPY_MODEL_eea8c8d16bc04a93af2aabf6b526728b",
      "value": " 714M/714M [00:05&lt;00:00, 153MB/s]"
     }
    },
    "52362e3759cb4b3f808c602671700337": {
     "model_module": "@jupyter-widgets/base",
     "model_module_version": "1.2.0",
     "model_name": "LayoutModel",
     "state": {
      "_model_module": "@jupyter-widgets/base",
      "_model_module_version": "1.2.0",
      "_model_name": "LayoutModel",
      "_view_count": null,
      "_view_module": "@jupyter-widgets/base",
      "_view_module_version": "1.2.0",
      "_view_name": "LayoutView",
      "align_content": null,
      "align_items": null,
      "align_self": null,
      "border": null,
      "bottom": null,
      "display": null,
      "flex": null,
      "flex_flow": null,
      "grid_area": null,
      "grid_auto_columns": null,
      "grid_auto_flow": null,
      "grid_auto_rows": null,
      "grid_column": null,
      "grid_gap": null,
      "grid_row": null,
      "grid_template_areas": null,
      "grid_template_columns": null,
      "grid_template_rows": null,
      "height": null,
      "justify_content": null,
      "justify_items": null,
      "left": null,
      "margin": null,
      "max_height": null,
      "max_width": null,
      "min_height": null,
      "min_width": null,
      "object_fit": null,
      "object_position": null,
      "order": null,
      "overflow": null,
      "overflow_x": null,
      "overflow_y": null,
      "padding": null,
      "right": null,
      "top": null,
      "visibility": null,
      "width": null
     }
    },
    "527e76b798d444fb9c088467f8fa9e4c": {
     "model_module": "@jupyter-widgets/controls",
     "model_module_version": "1.5.0",
     "model_name": "FloatProgressModel",
     "state": {
      "_dom_classes": [],
      "_model_module": "@jupyter-widgets/controls",
      "_model_module_version": "1.5.0",
      "_model_name": "FloatProgressModel",
      "_view_count": null,
      "_view_module": "@jupyter-widgets/controls",
      "_view_module_version": "1.5.0",
      "_view_name": "ProgressView",
      "bar_style": "success",
      "description": "",
      "description_tooltip": null,
      "layout": "IPY_MODEL_611e6c598aa3483bb2c0143f2cd498cd",
      "max": 995526,
      "min": 0,
      "orientation": "horizontal",
      "style": "IPY_MODEL_d8b4b59278814e38a249ff6e7a1b0885",
      "value": 995526
     }
    },
    "538dd1ab4c82412b83dee2d6f709f994": {
     "model_module": "@jupyter-widgets/base",
     "model_module_version": "1.2.0",
     "model_name": "LayoutModel",
     "state": {
      "_model_module": "@jupyter-widgets/base",
      "_model_module_version": "1.2.0",
      "_model_name": "LayoutModel",
      "_view_count": null,
      "_view_module": "@jupyter-widgets/base",
      "_view_module_version": "1.2.0",
      "_view_name": "LayoutView",
      "align_content": null,
      "align_items": null,
      "align_self": null,
      "border": null,
      "bottom": null,
      "display": null,
      "flex": null,
      "flex_flow": null,
      "grid_area": null,
      "grid_auto_columns": null,
      "grid_auto_flow": null,
      "grid_auto_rows": null,
      "grid_column": null,
      "grid_gap": null,
      "grid_row": null,
      "grid_template_areas": null,
      "grid_template_columns": null,
      "grid_template_rows": null,
      "height": null,
      "justify_content": null,
      "justify_items": null,
      "left": null,
      "margin": null,
      "max_height": null,
      "max_width": null,
      "min_height": null,
      "min_width": null,
      "object_fit": null,
      "object_position": null,
      "order": null,
      "overflow": null,
      "overflow_x": null,
      "overflow_y": null,
      "padding": null,
      "right": null,
      "top": null,
      "visibility": null,
      "width": null
     }
    },
    "569fcbc6a1c44d52b64226dbe4d5451e": {
     "model_module": "@jupyter-widgets/base",
     "model_module_version": "1.2.0",
     "model_name": "LayoutModel",
     "state": {
      "_model_module": "@jupyter-widgets/base",
      "_model_module_version": "1.2.0",
      "_model_name": "LayoutModel",
      "_view_count": null,
      "_view_module": "@jupyter-widgets/base",
      "_view_module_version": "1.2.0",
      "_view_name": "LayoutView",
      "align_content": null,
      "align_items": null,
      "align_self": null,
      "border": null,
      "bottom": null,
      "display": null,
      "flex": null,
      "flex_flow": null,
      "grid_area": null,
      "grid_auto_columns": null,
      "grid_auto_flow": null,
      "grid_auto_rows": null,
      "grid_column": null,
      "grid_gap": null,
      "grid_row": null,
      "grid_template_areas": null,
      "grid_template_columns": null,
      "grid_template_rows": null,
      "height": null,
      "justify_content": null,
      "justify_items": null,
      "left": null,
      "margin": null,
      "max_height": null,
      "max_width": null,
      "min_height": null,
      "min_width": null,
      "object_fit": null,
      "object_position": null,
      "order": null,
      "overflow": null,
      "overflow_x": null,
      "overflow_y": null,
      "padding": null,
      "right": null,
      "top": null,
      "visibility": null,
      "width": null
     }
    },
    "56fd94b10ecc43178e1865f37f5e20e4": {
     "model_module": "@jupyter-widgets/controls",
     "model_module_version": "1.5.0",
     "model_name": "DescriptionStyleModel",
     "state": {
      "_model_module": "@jupyter-widgets/controls",
      "_model_module_version": "1.5.0",
      "_model_name": "DescriptionStyleModel",
      "_view_count": null,
      "_view_module": "@jupyter-widgets/base",
      "_view_module_version": "1.2.0",
      "_view_name": "StyleView",
      "description_width": ""
     }
    },
    "56fdffe8b977489b9ec2e5ea8a40edf5": {
     "model_module": "@jupyter-widgets/controls",
     "model_module_version": "1.5.0",
     "model_name": "DescriptionStyleModel",
     "state": {
      "_model_module": "@jupyter-widgets/controls",
      "_model_module_version": "1.5.0",
      "_model_name": "DescriptionStyleModel",
      "_view_count": null,
      "_view_module": "@jupyter-widgets/base",
      "_view_module_version": "1.2.0",
      "_view_name": "StyleView",
      "description_width": ""
     }
    },
    "5a150d2dafa1478cb605c03ae1b6f11c": {
     "model_module": "@jupyter-widgets/base",
     "model_module_version": "1.2.0",
     "model_name": "LayoutModel",
     "state": {
      "_model_module": "@jupyter-widgets/base",
      "_model_module_version": "1.2.0",
      "_model_name": "LayoutModel",
      "_view_count": null,
      "_view_module": "@jupyter-widgets/base",
      "_view_module_version": "1.2.0",
      "_view_name": "LayoutView",
      "align_content": null,
      "align_items": null,
      "align_self": null,
      "border": null,
      "bottom": null,
      "display": null,
      "flex": null,
      "flex_flow": null,
      "grid_area": null,
      "grid_auto_columns": null,
      "grid_auto_flow": null,
      "grid_auto_rows": null,
      "grid_column": null,
      "grid_gap": null,
      "grid_row": null,
      "grid_template_areas": null,
      "grid_template_columns": null,
      "grid_template_rows": null,
      "height": null,
      "justify_content": null,
      "justify_items": null,
      "left": null,
      "margin": null,
      "max_height": null,
      "max_width": null,
      "min_height": null,
      "min_width": null,
      "object_fit": null,
      "object_position": null,
      "order": null,
      "overflow": null,
      "overflow_x": null,
      "overflow_y": null,
      "padding": null,
      "right": null,
      "top": null,
      "visibility": null,
      "width": null
     }
    },
    "5db7d093c33b4e2a8082774769259371": {
     "model_module": "@jupyter-widgets/base",
     "model_module_version": "1.2.0",
     "model_name": "LayoutModel",
     "state": {
      "_model_module": "@jupyter-widgets/base",
      "_model_module_version": "1.2.0",
      "_model_name": "LayoutModel",
      "_view_count": null,
      "_view_module": "@jupyter-widgets/base",
      "_view_module_version": "1.2.0",
      "_view_name": "LayoutView",
      "align_content": null,
      "align_items": null,
      "align_self": null,
      "border": null,
      "bottom": null,
      "display": null,
      "flex": null,
      "flex_flow": null,
      "grid_area": null,
      "grid_auto_columns": null,
      "grid_auto_flow": null,
      "grid_auto_rows": null,
      "grid_column": null,
      "grid_gap": null,
      "grid_row": null,
      "grid_template_areas": null,
      "grid_template_columns": null,
      "grid_template_rows": null,
      "height": null,
      "justify_content": null,
      "justify_items": null,
      "left": null,
      "margin": null,
      "max_height": null,
      "max_width": null,
      "min_height": null,
      "min_width": null,
      "object_fit": null,
      "object_position": null,
      "order": null,
      "overflow": null,
      "overflow_x": null,
      "overflow_y": null,
      "padding": null,
      "right": null,
      "top": null,
      "visibility": null,
      "width": null
     }
    },
    "6074bfa7ab5145ad91c79fcac9875f3c": {
     "model_module": "@jupyter-widgets/base",
     "model_module_version": "1.2.0",
     "model_name": "LayoutModel",
     "state": {
      "_model_module": "@jupyter-widgets/base",
      "_model_module_version": "1.2.0",
      "_model_name": "LayoutModel",
      "_view_count": null,
      "_view_module": "@jupyter-widgets/base",
      "_view_module_version": "1.2.0",
      "_view_name": "LayoutView",
      "align_content": null,
      "align_items": null,
      "align_self": null,
      "border": null,
      "bottom": null,
      "display": null,
      "flex": null,
      "flex_flow": null,
      "grid_area": null,
      "grid_auto_columns": null,
      "grid_auto_flow": null,
      "grid_auto_rows": null,
      "grid_column": null,
      "grid_gap": null,
      "grid_row": null,
      "grid_template_areas": null,
      "grid_template_columns": null,
      "grid_template_rows": null,
      "height": null,
      "justify_content": null,
      "justify_items": null,
      "left": null,
      "margin": null,
      "max_height": null,
      "max_width": null,
      "min_height": null,
      "min_width": null,
      "object_fit": null,
      "object_position": null,
      "order": null,
      "overflow": null,
      "overflow_x": null,
      "overflow_y": null,
      "padding": null,
      "right": null,
      "top": null,
      "visibility": null,
      "width": null
     }
    },
    "611e6c598aa3483bb2c0143f2cd498cd": {
     "model_module": "@jupyter-widgets/base",
     "model_module_version": "1.2.0",
     "model_name": "LayoutModel",
     "state": {
      "_model_module": "@jupyter-widgets/base",
      "_model_module_version": "1.2.0",
      "_model_name": "LayoutModel",
      "_view_count": null,
      "_view_module": "@jupyter-widgets/base",
      "_view_module_version": "1.2.0",
      "_view_name": "LayoutView",
      "align_content": null,
      "align_items": null,
      "align_self": null,
      "border": null,
      "bottom": null,
      "display": null,
      "flex": null,
      "flex_flow": null,
      "grid_area": null,
      "grid_auto_columns": null,
      "grid_auto_flow": null,
      "grid_auto_rows": null,
      "grid_column": null,
      "grid_gap": null,
      "grid_row": null,
      "grid_template_areas": null,
      "grid_template_columns": null,
      "grid_template_rows": null,
      "height": null,
      "justify_content": null,
      "justify_items": null,
      "left": null,
      "margin": null,
      "max_height": null,
      "max_width": null,
      "min_height": null,
      "min_width": null,
      "object_fit": null,
      "object_position": null,
      "order": null,
      "overflow": null,
      "overflow_x": null,
      "overflow_y": null,
      "padding": null,
      "right": null,
      "top": null,
      "visibility": null,
      "width": null
     }
    },
    "644aa53bc9a047d1a4938cf9aa3de6e4": {
     "model_module": "@jupyter-widgets/base",
     "model_module_version": "1.2.0",
     "model_name": "LayoutModel",
     "state": {
      "_model_module": "@jupyter-widgets/base",
      "_model_module_version": "1.2.0",
      "_model_name": "LayoutModel",
      "_view_count": null,
      "_view_module": "@jupyter-widgets/base",
      "_view_module_version": "1.2.0",
      "_view_name": "LayoutView",
      "align_content": null,
      "align_items": null,
      "align_self": null,
      "border": null,
      "bottom": null,
      "display": null,
      "flex": null,
      "flex_flow": null,
      "grid_area": null,
      "grid_auto_columns": null,
      "grid_auto_flow": null,
      "grid_auto_rows": null,
      "grid_column": null,
      "grid_gap": null,
      "grid_row": null,
      "grid_template_areas": null,
      "grid_template_columns": null,
      "grid_template_rows": null,
      "height": null,
      "justify_content": null,
      "justify_items": null,
      "left": null,
      "margin": null,
      "max_height": null,
      "max_width": null,
      "min_height": null,
      "min_width": null,
      "object_fit": null,
      "object_position": null,
      "order": null,
      "overflow": null,
      "overflow_x": null,
      "overflow_y": null,
      "padding": null,
      "right": null,
      "top": null,
      "visibility": null,
      "width": null
     }
    },
    "6531766795024285ab5dcb1828072349": {
     "model_module": "@jupyter-widgets/controls",
     "model_module_version": "1.5.0",
     "model_name": "ProgressStyleModel",
     "state": {
      "_model_module": "@jupyter-widgets/controls",
      "_model_module_version": "1.5.0",
      "_model_name": "ProgressStyleModel",
      "_view_count": null,
      "_view_module": "@jupyter-widgets/base",
      "_view_module_version": "1.2.0",
      "_view_name": "StyleView",
      "bar_color": null,
      "description_width": ""
     }
    },
    "66de85187d564d16953e5d45a48466d5": {
     "model_module": "@jupyter-widgets/controls",
     "model_module_version": "1.5.0",
     "model_name": "HTMLModel",
     "state": {
      "_dom_classes": [],
      "_model_module": "@jupyter-widgets/controls",
      "_model_module_version": "1.5.0",
      "_model_name": "HTMLModel",
      "_view_count": null,
      "_view_module": "@jupyter-widgets/controls",
      "_view_module_version": "1.5.0",
      "_view_name": "HTMLView",
      "description": "",
      "description_tooltip": null,
      "layout": "IPY_MODEL_134d4d993a884a6e8c4fc86dedb75b21",
      "placeholder": "​",
      "style": "IPY_MODEL_b6af3a537d524dfd8c48b06001d860b5",
      "value": "vocab.txt: 100%"
     }
    },
    "6a137696522c4a6ca2c8ad9dc7e9acd5": {
     "model_module": "@jupyter-widgets/controls",
     "model_module_version": "1.5.0",
     "model_name": "FloatProgressModel",
     "state": {
      "_dom_classes": [],
      "_model_module": "@jupyter-widgets/controls",
      "_model_module_version": "1.5.0",
      "_model_name": "FloatProgressModel",
      "_view_count": null,
      "_view_module": "@jupyter-widgets/controls",
      "_view_module_version": "1.5.0",
      "_view_name": "ProgressView",
      "bar_style": "success",
      "description": "",
      "description_tooltip": null,
      "layout": "IPY_MODEL_73cfb114ca204454900aa142feedaa47",
      "max": 701,
      "min": 0,
      "orientation": "horizontal",
      "style": "IPY_MODEL_945d2960866041a7bc653dfe62a40211",
      "value": 701
     }
    },
    "6c4a5936add74d4cadffe7e6d9dfba73": {
     "model_module": "@jupyter-widgets/controls",
     "model_module_version": "1.5.0",
     "model_name": "DescriptionStyleModel",
     "state": {
      "_model_module": "@jupyter-widgets/controls",
      "_model_module_version": "1.5.0",
      "_model_name": "DescriptionStyleModel",
      "_view_count": null,
      "_view_module": "@jupyter-widgets/base",
      "_view_module_version": "1.2.0",
      "_view_name": "StyleView",
      "description_width": ""
     }
    },
    "6fc971d8f2f24a62be8f9b3ff4301ba5": {
     "model_module": "@jupyter-widgets/controls",
     "model_module_version": "1.5.0",
     "model_name": "ProgressStyleModel",
     "state": {
      "_model_module": "@jupyter-widgets/controls",
      "_model_module_version": "1.5.0",
      "_model_name": "ProgressStyleModel",
      "_view_count": null,
      "_view_module": "@jupyter-widgets/base",
      "_view_module_version": "1.2.0",
      "_view_name": "StyleView",
      "bar_color": null,
      "description_width": ""
     }
    },
    "700c4a3194f241eaa4ae36b9fa476914": {
     "model_module": "@jupyter-widgets/controls",
     "model_module_version": "1.5.0",
     "model_name": "DescriptionStyleModel",
     "state": {
      "_model_module": "@jupyter-widgets/controls",
      "_model_module_version": "1.5.0",
      "_model_name": "DescriptionStyleModel",
      "_view_count": null,
      "_view_module": "@jupyter-widgets/base",
      "_view_module_version": "1.2.0",
      "_view_name": "StyleView",
      "description_width": ""
     }
    },
    "715c99ee56c244d6b9f79384e293333b": {
     "model_module": "@jupyter-widgets/controls",
     "model_module_version": "1.5.0",
     "model_name": "FloatProgressModel",
     "state": {
      "_dom_classes": [],
      "_model_module": "@jupyter-widgets/controls",
      "_model_module_version": "1.5.0",
      "_model_name": "FloatProgressModel",
      "_view_count": null,
      "_view_module": "@jupyter-widgets/controls",
      "_view_module_version": "1.5.0",
      "_view_name": "ProgressView",
      "bar_style": "success",
      "description": "",
      "description_tooltip": null,
      "layout": "IPY_MODEL_84fc974f3f8c40199788427160646b56",
      "max": 409251346,
      "min": 0,
      "orientation": "horizontal",
      "style": "IPY_MODEL_4b9dde8db8da4462b28fd0793ceb5d5a",
      "value": 409251346
     }
    },
    "720a589cb35d45f4aebf20dd2b73b07f": {
     "model_module": "@jupyter-widgets/controls",
     "model_module_version": "1.5.0",
     "model_name": "HBoxModel",
     "state": {
      "_dom_classes": [],
      "_model_module": "@jupyter-widgets/controls",
      "_model_module_version": "1.5.0",
      "_model_name": "HBoxModel",
      "_view_count": null,
      "_view_module": "@jupyter-widgets/controls",
      "_view_module_version": "1.5.0",
      "_view_name": "HBoxView",
      "box_style": "",
      "children": [
       "IPY_MODEL_9858cb49cdc247b1abd923428afb691e",
       "IPY_MODEL_8fb4f3b706b14ed9bd565fa9ec9a6f9e",
       "IPY_MODEL_238e7b4c12d644f9aa05c4f4c593d4cf"
      ],
      "layout": "IPY_MODEL_d45bef2c5ce5422b8fd150dfb3378562"
     }
    },
    "733616701add43a0b47e2565c67cc277": {
     "model_module": "@jupyter-widgets/controls",
     "model_module_version": "1.5.0",
     "model_name": "DescriptionStyleModel",
     "state": {
      "_model_module": "@jupyter-widgets/controls",
      "_model_module_version": "1.5.0",
      "_model_name": "DescriptionStyleModel",
      "_view_count": null,
      "_view_module": "@jupyter-widgets/base",
      "_view_module_version": "1.2.0",
      "_view_name": "StyleView",
      "description_width": ""
     }
    },
    "73cfb114ca204454900aa142feedaa47": {
     "model_module": "@jupyter-widgets/base",
     "model_module_version": "1.2.0",
     "model_name": "LayoutModel",
     "state": {
      "_model_module": "@jupyter-widgets/base",
      "_model_module_version": "1.2.0",
      "_model_name": "LayoutModel",
      "_view_count": null,
      "_view_module": "@jupyter-widgets/base",
      "_view_module_version": "1.2.0",
      "_view_name": "LayoutView",
      "align_content": null,
      "align_items": null,
      "align_self": null,
      "border": null,
      "bottom": null,
      "display": null,
      "flex": null,
      "flex_flow": null,
      "grid_area": null,
      "grid_auto_columns": null,
      "grid_auto_flow": null,
      "grid_auto_rows": null,
      "grid_column": null,
      "grid_gap": null,
      "grid_row": null,
      "grid_template_areas": null,
      "grid_template_columns": null,
      "grid_template_rows": null,
      "height": null,
      "justify_content": null,
      "justify_items": null,
      "left": null,
      "margin": null,
      "max_height": null,
      "max_width": null,
      "min_height": null,
      "min_width": null,
      "object_fit": null,
      "object_position": null,
      "order": null,
      "overflow": null,
      "overflow_x": null,
      "overflow_y": null,
      "padding": null,
      "right": null,
      "top": null,
      "visibility": null,
      "width": null
     }
    },
    "759bab7844094ada9fe4d454058e3b3e": {
     "model_module": "@jupyter-widgets/controls",
     "model_module_version": "1.5.0",
     "model_name": "DescriptionStyleModel",
     "state": {
      "_model_module": "@jupyter-widgets/controls",
      "_model_module_version": "1.5.0",
      "_model_name": "DescriptionStyleModel",
      "_view_count": null,
      "_view_module": "@jupyter-widgets/base",
      "_view_module_version": "1.2.0",
      "_view_name": "StyleView",
      "description_width": ""
     }
    },
    "76b82f63b5cc49ebbbd4e97ff4820a50": {
     "model_module": "@jupyter-widgets/controls",
     "model_module_version": "1.5.0",
     "model_name": "HTMLModel",
     "state": {
      "_dom_classes": [],
      "_model_module": "@jupyter-widgets/controls",
      "_model_module_version": "1.5.0",
      "_model_name": "HTMLModel",
      "_view_count": null,
      "_view_module": "@jupyter-widgets/controls",
      "_view_module_version": "1.5.0",
      "_view_name": "HTMLView",
      "description": "",
      "description_tooltip": null,
      "layout": "IPY_MODEL_be5bf2d5e1a7442dad9e0439d50579f5",
      "placeholder": "​",
      "style": "IPY_MODEL_46f1132276e742fb909466adf9d26fe9",
      "value": " 409M/409M [00:06&lt;00:00, 125MB/s]"
     }
    },
    "7a6208ceae814dc69046c5a7a8f6d9b6": {
     "model_module": "@jupyter-widgets/controls",
     "model_module_version": "1.5.0",
     "model_name": "HTMLModel",
     "state": {
      "_dom_classes": [],
      "_model_module": "@jupyter-widgets/controls",
      "_model_module_version": "1.5.0",
      "_model_name": "HTMLModel",
      "_view_count": null,
      "_view_module": "@jupyter-widgets/controls",
      "_view_module_version": "1.5.0",
      "_view_name": "HTMLView",
      "description": "",
      "description_tooltip": null,
      "layout": "IPY_MODEL_6074bfa7ab5145ad91c79fcac9875f3c",
      "placeholder": "​",
      "style": "IPY_MODEL_6c4a5936add74d4cadffe7e6d9dfba73",
      "value": "vocab.txt: 100%"
     }
    },
    "7c3c148f9b90423385d516070de18258": {
     "model_module": "@jupyter-widgets/controls",
     "model_module_version": "1.5.0",
     "model_name": "ProgressStyleModel",
     "state": {
      "_model_module": "@jupyter-widgets/controls",
      "_model_module_version": "1.5.0",
      "_model_name": "ProgressStyleModel",
      "_view_count": null,
      "_view_module": "@jupyter-widgets/base",
      "_view_module_version": "1.2.0",
      "_view_name": "StyleView",
      "bar_color": null,
      "description_width": ""
     }
    },
    "7fd9db41a1ad42f3b5aff4d361943bb6": {
     "model_module": "@jupyter-widgets/base",
     "model_module_version": "1.2.0",
     "model_name": "LayoutModel",
     "state": {
      "_model_module": "@jupyter-widgets/base",
      "_model_module_version": "1.2.0",
      "_model_name": "LayoutModel",
      "_view_count": null,
      "_view_module": "@jupyter-widgets/base",
      "_view_module_version": "1.2.0",
      "_view_name": "LayoutView",
      "align_content": null,
      "align_items": null,
      "align_self": null,
      "border": null,
      "bottom": null,
      "display": null,
      "flex": null,
      "flex_flow": null,
      "grid_area": null,
      "grid_auto_columns": null,
      "grid_auto_flow": null,
      "grid_auto_rows": null,
      "grid_column": null,
      "grid_gap": null,
      "grid_row": null,
      "grid_template_areas": null,
      "grid_template_columns": null,
      "grid_template_rows": null,
      "height": null,
      "justify_content": null,
      "justify_items": null,
      "left": null,
      "margin": null,
      "max_height": null,
      "max_width": null,
      "min_height": null,
      "min_width": null,
      "object_fit": null,
      "object_position": null,
      "order": null,
      "overflow": null,
      "overflow_x": null,
      "overflow_y": null,
      "padding": null,
      "right": null,
      "top": null,
      "visibility": null,
      "width": null
     }
    },
    "82a629771ba64d33bd22296eea4422c9": {
     "model_module": "@jupyter-widgets/base",
     "model_module_version": "1.2.0",
     "model_name": "LayoutModel",
     "state": {
      "_model_module": "@jupyter-widgets/base",
      "_model_module_version": "1.2.0",
      "_model_name": "LayoutModel",
      "_view_count": null,
      "_view_module": "@jupyter-widgets/base",
      "_view_module_version": "1.2.0",
      "_view_name": "LayoutView",
      "align_content": null,
      "align_items": null,
      "align_self": null,
      "border": null,
      "bottom": null,
      "display": null,
      "flex": null,
      "flex_flow": null,
      "grid_area": null,
      "grid_auto_columns": null,
      "grid_auto_flow": null,
      "grid_auto_rows": null,
      "grid_column": null,
      "grid_gap": null,
      "grid_row": null,
      "grid_template_areas": null,
      "grid_template_columns": null,
      "grid_template_rows": null,
      "height": null,
      "justify_content": null,
      "justify_items": null,
      "left": null,
      "margin": null,
      "max_height": null,
      "max_width": null,
      "min_height": null,
      "min_width": null,
      "object_fit": null,
      "object_position": null,
      "order": null,
      "overflow": null,
      "overflow_x": null,
      "overflow_y": null,
      "padding": null,
      "right": null,
      "top": null,
      "visibility": null,
      "width": null
     }
    },
    "84fc974f3f8c40199788427160646b56": {
     "model_module": "@jupyter-widgets/base",
     "model_module_version": "1.2.0",
     "model_name": "LayoutModel",
     "state": {
      "_model_module": "@jupyter-widgets/base",
      "_model_module_version": "1.2.0",
      "_model_name": "LayoutModel",
      "_view_count": null,
      "_view_module": "@jupyter-widgets/base",
      "_view_module_version": "1.2.0",
      "_view_name": "LayoutView",
      "align_content": null,
      "align_items": null,
      "align_self": null,
      "border": null,
      "bottom": null,
      "display": null,
      "flex": null,
      "flex_flow": null,
      "grid_area": null,
      "grid_auto_columns": null,
      "grid_auto_flow": null,
      "grid_auto_rows": null,
      "grid_column": null,
      "grid_gap": null,
      "grid_row": null,
      "grid_template_areas": null,
      "grid_template_columns": null,
      "grid_template_rows": null,
      "height": null,
      "justify_content": null,
      "justify_items": null,
      "left": null,
      "margin": null,
      "max_height": null,
      "max_width": null,
      "min_height": null,
      "min_width": null,
      "object_fit": null,
      "object_position": null,
      "order": null,
      "overflow": null,
      "overflow_x": null,
      "overflow_y": null,
      "padding": null,
      "right": null,
      "top": null,
      "visibility": null,
      "width": null
     }
    },
    "89cac8a78da644598575401b3bd024d9": {
     "model_module": "@jupyter-widgets/controls",
     "model_module_version": "1.5.0",
     "model_name": "ProgressStyleModel",
     "state": {
      "_model_module": "@jupyter-widgets/controls",
      "_model_module_version": "1.5.0",
      "_model_name": "ProgressStyleModel",
      "_view_count": null,
      "_view_module": "@jupyter-widgets/base",
      "_view_module_version": "1.2.0",
      "_view_name": "StyleView",
      "bar_color": null,
      "description_width": ""
     }
    },
    "8d5911ca7c2241d8a2bdb3a5f77a31e6": {
     "model_module": "@jupyter-widgets/controls",
     "model_module_version": "1.5.0",
     "model_name": "FloatProgressModel",
     "state": {
      "_dom_classes": [],
      "_model_module": "@jupyter-widgets/controls",
      "_model_module_version": "1.5.0",
      "_model_name": "FloatProgressModel",
      "_view_count": null,
      "_view_module": "@jupyter-widgets/controls",
      "_view_module_version": "1.5.0",
      "_view_name": "ProgressView",
      "bar_style": "success",
      "description": "",
      "description_tooltip": null,
      "layout": "IPY_MODEL_9370f273eb4647c4bdeadfe48dcee187",
      "max": 725,
      "min": 0,
      "orientation": "horizontal",
      "style": "IPY_MODEL_b02773cc93624856906bd903ae3dff37",
      "value": 725
     }
    },
    "8fb4f3b706b14ed9bd565fa9ec9a6f9e": {
     "model_module": "@jupyter-widgets/controls",
     "model_module_version": "1.5.0",
     "model_name": "FloatProgressModel",
     "state": {
      "_dom_classes": [],
      "_model_module": "@jupyter-widgets/controls",
      "_model_module_version": "1.5.0",
      "_model_name": "FloatProgressModel",
      "_view_count": null,
      "_view_module": "@jupyter-widgets/controls",
      "_view_module_version": "1.5.0",
      "_view_name": "ProgressView",
      "bar_style": "success",
      "description": "",
      "description_tooltip": null,
      "layout": "IPY_MODEL_0c734c2af04840a3af651a31e0ae33ee",
      "max": 80,
      "min": 0,
      "orientation": "horizontal",
      "style": "IPY_MODEL_6fc971d8f2f24a62be8f9b3ff4301ba5",
      "value": 80
     }
    },
    "907bc2da70694082b8147f9502c5983f": {
     "model_module": "@jupyter-widgets/base",
     "model_module_version": "1.2.0",
     "model_name": "LayoutModel",
     "state": {
      "_model_module": "@jupyter-widgets/base",
      "_model_module_version": "1.2.0",
      "_model_name": "LayoutModel",
      "_view_count": null,
      "_view_module": "@jupyter-widgets/base",
      "_view_module_version": "1.2.0",
      "_view_name": "LayoutView",
      "align_content": null,
      "align_items": null,
      "align_self": null,
      "border": null,
      "bottom": null,
      "display": null,
      "flex": null,
      "flex_flow": null,
      "grid_area": null,
      "grid_auto_columns": null,
      "grid_auto_flow": null,
      "grid_auto_rows": null,
      "grid_column": null,
      "grid_gap": null,
      "grid_row": null,
      "grid_template_areas": null,
      "grid_template_columns": null,
      "grid_template_rows": null,
      "height": null,
      "justify_content": null,
      "justify_items": null,
      "left": null,
      "margin": null,
      "max_height": null,
      "max_width": null,
      "min_height": null,
      "min_width": null,
      "object_fit": null,
      "object_position": null,
      "order": null,
      "overflow": null,
      "overflow_x": null,
      "overflow_y": null,
      "padding": null,
      "right": null,
      "top": null,
      "visibility": null,
      "width": null
     }
    },
    "918e1783d17e44f79cfd44a9e9e1e009": {
     "model_module": "@jupyter-widgets/controls",
     "model_module_version": "1.5.0",
     "model_name": "DescriptionStyleModel",
     "state": {
      "_model_module": "@jupyter-widgets/controls",
      "_model_module_version": "1.5.0",
      "_model_name": "DescriptionStyleModel",
      "_view_count": null,
      "_view_module": "@jupyter-widgets/base",
      "_view_module_version": "1.2.0",
      "_view_name": "StyleView",
      "description_width": ""
     }
    },
    "926df48f58ae43e0b55924dc10143d60": {
     "model_module": "@jupyter-widgets/controls",
     "model_module_version": "1.5.0",
     "model_name": "HBoxModel",
     "state": {
      "_dom_classes": [],
      "_model_module": "@jupyter-widgets/controls",
      "_model_module_version": "1.5.0",
      "_model_name": "HBoxModel",
      "_view_count": null,
      "_view_module": "@jupyter-widgets/controls",
      "_view_module_version": "1.5.0",
      "_view_name": "HBoxView",
      "box_style": "",
      "children": [
       "IPY_MODEL_e1c08ebdce2346a3a9be94d10fb29fb7",
       "IPY_MODEL_34720f0f64834830b1c090e5b86ca5c6",
       "IPY_MODEL_e45bbf5f1ed0479c91c2a5ffd920af56"
      ],
      "layout": "IPY_MODEL_0563cfc3dc7a4334a53b03abea67bf34"
     }
    },
    "9370f273eb4647c4bdeadfe48dcee187": {
     "model_module": "@jupyter-widgets/base",
     "model_module_version": "1.2.0",
     "model_name": "LayoutModel",
     "state": {
      "_model_module": "@jupyter-widgets/base",
      "_model_module_version": "1.2.0",
      "_model_name": "LayoutModel",
      "_view_count": null,
      "_view_module": "@jupyter-widgets/base",
      "_view_module_version": "1.2.0",
      "_view_name": "LayoutView",
      "align_content": null,
      "align_items": null,
      "align_self": null,
      "border": null,
      "bottom": null,
      "display": null,
      "flex": null,
      "flex_flow": null,
      "grid_area": null,
      "grid_auto_columns": null,
      "grid_auto_flow": null,
      "grid_auto_rows": null,
      "grid_column": null,
      "grid_gap": null,
      "grid_row": null,
      "grid_template_areas": null,
      "grid_template_columns": null,
      "grid_template_rows": null,
      "height": null,
      "justify_content": null,
      "justify_items": null,
      "left": null,
      "margin": null,
      "max_height": null,
      "max_width": null,
      "min_height": null,
      "min_width": null,
      "object_fit": null,
      "object_position": null,
      "order": null,
      "overflow": null,
      "overflow_x": null,
      "overflow_y": null,
      "padding": null,
      "right": null,
      "top": null,
      "visibility": null,
      "width": null
     }
    },
    "945d2960866041a7bc653dfe62a40211": {
     "model_module": "@jupyter-widgets/controls",
     "model_module_version": "1.5.0",
     "model_name": "ProgressStyleModel",
     "state": {
      "_model_module": "@jupyter-widgets/controls",
      "_model_module_version": "1.5.0",
      "_model_name": "ProgressStyleModel",
      "_view_count": null,
      "_view_module": "@jupyter-widgets/base",
      "_view_module_version": "1.2.0",
      "_view_name": "StyleView",
      "bar_color": null,
      "description_width": ""
     }
    },
    "96ea27ef4a594badb71ef41b3d53bec6": {
     "model_module": "@jupyter-widgets/controls",
     "model_module_version": "1.5.0",
     "model_name": "DescriptionStyleModel",
     "state": {
      "_model_module": "@jupyter-widgets/controls",
      "_model_module_version": "1.5.0",
      "_model_name": "DescriptionStyleModel",
      "_view_count": null,
      "_view_module": "@jupyter-widgets/base",
      "_view_module_version": "1.2.0",
      "_view_name": "StyleView",
      "description_width": ""
     }
    },
    "9858cb49cdc247b1abd923428afb691e": {
     "model_module": "@jupyter-widgets/controls",
     "model_module_version": "1.5.0",
     "model_name": "HTMLModel",
     "state": {
      "_dom_classes": [],
      "_model_module": "@jupyter-widgets/controls",
      "_model_module_version": "1.5.0",
      "_model_name": "HTMLModel",
      "_view_count": null,
      "_view_module": "@jupyter-widgets/controls",
      "_view_module_version": "1.5.0",
      "_view_name": "HTMLView",
      "description": "",
      "description_tooltip": null,
      "layout": "IPY_MODEL_644aa53bc9a047d1a4938cf9aa3de6e4",
      "placeholder": "​",
      "style": "IPY_MODEL_759bab7844094ada9fe4d454058e3b3e",
      "value": "tokenizer_config.json: 100%"
     }
    },
    "9a249264df174c9f8392583b817ff4b3": {
     "model_module": "@jupyter-widgets/controls",
     "model_module_version": "1.5.0",
     "model_name": "DescriptionStyleModel",
     "state": {
      "_model_module": "@jupyter-widgets/controls",
      "_model_module_version": "1.5.0",
      "_model_name": "DescriptionStyleModel",
      "_view_count": null,
      "_view_module": "@jupyter-widgets/base",
      "_view_module_version": "1.2.0",
      "_view_name": "StyleView",
      "description_width": ""
     }
    },
    "9e5336577baf42f99c498a274e7b4d0c": {
     "model_module": "@jupyter-widgets/controls",
     "model_module_version": "1.5.0",
     "model_name": "HTMLModel",
     "state": {
      "_dom_classes": [],
      "_model_module": "@jupyter-widgets/controls",
      "_model_module_version": "1.5.0",
      "_model_name": "HTMLModel",
      "_view_count": null,
      "_view_module": "@jupyter-widgets/controls",
      "_view_module_version": "1.5.0",
      "_view_name": "HTMLView",
      "description": "",
      "description_tooltip": null,
      "layout": "IPY_MODEL_c8c65ba734d84a958b11806ef8c45e9c",
      "placeholder": "​",
      "style": "IPY_MODEL_733616701add43a0b47e2565c67cc277",
      "value": " 701/701 [00:00&lt;00:00, 8.56kB/s]"
     }
    },
    "a072699ae51044d8a72d5c82f8182411": {
     "model_module": "@jupyter-widgets/base",
     "model_module_version": "1.2.0",
     "model_name": "LayoutModel",
     "state": {
      "_model_module": "@jupyter-widgets/base",
      "_model_module_version": "1.2.0",
      "_model_name": "LayoutModel",
      "_view_count": null,
      "_view_module": "@jupyter-widgets/base",
      "_view_module_version": "1.2.0",
      "_view_name": "LayoutView",
      "align_content": null,
      "align_items": null,
      "align_self": null,
      "border": null,
      "bottom": null,
      "display": null,
      "flex": null,
      "flex_flow": null,
      "grid_area": null,
      "grid_auto_columns": null,
      "grid_auto_flow": null,
      "grid_auto_rows": null,
      "grid_column": null,
      "grid_gap": null,
      "grid_row": null,
      "grid_template_areas": null,
      "grid_template_columns": null,
      "grid_template_rows": null,
      "height": null,
      "justify_content": null,
      "justify_items": null,
      "left": null,
      "margin": null,
      "max_height": null,
      "max_width": null,
      "min_height": null,
      "min_width": null,
      "object_fit": null,
      "object_position": null,
      "order": null,
      "overflow": null,
      "overflow_x": null,
      "overflow_y": null,
      "padding": null,
      "right": null,
      "top": null,
      "visibility": null,
      "width": null
     }
    },
    "a4e03bf1e679463ba560517492456925": {
     "model_module": "@jupyter-widgets/controls",
     "model_module_version": "1.5.0",
     "model_name": "DescriptionStyleModel",
     "state": {
      "_model_module": "@jupyter-widgets/controls",
      "_model_module_version": "1.5.0",
      "_model_name": "DescriptionStyleModel",
      "_view_count": null,
      "_view_module": "@jupyter-widgets/base",
      "_view_module_version": "1.2.0",
      "_view_name": "StyleView",
      "description_width": ""
     }
    },
    "aa571eba262645259e967446753c17bf": {
     "model_module": "@jupyter-widgets/controls",
     "model_module_version": "1.5.0",
     "model_name": "DescriptionStyleModel",
     "state": {
      "_model_module": "@jupyter-widgets/controls",
      "_model_module_version": "1.5.0",
      "_model_name": "DescriptionStyleModel",
      "_view_count": null,
      "_view_module": "@jupyter-widgets/base",
      "_view_module_version": "1.2.0",
      "_view_name": "StyleView",
      "description_width": ""
     }
    },
    "ad0ea6494ceb48a8ac8a39bca70999d8": {
     "model_module": "@jupyter-widgets/controls",
     "model_module_version": "1.5.0",
     "model_name": "DescriptionStyleModel",
     "state": {
      "_model_module": "@jupyter-widgets/controls",
      "_model_module_version": "1.5.0",
      "_model_name": "DescriptionStyleModel",
      "_view_count": null,
      "_view_module": "@jupyter-widgets/base",
      "_view_module_version": "1.2.0",
      "_view_name": "StyleView",
      "description_width": ""
     }
    },
    "b02773cc93624856906bd903ae3dff37": {
     "model_module": "@jupyter-widgets/controls",
     "model_module_version": "1.5.0",
     "model_name": "ProgressStyleModel",
     "state": {
      "_model_module": "@jupyter-widgets/controls",
      "_model_module_version": "1.5.0",
      "_model_name": "ProgressStyleModel",
      "_view_count": null,
      "_view_module": "@jupyter-widgets/base",
      "_view_module_version": "1.2.0",
      "_view_name": "StyleView",
      "bar_color": null,
      "description_width": ""
     }
    },
    "b22c7a401a2544d5b3e003e4bfc89848": {
     "model_module": "@jupyter-widgets/controls",
     "model_module_version": "1.5.0",
     "model_name": "HBoxModel",
     "state": {
      "_dom_classes": [],
      "_model_module": "@jupyter-widgets/controls",
      "_model_module_version": "1.5.0",
      "_model_name": "HBoxModel",
      "_view_count": null,
      "_view_module": "@jupyter-widgets/controls",
      "_view_module_version": "1.5.0",
      "_view_name": "HBoxView",
      "box_style": "",
      "children": [
       "IPY_MODEL_dc692d3bd30846c893969865f28231d5",
       "IPY_MODEL_6a137696522c4a6ca2c8ad9dc7e9acd5",
       "IPY_MODEL_9e5336577baf42f99c498a274e7b4d0c"
      ],
      "layout": "IPY_MODEL_7fd9db41a1ad42f3b5aff4d361943bb6"
     }
    },
    "b4da9eee63a84ad383f189e13a6d0fa9": {
     "model_module": "@jupyter-widgets/controls",
     "model_module_version": "1.5.0",
     "model_name": "HTMLModel",
     "state": {
      "_dom_classes": [],
      "_model_module": "@jupyter-widgets/controls",
      "_model_module_version": "1.5.0",
      "_model_name": "HTMLModel",
      "_view_count": null,
      "_view_module": "@jupyter-widgets/controls",
      "_view_module_version": "1.5.0",
      "_view_name": "HTMLView",
      "description": "",
      "description_tooltip": null,
      "layout": "IPY_MODEL_3348d44475c94cb1b98061bfcb53900e",
      "placeholder": "​",
      "style": "IPY_MODEL_56fd94b10ecc43178e1865f37f5e20e4",
      "value": " 996k/996k [00:00&lt;00:00, 8.26MB/s]"
     }
    },
    "b6af3a537d524dfd8c48b06001d860b5": {
     "model_module": "@jupyter-widgets/controls",
     "model_module_version": "1.5.0",
     "model_name": "DescriptionStyleModel",
     "state": {
      "_model_module": "@jupyter-widgets/controls",
      "_model_module_version": "1.5.0",
      "_model_name": "DescriptionStyleModel",
      "_view_count": null,
      "_view_module": "@jupyter-widgets/base",
      "_view_module_version": "1.2.0",
      "_view_name": "StyleView",
      "description_width": ""
     }
    },
    "b988ec82ad424ae3835dd35d16a568db": {
     "model_module": "@jupyter-widgets/controls",
     "model_module_version": "1.5.0",
     "model_name": "HTMLModel",
     "state": {
      "_dom_classes": [],
      "_model_module": "@jupyter-widgets/controls",
      "_model_module_version": "1.5.0",
      "_model_name": "HTMLModel",
      "_view_count": null,
      "_view_module": "@jupyter-widgets/controls",
      "_view_module_version": "1.5.0",
      "_view_name": "HTMLView",
      "description": "",
      "description_tooltip": null,
      "layout": "IPY_MODEL_d17c9b9a5592452eb4f6944648a2e8ea",
      "placeholder": "​",
      "style": "IPY_MODEL_56fdffe8b977489b9ec2e5ea8a40edf5",
      "value": " 49.0/49.0 [00:00&lt;00:00, 851B/s]"
     }
    },
    "bb325f7be9334219a976b70c49578c28": {
     "model_module": "@jupyter-widgets/controls",
     "model_module_version": "1.5.0",
     "model_name": "ProgressStyleModel",
     "state": {
      "_model_module": "@jupyter-widgets/controls",
      "_model_module_version": "1.5.0",
      "_model_name": "ProgressStyleModel",
      "_view_count": null,
      "_view_module": "@jupyter-widgets/base",
      "_view_module_version": "1.2.0",
      "_view_name": "StyleView",
      "bar_color": null,
      "description_width": ""
     }
    },
    "bc8062ce07204a17ab32b380b3792c1f": {
     "model_module": "@jupyter-widgets/base",
     "model_module_version": "1.2.0",
     "model_name": "LayoutModel",
     "state": {
      "_model_module": "@jupyter-widgets/base",
      "_model_module_version": "1.2.0",
      "_model_name": "LayoutModel",
      "_view_count": null,
      "_view_module": "@jupyter-widgets/base",
      "_view_module_version": "1.2.0",
      "_view_name": "LayoutView",
      "align_content": null,
      "align_items": null,
      "align_self": null,
      "border": null,
      "bottom": null,
      "display": null,
      "flex": null,
      "flex_flow": null,
      "grid_area": null,
      "grid_auto_columns": null,
      "grid_auto_flow": null,
      "grid_auto_rows": null,
      "grid_column": null,
      "grid_gap": null,
      "grid_row": null,
      "grid_template_areas": null,
      "grid_template_columns": null,
      "grid_template_rows": null,
      "height": null,
      "justify_content": null,
      "justify_items": null,
      "left": null,
      "margin": null,
      "max_height": null,
      "max_width": null,
      "min_height": null,
      "min_width": null,
      "object_fit": null,
      "object_position": null,
      "order": null,
      "overflow": null,
      "overflow_x": null,
      "overflow_y": null,
      "padding": null,
      "right": null,
      "top": null,
      "visibility": null,
      "width": null
     }
    },
    "be5bf2d5e1a7442dad9e0439d50579f5": {
     "model_module": "@jupyter-widgets/base",
     "model_module_version": "1.2.0",
     "model_name": "LayoutModel",
     "state": {
      "_model_module": "@jupyter-widgets/base",
      "_model_module_version": "1.2.0",
      "_model_name": "LayoutModel",
      "_view_count": null,
      "_view_module": "@jupyter-widgets/base",
      "_view_module_version": "1.2.0",
      "_view_name": "LayoutView",
      "align_content": null,
      "align_items": null,
      "align_self": null,
      "border": null,
      "bottom": null,
      "display": null,
      "flex": null,
      "flex_flow": null,
      "grid_area": null,
      "grid_auto_columns": null,
      "grid_auto_flow": null,
      "grid_auto_rows": null,
      "grid_column": null,
      "grid_gap": null,
      "grid_row": null,
      "grid_template_areas": null,
      "grid_template_columns": null,
      "grid_template_rows": null,
      "height": null,
      "justify_content": null,
      "justify_items": null,
      "left": null,
      "margin": null,
      "max_height": null,
      "max_width": null,
      "min_height": null,
      "min_width": null,
      "object_fit": null,
      "object_position": null,
      "order": null,
      "overflow": null,
      "overflow_x": null,
      "overflow_y": null,
      "padding": null,
      "right": null,
      "top": null,
      "visibility": null,
      "width": null
     }
    },
    "c8c65ba734d84a958b11806ef8c45e9c": {
     "model_module": "@jupyter-widgets/base",
     "model_module_version": "1.2.0",
     "model_name": "LayoutModel",
     "state": {
      "_model_module": "@jupyter-widgets/base",
      "_model_module_version": "1.2.0",
      "_model_name": "LayoutModel",
      "_view_count": null,
      "_view_module": "@jupyter-widgets/base",
      "_view_module_version": "1.2.0",
      "_view_name": "LayoutView",
      "align_content": null,
      "align_items": null,
      "align_self": null,
      "border": null,
      "bottom": null,
      "display": null,
      "flex": null,
      "flex_flow": null,
      "grid_area": null,
      "grid_auto_columns": null,
      "grid_auto_flow": null,
      "grid_auto_rows": null,
      "grid_column": null,
      "grid_gap": null,
      "grid_row": null,
      "grid_template_areas": null,
      "grid_template_columns": null,
      "grid_template_rows": null,
      "height": null,
      "justify_content": null,
      "justify_items": null,
      "left": null,
      "margin": null,
      "max_height": null,
      "max_width": null,
      "min_height": null,
      "min_width": null,
      "object_fit": null,
      "object_position": null,
      "order": null,
      "overflow": null,
      "overflow_x": null,
      "overflow_y": null,
      "padding": null,
      "right": null,
      "top": null,
      "visibility": null,
      "width": null
     }
    },
    "cd2b767543f1435299935d6dadee5034": {
     "model_module": "@jupyter-widgets/controls",
     "model_module_version": "1.5.0",
     "model_name": "HTMLModel",
     "state": {
      "_dom_classes": [],
      "_model_module": "@jupyter-widgets/controls",
      "_model_module_version": "1.5.0",
      "_model_name": "HTMLModel",
      "_view_count": null,
      "_view_module": "@jupyter-widgets/controls",
      "_view_module_version": "1.5.0",
      "_view_name": "HTMLView",
      "description": "",
      "description_tooltip": null,
      "layout": "IPY_MODEL_bc8062ce07204a17ab32b380b3792c1f",
      "placeholder": "​",
      "style": "IPY_MODEL_ed9e0e610cec4c84aeb24b399e6e55a4",
      "value": "tokenizer_config.json: 100%"
     }
    },
    "cfc8e231b76a49b7b7bcb877d5865a34": {
     "model_module": "@jupyter-widgets/base",
     "model_module_version": "1.2.0",
     "model_name": "LayoutModel",
     "state": {
      "_model_module": "@jupyter-widgets/base",
      "_model_module_version": "1.2.0",
      "_model_name": "LayoutModel",
      "_view_count": null,
      "_view_module": "@jupyter-widgets/base",
      "_view_module_version": "1.2.0",
      "_view_name": "LayoutView",
      "align_content": null,
      "align_items": null,
      "align_self": null,
      "border": null,
      "bottom": null,
      "display": null,
      "flex": null,
      "flex_flow": null,
      "grid_area": null,
      "grid_auto_columns": null,
      "grid_auto_flow": null,
      "grid_auto_rows": null,
      "grid_column": null,
      "grid_gap": null,
      "grid_row": null,
      "grid_template_areas": null,
      "grid_template_columns": null,
      "grid_template_rows": null,
      "height": null,
      "justify_content": null,
      "justify_items": null,
      "left": null,
      "margin": null,
      "max_height": null,
      "max_width": null,
      "min_height": null,
      "min_width": null,
      "object_fit": null,
      "object_position": null,
      "order": null,
      "overflow": null,
      "overflow_x": null,
      "overflow_y": null,
      "padding": null,
      "right": null,
      "top": null,
      "visibility": null,
      "width": null
     }
    },
    "d17c9b9a5592452eb4f6944648a2e8ea": {
     "model_module": "@jupyter-widgets/base",
     "model_module_version": "1.2.0",
     "model_name": "LayoutModel",
     "state": {
      "_model_module": "@jupyter-widgets/base",
      "_model_module_version": "1.2.0",
      "_model_name": "LayoutModel",
      "_view_count": null,
      "_view_module": "@jupyter-widgets/base",
      "_view_module_version": "1.2.0",
      "_view_name": "LayoutView",
      "align_content": null,
      "align_items": null,
      "align_self": null,
      "border": null,
      "bottom": null,
      "display": null,
      "flex": null,
      "flex_flow": null,
      "grid_area": null,
      "grid_auto_columns": null,
      "grid_auto_flow": null,
      "grid_auto_rows": null,
      "grid_column": null,
      "grid_gap": null,
      "grid_row": null,
      "grid_template_areas": null,
      "grid_template_columns": null,
      "grid_template_rows": null,
      "height": null,
      "justify_content": null,
      "justify_items": null,
      "left": null,
      "margin": null,
      "max_height": null,
      "max_width": null,
      "min_height": null,
      "min_width": null,
      "object_fit": null,
      "object_position": null,
      "order": null,
      "overflow": null,
      "overflow_x": null,
      "overflow_y": null,
      "padding": null,
      "right": null,
      "top": null,
      "visibility": null,
      "width": null
     }
    },
    "d45bef2c5ce5422b8fd150dfb3378562": {
     "model_module": "@jupyter-widgets/base",
     "model_module_version": "1.2.0",
     "model_name": "LayoutModel",
     "state": {
      "_model_module": "@jupyter-widgets/base",
      "_model_module_version": "1.2.0",
      "_model_name": "LayoutModel",
      "_view_count": null,
      "_view_module": "@jupyter-widgets/base",
      "_view_module_version": "1.2.0",
      "_view_name": "LayoutView",
      "align_content": null,
      "align_items": null,
      "align_self": null,
      "border": null,
      "bottom": null,
      "display": null,
      "flex": null,
      "flex_flow": null,
      "grid_area": null,
      "grid_auto_columns": null,
      "grid_auto_flow": null,
      "grid_auto_rows": null,
      "grid_column": null,
      "grid_gap": null,
      "grid_row": null,
      "grid_template_areas": null,
      "grid_template_columns": null,
      "grid_template_rows": null,
      "height": null,
      "justify_content": null,
      "justify_items": null,
      "left": null,
      "margin": null,
      "max_height": null,
      "max_width": null,
      "min_height": null,
      "min_width": null,
      "object_fit": null,
      "object_position": null,
      "order": null,
      "overflow": null,
      "overflow_x": null,
      "overflow_y": null,
      "padding": null,
      "right": null,
      "top": null,
      "visibility": null,
      "width": null
     }
    },
    "d46cd83f2d084f96ace507dc7873d143": {
     "model_module": "@jupyter-widgets/controls",
     "model_module_version": "1.5.0",
     "model_name": "DescriptionStyleModel",
     "state": {
      "_model_module": "@jupyter-widgets/controls",
      "_model_module_version": "1.5.0",
      "_model_name": "DescriptionStyleModel",
      "_view_count": null,
      "_view_module": "@jupyter-widgets/base",
      "_view_module_version": "1.2.0",
      "_view_name": "StyleView",
      "description_width": ""
     }
    },
    "d795e4d7c862477485a2fb3587a801bb": {
     "model_module": "@jupyter-widgets/base",
     "model_module_version": "1.2.0",
     "model_name": "LayoutModel",
     "state": {
      "_model_module": "@jupyter-widgets/base",
      "_model_module_version": "1.2.0",
      "_model_name": "LayoutModel",
      "_view_count": null,
      "_view_module": "@jupyter-widgets/base",
      "_view_module_version": "1.2.0",
      "_view_name": "LayoutView",
      "align_content": null,
      "align_items": null,
      "align_self": null,
      "border": null,
      "bottom": null,
      "display": null,
      "flex": null,
      "flex_flow": null,
      "grid_area": null,
      "grid_auto_columns": null,
      "grid_auto_flow": null,
      "grid_auto_rows": null,
      "grid_column": null,
      "grid_gap": null,
      "grid_row": null,
      "grid_template_areas": null,
      "grid_template_columns": null,
      "grid_template_rows": null,
      "height": null,
      "justify_content": null,
      "justify_items": null,
      "left": null,
      "margin": null,
      "max_height": null,
      "max_width": null,
      "min_height": null,
      "min_width": null,
      "object_fit": null,
      "object_position": null,
      "order": null,
      "overflow": null,
      "overflow_x": null,
      "overflow_y": null,
      "padding": null,
      "right": null,
      "top": null,
      "visibility": null,
      "width": null
     }
    },
    "d8b4b59278814e38a249ff6e7a1b0885": {
     "model_module": "@jupyter-widgets/controls",
     "model_module_version": "1.5.0",
     "model_name": "ProgressStyleModel",
     "state": {
      "_model_module": "@jupyter-widgets/controls",
      "_model_module_version": "1.5.0",
      "_model_name": "ProgressStyleModel",
      "_view_count": null,
      "_view_module": "@jupyter-widgets/base",
      "_view_module_version": "1.2.0",
      "_view_name": "StyleView",
      "bar_color": null,
      "description_width": ""
     }
    },
    "d910e33b773b44f1ac0b2461317e25ff": {
     "model_module": "@jupyter-widgets/controls",
     "model_module_version": "1.5.0",
     "model_name": "DescriptionStyleModel",
     "state": {
      "_model_module": "@jupyter-widgets/controls",
      "_model_module_version": "1.5.0",
      "_model_name": "DescriptionStyleModel",
      "_view_count": null,
      "_view_module": "@jupyter-widgets/base",
      "_view_module_version": "1.2.0",
      "_view_name": "StyleView",
      "description_width": ""
     }
    },
    "da264c4adb1b4347a7a06dab0ce3dd57": {
     "model_module": "@jupyter-widgets/base",
     "model_module_version": "1.2.0",
     "model_name": "LayoutModel",
     "state": {
      "_model_module": "@jupyter-widgets/base",
      "_model_module_version": "1.2.0",
      "_model_name": "LayoutModel",
      "_view_count": null,
      "_view_module": "@jupyter-widgets/base",
      "_view_module_version": "1.2.0",
      "_view_name": "LayoutView",
      "align_content": null,
      "align_items": null,
      "align_self": null,
      "border": null,
      "bottom": null,
      "display": null,
      "flex": null,
      "flex_flow": null,
      "grid_area": null,
      "grid_auto_columns": null,
      "grid_auto_flow": null,
      "grid_auto_rows": null,
      "grid_column": null,
      "grid_gap": null,
      "grid_row": null,
      "grid_template_areas": null,
      "grid_template_columns": null,
      "grid_template_rows": null,
      "height": null,
      "justify_content": null,
      "justify_items": null,
      "left": null,
      "margin": null,
      "max_height": null,
      "max_width": null,
      "min_height": null,
      "min_width": null,
      "object_fit": null,
      "object_position": null,
      "order": null,
      "overflow": null,
      "overflow_x": null,
      "overflow_y": null,
      "padding": null,
      "right": null,
      "top": null,
      "visibility": null,
      "width": null
     }
    },
    "dc0cec054f6947989c810c05bc469ada": {
     "model_module": "@jupyter-widgets/base",
     "model_module_version": "1.2.0",
     "model_name": "LayoutModel",
     "state": {
      "_model_module": "@jupyter-widgets/base",
      "_model_module_version": "1.2.0",
      "_model_name": "LayoutModel",
      "_view_count": null,
      "_view_module": "@jupyter-widgets/base",
      "_view_module_version": "1.2.0",
      "_view_name": "LayoutView",
      "align_content": null,
      "align_items": null,
      "align_self": null,
      "border": null,
      "bottom": null,
      "display": null,
      "flex": null,
      "flex_flow": null,
      "grid_area": null,
      "grid_auto_columns": null,
      "grid_auto_flow": null,
      "grid_auto_rows": null,
      "grid_column": null,
      "grid_gap": null,
      "grid_row": null,
      "grid_template_areas": null,
      "grid_template_columns": null,
      "grid_template_rows": null,
      "height": null,
      "justify_content": null,
      "justify_items": null,
      "left": null,
      "margin": null,
      "max_height": null,
      "max_width": null,
      "min_height": null,
      "min_width": null,
      "object_fit": null,
      "object_position": null,
      "order": null,
      "overflow": null,
      "overflow_x": null,
      "overflow_y": null,
      "padding": null,
      "right": null,
      "top": null,
      "visibility": null,
      "width": null
     }
    },
    "dc692d3bd30846c893969865f28231d5": {
     "model_module": "@jupyter-widgets/controls",
     "model_module_version": "1.5.0",
     "model_name": "HTMLModel",
     "state": {
      "_dom_classes": [],
      "_model_module": "@jupyter-widgets/controls",
      "_model_module_version": "1.5.0",
      "_model_name": "HTMLModel",
      "_view_count": null,
      "_view_module": "@jupyter-widgets/controls",
      "_view_module_version": "1.5.0",
      "_view_name": "HTMLView",
      "description": "",
      "description_tooltip": null,
      "layout": "IPY_MODEL_30c4c0cd48464741b15fd40e0c450e77",
      "placeholder": "​",
      "style": "IPY_MODEL_d46cd83f2d084f96ace507dc7873d143",
      "value": "config.json: 100%"
     }
    },
    "dd0d07a703ed49a98f58ec914582192c": {
     "model_module": "@jupyter-widgets/controls",
     "model_module_version": "1.5.0",
     "model_name": "ProgressStyleModel",
     "state": {
      "_model_module": "@jupyter-widgets/controls",
      "_model_module_version": "1.5.0",
      "_model_name": "ProgressStyleModel",
      "_view_count": null,
      "_view_module": "@jupyter-widgets/base",
      "_view_module_version": "1.2.0",
      "_view_name": "StyleView",
      "bar_color": null,
      "description_width": ""
     }
    },
    "e1c08ebdce2346a3a9be94d10fb29fb7": {
     "model_module": "@jupyter-widgets/controls",
     "model_module_version": "1.5.0",
     "model_name": "HTMLModel",
     "state": {
      "_dom_classes": [],
      "_model_module": "@jupyter-widgets/controls",
      "_model_module_version": "1.5.0",
      "_model_name": "HTMLModel",
      "_view_count": null,
      "_view_module": "@jupyter-widgets/controls",
      "_view_module_version": "1.5.0",
      "_view_name": "HTMLView",
      "description": "",
      "description_tooltip": null,
      "layout": "IPY_MODEL_907bc2da70694082b8147f9502c5983f",
      "placeholder": "​",
      "style": "IPY_MODEL_a4e03bf1e679463ba560517492456925",
      "value": "tokenizer.json: 100%"
     }
    },
    "e45bbf5f1ed0479c91c2a5ffd920af56": {
     "model_module": "@jupyter-widgets/controls",
     "model_module_version": "1.5.0",
     "model_name": "HTMLModel",
     "state": {
      "_dom_classes": [],
      "_model_module": "@jupyter-widgets/controls",
      "_model_module_version": "1.5.0",
      "_model_name": "HTMLModel",
      "_view_count": null,
      "_view_module": "@jupyter-widgets/controls",
      "_view_module_version": "1.5.0",
      "_view_name": "HTMLView",
      "description": "",
      "description_tooltip": null,
      "layout": "IPY_MODEL_569fcbc6a1c44d52b64226dbe4d5451e",
      "placeholder": "​",
      "style": "IPY_MODEL_ad0ea6494ceb48a8ac8a39bca70999d8",
      "value": " 1.96M/1.96M [00:00&lt;00:00, 16.0MB/s]"
     }
    },
    "e974ba8f861c48aeb8548cab312d758c": {
     "model_module": "@jupyter-widgets/controls",
     "model_module_version": "1.5.0",
     "model_name": "HBoxModel",
     "state": {
      "_dom_classes": [],
      "_model_module": "@jupyter-widgets/controls",
      "_model_module_version": "1.5.0",
      "_model_name": "HBoxModel",
      "_view_count": null,
      "_view_module": "@jupyter-widgets/controls",
      "_view_module_version": "1.5.0",
      "_view_name": "HBoxView",
      "box_style": "",
      "children": [
       "IPY_MODEL_0938947be70f49b4a2668b30e45b1aae",
       "IPY_MODEL_2cd96637c2054f7e8489493d5281508c",
       "IPY_MODEL_f802bbfadf5145f3b291cad7a617c4d4"
      ],
      "layout": "IPY_MODEL_d795e4d7c862477485a2fb3587a801bb"
     }
    },
    "ecd1452d40544b9f8e824893d8965f80": {
     "model_module": "@jupyter-widgets/controls",
     "model_module_version": "1.5.0",
     "model_name": "HBoxModel",
     "state": {
      "_dom_classes": [],
      "_model_module": "@jupyter-widgets/controls",
      "_model_module_version": "1.5.0",
      "_model_name": "HBoxModel",
      "_view_count": null,
      "_view_module": "@jupyter-widgets/controls",
      "_view_module_version": "1.5.0",
      "_view_name": "HBoxView",
      "box_style": "",
      "children": [
       "IPY_MODEL_cd2b767543f1435299935d6dadee5034",
       "IPY_MODEL_14c4da599454480886928b62d789a0d5",
       "IPY_MODEL_b988ec82ad424ae3835dd35d16a568db"
      ],
      "layout": "IPY_MODEL_0b8c98a0d9b7446396cfbebb7356f676"
     }
    },
    "ed194bf6757a450f96d791fd7e0ecbd0": {
     "model_module": "@jupyter-widgets/controls",
     "model_module_version": "1.5.0",
     "model_name": "HTMLModel",
     "state": {
      "_dom_classes": [],
      "_model_module": "@jupyter-widgets/controls",
      "_model_module_version": "1.5.0",
      "_model_name": "HTMLModel",
      "_view_count": null,
      "_view_module": "@jupyter-widgets/controls",
      "_view_module_version": "1.5.0",
      "_view_name": "HTMLView",
      "description": "",
      "description_tooltip": null,
      "layout": "IPY_MODEL_1de1d369d5294e5a85c9916b298fe2f1",
      "placeholder": "​",
      "style": "IPY_MODEL_700c4a3194f241eaa4ae36b9fa476914",
      "value": "model.safetensors: 100%"
     }
    },
    "ed9e0e610cec4c84aeb24b399e6e55a4": {
     "model_module": "@jupyter-widgets/controls",
     "model_module_version": "1.5.0",
     "model_name": "DescriptionStyleModel",
     "state": {
      "_model_module": "@jupyter-widgets/controls",
      "_model_module_version": "1.5.0",
      "_model_name": "DescriptionStyleModel",
      "_view_count": null,
      "_view_module": "@jupyter-widgets/base",
      "_view_module_version": "1.2.0",
      "_view_name": "StyleView",
      "description_width": ""
     }
    },
    "ee853e912fec4f14ad6edacb24cf7f01": {
     "model_module": "@jupyter-widgets/controls",
     "model_module_version": "1.5.0",
     "model_name": "HTMLModel",
     "state": {
      "_dom_classes": [],
      "_model_module": "@jupyter-widgets/controls",
      "_model_module_version": "1.5.0",
      "_model_name": "HTMLModel",
      "_view_count": null,
      "_view_module": "@jupyter-widgets/controls",
      "_view_module_version": "1.5.0",
      "_view_name": "HTMLView",
      "description": "",
      "description_tooltip": null,
      "layout": "IPY_MODEL_a072699ae51044d8a72d5c82f8182411",
      "placeholder": "​",
      "style": "IPY_MODEL_aa571eba262645259e967446753c17bf",
      "value": "config.json: 100%"
     }
    },
    "eea8c8d16bc04a93af2aabf6b526728b": {
     "model_module": "@jupyter-widgets/controls",
     "model_module_version": "1.5.0",
     "model_name": "DescriptionStyleModel",
     "state": {
      "_model_module": "@jupyter-widgets/controls",
      "_model_module_version": "1.5.0",
      "_model_name": "DescriptionStyleModel",
      "_view_count": null,
      "_view_module": "@jupyter-widgets/base",
      "_view_module_version": "1.2.0",
      "_view_name": "StyleView",
      "description_width": ""
     }
    },
    "eee8199ead804a67a93cc1c6adcc7690": {
     "model_module": "@jupyter-widgets/controls",
     "model_module_version": "1.5.0",
     "model_name": "HBoxModel",
     "state": {
      "_dom_classes": [],
      "_model_module": "@jupyter-widgets/controls",
      "_model_module_version": "1.5.0",
      "_model_name": "HBoxModel",
      "_view_count": null,
      "_view_module": "@jupyter-widgets/controls",
      "_view_module_version": "1.5.0",
      "_view_name": "HBoxView",
      "box_style": "",
      "children": [
       "IPY_MODEL_7a6208ceae814dc69046c5a7a8f6d9b6",
       "IPY_MODEL_22c2517d14394a4e8f3acd48feec8d56",
       "IPY_MODEL_fc999c62f7f94238becc6229b2169da6"
      ],
      "layout": "IPY_MODEL_dc0cec054f6947989c810c05bc469ada"
     }
    },
    "f3a35087770b400fa5877ce0e6842536": {
     "model_module": "@jupyter-widgets/base",
     "model_module_version": "1.2.0",
     "model_name": "LayoutModel",
     "state": {
      "_model_module": "@jupyter-widgets/base",
      "_model_module_version": "1.2.0",
      "_model_name": "LayoutModel",
      "_view_count": null,
      "_view_module": "@jupyter-widgets/base",
      "_view_module_version": "1.2.0",
      "_view_name": "LayoutView",
      "align_content": null,
      "align_items": null,
      "align_self": null,
      "border": null,
      "bottom": null,
      "display": null,
      "flex": null,
      "flex_flow": null,
      "grid_area": null,
      "grid_auto_columns": null,
      "grid_auto_flow": null,
      "grid_auto_rows": null,
      "grid_column": null,
      "grid_gap": null,
      "grid_row": null,
      "grid_template_areas": null,
      "grid_template_columns": null,
      "grid_template_rows": null,
      "height": null,
      "justify_content": null,
      "justify_items": null,
      "left": null,
      "margin": null,
      "max_height": null,
      "max_width": null,
      "min_height": null,
      "min_width": null,
      "object_fit": null,
      "object_position": null,
      "order": null,
      "overflow": null,
      "overflow_x": null,
      "overflow_y": null,
      "padding": null,
      "right": null,
      "top": null,
      "visibility": null,
      "width": null
     }
    },
    "f802bbfadf5145f3b291cad7a617c4d4": {
     "model_module": "@jupyter-widgets/controls",
     "model_module_version": "1.5.0",
     "model_name": "HTMLModel",
     "state": {
      "_dom_classes": [],
      "_model_module": "@jupyter-widgets/controls",
      "_model_module_version": "1.5.0",
      "_model_name": "HTMLModel",
      "_view_count": null,
      "_view_module": "@jupyter-widgets/controls",
      "_view_module_version": "1.5.0",
      "_view_name": "HTMLView",
      "description": "",
      "description_tooltip": null,
      "layout": "IPY_MODEL_52362e3759cb4b3f808c602671700337",
      "placeholder": "​",
      "style": "IPY_MODEL_96ea27ef4a594badb71ef41b3d53bec6",
      "value": " 625/625 [00:00&lt;00:00, 14.8kB/s]"
     }
    },
    "f8101c683be54ab8896726653a59bf9f": {
     "model_module": "@jupyter-widgets/controls",
     "model_module_version": "1.5.0",
     "model_name": "DescriptionStyleModel",
     "state": {
      "_model_module": "@jupyter-widgets/controls",
      "_model_module_version": "1.5.0",
      "_model_name": "DescriptionStyleModel",
      "_view_count": null,
      "_view_module": "@jupyter-widgets/base",
      "_view_module_version": "1.2.0",
      "_view_name": "StyleView",
      "description_width": ""
     }
    },
    "f9c5eddf3686461280d275049ee72790": {
     "model_module": "@jupyter-widgets/controls",
     "model_module_version": "1.5.0",
     "model_name": "DescriptionStyleModel",
     "state": {
      "_model_module": "@jupyter-widgets/controls",
      "_model_module_version": "1.5.0",
      "_model_name": "DescriptionStyleModel",
      "_view_count": null,
      "_view_module": "@jupyter-widgets/base",
      "_view_module_version": "1.2.0",
      "_view_name": "StyleView",
      "description_width": ""
     }
    },
    "fc999c62f7f94238becc6229b2169da6": {
     "model_module": "@jupyter-widgets/controls",
     "model_module_version": "1.5.0",
     "model_name": "HTMLModel",
     "state": {
      "_dom_classes": [],
      "_model_module": "@jupyter-widgets/controls",
      "_model_module_version": "1.5.0",
      "_model_name": "HTMLModel",
      "_view_count": null,
      "_view_module": "@jupyter-widgets/controls",
      "_view_module_version": "1.5.0",
      "_view_name": "HTMLView",
      "description": "",
      "description_tooltip": null,
      "layout": "IPY_MODEL_14c72a7544d547e19e3b04474ed198c2",
      "placeholder": "​",
      "style": "IPY_MODEL_d910e33b773b44f1ac0b2461317e25ff",
      "value": " 344k/344k [00:00&lt;00:00, 1.39MB/s]"
     }
    },
    "ff694afd3f42475fb6829485061c9a72": {
     "model_module": "@jupyter-widgets/controls",
     "model_module_version": "1.5.0",
     "model_name": "HTMLModel",
     "state": {
      "_dom_classes": [],
      "_model_module": "@jupyter-widgets/controls",
      "_model_module_version": "1.5.0",
      "_model_name": "HTMLModel",
      "_view_count": null,
      "_view_module": "@jupyter-widgets/controls",
      "_view_module_version": "1.5.0",
      "_view_name": "HTMLView",
      "description": "",
      "description_tooltip": null,
      "layout": "IPY_MODEL_422d1a5b399e4941bbec1937d5dee18a",
      "placeholder": "​",
      "style": "IPY_MODEL_9a249264df174c9f8392583b817ff4b3",
      "value": " 725/725 [00:00&lt;00:00, 23.7kB/s]"
     }
    }
   }
  }
 },
 "nbformat": 4,
 "nbformat_minor": 4
}
