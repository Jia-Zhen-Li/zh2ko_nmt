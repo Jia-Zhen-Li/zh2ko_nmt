{
 "cells": [
  {
   "cell_type": "code",
   "execution_count": 1,
   "metadata": {
    "executionInfo": {
     "elapsed": 997,
     "status": "ok",
     "timestamp": 1713070752460,
     "user": {
      "displayName": "Yeezi",
      "userId": "08687854767328262193"
     },
     "user_tz": -480
    },
    "id": "0aI0sh5wHeUW"
   },
   "outputs": [],
   "source": [
    "import numpy as np\n",
    "import pandas as pd"
   ]
  },
  {
   "cell_type": "code",
   "execution_count": 30,
   "metadata": {},
   "outputs": [],
   "source": [
    "model_name = 'TED_ZK3_zh'\n",
    "#model_name = 'ZK3_zh'"
   ]
  },
  {
   "cell_type": "markdown",
   "metadata": {
    "id": "eT9b1YjyauvX"
   },
   "source": [
    "# Read sentence for each article csv file."
   ]
  },
  {
   "cell_type": "code",
   "execution_count": 3,
   "metadata": {
    "executionInfo": {
     "elapsed": 32015,
     "status": "ok",
     "timestamp": 1713070784473,
     "user": {
      "displayName": "Yeezi",
      "userId": "08687854767328262193"
     },
     "user_tz": -480
    },
    "id": "HpegKYMIBj2G"
   },
   "outputs": [],
   "source": [
    "df_train_transcript = pd.read_csv('./CORPUS/MERGE/TRAIN_ALL.csv')\n",
    "df_train_transcript = df_train_transcript.to_dict(orient='dict')\n",
    "TRAIN_ESENT = (list(df_train_transcript['EN'].values()))\n",
    "TRAIN_KSENT = (list(df_train_transcript['KO'].values()))\n",
    "TRAIN_ZSENT = (list(df_train_transcript['ZH-TW'].values()))\n",
    "df_train_transcript = []"
   ]
  },
  {
   "cell_type": "code",
   "execution_count": 4,
   "metadata": {
    "executionInfo": {
     "elapsed": 820,
     "status": "ok",
     "timestamp": 1713070785291,
     "user": {
      "displayName": "Yeezi",
      "userId": "08687854767328262193"
     },
     "user_tz": -480
    },
    "id": "cdp5CTVABkI_"
   },
   "outputs": [],
   "source": [
    "df_test_transcript = pd.read_csv('./CORPUS/MERGE/TEST_ALL.csv')\n",
    "df_test_transcript = df_test_transcript.to_dict(orient='dict')\n",
    "TEST_ESENT = (list(df_test_transcript['EN'].values()))\n",
    "TEST_KSENT = (list(df_test_transcript['KO'].values()))\n",
    "TEST_ZSENT = (list(df_test_transcript['ZH-TW'].values()))\n",
    "df_test_transcript = []"
   ]
  },
  {
   "cell_type": "code",
   "execution_count": null,
   "metadata": {},
   "outputs": [],
   "source": [
    "## ted2020 dataset"
   ]
  },
  {
   "cell_type": "code",
   "execution_count": 28,
   "metadata": {},
   "outputs": [
    {
     "name": "stdout",
     "output_type": "stream",
     "text": [
      "311376\n"
     ]
    }
   ],
   "source": [
    "df_train_transcript = pd.read_csv('./CORPUS/ted2020/TED2020_HANJA_TRAIN_ALL.csv')\n",
    "df_train_transcript = df_train_transcript.to_dict(orient='dict')\n",
    "\n",
    "TRAIN_KSENT = (list(df_train_transcript['KO'].values()))\n",
    "\n",
    "TRAIN_ZSENT = (list(df_train_transcript['ZH'].values()))\n",
    "\n",
    "TRAIN_HSENT = (list(df_train_transcript['HANJA_Z'].values()))\n",
    "\n",
    "print(len(TRAIN_KSENT))\n",
    "df_train_transcript = []"
   ]
  },
  {
   "cell_type": "code",
   "execution_count": 29,
   "metadata": {},
   "outputs": [
    {
     "name": "stdout",
     "output_type": "stream",
     "text": [
      "77844\n"
     ]
    }
   ],
   "source": [
    "df_test_transcript = pd.read_csv('./CORPUS/ted2020/TED2020_HANJA_TEST_ALL.csv')\n",
    "df_test_transcript = df_test_transcript.to_dict(orient='dict')\n",
    "\n",
    "TEST_KSENT = (list(df_test_transcript['KO'].values()))\n",
    "TEST_ZSENT = (list(df_test_transcript['ZH'].values()))\n",
    "TEST_HSENT = (list(df_test_transcript['HANJA_Z'].values()))\n",
    "#TEST_HSENT = (list(df_test_transcript['HANJA_K'].values()))\n",
    "\n",
    "df_test_transcript = []\n",
    "print(len(TEST_KSENT))"
   ]
  },
  {
   "cell_type": "markdown",
   "metadata": {
    "id": "gbBZ0gHTc5S2"
   },
   "source": [
    "# Pretrain Model"
   ]
  },
  {
   "cell_type": "code",
   "execution_count": 5,
   "metadata": {
    "executionInfo": {
     "elapsed": 9025,
     "status": "ok",
     "timestamp": 1713070794312,
     "user": {
      "displayName": "Yeezi",
      "userId": "08687854767328262193"
     },
     "user_tz": -480
    },
    "id": "Ja9cukshN9og"
   },
   "outputs": [],
   "source": [
    "import torch\n",
    "from transformers import BertTokenizer, BertModel, BertConfig, BertForPreTraining, AutoModel, BertTokenizerFast\n",
    "from torch.utils.data import Dataset, DataLoader\n",
    "from transformers import BertConfig, BertForMaskedLM\n",
    "import torch.nn as nn\n",
    "import torch.optim as optim\n",
    "import numpy as np\n",
    "import matplotlib.pyplot as plt\n",
    "import time"
   ]
  },
  {
   "cell_type": "code",
   "execution_count": 6,
   "metadata": {
    "executionInfo": {
     "elapsed": 5,
     "status": "ok",
     "timestamp": 1713070794312,
     "user": {
      "displayName": "Yeezi",
      "userId": "08687854767328262193"
     },
     "user_tz": -480
    },
    "id": "5Y7gzOyzXXgK"
   },
   "outputs": [],
   "source": [
    "# 設定訓練參數\n",
    "device = torch.device(\"cuda\" if torch.cuda.is_available() else \"cpu\")\n",
    "max_length = 64\n",
    "batch_size = 16\n",
    "#batch_size = 32\n",
    "learning_rate = 1e-4\n",
    "num_epochs = 10"
   ]
  },
  {
   "cell_type": "code",
   "execution_count": 6,
   "metadata": {
    "executionInfo": {
     "elapsed": 4,
     "status": "ok",
     "timestamp": 1713070794312,
     "user": {
      "displayName": "Yeezi",
      "userId": "08687854767328262193"
     },
     "user_tz": -480
    },
    "id": "_Yvw-JPXXfKB"
   },
   "outputs": [],
   "source": [
    "# 加載預訓練的BERT模型和分詞器\n",
    "#tokenizer = BertTokenizer.from_pretrained('bert-base-multilingual-cased')\n",
    "#bert_model = BertModel.from_pretrained('bert-base-multilingual-cased').to(device)"
   ]
  },
  {
   "cell_type": "code",
   "execution_count": 7,
   "metadata": {
    "colab": {
     "base_uri": "https://localhost:8080/",
     "height": 368,
     "referenced_widgets": [
      "ad90e1662dae4da8b4bedc146eb5612b",
      "f8208d696ab14f7c92bbcb8c3d608652",
      "312eeea89b19404c9bd392f65de0235f",
      "113cce0202cc4df3b7b1428b34153e94",
      "3788bfbca4fd4f20b9f9f47fc2e201f7",
      "474e63484c104ee284e4c4f7f3b2beff",
      "67d8d0bb666b4910a3780525eacc46fd",
      "2cb8b676d7304e4d9051a134cc7da972",
      "3998e8e98996444eab1659fcb63acb0a",
      "1556b78392544504a199f939854a4b53",
      "bc1aaed721b64b268f7a22241f27b235",
      "b0697e18fa9a40a4bf685a9e55e9ba54",
      "bcd4dc7bd6a84eb3bd94956144fb75d2",
      "7e168085c22a4e02a4a52845c4cc9c49",
      "4d28976774dc4590bf672c6fe37034b6",
      "3cf028e075984f96a3963a40ed5c6e72",
      "bacafbf39fe54feea9e137808b57390b",
      "493cf80dc3914a5593bf22ded0bca7e4",
      "7b60481261e34de28c86774ee5d32ab4",
      "d76b72d842e142c69fd64669d28d4646",
      "acf0636787b24ea09b2a3aa658ab4eb2",
      "de769a4cbd9a4e4984ce755409b15b49",
      "d52ccf508049497ca24b2df3e09f3da4",
      "d5d7931e2bc34d1ca9dc21b3670e41ab",
      "28b4021876714bfa869e02f73c22dff8",
      "7d2db1a65399493384a5ac31daf031e9",
      "541246b22bdd401fa1dea2527e62b524",
      "57b723dd730047dfa92a59fae6c7db3f",
      "6ac1356ca86d41d7bd58d8a789a71114",
      "844c9b629a1a42b085acfa6c58d90379",
      "adf093c4bc1b49abb64fa8bd4cb2745f",
      "05de0f2c4ccd4ce9b8b173d09c4e3057",
      "b36c44ba85ff495c894358f799a3ebd7",
      "b2ae354632c843b5ab26b2ce26c96f8b",
      "4b9c7eef53fe42edbff247249023f290",
      "212472f16e584829af1e5c3fa5c62b4f",
      "1150ad603f2b4caeb7d3e6aa8601a15e",
      "ce82f25a853549d9979d0d60fab62e16",
      "ccfdc314f35148faa8a211110ecea6d8",
      "5342536ce2e8483eb48e3657da31b999",
      "1d89ddb5bd0240519ed01bceb6288332",
      "d6eb4117d9e8411faa564cba6da75c0a",
      "94aa85b832e64adbabbbcdb1f5ca96a2",
      "3eb23ade96994dada5ebd4cacfdd00e2",
      "b3f5adbe927b4f14915919c49afe301f",
      "2ff53376d4cf4c7590d7fe5d3afa6282",
      "029ab0ae4b6e427d879f28c14dba9263",
      "35043c18173b412a8d6e0c4448b8d41b",
      "bc975b97f25a4d22bc4ab29d7cb74e3e",
      "590b43eba7b341f9baf1823b375295d3",
      "c634cbf0d283446195ab7cfd7219997d",
      "344a1c4e964645cf87137be8b34a3fb7",
      "0d80fe675a304f7c9e6ad785b04a92bf",
      "90fc9832799e49c1b2f5784df80ae8fa",
      "9c43df41db7d49dcac22b4815e81534e",
      "c84a4c85f92b41749410878364b7316f",
      "ead3a71c23ed467c8ad7c3379706a507",
      "35af0d4971f941acad37cbef4c032408",
      "7674cd42070c4d628d2859869729a86c",
      "b2fb5f69a3a343949740341eb505a248",
      "8297a41c47794fbc874ac45c6345e8e0",
      "ce3cb6fef4e54e9d9637b9358c0f15a8",
      "2ade66d1ebf94409b8976cf1eaf84c01",
      "9b14bb07d18b4d6a9ca0a80deacb2268",
      "7e7fa01cf93b4a5395bb4d9ee8dcf69b",
      "142f9242b8ed4eb6a74b47496bad2113"
     ]
    },
    "executionInfo": {
     "elapsed": 9635,
     "status": "ok",
     "timestamp": 1713070803943,
     "user": {
      "displayName": "Yeezi",
      "userId": "08687854767328262193"
     },
     "user_tz": -480
    },
    "id": "Y0b1DUX3aGpx",
    "outputId": "e1c86e94-0d83-43b6-c8be-ace821908bf8"
   },
   "outputs": [
    {
     "name": "stderr",
     "output_type": "stream",
     "text": [
      "Some weights of BertModel were not initialized from the model checkpoint at ckiplab/bert-base-chinese and are newly initialized: ['bert.pooler.dense.bias', 'bert.pooler.dense.weight']\n",
      "You should probably TRAIN this model on a down-stream task to be able to use it for predictions and inference.\n"
     ]
    }
   ],
   "source": [
    "zh_tokenizer = BertTokenizerFast.from_pretrained('bert-base-chinese')\n",
    "zh_bert_model = AutoModel.from_pretrained('ckiplab/bert-base-chinese')"
   ]
  },
  {
   "cell_type": "code",
   "execution_count": 8,
   "metadata": {
    "colab": {
     "base_uri": "https://localhost:8080/",
     "height": 145,
     "referenced_widgets": [
      "2da7ca64e57e413ba4195bac49236bb8",
      "d879a9d805c54d22a1458563a5bdf654",
      "02244bd48dca44ffaa336b4a212f8abf",
      "1aeccce67be041baa8583881a0dc5ebc",
      "3cba2ac41f7b4a77986a97e96bbbfc00",
      "a629a6eaceff4658bf70eaf2dc96295c",
      "ee6535740cea43c99e9e044b7aee6c78",
      "a254cbcf65e34c1da276c2aef1dd5278",
      "d03b31b50e6e41528530c2e4f4693a29",
      "19f4c61acf914cb199eb2ac05f96e589",
      "4ab8c9b780b54bdd8f048e62e810f661",
      "acb48c014e3a4f5cb3664ffc7e225d40",
      "1ae4fb795aef4c4ca7ade4aecedca3c0",
      "4f92bd52463241eb9589189f4c9c8f05",
      "45977ce5747c42358b070a7503911872",
      "4649e61e1db444c6842df48a62eae3c2",
      "704b63216e56438ab91411264de698d6",
      "50bbe146983d4c90b90d4ed1ca59a96b",
      "3f8d4c7b0983439bae25ee47fecda122",
      "56f8e95a2f09428ea700064fe4bbe894",
      "5ca2280f98584882896b20ea0c45ff6a",
      "c17afa48dfca4afeb9959048f855cbf0",
      "33785eb9a59a46e8b7cc65e257c8dd3c",
      "747c4ab8ae8a4757997d616053a69afc",
      "00010051701d42b08eff62060b0d501c",
      "df9fdfb03519467db504bbe9de23bbd2",
      "01b49db8ce854231aa9535a3b418ec4c",
      "00afcb5fdb3749ba90472898e623b2c8",
      "4ea65e6b8639478da62a54a1648d5afe",
      "f30908b5d5cb4020a46d1fe86b1e6d0f",
      "27809212ed574da1ae5ae8558c1e842c",
      "835c55b828da496abb6ab8a679738793",
      "2e2a95fad88a40f8a60da4cb76582157",
      "1dc28ebb206347d088846d2a0beded30",
      "8a4b61ec3b9f43d7b1550de3e9976bc7",
      "0a047d2cfbc54390af9cd51332fbf661",
      "27db359a4f874e1dad4b8ce376566f89",
      "42e755c031f54aa781c04cb4540b27d8",
      "3c9fb89fd0a1409591a0475a6d138a71",
      "34504d6fa77b4abf8a58696dd7d6e3a8",
      "e4fba355bd8b4e30bc6bc64711c416dd",
      "db5def75fb674881be7167eec98eecce",
      "769bc20c7189472894d840e40b30e69d",
      "1bf0c6e12eba4124ad6e8d09be54f029"
     ]
    },
    "executionInfo": {
     "elapsed": 8328,
     "status": "ok",
     "timestamp": 1713070812233,
     "user": {
      "displayName": "Yeezi",
      "userId": "08687854767328262193"
     },
     "user_tz": -480
    },
    "id": "uyeguS_0c6Zm",
    "outputId": "381b71e5-a073-4748-818e-350f40bbe573"
   },
   "outputs": [],
   "source": [
    "ko_tokenizer = BertTokenizerFast.from_pretrained(\"kykim/bert-kor-base\")\n",
    "ko_bert_model = BertModel.from_pretrained(\"kykim/bert-kor-base\")"
   ]
  },
  {
   "cell_type": "code",
   "execution_count": 9,
   "metadata": {},
   "outputs": [],
   "source": [
    "my_src_tokenizer = zh_tokenizer\n",
    "my_tokenizer = zh_tokenizer\n",
    "my_tgt_tokenizer = ko_tokenizer\n",
    "tgt_tokenizer = ko_tokenizer"
   ]
  },
  {
   "cell_type": "code",
   "execution_count": 10,
   "metadata": {
    "executionInfo": {
     "elapsed": 13,
     "status": "ok",
     "timestamp": 1713070812233,
     "user": {
      "displayName": "Yeezi",
      "userId": "08687854767328262193"
     },
     "user_tz": -480
    },
    "id": "MbMhr_ytXkPR"
   },
   "outputs": [],
   "source": [
    "# 假設您有一個平行語料庫，這是您的資料集\n",
    "class TranslationDataset(Dataset):\n",
    "    def __init__(self, source_sentences, target_sentences):\n",
    "        self.source_sentences = source_sentences\n",
    "        self.target_sentences = target_sentences\n",
    "        self.length = len(source_sentences)\n",
    "\n",
    "    def __len__(self):\n",
    "        return self.length\n",
    "\n",
    "    def __getitem__(self, index):\n",
    "        source = self.source_sentences[index]\n",
    "        target = self.target_sentences[index]\n",
    "        return source, target\n"
   ]
  },
  {
   "cell_type": "code",
   "execution_count": 11,
   "metadata": {
    "executionInfo": {
     "elapsed": 13,
     "status": "ok",
     "timestamp": 1713070812234,
     "user": {
      "displayName": "Yeezi",
      "userId": "08687854767328262193"
     },
     "user_tz": -480
    },
    "id": "jxpMacUHXnNj"
   },
   "outputs": [],
   "source": [
    "# 建立模型\n",
    "class TranslationModel(nn.Module):\n",
    "    global my_tgt_tokenizer\n",
    "    def __init__(self, bert_model):\n",
    "        super(TranslationModel, self).__init__()\n",
    "        self.bert = bert_model\n",
    "        self.linear = nn.Linear(self.bert.config.hidden_size, my_tgt_tokenizer.vocab_size)\n",
    "\n",
    "    def forward(self, input_ids, attention_mask):\n",
    "        outputs = self.bert(input_ids=input_ids, attention_mask=attention_mask)\n",
    "        prediction_scores = self.linear(outputs.last_hidden_state)\n",
    "        return prediction_scores\n"
   ]
  },
  {
   "cell_type": "code",
   "execution_count": 12,
   "metadata": {
    "executionInfo": {
     "elapsed": 13,
     "status": "ok",
     "timestamp": 1713070812234,
     "user": {
      "displayName": "Yeezi",
      "userId": "08687854767328262193"
     },
     "user_tz": -480
    },
    "id": "3H9KG4_lXpgg"
   },
   "outputs": [],
   "source": [
    "# 載入資料集\n",
    "train_source_sentences = TRAIN_ZSENT  # 中文句子\n",
    "train_target_sentences = TRAIN_KSENT  # 韓文句子\n",
    "dataset = TranslationDataset(train_source_sentences, train_target_sentences)\n",
    "dataloader = DataLoader(dataset, batch_size=batch_size, shuffle=True)\n"
   ]
  },
  {
   "cell_type": "code",
   "execution_count": 13,
   "metadata": {
    "executionInfo": {
     "elapsed": 13,
     "status": "ok",
     "timestamp": 1713070812234,
     "user": {
      "displayName": "Yeezi",
      "userId": "08687854767328262193"
     },
     "user_tz": -480
    },
    "id": "3YKuaojTXr37"
   },
   "outputs": [],
   "source": [
    "test_source_sentences = TEST_ZSENT  # 中文句子\n",
    "test_target_sentences = TEST_KSENT  # 韓文句子\n",
    "test_dataset = TranslationDataset(test_source_sentences, test_target_sentences)\n",
    "test_dataloader = DataLoader(test_dataset, batch_size=batch_size, shuffle=True)"
   ]
  },
  {
   "cell_type": "code",
   "execution_count": 14,
   "metadata": {
    "executionInfo": {
     "elapsed": 1739,
     "status": "ok",
     "timestamp": 1713070813961,
     "user": {
      "displayName": "Yeezi",
      "userId": "08687854767328262193"
     },
     "user_tz": -480
    },
    "id": "m1SBesmJXuch"
   },
   "outputs": [],
   "source": [
    "# 初始化模型、損失函數和優化器\n",
    "model = TranslationModel(zh_bert_model).to(device)\n",
    "criterion = nn.CrossEntropyLoss()\n",
    "optimizer = optim.Adam(model.parameters(), lr=learning_rate)"
   ]
  },
  {
   "cell_type": "code",
   "execution_count": 31,
   "metadata": {
    "colab": {
     "base_uri": "https://localhost:8080/"
    },
    "executionInfo": {
     "elapsed": 6519,
     "status": "ok",
     "timestamp": 1713070820478,
     "user": {
      "displayName": "Yeezi",
      "userId": "08687854767328262193"
     },
     "user_tz": -480
    },
    "id": "elaXMMHpVltP",
    "outputId": "f0944ae9-490f-4ff0-9b92-d750b3afc45b"
   },
   "outputs": [
    {
     "data": {
      "text/plain": [
       "<All keys matched successfully>"
      ]
     },
     "execution_count": 31,
     "metadata": {},
     "output_type": "execute_result"
    }
   ],
   "source": [
    "# 加載訓練好的模型\n",
    "model = TranslationModel(zh_bert_model).to(device)\n",
    "model.load_state_dict(torch.load('./MODELS/best_translation_model({}).pth'.format(model_name)))"
   ]
  },
  {
   "cell_type": "code",
   "execution_count": 16,
   "metadata": {
    "executionInfo": {
     "elapsed": 4,
     "status": "ok",
     "timestamp": 1713070820478,
     "user": {
      "displayName": "Yeezi",
      "userId": "08687854767328262193"
     },
     "user_tz": -480
    },
    "id": "ocuLcuL6Wz1f"
   },
   "outputs": [],
   "source": [
    "def epoch_time(start_time, end_time):\n",
    "  elapsed_time = end_time - start_time\n",
    "  elapsed_mins = int(elapsed_time/60)\n",
    "  elapsed_secs = int(elapsed_time%60)\n",
    "  return elapsed_mins, elapsed_secs"
   ]
  },
  {
   "cell_type": "code",
   "execution_count": 17,
   "metadata": {
    "colab": {
     "base_uri": "https://localhost:8080/"
    },
    "executionInfo": {
     "elapsed": 5537,
     "status": "ok",
     "timestamp": 1713070826012,
     "user": {
      "displayName": "Yeezi",
      "userId": "08687854767328262193"
     },
     "user_tz": -480
    },
    "id": "1ol6KlEOdYkY",
    "outputId": "f830be52-5f0e-4106-ab45-7714213c6348"
   },
   "outputs": [
    {
     "name": "stdout",
     "output_type": "stream",
     "text": [
      "Requirement already satisfied: tqdm in /usr/local/lib/python3.10/dist-packages (4.66.2)\n"
     ]
    }
   ],
   "source": [
    "!pip install tqdm"
   ]
  },
  {
   "cell_type": "code",
   "execution_count": 17,
   "metadata": {
    "executionInfo": {
     "elapsed": 28,
     "status": "ok",
     "timestamp": 1713070826013,
     "user": {
      "displayName": "Yeezi",
      "userId": "08687854767328262193"
     },
     "user_tz": -480
    },
    "id": "rYYDgn6coBWc"
   },
   "outputs": [],
   "source": [
    "from tqdm import tqdm"
   ]
  },
  {
   "cell_type": "code",
   "execution_count": 17,
   "metadata": {
    "executionInfo": {
     "elapsed": 26,
     "status": "ok",
     "timestamp": 1713070826013,
     "user": {
      "displayName": "Yeezi",
      "userId": "08687854767328262193"
     },
     "user_tz": -480
    },
    "id": "Qe1AC6QZXGku"
   },
   "outputs": [],
   "source": [
    "def train(path):\n",
    "    global model, dataloader, optimizer, criterion, my_src_tokenizer, my_tgt_tokenizer\n",
    "    model.train()\n",
    "    total_loss = 0\n",
    "    with tqdm(total = len(dataloader)) as pbar:\n",
    "      for batch in dataloader:\n",
    "        source_batch, target_batch = batch\n",
    "        source_tokens = my_src_tokenizer(source_batch, padding='max_length', truncation=True, return_tensors='pt', max_length=max_length).to(device)\n",
    "        target_tokens = my_tgt_tokenizer(target_batch, padding='max_length', truncation=True, return_tensors='pt', max_length=max_length).to(device)\n",
    "\n",
    "        optimizer.zero_grad()\n",
    "        output = model(input_ids=source_tokens.input_ids, attention_mask=source_tokens.attention_mask)\n",
    "        loss = criterion(output.transpose(1, 2), target_tokens.input_ids)\n",
    "        loss.backward()\n",
    "        optimizer.step()\n",
    "\n",
    "        total_loss += loss.item()\n",
    "        pbar.update(1)\n",
    "    torch.save(model.state_dict(), path)\n",
    "\n",
    "    return total_loss#/len(dataloader)"
   ]
  },
  {
   "cell_type": "code",
   "execution_count": 18,
   "metadata": {
    "executionInfo": {
     "elapsed": 26,
     "status": "ok",
     "timestamp": 1713070826014,
     "user": {
      "displayName": "Yeezi",
      "userId": "08687854767328262193"
     },
     "user_tz": -480
    },
    "id": "-YtHhdmNXJFo"
   },
   "outputs": [],
   "source": [
    "def evaluate():\n",
    "  global model, test_dataloader, criterion, my_src_tokenizer, my_tgt_tokenizer\n",
    "  model.eval()\n",
    "  total_loss = 0\n",
    "  with torch.no_grad():\n",
    "    with tqdm(total = len(test_dataloader)) as pbar:\n",
    "      for batch in test_dataloader:\n",
    "        source_batch, target_batch = batch\n",
    "        source_tokens = my_src_tokenizer(source_batch, padding='max_length', truncation=True, return_tensors='pt', max_length=max_length).to(device)\n",
    "        target_tokens = my_tgt_tokenizer(target_batch, padding='max_length', truncation=True, return_tensors='pt', max_length=max_length).to(device)\n",
    "\n",
    "        output = model(input_ids=source_tokens.input_ids, attention_mask=source_tokens.attention_mask)\n",
    "        loss = criterion(output.transpose(1, 2), target_tokens.input_ids)\n",
    "\n",
    "        total_loss += loss.item()\n",
    "        pbar.update(1)\n",
    "\n",
    "  return total_loss#/len(test_dataloader)"
   ]
  },
  {
   "cell_type": "code",
   "execution_count": 19,
   "metadata": {
    "executionInfo": {
     "elapsed": 24,
     "status": "ok",
     "timestamp": 1713070826014,
     "user": {
      "displayName": "Yeezi",
      "userId": "08687854767328262193"
     },
     "user_tz": -480
    },
    "id": "sq9krtvnXM8c"
   },
   "outputs": [],
   "source": [
    "def loss_history(train_loss_values, test_loss_values, path='', to_show=False):\n",
    "  before_train_loss = []\n",
    "  before_test_loss = []\n",
    "  try:\n",
    "    df_loss = pd.read_csv('./MODELS/LOSS_HISTORY/loss_plot_{}.csv'.format(path))\n",
    "    df_loss.to_dict(orient='dict')\n",
    "\n",
    "    try:\n",
    "      before_train_loss = list(df_loss['TRAIN_LOSS'].values())\n",
    "      before_test_loss = list(df_loss['TEST_LOSS'].values())\n",
    "    except:\n",
    "      before_train_loss = list(df_loss['TRAIN_LOSS'])\n",
    "      before_test_loss = list(df_loss['TEST_LOSS'])\n",
    "\n",
    "\n",
    "  except:\n",
    "    before_train_loss = []\n",
    "    before_test_loss = []\n",
    "\n",
    "  if(len(before_train_loss)>0):\n",
    "    train_loss_values = before_train_loss + train_loss_values\n",
    "    test_loss_values = before_test_loss + test_loss_values\n",
    "\n",
    "  # 假設您有每個 epoch 的索引\n",
    "  epochs = range(1, len(train_loss_values) + 1)\n",
    "  plt.clf()\n",
    "\n",
    "  # 繪製訓練損失和測試損失的折線圖\n",
    "  plt.plot(epochs, train_loss_values, 'b', label='Training loss')\n",
    "  plt.plot(epochs, test_loss_values, 'r', label='Test loss')\n",
    "  plt.title('Training and Test Loss')\n",
    "  plt.xlabel('Epochs')\n",
    "  plt.ylabel('Loss')\n",
    "  plt.legend()\n",
    "\n",
    "  # 儲存折線圖\n",
    "  plt.savefig('./MODELS/LOSS_HISTORY/loss_plot_{}.png'.format(path))\n",
    "  if to_show:\n",
    "    plt.show()\n",
    "\n",
    "  df_loss = pd.DataFrame({'TRAIN_LOSS':train_loss_values,'TEST_LOSS':test_loss_values})\n",
    "  df_loss.to_csv('./MODELS/LOSS_HISTORY/loss_plot_{}.csv'.format(path),index=False)"
   ]
  },
  {
   "cell_type": "code",
   "execution_count": 20,
   "metadata": {
    "executionInfo": {
     "elapsed": 491,
     "status": "ok",
     "timestamp": 1713070854348,
     "user": {
      "displayName": "Yeezi",
      "userId": "08687854767328262193"
     },
     "user_tz": -480
    },
    "id": "2ttpXfwAAyut"
   },
   "outputs": [],
   "source": [
    "def bleu_history(bleu_score_values, path='', to_show=False):\n",
    "  before_bleu_score = []\n",
    "  try:\n",
    "    df_loss = pd.read_csv('./MODELS/LOSS_HISTORY/blue_plot_{}.csv'.format(path))\n",
    "    df_loss.to_dict(orient='dict')\n",
    "\n",
    "    try:\n",
    "      before_bleu_score = list(df_loss['BLEU_SCORE'].values())\n",
    "    except:\n",
    "      before_bleu_score = list(df_loss['BLEU_SCORE'])\n",
    "\n",
    "\n",
    "  except:\n",
    "    before_bleu_score = []\n",
    "\n",
    "  if(len(before_bleu_score)>0):\n",
    "    bleu_score_values = before_bleu_score + bleu_score_values\n",
    "\n",
    "  # 假設您有每個 epoch 的索引\n",
    "  epochs = range(1, len(bleu_score_values) + 1)\n",
    "  plt.clf()\n",
    "\n",
    "  # 繪製訓練損失和測試損失的折線圖\n",
    "  plt.plot(epochs, bleu_score_values, 'b', label='BLEU score')\n",
    "  plt.title('BLEU SCORE')\n",
    "  plt.xlabel('Epochs')\n",
    "  plt.ylabel('Score')\n",
    "  plt.legend()\n",
    "\n",
    "  # 儲存折線圖\n",
    "  plt.savefig('./MODELS/LOSS_HISTORY/blue_plot_{}.png'.format(path))\n",
    "  if to_show:\n",
    "    plt.show()\n",
    "\n",
    "  df_loss = pd.DataFrame({'BLEU_SCORE':bleu_score_values})\n",
    "  df_loss.to_csv('./MODELS/LOSS_HISTORY/blue_plot_{}.csv'.format(path),index=False)"
   ]
  },
  {
   "cell_type": "code",
   "execution_count": 21,
   "metadata": {
    "executionInfo": {
     "elapsed": 1630,
     "status": "ok",
     "timestamp": 1713070827623,
     "user": {
      "displayName": "Yeezi",
      "userId": "08687854767328262193"
     },
     "user_tz": -480
    },
    "id": "GBwPiLJg75AY"
   },
   "outputs": [],
   "source": [
    "from nltk.translate.bleu_score import corpus_bleu\n",
    "from nltk.translate.bleu_score import SmoothingFunction\n",
    "\n",
    "def bleu_score(test_source_sentences,model,max_length,device):\n",
    "  model.eval()\n",
    "  global my_src_tokenizer, my_tgt_tokenizer\n",
    "  # 生成目標語句\n",
    "  generated_sentences = []\n",
    "  with tqdm(total = len(test_source_sentences)) as pbar:\n",
    "    for source_sentence in test_source_sentences:\n",
    "      source_tokens = my_src_tokenizer(source_sentence, padding=True, truncation=True, return_tensors='pt', max_length=max_length).to(device)\n",
    "      with torch.no_grad():\n",
    "        output = model(input_ids=source_tokens.input_ids, attention_mask=source_tokens.attention_mask)\n",
    "      generated_sentence = my_tgt_tokenizer.decode(output[0].argmax(dim=-1), skip_special_tokens=True)\n",
    "      generated_sentences.append(generated_sentence)\n",
    "      pbar.update(1)\n",
    "\n",
    "\n",
    "  # 計算 BLEU 分數\n",
    "  smoothie = SmoothingFunction().method4\n",
    "  bleu_score = corpus_bleu([[ref] for ref in test_target_sentences], generated_sentences, smoothing_function=smoothie)\n",
    "\n",
    "  #print(\"BLEU 分數:\", bleu_score)\n",
    "  return bleu_score"
   ]
  },
  {
   "cell_type": "code",
   "execution_count": 22,
   "metadata": {},
   "outputs": [],
   "source": [
    "from sacrebleu.metrics import BLEU\n",
    "from tqdm import tqdm\n",
    "import numpy as np\n",
    "\n",
    "def analysis_score(s_list,title):\n",
    "# 平均\n",
    "  mean = np.mean(s_list)\n",
    "# 方差\n",
    "  var = np.var(s_list,ddof=1)\n",
    "# 標準差\n",
    "  std = np.std(s_list,ddof=1)\n",
    "  print('==',title,'==')\n",
    "  print('Mean:',mean)\n",
    "  print('Var:',var)\n",
    "  print('Std:',std)\n",
    "  return mean\n",
    "\n",
    "def sacrebleu_score(model, source_sentences,target_sentences,lang='ko',output_generated=False):\n",
    "  global my_tokenizer, tgt_tokenizer, max_length, device\n",
    "  model.eval()\n",
    "  bleu = BLEU()\n",
    "  bleu.trg_lang = lang\n",
    "  avg_score = {'avg':[],'1-gram':[],'2-gram':[],'3-gram':[],'4-gram':[]}\n",
    "\n",
    "  # 生成目標語句\n",
    "  generated_sentences = []\n",
    "  with tqdm(total = len(source_sentences)) as pbar:\n",
    "    for i in range(len(source_sentences)):\n",
    "        source_sentence = source_sentences[i]\n",
    "        target_sentence = target_sentences[i]\n",
    "\n",
    "        source_tokens = my_tokenizer(source_sentence, padding='max_length', truncation=True, return_tensors='pt', max_length=max_length).to(device)\n",
    "        target_tokens = tgt_tokenizer(target_sentence, padding='max_length', truncation=True, return_tensors='pt', max_length=max_length).to(device)\n",
    "        #print('source_tokens',source_tokens.input_ids)\n",
    "        \n",
    "        with torch.no_grad():\n",
    "            output = model(input_ids=source_tokens.input_ids, attention_mask=source_tokens.attention_mask)\n",
    "        generated_sentence = tgt_tokenizer.decode(output[0].argmax(dim=-1), skip_special_tokens=True)\n",
    "        gen_sent = ''\n",
    "        for sent in generated_sentence:\n",
    "            gen_sent += sent\n",
    "        generated_sentences.append(gen_sent)\n",
    "        bleu_score = bleu.corpus_score([gen_sent],[[target_sentence]])\n",
    "        #print([gen_sent],[[target_sentence]])\n",
    "        #print(bleu_score)\n",
    "        avg_score['avg'].append(bleu_score.score)     \n",
    "        avg_score['1-gram'].append(bleu_score.precisions[0])      \n",
    "        avg_score['2-gram'].append(bleu_score.precisions[1])\n",
    "        avg_score['3-gram'].append(bleu_score.precisions[2])\n",
    "        avg_score['4-gram'].append(bleu_score.precisions[3])\n",
    "        pbar.update(1)\n",
    "\n",
    "  avg_score['avg'] = analysis_score(avg_score['avg'],title='avg')\n",
    "  avg_score['1-gram'] = analysis_score(avg_score['1-gram'],title='1-gram')\n",
    "  avg_score['2-gram'] = analysis_score(avg_score['2-gram'],title='2-gram')\n",
    "  avg_score['3-gram'] = analysis_score(avg_score['3-gram'],title='3-gram')\n",
    "  avg_score['4-gram'] = analysis_score(avg_score['4-gram'],title='4-gram')\n",
    "    \n",
    "\n",
    "  if(output_generated):\n",
    "    avg_score['output'] = generated_sentences\n",
    "    #print(avg_score['output'])\n",
    "  #print('gen:',generated_sentences,'tar:',[[sent] for sent in target_sentences],'sor',source_sentences)\n",
    "  #print('BLEU Score:',bleu.score)\n",
    "\n",
    "  return avg_score"
   ]
  },
  {
   "cell_type": "code",
   "execution_count": 23,
   "metadata": {},
   "outputs": [],
   "source": [
    "def sacrebleu_history(bleu_score_values, path=model_name, to_show=False):\n",
    "  before_avg_score = {}\n",
    "  bleu_score_values = bleu_score_values[0]\n",
    "  tag = ['avg','1-gram','2-gram','3-gram','4-gram']\n",
    "  for key in tag:\n",
    "    bleu_score_values[key] = [bleu_score_values[key]]\n",
    "\n",
    "  try:\n",
    "    df_loss = pd.read_csv('./MODELS/LOSS_HISTORY/sacreblue_plot_{}.csv'.format(path))\n",
    "    df_loss.to_dict(orient='dict')\n",
    "    try:\n",
    "        for key in tag:\n",
    "            before_avg_score[key] = list(df_loss[key].values())\n",
    "    except:\n",
    "        for key in tag:\n",
    "            before_avg_score[key] = list(df_loss[key])\n",
    "\n",
    "\n",
    "  except:\n",
    "        for key in tag:\n",
    "            before_avg_score[key] = []\n",
    "\n",
    "  if(len(before_avg_score[tag[0]])>0):\n",
    "        for key in tag:\n",
    "            bleu_score_values[key] = before_avg_score[key] + bleu_score_values[key]\n",
    "  print(bleu_score_values)\n",
    "  # 假設您有每個 epoch 的索引\n",
    "  try:\n",
    "      epochs = range(1, len(bleu_score_values[tag[0]]) + 1)\n",
    "  except:\n",
    "      epochs = range(1,2)\n",
    "  plt.clf()\n",
    "\n",
    "  # 繪製訓練損失和測試損失的折線圖\n",
    "  for key in tag:\n",
    "        try:\n",
    "            plt.plot(epochs, bleu_score_values[key], label=key)\n",
    "        except:\n",
    "            plt.plot(epochs, list(bleu_score_values[key]), label=key)\n",
    "  plt.title('BLEU SCORE')\n",
    "  plt.xlabel('Epochs')\n",
    "  plt.ylabel('Score')\n",
    "  plt.legend()\n",
    "\n",
    "  # 儲存折線圖\n",
    "  plt.savefig('./MODELS/LOSS_HISTORY/sacreblue_plot_{}.png'.format(path))\n",
    "  if to_show:\n",
    "    plt.show()\n",
    "\n",
    "  df_loss = pd.DataFrame(bleu_score_values)\n",
    "  df_loss.to_csv('./MODELS/LOSS_HISTORY/sacreblue_plot_{}.csv'.format(path),index=False)\n",
    "  df_loss.head()"
   ]
  },
  {
   "cell_type": "code",
   "execution_count": 24,
   "metadata": {},
   "outputs": [],
   "source": [
    "import random\n",
    "random.seed(time.time())\n",
    "def get_samples(src_list,tgt_list,keys=['zh','ko'],p=0.1):\n",
    "    samples = {}\n",
    "    num=len(src_list)\n",
    "    for k in keys:\n",
    "        samples[k] = []\n",
    "    randomlist = random.sample(range(0, len(src_list)), int(num*p))\n",
    "    #print(randomlist[50:55])\n",
    "    for i in randomlist:\n",
    "        samples['zh'].append(src_list[i])\n",
    "        samples['ko'].append(tgt_list[i])\n",
    "    return samples"
   ]
  },
  {
   "cell_type": "code",
   "execution_count": 25,
   "metadata": {},
   "outputs": [
    {
     "name": "stderr",
     "output_type": "stream",
     "text": [
      "100%|█████████████████████████████████████████████| 3/3 [00:00<00:00, 33.05it/s]"
     ]
    },
    {
     "name": "stdout",
     "output_type": "stream",
     "text": [
      "== avg ==\n",
      "Mean: 1.5785731866892327\n",
      "Var: 2.389042983508954\n",
      "Std: 1.5456529311294156\n",
      "== 1-gram ==\n",
      "Mean: 37.346711259754734\n",
      "Var: 2946.8723317785407\n",
      "Std: 54.2851023005257\n",
      "== 2-gram ==\n",
      "Mean: 35.47979797979798\n",
      "Var: 3123.0391031527397\n",
      "Std: 55.88415789070047\n",
      "== 3-gram ==\n",
      "Mean: 1.1544011544011543\n",
      "Var: 1.2922983702204482\n",
      "Std: 1.1367930199558969\n",
      "== 4-gram ==\n",
      "Mean: 0.625\n",
      "Var: 0.390625\n",
      "Std: 0.625\n",
      "Eval Time: 0m 0s\n",
      "\tBLEU Score:\n",
      "\t\tavg: 1.579\n",
      "\t\t1-gram: 37.347\n",
      "\t\t2-gram: 35.480\n",
      "\t\t3-gram: 1.154\n",
      "\t\t4-gram: 0.625\n"
     ]
    },
    {
     "name": "stderr",
     "output_type": "stream",
     "text": [
      "\n"
     ]
    }
   ],
   "source": [
    "start_time = time.time()\n",
    "\n",
    "samples = get_samples(TEST_ZSENT,TEST_KSENT,p=0.0001)\n",
    "test_score = sacrebleu_score(model, source_sentences=samples['zh'],target_sentences=samples['ko'])\n",
    "#test_score = sacrebleu_score(model, source_sentences=TEST_ZSENT,target_sentences=TEST_KSENT)\n",
    "end_time = time.time()\n",
    "epoch_mins, epoch_secs = epoch_time(start_time, end_time)\n",
    "print(f'Eval Time: {epoch_mins}m {epoch_secs}s')\n",
    "    \n",
    "print('\\tBLEU Score:')\n",
    "for k in test_score.keys():\n",
    "    print('\\t\\t{}: {:.3f}'.format(k,test_score[k]))\n"
   ]
  },
  {
   "cell_type": "code",
   "execution_count": null,
   "metadata": {},
   "outputs": [],
   "source": [
    "# TRAIN"
   ]
  },
  {
   "cell_type": "code",
   "execution_count": 22,
   "metadata": {},
   "outputs": [
    {
     "name": "stderr",
     "output_type": "stream",
     "text": [
      "Failed to detect the name of this notebook, you can set it manually with the WANDB_NOTEBOOK_NAME environment variable to enable code saving.\n",
      "\u001b[34m\u001b[1mwandb\u001b[0m: Currently logged in as: \u001b[33mjiazhen_li\u001b[0m. Use \u001b[1m`wandb login --relogin`\u001b[0m to force relogin\n"
     ]
    },
    {
     "data": {
      "text/html": [
       "wandb version 0.17.4 is available!  To upgrade, please run:\n",
       " $ pip install wandb --upgrade"
      ],
      "text/plain": [
       "<IPython.core.display.HTML object>"
      ]
     },
     "metadata": {},
     "output_type": "display_data"
    },
    {
     "data": {
      "text/html": [
       "Tracking run with wandb version 0.16.3"
      ],
      "text/plain": [
       "<IPython.core.display.HTML object>"
      ]
     },
     "metadata": {},
     "output_type": "display_data"
    },
    {
     "data": {
      "text/html": [
       "Run data is saved locally in <code>/home/jiazhen/my-study/wandb/run-20240714_234649-my_TED_ZK3_zh</code>"
      ],
      "text/plain": [
       "<IPython.core.display.HTML object>"
      ]
     },
     "metadata": {},
     "output_type": "display_data"
    },
    {
     "data": {
      "text/html": [
       "Syncing run <strong><a href='https://wandb.ai/jiazhen_li/Chinese-Korean-Translation/runs/my_TED_ZK3_zh' target=\"_blank\">TED_ZK3_zh</a></strong> to <a href='https://wandb.ai/jiazhen_li/Chinese-Korean-Translation' target=\"_blank\">Weights & Biases</a> (<a href='https://wandb.me/run' target=\"_blank\">docs</a>)<br/>"
      ],
      "text/plain": [
       "<IPython.core.display.HTML object>"
      ]
     },
     "metadata": {},
     "output_type": "display_data"
    },
    {
     "data": {
      "text/html": [
       " View project at <a href='https://wandb.ai/jiazhen_li/Chinese-Korean-Translation' target=\"_blank\">https://wandb.ai/jiazhen_li/Chinese-Korean-Translation</a>"
      ],
      "text/plain": [
       "<IPython.core.display.HTML object>"
      ]
     },
     "metadata": {},
     "output_type": "display_data"
    },
    {
     "data": {
      "text/html": [
       " View run at <a href='https://wandb.ai/jiazhen_li/Chinese-Korean-Translation/runs/my_TED_ZK3_zh' target=\"_blank\">https://wandb.ai/jiazhen_li/Chinese-Korean-Translation/runs/my_TED_ZK3_zh</a>"
      ],
      "text/plain": [
       "<IPython.core.display.HTML object>"
      ]
     },
     "metadata": {},
     "output_type": "display_data"
    },
    {
     "data": {
      "text/html": [
       "<button onClick=\"this.nextSibling.style.display='block';this.style.display='none';\">Display W&B run</button><iframe src='https://wandb.ai/jiazhen_li/Chinese-Korean-Translation/runs/my_TED_ZK3_zh?jupyter=true' style='border:none;width:100%;height:420px;display:none;'></iframe>"
      ],
      "text/plain": [
       "<wandb.sdk.wandb_run.Run at 0x7fe3d49d5970>"
      ]
     },
     "execution_count": 22,
     "metadata": {},
     "output_type": "execute_result"
    }
   ],
   "source": [
    "import wandb\n",
    "import random\n",
    "\n",
    "# start a new wandb run to track this script\n",
    "wandb.init(\n",
    "    # set the wandb project where this run will be logged\n",
    "    project=\"Chinese-Korean-Translation\",\n",
    "    name=model_name,\n",
    "    id='my_{}'.format(model_name),\n",
    "    resume='allow',\n",
    "    # track hyperparameters and run metadata\n",
    "    config={\n",
    "    \"learning_rate\": 1e-4,\n",
    "    \"architecture\": \"BERT\",\n",
    "    \"dataset\": \"TEDTalks\",\n",
    "    \"epochs\": 30,\n",
    "    }\n",
    ")"
   ]
  },
  {
   "cell_type": "code",
   "execution_count": 44,
   "metadata": {
    "executionInfo": {
     "elapsed": 8,
     "status": "ok",
     "timestamp": 1713070827623,
     "user": {
      "displayName": "Yeezi",
      "userId": "08687854767328262193"
     },
     "user_tz": -480
    },
    "id": "7WyAXDtaXSmx"
   },
   "outputs": [],
   "source": [
    "#best_loss = 4835\n",
    "best_loss = float('inf')\n",
    "#best_score = 0.140\n",
    "best_score = 0"
   ]
  },
  {
   "cell_type": "code",
   "execution_count": 45,
   "metadata": {
    "executionInfo": {
     "elapsed": 8,
     "status": "ok",
     "timestamp": 1713070827623,
     "user": {
      "displayName": "Yeezi",
      "userId": "08687854767328262193"
     },
     "user_tz": -480
    },
    "id": "YD4OaqdCXPa9"
   },
   "outputs": [],
   "source": [
    "train_losses = []\n",
    "test_losses = []"
   ]
  },
  {
   "cell_type": "code",
   "execution_count": 46,
   "metadata": {
    "colab": {
     "base_uri": "https://localhost:8080/"
    },
    "id": "UcHtMBVDXQVX",
    "outputId": "751ace73-27ce-43c1-da97-76a7ff492542"
   },
   "outputs": [
    {
     "name": "stderr",
     "output_type": "stream",
     "text": [
      "100%|█████████████████████████████████████| 19461/19461 [17:57<00:00, 18.07it/s]\n"
     ]
    },
    {
     "name": "stdout",
     "output_type": "stream",
     "text": [
      "Epoch 01 | Train Time: 17m 57s\n"
     ]
    },
    {
     "name": "stderr",
     "output_type": "stream",
     "text": [
      "100%|███████████████████████████████████████| 4866/4866 [01:17<00:00, 62.47it/s]\n"
     ]
    },
    {
     "name": "stdout",
     "output_type": "stream",
     "text": [
      "Epoch 01 | Test Time: 1m 17s\n"
     ]
    },
    {
     "name": "stderr",
     "output_type": "stream",
     "text": [
      "100%|████████████████████████████████████| 77844/77844 [06:31<00:00, 198.59it/s]\n"
     ]
    },
    {
     "name": "stdout",
     "output_type": "stream",
     "text": [
      "Epoch 01 | Eval Time: 6m 36s\n",
      "== save model ==\n",
      "\tTrain Loss: 45944.110 | Test Loss: 10874.645\n",
      "\tBLEU Score: 0.030\n",
      "----- load_best_model -----\n"
     ]
    },
    {
     "name": "stderr",
     "output_type": "stream",
     "text": [
      "100%|█████████████████████████████████████| 19461/19461 [17:57<00:00, 18.05it/s]\n"
     ]
    },
    {
     "name": "stdout",
     "output_type": "stream",
     "text": [
      "Epoch 02 | Train Time: 18m 3s\n"
     ]
    },
    {
     "name": "stderr",
     "output_type": "stream",
     "text": [
      "100%|███████████████████████████████████████| 4866/4866 [01:17<00:00, 62.43it/s]\n"
     ]
    },
    {
     "name": "stdout",
     "output_type": "stream",
     "text": [
      "Epoch 02 | Test Time: 1m 17s\n"
     ]
    },
    {
     "name": "stderr",
     "output_type": "stream",
     "text": [
      "100%|████████████████████████████████████| 77844/77844 [06:29<00:00, 199.82it/s]\n"
     ]
    },
    {
     "name": "stdout",
     "output_type": "stream",
     "text": [
      "Epoch 02 | Eval Time: 6m 34s\n",
      "== save model ==\n",
      "\tTrain Loss: 42683.008 | Test Loss: 10494.273\n",
      "\tBLEU Score: 0.045\n",
      "----- load_best_model -----\n"
     ]
    },
    {
     "name": "stderr",
     "output_type": "stream",
     "text": [
      "100%|█████████████████████████████████████| 19461/19461 [17:58<00:00, 18.04it/s]\n"
     ]
    },
    {
     "name": "stdout",
     "output_type": "stream",
     "text": [
      "Epoch 03 | Train Time: 18m 4s\n"
     ]
    },
    {
     "name": "stderr",
     "output_type": "stream",
     "text": [
      "100%|███████████████████████████████████████| 4866/4866 [01:17<00:00, 62.49it/s]\n"
     ]
    },
    {
     "name": "stdout",
     "output_type": "stream",
     "text": [
      "Epoch 03 | Test Time: 1m 17s\n"
     ]
    },
    {
     "name": "stderr",
     "output_type": "stream",
     "text": [
      "100%|████████████████████████████████████| 77844/77844 [06:30<00:00, 199.25it/s]\n"
     ]
    },
    {
     "name": "stdout",
     "output_type": "stream",
     "text": [
      "Epoch 03 | Eval Time: 6m 36s\n",
      "== save model ==\n",
      "\tTrain Loss: 40981.128 | Test Loss: 10257.079\n",
      "\tBLEU Score: 0.060\n",
      "----- load_best_model -----\n"
     ]
    },
    {
     "name": "stderr",
     "output_type": "stream",
     "text": [
      "100%|█████████████████████████████████████| 19461/19461 [17:58<00:00, 18.05it/s]\n"
     ]
    },
    {
     "name": "stdout",
     "output_type": "stream",
     "text": [
      "Epoch 04 | Train Time: 18m 3s\n"
     ]
    },
    {
     "name": "stderr",
     "output_type": "stream",
     "text": [
      "100%|███████████████████████████████████████| 4866/4866 [01:17<00:00, 62.52it/s]\n"
     ]
    },
    {
     "name": "stdout",
     "output_type": "stream",
     "text": [
      "Epoch 04 | Test Time: 1m 17s\n"
     ]
    },
    {
     "name": "stderr",
     "output_type": "stream",
     "text": [
      "100%|████████████████████████████████████| 77844/77844 [06:32<00:00, 198.43it/s]\n"
     ]
    },
    {
     "name": "stdout",
     "output_type": "stream",
     "text": [
      "Epoch 04 | Eval Time: 6m 37s\n",
      "== save model ==\n",
      "\tTrain Loss: 39746.731 | Test Loss: 10126.454\n",
      "\tBLEU Score: 0.068\n",
      "----- load_best_model -----\n"
     ]
    },
    {
     "name": "stderr",
     "output_type": "stream",
     "text": [
      "100%|█████████████████████████████████████| 19461/19461 [17:56<00:00, 18.07it/s]\n"
     ]
    },
    {
     "name": "stdout",
     "output_type": "stream",
     "text": [
      "Epoch 05 | Train Time: 18m 4s\n"
     ]
    },
    {
     "name": "stderr",
     "output_type": "stream",
     "text": [
      "100%|███████████████████████████████████████| 4866/4866 [01:18<00:00, 62.34it/s]\n"
     ]
    },
    {
     "name": "stdout",
     "output_type": "stream",
     "text": [
      "Epoch 05 | Test Time: 1m 18s\n"
     ]
    },
    {
     "name": "stderr",
     "output_type": "stream",
     "text": [
      "100%|████████████████████████████████████| 77844/77844 [06:31<00:00, 198.61it/s]\n"
     ]
    },
    {
     "name": "stdout",
     "output_type": "stream",
     "text": [
      "Epoch 05 | Eval Time: 6m 37s\n",
      "== save model ==\n",
      "\tTrain Loss: 38704.331 | Test Loss: 10100.080\n",
      "\tBLEU Score: 0.068\n",
      "----- load_best_model -----\n"
     ]
    },
    {
     "name": "stderr",
     "output_type": "stream",
     "text": [
      "100%|█████████████████████████████████████| 19461/19461 [17:56<00:00, 18.07it/s]\n"
     ]
    },
    {
     "name": "stdout",
     "output_type": "stream",
     "text": [
      "Epoch 06 | Train Time: 18m 2s\n"
     ]
    },
    {
     "name": "stderr",
     "output_type": "stream",
     "text": [
      "100%|███████████████████████████████████████| 4866/4866 [01:18<00:00, 62.34it/s]\n"
     ]
    },
    {
     "name": "stdout",
     "output_type": "stream",
     "text": [
      "Epoch 06 | Test Time: 1m 18s\n"
     ]
    },
    {
     "name": "stderr",
     "output_type": "stream",
     "text": [
      "100%|████████████████████████████████████| 77844/77844 [06:29<00:00, 200.10it/s]\n"
     ]
    },
    {
     "name": "stdout",
     "output_type": "stream",
     "text": [
      "Epoch 06 | Eval Time: 6m 34s\n",
      "== save model ==\n",
      "\tTrain Loss: 37765.130 | Test Loss: 10071.628\n",
      "\tBLEU Score: 0.076\n",
      "----- load_best_model -----\n"
     ]
    },
    {
     "name": "stderr",
     "output_type": "stream",
     "text": [
      " 79%|█████████████████████████████        | 15292/19461 [14:05<03:52, 17.92it/s]wandb: Network error (ReadTimeout), entering retry loop.\n",
      "100%|█████████████████████████████████████| 19461/19461 [17:56<00:00, 18.07it/s]\n"
     ]
    },
    {
     "name": "stdout",
     "output_type": "stream",
     "text": [
      "Epoch 07 | Train Time: 18m 0s\n"
     ]
    },
    {
     "name": "stderr",
     "output_type": "stream",
     "text": [
      "100%|███████████████████████████████████████| 4866/4866 [01:18<00:00, 62.18it/s]\n"
     ]
    },
    {
     "name": "stdout",
     "output_type": "stream",
     "text": [
      "Epoch 07 | Test Time: 1m 18s\n"
     ]
    },
    {
     "name": "stderr",
     "output_type": "stream",
     "text": [
      "100%|████████████████████████████████████| 77844/77844 [06:32<00:00, 198.14it/s]\n"
     ]
    },
    {
     "name": "stdout",
     "output_type": "stream",
     "text": [
      "Epoch 07 | Eval Time: 6m 38s\n",
      "\tTrain Loss: 36780.255 | Test Loss: 10078.881\n",
      "\tBLEU Score: 0.076\n",
      "----- load_best_model -----\n"
     ]
    },
    {
     "name": "stderr",
     "output_type": "stream",
     "text": [
      "100%|█████████████████████████████████████| 19461/19461 [17:58<00:00, 18.04it/s]\n"
     ]
    },
    {
     "name": "stdout",
     "output_type": "stream",
     "text": [
      "Epoch 08 | Train Time: 18m 3s\n"
     ]
    },
    {
     "name": "stderr",
     "output_type": "stream",
     "text": [
      "100%|███████████████████████████████████████| 4866/4866 [01:18<00:00, 62.08it/s]\n"
     ]
    },
    {
     "name": "stdout",
     "output_type": "stream",
     "text": [
      "Epoch 08 | Test Time: 1m 18s\n"
     ]
    },
    {
     "name": "stderr",
     "output_type": "stream",
     "text": [
      "100%|████████████████████████████████████| 77844/77844 [06:30<00:00, 199.53it/s]\n"
     ]
    },
    {
     "name": "stdout",
     "output_type": "stream",
     "text": [
      "Epoch 08 | Eval Time: 6m 35s\n",
      "== save model ==\n",
      "\tTrain Loss: 36753.007 | Test Loss: 10067.431\n",
      "\tBLEU Score: 0.079\n",
      "----- load_best_model -----\n"
     ]
    },
    {
     "name": "stderr",
     "output_type": "stream",
     "text": [
      "100%|█████████████████████████████████████| 19461/19461 [17:57<00:00, 18.06it/s]\n"
     ]
    },
    {
     "name": "stdout",
     "output_type": "stream",
     "text": [
      "Epoch 09 | Train Time: 18m 2s\n"
     ]
    },
    {
     "name": "stderr",
     "output_type": "stream",
     "text": [
      "100%|███████████████████████████████████████| 4866/4866 [01:18<00:00, 62.13it/s]\n"
     ]
    },
    {
     "name": "stdout",
     "output_type": "stream",
     "text": [
      "Epoch 09 | Test Time: 1m 18s\n"
     ]
    },
    {
     "name": "stderr",
     "output_type": "stream",
     "text": [
      "100%|████████████████████████████████████| 77844/77844 [06:33<00:00, 197.67it/s]\n"
     ]
    },
    {
     "name": "stdout",
     "output_type": "stream",
     "text": [
      "Epoch 09 | Eval Time: 6m 39s\n",
      "\tTrain Loss: 35924.804 | Test Loss: 10151.418\n",
      "\tBLEU Score: 0.085\n",
      "----- load_best_model -----\n"
     ]
    },
    {
     "name": "stderr",
     "output_type": "stream",
     "text": [
      "100%|█████████████████████████████████████| 19461/19461 [17:59<00:00, 18.03it/s]\n"
     ]
    },
    {
     "name": "stdout",
     "output_type": "stream",
     "text": [
      "Epoch 10 | Train Time: 18m 4s\n"
     ]
    },
    {
     "name": "stderr",
     "output_type": "stream",
     "text": [
      "100%|███████████████████████████████████████| 4866/4866 [01:18<00:00, 62.14it/s]\n"
     ]
    },
    {
     "name": "stdout",
     "output_type": "stream",
     "text": [
      "Epoch 10 | Test Time: 1m 18s\n"
     ]
    },
    {
     "name": "stderr",
     "output_type": "stream",
     "text": [
      "100%|████████████████████████████████████| 77844/77844 [06:31<00:00, 198.70it/s]\n"
     ]
    },
    {
     "name": "stdout",
     "output_type": "stream",
     "text": [
      "Epoch 10 | Eval Time: 6m 37s\n",
      "\tTrain Loss: 35915.008 | Test Loss: 10134.875\n",
      "\tBLEU Score: 0.089\n",
      "----- load_best_model -----\n"
     ]
    },
    {
     "name": "stderr",
     "output_type": "stream",
     "text": [
      "100%|█████████████████████████████████████| 19461/19461 [17:58<00:00, 18.04it/s]\n"
     ]
    },
    {
     "name": "stdout",
     "output_type": "stream",
     "text": [
      "Epoch 11 | Train Time: 18m 5s\n"
     ]
    },
    {
     "name": "stderr",
     "output_type": "stream",
     "text": [
      "100%|███████████████████████████████████████| 4866/4866 [01:18<00:00, 62.23it/s]\n"
     ]
    },
    {
     "name": "stdout",
     "output_type": "stream",
     "text": [
      "Epoch 11 | Test Time: 1m 18s\n"
     ]
    },
    {
     "name": "stderr",
     "output_type": "stream",
     "text": [
      "100%|████████████████████████████████████| 77844/77844 [06:34<00:00, 197.53it/s]\n"
     ]
    },
    {
     "name": "stdout",
     "output_type": "stream",
     "text": [
      "Epoch 11 | Eval Time: 6m 39s\n",
      "\tTrain Loss: 35847.174 | Test Loss: 10153.429\n",
      "\tBLEU Score: 0.087\n",
      "----- load_best_model -----\n"
     ]
    },
    {
     "name": "stderr",
     "output_type": "stream",
     "text": [
      "100%|█████████████████████████████████████| 19461/19461 [17:59<00:00, 18.02it/s]\n"
     ]
    },
    {
     "name": "stdout",
     "output_type": "stream",
     "text": [
      "Epoch 12 | Train Time: 18m 3s\n"
     ]
    },
    {
     "name": "stderr",
     "output_type": "stream",
     "text": [
      "100%|███████████████████████████████████████| 4866/4866 [01:18<00:00, 62.14it/s]\n"
     ]
    },
    {
     "name": "stdout",
     "output_type": "stream",
     "text": [
      "Epoch 12 | Test Time: 1m 18s\n"
     ]
    },
    {
     "name": "stderr",
     "output_type": "stream",
     "text": [
      "100%|████████████████████████████████████| 77844/77844 [06:29<00:00, 199.73it/s]\n"
     ]
    },
    {
     "name": "stdout",
     "output_type": "stream",
     "text": [
      "Epoch 12 | Eval Time: 6m 35s\n",
      "\tTrain Loss: 35898.808 | Test Loss: 10125.385\n",
      "\tBLEU Score: 0.091\n",
      "----- load_best_model -----\n"
     ]
    },
    {
     "name": "stderr",
     "output_type": "stream",
     "text": [
      "100%|█████████████████████████████████████| 19461/19461 [17:58<00:00, 18.04it/s]\n"
     ]
    },
    {
     "name": "stdout",
     "output_type": "stream",
     "text": [
      "Epoch 13 | Train Time: 18m 4s\n"
     ]
    },
    {
     "name": "stderr",
     "output_type": "stream",
     "text": [
      "100%|███████████████████████████████████████| 4866/4866 [01:18<00:00, 62.14it/s]\n"
     ]
    },
    {
     "name": "stdout",
     "output_type": "stream",
     "text": [
      "Epoch 13 | Test Time: 1m 18s\n"
     ]
    },
    {
     "name": "stderr",
     "output_type": "stream",
     "text": [
      "100%|████████████████████████████████████| 77844/77844 [06:35<00:00, 196.68it/s]\n"
     ]
    },
    {
     "name": "stdout",
     "output_type": "stream",
     "text": [
      "Epoch 13 | Eval Time: 6m 41s\n",
      "\tTrain Loss: 35906.065 | Test Loss: 10130.596\n",
      "\tBLEU Score: 0.093\n",
      "----- load_best_model -----\n"
     ]
    },
    {
     "name": "stderr",
     "output_type": "stream",
     "text": [
      "100%|█████████████████████████████████████| 19461/19461 [17:59<00:00, 18.03it/s]\n"
     ]
    },
    {
     "name": "stdout",
     "output_type": "stream",
     "text": [
      "Epoch 14 | Train Time: 18m 3s\n"
     ]
    },
    {
     "name": "stderr",
     "output_type": "stream",
     "text": [
      "100%|███████████████████████████████████████| 4866/4866 [01:18<00:00, 61.94it/s]\n"
     ]
    },
    {
     "name": "stdout",
     "output_type": "stream",
     "text": [
      "Epoch 14 | Test Time: 1m 18s\n"
     ]
    },
    {
     "name": "stderr",
     "output_type": "stream",
     "text": [
      "100%|████████████████████████████████████| 77844/77844 [06:35<00:00, 196.84it/s]\n"
     ]
    },
    {
     "name": "stdout",
     "output_type": "stream",
     "text": [
      "Epoch 14 | Eval Time: 6m 41s\n",
      "\tTrain Loss: 35914.825 | Test Loss: 10172.968\n",
      "\tBLEU Score: 0.087\n",
      "----- load_best_model -----\n"
     ]
    },
    {
     "name": "stderr",
     "output_type": "stream",
     "text": [
      "100%|█████████████████████████████████████| 19461/19461 [17:57<00:00, 18.05it/s]\n"
     ]
    },
    {
     "name": "stdout",
     "output_type": "stream",
     "text": [
      "Epoch 15 | Train Time: 18m 1s\n"
     ]
    },
    {
     "name": "stderr",
     "output_type": "stream",
     "text": [
      "100%|███████████████████████████████████████| 4866/4866 [01:18<00:00, 62.11it/s]\n"
     ]
    },
    {
     "name": "stdout",
     "output_type": "stream",
     "text": [
      "Epoch 15 | Test Time: 1m 18s\n"
     ]
    },
    {
     "name": "stderr",
     "output_type": "stream",
     "text": [
      "100%|████████████████████████████████████| 77844/77844 [06:36<00:00, 196.39it/s]\n"
     ]
    },
    {
     "name": "stdout",
     "output_type": "stream",
     "text": [
      "Epoch 15 | Eval Time: 6m 42s\n",
      "\tTrain Loss: 35922.015 | Test Loss: 10220.577\n",
      "\tBLEU Score: 0.083\n",
      "----- load_best_model -----\n"
     ]
    },
    {
     "name": "stderr",
     "output_type": "stream",
     "text": [
      "100%|█████████████████████████████████████| 19461/19461 [17:59<00:00, 18.03it/s]\n"
     ]
    },
    {
     "name": "stdout",
     "output_type": "stream",
     "text": [
      "Epoch 16 | Train Time: 18m 4s\n"
     ]
    },
    {
     "name": "stderr",
     "output_type": "stream",
     "text": [
      "100%|███████████████████████████████████████| 4866/4866 [01:18<00:00, 62.12it/s]\n"
     ]
    },
    {
     "name": "stdout",
     "output_type": "stream",
     "text": [
      "Epoch 16 | Test Time: 1m 18s\n"
     ]
    },
    {
     "name": "stderr",
     "output_type": "stream",
     "text": [
      "100%|████████████████████████████████████| 77844/77844 [06:32<00:00, 198.12it/s]\n"
     ]
    },
    {
     "name": "stdout",
     "output_type": "stream",
     "text": [
      "Epoch 16 | Eval Time: 6m 38s\n",
      "\tTrain Loss: 35907.943 | Test Loss: 10178.032\n",
      "\tBLEU Score: 0.082\n",
      "----- load_best_model -----\n"
     ]
    },
    {
     "name": "stderr",
     "output_type": "stream",
     "text": [
      "100%|█████████████████████████████████████| 19461/19461 [18:00<00:00, 18.01it/s]\n"
     ]
    },
    {
     "name": "stdout",
     "output_type": "stream",
     "text": [
      "Epoch 17 | Train Time: 18m 5s\n"
     ]
    },
    {
     "name": "stderr",
     "output_type": "stream",
     "text": [
      "100%|███████████████████████████████████████| 4866/4866 [01:18<00:00, 62.18it/s]\n"
     ]
    },
    {
     "name": "stdout",
     "output_type": "stream",
     "text": [
      "Epoch 17 | Test Time: 1m 18s\n"
     ]
    },
    {
     "name": "stderr",
     "output_type": "stream",
     "text": [
      "100%|████████████████████████████████████| 77844/77844 [06:30<00:00, 199.44it/s]\n"
     ]
    },
    {
     "name": "stdout",
     "output_type": "stream",
     "text": [
      "Epoch 17 | Eval Time: 6m 36s\n",
      "\tTrain Loss: 35920.250 | Test Loss: 10119.098\n",
      "\tBLEU Score: 0.083\n",
      "----- load_best_model -----\n"
     ]
    },
    {
     "name": "stderr",
     "output_type": "stream",
     "text": [
      "100%|█████████████████████████████████████| 19461/19461 [17:58<00:00, 18.05it/s]\n"
     ]
    },
    {
     "name": "stdout",
     "output_type": "stream",
     "text": [
      "Epoch 18 | Train Time: 18m 2s\n"
     ]
    },
    {
     "name": "stderr",
     "output_type": "stream",
     "text": [
      "100%|███████████████████████████████████████| 4866/4866 [01:18<00:00, 61.91it/s]\n"
     ]
    },
    {
     "name": "stdout",
     "output_type": "stream",
     "text": [
      "Epoch 18 | Test Time: 1m 18s\n"
     ]
    },
    {
     "name": "stderr",
     "output_type": "stream",
     "text": [
      "100%|████████████████████████████████████| 77844/77844 [06:31<00:00, 199.06it/s]\n"
     ]
    },
    {
     "name": "stdout",
     "output_type": "stream",
     "text": [
      "Epoch 18 | Eval Time: 6m 37s\n",
      "\tTrain Loss: 35910.835 | Test Loss: 10138.230\n",
      "\tBLEU Score: 0.084\n",
      "----- load_best_model -----\n"
     ]
    },
    {
     "name": "stderr",
     "output_type": "stream",
     "text": [
      "100%|█████████████████████████████████████| 19461/19461 [17:58<00:00, 18.04it/s]\n"
     ]
    },
    {
     "name": "stdout",
     "output_type": "stream",
     "text": [
      "Epoch 19 | Train Time: 18m 2s\n"
     ]
    },
    {
     "name": "stderr",
     "output_type": "stream",
     "text": [
      "100%|███████████████████████████████████████| 4866/4866 [01:18<00:00, 62.05it/s]\n"
     ]
    },
    {
     "name": "stdout",
     "output_type": "stream",
     "text": [
      "Epoch 19 | Test Time: 1m 18s\n"
     ]
    },
    {
     "name": "stderr",
     "output_type": "stream",
     "text": [
      "100%|████████████████████████████████████| 77844/77844 [06:32<00:00, 198.44it/s]\n"
     ]
    },
    {
     "name": "stdout",
     "output_type": "stream",
     "text": [
      "Epoch 19 | Eval Time: 6m 37s\n",
      "\tTrain Loss: 35916.946 | Test Loss: 10109.064\n",
      "\tBLEU Score: 0.086\n",
      "----- load_best_model -----\n"
     ]
    },
    {
     "name": "stderr",
     "output_type": "stream",
     "text": [
      "100%|█████████████████████████████████████| 19461/19461 [17:59<00:00, 18.03it/s]\n"
     ]
    },
    {
     "name": "stdout",
     "output_type": "stream",
     "text": [
      "Epoch 20 | Train Time: 18m 3s\n"
     ]
    },
    {
     "name": "stderr",
     "output_type": "stream",
     "text": [
      "100%|███████████████████████████████████████| 4866/4866 [01:18<00:00, 61.96it/s]\n"
     ]
    },
    {
     "name": "stdout",
     "output_type": "stream",
     "text": [
      "Epoch 20 | Test Time: 1m 18s\n"
     ]
    },
    {
     "name": "stderr",
     "output_type": "stream",
     "text": [
      "100%|████████████████████████████████████| 77844/77844 [06:32<00:00, 198.25it/s]\n"
     ]
    },
    {
     "name": "stdout",
     "output_type": "stream",
     "text": [
      "Epoch 20 | Eval Time: 6m 38s\n",
      "\tTrain Loss: 35920.270 | Test Loss: 10160.439\n",
      "\tBLEU Score: 0.086\n",
      "----- load_best_model -----\n"
     ]
    },
    {
     "name": "stderr",
     "output_type": "stream",
     "text": [
      "100%|█████████████████████████████████████| 19461/19461 [18:00<00:00, 18.02it/s]\n"
     ]
    },
    {
     "name": "stdout",
     "output_type": "stream",
     "text": [
      "Epoch 21 | Train Time: 18m 6s\n"
     ]
    },
    {
     "name": "stderr",
     "output_type": "stream",
     "text": [
      "100%|███████████████████████████████████████| 4866/4866 [01:18<00:00, 62.11it/s]\n"
     ]
    },
    {
     "name": "stdout",
     "output_type": "stream",
     "text": [
      "Epoch 21 | Test Time: 1m 18s\n"
     ]
    },
    {
     "name": "stderr",
     "output_type": "stream",
     "text": [
      "100%|████████████████████████████████████| 77844/77844 [06:32<00:00, 198.14it/s]\n"
     ]
    },
    {
     "name": "stdout",
     "output_type": "stream",
     "text": [
      "Epoch 21 | Eval Time: 6m 38s\n",
      "\tTrain Loss: 35897.637 | Test Loss: 10150.735\n",
      "\tBLEU Score: 0.085\n",
      "----- load_best_model -----\n"
     ]
    },
    {
     "name": "stderr",
     "output_type": "stream",
     "text": [
      "100%|█████████████████████████████████████| 19461/19461 [17:59<00:00, 18.02it/s]\n"
     ]
    },
    {
     "name": "stdout",
     "output_type": "stream",
     "text": [
      "Epoch 22 | Train Time: 18m 4s\n"
     ]
    },
    {
     "name": "stderr",
     "output_type": "stream",
     "text": [
      "100%|███████████████████████████████████████| 4866/4866 [01:18<00:00, 62.20it/s]\n"
     ]
    },
    {
     "name": "stdout",
     "output_type": "stream",
     "text": [
      "Epoch 22 | Test Time: 1m 18s\n"
     ]
    },
    {
     "name": "stderr",
     "output_type": "stream",
     "text": [
      "100%|████████████████████████████████████| 77844/77844 [06:32<00:00, 198.31it/s]\n"
     ]
    },
    {
     "name": "stdout",
     "output_type": "stream",
     "text": [
      "Epoch 22 | Eval Time: 6m 38s\n",
      "\tTrain Loss: 35903.740 | Test Loss: 10140.839\n",
      "\tBLEU Score: 0.085\n",
      "----- load_best_model -----\n"
     ]
    },
    {
     "name": "stderr",
     "output_type": "stream",
     "text": [
      "100%|█████████████████████████████████████| 19461/19461 [17:59<00:00, 18.02it/s]\n"
     ]
    },
    {
     "name": "stdout",
     "output_type": "stream",
     "text": [
      "Epoch 23 | Train Time: 18m 5s\n"
     ]
    },
    {
     "name": "stderr",
     "output_type": "stream",
     "text": [
      "100%|███████████████████████████████████████| 4866/4866 [01:18<00:00, 62.19it/s]\n"
     ]
    },
    {
     "name": "stdout",
     "output_type": "stream",
     "text": [
      "Epoch 23 | Test Time: 1m 18s\n"
     ]
    },
    {
     "name": "stderr",
     "output_type": "stream",
     "text": [
      "100%|████████████████████████████████████| 77844/77844 [06:33<00:00, 197.69it/s]\n"
     ]
    },
    {
     "name": "stdout",
     "output_type": "stream",
     "text": [
      "Epoch 23 | Eval Time: 6m 39s\n",
      "\tTrain Loss: 35905.985 | Test Loss: 10130.663\n",
      "\tBLEU Score: 0.087\n",
      "----- load_best_model -----\n"
     ]
    },
    {
     "name": "stderr",
     "output_type": "stream",
     "text": [
      "100%|█████████████████████████████████████| 19461/19461 [17:58<00:00, 18.05it/s]\n"
     ]
    },
    {
     "name": "stdout",
     "output_type": "stream",
     "text": [
      "Epoch 24 | Train Time: 18m 3s\n"
     ]
    },
    {
     "name": "stderr",
     "output_type": "stream",
     "text": [
      "100%|███████████████████████████████████████| 4866/4866 [01:18<00:00, 62.12it/s]\n"
     ]
    },
    {
     "name": "stdout",
     "output_type": "stream",
     "text": [
      "Epoch 24 | Test Time: 1m 18s\n"
     ]
    },
    {
     "name": "stderr",
     "output_type": "stream",
     "text": [
      "100%|████████████████████████████████████| 77844/77844 [06:33<00:00, 197.76it/s]\n"
     ]
    },
    {
     "name": "stdout",
     "output_type": "stream",
     "text": [
      "Epoch 24 | Eval Time: 6m 39s\n",
      "\tTrain Loss: 35912.230 | Test Loss: 10115.108\n",
      "\tBLEU Score: 0.090\n",
      "----- load_best_model -----\n"
     ]
    },
    {
     "name": "stderr",
     "output_type": "stream",
     "text": [
      "100%|█████████████████████████████████████| 19461/19461 [17:59<00:00, 18.03it/s]\n"
     ]
    },
    {
     "name": "stdout",
     "output_type": "stream",
     "text": [
      "Epoch 25 | Train Time: 18m 4s\n"
     ]
    },
    {
     "name": "stderr",
     "output_type": "stream",
     "text": [
      "100%|███████████████████████████████████████| 4866/4866 [01:18<00:00, 62.18it/s]\n"
     ]
    },
    {
     "name": "stdout",
     "output_type": "stream",
     "text": [
      "Epoch 25 | Test Time: 1m 18s\n"
     ]
    },
    {
     "name": "stderr",
     "output_type": "stream",
     "text": [
      "100%|████████████████████████████████████| 77844/77844 [06:32<00:00, 198.42it/s]\n"
     ]
    },
    {
     "name": "stdout",
     "output_type": "stream",
     "text": [
      "Epoch 25 | Eval Time: 6m 38s\n",
      "\tTrain Loss: 35907.971 | Test Loss: 10140.852\n",
      "\tBLEU Score: 0.088\n",
      "----- load_best_model -----\n"
     ]
    },
    {
     "name": "stderr",
     "output_type": "stream",
     "text": [
      "100%|█████████████████████████████████████| 19461/19461 [17:58<00:00, 18.04it/s]\n"
     ]
    },
    {
     "name": "stdout",
     "output_type": "stream",
     "text": [
      "Epoch 26 | Train Time: 18m 3s\n"
     ]
    },
    {
     "name": "stderr",
     "output_type": "stream",
     "text": [
      "100%|███████████████████████████████████████| 4866/4866 [01:18<00:00, 62.18it/s]\n"
     ]
    },
    {
     "name": "stdout",
     "output_type": "stream",
     "text": [
      "Epoch 26 | Test Time: 1m 18s\n"
     ]
    },
    {
     "name": "stderr",
     "output_type": "stream",
     "text": [
      "100%|████████████████████████████████████| 77844/77844 [06:31<00:00, 199.08it/s]\n"
     ]
    },
    {
     "name": "stdout",
     "output_type": "stream",
     "text": [
      "Epoch 26 | Eval Time: 6m 37s\n",
      "\tTrain Loss: 35920.339 | Test Loss: 10155.434\n",
      "\tBLEU Score: 0.090\n",
      "----- load_best_model -----\n"
     ]
    },
    {
     "name": "stderr",
     "output_type": "stream",
     "text": [
      "100%|█████████████████████████████████████| 19461/19461 [17:58<00:00, 18.05it/s]\n"
     ]
    },
    {
     "name": "stdout",
     "output_type": "stream",
     "text": [
      "Epoch 27 | Train Time: 18m 2s\n"
     ]
    },
    {
     "name": "stderr",
     "output_type": "stream",
     "text": [
      "100%|███████████████████████████████████████| 4866/4866 [01:18<00:00, 62.19it/s]\n"
     ]
    },
    {
     "name": "stdout",
     "output_type": "stream",
     "text": [
      "Epoch 27 | Test Time: 1m 18s\n"
     ]
    },
    {
     "name": "stderr",
     "output_type": "stream",
     "text": [
      "100%|████████████████████████████████████| 77844/77844 [06:30<00:00, 199.56it/s]\n"
     ]
    },
    {
     "name": "stdout",
     "output_type": "stream",
     "text": [
      "Epoch 27 | Eval Time: 6m 35s\n",
      "\tTrain Loss: 35910.846 | Test Loss: 10087.738\n",
      "\tBLEU Score: 0.082\n",
      "----- load_best_model -----\n"
     ]
    },
    {
     "name": "stderr",
     "output_type": "stream",
     "text": [
      "100%|█████████████████████████████████████| 19461/19461 [17:58<00:00, 18.04it/s]\n"
     ]
    },
    {
     "name": "stdout",
     "output_type": "stream",
     "text": [
      "Epoch 28 | Train Time: 18m 3s\n"
     ]
    },
    {
     "name": "stderr",
     "output_type": "stream",
     "text": [
      "100%|███████████████████████████████████████| 4866/4866 [01:18<00:00, 62.17it/s]\n"
     ]
    },
    {
     "name": "stdout",
     "output_type": "stream",
     "text": [
      "Epoch 28 | Test Time: 1m 18s\n"
     ]
    },
    {
     "name": "stderr",
     "output_type": "stream",
     "text": [
      "100%|████████████████████████████████████| 77844/77844 [06:28<00:00, 200.36it/s]\n"
     ]
    },
    {
     "name": "stdout",
     "output_type": "stream",
     "text": [
      "Epoch 28 | Eval Time: 6m 34s\n",
      "\tTrain Loss: 35913.981 | Test Loss: 10113.820\n",
      "\tBLEU Score: 0.084\n",
      "----- load_best_model -----\n"
     ]
    },
    {
     "name": "stderr",
     "output_type": "stream",
     "text": [
      "100%|█████████████████████████████████████| 19461/19461 [17:58<00:00, 18.04it/s]\n"
     ]
    },
    {
     "name": "stdout",
     "output_type": "stream",
     "text": [
      "Epoch 29 | Train Time: 18m 2s\n"
     ]
    },
    {
     "name": "stderr",
     "output_type": "stream",
     "text": [
      "100%|███████████████████████████████████████| 4866/4866 [01:18<00:00, 62.20it/s]\n"
     ]
    },
    {
     "name": "stdout",
     "output_type": "stream",
     "text": [
      "Epoch 29 | Test Time: 1m 18s\n"
     ]
    },
    {
     "name": "stderr",
     "output_type": "stream",
     "text": [
      "100%|████████████████████████████████████| 77844/77844 [06:30<00:00, 199.57it/s]\n"
     ]
    },
    {
     "name": "stdout",
     "output_type": "stream",
     "text": [
      "Epoch 29 | Eval Time: 6m 35s\n",
      "\tTrain Loss: 35905.699 | Test Loss: 10115.575\n",
      "\tBLEU Score: 0.092\n",
      "----- load_best_model -----\n"
     ]
    },
    {
     "name": "stderr",
     "output_type": "stream",
     "text": [
      "100%|█████████████████████████████████████| 19461/19461 [17:59<00:00, 18.02it/s]\n"
     ]
    },
    {
     "name": "stdout",
     "output_type": "stream",
     "text": [
      "Epoch 30 | Train Time: 18m 5s\n"
     ]
    },
    {
     "name": "stderr",
     "output_type": "stream",
     "text": [
      "100%|███████████████████████████████████████| 4866/4866 [01:18<00:00, 62.16it/s]\n"
     ]
    },
    {
     "name": "stdout",
     "output_type": "stream",
     "text": [
      "Epoch 30 | Test Time: 1m 18s\n"
     ]
    },
    {
     "name": "stderr",
     "output_type": "stream",
     "text": [
      "100%|████████████████████████████████████| 77844/77844 [06:30<00:00, 199.33it/s]\n"
     ]
    },
    {
     "name": "stdout",
     "output_type": "stream",
     "text": [
      "Epoch 30 | Eval Time: 6m 36s\n",
      "\tTrain Loss: 35937.848 | Test Loss: 10150.249\n",
      "\tBLEU Score: 0.090\n",
      "----- load_best_model -----\n"
     ]
    },
    {
     "data": {
      "image/png": "[encoded data removed]",
      "text/plain": [
       "<Figure size 640x480 with 1 Axes>"
      ]
     },
     "metadata": {},
     "output_type": "display_data"
    }
   ],
   "source": [
    "# 訓練模型\n",
    "for epoch in range(num_epochs):\n",
    "    train_losses = []\n",
    "    test_losses = []\n",
    "    bleu_scores = []\n",
    "\n",
    "    start_time = time.time()\n",
    "    train_loss = train(path='./MODELS/translation_model({}).pth'.format(model_name))\n",
    "    end_time = time.time()\n",
    "    epoch_mins, epoch_secs = epoch_time(start_time, end_time)\n",
    "\n",
    "    print(f'Epoch {epoch+1:02} | Train Time: {epoch_mins}m {epoch_secs}s')\n",
    "\n",
    "    start_time = time.time()\n",
    "    test_loss = evaluate()\n",
    "\n",
    "    end_time = time.time()\n",
    "    epoch_mins, epoch_secs = epoch_time(start_time, end_time)\n",
    "    print(f'Epoch {epoch+1:02} | Test Time: {epoch_mins}m {epoch_secs}s')\n",
    "\n",
    "    start_time = time.time()\n",
    "    score = bleu_score(test_source_sentences,model,max_length,device)\n",
    "    end_time = time.time()\n",
    "    epoch_mins, epoch_secs = epoch_time(start_time, end_time)\n",
    "    print(f'Epoch {epoch+1:02} | Eval Time: {epoch_mins}m {epoch_secs}s')\n",
    "\n",
    "    # 儲存訓練好的模型\n",
    "    if(test_score['avg'] > best_score or test_loss < best_loss):\n",
    "       if(test_loss < best_loss):\n",
    "          best_loss = test_loss\n",
    "       if(test_score['avg'] > best_score):\n",
    "          best_score = test_score['avg']\n",
    "       torch.save(model.state_dict(), './MODELS/best_translation_model({}).pth'.format(model_name))\n",
    "       print('== save model ==')\n",
    "        \n",
    "    print('\\tTrain Loss: {:.3f} | Test Loss: {:.3f}'.format(train_loss, test_loss))\n",
    "    print('\\tBLEU Score: {:.3f}'.format(score))\n",
    "\n",
    "    if(best_score - test_score['avg'] > 3 or test_score['avg'] < 0.01):\n",
    "      try:\n",
    "        model.load_state_dict(torch.load('./MODELS/best_translation_model({}).pth'.format(model_name)))\n",
    "        print('-'*5,'load_best_model','-'*5)\n",
    "      except:\n",
    "        model = TranslationModel(my_model).to(device)\n",
    "        print('-'*5,'initialize','-'*5)\n",
    "\n",
    "    train_losses.append(train_loss)\n",
    "    test_losses.append(test_loss)\n",
    "    bleu_scores.append(score)\n",
    "\n",
    "    loss_history(train_losses, test_losses, path=model_name, to_show=False)\n",
    "    bleu_history(bleu_scores, path=model_name, to_show=False)"
   ]
  },
  {
   "cell_type": "code",
   "execution_count": null,
   "metadata": {
    "id": "ceNwfHY0W3rq"
   },
   "outputs": [],
   "source": [
    "bleu_score(test_source_sentences,model,max_length,device)"
   ]
  },
  {
   "cell_type": "code",
   "execution_count": 57,
   "metadata": {},
   "outputs": [],
   "source": [
    "from sacrebleu.metrics import BLEU\n",
    "from tqdm import tqdm\n",
    "import numpy as np\n",
    "\n",
    "def analysis_score(s_list,title):\n",
    "# 平均\n",
    "  mean = np.mean(s_list)\n",
    "# 方差\n",
    "  var = np.var(s_list,ddof=1)\n",
    "# 標準差\n",
    "  std = np.std(s_list,ddof=1)\n",
    "  print('==',title,'==')\n",
    "  print('Mean:',mean)\n",
    "  print('Var:',var)\n",
    "  print('Std:',std)\n",
    "    \n",
    "def sacrebleu_score(model, source_sentences,target_sentences,lang='ko',output_generated=False):\n",
    "  global my_tokenizer, tgt_tokenizer, max_length, device\n",
    "  bleu = BLEU()\n",
    "  bleu.trg_lang = lang\n",
    "  avg_score = {'avg':[],'1-gram':[],'2-gram':[],'3-gram':[],'4-gram':[]}\n",
    "\n",
    "  # 生成目標語句\n",
    "  generated_sentences = []\n",
    "  with tqdm(total = len(source_sentences)) as pbar:\n",
    "    for i in range(len(source_sentences)):\n",
    "        source_sentence = source_sentences[i]\n",
    "        target_sentence = target_sentences[i]\n",
    "        source_tokens = my_src_tokenizer(source_sentence, padding=True, truncation=True, return_tensors='pt', max_length=max_length).to(device)\n",
    "        with torch.no_grad():\n",
    "            output = model(input_ids=source_tokens.input_ids, attention_mask=source_tokens.attention_mask)\n",
    "        generated_sentence = my_tgt_tokenizer.decode(output[0].argmax(dim=-1), skip_special_tokens=True)\n",
    "        gen_sent = ''\n",
    "        for sent in generated_sentence:\n",
    "            gen_sent += sent \n",
    "        bleu_score = bleu.corpus_score([gen_sent],[[target_sentence]])\n",
    "        #print([gen_sent],[[target_sentence]])\n",
    "        #print(bleu_score)\n",
    "        avg_score['avg'].append(bleu_score.score)     \n",
    "        avg_score['1-gram'].append(bleu_score.precisions[0])      \n",
    "        avg_score['2-gram'].append(bleu_score.precisions[1])\n",
    "        avg_score['3-gram'].append(bleu_score.precisions[2])\n",
    "        avg_score['4-gram'].append(bleu_score.precisions[3])\n",
    "        pbar.update(1)\n",
    "\n",
    "  analysis_score(avg_score['avg'],title='avg')\n",
    "  analysis_score(avg_score['1-gram'],title='1-gram')\n",
    "  analysis_score(avg_score['2-gram'],title='2-gram')\n",
    "  analysis_score(avg_score['3-gram'],title='3-gram')\n",
    "  analysis_score(avg_score['4-gram'],title='4-gram')\n",
    "  if(output_generated):\n",
    "        avg_score['output'] = generated_sentences\n",
    "  #print('gen:',generated_sentences,'tar:',[[sent] for sent in target_sentences],'sor',source_sentences)\n",
    "  #print('BLEU Score:',bleu.score)\n",
    "\n",
    "  return avg_score"
   ]
  },
  {
   "cell_type": "code",
   "execution_count": 91,
   "metadata": {},
   "outputs": [],
   "source": [
    "my_tokenizer = BertTokenizer.from_pretrained('bert-base-multilingual-cased')"
   ]
  },
  {
   "cell_type": "code",
   "execution_count": 100,
   "metadata": {},
   "outputs": [
    {
     "data": {
      "text/plain": [
       "<All keys matched successfully>"
      ]
     },
     "execution_count": 100,
     "metadata": {},
     "output_type": "execute_result"
    }
   ],
   "source": [
    "bert_model = BertModel.from_pretrained('bert-base-multilingual-cased').to(device)\n",
    "my_model = TranslationModel(bert_model).to(device)\n",
    "my_model.load_state_dict(torch.load('./MODELS/best_translation_model(ZK1).pth'))"
   ]
  },
  {
   "cell_type": "code",
   "execution_count": 92,
   "metadata": {},
   "outputs": [],
   "source": [
    "my_src_tokenizer = my_tokenizer\n",
    "my_tgt_tokenizer = my_tokenizer"
   ]
  },
  {
   "cell_type": "code",
   "execution_count": 102,
   "metadata": {},
   "outputs": [
    {
     "name": "stderr",
     "output_type": "stream",
     "text": [
      "100%|██████████████████████████████████████████████████████████████████████████| 146661/146661 [13:56<00:00, 175.30it/s]\n",
      "100%|████████████████████████████████████████████████████████████████████████████| 36089/36089 [03:23<00:00, 177.01it/s]"
     ]
    },
    {
     "name": "stdout",
     "output_type": "stream",
     "text": [
      "Train: {'avg': 9.709350444946514, '1-gram': 33.360631680660404, '2-gram': 15.469886176828068, '3-gram': 9.667330497100153, '4-gram': 6.171469824361048}\n",
      "Test: {'avg': 3.4195701996118903, '1-gram': 13.467277849894918, '2-gram': 6.178931352084021, '3-gram': 3.8111523642879237, '4-gram': 2.4110431605218654}\n"
     ]
    },
    {
     "name": "stderr",
     "output_type": "stream",
     "text": [
      "\n"
     ]
    }
   ],
   "source": [
    "# best_translation_model(ZK1).pth\n",
    "train_score = sacrebleu_score(TRAIN_ZSENT,TRAIN_KSENT)\n",
    "test_score = sacrebleu_score(TEST_ZSENT,TEST_KSENT)\n",
    "print('Train:',train_score)\n",
    "print('Test:',test_score)"
   ]
  },
  {
   "cell_type": "code",
   "execution_count": 80,
   "metadata": {
    "scrolled": true
   },
   "outputs": [
    {
     "name": "stderr",
     "output_type": "stream",
     "text": [
      "100%|██████████████████████████████████████████████████████████████████████████| 146661/146661 [12:07<00:00, 201.71it/s]\n",
      "100%|████████████████████████████████████████████████████████████████████████████| 36089/36089 [03:00<00:00, 200.26it/s]"
     ]
    },
    {
     "name": "stdout",
     "output_type": "stream",
     "text": [
      "Train: {'avg': 74.83872064302761, '1-gram': 90.2927690452662, '2-gram': 82.99562640895392, '3-gram': 75.81112091088643, '4-gram': 69.551313764024}\n",
      "Test: {'avg': 8.843460114389497, '1-gram': 20.370982428338017, '2-gram': 12.215845936874512, '3-gram': 8.871147299464774, '4-gram': 7.092441168170394}\n"
     ]
    },
    {
     "name": "stderr",
     "output_type": "stream",
     "text": [
      "\n"
     ]
    }
   ],
   "source": [
    "# best_translation_model(ZK3_zh).pth\n",
    "train_score = sacrebleu_score(TRAIN_ZSENT,TRAIN_KSENT)\n",
    "test_score = sacrebleu_score(TEST_ZSENT,TEST_KSENT)\n",
    "print('Train:',train_score)\n",
    "print('Test:',test_score)"
   ]
  },
  {
   "cell_type": "code",
   "execution_count": 13,
   "metadata": {},
   "outputs": [
    {
     "data": {
      "text/plain": [
       "<All keys matched successfully>"
      ]
     },
     "execution_count": 13,
     "metadata": {},
     "output_type": "execute_result"
    }
   ],
   "source": [
    "my_model = TranslationModel(ko_bert_model).to(device)\n",
    "my_model.load_state_dict(torch.load('./MODELS/best_translation_model(ZK4_ko).pth'))"
   ]
  },
  {
   "cell_type": "code",
   "execution_count": 113,
   "metadata": {},
   "outputs": [],
   "source": [
    "my_src_tokenizer = zh_tokenizer\n",
    "my_tgt_tokenizer = ko_tokenizer"
   ]
  },
  {
   "cell_type": "code",
   "execution_count": 19,
   "metadata": {},
   "outputs": [
    {
     "name": "stderr",
     "output_type": "stream",
     "text": [
      "100%|██████████████████████████████████████████████████████████████████████████| 146661/146661 [11:56<00:00, 204.59it/s]\n",
      "100%|████████████████████████████████████████████████████████████████████████████| 36089/36089 [02:56<00:00, 204.11it/s]"
     ]
    },
    {
     "name": "stdout",
     "output_type": "stream",
     "text": [
      "Train: {'avg': 4.448467810038764, '1-gram': 18.770164983355215, '2-gram': 8.287575121838216, '3-gram': 4.720254500100213, '4-gram': 3.00352296229418}\n",
      "Test: {'avg': 3.956485526995676, '1-gram': 17.643038175506973, '2-gram': 7.946271680784469, '3-gram': 4.462849241223479, '4-gram': 2.8052166087668273}\n"
     ]
    },
    {
     "name": "stderr",
     "output_type": "stream",
     "text": [
      "\n"
     ]
    }
   ],
   "source": [
    "# best_translation_model(ZK4_ko).pth\n",
    "train_score = sacrebleu_score(TRAIN_ZSENT,TRAIN_KSENT)\n",
    "test_score = sacrebleu_score(TEST_ZSENT,TEST_KSENT)\n",
    "print('Train:',train_score)\n",
    "print('Test:',test_score)"
   ]
  },
  {
   "cell_type": "code",
   "execution_count": null,
   "metadata": {},
   "outputs": [],
   "source": []
  },
  {
   "cell_type": "code",
   "execution_count": 47,
   "metadata": {},
   "outputs": [],
   "source": [
    "import numpy as np\n",
    "def analysis_score(s_list):\n",
    "# 平均\n",
    "  mean = np.mean(s_list)\n",
    "# 方差\n",
    "  var = np.var(s_list,ddof=1)\n",
    "# 標準差\n",
    "  std = np.std(s_list,ddof=1)\n",
    "  print('Mean:',mean)\n",
    "  print('Var:',var)\n",
    "  print('Std:',std)"
   ]
  },
  {
   "cell_type": "code",
   "execution_count": 26,
   "metadata": {},
   "outputs": [
    {
     "name": "stderr",
     "output_type": "stream",
     "text": [
      "100%|███████████████████████████████████████| 7217/7217 [03:22<00:00, 35.69it/s]\n"
     ]
    },
    {
     "name": "stdout",
     "output_type": "stream",
     "text": [
      "== avg ==\n",
      "Mean: 8.824481812914241\n",
      "Var: 424.00169389000837\n",
      "Std: 20.591301413218357\n",
      "== 1-gram ==\n",
      "Mean: 20.2311407315512\n",
      "Var: 586.3463063238165\n",
      "Std: 24.214588708541314\n",
      "== 2-gram ==\n",
      "Mean: 12.064145954313334\n",
      "Var: 524.9948041797877\n",
      "Std: 22.912765092406193\n",
      "== 3-gram ==\n",
      "Mean: 8.827393198561444\n",
      "Var: 433.6560197361103\n",
      "Std: 20.82440922898199\n",
      "== 4-gram ==\n",
      "Mean: 7.032518853402078\n",
      "Var: 392.9835770940061\n",
      "Std: 19.823813384261012\n",
      "Eval Time: 3m 22s\n"
     ]
    },
    {
     "name": "stderr",
     "output_type": "stream",
     "text": [
      "100%|███████████████████████████████████████| 7217/7217 [03:21<00:00, 35.84it/s]\n"
     ]
    },
    {
     "name": "stdout",
     "output_type": "stream",
     "text": [
      "== avg ==\n",
      "Mean: 8.709064123294098\n",
      "Var: 419.3919390511946\n",
      "Std: 20.479060990465225\n",
      "== 1-gram ==\n",
      "Mean: 20.282855256628892\n",
      "Var: 587.2820554755111\n",
      "Std: 24.23390301778711\n",
      "== 2-gram ==\n",
      "Mean: 12.049314352849567\n",
      "Var: 523.145722945327\n",
      "Std: 22.872379039910278\n",
      "== 3-gram ==\n",
      "Mean: 8.78430991554557\n",
      "Var: 431.12745958150396\n",
      "Std: 20.7636090211096\n",
      "== 4-gram ==\n",
      "Mean: 6.955040205386134\n",
      "Var: 391.20616927530455\n",
      "Std: 19.77893246045662\n",
      "Eval Time: 3m 21s\n"
     ]
    },
    {
     "name": "stderr",
     "output_type": "stream",
     "text": [
      "100%|███████████████████████████████████████| 7217/7217 [03:21<00:00, 35.81it/s]\n"
     ]
    },
    {
     "name": "stdout",
     "output_type": "stream",
     "text": [
      "== avg ==\n",
      "Mean: 8.926264577574345\n",
      "Var: 427.36550152053576\n",
      "Std: 20.672820357187256\n",
      "== 1-gram ==\n",
      "Mean: 20.575578863162033\n",
      "Var: 609.1143548256739\n",
      "Std: 24.680242195441963\n",
      "== 2-gram ==\n",
      "Mean: 12.426100672698256\n",
      "Var: 543.7802325638753\n",
      "Std: 23.319095877925356\n",
      "== 3-gram ==\n",
      "Mean: 8.901471672879934\n",
      "Var: 433.66359784907917\n",
      "Std: 20.82459118083904\n",
      "== 4-gram ==\n",
      "Mean: 7.082822111222268\n",
      "Var: 396.69771176799054\n",
      "Std: 19.917271694888097\n",
      "Eval Time: 3m 21s\n"
     ]
    },
    {
     "name": "stderr",
     "output_type": "stream",
     "text": [
      "100%|███████████████████████████████████████| 7217/7217 [03:21<00:00, 35.75it/s]\n"
     ]
    },
    {
     "name": "stdout",
     "output_type": "stream",
     "text": [
      "== avg ==\n",
      "Mean: 8.609405197937274\n",
      "Var: 410.3211264765718\n",
      "Std: 20.256384832357718\n",
      "== 1-gram ==\n",
      "Mean: 20.327357593653048\n",
      "Var: 580.3322881557301\n",
      "Std: 24.090086927110292\n",
      "== 2-gram ==\n",
      "Mean: 12.102135692320015\n",
      "Var: 524.2332780879179\n",
      "Std: 22.896141117837256\n",
      "== 3-gram ==\n",
      "Mean: 8.599634397456661\n",
      "Var: 416.36704707831444\n",
      "Std: 20.405074052262453\n",
      "== 4-gram ==\n",
      "Mean: 6.820955180274633\n",
      "Var: 383.48677816526674\n",
      "Std: 19.582818442840825\n",
      "Eval Time: 3m 21s\n"
     ]
    },
    {
     "name": "stderr",
     "output_type": "stream",
     "text": [
      "100%|███████████████████████████████████████| 7217/7217 [03:21<00:00, 35.79it/s]\n"
     ]
    },
    {
     "name": "stdout",
     "output_type": "stream",
     "text": [
      "== avg ==\n",
      "Mean: 8.43226753077729\n",
      "Var: 396.39829752600895\n",
      "Std: 19.90975382886511\n",
      "== 1-gram ==\n",
      "Mean: 19.9170057572409\n",
      "Var: 565.5339313675828\n",
      "Std: 23.780957326558212\n",
      "== 2-gram ==\n",
      "Mean: 11.820706619497189\n",
      "Var: 504.26007562235765\n",
      "Std: 22.455735918075757\n",
      "== 3-gram ==\n",
      "Mean: 8.373889468161039\n",
      "Var: 398.45960564753216\n",
      "Std: 19.96145299439728\n",
      "== 4-gram ==\n",
      "Mean: 6.625191657898031\n",
      "Var: 364.99802911697134\n",
      "Std: 19.10492159410688\n",
      "Eval Time: 3m 21s\n"
     ]
    },
    {
     "name": "stderr",
     "output_type": "stream",
     "text": [
      "100%|███████████████████████████████████████| 7217/7217 [03:21<00:00, 35.81it/s]\n"
     ]
    },
    {
     "name": "stdout",
     "output_type": "stream",
     "text": [
      "== avg ==\n",
      "Mean: 8.65675050752822\n",
      "Var: 414.12261726273914\n",
      "Std: 20.35000288114818\n",
      "== 1-gram ==\n",
      "Mean: 19.952912612660032\n",
      "Var: 566.2989131390276\n",
      "Std: 23.79703580572647\n",
      "== 2-gram ==\n",
      "Mean: 11.772222780119147\n",
      "Var: 504.46119451646416\n",
      "Std: 22.46021359017906\n",
      "== 3-gram ==\n",
      "Mean: 8.560524448631027\n",
      "Var: 418.066804286011\n",
      "Std: 20.446681987207874\n",
      "== 4-gram ==\n",
      "Mean: 6.861019135938289\n",
      "Var: 387.0618069740257\n",
      "Std: 19.67388642271846\n",
      "Eval Time: 3m 21s\n"
     ]
    },
    {
     "name": "stderr",
     "output_type": "stream",
     "text": [
      "100%|███████████████████████████████████████| 7217/7217 [03:21<00:00, 35.76it/s]\n"
     ]
    },
    {
     "name": "stdout",
     "output_type": "stream",
     "text": [
      "== avg ==\n",
      "Mean: 8.640520440136436\n",
      "Var: 412.5673884835872\n",
      "Std: 20.31175493362371\n",
      "== 1-gram ==\n",
      "Mean: 20.083832135539875\n",
      "Var: 572.3582814995157\n",
      "Std: 23.924010564692445\n",
      "== 2-gram ==\n",
      "Mean: 11.891026891365113\n",
      "Var: 515.7602156519179\n",
      "Std: 22.710354811229124\n",
      "== 3-gram ==\n",
      "Mean: 8.561747009735793\n",
      "Var: 418.93778092245196\n",
      "Std: 20.46796963361173\n",
      "== 4-gram ==\n",
      "Mean: 6.852220219139785\n",
      "Var: 383.24764737307396\n",
      "Std: 19.57671186315705\n",
      "Eval Time: 3m 21s\n"
     ]
    },
    {
     "name": "stderr",
     "output_type": "stream",
     "text": [
      "100%|███████████████████████████████████████| 7217/7217 [03:21<00:00, 35.77it/s]\n"
     ]
    },
    {
     "name": "stdout",
     "output_type": "stream",
     "text": [
      "== avg ==\n",
      "Mean: 8.927423963038573\n",
      "Var: 430.68699952855184\n",
      "Std: 20.752999771805325\n",
      "== 1-gram ==\n",
      "Mean: 20.47946154078228\n",
      "Var: 601.417790117395\n",
      "Std: 24.523820871091743\n",
      "== 2-gram ==\n",
      "Mean: 12.403418487145448\n",
      "Var: 543.0521254679753\n",
      "Std: 23.303478827590855\n",
      "== 3-gram ==\n",
      "Mean: 8.89949164648379\n",
      "Var: 433.72574322525037\n",
      "Std: 20.82608324254108\n",
      "== 4-gram ==\n",
      "Mean: 7.0907086079324175\n",
      "Var: 396.7246143954404\n",
      "Std: 19.917947042690933\n",
      "Eval Time: 3m 21s\n"
     ]
    },
    {
     "name": "stderr",
     "output_type": "stream",
     "text": [
      "100%|███████████████████████████████████████| 7217/7217 [03:21<00:00, 35.83it/s]\n"
     ]
    },
    {
     "name": "stdout",
     "output_type": "stream",
     "text": [
      "== avg ==\n",
      "Mean: 8.746225146913304\n",
      "Var: 421.4385411705797\n",
      "Std: 20.52896834160401\n",
      "== 1-gram ==\n",
      "Mean: 20.16927380821216\n",
      "Var: 589.2278179445906\n",
      "Std: 24.274015282696652\n",
      "== 2-gram ==\n",
      "Mean: 12.124028756468283\n",
      "Var: 530.6914572092554\n",
      "Std: 23.036741462482393\n",
      "== 3-gram ==\n",
      "Mean: 8.679800102037847\n",
      "Var: 425.25106415770017\n",
      "Std: 20.621616429312716\n",
      "== 4-gram ==\n",
      "Mean: 6.960096359525867\n",
      "Var: 392.9947530536136\n",
      "Std: 19.824095264440533\n",
      "Eval Time: 3m 21s\n"
     ]
    },
    {
     "name": "stderr",
     "output_type": "stream",
     "text": [
      "100%|███████████████████████████████████████| 7217/7217 [03:21<00:00, 35.79it/s]\n"
     ]
    },
    {
     "name": "stdout",
     "output_type": "stream",
     "text": [
      "== avg ==\n",
      "Mean: 8.631629992471797\n",
      "Var: 402.35190528627777\n",
      "Std: 20.058711456279482\n",
      "== 1-gram ==\n",
      "Mean: 20.312542447425812\n",
      "Var: 584.4272980068986\n",
      "Std: 24.17493118928984\n",
      "== 2-gram ==\n",
      "Mean: 12.060331758682016\n",
      "Var: 515.48012562164\n",
      "Std: 22.704187402803914\n",
      "== 3-gram ==\n",
      "Mean: 8.615162745593576\n",
      "Var: 409.34454811174487\n",
      "Std: 20.232265026727603\n",
      "== 4-gram ==\n",
      "Mean: 6.78635019219025\n",
      "Var: 368.4505675661025\n",
      "Std: 19.195066229792033\n",
      "Eval Time: 3m 21s\n"
     ]
    }
   ],
   "source": [
    "# ted tlaks\n",
    "# bleu score for 10 times\n",
    "scores = []\n",
    "for i in range(10):\n",
    "  start_time = time.time()\n",
    "\n",
    "  samples = get_samples(TEST_ZSENT,TEST_KSENT,p=0.2)\n",
    "  test_score = sacrebleu_score(model, source_sentences=samples['zh'],target_sentences=samples['ko'])\n",
    "  #test_score = sacrebleu_score(model, source_sentences=TEST_ZSENT,target_sentences=TEST_KSENT)\n",
    "  end_time = time.time()\n",
    "  epoch_mins, epoch_secs = epoch_time(start_time, end_time)\n",
    "  print(f'Eval Time: {epoch_mins}m {epoch_secs}s')\n",
    "    \n",
    "  #print('\\tBLEU Score:')\n",
    "  #for k in test_score.keys():\n",
    "  #  print('\\t\\t{}: {:.3f}'.format(k,test_score[k]))\n",
    "\n",
    "  scores.append(test_score['avg'])\n"
   ]
  },
  {
   "cell_type": "code",
   "execution_count": 27,
   "metadata": {},
   "outputs": [
    {
     "name": "stdout",
     "output_type": "stream",
     "text": [
      "ted talks:\n",
      "==  ==\n",
      "Mean: 8.710403329258558\n",
      "Var: 0.02328006194711342\n",
      "Std: 0.15257805198361074\n"
     ]
    },
    {
     "data": {
      "text/plain": [
       "8.710403329258558"
      ]
     },
     "execution_count": 27,
     "metadata": {},
     "output_type": "execute_result"
    }
   ],
   "source": [
    "print('ted talks:')\n",
    "analysis_score(scores,'') # ted talks"
   ]
  },
  {
   "cell_type": "code",
   "execution_count": null,
   "metadata": {},
   "outputs": [],
   "source": []
  },
  {
   "cell_type": "code",
   "execution_count": 33,
   "metadata": {},
   "outputs": [
    {
     "name": "stdout",
     "output_type": "stream",
     "text": [
      "====================\n",
      "case 0\n"
     ]
    },
    {
     "name": "stderr",
     "output_type": "stream",
     "text": [
      "100%|█████████████████████████████████████| 15568/15568 [06:49<00:00, 38.04it/s]\n"
     ]
    },
    {
     "name": "stdout",
     "output_type": "stream",
     "text": [
      "== avg ==\n",
      "Mean: 4.616470794594415\n",
      "Var: 30.46674595321536\n",
      "Std: 5.519669007577842\n",
      "== 1-gram ==\n",
      "Mean: 20.166224772896527\n",
      "Var: 255.35913203584093\n",
      "Std: 15.97996032647894\n",
      "== 2-gram ==\n",
      "Mean: 7.844153547558673\n",
      "Var: 157.97543319694444\n",
      "Std: 12.568827837031758\n",
      "== 3-gram ==\n",
      "Mean: 4.582093983525801\n",
      "Var: 87.01930632312454\n",
      "Std: 9.328413923230709\n",
      "== 4-gram ==\n",
      "Mean: 2.4374499145986563\n",
      "Var: 21.816834788188388\n",
      "Std: 4.670849471797222\n",
      "Eval Time: 6m 49s\n",
      "====================\n",
      "case 1\n"
     ]
    },
    {
     "name": "stderr",
     "output_type": "stream",
     "text": [
      "100%|█████████████████████████████████████| 15568/15568 [07:14<00:00, 35.85it/s]\n"
     ]
    },
    {
     "name": "stdout",
     "output_type": "stream",
     "text": [
      "== avg ==\n",
      "Mean: 4.565381788450855\n",
      "Var: 31.210622616645587\n",
      "Std: 5.5866468133081035\n",
      "== 1-gram ==\n",
      "Mean: 20.13145754814628\n",
      "Var: 260.55605981852864\n",
      "Std: 16.141748970248813\n",
      "== 2-gram ==\n",
      "Mean: 7.833690252525954\n",
      "Var: 163.91345326406824\n",
      "Std: 12.802868946609905\n",
      "== 3-gram ==\n",
      "Mean: 4.527181199988704\n",
      "Var: 86.424411821428\n",
      "Std: 9.296473085069843\n",
      "== 4-gram ==\n",
      "Mean: 2.4510231087915124\n",
      "Var: 24.25214969252518\n",
      "Std: 4.9246471642672205\n",
      "Eval Time: 7m 14s\n",
      "====================\n",
      "case 2\n"
     ]
    },
    {
     "name": "stderr",
     "output_type": "stream",
     "text": [
      "100%|█████████████████████████████████████| 15568/15568 [07:13<00:00, 35.93it/s]\n"
     ]
    },
    {
     "name": "stdout",
     "output_type": "stream",
     "text": [
      "== avg ==\n",
      "Mean: 4.607986699833341\n",
      "Var: 29.894608617521996\n",
      "Std: 5.4675962376095395\n",
      "== 1-gram ==\n",
      "Mean: 20.2312698500635\n",
      "Var: 259.11303283573045\n",
      "Std: 16.09698831569839\n",
      "== 2-gram ==\n",
      "Mean: 7.884065877843721\n",
      "Var: 164.28597322159965\n",
      "Std: 12.81740899018205\n",
      "== 3-gram ==\n",
      "Mean: 4.623223431006607\n",
      "Var: 93.0603655341397\n",
      "Std: 9.646780060421182\n",
      "== 4-gram ==\n",
      "Mean: 2.428205378593803\n",
      "Var: 22.013753988660113\n",
      "Std: 4.691881710855476\n",
      "Eval Time: 7m 13s\n",
      "====================\n",
      "case 3\n"
     ]
    },
    {
     "name": "stderr",
     "output_type": "stream",
     "text": [
      "100%|█████████████████████████████████████| 15568/15568 [07:14<00:00, 35.85it/s]\n"
     ]
    },
    {
     "name": "stdout",
     "output_type": "stream",
     "text": [
      "== avg ==\n",
      "Mean: 4.7237738304055\n",
      "Var: 34.39790963377008\n",
      "Std: 5.864973114496782\n",
      "== 1-gram ==\n",
      "Mean: 20.25896151172566\n",
      "Var: 258.93282336025294\n",
      "Std: 16.091389727436624\n",
      "== 2-gram ==\n",
      "Mean: 7.89109381167891\n",
      "Var: 156.8960725053704\n",
      "Std: 12.525816241082671\n",
      "== 3-gram ==\n",
      "Mean: 4.763448924329756\n",
      "Var: 97.90391907738365\n",
      "Std: 9.894640927157672\n",
      "== 4-gram ==\n",
      "Mean: 2.53773388908554\n",
      "Var: 25.786932414776484\n",
      "Std: 5.078083537593339\n",
      "Eval Time: 7m 14s\n",
      "====================\n",
      "case 4\n"
     ]
    },
    {
     "name": "stderr",
     "output_type": "stream",
     "text": [
      "100%|█████████████████████████████████████| 15568/15568 [07:13<00:00, 35.87it/s]\n"
     ]
    },
    {
     "name": "stdout",
     "output_type": "stream",
     "text": [
      "== avg ==\n",
      "Mean: 4.602765154839934\n",
      "Var: 29.724751494788354\n",
      "Std: 5.45204103935291\n",
      "== 1-gram ==\n",
      "Mean: 20.15368054288483\n",
      "Var: 260.716300208875\n",
      "Std: 16.146711746014265\n",
      "== 2-gram ==\n",
      "Mean: 7.927220990763594\n",
      "Var: 165.22963150962445\n",
      "Std: 12.854167865312187\n",
      "== 3-gram ==\n",
      "Mean: 4.696523418642593\n",
      "Var: 96.66570346355132\n",
      "Std: 9.831871818913799\n",
      "== 4-gram ==\n",
      "Mean: 2.4473522167338095\n",
      "Var: 22.104693862737136\n",
      "Std: 4.701562917024203\n",
      "Eval Time: 7m 13s\n",
      "====================\n",
      "case 5\n"
     ]
    },
    {
     "name": "stderr",
     "output_type": "stream",
     "text": [
      "100%|█████████████████████████████████████| 15568/15568 [07:14<00:00, 35.81it/s]\n"
     ]
    },
    {
     "name": "stdout",
     "output_type": "stream",
     "text": [
      "== avg ==\n",
      "Mean: 4.567025908652382\n",
      "Var: 27.103668246919383\n",
      "Std: 5.206118347379301\n",
      "== 1-gram ==\n",
      "Mean: 20.123585427164674\n",
      "Var: 251.33435153562974\n",
      "Std: 15.85352804695629\n",
      "== 2-gram ==\n",
      "Mean: 7.722493406273079\n",
      "Var: 151.32918223993534\n",
      "Std: 12.30159267086727\n",
      "== 3-gram ==\n",
      "Mean: 4.605830100631104\n",
      "Var: 89.70388427594534\n",
      "Std: 9.471213453193068\n",
      "== 4-gram ==\n",
      "Mean: 2.415817165820393\n",
      "Var: 18.941242077104643\n",
      "Std: 4.352153728569872\n",
      "Eval Time: 7m 14s\n",
      "====================\n",
      "case 6\n"
     ]
    },
    {
     "name": "stderr",
     "output_type": "stream",
     "text": [
      "100%|█████████████████████████████████████| 15568/15568 [07:14<00:00, 35.79it/s]\n"
     ]
    },
    {
     "name": "stdout",
     "output_type": "stream",
     "text": [
      "== avg ==\n",
      "Mean: 4.540161444758198\n",
      "Var: 25.236030621026874\n",
      "Std: 5.0235476130944425\n",
      "== 1-gram ==\n",
      "Mean: 19.932383548279848\n",
      "Var: 238.31731572458332\n",
      "Std: 15.437529456638563\n",
      "== 2-gram ==\n",
      "Mean: 7.643814272301944\n",
      "Var: 143.6794716793204\n",
      "Std: 11.986637213135316\n",
      "== 3-gram ==\n",
      "Mean: 4.542063091270354\n",
      "Var: 84.29582221308092\n",
      "Std: 9.181275631037385\n",
      "== 4-gram ==\n",
      "Mean: 2.387535925190392\n",
      "Var: 16.965626457502303\n",
      "Std: 4.118935112077186\n",
      "Eval Time: 7m 15s\n",
      "====================\n",
      "case 7\n"
     ]
    },
    {
     "name": "stderr",
     "output_type": "stream",
     "text": [
      "100%|█████████████████████████████████████| 15568/15568 [06:00<00:00, 43.16it/s]\n"
     ]
    },
    {
     "name": "stdout",
     "output_type": "stream",
     "text": [
      "== avg ==\n",
      "Mean: 4.590554154069834\n",
      "Var: 30.237508090560887\n",
      "Std: 5.498864254603935\n",
      "== 1-gram ==\n",
      "Mean: 20.115165219839245\n",
      "Var: 258.023471721675\n",
      "Std: 16.06310903037376\n",
      "== 2-gram ==\n",
      "Mean: 7.795298879821405\n",
      "Var: 157.85166613419554\n",
      "Std: 12.563903300097289\n",
      "== 3-gram ==\n",
      "Mean: 4.578266160446019\n",
      "Var: 88.99611491031733\n",
      "Std: 9.433775220468068\n",
      "== 4-gram ==\n",
      "Mean: 2.4352613573950945\n",
      "Var: 21.566848172569458\n",
      "Std: 4.644012077134324\n",
      "Eval Time: 6m 0s\n",
      "====================\n",
      "case 8\n"
     ]
    },
    {
     "name": "stderr",
     "output_type": "stream",
     "text": [
      "100%|█████████████████████████████████████| 15568/15568 [04:53<00:00, 53.00it/s]\n"
     ]
    },
    {
     "name": "stdout",
     "output_type": "stream",
     "text": [
      "== avg ==\n",
      "Mean: 4.563086888720021\n",
      "Var: 25.211192572988637\n",
      "Std: 5.021074842400642\n",
      "== 1-gram ==\n",
      "Mean: 20.080979370090734\n",
      "Var: 255.41442500189095\n",
      "Std: 15.98169030490489\n",
      "== 2-gram ==\n",
      "Mean: 7.866007698905684\n",
      "Var: 161.80402041979215\n",
      "Std: 12.720220926532376\n",
      "== 3-gram ==\n",
      "Mean: 4.545683233552077\n",
      "Var: 83.25601350904252\n",
      "Std: 9.12447332776213\n",
      "== 4-gram ==\n",
      "Mean: 2.4110251943015037\n",
      "Var: 16.61698345794985\n",
      "Std: 4.07639343758056\n",
      "Eval Time: 4m 53s\n",
      "====================\n",
      "case 9\n"
     ]
    },
    {
     "name": "stderr",
     "output_type": "stream",
     "text": [
      "100%|█████████████████████████████████████| 15568/15568 [07:14<00:00, 35.79it/s]"
     ]
    },
    {
     "name": "stdout",
     "output_type": "stream",
     "text": [
      "== avg ==\n",
      "Mean: 4.592641669676345\n",
      "Var: 28.949735632278134\n",
      "Std: 5.380495853755315\n",
      "== 1-gram ==\n",
      "Mean: 20.010526098837985\n",
      "Var: 256.6952348596072\n",
      "Std: 16.021711358641035\n",
      "== 2-gram ==\n",
      "Mean: 7.8172450618182925\n",
      "Var: 158.84883966959435\n",
      "Std: 12.603524890664293\n",
      "== 3-gram ==\n",
      "Mean: 4.611502489884593\n",
      "Var: 90.2530869452936\n",
      "Std: 9.500162469415647\n",
      "== 4-gram ==\n",
      "Mean: 2.445886182020331\n",
      "Var: 21.11230678027617\n",
      "Std: 4.594813029958474\n",
      "Eval Time: 7m 14s\n"
     ]
    },
    {
     "name": "stderr",
     "output_type": "stream",
     "text": [
      "\n"
     ]
    }
   ],
   "source": [
    "scores_2 = []\n",
    "for i in range(10):\n",
    "  start_time = time.time()\n",
    "  print('='*20)\n",
    "  print('case',i)\n",
    "\n",
    "  \n",
    "  samples = get_samples(TEST_ZSENT,TEST_KSENT,p=0.2)\n",
    "  test_score = sacrebleu_score(model, source_sentences=samples['zh'],target_sentences=samples['ko'])\n",
    "  end_time = time.time()\n",
    "  epoch_mins, epoch_secs = epoch_time(start_time, end_time)\n",
    "  print(f'Eval Time: {epoch_mins}m {epoch_secs}s')\n",
    "#  print('\\tBLEU Score:')\n",
    "#  for k in test_score.keys():\n",
    "#    print('\\t\\t{}: {:.3f}'.format(k,test_score[k]))\n",
    "\n",
    "  scores_2.append(test_score['avg'])\n"
   ]
  },
  {
   "cell_type": "code",
   "execution_count": 34,
   "metadata": {},
   "outputs": [
    {
     "name": "stdout",
     "output_type": "stream",
     "text": [
      "\n",
      "ted2020:\n",
      "==  ==\n",
      "Mean: 4.596984833400083\n",
      "Var: 0.0025493422340478068\n",
      "Std: 0.05049101141834858\n"
     ]
    },
    {
     "data": {
      "text/plain": [
       "4.596984833400083"
      ]
     },
     "execution_count": 34,
     "metadata": {},
     "output_type": "execute_result"
    }
   ],
   "source": [
    "print('\\nted2020:')\n",
    "analysis_score(scores_2,'') # ted2020\n"
   ]
  },
  {
   "cell_type": "code",
   "execution_count": null,
   "metadata": {},
   "outputs": [],
   "source": []
  }
 ],
 "metadata": {
  "accelerator": "GPU",
  "colab": {
   "gpuType": "T4",
   "provenance": [
    {
     "file_id": "1ooC2K_h5jIhNOfSIp2yviNpLBbUbfaLj",
     "timestamp": 1712852186745
    },
    {
     "file_id": "1_EEW5tkhh2ILfM2VDVsWwM_CRutS5n2N",
     "timestamp": 1712825273579
    }
   ]
  },
  "kernelspec": {
   "display_name": "Python 3 (ipykernel)",
   "language": "python",
   "name": "python3"
  },
  "language_info": {
   "codemirror_mode": {
    "name": "ipython",
    "version": 3
   },
   "file_extension": ".py",
   "mimetype": "text/x-python",
   "name": "python",
   "nbconvert_exporter": "python",
   "pygments_lexer": "ipython3",
   "version": "3.8.10"
  },
  "widgets": {
   "application/vnd.jupyter.widget-state+json": {
    "00010051701d42b08eff62060b0d501c": {
     "model_module": "@jupyter-widgets/controls",
     "model_module_version": "1.5.0",
     "model_name": "FloatProgressModel",
     "state": {
      "_dom_classes": [],
      "_model_module": "@jupyter-widgets/controls",
      "_model_module_version": "1.5.0",
      "_model_name": "FloatProgressModel",
      "_view_count": null,
      "_view_module": "@jupyter-widgets/controls",
      "_view_module_version": "1.5.0",
      "_view_name": "ProgressView",
      "bar_style": "success",
      "description": "",
      "description_tooltip": null,
      "layout": "IPY_MODEL_f30908b5d5cb4020a46d1fe86b1e6d0f",
      "max": 725,
      "min": 0,
      "orientation": "horizontal",
      "style": "IPY_MODEL_27809212ed574da1ae5ae8558c1e842c",
      "value": 725
     }
    },
    "00afcb5fdb3749ba90472898e623b2c8": {
     "model_module": "@jupyter-widgets/base",
     "model_module_version": "1.2.0",
     "model_name": "LayoutModel",
     "state": {
      "_model_module": "@jupyter-widgets/base",
      "_model_module_version": "1.2.0",
      "_model_name": "LayoutModel",
      "_view_count": null,
      "_view_module": "@jupyter-widgets/base",
      "_view_module_version": "1.2.0",
      "_view_name": "LayoutView",
      "align_content": null,
      "align_items": null,
      "align_self": null,
      "border": null,
      "bottom": null,
      "display": null,
      "flex": null,
      "flex_flow": null,
      "grid_area": null,
      "grid_auto_columns": null,
      "grid_auto_flow": null,
      "grid_auto_rows": null,
      "grid_column": null,
      "grid_gap": null,
      "grid_row": null,
      "grid_template_areas": null,
      "grid_template_columns": null,
      "grid_template_rows": null,
      "height": null,
      "justify_content": null,
      "justify_items": null,
      "left": null,
      "margin": null,
      "max_height": null,
      "max_width": null,
      "min_height": null,
      "min_width": null,
      "object_fit": null,
      "object_position": null,
      "order": null,
      "overflow": null,
      "overflow_x": null,
      "overflow_y": null,
      "padding": null,
      "right": null,
      "top": null,
      "visibility": null,
      "width": null
     }
    },
    "01b49db8ce854231aa9535a3b418ec4c": {
     "model_module": "@jupyter-widgets/base",
     "model_module_version": "1.2.0",
     "model_name": "LayoutModel",
     "state": {
      "_model_module": "@jupyter-widgets/base",
      "_model_module_version": "1.2.0",
      "_model_name": "LayoutModel",
      "_view_count": null,
      "_view_module": "@jupyter-widgets/base",
      "_view_module_version": "1.2.0",
      "_view_name": "LayoutView",
      "align_content": null,
      "align_items": null,
      "align_self": null,
      "border": null,
      "bottom": null,
      "display": null,
      "flex": null,
      "flex_flow": null,
      "grid_area": null,
      "grid_auto_columns": null,
      "grid_auto_flow": null,
      "grid_auto_rows": null,
      "grid_column": null,
      "grid_gap": null,
      "grid_row": null,
      "grid_template_areas": null,
      "grid_template_columns": null,
      "grid_template_rows": null,
      "height": null,
      "justify_content": null,
      "justify_items": null,
      "left": null,
      "margin": null,
      "max_height": null,
      "max_width": null,
      "min_height": null,
      "min_width": null,
      "object_fit": null,
      "object_position": null,
      "order": null,
      "overflow": null,
      "overflow_x": null,
      "overflow_y": null,
      "padding": null,
      "right": null,
      "top": null,
      "visibility": null,
      "width": null
     }
    },
    "02244bd48dca44ffaa336b4a212f8abf": {
     "model_module": "@jupyter-widgets/controls",
     "model_module_version": "1.5.0",
     "model_name": "FloatProgressModel",
     "state": {
      "_dom_classes": [],
      "_model_module": "@jupyter-widgets/controls",
      "_model_module_version": "1.5.0",
      "_model_name": "FloatProgressModel",
      "_view_count": null,
      "_view_module": "@jupyter-widgets/controls",
      "_view_module_version": "1.5.0",
      "_view_name": "ProgressView",
      "bar_style": "success",
      "description": "",
      "description_tooltip": null,
      "layout": "IPY_MODEL_a254cbcf65e34c1da276c2aef1dd5278",
      "max": 80,
      "min": 0,
      "orientation": "horizontal",
      "style": "IPY_MODEL_d03b31b50e6e41528530c2e4f4693a29",
      "value": 80
     }
    },
    "029ab0ae4b6e427d879f28c14dba9263": {
     "model_module": "@jupyter-widgets/controls",
     "model_module_version": "1.5.0",
     "model_name": "FloatProgressModel",
     "state": {
      "_dom_classes": [],
      "_model_module": "@jupyter-widgets/controls",
      "_model_module_version": "1.5.0",
      "_model_name": "FloatProgressModel",
      "_view_count": null,
      "_view_module": "@jupyter-widgets/controls",
      "_view_module_version": "1.5.0",
      "_view_name": "ProgressView",
      "bar_style": "success",
      "description": "",
      "description_tooltip": null,
      "layout": "IPY_MODEL_344a1c4e964645cf87137be8b34a3fb7",
      "max": 701,
      "min": 0,
      "orientation": "horizontal",
      "style": "IPY_MODEL_0d80fe675a304f7c9e6ad785b04a92bf",
      "value": 701
     }
    },
    "05de0f2c4ccd4ce9b8b173d09c4e3057": {
     "model_module": "@jupyter-widgets/base",
     "model_module_version": "1.2.0",
     "model_name": "LayoutModel",
     "state": {
      "_model_module": "@jupyter-widgets/base",
      "_model_module_version": "1.2.0",
      "_model_name": "LayoutModel",
      "_view_count": null,
      "_view_module": "@jupyter-widgets/base",
      "_view_module_version": "1.2.0",
      "_view_name": "LayoutView",
      "align_content": null,
      "align_items": null,
      "align_self": null,
      "border": null,
      "bottom": null,
      "display": null,
      "flex": null,
      "flex_flow": null,
      "grid_area": null,
      "grid_auto_columns": null,
      "grid_auto_flow": null,
      "grid_auto_rows": null,
      "grid_column": null,
      "grid_gap": null,
      "grid_row": null,
      "grid_template_areas": null,
      "grid_template_columns": null,
      "grid_template_rows": null,
      "height": null,
      "justify_content": null,
      "justify_items": null,
      "left": null,
      "margin": null,
      "max_height": null,
      "max_width": null,
      "min_height": null,
      "min_width": null,
      "object_fit": null,
      "object_position": null,
      "order": null,
      "overflow": null,
      "overflow_x": null,
      "overflow_y": null,
      "padding": null,
      "right": null,
      "top": null,
      "visibility": null,
      "width": null
     }
    },
    "0a047d2cfbc54390af9cd51332fbf661": {
     "model_module": "@jupyter-widgets/controls",
     "model_module_version": "1.5.0",
     "model_name": "FloatProgressModel",
     "state": {
      "_dom_classes": [],
      "_model_module": "@jupyter-widgets/controls",
      "_model_module_version": "1.5.0",
      "_model_name": "FloatProgressModel",
      "_view_count": null,
      "_view_module": "@jupyter-widgets/controls",
      "_view_module_version": "1.5.0",
      "_view_name": "ProgressView",
      "bar_style": "success",
      "description": "",
      "description_tooltip": null,
      "layout": "IPY_MODEL_e4fba355bd8b4e30bc6bc64711c416dd",
      "max": 475782997,
      "min": 0,
      "orientation": "horizontal",
      "style": "IPY_MODEL_db5def75fb674881be7167eec98eecce",
      "value": 475782997
     }
    },
    "0d80fe675a304f7c9e6ad785b04a92bf": {
     "model_module": "@jupyter-widgets/controls",
     "model_module_version": "1.5.0",
     "model_name": "ProgressStyleModel",
     "state": {
      "_model_module": "@jupyter-widgets/controls",
      "_model_module_version": "1.5.0",
      "_model_name": "ProgressStyleModel",
      "_view_count": null,
      "_view_module": "@jupyter-widgets/base",
      "_view_module_version": "1.2.0",
      "_view_name": "StyleView",
      "bar_color": null,
      "description_width": ""
     }
    },
    "113cce0202cc4df3b7b1428b34153e94": {
     "model_module": "@jupyter-widgets/controls",
     "model_module_version": "1.5.0",
     "model_name": "HTMLModel",
     "state": {
      "_dom_classes": [],
      "_model_module": "@jupyter-widgets/controls",
      "_model_module_version": "1.5.0",
      "_model_name": "HTMLModel",
      "_view_count": null,
      "_view_module": "@jupyter-widgets/controls",
      "_view_module_version": "1.5.0",
      "_view_name": "HTMLView",
      "description": "",
      "description_tooltip": null,
      "layout": "IPY_MODEL_1556b78392544504a199f939854a4b53",
      "placeholder": "​",
      "style": "IPY_MODEL_bc1aaed721b64b268f7a22241f27b235",
      "value": " 49.0/49.0 [00:00&lt;00:00, 1.01kB/s]"
     }
    },
    "1150ad603f2b4caeb7d3e6aa8601a15e": {
     "model_module": "@jupyter-widgets/controls",
     "model_module_version": "1.5.0",
     "model_name": "HTMLModel",
     "state": {
      "_dom_classes": [],
      "_model_module": "@jupyter-widgets/controls",
      "_model_module_version": "1.5.0",
      "_model_name": "HTMLModel",
      "_view_count": null,
      "_view_module": "@jupyter-widgets/controls",
      "_view_module_version": "1.5.0",
      "_view_name": "HTMLView",
      "description": "",
      "description_tooltip": null,
      "layout": "IPY_MODEL_94aa85b832e64adbabbbcdb1f5ca96a2",
      "placeholder": "​",
      "style": "IPY_MODEL_3eb23ade96994dada5ebd4cacfdd00e2",
      "value": " 624/624 [00:00&lt;00:00, 20.8kB/s]"
     }
    },
    "142f9242b8ed4eb6a74b47496bad2113": {
     "model_module": "@jupyter-widgets/controls",
     "model_module_version": "1.5.0",
     "model_name": "DescriptionStyleModel",
     "state": {
      "_model_module": "@jupyter-widgets/controls",
      "_model_module_version": "1.5.0",
      "_model_name": "DescriptionStyleModel",
      "_view_count": null,
      "_view_module": "@jupyter-widgets/base",
      "_view_module_version": "1.2.0",
      "_view_name": "StyleView",
      "description_width": ""
     }
    },
    "1556b78392544504a199f939854a4b53": {
     "model_module": "@jupyter-widgets/base",
     "model_module_version": "1.2.0",
     "model_name": "LayoutModel",
     "state": {
      "_model_module": "@jupyter-widgets/base",
      "_model_module_version": "1.2.0",
      "_model_name": "LayoutModel",
      "_view_count": null,
      "_view_module": "@jupyter-widgets/base",
      "_view_module_version": "1.2.0",
      "_view_name": "LayoutView",
      "align_content": null,
      "align_items": null,
      "align_self": null,
      "border": null,
      "bottom": null,
      "display": null,
      "flex": null,
      "flex_flow": null,
      "grid_area": null,
      "grid_auto_columns": null,
      "grid_auto_flow": null,
      "grid_auto_rows": null,
      "grid_column": null,
      "grid_gap": null,
      "grid_row": null,
      "grid_template_areas": null,
      "grid_template_columns": null,
      "grid_template_rows": null,
      "height": null,
      "justify_content": null,
      "justify_items": null,
      "left": null,
      "margin": null,
      "max_height": null,
      "max_width": null,
      "min_height": null,
      "min_width": null,
      "object_fit": null,
      "object_position": null,
      "order": null,
      "overflow": null,
      "overflow_x": null,
      "overflow_y": null,
      "padding": null,
      "right": null,
      "top": null,
      "visibility": null,
      "width": null
     }
    },
    "19f4c61acf914cb199eb2ac05f96e589": {
     "model_module": "@jupyter-widgets/base",
     "model_module_version": "1.2.0",
     "model_name": "LayoutModel",
     "state": {
      "_model_module": "@jupyter-widgets/base",
      "_model_module_version": "1.2.0",
      "_model_name": "LayoutModel",
      "_view_count": null,
      "_view_module": "@jupyter-widgets/base",
      "_view_module_version": "1.2.0",
      "_view_name": "LayoutView",
      "align_content": null,
      "align_items": null,
      "align_self": null,
      "border": null,
      "bottom": null,
      "display": null,
      "flex": null,
      "flex_flow": null,
      "grid_area": null,
      "grid_auto_columns": null,
      "grid_auto_flow": null,
      "grid_auto_rows": null,
      "grid_column": null,
      "grid_gap": null,
      "grid_row": null,
      "grid_template_areas": null,
      "grid_template_columns": null,
      "grid_template_rows": null,
      "height": null,
      "justify_content": null,
      "justify_items": null,
      "left": null,
      "margin": null,
      "max_height": null,
      "max_width": null,
      "min_height": null,
      "min_width": null,
      "object_fit": null,
      "object_position": null,
      "order": null,
      "overflow": null,
      "overflow_x": null,
      "overflow_y": null,
      "padding": null,
      "right": null,
      "top": null,
      "visibility": null,
      "width": null
     }
    },
    "1ae4fb795aef4c4ca7ade4aecedca3c0": {
     "model_module": "@jupyter-widgets/controls",
     "model_module_version": "1.5.0",
     "model_name": "HTMLModel",
     "state": {
      "_dom_classes": [],
      "_model_module": "@jupyter-widgets/controls",
      "_model_module_version": "1.5.0",
      "_model_name": "HTMLModel",
      "_view_count": null,
      "_view_module": "@jupyter-widgets/controls",
      "_view_module_version": "1.5.0",
      "_view_name": "HTMLView",
      "description": "",
      "description_tooltip": null,
      "layout": "IPY_MODEL_704b63216e56438ab91411264de698d6",
      "placeholder": "​",
      "style": "IPY_MODEL_50bbe146983d4c90b90d4ed1ca59a96b",
      "value": "vocab.txt: 100%"
     }
    },
    "1aeccce67be041baa8583881a0dc5ebc": {
     "model_module": "@jupyter-widgets/controls",
     "model_module_version": "1.5.0",
     "model_name": "HTMLModel",
     "state": {
      "_dom_classes": [],
      "_model_module": "@jupyter-widgets/controls",
      "_model_module_version": "1.5.0",
      "_model_name": "HTMLModel",
      "_view_count": null,
      "_view_module": "@jupyter-widgets/controls",
      "_view_module_version": "1.5.0",
      "_view_name": "HTMLView",
      "description": "",
      "description_tooltip": null,
      "layout": "IPY_MODEL_19f4c61acf914cb199eb2ac05f96e589",
      "placeholder": "​",
      "style": "IPY_MODEL_4ab8c9b780b54bdd8f048e62e810f661",
      "value": " 80.0/80.0 [00:00&lt;00:00, 2.49kB/s]"
     }
    },
    "1bf0c6e12eba4124ad6e8d09be54f029": {
     "model_module": "@jupyter-widgets/controls",
     "model_module_version": "1.5.0",
     "model_name": "DescriptionStyleModel",
     "state": {
      "_model_module": "@jupyter-widgets/controls",
      "_model_module_version": "1.5.0",
      "_model_name": "DescriptionStyleModel",
      "_view_count": null,
      "_view_module": "@jupyter-widgets/base",
      "_view_module_version": "1.2.0",
      "_view_name": "StyleView",
      "description_width": ""
     }
    },
    "1d89ddb5bd0240519ed01bceb6288332": {
     "model_module": "@jupyter-widgets/base",
     "model_module_version": "1.2.0",
     "model_name": "LayoutModel",
     "state": {
      "_model_module": "@jupyter-widgets/base",
      "_model_module_version": "1.2.0",
      "_model_name": "LayoutModel",
      "_view_count": null,
      "_view_module": "@jupyter-widgets/base",
      "_view_module_version": "1.2.0",
      "_view_name": "LayoutView",
      "align_content": null,
      "align_items": null,
      "align_self": null,
      "border": null,
      "bottom": null,
      "display": null,
      "flex": null,
      "flex_flow": null,
      "grid_area": null,
      "grid_auto_columns": null,
      "grid_auto_flow": null,
      "grid_auto_rows": null,
      "grid_column": null,
      "grid_gap": null,
      "grid_row": null,
      "grid_template_areas": null,
      "grid_template_columns": null,
      "grid_template_rows": null,
      "height": null,
      "justify_content": null,
      "justify_items": null,
      "left": null,
      "margin": null,
      "max_height": null,
      "max_width": null,
      "min_height": null,
      "min_width": null,
      "object_fit": null,
      "object_position": null,
      "order": null,
      "overflow": null,
      "overflow_x": null,
      "overflow_y": null,
      "padding": null,
      "right": null,
      "top": null,
      "visibility": null,
      "width": null
     }
    },
    "1dc28ebb206347d088846d2a0beded30": {
     "model_module": "@jupyter-widgets/controls",
     "model_module_version": "1.5.0",
     "model_name": "HBoxModel",
     "state": {
      "_dom_classes": [],
      "_model_module": "@jupyter-widgets/controls",
      "_model_module_version": "1.5.0",
      "_model_name": "HBoxModel",
      "_view_count": null,
      "_view_module": "@jupyter-widgets/controls",
      "_view_module_version": "1.5.0",
      "_view_name": "HBoxView",
      "box_style": "",
      "children": [
       "IPY_MODEL_8a4b61ec3b9f43d7b1550de3e9976bc7",
       "IPY_MODEL_0a047d2cfbc54390af9cd51332fbf661",
       "IPY_MODEL_27db359a4f874e1dad4b8ce376566f89"
      ],
      "layout": "IPY_MODEL_42e755c031f54aa781c04cb4540b27d8"
     }
    },
    "212472f16e584829af1e5c3fa5c62b4f": {
     "model_module": "@jupyter-widgets/controls",
     "model_module_version": "1.5.0",
     "model_name": "FloatProgressModel",
     "state": {
      "_dom_classes": [],
      "_model_module": "@jupyter-widgets/controls",
      "_model_module_version": "1.5.0",
      "_model_name": "FloatProgressModel",
      "_view_count": null,
      "_view_module": "@jupyter-widgets/controls",
      "_view_module_version": "1.5.0",
      "_view_name": "ProgressView",
      "bar_style": "success",
      "description": "",
      "description_tooltip": null,
      "layout": "IPY_MODEL_1d89ddb5bd0240519ed01bceb6288332",
      "max": 624,
      "min": 0,
      "orientation": "horizontal",
      "style": "IPY_MODEL_d6eb4117d9e8411faa564cba6da75c0a",
      "value": 624
     }
    },
    "27809212ed574da1ae5ae8558c1e842c": {
     "model_module": "@jupyter-widgets/controls",
     "model_module_version": "1.5.0",
     "model_name": "ProgressStyleModel",
     "state": {
      "_model_module": "@jupyter-widgets/controls",
      "_model_module_version": "1.5.0",
      "_model_name": "ProgressStyleModel",
      "_view_count": null,
      "_view_module": "@jupyter-widgets/base",
      "_view_module_version": "1.2.0",
      "_view_name": "StyleView",
      "bar_color": null,
      "description_width": ""
     }
    },
    "27db359a4f874e1dad4b8ce376566f89": {
     "model_module": "@jupyter-widgets/controls",
     "model_module_version": "1.5.0",
     "model_name": "HTMLModel",
     "state": {
      "_dom_classes": [],
      "_model_module": "@jupyter-widgets/controls",
      "_model_module_version": "1.5.0",
      "_model_name": "HTMLModel",
      "_view_count": null,
      "_view_module": "@jupyter-widgets/controls",
      "_view_module_version": "1.5.0",
      "_view_name": "HTMLView",
      "description": "",
      "description_tooltip": null,
      "layout": "IPY_MODEL_769bc20c7189472894d840e40b30e69d",
      "placeholder": "​",
      "style": "IPY_MODEL_1bf0c6e12eba4124ad6e8d09be54f029",
      "value": " 476M/476M [00:06&lt;00:00, 108MB/s]"
     }
    },
    "28b4021876714bfa869e02f73c22dff8": {
     "model_module": "@jupyter-widgets/controls",
     "model_module_version": "1.5.0",
     "model_name": "FloatProgressModel",
     "state": {
      "_dom_classes": [],
      "_model_module": "@jupyter-widgets/controls",
      "_model_module_version": "1.5.0",
      "_model_name": "FloatProgressModel",
      "_view_count": null,
      "_view_module": "@jupyter-widgets/controls",
      "_view_module_version": "1.5.0",
      "_view_name": "ProgressView",
      "bar_style": "success",
      "description": "",
      "description_tooltip": null,
      "layout": "IPY_MODEL_844c9b629a1a42b085acfa6c58d90379",
      "max": 268943,
      "min": 0,
      "orientation": "horizontal",
      "style": "IPY_MODEL_adf093c4bc1b49abb64fa8bd4cb2745f",
      "value": 268943
     }
    },
    "2ade66d1ebf94409b8976cf1eaf84c01": {
     "model_module": "@jupyter-widgets/base",
     "model_module_version": "1.2.0",
     "model_name": "LayoutModel",
     "state": {
      "_model_module": "@jupyter-widgets/base",
      "_model_module_version": "1.2.0",
      "_model_name": "LayoutModel",
      "_view_count": null,
      "_view_module": "@jupyter-widgets/base",
      "_view_module_version": "1.2.0",
      "_view_name": "LayoutView",
      "align_content": null,
      "align_items": null,
      "align_self": null,
      "border": null,
      "bottom": null,
      "display": null,
      "flex": null,
      "flex_flow": null,
      "grid_area": null,
      "grid_auto_columns": null,
      "grid_auto_flow": null,
      "grid_auto_rows": null,
      "grid_column": null,
      "grid_gap": null,
      "grid_row": null,
      "grid_template_areas": null,
      "grid_template_columns": null,
      "grid_template_rows": null,
      "height": null,
      "justify_content": null,
      "justify_items": null,
      "left": null,
      "margin": null,
      "max_height": null,
      "max_width": null,
      "min_height": null,
      "min_width": null,
      "object_fit": null,
      "object_position": null,
      "order": null,
      "overflow": null,
      "overflow_x": null,
      "overflow_y": null,
      "padding": null,
      "right": null,
      "top": null,
      "visibility": null,
      "width": null
     }
    },
    "2cb8b676d7304e4d9051a134cc7da972": {
     "model_module": "@jupyter-widgets/base",
     "model_module_version": "1.2.0",
     "model_name": "LayoutModel",
     "state": {
      "_model_module": "@jupyter-widgets/base",
      "_model_module_version": "1.2.0",
      "_model_name": "LayoutModel",
      "_view_count": null,
      "_view_module": "@jupyter-widgets/base",
      "_view_module_version": "1.2.0",
      "_view_name": "LayoutView",
      "align_content": null,
      "align_items": null,
      "align_self": null,
      "border": null,
      "bottom": null,
      "display": null,
      "flex": null,
      "flex_flow": null,
      "grid_area": null,
      "grid_auto_columns": null,
      "grid_auto_flow": null,
      "grid_auto_rows": null,
      "grid_column": null,
      "grid_gap": null,
      "grid_row": null,
      "grid_template_areas": null,
      "grid_template_columns": null,
      "grid_template_rows": null,
      "height": null,
      "justify_content": null,
      "justify_items": null,
      "left": null,
      "margin": null,
      "max_height": null,
      "max_width": null,
      "min_height": null,
      "min_width": null,
      "object_fit": null,
      "object_position": null,
      "order": null,
      "overflow": null,
      "overflow_x": null,
      "overflow_y": null,
      "padding": null,
      "right": null,
      "top": null,
      "visibility": null,
      "width": null
     }
    },
    "2da7ca64e57e413ba4195bac49236bb8": {
     "model_module": "@jupyter-widgets/controls",
     "model_module_version": "1.5.0",
     "model_name": "HBoxModel",
     "state": {
      "_dom_classes": [],
      "_model_module": "@jupyter-widgets/controls",
      "_model_module_version": "1.5.0",
      "_model_name": "HBoxModel",
      "_view_count": null,
      "_view_module": "@jupyter-widgets/controls",
      "_view_module_version": "1.5.0",
      "_view_name": "HBoxView",
      "box_style": "",
      "children": [
       "IPY_MODEL_d879a9d805c54d22a1458563a5bdf654",
       "IPY_MODEL_02244bd48dca44ffaa336b4a212f8abf",
       "IPY_MODEL_1aeccce67be041baa8583881a0dc5ebc"
      ],
      "layout": "IPY_MODEL_3cba2ac41f7b4a77986a97e96bbbfc00"
     }
    },
    "2e2a95fad88a40f8a60da4cb76582157": {
     "model_module": "@jupyter-widgets/controls",
     "model_module_version": "1.5.0",
     "model_name": "DescriptionStyleModel",
     "state": {
      "_model_module": "@jupyter-widgets/controls",
      "_model_module_version": "1.5.0",
      "_model_name": "DescriptionStyleModel",
      "_view_count": null,
      "_view_module": "@jupyter-widgets/base",
      "_view_module_version": "1.2.0",
      "_view_name": "StyleView",
      "description_width": ""
     }
    },
    "2ff53376d4cf4c7590d7fe5d3afa6282": {
     "model_module": "@jupyter-widgets/controls",
     "model_module_version": "1.5.0",
     "model_name": "HTMLModel",
     "state": {
      "_dom_classes": [],
      "_model_module": "@jupyter-widgets/controls",
      "_model_module_version": "1.5.0",
      "_model_name": "HTMLModel",
      "_view_count": null,
      "_view_module": "@jupyter-widgets/controls",
      "_view_module_version": "1.5.0",
      "_view_name": "HTMLView",
      "description": "",
      "description_tooltip": null,
      "layout": "IPY_MODEL_590b43eba7b341f9baf1823b375295d3",
      "placeholder": "​",
      "style": "IPY_MODEL_c634cbf0d283446195ab7cfd7219997d",
      "value": "config.json: 100%"
     }
    },
    "312eeea89b19404c9bd392f65de0235f": {
     "model_module": "@jupyter-widgets/controls",
     "model_module_version": "1.5.0",
     "model_name": "FloatProgressModel",
     "state": {
      "_dom_classes": [],
      "_model_module": "@jupyter-widgets/controls",
      "_model_module_version": "1.5.0",
      "_model_name": "FloatProgressModel",
      "_view_count": null,
      "_view_module": "@jupyter-widgets/controls",
      "_view_module_version": "1.5.0",
      "_view_name": "ProgressView",
      "bar_style": "success",
      "description": "",
      "description_tooltip": null,
      "layout": "IPY_MODEL_2cb8b676d7304e4d9051a134cc7da972",
      "max": 49,
      "min": 0,
      "orientation": "horizontal",
      "style": "IPY_MODEL_3998e8e98996444eab1659fcb63acb0a",
      "value": 49
     }
    },
    "33785eb9a59a46e8b7cc65e257c8dd3c": {
     "model_module": "@jupyter-widgets/controls",
     "model_module_version": "1.5.0",
     "model_name": "HBoxModel",
     "state": {
      "_dom_classes": [],
      "_model_module": "@jupyter-widgets/controls",
      "_model_module_version": "1.5.0",
      "_model_name": "HBoxModel",
      "_view_count": null,
      "_view_module": "@jupyter-widgets/controls",
      "_view_module_version": "1.5.0",
      "_view_name": "HBoxView",
      "box_style": "",
      "children": [
       "IPY_MODEL_747c4ab8ae8a4757997d616053a69afc",
       "IPY_MODEL_00010051701d42b08eff62060b0d501c",
       "IPY_MODEL_df9fdfb03519467db504bbe9de23bbd2"
      ],
      "layout": "IPY_MODEL_01b49db8ce854231aa9535a3b418ec4c"
     }
    },
    "344a1c4e964645cf87137be8b34a3fb7": {
     "model_module": "@jupyter-widgets/base",
     "model_module_version": "1.2.0",
     "model_name": "LayoutModel",
     "state": {
      "_model_module": "@jupyter-widgets/base",
      "_model_module_version": "1.2.0",
      "_model_name": "LayoutModel",
      "_view_count": null,
      "_view_module": "@jupyter-widgets/base",
      "_view_module_version": "1.2.0",
      "_view_name": "LayoutView",
      "align_content": null,
      "align_items": null,
      "align_self": null,
      "border": null,
      "bottom": null,
      "display": null,
      "flex": null,
      "flex_flow": null,
      "grid_area": null,
      "grid_auto_columns": null,
      "grid_auto_flow": null,
      "grid_auto_rows": null,
      "grid_column": null,
      "grid_gap": null,
      "grid_row": null,
      "grid_template_areas": null,
      "grid_template_columns": null,
      "grid_template_rows": null,
      "height": null,
      "justify_content": null,
      "justify_items": null,
      "left": null,
      "margin": null,
      "max_height": null,
      "max_width": null,
      "min_height": null,
      "min_width": null,
      "object_fit": null,
      "object_position": null,
      "order": null,
      "overflow": null,
      "overflow_x": null,
      "overflow_y": null,
      "padding": null,
      "right": null,
      "top": null,
      "visibility": null,
      "width": null
     }
    },
    "34504d6fa77b4abf8a58696dd7d6e3a8": {
     "model_module": "@jupyter-widgets/controls",
     "model_module_version": "1.5.0",
     "model_name": "DescriptionStyleModel",
     "state": {
      "_model_module": "@jupyter-widgets/controls",
      "_model_module_version": "1.5.0",
      "_model_name": "DescriptionStyleModel",
      "_view_count": null,
      "_view_module": "@jupyter-widgets/base",
      "_view_module_version": "1.2.0",
      "_view_name": "StyleView",
      "description_width": ""
     }
    },
    "35043c18173b412a8d6e0c4448b8d41b": {
     "model_module": "@jupyter-widgets/controls",
     "model_module_version": "1.5.0",
     "model_name": "HTMLModel",
     "state": {
      "_dom_classes": [],
      "_model_module": "@jupyter-widgets/controls",
      "_model_module_version": "1.5.0",
      "_model_name": "HTMLModel",
      "_view_count": null,
      "_view_module": "@jupyter-widgets/controls",
      "_view_module_version": "1.5.0",
      "_view_name": "HTMLView",
      "description": "",
      "description_tooltip": null,
      "layout": "IPY_MODEL_90fc9832799e49c1b2f5784df80ae8fa",
      "placeholder": "​",
      "style": "IPY_MODEL_9c43df41db7d49dcac22b4815e81534e",
      "value": " 701/701 [00:00&lt;00:00, 25.2kB/s]"
     }
    },
    "35af0d4971f941acad37cbef4c032408": {
     "model_module": "@jupyter-widgets/controls",
     "model_module_version": "1.5.0",
     "model_name": "FloatProgressModel",
     "state": {
      "_dom_classes": [],
      "_model_module": "@jupyter-widgets/controls",
      "_model_module_version": "1.5.0",
      "_model_name": "FloatProgressModel",
      "_view_count": null,
      "_view_module": "@jupyter-widgets/controls",
      "_view_module_version": "1.5.0",
      "_view_name": "ProgressView",
      "bar_style": "success",
      "description": "",
      "description_tooltip": null,
      "layout": "IPY_MODEL_2ade66d1ebf94409b8976cf1eaf84c01",
      "max": 409251346,
      "min": 0,
      "orientation": "horizontal",
      "style": "IPY_MODEL_9b14bb07d18b4d6a9ca0a80deacb2268",
      "value": 409251346
     }
    },
    "3788bfbca4fd4f20b9f9f47fc2e201f7": {
     "model_module": "@jupyter-widgets/base",
     "model_module_version": "1.2.0",
     "model_name": "LayoutModel",
     "state": {
      "_model_module": "@jupyter-widgets/base",
      "_model_module_version": "1.2.0",
      "_model_name": "LayoutModel",
      "_view_count": null,
      "_view_module": "@jupyter-widgets/base",
      "_view_module_version": "1.2.0",
      "_view_name": "LayoutView",
      "align_content": null,
      "align_items": null,
      "align_self": null,
      "border": null,
      "bottom": null,
      "display": null,
      "flex": null,
      "flex_flow": null,
      "grid_area": null,
      "grid_auto_columns": null,
      "grid_auto_flow": null,
      "grid_auto_rows": null,
      "grid_column": null,
      "grid_gap": null,
      "grid_row": null,
      "grid_template_areas": null,
      "grid_template_columns": null,
      "grid_template_rows": null,
      "height": null,
      "justify_content": null,
      "justify_items": null,
      "left": null,
      "margin": null,
      "max_height": null,
      "max_width": null,
      "min_height": null,
      "min_width": null,
      "object_fit": null,
      "object_position": null,
      "order": null,
      "overflow": null,
      "overflow_x": null,
      "overflow_y": null,
      "padding": null,
      "right": null,
      "top": null,
      "visibility": null,
      "width": null
     }
    },
    "3998e8e98996444eab1659fcb63acb0a": {
     "model_module": "@jupyter-widgets/controls",
     "model_module_version": "1.5.0",
     "model_name": "ProgressStyleModel",
     "state": {
      "_model_module": "@jupyter-widgets/controls",
      "_model_module_version": "1.5.0",
      "_model_name": "ProgressStyleModel",
      "_view_count": null,
      "_view_module": "@jupyter-widgets/base",
      "_view_module_version": "1.2.0",
      "_view_name": "StyleView",
      "bar_color": null,
      "description_width": ""
     }
    },
    "3c9fb89fd0a1409591a0475a6d138a71": {
     "model_module": "@jupyter-widgets/base",
     "model_module_version": "1.2.0",
     "model_name": "LayoutModel",
     "state": {
      "_model_module": "@jupyter-widgets/base",
      "_model_module_version": "1.2.0",
      "_model_name": "LayoutModel",
      "_view_count": null,
      "_view_module": "@jupyter-widgets/base",
      "_view_module_version": "1.2.0",
      "_view_name": "LayoutView",
      "align_content": null,
      "align_items": null,
      "align_self": null,
      "border": null,
      "bottom": null,
      "display": null,
      "flex": null,
      "flex_flow": null,
      "grid_area": null,
      "grid_auto_columns": null,
      "grid_auto_flow": null,
      "grid_auto_rows": null,
      "grid_column": null,
      "grid_gap": null,
      "grid_row": null,
      "grid_template_areas": null,
      "grid_template_columns": null,
      "grid_template_rows": null,
      "height": null,
      "justify_content": null,
      "justify_items": null,
      "left": null,
      "margin": null,
      "max_height": null,
      "max_width": null,
      "min_height": null,
      "min_width": null,
      "object_fit": null,
      "object_position": null,
      "order": null,
      "overflow": null,
      "overflow_x": null,
      "overflow_y": null,
      "padding": null,
      "right": null,
      "top": null,
      "visibility": null,
      "width": null
     }
    },
    "3cba2ac41f7b4a77986a97e96bbbfc00": {
     "model_module": "@jupyter-widgets/base",
     "model_module_version": "1.2.0",
     "model_name": "LayoutModel",
     "state": {
      "_model_module": "@jupyter-widgets/base",
      "_model_module_version": "1.2.0",
      "_model_name": "LayoutModel",
      "_view_count": null,
      "_view_module": "@jupyter-widgets/base",
      "_view_module_version": "1.2.0",
      "_view_name": "LayoutView",
      "align_content": null,
      "align_items": null,
      "align_self": null,
      "border": null,
      "bottom": null,
      "display": null,
      "flex": null,
      "flex_flow": null,
      "grid_area": null,
      "grid_auto_columns": null,
      "grid_auto_flow": null,
      "grid_auto_rows": null,
      "grid_column": null,
      "grid_gap": null,
      "grid_row": null,
      "grid_template_areas": null,
      "grid_template_columns": null,
      "grid_template_rows": null,
      "height": null,
      "justify_content": null,
      "justify_items": null,
      "left": null,
      "margin": null,
      "max_height": null,
      "max_width": null,
      "min_height": null,
      "min_width": null,
      "object_fit": null,
      "object_position": null,
      "order": null,
      "overflow": null,
      "overflow_x": null,
      "overflow_y": null,
      "padding": null,
      "right": null,
      "top": null,
      "visibility": null,
      "width": null
     }
    },
    "3cf028e075984f96a3963a40ed5c6e72": {
     "model_module": "@jupyter-widgets/base",
     "model_module_version": "1.2.0",
     "model_name": "LayoutModel",
     "state": {
      "_model_module": "@jupyter-widgets/base",
      "_model_module_version": "1.2.0",
      "_model_name": "LayoutModel",
      "_view_count": null,
      "_view_module": "@jupyter-widgets/base",
      "_view_module_version": "1.2.0",
      "_view_name": "LayoutView",
      "align_content": null,
      "align_items": null,
      "align_self": null,
      "border": null,
      "bottom": null,
      "display": null,
      "flex": null,
      "flex_flow": null,
      "grid_area": null,
      "grid_auto_columns": null,
      "grid_auto_flow": null,
      "grid_auto_rows": null,
      "grid_column": null,
      "grid_gap": null,
      "grid_row": null,
      "grid_template_areas": null,
      "grid_template_columns": null,
      "grid_template_rows": null,
      "height": null,
      "justify_content": null,
      "justify_items": null,
      "left": null,
      "margin": null,
      "max_height": null,
      "max_width": null,
      "min_height": null,
      "min_width": null,
      "object_fit": null,
      "object_position": null,
      "order": null,
      "overflow": null,
      "overflow_x": null,
      "overflow_y": null,
      "padding": null,
      "right": null,
      "top": null,
      "visibility": null,
      "width": null
     }
    },
    "3eb23ade96994dada5ebd4cacfdd00e2": {
     "model_module": "@jupyter-widgets/controls",
     "model_module_version": "1.5.0",
     "model_name": "DescriptionStyleModel",
     "state": {
      "_model_module": "@jupyter-widgets/controls",
      "_model_module_version": "1.5.0",
      "_model_name": "DescriptionStyleModel",
      "_view_count": null,
      "_view_module": "@jupyter-widgets/base",
      "_view_module_version": "1.2.0",
      "_view_name": "StyleView",
      "description_width": ""
     }
    },
    "3f8d4c7b0983439bae25ee47fecda122": {
     "model_module": "@jupyter-widgets/base",
     "model_module_version": "1.2.0",
     "model_name": "LayoutModel",
     "state": {
      "_model_module": "@jupyter-widgets/base",
      "_model_module_version": "1.2.0",
      "_model_name": "LayoutModel",
      "_view_count": null,
      "_view_module": "@jupyter-widgets/base",
      "_view_module_version": "1.2.0",
      "_view_name": "LayoutView",
      "align_content": null,
      "align_items": null,
      "align_self": null,
      "border": null,
      "bottom": null,
      "display": null,
      "flex": null,
      "flex_flow": null,
      "grid_area": null,
      "grid_auto_columns": null,
      "grid_auto_flow": null,
      "grid_auto_rows": null,
      "grid_column": null,
      "grid_gap": null,
      "grid_row": null,
      "grid_template_areas": null,
      "grid_template_columns": null,
      "grid_template_rows": null,
      "height": null,
      "justify_content": null,
      "justify_items": null,
      "left": null,
      "margin": null,
      "max_height": null,
      "max_width": null,
      "min_height": null,
      "min_width": null,
      "object_fit": null,
      "object_position": null,
      "order": null,
      "overflow": null,
      "overflow_x": null,
      "overflow_y": null,
      "padding": null,
      "right": null,
      "top": null,
      "visibility": null,
      "width": null
     }
    },
    "42e755c031f54aa781c04cb4540b27d8": {
     "model_module": "@jupyter-widgets/base",
     "model_module_version": "1.2.0",
     "model_name": "LayoutModel",
     "state": {
      "_model_module": "@jupyter-widgets/base",
      "_model_module_version": "1.2.0",
      "_model_name": "LayoutModel",
      "_view_count": null,
      "_view_module": "@jupyter-widgets/base",
      "_view_module_version": "1.2.0",
      "_view_name": "LayoutView",
      "align_content": null,
      "align_items": null,
      "align_self": null,
      "border": null,
      "bottom": null,
      "display": null,
      "flex": null,
      "flex_flow": null,
      "grid_area": null,
      "grid_auto_columns": null,
      "grid_auto_flow": null,
      "grid_auto_rows": null,
      "grid_column": null,
      "grid_gap": null,
      "grid_row": null,
      "grid_template_areas": null,
      "grid_template_columns": null,
      "grid_template_rows": null,
      "height": null,
      "justify_content": null,
      "justify_items": null,
      "left": null,
      "margin": null,
      "max_height": null,
      "max_width": null,
      "min_height": null,
      "min_width": null,
      "object_fit": null,
      "object_position": null,
      "order": null,
      "overflow": null,
      "overflow_x": null,
      "overflow_y": null,
      "padding": null,
      "right": null,
      "top": null,
      "visibility": null,
      "width": null
     }
    },
    "45977ce5747c42358b070a7503911872": {
     "model_module": "@jupyter-widgets/controls",
     "model_module_version": "1.5.0",
     "model_name": "HTMLModel",
     "state": {
      "_dom_classes": [],
      "_model_module": "@jupyter-widgets/controls",
      "_model_module_version": "1.5.0",
      "_model_name": "HTMLModel",
      "_view_count": null,
      "_view_module": "@jupyter-widgets/controls",
      "_view_module_version": "1.5.0",
      "_view_name": "HTMLView",
      "description": "",
      "description_tooltip": null,
      "layout": "IPY_MODEL_5ca2280f98584882896b20ea0c45ff6a",
      "placeholder": "​",
      "style": "IPY_MODEL_c17afa48dfca4afeb9959048f855cbf0",
      "value": " 344k/344k [00:00&lt;00:00, 8.17MB/s]"
     }
    },
    "4649e61e1db444c6842df48a62eae3c2": {
     "model_module": "@jupyter-widgets/base",
     "model_module_version": "1.2.0",
     "model_name": "LayoutModel",
     "state": {
      "_model_module": "@jupyter-widgets/base",
      "_model_module_version": "1.2.0",
      "_model_name": "LayoutModel",
      "_view_count": null,
      "_view_module": "@jupyter-widgets/base",
      "_view_module_version": "1.2.0",
      "_view_name": "LayoutView",
      "align_content": null,
      "align_items": null,
      "align_self": null,
      "border": null,
      "bottom": null,
      "display": null,
      "flex": null,
      "flex_flow": null,
      "grid_area": null,
      "grid_auto_columns": null,
      "grid_auto_flow": null,
      "grid_auto_rows": null,
      "grid_column": null,
      "grid_gap": null,
      "grid_row": null,
      "grid_template_areas": null,
      "grid_template_columns": null,
      "grid_template_rows": null,
      "height": null,
      "justify_content": null,
      "justify_items": null,
      "left": null,
      "margin": null,
      "max_height": null,
      "max_width": null,
      "min_height": null,
      "min_width": null,
      "object_fit": null,
      "object_position": null,
      "order": null,
      "overflow": null,
      "overflow_x": null,
      "overflow_y": null,
      "padding": null,
      "right": null,
      "top": null,
      "visibility": null,
      "width": null
     }
    },
    "474e63484c104ee284e4c4f7f3b2beff": {
     "model_module": "@jupyter-widgets/base",
     "model_module_version": "1.2.0",
     "model_name": "LayoutModel",
     "state": {
      "_model_module": "@jupyter-widgets/base",
      "_model_module_version": "1.2.0",
      "_model_name": "LayoutModel",
      "_view_count": null,
      "_view_module": "@jupyter-widgets/base",
      "_view_module_version": "1.2.0",
      "_view_name": "LayoutView",
      "align_content": null,
      "align_items": null,
      "align_self": null,
      "border": null,
      "bottom": null,
      "display": null,
      "flex": null,
      "flex_flow": null,
      "grid_area": null,
      "grid_auto_columns": null,
      "grid_auto_flow": null,
      "grid_auto_rows": null,
      "grid_column": null,
      "grid_gap": null,
      "grid_row": null,
      "grid_template_areas": null,
      "grid_template_columns": null,
      "grid_template_rows": null,
      "height": null,
      "justify_content": null,
      "justify_items": null,
      "left": null,
      "margin": null,
      "max_height": null,
      "max_width": null,
      "min_height": null,
      "min_width": null,
      "object_fit": null,
      "object_position": null,
      "order": null,
      "overflow": null,
      "overflow_x": null,
      "overflow_y": null,
      "padding": null,
      "right": null,
      "top": null,
      "visibility": null,
      "width": null
     }
    },
    "493cf80dc3914a5593bf22ded0bca7e4": {
     "model_module": "@jupyter-widgets/controls",
     "model_module_version": "1.5.0",
     "model_name": "DescriptionStyleModel",
     "state": {
      "_model_module": "@jupyter-widgets/controls",
      "_model_module_version": "1.5.0",
      "_model_name": "DescriptionStyleModel",
      "_view_count": null,
      "_view_module": "@jupyter-widgets/base",
      "_view_module_version": "1.2.0",
      "_view_name": "StyleView",
      "description_width": ""
     }
    },
    "4ab8c9b780b54bdd8f048e62e810f661": {
     "model_module": "@jupyter-widgets/controls",
     "model_module_version": "1.5.0",
     "model_name": "DescriptionStyleModel",
     "state": {
      "_model_module": "@jupyter-widgets/controls",
      "_model_module_version": "1.5.0",
      "_model_name": "DescriptionStyleModel",
      "_view_count": null,
      "_view_module": "@jupyter-widgets/base",
      "_view_module_version": "1.2.0",
      "_view_name": "StyleView",
      "description_width": ""
     }
    },
    "4b9c7eef53fe42edbff247249023f290": {
     "model_module": "@jupyter-widgets/controls",
     "model_module_version": "1.5.0",
     "model_name": "HTMLModel",
     "state": {
      "_dom_classes": [],
      "_model_module": "@jupyter-widgets/controls",
      "_model_module_version": "1.5.0",
      "_model_name": "HTMLModel",
      "_view_count": null,
      "_view_module": "@jupyter-widgets/controls",
      "_view_module_version": "1.5.0",
      "_view_name": "HTMLView",
      "description": "",
      "description_tooltip": null,
      "layout": "IPY_MODEL_ccfdc314f35148faa8a211110ecea6d8",
      "placeholder": "​",
      "style": "IPY_MODEL_5342536ce2e8483eb48e3657da31b999",
      "value": "config.json: 100%"
     }
    },
    "4d28976774dc4590bf672c6fe37034b6": {
     "model_module": "@jupyter-widgets/controls",
     "model_module_version": "1.5.0",
     "model_name": "HTMLModel",
     "state": {
      "_dom_classes": [],
      "_model_module": "@jupyter-widgets/controls",
      "_model_module_version": "1.5.0",
      "_model_name": "HTMLModel",
      "_view_count": null,
      "_view_module": "@jupyter-widgets/controls",
      "_view_module_version": "1.5.0",
      "_view_name": "HTMLView",
      "description": "",
      "description_tooltip": null,
      "layout": "IPY_MODEL_acf0636787b24ea09b2a3aa658ab4eb2",
      "placeholder": "​",
      "style": "IPY_MODEL_de769a4cbd9a4e4984ce755409b15b49",
      "value": " 110k/110k [00:00&lt;00:00, 2.35MB/s]"
     }
    },
    "4ea65e6b8639478da62a54a1648d5afe": {
     "model_module": "@jupyter-widgets/controls",
     "model_module_version": "1.5.0",
     "model_name": "DescriptionStyleModel",
     "state": {
      "_model_module": "@jupyter-widgets/controls",
      "_model_module_version": "1.5.0",
      "_model_name": "DescriptionStyleModel",
      "_view_count": null,
      "_view_module": "@jupyter-widgets/base",
      "_view_module_version": "1.2.0",
      "_view_name": "StyleView",
      "description_width": ""
     }
    },
    "4f92bd52463241eb9589189f4c9c8f05": {
     "model_module": "@jupyter-widgets/controls",
     "model_module_version": "1.5.0",
     "model_name": "FloatProgressModel",
     "state": {
      "_dom_classes": [],
      "_model_module": "@jupyter-widgets/controls",
      "_model_module_version": "1.5.0",
      "_model_name": "FloatProgressModel",
      "_view_count": null,
      "_view_module": "@jupyter-widgets/controls",
      "_view_module_version": "1.5.0",
      "_view_name": "ProgressView",
      "bar_style": "success",
      "description": "",
      "description_tooltip": null,
      "layout": "IPY_MODEL_3f8d4c7b0983439bae25ee47fecda122",
      "max": 344259,
      "min": 0,
      "orientation": "horizontal",
      "style": "IPY_MODEL_56f8e95a2f09428ea700064fe4bbe894",
      "value": 344259
     }
    },
    "50bbe146983d4c90b90d4ed1ca59a96b": {
     "model_module": "@jupyter-widgets/controls",
     "model_module_version": "1.5.0",
     "model_name": "DescriptionStyleModel",
     "state": {
      "_model_module": "@jupyter-widgets/controls",
      "_model_module_version": "1.5.0",
      "_model_name": "DescriptionStyleModel",
      "_view_count": null,
      "_view_module": "@jupyter-widgets/base",
      "_view_module_version": "1.2.0",
      "_view_name": "StyleView",
      "description_width": ""
     }
    },
    "5342536ce2e8483eb48e3657da31b999": {
     "model_module": "@jupyter-widgets/controls",
     "model_module_version": "1.5.0",
     "model_name": "DescriptionStyleModel",
     "state": {
      "_model_module": "@jupyter-widgets/controls",
      "_model_module_version": "1.5.0",
      "_model_name": "DescriptionStyleModel",
      "_view_count": null,
      "_view_module": "@jupyter-widgets/base",
      "_view_module_version": "1.2.0",
      "_view_name": "StyleView",
      "description_width": ""
     }
    },
    "541246b22bdd401fa1dea2527e62b524": {
     "model_module": "@jupyter-widgets/base",
     "model_module_version": "1.2.0",
     "model_name": "LayoutModel",
     "state": {
      "_model_module": "@jupyter-widgets/base",
      "_model_module_version": "1.2.0",
      "_model_name": "LayoutModel",
      "_view_count": null,
      "_view_module": "@jupyter-widgets/base",
      "_view_module_version": "1.2.0",
      "_view_name": "LayoutView",
      "align_content": null,
      "align_items": null,
      "align_self": null,
      "border": null,
      "bottom": null,
      "display": null,
      "flex": null,
      "flex_flow": null,
      "grid_area": null,
      "grid_auto_columns": null,
      "grid_auto_flow": null,
      "grid_auto_rows": null,
      "grid_column": null,
      "grid_gap": null,
      "grid_row": null,
      "grid_template_areas": null,
      "grid_template_columns": null,
      "grid_template_rows": null,
      "height": null,
      "justify_content": null,
      "justify_items": null,
      "left": null,
      "margin": null,
      "max_height": null,
      "max_width": null,
      "min_height": null,
      "min_width": null,
      "object_fit": null,
      "object_position": null,
      "order": null,
      "overflow": null,
      "overflow_x": null,
      "overflow_y": null,
      "padding": null,
      "right": null,
      "top": null,
      "visibility": null,
      "width": null
     }
    },
    "56f8e95a2f09428ea700064fe4bbe894": {
     "model_module": "@jupyter-widgets/controls",
     "model_module_version": "1.5.0",
     "model_name": "ProgressStyleModel",
     "state": {
      "_model_module": "@jupyter-widgets/controls",
      "_model_module_version": "1.5.0",
      "_model_name": "ProgressStyleModel",
      "_view_count": null,
      "_view_module": "@jupyter-widgets/base",
      "_view_module_version": "1.2.0",
      "_view_name": "StyleView",
      "bar_color": null,
      "description_width": ""
     }
    },
    "57b723dd730047dfa92a59fae6c7db3f": {
     "model_module": "@jupyter-widgets/base",
     "model_module_version": "1.2.0",
     "model_name": "LayoutModel",
     "state": {
      "_model_module": "@jupyter-widgets/base",
      "_model_module_version": "1.2.0",
      "_model_name": "LayoutModel",
      "_view_count": null,
      "_view_module": "@jupyter-widgets/base",
      "_view_module_version": "1.2.0",
      "_view_name": "LayoutView",
      "align_content": null,
      "align_items": null,
      "align_self": null,
      "border": null,
      "bottom": null,
      "display": null,
      "flex": null,
      "flex_flow": null,
      "grid_area": null,
      "grid_auto_columns": null,
      "grid_auto_flow": null,
      "grid_auto_rows": null,
      "grid_column": null,
      "grid_gap": null,
      "grid_row": null,
      "grid_template_areas": null,
      "grid_template_columns": null,
      "grid_template_rows": null,
      "height": null,
      "justify_content": null,
      "justify_items": null,
      "left": null,
      "margin": null,
      "max_height": null,
      "max_width": null,
      "min_height": null,
      "min_width": null,
      "object_fit": null,
      "object_position": null,
      "order": null,
      "overflow": null,
      "overflow_x": null,
      "overflow_y": null,
      "padding": null,
      "right": null,
      "top": null,
      "visibility": null,
      "width": null
     }
    },
    "590b43eba7b341f9baf1823b375295d3": {
     "model_module": "@jupyter-widgets/base",
     "model_module_version": "1.2.0",
     "model_name": "LayoutModel",
     "state": {
      "_model_module": "@jupyter-widgets/base",
      "_model_module_version": "1.2.0",
      "_model_name": "LayoutModel",
      "_view_count": null,
      "_view_module": "@jupyter-widgets/base",
      "_view_module_version": "1.2.0",
      "_view_name": "LayoutView",
      "align_content": null,
      "align_items": null,
      "align_self": null,
      "border": null,
      "bottom": null,
      "display": null,
      "flex": null,
      "flex_flow": null,
      "grid_area": null,
      "grid_auto_columns": null,
      "grid_auto_flow": null,
      "grid_auto_rows": null,
      "grid_column": null,
      "grid_gap": null,
      "grid_row": null,
      "grid_template_areas": null,
      "grid_template_columns": null,
      "grid_template_rows": null,
      "height": null,
      "justify_content": null,
      "justify_items": null,
      "left": null,
      "margin": null,
      "max_height": null,
      "max_width": null,
      "min_height": null,
      "min_width": null,
      "object_fit": null,
      "object_position": null,
      "order": null,
      "overflow": null,
      "overflow_x": null,
      "overflow_y": null,
      "padding": null,
      "right": null,
      "top": null,
      "visibility": null,
      "width": null
     }
    },
    "5ca2280f98584882896b20ea0c45ff6a": {
     "model_module": "@jupyter-widgets/base",
     "model_module_version": "1.2.0",
     "model_name": "LayoutModel",
     "state": {
      "_model_module": "@jupyter-widgets/base",
      "_model_module_version": "1.2.0",
      "_model_name": "LayoutModel",
      "_view_count": null,
      "_view_module": "@jupyter-widgets/base",
      "_view_module_version": "1.2.0",
      "_view_name": "LayoutView",
      "align_content": null,
      "align_items": null,
      "align_self": null,
      "border": null,
      "bottom": null,
      "display": null,
      "flex": null,
      "flex_flow": null,
      "grid_area": null,
      "grid_auto_columns": null,
      "grid_auto_flow": null,
      "grid_auto_rows": null,
      "grid_column": null,
      "grid_gap": null,
      "grid_row": null,
      "grid_template_areas": null,
      "grid_template_columns": null,
      "grid_template_rows": null,
      "height": null,
      "justify_content": null,
      "justify_items": null,
      "left": null,
      "margin": null,
      "max_height": null,
      "max_width": null,
      "min_height": null,
      "min_width": null,
      "object_fit": null,
      "object_position": null,
      "order": null,
      "overflow": null,
      "overflow_x": null,
      "overflow_y": null,
      "padding": null,
      "right": null,
      "top": null,
      "visibility": null,
      "width": null
     }
    },
    "67d8d0bb666b4910a3780525eacc46fd": {
     "model_module": "@jupyter-widgets/controls",
     "model_module_version": "1.5.0",
     "model_name": "DescriptionStyleModel",
     "state": {
      "_model_module": "@jupyter-widgets/controls",
      "_model_module_version": "1.5.0",
      "_model_name": "DescriptionStyleModel",
      "_view_count": null,
      "_view_module": "@jupyter-widgets/base",
      "_view_module_version": "1.2.0",
      "_view_name": "StyleView",
      "description_width": ""
     }
    },
    "6ac1356ca86d41d7bd58d8a789a71114": {
     "model_module": "@jupyter-widgets/controls",
     "model_module_version": "1.5.0",
     "model_name": "DescriptionStyleModel",
     "state": {
      "_model_module": "@jupyter-widgets/controls",
      "_model_module_version": "1.5.0",
      "_model_name": "DescriptionStyleModel",
      "_view_count": null,
      "_view_module": "@jupyter-widgets/base",
      "_view_module_version": "1.2.0",
      "_view_name": "StyleView",
      "description_width": ""
     }
    },
    "704b63216e56438ab91411264de698d6": {
     "model_module": "@jupyter-widgets/base",
     "model_module_version": "1.2.0",
     "model_name": "LayoutModel",
     "state": {
      "_model_module": "@jupyter-widgets/base",
      "_model_module_version": "1.2.0",
      "_model_name": "LayoutModel",
      "_view_count": null,
      "_view_module": "@jupyter-widgets/base",
      "_view_module_version": "1.2.0",
      "_view_name": "LayoutView",
      "align_content": null,
      "align_items": null,
      "align_self": null,
      "border": null,
      "bottom": null,
      "display": null,
      "flex": null,
      "flex_flow": null,
      "grid_area": null,
      "grid_auto_columns": null,
      "grid_auto_flow": null,
      "grid_auto_rows": null,
      "grid_column": null,
      "grid_gap": null,
      "grid_row": null,
      "grid_template_areas": null,
      "grid_template_columns": null,
      "grid_template_rows": null,
      "height": null,
      "justify_content": null,
      "justify_items": null,
      "left": null,
      "margin": null,
      "max_height": null,
      "max_width": null,
      "min_height": null,
      "min_width": null,
      "object_fit": null,
      "object_position": null,
      "order": null,
      "overflow": null,
      "overflow_x": null,
      "overflow_y": null,
      "padding": null,
      "right": null,
      "top": null,
      "visibility": null,
      "width": null
     }
    },
    "747c4ab8ae8a4757997d616053a69afc": {
     "model_module": "@jupyter-widgets/controls",
     "model_module_version": "1.5.0",
     "model_name": "HTMLModel",
     "state": {
      "_dom_classes": [],
      "_model_module": "@jupyter-widgets/controls",
      "_model_module_version": "1.5.0",
      "_model_name": "HTMLModel",
      "_view_count": null,
      "_view_module": "@jupyter-widgets/controls",
      "_view_module_version": "1.5.0",
      "_view_name": "HTMLView",
      "description": "",
      "description_tooltip": null,
      "layout": "IPY_MODEL_00afcb5fdb3749ba90472898e623b2c8",
      "placeholder": "​",
      "style": "IPY_MODEL_4ea65e6b8639478da62a54a1648d5afe",
      "value": "config.json: 100%"
     }
    },
    "7674cd42070c4d628d2859869729a86c": {
     "model_module": "@jupyter-widgets/controls",
     "model_module_version": "1.5.0",
     "model_name": "HTMLModel",
     "state": {
      "_dom_classes": [],
      "_model_module": "@jupyter-widgets/controls",
      "_model_module_version": "1.5.0",
      "_model_name": "HTMLModel",
      "_view_count": null,
      "_view_module": "@jupyter-widgets/controls",
      "_view_module_version": "1.5.0",
      "_view_name": "HTMLView",
      "description": "",
      "description_tooltip": null,
      "layout": "IPY_MODEL_7e7fa01cf93b4a5395bb4d9ee8dcf69b",
      "placeholder": "​",
      "style": "IPY_MODEL_142f9242b8ed4eb6a74b47496bad2113",
      "value": " 409M/409M [00:04&lt;00:00, 91.9MB/s]"
     }
    },
    "769bc20c7189472894d840e40b30e69d": {
     "model_module": "@jupyter-widgets/base",
     "model_module_version": "1.2.0",
     "model_name": "LayoutModel",
     "state": {
      "_model_module": "@jupyter-widgets/base",
      "_model_module_version": "1.2.0",
      "_model_name": "LayoutModel",
      "_view_count": null,
      "_view_module": "@jupyter-widgets/base",
      "_view_module_version": "1.2.0",
      "_view_name": "LayoutView",
      "align_content": null,
      "align_items": null,
      "align_self": null,
      "border": null,
      "bottom": null,
      "display": null,
      "flex": null,
      "flex_flow": null,
      "grid_area": null,
      "grid_auto_columns": null,
      "grid_auto_flow": null,
      "grid_auto_rows": null,
      "grid_column": null,
      "grid_gap": null,
      "grid_row": null,
      "grid_template_areas": null,
      "grid_template_columns": null,
      "grid_template_rows": null,
      "height": null,
      "justify_content": null,
      "justify_items": null,
      "left": null,
      "margin": null,
      "max_height": null,
      "max_width": null,
      "min_height": null,
      "min_width": null,
      "object_fit": null,
      "object_position": null,
      "order": null,
      "overflow": null,
      "overflow_x": null,
      "overflow_y": null,
      "padding": null,
      "right": null,
      "top": null,
      "visibility": null,
      "width": null
     }
    },
    "7b60481261e34de28c86774ee5d32ab4": {
     "model_module": "@jupyter-widgets/base",
     "model_module_version": "1.2.0",
     "model_name": "LayoutModel",
     "state": {
      "_model_module": "@jupyter-widgets/base",
      "_model_module_version": "1.2.0",
      "_model_name": "LayoutModel",
      "_view_count": null,
      "_view_module": "@jupyter-widgets/base",
      "_view_module_version": "1.2.0",
      "_view_name": "LayoutView",
      "align_content": null,
      "align_items": null,
      "align_self": null,
      "border": null,
      "bottom": null,
      "display": null,
      "flex": null,
      "flex_flow": null,
      "grid_area": null,
      "grid_auto_columns": null,
      "grid_auto_flow": null,
      "grid_auto_rows": null,
      "grid_column": null,
      "grid_gap": null,
      "grid_row": null,
      "grid_template_areas": null,
      "grid_template_columns": null,
      "grid_template_rows": null,
      "height": null,
      "justify_content": null,
      "justify_items": null,
      "left": null,
      "margin": null,
      "max_height": null,
      "max_width": null,
      "min_height": null,
      "min_width": null,
      "object_fit": null,
      "object_position": null,
      "order": null,
      "overflow": null,
      "overflow_x": null,
      "overflow_y": null,
      "padding": null,
      "right": null,
      "top": null,
      "visibility": null,
      "width": null
     }
    },
    "7d2db1a65399493384a5ac31daf031e9": {
     "model_module": "@jupyter-widgets/controls",
     "model_module_version": "1.5.0",
     "model_name": "HTMLModel",
     "state": {
      "_dom_classes": [],
      "_model_module": "@jupyter-widgets/controls",
      "_model_module_version": "1.5.0",
      "_model_name": "HTMLModel",
      "_view_count": null,
      "_view_module": "@jupyter-widgets/controls",
      "_view_module_version": "1.5.0",
      "_view_name": "HTMLView",
      "description": "",
      "description_tooltip": null,
      "layout": "IPY_MODEL_05de0f2c4ccd4ce9b8b173d09c4e3057",
      "placeholder": "​",
      "style": "IPY_MODEL_b36c44ba85ff495c894358f799a3ebd7",
      "value": " 269k/269k [00:00&lt;00:00, 5.74MB/s]"
     }
    },
    "7e168085c22a4e02a4a52845c4cc9c49": {
     "model_module": "@jupyter-widgets/controls",
     "model_module_version": "1.5.0",
     "model_name": "FloatProgressModel",
     "state": {
      "_dom_classes": [],
      "_model_module": "@jupyter-widgets/controls",
      "_model_module_version": "1.5.0",
      "_model_name": "FloatProgressModel",
      "_view_count": null,
      "_view_module": "@jupyter-widgets/controls",
      "_view_module_version": "1.5.0",
      "_view_name": "ProgressView",
      "bar_style": "success",
      "description": "",
      "description_tooltip": null,
      "layout": "IPY_MODEL_7b60481261e34de28c86774ee5d32ab4",
      "max": 109540,
      "min": 0,
      "orientation": "horizontal",
      "style": "IPY_MODEL_d76b72d842e142c69fd64669d28d4646",
      "value": 109540
     }
    },
    "7e7fa01cf93b4a5395bb4d9ee8dcf69b": {
     "model_module": "@jupyter-widgets/base",
     "model_module_version": "1.2.0",
     "model_name": "LayoutModel",
     "state": {
      "_model_module": "@jupyter-widgets/base",
      "_model_module_version": "1.2.0",
      "_model_name": "LayoutModel",
      "_view_count": null,
      "_view_module": "@jupyter-widgets/base",
      "_view_module_version": "1.2.0",
      "_view_name": "LayoutView",
      "align_content": null,
      "align_items": null,
      "align_self": null,
      "border": null,
      "bottom": null,
      "display": null,
      "flex": null,
      "flex_flow": null,
      "grid_area": null,
      "grid_auto_columns": null,
      "grid_auto_flow": null,
      "grid_auto_rows": null,
      "grid_column": null,
      "grid_gap": null,
      "grid_row": null,
      "grid_template_areas": null,
      "grid_template_columns": null,
      "grid_template_rows": null,
      "height": null,
      "justify_content": null,
      "justify_items": null,
      "left": null,
      "margin": null,
      "max_height": null,
      "max_width": null,
      "min_height": null,
      "min_width": null,
      "object_fit": null,
      "object_position": null,
      "order": null,
      "overflow": null,
      "overflow_x": null,
      "overflow_y": null,
      "padding": null,
      "right": null,
      "top": null,
      "visibility": null,
      "width": null
     }
    },
    "8297a41c47794fbc874ac45c6345e8e0": {
     "model_module": "@jupyter-widgets/base",
     "model_module_version": "1.2.0",
     "model_name": "LayoutModel",
     "state": {
      "_model_module": "@jupyter-widgets/base",
      "_model_module_version": "1.2.0",
      "_model_name": "LayoutModel",
      "_view_count": null,
      "_view_module": "@jupyter-widgets/base",
      "_view_module_version": "1.2.0",
      "_view_name": "LayoutView",
      "align_content": null,
      "align_items": null,
      "align_self": null,
      "border": null,
      "bottom": null,
      "display": null,
      "flex": null,
      "flex_flow": null,
      "grid_area": null,
      "grid_auto_columns": null,
      "grid_auto_flow": null,
      "grid_auto_rows": null,
      "grid_column": null,
      "grid_gap": null,
      "grid_row": null,
      "grid_template_areas": null,
      "grid_template_columns": null,
      "grid_template_rows": null,
      "height": null,
      "justify_content": null,
      "justify_items": null,
      "left": null,
      "margin": null,
      "max_height": null,
      "max_width": null,
      "min_height": null,
      "min_width": null,
      "object_fit": null,
      "object_position": null,
      "order": null,
      "overflow": null,
      "overflow_x": null,
      "overflow_y": null,
      "padding": null,
      "right": null,
      "top": null,
      "visibility": null,
      "width": null
     }
    },
    "835c55b828da496abb6ab8a679738793": {
     "model_module": "@jupyter-widgets/base",
     "model_module_version": "1.2.0",
     "model_name": "LayoutModel",
     "state": {
      "_model_module": "@jupyter-widgets/base",
      "_model_module_version": "1.2.0",
      "_model_name": "LayoutModel",
      "_view_count": null,
      "_view_module": "@jupyter-widgets/base",
      "_view_module_version": "1.2.0",
      "_view_name": "LayoutView",
      "align_content": null,
      "align_items": null,
      "align_self": null,
      "border": null,
      "bottom": null,
      "display": null,
      "flex": null,
      "flex_flow": null,
      "grid_area": null,
      "grid_auto_columns": null,
      "grid_auto_flow": null,
      "grid_auto_rows": null,
      "grid_column": null,
      "grid_gap": null,
      "grid_row": null,
      "grid_template_areas": null,
      "grid_template_columns": null,
      "grid_template_rows": null,
      "height": null,
      "justify_content": null,
      "justify_items": null,
      "left": null,
      "margin": null,
      "max_height": null,
      "max_width": null,
      "min_height": null,
      "min_width": null,
      "object_fit": null,
      "object_position": null,
      "order": null,
      "overflow": null,
      "overflow_x": null,
      "overflow_y": null,
      "padding": null,
      "right": null,
      "top": null,
      "visibility": null,
      "width": null
     }
    },
    "844c9b629a1a42b085acfa6c58d90379": {
     "model_module": "@jupyter-widgets/base",
     "model_module_version": "1.2.0",
     "model_name": "LayoutModel",
     "state": {
      "_model_module": "@jupyter-widgets/base",
      "_model_module_version": "1.2.0",
      "_model_name": "LayoutModel",
      "_view_count": null,
      "_view_module": "@jupyter-widgets/base",
      "_view_module_version": "1.2.0",
      "_view_name": "LayoutView",
      "align_content": null,
      "align_items": null,
      "align_self": null,
      "border": null,
      "bottom": null,
      "display": null,
      "flex": null,
      "flex_flow": null,
      "grid_area": null,
      "grid_auto_columns": null,
      "grid_auto_flow": null,
      "grid_auto_rows": null,
      "grid_column": null,
      "grid_gap": null,
      "grid_row": null,
      "grid_template_areas": null,
      "grid_template_columns": null,
      "grid_template_rows": null,
      "height": null,
      "justify_content": null,
      "justify_items": null,
      "left": null,
      "margin": null,
      "max_height": null,
      "max_width": null,
      "min_height": null,
      "min_width": null,
      "object_fit": null,
      "object_position": null,
      "order": null,
      "overflow": null,
      "overflow_x": null,
      "overflow_y": null,
      "padding": null,
      "right": null,
      "top": null,
      "visibility": null,
      "width": null
     }
    },
    "8a4b61ec3b9f43d7b1550de3e9976bc7": {
     "model_module": "@jupyter-widgets/controls",
     "model_module_version": "1.5.0",
     "model_name": "HTMLModel",
     "state": {
      "_dom_classes": [],
      "_model_module": "@jupyter-widgets/controls",
      "_model_module_version": "1.5.0",
      "_model_name": "HTMLModel",
      "_view_count": null,
      "_view_module": "@jupyter-widgets/controls",
      "_view_module_version": "1.5.0",
      "_view_name": "HTMLView",
      "description": "",
      "description_tooltip": null,
      "layout": "IPY_MODEL_3c9fb89fd0a1409591a0475a6d138a71",
      "placeholder": "​",
      "style": "IPY_MODEL_34504d6fa77b4abf8a58696dd7d6e3a8",
      "value": "pytorch_model.bin: 100%"
     }
    },
    "90fc9832799e49c1b2f5784df80ae8fa": {
     "model_module": "@jupyter-widgets/base",
     "model_module_version": "1.2.0",
     "model_name": "LayoutModel",
     "state": {
      "_model_module": "@jupyter-widgets/base",
      "_model_module_version": "1.2.0",
      "_model_name": "LayoutModel",
      "_view_count": null,
      "_view_module": "@jupyter-widgets/base",
      "_view_module_version": "1.2.0",
      "_view_name": "LayoutView",
      "align_content": null,
      "align_items": null,
      "align_self": null,
      "border": null,
      "bottom": null,
      "display": null,
      "flex": null,
      "flex_flow": null,
      "grid_area": null,
      "grid_auto_columns": null,
      "grid_auto_flow": null,
      "grid_auto_rows": null,
      "grid_column": null,
      "grid_gap": null,
      "grid_row": null,
      "grid_template_areas": null,
      "grid_template_columns": null,
      "grid_template_rows": null,
      "height": null,
      "justify_content": null,
      "justify_items": null,
      "left": null,
      "margin": null,
      "max_height": null,
      "max_width": null,
      "min_height": null,
      "min_width": null,
      "object_fit": null,
      "object_position": null,
      "order": null,
      "overflow": null,
      "overflow_x": null,
      "overflow_y": null,
      "padding": null,
      "right": null,
      "top": null,
      "visibility": null,
      "width": null
     }
    },
    "94aa85b832e64adbabbbcdb1f5ca96a2": {
     "model_module": "@jupyter-widgets/base",
     "model_module_version": "1.2.0",
     "model_name": "LayoutModel",
     "state": {
      "_model_module": "@jupyter-widgets/base",
      "_model_module_version": "1.2.0",
      "_model_name": "LayoutModel",
      "_view_count": null,
      "_view_module": "@jupyter-widgets/base",
      "_view_module_version": "1.2.0",
      "_view_name": "LayoutView",
      "align_content": null,
      "align_items": null,
      "align_self": null,
      "border": null,
      "bottom": null,
      "display": null,
      "flex": null,
      "flex_flow": null,
      "grid_area": null,
      "grid_auto_columns": null,
      "grid_auto_flow": null,
      "grid_auto_rows": null,
      "grid_column": null,
      "grid_gap": null,
      "grid_row": null,
      "grid_template_areas": null,
      "grid_template_columns": null,
      "grid_template_rows": null,
      "height": null,
      "justify_content": null,
      "justify_items": null,
      "left": null,
      "margin": null,
      "max_height": null,
      "max_width": null,
      "min_height": null,
      "min_width": null,
      "object_fit": null,
      "object_position": null,
      "order": null,
      "overflow": null,
      "overflow_x": null,
      "overflow_y": null,
      "padding": null,
      "right": null,
      "top": null,
      "visibility": null,
      "width": null
     }
    },
    "9b14bb07d18b4d6a9ca0a80deacb2268": {
     "model_module": "@jupyter-widgets/controls",
     "model_module_version": "1.5.0",
     "model_name": "ProgressStyleModel",
     "state": {
      "_model_module": "@jupyter-widgets/controls",
      "_model_module_version": "1.5.0",
      "_model_name": "ProgressStyleModel",
      "_view_count": null,
      "_view_module": "@jupyter-widgets/base",
      "_view_module_version": "1.2.0",
      "_view_name": "StyleView",
      "bar_color": null,
      "description_width": ""
     }
    },
    "9c43df41db7d49dcac22b4815e81534e": {
     "model_module": "@jupyter-widgets/controls",
     "model_module_version": "1.5.0",
     "model_name": "DescriptionStyleModel",
     "state": {
      "_model_module": "@jupyter-widgets/controls",
      "_model_module_version": "1.5.0",
      "_model_name": "DescriptionStyleModel",
      "_view_count": null,
      "_view_module": "@jupyter-widgets/base",
      "_view_module_version": "1.2.0",
      "_view_name": "StyleView",
      "description_width": ""
     }
    },
    "a254cbcf65e34c1da276c2aef1dd5278": {
     "model_module": "@jupyter-widgets/base",
     "model_module_version": "1.2.0",
     "model_name": "LayoutModel",
     "state": {
      "_model_module": "@jupyter-widgets/base",
      "_model_module_version": "1.2.0",
      "_model_name": "LayoutModel",
      "_view_count": null,
      "_view_module": "@jupyter-widgets/base",
      "_view_module_version": "1.2.0",
      "_view_name": "LayoutView",
      "align_content": null,
      "align_items": null,
      "align_self": null,
      "border": null,
      "bottom": null,
      "display": null,
      "flex": null,
      "flex_flow": null,
      "grid_area": null,
      "grid_auto_columns": null,
      "grid_auto_flow": null,
      "grid_auto_rows": null,
      "grid_column": null,
      "grid_gap": null,
      "grid_row": null,
      "grid_template_areas": null,
      "grid_template_columns": null,
      "grid_template_rows": null,
      "height": null,
      "justify_content": null,
      "justify_items": null,
      "left": null,
      "margin": null,
      "max_height": null,
      "max_width": null,
      "min_height": null,
      "min_width": null,
      "object_fit": null,
      "object_position": null,
      "order": null,
      "overflow": null,
      "overflow_x": null,
      "overflow_y": null,
      "padding": null,
      "right": null,
      "top": null,
      "visibility": null,
      "width": null
     }
    },
    "a629a6eaceff4658bf70eaf2dc96295c": {
     "model_module": "@jupyter-widgets/base",
     "model_module_version": "1.2.0",
     "model_name": "LayoutModel",
     "state": {
      "_model_module": "@jupyter-widgets/base",
      "_model_module_version": "1.2.0",
      "_model_name": "LayoutModel",
      "_view_count": null,
      "_view_module": "@jupyter-widgets/base",
      "_view_module_version": "1.2.0",
      "_view_name": "LayoutView",
      "align_content": null,
      "align_items": null,
      "align_self": null,
      "border": null,
      "bottom": null,
      "display": null,
      "flex": null,
      "flex_flow": null,
      "grid_area": null,
      "grid_auto_columns": null,
      "grid_auto_flow": null,
      "grid_auto_rows": null,
      "grid_column": null,
      "grid_gap": null,
      "grid_row": null,
      "grid_template_areas": null,
      "grid_template_columns": null,
      "grid_template_rows": null,
      "height": null,
      "justify_content": null,
      "justify_items": null,
      "left": null,
      "margin": null,
      "max_height": null,
      "max_width": null,
      "min_height": null,
      "min_width": null,
      "object_fit": null,
      "object_position": null,
      "order": null,
      "overflow": null,
      "overflow_x": null,
      "overflow_y": null,
      "padding": null,
      "right": null,
      "top": null,
      "visibility": null,
      "width": null
     }
    },
    "acb48c014e3a4f5cb3664ffc7e225d40": {
     "model_module": "@jupyter-widgets/controls",
     "model_module_version": "1.5.0",
     "model_name": "HBoxModel",
     "state": {
      "_dom_classes": [],
      "_model_module": "@jupyter-widgets/controls",
      "_model_module_version": "1.5.0",
      "_model_name": "HBoxModel",
      "_view_count": null,
      "_view_module": "@jupyter-widgets/controls",
      "_view_module_version": "1.5.0",
      "_view_name": "HBoxView",
      "box_style": "",
      "children": [
       "IPY_MODEL_1ae4fb795aef4c4ca7ade4aecedca3c0",
       "IPY_MODEL_4f92bd52463241eb9589189f4c9c8f05",
       "IPY_MODEL_45977ce5747c42358b070a7503911872"
      ],
      "layout": "IPY_MODEL_4649e61e1db444c6842df48a62eae3c2"
     }
    },
    "acf0636787b24ea09b2a3aa658ab4eb2": {
     "model_module": "@jupyter-widgets/base",
     "model_module_version": "1.2.0",
     "model_name": "LayoutModel",
     "state": {
      "_model_module": "@jupyter-widgets/base",
      "_model_module_version": "1.2.0",
      "_model_name": "LayoutModel",
      "_view_count": null,
      "_view_module": "@jupyter-widgets/base",
      "_view_module_version": "1.2.0",
      "_view_name": "LayoutView",
      "align_content": null,
      "align_items": null,
      "align_self": null,
      "border": null,
      "bottom": null,
      "display": null,
      "flex": null,
      "flex_flow": null,
      "grid_area": null,
      "grid_auto_columns": null,
      "grid_auto_flow": null,
      "grid_auto_rows": null,
      "grid_column": null,
      "grid_gap": null,
      "grid_row": null,
      "grid_template_areas": null,
      "grid_template_columns": null,
      "grid_template_rows": null,
      "height": null,
      "justify_content": null,
      "justify_items": null,
      "left": null,
      "margin": null,
      "max_height": null,
      "max_width": null,
      "min_height": null,
      "min_width": null,
      "object_fit": null,
      "object_position": null,
      "order": null,
      "overflow": null,
      "overflow_x": null,
      "overflow_y": null,
      "padding": null,
      "right": null,
      "top": null,
      "visibility": null,
      "width": null
     }
    },
    "ad90e1662dae4da8b4bedc146eb5612b": {
     "model_module": "@jupyter-widgets/controls",
     "model_module_version": "1.5.0",
     "model_name": "HBoxModel",
     "state": {
      "_dom_classes": [],
      "_model_module": "@jupyter-widgets/controls",
      "_model_module_version": "1.5.0",
      "_model_name": "HBoxModel",
      "_view_count": null,
      "_view_module": "@jupyter-widgets/controls",
      "_view_module_version": "1.5.0",
      "_view_name": "HBoxView",
      "box_style": "",
      "children": [
       "IPY_MODEL_f8208d696ab14f7c92bbcb8c3d608652",
       "IPY_MODEL_312eeea89b19404c9bd392f65de0235f",
       "IPY_MODEL_113cce0202cc4df3b7b1428b34153e94"
      ],
      "layout": "IPY_MODEL_3788bfbca4fd4f20b9f9f47fc2e201f7"
     }
    },
    "adf093c4bc1b49abb64fa8bd4cb2745f": {
     "model_module": "@jupyter-widgets/controls",
     "model_module_version": "1.5.0",
     "model_name": "ProgressStyleModel",
     "state": {
      "_model_module": "@jupyter-widgets/controls",
      "_model_module_version": "1.5.0",
      "_model_name": "ProgressStyleModel",
      "_view_count": null,
      "_view_module": "@jupyter-widgets/base",
      "_view_module_version": "1.2.0",
      "_view_name": "StyleView",
      "bar_color": null,
      "description_width": ""
     }
    },
    "b0697e18fa9a40a4bf685a9e55e9ba54": {
     "model_module": "@jupyter-widgets/controls",
     "model_module_version": "1.5.0",
     "model_name": "HBoxModel",
     "state": {
      "_dom_classes": [],
      "_model_module": "@jupyter-widgets/controls",
      "_model_module_version": "1.5.0",
      "_model_name": "HBoxModel",
      "_view_count": null,
      "_view_module": "@jupyter-widgets/controls",
      "_view_module_version": "1.5.0",
      "_view_name": "HBoxView",
      "box_style": "",
      "children": [
       "IPY_MODEL_bcd4dc7bd6a84eb3bd94956144fb75d2",
       "IPY_MODEL_7e168085c22a4e02a4a52845c4cc9c49",
       "IPY_MODEL_4d28976774dc4590bf672c6fe37034b6"
      ],
      "layout": "IPY_MODEL_3cf028e075984f96a3963a40ed5c6e72"
     }
    },
    "b2ae354632c843b5ab26b2ce26c96f8b": {
     "model_module": "@jupyter-widgets/controls",
     "model_module_version": "1.5.0",
     "model_name": "HBoxModel",
     "state": {
      "_dom_classes": [],
      "_model_module": "@jupyter-widgets/controls",
      "_model_module_version": "1.5.0",
      "_model_name": "HBoxModel",
      "_view_count": null,
      "_view_module": "@jupyter-widgets/controls",
      "_view_module_version": "1.5.0",
      "_view_name": "HBoxView",
      "box_style": "",
      "children": [
       "IPY_MODEL_4b9c7eef53fe42edbff247249023f290",
       "IPY_MODEL_212472f16e584829af1e5c3fa5c62b4f",
       "IPY_MODEL_1150ad603f2b4caeb7d3e6aa8601a15e"
      ],
      "layout": "IPY_MODEL_ce82f25a853549d9979d0d60fab62e16"
     }
    },
    "b2fb5f69a3a343949740341eb505a248": {
     "model_module": "@jupyter-widgets/base",
     "model_module_version": "1.2.0",
     "model_name": "LayoutModel",
     "state": {
      "_model_module": "@jupyter-widgets/base",
      "_model_module_version": "1.2.0",
      "_model_name": "LayoutModel",
      "_view_count": null,
      "_view_module": "@jupyter-widgets/base",
      "_view_module_version": "1.2.0",
      "_view_name": "LayoutView",
      "align_content": null,
      "align_items": null,
      "align_self": null,
      "border": null,
      "bottom": null,
      "display": null,
      "flex": null,
      "flex_flow": null,
      "grid_area": null,
      "grid_auto_columns": null,
      "grid_auto_flow": null,
      "grid_auto_rows": null,
      "grid_column": null,
      "grid_gap": null,
      "grid_row": null,
      "grid_template_areas": null,
      "grid_template_columns": null,
      "grid_template_rows": null,
      "height": null,
      "justify_content": null,
      "justify_items": null,
      "left": null,
      "margin": null,
      "max_height": null,
      "max_width": null,
      "min_height": null,
      "min_width": null,
      "object_fit": null,
      "object_position": null,
      "order": null,
      "overflow": null,
      "overflow_x": null,
      "overflow_y": null,
      "padding": null,
      "right": null,
      "top": null,
      "visibility": null,
      "width": null
     }
    },
    "b36c44ba85ff495c894358f799a3ebd7": {
     "model_module": "@jupyter-widgets/controls",
     "model_module_version": "1.5.0",
     "model_name": "DescriptionStyleModel",
     "state": {
      "_model_module": "@jupyter-widgets/controls",
      "_model_module_version": "1.5.0",
      "_model_name": "DescriptionStyleModel",
      "_view_count": null,
      "_view_module": "@jupyter-widgets/base",
      "_view_module_version": "1.2.0",
      "_view_name": "StyleView",
      "description_width": ""
     }
    },
    "b3f5adbe927b4f14915919c49afe301f": {
     "model_module": "@jupyter-widgets/controls",
     "model_module_version": "1.5.0",
     "model_name": "HBoxModel",
     "state": {
      "_dom_classes": [],
      "_model_module": "@jupyter-widgets/controls",
      "_model_module_version": "1.5.0",
      "_model_name": "HBoxModel",
      "_view_count": null,
      "_view_module": "@jupyter-widgets/controls",
      "_view_module_version": "1.5.0",
      "_view_name": "HBoxView",
      "box_style": "",
      "children": [
       "IPY_MODEL_2ff53376d4cf4c7590d7fe5d3afa6282",
       "IPY_MODEL_029ab0ae4b6e427d879f28c14dba9263",
       "IPY_MODEL_35043c18173b412a8d6e0c4448b8d41b"
      ],
      "layout": "IPY_MODEL_bc975b97f25a4d22bc4ab29d7cb74e3e"
     }
    },
    "bacafbf39fe54feea9e137808b57390b": {
     "model_module": "@jupyter-widgets/base",
     "model_module_version": "1.2.0",
     "model_name": "LayoutModel",
     "state": {
      "_model_module": "@jupyter-widgets/base",
      "_model_module_version": "1.2.0",
      "_model_name": "LayoutModel",
      "_view_count": null,
      "_view_module": "@jupyter-widgets/base",
      "_view_module_version": "1.2.0",
      "_view_name": "LayoutView",
      "align_content": null,
      "align_items": null,
      "align_self": null,
      "border": null,
      "bottom": null,
      "display": null,
      "flex": null,
      "flex_flow": null,
      "grid_area": null,
      "grid_auto_columns": null,
      "grid_auto_flow": null,
      "grid_auto_rows": null,
      "grid_column": null,
      "grid_gap": null,
      "grid_row": null,
      "grid_template_areas": null,
      "grid_template_columns": null,
      "grid_template_rows": null,
      "height": null,
      "justify_content": null,
      "justify_items": null,
      "left": null,
      "margin": null,
      "max_height": null,
      "max_width": null,
      "min_height": null,
      "min_width": null,
      "object_fit": null,
      "object_position": null,
      "order": null,
      "overflow": null,
      "overflow_x": null,
      "overflow_y": null,
      "padding": null,
      "right": null,
      "top": null,
      "visibility": null,
      "width": null
     }
    },
    "bc1aaed721b64b268f7a22241f27b235": {
     "model_module": "@jupyter-widgets/controls",
     "model_module_version": "1.5.0",
     "model_name": "DescriptionStyleModel",
     "state": {
      "_model_module": "@jupyter-widgets/controls",
      "_model_module_version": "1.5.0",
      "_model_name": "DescriptionStyleModel",
      "_view_count": null,
      "_view_module": "@jupyter-widgets/base",
      "_view_module_version": "1.2.0",
      "_view_name": "StyleView",
      "description_width": ""
     }
    },
    "bc975b97f25a4d22bc4ab29d7cb74e3e": {
     "model_module": "@jupyter-widgets/base",
     "model_module_version": "1.2.0",
     "model_name": "LayoutModel",
     "state": {
      "_model_module": "@jupyter-widgets/base",
      "_model_module_version": "1.2.0",
      "_model_name": "LayoutModel",
      "_view_count": null,
      "_view_module": "@jupyter-widgets/base",
      "_view_module_version": "1.2.0",
      "_view_name": "LayoutView",
      "align_content": null,
      "align_items": null,
      "align_self": null,
      "border": null,
      "bottom": null,
      "display": null,
      "flex": null,
      "flex_flow": null,
      "grid_area": null,
      "grid_auto_columns": null,
      "grid_auto_flow": null,
      "grid_auto_rows": null,
      "grid_column": null,
      "grid_gap": null,
      "grid_row": null,
      "grid_template_areas": null,
      "grid_template_columns": null,
      "grid_template_rows": null,
      "height": null,
      "justify_content": null,
      "justify_items": null,
      "left": null,
      "margin": null,
      "max_height": null,
      "max_width": null,
      "min_height": null,
      "min_width": null,
      "object_fit": null,
      "object_position": null,
      "order": null,
      "overflow": null,
      "overflow_x": null,
      "overflow_y": null,
      "padding": null,
      "right": null,
      "top": null,
      "visibility": null,
      "width": null
     }
    },
    "bcd4dc7bd6a84eb3bd94956144fb75d2": {
     "model_module": "@jupyter-widgets/controls",
     "model_module_version": "1.5.0",
     "model_name": "HTMLModel",
     "state": {
      "_dom_classes": [],
      "_model_module": "@jupyter-widgets/controls",
      "_model_module_version": "1.5.0",
      "_model_name": "HTMLModel",
      "_view_count": null,
      "_view_module": "@jupyter-widgets/controls",
      "_view_module_version": "1.5.0",
      "_view_name": "HTMLView",
      "description": "",
      "description_tooltip": null,
      "layout": "IPY_MODEL_bacafbf39fe54feea9e137808b57390b",
      "placeholder": "​",
      "style": "IPY_MODEL_493cf80dc3914a5593bf22ded0bca7e4",
      "value": "vocab.txt: 100%"
     }
    },
    "c17afa48dfca4afeb9959048f855cbf0": {
     "model_module": "@jupyter-widgets/controls",
     "model_module_version": "1.5.0",
     "model_name": "DescriptionStyleModel",
     "state": {
      "_model_module": "@jupyter-widgets/controls",
      "_model_module_version": "1.5.0",
      "_model_name": "DescriptionStyleModel",
      "_view_count": null,
      "_view_module": "@jupyter-widgets/base",
      "_view_module_version": "1.2.0",
      "_view_name": "StyleView",
      "description_width": ""
     }
    },
    "c634cbf0d283446195ab7cfd7219997d": {
     "model_module": "@jupyter-widgets/controls",
     "model_module_version": "1.5.0",
     "model_name": "DescriptionStyleModel",
     "state": {
      "_model_module": "@jupyter-widgets/controls",
      "_model_module_version": "1.5.0",
      "_model_name": "DescriptionStyleModel",
      "_view_count": null,
      "_view_module": "@jupyter-widgets/base",
      "_view_module_version": "1.2.0",
      "_view_name": "StyleView",
      "description_width": ""
     }
    },
    "c84a4c85f92b41749410878364b7316f": {
     "model_module": "@jupyter-widgets/controls",
     "model_module_version": "1.5.0",
     "model_name": "HBoxModel",
     "state": {
      "_dom_classes": [],
      "_model_module": "@jupyter-widgets/controls",
      "_model_module_version": "1.5.0",
      "_model_name": "HBoxModel",
      "_view_count": null,
      "_view_module": "@jupyter-widgets/controls",
      "_view_module_version": "1.5.0",
      "_view_name": "HBoxView",
      "box_style": "",
      "children": [
       "IPY_MODEL_ead3a71c23ed467c8ad7c3379706a507",
       "IPY_MODEL_35af0d4971f941acad37cbef4c032408",
       "IPY_MODEL_7674cd42070c4d628d2859869729a86c"
      ],
      "layout": "IPY_MODEL_b2fb5f69a3a343949740341eb505a248"
     }
    },
    "ccfdc314f35148faa8a211110ecea6d8": {
     "model_module": "@jupyter-widgets/base",
     "model_module_version": "1.2.0",
     "model_name": "LayoutModel",
     "state": {
      "_model_module": "@jupyter-widgets/base",
      "_model_module_version": "1.2.0",
      "_model_name": "LayoutModel",
      "_view_count": null,
      "_view_module": "@jupyter-widgets/base",
      "_view_module_version": "1.2.0",
      "_view_name": "LayoutView",
      "align_content": null,
      "align_items": null,
      "align_self": null,
      "border": null,
      "bottom": null,
      "display": null,
      "flex": null,
      "flex_flow": null,
      "grid_area": null,
      "grid_auto_columns": null,
      "grid_auto_flow": null,
      "grid_auto_rows": null,
      "grid_column": null,
      "grid_gap": null,
      "grid_row": null,
      "grid_template_areas": null,
      "grid_template_columns": null,
      "grid_template_rows": null,
      "height": null,
      "justify_content": null,
      "justify_items": null,
      "left": null,
      "margin": null,
      "max_height": null,
      "max_width": null,
      "min_height": null,
      "min_width": null,
      "object_fit": null,
      "object_position": null,
      "order": null,
      "overflow": null,
      "overflow_x": null,
      "overflow_y": null,
      "padding": null,
      "right": null,
      "top": null,
      "visibility": null,
      "width": null
     }
    },
    "ce3cb6fef4e54e9d9637b9358c0f15a8": {
     "model_module": "@jupyter-widgets/controls",
     "model_module_version": "1.5.0",
     "model_name": "DescriptionStyleModel",
     "state": {
      "_model_module": "@jupyter-widgets/controls",
      "_model_module_version": "1.5.0",
      "_model_name": "DescriptionStyleModel",
      "_view_count": null,
      "_view_module": "@jupyter-widgets/base",
      "_view_module_version": "1.2.0",
      "_view_name": "StyleView",
      "description_width": ""
     }
    },
    "ce82f25a853549d9979d0d60fab62e16": {
     "model_module": "@jupyter-widgets/base",
     "model_module_version": "1.2.0",
     "model_name": "LayoutModel",
     "state": {
      "_model_module": "@jupyter-widgets/base",
      "_model_module_version": "1.2.0",
      "_model_name": "LayoutModel",
      "_view_count": null,
      "_view_module": "@jupyter-widgets/base",
      "_view_module_version": "1.2.0",
      "_view_name": "LayoutView",
      "align_content": null,
      "align_items": null,
      "align_self": null,
      "border": null,
      "bottom": null,
      "display": null,
      "flex": null,
      "flex_flow": null,
      "grid_area": null,
      "grid_auto_columns": null,
      "grid_auto_flow": null,
      "grid_auto_rows": null,
      "grid_column": null,
      "grid_gap": null,
      "grid_row": null,
      "grid_template_areas": null,
      "grid_template_columns": null,
      "grid_template_rows": null,
      "height": null,
      "justify_content": null,
      "justify_items": null,
      "left": null,
      "margin": null,
      "max_height": null,
      "max_width": null,
      "min_height": null,
      "min_width": null,
      "object_fit": null,
      "object_position": null,
      "order": null,
      "overflow": null,
      "overflow_x": null,
      "overflow_y": null,
      "padding": null,
      "right": null,
      "top": null,
      "visibility": null,
      "width": null
     }
    },
    "d03b31b50e6e41528530c2e4f4693a29": {
     "model_module": "@jupyter-widgets/controls",
     "model_module_version": "1.5.0",
     "model_name": "ProgressStyleModel",
     "state": {
      "_model_module": "@jupyter-widgets/controls",
      "_model_module_version": "1.5.0",
      "_model_name": "ProgressStyleModel",
      "_view_count": null,
      "_view_module": "@jupyter-widgets/base",
      "_view_module_version": "1.2.0",
      "_view_name": "StyleView",
      "bar_color": null,
      "description_width": ""
     }
    },
    "d52ccf508049497ca24b2df3e09f3da4": {
     "model_module": "@jupyter-widgets/controls",
     "model_module_version": "1.5.0",
     "model_name": "HBoxModel",
     "state": {
      "_dom_classes": [],
      "_model_module": "@jupyter-widgets/controls",
      "_model_module_version": "1.5.0",
      "_model_name": "HBoxModel",
      "_view_count": null,
      "_view_module": "@jupyter-widgets/controls",
      "_view_module_version": "1.5.0",
      "_view_name": "HBoxView",
      "box_style": "",
      "children": [
       "IPY_MODEL_d5d7931e2bc34d1ca9dc21b3670e41ab",
       "IPY_MODEL_28b4021876714bfa869e02f73c22dff8",
       "IPY_MODEL_7d2db1a65399493384a5ac31daf031e9"
      ],
      "layout": "IPY_MODEL_541246b22bdd401fa1dea2527e62b524"
     }
    },
    "d5d7931e2bc34d1ca9dc21b3670e41ab": {
     "model_module": "@jupyter-widgets/controls",
     "model_module_version": "1.5.0",
     "model_name": "HTMLModel",
     "state": {
      "_dom_classes": [],
      "_model_module": "@jupyter-widgets/controls",
      "_model_module_version": "1.5.0",
      "_model_name": "HTMLModel",
      "_view_count": null,
      "_view_module": "@jupyter-widgets/controls",
      "_view_module_version": "1.5.0",
      "_view_name": "HTMLView",
      "description": "",
      "description_tooltip": null,
      "layout": "IPY_MODEL_57b723dd730047dfa92a59fae6c7db3f",
      "placeholder": "​",
      "style": "IPY_MODEL_6ac1356ca86d41d7bd58d8a789a71114",
      "value": "tokenizer.json: 100%"
     }
    },
    "d6eb4117d9e8411faa564cba6da75c0a": {
     "model_module": "@jupyter-widgets/controls",
     "model_module_version": "1.5.0",
     "model_name": "ProgressStyleModel",
     "state": {
      "_model_module": "@jupyter-widgets/controls",
      "_model_module_version": "1.5.0",
      "_model_name": "ProgressStyleModel",
      "_view_count": null,
      "_view_module": "@jupyter-widgets/base",
      "_view_module_version": "1.2.0",
      "_view_name": "StyleView",
      "bar_color": null,
      "description_width": ""
     }
    },
    "d76b72d842e142c69fd64669d28d4646": {
     "model_module": "@jupyter-widgets/controls",
     "model_module_version": "1.5.0",
     "model_name": "ProgressStyleModel",
     "state": {
      "_model_module": "@jupyter-widgets/controls",
      "_model_module_version": "1.5.0",
      "_model_name": "ProgressStyleModel",
      "_view_count": null,
      "_view_module": "@jupyter-widgets/base",
      "_view_module_version": "1.2.0",
      "_view_name": "StyleView",
      "bar_color": null,
      "description_width": ""
     }
    },
    "d879a9d805c54d22a1458563a5bdf654": {
     "model_module": "@jupyter-widgets/controls",
     "model_module_version": "1.5.0",
     "model_name": "HTMLModel",
     "state": {
      "_dom_classes": [],
      "_model_module": "@jupyter-widgets/controls",
      "_model_module_version": "1.5.0",
      "_model_name": "HTMLModel",
      "_view_count": null,
      "_view_module": "@jupyter-widgets/controls",
      "_view_module_version": "1.5.0",
      "_view_name": "HTMLView",
      "description": "",
      "description_tooltip": null,
      "layout": "IPY_MODEL_a629a6eaceff4658bf70eaf2dc96295c",
      "placeholder": "​",
      "style": "IPY_MODEL_ee6535740cea43c99e9e044b7aee6c78",
      "value": "tokenizer_config.json: 100%"
     }
    },
    "db5def75fb674881be7167eec98eecce": {
     "model_module": "@jupyter-widgets/controls",
     "model_module_version": "1.5.0",
     "model_name": "ProgressStyleModel",
     "state": {
      "_model_module": "@jupyter-widgets/controls",
      "_model_module_version": "1.5.0",
      "_model_name": "ProgressStyleModel",
      "_view_count": null,
      "_view_module": "@jupyter-widgets/base",
      "_view_module_version": "1.2.0",
      "_view_name": "StyleView",
      "bar_color": null,
      "description_width": ""
     }
    },
    "de769a4cbd9a4e4984ce755409b15b49": {
     "model_module": "@jupyter-widgets/controls",
     "model_module_version": "1.5.0",
     "model_name": "DescriptionStyleModel",
     "state": {
      "_model_module": "@jupyter-widgets/controls",
      "_model_module_version": "1.5.0",
      "_model_name": "DescriptionStyleModel",
      "_view_count": null,
      "_view_module": "@jupyter-widgets/base",
      "_view_module_version": "1.2.0",
      "_view_name": "StyleView",
      "description_width": ""
     }
    },
    "df9fdfb03519467db504bbe9de23bbd2": {
     "model_module": "@jupyter-widgets/controls",
     "model_module_version": "1.5.0",
     "model_name": "HTMLModel",
     "state": {
      "_dom_classes": [],
      "_model_module": "@jupyter-widgets/controls",
      "_model_module_version": "1.5.0",
      "_model_name": "HTMLModel",
      "_view_count": null,
      "_view_module": "@jupyter-widgets/controls",
      "_view_module_version": "1.5.0",
      "_view_name": "HTMLView",
      "description": "",
      "description_tooltip": null,
      "layout": "IPY_MODEL_835c55b828da496abb6ab8a679738793",
      "placeholder": "​",
      "style": "IPY_MODEL_2e2a95fad88a40f8a60da4cb76582157",
      "value": " 725/725 [00:00&lt;00:00, 15.8kB/s]"
     }
    },
    "e4fba355bd8b4e30bc6bc64711c416dd": {
     "model_module": "@jupyter-widgets/base",
     "model_module_version": "1.2.0",
     "model_name": "LayoutModel",
     "state": {
      "_model_module": "@jupyter-widgets/base",
      "_model_module_version": "1.2.0",
      "_model_name": "LayoutModel",
      "_view_count": null,
      "_view_module": "@jupyter-widgets/base",
      "_view_module_version": "1.2.0",
      "_view_name": "LayoutView",
      "align_content": null,
      "align_items": null,
      "align_self": null,
      "border": null,
      "bottom": null,
      "display": null,
      "flex": null,
      "flex_flow": null,
      "grid_area": null,
      "grid_auto_columns": null,
      "grid_auto_flow": null,
      "grid_auto_rows": null,
      "grid_column": null,
      "grid_gap": null,
      "grid_row": null,
      "grid_template_areas": null,
      "grid_template_columns": null,
      "grid_template_rows": null,
      "height": null,
      "justify_content": null,
      "justify_items": null,
      "left": null,
      "margin": null,
      "max_height": null,
      "max_width": null,
      "min_height": null,
      "min_width": null,
      "object_fit": null,
      "object_position": null,
      "order": null,
      "overflow": null,
      "overflow_x": null,
      "overflow_y": null,
      "padding": null,
      "right": null,
      "top": null,
      "visibility": null,
      "width": null
     }
    },
    "ead3a71c23ed467c8ad7c3379706a507": {
     "model_module": "@jupyter-widgets/controls",
     "model_module_version": "1.5.0",
     "model_name": "HTMLModel",
     "state": {
      "_dom_classes": [],
      "_model_module": "@jupyter-widgets/controls",
      "_model_module_version": "1.5.0",
      "_model_name": "HTMLModel",
      "_view_count": null,
      "_view_module": "@jupyter-widgets/controls",
      "_view_module_version": "1.5.0",
      "_view_name": "HTMLView",
      "description": "",
      "description_tooltip": null,
      "layout": "IPY_MODEL_8297a41c47794fbc874ac45c6345e8e0",
      "placeholder": "​",
      "style": "IPY_MODEL_ce3cb6fef4e54e9d9637b9358c0f15a8",
      "value": "pytorch_model.bin: 100%"
     }
    },
    "ee6535740cea43c99e9e044b7aee6c78": {
     "model_module": "@jupyter-widgets/controls",
     "model_module_version": "1.5.0",
     "model_name": "DescriptionStyleModel",
     "state": {
      "_model_module": "@jupyter-widgets/controls",
      "_model_module_version": "1.5.0",
      "_model_name": "DescriptionStyleModel",
      "_view_count": null,
      "_view_module": "@jupyter-widgets/base",
      "_view_module_version": "1.2.0",
      "_view_name": "StyleView",
      "description_width": ""
     }
    },
    "f30908b5d5cb4020a46d1fe86b1e6d0f": {
     "model_module": "@jupyter-widgets/base",
     "model_module_version": "1.2.0",
     "model_name": "LayoutModel",
     "state": {
      "_model_module": "@jupyter-widgets/base",
      "_model_module_version": "1.2.0",
      "_model_name": "LayoutModel",
      "_view_count": null,
      "_view_module": "@jupyter-widgets/base",
      "_view_module_version": "1.2.0",
      "_view_name": "LayoutView",
      "align_content": null,
      "align_items": null,
      "align_self": null,
      "border": null,
      "bottom": null,
      "display": null,
      "flex": null,
      "flex_flow": null,
      "grid_area": null,
      "grid_auto_columns": null,
      "grid_auto_flow": null,
      "grid_auto_rows": null,
      "grid_column": null,
      "grid_gap": null,
      "grid_row": null,
      "grid_template_areas": null,
      "grid_template_columns": null,
      "grid_template_rows": null,
      "height": null,
      "justify_content": null,
      "justify_items": null,
      "left": null,
      "margin": null,
      "max_height": null,
      "max_width": null,
      "min_height": null,
      "min_width": null,
      "object_fit": null,
      "object_position": null,
      "order": null,
      "overflow": null,
      "overflow_x": null,
      "overflow_y": null,
      "padding": null,
      "right": null,
      "top": null,
      "visibility": null,
      "width": null
     }
    },
    "f8208d696ab14f7c92bbcb8c3d608652": {
     "model_module": "@jupyter-widgets/controls",
     "model_module_version": "1.5.0",
     "model_name": "HTMLModel",
     "state": {
      "_dom_classes": [],
      "_model_module": "@jupyter-widgets/controls",
      "_model_module_version": "1.5.0",
      "_model_name": "HTMLModel",
      "_view_count": null,
      "_view_module": "@jupyter-widgets/controls",
      "_view_module_version": "1.5.0",
      "_view_name": "HTMLView",
      "description": "",
      "description_tooltip": null,
      "layout": "IPY_MODEL_474e63484c104ee284e4c4f7f3b2beff",
      "placeholder": "​",
      "style": "IPY_MODEL_67d8d0bb666b4910a3780525eacc46fd",
      "value": "tokenizer_config.json: 100%"
     }
    }
   }
  }
 },
 "nbformat": 4,
 "nbformat_minor": 4
}
