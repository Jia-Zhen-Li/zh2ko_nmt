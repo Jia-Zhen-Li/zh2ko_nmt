{
 "cells": [
  {
   "cell_type": "code",
   "execution_count": 1,
   "metadata": {
    "colab": {
     "base_uri": "https://localhost:8080/"
    },
    "executionInfo": {
     "elapsed": 17511,
     "status": "ok",
     "timestamp": 1716842674050,
     "user": {
      "displayName": "青山",
      "userId": "00589995879243750991"
     },
     "user_tz": -480
    },
    "id": "6Ypq5zelYtZs",
    "outputId": "90b2234a-cfc5-41e4-e078-411934c9754f"
   },
   "outputs": [
    {
     "name": "stdout",
     "output_type": "stream",
     "text": [
      "Mounted at /content/drive\n"
     ]
    }
   ],
   "source": [
    "from google.colab import drive\n",
    "drive.mount('/content/drive')"
   ]
  },
  {
   "cell_type": "code",
   "execution_count": 1,
   "metadata": {
    "executionInfo": {
     "elapsed": 6575,
     "status": "ok",
     "timestamp": 1716842680623,
     "user": {
      "displayName": "青山",
      "userId": "00589995879243750991"
     },
     "user_tz": -480
    },
    "id": "0aI0sh5wHeUW"
   },
   "outputs": [],
   "source": [
    "import numpy as np\n",
    "import pandas as pd\n",
    "import torch"
   ]
  },
  {
   "cell_type": "markdown",
   "metadata": {
    "id": "yraQyz90_5Wp"
   },
   "source": [
    "### Set base parameters"
   ]
  },
  {
   "cell_type": "code",
   "execution_count": 23,
   "metadata": {
    "colab": {
     "base_uri": "https://localhost:8080/"
    },
    "executionInfo": {
     "elapsed": 3,
     "status": "ok",
     "timestamp": 1716842680624,
     "user": {
      "displayName": "青山",
      "userId": "00589995879243750991"
     },
     "user_tz": -480
    },
    "id": "5Y7gzOyzXXgK",
    "outputId": "c3606803-4cdb-41a3-b1ad-af68d9517a72"
   },
   "outputs": [
    {
     "name": "stdout",
     "output_type": "stream",
     "text": [
      "cuda\n"
     ]
    }
   ],
   "source": [
    "# 設定訓練參數\n",
    "max_length = 32\n",
    "batch_size = 6\n",
    "#batch_size = 32\n",
    "learning_rate = 1e-4\n",
    "num_epochs = 100\n",
    "\n",
    "pad_index = 0\n",
    "mask_index = 103\n",
    "sep_index = 102\n",
    "cls_index = 101\n",
    "unk_index = 100\n",
    "\n",
    "model_name = 'TF2_with_hanja_no_zy_zhtokenizer_v2'\n",
    "dir_path = '.'\n",
    "#dir_path = '/content/drive/MyDrive/ZH-KO-TRANSLATOR'\n",
    "\n",
    "device = torch.device(\"cuda\" if torch.cuda.is_available() else \"cpu\")\n",
    "print(device)"
   ]
  },
  {
   "cell_type": "markdown",
   "metadata": {
    "id": "N1oxZYq3_s3M"
   },
   "source": [
    "# Load data"
   ]
  },
  {
   "cell_type": "markdown",
   "metadata": {
    "id": "YQrbZQJR--Q3"
   },
   "source": [
    "## Read sentence for each ALIGNED article csv file with train set and test set."
   ]
  },
  {
   "cell_type": "code",
   "execution_count": 3,
   "metadata": {
    "colab": {
     "base_uri": "https://localhost:8080/"
    },
    "executionInfo": {
     "elapsed": 8099,
     "status": "ok",
     "timestamp": 1716842688720,
     "user": {
      "displayName": "青山",
      "userId": "00589995879243750991"
     },
     "user_tz": -480
    },
    "id": "HpegKYMIBj2G",
    "outputId": "e2d21a4d-c091-4e5a-b874-15e1a1c1a901"
   },
   "outputs": [
    {
     "name": "stdout",
     "output_type": "stream",
     "text": [
      "146660\n"
     ]
    }
   ],
   "source": [
    "df_train_transcript = pd.read_csv('{}/CORPUS/HANJA/HANJA_TRAIN_ALL.csv'.format(dir_path))\n",
    "df_train_transcript = df_train_transcript.to_dict(orient='dict')\n",
    "\n",
    "TRAIN_KSENT = (list(df_train_transcript['KO'].values()))\n",
    "TRAIN_KSENT.remove('\\\"')\n",
    "\n",
    "TRAIN_ZSENT = (list(df_train_transcript['ZH'].values()))\n",
    "TRAIN_ZSENT.remove('”')\n",
    "\n",
    "TRAIN_HSENT = (list(df_train_transcript['HANJA_Z'].values()))\n",
    "TRAIN_HSENT.remove('\\\"')\n",
    "\n",
    "#TRAIN_HSENT = (list(df_train_transcript['HANJA_K'].values()))\n",
    "#TRAIN_HSENT.remove('\\\"')\n",
    "\n",
    "print(len(TRAIN_KSENT))\n",
    "df_train_transcript = []"
   ]
  },
  {
   "cell_type": "code",
   "execution_count": 4,
   "metadata": {
    "colab": {
     "base_uri": "https://localhost:8080/"
    },
    "executionInfo": {
     "elapsed": 1172,
     "status": "ok",
     "timestamp": 1716842689882,
     "user": {
      "displayName": "青山",
      "userId": "00589995879243750991"
     },
     "user_tz": -480
    },
    "id": "cdp5CTVABkI_",
    "outputId": "c2757342-a46b-42f9-dfab-53ee5d683592"
   },
   "outputs": [
    {
     "name": "stdout",
     "output_type": "stream",
     "text": [
      "36089\n"
     ]
    }
   ],
   "source": [
    "df_test_transcript = pd.read_csv('{}/CORPUS/HANJA/HANJA_TEST_ALL.csv'.format(dir_path))\n",
    "df_test_transcript = df_test_transcript.to_dict(orient='dict')\n",
    "\n",
    "TEST_KSENT = (list(df_test_transcript['KO'].values()))\n",
    "TEST_ZSENT = (list(df_test_transcript['ZH'].values()))\n",
    "TEST_HSENT = (list(df_test_transcript['HANJA_Z'].values()))\n",
    "#TEST_HSENT = (list(df_test_transcript['HANJA_K'].values()))\n",
    "\n",
    "df_test_transcript = []\n",
    "print(len(TEST_KSENT))"
   ]
  },
  {
   "cell_type": "code",
   "execution_count": 5,
   "metadata": {
    "colab": {
     "base_uri": "https://localhost:8080/"
    },
    "executionInfo": {
     "elapsed": 2788,
     "status": "ok",
     "timestamp": 1716842692668,
     "user": {
      "displayName": "青山",
      "userId": "00589995879243750991"
     },
     "user_tz": -480
    },
    "id": "TKQgkPEWJE9Q",
    "outputId": "32fc7550-5255-4cc5-8272-be87fac4426a"
   },
   "outputs": [
    {
     "name": "stdout",
     "output_type": "stream",
     "text": [
      "146660\n"
     ]
    }
   ],
   "source": [
    "df_train_zhuyin = pd.read_csv('{}/CORPUS/ZHUYIN/ZHUYIN_TRAIN_ALL.csv'.format(dir_path))\n",
    "df_train_zhuyin = df_train_zhuyin.to_dict(orient='dict')\n",
    "\n",
    "TRAIN_ZYSENT = (list(df_train_zhuyin['zhuyin'].values()))\n",
    "TRAIN_ZYSENT.remove(np.nan)\n",
    "TRAIN_ZYSENT = [sent.replace('\\n','') for sent in TRAIN_ZYSENT]\n",
    "\n",
    "df_train_zhuyin = []\n",
    "print(len(TRAIN_ZYSENT))"
   ]
  },
  {
   "cell_type": "code",
   "execution_count": 6,
   "metadata": {
    "colab": {
     "base_uri": "https://localhost:8080/"
    },
    "executionInfo": {
     "elapsed": 752,
     "status": "ok",
     "timestamp": 1716842693406,
     "user": {
      "displayName": "青山",
      "userId": "00589995879243750991"
     },
     "user_tz": -480
    },
    "id": "Fbno4O52JE9Q",
    "outputId": "c4478a69-995f-4906-ff9a-40f7b5f299ac"
   },
   "outputs": [
    {
     "name": "stdout",
     "output_type": "stream",
     "text": [
      "36089\n"
     ]
    }
   ],
   "source": [
    "df_test_zhuyin = pd.read_csv('{}/CORPUS/ZHUYIN/ZHUYIN_TEST_ALL.csv'.format(dir_path))\n",
    "df_test_zhuyin = df_test_zhuyin.to_dict(orient='dict')\n",
    "\n",
    "TEST_ZYSENT = [sent.replace('\\n','') for sent in (list(df_test_zhuyin['zhuyin'].values()))]\n",
    "\n",
    "df_test_transcript = []\n",
    "print(len(TEST_ZYSENT))"
   ]
  },
  {
   "cell_type": "code",
   "execution_count": 7,
   "metadata": {
    "colab": {
     "base_uri": "https://localhost:8080/"
    },
    "executionInfo": {
     "elapsed": 498,
     "status": "ok",
     "timestamp": 1716842693902,
     "user": {
      "displayName": "青山",
      "userId": "00589995879243750991"
     },
     "user_tz": -480
    },
    "id": "5WUkKjHRq8Y5",
    "outputId": "3f34dc13-26f5-4aa1-a099-0d452fefcc1f"
   },
   "outputs": [
    {
     "name": "stdout",
     "output_type": "stream",
     "text": [
      "1685 （掌聲） 박수\n",
      "2315 不! 절대! 아닙니다!\n",
      "6228 嗨。 안녕하세요.\n",
      "6447 謝謝 감사합니다.!\n",
      "9080 好! 알겠습니다.\n",
      "10567 是的。 네.\n",
      "11806 十？ 열 개? 우리는 질문해야 합니다.\n",
      "11991 」 ”\n",
      "13214 嗨。 안녕하세요.\n",
      "14710 不。 아뇨.\n",
      "31278 好。 좋아요.\n",
      "33767 好。 좋습니다.\n",
      "34090 什麼？ 뭐라\n",
      "36726 不！ 아니죠.\n",
      "39959 嗨！ 안녕하세요.\n",
      "40878 你。 바로 여러분입니다.\n",
      "46783 謝謝 감사합니다\n",
      "51043 哇。 오우.\n",
      "64302 好。 좋아요.\n",
      "66859 」 \" 저.. 회사의 관리자가 당신에게 심장 판막을 보내지 않기로 결정했습니다.\n",
      "74805 人。 무언가는, 어 딘가는 언제나 변했을 겁니다.\n",
      "76821 嗨！ 신발끈에도 패턴이 있기 때문입니다.\n",
      "77330 在她於1917年過世時，這些夢想仍未實現。 ”\n",
      "77331 」 감사합니다.\n",
      "82234 摸。 이분은 조나 단이고 37세이며 석사 학위를 가지고 있습니다.\n",
      "88883 因為和穆斯林結盟來對抗基督教夥伴所造成的憤怒讓他也失去了所有剩下的當地支援。 \"\n",
      "88884 」 다른 방법으로는 생각지도 못할 아이디어를 얻을 수 있습니다.\n",
      "89997 好。 눈은 계속 감고 계시 고요 차이점을 들으셨나요?\n",
      "93311 嗨。 제 수염이 반쪽만 있는 걸 눈치 채셨을 겁니다.\n",
      "94843 透過讚美自由言論及讚頌平凡英雄，他的劇作讓觀眾在歡笑的同時也能有所思考。 \"\n",
      "94844 」 감사합니다.\n",
      "98549 好。 모두 앉아 주세요.\n",
      "100655 當時，我一直有修練松濤館空手道，從我有印象以來都在練，所以我已經拿了黑帶。 네.\n",
      "101007 對？ ( 웃음) 이 시계의 무게는 기계적으로 조정되어서 계속해서 천천히 작동하도록 되어 있습니다.\n",
      "105530 嗨！ ( 박수와 함성) 2020년 3월 이후로 사람들 보는 게 처음이에요.\n",
      "108350 很多那些成功的男人都不喜歡聽到我說為什麼我不需要男朋友。 네.\n",
      "110284 謝謝 그리고 우리가 다음에 가야 할 길을 방향 잡을 수 있을 것입니다.\n",
      "113692 樹。 ( 긁는 소리) 이렇게 말 야. ( 비트 박스) ( 트럼펫 소리) ( 비트 박스) ( 비트 박스) 기본으로 돌아가. ( 비트 박스) ( 비트 박스) 넌 이 소리를 알아. ( 비트 박스) 소리질러. ( 박수와 환호) ( 휘파람 소리) ( 박수와 환호) 감사합니다.\n",
      "118078 掌聲 감사합니다.\n",
      "118934 這是波普舞。 \"\n",
      "120433 不！ 안돼요!\n",
      "120470 酷！ 오 멋져요.\n",
      "122336 不！ 아니죠!\n",
      "123519 」 ”\n",
      "133673 」 \"\n",
      "136650 」 \"\n",
      "137408 「是的」什麼？ 네.\n",
      "141947 不。 아닙니다.\n"
     ]
    }
   ],
   "source": [
    "train_delete_indexs = {}\n",
    "for i in range(len(TRAIN_ZSENT)):\n",
    "    if(len(TRAIN_ZSENT[i]) < 3 or len(TRAIN_KSENT[i]) < 3):\n",
    "        train_delete_indexs[i] = 1\n",
    "        print(i,TRAIN_ZSENT[i], TRAIN_KSENT[i])"
   ]
  },
  {
   "cell_type": "code",
   "execution_count": 8,
   "metadata": {
    "colab": {
     "base_uri": "https://localhost:8080/"
    },
    "executionInfo": {
     "elapsed": 13,
     "status": "ok",
     "timestamp": 1716842693902,
     "user": {
      "displayName": "青山",
      "userId": "00589995879243750991"
     },
     "user_tz": -480
    },
    "id": "U8gZGdhXq8Y5",
    "outputId": "ba74b594-726d-49d6-d77a-b428e7263765"
   },
   "outputs": [
    {
     "name": "stdout",
     "output_type": "stream",
     "text": [
      "48\n",
      "146660\n"
     ]
    }
   ],
   "source": [
    "print(len(train_delete_indexs.keys()))\n",
    "print(len(TRAIN_ZSENT))"
   ]
  },
  {
   "cell_type": "code",
   "execution_count": 9,
   "metadata": {
    "colab": {
     "base_uri": "https://localhost:8080/"
    },
    "executionInfo": {
     "elapsed": 11,
     "status": "ok",
     "timestamp": 1716842693902,
     "user": {
      "displayName": "青山",
      "userId": "00589995879243750991"
     },
     "user_tz": -480
    },
    "id": "6NgIzKaYq8Y5",
    "outputId": "d6bfc9e6-e0b1-41f4-b59f-f3ad6e655d44"
   },
   "outputs": [
    {
     "name": "stdout",
     "output_type": "stream",
     "text": [
      "141947 不。 아닙니다. 아닙니다. ㄅㄨˋ。\n",
      "137408 「是的」什麼？ 네. 네. 「ㄕˋㄉㄜ˙」ㄕㄣˊㄇㄜ˙？\n",
      "136650 」 \" \" 」\n",
      "133673 」 \" \" 」\n",
      "123519 」 ” ” 」\n",
      "122336 不！ 아니죠! 아니죠! ㄅㄨˋ！\n",
      "120470 酷！ 오 멋져요. 吳 멋져요. ㄎㄨˋ！\n",
      "120433 不！ 안돼요! 안돼요! ㄅㄨˋ！\n",
      "118934 這是波普舞。 \" \" ㄓㄜˋㄕˋㄅㄛㄆㄨˇㄨˇ。\n",
      "118078 掌聲 감사합니다. 感謝합니다. ㄓㄤˇㄕㄥ\n",
      "113692 樹。 ( 긁는 소리) 이렇게 말 야. ( 비트 박스) ( 트럼펫 소리) ( 비트 박스) ( 비트 박스) 기본으로 돌아가. ( 비트 박스) ( 비트 박스) 넌 이 소리를 알아. ( 비트 박스) 소리질러. ( 박수와 환호) ( 휘파람 소리) ( 박수와 환호) 감사합니다. ( 긁는 小吏) 이렇게 末 野. ( 비트 박스) ( 트럼펫 疏籬) ( 비트 박스) ( 비트 박스) 基本分以 돌아가. ( 비트 박스) ( 비트 박스) 넌 이 疏籬를 알我. ( 비트 박스) 소리질러. ( 薄收와 歡呼) ( 휘파람 疏籬) ( 樸樹와 歡呼) 感謝합니다. ㄕㄨˋ。\n",
      "110284 謝謝 그리고 우리가 다음에 가야 할 길을 방향 잡을 수 있을 것입니다. 그리高 郵履家 多飮에 枷야 할 吉乙 방향 雜乙 수 있을 것입니다. ㄒㄧㄝˋㄒㄧㄝˋ\n",
      "108350 很多那些成功的男人都不喜歡聽到我說為什麼我不需要男朋友。 네. 네. ㄏㄣˇㄉㄨㄛㄋㄚˋㄒㄧㄝㄔㄥˊㄍㄨㄥㄉㄜ˙ㄋㄢˊㄖㄣˊㄉㄡㄅㄨˋㄒㄧˇㄏㄨㄢ˙ㄊㄧㄥㄉㄠˋㄨㄛˇㄕㄨㄛㄨㄟˋㄕㄣˊㄇㄜ˙ㄨㄛˇㄅㄨˋㄒㄩㄧㄠˋㄋㄢˊㄆㄥˊㄧㄡ˙。\n",
      "105530 嗨！ ( 박수와 함성) 2020년 3월 이후로 사람들 보는 게 처음이에요. ( 薄收와 喊聲) 2020년 3月 莅候路 사람들 보는 게 처음裏에요. ㄏㄞ！\n",
      "101007 對？ ( 웃음) 이 시계의 무게는 기계적으로 조정되어서 계속해서 천천히 작동하도록 되어 있습니다. ( 웃음) 利 시계疑 무게는 기계적乙奴 조정되어서 계속해서 천천히 作動河都錄 되於 있습니다. ㄉㄨㄟˋ？\n",
      "100655 當時，我一直有修練松濤館空手道，從我有印象以來都在練，所以我已經拿了黑帶。 네. 네. ㄉㄤㄕˊ，ㄨㄛˇㄧㄓˊㄧㄡˇㄒㄧㄡㄌㄧㄢˋㄙㄨㄥㄊㄠㄍㄨㄢˇㄎㄨㄥㄕㄡˇㄉㄠˋ，ㄘㄨㄥˊㄨㄛˇㄧㄡˇㄧㄣˋㄒㄧㄤˋㄧˇㄌㄞˊㄉㄡㄗㄞˋㄌㄧㄢˋ，ㄙㄨㄛˇㄧˇㄨㄛˇㄧˇㄐㄧㄥㄋㄚˊㄌㄜ˙ㄏㄟㄉㄞˋ。\n",
      "98549 好。 모두 앉아 주세요. 冒頭 앉兒 周세요. ㄏㄠˇ。\n",
      "94844 」 감사합니다. 感謝합니다. 」\n",
      "94843 透過讚美自由言論及讚頌平凡英雄，他的劇作讓觀眾在歡笑的同時也能有所思考。 \" \" ㄊㄡˋㄍㄨㄛˋㄗㄢˋㄇㄟˇㄗˋㄧㄡˊㄧㄢˊㄌㄨㄣˋㄐㄧˊㄗㄢˋㄙㄨㄥˋㄆㄧㄥˊㄈㄢˊㄧㄥㄒㄩㄥˊ，ㄊㄚㄉㄜ˙ㄐㄩˋㄗㄨㄛˋㄖㄤˋㄍㄨㄢㄓㄨㄥˋㄗㄞˋㄏㄨㄢ˙ㄒㄧㄠˋㄉㄜ˙ㄊㄨㄥˊㄕˊㄧㄝˇㄋㄥˊㄧㄡˇㄙㄨㄛˇㄙㄎㄠˇ。\n",
      "93311 嗨。 제 수염이 반쪽만 있는 걸 눈치 채셨을 겁니다. 제 鬚髥里 반쪽卍 있는 걸 눈치 채셨을 겁니다. ㄏㄞ。\n",
      "89997 好。 눈은 계속 감고 계시 고요 차이점을 들으셨나요? 눈殷 繼續 감高 啓示 皐陶 차이점乙 들으셨나요? ㄏㄠˇ。\n",
      "88884 」 다른 방법으로는 생각지도 못할 아이디어를 얻을 수 있습니다. 다른 方法乙奴는 生角指導 못할 아이디어를 얻乙 守 있습니다. 」\n",
      "88883 因為和穆斯林結盟來對抗基督教夥伴所造成的憤怒讓他也失去了所有剩下的當地支援。 \" \" ㄧㄣㄨㄟˋㄏㄜˊㄇㄨˋㄙㄌㄧㄣˊㄐㄧㄝˊㄇㄥˊㄌㄞˊㄉㄨㄟˋㄎㄤˋㄐㄧㄉㄨㄐㄧㄠˋㄏㄨㄛˇㄅㄢˋㄙㄨㄛˇㄗㄠˋㄔㄥˊㄉㄜ˙ㄈㄣˋㄋㄨˋㄖㄤˋㄊㄚㄧㄝˇㄕㄑㄩˋㄌㄜ˙ㄙㄨㄛˇㄧㄡˇㄕㄥˋㄒㄧㄚˋㄉㄜ˙ㄉㄤㄉㄜ˙ㄓㄩㄢˊ。\n",
      "82234 摸。 이분은 조나 단이고 37세이며 석사 학위를 가지고 있습니다. 膩粉殷 조나 段李故 37世利며 碩士 學位를 가지故 있습니다. ㄇㄛ。\n",
      "77331 」 감사합니다. 感謝합니다. 」\n",
      "77330 在她於1917年過世時，這些夢想仍未實現。 ” ” ㄗㄞˋㄊㄚㄨ1917ㄋㄧㄢˊㄍㄨㄛˋㄕˋㄕˊ，ㄓㄜˋㄒㄧㄝㄇㄥˋㄒㄧㄤˇㄖㄥˊㄨㄟˋㄕˊㄒㄧㄢˋ。\n",
      "76821 嗨！ 신발끈에도 패턴이 있기 때문입니다. 신발끈에都 패턴利 있期 때문입니다. ㄏㄞ！\n",
      "74805 人。 무언가는, 어 딘가는 언제나 변했을 겁니다. 무언가는, 於 딘가는 언제나 변했乙 겁니다. ㄖㄣˊ。\n",
      "66859 」 \" 저.. 회사의 관리자가 당신에게 심장 판막을 보내지 않기로 결정했습니다. \" 氐.. 會社疑 管理者가 當身에게 深藏 瓣膜乙 보내지 않기로 결정했습니다. 」\n",
      "64302 好。 좋아요. 좋아요. ㄏㄠˇ。\n",
      "51043 哇。 오우. 吳禹. ㄨㄚ˙。\n",
      "46783 謝謝 감사합니다 感謝합니다 ㄒㄧㄝˋㄒㄧㄝˋ\n",
      "40878 你。 바로 여러분입니다. 바로 여러분입니다. ㄋㄧˇ。\n",
      "39959 嗨！ 안녕하세요. 晏寧河세요. ㄏㄞ！\n",
      "36726 不！ 아니죠. 아니죠. ㄅㄨˋ！\n",
      "34090 什麼？ 뭐라 뭐羅 ㄕㄣˊㄇㄜ˙？\n",
      "33767 好。 좋습니다. 좋습니다. ㄏㄠˇ。\n",
      "31278 好。 좋아요. 좋아요. ㄏㄠˇ。\n",
      "14710 不。 아뇨. 아뇨. ㄅㄨˋ。\n",
      "13214 嗨。 안녕하세요. 晏寧河세요. ㄏㄞ。\n",
      "11991 」 ” ” 」\n",
      "11806 十？ 열 개? 우리는 질문해야 합니다. 열 蓋? 寓履는 질문해야 합니다. ㄕˊ？\n",
      "10567 是的。 네. 네. ㄕˋㄉㄜ˙。\n",
      "9080 好! 알겠습니다. 알겠습니다. ㄏㄠˇ!\n",
      "6447 謝謝 감사합니다.! 感謝합니다.! ㄒㄧㄝˋㄒㄧㄝˋ\n",
      "6228 嗨。 안녕하세요. 晏寧河세요. ㄏㄞ。\n",
      "2315 不! 절대! 아닙니다! 절대! 아닙니다! ㄅㄨˋ!\n",
      "1685 （掌聲） 박수 薄收 （ㄓㄤˇㄕㄥ）\n"
     ]
    }
   ],
   "source": [
    "reverse_train_delete_indexs = list(train_delete_indexs.keys())\n",
    "reverse_train_delete_indexs.reverse()\n",
    "for i in reverse_train_delete_indexs:\n",
    "    print(i,TRAIN_ZSENT[i], TRAIN_KSENT[i], TRAIN_HSENT[i], TRAIN_ZYSENT[i])\n",
    "    del TRAIN_ZSENT[i]\n",
    "    del TRAIN_KSENT[i]\n",
    "    del TRAIN_HSENT[i]\n",
    "    del TRAIN_ZYSENT[i]"
   ]
  },
  {
   "cell_type": "code",
   "execution_count": 10,
   "metadata": {
    "colab": {
     "base_uri": "https://localhost:8080/"
    },
    "executionInfo": {
     "elapsed": 10,
     "status": "ok",
     "timestamp": 1716842693903,
     "user": {
      "displayName": "青山",
      "userId": "00589995879243750991"
     },
     "user_tz": -480
    },
    "id": "GJIKbcQSq8Y6",
    "outputId": "3f1c6bd7-9fc9-47ef-9501-f438b7dd1f8d",
    "scrolled": true
   },
   "outputs": [
    {
     "name": "stdout",
     "output_type": "stream",
     "text": [
      "3566 」 \"\n",
      "5206 」 \"\n",
      "6312 不。 아닙니다.\n",
      "10187 是的。 네.\n",
      "11109 好。 좋아요.\n",
      "12403 嗨。 안녕하세요?\n",
      "12441 」 ”\n",
      "12901 不！ 아닙니다!\n",
      "15159 謝謝 감사합니다.\n",
      "17733 不。 아닙니다.\n",
      "18956 是的。 네.\n",
      "19868 」 \"\n",
      "22513 好。 좋아요.\n",
      "23679 」 \" 는 말을 요.\n",
      "25285 冰。 얼음이고요.\n",
      "29343 嗨！ 그러니까... 안녕하세요!\n",
      "34778 不。 아니죠.\n"
     ]
    }
   ],
   "source": [
    "test_delete_indexs = {}\n",
    "for i in range(len(TEST_ZSENT)):\n",
    "    if(len(TEST_ZSENT[i]) < 3 or len(TEST_KSENT[i]) < 3):\n",
    "        test_delete_indexs[i] = 1\n",
    "        print(i,TEST_ZSENT[i], TEST_KSENT[i])"
   ]
  },
  {
   "cell_type": "code",
   "execution_count": 11,
   "metadata": {
    "colab": {
     "base_uri": "https://localhost:8080/"
    },
    "executionInfo": {
     "elapsed": 8,
     "status": "ok",
     "timestamp": 1716842693903,
     "user": {
      "displayName": "青山",
      "userId": "00589995879243750991"
     },
     "user_tz": -480
    },
    "id": "ONZxh_0Fq8Y6",
    "outputId": "f229e2bc-c7bb-4c21-dd01-e392cbe9bf88"
   },
   "outputs": [
    {
     "name": "stdout",
     "output_type": "stream",
     "text": [
      "17\n",
      "36089\n"
     ]
    }
   ],
   "source": [
    "print(len(test_delete_indexs.keys()))\n",
    "print(len(TEST_ZSENT))"
   ]
  },
  {
   "cell_type": "code",
   "execution_count": 12,
   "metadata": {
    "colab": {
     "base_uri": "https://localhost:8080/"
    },
    "executionInfo": {
     "elapsed": 6,
     "status": "ok",
     "timestamp": 1716842693903,
     "user": {
      "displayName": "青山",
      "userId": "00589995879243750991"
     },
     "user_tz": -480
    },
    "id": "bteU7QN1q8Y6",
    "outputId": "0cb34595-59c7-4633-ab94-b28a173bc51d"
   },
   "outputs": [
    {
     "name": "stdout",
     "output_type": "stream",
     "text": [
      "34778 不。 아니죠. 아니죠. ㄅㄨˋ。\n",
      "29343 嗨！ 그러니까... 안녕하세요! 그러니까... 晏寧하세요! ㄏㄞ！\n",
      "25285 冰。 얼음이고요. 乻音이皐陶. ㄅㄧㄥ。\n",
      "23679 」 \" 는 말을 요. \" 는 末乙 요. 」\n",
      "22513 好。 좋아요. 좋아요. ㄏㄠˇ。\n",
      "19868 」 \" \" 」\n",
      "18956 是的。 네. 네. ㄕˋㄉㄜ˙。\n",
      "17733 不。 아닙니다. 아닙니다. ㄅㄨˋ。\n",
      "15159 謝謝 감사합니다. 感謝합니다. ㄒㄧㄝˋㄒㄧㄝˋ\n",
      "12901 不！ 아닙니다! 아닙니다! ㄅㄨˋ！\n",
      "12441 」 ” ” 」\n",
      "12403 嗨。 안녕하세요? 晏寧河세요? ㄏㄞ。\n",
      "11109 好。 좋아요. 좋아요. ㄏㄠˇ。\n",
      "10187 是的。 네. 네. ㄕˋㄉㄜ˙。\n",
      "6312 不。 아닙니다. 아닙니다. ㄅㄨˋ。\n",
      "5206 」 \" \" 」\n",
      "3566 」 \" \" 」\n"
     ]
    }
   ],
   "source": [
    "reverse_test_delete_indexs = list(test_delete_indexs.keys())\n",
    "reverse_test_delete_indexs.reverse()\n",
    "for i in reverse_test_delete_indexs:\n",
    "    print(i,TEST_ZSENT[i], TEST_KSENT[i], TEST_HSENT[i], TEST_ZYSENT[i])\n",
    "    del TEST_ZSENT[i]\n",
    "    del TEST_KSENT[i]\n",
    "    del TEST_HSENT[i]\n",
    "    del TEST_ZYSENT[i]"
   ]
  },
  {
   "cell_type": "code",
   "execution_count": 13,
   "metadata": {
    "colab": {
     "base_uri": "https://localhost:8080/"
    },
    "executionInfo": {
     "elapsed": 5,
     "status": "ok",
     "timestamp": 1716842693903,
     "user": {
      "displayName": "青山",
      "userId": "00589995879243750991"
     },
     "user_tz": -480
    },
    "id": "psLpLhXSq8Y7",
    "outputId": "e7760482-03e8-470e-a91b-03373490ba4e"
   },
   "outputs": [
    {
     "name": "stdout",
     "output_type": "stream",
     "text": [
      "146612 146612 146612 146612\n",
      "36072 36072 36072 36072\n"
     ]
    }
   ],
   "source": [
    "print(len(TRAIN_ZSENT),len(TRAIN_KSENT),len(TRAIN_HSENT),len(TRAIN_ZYSENT))\n",
    "print(len(TEST_ZSENT),len(TEST_KSENT),len(TEST_HSENT),len(TEST_ZYSENT))"
   ]
  },
  {
   "cell_type": "code",
   "execution_count": 14,
   "metadata": {
    "colab": {
     "base_uri": "https://localhost:8080/"
    },
    "executionInfo": {
     "elapsed": 3,
     "status": "ok",
     "timestamp": 1716632222492,
     "user": {
      "displayName": "空海",
      "userId": "08068718315358455095"
     },
     "user_tz": -480
    },
    "id": "MDNobIQfJE9Q",
    "outputId": "e557586b-366c-49c7-8918-4add574e4e5e"
   },
   "outputs": [
    {
     "name": "stdout",
     "output_type": "stream",
     "text": [
      "ㄒㄧㄝˋㄒㄧㄝˋㄉㄚˋㄐㄧㄚ。\n",
      "ㄨㄛˇㄒㄧㄤㄒㄧㄣˋㄖㄨˊㄍㄨㄛˇㄋㄧˇㄍㄟˇㄊㄚㄇㄣ˙ㄓㄥˋㄑㄩㄝˋㄉㄜ˙ㄈㄤㄈㄚˇㄏㄜˊㄍㄨㄥㄐㄩˋ，ㄊㄚㄇㄣ˙ㄎㄜˇㄧˇㄅㄚˇㄕㄢㄉㄡㄓㄨㄢˇㄧˊㄌㄜ˙ㄒㄧㄝˋㄒㄧㄝˋ（ㄍㄨˇㄓㄤˇㄕㄥ）\n"
     ]
    }
   ],
   "source": [
    "print(TRAIN_ZYSENT[0])\n",
    "print(TEST_ZYSENT[0])"
   ]
  },
  {
   "cell_type": "markdown",
   "metadata": {
    "id": "gbBZ0gHTc5S2"
   },
   "source": [
    "# Pretrain Model"
   ]
  },
  {
   "cell_type": "code",
   "execution_count": 15,
   "metadata": {
    "executionInfo": {
     "elapsed": 1660,
     "status": "ok",
     "timestamp": 1716842695560,
     "user": {
      "displayName": "青山",
      "userId": "00589995879243750991"
     },
     "user_tz": -480
    },
    "id": "Ja9cukshN9og"
   },
   "outputs": [],
   "source": [
    "import torch\n",
    "import torch.nn as nn\n",
    "import torch.optim as optim\n",
    "import torch.nn.functional as F\n",
    "from torch.utils.data import Dataset, DataLoader\n",
    "from torch import Tensor\n",
    "from torch.nn import Transformer\n",
    "\n",
    "from transformers import BertTokenizer, BertModel, BertConfig, BertForPreTraining, AutoModel, BertTokenizerFast, BertForMaskedLM\n",
    "\n",
    "import numpy as np\n",
    "import matplotlib.pyplot as plt\n",
    "import time\n",
    "import math"
   ]
  },
  {
   "cell_type": "markdown",
   "metadata": {
    "id": "UfN7Zeg0_8zF"
   },
   "source": [
    "## Load Tokenizer"
   ]
  },
  {
   "cell_type": "code",
   "execution_count": 16,
   "metadata": {
    "executionInfo": {
     "elapsed": 3,
     "status": "ok",
     "timestamp": 1716842695560,
     "user": {
      "displayName": "青山",
      "userId": "00589995879243750991"
     },
     "user_tz": -480
    },
    "id": "uIV_IeJXEUx8"
   },
   "outputs": [],
   "source": [
    "import transformers\n",
    "transformers.logging.set_verbosity_error() # solve the warning: 'Special tokens have been added in the vocabulary, make sure the associated word embeddings are fine-tuned or trained.'"
   ]
  },
  {
   "cell_type": "markdown",
   "metadata": {
    "id": "03Moe-doANbb"
   },
   "source": [
    "### Chinese Tokenizer"
   ]
  },
  {
   "cell_type": "code",
   "execution_count": 17,
   "metadata": {
    "colab": {
     "base_uri": "https://localhost:8080/",
     "height": 304,
     "referenced_widgets": [
      "93b5cefa638b4bf99e7c7dc205853c61",
      "6a73587b6aa947b6aeb637dfad1c3c9d",
      "67ec3e1dea654b06990d4718b3d81e09",
      "65f83b71110c4a6280b5b4765420571e",
      "0f461dbd7b3e43deb973adcf106f0e48",
      "9adc62ff20cd47138858907b6d2f775a",
      "ff3a25def66a45eaa534914c61f36011",
      "57097415a5934a56b3c5284754e479f0",
      "2a7e5e452f484b69a9b9fe1da6fd4b7c",
      "3f44326f2cce4a1ebb1021ab581116e8",
      "5e5d4ea7a8b2416d9bbd6f2358148118",
      "b7691b0030674c50bc875daa2f496af1",
      "718c42a9142049b8a3c61bc40d3772a3",
      "a8b895cd4ef54803b43499be46e4a1d8",
      "f120920cb70246df92ed5647d6eba100",
      "4ccf4fb3213347d7864c84bf1fc1c9c3",
      "1018769c5abb42fa96c6da3561ed6c53",
      "c3289467c4c748608d3167e915350961",
      "deced31a7cb64748802557b9ede489ec",
      "5dee7d6890b74cd4bb2d8630f437fb00",
      "c70fa40be41c4c2691207076e7585dfe",
      "a24fec2c288e4a7aa9fb0748ca53e48c",
      "262e112535004e9184157cf9fcf7f606",
      "28ace64e7f1c40e6b1c6922233433bee",
      "db0a1dd5859749128b717ae4c76e6b64",
      "461ed5efc3ef46f7a22c509844ddd55f",
      "b67d594c1df04183884eff596d662658",
      "b8e8f37391574a93b07bb6947391b764",
      "c12459d1815b4404b5ac462132902c69",
      "a6239bc3dc8c43f8ae11ba609094ce13",
      "fd30c6cb432849f9a8d6057044c37029",
      "27598864851e4e7d9a06e9588252d1bd",
      "65e4b3b84f7f4643b06eec594f5dc037",
      "46d7a127d3314f089ccf8e3b5cb7e7eb",
      "d99e3cc970b940859d1f923419b1a5db",
      "d42376a2efbd4ebeb6fedfcb39f710b4",
      "d9ba8fe9ee7a4894a5f0551beb042468",
      "0c3a3b09552647eb8a0a378c0758f83f",
      "2ce7103e9bfc45c8961f727f6c3cb0e0",
      "360a978828034793854015bbe27d1db4",
      "23eb950592f34bafb47e470f393dd27e",
      "7d47408276e147cca43467bece105ddd",
      "6b7ffdf5d93d4f9f92f365abf2168d75",
      "282343868a3e40aeb672dda2cdc1d8e1"
     ]
    },
    "executionInfo": {
     "elapsed": 2647,
     "status": "ok",
     "timestamp": 1716842698205,
     "user": {
      "displayName": "青山",
      "userId": "00589995879243750991"
     },
     "user_tz": -480
    },
    "id": "Y0b1DUX3aGpx",
    "outputId": "fd2848d2-217d-4828-fed2-0ae29dce0307"
   },
   "outputs": [],
   "source": [
    "#zh_tokenizer = BertTokenizer.from_pretrained('{}/MODELS/TOKENIZER/new_zh_tokenizer_add_bpmf_korean_tokens_v2'.format(dir_path) )# load bert-base-chinese tokenizer with bpmf、hangul tokens(from 'kykim/bert-kor-base' and konlpy)\n",
    "zh_tokenizer = BertTokenizerFast.from_pretrained('bert-base-chinese')"
   ]
  },
  {
   "cell_type": "code",
   "execution_count": 18,
   "metadata": {
    "colab": {
     "base_uri": "https://localhost:8080/"
    },
    "executionInfo": {
     "elapsed": 469,
     "status": "ok",
     "timestamp": 1716842698672,
     "user": {
      "displayName": "青山",
      "userId": "00589995879243750991"
     },
     "user_tz": -480
    },
    "id": "u_7VMsRSPsfT",
    "outputId": "597d7dff-aa53-434b-9a8b-32e1e3edc46b"
   },
   "outputs": [
    {
     "name": "stdout",
     "output_type": "stream",
     "text": [
      "2751\n",
      "zy: 41\n",
      "zy tokens: 2089\n"
     ]
    }
   ],
   "source": [
    "# zhuyin tokens\n",
    "import re\n",
    "zhuyins = ['ㄅ','ㄆ','ㄇ','ㄈ','ㄉ','ㄊ','ㄋ','ㄌ','ㄍ','ㄎ','ㄏ','ㄐ','ㄑ','ㄒ','ㄓ','ㄔ','ㄕ','ㄖ','ㄗ','ㄘ','ㄙ','ㄧ','ㄨ','ㄩ','ㄚ','ㄛ','ㄜ','ㄝ','ㄞ','ㄟ','ㄠ','ㄡ','ㄢ','ㄣ','ㄤ','ㄥ','ㄦ','ˇ','ˋ','ˊ','˙']\n",
    "\n",
    "def check_bpmf_is_not(text):\n",
    "    test_list = ['.*[ㄅㄆㄇㄈㄉㄊㄋㄌㄍㄎㄏㄐㄑㄒㄓㄔㄕㄖㄗㄘㄙㄧㄨㄩㄚㄛㄜㄝㄞㄟㄠㄡㄢㄣㄤㄥㄦˇˋˊ˙]+.*']\n",
    "    for t in test_list:\n",
    "        valid = re.compile(t)\n",
    "        try:\n",
    "            if(valid.match(text) != None):\n",
    "                return True\n",
    "        except:\n",
    "            return False\n",
    "    return False\n",
    "\n",
    "zhuyin_df = pd.read_csv('{}/CORPUS/TOKEN/zhuyin_tokens_count.csv'.format(dir_path))\n",
    "zhuyin_df = zhuyin_df.to_dict(orient='dict')\n",
    "zhuyin_tokens = list(zhuyin_df['zhuyin'].values())\n",
    "print(len(zhuyin_tokens))\n",
    "\n",
    "for tok in zhuyin_tokens:\n",
    "  if(check_bpmf_is_not(tok)):\n",
    "    continue\n",
    "  else:\n",
    "    zhuyin_tokens.remove(tok)\n",
    "print('zy:',len(zhuyins))\n",
    "print('zy tokens:',len(zhuyin_tokens))"
   ]
  },
  {
   "cell_type": "code",
   "execution_count": 19,
   "metadata": {
    "colab": {
     "base_uri": "https://localhost:8080/",
     "height": 185,
     "referenced_widgets": [
      "a04b93fc8f5a436786479ae6dc830c20",
      "77ec6b7cea5c4e93bcecc4f8cc676278",
      "9853a6d0a1ad46809430bfc7c2d95f98",
      "d483852284124cf1a2917bb2fd81d993",
      "894d8cfd368e4767bde0e9bb9a40247b",
      "f52adfb73a314fe19310ca4c16f699ad",
      "124ac807ef99463ebf72273e34dabb09",
      "aab1ddbc4fa64cd5ad2678d2347e8b06",
      "952334f4d70c4aea82918705262c51fd",
      "b06238aa2ac3461a92b37db72682780c",
      "2a80426cb8c24ce4bffeaec5c5b16b8a",
      "e8d503f8deb9485c870a311fdb4f742a",
      "10c2dfa0e30b49b2a780a2bec95d3433",
      "bbf1c8a2b25f451f966ec41063d56239",
      "a663628ab58b4e109639dc668a40474c",
      "b58c768e0f814dc48d95e32f84b62757",
      "a18586c8bb604b76bf66a01aa8ee135d",
      "adfa89e6ce0749b4a7028e4fbd790bf4",
      "9bbd9a7ec8ad43c786be74b7319fabca",
      "67e31154d2b94fe4a4eac4a69f61c4f6",
      "952553199ae34154a41bf6e161013585",
      "fa4d10ecb1df4a1d80ea5a816675a42a",
      "6e732369543948b49ca5cc1b4511dc05",
      "08c6b967d2b147d386fbe55ead5c1b81",
      "ce9504e8d6344d08aeac33a6ef9880ce",
      "04cc66ff34c64a6798523314add38e6d",
      "8736a87e114a471a8393f2d843b46348",
      "dc2870cf431d419e985e50309020bd11",
      "70fda8fc7b3048dbafcb1cb39660b530",
      "0a2628389d544671bac62a8d6f5d4782",
      "725d872ff51d4068a41508e8b1689291",
      "43506cec89664c018a9eb3e097ed25b4",
      "483c3114ec374f5c9713948c2406f03e"
     ]
    },
    "executionInfo": {
     "elapsed": 1602,
     "status": "ok",
     "timestamp": 1716842700271,
     "user": {
      "displayName": "青山",
      "userId": "00589995879243750991"
     },
     "user_tz": -480
    },
    "id": "G6TGzmplPsY9",
    "outputId": "0aeab1f9-3a7b-49e1-a3ed-42ff61c9d09c"
   },
   "outputs": [
    {
     "name": "stdout",
     "output_type": "stream",
     "text": [
      "42000\n"
     ]
    }
   ],
   "source": [
    "# korean tokens\n",
    "ko_tokenizer = BertTokenizerFast.from_pretrained(\"kykim/bert-kor-base\")\n",
    "ko_tokenizer_tokens = list(ko_tokenizer.get_vocab().keys())\n",
    "print(len(ko_tokenizer_tokens))"
   ]
  },
  {
   "cell_type": "code",
   "execution_count": 20,
   "metadata": {
    "colab": {
     "base_uri": "https://localhost:8080/"
    },
    "executionInfo": {
     "elapsed": 16283,
     "status": "ok",
     "timestamp": 1716842716551,
     "user": {
      "displayName": "青山",
      "userId": "00589995879243750991"
     },
     "user_tz": -480
    },
    "id": "CC9w7rEGPsT6",
    "outputId": "386f5028-8771-48ee-e3b3-f5c62aee63e7"
   },
   "outputs": [
    {
     "name": "stdout",
     "output_type": "stream",
     "text": [
      "Original Length:  21128\n",
      "Add zhuyins:  21146\n",
      "Add zhuyin tokens:  22839\n",
      "Add korean tokens from kykim/bert-kor-base tokenizer:  63662\n"
     ]
    }
   ],
   "source": [
    "# add new tokens\n",
    "zh_tokenizer = BertTokenizerFast.from_pretrained('bert-base-chinese')\n",
    "print('Original Length: ',len(zh_tokenizer))\n",
    "\n",
    "zh_tokenizer.add_tokens(zhuyins)\n",
    "print('Add zhuyins: ',len(zh_tokenizer))\n",
    "\n",
    "zh_tokenizer.add_tokens(zhuyin_tokens)\n",
    "print('Add zhuyin tokens: ',len(zh_tokenizer))\n",
    "\n",
    "zh_tokenizer.add_tokens(ko_tokenizer_tokens)\n",
    "print('Add korean tokens from kykim/bert-kor-base tokenizer: ',len(zh_tokenizer))"
   ]
  },
  {
   "cell_type": "code",
   "execution_count": 21,
   "metadata": {
    "colab": {
     "base_uri": "https://localhost:8080/",
     "height": 98,
     "referenced_widgets": [
      "881245d4087c46dc9fc708bdd281ab11",
      "2759df3f647443a8aa7c7508fc01ce12",
      "772f8dba95d04be2be57c6c68c44a0c8",
      "52d2a19a61104abba94334ee845bf160",
      "e6f0ab3b58e945f2984c458e22e9b8ad",
      "9e51d2b75e5a4f539a775b69ac7e8263",
      "6e107a5d52bf440c88b33a51de84b48b",
      "e7cfbe37036e47df9c7bb9dbebfbf3d8",
      "f21c9faf076a45789e0f6e9d78f02026",
      "520d628bdfde4887be41590addd906ab",
      "cb596298098b4461935318a6f5f87f2c",
      "35a4a9fe2cd2430ba23974305a0f81b8",
      "82ff56f128234866a3fec912b6f7dc6c",
      "eb89bb5d3c92457a9d804275a72f29d2",
      "398d0276496d4493979307ee572d9480",
      "41782808766a4f2f90731efba3f8acb3",
      "b13a9af5f456446d83230704edc98b22",
      "49ee2cc090fd411ba8675fd3793aea3f",
      "85ddde7bb0fb4562aa26ca16308b99c0",
      "9f6e4611bb7b4f7498509e3835e83c8d",
      "120d78d3428949deacaa8568961e353b",
      "359de532c8254724911190f3e955db31"
     ]
    },
    "executionInfo": {
     "elapsed": 5889,
     "status": "ok",
     "timestamp": 1716842722435,
     "user": {
      "displayName": "青山",
      "userId": "00589995879243750991"
     },
     "user_tz": -480
    },
    "id": "R3Rh8QZkJE9S",
    "outputId": "877e549b-83d8-4d45-8f25-f841e4b3aebc"
   },
   "outputs": [
    {
     "data": {
      "text/plain": [
       "Embedding(63662, 768)"
      ]
     },
     "execution_count": 21,
     "metadata": {},
     "output_type": "execute_result"
    }
   ],
   "source": [
    "zh_bert_model = AutoModel.from_pretrained('ckiplab/bert-base-chinese')\n",
    "zh_bert_model.resize_token_embeddings(len(zh_tokenizer))"
   ]
  },
  {
   "cell_type": "markdown",
   "metadata": {
    "id": "s9ipZiyPwmrK"
   },
   "source": [
    "### Korean Tokenizer"
   ]
  },
  {
   "cell_type": "code",
   "execution_count": null,
   "metadata": {
    "id": "R7TXNOyqwqJa"
   },
   "outputs": [],
   "source": [
    "ko_tokenizer = BertTokenizerFast.from_pretrained(\"kykim/bert-kor-base\")"
   ]
  },
  {
   "cell_type": "code",
   "execution_count": null,
   "metadata": {
    "id": "bNSH5CeCxvSy"
   },
   "outputs": [],
   "source": [
    "ko_bert_model = BertModel.from_pretrained(\"kykim/bert-kor-base\")"
   ]
  },
  {
   "cell_type": "markdown",
   "metadata": {
    "id": "qTK4AyyywrIr"
   },
   "source": [
    "### mbert"
   ]
  },
  {
   "cell_type": "code",
   "execution_count": null,
   "metadata": {
    "id": "aacISo-6wteU"
   },
   "outputs": [],
   "source": [
    "mbert_tokenizer = BertTokenizer.from_pretrained('bert-base-multilingual-cased')"
   ]
  },
  {
   "cell_type": "code",
   "execution_count": null,
   "metadata": {
    "colab": {
     "base_uri": "https://localhost:8080/",
     "height": 49,
     "referenced_widgets": [
      "4696479d8ba840738d9a0bbec847c17b",
      "ed194bf6757a450f96d791fd7e0ecbd0",
      "3bb347ee412446e19040d3499a68a31c",
      "4fc089ca629e46179c17939fa94782bf",
      "1cba16906e3147ecadbc6706de0c39d6",
      "1de1d369d5294e5a85c9916b298fe2f1",
      "700c4a3194f241eaa4ae36b9fa476914",
      "3f5d8280b13f4a86a3604fd8a697a381",
      "dd0d07a703ed49a98f58ec914582192c",
      "32d07b4c240d44f5b7b9894bca42540f",
      "eea8c8d16bc04a93af2aabf6b526728b"
     ]
    },
    "executionInfo": {
     "elapsed": 7147,
     "status": "ok",
     "timestamp": 1716272129777,
     "user": {
      "displayName": "Yeezi",
      "userId": "08687854767328262193"
     },
     "user_tz": -480
    },
    "id": "2wrUUp8jxaBZ",
    "outputId": "f18b446b-170b-4bef-e66c-db9d99a2298c"
   },
   "outputs": [
    {
     "data": {
      "text/plain": [
       "BertModel(\n",
       "  (embeddings): BertEmbeddings(\n",
       "    (word_embeddings): Embedding(119547, 768, padding_idx=0)\n",
       "    (position_embeddings): Embedding(512, 768)\n",
       "    (token_type_embeddings): Embedding(2, 768)\n",
       "    (LayerNorm): LayerNorm((768,), eps=1e-12, elementwise_affine=True)\n",
       "    (dropout): Dropout(p=0.1, inplace=False)\n",
       "  )\n",
       "  (encoder): BertEncoder(\n",
       "    (layer): ModuleList(\n",
       "      (0-11): 12 x BertLayer(\n",
       "        (attention): BertAttention(\n",
       "          (self): BertSelfAttention(\n",
       "            (query): Linear(in_features=768, out_features=768, bias=True)\n",
       "            (key): Linear(in_features=768, out_features=768, bias=True)\n",
       "            (value): Linear(in_features=768, out_features=768, bias=True)\n",
       "            (dropout): Dropout(p=0.1, inplace=False)\n",
       "          )\n",
       "          (output): BertSelfOutput(\n",
       "            (dense): Linear(in_features=768, out_features=768, bias=True)\n",
       "            (LayerNorm): LayerNorm((768,), eps=1e-12, elementwise_affine=True)\n",
       "            (dropout): Dropout(p=0.1, inplace=False)\n",
       "          )\n",
       "        )\n",
       "        (intermediate): BertIntermediate(\n",
       "          (dense): Linear(in_features=768, out_features=3072, bias=True)\n",
       "          (intermediate_act_fn): GELUActivation()\n",
       "        )\n",
       "        (output): BertOutput(\n",
       "          (dense): Linear(in_features=3072, out_features=768, bias=True)\n",
       "          (LayerNorm): LayerNorm((768,), eps=1e-12, elementwise_affine=True)\n",
       "          (dropout): Dropout(p=0.1, inplace=False)\n",
       "        )\n",
       "      )\n",
       "    )\n",
       "  )\n",
       "  (pooler): BertPooler(\n",
       "    (dense): Linear(in_features=768, out_features=768, bias=True)\n",
       "    (activation): Tanh()\n",
       "  )\n",
       ")"
      ]
     },
     "execution_count": 26,
     "metadata": {},
     "output_type": "execute_result"
    }
   ],
   "source": [
    "mbert_model = BertModel.from_pretrained('bert-base-multilingual-cased').to(device)\n",
    "mbert_model.eval()"
   ]
  },
  {
   "cell_type": "markdown",
   "metadata": {
    "id": "yHItFW4RwxZW"
   },
   "source": [
    "### chinese bert with phonetic"
   ]
  },
  {
   "cell_type": "code",
   "execution_count": null,
   "metadata": {
    "id": "Kla9x-iJw2p6"
   },
   "outputs": [],
   "source": []
  },
  {
   "cell_type": "code",
   "execution_count": 22,
   "metadata": {
    "executionInfo": {
     "elapsed": 299,
     "status": "ok",
     "timestamp": 1716842789624,
     "user": {
      "displayName": "青山",
      "userId": "00589995879243750991"
     },
     "user_tz": -480
    },
    "id": "SvX7R9FNJE9S"
   },
   "outputs": [],
   "source": [
    "my_model = zh_bert_model\n",
    "my_model = my_model.to(device)\n",
    "my_model.eval()\n",
    "\n",
    "#tgt_model = zh_bert_model\n",
    "my_tokenizer = zh_tokenizer\n",
    "tgt_tokenizer = zh_tokenizer\n"
   ]
  },
  {
   "cell_type": "markdown",
   "metadata": {
    "id": "UjK5_xB2CB73"
   },
   "source": [
    "### Get Embeddings"
   ]
  },
  {
   "cell_type": "code",
   "execution_count": null,
   "metadata": {
    "colab": {
     "base_uri": "https://localhost:8080/"
    },
    "executionInfo": {
     "elapsed": 2232,
     "status": "ok",
     "timestamp": 1716272302673,
     "user": {
      "displayName": "Yeezi",
      "userId": "08687854767328262193"
     },
     "user_tz": -480
    },
    "id": "o_FjuY2mCE0m",
    "outputId": "0d76ff9e-012a-4b80-b968-c11dfcd7563b"
   },
   "outputs": [
    {
     "name": "stdout",
     "output_type": "stream",
     "text": [
      "그러다 結局에는 그냥 屈伏下故 末乃 버리綿 적어도 多飮에는 아무 日 없을 거라고 生角하는 持經까지 이르렀습니다. 패배자可 된 느낌이었죠.\n",
      "tensor([[[ 0.2751, -0.1491,  0.3304,  ..., -0.0059, -0.1405, -0.3108],\n",
      "         [-0.1300, -0.3333,  1.0684,  ..., -0.2793, -0.3171, -0.4867],\n",
      "         [ 0.2309, -0.4890,  0.1326,  ..., -0.0110, -0.2467, -0.8567],\n",
      "         ...,\n",
      "         [ 0.7320, -0.1392,  1.1718,  ...,  0.1636, -0.0037, -0.4018],\n",
      "         [ 0.3692, -0.2858,  0.8215,  ...,  0.4665, -0.1487, -0.5134],\n",
      "         [ 0.3086, -0.1198,  0.9983,  ...,  0.0486, -0.2033, -0.4707]]],\n",
      "       device='cuda:0')\n"
     ]
    }
   ],
   "source": [
    "# 输入文本\n",
    "text = TEST_HSENT[923]\n",
    "print(text)\n",
    "# 使用 mBERT 分词器对文本进行编码\n",
    "inputs = my_tokenizer(text, return_tensors='pt', padding=True, truncation=True).to(device)\n",
    "\n",
    "# 将输入传递给 mBERT 模型以获取输出\n",
    "with torch.no_grad():\n",
    "    outputs = mbert_model(**inputs)\n",
    "\n",
    "# 提取嵌入\n",
    "embeddings = outputs.last_hidden_state\n",
    "\n",
    "print(embeddings)"
   ]
  },
  {
   "cell_type": "code",
   "execution_count": null,
   "metadata": {
    "colab": {
     "base_uri": "https://localhost:8080/"
    },
    "executionInfo": {
     "elapsed": 489,
     "status": "ok",
     "timestamp": 1716272552247,
     "user": {
      "displayName": "Yeezi",
      "userId": "08687854767328262193"
     },
     "user_tz": -480
    },
    "id": "oSfAm4BHzDEw",
    "outputId": "8a264096-db37-4a94-cab9-5f4f3b345aa1"
   },
   "outputs": [
    {
     "name": "stdout",
     "output_type": "stream",
     "text": [
      "그러다 結局에는 그냥 屈伏下故 末乃 버리綿 적어도 多飮에는 아무 日 없을 거라고 生角하는 持經까지 이르렀습니다. 패배자可 된 느낌이었죠.\n",
      "tensor([[[-0.3986, -0.2009,  0.2008,  ...,  0.4399,  0.4141,  0.4691],\n",
      "         [ 0.0838, -0.1388, -0.5705,  ...,  0.7849,  1.0852, -0.0710],\n",
      "         [-0.0747, -0.3994, -0.6897,  ...,  0.2100, -0.6700,  0.0048],\n",
      "         ...,\n",
      "         [ 0.0286, -0.2309, -0.4041,  ...,  0.2663,  0.4609, -0.2155],\n",
      "         [-0.3307, -0.4798, -0.5780,  ...,  0.7395,  0.8964,  0.0967],\n",
      "         [-0.3986, -0.2009,  0.2007,  ...,  0.4400,  0.4141,  0.4692]]],\n",
      "       device='cuda:0')\n"
     ]
    }
   ],
   "source": [
    "# 输入文本\n",
    "text = TEST_HSENT[923]\n",
    "print(text)\n",
    "# 使用 mBERT 分词器对文本进行编码\n",
    "inputs = zh_tokenizer(text, return_tensors='pt', padding=True, truncation=True).to(device)\n",
    "\n",
    "# 将输入传递给 mBERT 模型以获取输出\n",
    "with torch.no_grad():\n",
    "    outputs = zh_bert_model(**inputs)\n",
    "\n",
    "# 提取嵌入\n",
    "embeddings = outputs.last_hidden_state\n",
    "\n",
    "print(embeddings)"
   ]
  },
  {
   "cell_type": "code",
   "execution_count": 120,
   "metadata": {
    "colab": {
     "base_uri": "https://localhost:8080/"
    },
    "executionInfo": {
     "elapsed": 2285,
     "status": "ok",
     "timestamp": 1716842795296,
     "user": {
      "displayName": "青山",
      "userId": "00589995879243750991"
     },
     "user_tz": -480
    },
    "id": "eiFEkU9gq8ZB",
    "outputId": "6f93ed5d-f3c1-425b-8606-4ac5fc13b7e4"
   },
   "outputs": [
    {
     "name": "stdout",
     "output_type": "stream",
     "text": [
      "그러다 結局에는 그냥 屈伏下故 末乃 버리綿 적어도 多飮에는 아무 日 없을 거라고 生角하는 持經까지 이르렀습니다. 패배자可 된 느낌이었죠.\n",
      "torch.Size([1, 32, 768])\n",
      "tensor([[[-0.8633, -0.3071,  0.2674,  ...,  0.1599, -0.4286,  0.6708],\n",
      "         [-0.6252, -0.6063, -0.1854,  ...,  0.6419,  0.8342, -0.1806],\n",
      "         [-0.0089, -0.2781, -0.5571,  ..., -0.0188, -0.9018,  0.2421],\n",
      "         ...,\n",
      "         [-0.2869, -0.3825, -0.2250,  ...,  1.3278,  0.5709,  0.0547],\n",
      "         [-0.3993, -0.6135, -0.6772,  ...,  1.2183,  0.6720, -0.0780],\n",
      "         [-0.8633, -0.3071,  0.2673,  ...,  0.1600, -0.4286,  0.6708]]],\n",
      "       device='cuda:0')\n",
      "torch.Size([32, 1, 768])\n",
      "tensor([[[-0.8633, -0.3071,  0.2674,  ...,  0.1599, -0.4286,  0.6708]],\n",
      "\n",
      "        [[-0.6252, -0.6063, -0.1854,  ...,  0.6419,  0.8342, -0.1806]],\n",
      "\n",
      "        [[-0.0089, -0.2781, -0.5571,  ..., -0.0188, -0.9018,  0.2421]],\n",
      "\n",
      "        ...,\n",
      "\n",
      "        [[-0.2869, -0.3825, -0.2250,  ...,  1.3278,  0.5709,  0.0547]],\n",
      "\n",
      "        [[-0.3993, -0.6135, -0.6772,  ...,  1.2183,  0.6720, -0.0780]],\n",
      "\n",
      "        [[-0.8633, -0.3071,  0.2673,  ...,  0.1600, -0.4286,  0.6708]]],\n",
      "       device='cuda:0')\n"
     ]
    }
   ],
   "source": [
    "# 输入文本\n",
    "text = TEST_HSENT[923]\n",
    "print(text)\n",
    "# 使用 mBERT 分词器对文本进行编码\n",
    "inputs = zh_tokenizer(text, return_tensors='pt', padding='max_length', truncation=True, max_length=max_length).to(device)\n",
    "\n",
    "# 将输入传递给 mBERT 模型以获取输出\n",
    "with torch.no_grad():\n",
    "    outputs = my_model(**inputs)\n",
    "\n",
    "# 提取嵌入\n",
    "embeddings = outputs.last_hidden_state\n",
    "print(embeddings.size())\n",
    "print(embeddings)\n",
    "\n",
    "embeddings = embeddings.permute(1,0,2)\n",
    "print(embeddings.size())\n",
    "\n",
    "\n",
    "print(embeddings)"
   ]
  },
  {
   "cell_type": "code",
   "execution_count": null,
   "metadata": {
    "colab": {
     "base_uri": "https://localhost:8080/"
    },
    "executionInfo": {
     "elapsed": 301,
     "status": "ok",
     "timestamp": 1716272850935,
     "user": {
      "displayName": "Yeezi",
      "userId": "08687854767328262193"
     },
     "user_tz": -480
    },
    "id": "fJvv-q7J0aDG",
    "outputId": "99ed66c9-f5ab-4e73-e15f-f85c3791b3e8"
   },
   "outputs": [
    {
     "name": "stdout",
     "output_type": "stream",
     "text": [
      "到最後我覺得，乾脆屈服熬過去，至少到下次再發生前我能得到點平靜。\n",
      "ㄉㄠˋㄗㄨㄟˋㄏㄡˋㄨㄛˇㄐㄩㄝˊㄉㄜ˙，ㄍㄢㄘㄨㄟˋㄑㄩㄈㄨˊㄠˊㄍㄨㄛˋㄑㄩˋ，ㄓˋㄕㄠˇㄉㄠˋㄒㄧㄚˋㄘˋㄗㄞˋㄈㄚㄕㄥㄑㄧㄢˊㄨㄛˇㄋㄥˊㄉㄜ˙ㄉㄠˋㄉㄧㄢˇㄆㄧㄥˊㄐㄧㄥˋ。\n",
      "tensor([[  101,   100, 10064,   100, 10064,   100,  1882,   102]],\n",
      "       device='cuda:0')\n",
      "， ， 。\n",
      "tensor([[[ 0.1761,  0.2477,  0.2021,  ...,  0.0559,  0.0265,  0.0520],\n",
      "         [-0.2596,  0.5538,  0.7481,  ...,  0.4942, -0.0487, -0.1889],\n",
      "         [ 0.2373,  0.3286,  0.1775,  ...,  0.1499,  0.3106,  0.0685],\n",
      "         ...,\n",
      "         [-0.2755,  0.5195,  0.7319,  ...,  0.3360,  0.0062, -0.1785],\n",
      "         [ 0.2210,  0.2828,  0.6919,  ...,  0.0976, -0.0144, -0.0212],\n",
      "         [ 0.2256,  0.3239,  0.7765,  ...,  0.0071, -0.1020,  0.0957]]],\n",
      "       device='cuda:0')\n"
     ]
    }
   ],
   "source": [
    "# 输入文本\n",
    "print(TEST_ZSENT[923])\n",
    "text = TEST_ZYSENT[923]\n",
    "print(text)\n",
    "# 使用 mBERT 分词器对文本进行编码\n",
    "inputs = mbert_tokenizer(text, return_tensors='pt', padding=True, truncation=True).to(device)\n",
    "print(inputs['input_ids'])\n",
    "print(mbert_tokenizer.decode(inputs['input_ids'][0], skip_special_tokens=True))\n",
    "# 将输入传递给 mBERT 模型以获取输出\n",
    "with torch.no_grad():\n",
    "    outputs = mbert_model(**inputs)\n",
    "\n",
    "# 提取嵌入\n",
    "embeddings = outputs.last_hidden_state\n",
    "\n",
    "print(embeddings)"
   ]
  },
  {
   "cell_type": "code",
   "execution_count": null,
   "metadata": {
    "colab": {
     "base_uri": "https://localhost:8080/"
    },
    "executionInfo": {
     "elapsed": 869,
     "status": "ok",
     "timestamp": 1716272859636,
     "user": {
      "displayName": "Yeezi",
      "userId": "08687854767328262193"
     },
     "user_tz": -480
    },
    "id": "eaAMxEeQ0cxY",
    "outputId": "3dd73a76-2319-41b4-bb12-f80f0e983eac"
   },
   "outputs": [
    {
     "name": "stdout",
     "output_type": "stream",
     "text": [
      "到最後我覺得，乾脆屈服熬過去，至少到下次再發生前我能得到點平靜。\n",
      "ㄉㄠˋㄗㄨㄟˋㄏㄡˋㄨㄛˇㄐㄩㄝˊㄉㄜ˙，ㄍㄢㄘㄨㄟˋㄑㄩㄈㄨˊㄠˊㄍㄨㄛˋㄑㄩˋ，ㄓˋㄕㄠˇㄉㄠˋㄒㄧㄚˋㄘˋㄗㄞˋㄈㄚㄕㄥㄑㄧㄢˊㄨㄛˇㄋㄥˊㄉㄜ˙ㄉㄠˋㄉㄧㄢˇㄆㄧㄥˊㄐㄧㄥˋ。\n",
      "tensor([[  101, 21212, 21314, 21222, 21160, 21298, 21178,  8024, 21847, 21669,\n",
      "         21683, 21566, 22097, 21245, 21282,  8024, 21248, 21326, 21212, 21250,\n",
      "         21176, 21159, 21463, 21158, 21164, 21160, 21293, 21178, 21212, 21330,\n",
      "         21347, 21360,   511,   102]], device='cuda:0')\n",
      "ㄉㄠˋ ㄗㄨㄟˋ ㄏㄡˋ ㄨㄛˇ ㄐㄩㄝˊ ㄉㄜ˙ ， ㄍㄢ ㄘㄨㄟˋ ㄑㄩ ㄈㄨˊ ㄠˊ ㄍㄨㄛˋ ㄑㄩˋ ， ㄓˋ ㄕㄠˇ ㄉㄠˋ ㄒㄧㄚˋ ㄘˋ ㄗㄞˋ ㄈㄚ ㄕㄥ ㄑㄧㄢˊ ㄨㄛˇ ㄋㄥˊ ㄉㄜ˙ ㄉㄠˋ ㄉㄧㄢˇ ㄆㄧㄥˊ ㄐㄧㄥˋ 。\n",
      "tensor([[[ 0.6418,  0.2803, -0.6519,  ..., -0.0880,  0.3156,  0.0912],\n",
      "         [ 0.1583,  0.7188, -0.5311,  ...,  0.6539,  0.5927, -0.4165],\n",
      "         [ 0.4785,  0.4971, -0.8335,  ...,  1.1260,  0.9367, -0.4509],\n",
      "         ...,\n",
      "         [-0.1669, -0.0682, -1.1579,  ...,  0.9067,  0.4017, -0.5816],\n",
      "         [ 0.3379,  0.3454,  0.3881,  ...,  0.5396, -0.3149,  0.3823],\n",
      "         [ 0.6418,  0.2803, -0.6519,  ..., -0.0880,  0.3156,  0.0912]]],\n",
      "       device='cuda:0')\n"
     ]
    }
   ],
   "source": [
    "# 输入文本\n",
    "print(TEST_ZSENT[923])\n",
    "text = TEST_ZYSENT[923]\n",
    "print(text)\n",
    "# 使用 mBERT 分词器对文本进行编码\n",
    "inputs = zh_tokenizer(text, return_tensors='pt', padding=True, truncation=True).to(device)\n",
    "print(inputs['input_ids'])\n",
    "print(zh_tokenizer.decode(inputs['input_ids'][0], skip_special_tokens=True))\n",
    "\n",
    "# 将输入传递给 mBERT 模型以获取输出\n",
    "with torch.no_grad():\n",
    "    outputs = zh_bert_model(**inputs)\n",
    "\n",
    "# 提取嵌入\n",
    "embeddings = outputs.last_hidden_state\n",
    "\n",
    "print(embeddings)"
   ]
  },
  {
   "cell_type": "markdown",
   "metadata": {
    "id": "Zb2zO0JdJE9T"
   },
   "source": [
    "## Build Dataset Function"
   ]
  },
  {
   "cell_type": "code",
   "execution_count": null,
   "metadata": {
    "id": "MbMhr_ytXkPR"
   },
   "outputs": [],
   "source": [
    "'''# 假設您有一個平行語料庫，這是您的資料集\n",
    "class TranslationDataset(Dataset):\n",
    "    def __init__(self, source_sentences, target_sentences, hanja_sentences, bpmf_sentences):\n",
    "        self.source_sentences = source_sentences\n",
    "        self.target_sentences = target_sentences\n",
    "        self.bpmf_sentences = bpmf_sentences\n",
    "        self.hanja_sentences = hanja_sentences\n",
    "        self.length = len(source_sentences)\n",
    "\n",
    "    def __len__(self):\n",
    "        return self.length\n",
    "\n",
    "    def __getitem__(self, index):\n",
    "        source = self.source_sentences[index]\n",
    "        target = self.target_sentences[index]\n",
    "        bpmf = self.bpmf_sentences[index]\n",
    "        hanja = self.hanja_sentences[index]\n",
    "        #print(index)\n",
    "        return source, target, bpmf, hanja'''\n"
   ]
  },
  {
   "cell_type": "code",
   "execution_count": 25,
   "metadata": {
    "executionInfo": {
     "elapsed": 2,
     "status": "ok",
     "timestamp": 1716842803493,
     "user": {
      "displayName": "青山",
      "userId": "00589995879243750991"
     },
     "user_tz": -480
    },
    "id": "I1beEnVUlqD7"
   },
   "outputs": [],
   "source": [
    "# 假設您有一個平行語料庫，這是您的資料集\n",
    "class TranslationDataset(Dataset):\n",
    "    def __init__(self, source_sentences, target_sentences, hanja_sentences):\n",
    "        self.source_sentences = source_sentences\n",
    "        self.target_sentences = target_sentences\n",
    "        self.hanja_sentences = hanja_sentences\n",
    "        self.length = len(source_sentences)\n",
    "\n",
    "    def __len__(self):\n",
    "        return self.length\n",
    "\n",
    "    def __getitem__(self, index):\n",
    "        source = self.source_sentences[index]\n",
    "        target = self.target_sentences[index]\n",
    "        hanja = self.hanja_sentences[index]\n",
    "\n",
    "        source_token = my_tokenizer(source, padding='max_length', truncation=True, return_tensors='pt', max_length=max_length)\n",
    "        target_token = tgt_tokenizer(target, padding='max_length', truncation=True, return_tensors='pt', max_length=max_length)\n",
    "        hanja_token = my_tokenizer(hanja, padding='max_length', truncation=True, return_tensors='pt', max_length=max_length)\n",
    "\n",
    "\n",
    "\n",
    "        #print(index)\n",
    "        return source, target, hanja, source_token, target_token, hanja_token\n"
   ]
  },
  {
   "cell_type": "markdown",
   "metadata": {
    "id": "GGVsQ3zAJE9U"
   },
   "source": [
    "### Data Loader"
   ]
  },
  {
   "cell_type": "code",
   "execution_count": 26,
   "metadata": {
    "executionInfo": {
     "elapsed": 2,
     "status": "ok",
     "timestamp": 1716842805381,
     "user": {
      "displayName": "青山",
      "userId": "00589995879243750991"
     },
     "user_tz": -480
    },
    "id": "3H9KG4_lXpgg"
   },
   "outputs": [],
   "source": [
    "# 載入資料集\n",
    "train_source_sentences = TRAIN_ZSENT  # 中文句子\n",
    "train_target_sentences = TRAIN_KSENT  # 韓文句子\n",
    "dataset = TranslationDataset(train_source_sentences, train_target_sentences, TRAIN_HSENT)\n",
    "#dataset = TranslationDataset(train_source_sentences, train_target_sentences, TRAIN_ZYSENT, TRAIN_HSENT)\n",
    "dataloader = DataLoader(dataset, batch_size=batch_size, shuffle=True)\n"
   ]
  },
  {
   "cell_type": "code",
   "execution_count": 27,
   "metadata": {
    "executionInfo": {
     "elapsed": 2,
     "status": "ok",
     "timestamp": 1716842805696,
     "user": {
      "displayName": "青山",
      "userId": "00589995879243750991"
     },
     "user_tz": -480
    },
    "id": "3YKuaojTXr37"
   },
   "outputs": [],
   "source": [
    "test_source_sentences = TEST_ZSENT  # 中文句子\n",
    "test_target_sentences = TEST_KSENT  # 韓文句子\n",
    "test_dataset = TranslationDataset(test_source_sentences, test_target_sentences, TEST_HSENT)\n",
    "#test_dataset = TranslationDataset(test_source_sentences, test_target_sentences, TEST_ZYSENT, TEST_HSENT)\n",
    "test_dataloader = DataLoader(test_dataset, batch_size=batch_size, shuffle=True)"
   ]
  },
  {
   "cell_type": "code",
   "execution_count": 28,
   "metadata": {
    "executionInfo": {
     "elapsed": 2,
     "status": "ok",
     "timestamp": 1716842806009,
     "user": {
      "displayName": "青山",
      "userId": "00589995879243750991"
     },
     "user_tz": -480
    },
    "id": "uS9glUQPq8ZF"
   },
   "outputs": [],
   "source": [
    "def get_pad_sequence(tokens,type_str):\n",
    "    batch = [example[0] for example in tokens[type_str]]\n",
    "    return  nn.utils.rnn.pad_sequence(batch, padding_value=pad_index)"
   ]
  },
  {
   "cell_type": "code",
   "execution_count": 29,
   "metadata": {
    "colab": {
     "base_uri": "https://localhost:8080/"
    },
    "executionInfo": {
     "elapsed": 102804,
     "status": "ok",
     "timestamp": 1716842909140,
     "user": {
      "displayName": "青山",
      "userId": "00589995879243750991"
     },
     "user_tz": -480
    },
    "id": "jtGKPrM2N_u-",
    "outputId": "799a05a2-b2a7-4b7f-8e15-e906bed108af"
   },
   "outputs": [
    {
     "name": "stdout",
     "output_type": "stream",
     "text": [
      "0 m 40.49036431312561 s\n"
     ]
    }
   ],
   "source": [
    "start = time.time()\n",
    "for batch in dataloader:\n",
    "  #try:\n",
    "        source, target, hanja, source_token, target_token, hanja_token  = batch\n",
    "        #source_batch, target_batch , bpmf_batch , hanja_batch = batch\n",
    "        #batch_src_ids = [example[0] for example in source_tokens['input_ids'] ]\n",
    "        #batch_tgt_ids = [example[0] for example in target_tokens['input_ids']]\n",
    "\n",
    "        #batch_src_ids = nn.utils.rnn.pad_sequence(batch_src_ids, padding_value=pad_index)\n",
    "        #batch_tgt_ids = nn.utils.rnn.pad_sequence(batch_tgt_ids, padding_value=pad_index)\n",
    "\n",
    "        #batch_src_attentions = [example[0] for example in source_tokens['attention_mask'] ]\n",
    "        #batch_tgt_attentions = [example[0] for example in target_tokens['attention_mask']]\n",
    "\n",
    "        #batch_src_attentions = nn.utils.rnn.pad_sequence(batch_src_attentions, padding_value=pad_index)\n",
    "        #batch_tgt_attentions = nn.utils.rnn.pad_sequence(batch_tgt_attentions, padding_value=pad_index)\n",
    "        '''\n",
    "        batch_src_ids = get_pad_sequence(source_tokens,type_str='input_ids')\n",
    "        batch_tgt_ids = get_pad_sequence(target_tokens,type_str='input_ids')\n",
    "        batch_src_attentions = get_pad_sequence(source_tokens,type_str='attention_mask')\n",
    "        batch_tgt_attentions = get_pad_sequence(target_tokens,type_str='attention_mask')\n",
    "        '''\n",
    "        #print('batch_src_ids',batch_src_ids)\n",
    "        #print('batch_tgt_ids',batch_tgt_ids)\n",
    "        #print('batch_src_attentions', batch_src_attentions)\n",
    "        #print('batch_tgt_attentions', batch_tgt_attentions)\n",
    "        #break\n",
    "  #except:\n",
    "  #      print('ERROR')\n",
    "  #      break\n",
    "end = time.time()\n",
    "print(int((end-start)/60),'m',(end-start)%60,'s')"
   ]
  },
  {
   "cell_type": "code",
   "execution_count": 30,
   "metadata": {
    "colab": {
     "base_uri": "https://localhost:8080/"
    },
    "executionInfo": {
     "elapsed": 26008,
     "status": "ok",
     "timestamp": 1716842935147,
     "user": {
      "displayName": "青山",
      "userId": "00589995879243750991"
     },
     "user_tz": -480
    },
    "id": "uzfwsZmhR18j",
    "outputId": "14788079-cb85-4318-b029-02122e0fdc8c"
   },
   "outputs": [
    {
     "name": "stdout",
     "output_type": "stream",
     "text": [
      "0 m 10.006572008132935 s\n"
     ]
    }
   ],
   "source": [
    "start = time.time()\n",
    "for batch in test_dataloader:\n",
    "  #try:\n",
    "        source, target, hanja, source_token, target_token, hanja_token  = batch\n",
    "        #source_batch, target_batch , bpmf_batch , hanja_batch = batch\n",
    "        #batch_src_ids = [example[0] for example in source_tokens['input_ids'] ]\n",
    "        #batch_tgt_ids = [example[0] for example in target_tokens['input_ids']]\n",
    "\n",
    "        #batch_src_ids = nn.utils.rnn.pad_sequence(batch_src_ids, padding_value=pad_index)\n",
    "        #batch_tgt_ids = nn.utils.rnn.pad_sequence(batch_tgt_ids, padding_value=pad_index)\n",
    "\n",
    "        #batch_src_attentions = [example[0] for example in source_tokens['attention_mask'] ]\n",
    "        #batch_tgt_attentions = [example[0] for example in target_tokens['attention_mask']]\n",
    "\n",
    "        #batch_src_attentions = nn.utils.rnn.pad_sequence(batch_src_attentions, padding_value=pad_index)\n",
    "        #batch_tgt_attentions = nn.utils.rnn.pad_sequence(batch_tgt_attentions, padding_value=pad_index)\n",
    "        '''\n",
    "        batch_src_ids = get_pad_sequence(source_tokens,type_str='input_ids')\n",
    "        batch_tgt_ids = get_pad_sequence(target_tokens,type_str='input_ids')\n",
    "        batch_src_attentions = get_pad_sequence(source_tokens,type_str='attention_mask')\n",
    "        batch_tgt_attentions = get_pad_sequence(target_tokens,type_str='attention_mask')\n",
    "        '''\n",
    "        #print('batch_src_ids',batch_src_ids)\n",
    "        #print('batch_tgt_ids',batch_tgt_ids)\n",
    "        #print('batch_src_attentions', batch_src_attentions)\n",
    "        #print('batch_tgt_attentions', batch_tgt_attentions)\n",
    "        #break\n",
    "  #except:\n",
    "  #      print('ERROR')\n",
    "  #      break\n",
    "end = time.time()\n",
    "print(int((end-start)/60),'m',(end-start)%60,'s')"
   ]
  },
  {
   "cell_type": "markdown",
   "metadata": {
    "id": "Sm6_jekZJE9T"
   },
   "source": [
    "## Build Model"
   ]
  },
  {
   "cell_type": "markdown",
   "metadata": {
    "id": "NenowgeQALAK"
   },
   "source": [
    "### Set transformer parameter"
   ]
  },
  {
   "cell_type": "code",
   "execution_count": 31,
   "metadata": {
    "executionInfo": {
     "elapsed": 17,
     "status": "ok",
     "timestamp": 1716842935147,
     "user": {
      "displayName": "青山",
      "userId": "00589995879243750991"
     },
     "user_tz": -480
    },
    "id": "6_GdpnHkAKf9"
   },
   "outputs": [],
   "source": [
    "src_vocab_size = len(my_tokenizer)\n",
    "tgt_vocab_size = len(tgt_tokenizer)\n",
    "embed_size = 768\n",
    "ffn_hid_dim = 256\n",
    "num_heads = 8\n",
    "num_layers = 6\n",
    "\n",
    "num_encoder_layers = 3\n",
    "num_decoder_layers = 3\n",
    "\n",
    "pad_index = 0\n",
    "mask_index = 103\n",
    "sep_index = 102\n",
    "cls_index = 101\n",
    "unk_index = 100"
   ]
  },
  {
   "cell_type": "code",
   "execution_count": null,
   "metadata": {
    "colab": {
     "base_uri": "https://localhost:8080/"
    },
    "executionInfo": {
     "elapsed": 5737,
     "status": "ok",
     "timestamp": 1716632824707,
     "user": {
      "displayName": "空海",
      "userId": "08068718315358455095"
     },
     "user_tz": -480
    },
    "id": "sLqU8jDKRdro",
    "outputId": "55c06cfe-041e-473a-add8-2551b046b7d4"
   },
   "outputs": [
    {
     "name": "stdout",
     "output_type": "stream",
     "text": [
      "[101, 101, 102] [CLS] [CLS] [SEP]\n",
      "[101, 103, 102] [CLS] [MASK] [SEP]\n",
      "[101, 0, 102] [CLS] [PAD] [SEP]\n",
      "[101, 102, 102] [CLS] [SEP] [SEP]\n",
      "[101, 100, 102] [CLS] [UNK] [SEP]\n"
     ]
    }
   ],
   "source": [
    "special_tokens = ['[CLS]','[MASK]','[PAD]','[SEP]','[UNK]']\n",
    "for ids in my_tokenizer(special_tokens)['input_ids']:\n",
    "  print(ids , my_tokenizer.decode(ids))"
   ]
  },
  {
   "cell_type": "markdown",
   "metadata": {
    "id": "ELC5MJCTJE9U"
   },
   "source": [
    "### Initialize Model"
   ]
  },
  {
   "cell_type": "code",
   "execution_count": null,
   "metadata": {
    "id": "dz0cgfi4nleK",
    "outputId": "78ec0464-c3bb-4030-c2f7-db2e32f4ac20"
   },
   "outputs": [
    {
     "data": {
      "text/plain": [
       "\"class TranslationModel(nn.Module):\\n    def __init__(self, bert_model, vocab_size, embed_size, num_heads, num_layers, max_length):\\n        super(TranslationModel, self).__init__()\\n        self.embedding = bert_model\\n        self.position_embedding = nn.Embedding(max_length, embed_size)\\n        self.transformer = nn.Transformer(\\n            d_model=embed_size,\\n            nhead=num_heads,\\n            num_encoder_layers=num_layers,\\n            num_decoder_layers=num_layers\\n        )\\n        self.fc = nn.Linear(embed_size, vocab_size)\\n\\n    def forward(self, src, tgt, attention_mask, src_mask=None, tgt_mask=None, memory_mask=None):\\n    #def forward(self, src, tgt, src_mask=None, tgt_mask=None, memory_mask=None, attention_mask, hanja_ids, hanja_attention_mask, bpmf_ids, bpmf_attention_mask):\\n        src_seq_length = src.size(0)\\n        tgt_seq_length = tgt.size(0)\\n        print('src_seq_length:',src_seq_length)\\n\\n        src_pos = torch.arange(0, src_seq_length).unsqueeze(1).to(device)\\n        tgt_pos = torch.arange(0, tgt_seq_length).unsqueeze(1).to(device)\\n\\n        src = self.embedding(src).last_hidden_state + self.position_embedding(src_pos)\\n        tgt = self.embedding(tgt).last_hidden_state + self.position_embedding(tgt_pos)\\n\\n        memory = self.transformer.encoder(src, src_key_padding_mask=src_mask)\\n        out = self.transformer.decoder(tgt, memory, tgt_key_padding_mask=tgt_mask, memory_key_padding_mask=memory_mask)\\n        out = self.fc(out)\\n\\n        return out\""
      ]
     },
     "execution_count": 28,
     "metadata": {},
     "output_type": "execute_result"
    }
   ],
   "source": [
    "'''class TranslationModel(nn.Module):\n",
    "    def __init__(self, bert_model, vocab_size, embed_size, num_heads, num_layers, max_length):\n",
    "        super(TranslationModel, self).__init__()\n",
    "        self.embedding = bert_model\n",
    "        self.position_embedding = nn.Embedding(max_length, embed_size)\n",
    "        self.transformer = nn.Transformer(\n",
    "            d_model=embed_size,\n",
    "            nhead=num_heads,\n",
    "            num_encoder_layers=num_layers,\n",
    "            num_decoder_layers=num_layers\n",
    "        )\n",
    "        self.fc = nn.Linear(embed_size, vocab_size)\n",
    "\n",
    "    def forward(self, src, tgt, attention_mask, src_mask=None, tgt_mask=None, memory_mask=None):\n",
    "    #def forward(self, src, tgt, src_mask=None, tgt_mask=None, memory_mask=None, attention_mask, hanja_ids, hanja_attention_mask, bpmf_ids, bpmf_attention_mask):\n",
    "        src_seq_length = src.size(0)\n",
    "        tgt_seq_length = tgt.size(0)\n",
    "        print('src_seq_length:',src_seq_length)\n",
    "\n",
    "        src_pos = torch.arange(0, src_seq_length).unsqueeze(1).to(device)\n",
    "        tgt_pos = torch.arange(0, tgt_seq_length).unsqueeze(1).to(device)\n",
    "\n",
    "        src = self.embedding(src).last_hidden_state + self.position_embedding(src_pos)\n",
    "        tgt = self.embedding(tgt).last_hidden_state + self.position_embedding(tgt_pos)\n",
    "\n",
    "        memory = self.transformer.encoder(src, src_key_padding_mask=src_mask)\n",
    "        out = self.transformer.decoder(tgt, memory, tgt_key_padding_mask=tgt_mask, memory_key_padding_mask=memory_mask)\n",
    "        out = self.fc(out)\n",
    "\n",
    "        return out'''"
   ]
  },
  {
   "cell_type": "code",
   "execution_count": 70,
   "metadata": {
    "executionInfo": {
     "elapsed": 16,
     "status": "ok",
     "timestamp": 1716842935147,
     "user": {
      "displayName": "青山",
      "userId": "00589995879243750991"
     },
     "user_tz": -480
    },
    "id": "7xYwousdHSIu"
   },
   "outputs": [],
   "source": [
    "# helper Module that adds positional encoding to the token embedding to introduce a notion of word order.\n",
    "class PositionalEncoding(nn.Module):\n",
    "    def __init__(self,\n",
    "                 emb_size: int,\n",
    "                 dropout: float,\n",
    "                 maxlen: int = 5000):\n",
    "        super(PositionalEncoding, self).__init__()\n",
    "        den = torch.exp(- torch.arange(0, emb_size, 2)* math.log(10000) / emb_size)\n",
    "        pos = torch.arange(0, maxlen).reshape(maxlen, 1)\n",
    "        pos_embedding = torch.zeros((maxlen, emb_size))\n",
    "        pos_embedding[:, 0::2] = torch.sin(pos * den)\n",
    "        pos_embedding[:, 1::2] = torch.cos(pos * den)\n",
    "        pos_embedding = pos_embedding.unsqueeze(-2)\n",
    "\n",
    "        self.dropout = nn.Dropout(dropout)\n",
    "        self.register_buffer('pos_embedding', pos_embedding)\n",
    "\n",
    "    def forward(self, token_embedding: Tensor):\n",
    "        return self.dropout(token_embedding + self.pos_embedding[:token_embedding.size(0), :])\n",
    "\n",
    "# helper Module to convert tensor of input indices into corresponding tensor of token embeddings\n",
    "class TokenEmbedding(nn.Module):\n",
    "    def __init__(self, bert_model, src_vocab_size: int = src_vocab_size, tgt_vocab_size: int = tgt_vocab_size, emb_size = embed_size, dropout_prob = 0.1):\n",
    "        super(TokenEmbedding, self).__init__()\n",
    "        #self.embedding = bert_model\n",
    "        self.emb_size = emb_size\n",
    "        self.dropout = nn.Dropout(dropout_prob)\n",
    "\n",
    "    def forward(self, input_ids, attention_mask):\n",
    "        #print('embedding size:',self.embedding(input_ids=input_ids, attention_mask=attention_mask).last_hidden_state.size())\n",
    "        embed = my_model(input_ids=input_ids, attention_mask=attention_mask).last_hidden_state\n",
    "        #output = embed * math.sqrt(self.emb_size)\n",
    "        output = self.dropout(embed)\n",
    "        return output\n",
    "\n",
    "# Seq2Seq Network\n",
    "class Seq2SeqTransformer(nn.Module):\n",
    "    def __init__(self,\n",
    "                 bert_model,\n",
    "                 num_encoder_layers: int,\n",
    "                 num_decoder_layers: int,\n",
    "                 emb_size: int,\n",
    "                 nhead: int,\n",
    "                 src_vocab_size: int,\n",
    "                 tgt_vocab_size: int,\n",
    "                 dim_feedforward: int = 512,\n",
    "                 dropout: float = 0.1):\n",
    "        super(Seq2SeqTransformer, self).__init__()\n",
    "        self.transformer = Transformer(d_model=emb_size,\n",
    "                                       nhead=nhead,\n",
    "                                       num_encoder_layers=num_encoder_layers,\n",
    "                                       num_decoder_layers=num_decoder_layers,\n",
    "                                       dim_feedforward=dim_feedforward,\n",
    "                                       dropout=dropout)\n",
    "        self.generator = nn.Linear(emb_size, tgt_vocab_size)\n",
    "        self.src_tok_emb = TokenEmbedding(bert_model)\n",
    "        self.tgt_tok_emb = TokenEmbedding(bert_model)\n",
    "        self.hanja_tok_emb = TokenEmbedding(bert_model)\n",
    "        self.positional_encoding = PositionalEncoding(emb_size, dropout=dropout)\n",
    "        self.dropout = nn.Dropout(dropout)\n",
    "\n",
    "    def forward(self,\n",
    "                src_input_ids, src_attention_mask,\n",
    "                tgt_input_ids, tgt_attention_mask,\n",
    "                hanja_input_ids, hanja_attention_mask,\n",
    "                src_mask: Tensor,\n",
    "                tgt_mask: Tensor,\n",
    "                src_padding_mask: Tensor,\n",
    "                tgt_padding_mask: Tensor,\n",
    "                memory_key_padding_mask: Tensor=None):\n",
    "        #src_emb = self.positional_encoding(self.src_tok_emb(src_input_ids, src_attention_mask))\n",
    "        src_emb = self.src_tok_emb(src_input_ids, src_attention_mask)\n",
    "        src_emb = src_emb.permute(1,0,2)#.contiguous()\n",
    "        #print('src_emb (no_positional):',src_emb)\n",
    "\n",
    "        src_emb = self.positional_encoding(src_emb)\n",
    "        #print('src_emb (after_positional):',src_emb)\n",
    "        #tgt_emb = self.positional_encoding(self.tgt_tok_emb(tgt_input_ids, tgt_attention_mask))\n",
    "        tgt_emb = self.tgt_tok_emb(tgt_input_ids, tgt_attention_mask)\n",
    "        tgt_emb = tgt_emb.permute(1,0,2)#.contiguous()\n",
    "        #print('tgt_emb (no_positional):',tgt_emb)\n",
    "        tgt_emb = self.positional_encoding(tgt_emb)\n",
    "        #print('tgt_emb (after_positional):',tgt_emb)\n",
    "\n",
    "\n",
    "        hanja_emb = self.tgt_tok_emb(hanja_input_ids, hanja_attention_mask)\n",
    "        hanja_emb = hanja_emb.permute(1,0,2)#.contiguous()\n",
    "        #print('tgt_emb (no_positional):',tgt_emb)\n",
    "        hanja_emb = self.positional_encoding(hanja_emb)\n",
    "\n",
    "        joint_emb = self.dropout(src_emb * 0.5 + hanja_emb * 0.5)\n",
    "\n",
    "        #src_mask = src_mask.permute(1,0)\n",
    "        #tgt_mask = tgt_mask.permute(1,0)\n",
    "        #src_padding_mask = src_padding_mask.permute(1,0)\n",
    "        #tgt_padding_mask = tgt_padding_mask.permute(1,0)\n",
    "        #print('src_mask = ',src_mask)\n",
    "        #print('tgt_mask = ',tgt_mask)\n",
    "        #print('src_padding_mask = ',src_padding_mask)\n",
    "        #print('tgt_padding_mask = ',tgt_padding_mask)\n",
    "\n",
    "        outs = self.transformer(joint_emb, tgt_emb, src_mask, tgt_mask, None,\n",
    "                                src_padding_mask, tgt_padding_mask, memory_key_padding_mask)\n",
    "        #print('outs (in model):',outs)\n",
    "        return self.generator(outs)\n",
    "\n",
    "    def encode(self, src_input_ids, src_attention_mask, src_mask: Tensor):\n",
    "        #return self.transformer.encoder(self.positional_encoding(self.src_tok_emb(src_input_ids, src_attention_mask)), src_mask)\n",
    "        src_emb = self.src_tok_emb(src_input_ids, src_attention_mask).permute(1,0,2)#.contiguous()\n",
    "        #print('encode size:',src_emb.size())\n",
    "        return self.transformer.encoder(self.positional_encoding(src_emb), src_mask.permute(1,0))\n",
    "\n",
    "    def decode(self, tgt_input_ids, tgt_attention_mask, memory: Tensor, tgt_mask: Tensor):\n",
    "        tgt_emb = self.tgt_tok_emb(tgt_input_ids, tgt_attention_mask).permute(1,0,2)#.contiguous()\n",
    "        #print('decode_size:',tgt_emb.size())\n",
    "        #print('memory_size',memory.size())\n",
    "        return self.transformer.decoder(self.positional_encoding(tgt_emb), memory,tgt_mask)#.permute(1,0))\n",
    "        #return self.transformer.decoder(self.positional_encoding(self.tgt_tok_emb(tgt_input_ids, tgt_attention_mask)), memory,tgt_mask)"
   ]
  },
  {
   "cell_type": "code",
   "execution_count": 71,
   "metadata": {
    "executionInfo": {
     "elapsed": 16,
     "status": "ok",
     "timestamp": 1716842935147,
     "user": {
      "displayName": "青山",
      "userId": "00589995879243750991"
     },
     "user_tz": -480
    },
    "id": "JpZez4cMHjBt"
   },
   "outputs": [],
   "source": [
    "def generate_square_subsequent_mask(sz):\n",
    "    mask = (torch.triu(torch.ones((sz, sz), device=device)) == 1).transpose(0, 1)\n",
    "    mask = mask.float().masked_fill(mask == 0, float('-inf')).masked_fill(mask == 1, float(0.0))\n",
    "    return mask\n",
    "\n",
    "\n",
    "def create_mask(src, tgt):\n",
    "    src = src.permute(1,0)\n",
    "    tgt = tgt.permute(1,0)\n",
    "    #print('src',src.size())\n",
    "    #print('tgt',tgt.size())\n",
    "    try:\n",
    "        src_seq_len = src.shape[0]\n",
    "        tgt_seq_len = tgt.shape[0]\n",
    "    except:\n",
    "        src_seq_len = max_length\n",
    "        tgt_seq_len = max_length\n",
    "\n",
    "\n",
    "    tgt_mask = generate_square_subsequent_mask(tgt_seq_len)\n",
    "    src_mask = torch.zeros((src_seq_len, src_seq_len),device=device).type(torch.bool)\n",
    "\n",
    "    src_padding_mask = (src == pad_index).transpose(0, 1)\n",
    "    tgt_padding_mask = (tgt == pad_index).transpose(0, 1)\n",
    "    #print('src_padding_mask',src_padding_mask.size())\n",
    "    #print('tgt_padding_mask',tgt_padding_mask.size())\n",
    "    return src_mask, tgt_mask, src_padding_mask, tgt_padding_mask"
   ]
  },
  {
   "cell_type": "code",
   "execution_count": 72,
   "metadata": {
    "colab": {
     "base_uri": "https://localhost:8080/"
    },
    "executionInfo": {
     "elapsed": 1238,
     "status": "ok",
     "timestamp": 1716842936370,
     "user": {
      "displayName": "青山",
      "userId": "00589995879243750991"
     },
     "user_tz": -480
    },
    "id": "IQ2ThiuwHqXm",
    "outputId": "f929a3d7-2566-47bf-b7f2-51d69f135212"
   },
   "outputs": [
    {
     "name": "stderr",
     "output_type": "stream",
     "text": [
      "/home/jiazhen/.local/lib/python3.8/site-packages/torch/nn/modules/transformer.py:286: UserWarning: enable_nested_tensor is True, but self.use_nested_tensor is False because encoder_layer.self_attn.batch_first was not True(use batch_first for better inference performance)\n",
      "  warnings.warn(f\"enable_nested_tensor is True, but self.use_nested_tensor is False because {why_not_sparsity_fast_path}\")\n"
     ]
    }
   ],
   "source": [
    "torch.manual_seed(0)\n",
    "\n",
    "transformer = Seq2SeqTransformer(my_model, num_encoder_layers, num_decoder_layers, embed_size,\n",
    "                                 num_heads, src_vocab_size, tgt_vocab_size, ffn_hid_dim)\n",
    "\n",
    "for p in transformer.parameters():\n",
    "    if p.dim() > 1:\n",
    "        nn.init.xavier_uniform_(p)\n",
    "\n",
    "model = transformer.to(device)\n",
    "\n",
    "criterion = torch.nn.CrossEntropyLoss(ignore_index=pad_index)\n",
    "\n",
    "optimizer = torch.optim.Adam(transformer.parameters(), lr=0.0001, betas=(0.9, 0.98), eps=1e-9)"
   ]
  },
  {
   "cell_type": "code",
   "execution_count": null,
   "metadata": {
    "id": "zMHdA6GxJE9T",
    "outputId": "e9217dbe-9ad5-4a30-c066-e807f3b19f77"
   },
   "outputs": [
    {
     "data": {
      "text/plain": [
       "'class TranslationModel(nn.Module):\\n    def __init__(self, bert_model, dropout_prob=0.1):\\n        super(TranslationModel, self).__init__()\\n        self.bert1 = bert_model\\n        #self.bert2 = bert_model\\n        self.bert3 = bert_model\\n        self.dropout1 = nn.Dropout(dropout_prob)\\n        #self.dropout2 = nn.Dropout(dropout_prob)\\n        self.dropout3 = nn.Dropout(dropout_prob)\\n        self.linear = nn.Linear(self.bert1.config.hidden_size, len(tgt_tokenizer))\\n\\n    def forward(self, input_ids, hanja_ids, attention_mask, hanja_attention_mask, bpmf_ids, bpmf_attention_mask):\\n        zh_outputs = self.bert1(input_ids=input_ids, attention_mask=attention_mask)\\n        #bpmf_outputs = self.bert2(input_ids=bpmf_ids, attention_mask=bpmf_attention_mask)\\n        hanja_outputs = self.bert3(input_ids=hanja_ids, attention_mask=hanja_attention_mask)\\n\\n        # Apply dropout\\n        zh_outputs = self.dropout1(zh_outputs.last_hidden_state)\\n        #bpmf_outputs = self.dropout2(bpmf_outputs.last_hidden_state)\\n        hanja_outputs = self.dropout3(hanja_outputs.last_hidden_state)\\n\\n        # Combine representations\\n        combined_outputs = 0.5 * zh_outputs + 0.5 * hanja_outputs # + 0.25 * bpmf_outputs\\n\\n        prediction_scores = self.linear(combined_outputs)\\n        return prediction_scores'"
      ]
     },
     "execution_count": 71,
     "metadata": {},
     "output_type": "execute_result"
    }
   ],
   "source": [
    "'''class TranslationModel(nn.Module):\n",
    "    def __init__(self, bert_model, dropout_prob=0.1):\n",
    "        super(TranslationModel, self).__init__()\n",
    "        self.bert1 = bert_model\n",
    "        #self.bert2 = bert_model\n",
    "        self.bert3 = bert_model\n",
    "        self.dropout1 = nn.Dropout(dropout_prob)\n",
    "        #self.dropout2 = nn.Dropout(dropout_prob)\n",
    "        self.dropout3 = nn.Dropout(dropout_prob)\n",
    "        self.linear = nn.Linear(self.bert1.config.hidden_size, len(tgt_tokenizer))\n",
    "\n",
    "    def forward(self, input_ids, hanja_ids, attention_mask, hanja_attention_mask, bpmf_ids, bpmf_attention_mask):\n",
    "        zh_outputs = self.bert1(input_ids=input_ids, attention_mask=attention_mask)\n",
    "        #bpmf_outputs = self.bert2(input_ids=bpmf_ids, attention_mask=bpmf_attention_mask)\n",
    "        hanja_outputs = self.bert3(input_ids=hanja_ids, attention_mask=hanja_attention_mask)\n",
    "\n",
    "        # Apply dropout\n",
    "        zh_outputs = self.dropout1(zh_outputs.last_hidden_state)\n",
    "        #bpmf_outputs = self.dropout2(bpmf_outputs.last_hidden_state)\n",
    "        hanja_outputs = self.dropout3(hanja_outputs.last_hidden_state)\n",
    "\n",
    "        # Combine representations\n",
    "        combined_outputs = 0.5 * zh_outputs + 0.5 * hanja_outputs # + 0.25 * bpmf_outputs\n",
    "\n",
    "        prediction_scores = self.linear(combined_outputs)\n",
    "        return prediction_scores'''\n"
   ]
  },
  {
   "cell_type": "code",
   "execution_count": null,
   "metadata": {
    "colab": {
     "base_uri": "https://localhost:8080/"
    },
    "executionInfo": {
     "elapsed": 2520,
     "status": "ok",
     "timestamp": 1716404923749,
     "user": {
      "displayName": "空海",
      "userId": "08068718315358455095"
     },
     "user_tz": -480
    },
    "id": "m1SBesmJXuch",
    "outputId": "2991ee29-5ea3-4a50-e256-f6911129a000"
   },
   "outputs": [
    {
     "data": {
      "text/plain": [
       "'# 初始化模型、損失函數和優化器\\nmodel = TranslationModel(my_model, vocab_size, embed_size, num_heads, num_layers, max_length).to(device)\\ncriterion = nn.CrossEntropyLoss()\\noptimizer = optim.Adam(model.parameters(), lr=learning_rate)'"
      ]
     },
     "execution_count": 38,
     "metadata": {},
     "output_type": "execute_result"
    }
   ],
   "source": [
    "'''# 初始化模型、損失函數和優化器\n",
    "model = TranslationModel(my_model, vocab_size, embed_size, num_heads, num_layers, max_length).to(device)\n",
    "criterion = nn.CrossEntropyLoss()\n",
    "optimizer = optim.Adam(model.parameters(), lr=learning_rate)'''"
   ]
  },
  {
   "cell_type": "code",
   "execution_count": null,
   "metadata": {
    "id": "elaXMMHpVltP",
    "outputId": "44770079-5b86-4281-af28-7a2295974cb7"
   },
   "outputs": [
    {
     "data": {
      "text/plain": [
       "<All keys matched successfully>"
      ]
     },
     "execution_count": 31,
     "metadata": {},
     "output_type": "execute_result"
    }
   ],
   "source": [
    "# 加載訓練好的模型\n",
    "#model = TranslationModel(model_mbert).to(device)\n",
    "model.load_state_dict(torch.load('{}/MODELS/best_translation_model({}).pth'.format(dir_path,model_name)))"
   ]
  },
  {
   "cell_type": "markdown",
   "metadata": {
    "id": "sOyyXyBJJE9U"
   },
   "source": [
    "### Train and Evaluate"
   ]
  },
  {
   "cell_type": "code",
   "execution_count": 35,
   "metadata": {
    "executionInfo": {
     "elapsed": 3,
     "status": "ok",
     "timestamp": 1716842936370,
     "user": {
      "displayName": "青山",
      "userId": "00589995879243750991"
     },
     "user_tz": -480
    },
    "id": "ocuLcuL6Wz1f"
   },
   "outputs": [],
   "source": [
    "def epoch_time(start_time, end_time):\n",
    "  elapsed_time = end_time - start_time\n",
    "  elapsed_mins = int(elapsed_time/60)\n",
    "  elapsed_secs = int(elapsed_time%60)\n",
    "  return elapsed_mins, elapsed_secs"
   ]
  },
  {
   "cell_type": "code",
   "execution_count": 49,
   "metadata": {
    "colab": {
     "base_uri": "https://localhost:8080/"
    },
    "executionInfo": {
     "elapsed": 5413,
     "status": "ok",
     "timestamp": 1716842941781,
     "user": {
      "displayName": "青山",
      "userId": "00589995879243750991"
     },
     "user_tz": -480
    },
    "id": "1ol6KlEOdYkY",
    "outputId": "8e26d93f-82ac-4b78-d829-38d5dc9b6b34"
   },
   "outputs": [
    {
     "name": "stdout",
     "output_type": "stream",
     "text": [
      "Requirement already satisfied: tqdm in /usr/local/lib/python3.10/dist-packages (4.66.4)\n"
     ]
    }
   ],
   "source": [
    "!pip install tqdm"
   ]
  },
  {
   "cell_type": "code",
   "execution_count": 36,
   "metadata": {
    "executionInfo": {
     "elapsed": 489,
     "status": "ok",
     "timestamp": 1716842942267,
     "user": {
      "displayName": "青山",
      "userId": "00589995879243750991"
     },
     "user_tz": -480
    },
    "id": "rYYDgn6coBWc"
   },
   "outputs": [],
   "source": [
    "from tqdm import tqdm"
   ]
  },
  {
   "cell_type": "code",
   "execution_count": 37,
   "metadata": {
    "executionInfo": {
     "elapsed": 6,
     "status": "ok",
     "timestamp": 1716842942267,
     "user": {
      "displayName": "青山",
      "userId": "00589995879243750991"
     },
     "user_tz": -480
    },
    "id": "Qe1AC6QZXGku"
   },
   "outputs": [],
   "source": [
    "def train(path):\n",
    "    global model, dataloader, optimizer, criterion, my_tokenizer, tgt_tokenizer\n",
    "    model.train()\n",
    "    total_loss = 0\n",
    "    counts = 0\n",
    "    with tqdm(total = len(dataloader)) as pbar:\n",
    "      for batch in dataloader:\n",
    "        source, target, hanja, source_tokens, target_tokens, hanja_tokens  = batch\n",
    "        #source_batch, target_batch , bpmf_batch , hanja_batch = batch\n",
    "\n",
    "        batch_src_ids = source_tokens.input_ids#.to(device)\n",
    "        batch_tgt_ids = target_tokens.input_ids#.to(device)\n",
    "        batch_hanja_ids = hanja_tokens.input_ids#.to(device)\n",
    "\n",
    "        batch_src_attentions = source_tokens.attention_mask#.to(device)\n",
    "        batch_tgt_attentions = target_tokens.attention_mask#.to(device)\n",
    "        batch_hanja_attentions = hanja_tokens.attention_mask#.to(device)\n",
    "        '''\n",
    "        batch_src_ids = get_pad_sequence(source_tokens,type_str='input_ids').to(device)\n",
    "        batch_tgt_ids = get_pad_sequence(target_tokens,type_str='input_ids').to(device)\n",
    "        batch_src_attentions = get_pad_sequence(source_tokens,type_str='attention_mask').to(device)\n",
    "        batch_tgt_attentions = get_pad_sequence(target_tokens,type_str='attention_mask').to(device)\n",
    "        '''\n",
    "        optimizer.zero_grad()\n",
    "\n",
    "        #tgt_input = batch_tgt_ids[:-1,:]\n",
    "        #tgt_input_attention_mask = batch_tgt_attentions[:-1,:]\n",
    "        #print('batch_src_ids',batch_src_ids.size())\n",
    "        #print('batch_tgt_ids',batch_tgt_ids.size())\n",
    "        src_input = torch.LongTensor([ids.cpu().numpy()[0][:max_length] for ids in batch_src_ids]).to(device)\n",
    "        tgt_input = torch.LongTensor([ids.cpu().numpy()[0][:max_length-1] for ids in batch_tgt_ids]).to(device)\n",
    "        hanja_input = torch.LongTensor([ids.cpu().numpy()[0][:max_length] for ids in batch_hanja_ids]).to(device)\n",
    "        src_input_attention_mask = torch.LongTensor([attn.cpu().numpy()[0][:max_length] for attn in batch_src_attentions]).to(device)\n",
    "        tgt_input_attention_mask = torch.LongTensor([attn.cpu().numpy()[0][:max_length-1] for attn in batch_tgt_attentions]).to(device)\n",
    "        hanja_input_attention_mask = torch.LongTensor([attn.cpu().numpy()[0][:max_length] for attn in batch_hanja_attentions]).to(device)\n",
    "        #print('src_input',src_input.size())\n",
    "        #print('tgt_input',tgt_input.size())\n",
    "        src_mask, tgt_mask, src_padding_mask, tgt_padding_mask = create_mask(src_input, tgt_input)\n",
    "        output = model(src_input_ids=src_input,\n",
    "                       tgt_input_ids=tgt_input,\n",
    "                       hanja_input_ids=hanja_input,\n",
    "                       src_attention_mask=src_input_attention_mask,\n",
    "                       tgt_attention_mask=tgt_input_attention_mask,\n",
    "                       hanja_attention_mask=hanja_input_attention_mask,\n",
    "                       src_mask=src_mask,\n",
    "                       tgt_mask=tgt_mask,\n",
    "                       src_padding_mask=src_padding_mask,\n",
    "                       tgt_padding_mask=tgt_padding_mask,\n",
    "                       memory_key_padding_mask=None\n",
    "                       )\n",
    "\n",
    "        #tgt_out = batch_tgt_ids[1:,:]\n",
    "        tgt_out = torch.LongTensor([ids.cpu().numpy()[0][1:] for ids in batch_tgt_ids]).to(device)\n",
    "        #print('output_',output.size())\n",
    "        #print('output',output)\n",
    "        #print('output.transpose(0,1)',output.transpose(0,1).size())\n",
    "        #print('output.reshape(-1,output.shape[-1])',output.reshape(-1,output.shape[-1]))\n",
    "        #print('tgt_out.reshape(-1)',tgt_out.reshape(-1))\n",
    "        #print('tgt_out',tgt_out.size())\n",
    "\n",
    "        #loss = criterion(output, tgt_out)\n",
    "        loss = criterion(output.transpose(0,1).reshape(-1,output.shape[-1]), tgt_out.reshape(-1))\n",
    "        loss.backward()\n",
    "\n",
    "        optimizer.step()\n",
    "\n",
    "        total_loss += loss.item()\n",
    "\n",
    "        counts += batch_size\n",
    "        loss_int = 0 + loss.item()\n",
    "        #if(counts%200 == 0):\n",
    "        #  wandb.log({\"Step_Train_loss\": loss.item()})\n",
    "        if(counts < 20):\n",
    "            print('loss',total_loss)\n",
    "        #break\n",
    "        pbar.update(1)\n",
    "    torch.save(model.state_dict(), path)\n",
    "\n",
    "    return total_loss/len(dataloader)"
   ]
  },
  {
   "cell_type": "code",
   "execution_count": 38,
   "metadata": {
    "executionInfo": {
     "elapsed": 5,
     "status": "ok",
     "timestamp": 1716842942267,
     "user": {
      "displayName": "青山",
      "userId": "00589995879243750991"
     },
     "user_tz": -480
    },
    "id": "-YtHhdmNXJFo"
   },
   "outputs": [],
   "source": [
    "def evaluate():\n",
    "  global model, test_dataloader, criterion, my_tokenizer, tgt_tokenizer\n",
    "  model.eval()\n",
    "  total_loss = 0\n",
    "  counts = 0\n",
    "  with torch.no_grad():\n",
    "    with tqdm(total = len(test_dataloader)) as pbar:\n",
    "      for batch in test_dataloader:\n",
    "        source, target, hanja, source_tokens, target_tokens, hanja_tokens  = batch\n",
    "        #source_batch, target_batch , bpmf_batch , hanja_batch = batch\n",
    "\n",
    "        batch_src_ids = source_tokens.input_ids#.to(device)\n",
    "        batch_tgt_ids = target_tokens.input_ids#.to(device)\n",
    "        batch_hanja_ids = hanja_tokens.input_ids#.to(device)\n",
    "        batch_src_attentions = source_tokens.attention_mask#.to(device)\n",
    "        batch_tgt_attentions = target_tokens.attention_mask#.to(device)\n",
    "        batch_hanja_attentions = hanja_tokens.attention_mask#.to(device)\n",
    "        '''\n",
    "        batch_src_ids = get_pad_sequence(source_tokens,type_str='input_ids').to(device)\n",
    "        batch_tgt_ids = get_pad_sequence(target_tokens,type_str='input_ids').to(device)\n",
    "        batch_src_attentions = get_pad_sequence(source_tokens,type_str='attention_mask').to(device)\n",
    "        batch_tgt_attentions = get_pad_sequence(target_tokens,type_str='attention_mask').to(device)\n",
    "        '''\n",
    "\n",
    "        src_input = torch.LongTensor([ids.cpu().numpy()[0][:max_length] for ids in batch_src_ids]).to(device)\n",
    "        tgt_input = torch.LongTensor([ids.cpu().numpy()[0][:max_length-1] for ids in batch_tgt_ids]).to(device)\n",
    "        hanja_input = torch.LongTensor([ids.cpu().numpy()[0][:max_length] for ids in batch_hanja_ids]).to(device)\n",
    "\n",
    "        src_input_attention_mask = torch.LongTensor([attn.cpu().numpy()[0][:max_length] for attn in batch_src_attentions]).to(device)\n",
    "        tgt_input_attention_mask = torch.LongTensor([attn.cpu().numpy()[0][:max_length-1] for attn in batch_tgt_attentions]).to(device)\n",
    "        hanja_input_attention_mask = torch.LongTensor([attn.cpu().numpy()[0][:max_length] for attn in batch_hanja_attentions]).to(device)\n",
    "        #print('tgt_input',tgt_input.size())\n",
    "        #print('tgt_input_attention_mask',tgt_input_attention_mask.size())\n",
    "        src_mask, tgt_mask, src_padding_mask, tgt_padding_mask = create_mask(src_input, tgt_input)\n",
    "        output = model(src_input_ids=src_input,\n",
    "                       tgt_input_ids=tgt_input,\n",
    "                       hanja_input_ids=hanja_input,\n",
    "                       src_attention_mask=src_input_attention_mask,\n",
    "                       tgt_attention_mask=tgt_input_attention_mask,\n",
    "                       hanja_attention_mask=hanja_input_attention_mask,\n",
    "                       src_mask=src_mask,\n",
    "                       tgt_mask=tgt_mask,\n",
    "                       src_padding_mask=src_padding_mask,\n",
    "                       tgt_padding_mask=tgt_padding_mask,\n",
    "                       memory_key_padding_mask=None\n",
    "                       )\n",
    "\n",
    "        tgt_out = torch.LongTensor([ids.cpu().numpy()[0][1:] for ids in batch_tgt_ids]).to(device)\n",
    "        #tgt_out = batch_tgt_ids[:, 1:]\n",
    "        #print('tgt_out',tgt_out.size())\n",
    "        #print('output',output.size())\n",
    "        loss = criterion(output.transpose(0,1).reshape(-1, output.shape[-1]), tgt_out.reshape(-1))\n",
    "\n",
    "        total_loss += loss.item()\n",
    "\n",
    "        loss_int = 0 + loss.item()\n",
    "        counts += batch_size\n",
    "        #if(counts%200 == 0):\n",
    "        #  wandb.log({\"Step_Test_loss\": loss.item()})\n",
    "\n",
    "        pbar.update(1)\n",
    "\n",
    "  return total_loss/len(test_dataloader)"
   ]
  },
  {
   "cell_type": "code",
   "execution_count": 39,
   "metadata": {
    "executionInfo": {
     "elapsed": 5,
     "status": "ok",
     "timestamp": 1716842942267,
     "user": {
      "displayName": "青山",
      "userId": "00589995879243750991"
     },
     "user_tz": -480
    },
    "id": "sq9krtvnXM8c"
   },
   "outputs": [],
   "source": [
    "def loss_history(train_loss_values, test_loss_values, path='', to_show=False):\n",
    "  before_train_loss = []\n",
    "  before_test_loss = []\n",
    "  try:\n",
    "    df_loss = pd.read_csv('{}/MODELS/LOSS_HISTORY/loss_plot_{}.csv'.format(dir_path,path))\n",
    "    df_loss.to_dict(orient='dict')\n",
    "\n",
    "    try:\n",
    "      before_train_loss = list(df_loss['TRAIN_LOSS'].values())\n",
    "      before_test_loss = list(df_loss['TEST_LOSS'].values())\n",
    "    except:\n",
    "      before_train_loss = list(df_loss['TRAIN_LOSS'])\n",
    "      before_test_loss = list(df_loss['TEST_LOSS'])\n",
    "\n",
    "\n",
    "  except:\n",
    "    before_train_loss = []\n",
    "    before_test_loss = []\n",
    "\n",
    "  if(len(before_train_loss)>0):\n",
    "    train_loss_values = before_train_loss + train_loss_values\n",
    "    test_loss_values = before_test_loss + test_loss_values\n",
    "\n",
    "  # 假設您有每個 epoch 的索引\n",
    "  epochs = range(1, len(train_loss_values) + 1)\n",
    "  plt.clf()\n",
    "\n",
    "  # 繪製訓練損失和測試損失的折線圖\n",
    "  plt.plot(epochs, train_loss_values, 'b', label='Training loss')\n",
    "  plt.plot(epochs, test_loss_values, 'r', label='Test loss')\n",
    "  plt.title('Training and Test Loss')\n",
    "  plt.xlabel('Epochs')\n",
    "  plt.ylabel('Loss')\n",
    "  plt.legend()\n",
    "\n",
    "  # 儲存折線圖\n",
    "  plt.savefig('{}/MODELS/LOSS_HISTORY/loss_plot_{}.png'.format(dir_path,path))\n",
    "  if to_show:\n",
    "    plt.show()\n",
    "\n",
    "  df_loss = pd.DataFrame({'TRAIN_LOSS':train_loss_values,'TEST_LOSS':test_loss_values})\n",
    "  df_loss.to_csv('{}/MODELS/LOSS_HISTORY/loss_plot_{}.csv'.format(dir_path,path),index=False)"
   ]
  },
  {
   "cell_type": "code",
   "execution_count": 40,
   "metadata": {
    "executionInfo": {
     "elapsed": 5,
     "status": "ok",
     "timestamp": 1716842942267,
     "user": {
      "displayName": "青山",
      "userId": "00589995879243750991"
     },
     "user_tz": -480
    },
    "id": "bB31rAi_z0AT"
   },
   "outputs": [],
   "source": [
    "def bleu_history(bleu_score_values, path='', to_show=False):\n",
    "  before_bleu_score = []\n",
    "  try:\n",
    "    df_loss = pd.read_csv('{}/MODELS/LOSS_HISTORY/blue_plot_{}.csv'.format(dir_path,path))\n",
    "    df_loss.to_dict(orient='dict')\n",
    "\n",
    "    try:\n",
    "      before_bleu_score = list(df_loss['BLEU_SCORE'].values())\n",
    "    except:\n",
    "      before_bleu_score = list(df_loss['BLEU_SCORE'])\n",
    "\n",
    "\n",
    "  except:\n",
    "    before_bleu_score = []\n",
    "\n",
    "  if(len(before_bleu_score)>0):\n",
    "    bleu_score_values = before_bleu_score + bleu_score_values\n",
    "\n",
    "  # 假設您有每個 epoch 的索引\n",
    "  epochs = range(1, len(bleu_score_values) + 1)\n",
    "  plt.clf()\n",
    "\n",
    "  # 繪製訓練損失和測試損失的折線圖\n",
    "  plt.plot(epochs, bleu_score_values, 'b', label='BLEU score')\n",
    "  plt.title('BLEU SCORE')\n",
    "  plt.xlabel('Epochs')\n",
    "  plt.ylabel('Score')\n",
    "  plt.legend()\n",
    "\n",
    "  # 儲存折線圖\n",
    "  plt.savefig('{}/MODELS/LOSS_HISTORY/blue_plot_{}.png'.format(dir_path,path))\n",
    "  if to_show:\n",
    "    plt.show()\n",
    "\n",
    "  df_loss = pd.DataFrame({'BLEU_SCORE':bleu_score_values})\n",
    "  df_loss.to_csv('{}/MODELS/LOSS_HISTORY/blue_plot_{}.csv'.format(dir_path,path),index=False)"
   ]
  },
  {
   "cell_type": "code",
   "execution_count": 41,
   "metadata": {
    "executionInfo": {
     "elapsed": 4,
     "status": "ok",
     "timestamp": 1716842942267,
     "user": {
      "displayName": "青山",
      "userId": "00589995879243750991"
     },
     "user_tz": -480
    },
    "id": "GBwPiLJg75AY"
   },
   "outputs": [],
   "source": [
    "from nltk.translate.bleu_score import corpus_bleu\n",
    "from nltk.translate.bleu_score import SmoothingFunction\n",
    "\n",
    "def bleu_score():\n",
    "  global my_tokenizer, test_target_sentences, model, max_length, device\n",
    "  model.eval()\n",
    "  # 生成目標語句\n",
    "  generated_sentences = []\n",
    "  with tqdm(total = len(test_source_sentences)) as pbar:\n",
    "    for source_sentence in test_source_sentences:\n",
    "      source_tokens = my_tokenizer(source_sentence, padding=True, truncation=True, return_tensors='pt', max_length=max_length).to(device)\n",
    "      with torch.no_grad():\n",
    "        output = model(input_ids=source_tokens.input_ids, attention_mask=source_tokens.attention_mask)\n",
    "      generated_sentence = my_tokenizer.decode(output[0].argmax(dim=-1), skip_special_tokens=True)\n",
    "      generated_sentences.append(generated_sentence)\n",
    "      pbar.update(1)\n",
    "\n",
    "\n",
    "  # 計算 BLEU 分數\n",
    "  smoothie = SmoothingFunction().method4\n",
    "  bleu_score = corpus_bleu([[ref] for ref in test_target_sentences], generated_sentences, smoothing_function=smoothie)\n",
    "\n",
    "  #print(\"BLEU 分數:\", bleu_score)\n",
    "  return bleu_score"
   ]
  },
  {
   "cell_type": "code",
   "execution_count": 56,
   "metadata": {
    "colab": {
     "base_uri": "https://localhost:8080/"
    },
    "executionInfo": {
     "elapsed": 8214,
     "status": "ok",
     "timestamp": 1716842950477,
     "user": {
      "displayName": "青山",
      "userId": "00589995879243750991"
     },
     "user_tz": -480
    },
    "id": "fcwPgTFdKB-e",
    "outputId": "a2cd07c0-a1dd-4ae3-9deb-f777dcea0ffb"
   },
   "outputs": [
    {
     "name": "stdout",
     "output_type": "stream",
     "text": [
      "Requirement already satisfied: sacrebleu in /usr/local/lib/python3.10/dist-packages (2.4.2)\n",
      "Requirement already satisfied: portalocker in /usr/local/lib/python3.10/dist-packages (from sacrebleu) (2.8.2)\n",
      "Requirement already satisfied: regex in /usr/local/lib/python3.10/dist-packages (from sacrebleu) (2023.12.25)\n",
      "Requirement already satisfied: tabulate>=0.8.9 in /usr/local/lib/python3.10/dist-packages (from sacrebleu) (0.9.0)\n",
      "Requirement already satisfied: numpy>=1.17 in /usr/local/lib/python3.10/dist-packages (from sacrebleu) (1.25.2)\n",
      "Requirement already satisfied: colorama in /usr/local/lib/python3.10/dist-packages (from sacrebleu) (0.4.6)\n",
      "Requirement already satisfied: lxml in /usr/local/lib/python3.10/dist-packages (from sacrebleu) (4.9.4)\n"
     ]
    }
   ],
   "source": [
    "!pip install sacrebleu"
   ]
  },
  {
   "cell_type": "code",
   "execution_count": 101,
   "metadata": {
    "executionInfo": {
     "elapsed": 7,
     "status": "ok",
     "timestamp": 1716842950478,
     "user": {
      "displayName": "青山",
      "userId": "00589995879243750991"
     },
     "user_tz": -480
    },
    "id": "fTmcRlfHgx0F"
   },
   "outputs": [],
   "source": [
    "# function to generate output sequence using greedy algorithm\n",
    "def greedy_decode(model, src_input_ids, src_attention_mask, src_mask, max_len, start_symbol):\n",
    "    src_input_ids = src_input_ids.to(device)\n",
    "    src_attention_mask = src_attention_mask.to(device)\n",
    "    #print(src_input_ids.size(),src_attention_mask.size())\n",
    "    src_mask = src_mask.to(device)\n",
    "    memory = model.encode(src_input_ids, src_attention_mask, src_mask)\n",
    "    #print('memory',memory.size())\n",
    "    ys = torch.ones(1, 1).fill_(start_symbol).type(torch.long).to(device)\n",
    "    for i in range(max_len-1):\n",
    "      with torch.no_grad():\n",
    "        #print('ys',ys.size())\n",
    "        #print('ys0',ys.size(0))\n",
    "        #print('ys.permute(1,0)',ys.permute(1,0).size())\n",
    "        memory = memory.to(device)\n",
    "        tgt_attention_mask = (torch.ones(1, 1)).to(device)\n",
    "\n",
    "        tgt_mask = (generate_square_subsequent_mask(ys.size(0)).type(torch.bool)).to(device)\n",
    "        #print('tgt_attention_mask:',tgt_attention_mask)\n",
    "        #print('tgt_mask',tgt_mask.size())\n",
    "        out = model.decode(ys.permute(1,0), tgt_attention_mask, memory, tgt_mask)\n",
    "        #print('out:',out.size())\n",
    "        out = out.transpose(0, 1)\n",
    "        #print('out[:,-1]',out[:,-1].size())\n",
    "        prob = model.generator(out[:,-1])\n",
    "        #print('prob',prob.size())\n",
    "        _, next_word = torch.max(prob, dim=1)\n",
    "        next_word = next_word.item()\n",
    "        #print(next_word)\n",
    "        ys = torch.cat([ys, torch.ones(1, 1).type_as(src_input_ids.data).fill_(next_word)], dim=0)\n",
    "        #print('ys',ys.size())\n",
    "          \n",
    "        if next_word == sep_index:\n",
    "            break\n",
    "    return ys\n"
   ]
  },
  {
   "cell_type": "code",
   "execution_count": 102,
   "metadata": {
    "executionInfo": {
     "elapsed": 6,
     "status": "ok",
     "timestamp": 1716842950478,
     "user": {
      "displayName": "青山",
      "userId": "00589995879243750991"
     },
     "user_tz": -480
    },
    "id": "eUcRHHJaggHO"
   },
   "outputs": [],
   "source": [
    "def translate(model: torch.nn.Module, src_sentence: str):\n",
    "    model.eval()\n",
    "    source_tokens = my_tokenizer(src_sentence, padding='max_length', truncation=True, return_tensors='pt', max_length=max_length)\n",
    "    src_input_ids=source_tokens.input_ids\n",
    "    #src_input_ids=torch.LongTensor(source_tokens.input_ids).unsqueeze(-1)[0].to(device)\n",
    "    src_attention_mask=source_tokens.attention_mask\n",
    "    #src_attention_mask=torch.LongTensor(source_tokens.attention_mask).unsqueeze(-1)[0].to(device)\n",
    "    #print('src_input_ids',src_input_ids)\n",
    "    #print('src_attention_mask',src_attention_mask)\n",
    "\n",
    "    #num_tokens = src_input_ids.shape[0]\n",
    "    num_tokens = max_length\n",
    "    src_mask = (torch.zeros(num_tokens, num_tokens)).type(torch.bool)\n",
    "    tgt_tokens = greedy_decode(\n",
    "        model=model,  src_input_ids=src_input_ids, src_attention_mask=src_attention_mask, src_mask=src_mask, max_len=num_tokens + 5, start_symbol=cls_index).flatten()\n",
    "    return \"\".join(tgt_tokenizer.decode(list(tgt_tokens.cpu().numpy()),skip_special_tokens=True))"
   ]
  },
  {
   "cell_type": "code",
   "execution_count": 112,
   "metadata": {
    "executionInfo": {
     "elapsed": 6,
     "status": "ok",
     "timestamp": 1716842950478,
     "user": {
      "displayName": "青山",
      "userId": "00589995879243750991"
     },
     "user_tz": -480
    },
    "id": "d6UfjjgfJE9a"
   },
   "outputs": [],
   "source": [
    "from sacrebleu.metrics import BLEU\n",
    "\n",
    "def sacrebleu_score(model, source_sentences,target_sentences,lang='ko'):\n",
    "#def sacrebleu_score(model, source_sentences,target_sentences,bpmf_sentences,hanja_sentences,lang='ko'):\n",
    "  global my_tokenizer, tgt_tokenizer, max_length, device\n",
    "  model.eval()\n",
    "  bleu = BLEU()\n",
    "  bleu.trg_lang = lang\n",
    "  avg_score = {'avg':0,'1-gram':0,'2-gram':0,'3-gram':0,'4-gram':0}\n",
    "\n",
    "  # 生成目標語句\n",
    "  generated_sentences = []\n",
    "  with tqdm(total = len(source_sentences)) as pbar:\n",
    "    for i in range(len(source_sentences)):\n",
    "        source_sentence = source_sentences[i]\n",
    "        target_sentence = target_sentences[i]\n",
    "        #print(i,source_sentence,target_sentence)\n",
    "        #bpmf_sentence = bpmf_sentences[i]\n",
    "        #hanja_sentence = hanja_sentences[i]\n",
    "\n",
    "        #source_tokens = my_tokenizer(source_sentence, padding='max_length', truncation=True, return_tensors='pt', max_length=max_length).to(device)\n",
    "        #target_tokens = tgt_tokenizer(target_batch, padding='max_length', truncation=True, return_tensors='pt', max_length=max_length).to(device)\n",
    "\n",
    "        #bpmf_tokens = my_tokenizer(bpmf_sentence, padding='max_length', truncation=True, return_tensors='pt', max_length=max_length).to(device)\n",
    "        #hanja_tokens = my_tokenizer(hanja_sentence, padding='max_length', truncation=True, return_tensors='pt', max_length=max_length).to(device)\n",
    "\n",
    "        with torch.no_grad():\n",
    "            generated_sentence = translate(model,source_sentence)\n",
    "        generated_sentences.append(generated_sentence)\n",
    "        #generated_sentence = tgt_tokenizer.decode(output[0].argmax(dim=-1), skip_special_tokens=True)\n",
    "        #if(i == len(source_sentences)-1):\n",
    "        if(1):\n",
    "            print('i=',i,'='*20)\n",
    "            print('target_sentence',target_sentence)\n",
    "            print('generate:',generated_sentence)\n",
    "            print('='*20)\n",
    "        \n",
    "        #gen_sent = ''\n",
    "        #for sent in generated_sentence:\n",
    "        #    gen_sent += sent\n",
    "        #bleu_score = bleu.corpus_score([generated_sentence],[[target_sentence]])\n",
    "        #print([gen_sent],[[target_sentence]])\n",
    "        #print(bleu_score)\n",
    "        '''\n",
    "        avg_score['avg'] += bleu_score.score\n",
    "        avg_score['1-gram'] += bleu_score.precisions[0]\n",
    "        avg_score['2-gram'] += bleu_score.precisions[1]\n",
    "        avg_score['3-gram'] += bleu_score.precisions[2]\n",
    "        avg_score['4-gram'] += bleu_score.precisions[3]\n",
    "        '''\n",
    "        pbar.update(1)\n",
    "  target_sentences = [[ref] for ref in target_sentences]\n",
    "  bleu_score = bleu.corpus_score(generated_sentences,target_sentences)\n",
    "  '''\n",
    "  avg_score['avg'] /= len(source_sentences)\n",
    "  avg_score['1-gram'] /= len(source_sentences)\n",
    "  avg_score['2-gram'] /= len(source_sentences)\n",
    "  avg_score['3-gram'] /= len(source_sentences)\n",
    "  avg_score['4-gram'] /= len(source_sentences)\n",
    "  '''\n",
    "\n",
    "  avg_score['avg'] = bleu_score.score\n",
    "  avg_score['1-gram'] = bleu_score.precisions[0]\n",
    "  avg_score['2-gram'] = bleu_score.precisions[1]\n",
    "  avg_score['3-gram'] = bleu_score.precisions[2]\n",
    "  avg_score['4-gram'] = bleu_score.precisions[3]\n",
    "  #print('gen:',generated_sentences,'tar:',[[sent] for sent in target_sentences],'sor',source_sentences)\n",
    "  #print('BLEU Score:',bleu.score)\n",
    "\n",
    "  return avg_score"
   ]
  },
  {
   "cell_type": "code",
   "execution_count": 113,
   "metadata": {
    "colab": {
     "base_uri": "https://localhost:8080/"
    },
    "executionInfo": {
     "elapsed": 5736,
     "status": "ok",
     "timestamp": 1716842956208,
     "user": {
      "displayName": "青山",
      "userId": "00589995879243750991"
     },
     "user_tz": -480
    },
    "id": "NZtYxcGsvgPR",
    "outputId": "f0448dae-4b94-4e39-c6d9-5c6e45265b09"
   },
   "outputs": [
    {
     "name": "stderr",
     "output_type": "stream",
     "text": [
      " 50%|████████████████████████████████████████████████████████████████████████████████████▌                                                                                    | 1/2 [00:00<00:00,  4.14it/s]"
     ]
    },
    {
     "name": "stdout",
     "output_type": "stream",
     "text": [
      "i= 0 ====================\n",
      "target_sentence 사랑해요.\n",
      "generate: ##핸핸찪찪될式될찪찪찪찪찪 고전 고전 고전咳찪찪찪찪찪찪찪찪찪찪찪찪찪찪찪찪찪찪찪찪\n",
      "====================\n"
     ]
    },
    {
     "name": "stderr",
     "output_type": "stream",
     "text": [
      "100%|█████████████████████████████████████████████████████████████████████████████████████████████████████████████████████████████████████████████████████████████████████████| 2/2 [00:00<00:00,  4.19it/s]"
     ]
    },
    {
     "name": "stdout",
     "output_type": "stream",
     "text": [
      "i= 1 ====================\n",
      "target_sentence 감사해요.\n",
      "generate: ##핸핸핸９９ 아프고 고소 고소 고소 고소 고소 고소 고소 고소 고소 고소 고소 고소 고소프리式프리프리 고소 고소 고소 고소 고소咳咳프리咳프리프리프리될\n",
      "====================\n"
     ]
    },
    {
     "name": "stderr",
     "output_type": "stream",
     "text": [
      "\n"
     ]
    },
    {
     "data": {
      "text/plain": [
       "{'avg': 0.0, '1-gram': 0.0, '2-gram': 0.0, '3-gram': 0.0, '4-gram': 0.0}"
      ]
     },
     "execution_count": 113,
     "metadata": {},
     "output_type": "execute_result"
    }
   ],
   "source": [
    "sacrebleu_score(model,['我愛你。','謝謝大家。'],['사랑해요.','감사해요.'])"
   ]
  },
  {
   "cell_type": "code",
   "execution_count": 105,
   "metadata": {
    "executionInfo": {
     "elapsed": 13,
     "status": "ok",
     "timestamp": 1716842956208,
     "user": {
      "displayName": "青山",
      "userId": "00589995879243750991"
     },
     "user_tz": -480
    },
    "id": "gEPWbiT4v9ru"
   },
   "outputs": [],
   "source": [
    "def sacrebleu_history(bleu_score_values, path=model_name, to_show=False):\n",
    "  before_avg_score = {}\n",
    "  bleu_score_values = bleu_score_values[0]\n",
    "  tag = ['avg','1-gram','2-gram','3-gram','4-gram']\n",
    "  for key in tag:\n",
    "    bleu_score_values[key] = [bleu_score_values[key]]\n",
    "\n",
    "  try:\n",
    "    df_loss = pd.read_csv('{}/MODELS/LOSS_HISTORY/sacreblue_plot_{}.csv'.format(dir_path,path))\n",
    "    df_loss.to_dict(orient='dict')\n",
    "    try:\n",
    "        for key in tag:\n",
    "            before_avg_score[key] = list(df_loss[key].values())\n",
    "    except:\n",
    "        for key in tag:\n",
    "            before_avg_score[key] = list(df_loss[key])\n",
    "\n",
    "\n",
    "  except:\n",
    "        for key in tag:\n",
    "            before_avg_score[key] = []\n",
    "\n",
    "  if(len(before_avg_score[tag[0]])>0):\n",
    "        for key in tag:\n",
    "            bleu_score_values[key] = before_avg_score[key] + bleu_score_values[key]\n",
    "  print(bleu_score_values)\n",
    "  # 假設您有每個 epoch 的索引\n",
    "  try:\n",
    "      epochs = range(1, len(bleu_score_values[tag[0]]) + 1)\n",
    "  except:\n",
    "      epochs = range(1,2)\n",
    "  plt.clf()\n",
    "\n",
    "  # 繪製訓練損失和測試損失的折線圖\n",
    "  for key in tag:\n",
    "        try:\n",
    "            plt.plot(epochs, bleu_score_values[key], label=key)\n",
    "        except:\n",
    "            plt.plot(epochs, list(bleu_score_values[key]), label=key)\n",
    "  plt.title('BLEU SCORE')\n",
    "  plt.xlabel('Epochs')\n",
    "  plt.ylabel('Score')\n",
    "  plt.legend()\n",
    "\n",
    "  # 儲存折線圖\n",
    "  plt.savefig('{}/MODELS/LOSS_HISTORY/sacreblue_plot_{}.png'.format(dir_path,path))\n",
    "  if to_show:\n",
    "    plt.show()\n",
    "\n",
    "  df_loss = pd.DataFrame(bleu_score_values)\n",
    "  df_loss.to_csv('{}/MODELS/LOSS_HISTORY/sacreblue_plot_{}.csv'.format(dir_path,path),index=False)"
   ]
  },
  {
   "cell_type": "code",
   "execution_count": 106,
   "metadata": {
    "executionInfo": {
     "elapsed": 12,
     "status": "ok",
     "timestamp": 1716842956208,
     "user": {
      "displayName": "青山",
      "userId": "00589995879243750991"
     },
     "user_tz": -480
    },
    "id": "28fQwLLMq8ZL"
   },
   "outputs": [],
   "source": [
    "import random\n",
    "def get_samples(src_list,tgt_list,keys=['zh','ko'],num=2000):\n",
    "    samples = {}\n",
    "    for k in keys:\n",
    "        samples[k] = []\n",
    "    randomlist = random.sample(range(0, len(src_list)), num)\n",
    "    #print(randomlist[50:55])\n",
    "    for i in randomlist:\n",
    "        samples['zh'].append(src_list[i])\n",
    "        samples['ko'].append(tgt_list[i])\n",
    "    return samples"
   ]
  },
  {
   "cell_type": "code",
   "execution_count": 119,
   "metadata": {
    "colab": {
     "base_uri": "https://localhost:8080/"
    },
    "executionInfo": {
     "elapsed": 8465,
     "status": "ok",
     "timestamp": 1716842964662,
     "user": {
      "displayName": "青山",
      "userId": "00589995879243750991"
     },
     "user_tz": -480
    },
    "id": "18bDNOUnq8ZL",
    "outputId": "73794b60-54b1-4aae-a1da-23a153e01e01"
   },
   "outputs": [
    {
     "name": "stderr",
     "output_type": "stream",
     "text": [
      "100%|███████████████████████████████████████████████████████████████████████████████████████████████████████████████████████████████████████████████████████████████████████| 10/10 [00:00<00:00, 49.29it/s]"
     ]
    },
    {
     "name": "stdout",
     "output_type": "stream",
     "text": [
      "i= 5 ====================\n",
      "target_sentence 안녕 하세요, 친구들! 이렇게 만 나 뵈어서 반갑습니다.\n",
      "generate: 그들의\n",
      "====================\n",
      "i= 6 ====================\n",
      "target_sentence AI 가 한 것입니다.\n",
      "generate: 그들의\n",
      "====================\n",
      "i= 7 ====================\n",
      "target_sentence 감옥 안에 있는 동료들과 힘 닿는 데까지 최선을 다했습니다.\n",
      "generate: 그들의\n",
      "====================\n",
      "i= 8 ====================\n",
      "target_sentence 아이들이 한 달 만에 글자와 숫자를 얼마나 많이 알게 되었는지 학부모님께 보고 할 때마다요. 우리 같은 선생과 부모는 모두 아이들이 공부 잘하길 바라고 그걸 위해서 라면 온갖 에너지와 자원을 쏟아붓죠.\n",
      "generate: 그들의\n",
      "====================\n",
      "i= 9 ====================\n",
      "target_sentence 새로운 시스템을 채택하는 것은 쉽지 않았습니다.\n",
      "generate: 그들의\n",
      "====================\n",
      "Eval Time: 0m 0s\n",
      "\tBLEU Score:\n",
      "\t\tavg: 0.000\n",
      "\t\t1-gram: 0.000\n",
      "\t\t2-gram: 0.000\n",
      "\t\t3-gram: 0.000\n",
      "\t\t4-gram: 0.000\n"
     ]
    },
    {
     "name": "stderr",
     "output_type": "stream",
     "text": [
      "\n"
     ]
    }
   ],
   "source": [
    "start_time = time.time()\n",
    "\n",
    "samples = get_samples(TEST_ZSENT,TEST_KSENT,num=10)\n",
    "test_score = sacrebleu_score(model, source_sentences=samples['zh'],target_sentences=samples['ko'])\n",
    "end_time = time.time()\n",
    "epoch_mins, epoch_secs = epoch_time(start_time, end_time)\n",
    "print(f'Eval Time: {epoch_mins}m {epoch_secs}s')\n",
    "\n",
    "print('\\tBLEU Score:')\n",
    "for k in test_score.keys():\n",
    "    print('\\t\\t{}: {:.3f}'.format(k,test_score[k]))\n"
   ]
  },
  {
   "cell_type": "code",
   "execution_count": null,
   "metadata": {
    "id": "0ab4Hj9aq8ZL",
    "outputId": "fb85a5f8-e9fb-4fc1-d80b-4f9fdcd099ee"
   },
   "outputs": [
    {
     "name": "stdout",
     "output_type": "stream",
     "text": [
      "42211\n",
      "68844\n",
      "103732\n",
      "104748\n",
      "17963\n"
     ]
    }
   ],
   "source": [
    "import random\n",
    "for i in range(5):\n",
    "    randomlist = random.sample(range(0, 123456), 500)\n",
    "    print(randomlist[50])"
   ]
  },
  {
   "cell_type": "code",
   "execution_count": null,
   "metadata": {
    "colab": {
     "base_uri": "https://localhost:8080/"
    },
    "executionInfo": {
     "elapsed": 6156,
     "status": "ok",
     "timestamp": 1716280529343,
     "user": {
      "displayName": "Yeezi",
      "userId": "08687854767328262193"
     },
     "user_tz": -480
    },
    "id": "YlalwXt-JE9a",
    "outputId": "b678a64e-9818-4627-ab27-5bda2b4b387e"
   },
   "outputs": [
    {
     "name": "stderr",
     "output_type": "stream",
     "text": [
      "huggingface/tokenizers: The current process just got forked, after parallelism has already been used. Disabling parallelism to avoid deadlocks...\n",
      "To disable this warning, you can either:\n",
      "\t- Avoid using `tokenizers` before the fork if possible\n",
      "\t- Explicitly set the environment variable TOKENIZERS_PARALLELISM=(true | false)\n"
     ]
    },
    {
     "name": "stdout",
     "output_type": "stream",
     "text": [
      "Defaulting to user installation because normal site-packages is not writeable\n",
      "Requirement already satisfied: rouge in /home/jiazhen/.local/lib/python3.8/site-packages (1.0.1)\n",
      "Requirement already satisfied: six in /home/jiazhen/.local/lib/python3.8/site-packages (from rouge) (1.16.0)\n",
      "\u001b[33mDEPRECATION: distro-info 1.1build1 has a non-standard version number. pip 24.1 will enforce this behaviour change. A possible replacement is to upgrade to a newer version of distro-info or contact the author to suggest that they release a version with a conforming version number. Discussion can be found at https://github.com/pypa/pip/issues/12063\u001b[0m\u001b[33m\n",
      "\u001b[0m\u001b[33mDEPRECATION: python-debian 0.1.43ubuntu1 has a non-standard version number. pip 24.1 will enforce this behaviour change. A possible replacement is to upgrade to a newer version of python-debian or contact the author to suggest that they release a version with a conforming version number. Discussion can be found at https://github.com/pypa/pip/issues/12063\u001b[0m\u001b[33m\n",
      "\u001b[0m"
     ]
    }
   ],
   "source": [
    "!pip install rouge"
   ]
  },
  {
   "cell_type": "code",
   "execution_count": null,
   "metadata": {
    "id": "TNhmOInxzxmc"
   },
   "outputs": [],
   "source": [
    "from rouge import Rouge\n",
    "\n",
    "def rouge_score():\n",
    "  global my_tokenizer, test_target_sentences, model, max_length, device\n",
    "  total_score = 0\n",
    "  model.eval()\n",
    "  # 生成目標語句\n",
    "  generated_sentences = []\n",
    "  rouge = Rouge()\n",
    "  with tqdm(total = len(test_source_sentences)) as pbar:\n",
    "    for i in range(len(test_source_sentences)):\n",
    "      source_tokens = my_tokenizer(test_source_sentences[i], padding=True, truncation=True, return_tensors='pt', max_length=max_length).to(device)\n",
    "      with torch.no_grad():\n",
    "        output = model(input_ids=source_tokens.input_ids, attention_mask=source_tokens.attention_mask)\n",
    "      generated_sentence = my_tokenizer.decode(output[0].argmax(dim=-1), skip_special_tokens=True)\n",
    "      try:\n",
    "        scores = rouge.get_scores(generated_sentences, test_target_sentences[i])\n",
    "      except:\n",
    "        scores = 0\n",
    "      print(generated_sentences)\n",
    "      print(test_target_sentences[i])\n",
    "      #print(generated_sentence)\n",
    "      #for metric, score in scores.items():\n",
    "      #  print(f\"{metric}: {score}\")\n",
    "      total_score += scores\n",
    "      pbar.update(1)\n",
    "\n",
    "  avg_score = float(total_score)/len(test_source_sentences)\n",
    "  print('Rouge Score:',avg_score)\n",
    "  return avg_score"
   ]
  },
  {
   "cell_type": "markdown",
   "metadata": {
    "id": "aIja_lfmJE9a"
   },
   "source": [
    "### Run"
   ]
  },
  {
   "cell_type": "code",
   "execution_count": 64,
   "metadata": {
    "colab": {
     "base_uri": "https://localhost:8080/"
    },
    "executionInfo": {
     "elapsed": 20409,
     "status": "ok",
     "timestamp": 1716842998697,
     "user": {
      "displayName": "青山",
      "userId": "00589995879243750991"
     },
     "user_tz": -480
    },
    "id": "p5zyKLudJE9b",
    "outputId": "89b7ebad-0aba-41e5-8aa7-b6169ba2545f"
   },
   "outputs": [
    {
     "name": "stdout",
     "output_type": "stream",
     "text": [
      "Collecting wandb\n",
      "  Downloading wandb-0.17.0-py3-none-manylinux_2_5_x86_64.manylinux1_x86_64.manylinux_2_17_x86_64.manylinux2014_x86_64.whl (6.7 MB)\n",
      "\u001b[2K     \u001b[90m━━━━━━━━━━━━━━━━━━━━━━━━━━━━━━━━━━━━━━━━\u001b[0m \u001b[32m6.7/6.7 MB\u001b[0m \u001b[31m16.5 MB/s\u001b[0m eta \u001b[36m0:00:00\u001b[0m\n",
      "\u001b[?25hRequirement already satisfied: click!=8.0.0,>=7.1 in /usr/local/lib/python3.10/dist-packages (from wandb) (8.1.7)\n",
      "Collecting docker-pycreds>=0.4.0 (from wandb)\n",
      "  Downloading docker_pycreds-0.4.0-py2.py3-none-any.whl (9.0 kB)\n",
      "Collecting gitpython!=3.1.29,>=1.0.0 (from wandb)\n",
      "  Downloading GitPython-3.1.43-py3-none-any.whl (207 kB)\n",
      "\u001b[2K     \u001b[90m━━━━━━━━━━━━━━━━━━━━━━━━━━━━━━━━━━━━━━━━\u001b[0m \u001b[32m207.3/207.3 kB\u001b[0m \u001b[31m23.8 MB/s\u001b[0m eta \u001b[36m0:00:00\u001b[0m\n",
      "\u001b[?25hRequirement already satisfied: platformdirs in /usr/local/lib/python3.10/dist-packages (from wandb) (4.2.2)\n",
      "Requirement already satisfied: protobuf!=4.21.0,<5,>=3.19.0 in /usr/local/lib/python3.10/dist-packages (from wandb) (3.20.3)\n",
      "Requirement already satisfied: psutil>=5.0.0 in /usr/local/lib/python3.10/dist-packages (from wandb) (5.9.5)\n",
      "Requirement already satisfied: pyyaml in /usr/local/lib/python3.10/dist-packages (from wandb) (6.0.1)\n",
      "Requirement already satisfied: requests<3,>=2.0.0 in /usr/local/lib/python3.10/dist-packages (from wandb) (2.31.0)\n",
      "Collecting sentry-sdk>=1.0.0 (from wandb)\n",
      "  Downloading sentry_sdk-2.3.1-py2.py3-none-any.whl (289 kB)\n",
      "\u001b[2K     \u001b[90m━━━━━━━━━━━━━━━━━━━━━━━━━━━━━━━━━━━━━━━━\u001b[0m \u001b[32m289.0/289.0 kB\u001b[0m \u001b[31m16.5 MB/s\u001b[0m eta \u001b[36m0:00:00\u001b[0m\n",
      "\u001b[?25hCollecting setproctitle (from wandb)\n",
      "  Downloading setproctitle-1.3.3-cp310-cp310-manylinux_2_5_x86_64.manylinux1_x86_64.manylinux_2_17_x86_64.manylinux2014_x86_64.whl (30 kB)\n",
      "Requirement already satisfied: setuptools in /usr/local/lib/python3.10/dist-packages (from wandb) (67.7.2)\n",
      "Requirement already satisfied: six>=1.4.0 in /usr/local/lib/python3.10/dist-packages (from docker-pycreds>=0.4.0->wandb) (1.16.0)\n",
      "Collecting gitdb<5,>=4.0.1 (from gitpython!=3.1.29,>=1.0.0->wandb)\n",
      "  Downloading gitdb-4.0.11-py3-none-any.whl (62 kB)\n",
      "\u001b[2K     \u001b[90m━━━━━━━━━━━━━━━━━━━━━━━━━━━━━━━━━━━━━━━━\u001b[0m \u001b[32m62.7/62.7 kB\u001b[0m \u001b[31m6.3 MB/s\u001b[0m eta \u001b[36m0:00:00\u001b[0m\n",
      "\u001b[?25hRequirement already satisfied: charset-normalizer<4,>=2 in /usr/local/lib/python3.10/dist-packages (from requests<3,>=2.0.0->wandb) (3.3.2)\n",
      "Requirement already satisfied: idna<4,>=2.5 in /usr/local/lib/python3.10/dist-packages (from requests<3,>=2.0.0->wandb) (3.7)\n",
      "Requirement already satisfied: urllib3<3,>=1.21.1 in /usr/local/lib/python3.10/dist-packages (from requests<3,>=2.0.0->wandb) (2.0.7)\n",
      "Requirement already satisfied: certifi>=2017.4.17 in /usr/local/lib/python3.10/dist-packages (from requests<3,>=2.0.0->wandb) (2024.2.2)\n",
      "Collecting smmap<6,>=3.0.1 (from gitdb<5,>=4.0.1->gitpython!=3.1.29,>=1.0.0->wandb)\n",
      "  Downloading smmap-5.0.1-py3-none-any.whl (24 kB)\n",
      "Installing collected packages: smmap, setproctitle, sentry-sdk, docker-pycreds, gitdb, gitpython, wandb\n",
      "Successfully installed docker-pycreds-0.4.0 gitdb-4.0.11 gitpython-3.1.43 sentry-sdk-2.3.1 setproctitle-1.3.3 smmap-5.0.1 wandb-0.17.0\n",
      "\u001b[34m\u001b[1mwandb\u001b[0m: Logging into wandb.ai. (Learn how to deploy a W&B server locally: https://wandb.me/wandb-server)\n",
      "\u001b[34m\u001b[1mwandb\u001b[0m: You can find your API key in your browser here: https://wandb.ai/authorize\n",
      "\u001b[34m\u001b[1mwandb\u001b[0m: Paste an API key from your profile and hit enter, or press ctrl+c to quit: \n",
      "\u001b[34m\u001b[1mwandb\u001b[0m: Appending key for api.wandb.ai to your netrc file: /root/.netrc\n"
     ]
    }
   ],
   "source": [
    "#!pip install --upgrade protobuf\n",
    "!pip install wandb\n",
    "!wandb login"
   ]
  },
  {
   "cell_type": "code",
   "execution_count": null,
   "metadata": {
    "colab": {
     "base_uri": "https://localhost:8080/",
     "height": 204,
     "referenced_widgets": [
      "c603de678a2a4b5c8f429de8cf258e49",
      "d6b00100dd1e4aabb3776c4fecb6b2de",
      "2cf32b18a2924a3dbd7e512c3e0e5b48",
      "b6563f3892024a239d942970cbf8d1ed",
      "c7ad12cd55d0440a8b1cf86e223df0fb",
      "caa95b2714cd4aaea583ab676d6e5f03",
      "a6e9634d4f9e472397949945839a5d15",
      "150a9391496642318ff062bc834f6618"
     ]
    },
    "executionInfo": {
     "elapsed": 3889,
     "status": "ok",
     "timestamp": 1716656663167,
     "user": {
      "displayName": "空海",
      "userId": "08068718315358455095"
     },
     "user_tz": -480
    },
    "id": "O7_gmWQSsFLJ",
    "outputId": "f58aa998-c15d-4006-daf3-025200ee7fa3"
   },
   "outputs": [
    {
     "data": {
      "application/vnd.jupyter.widget-view+json": {
       "model_id": "c603de678a2a4b5c8f429de8cf258e49",
       "version_major": 2,
       "version_minor": 0
      },
      "text/plain": [
       "VBox(children=(Label(value='0.001 MB of 0.001 MB uploaded\\r'), FloatProgress(value=1.0, max=1.0)))"
      ]
     },
     "metadata": {},
     "output_type": "display_data"
    },
    {
     "data": {
      "text/html": [
       "<style>\n",
       "    table.wandb td:nth-child(1) { padding: 0 10px; text-align: left ; width: auto;} td:nth-child(2) {text-align: left ; width: 100%}\n",
       "    .wandb-row { display: flex; flex-direction: row; flex-wrap: wrap; justify-content: flex-start; width: 100% }\n",
       "    .wandb-col { display: flex; flex-direction: column; flex-basis: 100%; flex: 1; padding: 10px; }\n",
       "    </style>\n",
       "<div class=\"wandb-row\"><div class=\"wandb-col\"><h3>Run summary:</h3><br/><table class=\"wandb\"><tr><td>Step_Train_loss</td><td>nan</td></tr></table><br/></div></div>"
      ],
      "text/plain": [
       "<IPython.core.display.HTML object>"
      ]
     },
     "metadata": {},
     "output_type": "display_data"
    },
    {
     "data": {
      "text/html": [
       " View run <strong style=\"color:#cdcd00\">TF1_no_hanja_no_zy_zhtokenizer_v2</strong> at: <a href='https://wandb.ai/jiazhen_li/Chinese-Korean-Translation/runs/my_TF1_no_hanja_no_zy_zhtokenizer_v2' target=\"_blank\">https://wandb.ai/jiazhen_li/Chinese-Korean-Translation/runs/my_TF1_no_hanja_no_zy_zhtokenizer_v2</a><br/> View project at: <a href='https://wandb.ai/jiazhen_li/Chinese-Korean-Translation' target=\"_blank\">https://wandb.ai/jiazhen_li/Chinese-Korean-Translation</a><br/>Synced 5 W&B file(s), 0 media file(s), 0 artifact file(s) and 0 other file(s)"
      ],
      "text/plain": [
       "<IPython.core.display.HTML object>"
      ]
     },
     "metadata": {},
     "output_type": "display_data"
    },
    {
     "data": {
      "text/html": [
       "Find logs at: <code>./wandb/run-20240525_165840-my_TF1_no_hanja_no_zy_zhtokenizer_v2/logs</code>"
      ],
      "text/plain": [
       "<IPython.core.display.HTML object>"
      ]
     },
     "metadata": {},
     "output_type": "display_data"
    }
   ],
   "source": [
    "wandb.finish()"
   ]
  },
  {
   "cell_type": "code",
   "execution_count": 115,
   "metadata": {
    "colab": {
     "base_uri": "https://localhost:8080/",
     "height": 142
    },
    "executionInfo": {
     "elapsed": 7876,
     "status": "ok",
     "timestamp": 1716843010206,
     "user": {
      "displayName": "青山",
      "userId": "00589995879243750991"
     },
     "user_tz": -480
    },
    "id": "DEvaaVA55kgT",
    "outputId": "0ea6ce27-e88f-4d03-d05c-6a5e4bd0b446"
   },
   "outputs": [
    {
     "name": "stderr",
     "output_type": "stream",
     "text": [
      "huggingface/tokenizers: The current process just got forked, after parallelism has already been used. Disabling parallelism to avoid deadlocks...\n",
      "To disable this warning, you can either:\n",
      "\t- Avoid using `tokenizers` before the fork if possible\n",
      "\t- Explicitly set the environment variable TOKENIZERS_PARALLELISM=(true | false)\n",
      "huggingface/tokenizers: The current process just got forked, after parallelism has already been used. Disabling parallelism to avoid deadlocks...\n",
      "To disable this warning, you can either:\n",
      "\t- Avoid using `tokenizers` before the fork if possible\n",
      "\t- Explicitly set the environment variable TOKENIZERS_PARALLELISM=(true | false)\n",
      "huggingface/tokenizers: The current process just got forked, after parallelism has already been used. Disabling parallelism to avoid deadlocks...\n",
      "To disable this warning, you can either:\n",
      "\t- Avoid using `tokenizers` before the fork if possible\n",
      "\t- Explicitly set the environment variable TOKENIZERS_PARALLELISM=(true | false)\n",
      "Failed to detect the name of this notebook, you can set it manually with the WANDB_NOTEBOOK_NAME environment variable to enable code saving.\n",
      "huggingface/tokenizers: The current process just got forked, after parallelism has already been used. Disabling parallelism to avoid deadlocks...\n",
      "To disable this warning, you can either:\n",
      "\t- Avoid using `tokenizers` before the fork if possible\n",
      "\t- Explicitly set the environment variable TOKENIZERS_PARALLELISM=(true | false)\n",
      "\u001b[34m\u001b[1mwandb\u001b[0m: Currently logged in as: \u001b[33mjiazhen_li\u001b[0m. Use \u001b[1m`wandb login --relogin`\u001b[0m to force relogin\n",
      "huggingface/tokenizers: The current process just got forked, after parallelism has already been used. Disabling parallelism to avoid deadlocks...\n",
      "To disable this warning, you can either:\n",
      "\t- Avoid using `tokenizers` before the fork if possible\n",
      "\t- Explicitly set the environment variable TOKENIZERS_PARALLELISM=(true | false)\n"
     ]
    },
    {
     "data": {
      "text/html": [
       "wandb version 0.17.0 is available!  To upgrade, please run:\n",
       " $ pip install wandb --upgrade"
      ],
      "text/plain": [
       "<IPython.core.display.HTML object>"
      ]
     },
     "metadata": {},
     "output_type": "display_data"
    },
    {
     "data": {
      "text/html": [
       "Tracking run with wandb version 0.16.3"
      ],
      "text/plain": [
       "<IPython.core.display.HTML object>"
      ]
     },
     "metadata": {},
     "output_type": "display_data"
    },
    {
     "data": {
      "text/html": [
       "Run data is saved locally in <code>/home/jiazhen/my-study/wandb/run-20240528_202927-my_TF2_with_hanja_no_zy_zhtokenizer_v2</code>"
      ],
      "text/plain": [
       "<IPython.core.display.HTML object>"
      ]
     },
     "metadata": {},
     "output_type": "display_data"
    },
    {
     "data": {
      "text/html": [
       "Syncing run <strong><a href='https://wandb.ai/jiazhen_li/Chinese-Korean-Translation/runs/my_TF2_with_hanja_no_zy_zhtokenizer_v2' target=\"_blank\">TF2_with_hanja_no_zy_zhtokenizer_v2</a></strong> to <a href='https://wandb.ai/jiazhen_li/Chinese-Korean-Translation' target=\"_blank\">Weights & Biases</a> (<a href='https://wandb.me/run' target=\"_blank\">docs</a>)<br/>"
      ],
      "text/plain": [
       "<IPython.core.display.HTML object>"
      ]
     },
     "metadata": {},
     "output_type": "display_data"
    },
    {
     "data": {
      "text/html": [
       " View project at <a href='https://wandb.ai/jiazhen_li/Chinese-Korean-Translation' target=\"_blank\">https://wandb.ai/jiazhen_li/Chinese-Korean-Translation</a>"
      ],
      "text/plain": [
       "<IPython.core.display.HTML object>"
      ]
     },
     "metadata": {},
     "output_type": "display_data"
    },
    {
     "data": {
      "text/html": [
       " View run at <a href='https://wandb.ai/jiazhen_li/Chinese-Korean-Translation/runs/my_TF2_with_hanja_no_zy_zhtokenizer_v2' target=\"_blank\">https://wandb.ai/jiazhen_li/Chinese-Korean-Translation/runs/my_TF2_with_hanja_no_zy_zhtokenizer_v2</a>"
      ],
      "text/plain": [
       "<IPython.core.display.HTML object>"
      ]
     },
     "metadata": {},
     "output_type": "display_data"
    },
    {
     "data": {
      "text/html": [
       "<button onClick=\"this.nextSibling.style.display='block';this.style.display='none';\">Display W&B run</button><iframe src='https://wandb.ai/jiazhen_li/Chinese-Korean-Translation/runs/my_TF2_with_hanja_no_zy_zhtokenizer_v2?jupyter=true' style='border:none;width:100%;height:420px;display:none;'></iframe>"
      ],
      "text/plain": [
       "<wandb.sdk.wandb_run.Run at 0x7fc5ed523640>"
      ]
     },
     "execution_count": 115,
     "metadata": {},
     "output_type": "execute_result"
    }
   ],
   "source": [
    "import wandb\n",
    "import random\n",
    "\n",
    "# start a new wandb run to track this script\n",
    "wandb.init(\n",
    "    # set the wandb project where this run will be logged\n",
    "    project=\"Chinese-Korean-Translation\",\n",
    "    name=model_name,\n",
    "    id='my_{}'.format(model_name),\n",
    "    resume='allow',\n",
    "    # track hyperparameters and run metadata\n",
    "    config={\n",
    "    \"learning_rate\": 1e-4,\n",
    "    \"architecture\": \"BERT\",\n",
    "    \"dataset\": \"TEDTalks\",\n",
    "    \"epochs\": 100,\n",
    "    }\n",
    ")"
   ]
  },
  {
   "cell_type": "code",
   "execution_count": 116,
   "metadata": {
    "executionInfo": {
     "elapsed": 365,
     "status": "ok",
     "timestamp": 1716843014024,
     "user": {
      "displayName": "青山",
      "userId": "00589995879243750991"
     },
     "user_tz": -480
    },
    "id": "7WyAXDtaXSmx"
   },
   "outputs": [],
   "source": [
    "best_loss = float('inf')\n",
    "#best_loss = 4.209\n",
    "#best_score = 11.450\n",
    "best_score = 0\n",
    "avg_best_score = 0"
   ]
  },
  {
   "cell_type": "code",
   "execution_count": 117,
   "metadata": {
    "executionInfo": {
     "elapsed": 3,
     "status": "ok",
     "timestamp": 1716843014877,
     "user": {
      "displayName": "青山",
      "userId": "00589995879243750991"
     },
     "user_tz": -480
    },
    "id": "YD4OaqdCXPa9"
   },
   "outputs": [],
   "source": [
    "train_losses = []\n",
    "test_losses = []"
   ]
  },
  {
   "cell_type": "code",
   "execution_count": 118,
   "metadata": {
    "colab": {
     "base_uri": "https://localhost:8080/"
    },
    "id": "UcHtMBVDXQVX",
    "outputId": "904e8873-83f1-4769-8378-cfc9ad42550e",
    "scrolled": true
   },
   "outputs": [
    {
     "name": "stderr",
     "output_type": "stream",
     "text": [
      "  0%|                                                                                                                                                                             | 0/24436 [00:00<?, ?it/s]/tmp/ipykernel_2871290/1087715714.py:30: UserWarning: Creating a tensor from a list of numpy.ndarrays is extremely slow. Please consider converting the list to a single numpy.ndarray with numpy.array() before converting to a tensor. (Triggered internally at ../torch/csrc/utils/tensor_new.cpp:275.)\n",
      "  src_input = torch.LongTensor([ids.cpu().numpy()[0][:max_length] for ids in batch_src_ids]).to(device)\n",
      "/home/jiazhen/.local/lib/python3.8/site-packages/torch/nn/functional.py:5109: UserWarning: Support for mismatched key_padding_mask and attn_mask is deprecated. Use same type for both instead.\n",
      "  warnings.warn(\n",
      "  0%|                                                                                                                                                                     | 3/24436 [00:00<32:42, 12.45it/s]"
     ]
    },
    {
     "name": "stdout",
     "output_type": "stream",
     "text": [
      "loss 11.042463302612305\n",
      "loss 21.99297332763672\n",
      "loss 32.919437408447266\n"
     ]
    },
    {
     "name": "stderr",
     "output_type": "stream",
     "text": [
      "100%|█████████████████████████████████████████████████████████████████████████████████████████████████████████████████████████████████████████████████████████████████| 24436/24436 [26:21<00:00, 15.45it/s]\n"
     ]
    },
    {
     "name": "stdout",
     "output_type": "stream",
     "text": [
      "Epoch 01 | Train Time: 26m 21s\n"
     ]
    },
    {
     "name": "stderr",
     "output_type": "stream",
     "text": [
      "100%|███████████████████████████████████████████████████████████████████████████████████████████████████████████████████████████████████████████████████████████████████| 6012/6012 [02:07<00:00, 47.05it/s]\n"
     ]
    },
    {
     "name": "stdout",
     "output_type": "stream",
     "text": [
      "Epoch 01 | Test Time: 2m 7s\n"
     ]
    },
    {
     "name": "stderr",
     "output_type": "stream",
     "text": [
      "100%|██████████████████████████████████████████████████████████████████████████████████████████████████████████████████████████████████████████████████████████████████▌| 1994/2000 [03:00<00:00,  7.58it/s]"
     ]
    },
    {
     "name": "stdout",
     "output_type": "stream",
     "text": [
      "i= 1995 ====================\n",
      "target_sentence 이게 우리가 아는 행성 중 유일하게 서식 가능한 행성입니다.\n",
      "generate: 생물,\n",
      "====================\n"
     ]
    },
    {
     "name": "stderr",
     "output_type": "stream",
     "text": [
      "100%|██████████████████████████████████████████████████████████████████████████████████████████████████████████████████████████████████████████████████████████████████▊| 1997/2000 [03:00<00:00,  8.59it/s]"
     ]
    },
    {
     "name": "stdout",
     "output_type": "stream",
     "text": [
      "i= 1996 ====================\n",
      "target_sentence 1990년 중반, 저는 인생의 절정기에 있는 수백 명의 사람들에게 에이즈 양성을 선고했습니다.\n",
      "generate: 우리는,, ( ( 전 전 전 전 전 전 전 전 전 전 전 전 전 전 전 전 전 전 전 전 전 전 전 전 전\n",
      "====================\n",
      "i= 1997 ====================\n",
      "target_sentence 그러한 면에서 이 병이 제게 천연두를 너무도 많이 생각나게 해요.\n",
      "generate: 이것이, 저는, 저는, 저는,\n",
      "====================\n"
     ]
    },
    {
     "name": "stderr",
     "output_type": "stream",
     "text": [
      "100%|██████████████████████████████████████████████████████████████████████████████████████████████████████████████████████████████████████████████████████████████████▉| 1999/2000 [03:00<00:00,  8.25it/s]"
     ]
    },
    {
     "name": "stdout",
     "output_type": "stream",
     "text": [
      "i= 1998 ====================\n",
      "target_sentence 인도는 이미 풍력 발전 강국이며 디지털 에너지 기술 분야에서 세계적인 리더를 노려볼 수 있습니다.\n",
      "generate: 여기,, ( ( ( ( (''''''''''''''''''''''\n",
      "====================\n"
     ]
    },
    {
     "name": "stderr",
     "output_type": "stream",
     "text": [
      "100%|███████████████████████████████████████████████████████████████████████████████████████████████████████████████████████████████████████████████████████████████████| 2000/2000 [03:00<00:00, 11.05it/s]"
     ]
    },
    {
     "name": "stdout",
     "output_type": "stream",
     "text": [
      "i= 1999 ====================\n",
      "target_sentence 그는 이제까지 과학에 의해 측정된 가장 행복한 사람입니다.\n",
      "generate: 저는, 저는, 저는 저는 저는 저는 저는 저는 저는 저는 저는 저는 저는 저는 저는 저는 저는 저는 저는 저는 저는 저는 저는 저는 저는 저는 저는 저는\n",
      "====================\n",
      "Epoch 01 | Eval Time: 3m 1s\n",
      "\tTrain Loss: 6.035 | Test Loss: 5.123\n",
      "\tBLEU Score:\n",
      "\t\tavg: 0.018\n",
      "\t\t1-gram: 4.542\n",
      "\t\t2-gram: 0.035\n",
      "\t\t3-gram: 0.004\n",
      "\t\t4-gram: 0.002\n"
     ]
    },
    {
     "name": "stderr",
     "output_type": "stream",
     "text": [
      "\n"
     ]
    },
    {
     "name": "stdout",
     "output_type": "stream",
     "text": [
      "== save model ==\n",
      "{'avg': [0.01835851919953846], '1-gram': [4.541511771995044], '2-gram': [0.03536067892503536], '3-gram': [0.0040574535421569425], '4-gram': [0.0022198543775528326]}\n"
     ]
    },
    {
     "name": "stderr",
     "output_type": "stream",
     "text": [
      "  0%|                                                                                                                                                                     | 4/24436 [00:00<27:41, 14.71it/s]"
     ]
    },
    {
     "name": "stdout",
     "output_type": "stream",
     "text": [
      "loss 4.9575629234313965\n",
      "loss 10.195486068725586\n",
      "loss 15.517141342163086\n"
     ]
    },
    {
     "name": "stderr",
     "output_type": "stream",
     "text": [
      "100%|█████████████████████████████████████████████████████████████████████████████████████████████████████████████████████████████████████████████████████████████████| 24436/24436 [26:17<00:00, 15.49it/s]\n"
     ]
    },
    {
     "name": "stdout",
     "output_type": "stream",
     "text": [
      "Epoch 02 | Train Time: 26m 20s\n"
     ]
    },
    {
     "name": "stderr",
     "output_type": "stream",
     "text": [
      "100%|███████████████████████████████████████████████████████████████████████████████████████████████████████████████████████████████████████████████████████████████████| 6012/6012 [02:07<00:00, 47.13it/s]\n"
     ]
    },
    {
     "name": "stdout",
     "output_type": "stream",
     "text": [
      "Epoch 02 | Test Time: 2m 7s\n"
     ]
    },
    {
     "name": "stderr",
     "output_type": "stream",
     "text": [
      "100%|██████████████████████████████████████████████████████████████████████████████████████████████████████████████████████████████████████████████████████████████████▊| 1997/2000 [03:02<00:00, 13.66it/s]"
     ]
    },
    {
     "name": "stdout",
     "output_type": "stream",
     "text": [
      "i= 1995 ====================\n",
      "target_sentence 제 작품과 세상에 여러분을 안내하겠습니다.\n",
      "generate: 정말 할,\n",
      "====================\n",
      "i= 1996 ====================\n",
      "target_sentence 그 차별 때문에 샬 론이 그렇게 되고 말았죠.\n",
      "generate: 정말,, 제,\n",
      "====================\n",
      "i= 1997 ====================\n",
      "target_sentence 많은 통계를 기반으로 한 확률적 사고를 말하죠\n",
      "generate: 저희는,, \" 입니다, \" 입니다 입니다 입니다 입니다 입니다 입니다 입니다 입니다 입니다 입니다 입니다 입니다 입니다 입니다 입니다 입니다 입니다 입니다 입니다 입니다 입니다 입니다 입니다 입니다\n",
      "====================\n"
     ]
    },
    {
     "name": "stderr",
     "output_type": "stream",
     "text": [
      "100%|███████████████████████████████████████████████████████████████████████████████████████████████████████████████████████████████████████████████████████████████████| 2000/2000 [03:03<00:00, 10.91it/s]"
     ]
    },
    {
     "name": "stdout",
     "output_type": "stream",
     "text": [
      "i= 1998 ====================\n",
      "target_sentence 그가 보편 문법을 처음 주장했을 때, 언어 습득에 유전적으로 정해진 측면이 있다는 생각은 지대하고 혁명적인 영향을 끼쳤습니다.\n",
      "generate: 과학, 저는, 과학 과학 과학 과학 과학 과학 과학 과학 과학 과학 과학 과학 과학 과학 과학 과학 과학 과학 과학 과학 과학 과학 과학 과학 과학 과학\n",
      "====================\n",
      "i= 1999 ====================\n",
      "target_sentence 그때는 건축의 황금기였죠.\n",
      "generate: 이제 를 는 는\n",
      "====================\n",
      "Epoch 02 | Eval Time: 3m 3s\n",
      "\tTrain Loss: 5.185 | Test Loss: 4.555\n",
      "\tBLEU Score:\n",
      "\t\tavg: 0.021\n",
      "\t\t1-gram: 3.151\n",
      "\t\t2-gram: 0.027\n",
      "\t\t3-gram: 0.002\n",
      "\t\t4-gram: 0.001\n"
     ]
    },
    {
     "name": "stderr",
     "output_type": "stream",
     "text": [
      "\n"
     ]
    },
    {
     "name": "stdout",
     "output_type": "stream",
     "text": [
      "{'avg': [0.0183585191995384, 0.02074600231320865], '1-gram': [4.541511771995044, 3.150656386747239], '2-gram': [0.0353606789250353, 0.0272789270288702], '3-gram': [0.0040574535421569, 0.002498500899460324], '4-gram': [0.0022198543775528, 0.001384964821893524]}\n"
     ]
    },
    {
     "name": "stderr",
     "output_type": "stream",
     "text": [
      "  0%|                                                                                                                                                                             | 0/24436 [00:00<?, ?it/s]"
     ]
    },
    {
     "name": "stdout",
     "output_type": "stream",
     "text": [
      "loss 4.540245532989502\n"
     ]
    },
    {
     "name": "stderr",
     "output_type": "stream",
     "text": [
      "/home/jiazhen/.local/lib/python3.8/site-packages/torch/nn/functional.py:5109: UserWarning: Support for mismatched key_padding_mask and attn_mask is deprecated. Use same type for both instead.\n",
      "  warnings.warn(\n",
      "  0%|                                                                                                                                                                     | 2/24436 [00:00<30:12, 13.48it/s]"
     ]
    },
    {
     "name": "stdout",
     "output_type": "stream",
     "text": [
      "loss 10.431802749633789\n",
      "loss 15.36278247833252\n"
     ]
    },
    {
     "name": "stderr",
     "output_type": "stream",
     "text": [
      "100%|█████████████████████████████████████████████████████████████████████████████████████████████████████████████████████████████████████████████████████████████████| 24436/24436 [26:19<00:00, 15.47it/s]\n"
     ]
    },
    {
     "name": "stdout",
     "output_type": "stream",
     "text": [
      "Epoch 03 | Train Time: 26m 23s\n"
     ]
    },
    {
     "name": "stderr",
     "output_type": "stream",
     "text": [
      "100%|███████████████████████████████████████████████████████████████████████████████████████████████████████████████████████████████████████████████████████████████████| 6012/6012 [02:06<00:00, 47.38it/s]\n"
     ]
    },
    {
     "name": "stdout",
     "output_type": "stream",
     "text": [
      "Epoch 03 | Test Time: 2m 6s\n"
     ]
    },
    {
     "name": "stderr",
     "output_type": "stream",
     "text": [
      "100%|██████████████████████████████████████████████████████████████████████████████████████████████████████████████████████████████████████████████████████████████████▎| 1991/2000 [01:14<00:00, 34.04it/s]"
     ]
    },
    {
     "name": "stdout",
     "output_type": "stream",
     "text": [
      "i= 1995 ====================\n",
      "target_sentence 딸이 내내 보고 있는 동안에요. 관객: 오 제가 경기를 한 건 메달만을 위해서도 아니었고 트랙 위의 시간만을 위한 것도 아녔어요.\n",
      "generate: 제\n",
      "====================\n"
     ]
    },
    {
     "name": "stderr",
     "output_type": "stream",
     "text": [
      "100%|███████████████████████████████████████████████████████████████████████████████████████████████████████████████████████████████████████████████████████████████████| 2000/2000 [01:14<00:00, 26.88it/s]"
     ]
    },
    {
     "name": "stdout",
     "output_type": "stream",
     "text": [
      "i= 1996 ====================\n",
      "target_sentence 만약 다른 천으로 국기를 만들면 최고 3년 형에 처할 수 있습니다.\n",
      "generate: 그것이,,,,, 습 니 습 니 습 니 습 니 습 니 습 니 습 니 습 니 습 니 습 니 습 니 습 니\n",
      "====================\n",
      "i= 1997 ====================\n",
      "target_sentence 심한 떨림과 고통을 받고 있는 많은 파킨슨병 환자들을 돕고 있습니다.\n",
      "generate: 이런,\n",
      "====================\n",
      "i= 1998 ====================\n",
      "target_sentence 북부 원주민 지대로 음식을 공수하는데 드는 엄청난 비용 때문에 그리고 높은 실업율 때문에 이런 음식을 사 먹지 않을 수 없는 겁니다.\n",
      "generate: \n",
      "====================\n",
      "i= 1999 ====================\n",
      "target_sentence 그러나 불과 얼음 용의 지역은 서로 맞닿을 수 있고, 맞닿은 지역은 모퉁이가 될 수 있습니다.\n",
      "generate: \n",
      "====================\n",
      "Epoch 03 | Eval Time: 1m 14s\n",
      "\tTrain Loss: 4.893 | Test Loss: 4.304\n",
      "\tBLEU Score:\n",
      "\t\tavg: 0.003\n",
      "\t\t1-gram: 4.396\n",
      "\t\t2-gram: 0.018\n",
      "\t\t3-gram: 0.011\n",
      "\t\t4-gram: 0.006\n"
     ]
    },
    {
     "name": "stderr",
     "output_type": "stream",
     "text": [
      "\n"
     ]
    },
    {
     "name": "stdout",
     "output_type": "stream",
     "text": [
      "{'avg': [0.0183585191995384, 0.0207460023132086, 0.003371198005570242], '1-gram': [4.541511771995044, 3.150656386747239, 4.395904436860068], '2-gram': [0.0353606789250353, 0.0272789270288702, 0.017752529735487306], '3-gram': [0.0040574535421569, 0.0024985008994603, 0.010526315789473684], '4-gram': [0.0022198543775528, 0.0013849648218935, 0.005540780141843972]}\n"
     ]
    },
    {
     "name": "stderr",
     "output_type": "stream",
     "text": [
      "  0%|                                                                                                                                                                             | 0/24436 [00:00<?, ?it/s]"
     ]
    },
    {
     "name": "stdout",
     "output_type": "stream",
     "text": [
      "loss 4.714336395263672\n"
     ]
    },
    {
     "name": "stderr",
     "output_type": "stream",
     "text": [
      "/home/jiazhen/.local/lib/python3.8/site-packages/torch/nn/functional.py:5109: UserWarning: Support for mismatched key_padding_mask and attn_mask is deprecated. Use same type for both instead.\n",
      "  warnings.warn(\n",
      "  0%|                                                                                                                                                                     | 2/24436 [00:00<29:05, 14.00it/s]"
     ]
    },
    {
     "name": "stdout",
     "output_type": "stream",
     "text": [
      "loss 9.778182983398438\n",
      "loss 14.543031692504883\n"
     ]
    },
    {
     "name": "stderr",
     "output_type": "stream",
     "text": [
      "100%|█████████████████████████████████████████████████████████████████████████████████████████████████████████████████████████████████████████████████████████████████| 24436/24436 [26:21<00:00, 15.45it/s]\n"
     ]
    },
    {
     "name": "stdout",
     "output_type": "stream",
     "text": [
      "Epoch 04 | Train Time: 26m 23s\n"
     ]
    },
    {
     "name": "stderr",
     "output_type": "stream",
     "text": [
      "100%|███████████████████████████████████████████████████████████████████████████████████████████████████████████████████████████████████████████████████████████████████| 6012/6012 [02:06<00:00, 47.40it/s]\n"
     ]
    },
    {
     "name": "stdout",
     "output_type": "stream",
     "text": [
      "Epoch 04 | Test Time: 2m 6s\n"
     ]
    },
    {
     "name": "stderr",
     "output_type": "stream",
     "text": [
      "100%|███████████████████████████████████████████████████████████████████████████████████████████████████████████████████████████████████████████████████████████████████| 2000/2000 [00:46<00:00, 43.09it/s]\n"
     ]
    },
    {
     "name": "stdout",
     "output_type": "stream",
     "text": [
      "i= 1995 ====================\n",
      "target_sentence 우리는 횡경막의 수축과 흉곽의 팽창을 통해 호흡합니다.\n",
      "generate: 이런 이런\n",
      "====================\n",
      "i= 1996 ====================\n",
      "target_sentence 프로젝트의 피날레로 날 리 우드 스타들을 모아서 64 명의 그룹 초상을 만들었습니다.\n",
      "generate: 이런\n",
      "====================\n",
      "i= 1997 ====================\n",
      "target_sentence 저는 정말 고무 적인 첨단 기술의 미래가 올 것이라 낙관하고 있습니다.\n",
      "generate: 이런 이런\n",
      "====================\n",
      "i= 1998 ====================\n",
      "target_sentence 오늘날 미국에서는 학령기 남학생의 23% 가 어떤 형태의 발달 장애 진단을 받았습니다.\n",
      "generate: 제 이런\n",
      "====================\n",
      "i= 1999 ====================\n",
      "target_sentence 편견이나 따돌림, 차별이나 희롱 같은 것 들 이요. K: 편견 파괴 요소인 공유된 어휘, 공유된 방식과 공유된 약속은 우리가 저지르는 실수를 알아차리고 배울 수 있도록 보장해서 우리가 함께 일을 더 잘할 수 있도록 해 줍니다.\n",
      "generate: 이런 이런\n",
      "====================\n",
      "Epoch 04 | Eval Time: 0m 46s\n",
      "\tTrain Loss: 4.730 | Test Loss: 4.206\n",
      "\tBLEU Score:\n",
      "\t\tavg: 0.000\n",
      "\t\t1-gram: 2.750\n",
      "\t\t2-gram: 0.033\n",
      "\t\t3-gram: 0.042\n",
      "\t\t4-gram: 0.025\n",
      "{'avg': [0.0183585191995384, 0.0207460023132086, 0.0033711980055702, 0.00021145181668578338], '1-gram': [4.541511771995044, 3.150656386747239, 4.395904436860068, 2.7502126453076268], '2-gram': [0.0353606789250353, 0.0272789270288702, 0.0177525297354873, 0.03274394237066143], '3-gram': [0.0040574535421569, 0.0024985008994603, 0.0105263157894736, 0.042444821731748725], '4-gram': [0.0022198543775528, 0.0013849648218935, 0.0055407801418439, 0.025100401606425703]}\n"
     ]
    },
    {
     "name": "stderr",
     "output_type": "stream",
     "text": [
      "  0%|                                                                                                                                                                             | 0/24436 [00:00<?, ?it/s]"
     ]
    },
    {
     "name": "stdout",
     "output_type": "stream",
     "text": [
      "loss 4.164966583251953\n"
     ]
    },
    {
     "name": "stderr",
     "output_type": "stream",
     "text": [
      "/home/jiazhen/.local/lib/python3.8/site-packages/torch/nn/functional.py:5109: UserWarning: Support for mismatched key_padding_mask and attn_mask is deprecated. Use same type for both instead.\n",
      "  warnings.warn(\n",
      "  0%|                                                                                                                                                                     | 4/24436 [00:00<26:10, 15.56it/s]"
     ]
    },
    {
     "name": "stdout",
     "output_type": "stream",
     "text": [
      "loss 8.63341760635376\n",
      "loss 13.131462574005127\n"
     ]
    },
    {
     "name": "stderr",
     "output_type": "stream",
     "text": [
      "100%|█████████████████████████████████████████████████████████████████████████████████████████████████████████████████████████████████████████████████████████████████| 24436/24436 [26:25<00:00, 15.41it/s]\n"
     ]
    },
    {
     "name": "stdout",
     "output_type": "stream",
     "text": [
      "Epoch 05 | Train Time: 26m 28s\n"
     ]
    },
    {
     "name": "stderr",
     "output_type": "stream",
     "text": [
      "100%|███████████████████████████████████████████████████████████████████████████████████████████████████████████████████████████████████████████████████████████████████| 6012/6012 [02:06<00:00, 47.61it/s]\n"
     ]
    },
    {
     "name": "stdout",
     "output_type": "stream",
     "text": [
      "Epoch 05 | Test Time: 2m 6s\n"
     ]
    },
    {
     "name": "stderr",
     "output_type": "stream",
     "text": [
      "100%|███████████████████████████████████████████████████████████████████████████████████████████████████████████████████████████████████████████████████████████████████| 2000/2000 [00:47<00:00, 41.71it/s]\n"
     ]
    },
    {
     "name": "stdout",
     "output_type": "stream",
     "text": [
      "i= 1995 ====================\n",
      "target_sentence 예를 들어서, 여러분들 중 몇 명이 ' 씻고' 몇 명이 ' 닦습' 니 까? ( 웃음) 만약, 뭐, 무슨 말인지 아시겠죠.\n",
      "generate: 하지만 우리는\n",
      "====================\n",
      "i= 1996 ====================\n",
      "target_sentence 이 강연은 프레드릭과, 할 루드 그리고 수백만 난민들의 위한 것입니다.\n",
      "generate: 하지만 우리는\n",
      "====================\n",
      "i= 1997 ====================\n",
      "target_sentence 보시다시피, 이 파이어와 이어 카메라는 적외선 포인터를 주시합니다\n",
      "generate: 하지만 이\n",
      "====================\n",
      "i= 1998 ====================\n",
      "target_sentence 이미 결혼한 상태였던 소녀들은 많은 고통을 입은 모습이었습니다.\n",
      "generate: 하지만\n",
      "====================\n",
      "i= 1999 ====================\n",
      "target_sentence \" 해피 뉴 이어\". ( 웃음) 이것은 당신이 돌아 다니면서, 이 도시의 다른 부분을 확인할 수 있는 쌍방향 도구입니다.\n",
      "generate: 하지만 우리는\n",
      "====================\n",
      "Epoch 05 | Eval Time: 0m 48s\n",
      "\tTrain Loss: 4.725 | Test Loss: 4.468\n",
      "\tBLEU Score:\n",
      "\t\tavg: 0.002\n",
      "\t\t1-gram: 4.749\n",
      "\t\t2-gram: 0.229\n",
      "\t\t3-gram: 0.526\n",
      "\t\t4-gram: 0.431\n",
      "== save model ==\n",
      "{'avg': [0.0183585191995384, 0.0207460023132086, 0.0033711980055702, 0.0002114518166857, 0.0017461903515971393], '1-gram': [4.541511771995044, 3.150656386747239, 4.395904436860068, 2.7502126453076268, 4.749199573105656], '2-gram': [0.0353606789250353, 0.0272789270288702, 0.0177525297354873, 0.0327439423706614, 0.2288329519450801], '3-gram': [0.0040574535421569, 0.0024985008994603, 0.0105263157894736, 0.0424448217317487, 0.5263157894736842], '4-gram': [0.0022198543775528, 0.0013849648218935, 0.0055407801418439, 0.0251004016064257, 0.43103448275862066]}\n"
     ]
    },
    {
     "name": "stderr",
     "output_type": "stream",
     "text": [
      "  0%|                                                                                                                                                                             | 0/24436 [00:00<?, ?it/s]/home/jiazhen/.local/lib/python3.8/site-packages/torch/nn/functional.py:5109: UserWarning: Support for mismatched key_padding_mask and attn_mask is deprecated. Use same type for both instead.\n",
      "  warnings.warn(\n",
      "  0%|                                                                                                                                                                     | 4/24436 [00:00<26:54, 15.14it/s]"
     ]
    },
    {
     "name": "stdout",
     "output_type": "stream",
     "text": [
      "loss 5.024406909942627\n",
      "loss 10.435157775878906\n",
      "loss 15.06643009185791\n"
     ]
    },
    {
     "name": "stderr",
     "output_type": "stream",
     "text": [
      "100%|█████████████████████████████████████████████████████████████████████████████████████████████████████████████████████████████████████████████████████████████████| 24436/24436 [26:26<00:00, 15.40it/s]\n"
     ]
    },
    {
     "name": "stdout",
     "output_type": "stream",
     "text": [
      "Epoch 06 | Train Time: 26m 28s\n"
     ]
    },
    {
     "name": "stderr",
     "output_type": "stream",
     "text": [
      "100%|███████████████████████████████████████████████████████████████████████████████████████████████████████████████████████████████████████████████████████████████████| 6012/6012 [02:08<00:00, 46.90it/s]\n"
     ]
    },
    {
     "name": "stdout",
     "output_type": "stream",
     "text": [
      "Epoch 06 | Test Time: 2m 8s\n"
     ]
    },
    {
     "name": "stderr",
     "output_type": "stream",
     "text": [
      "100%|███████████████████████████████████████████████████████████████████████████████████████████████████████████████████████████████████████████████████████████████████| 2000/2000 [00:37<00:00, 53.08it/s]\n"
     ]
    },
    {
     "name": "stdout",
     "output_type": "stream",
     "text": [
      "i= 1995 ====================\n",
      "target_sentence 관객이 함께 맞추도록 만들어. 4를 주지 말고, 그들에게 2 더하기 2를 줘. 여러분이 제공하는 요소들과 그것들을 배열하는 순서는 관객을 사로잡을 수 있을지 없을 지에 있어 매우 중요합니다.\n",
      "generate: 하지만\n",
      "====================\n",
      "i= 1996 ====================\n",
      "target_sentence 전세계 1/4 을 차지하는 특정지역에서, 유럽산, 미국산 은 가장 빛나는 것은 아닙니다.\n",
      "generate: 하지만\n",
      "====================\n",
      "i= 1997 ====================\n",
      "target_sentence 물론, 동물들은 살아 있죠.\n",
      "generate: 하지만\n",
      "====================\n",
      "i= 1998 ====================\n",
      "target_sentence 수도원의 법률에 의하면 스님들은 여자를 만지는 것은 물론이고 여자를 가까이 하는 것도 금지되어 있었기 때문입니다.\n",
      "generate: 하지만\n",
      "====================\n",
      "i= 1999 ====================\n",
      "target_sentence 하지만 누가 여름의 황금 밀밭처럼 아름다운 시프의 머리를 대체할 수 있을까요?\n",
      "generate: 하지만\n",
      "====================\n",
      "Epoch 06 | Eval Time: 0m 37s\n",
      "\tTrain Loss: 4.901 | Test Loss: 4.510\n",
      "\tBLEU Score:\n",
      "\t\tavg: 0.000\n",
      "\t\t1-gram: 4.264\n",
      "\t\t2-gram: 0.000\n",
      "\t\t3-gram: 0.000\n",
      "\t\t4-gram: 0.000\n",
      "{'avg': [0.0183585191995384, 0.0207460023132086, 0.0033711980055702, 0.0002114518166857, 0.0017461903515971, 0.0], '1-gram': [4.541511771995044, 3.150656386747239, 4.395904436860068, 2.7502126453076268, 4.749199573105656, 4.2639593908629445], '2-gram': [0.0353606789250353, 0.0272789270288702, 0.0177525297354873, 0.0327439423706614, 0.2288329519450801, 0.0], '3-gram': [0.0040574535421569, 0.0024985008994603, 0.0105263157894736, 0.0424448217317487, 0.5263157894736842, 0.0], '4-gram': [0.0022198543775528, 0.0013849648218935, 0.0055407801418439, 0.0251004016064257, 0.4310344827586206, 0.0]}\n"
     ]
    },
    {
     "name": "stderr",
     "output_type": "stream",
     "text": [
      "  0%|                                                                                                                                                                             | 0/24436 [00:00<?, ?it/s]"
     ]
    },
    {
     "name": "stdout",
     "output_type": "stream",
     "text": [
      "loss 4.980658054351807\n"
     ]
    },
    {
     "name": "stderr",
     "output_type": "stream",
     "text": [
      "/home/jiazhen/.local/lib/python3.8/site-packages/torch/nn/functional.py:5109: UserWarning: Support for mismatched key_padding_mask and attn_mask is deprecated. Use same type for both instead.\n",
      "  warnings.warn(\n",
      "  0%|                                                                                                                                                                     | 2/24436 [00:00<29:09, 13.97it/s]"
     ]
    },
    {
     "name": "stdout",
     "output_type": "stream",
     "text": [
      "loss 8.952645540237427\n",
      "loss 14.66498875617981\n"
     ]
    },
    {
     "name": "stderr",
     "output_type": "stream",
     "text": [
      "100%|█████████████████████████████████████████████████████████████████████████████████████████████████████████████████████████████████████████████████████████████████| 24436/24436 [26:19<00:00, 15.47it/s]\n"
     ]
    },
    {
     "name": "stdout",
     "output_type": "stream",
     "text": [
      "Epoch 07 | Train Time: 26m 22s\n"
     ]
    },
    {
     "name": "stderr",
     "output_type": "stream",
     "text": [
      "100%|███████████████████████████████████████████████████████████████████████████████████████████████████████████████████████████████████████████████████████████████████| 6012/6012 [02:06<00:00, 47.37it/s]\n"
     ]
    },
    {
     "name": "stdout",
     "output_type": "stream",
     "text": [
      "Epoch 07 | Test Time: 2m 6s\n"
     ]
    },
    {
     "name": "stderr",
     "output_type": "stream",
     "text": [
      "100%|███████████████████████████████████████████████████████████████████████████████████████████████████████████████████████████████████████████████████████████████████| 2000/2000 [00:38<00:00, 52.32it/s]\n"
     ]
    },
    {
     "name": "stdout",
     "output_type": "stream",
     "text": [
      "i= 1995 ====================\n",
      "target_sentence 몇 분이나 기억력을 선택하고 싶으신가요?\n",
      "generate: 하지만\n",
      "====================\n",
      "i= 1996 ====================\n",
      "target_sentence 서구 국가들은 경제적으로 더욱 잘살게 되었고 사람들은 더 많은 동물 단백질을 섭취하고 싶어 했습니다.\n",
      "generate: 이런\n",
      "====================\n",
      "i= 1997 ====================\n",
      "target_sentence 댄 바버와 앨리스 워터스는 녹색 식품 ' 딜리셔스 레 볼루 션' 을 열성적으로 이끌고 있습니다.\n",
      "generate: 이런\n",
      "====================\n",
      "i= 1998 ====================\n",
      "target_sentence 사람들은 말은 연습을 하지만, 제 스쳐는 거의 안하죠\n",
      "generate: 하지만 수\n",
      "====================\n",
      "i= 1999 ====================\n",
      "target_sentence 이렇게 어디에 나 있고, 광범위하고, 복잡한 재활용 가들의 네트워크에도 불구하고 인도의 전국적 모습은 오물과 누더기로 가득 차 있습니다.\n",
      "generate: 이런\n",
      "====================\n",
      "Epoch 07 | Eval Time: 0m 38s\n",
      "\tTrain Loss: 4.916 | Test Loss: 4.512\n",
      "\tBLEU Score:\n",
      "\t\tavg: 0.000\n",
      "\t\t1-gram: 4.303\n",
      "\t\t2-gram: 0.237\n",
      "\t\t3-gram: 8.333\n",
      "\t\t4-gram: 0.000\n",
      "{'avg': [0.0183585191995384, 0.0207460023132086, 0.0033711980055702, 0.0002114518166857, 0.0017461903515971, 0.0, 0.0], '1-gram': [4.541511771995044, 3.150656386747239, 4.395904436860068, 2.7502126453076268, 4.749199573105656, 4.2639593908629445, 4.302536231884058], '2-gram': [0.0353606789250353, 0.0272789270288702, 0.0177525297354873, 0.0327439423706614, 0.2288329519450801, 0.0, 0.23696682464454977], '3-gram': [0.0040574535421569, 0.0024985008994603, 0.0105263157894736, 0.0424448217317487, 0.5263157894736842, 0.0, 8.333333333333334], '4-gram': [0.0022198543775528, 0.0013849648218935, 0.0055407801418439, 0.0251004016064257, 0.4310344827586206, 0.0, 0.0]}\n"
     ]
    },
    {
     "name": "stderr",
     "output_type": "stream",
     "text": [
      "  0%|                                                                                                                                                                             | 0/24436 [00:00<?, ?it/s]"
     ]
    },
    {
     "name": "stdout",
     "output_type": "stream",
     "text": [
      "loss 4.424704074859619\n"
     ]
    },
    {
     "name": "stderr",
     "output_type": "stream",
     "text": [
      "/home/jiazhen/.local/lib/python3.8/site-packages/torch/nn/functional.py:5109: UserWarning: Support for mismatched key_padding_mask and attn_mask is deprecated. Use same type for both instead.\n",
      "  warnings.warn(\n",
      "  0%|                                                                                                                                                                     | 2/24436 [00:00<29:18, 13.89it/s]"
     ]
    },
    {
     "name": "stdout",
     "output_type": "stream",
     "text": [
      "loss 8.997776508331299\n",
      "loss 13.66220760345459\n"
     ]
    },
    {
     "name": "stderr",
     "output_type": "stream",
     "text": [
      "100%|█████████████████████████████████████████████████████████████████████████████████████████████████████████████████████████████████████████████████████████████████| 24436/24436 [26:20<00:00, 15.46it/s]\n"
     ]
    },
    {
     "name": "stdout",
     "output_type": "stream",
     "text": [
      "Epoch 08 | Train Time: 26m 23s\n"
     ]
    },
    {
     "name": "stderr",
     "output_type": "stream",
     "text": [
      "100%|███████████████████████████████████████████████████████████████████████████████████████████████████████████████████████████████████████████████████████████████████| 6012/6012 [02:07<00:00, 47.16it/s]\n"
     ]
    },
    {
     "name": "stdout",
     "output_type": "stream",
     "text": [
      "Epoch 08 | Test Time: 2m 7s\n"
     ]
    },
    {
     "name": "stderr",
     "output_type": "stream",
     "text": [
      "100%|███████████████████████████████████████████████████████████████████████████████████████████████████████████████████████████████████████████████████████████████████| 2000/2000 [00:37<00:00, 53.08it/s]\n"
     ]
    },
    {
     "name": "stdout",
     "output_type": "stream",
     "text": [
      "i= 1995 ====================\n",
      "target_sentence 그건, 우리는 사실 굉장히 ' 우리스러운' 사람들을 선호한단 의 미죠. 그리고 그건, 우리와는 다른 배경, 교육, 사고 체계 그리고 다른 경험을 가진 사람들을 찾아야만 한다는 의미입니다.\n",
      "generate: 하지만\n",
      "====================\n",
      "i= 1996 ====================\n",
      "target_sentence 제가 이 탐사를 이끌겠습니다.\n",
      "generate: 우리는\n",
      "====================\n",
      "i= 1997 ====================\n",
      "target_sentence 클로르 알칼리 산업이 여기에 완벽하게 들어맞습니다.\n",
      "generate: 하지만\n",
      "====================\n",
      "i= 1998 ====================\n",
      "target_sentence 화학적으로 과연 우리가 아직 만들어 본적이 없는 이런 거대한 분자들을 만들 수 있을까?\n",
      "generate: 하지만\n",
      "====================\n",
      "i= 1999 ====================\n",
      "target_sentence 여러분이 이 데이타를 보시면 정말 이 동물들이 적도를 넘는 것일까라는 생각을 하게 됩니다.\n",
      "generate: 하지만\n",
      "====================\n",
      "Epoch 08 | Eval Time: 0m 37s\n",
      "\tTrain Loss: 4.933 | Test Loss: 4.526\n",
      "\tBLEU Score:\n",
      "\t\tavg: 0.000\n",
      "\t\t1-gram: 7.913\n",
      "\t\t2-gram: 2.273\n",
      "\t\t3-gram: 0.000\n",
      "\t\t4-gram: 0.000\n",
      "== save model ==\n",
      "{'avg': [0.0183585191995384, 0.0207460023132086, 0.0033711980055702, 0.0002114518166857, 0.0017461903515971, 0.0, 0.0, 0.0], '1-gram': [4.541511771995044, 3.150656386747239, 4.395904436860068, 2.7502126453076268, 4.749199573105656, 4.2639593908629445, 4.302536231884058, 7.9129574678536105], '2-gram': [0.0353606789250353, 0.0272789270288702, 0.0177525297354873, 0.0327439423706614, 0.2288329519450801, 0.0, 0.2369668246445497, 2.272727272727273], '3-gram': [0.0040574535421569, 0.0024985008994603, 0.0105263157894736, 0.0424448217317487, 0.5263157894736842, 0.0, 8.333333333333334, 0.0], '4-gram': [0.0022198543775528, 0.0013849648218935, 0.0055407801418439, 0.0251004016064257, 0.4310344827586206, 0.0, 0.0, 0.0]}\n"
     ]
    },
    {
     "name": "stderr",
     "output_type": "stream",
     "text": [
      "  0%|                                                                                                                                                                             | 0/24436 [00:00<?, ?it/s]/home/jiazhen/.local/lib/python3.8/site-packages/torch/nn/functional.py:5109: UserWarning: Support for mismatched key_padding_mask and attn_mask is deprecated. Use same type for both instead.\n",
      "  warnings.warn(\n",
      "  0%|                                                                                                                                                                     | 2/24436 [00:00<26:46, 15.21it/s]"
     ]
    },
    {
     "name": "stdout",
     "output_type": "stream",
     "text": [
      "loss 4.721122741699219\n",
      "loss 9.758121967315674\n",
      "loss 13.001657009124756\n"
     ]
    },
    {
     "name": "stderr",
     "output_type": "stream",
     "text": [
      "100%|█████████████████████████████████████████████████████████████████████████████████████████████████████████████████████████████████████████████████████████████████| 24436/24436 [26:23<00:00, 15.43it/s]\n"
     ]
    },
    {
     "name": "stdout",
     "output_type": "stream",
     "text": [
      "Epoch 09 | Train Time: 26m 26s\n"
     ]
    },
    {
     "name": "stderr",
     "output_type": "stream",
     "text": [
      "100%|███████████████████████████████████████████████████████████████████████████████████████████████████████████████████████████████████████████████████████████████████| 6012/6012 [02:06<00:00, 47.65it/s]\n"
     ]
    },
    {
     "name": "stdout",
     "output_type": "stream",
     "text": [
      "Epoch 09 | Test Time: 2m 6s\n"
     ]
    },
    {
     "name": "stderr",
     "output_type": "stream",
     "text": [
      "100%|██████████████████████████████████████████████████████████████████████████████████████████████████████████████████████████████████████████████████████████████████▊| 1997/2000 [03:41<00:00, 12.02it/s]"
     ]
    },
    {
     "name": "stdout",
     "output_type": "stream",
     "text": [
      "i= 1995 ====================\n",
      "target_sentence 혼자 자신과 말하다가 갑자기 자기 자신이 스스로에게 나쁜 사람이라고 생각해 보신적은 요? ( 웃음) 누군가와 논쟁을 벌이던 중 전화기의 밧데리가 나가서 전화기가 두 사람 모두에게 이별을 고하는 것처럼 느껴진 적은요? 두 사람 사이의 문제에 몰입하는 것이 쓸데없다고\n",
      "generate: 저는 했던\n",
      "====================\n",
      "i= 1996 ====================\n",
      "target_sentence 그녀는 새 아파트에 들어간 첫날 밤 소지품을 침대에 올려놓고 선 바닥에서 자더군요\n",
      "generate: 저는 했던 했던 했던\n",
      "====================\n",
      "i= 1997 ====================\n",
      "target_sentence 그리고 시간을 벌어 주기도 하는데 환자의 모든 정보를 만나기도 전에 준비해 줍니다.\n",
      "generate: 저는,,,,,,, 바로, 입니다, 입니다 입니다 입니다 입니다 입니다 입니다 입니다 입니다 입니다 입니다 입니다 입니다 입니다 입니다 입니다 입니다 입니다 입니다\n",
      "====================\n"
     ]
    },
    {
     "name": "stderr",
     "output_type": "stream",
     "text": [
      "100%|███████████████████████████████████████████████████████████████████████████████████████████████████████████████████████████████████████████████████████████████████| 2000/2000 [03:41<00:00,  9.03it/s]"
     ]
    },
    {
     "name": "stdout",
     "output_type": "stream",
     "text": [
      "i= 1998 ====================\n",
      "target_sentence 의 사가 여러분에게 항생제 한 병을 전부 다 마시라고 하는 이유는 만약 항생제 복용량을 줄이면 바이러스를 완전히 죽일 수 없고 살아남은 바이러스가 항생제 내성을 더 키우기 때문입니다.\n",
      "generate: 하지만,,,,,,,,\n",
      "====================\n",
      "i= 1999 ====================\n",
      "target_sentence 내가 뭘 했지?\n",
      "generate: 저는 했던 했던 했던\n",
      "====================\n",
      "Epoch 09 | Eval Time: 3m 41s\n",
      "\tTrain Loss: 4.943 | Test Loss: 4.559\n",
      "\tBLEU Score:\n",
      "\t\tavg: 0.022\n",
      "\t\t1-gram: 2.523\n",
      "\t\t2-gram: 0.039\n",
      "\t\t3-gram: 0.002\n",
      "\t\t4-gram: 0.001\n"
     ]
    },
    {
     "name": "stderr",
     "output_type": "stream",
     "text": [
      "\n"
     ]
    },
    {
     "name": "stdout",
     "output_type": "stream",
     "text": [
      "{'avg': [0.0183585191995384, 0.0207460023132086, 0.0033711980055702, 0.0002114518166857, 0.0017461903515971, 0.0, 0.0, 0.0, 0.021959997153639454], '1-gram': [4.541511771995044, 3.150656386747239, 4.395904436860068, 2.7502126453076268, 4.749199573105656, 4.2639593908629445, 4.302536231884058, 7.91295746785361, 2.522651977807049], '2-gram': [0.0353606789250353, 0.0272789270288702, 0.0177525297354873, 0.0327439423706614, 0.2288329519450801, 0.0, 0.2369668246445497, 2.272727272727273, 0.03904047195592764], '3-gram': [0.0040574535421569, 0.0024985008994603, 0.0105263157894736, 0.0424448217317487, 0.5263157894736842, 0.0, 8.333333333333334, 0.0, 0.002374958438227331], '4-gram': [0.0022198543775528, 0.0013849648218935, 0.0055407801418439, 0.0251004016064257, 0.4310344827586206, 0.0, 0.0, 0.0, 0.0013020155200249987]}\n"
     ]
    },
    {
     "name": "stderr",
     "output_type": "stream",
     "text": [
      "  0%|                                                                                                                                                                             | 0/24436 [00:00<?, ?it/s]"
     ]
    },
    {
     "name": "stdout",
     "output_type": "stream",
     "text": [
      "loss 4.807125568389893\n"
     ]
    },
    {
     "name": "stderr",
     "output_type": "stream",
     "text": [
      "/home/jiazhen/.local/lib/python3.8/site-packages/torch/nn/functional.py:5109: UserWarning: Support for mismatched key_padding_mask and attn_mask is deprecated. Use same type for both instead.\n",
      "  warnings.warn(\n",
      "  0%|                                                                                                                                                                     | 2/24436 [00:00<28:02, 14.52it/s]"
     ]
    },
    {
     "name": "stdout",
     "output_type": "stream",
     "text": [
      "loss 9.834321975708008\n",
      "loss 14.472294807434082\n"
     ]
    },
    {
     "name": "stderr",
     "output_type": "stream",
     "text": [
      "100%|█████████████████████████████████████████████████████████████████████████████████████████████████████████████████████████████████████████████████████████████████| 24436/24436 [26:22<00:00, 15.44it/s]\n"
     ]
    },
    {
     "name": "stdout",
     "output_type": "stream",
     "text": [
      "Epoch 10 | Train Time: 26m 24s\n"
     ]
    },
    {
     "name": "stderr",
     "output_type": "stream",
     "text": [
      "100%|███████████████████████████████████████████████████████████████████████████████████████████████████████████████████████████████████████████████████████████████████| 6012/6012 [02:06<00:00, 47.52it/s]\n"
     ]
    },
    {
     "name": "stdout",
     "output_type": "stream",
     "text": [
      "Epoch 10 | Test Time: 2m 6s\n"
     ]
    },
    {
     "name": "stderr",
     "output_type": "stream",
     "text": [
      "100%|██████████████████████████████████████████████████████████████████████████████████████████████████████████████████████████████████████████████████████████████████▍| 1993/2000 [01:06<00:00, 35.13it/s]"
     ]
    },
    {
     "name": "stdout",
     "output_type": "stream",
     "text": [
      "i= 1995 ====================\n",
      "target_sentence 신경학적으로 놀라 운 뭔 가가 이루어지고 있습니다.\n",
      "generate: 저는,\n",
      "====================\n"
     ]
    },
    {
     "name": "stderr",
     "output_type": "stream",
     "text": [
      "100%|███████████████████████████████████████████████████████████████████████████████████████████████████████████████████████████████████████████████████████████████████| 2000/2000 [01:07<00:00, 29.75it/s]"
     ]
    },
    {
     "name": "stdout",
     "output_type": "stream",
     "text": [
      "i= 1996 ====================\n",
      "target_sentence 네, 합성 생물학은 건강, 지속가능한 음식, 지속 가능한 재료를 제공하지만 가격은 훨씬 더 저렴합니다.\n",
      "generate: 저는,,,,,,,,,,\n",
      "====================\n",
      "i= 1997 ====================\n",
      "target_sentence 전도성이 없기 때문에 가능하죠.\n",
      "generate: 제,\n",
      "====================\n",
      "i= 1998 ====================\n",
      "target_sentence 빈번히, 정부는 시위를 민주주의의 기본으로 바라보지 않습니다.\n",
      "generate: 하지만,\n",
      "====================\n",
      "i= 1999 ====================\n",
      "target_sentence 그 친구는 아이스크림을 사기로 했고, 친구가 맛보기 전에 저는 그 아이스크림에 손가락을 꽂았습니다.\n",
      "generate: 저는\n",
      "====================\n",
      "Epoch 10 | Eval Time: 1m 7s\n",
      "\tTrain Loss: 4.954 | Test Loss: 4.577\n",
      "\tBLEU Score:\n",
      "\t\tavg: 0.001\n",
      "\t\t1-gram: 10.870\n",
      "\t\t2-gram: 0.015\n",
      "\t\t3-gram: 0.016\n",
      "\t\t4-gram: 0.008\n"
     ]
    },
    {
     "name": "stderr",
     "output_type": "stream",
     "text": [
      "\n"
     ]
    },
    {
     "name": "stdout",
     "output_type": "stream",
     "text": [
      "== save model ==\n",
      "{'avg': [0.0183585191995384, 0.0207460023132086, 0.0033711980055702, 0.0002114518166857, 0.0017461903515971, 0.0, 0.0, 0.0, 0.0219599971536394, 0.0013401491744613183], '1-gram': [4.541511771995044, 3.150656386747239, 4.395904436860068, 2.7502126453076268, 4.749199573105656, 4.2639593908629445, 4.302536231884058, 7.91295746785361, 2.522651977807049, 10.870377288008966], '2-gram': [0.0353606789250353, 0.0272789270288702, 0.0177525297354873, 0.0327439423706614, 0.2288329519450801, 0.0, 0.2369668246445497, 2.272727272727273, 0.0390404719559276, 0.01490757304710793], '3-gram': [0.0040574535421569, 0.0024985008994603, 0.0105263157894736, 0.0424448217317487, 0.5263157894736842, 0.0, 8.333333333333334, 0.0, 0.0023749584382273, 0.015586034912718205], '4-gram': [0.0022198543775528, 0.0013849648218935, 0.0055407801418439, 0.0251004016064257, 0.4310344827586206, 0.0, 0.0, 0.0, 0.0013020155200249, 0.008423180592991913]}\n"
     ]
    },
    {
     "name": "stderr",
     "output_type": "stream",
     "text": [
      "  0%|                                                                                                                                                                             | 0/24436 [00:00<?, ?it/s]/home/jiazhen/.local/lib/python3.8/site-packages/torch/nn/functional.py:5109: UserWarning: Support for mismatched key_padding_mask and attn_mask is deprecated. Use same type for both instead.\n",
      "  warnings.warn(\n",
      "  0%|                                                                                                                                                                     | 2/24436 [00:00<28:17, 14.40it/s]"
     ]
    },
    {
     "name": "stdout",
     "output_type": "stream",
     "text": [
      "loss 4.975531578063965\n",
      "loss 10.478559970855713\n",
      "loss 15.03830337524414\n"
     ]
    },
    {
     "name": "stderr",
     "output_type": "stream",
     "text": [
      "100%|█████████████████████████████████████████████████████████████████████████████████████████████████████████████████████████████████████████████████████████████████| 24436/24436 [26:23<00:00, 15.43it/s]\n"
     ]
    },
    {
     "name": "stdout",
     "output_type": "stream",
     "text": [
      "Epoch 11 | Train Time: 26m 25s\n"
     ]
    },
    {
     "name": "stderr",
     "output_type": "stream",
     "text": [
      "100%|███████████████████████████████████████████████████████████████████████████████████████████████████████████████████████████████████████████████████████████████████| 6012/6012 [02:06<00:00, 47.45it/s]\n"
     ]
    },
    {
     "name": "stdout",
     "output_type": "stream",
     "text": [
      "Epoch 11 | Test Time: 2m 6s\n"
     ]
    },
    {
     "name": "stderr",
     "output_type": "stream",
     "text": [
      "100%|███████████████████████████████████████████████████████████████████████████████████████████████████████████████████████████████████████████████████████████████████| 2000/2000 [03:19<00:00, 10.01it/s]\n"
     ]
    },
    {
     "name": "stdout",
     "output_type": "stream",
     "text": [
      "i= 1995 ====================\n",
      "target_sentence 전 지금 우리의 소비 형태를 바꾸고 음식 쓰레기를 줄이자고\n",
      "generate: 하지만,\n",
      "====================\n",
      "i= 1996 ====================\n",
      "target_sentence 머신 러닝은 인공지능을 둘러싼 세간의 걱정과 기대의 중심에 있기 때문입니다.\n",
      "generate: 하지만,\n",
      "====================\n",
      "i= 1997 ====================\n",
      "target_sentence 저는 ‘ 분자 탐색’ 이라 일컫고 또 다른 말로는 ‘ 가설 주도 과학’, 또는 ‘ 호기심 주도 과학’ 이라 합니다.\n",
      "generate: 하지만,\n",
      "====================\n",
      "i= 1998 ====================\n",
      "target_sentence 여기 FOBO를 피하기 위한 요령이 있습니다.\n",
      "generate: 하지만,\n",
      "====================\n",
      "i= 1999 ====================\n",
      "target_sentence 두 번째, 질에 당분이 있는 건 정상입니다.\n",
      "generate: 하지만,\n",
      "====================\n",
      "Epoch 11 | Eval Time: 3m 19s\n",
      "\tTrain Loss: 4.960 | Test Loss: 4.563\n",
      "\tBLEU Score:\n",
      "\t\tavg: 0.020\n",
      "\t\t1-gram: 2.957\n",
      "\t\t2-gram: 0.029\n",
      "\t\t3-gram: 0.003\n",
      "\t\t4-gram: 0.001\n",
      "{'avg': [0.0183585191995384, 0.0207460023132086, 0.0033711980055702, 0.0002114518166857, 0.0017461903515971, 0.0, 0.0, 0.0, 0.0219599971536394, 0.0013401491744613, 0.019940098502476765], '1-gram': [4.541511771995044, 3.150656386747239, 4.395904436860068, 2.7502126453076268, 4.749199573105656, 4.2639593908629445, 4.302536231884058, 7.91295746785361, 2.522651977807049, 10.870377288008966, 2.9565602836879434], '2-gram': [0.0353606789250353, 0.0272789270288702, 0.0177525297354873, 0.0327439423706614, 0.2288329519450801, 0.0, 0.2369668246445497, 2.272727272727273, 0.0390404719559276, 0.0149075730471079, 0.02918146004571762], '3-gram': [0.0040574535421569, 0.0024985008994603, 0.0105263157894736, 0.0424448217317487, 0.5263157894736842, 0.0, 8.333333333333334, 0.0, 0.0023749584382273, 0.0155860349127182, 0.0026936752505117983], '4-gram': [0.0022198543775528, 0.0013849648218935, 0.0055407801418439, 0.0251004016064257, 0.4310344827586206, 0.0, 0.0, 0.0, 0.0013020155200249, 0.0084231805929919, 0.0014102781068426693]}\n"
     ]
    },
    {
     "name": "stderr",
     "output_type": "stream",
     "text": [
      "  0%|                                                                                                                                                                             | 0/24436 [00:00<?, ?it/s]"
     ]
    },
    {
     "name": "stdout",
     "output_type": "stream",
     "text": [
      "loss 5.505050182342529\n"
     ]
    },
    {
     "name": "stderr",
     "output_type": "stream",
     "text": [
      "/home/jiazhen/.local/lib/python3.8/site-packages/torch/nn/functional.py:5109: UserWarning: Support for mismatched key_padding_mask and attn_mask is deprecated. Use same type for both instead.\n",
      "  warnings.warn(\n",
      "  0%|                                                                                                                                                                     | 4/24436 [00:00<27:01, 15.07it/s]"
     ]
    },
    {
     "name": "stdout",
     "output_type": "stream",
     "text": [
      "loss 10.702587127685547\n",
      "loss 15.123563766479492\n"
     ]
    },
    {
     "name": "stderr",
     "output_type": "stream",
     "text": [
      "100%|█████████████████████████████████████████████████████████████████████████████████████████████████████████████████████████████████████████████████████████████████| 24436/24436 [26:24<00:00, 15.42it/s]\n"
     ]
    },
    {
     "name": "stdout",
     "output_type": "stream",
     "text": [
      "Epoch 12 | Train Time: 26m 27s\n"
     ]
    },
    {
     "name": "stderr",
     "output_type": "stream",
     "text": [
      "100%|███████████████████████████████████████████████████████████████████████████████████████████████████████████████████████████████████████████████████████████████████| 6012/6012 [02:07<00:00, 47.24it/s]\n"
     ]
    },
    {
     "name": "stdout",
     "output_type": "stream",
     "text": [
      "Epoch 12 | Test Time: 2m 7s\n"
     ]
    },
    {
     "name": "stderr",
     "output_type": "stream",
     "text": [
      "100%|███████████████████████████████████████████████████████████████████████████████████████████████████████████████████████████████████████████████████████████████████| 2000/2000 [00:41<00:00, 48.73it/s]\n"
     ]
    },
    {
     "name": "stdout",
     "output_type": "stream",
     "text": [
      "i= 1995 ====================\n",
      "target_sentence 사람들이 여러 해를 길거리에서 살면 집으로 다시 들어갈 때 많은 걸 새로 익혀야 합니다\n",
      "generate: 하지만\n",
      "====================\n",
      "i= 1996 ====================\n",
      "target_sentence 하지만 6개월 후, 신문사는 문을 닫았습니다.\n",
      "generate: 그는\n",
      "====================\n",
      "i= 1997 ====================\n",
      "target_sentence 인구 성장의 관점에서 보면 수요가 증가하고 있다는 것과 동시에 경제가 성장하고 있다는 점 때문입니다.\n",
      "generate: 하지만\n",
      "====================\n",
      "i= 1998 ====================\n",
      "target_sentence 어떤 경우에는, 자료 보관소를 방문하는 사람이 있는데 원래는 그러면 안 돼지만 그 사람들이 휴대 전화로 사진을 찍어 올리면 구 글의 하드웨어에 대해 알아낼 수도 있습니다.\n",
      "generate: 그는\n",
      "====================\n",
      "i= 1999 ====================\n",
      "target_sentence 우리는 포획된 이산화탄소를 연료로 전환시키는 설비로 쉽게 운반시키고 그것을 연료로 전환시켜 이 과정이 가능한 지 연구 하고 있습니다.\n",
      "generate: 하지만,\n",
      "====================\n",
      "Epoch 12 | Eval Time: 0m 41s\n",
      "\tTrain Loss: 4.962 | Test Loss: 4.563\n",
      "\tBLEU Score:\n",
      "\t\tavg: 0.000\n",
      "\t\t1-gram: 5.900\n",
      "\t\t2-gram: 0.080\n",
      "\t\t3-gram: 0.075\n",
      "\t\t4-gram: 0.039\n",
      "{'avg': [0.0183585191995384, 0.0207460023132086, 0.0033711980055702, 0.0002114518166857, 0.0017461903515971, 0.0, 0.0, 0.0, 0.0219599971536394, 0.0013401491744613, 0.0199400985024767, 2.708368582257652e-05], '1-gram': [4.541511771995044, 3.150656386747239, 4.395904436860068, 2.7502126453076268, 4.749199573105656, 4.2639593908629445, 4.302536231884058, 7.91295746785361, 2.522651977807049, 10.870377288008966, 2.9565602836879434, 5.900266463646745], '2-gram': [0.0353606789250353, 0.0272789270288702, 0.0177525297354873, 0.0327439423706614, 0.2288329519450801, 0.0, 0.2369668246445497, 2.272727272727273, 0.0390404719559276, 0.0149075730471079, 0.0291814600457176, 0.07974481658692185], '3-gram': [0.0040574535421569, 0.0024985008994603, 0.0105263157894736, 0.0424448217317487, 0.5263157894736842, 0.0, 8.333333333333334, 0.0, 0.0023749584382273, 0.0155860349127182, 0.0026936752505117, 0.07530120481927711], '4-gram': [0.0022198543775528, 0.0013849648218935, 0.0055407801418439, 0.0251004016064257, 0.4310344827586206, 0.0, 0.0, 0.0, 0.0013020155200249, 0.0084231805929919, 0.0014102781068426, 0.03943217665615142]}\n"
     ]
    },
    {
     "name": "stderr",
     "output_type": "stream",
     "text": [
      "  0%|                                                                                                                                                                             | 0/24436 [00:00<?, ?it/s]"
     ]
    },
    {
     "name": "stdout",
     "output_type": "stream",
     "text": [
      "loss 5.843482494354248\n"
     ]
    },
    {
     "name": "stderr",
     "output_type": "stream",
     "text": [
      "/home/jiazhen/.local/lib/python3.8/site-packages/torch/nn/functional.py:5109: UserWarning: Support for mismatched key_padding_mask and attn_mask is deprecated. Use same type for both instead.\n",
      "  warnings.warn(\n",
      "  0%|                                                                                                                                                                     | 2/24436 [00:00<29:10, 13.96it/s]"
     ]
    },
    {
     "name": "stdout",
     "output_type": "stream",
     "text": [
      "loss 9.601015567779541\n",
      "loss 14.324840068817139\n"
     ]
    },
    {
     "name": "stderr",
     "output_type": "stream",
     "text": [
      "100%|█████████████████████████████████████████████████████████████████████████████████████████████████████████████████████████████████████████████████████████████████| 24436/24436 [26:25<00:00, 15.41it/s]\n"
     ]
    },
    {
     "name": "stdout",
     "output_type": "stream",
     "text": [
      "Epoch 13 | Train Time: 26m 28s\n"
     ]
    },
    {
     "name": "stderr",
     "output_type": "stream",
     "text": [
      "100%|███████████████████████████████████████████████████████████████████████████████████████████████████████████████████████████████████████████████████████████████████| 6012/6012 [02:06<00:00, 47.45it/s]\n"
     ]
    },
    {
     "name": "stdout",
     "output_type": "stream",
     "text": [
      "Epoch 13 | Test Time: 2m 6s\n"
     ]
    },
    {
     "name": "stderr",
     "output_type": "stream",
     "text": [
      "100%|███████████████████████████████████████████████████████████████████████████████████████████████████████████████████████████████████████████████████████████████████| 2000/2000 [00:53<00:00, 37.41it/s]\n"
     ]
    },
    {
     "name": "stdout",
     "output_type": "stream",
     "text": [
      "i= 1995 ====================\n",
      "target_sentence 지금 중요한 것, 정말로 중요한 것은 과학자가 자유롭게 자신의 연구를 할 수 있고, 다른 과학자와 자유롭게 협업하고, 매체에 자유롭게 말하고, 대중에게 자유롭게 말할 수 있어야 한다는 것입니다.\n",
      "generate: 저희는 저희는\n",
      "====================\n",
      "i= 1996 ====================\n",
      "target_sentence 하지만 이러한 공동체들은 모두 바뀌고 있습니다.\n",
      "generate: 저희는 하나\n",
      "====================\n",
      "i= 1997 ====================\n",
      "target_sentence 저희가 전세계 망원경을 연결하는데 사용하는 이 기술은 저희를 분열시키는 몇몇 문제들을 쉽게 해결합니다.\n",
      "generate: 저희는\n",
      "====================\n",
      "i= 1998 ====================\n",
      "target_sentence \" 저는 시골에 있어서 컴퓨터에 접속할 수 없어요.\n",
      "generate: 저희는 하나\n",
      "====================\n",
      "i= 1999 ====================\n",
      "target_sentence 아이들은 세상을 변화시키고 싶어 합니다.\n",
      "generate: 저희는 우리는\n",
      "====================\n",
      "Epoch 13 | Eval Time: 0m 53s\n",
      "\tTrain Loss: 4.963 | Test Loss: 4.574\n",
      "\tBLEU Score:\n",
      "\t\tavg: 0.001\n",
      "\t\t1-gram: 1.114\n",
      "\t\t2-gram: 0.040\n",
      "\t\t3-gram: 0.045\n",
      "\t\t4-gram: 0.028\n",
      "{'avg': [0.0183585191995384, 0.0207460023132086, 0.0033711980055702, 0.0002114518166857, 0.0017461903515971, 0.0, 0.0, 0.0, 0.0219599971536394, 0.0013401491744613, 0.0199400985024767, 2.708368582257652e-05, 0.0006417906432716246], '1-gram': [4.541511771995044, 3.150656386747239, 4.395904436860068, 2.7502126453076268, 4.749199573105656, 4.2639593908629445, 4.302536231884058, 7.91295746785361, 2.522651977807049, 10.870377288008966, 2.9565602836879434, 5.900266463646745, 1.1135857461024499], '2-gram': [0.0353606789250353, 0.0272789270288702, 0.0177525297354873, 0.0327439423706614, 0.2288329519450801, 0.0, 0.2369668246445497, 2.272727272727273, 0.0390404719559276, 0.0149075730471079, 0.0291814600457176, 0.0797448165869218, 0.040160642570281124], '3-gram': [0.0040574535421569, 0.0024985008994603, 0.0105263157894736, 0.0424448217317487, 0.5263157894736842, 0.0, 8.333333333333334, 0.0, 0.0023749584382273, 0.0155860349127182, 0.0026936752505117, 0.0753012048192771, 0.045167118337850046], '4-gram': [0.0022198543775528, 0.0013849648218935, 0.0055407801418439, 0.0251004016064257, 0.4310344827586206, 0.0, 0.0, 0.0, 0.0013020155200249, 0.0084231805929919, 0.0014102781068426, 0.0394321766561514, 0.02828054298642534]}\n"
     ]
    },
    {
     "name": "stderr",
     "output_type": "stream",
     "text": [
      "  0%|                                                                                                                                                                             | 0/24436 [00:00<?, ?it/s]"
     ]
    },
    {
     "name": "stdout",
     "output_type": "stream",
     "text": [
      "loss 5.227834701538086\n"
     ]
    },
    {
     "name": "stderr",
     "output_type": "stream",
     "text": [
      "/home/jiazhen/.local/lib/python3.8/site-packages/torch/nn/functional.py:5109: UserWarning: Support for mismatched key_padding_mask and attn_mask is deprecated. Use same type for both instead.\n",
      "  warnings.warn(\n",
      "  0%|                                                                                                                                                                     | 2/24436 [00:00<29:00, 14.04it/s]"
     ]
    },
    {
     "name": "stdout",
     "output_type": "stream",
     "text": [
      "loss 9.841496467590332\n",
      "loss 14.36479663848877\n"
     ]
    },
    {
     "name": "stderr",
     "output_type": "stream",
     "text": [
      "100%|█████████████████████████████████████████████████████████████████████████████████████████████████████████████████████████████████████████████████████████████████| 24436/24436 [26:24<00:00, 15.42it/s]\n"
     ]
    },
    {
     "name": "stdout",
     "output_type": "stream",
     "text": [
      "Epoch 14 | Train Time: 26m 27s\n"
     ]
    },
    {
     "name": "stderr",
     "output_type": "stream",
     "text": [
      "100%|███████████████████████████████████████████████████████████████████████████████████████████████████████████████████████████████████████████████████████████████████| 6012/6012 [02:06<00:00, 47.36it/s]\n"
     ]
    },
    {
     "name": "stdout",
     "output_type": "stream",
     "text": [
      "Epoch 14 | Test Time: 2m 6s\n"
     ]
    },
    {
     "name": "stderr",
     "output_type": "stream",
     "text": [
      "100%|███████████████████████████████████████████████████████████████████████████████████████████████████████████████████████████████████████████████████████████████████| 2000/2000 [00:38<00:00, 51.89it/s]\n"
     ]
    },
    {
     "name": "stdout",
     "output_type": "stream",
     "text": [
      "i= 1995 ====================\n",
      "target_sentence \" 구름\" 이 불빛을 켜고 끄는 등등 모든 걸 \" 구름\" 이 합니다.\n",
      "generate: 하지만\n",
      "====================\n",
      "i= 1996 ====================\n",
      "target_sentence 오늘날 미국의 청년들은 자랑스럽게도 더 좋은 사회를 만들기 위해서 고쳐야 할 사회적 문제들을 다루는 일을 하고 있습니다.\n",
      "generate: 제\n",
      "====================\n",
      "i= 1997 ====================\n",
      "target_sentence 그리고 학교 행사에 가면 식당에서 일하는 분들이 프로그램에 아주 의미 있게 초대 되는 것을 발견했습니다.\n",
      "generate: 제 냐\n",
      "====================\n",
      "i= 1998 ====================\n",
      "target_sentence 효율적으로 건강을 유지하려면 사람들은 지속적으로 자신의 건강에 관한 데이터를 나눌 준비가 되어야 합니다.\n",
      "generate: 제\n",
      "====================\n",
      "i= 1999 ====================\n",
      "target_sentence 런닝 머신에 잠시 빠져 나가 있을 때 조차도 제가 얻는 건강은 헤드라인에서 또 다른 대통령 트윗을 보는 즉시 없어 집니다.\n",
      "generate: 제\n",
      "====================\n",
      "Epoch 14 | Eval Time: 0m 38s\n",
      "\tTrain Loss: 4.966 | Test Loss: 4.573\n",
      "\tBLEU Score:\n",
      "\t\tavg: 0.000\n",
      "\t\t1-gram: 3.881\n",
      "\t\t2-gram: 0.575\n",
      "\t\t3-gram: 0.000\n",
      "\t\t4-gram: 0.000\n",
      "{'avg': [0.0183585191995384, 0.0207460023132086, 0.0033711980055702, 0.0002114518166857, 0.0017461903515971, 0.0, 0.0, 0.0, 0.0219599971536394, 0.0013401491744613, 0.0199400985024767, 2.708368582257652e-05, 0.0006417906432716, 0.0], '1-gram': [4.541511771995044, 3.150656386747239, 4.395904436860068, 2.7502126453076268, 4.749199573105656, 4.2639593908629445, 4.302536231884058, 7.91295746785361, 2.522651977807049, 10.870377288008966, 2.9565602836879434, 5.900266463646745, 1.11358574610245, 3.881169142309535], '2-gram': [0.0353606789250353, 0.0272789270288702, 0.0177525297354873, 0.0327439423706614, 0.2288329519450801, 0.0, 0.2369668246445497, 2.272727272727273, 0.0390404719559276, 0.0149075730471079, 0.0291814600457176, 0.0797448165869218, 0.0401606425702811, 0.5747126436781609], '3-gram': [0.0040574535421569, 0.0024985008994603, 0.0105263157894736, 0.0424448217317487, 0.5263157894736842, 0.0, 8.333333333333334, 0.0, 0.0023749584382273, 0.0155860349127182, 0.0026936752505117, 0.0753012048192771, 0.04516711833785, 0.0], '4-gram': [0.0022198543775528, 0.0013849648218935, 0.0055407801418439, 0.0251004016064257, 0.4310344827586206, 0.0, 0.0, 0.0, 0.0013020155200249, 0.0084231805929919, 0.0014102781068426, 0.0394321766561514, 0.0282805429864253, 0.0]}\n"
     ]
    },
    {
     "name": "stderr",
     "output_type": "stream",
     "text": [
      "  0%|                                                                                                                                                                             | 0/24436 [00:00<?, ?it/s]"
     ]
    },
    {
     "name": "stdout",
     "output_type": "stream",
     "text": [
      "loss 5.299788951873779\n"
     ]
    },
    {
     "name": "stderr",
     "output_type": "stream",
     "text": [
      "/home/jiazhen/.local/lib/python3.8/site-packages/torch/nn/functional.py:5109: UserWarning: Support for mismatched key_padding_mask and attn_mask is deprecated. Use same type for both instead.\n",
      "  warnings.warn(\n",
      "  0%|                                                                                                                                                                     | 4/24436 [00:00<26:28, 15.38it/s]"
     ]
    },
    {
     "name": "stdout",
     "output_type": "stream",
     "text": [
      "loss 11.070647716522217\n",
      "loss 16.49861764907837\n"
     ]
    },
    {
     "name": "stderr",
     "output_type": "stream",
     "text": [
      "100%|█████████████████████████████████████████████████████████████████████████████████████████████████████████████████████████████████████████████████████████████████| 24436/24436 [26:24<00:00, 15.42it/s]\n"
     ]
    },
    {
     "name": "stdout",
     "output_type": "stream",
     "text": [
      "Epoch 15 | Train Time: 26m 28s\n"
     ]
    },
    {
     "name": "stderr",
     "output_type": "stream",
     "text": [
      "100%|███████████████████████████████████████████████████████████████████████████████████████████████████████████████████████████████████████████████████████████████████| 6012/6012 [02:07<00:00, 47.33it/s]\n"
     ]
    },
    {
     "name": "stdout",
     "output_type": "stream",
     "text": [
      "Epoch 15 | Test Time: 2m 7s\n"
     ]
    },
    {
     "name": "stderr",
     "output_type": "stream",
     "text": [
      "100%|███████████████████████████████████████████████████████████████████████████████████████████████████████████████████████████████████████████████████████████████████| 2000/2000 [00:37<00:00, 53.25it/s]\n"
     ]
    },
    {
     "name": "stdout",
     "output_type": "stream",
     "text": [
      "i= 1995 ====================\n",
      "target_sentence 하지만 전화나 스니커즈 같은 신발 의자, 공산품, 페니실린 우리에게 꼭 필요한 것 들은 전부 최근에 탄생한 것 들입니다.\n",
      "generate: 하지만\n",
      "====================\n",
      "i= 1996 ====================\n",
      "target_sentence 그리스 신화를 돌이켜보면 제우스가 판도라를 창조하고 상자와 함께 그녀를 지상으로 보내면서 \" 절대로 상자를 열지 말 아라\" 라고 했습니다.\n",
      "generate: 하지만\n",
      "====================\n",
      "i= 1997 ====================\n",
      "target_sentence 전반적으로, 어린이들의 도시계획은 넓은 포용력을 갖고 있었습니다.\n",
      "generate: 하지만\n",
      "====================\n",
      "i= 1998 ====================\n",
      "target_sentence 그들이 일자리를 받아들이고 기회를 잡을 수 있게 도와주세요.\n",
      "generate: 하지만\n",
      "====================\n",
      "i= 1999 ====================\n",
      "target_sentence 2에 관한 진실이 있어요.\n",
      "generate: 하지만\n",
      "====================\n",
      "Epoch 15 | Eval Time: 0m 37s\n",
      "\tTrain Loss: 4.965 | Test Loss: 4.586\n",
      "\tBLEU Score:\n",
      "\t\tavg: 0.000\n",
      "\t\t1-gram: 4.269\n",
      "\t\t2-gram: 0.000\n",
      "\t\t3-gram: 0.000\n",
      "\t\t4-gram: 0.000\n",
      "{'avg': [0.0183585191995384, 0.0207460023132086, 0.0033711980055702, 0.0002114518166857, 0.0017461903515971, 0.0, 0.0, 0.0, 0.0219599971536394, 0.0013401491744613, 0.0199400985024767, 2.708368582257652e-05, 0.0006417906432716, 0.0, 0.0], '1-gram': [4.541511771995044, 3.150656386747239, 4.395904436860068, 2.7502126453076268, 4.749199573105656, 4.2639593908629445, 4.302536231884058, 7.91295746785361, 2.522651977807049, 10.870377288008966, 2.9565602836879434, 5.900266463646745, 1.11358574610245, 3.881169142309535, 4.269211451531894], '2-gram': [0.0353606789250353, 0.0272789270288702, 0.0177525297354873, 0.0327439423706614, 0.2288329519450801, 0.0, 0.2369668246445497, 2.272727272727273, 0.0390404719559276, 0.0149075730471079, 0.0291814600457176, 0.0797448165869218, 0.0401606425702811, 0.5747126436781609, 0.0], '3-gram': [0.0040574535421569, 0.0024985008994603, 0.0105263157894736, 0.0424448217317487, 0.5263157894736842, 0.0, 8.333333333333334, 0.0, 0.0023749584382273, 0.0155860349127182, 0.0026936752505117, 0.0753012048192771, 0.04516711833785, 0.0, 0.0], '4-gram': [0.0022198543775528, 0.0013849648218935, 0.0055407801418439, 0.0251004016064257, 0.4310344827586206, 0.0, 0.0, 0.0, 0.0013020155200249, 0.0084231805929919, 0.0014102781068426, 0.0394321766561514, 0.0282805429864253, 0.0, 0.0]}\n"
     ]
    },
    {
     "name": "stderr",
     "output_type": "stream",
     "text": [
      "  0%|                                                                                                                                                                             | 0/24436 [00:00<?, ?it/s]"
     ]
    },
    {
     "name": "stdout",
     "output_type": "stream",
     "text": [
      "loss 5.443282604217529\n"
     ]
    },
    {
     "name": "stderr",
     "output_type": "stream",
     "text": [
      "/home/jiazhen/.local/lib/python3.8/site-packages/torch/nn/functional.py:5109: UserWarning: Support for mismatched key_padding_mask and attn_mask is deprecated. Use same type for both instead.\n",
      "  warnings.warn(\n",
      "  0%|                                                                                                                                                                     | 2/24436 [00:00<28:57, 14.07it/s]"
     ]
    },
    {
     "name": "stdout",
     "output_type": "stream",
     "text": [
      "loss 10.18122911453247\n",
      "loss 15.210192680358887\n"
     ]
    },
    {
     "name": "stderr",
     "output_type": "stream",
     "text": [
      "100%|█████████████████████████████████████████████████████████████████████████████████████████████████████████████████████████████████████████████████████████████████| 24436/24436 [26:27<00:00, 15.40it/s]\n"
     ]
    },
    {
     "name": "stdout",
     "output_type": "stream",
     "text": [
      "Epoch 16 | Train Time: 26m 29s\n"
     ]
    },
    {
     "name": "stderr",
     "output_type": "stream",
     "text": [
      "100%|███████████████████████████████████████████████████████████████████████████████████████████████████████████████████████████████████████████████████████████████████| 6012/6012 [02:06<00:00, 47.45it/s]\n"
     ]
    },
    {
     "name": "stdout",
     "output_type": "stream",
     "text": [
      "Epoch 16 | Test Time: 2m 6s\n"
     ]
    },
    {
     "name": "stderr",
     "output_type": "stream",
     "text": [
      "100%|███████████████████████████████████████████████████████████████████████████████████████████████████████████████████████████████████████████████████████████████████| 2000/2000 [00:44<00:00, 44.71it/s]\n"
     ]
    },
    {
     "name": "stdout",
     "output_type": "stream",
     "text": [
      "i= 1995 ====================\n",
      "target_sentence ( 웃음) 밴쿠버요.\n",
      "generate: 하지만\n",
      "====================\n",
      "i= 1996 ====================\n",
      "target_sentence M87에 위치한 블랙홀은 6.5억 개의 태양 질량인 것으로 밝혀졌습니다.\n",
      "generate: 하지만 우리는\n",
      "====================\n",
      "i= 1997 ====================\n",
      "target_sentence 제 시험은 끝이 났고 어떤 면에서는 성공이었습니다.\n",
      "generate: 하지만 할\n",
      "====================\n",
      "i= 1998 ====================\n",
      "target_sentence 인도의 쓰레기 관리 문제의 해결을 돕고 있는 재활용 가이 자 반 얀 네이션의 공동대표인 마니 바치 파이를 환영해 주세요.\n",
      "generate: 하지만\n",
      "====================\n",
      "i= 1999 ====================\n",
      "target_sentence 악마가 마을에 왔습니다.\n",
      "generate: 하지만\n",
      "====================\n",
      "Epoch 16 | Eval Time: 0m 44s\n",
      "\tTrain Loss: 4.965 | Test Loss: 4.534\n",
      "\tBLEU Score:\n",
      "\t\tavg: 0.000\n",
      "\t\t1-gram: 5.029\n",
      "\t\t2-gram: 0.040\n",
      "\t\t3-gram: 0.298\n",
      "\t\t4-gram: 0.521\n",
      "{'avg': [0.0183585191995384, 0.0207460023132086, 0.0033711980055702, 0.0002114518166857, 0.0017461903515971, 0.0, 0.0, 0.0, 0.0219599971536394, 0.0013401491744613, 0.0199400985024767, 2.708368582257652e-05, 0.0006417906432716, 0.0, 0.0, 0.0004281946648516464], '1-gram': [4.541511771995044, 3.150656386747239, 4.395904436860068, 2.7502126453076268, 4.749199573105656, 4.2639593908629445, 4.302536231884058, 7.91295746785361, 2.522651977807049, 10.870377288008966, 2.9565602836879434, 5.900266463646745, 1.11358574610245, 3.881169142309535, 4.269211451531894, 5.029311940759025], '2-gram': [0.0353606789250353, 0.0272789270288702, 0.0177525297354873, 0.0327439423706614, 0.2288329519450801, 0.0, 0.2369668246445497, 2.272727272727273, 0.0390404719559276, 0.0149075730471079, 0.0291814600457176, 0.0797448165869218, 0.0401606425702811, 0.5747126436781609, 0.0, 0.040290088638195005], '3-gram': [0.0040574535421569, 0.0024985008994603, 0.0105263157894736, 0.0424448217317487, 0.5263157894736842, 0.0, 8.333333333333334, 0.0, 0.0023749584382273, 0.0155860349127182, 0.0026936752505117, 0.0753012048192771, 0.04516711833785, 0.0, 0.0, 0.2976190476190476], '4-gram': [0.0022198543775528, 0.0013849648218935, 0.0055407801418439, 0.0251004016064257, 0.4310344827586206, 0.0, 0.0, 0.0, 0.0013020155200249, 0.0084231805929919, 0.0014102781068426, 0.0394321766561514, 0.0282805429864253, 0.0, 0.0, 0.5208333333333334]}\n"
     ]
    },
    {
     "name": "stderr",
     "output_type": "stream",
     "text": [
      "  0%|                                                                                                                                                                             | 0/24436 [00:00<?, ?it/s]"
     ]
    },
    {
     "name": "stdout",
     "output_type": "stream",
     "text": [
      "loss 5.775802135467529\n"
     ]
    },
    {
     "name": "stderr",
     "output_type": "stream",
     "text": [
      "/home/jiazhen/.local/lib/python3.8/site-packages/torch/nn/functional.py:5109: UserWarning: Support for mismatched key_padding_mask and attn_mask is deprecated. Use same type for both instead.\n",
      "  warnings.warn(\n",
      "  0%|                                                                                                                                                                     | 4/24436 [00:00<26:53, 15.15it/s]"
     ]
    },
    {
     "name": "stdout",
     "output_type": "stream",
     "text": [
      "loss 9.756084203720093\n",
      "loss 14.60191798210144\n"
     ]
    },
    {
     "name": "stderr",
     "output_type": "stream",
     "text": [
      "100%|█████████████████████████████████████████████████████████████████████████████████████████████████████████████████████████████████████████████████████████████████| 24436/24436 [26:21<00:00, 15.45it/s]\n"
     ]
    },
    {
     "name": "stdout",
     "output_type": "stream",
     "text": [
      "Epoch 17 | Train Time: 26m 23s\n"
     ]
    },
    {
     "name": "stderr",
     "output_type": "stream",
     "text": [
      "100%|███████████████████████████████████████████████████████████████████████████████████████████████████████████████████████████████████████████████████████████████████| 6012/6012 [02:07<00:00, 47.25it/s]\n"
     ]
    },
    {
     "name": "stdout",
     "output_type": "stream",
     "text": [
      "Epoch 17 | Test Time: 2m 7s\n"
     ]
    },
    {
     "name": "stderr",
     "output_type": "stream",
     "text": [
      "100%|██████████████████████████████████████████████████████████████████████████████████████████████████████████████████████████████████████████████████████████████████▊| 1998/2000 [01:32<00:00, 18.25it/s]"
     ]
    },
    {
     "name": "stdout",
     "output_type": "stream",
     "text": [
      "i= 1995 ====================\n",
      "target_sentence 이 모든 단점들에도, 오랜 시간 동안 많은 나라에서 더 높은 GDP는 더 나은 삶의 질과 밀접한 연관성을 보여주었습니다.\n",
      "generate: 하지만, 네, 네, 네,\n",
      "====================\n",
      "i= 1996 ====================\n",
      "target_sentence 여러분도 자외선이 어떤 건지 잘 아실 겁니다\n",
      "generate: 하지만, 감사합니다, 네, 네, 네, 네,\n",
      "====================\n",
      "i= 1997 ====================\n",
      "target_sentence 5년은 바로 지난 5년이었습니다.\n",
      "generate: 하지만, 네, 네, 네,\n",
      "====================\n",
      "i= 1998 ====================\n",
      "target_sentence 그들은 자유연설의 문장들을 만들 수 있었습니다.\n",
      "generate: 하지만\n",
      "====================\n"
     ]
    },
    {
     "name": "stderr",
     "output_type": "stream",
     "text": [
      "100%|███████████████████████████████████████████████████████████████████████████████████████████████████████████████████████████████████████████████████████████████████| 2000/2000 [01:32<00:00, 21.58it/s]\n"
     ]
    },
    {
     "name": "stdout",
     "output_type": "stream",
     "text": [
      "i= 1999 ====================\n",
      "target_sentence 알든 에서는 저널리스트들을 더 자 르라고 했죠.\n",
      "generate: 하지만, 감사합니다, 네, 네, 네, 네,\n",
      "====================\n",
      "Epoch 17 | Eval Time: 1m 33s\n",
      "\tTrain Loss: 4.968 | Test Loss: 4.566\n",
      "\tBLEU Score:\n",
      "\t\tavg: 0.010\n",
      "\t\t1-gram: 3.718\n",
      "\t\t2-gram: 0.048\n",
      "\t\t3-gram: 0.007\n",
      "\t\t4-gram: 0.004\n",
      "{'avg': [0.0183585191995384, 0.0207460023132086, 0.0033711980055702, 0.0002114518166857, 0.0017461903515971, 0.0, 0.0, 0.0, 0.0219599971536394, 0.0013401491744613, 0.0199400985024767, 2.708368582257652e-05, 0.0006417906432716, 0.0, 0.0, 0.0004281946648516, 0.010307915303122072], '1-gram': [4.541511771995044, 3.150656386747239, 4.395904436860068, 2.7502126453076268, 4.749199573105656, 4.2639593908629445, 4.302536231884058, 7.91295746785361, 2.522651977807049, 10.870377288008966, 2.9565602836879434, 5.900266463646745, 1.11358574610245, 3.881169142309535, 4.269211451531894, 5.029311940759025, 3.717579250720461], '2-gram': [0.0353606789250353, 0.0272789270288702, 0.0177525297354873, 0.0327439423706614, 0.2288329519450801, 0.0, 0.2369668246445497, 2.272727272727273, 0.0390404719559276, 0.0149075730471079, 0.0291814600457176, 0.0797448165869218, 0.0401606425702811, 0.5747126436781609, 0.0, 0.040290088638195, 0.04756242568370987], '3-gram': [0.0040574535421569, 0.0024985008994603, 0.0105263157894736, 0.0424448217317487, 0.5263157894736842, 0.0, 8.333333333333334, 0.0, 0.0023749584382273, 0.0155860349127182, 0.0026936752505117, 0.0753012048192771, 0.04516711833785, 0.0, 0.0, 0.2976190476190476, 0.006749460043196544], '4-gram': [0.0022198543775528, 0.0013849648218935, 0.0055407801418439, 0.0251004016064257, 0.4310344827586206, 0.0, 0.0, 0.0, 0.0013020155200249, 0.0084231805929919, 0.0014102781068426, 0.0394321766561514, 0.0282805429864253, 0.0, 0.0, 0.5208333333333334, 0.003832592365476008]}\n"
     ]
    },
    {
     "name": "stderr",
     "output_type": "stream",
     "text": [
      "  0%|                                                                                                                                                                             | 0/24436 [00:00<?, ?it/s]/home/jiazhen/.local/lib/python3.8/site-packages/torch/nn/functional.py:5109: UserWarning: Support for mismatched key_padding_mask and attn_mask is deprecated. Use same type for both instead.\n",
      "  warnings.warn(\n",
      "  0%|                                                                                                                                                                     | 4/24436 [00:00<27:11, 14.98it/s]"
     ]
    },
    {
     "name": "stdout",
     "output_type": "stream",
     "text": [
      "loss 5.6920671463012695\n",
      "loss 10.998067855834961\n",
      "loss 15.133982181549072\n"
     ]
    },
    {
     "name": "stderr",
     "output_type": "stream",
     "text": [
      "100%|█████████████████████████████████████████████████████████████████████████████████████████████████████████████████████████████████████████████████████████████████| 24436/24436 [26:24<00:00, 15.42it/s]\n"
     ]
    },
    {
     "name": "stdout",
     "output_type": "stream",
     "text": [
      "Epoch 18 | Train Time: 26m 26s\n"
     ]
    },
    {
     "name": "stderr",
     "output_type": "stream",
     "text": [
      "100%|███████████████████████████████████████████████████████████████████████████████████████████████████████████████████████████████████████████████████████████████████| 6012/6012 [02:06<00:00, 47.34it/s]\n"
     ]
    },
    {
     "name": "stdout",
     "output_type": "stream",
     "text": [
      "Epoch 18 | Test Time: 2m 6s\n"
     ]
    },
    {
     "name": "stderr",
     "output_type": "stream",
     "text": [
      "100%|███████████████████████████████████████████████████████████████████████████████████████████████████████████████████████████████████████████████████████████████████| 2000/2000 [01:08<00:00, 29.31it/s]"
     ]
    },
    {
     "name": "stdout",
     "output_type": "stream",
     "text": [
      "i= 1995 ====================\n",
      "target_sentence 하지만 지적이고, 과학적으로도 흥미로운 일 외에도, 이건 보통 제가 하고 다니는 다른 일들과 는 아주 다른 일입니다.\n",
      "generate: 우리는 우리는 입니다\n",
      "====================\n",
      "i= 1996 ====================\n",
      "target_sentence 의식적 투자가들은 ESG 문제들에 귀기울입니다.\n",
      "generate: 우리는 우리는 입니다\n",
      "====================\n",
      "i= 1997 ====================\n",
      "target_sentence \" 보세요, 우리는 가뭄에 대해 알고 있었습니다.\n",
      "generate: 우리는 우리는 입니다 입니다\n",
      "====================\n",
      "i= 1998 ====================\n",
      "target_sentence 여동생은 말라리아에 걸려 매우 아팠습니다.\n",
      "generate: 우리는, 입니다,\n",
      "====================\n",
      "i= 1999 ====================\n",
      "target_sentence 텍사스 사건은 뉴스에 보도도 되었어요.\n",
      "generate: 우리는\n",
      "====================\n"
     ]
    },
    {
     "name": "stderr",
     "output_type": "stream",
     "text": [
      "\n"
     ]
    },
    {
     "name": "stdout",
     "output_type": "stream",
     "text": [
      "Epoch 18 | Eval Time: 1m 8s\n",
      "\tTrain Loss: 4.963 | Test Loss: 4.576\n",
      "\tBLEU Score:\n",
      "\t\tavg: 0.002\n",
      "\t\t1-gram: 1.504\n",
      "\t\t2-gram: 0.011\n",
      "\t\t3-gram: 0.008\n",
      "\t\t4-gram: 0.008\n",
      "{'avg': [0.0183585191995384, 0.0207460023132086, 0.0033711980055702, 0.0002114518166857, 0.0017461903515971, 0.0, 0.0, 0.0, 0.0219599971536394, 0.0013401491744613, 0.0199400985024767, 2.708368582257652e-05, 0.0006417906432716, 0.0, 0.0, 0.0004281946648516, 0.010307915303122, 0.0017233688530195275], '1-gram': [4.541511771995044, 3.150656386747239, 4.395904436860068, 2.7502126453076268, 4.749199573105656, 4.2639593908629445, 4.302536231884058, 7.91295746785361, 2.522651977807049, 10.870377288008966, 2.9565602836879434, 5.900266463646745, 1.11358574610245, 3.881169142309535, 4.269211451531894, 5.029311940759025, 3.717579250720461, 1.504438092372499], '2-gram': [0.0353606789250353, 0.0272789270288702, 0.0177525297354873, 0.0327439423706614, 0.2288329519450801, 0.0, 0.2369668246445497, 2.272727272727273, 0.0390404719559276, 0.0149075730471079, 0.0291814600457176, 0.0797448165869218, 0.0401606425702811, 0.5747126436781609, 0.0, 0.040290088638195, 0.0475624256837098, 0.010759629868732516], '3-gram': [0.0040574535421569, 0.0024985008994603, 0.0105263157894736, 0.0424448217317487, 0.5263157894736842, 0.0, 8.333333333333334, 0.0, 0.0023749584382273, 0.0155860349127182, 0.0026936752505117, 0.0753012048192771, 0.04516711833785, 0.0, 0.0, 0.2976190476190476, 0.0067494600431965, 0.008161932745674175], '4-gram': [0.0022198543775528, 0.0013849648218935, 0.0055407801418439, 0.0251004016064257, 0.4310344827586206, 0.0, 0.0, 0.0, 0.0013020155200249, 0.0084231805929919, 0.0014102781068426, 0.0394321766561514, 0.0282805429864253, 0.0, 0.0, 0.5208333333333334, 0.003832592365476, 0.007946598855689765]}\n"
     ]
    },
    {
     "name": "stderr",
     "output_type": "stream",
     "text": [
      "  0%|                                                                                                                                                                             | 0/24436 [00:00<?, ?it/s]/home/jiazhen/.local/lib/python3.8/site-packages/torch/nn/functional.py:5109: UserWarning: Support for mismatched key_padding_mask and attn_mask is deprecated. Use same type for both instead.\n",
      "  warnings.warn(\n",
      "  0%|                                                                                                                                                                     | 2/24436 [00:00<29:04, 14.01it/s]"
     ]
    },
    {
     "name": "stdout",
     "output_type": "stream",
     "text": [
      "loss 5.42860746383667\n",
      "loss 10.836143493652344\n",
      "loss 15.856767177581787\n"
     ]
    },
    {
     "name": "stderr",
     "output_type": "stream",
     "text": [
      "100%|█████████████████████████████████████████████████████████████████████████████████████████████████████████████████████████████████████████████████████████████████| 24436/24436 [26:19<00:00, 15.48it/s]\n"
     ]
    },
    {
     "name": "stdout",
     "output_type": "stream",
     "text": [
      "Epoch 19 | Train Time: 26m 21s\n"
     ]
    },
    {
     "name": "stderr",
     "output_type": "stream",
     "text": [
      "100%|███████████████████████████████████████████████████████████████████████████████████████████████████████████████████████████████████████████████████████████████████| 6012/6012 [02:07<00:00, 47.08it/s]\n"
     ]
    },
    {
     "name": "stdout",
     "output_type": "stream",
     "text": [
      "Epoch 19 | Test Time: 2m 7s\n"
     ]
    },
    {
     "name": "stderr",
     "output_type": "stream",
     "text": [
      "100%|███████████████████████████████████████████████████████████████████████████████████████████████████████████████████████████████████████████████████████████████████| 2000/2000 [00:38<00:00, 51.93it/s]\n"
     ]
    },
    {
     "name": "stdout",
     "output_type": "stream",
     "text": [
      "i= 1995 ====================\n",
      "target_sentence 루비가 제게 가르쳐 준 것은 이런 거에요. 루비는 침대 밑의 벌레를 무서워 하면 안된다고 가르쳐 줬습니다.\n",
      "generate: 우리는\n",
      "====================\n",
      "i= 1996 ====================\n",
      "target_sentence 친구들을 데리고 가고, 아이들도 데리고 가고 여러분 가족들과 함께 가 보세요.\n",
      "generate: 우리는\n",
      "====================\n",
      "i= 1997 ====================\n",
      "target_sentence 많은 사람들이 열심히 해도 많이 발전하지 못하는 이유는 대부분의 시간을 행동영역에 사용하는 경향이 있기 때문입니다.\n",
      "generate: 우리는 우리는\n",
      "====================\n",
      "i= 1998 ====================\n",
      "target_sentence 그때 제가 그저 저녁 식사를 제공하는 사업을 하는 게 아님을 깨달았습니다.\n",
      "generate: 우리는\n",
      "====================\n",
      "i= 1999 ====================\n",
      "target_sentence 여기서 보는 것은 지구를 둘러싼 위성 그리고 우주 안에서 자리잡고 있는 우리 지구의 모습입니다.\n",
      "generate: 하지만\n",
      "====================\n",
      "Epoch 19 | Eval Time: 0m 38s\n",
      "\tTrain Loss: 4.964 | Test Loss: 4.560\n",
      "\tBLEU Score:\n",
      "\t\tavg: 0.000\n",
      "\t\t1-gram: 5.449\n",
      "\t\t2-gram: 0.143\n",
      "\t\t3-gram: 0.676\n",
      "\t\t4-gram: 0.417\n",
      "{'avg': [0.0183585191995384, 0.0207460023132086, 0.0033711980055702, 0.0002114518166857, 0.0017461903515971, 0.0, 0.0, 0.0, 0.0219599971536394, 0.0013401491744613, 0.0199400985024767, 2.708368582257652e-05, 0.0006417906432716, 0.0, 0.0, 0.0004281946648516, 0.010307915303122, 0.0017233688530195, 3.008283016107326e-05], '1-gram': [4.541511771995044, 3.150656386747239, 4.395904436860068, 2.7502126453076268, 4.749199573105656, 4.2639593908629445, 4.302536231884058, 7.91295746785361, 2.522651977807049, 10.870377288008966, 2.9565602836879434, 5.900266463646745, 1.11358574610245, 3.881169142309535, 4.269211451531894, 5.029311940759025, 3.717579250720461, 1.504438092372499, 5.449127288207748], '2-gram': [0.0353606789250353, 0.0272789270288702, 0.0177525297354873, 0.0327439423706614, 0.2288329519450801, 0.0, 0.2369668246445497, 2.272727272727273, 0.0390404719559276, 0.0149075730471079, 0.0291814600457176, 0.0797448165869218, 0.0401606425702811, 0.5747126436781609, 0.0, 0.040290088638195, 0.0475624256837098, 0.0107596298687325, 0.14326647564469913], '3-gram': [0.0040574535421569, 0.0024985008994603, 0.0105263157894736, 0.0424448217317487, 0.5263157894736842, 0.0, 8.333333333333334, 0.0, 0.0023749584382273, 0.0155860349127182, 0.0026936752505117, 0.0753012048192771, 0.04516711833785, 0.0, 0.0, 0.2976190476190476, 0.0067494600431965, 0.0081619327456741, 0.6756756756756757], '4-gram': [0.0022198543775528, 0.0013849648218935, 0.0055407801418439, 0.0251004016064257, 0.4310344827586206, 0.0, 0.0, 0.0, 0.0013020155200249, 0.0084231805929919, 0.0014102781068426, 0.0394321766561514, 0.0282805429864253, 0.0, 0.0, 0.5208333333333334, 0.003832592365476, 0.0079465988556897, 0.4166666666666667]}\n"
     ]
    },
    {
     "name": "stderr",
     "output_type": "stream",
     "text": [
      "  0%|                                                                                                                                                                             | 0/24436 [00:00<?, ?it/s]"
     ]
    },
    {
     "name": "stdout",
     "output_type": "stream",
     "text": [
      "loss 5.298328876495361\n"
     ]
    },
    {
     "name": "stderr",
     "output_type": "stream",
     "text": [
      "/home/jiazhen/.local/lib/python3.8/site-packages/torch/nn/functional.py:5109: UserWarning: Support for mismatched key_padding_mask and attn_mask is deprecated. Use same type for both instead.\n",
      "  warnings.warn(\n",
      "  0%|                                                                                                                                                                     | 4/24436 [00:00<27:13, 14.95it/s]"
     ]
    },
    {
     "name": "stdout",
     "output_type": "stream",
     "text": [
      "loss 9.548289775848389\n",
      "loss 15.005460262298584\n"
     ]
    },
    {
     "name": "stderr",
     "output_type": "stream",
     "text": [
      "100%|█████████████████████████████████████████████████████████████████████████████████████████████████████████████████████████████████████████████████████████████████| 24436/24436 [26:30<00:00, 15.37it/s]\n"
     ]
    },
    {
     "name": "stdout",
     "output_type": "stream",
     "text": [
      "Epoch 20 | Train Time: 26m 33s\n"
     ]
    },
    {
     "name": "stderr",
     "output_type": "stream",
     "text": [
      "100%|███████████████████████████████████████████████████████████████████████████████████████████████████████████████████████████████████████████████████████████████████| 6012/6012 [02:07<00:00, 47.09it/s]\n"
     ]
    },
    {
     "name": "stdout",
     "output_type": "stream",
     "text": [
      "Epoch 20 | Test Time: 2m 7s\n"
     ]
    },
    {
     "name": "stderr",
     "output_type": "stream",
     "text": [
      "100%|███████████████████████████████████████████████████████████████████████████████████████████████████████████████████████████████████████████████████████████████████| 2000/2000 [00:37<00:00, 52.82it/s]\n"
     ]
    },
    {
     "name": "stdout",
     "output_type": "stream",
     "text": [
      "i= 1995 ====================\n",
      "target_sentence 이것은 제가 만든 초기 뮤직 비디오 중 하나입니다.\n",
      "generate: 그러니\n",
      "====================\n",
      "i= 1996 ====================\n",
      "target_sentence 뇌의 깊은 곳에 전극을 심어서 신경세포 회로를 조절하여 신경 기능을 촉진시키는 치료방법입니다.\n",
      "generate: 그러니\n",
      "====================\n",
      "i= 1997 ====================\n",
      "target_sentence 당신이 다시 방향을 바꾸면, 폭풍우도 따라갑니다.\n",
      "generate: 그러니\n",
      "====================\n",
      "i= 1998 ====================\n",
      "target_sentence 인도와 중국도 참여시켜야 합니다.\n",
      "generate: 하지만\n",
      "====================\n",
      "i= 1999 ====================\n",
      "target_sentence \" 저도 잠 못 이룬 날이 많았습니다.\n",
      "generate: 그러니\n",
      "====================\n",
      "Epoch 20 | Eval Time: 0m 37s\n",
      "\tTrain Loss: 4.939 | Test Loss: 4.542\n",
      "\tBLEU Score:\n",
      "\t\tavg: 0.000\n",
      "\t\t1-gram: 0.655\n",
      "\t\t2-gram: 0.000\n",
      "\t\t3-gram: 0.000\n",
      "\t\t4-gram: 0.000\n",
      "===== load best model =====\n",
      "{'avg': [0.0183585191995384, 0.0207460023132086, 0.0033711980055702, 0.0002114518166857, 0.0017461903515971, 0.0, 0.0, 0.0, 0.0219599971536394, 0.0013401491744613, 0.0199400985024767, 2.708368582257652e-05, 0.0006417906432716, 0.0, 0.0, 0.0004281946648516, 0.010307915303122, 0.0017233688530195, 3.008283016107326e-05, 0.0], '1-gram': [4.541511771995044, 3.150656386747239, 4.395904436860068, 2.7502126453076268, 4.749199573105656, 4.2639593908629445, 4.302536231884058, 7.91295746785361, 2.522651977807049, 10.870377288008966, 2.9565602836879434, 5.900266463646745, 1.11358574610245, 3.881169142309535, 4.269211451531894, 5.029311940759025, 3.717579250720461, 1.504438092372499, 5.449127288207748, 0.6545820745216515], '2-gram': [0.0353606789250353, 0.0272789270288702, 0.0177525297354873, 0.0327439423706614, 0.2288329519450801, 0.0, 0.2369668246445497, 2.272727272727273, 0.0390404719559276, 0.0149075730471079, 0.0291814600457176, 0.0797448165869218, 0.0401606425702811, 0.5747126436781609, 0.0, 0.040290088638195, 0.0475624256837098, 0.0107596298687325, 0.1432664756446991, 0.0], '3-gram': [0.0040574535421569, 0.0024985008994603, 0.0105263157894736, 0.0424448217317487, 0.5263157894736842, 0.0, 8.333333333333334, 0.0, 0.0023749584382273, 0.0155860349127182, 0.0026936752505117, 0.0753012048192771, 0.04516711833785, 0.0, 0.0, 0.2976190476190476, 0.0067494600431965, 0.0081619327456741, 0.6756756756756757, 0.0], '4-gram': [0.0022198543775528, 0.0013849648218935, 0.0055407801418439, 0.0251004016064257, 0.4310344827586206, 0.0, 0.0, 0.0, 0.0013020155200249, 0.0084231805929919, 0.0014102781068426, 0.0394321766561514, 0.0282805429864253, 0.0, 0.0, 0.5208333333333334, 0.003832592365476, 0.0079465988556897, 0.4166666666666667, 0.0]}\n"
     ]
    },
    {
     "name": "stderr",
     "output_type": "stream",
     "text": [
      "  0%|                                                                                                                                                                             | 0/24436 [00:00<?, ?it/s]/home/jiazhen/.local/lib/python3.8/site-packages/torch/nn/functional.py:5109: UserWarning: Support for mismatched key_padding_mask and attn_mask is deprecated. Use same type for both instead.\n",
      "  warnings.warn(\n",
      "  0%|                                                                                                                                                                     | 4/24436 [00:00<26:43, 15.23it/s]"
     ]
    },
    {
     "name": "stdout",
     "output_type": "stream",
     "text": [
      "loss 4.810750961303711\n",
      "loss 8.805646419525146\n",
      "loss 13.735669136047363\n"
     ]
    },
    {
     "name": "stderr",
     "output_type": "stream",
     "text": [
      "100%|█████████████████████████████████████████████████████████████████████████████████████████████████████████████████████████████████████████████████████████████████| 24436/24436 [26:27<00:00, 15.39it/s]\n"
     ]
    },
    {
     "name": "stdout",
     "output_type": "stream",
     "text": [
      "Epoch 21 | Train Time: 26m 29s\n"
     ]
    },
    {
     "name": "stderr",
     "output_type": "stream",
     "text": [
      "100%|███████████████████████████████████████████████████████████████████████████████████████████████████████████████████████████████████████████████████████████████████| 6012/6012 [02:07<00:00, 47.28it/s]\n"
     ]
    },
    {
     "name": "stdout",
     "output_type": "stream",
     "text": [
      "Epoch 21 | Test Time: 2m 7s\n"
     ]
    },
    {
     "name": "stderr",
     "output_type": "stream",
     "text": [
      "100%|███████████████████████████████████████████████████████████████████████████████████████████████████████████████████████████████████████████████████████████████████| 2000/2000 [00:36<00:00, 54.23it/s]\n"
     ]
    },
    {
     "name": "stdout",
     "output_type": "stream",
     "text": [
      "i= 1995 ====================\n",
      "target_sentence 고트만은 수백 커플이 대화를 하는 걸 관찰해서 여러분이 생각할 수 있는 무엇이든지 전부 녹음했습니다.\n",
      "generate: 이런\n",
      "====================\n",
      "i= 1996 ====================\n",
      "target_sentence 처음에 우리가 한 것은 서명 정도였습니다.\n",
      "generate: 하지만\n",
      "====================\n",
      "i= 1997 ====================\n",
      "target_sentence 조리 나는 방 글라 데시 북쪽의 오지 마을에서 태어났습니다.\n",
      "generate: 하지만\n",
      "====================\n",
      "i= 1998 ====================\n",
      "target_sentence 사르가소 해의 남측 끝단에서요. 장어가 왕복 이동을 한다는 것을 알고 있음에도 불구하고 여전히 과학자들은 장어들의 짝 직기를 본 적이 없었고 장어의 알 하나도 찾을 수 없었습니다.\n",
      "generate: 하지만\n",
      "====================\n",
      "i= 1999 ====================\n",
      "target_sentence 6개월 뒤 일본으로 갈 기회가 생겼습니다.\n",
      "generate: 저는\n",
      "====================\n",
      "Epoch 21 | Eval Time: 0m 36s\n",
      "\tTrain Loss: 4.961 | Test Loss: 4.580\n",
      "\tBLEU Score:\n",
      "\t\tavg: 0.000\n",
      "\t\t1-gram: 5.700\n",
      "\t\t2-gram: 12.500\n",
      "\t\t3-gram: 0.000\n",
      "\t\t4-gram: 0.000\n",
      "{'avg': [0.0183585191995384, 0.0207460023132086, 0.0033711980055702, 0.0002114518166857, 0.0017461903515971, 0.0, 0.0, 0.0, 0.0219599971536394, 0.0013401491744613, 0.0199400985024767, 2.708368582257652e-05, 0.0006417906432716, 0.0, 0.0, 0.0004281946648516, 0.010307915303122, 0.0017233688530195, 3.008283016107326e-05, 0.0, 0.0], '1-gram': [4.541511771995044, 3.150656386747239, 4.395904436860068, 2.7502126453076268, 4.749199573105656, 4.2639593908629445, 4.302536231884058, 7.91295746785361, 2.522651977807049, 10.870377288008966, 2.9565602836879434, 5.900266463646745, 1.11358574610245, 3.881169142309535, 4.269211451531894, 5.029311940759025, 3.717579250720461, 1.504438092372499, 5.449127288207748, 0.6545820745216515, 5.7], '2-gram': [0.0353606789250353, 0.0272789270288702, 0.0177525297354873, 0.0327439423706614, 0.2288329519450801, 0.0, 0.2369668246445497, 2.272727272727273, 0.0390404719559276, 0.0149075730471079, 0.0291814600457176, 0.0797448165869218, 0.0401606425702811, 0.5747126436781609, 0.0, 0.040290088638195, 0.0475624256837098, 0.0107596298687325, 0.1432664756446991, 0.0, 12.5], '3-gram': [0.0040574535421569, 0.0024985008994603, 0.0105263157894736, 0.0424448217317487, 0.5263157894736842, 0.0, 8.333333333333334, 0.0, 0.0023749584382273, 0.0155860349127182, 0.0026936752505117, 0.0753012048192771, 0.04516711833785, 0.0, 0.0, 0.2976190476190476, 0.0067494600431965, 0.0081619327456741, 0.6756756756756757, 0.0, 0.0], '4-gram': [0.0022198543775528, 0.0013849648218935, 0.0055407801418439, 0.0251004016064257, 0.4310344827586206, 0.0, 0.0, 0.0, 0.0013020155200249, 0.0084231805929919, 0.0014102781068426, 0.0394321766561514, 0.0282805429864253, 0.0, 0.0, 0.5208333333333334, 0.003832592365476, 0.0079465988556897, 0.4166666666666667, 0.0, 0.0]}\n"
     ]
    },
    {
     "name": "stderr",
     "output_type": "stream",
     "text": [
      "  0%|                                                                                                                                                                             | 0/24436 [00:00<?, ?it/s]"
     ]
    },
    {
     "name": "stdout",
     "output_type": "stream",
     "text": [
      "loss 4.6027326583862305\n"
     ]
    },
    {
     "name": "stderr",
     "output_type": "stream",
     "text": [
      "/home/jiazhen/.local/lib/python3.8/site-packages/torch/nn/functional.py:5109: UserWarning: Support for mismatched key_padding_mask and attn_mask is deprecated. Use same type for both instead.\n",
      "  warnings.warn(\n",
      "  0%|                                                                                                                                                                     | 4/24436 [00:00<27:24, 14.86it/s]"
     ]
    },
    {
     "name": "stdout",
     "output_type": "stream",
     "text": [
      "loss 9.93723440170288\n",
      "loss 14.719393253326416\n"
     ]
    },
    {
     "name": "stderr",
     "output_type": "stream",
     "text": [
      "100%|█████████████████████████████████████████████████████████████████████████████████████████████████████████████████████████████████████████████████████████████████| 24436/24436 [26:20<00:00, 15.46it/s]\n"
     ]
    },
    {
     "name": "stdout",
     "output_type": "stream",
     "text": [
      "Epoch 22 | Train Time: 26m 22s\n"
     ]
    },
    {
     "name": "stderr",
     "output_type": "stream",
     "text": [
      "100%|███████████████████████████████████████████████████████████████████████████████████████████████████████████████████████████████████████████████████████████████████| 6012/6012 [02:06<00:00, 47.43it/s]\n"
     ]
    },
    {
     "name": "stdout",
     "output_type": "stream",
     "text": [
      "Epoch 22 | Test Time: 2m 6s\n"
     ]
    },
    {
     "name": "stderr",
     "output_type": "stream",
     "text": [
      "100%|██████████████████████████████████████████████████████████████████████████████████████████████████████████████████████████████████████████████████████████████████▍| 1993/2000 [01:15<00:00, 25.12it/s]"
     ]
    },
    {
     "name": "stdout",
     "output_type": "stream",
     "text": [
      "i= 1995 ====================\n",
      "target_sentence 그곳은 우리가 잘 아는 해변이었습니다.\n",
      "generate: 정말\n",
      "====================\n"
     ]
    },
    {
     "name": "stderr",
     "output_type": "stream",
     "text": [
      "100%|███████████████████████████████████████████████████████████████████████████████████████████████████████████████████████████████████████████████████████████████████| 2000/2000 [01:15<00:00, 26.49it/s]"
     ]
    },
    {
     "name": "stdout",
     "output_type": "stream",
     "text": [
      "i= 1996 ====================\n",
      "target_sentence 일부 원조는 사람들이 위험을 감수할 수 있게 하는 보증 방법으로 사용될 수 없을까요?\n",
      "generate: 그것이 냐 냐 냐 많은 많은 많은 많은 많은 많은 많은 많은 많은 많은 많은 많은 많은 많은 많은 많은 많은 많은 많은 많은 많은 많은 많은 많은 많은 많은\n",
      "====================\n",
      "i= 1997 ====================\n",
      "target_sentence 이 과정은 그룹들 간의 차이점이 오직 연구자가 시도하려는 연구의 차이밖에 없다는 것 점을 확실하게 합니다.\n",
      "generate: 그것이\n",
      "====================\n",
      "i= 1998 ====================\n",
      "target_sentence 하지만 강요가 아닌 권유였기에 문제는 계속되었습니다.\n",
      "generate: 그것이\n",
      "====================\n",
      "i= 1999 ====================\n",
      "target_sentence 망가 진 체계를 고치고 21 세기를 위한 민주주의를 다시 만들 방법은 뭘 까요?\n",
      "generate: 그것이\n",
      "====================\n",
      "Epoch 22 | Eval Time: 1m 15s\n",
      "\tTrain Loss: 4.964 | Test Loss: 4.576\n",
      "\tBLEU Score:\n",
      "\t\tavg: 0.001\n",
      "\t\t1-gram: 0.310\n",
      "\t\t2-gram: 0.008\n",
      "\t\t3-gram: 0.004\n",
      "\t\t4-gram: 0.002\n"
     ]
    },
    {
     "name": "stderr",
     "output_type": "stream",
     "text": [
      "\n"
     ]
    },
    {
     "name": "stdout",
     "output_type": "stream",
     "text": [
      "===== load best model =====\n",
      "{'avg': [0.0183585191995384, 0.0207460023132086, 0.0033711980055702, 0.0002114518166857, 0.0017461903515971, 0.0, 0.0, 0.0, 0.0219599971536394, 0.0013401491744613, 0.0199400985024767, 2.708368582257652e-05, 0.0006417906432716, 0.0, 0.0, 0.0004281946648516, 0.010307915303122, 0.0017233688530195, 3.008283016107326e-05, 0.0, 0.0, 0.0010730512239388152], '1-gram': [4.541511771995044, 3.150656386747239, 4.395904436860068, 2.7502126453076268, 4.749199573105656, 4.2639593908629445, 4.302536231884058, 7.91295746785361, 2.522651977807049, 10.870377288008966, 2.9565602836879434, 5.900266463646745, 1.11358574610245, 3.881169142309535, 4.269211451531894, 5.029311940759025, 3.717579250720461, 1.504438092372499, 5.449127288207748, 0.6545820745216515, 5.7, 0.30991735537190085], '2-gram': [0.0353606789250353, 0.0272789270288702, 0.0177525297354873, 0.0327439423706614, 0.2288329519450801, 0.0, 0.2369668246445497, 2.272727272727273, 0.0390404719559276, 0.0149075730471079, 0.0291814600457176, 0.0797448165869218, 0.0401606425702811, 0.5747126436781609, 0.0, 0.040290088638195, 0.0475624256837098, 0.0107596298687325, 0.1432664756446991, 0.0, 12.5, 0.007680491551459293], '3-gram': [0.0040574535421569, 0.0024985008994603, 0.0105263157894736, 0.0424448217317487, 0.5263157894736842, 0.0, 8.333333333333334, 0.0, 0.0023749584382273, 0.0155860349127182, 0.0026936752505117, 0.0753012048192771, 0.04516711833785, 0.0, 0.0, 0.2976190476190476, 0.0067494600431965, 0.0081619327456741, 0.6756756756756757, 0.0, 0.0, 0.004023821020441011], '4-gram': [0.0022198543775528, 0.0013849648218935, 0.0055407801418439, 0.0251004016064257, 0.4310344827586206, 0.0, 0.0, 0.0, 0.0013020155200249, 0.0084231805929919, 0.0014102781068426, 0.0394321766561514, 0.0282805429864253, 0.0, 0.0, 0.5208333333333334, 0.003832592365476, 0.0079465988556897, 0.4166666666666667, 0.0, 0.0, 0.0021129141311697092]}\n"
     ]
    },
    {
     "name": "stderr",
     "output_type": "stream",
     "text": [
      "  0%|                                                                                                                                                                             | 0/24436 [00:00<?, ?it/s]/home/jiazhen/.local/lib/python3.8/site-packages/torch/nn/functional.py:5109: UserWarning: Support for mismatched key_padding_mask and attn_mask is deprecated. Use same type for both instead.\n",
      "  warnings.warn(\n",
      "  0%|                                                                                                                                                                     | 4/24436 [00:00<26:45, 15.22it/s]"
     ]
    },
    {
     "name": "stdout",
     "output_type": "stream",
     "text": [
      "loss 5.722829341888428\n",
      "loss 9.272763967514038\n",
      "loss 13.279047727584839\n"
     ]
    },
    {
     "name": "stderr",
     "output_type": "stream",
     "text": [
      "100%|█████████████████████████████████████████████████████████████████████████████████████████████████████████████████████████████████████████████████████████████████| 24436/24436 [26:27<00:00, 15.39it/s]\n"
     ]
    },
    {
     "name": "stdout",
     "output_type": "stream",
     "text": [
      "Epoch 23 | Train Time: 26m 30s\n"
     ]
    },
    {
     "name": "stderr",
     "output_type": "stream",
     "text": [
      "100%|███████████████████████████████████████████████████████████████████████████████████████████████████████████████████████████████████████████████████████████████████| 6012/6012 [02:07<00:00, 47.19it/s]\n"
     ]
    },
    {
     "name": "stdout",
     "output_type": "stream",
     "text": [
      "Epoch 23 | Test Time: 2m 7s\n"
     ]
    },
    {
     "name": "stderr",
     "output_type": "stream",
     "text": [
      "100%|███████████████████████████████████████████████████████████████████████████████████████████████████████████████████████████████████████████████████████████████████| 2000/2000 [00:37<00:00, 53.38it/s]\n"
     ]
    },
    {
     "name": "stdout",
     "output_type": "stream",
     "text": [
      "i= 1995 ====================\n",
      "target_sentence 게시물을 올리지 않으면 존재감이 없는 것 같을 때요.\n",
      "generate: 하지만\n",
      "====================\n",
      "i= 1996 ====================\n",
      "target_sentence 3 과 4는 제외할 수 있는데, 왜냐하면 만약 합이 둘 중 하나라면, 곱은 2 또는 3밖에 될 수 없고 이 경우 A는 B가 이미 A의 숫자를 알고 있다는 것을 알고 A의 말과는 모순입니다.\n",
      "generate: 하지만\n",
      "====================\n",
      "i= 1997 ====================\n",
      "target_sentence 하면서요. 그래서 단번에 중국의 환경 법 체계는 환경단체의 입장에서 법안 시행을 할 수 있었습니다.\n",
      "generate: 하지만\n",
      "====================\n",
      "i= 1998 ====================\n",
      "target_sentence 제가 하이라인의 첫 두 구역을 파괴에서 구제하는 것은 프로젝트에 임명됐을 때 제 가장 중요한 프로젝트에서 첫 번째 사명이 되었습니다.\n",
      "generate: 하지만\n",
      "====================\n",
      "i= 1999 ====================\n",
      "target_sentence 사물을 정리하는 이 아이디어 가장 필요할 것 같은 것을 가장 쉽게 접근할 수 있게 하는 것은 사무실에도 적용할 수 있습니다.\n",
      "generate: 하지만\n",
      "====================\n",
      "Epoch 23 | Eval Time: 0m 37s\n",
      "\tTrain Loss: 4.963 | Test Loss: 4.579\n",
      "\tBLEU Score:\n",
      "\t\tavg: 0.000\n",
      "\t\t1-gram: 3.500\n",
      "\t\t2-gram: 0.000\n",
      "\t\t3-gram: 0.000\n",
      "\t\t4-gram: 0.000\n",
      "{'avg': [0.0183585191995384, 0.0207460023132086, 0.0033711980055702, 0.0002114518166857, 0.0017461903515971, 0.0, 0.0, 0.0, 0.0219599971536394, 0.0013401491744613, 0.0199400985024767, 2.708368582257652e-05, 0.0006417906432716, 0.0, 0.0, 0.0004281946648516, 0.010307915303122, 0.0017233688530195, 3.008283016107326e-05, 0.0, 0.0, 0.0010730512239388, 0.0], '1-gram': [4.541511771995044, 3.150656386747239, 4.395904436860068, 2.7502126453076268, 4.749199573105656, 4.2639593908629445, 4.302536231884058, 7.91295746785361, 2.522651977807049, 10.870377288008966, 2.9565602836879434, 5.900266463646745, 1.11358574610245, 3.881169142309535, 4.269211451531894, 5.029311940759025, 3.717579250720461, 1.504438092372499, 5.449127288207748, 0.6545820745216515, 5.7, 0.3099173553719008, 3.5], '2-gram': [0.0353606789250353, 0.0272789270288702, 0.0177525297354873, 0.0327439423706614, 0.2288329519450801, 0.0, 0.2369668246445497, 2.272727272727273, 0.0390404719559276, 0.0149075730471079, 0.0291814600457176, 0.0797448165869218, 0.0401606425702811, 0.5747126436781609, 0.0, 0.040290088638195, 0.0475624256837098, 0.0107596298687325, 0.1432664756446991, 0.0, 12.5, 0.0076804915514592, 0.0], '3-gram': [0.0040574535421569, 0.0024985008994603, 0.0105263157894736, 0.0424448217317487, 0.5263157894736842, 0.0, 8.333333333333334, 0.0, 0.0023749584382273, 0.0155860349127182, 0.0026936752505117, 0.0753012048192771, 0.04516711833785, 0.0, 0.0, 0.2976190476190476, 0.0067494600431965, 0.0081619327456741, 0.6756756756756757, 0.0, 0.0, 0.004023821020441, 0.0], '4-gram': [0.0022198543775528, 0.0013849648218935, 0.0055407801418439, 0.0251004016064257, 0.4310344827586206, 0.0, 0.0, 0.0, 0.0013020155200249, 0.0084231805929919, 0.0014102781068426, 0.0394321766561514, 0.0282805429864253, 0.0, 0.0, 0.5208333333333334, 0.003832592365476, 0.0079465988556897, 0.4166666666666667, 0.0, 0.0, 0.0021129141311697, 0.0]}\n"
     ]
    },
    {
     "name": "stderr",
     "output_type": "stream",
     "text": [
      "  0%|                                                                                                                                                                             | 0/24436 [00:00<?, ?it/s]"
     ]
    },
    {
     "name": "stdout",
     "output_type": "stream",
     "text": [
      "loss 5.031674385070801\n"
     ]
    },
    {
     "name": "stderr",
     "output_type": "stream",
     "text": [
      "/home/jiazhen/.local/lib/python3.8/site-packages/torch/nn/functional.py:5109: UserWarning: Support for mismatched key_padding_mask and attn_mask is deprecated. Use same type for both instead.\n",
      "  warnings.warn(\n",
      "  0%|                                                                                                                                                                     | 4/24436 [00:00<26:50, 15.17it/s]"
     ]
    },
    {
     "name": "stdout",
     "output_type": "stream",
     "text": [
      "loss 10.719412326812744\n",
      "loss 15.739187240600586\n"
     ]
    },
    {
     "name": "stderr",
     "output_type": "stream",
     "text": [
      "100%|█████████████████████████████████████████████████████████████████████████████████████████████████████████████████████████████████████████████████████████████████| 24436/24436 [26:23<00:00, 15.43it/s]\n"
     ]
    },
    {
     "name": "stdout",
     "output_type": "stream",
     "text": [
      "Epoch 24 | Train Time: 26m 25s\n"
     ]
    },
    {
     "name": "stderr",
     "output_type": "stream",
     "text": [
      "100%|███████████████████████████████████████████████████████████████████████████████████████████████████████████████████████████████████████████████████████████████████| 6012/6012 [02:07<00:00, 47.33it/s]\n"
     ]
    },
    {
     "name": "stdout",
     "output_type": "stream",
     "text": [
      "Epoch 24 | Test Time: 2m 7s\n"
     ]
    },
    {
     "name": "stderr",
     "output_type": "stream",
     "text": [
      "100%|███████████████████████████████████████████████████████████████████████████████████████████████████████████████████████████████████████████████████████████████████| 2000/2000 [00:34<00:00, 58.62it/s]\n"
     ]
    },
    {
     "name": "stdout",
     "output_type": "stream",
     "text": [
      "i= 1995 ====================\n",
      "target_sentence 말이 쉽다는 건 알지만 이것만이 미래를 위한 유일한 방법입니다.\n",
      "generate: 하지만\n",
      "====================\n",
      "i= 1996 ====================\n",
      "target_sentence 첫째, 호수 하나가 다른 호수보다 300m 더 높습니다\n",
      "generate: \n",
      "====================\n",
      "i= 1997 ====================\n",
      "target_sentence 그리고 화학도 필요할 거예요.\n",
      "generate: 하지만\n",
      "====================\n",
      "i= 1998 ====================\n",
      "target_sentence 우리가 한번에 하나씩 좁은 구멍에 전자를 쏘게 된다면 저 멀리 있는 전자는 특정한 순간에 한 장소에서 감지될 것입니다.\n",
      "generate: 하지만\n",
      "====================\n",
      "i= 1999 ====================\n",
      "target_sentence 즉 여러분들이 최초로 남반구 천체 관측 사진을 보게 되는 거예요.\n",
      "generate: \n",
      "====================\n",
      "Epoch 24 | Eval Time: 0m 34s\n",
      "\tTrain Loss: 4.963 | Test Loss: 4.573\n",
      "\tBLEU Score:\n",
      "\t\tavg: 0.000\n",
      "\t\t1-gram: 3.713\n",
      "\t\t2-gram: 0.000\n",
      "\t\t3-gram: 0.000\n",
      "\t\t4-gram: 0.000\n",
      "{'avg': [0.0183585191995384, 0.0207460023132086, 0.0033711980055702, 0.0002114518166857, 0.0017461903515971, 0.0, 0.0, 0.0, 0.0219599971536394, 0.0013401491744613, 0.0199400985024767, 2.708368582257652e-05, 0.0006417906432716, 0.0, 0.0, 0.0004281946648516, 0.010307915303122, 0.0017233688530195, 3.008283016107326e-05, 0.0, 0.0, 0.0010730512239388, 0.0, 0.0], '1-gram': [4.541511771995044, 3.150656386747239, 4.395904436860068, 2.7502126453076268, 4.749199573105656, 4.2639593908629445, 4.302536231884058, 7.91295746785361, 2.522651977807049, 10.870377288008966, 2.9565602836879434, 5.900266463646745, 1.11358574610245, 3.881169142309535, 4.269211451531894, 5.029311940759025, 3.717579250720461, 1.504438092372499, 5.449127288207748, 0.6545820745216515, 5.7, 0.3099173553719008, 3.5, 3.7131882202304736], '2-gram': [0.0353606789250353, 0.0272789270288702, 0.0177525297354873, 0.0327439423706614, 0.2288329519450801, 0.0, 0.2369668246445497, 2.272727272727273, 0.0390404719559276, 0.0149075730471079, 0.0291814600457176, 0.0797448165869218, 0.0401606425702811, 0.5747126436781609, 0.0, 0.040290088638195, 0.0475624256837098, 0.0107596298687325, 0.1432664756446991, 0.0, 12.5, 0.0076804915514592, 0.0, 0.0], '3-gram': [0.0040574535421569, 0.0024985008994603, 0.0105263157894736, 0.0424448217317487, 0.5263157894736842, 0.0, 8.333333333333334, 0.0, 0.0023749584382273, 0.0155860349127182, 0.0026936752505117, 0.0753012048192771, 0.04516711833785, 0.0, 0.0, 0.2976190476190476, 0.0067494600431965, 0.0081619327456741, 0.6756756756756757, 0.0, 0.0, 0.004023821020441, 0.0, 0.0], '4-gram': [0.0022198543775528, 0.0013849648218935, 0.0055407801418439, 0.0251004016064257, 0.4310344827586206, 0.0, 0.0, 0.0, 0.0013020155200249, 0.0084231805929919, 0.0014102781068426, 0.0394321766561514, 0.0282805429864253, 0.0, 0.0, 0.5208333333333334, 0.003832592365476, 0.0079465988556897, 0.4166666666666667, 0.0, 0.0, 0.0021129141311697, 0.0, 0.0]}\n"
     ]
    },
    {
     "name": "stderr",
     "output_type": "stream",
     "text": [
      "  0%|                                                                                                                                                                             | 0/24436 [00:00<?, ?it/s]"
     ]
    },
    {
     "name": "stdout",
     "output_type": "stream",
     "text": [
      "loss 5.0350117683410645\n"
     ]
    },
    {
     "name": "stderr",
     "output_type": "stream",
     "text": [
      "/home/jiazhen/.local/lib/python3.8/site-packages/torch/nn/functional.py:5109: UserWarning: Support for mismatched key_padding_mask and attn_mask is deprecated. Use same type for both instead.\n",
      "  warnings.warn(\n",
      "  0%|                                                                                                                                                                     | 4/24436 [00:00<27:22, 14.87it/s]"
     ]
    },
    {
     "name": "stdout",
     "output_type": "stream",
     "text": [
      "loss 9.2009916305542\n",
      "loss 13.108009099960327\n"
     ]
    },
    {
     "name": "stderr",
     "output_type": "stream",
     "text": [
      "100%|█████████████████████████████████████████████████████████████████████████████████████████████████████████████████████████████████████████████████████████████████| 24436/24436 [26:29<00:00, 15.38it/s]\n"
     ]
    },
    {
     "name": "stdout",
     "output_type": "stream",
     "text": [
      "Epoch 25 | Train Time: 26m 31s\n"
     ]
    },
    {
     "name": "stderr",
     "output_type": "stream",
     "text": [
      "100%|███████████████████████████████████████████████████████████████████████████████████████████████████████████████████████████████████████████████████████████████████| 6012/6012 [02:07<00:00, 47.23it/s]\n"
     ]
    },
    {
     "name": "stdout",
     "output_type": "stream",
     "text": [
      "Epoch 25 | Test Time: 2m 7s\n"
     ]
    },
    {
     "name": "stderr",
     "output_type": "stream",
     "text": [
      "100%|███████████████████████████████████████████████████████████████████████████████████████████████████████████████████████████████████████████████████████████████████| 2000/2000 [00:37<00:00, 53.49it/s]\n"
     ]
    },
    {
     "name": "stdout",
     "output_type": "stream",
     "text": [
      "i= 1995 ====================\n",
      "target_sentence 감사할 때, 우리는 서로 간에 차이를 즐길 수 있게 되고 모든 사람을 존중하게 됩니다.\n",
      "generate: 우리는\n",
      "====================\n",
      "i= 1996 ====================\n",
      "target_sentence 또한 이것은 용기의 메세지이기도 합니다.\n",
      "generate: 우리는\n",
      "====================\n",
      "i= 1997 ====================\n",
      "target_sentence 그리고 매일 매일 우리는 민병대의 지배와 수감자들에 대한 지속적인 인권 침해 그리고 법에 대한 그들의 불복종 속에 아침을 맞이했습니다\n",
      "generate: 저는\n",
      "====================\n",
      "i= 1998 ====================\n",
      "target_sentence 대부분의 지역들에서 휴대폰에 접근할 수 있었습니다.\n",
      "generate: 우리는\n",
      "====================\n",
      "i= 1999 ====================\n",
      "target_sentence 그래서 저는 이런 사진을 많이 가지게 되죠.\n",
      "generate: 저는\n",
      "====================\n",
      "Epoch 25 | Eval Time: 0m 37s\n",
      "\tTrain Loss: 4.966 | Test Loss: 4.570\n",
      "\tBLEU Score:\n",
      "\t\tavg: 0.000\n",
      "\t\t1-gram: 7.511\n",
      "\t\t2-gram: 0.000\n",
      "\t\t3-gram: 0.000\n",
      "\t\t4-gram: 0.000\n",
      "{'avg': [0.0183585191995384, 0.0207460023132086, 0.0033711980055702, 0.0002114518166857, 0.0017461903515971, 0.0, 0.0, 0.0, 0.0219599971536394, 0.0013401491744613, 0.0199400985024767, 2.708368582257652e-05, 0.0006417906432716, 0.0, 0.0, 0.0004281946648516, 0.010307915303122, 0.0017233688530195, 3.008283016107326e-05, 0.0, 0.0, 0.0010730512239388, 0.0, 0.0, 0.0], '1-gram': [4.541511771995044, 3.150656386747239, 4.395904436860068, 2.7502126453076268, 4.749199573105656, 4.2639593908629445, 4.302536231884058, 7.91295746785361, 2.522651977807049, 10.870377288008966, 2.9565602836879434, 5.900266463646745, 1.11358574610245, 3.881169142309535, 4.269211451531894, 5.029311940759025, 3.717579250720461, 1.504438092372499, 5.449127288207748, 0.6545820745216515, 5.7, 0.3099173553719008, 3.5, 3.7131882202304736, 7.511266900350526], '2-gram': [0.0353606789250353, 0.0272789270288702, 0.0177525297354873, 0.0327439423706614, 0.2288329519450801, 0.0, 0.2369668246445497, 2.272727272727273, 0.0390404719559276, 0.0149075730471079, 0.0291814600457176, 0.0797448165869218, 0.0401606425702811, 0.5747126436781609, 0.0, 0.040290088638195, 0.0475624256837098, 0.0107596298687325, 0.1432664756446991, 0.0, 12.5, 0.0076804915514592, 0.0, 0.0, 0.0], '3-gram': [0.0040574535421569, 0.0024985008994603, 0.0105263157894736, 0.0424448217317487, 0.5263157894736842, 0.0, 8.333333333333334, 0.0, 0.0023749584382273, 0.0155860349127182, 0.0026936752505117, 0.0753012048192771, 0.04516711833785, 0.0, 0.0, 0.2976190476190476, 0.0067494600431965, 0.0081619327456741, 0.6756756756756757, 0.0, 0.0, 0.004023821020441, 0.0, 0.0, 0.0], '4-gram': [0.0022198543775528, 0.0013849648218935, 0.0055407801418439, 0.0251004016064257, 0.4310344827586206, 0.0, 0.0, 0.0, 0.0013020155200249, 0.0084231805929919, 0.0014102781068426, 0.0394321766561514, 0.0282805429864253, 0.0, 0.0, 0.5208333333333334, 0.003832592365476, 0.0079465988556897, 0.4166666666666667, 0.0, 0.0, 0.0021129141311697, 0.0, 0.0, 0.0]}\n"
     ]
    },
    {
     "name": "stderr",
     "output_type": "stream",
     "text": [
      "  0%|                                                                                                                                                                             | 0/24436 [00:00<?, ?it/s]"
     ]
    },
    {
     "name": "stdout",
     "output_type": "stream",
     "text": [
      "loss 3.8926918506622314\n"
     ]
    },
    {
     "name": "stderr",
     "output_type": "stream",
     "text": [
      "/home/jiazhen/.local/lib/python3.8/site-packages/torch/nn/functional.py:5109: UserWarning: Support for mismatched key_padding_mask and attn_mask is deprecated. Use same type for both instead.\n",
      "  warnings.warn(\n",
      "  0%|                                                                                                                                                                     | 2/24436 [00:00<29:28, 13.81it/s]"
     ]
    },
    {
     "name": "stdout",
     "output_type": "stream",
     "text": [
      "loss 8.65730357170105\n",
      "loss 12.972298383712769\n"
     ]
    },
    {
     "name": "stderr",
     "output_type": "stream",
     "text": [
      "100%|█████████████████████████████████████████████████████████████████████████████████████████████████████████████████████████████████████████████████████████████████| 24436/24436 [26:28<00:00, 15.39it/s]\n"
     ]
    },
    {
     "name": "stdout",
     "output_type": "stream",
     "text": [
      "Epoch 26 | Train Time: 26m 30s\n"
     ]
    },
    {
     "name": "stderr",
     "output_type": "stream",
     "text": [
      "100%|███████████████████████████████████████████████████████████████████████████████████████████████████████████████████████████████████████████████████████████████████| 6012/6012 [02:07<00:00, 47.34it/s]\n"
     ]
    },
    {
     "name": "stdout",
     "output_type": "stream",
     "text": [
      "Epoch 26 | Test Time: 2m 7s\n"
     ]
    },
    {
     "name": "stderr",
     "output_type": "stream",
     "text": [
      "100%|███████████████████████████████████████████████████████████████████████████████████████████████████████████████████████████████████████████████████████████████████| 2000/2000 [00:37<00:00, 52.94it/s]\n"
     ]
    },
    {
     "name": "stdout",
     "output_type": "stream",
     "text": [
      "i= 1995 ====================\n",
      "target_sentence 우선, 냉장고 안이나 얼음 위에서 마취합니다.\n",
      "generate: 하지만\n",
      "====================\n",
      "i= 1996 ====================\n",
      "target_sentence 실제로는 먹었는데도 말이죠.\n",
      "generate: 하지만\n",
      "====================\n",
      "i= 1997 ====================\n",
      "target_sentence 제가 임 상의와 연구자와 행정직원들에게 위험을 감수하라 말할 것이라면 저, 섀 론 역시도 위험을 감수해야 합니다.\n",
      "generate: 하지만\n",
      "====================\n",
      "i= 1998 ====================\n",
      "target_sentence 세상에 변화를 일으키는 일이었어요.\n",
      "generate: 하지만\n",
      "====================\n",
      "i= 1999 ====================\n",
      "target_sentence 산모에게 모유에 대해 떠들기만 하고 제도 적인 지원도 제공하지 않은 채 산모와 아기의 유대감을 촉진시키는 모유 수유만 이야기하면요? 대답은 \" 불가능하다\" 예요.\n",
      "generate: 하지만\n",
      "====================\n",
      "Epoch 26 | Eval Time: 0m 38s\n",
      "\tTrain Loss: 4.967 | Test Loss: 4.561\n",
      "\tBLEU Score:\n",
      "\t\tavg: 0.000\n",
      "\t\t1-gram: 4.085\n",
      "\t\t2-gram: 0.365\n",
      "\t\t3-gram: 0.000\n",
      "\t\t4-gram: 0.000\n",
      "{'avg': [0.0183585191995384, 0.0207460023132086, 0.0033711980055702, 0.0002114518166857, 0.0017461903515971, 0.0, 0.0, 0.0, 0.0219599971536394, 0.0013401491744613, 0.0199400985024767, 2.708368582257652e-05, 0.0006417906432716, 0.0, 0.0, 0.0004281946648516, 0.010307915303122, 0.0017233688530195, 3.008283016107326e-05, 0.0, 0.0, 0.0010730512239388, 0.0, 0.0, 0.0, 0.0], '1-gram': [4.541511771995044, 3.150656386747239, 4.395904436860068, 2.7502126453076268, 4.749199573105656, 4.2639593908629445, 4.302536231884058, 7.91295746785361, 2.522651977807049, 10.870377288008966, 2.9565602836879434, 5.900266463646745, 1.11358574610245, 3.881169142309535, 4.269211451531894, 5.029311940759025, 3.717579250720461, 1.504438092372499, 5.449127288207748, 0.6545820745216515, 5.7, 0.3099173553719008, 3.5, 3.7131882202304736, 7.511266900350526, 4.084507042253521], '2-gram': [0.0353606789250353, 0.0272789270288702, 0.0177525297354873, 0.0327439423706614, 0.2288329519450801, 0.0, 0.2369668246445497, 2.272727272727273, 0.0390404719559276, 0.0149075730471079, 0.0291814600457176, 0.0797448165869218, 0.0401606425702811, 0.5747126436781609, 0.0, 0.040290088638195, 0.0475624256837098, 0.0107596298687325, 0.1432664756446991, 0.0, 12.5, 0.0076804915514592, 0.0, 0.0, 0.0, 0.36496350364963503], '3-gram': [0.0040574535421569, 0.0024985008994603, 0.0105263157894736, 0.0424448217317487, 0.5263157894736842, 0.0, 8.333333333333334, 0.0, 0.0023749584382273, 0.0155860349127182, 0.0026936752505117, 0.0753012048192771, 0.04516711833785, 0.0, 0.0, 0.2976190476190476, 0.0067494600431965, 0.0081619327456741, 0.6756756756756757, 0.0, 0.0, 0.004023821020441, 0.0, 0.0, 0.0, 0.0], '4-gram': [0.0022198543775528, 0.0013849648218935, 0.0055407801418439, 0.0251004016064257, 0.4310344827586206, 0.0, 0.0, 0.0, 0.0013020155200249, 0.0084231805929919, 0.0014102781068426, 0.0394321766561514, 0.0282805429864253, 0.0, 0.0, 0.5208333333333334, 0.003832592365476, 0.0079465988556897, 0.4166666666666667, 0.0, 0.0, 0.0021129141311697, 0.0, 0.0, 0.0, 0.0]}\n"
     ]
    },
    {
     "name": "stderr",
     "output_type": "stream",
     "text": [
      "  0%|                                                                                                                                                                             | 0/24436 [00:00<?, ?it/s]/home/jiazhen/.local/lib/python3.8/site-packages/torch/nn/functional.py:5109: UserWarning: Support for mismatched key_padding_mask and attn_mask is deprecated. Use same type for both instead.\n",
      "  warnings.warn(\n",
      "  0%|                                                                                                                                                                     | 4/24436 [00:00<26:41, 15.26it/s]"
     ]
    },
    {
     "name": "stdout",
     "output_type": "stream",
     "text": [
      "loss 4.93220853805542\n",
      "loss 9.977709293365479\n",
      "loss 14.527188777923584\n"
     ]
    },
    {
     "name": "stderr",
     "output_type": "stream",
     "text": [
      "100%|█████████████████████████████████████████████████████████████████████████████████████████████████████████████████████████████████████████████████████████████████| 24436/24436 [26:29<00:00, 15.37it/s]\n"
     ]
    },
    {
     "name": "stdout",
     "output_type": "stream",
     "text": [
      "Epoch 27 | Train Time: 26m 31s\n"
     ]
    },
    {
     "name": "stderr",
     "output_type": "stream",
     "text": [
      "100%|███████████████████████████████████████████████████████████████████████████████████████████████████████████████████████████████████████████████████████████████████| 6012/6012 [02:06<00:00, 47.41it/s]\n"
     ]
    },
    {
     "name": "stdout",
     "output_type": "stream",
     "text": [
      "Epoch 27 | Test Time: 2m 6s\n"
     ]
    },
    {
     "name": "stderr",
     "output_type": "stream",
     "text": [
      "100%|███████████████████████████████████████████████████████████████████████████████████████████████████████████████████████████████████████████████████████████████████| 2000/2000 [00:52<00:00, 38.05it/s]\n"
     ]
    },
    {
     "name": "stdout",
     "output_type": "stream",
     "text": [
      "i= 1995 ====================\n",
      "target_sentence 아마도, 거의 모든 승객들은 이렇게 생각했을 겁니다.\n",
      "generate: 그는\n",
      "====================\n",
      "i= 1996 ====================\n",
      "target_sentence 이해하는 이유 중 하나는 지역 뉴스가 너무 오래 사양 길을 걸어서 지역 신문이 훌륭했던 시절을 기억조차 못 하는 분이 많다는 점이겠죠.\n",
      "generate: 그는\n",
      "====================\n",
      "i= 1997 ====================\n",
      "target_sentence 좋은 이야기라면 그 시작에서 해야 하는 것은 바로, 여러분에게 약속해야 한다는 것이죠.\n",
      "generate: 하지만\n",
      "====================\n",
      "i= 1998 ====================\n",
      "target_sentence 왜 양자 장 이론이 어떤 특정한 숫자의 힘과 입자 등등을 설명해야 합니까?\n",
      "generate: 하지만,\n",
      "====================\n",
      "i= 1999 ====================\n",
      "target_sentence 우리는 부정적인 결과를 얻었을 때, 특정 상황에 다시 직면할 때 여전히, 같은 실수를 범하는 경향이 있습니다.\n",
      "generate: 우리는,\n",
      "====================\n",
      "Epoch 27 | Eval Time: 0m 52s\n",
      "\tTrain Loss: 4.965 | Test Loss: 4.565\n",
      "\tBLEU Score:\n",
      "\t\tavg: 0.001\n",
      "\t\t1-gram: 9.515\n",
      "\t\t2-gram: 0.056\n",
      "\t\t3-gram: 0.081\n",
      "\t\t4-gram: 0.044\n",
      "{'avg': [0.0183585191995384, 0.0207460023132086, 0.0033711980055702, 0.0002114518166857, 0.0017461903515971, 0.0, 0.0, 0.0, 0.0219599971536394, 0.0013401491744613, 0.0199400985024767, 2.708368582257652e-05, 0.0006417906432716, 0.0, 0.0, 0.0004281946648516, 0.010307915303122, 0.0017233688530195, 3.008283016107326e-05, 0.0, 0.0, 0.0010730512239388, 0.0, 0.0, 0.0, 0.0, 0.0006159913604499708], '1-gram': [4.541511771995044, 3.150656386747239, 4.395904436860068, 2.7502126453076268, 4.749199573105656, 4.2639593908629445, 4.302536231884058, 7.91295746785361, 2.522651977807049, 10.870377288008966, 2.9565602836879434, 5.900266463646745, 1.11358574610245, 3.881169142309535, 4.269211451531894, 5.029311940759025, 3.717579250720461, 1.504438092372499, 5.449127288207748, 0.6545820745216515, 5.7, 0.3099173553719008, 3.5, 3.7131882202304736, 7.511266900350526, 4.084507042253521, 9.515023721665788], '2-gram': [0.0353606789250353, 0.0272789270288702, 0.0177525297354873, 0.0327439423706614, 0.2288329519450801, 0.0, 0.2369668246445497, 2.272727272727273, 0.0390404719559276, 0.0149075730471079, 0.0291814600457176, 0.0797448165869218, 0.0401606425702811, 0.5747126436781609, 0.0, 0.040290088638195, 0.0475624256837098, 0.0107596298687325, 0.1432664756446991, 0.0, 12.5, 0.0076804915514592, 0.0, 0.0, 0.0, 0.364963503649635, 0.055741360089186176], '3-gram': [0.0040574535421569, 0.0024985008994603, 0.0105263157894736, 0.0424448217317487, 0.5263157894736842, 0.0, 8.333333333333334, 0.0, 0.0023749584382273, 0.0155860349127182, 0.0026936752505117, 0.0753012048192771, 0.04516711833785, 0.0, 0.0, 0.2976190476190476, 0.0067494600431965, 0.0081619327456741, 0.6756756756756757, 0.0, 0.0, 0.004023821020441, 0.0, 0.0, 0.0, 0.0, 0.08103727714748785], '4-gram': [0.0022198543775528, 0.0013849648218935, 0.0055407801418439, 0.0251004016064257, 0.4310344827586206, 0.0, 0.0, 0.0, 0.0013020155200249, 0.0084231805929919, 0.0014102781068426, 0.0394321766561514, 0.0282805429864253, 0.0, 0.0, 0.5208333333333334, 0.003832592365476, 0.0079465988556897, 0.4166666666666667, 0.0, 0.0, 0.0021129141311697, 0.0, 0.0, 0.0, 0.0, 0.04355400696864112]}\n"
     ]
    },
    {
     "name": "stderr",
     "output_type": "stream",
     "text": [
      "  0%|                                                                                                                                                                             | 0/24436 [00:00<?, ?it/s]"
     ]
    },
    {
     "name": "stdout",
     "output_type": "stream",
     "text": [
      "loss 4.236587047576904\n"
     ]
    },
    {
     "name": "stderr",
     "output_type": "stream",
     "text": [
      "/home/jiazhen/.local/lib/python3.8/site-packages/torch/nn/functional.py:5109: UserWarning: Support for mismatched key_padding_mask and attn_mask is deprecated. Use same type for both instead.\n",
      "  warnings.warn(\n",
      "  0%|                                                                                                                                                                     | 4/24436 [00:00<26:46, 15.21it/s]"
     ]
    },
    {
     "name": "stdout",
     "output_type": "stream",
     "text": [
      "loss 9.3257737159729\n",
      "loss 13.623284339904785\n"
     ]
    },
    {
     "name": "stderr",
     "output_type": "stream",
     "text": [
      "100%|█████████████████████████████████████████████████████████████████████████████████████████████████████████████████████████████████████████████████████████████████| 24436/24436 [26:28<00:00, 15.39it/s]\n"
     ]
    },
    {
     "name": "stdout",
     "output_type": "stream",
     "text": [
      "Epoch 28 | Train Time: 26m 30s\n"
     ]
    },
    {
     "name": "stderr",
     "output_type": "stream",
     "text": [
      "100%|███████████████████████████████████████████████████████████████████████████████████████████████████████████████████████████████████████████████████████████████████| 6012/6012 [02:06<00:00, 47.55it/s]\n"
     ]
    },
    {
     "name": "stdout",
     "output_type": "stream",
     "text": [
      "Epoch 28 | Test Time: 2m 6s\n"
     ]
    },
    {
     "name": "stderr",
     "output_type": "stream",
     "text": [
      "100%|███████████████████████████████████████████████████████████████████████████████████████████████████████████████████████████████████████████████████████████████████| 2000/2000 [01:03<00:00, 31.59it/s]"
     ]
    },
    {
     "name": "stdout",
     "output_type": "stream",
     "text": [
      "i= 1995 ====================\n",
      "target_sentence 제시 카: 그렇게 하죠.\n",
      "generate: 정말 를 를\n",
      "====================\n",
      "i= 1996 ====================\n",
      "target_sentence 자, 성별에 대한 적절치 않은 고정관념과 다른 인구 통계적 특성에 의해 좌우되지 않는 미디어 환경을 상상해 보세요.\n",
      "generate: 우리는 를 를\n",
      "====================\n",
      "i= 1997 ====================\n",
      "target_sentence 빈곤층의 여자 아이들이 STEM 프로그램을 공부합니다.\n",
      "generate: 하지만 완전히 를\n",
      "====================\n",
      "i= 1998 ====================\n",
      "target_sentence 사회적 응원이 회복의 중요한 열쇠입니다.\n",
      "generate: 하지만 를 를\n",
      "====================\n",
      "i= 1999 ====================\n",
      "target_sentence 이 여 정을 공개하며, 저는 제가 이 여정을 겪고 있는 유일한 여성이 아니라는 사실을 깨달았습니다.\n",
      "generate: 우리는 우리는 를\n",
      "====================\n"
     ]
    },
    {
     "name": "stderr",
     "output_type": "stream",
     "text": [
      "\n"
     ]
    },
    {
     "name": "stdout",
     "output_type": "stream",
     "text": [
      "Epoch 28 | Eval Time: 1m 3s\n",
      "\tTrain Loss: 4.970 | Test Loss: 4.574\n",
      "\tBLEU Score:\n",
      "\t\tavg: 0.002\n",
      "\t\t1-gram: 2.790\n",
      "\t\t2-gram: 0.013\n",
      "\t\t3-gram: 0.013\n",
      "\t\t4-gram: 0.058\n",
      "{'avg': [0.0183585191995384, 0.0207460023132086, 0.0033711980055702, 0.0002114518166857, 0.0017461903515971, 0.0, 0.0, 0.0, 0.0219599971536394, 0.0013401491744613, 0.0199400985024767, 2.708368582257652e-05, 0.0006417906432716, 0.0, 0.0, 0.0004281946648516, 0.010307915303122, 0.0017233688530195, 3.008283016107326e-05, 0.0, 0.0, 0.0010730512239388, 0.0, 0.0, 0.0, 0.0, 0.0006159913604499, 0.0022905491429817608], '1-gram': [4.541511771995044, 3.150656386747239, 4.395904436860068, 2.7502126453076268, 4.749199573105656, 4.2639593908629445, 4.302536231884058, 7.91295746785361, 2.522651977807049, 10.870377288008966, 2.9565602836879434, 5.900266463646745, 1.11358574610245, 3.881169142309535, 4.269211451531894, 5.029311940759025, 3.717579250720461, 1.504438092372499, 5.449127288207748, 0.6545820745216515, 5.7, 0.3099173553719008, 3.5, 3.7131882202304736, 7.511266900350526, 4.084507042253521, 9.515023721665788, 2.7899159663865545], '2-gram': [0.0353606789250353, 0.0272789270288702, 0.0177525297354873, 0.0327439423706614, 0.2288329519450801, 0.0, 0.2369668246445497, 2.272727272727273, 0.0390404719559276, 0.0149075730471079, 0.0291814600457176, 0.0797448165869218, 0.0401606425702811, 0.5747126436781609, 0.0, 0.040290088638195, 0.0475624256837098, 0.0107596298687325, 0.1432664756446991, 0.0, 12.5, 0.0076804915514592, 0.0, 0.0, 0.0, 0.364963503649635, 0.0557413600891861, 0.012658227848101266], '3-gram': [0.0040574535421569, 0.0024985008994603, 0.0105263157894736, 0.0424448217317487, 0.5263157894736842, 0.0, 8.333333333333334, 0.0, 0.0023749584382273, 0.0155860349127182, 0.0026936752505117, 0.0753012048192771, 0.04516711833785, 0.0, 0.0, 0.2976190476190476, 0.0067494600431965, 0.0081619327456741, 0.6756756756756757, 0.0, 0.0, 0.004023821020441, 0.0, 0.0, 0.0, 0.0, 0.0810372771474878, 0.01282051282051282], '4-gram': [0.0022198543775528, 0.0013849648218935, 0.0055407801418439, 0.0251004016064257, 0.4310344827586206, 0.0, 0.0, 0.0, 0.0013020155200249, 0.0084231805929919, 0.0014102781068426, 0.0394321766561514, 0.0282805429864253, 0.0, 0.0, 0.5208333333333334, 0.003832592365476, 0.0079465988556897, 0.4166666666666667, 0.0, 0.0, 0.0021129141311697, 0.0, 0.0, 0.0, 0.0, 0.0435540069686411, 0.05841121495327103]}\n"
     ]
    },
    {
     "name": "stderr",
     "output_type": "stream",
     "text": [
      "  0%|                                                                                                                                                                             | 0/24436 [00:00<?, ?it/s]/home/jiazhen/.local/lib/python3.8/site-packages/torch/nn/functional.py:5109: UserWarning: Support for mismatched key_padding_mask and attn_mask is deprecated. Use same type for both instead.\n",
      "  warnings.warn(\n",
      "  0%|                                                                                                                                                                     | 2/24436 [00:00<29:37, 13.75it/s]"
     ]
    },
    {
     "name": "stdout",
     "output_type": "stream",
     "text": [
      "loss 5.041687488555908\n",
      "loss 10.322253704071045\n",
      "loss 15.257805824279785\n"
     ]
    },
    {
     "name": "stderr",
     "output_type": "stream",
     "text": [
      "100%|█████████████████████████████████████████████████████████████████████████████████████████████████████████████████████████████████████████████████████████████████| 24436/24436 [26:28<00:00, 15.38it/s]\n"
     ]
    },
    {
     "name": "stdout",
     "output_type": "stream",
     "text": [
      "Epoch 29 | Train Time: 26m 30s\n"
     ]
    },
    {
     "name": "stderr",
     "output_type": "stream",
     "text": [
      "100%|███████████████████████████████████████████████████████████████████████████████████████████████████████████████████████████████████████████████████████████████████| 6012/6012 [02:08<00:00, 46.92it/s]\n"
     ]
    },
    {
     "name": "stdout",
     "output_type": "stream",
     "text": [
      "Epoch 29 | Test Time: 2m 8s\n"
     ]
    },
    {
     "name": "stderr",
     "output_type": "stream",
     "text": [
      "100%|███████████████████████████████████████████████████████████████████████████████████████████████████████████████████████████████████████████████████████████████████| 2000/2000 [01:39<00:00, 20.10it/s]"
     ]
    },
    {
     "name": "stdout",
     "output_type": "stream",
     "text": [
      "i= 1995 ====================\n",
      "target_sentence ” “ 메리 크리스마스.” 그 옆에는 선물이 있었어요.\n",
      "generate: 제 이런 을\n",
      "====================\n",
      "i= 1996 ====================\n",
      "target_sentence 누군가가 우린 어떻게 할 수 없었다고\n",
      "generate: 제 는 을\n",
      "====================\n",
      "i= 1997 ====================\n",
      "target_sentence 우리는 모든 인터넷 사용자들과 사이트 운영자들이 우리 같은 시각 장애인들을 위해 웹사이트를 호환 가능하게 만들어 줄 것을 요청합니다.\n",
      "generate: 제 우리는 을\n",
      "====================\n",
      "i= 1998 ====================\n",
      "target_sentence 여전히 많은 생태계가 회복할 시간이 필요하지만 과학자들은 산성비로 멸종된 필수 생물종들을 다시 들여옴으로써 지역의 회복을 북돋았습니다.\n",
      "generate: 제 이런 을 했습니다 을 했던 이런\n",
      "====================\n",
      "i= 1999 ====================\n",
      "target_sentence 들어주셔서 감사합니다.\n",
      "generate: 제 이런 을\n",
      "====================\n"
     ]
    },
    {
     "name": "stderr",
     "output_type": "stream",
     "text": [
      "\n"
     ]
    },
    {
     "name": "stdout",
     "output_type": "stream",
     "text": [
      "Epoch 29 | Eval Time: 1m 39s\n",
      "\tTrain Loss: 4.962 | Test Loss: 4.554\n",
      "\tBLEU Score:\n",
      "\t\tavg: 0.008\n",
      "\t\t1-gram: 2.021\n",
      "\t\t2-gram: 0.011\n",
      "\t\t3-gram: 0.007\n",
      "\t\t4-gram: 0.005\n",
      "{'avg': [0.0183585191995384, 0.0207460023132086, 0.0033711980055702, 0.0002114518166857, 0.0017461903515971, 0.0, 0.0, 0.0, 0.0219599971536394, 0.0013401491744613, 0.0199400985024767, 2.708368582257652e-05, 0.0006417906432716, 0.0, 0.0, 0.0004281946648516, 0.010307915303122, 0.0017233688530195, 3.008283016107326e-05, 0.0, 0.0, 0.0010730512239388, 0.0, 0.0, 0.0, 0.0, 0.0006159913604499, 0.0022905491429817, 0.008055189403670684], '1-gram': [4.541511771995044, 3.150656386747239, 4.395904436860068, 2.7502126453076268, 4.749199573105656, 4.2639593908629445, 4.302536231884058, 7.91295746785361, 2.522651977807049, 10.870377288008966, 2.9565602836879434, 5.900266463646745, 1.11358574610245, 3.881169142309535, 4.269211451531894, 5.029311940759025, 3.717579250720461, 1.504438092372499, 5.449127288207748, 0.6545820745216515, 5.7, 0.3099173553719008, 3.5, 3.7131882202304736, 7.511266900350526, 4.084507042253521, 9.515023721665788, 2.7899159663865545, 2.020912046393111], '2-gram': [0.0353606789250353, 0.0272789270288702, 0.0177525297354873, 0.0327439423706614, 0.2288329519450801, 0.0, 0.2369668246445497, 2.272727272727273, 0.0390404719559276, 0.0149075730471079, 0.0291814600457176, 0.0797448165869218, 0.0401606425702811, 0.5747126436781609, 0.0, 0.040290088638195, 0.0475624256837098, 0.0107596298687325, 0.1432664756446991, 0.0, 12.5, 0.0076804915514592, 0.0, 0.0, 0.0, 0.364963503649635, 0.0557413600891861, 0.0126582278481012, 0.010659844366272252], '3-gram': [0.0040574535421569, 0.0024985008994603, 0.0105263157894736, 0.0424448217317487, 0.5263157894736842, 0.0, 8.333333333333334, 0.0, 0.0023749584382273, 0.0155860349127182, 0.0026936752505117, 0.0753012048192771, 0.04516711833785, 0.0, 0.0, 0.2976190476190476, 0.0067494600431965, 0.0081619327456741, 0.6756756756756757, 0.0, 0.0, 0.004023821020441, 0.0, 0.0, 0.0, 0.0, 0.0810372771474878, 0.0128205128205128, 0.006774149844194554], '4-gram': [0.0022198543775528, 0.0013849648218935, 0.0055407801418439, 0.0251004016064257, 0.4310344827586206, 0.0, 0.0, 0.0, 0.0013020155200249, 0.0084231805929919, 0.0014102781068426, 0.0394321766561514, 0.0282805429864253, 0.0, 0.0, 0.5208333333333334, 0.003832592365476, 0.0079465988556897, 0.4166666666666667, 0.0, 0.0, 0.0021129141311697, 0.0, 0.0, 0.0, 0.0, 0.0435540069686411, 0.058411214953271, 0.004645113340765515]}\n"
     ]
    },
    {
     "name": "stderr",
     "output_type": "stream",
     "text": [
      "  0%|                                                                                                                                                                             | 0/24436 [00:00<?, ?it/s]/home/jiazhen/.local/lib/python3.8/site-packages/torch/nn/functional.py:5109: UserWarning: Support for mismatched key_padding_mask and attn_mask is deprecated. Use same type for both instead.\n",
      "  warnings.warn(\n",
      "  0%|                                                                                                                                                                     | 4/24436 [00:00<26:52, 15.15it/s]"
     ]
    },
    {
     "name": "stdout",
     "output_type": "stream",
     "text": [
      "loss 5.187729835510254\n",
      "loss 10.766227722167969\n",
      "loss 15.40158462524414\n"
     ]
    },
    {
     "name": "stderr",
     "output_type": "stream",
     "text": [
      "100%|█████████████████████████████████████████████████████████████████████████████████████████████████████████████████████████████████████████████████████████████████| 24436/24436 [26:32<00:00, 15.34it/s]\n"
     ]
    },
    {
     "name": "stdout",
     "output_type": "stream",
     "text": [
      "Epoch 30 | Train Time: 26m 35s\n"
     ]
    },
    {
     "name": "stderr",
     "output_type": "stream",
     "text": [
      "100%|███████████████████████████████████████████████████████████████████████████████████████████████████████████████████████████████████████████████████████████████████| 6012/6012 [02:06<00:00, 47.47it/s]\n"
     ]
    },
    {
     "name": "stdout",
     "output_type": "stream",
     "text": [
      "Epoch 30 | Test Time: 2m 6s\n"
     ]
    },
    {
     "name": "stderr",
     "output_type": "stream",
     "text": [
      "100%|██████████████████████████████████████████████████████████████████████████████████████████████████████████████████████████████████████████████████████████████████▋| 1996/2000 [06:33<00:00,  4.84it/s]"
     ]
    },
    {
     "name": "stdout",
     "output_type": "stream",
     "text": [
      "i= 1995 ====================\n",
      "target_sentence 하지만 설치류를 대상으로 한 유망한 연구에서는 우리가 미래에 분변 세균 요법을 사용할 수 있는 새로운 방법을 제시합니다.\n",
      "generate: 정말,, 웃음,,,,,,,,,,,,,\n",
      "====================\n"
     ]
    },
    {
     "name": "stderr",
     "output_type": "stream",
     "text": [
      "100%|██████████████████████████████████████████████████████████████████████████████████████████████████████████████████████████████████████████████████████████████████▊| 1997/2000 [06:33<00:00,  4.82it/s]"
     ]
    },
    {
     "name": "stdout",
     "output_type": "stream",
     "text": [
      "i= 1996 ====================\n",
      "target_sentence 그건 십억개의 매체가 뜨는 것입니다.\n",
      "generate: 정말,, 웃음,,,,,,,,,,,,,\n",
      "====================\n"
     ]
    },
    {
     "name": "stderr",
     "output_type": "stream",
     "text": [
      "100%|██████████████████████████████████████████████████████████████████████████████████████████████████████████████████████████████████████████████████████████████████▊| 1998/2000 [06:33<00:00,  4.81it/s]"
     ]
    },
    {
     "name": "stdout",
     "output_type": "stream",
     "text": [
      "i= 1997 ====================\n",
      "target_sentence 앱이 필요가 없어요.\n",
      "generate: 정말,, 웃음,,,,,,,,,,,,,\n",
      "====================\n"
     ]
    },
    {
     "name": "stderr",
     "output_type": "stream",
     "text": [
      "100%|██████████████████████████████████████████████████████████████████████████████████████████████████████████████████████████████████████████████████████████████████▉| 1999/2000 [06:34<00:00,  4.79it/s]"
     ]
    },
    {
     "name": "stdout",
     "output_type": "stream",
     "text": [
      "i= 1998 ====================\n",
      "target_sentence 때때로 사람들을 디자인 단계에서 실수를 범하기도 합니다.\n",
      "generate: 정말,, 웃음,,,,,,,,,,,,,\n",
      "====================\n"
     ]
    },
    {
     "name": "stderr",
     "output_type": "stream",
     "text": [
      "100%|███████████████████████████████████████████████████████████████████████████████████████████████████████████████████████████████████████████████████████████████████| 2000/2000 [06:34<00:00,  5.07it/s]"
     ]
    },
    {
     "name": "stdout",
     "output_type": "stream",
     "text": [
      "i= 1999 ====================\n",
      "target_sentence 하지만 이 시나리오를 뒤집어서 배움을 정수로 만들고 시간을 변수로 만들어 봅시다.\n",
      "generate: 정말,, 웃음,,,,,,,,,,,,,\n",
      "====================\n",
      "Epoch 30 | Eval Time: 6m 34s\n",
      "\tTrain Loss: 4.963 | Test Loss: 4.550\n",
      "\tBLEU Score:\n",
      "\t\tavg: 0.011\n",
      "\t\t1-gram: 2.336\n",
      "\t\t2-gram: 0.003\n",
      "\t\t3-gram: 0.002\n",
      "\t\t4-gram: 0.001\n",
      "{'avg': [0.0183585191995384, 0.0207460023132086, 0.0033711980055702, 0.0002114518166857, 0.0017461903515971, 0.0, 0.0, 0.0, 0.0219599971536394, 0.0013401491744613, 0.0199400985024767, 2.708368582257652e-05, 0.0006417906432716, 0.0, 0.0, 0.0004281946648516, 0.010307915303122, 0.0017233688530195, 3.008283016107326e-05, 0.0, 0.0, 0.0010730512239388, 0.0, 0.0, 0.0, 0.0, 0.0006159913604499, 0.0022905491429817, 0.0080551894036706, 0.011082659802402755], '1-gram': [4.541511771995044, 3.150656386747239, 4.395904436860068, 2.7502126453076268, 4.749199573105656, 4.2639593908629445, 4.302536231884058, 7.91295746785361, 2.522651977807049, 10.870377288008966, 2.9565602836879434, 5.900266463646745, 1.11358574610245, 3.881169142309535, 4.269211451531894, 5.029311940759025, 3.717579250720461, 1.504438092372499, 5.449127288207748, 0.6545820745216515, 5.7, 0.3099173553719008, 3.5, 3.7131882202304736, 7.511266900350526, 4.084507042253521, 9.515023721665788, 2.7899159663865545, 2.020912046393111, 2.335979264539122], '2-gram': [0.0353606789250353, 0.0272789270288702, 0.0177525297354873, 0.0327439423706614, 0.2288329519450801, 0.0, 0.2369668246445497, 2.272727272727273, 0.0390404719559276, 0.0149075730471079, 0.0291814600457176, 0.0797448165869218, 0.0401606425702811, 0.5747126436781609, 0.0, 0.040290088638195, 0.0475624256837098, 0.0107596298687325, 0.1432664756446991, 0.0, 12.5, 0.0076804915514592, 0.0, 0.0, 0.0, 0.364963503649635, 0.0557413600891861, 0.0126582278481012, 0.0106598443662722, 0.0034644032565390613], '3-gram': [0.0040574535421569, 0.0024985008994603, 0.0105263157894736, 0.0424448217317487, 0.5263157894736842, 0.0, 8.333333333333334, 0.0, 0.0023749584382273, 0.0155860349127182, 0.0026936752505117, 0.0753012048192771, 0.04516711833785, 0.0, 0.0, 0.2976190476190476, 0.0067494600431965, 0.0081619327456741, 0.6756756756756757, 0.0, 0.0, 0.004023821020441, 0.0, 0.0, 0.0, 0.0, 0.0810372771474878, 0.0128205128205128, 0.0067741498441945, 0.0018611576400521124], '4-gram': [0.0022198543775528, 0.0013849648218935, 0.0055407801418439, 0.0251004016064257, 0.4310344827586206, 0.0, 0.0, 0.0, 0.0013020155200249, 0.0084231805929919, 0.0014102781068426, 0.0394321766561514, 0.0282805429864253, 0.0, 0.0, 0.5208333333333334, 0.003832592365476, 0.0079465988556897, 0.4166666666666667, 0.0, 0.0, 0.0021129141311697, 0.0, 0.0, 0.0, 0.0, 0.0435540069686411, 0.058411214953271, 0.0046451133407655, 0.001001602564102564]}\n"
     ]
    },
    {
     "name": "stderr",
     "output_type": "stream",
     "text": [
      "\n",
      "  0%|                                                                                                                                                                             | 0/24436 [00:00<?, ?it/s]/home/jiazhen/.local/lib/python3.8/site-packages/torch/nn/functional.py:5109: UserWarning: Support for mismatched key_padding_mask and attn_mask is deprecated. Use same type for both instead.\n",
      "  warnings.warn(\n",
      "  0%|                                                                                                                                                                     | 2/24436 [00:00<28:38, 14.21it/s]"
     ]
    },
    {
     "name": "stdout",
     "output_type": "stream",
     "text": [
      "loss 4.880739212036133\n",
      "loss 10.242243766784668\n",
      "loss 15.391481876373291\n"
     ]
    },
    {
     "name": "stderr",
     "output_type": "stream",
     "text": [
      "100%|█████████████████████████████████████████████████████████████████████████████████████████████████████████████████████████████████████████████████████████████████| 24436/24436 [26:25<00:00, 15.41it/s]\n"
     ]
    },
    {
     "name": "stdout",
     "output_type": "stream",
     "text": [
      "Epoch 31 | Train Time: 26m 28s\n"
     ]
    },
    {
     "name": "stderr",
     "output_type": "stream",
     "text": [
      "100%|███████████████████████████████████████████████████████████████████████████████████████████████████████████████████████████████████████████████████████████████████| 6012/6012 [02:07<00:00, 47.26it/s]\n"
     ]
    },
    {
     "name": "stdout",
     "output_type": "stream",
     "text": [
      "Epoch 31 | Test Time: 2m 7s\n"
     ]
    },
    {
     "name": "stderr",
     "output_type": "stream",
     "text": [
      "100%|███████████████████████████████████████████████████████████████████████████████████████████████████████████████████████████████████████████████████████████████████| 2000/2000 [00:37<00:00, 53.19it/s]\n"
     ]
    },
    {
     "name": "stdout",
     "output_type": "stream",
     "text": [
      "i= 1995 ====================\n",
      "target_sentence 그래서 이들은 그 지역에서 발생하거나 역사적으로 유서가 깊은 종류들입니다.\n",
      "generate: 정말\n",
      "====================\n",
      "i= 1996 ====================\n",
      "target_sentence 예를 들어, 위대한 유산의 수수께끼는 핍이라는 인물을 중심으로 전개되는데 그는 이름을 밝히지 않은 기부자에게 발탁되어 무명의 상태로부터 상류층으로 들어가게 됩니다.\n",
      "generate: 그러나\n",
      "====================\n",
      "i= 1997 ====================\n",
      "target_sentence 이것은 확실히 좋은 방식이 아닙니다.\n",
      "generate: 그러나\n",
      "====================\n",
      "i= 1998 ====================\n",
      "target_sentence 간성인 사람들이 스스로 트렌스젠더라고 말하지 않는 이상 말입니다.\n",
      "generate: 그러나\n",
      "====================\n",
      "i= 1999 ====================\n",
      "target_sentence 바로 지금처럼 따끔따끔 한 게 두피에서 척추를 따라 내려가는 느낌은 긴장이나 신난다는 거죠.\n",
      "generate: 그러나\n",
      "====================\n",
      "Epoch 31 | Eval Time: 0m 37s\n",
      "\tTrain Loss: 4.958 | Test Loss: 4.546\n",
      "\tBLEU Score:\n",
      "\t\tavg: 0.000\n",
      "\t\t1-gram: 1.846\n",
      "\t\t2-gram: 12.500\n",
      "\t\t3-gram: 8.333\n",
      "\t\t4-gram: 6.250\n",
      "{'avg': [0.0183585191995384, 0.0207460023132086, 0.0033711980055702, 0.0002114518166857, 0.0017461903515971, 0.0, 0.0, 0.0, 0.0219599971536394, 0.0013401491744613, 0.0199400985024767, 2.708368582257652e-05, 0.0006417906432716, 0.0, 0.0, 0.0004281946648516, 0.010307915303122, 0.0017233688530195, 3.008283016107326e-05, 0.0, 0.0, 0.0010730512239388, 0.0, 0.0, 0.0, 0.0, 0.0006159913604499, 0.0022905491429817, 0.0080551894036706, 0.0110826598024027, 3.716609741475212e-05], '1-gram': [4.541511771995044, 3.150656386747239, 4.395904436860068, 2.7502126453076268, 4.749199573105656, 4.2639593908629445, 4.302536231884058, 7.91295746785361, 2.522651977807049, 10.870377288008966, 2.9565602836879434, 5.900266463646745, 1.11358574610245, 3.881169142309535, 4.269211451531894, 5.029311940759025, 3.717579250720461, 1.504438092372499, 5.449127288207748, 0.6545820745216515, 5.7, 0.3099173553719008, 3.5, 3.7131882202304736, 7.511266900350526, 4.084507042253521, 9.515023721665788, 2.7899159663865545, 2.020912046393111, 2.335979264539122, 1.8463073852295409], '2-gram': [0.0353606789250353, 0.0272789270288702, 0.0177525297354873, 0.0327439423706614, 0.2288329519450801, 0.0, 0.2369668246445497, 2.272727272727273, 0.0390404719559276, 0.0149075730471079, 0.0291814600457176, 0.0797448165869218, 0.0401606425702811, 0.5747126436781609, 0.0, 0.040290088638195, 0.0475624256837098, 0.0107596298687325, 0.1432664756446991, 0.0, 12.5, 0.0076804915514592, 0.0, 0.0, 0.0, 0.364963503649635, 0.0557413600891861, 0.0126582278481012, 0.0106598443662722, 0.003464403256539, 12.5], '3-gram': [0.0040574535421569, 0.0024985008994603, 0.0105263157894736, 0.0424448217317487, 0.5263157894736842, 0.0, 8.333333333333334, 0.0, 0.0023749584382273, 0.0155860349127182, 0.0026936752505117, 0.0753012048192771, 0.04516711833785, 0.0, 0.0, 0.2976190476190476, 0.0067494600431965, 0.0081619327456741, 0.6756756756756757, 0.0, 0.0, 0.004023821020441, 0.0, 0.0, 0.0, 0.0, 0.0810372771474878, 0.0128205128205128, 0.0067741498441945, 0.0018611576400521, 8.333333333333334], '4-gram': [0.0022198543775528, 0.0013849648218935, 0.0055407801418439, 0.0251004016064257, 0.4310344827586206, 0.0, 0.0, 0.0, 0.0013020155200249, 0.0084231805929919, 0.0014102781068426, 0.0394321766561514, 0.0282805429864253, 0.0, 0.0, 0.5208333333333334, 0.003832592365476, 0.0079465988556897, 0.4166666666666667, 0.0, 0.0, 0.0021129141311697, 0.0, 0.0, 0.0, 0.0, 0.0435540069686411, 0.058411214953271, 0.0046451133407655, 0.0010016025641025, 6.25]}\n"
     ]
    },
    {
     "name": "stderr",
     "output_type": "stream",
     "text": [
      "  0%|                                                                                                                                                                             | 0/24436 [00:00<?, ?it/s]"
     ]
    },
    {
     "name": "stdout",
     "output_type": "stream",
     "text": [
      "loss 5.626893520355225\n"
     ]
    },
    {
     "name": "stderr",
     "output_type": "stream",
     "text": [
      "/home/jiazhen/.local/lib/python3.8/site-packages/torch/nn/functional.py:5109: UserWarning: Support for mismatched key_padding_mask and attn_mask is deprecated. Use same type for both instead.\n",
      "  warnings.warn(\n",
      "  0%|                                                                                                                                                                     | 2/24436 [00:00<28:16, 14.40it/s]"
     ]
    },
    {
     "name": "stdout",
     "output_type": "stream",
     "text": [
      "loss 10.908496379852295\n",
      "loss 15.88188123703003\n"
     ]
    },
    {
     "name": "stderr",
     "output_type": "stream",
     "text": [
      "100%|█████████████████████████████████████████████████████████████████████████████████████████████████████████████████████████████████████████████████████████████████| 24436/24436 [26:22<00:00, 15.45it/s]\n"
     ]
    },
    {
     "name": "stdout",
     "output_type": "stream",
     "text": [
      "Epoch 32 | Train Time: 26m 24s\n"
     ]
    },
    {
     "name": "stderr",
     "output_type": "stream",
     "text": [
      "100%|███████████████████████████████████████████████████████████████████████████████████████████████████████████████████████████████████████████████████████████████████| 6012/6012 [02:07<00:00, 47.32it/s]\n"
     ]
    },
    {
     "name": "stdout",
     "output_type": "stream",
     "text": [
      "Epoch 32 | Test Time: 2m 7s\n"
     ]
    },
    {
     "name": "stderr",
     "output_type": "stream",
     "text": [
      "100%|███████████████████████████████████████████████████████████████████████████████████████████████████████████████████████████████████████████████████████████████████| 2000/2000 [00:43<00:00, 46.23it/s]\n"
     ]
    },
    {
     "name": "stdout",
     "output_type": "stream",
     "text": [
      "i= 1995 ====================\n",
      "target_sentence 점수는 6점입니다.\n",
      "generate: 하지만\n",
      "====================\n",
      "i= 1996 ====================\n",
      "target_sentence 세상의 모든 데니 모 같은 사람들과 파트너가 되어 공동체가 독특하게 마주하고 있는 건강 불평등의 문제를 다룰 수 있는 힘을 부여해 줄 기회가 있습니다.\n",
      "generate: \n",
      "====================\n",
      "i= 1997 ====================\n",
      "target_sentence 우리가 하게 될까요?\n",
      "generate: \n",
      "====================\n",
      "i= 1998 ====================\n",
      "target_sentence 여러분에게 드릴 말씀은 자녀들이 원하는 물건의 대가를 직접 지불하도록 하라는 거예요.\n",
      "generate: \n",
      "====================\n",
      "i= 1999 ====================\n",
      "target_sentence 구 글에서 사용하는 전력량을 알아볼 수 있죠.\n",
      "generate: 하지만\n",
      "====================\n",
      "Epoch 32 | Eval Time: 0m 43s\n",
      "\tTrain Loss: 4.959 | Test Loss: 4.561\n",
      "\tBLEU Score:\n",
      "\t\tavg: 0.000\n",
      "\t\t1-gram: 2.860\n",
      "\t\t2-gram: 0.031\n",
      "\t\t3-gram: 0.016\n",
      "\t\t4-gram: 0.008\n",
      "{'avg': [0.0183585191995384, 0.0207460023132086, 0.0033711980055702, 0.0002114518166857, 0.0017461903515971, 0.0, 0.0, 0.0, 0.0219599971536394, 0.0013401491744613, 0.0199400985024767, 2.708368582257652e-05, 0.0006417906432716, 0.0, 0.0, 0.0004281946648516, 0.010307915303122, 0.0017233688530195, 3.008283016107326e-05, 0.0, 0.0, 0.0010730512239388, 0.0, 0.0, 0.0, 0.0, 0.0006159913604499, 0.0022905491429817, 0.0080551894036706, 0.0110826598024027, 3.716609741475212e-05, 1.3125603088818823e-05], '1-gram': [4.541511771995044, 3.150656386747239, 4.395904436860068, 2.7502126453076268, 4.749199573105656, 4.2639593908629445, 4.302536231884058, 7.91295746785361, 2.522651977807049, 10.870377288008966, 2.9565602836879434, 5.900266463646745, 1.11358574610245, 3.881169142309535, 4.269211451531894, 5.029311940759025, 3.717579250720461, 1.504438092372499, 5.449127288207748, 0.6545820745216515, 5.7, 0.3099173553719008, 3.5, 3.7131882202304736, 7.511266900350526, 4.084507042253521, 9.515023721665788, 2.7899159663865545, 2.020912046393111, 2.335979264539122, 1.8463073852295409, 2.860169491525424], '2-gram': [0.0353606789250353, 0.0272789270288702, 0.0177525297354873, 0.0327439423706614, 0.2288329519450801, 0.0, 0.2369668246445497, 2.272727272727273, 0.0390404719559276, 0.0149075730471079, 0.0291814600457176, 0.0797448165869218, 0.0401606425702811, 0.5747126436781609, 0.0, 0.040290088638195, 0.0475624256837098, 0.0107596298687325, 0.1432664756446991, 0.0, 12.5, 0.0076804915514592, 0.0, 0.0, 0.0, 0.364963503649635, 0.0557413600891861, 0.0126582278481012, 0.0106598443662722, 0.003464403256539, 12.5, 0.03134796238244514], '3-gram': [0.0040574535421569, 0.0024985008994603, 0.0105263157894736, 0.0424448217317487, 0.5263157894736842, 0.0, 8.333333333333334, 0.0, 0.0023749584382273, 0.0155860349127182, 0.0026936752505117, 0.0753012048192771, 0.04516711833785, 0.0, 0.0, 0.2976190476190476, 0.0067494600431965, 0.0081619327456741, 0.6756756756756757, 0.0, 0.0, 0.004023821020441, 0.0, 0.0, 0.0, 0.0, 0.0810372771474878, 0.0128205128205128, 0.0067741498441945, 0.0018611576400521, 8.333333333333334, 0.016233766233766232], '4-gram': [0.0022198543775528, 0.0013849648218935, 0.0055407801418439, 0.0251004016064257, 0.4310344827586206, 0.0, 0.0, 0.0, 0.0013020155200249, 0.0084231805929919, 0.0014102781068426, 0.0394321766561514, 0.0282805429864253, 0.0, 0.0, 0.5208333333333334, 0.003832592365476, 0.0079465988556897, 0.4166666666666667, 0.0, 0.0, 0.0021129141311697, 0.0, 0.0, 0.0, 0.0, 0.0435540069686411, 0.058411214953271, 0.0046451133407655, 0.0010016025641025, 6.25, 0.008417508417508417]}\n"
     ]
    },
    {
     "name": "stderr",
     "output_type": "stream",
     "text": [
      "  0%|                                                                                                                                                                             | 0/24436 [00:00<?, ?it/s]"
     ]
    },
    {
     "name": "stdout",
     "output_type": "stream",
     "text": [
      "loss 4.97908353805542\n"
     ]
    },
    {
     "name": "stderr",
     "output_type": "stream",
     "text": [
      "/home/jiazhen/.local/lib/python3.8/site-packages/torch/nn/functional.py:5109: UserWarning: Support for mismatched key_padding_mask and attn_mask is deprecated. Use same type for both instead.\n",
      "  warnings.warn(\n",
      "  0%|                                                                                                                                                                     | 4/24436 [00:00<26:59, 15.08it/s]"
     ]
    },
    {
     "name": "stdout",
     "output_type": "stream",
     "text": [
      "loss 9.417719841003418\n",
      "loss 13.600499153137207\n"
     ]
    },
    {
     "name": "stderr",
     "output_type": "stream",
     "text": [
      "100%|█████████████████████████████████████████████████████████████████████████████████████████████████████████████████████████████████████████████████████████████████| 24436/24436 [26:27<00:00, 15.39it/s]\n"
     ]
    },
    {
     "name": "stdout",
     "output_type": "stream",
     "text": [
      "Epoch 33 | Train Time: 26m 30s\n"
     ]
    },
    {
     "name": "stderr",
     "output_type": "stream",
     "text": [
      "100%|███████████████████████████████████████████████████████████████████████████████████████████████████████████████████████████████████████████████████████████████████| 6012/6012 [02:07<00:00, 47.08it/s]\n"
     ]
    },
    {
     "name": "stdout",
     "output_type": "stream",
     "text": [
      "Epoch 33 | Test Time: 2m 7s\n"
     ]
    },
    {
     "name": "stderr",
     "output_type": "stream",
     "text": [
      "100%|███████████████████████████████████████████████████████████████████████████████████████████████████████████████████████████████████████████████████████████████████| 2000/2000 [00:37<00:00, 52.78it/s]\n"
     ]
    },
    {
     "name": "stdout",
     "output_type": "stream",
     "text": [
      "i= 1995 ====================\n",
      "target_sentence AK : 여러분이 웹사이트 JohnnyCashProject.com에 방문한다면, 위에서 플레이 된 비디오를 보시게 될 것 입니다.\n",
      "generate: 그녀는\n",
      "====================\n",
      "i= 1996 ====================\n",
      "target_sentence 식도를 통해 위로 음식이 들어가면 근육이 해야 하는 일은 음식이 역류하는 것을 막는 것입니다.\n",
      "generate: 우리는\n",
      "====================\n",
      "i= 1997 ====================\n",
      "target_sentence 실제 배우와 실사 장면을 포착하여 어떻게 실감 나게 구현할 수 있는지 생각해 볼 겁니다.\n",
      "generate: 우리는\n",
      "====================\n",
      "i= 1998 ====================\n",
      "target_sentence 저희는 시내에 언론매체관리센터를 열었습니다.\n",
      "generate: 그녀는\n",
      "====================\n",
      "i= 1999 ====================\n",
      "target_sentence 어떤 직원이 특별 연수과정에 선발될 것인가 와 승진 할 직원을 선정하기 위한 것이었지요.\n",
      "generate: 그녀는\n",
      "====================\n",
      "Epoch 33 | Eval Time: 0m 37s\n",
      "\tTrain Loss: 4.944 | Test Loss: 4.548\n",
      "\tBLEU Score:\n",
      "\t\tavg: 0.000\n",
      "\t\t1-gram: 4.634\n",
      "\t\t2-gram: 4.545\n",
      "\t\t3-gram: 0.000\n",
      "\t\t4-gram: 0.000\n",
      "{'avg': [0.0183585191995384, 0.0207460023132086, 0.0033711980055702, 0.0002114518166857, 0.0017461903515971, 0.0, 0.0, 0.0, 0.0219599971536394, 0.0013401491744613, 0.0199400985024767, 2.708368582257652e-05, 0.0006417906432716, 0.0, 0.0, 0.0004281946648516, 0.010307915303122, 0.0017233688530195, 3.008283016107326e-05, 0.0, 0.0, 0.0010730512239388, 0.0, 0.0, 0.0, 0.0, 0.0006159913604499, 0.0022905491429817, 0.0080551894036706, 0.0110826598024027, 3.716609741475212e-05, 1.3125603088818825e-05, 0.0], '1-gram': [4.541511771995044, 3.150656386747239, 4.395904436860068, 2.7502126453076268, 4.749199573105656, 4.2639593908629445, 4.302536231884058, 7.91295746785361, 2.522651977807049, 10.870377288008966, 2.9565602836879434, 5.900266463646745, 1.11358574610245, 3.881169142309535, 4.269211451531894, 5.029311940759025, 3.717579250720461, 1.504438092372499, 5.449127288207748, 0.6545820745216515, 5.7, 0.3099173553719008, 3.5, 3.7131882202304736, 7.511266900350526, 4.084507042253521, 9.515023721665788, 2.7899159663865545, 2.020912046393111, 2.335979264539122, 1.8463073852295409, 2.860169491525424, 4.633781763826607], '2-gram': [0.0353606789250353, 0.0272789270288702, 0.0177525297354873, 0.0327439423706614, 0.2288329519450801, 0.0, 0.2369668246445497, 2.272727272727273, 0.0390404719559276, 0.0149075730471079, 0.0291814600457176, 0.0797448165869218, 0.0401606425702811, 0.5747126436781609, 0.0, 0.040290088638195, 0.0475624256837098, 0.0107596298687325, 0.1432664756446991, 0.0, 12.5, 0.0076804915514592, 0.0, 0.0, 0.0, 0.364963503649635, 0.0557413600891861, 0.0126582278481012, 0.0106598443662722, 0.003464403256539, 12.5, 0.0313479623824451, 4.545454545454546], '3-gram': [0.0040574535421569, 0.0024985008994603, 0.0105263157894736, 0.0424448217317487, 0.5263157894736842, 0.0, 8.333333333333334, 0.0, 0.0023749584382273, 0.0155860349127182, 0.0026936752505117, 0.0753012048192771, 0.04516711833785, 0.0, 0.0, 0.2976190476190476, 0.0067494600431965, 0.0081619327456741, 0.6756756756756757, 0.0, 0.0, 0.004023821020441, 0.0, 0.0, 0.0, 0.0, 0.0810372771474878, 0.0128205128205128, 0.0067741498441945, 0.0018611576400521, 8.333333333333334, 0.0162337662337662, 0.0], '4-gram': [0.0022198543775528, 0.0013849648218935, 0.0055407801418439, 0.0251004016064257, 0.4310344827586206, 0.0, 0.0, 0.0, 0.0013020155200249, 0.0084231805929919, 0.0014102781068426, 0.0394321766561514, 0.0282805429864253, 0.0, 0.0, 0.5208333333333334, 0.003832592365476, 0.0079465988556897, 0.4166666666666667, 0.0, 0.0, 0.0021129141311697, 0.0, 0.0, 0.0, 0.0, 0.0435540069686411, 0.058411214953271, 0.0046451133407655, 0.0010016025641025, 6.25, 0.0084175084175084, 0.0]}\n"
     ]
    },
    {
     "name": "stderr",
     "output_type": "stream",
     "text": [
      "  0%|                                                                                                                                                                             | 0/24436 [00:00<?, ?it/s]"
     ]
    },
    {
     "name": "stdout",
     "output_type": "stream",
     "text": [
      "loss 4.634162902832031\n"
     ]
    },
    {
     "name": "stderr",
     "output_type": "stream",
     "text": [
      "/home/jiazhen/.local/lib/python3.8/site-packages/torch/nn/functional.py:5109: UserWarning: Support for mismatched key_padding_mask and attn_mask is deprecated. Use same type for both instead.\n",
      "  warnings.warn(\n",
      "  0%|                                                                                                                                                                     | 2/24436 [00:00<29:19, 13.88it/s]"
     ]
    },
    {
     "name": "stdout",
     "output_type": "stream",
     "text": [
      "loss 9.74492883682251\n",
      "loss 14.433000087738037\n"
     ]
    },
    {
     "name": "stderr",
     "output_type": "stream",
     "text": [
      "100%|█████████████████████████████████████████████████████████████████████████████████████████████████████████████████████████████████████████████████████████████████| 24436/24436 [26:28<00:00, 15.38it/s]\n"
     ]
    },
    {
     "name": "stdout",
     "output_type": "stream",
     "text": [
      "Epoch 34 | Train Time: 26m 31s\n"
     ]
    },
    {
     "name": "stderr",
     "output_type": "stream",
     "text": [
      "100%|███████████████████████████████████████████████████████████████████████████████████████████████████████████████████████████████████████████████████████████████████| 6012/6012 [02:07<00:00, 47.33it/s]\n"
     ]
    },
    {
     "name": "stdout",
     "output_type": "stream",
     "text": [
      "Epoch 34 | Test Time: 2m 7s\n"
     ]
    },
    {
     "name": "stderr",
     "output_type": "stream",
     "text": [
      "100%|███████████████████████████████████████████████████████████████████████████████████████████████████████████████████████████████████████████████████████████████████| 2000/2000 [00:24<00:00, 80.74it/s]\n"
     ]
    },
    {
     "name": "stdout",
     "output_type": "stream",
     "text": [
      "i= 1995 ====================\n",
      "target_sentence 그 다음 얼음이 있는 페트리 접시로 옮겨서 좀 더 확실하게 마취를 시키죠.\n",
      "generate: \n",
      "====================\n",
      "i= 1996 ====================\n",
      "target_sentence 머지 않아 라이트가 생각한 1,600 m의 기적이 실현될지도 모릅니다.\n",
      "generate: \n",
      "====================\n",
      "i= 1997 ====================\n",
      "target_sentence 이 수상한 법률은 수상한 시점에 몇몇 용의자들의 석방을 위해 통과되었습니다.\n",
      "generate: \n",
      "====================\n",
      "i= 1998 ====================\n",
      "target_sentence 지역에서 고용하고 지역에서 자원을 구하고 가능한 곳에서 훈련시키고 그리고 가장 중요한 것은 모든 디자인 결정을 당신이 일하는 곳의 위엄에 투자하는 기회라고 생각하라. 이것을 건축에 대한 지역 음식 운동인 것처럼 생각해 보세요.\n",
      "generate: \n",
      "====================\n",
      "i= 1999 ====================\n",
      "target_sentence 2005년 어느 연구에서 대학생들이 다른 학교로 편입한 전후 운동, 독서, TV 시청 습관을 조사했습니다.\n",
      "generate: \n",
      "====================\n",
      "Epoch 34 | Eval Time: 0m 24s\n",
      "\tTrain Loss: 4.945 | Test Loss: 4.563\n",
      "\tBLEU Score:\n",
      "\t\tavg: 0.000\n",
      "\t\t1-gram: 1.923\n",
      "\t\t2-gram: 0.000\n",
      "\t\t3-gram: 0.000\n",
      "\t\t4-gram: 0.000\n",
      "{'avg': [0.0183585191995384, 0.0207460023132086, 0.0033711980055702, 0.0002114518166857, 0.0017461903515971, 0.0, 0.0, 0.0, 0.0219599971536394, 0.0013401491744613, 0.0199400985024767, 2.708368582257652e-05, 0.0006417906432716, 0.0, 0.0, 0.0004281946648516, 0.010307915303122, 0.0017233688530195, 3.008283016107326e-05, 0.0, 0.0, 0.0010730512239388, 0.0, 0.0, 0.0, 0.0, 0.0006159913604499, 0.0022905491429817, 0.0080551894036706, 0.0110826598024027, 3.716609741475212e-05, 1.3125603088818825e-05, 0.0, 0.0], '1-gram': [4.541511771995044, 3.150656386747239, 4.395904436860068, 2.7502126453076268, 4.749199573105656, 4.2639593908629445, 4.302536231884058, 7.91295746785361, 2.522651977807049, 10.870377288008966, 2.9565602836879434, 5.900266463646745, 1.11358574610245, 3.881169142309535, 4.269211451531894, 5.029311940759025, 3.717579250720461, 1.504438092372499, 5.449127288207748, 0.6545820745216515, 5.7, 0.3099173553719008, 3.5, 3.7131882202304736, 7.511266900350526, 4.084507042253521, 9.515023721665788, 2.7899159663865545, 2.020912046393111, 2.335979264539122, 1.8463073852295409, 2.860169491525424, 4.633781763826607, 1.9230769230769231], '2-gram': [0.0353606789250353, 0.0272789270288702, 0.0177525297354873, 0.0327439423706614, 0.2288329519450801, 0.0, 0.2369668246445497, 2.272727272727273, 0.0390404719559276, 0.0149075730471079, 0.0291814600457176, 0.0797448165869218, 0.0401606425702811, 0.5747126436781609, 0.0, 0.040290088638195, 0.0475624256837098, 0.0107596298687325, 0.1432664756446991, 0.0, 12.5, 0.0076804915514592, 0.0, 0.0, 0.0, 0.364963503649635, 0.0557413600891861, 0.0126582278481012, 0.0106598443662722, 0.003464403256539, 12.5, 0.0313479623824451, 4.545454545454546, 0.0], '3-gram': [0.0040574535421569, 0.0024985008994603, 0.0105263157894736, 0.0424448217317487, 0.5263157894736842, 0.0, 8.333333333333334, 0.0, 0.0023749584382273, 0.0155860349127182, 0.0026936752505117, 0.0753012048192771, 0.04516711833785, 0.0, 0.0, 0.2976190476190476, 0.0067494600431965, 0.0081619327456741, 0.6756756756756757, 0.0, 0.0, 0.004023821020441, 0.0, 0.0, 0.0, 0.0, 0.0810372771474878, 0.0128205128205128, 0.0067741498441945, 0.0018611576400521, 8.333333333333334, 0.0162337662337662, 0.0, 0.0], '4-gram': [0.0022198543775528, 0.0013849648218935, 0.0055407801418439, 0.0251004016064257, 0.4310344827586206, 0.0, 0.0, 0.0, 0.0013020155200249, 0.0084231805929919, 0.0014102781068426, 0.0394321766561514, 0.0282805429864253, 0.0, 0.0, 0.5208333333333334, 0.003832592365476, 0.0079465988556897, 0.4166666666666667, 0.0, 0.0, 0.0021129141311697, 0.0, 0.0, 0.0, 0.0, 0.0435540069686411, 0.058411214953271, 0.0046451133407655, 0.0010016025641025, 6.25, 0.0084175084175084, 0.0, 0.0]}\n"
     ]
    },
    {
     "name": "stderr",
     "output_type": "stream",
     "text": [
      "  0%|                                                                                                                                                                             | 0/24436 [00:00<?, ?it/s]"
     ]
    },
    {
     "name": "stdout",
     "output_type": "stream",
     "text": [
      "loss 5.403870105743408\n"
     ]
    },
    {
     "name": "stderr",
     "output_type": "stream",
     "text": [
      "/home/jiazhen/.local/lib/python3.8/site-packages/torch/nn/functional.py:5109: UserWarning: Support for mismatched key_padding_mask and attn_mask is deprecated. Use same type for both instead.\n",
      "  warnings.warn(\n",
      "  0%|                                                                                                                                                                     | 4/24436 [00:00<26:27, 15.39it/s]"
     ]
    },
    {
     "name": "stdout",
     "output_type": "stream",
     "text": [
      "loss 10.164438724517822\n",
      "loss 14.869422912597656\n"
     ]
    },
    {
     "name": "stderr",
     "output_type": "stream",
     "text": [
      "100%|█████████████████████████████████████████████████████████████████████████████████████████████████████████████████████████████████████████████████████████████████| 24436/24436 [26:29<00:00, 15.38it/s]\n"
     ]
    },
    {
     "name": "stdout",
     "output_type": "stream",
     "text": [
      "Epoch 35 | Train Time: 26m 31s\n"
     ]
    },
    {
     "name": "stderr",
     "output_type": "stream",
     "text": [
      "100%|███████████████████████████████████████████████████████████████████████████████████████████████████████████████████████████████████████████████████████████████████| 6012/6012 [02:07<00:00, 47.22it/s]\n"
     ]
    },
    {
     "name": "stdout",
     "output_type": "stream",
     "text": [
      "Epoch 35 | Test Time: 2m 7s\n"
     ]
    },
    {
     "name": "stderr",
     "output_type": "stream",
     "text": [
      "100%|██████████████████████████████████████████████████████████████████████████████████████████████████████████████████████████████████████████████████████████████████▋| 1996/2000 [04:56<00:00,  6.61it/s]"
     ]
    },
    {
     "name": "stdout",
     "output_type": "stream",
     "text": [
      "i= 1995 ====================\n",
      "target_sentence 육 체 노동자들도 마찬가지에요. 호텔의 종업원과 어울리며 한 잔 할 수도 있겠죠.\n",
      "generate: 하나,, 웃음, 네 네 네 네 네 네 네 네 네 네 네 네 네 네 네 네 네 네 네 네 네 네 네 네 네\n",
      "====================\n",
      "i= 1996 ====================\n",
      "target_sentence 대양의 바닥에는, 호열성이고 증기 통풍구의 열기에도 살아남을 수 있는 그렇지 않으면, 만약 물고기가 거기 있다면 수- 바 이드 식으로 요리됬겠지만, 그럼에도 불구하고, 그 물고기를 위해서 쾌적한 환경을 만들 수 있는 박테리아가 있습니다.\n",
      "generate: 하나 하나,\n",
      "====================\n"
     ]
    },
    {
     "name": "stderr",
     "output_type": "stream",
     "text": [
      "100%|██████████████████████████████████████████████████████████████████████████████████████████████████████████████████████████████████████████████████████████████████▊| 1998/2000 [04:56<00:00,  7.11it/s]"
     ]
    },
    {
     "name": "stdout",
     "output_type": "stream",
     "text": [
      "i= 1997 ====================\n",
      "target_sentence 하지만 그들은 또한 주 미아 대학을 설립하고 온라인 교육 플랫폼을 개발하여 상인들이 인터넷 사용법과 회사경영을 배울 수 있게 하였습니다.\n",
      "generate: 하나,, 웃음, 네 네 네 네 네 네 네 네 네 네 네 네 네 네 네 네 네 네 네 네 네 네 네 네 네\n",
      "====================\n"
     ]
    },
    {
     "name": "stderr",
     "output_type": "stream",
     "text": [
      "100%|██████████████████████████████████████████████████████████████████████████████████████████████████████████████████████████████████████████████████████████████████▉| 1999/2000 [04:56<00:00,  6.44it/s]"
     ]
    },
    {
     "name": "stdout",
     "output_type": "stream",
     "text": [
      "i= 1998 ====================\n",
      "target_sentence 예술을 원하는 사람에게로 말이에요.\n",
      "generate: 하나,, 웃음, 네 네 네 네 네 네 네 네 네 네 네 네 네 네 네 네 네 네 네 네 네 네 네 네 네\n",
      "====================\n"
     ]
    },
    {
     "name": "stderr",
     "output_type": "stream",
     "text": [
      "100%|███████████████████████████████████████████████████████████████████████████████████████████████████████████████████████████████████████████████████████████████████| 2000/2000 [04:56<00:00,  6.74it/s]"
     ]
    },
    {
     "name": "stdout",
     "output_type": "stream",
     "text": [
      "i= 1999 ====================\n",
      "target_sentence 환각제를 만드는 비영리 제약회사입니다.\n",
      "generate: 하나,, 웃음, 네 네 네 네 네 네 네 네 네 네 네 네 네 네 네 네 네 네 네 네 네 네 네 네 네\n",
      "====================\n"
     ]
    },
    {
     "name": "stderr",
     "output_type": "stream",
     "text": [
      "\n"
     ]
    },
    {
     "name": "stdout",
     "output_type": "stream",
     "text": [
      "Epoch 35 | Eval Time: 4m 57s\n",
      "\tTrain Loss: 4.940 | Test Loss: 4.487\n",
      "\tBLEU Score:\n",
      "\t\tavg: 0.011\n",
      "\t\t1-gram: 1.935\n",
      "\t\t2-gram: 0.006\n",
      "\t\t3-gram: 0.002\n",
      "\t\t4-gram: 0.001\n",
      "{'avg': [0.0183585191995384, 0.0207460023132086, 0.0033711980055702, 0.0002114518166857, 0.0017461903515971, 0.0, 0.0, 0.0, 0.0219599971536394, 0.0013401491744613, 0.0199400985024767, 2.708368582257652e-05, 0.0006417906432716, 0.0, 0.0, 0.0004281946648516, 0.010307915303122, 0.0017233688530195, 3.008283016107326e-05, 0.0, 0.0, 0.0010730512239388, 0.0, 0.0, 0.0, 0.0, 0.0006159913604499, 0.0022905491429817, 0.0080551894036706, 0.0110826598024027, 3.716609741475212e-05, 1.3125603088818825e-05, 0.0, 0.0, 0.011144281251369022], '1-gram': [4.541511771995044, 3.150656386747239, 4.395904436860068, 2.7502126453076268, 4.749199573105656, 4.2639593908629445, 4.302536231884058, 7.91295746785361, 2.522651977807049, 10.870377288008966, 2.9565602836879434, 5.900266463646745, 1.11358574610245, 3.881169142309535, 4.269211451531894, 5.029311940759025, 3.717579250720461, 1.504438092372499, 5.449127288207748, 0.6545820745216515, 5.7, 0.3099173553719008, 3.5, 3.7131882202304736, 7.511266900350526, 4.084507042253521, 9.515023721665788, 2.7899159663865545, 2.020912046393111, 2.335979264539122, 1.8463073852295409, 2.860169491525424, 4.633781763826607, 1.9230769230769231, 1.9348125650327626], '2-gram': [0.0353606789250353, 0.0272789270288702, 0.0177525297354873, 0.0327439423706614, 0.2288329519450801, 0.0, 0.2369668246445497, 2.272727272727273, 0.0390404719559276, 0.0149075730471079, 0.0291814600457176, 0.0797448165869218, 0.0401606425702811, 0.5747126436781609, 0.0, 0.040290088638195, 0.0475624256837098, 0.0107596298687325, 0.1432664756446991, 0.0, 12.5, 0.0076804915514592, 0.0, 0.0, 0.0, 0.364963503649635, 0.0557413600891861, 0.0126582278481012, 0.0106598443662722, 0.003464403256539, 12.5, 0.0313479623824451, 4.545454545454546, 0.0, 0.005959653148186776], '3-gram': [0.0040574535421569, 0.0024985008994603, 0.0105263157894736, 0.0424448217317487, 0.5263157894736842, 0.0, 8.333333333333334, 0.0, 0.0023749584382273, 0.0155860349127182, 0.0026936752505117, 0.0753012048192771, 0.04516711833785, 0.0, 0.0, 0.2976190476190476, 0.0067494600431965, 0.0081619327456741, 0.6756756756756757, 0.0, 0.0, 0.004023821020441, 0.0, 0.0, 0.0, 0.0, 0.0810372771474878, 0.0128205128205128, 0.0067741498441945, 0.0018611576400521, 8.333333333333334, 0.0162337662337662, 0.0, 0.0, 0.0015843341043759308], '4-gram': [0.0022198543775528, 0.0013849648218935, 0.0055407801418439, 0.0251004016064257, 0.4310344827586206, 0.0, 0.0, 0.0, 0.0013020155200249, 0.0084231805929919, 0.0014102781068426, 0.0394321766561514, 0.0282805429864253, 0.0, 0.0, 0.5208333333333334, 0.003832592365476, 0.0079465988556897, 0.4166666666666667, 0.0, 0.0, 0.0021129141311697, 0.0, 0.0, 0.0, 0.0, 0.0435540069686411, 0.058411214953271, 0.0046451133407655, 0.0010016025641025, 6.25, 0.0084175084175084, 0.0, 0.0, 0.0008443093549476528]}\n"
     ]
    },
    {
     "name": "stderr",
     "output_type": "stream",
     "text": [
      "  0%|                                                                                                                                                                             | 0/24436 [00:00<?, ?it/s]/home/jiazhen/.local/lib/python3.8/site-packages/torch/nn/functional.py:5109: UserWarning: Support for mismatched key_padding_mask and attn_mask is deprecated. Use same type for both instead.\n",
      "  warnings.warn(\n",
      "  0%|                                                                                                                                                                     | 4/24436 [00:00<27:09, 14.99it/s]"
     ]
    },
    {
     "name": "stdout",
     "output_type": "stream",
     "text": [
      "loss 4.825369358062744\n",
      "loss 10.948005676269531\n",
      "loss 15.543164730072021\n"
     ]
    },
    {
     "name": "stderr",
     "output_type": "stream",
     "text": [
      "100%|█████████████████████████████████████████████████████████████████████████████████████████████████████████████████████████████████████████████████████████████████| 24436/24436 [26:28<00:00, 15.39it/s]\n"
     ]
    },
    {
     "name": "stdout",
     "output_type": "stream",
     "text": [
      "Epoch 36 | Train Time: 26m 30s\n"
     ]
    },
    {
     "name": "stderr",
     "output_type": "stream",
     "text": [
      "100%|███████████████████████████████████████████████████████████████████████████████████████████████████████████████████████████████████████████████████████████████████| 6012/6012 [02:07<00:00, 47.22it/s]\n"
     ]
    },
    {
     "name": "stdout",
     "output_type": "stream",
     "text": [
      "Epoch 36 | Test Time: 2m 7s\n"
     ]
    },
    {
     "name": "stderr",
     "output_type": "stream",
     "text": [
      "100%|██████████████████████████████████████████████████████████████████████████████████████████████████████████████████████████████████████████████████████████████████▊| 1998/2000 [00:51<00:00, 32.16it/s]"
     ]
    },
    {
     "name": "stdout",
     "output_type": "stream",
     "text": [
      "i= 1995 ====================\n",
      "target_sentence 불행하게도 저한테 는 화면에 나타난 0 과 1 들 정도가 아니고 몇 페이지 정도의 0 과 1을 말하는 것도 아닙니다.\n",
      "generate: 하지만\n",
      "====================\n",
      "i= 1996 ====================\n",
      "target_sentence 매일 밤 새로운 하늘이 있는 셈이죠.\n",
      "generate: 하지만\n",
      "====================\n",
      "i= 1997 ====================\n",
      "target_sentence 사람들이 문을 부수려 하는 동안 저는 창문으로 뛰어들어갔습니다.\n",
      "generate: 하지만 했습니다 했습니다\n",
      "====================\n",
      "i= 1998 ====================\n",
      "target_sentence 농업이 그것에 적응할 수 있을까요?\n",
      "generate: 하지만\n",
      "====================\n"
     ]
    },
    {
     "name": "stderr",
     "output_type": "stream",
     "text": [
      "100%|███████████████████████████████████████████████████████████████████████████████████████████████████████████████████████████████████████████████████████████████████| 2000/2000 [00:51<00:00, 38.97it/s]"
     ]
    },
    {
     "name": "stdout",
     "output_type": "stream",
     "text": [
      "i= 1999 ====================\n",
      "target_sentence 배우는 게 재미있지 않나요?\n",
      "generate: 하지만,,,,,,,,,,,,,,,,,, 제, 어떤 어떤 요 요\n",
      "====================\n",
      "Epoch 36 | Eval Time: 0m 51s\n",
      "\tTrain Loss: 4.928 | Test Loss: 4.560\n",
      "\tBLEU Score:\n",
      "\t\tavg: 0.000\n",
      "\t\t1-gram: 2.510\n",
      "\t\t2-gram: 0.024\n",
      "\t\t3-gram: 0.014\n",
      "\t\t4-gram: 0.008\n",
      "{'avg': [0.0183585191995384, 0.0207460023132086, 0.0033711980055702, 0.0002114518166857, 0.0017461903515971, 0.0, 0.0, 0.0, 0.0219599971536394, 0.0013401491744613, 0.0199400985024767, 2.708368582257652e-05, 0.0006417906432716, 0.0, 0.0, 0.0004281946648516, 0.010307915303122, 0.0017233688530195, 3.008283016107326e-05, 0.0, 0.0, 0.0010730512239388, 0.0, 0.0, 0.0, 0.0, 0.0006159913604499, 0.0022905491429817, 0.0080551894036706, 0.0110826598024027, 3.716609741475212e-05, 1.3125603088818825e-05, 0.0, 0.0, 0.011144281251369, 0.00021990416026193457], '1-gram': [4.541511771995044, 3.150656386747239, 4.395904436860068, 2.7502126453076268, 4.749199573105656, 4.2639593908629445, 4.302536231884058, 7.91295746785361, 2.522651977807049, 10.870377288008966, 2.9565602836879434, 5.900266463646745, 1.11358574610245, 3.881169142309535, 4.269211451531894, 5.029311940759025, 3.717579250720461, 1.504438092372499, 5.449127288207748, 0.6545820745216515, 5.7, 0.3099173553719008, 3.5, 3.7131882202304736, 7.511266900350526, 4.084507042253521, 9.515023721665788, 2.7899159663865545, 2.020912046393111, 2.335979264539122, 1.8463073852295409, 2.860169491525424, 4.633781763826607, 1.9230769230769231, 1.9348125650327623, 2.509746588693957], '2-gram': [0.0353606789250353, 0.0272789270288702, 0.0177525297354873, 0.0327439423706614, 0.2288329519450801, 0.0, 0.2369668246445497, 2.272727272727273, 0.0390404719559276, 0.0149075730471079, 0.0291814600457176, 0.0797448165869218, 0.0401606425702811, 0.5747126436781609, 0.0, 0.040290088638195, 0.0475624256837098, 0.0107596298687325, 0.1432664756446991, 0.0, 12.5, 0.0076804915514592, 0.0, 0.0, 0.0, 0.364963503649635, 0.0557413600891861, 0.0126582278481012, 0.0106598443662722, 0.003464403256539, 12.5, 0.0313479623824451, 4.545454545454546, 0.0, 0.0059596531481867, 0.02376425855513308], '3-gram': [0.0040574535421569, 0.0024985008994603, 0.0105263157894736, 0.0424448217317487, 0.5263157894736842, 0.0, 8.333333333333334, 0.0, 0.0023749584382273, 0.0155860349127182, 0.0026936752505117, 0.0753012048192771, 0.04516711833785, 0.0, 0.0, 0.2976190476190476, 0.0067494600431965, 0.0081619327456741, 0.6756756756756757, 0.0, 0.0, 0.004023821020441, 0.0, 0.0, 0.0, 0.0, 0.0810372771474878, 0.0128205128205128, 0.0067741498441945, 0.0018611576400521, 8.333333333333334, 0.0162337662337662, 0.0, 0.0, 0.0015843341043759, 0.014204545454545454], '4-gram': [0.0022198543775528, 0.0013849648218935, 0.0055407801418439, 0.0251004016064257, 0.4310344827586206, 0.0, 0.0, 0.0, 0.0013020155200249, 0.0084231805929919, 0.0014102781068426, 0.0394321766561514, 0.0282805429864253, 0.0, 0.0, 0.5208333333333334, 0.003832592365476, 0.0079465988556897, 0.4166666666666667, 0.0, 0.0, 0.0021129141311697, 0.0, 0.0, 0.0, 0.0, 0.0435540069686411, 0.058411214953271, 0.0046451133407655, 0.0010016025641025, 6.25, 0.0084175084175084, 0.0, 0.0, 0.0008443093549476, 0.008311170212765957]}\n"
     ]
    },
    {
     "name": "stderr",
     "output_type": "stream",
     "text": [
      "\n",
      "  0%|                                                                                                                                                                             | 0/24436 [00:00<?, ?it/s]/home/jiazhen/.local/lib/python3.8/site-packages/torch/nn/functional.py:5109: UserWarning: Support for mismatched key_padding_mask and attn_mask is deprecated. Use same type for both instead.\n",
      "  warnings.warn(\n",
      "  0%|                                                                                                                                                                     | 2/24436 [00:00<28:13, 14.43it/s]"
     ]
    },
    {
     "name": "stdout",
     "output_type": "stream",
     "text": [
      "loss 4.748072624206543\n",
      "loss 9.165586471557617\n",
      "loss 14.654966831207275\n"
     ]
    },
    {
     "name": "stderr",
     "output_type": "stream",
     "text": [
      " 42%|███████████████████████████████████████████████████████████████████                                                                                              | 10186/24436 [11:02<15:27, 15.37it/s]\n",
      "huggingface/tokenizers: The current process just got forked, after parallelism has already been used. Disabling parallelism to avoid deadlocks...\n",
      "To disable this warning, you can either:\n",
      "\t- Avoid using `tokenizers` before the fork if possible\n",
      "\t- Explicitly set the environment variable TOKENIZERS_PARALLELISM=(true | false)\n"
     ]
    },
    {
     "ename": "KeyboardInterrupt",
     "evalue": "",
     "output_type": "error",
     "traceback": [
      "\u001b[0;31m---------------------------------------------------------------------------\u001b[0m",
      "\u001b[0;31mKeyboardInterrupt\u001b[0m                         Traceback (most recent call last)",
      "Cell \u001b[0;32mIn[118], line 8\u001b[0m\n\u001b[1;32m      5\u001b[0m bleu_scores \u001b[38;5;241m=\u001b[39m []\n\u001b[1;32m      7\u001b[0m start_time \u001b[38;5;241m=\u001b[39m time\u001b[38;5;241m.\u001b[39mtime()\n\u001b[0;32m----> 8\u001b[0m train_loss \u001b[38;5;241m=\u001b[39m \u001b[43mtrain\u001b[49m\u001b[43m(\u001b[49m\u001b[43mpath\u001b[49m\u001b[38;5;241;43m=\u001b[39;49m\u001b[38;5;124;43m'\u001b[39;49m\u001b[38;5;132;43;01m{}\u001b[39;49;00m\u001b[38;5;124;43m/MODELS/translation_model(\u001b[39;49m\u001b[38;5;132;43;01m{}\u001b[39;49;00m\u001b[38;5;124;43m).pth\u001b[39;49m\u001b[38;5;124;43m'\u001b[39;49m\u001b[38;5;241;43m.\u001b[39;49m\u001b[43mformat\u001b[49m\u001b[43m(\u001b[49m\u001b[43mdir_path\u001b[49m\u001b[43m,\u001b[49m\u001b[43mmodel_name\u001b[49m\u001b[43m)\u001b[49m\u001b[43m)\u001b[49m\n\u001b[1;32m      9\u001b[0m \u001b[38;5;66;03m#break\u001b[39;00m\n\u001b[1;32m     10\u001b[0m end_time \u001b[38;5;241m=\u001b[39m time\u001b[38;5;241m.\u001b[39mtime()\n",
      "Cell \u001b[0;32mIn[37], line 67\u001b[0m, in \u001b[0;36mtrain\u001b[0;34m(path)\u001b[0m\n\u001b[1;32m     63\u001b[0m loss\u001b[38;5;241m.\u001b[39mbackward()\n\u001b[1;32m     65\u001b[0m optimizer\u001b[38;5;241m.\u001b[39mstep()\n\u001b[0;32m---> 67\u001b[0m total_loss \u001b[38;5;241m+\u001b[39m\u001b[38;5;241m=\u001b[39m \u001b[43mloss\u001b[49m\u001b[38;5;241;43m.\u001b[39;49m\u001b[43mitem\u001b[49m\u001b[43m(\u001b[49m\u001b[43m)\u001b[49m\n\u001b[1;32m     69\u001b[0m counts \u001b[38;5;241m+\u001b[39m\u001b[38;5;241m=\u001b[39m batch_size\n\u001b[1;32m     70\u001b[0m loss_int \u001b[38;5;241m=\u001b[39m \u001b[38;5;241m0\u001b[39m \u001b[38;5;241m+\u001b[39m loss\u001b[38;5;241m.\u001b[39mitem()\n",
      "\u001b[0;31mKeyboardInterrupt\u001b[0m: "
     ]
    },
    {
     "data": {
      "image/png": "[encoded data removed]",
      "text/plain": [
       "<Figure size 640x480 with 1 Axes>"
      ]
     },
     "metadata": {},
     "output_type": "display_data"
    }
   ],
   "source": [
    "# 訓練模型\n",
    "for epoch in range(num_epochs):\n",
    "    train_losses = []\n",
    "    test_losses = []\n",
    "    bleu_scores = []\n",
    "\n",
    "    start_time = time.time()\n",
    "    train_loss = train(path='{}/MODELS/translation_model({}).pth'.format(dir_path,model_name))\n",
    "    #break\n",
    "    end_time = time.time()\n",
    "    epoch_mins, epoch_secs = epoch_time(start_time, end_time)\n",
    "    print(f'Epoch {epoch+1:02} | Train Time: {epoch_mins}m {epoch_secs}s')\n",
    "\n",
    "    start_time = time.time()\n",
    "    test_loss = evaluate()\n",
    "\n",
    "    end_time = time.time()\n",
    "    epoch_mins, epoch_secs = epoch_time(start_time, end_time)\n",
    "    print(f'Epoch {epoch+1:02} | Test Time: {epoch_mins}m {epoch_secs}s')\n",
    "\n",
    "    start_time = time.time()\n",
    "\n",
    "    samples = get_samples(TEST_ZSENT,TEST_KSENT)\n",
    "    test_score = sacrebleu_score(model, source_sentences=samples['zh'],target_sentences=samples['ko'])\n",
    "    #test_score = sacrebleu_score(model, source_sentences=TEST_ZSENT,target_sentences=TEST_KSENT,bpmf_sentences=TEST_ZYSENT,hanja_sentences=TEST_HSENT)\n",
    "    end_time = time.time()\n",
    "    epoch_mins, epoch_secs = epoch_time(start_time, end_time)\n",
    "    print(f'Epoch {epoch+1:02} | Eval Time: {epoch_mins}m {epoch_secs}s')\n",
    "\n",
    "    print('\\tTrain Loss: {:.3f} | Test Loss: {:.3f}'.format(train_loss, test_loss))\n",
    "    print('\\tBLEU Score:')\n",
    "    for k in test_score.keys():\n",
    "        print('\\t\\t{}: {:.3f}'.format(k,test_score[k]))\n",
    "    #break\n",
    "    #'''\n",
    "    wandb.log({\"Epoch_Train_loss\": train_loss,\n",
    "               \"Epoch_Test_loss\": test_loss,\n",
    "               'BLEU_score(avg)':test_score['avg'],\n",
    "               '1-gram':test_score['1-gram'],\n",
    "               '2-gram':test_score['2-gram'],\n",
    "               '3-gram':test_score['3-gram'],\n",
    "               '4-gram':test_score['4-gram']})#'''\n",
    "\n",
    "    # 儲存訓練好的模型\n",
    "    if(test_score['avg'] > avg_best_score):\n",
    "    #if(test_loss < best_loss):\n",
    "      avg_best_score = avg_best_score['avg']\n",
    "      best_loss = test_loss\n",
    "      torch.save(model.state_dict(), '{}/MODELS/best_translation_model({}).pth'.format(dir_path,model_name))\n",
    "      print('== save model ==')\n",
    "        \n",
    "    if(test_score['1-gram'] > best_score):\n",
    "    #if(test_loss < best_loss):\n",
    "      best_score = test_score['1-gram']\n",
    "      best_loss = test_loss\n",
    "      torch.save(model.state_dict(), '{}/MODELS/best_translation_model({}).pth'.format(dir_path,model_name))\n",
    "      print('== save model ==')\n",
    "\n",
    "    #break\n",
    "\n",
    "    if(test_score['1-gram'] < 1):\n",
    "      try:\n",
    "        model.load_state_dict(torch.load('{}/MODELS/best_translation_model({}).pth'.format(dir_path,model_name)))\n",
    "        print('='*5,'load best model','='*5)\n",
    "      except:\n",
    "        model = transformer.to(device)\n",
    "\n",
    "        #'nothing'\n",
    "\n",
    "\n",
    "    train_losses.append(train_loss)\n",
    "    test_losses.append(test_loss)\n",
    "    bleu_scores.append(test_score)\n",
    "\n",
    "    loss_history(train_losses, test_losses, path=model_name, to_show=False)\n",
    "    sacrebleu_history(bleu_scores, path=model_name, to_show=False)\n",
    "wandb.finish()"
   ]
  },
  {
   "cell_type": "code",
   "execution_count": null,
   "metadata": {
    "id": "ceNwfHY0W3rq"
   },
   "outputs": [],
   "source": [
    "bleu_score(test_source_sentences,model,tokenizer,max_length,device)"
   ]
  },
  {
   "cell_type": "code",
   "execution_count": null,
   "metadata": {
    "id": "d0aItTP3JE9b"
   },
   "outputs": [],
   "source": []
  },
  {
   "cell_type": "code",
   "execution_count": null,
   "metadata": {
    "id": "je6JQhwGJE9c"
   },
   "outputs": [],
   "source": [
    "from sacrebleu.metrics import BLEU\n",
    "\n",
    "def sacrebleu_score(source_sentences,target_sentences,lang='ko'):\n",
    "  global zh_tokenizer, ko_tokenizer, model, max_length, device\n",
    "  model.eval()\n",
    "  bleu = BLEU()\n",
    "  bleu.trg_lang = lang\n",
    "  avg_score = {'avg':0,'1-gram':0,'2-gram':0,'3-gram':0,'4-gram':0}\n",
    "\n",
    "  # 生成目標語句\n",
    "  generated_sentences = []\n",
    "  with tqdm(total = len(source_sentences)) as pbar:\n",
    "    for i in range(len(source_sentences)):\n",
    "        source_sentence = source_sentences[i]\n",
    "        target_sentence = target_sentences[i]\n",
    "        source_tokens = zh_tokenizer(source_sentence, padding=True, truncation=True, return_tensors='pt', max_length=max_length).to(device)\n",
    "        with torch.no_grad():\n",
    "            output = model(input_ids=source_tokens.input_ids, attention_mask=source_tokens.attention_mask)\n",
    "        generated_sentence = ko_tokenizer.decode(output[0].argmax(dim=-1), skip_special_tokens=True)\n",
    "        gen_sent = ''\n",
    "        for sent in generated_sentence:\n",
    "            gen_sent += sent\n",
    "        bleu_score = bleu.corpus_score([gen_sent],[[target_sentence]])\n",
    "        #print([gen_sent],[[target_sentence]])\n",
    "        #print(bleu_score)\n",
    "        avg_score['avg'] += bleu_score.score\n",
    "        avg_score['1-gram'] += bleu_score.precisions[0]\n",
    "        avg_score['2-gram'] += bleu_score.precisions[1]\n",
    "        avg_score['3-gram'] += bleu_score.precisions[2]\n",
    "        avg_score['4-gram'] += bleu_score.precisions[3]\n",
    "        pbar.update(1)\n",
    "  avg_score['avg'] /= len(source_sentences)\n",
    "  avg_score['1-gram'] /= len(source_sentences)\n",
    "  avg_score['2-gram'] /= len(source_sentences)\n",
    "  avg_score['3-gram'] /= len(source_sentences)\n",
    "  avg_score['4-gram'] /= len(source_sentences)\n",
    "\n",
    "  #print('gen:',generated_sentences,'tar:',[[sent] for sent in target_sentences],'sor',source_sentences)\n",
    "  #print('BLEU Score:',bleu.score)\n",
    "\n",
    "  return avg_score"
   ]
  },
  {
   "cell_type": "code",
   "execution_count": null,
   "metadata": {
    "id": "zuOJRIdhJE9c"
   },
   "outputs": [],
   "source": [
    "train_score = sacrebleu_score(TRAIN_ZSENT,TRAIN_KSENT)\n",
    "test_score = sacrebleu_score(TEST_ZSENT,TEST_KSENT)\n",
    "print('Train:',train_score)\n",
    "print('Test:',test_score)"
   ]
  }
 ],
 "metadata": {
  "accelerator": "GPU",
  "colab": {
   "gpuType": "T4",
   "provenance": [
    {
     "file_id": "1_EEW5tkhh2ILfM2VDVsWwM_CRutS5n2N",
     "timestamp": 1712825273579
    }
   ]
  },
  "kernelspec": {
   "display_name": "Python 3 (ipykernel)",
   "language": "python",
   "name": "python3"
  },
  "language_info": {
   "codemirror_mode": {
    "name": "ipython",
    "version": 3
   },
   "file_extension": ".py",
   "mimetype": "text/x-python",
   "name": "python",
   "nbconvert_exporter": "python",
   "pygments_lexer": "ipython3",
   "version": "3.8.10"
  },
  "widgets": {
   "application/vnd.jupyter.widget-state+json": {
    "04cc66ff34c64a6798523314add38e6d": {
     "model_module": "@jupyter-widgets/controls",
     "model_module_version": "1.5.0",
     "model_name": "HTMLModel",
     "state": {
      "_dom_classes": [],
      "_model_module": "@jupyter-widgets/controls",
      "_model_module_version": "1.5.0",
      "_model_name": "HTMLModel",
      "_view_count": null,
      "_view_module": "@jupyter-widgets/controls",
      "_view_module_version": "1.5.0",
      "_view_name": "HTMLView",
      "description": "",
      "description_tooltip": null,
      "layout": "IPY_MODEL_43506cec89664c018a9eb3e097ed25b4",
      "placeholder": "​",
      "style": "IPY_MODEL_483c3114ec374f5c9713948c2406f03e",
      "value": " 725/725 [00:00&lt;00:00, 12.1kB/s]"
     }
    },
    "08c6b967d2b147d386fbe55ead5c1b81": {
     "model_module": "@jupyter-widgets/controls",
     "model_module_version": "1.5.0",
     "model_name": "HTMLModel",
     "state": {
      "_dom_classes": [],
      "_model_module": "@jupyter-widgets/controls",
      "_model_module_version": "1.5.0",
      "_model_name": "HTMLModel",
      "_view_count": null,
      "_view_module": "@jupyter-widgets/controls",
      "_view_module_version": "1.5.0",
      "_view_name": "HTMLView",
      "description": "",
      "description_tooltip": null,
      "layout": "IPY_MODEL_dc2870cf431d419e985e50309020bd11",
      "placeholder": "​",
      "style": "IPY_MODEL_70fda8fc7b3048dbafcb1cb39660b530",
      "value": "config.json: 100%"
     }
    },
    "0a2628389d544671bac62a8d6f5d4782": {
     "model_module": "@jupyter-widgets/base",
     "model_module_version": "1.2.0",
     "model_name": "LayoutModel",
     "state": {
      "_model_module": "@jupyter-widgets/base",
      "_model_module_version": "1.2.0",
      "_model_name": "LayoutModel",
      "_view_count": null,
      "_view_module": "@jupyter-widgets/base",
      "_view_module_version": "1.2.0",
      "_view_name": "LayoutView",
      "align_content": null,
      "align_items": null,
      "align_self": null,
      "border": null,
      "bottom": null,
      "display": null,
      "flex": null,
      "flex_flow": null,
      "grid_area": null,
      "grid_auto_columns": null,
      "grid_auto_flow": null,
      "grid_auto_rows": null,
      "grid_column": null,
      "grid_gap": null,
      "grid_row": null,
      "grid_template_areas": null,
      "grid_template_columns": null,
      "grid_template_rows": null,
      "height": null,
      "justify_content": null,
      "justify_items": null,
      "left": null,
      "margin": null,
      "max_height": null,
      "max_width": null,
      "min_height": null,
      "min_width": null,
      "object_fit": null,
      "object_position": null,
      "order": null,
      "overflow": null,
      "overflow_x": null,
      "overflow_y": null,
      "padding": null,
      "right": null,
      "top": null,
      "visibility": null,
      "width": null
     }
    },
    "0c3a3b09552647eb8a0a378c0758f83f": {
     "model_module": "@jupyter-widgets/base",
     "model_module_version": "1.2.0",
     "model_name": "LayoutModel",
     "state": {
      "_model_module": "@jupyter-widgets/base",
      "_model_module_version": "1.2.0",
      "_model_name": "LayoutModel",
      "_view_count": null,
      "_view_module": "@jupyter-widgets/base",
      "_view_module_version": "1.2.0",
      "_view_name": "LayoutView",
      "align_content": null,
      "align_items": null,
      "align_self": null,
      "border": null,
      "bottom": null,
      "display": null,
      "flex": null,
      "flex_flow": null,
      "grid_area": null,
      "grid_auto_columns": null,
      "grid_auto_flow": null,
      "grid_auto_rows": null,
      "grid_column": null,
      "grid_gap": null,
      "grid_row": null,
      "grid_template_areas": null,
      "grid_template_columns": null,
      "grid_template_rows": null,
      "height": null,
      "justify_content": null,
      "justify_items": null,
      "left": null,
      "margin": null,
      "max_height": null,
      "max_width": null,
      "min_height": null,
      "min_width": null,
      "object_fit": null,
      "object_position": null,
      "order": null,
      "overflow": null,
      "overflow_x": null,
      "overflow_y": null,
      "padding": null,
      "right": null,
      "top": null,
      "visibility": null,
      "width": null
     }
    },
    "0f461dbd7b3e43deb973adcf106f0e48": {
     "model_module": "@jupyter-widgets/base",
     "model_module_version": "1.2.0",
     "model_name": "LayoutModel",
     "state": {
      "_model_module": "@jupyter-widgets/base",
      "_model_module_version": "1.2.0",
      "_model_name": "LayoutModel",
      "_view_count": null,
      "_view_module": "@jupyter-widgets/base",
      "_view_module_version": "1.2.0",
      "_view_name": "LayoutView",
      "align_content": null,
      "align_items": null,
      "align_self": null,
      "border": null,
      "bottom": null,
      "display": null,
      "flex": null,
      "flex_flow": null,
      "grid_area": null,
      "grid_auto_columns": null,
      "grid_auto_flow": null,
      "grid_auto_rows": null,
      "grid_column": null,
      "grid_gap": null,
      "grid_row": null,
      "grid_template_areas": null,
      "grid_template_columns": null,
      "grid_template_rows": null,
      "height": null,
      "justify_content": null,
      "justify_items": null,
      "left": null,
      "margin": null,
      "max_height": null,
      "max_width": null,
      "min_height": null,
      "min_width": null,
      "object_fit": null,
      "object_position": null,
      "order": null,
      "overflow": null,
      "overflow_x": null,
      "overflow_y": null,
      "padding": null,
      "right": null,
      "top": null,
      "visibility": null,
      "width": null
     }
    },
    "1018769c5abb42fa96c6da3561ed6c53": {
     "model_module": "@jupyter-widgets/base",
     "model_module_version": "1.2.0",
     "model_name": "LayoutModel",
     "state": {
      "_model_module": "@jupyter-widgets/base",
      "_model_module_version": "1.2.0",
      "_model_name": "LayoutModel",
      "_view_count": null,
      "_view_module": "@jupyter-widgets/base",
      "_view_module_version": "1.2.0",
      "_view_name": "LayoutView",
      "align_content": null,
      "align_items": null,
      "align_self": null,
      "border": null,
      "bottom": null,
      "display": null,
      "flex": null,
      "flex_flow": null,
      "grid_area": null,
      "grid_auto_columns": null,
      "grid_auto_flow": null,
      "grid_auto_rows": null,
      "grid_column": null,
      "grid_gap": null,
      "grid_row": null,
      "grid_template_areas": null,
      "grid_template_columns": null,
      "grid_template_rows": null,
      "height": null,
      "justify_content": null,
      "justify_items": null,
      "left": null,
      "margin": null,
      "max_height": null,
      "max_width": null,
      "min_height": null,
      "min_width": null,
      "object_fit": null,
      "object_position": null,
      "order": null,
      "overflow": null,
      "overflow_x": null,
      "overflow_y": null,
      "padding": null,
      "right": null,
      "top": null,
      "visibility": null,
      "width": null
     }
    },
    "10c2dfa0e30b49b2a780a2bec95d3433": {
     "model_module": "@jupyter-widgets/controls",
     "model_module_version": "1.5.0",
     "model_name": "HTMLModel",
     "state": {
      "_dom_classes": [],
      "_model_module": "@jupyter-widgets/controls",
      "_model_module_version": "1.5.0",
      "_model_name": "HTMLModel",
      "_view_count": null,
      "_view_module": "@jupyter-widgets/controls",
      "_view_module_version": "1.5.0",
      "_view_name": "HTMLView",
      "description": "",
      "description_tooltip": null,
      "layout": "IPY_MODEL_a18586c8bb604b76bf66a01aa8ee135d",
      "placeholder": "​",
      "style": "IPY_MODEL_adfa89e6ce0749b4a7028e4fbd790bf4",
      "value": "vocab.txt: 100%"
     }
    },
    "120d78d3428949deacaa8568961e353b": {
     "model_module": "@jupyter-widgets/base",
     "model_module_version": "1.2.0",
     "model_name": "LayoutModel",
     "state": {
      "_model_module": "@jupyter-widgets/base",
      "_model_module_version": "1.2.0",
      "_model_name": "LayoutModel",
      "_view_count": null,
      "_view_module": "@jupyter-widgets/base",
      "_view_module_version": "1.2.0",
      "_view_name": "LayoutView",
      "align_content": null,
      "align_items": null,
      "align_self": null,
      "border": null,
      "bottom": null,
      "display": null,
      "flex": null,
      "flex_flow": null,
      "grid_area": null,
      "grid_auto_columns": null,
      "grid_auto_flow": null,
      "grid_auto_rows": null,
      "grid_column": null,
      "grid_gap": null,
      "grid_row": null,
      "grid_template_areas": null,
      "grid_template_columns": null,
      "grid_template_rows": null,
      "height": null,
      "justify_content": null,
      "justify_items": null,
      "left": null,
      "margin": null,
      "max_height": null,
      "max_width": null,
      "min_height": null,
      "min_width": null,
      "object_fit": null,
      "object_position": null,
      "order": null,
      "overflow": null,
      "overflow_x": null,
      "overflow_y": null,
      "padding": null,
      "right": null,
      "top": null,
      "visibility": null,
      "width": null
     }
    },
    "124ac807ef99463ebf72273e34dabb09": {
     "model_module": "@jupyter-widgets/controls",
     "model_module_version": "1.5.0",
     "model_name": "DescriptionStyleModel",
     "state": {
      "_model_module": "@jupyter-widgets/controls",
      "_model_module_version": "1.5.0",
      "_model_name": "DescriptionStyleModel",
      "_view_count": null,
      "_view_module": "@jupyter-widgets/base",
      "_view_module_version": "1.2.0",
      "_view_name": "StyleView",
      "description_width": ""
     }
    },
    "150a9391496642318ff062bc834f6618": {
     "model_module": "@jupyter-widgets/controls",
     "model_module_version": "1.5.0",
     "model_name": "ProgressStyleModel",
     "state": {
      "_model_module": "@jupyter-widgets/controls",
      "_model_module_version": "1.5.0",
      "_model_name": "ProgressStyleModel",
      "_view_count": null,
      "_view_module": "@jupyter-widgets/base",
      "_view_module_version": "1.2.0",
      "_view_name": "StyleView",
      "bar_color": null,
      "description_width": ""
     }
    },
    "1cba16906e3147ecadbc6706de0c39d6": {
     "model_module": "@jupyter-widgets/base",
     "model_module_version": "1.2.0",
     "model_name": "LayoutModel",
     "state": {
      "_model_module": "@jupyter-widgets/base",
      "_model_module_version": "1.2.0",
      "_model_name": "LayoutModel",
      "_view_count": null,
      "_view_module": "@jupyter-widgets/base",
      "_view_module_version": "1.2.0",
      "_view_name": "LayoutView",
      "align_content": null,
      "align_items": null,
      "align_self": null,
      "border": null,
      "bottom": null,
      "display": null,
      "flex": null,
      "flex_flow": null,
      "grid_area": null,
      "grid_auto_columns": null,
      "grid_auto_flow": null,
      "grid_auto_rows": null,
      "grid_column": null,
      "grid_gap": null,
      "grid_row": null,
      "grid_template_areas": null,
      "grid_template_columns": null,
      "grid_template_rows": null,
      "height": null,
      "justify_content": null,
      "justify_items": null,
      "left": null,
      "margin": null,
      "max_height": null,
      "max_width": null,
      "min_height": null,
      "min_width": null,
      "object_fit": null,
      "object_position": null,
      "order": null,
      "overflow": null,
      "overflow_x": null,
      "overflow_y": null,
      "padding": null,
      "right": null,
      "top": null,
      "visibility": null,
      "width": null
     }
    },
    "1de1d369d5294e5a85c9916b298fe2f1": {
     "model_module": "@jupyter-widgets/base",
     "model_module_version": "1.2.0",
     "model_name": "LayoutModel",
     "state": {
      "_model_module": "@jupyter-widgets/base",
      "_model_module_version": "1.2.0",
      "_model_name": "LayoutModel",
      "_view_count": null,
      "_view_module": "@jupyter-widgets/base",
      "_view_module_version": "1.2.0",
      "_view_name": "LayoutView",
      "align_content": null,
      "align_items": null,
      "align_self": null,
      "border": null,
      "bottom": null,
      "display": null,
      "flex": null,
      "flex_flow": null,
      "grid_area": null,
      "grid_auto_columns": null,
      "grid_auto_flow": null,
      "grid_auto_rows": null,
      "grid_column": null,
      "grid_gap": null,
      "grid_row": null,
      "grid_template_areas": null,
      "grid_template_columns": null,
      "grid_template_rows": null,
      "height": null,
      "justify_content": null,
      "justify_items": null,
      "left": null,
      "margin": null,
      "max_height": null,
      "max_width": null,
      "min_height": null,
      "min_width": null,
      "object_fit": null,
      "object_position": null,
      "order": null,
      "overflow": null,
      "overflow_x": null,
      "overflow_y": null,
      "padding": null,
      "right": null,
      "top": null,
      "visibility": null,
      "width": null
     }
    },
    "23eb950592f34bafb47e470f393dd27e": {
     "model_module": "@jupyter-widgets/base",
     "model_module_version": "1.2.0",
     "model_name": "LayoutModel",
     "state": {
      "_model_module": "@jupyter-widgets/base",
      "_model_module_version": "1.2.0",
      "_model_name": "LayoutModel",
      "_view_count": null,
      "_view_module": "@jupyter-widgets/base",
      "_view_module_version": "1.2.0",
      "_view_name": "LayoutView",
      "align_content": null,
      "align_items": null,
      "align_self": null,
      "border": null,
      "bottom": null,
      "display": null,
      "flex": null,
      "flex_flow": null,
      "grid_area": null,
      "grid_auto_columns": null,
      "grid_auto_flow": null,
      "grid_auto_rows": null,
      "grid_column": null,
      "grid_gap": null,
      "grid_row": null,
      "grid_template_areas": null,
      "grid_template_columns": null,
      "grid_template_rows": null,
      "height": null,
      "justify_content": null,
      "justify_items": null,
      "left": null,
      "margin": null,
      "max_height": null,
      "max_width": null,
      "min_height": null,
      "min_width": null,
      "object_fit": null,
      "object_position": null,
      "order": null,
      "overflow": null,
      "overflow_x": null,
      "overflow_y": null,
      "padding": null,
      "right": null,
      "top": null,
      "visibility": null,
      "width": null
     }
    },
    "262e112535004e9184157cf9fcf7f606": {
     "model_module": "@jupyter-widgets/controls",
     "model_module_version": "1.5.0",
     "model_name": "HBoxModel",
     "state": {
      "_dom_classes": [],
      "_model_module": "@jupyter-widgets/controls",
      "_model_module_version": "1.5.0",
      "_model_name": "HBoxModel",
      "_view_count": null,
      "_view_module": "@jupyter-widgets/controls",
      "_view_module_version": "1.5.0",
      "_view_name": "HBoxView",
      "box_style": "",
      "children": [
       "IPY_MODEL_28ace64e7f1c40e6b1c6922233433bee",
       "IPY_MODEL_db0a1dd5859749128b717ae4c76e6b64",
       "IPY_MODEL_461ed5efc3ef46f7a22c509844ddd55f"
      ],
      "layout": "IPY_MODEL_b67d594c1df04183884eff596d662658"
     }
    },
    "27598864851e4e7d9a06e9588252d1bd": {
     "model_module": "@jupyter-widgets/base",
     "model_module_version": "1.2.0",
     "model_name": "LayoutModel",
     "state": {
      "_model_module": "@jupyter-widgets/base",
      "_model_module_version": "1.2.0",
      "_model_name": "LayoutModel",
      "_view_count": null,
      "_view_module": "@jupyter-widgets/base",
      "_view_module_version": "1.2.0",
      "_view_name": "LayoutView",
      "align_content": null,
      "align_items": null,
      "align_self": null,
      "border": null,
      "bottom": null,
      "display": null,
      "flex": null,
      "flex_flow": null,
      "grid_area": null,
      "grid_auto_columns": null,
      "grid_auto_flow": null,
      "grid_auto_rows": null,
      "grid_column": null,
      "grid_gap": null,
      "grid_row": null,
      "grid_template_areas": null,
      "grid_template_columns": null,
      "grid_template_rows": null,
      "height": null,
      "justify_content": null,
      "justify_items": null,
      "left": null,
      "margin": null,
      "max_height": null,
      "max_width": null,
      "min_height": null,
      "min_width": null,
      "object_fit": null,
      "object_position": null,
      "order": null,
      "overflow": null,
      "overflow_x": null,
      "overflow_y": null,
      "padding": null,
      "right": null,
      "top": null,
      "visibility": null,
      "width": null
     }
    },
    "2759df3f647443a8aa7c7508fc01ce12": {
     "model_module": "@jupyter-widgets/controls",
     "model_module_version": "1.5.0",
     "model_name": "HTMLModel",
     "state": {
      "_dom_classes": [],
      "_model_module": "@jupyter-widgets/controls",
      "_model_module_version": "1.5.0",
      "_model_name": "HTMLModel",
      "_view_count": null,
      "_view_module": "@jupyter-widgets/controls",
      "_view_module_version": "1.5.0",
      "_view_name": "HTMLView",
      "description": "",
      "description_tooltip": null,
      "layout": "IPY_MODEL_9e51d2b75e5a4f539a775b69ac7e8263",
      "placeholder": "​",
      "style": "IPY_MODEL_6e107a5d52bf440c88b33a51de84b48b",
      "value": "config.json: 100%"
     }
    },
    "282343868a3e40aeb672dda2cdc1d8e1": {
     "model_module": "@jupyter-widgets/controls",
     "model_module_version": "1.5.0",
     "model_name": "DescriptionStyleModel",
     "state": {
      "_model_module": "@jupyter-widgets/controls",
      "_model_module_version": "1.5.0",
      "_model_name": "DescriptionStyleModel",
      "_view_count": null,
      "_view_module": "@jupyter-widgets/base",
      "_view_module_version": "1.2.0",
      "_view_name": "StyleView",
      "description_width": ""
     }
    },
    "28ace64e7f1c40e6b1c6922233433bee": {
     "model_module": "@jupyter-widgets/controls",
     "model_module_version": "1.5.0",
     "model_name": "HTMLModel",
     "state": {
      "_dom_classes": [],
      "_model_module": "@jupyter-widgets/controls",
      "_model_module_version": "1.5.0",
      "_model_name": "HTMLModel",
      "_view_count": null,
      "_view_module": "@jupyter-widgets/controls",
      "_view_module_version": "1.5.0",
      "_view_name": "HTMLView",
      "description": "",
      "description_tooltip": null,
      "layout": "IPY_MODEL_b8e8f37391574a93b07bb6947391b764",
      "placeholder": "​",
      "style": "IPY_MODEL_c12459d1815b4404b5ac462132902c69",
      "value": "tokenizer.json: 100%"
     }
    },
    "2a7e5e452f484b69a9b9fe1da6fd4b7c": {
     "model_module": "@jupyter-widgets/controls",
     "model_module_version": "1.5.0",
     "model_name": "ProgressStyleModel",
     "state": {
      "_model_module": "@jupyter-widgets/controls",
      "_model_module_version": "1.5.0",
      "_model_name": "ProgressStyleModel",
      "_view_count": null,
      "_view_module": "@jupyter-widgets/base",
      "_view_module_version": "1.2.0",
      "_view_name": "StyleView",
      "bar_color": null,
      "description_width": ""
     }
    },
    "2a80426cb8c24ce4bffeaec5c5b16b8a": {
     "model_module": "@jupyter-widgets/controls",
     "model_module_version": "1.5.0",
     "model_name": "DescriptionStyleModel",
     "state": {
      "_model_module": "@jupyter-widgets/controls",
      "_model_module_version": "1.5.0",
      "_model_name": "DescriptionStyleModel",
      "_view_count": null,
      "_view_module": "@jupyter-widgets/base",
      "_view_module_version": "1.2.0",
      "_view_name": "StyleView",
      "description_width": ""
     }
    },
    "2ce7103e9bfc45c8961f727f6c3cb0e0": {
     "model_module": "@jupyter-widgets/base",
     "model_module_version": "1.2.0",
     "model_name": "LayoutModel",
     "state": {
      "_model_module": "@jupyter-widgets/base",
      "_model_module_version": "1.2.0",
      "_model_name": "LayoutModel",
      "_view_count": null,
      "_view_module": "@jupyter-widgets/base",
      "_view_module_version": "1.2.0",
      "_view_name": "LayoutView",
      "align_content": null,
      "align_items": null,
      "align_self": null,
      "border": null,
      "bottom": null,
      "display": null,
      "flex": null,
      "flex_flow": null,
      "grid_area": null,
      "grid_auto_columns": null,
      "grid_auto_flow": null,
      "grid_auto_rows": null,
      "grid_column": null,
      "grid_gap": null,
      "grid_row": null,
      "grid_template_areas": null,
      "grid_template_columns": null,
      "grid_template_rows": null,
      "height": null,
      "justify_content": null,
      "justify_items": null,
      "left": null,
      "margin": null,
      "max_height": null,
      "max_width": null,
      "min_height": null,
      "min_width": null,
      "object_fit": null,
      "object_position": null,
      "order": null,
      "overflow": null,
      "overflow_x": null,
      "overflow_y": null,
      "padding": null,
      "right": null,
      "top": null,
      "visibility": null,
      "width": null
     }
    },
    "2cf32b18a2924a3dbd7e512c3e0e5b48": {
     "model_module": "@jupyter-widgets/controls",
     "model_module_version": "1.5.0",
     "model_name": "FloatProgressModel",
     "state": {
      "_dom_classes": [],
      "_model_module": "@jupyter-widgets/controls",
      "_model_module_version": "1.5.0",
      "_model_name": "FloatProgressModel",
      "_view_count": null,
      "_view_module": "@jupyter-widgets/controls",
      "_view_module_version": "1.5.0",
      "_view_name": "ProgressView",
      "bar_style": "",
      "description": "",
      "description_tooltip": null,
      "layout": "IPY_MODEL_a6e9634d4f9e472397949945839a5d15",
      "max": 1,
      "min": 0,
      "orientation": "horizontal",
      "style": "IPY_MODEL_150a9391496642318ff062bc834f6618",
      "value": 1
     }
    },
    "32d07b4c240d44f5b7b9894bca42540f": {
     "model_module": "@jupyter-widgets/base",
     "model_module_version": "1.2.0",
     "model_name": "LayoutModel",
     "state": {
      "_model_module": "@jupyter-widgets/base",
      "_model_module_version": "1.2.0",
      "_model_name": "LayoutModel",
      "_view_count": null,
      "_view_module": "@jupyter-widgets/base",
      "_view_module_version": "1.2.0",
      "_view_name": "LayoutView",
      "align_content": null,
      "align_items": null,
      "align_self": null,
      "border": null,
      "bottom": null,
      "display": null,
      "flex": null,
      "flex_flow": null,
      "grid_area": null,
      "grid_auto_columns": null,
      "grid_auto_flow": null,
      "grid_auto_rows": null,
      "grid_column": null,
      "grid_gap": null,
      "grid_row": null,
      "grid_template_areas": null,
      "grid_template_columns": null,
      "grid_template_rows": null,
      "height": null,
      "justify_content": null,
      "justify_items": null,
      "left": null,
      "margin": null,
      "max_height": null,
      "max_width": null,
      "min_height": null,
      "min_width": null,
      "object_fit": null,
      "object_position": null,
      "order": null,
      "overflow": null,
      "overflow_x": null,
      "overflow_y": null,
      "padding": null,
      "right": null,
      "top": null,
      "visibility": null,
      "width": null
     }
    },
    "359de532c8254724911190f3e955db31": {
     "model_module": "@jupyter-widgets/controls",
     "model_module_version": "1.5.0",
     "model_name": "DescriptionStyleModel",
     "state": {
      "_model_module": "@jupyter-widgets/controls",
      "_model_module_version": "1.5.0",
      "_model_name": "DescriptionStyleModel",
      "_view_count": null,
      "_view_module": "@jupyter-widgets/base",
      "_view_module_version": "1.2.0",
      "_view_name": "StyleView",
      "description_width": ""
     }
    },
    "35a4a9fe2cd2430ba23974305a0f81b8": {
     "model_module": "@jupyter-widgets/controls",
     "model_module_version": "1.5.0",
     "model_name": "HBoxModel",
     "state": {
      "_dom_classes": [],
      "_model_module": "@jupyter-widgets/controls",
      "_model_module_version": "1.5.0",
      "_model_name": "HBoxModel",
      "_view_count": null,
      "_view_module": "@jupyter-widgets/controls",
      "_view_module_version": "1.5.0",
      "_view_name": "HBoxView",
      "box_style": "",
      "children": [
       "IPY_MODEL_82ff56f128234866a3fec912b6f7dc6c",
       "IPY_MODEL_eb89bb5d3c92457a9d804275a72f29d2",
       "IPY_MODEL_398d0276496d4493979307ee572d9480"
      ],
      "layout": "IPY_MODEL_41782808766a4f2f90731efba3f8acb3"
     }
    },
    "360a978828034793854015bbe27d1db4": {
     "model_module": "@jupyter-widgets/controls",
     "model_module_version": "1.5.0",
     "model_name": "DescriptionStyleModel",
     "state": {
      "_model_module": "@jupyter-widgets/controls",
      "_model_module_version": "1.5.0",
      "_model_name": "DescriptionStyleModel",
      "_view_count": null,
      "_view_module": "@jupyter-widgets/base",
      "_view_module_version": "1.2.0",
      "_view_name": "StyleView",
      "description_width": ""
     }
    },
    "398d0276496d4493979307ee572d9480": {
     "model_module": "@jupyter-widgets/controls",
     "model_module_version": "1.5.0",
     "model_name": "HTMLModel",
     "state": {
      "_dom_classes": [],
      "_model_module": "@jupyter-widgets/controls",
      "_model_module_version": "1.5.0",
      "_model_name": "HTMLModel",
      "_view_count": null,
      "_view_module": "@jupyter-widgets/controls",
      "_view_module_version": "1.5.0",
      "_view_name": "HTMLView",
      "description": "",
      "description_tooltip": null,
      "layout": "IPY_MODEL_120d78d3428949deacaa8568961e353b",
      "placeholder": "​",
      "style": "IPY_MODEL_359de532c8254724911190f3e955db31",
      "value": " 409M/409M [00:02&lt;00:00, 187MB/s]"
     }
    },
    "3bb347ee412446e19040d3499a68a31c": {
     "model_module": "@jupyter-widgets/controls",
     "model_module_version": "1.5.0",
     "model_name": "FloatProgressModel",
     "state": {
      "_dom_classes": [],
      "_model_module": "@jupyter-widgets/controls",
      "_model_module_version": "1.5.0",
      "_model_name": "FloatProgressModel",
      "_view_count": null,
      "_view_module": "@jupyter-widgets/controls",
      "_view_module_version": "1.5.0",
      "_view_name": "ProgressView",
      "bar_style": "success",
      "description": "",
      "description_tooltip": null,
      "layout": "IPY_MODEL_3f5d8280b13f4a86a3604fd8a697a381",
      "max": 714290682,
      "min": 0,
      "orientation": "horizontal",
      "style": "IPY_MODEL_dd0d07a703ed49a98f58ec914582192c",
      "value": 714290682
     }
    },
    "3f44326f2cce4a1ebb1021ab581116e8": {
     "model_module": "@jupyter-widgets/base",
     "model_module_version": "1.2.0",
     "model_name": "LayoutModel",
     "state": {
      "_model_module": "@jupyter-widgets/base",
      "_model_module_version": "1.2.0",
      "_model_name": "LayoutModel",
      "_view_count": null,
      "_view_module": "@jupyter-widgets/base",
      "_view_module_version": "1.2.0",
      "_view_name": "LayoutView",
      "align_content": null,
      "align_items": null,
      "align_self": null,
      "border": null,
      "bottom": null,
      "display": null,
      "flex": null,
      "flex_flow": null,
      "grid_area": null,
      "grid_auto_columns": null,
      "grid_auto_flow": null,
      "grid_auto_rows": null,
      "grid_column": null,
      "grid_gap": null,
      "grid_row": null,
      "grid_template_areas": null,
      "grid_template_columns": null,
      "grid_template_rows": null,
      "height": null,
      "justify_content": null,
      "justify_items": null,
      "left": null,
      "margin": null,
      "max_height": null,
      "max_width": null,
      "min_height": null,
      "min_width": null,
      "object_fit": null,
      "object_position": null,
      "order": null,
      "overflow": null,
      "overflow_x": null,
      "overflow_y": null,
      "padding": null,
      "right": null,
      "top": null,
      "visibility": null,
      "width": null
     }
    },
    "3f5d8280b13f4a86a3604fd8a697a381": {
     "model_module": "@jupyter-widgets/base",
     "model_module_version": "1.2.0",
     "model_name": "LayoutModel",
     "state": {
      "_model_module": "@jupyter-widgets/base",
      "_model_module_version": "1.2.0",
      "_model_name": "LayoutModel",
      "_view_count": null,
      "_view_module": "@jupyter-widgets/base",
      "_view_module_version": "1.2.0",
      "_view_name": "LayoutView",
      "align_content": null,
      "align_items": null,
      "align_self": null,
      "border": null,
      "bottom": null,
      "display": null,
      "flex": null,
      "flex_flow": null,
      "grid_area": null,
      "grid_auto_columns": null,
      "grid_auto_flow": null,
      "grid_auto_rows": null,
      "grid_column": null,
      "grid_gap": null,
      "grid_row": null,
      "grid_template_areas": null,
      "grid_template_columns": null,
      "grid_template_rows": null,
      "height": null,
      "justify_content": null,
      "justify_items": null,
      "left": null,
      "margin": null,
      "max_height": null,
      "max_width": null,
      "min_height": null,
      "min_width": null,
      "object_fit": null,
      "object_position": null,
      "order": null,
      "overflow": null,
      "overflow_x": null,
      "overflow_y": null,
      "padding": null,
      "right": null,
      "top": null,
      "visibility": null,
      "width": null
     }
    },
    "41782808766a4f2f90731efba3f8acb3": {
     "model_module": "@jupyter-widgets/base",
     "model_module_version": "1.2.0",
     "model_name": "LayoutModel",
     "state": {
      "_model_module": "@jupyter-widgets/base",
      "_model_module_version": "1.2.0",
      "_model_name": "LayoutModel",
      "_view_count": null,
      "_view_module": "@jupyter-widgets/base",
      "_view_module_version": "1.2.0",
      "_view_name": "LayoutView",
      "align_content": null,
      "align_items": null,
      "align_self": null,
      "border": null,
      "bottom": null,
      "display": null,
      "flex": null,
      "flex_flow": null,
      "grid_area": null,
      "grid_auto_columns": null,
      "grid_auto_flow": null,
      "grid_auto_rows": null,
      "grid_column": null,
      "grid_gap": null,
      "grid_row": null,
      "grid_template_areas": null,
      "grid_template_columns": null,
      "grid_template_rows": null,
      "height": null,
      "justify_content": null,
      "justify_items": null,
      "left": null,
      "margin": null,
      "max_height": null,
      "max_width": null,
      "min_height": null,
      "min_width": null,
      "object_fit": null,
      "object_position": null,
      "order": null,
      "overflow": null,
      "overflow_x": null,
      "overflow_y": null,
      "padding": null,
      "right": null,
      "top": null,
      "visibility": null,
      "width": null
     }
    },
    "43506cec89664c018a9eb3e097ed25b4": {
     "model_module": "@jupyter-widgets/base",
     "model_module_version": "1.2.0",
     "model_name": "LayoutModel",
     "state": {
      "_model_module": "@jupyter-widgets/base",
      "_model_module_version": "1.2.0",
      "_model_name": "LayoutModel",
      "_view_count": null,
      "_view_module": "@jupyter-widgets/base",
      "_view_module_version": "1.2.0",
      "_view_name": "LayoutView",
      "align_content": null,
      "align_items": null,
      "align_self": null,
      "border": null,
      "bottom": null,
      "display": null,
      "flex": null,
      "flex_flow": null,
      "grid_area": null,
      "grid_auto_columns": null,
      "grid_auto_flow": null,
      "grid_auto_rows": null,
      "grid_column": null,
      "grid_gap": null,
      "grid_row": null,
      "grid_template_areas": null,
      "grid_template_columns": null,
      "grid_template_rows": null,
      "height": null,
      "justify_content": null,
      "justify_items": null,
      "left": null,
      "margin": null,
      "max_height": null,
      "max_width": null,
      "min_height": null,
      "min_width": null,
      "object_fit": null,
      "object_position": null,
      "order": null,
      "overflow": null,
      "overflow_x": null,
      "overflow_y": null,
      "padding": null,
      "right": null,
      "top": null,
      "visibility": null,
      "width": null
     }
    },
    "461ed5efc3ef46f7a22c509844ddd55f": {
     "model_module": "@jupyter-widgets/controls",
     "model_module_version": "1.5.0",
     "model_name": "HTMLModel",
     "state": {
      "_dom_classes": [],
      "_model_module": "@jupyter-widgets/controls",
      "_model_module_version": "1.5.0",
      "_model_name": "HTMLModel",
      "_view_count": null,
      "_view_module": "@jupyter-widgets/controls",
      "_view_module_version": "1.5.0",
      "_view_name": "HTMLView",
      "description": "",
      "description_tooltip": null,
      "layout": "IPY_MODEL_27598864851e4e7d9a06e9588252d1bd",
      "placeholder": "​",
      "style": "IPY_MODEL_65e4b3b84f7f4643b06eec594f5dc037",
      "value": " 269k/269k [00:00&lt;00:00, 1.52MB/s]"
     }
    },
    "4696479d8ba840738d9a0bbec847c17b": {
     "model_module": "@jupyter-widgets/controls",
     "model_module_version": "1.5.0",
     "model_name": "HBoxModel",
     "state": {
      "_dom_classes": [],
      "_model_module": "@jupyter-widgets/controls",
      "_model_module_version": "1.5.0",
      "_model_name": "HBoxModel",
      "_view_count": null,
      "_view_module": "@jupyter-widgets/controls",
      "_view_module_version": "1.5.0",
      "_view_name": "HBoxView",
      "box_style": "",
      "children": [
       "IPY_MODEL_ed194bf6757a450f96d791fd7e0ecbd0",
       "IPY_MODEL_3bb347ee412446e19040d3499a68a31c",
       "IPY_MODEL_4fc089ca629e46179c17939fa94782bf"
      ],
      "layout": "IPY_MODEL_1cba16906e3147ecadbc6706de0c39d6"
     }
    },
    "46d7a127d3314f089ccf8e3b5cb7e7eb": {
     "model_module": "@jupyter-widgets/controls",
     "model_module_version": "1.5.0",
     "model_name": "HBoxModel",
     "state": {
      "_dom_classes": [],
      "_model_module": "@jupyter-widgets/controls",
      "_model_module_version": "1.5.0",
      "_model_name": "HBoxModel",
      "_view_count": null,
      "_view_module": "@jupyter-widgets/controls",
      "_view_module_version": "1.5.0",
      "_view_name": "HBoxView",
      "box_style": "",
      "children": [
       "IPY_MODEL_d99e3cc970b940859d1f923419b1a5db",
       "IPY_MODEL_d42376a2efbd4ebeb6fedfcb39f710b4",
       "IPY_MODEL_d9ba8fe9ee7a4894a5f0551beb042468"
      ],
      "layout": "IPY_MODEL_0c3a3b09552647eb8a0a378c0758f83f"
     }
    },
    "483c3114ec374f5c9713948c2406f03e": {
     "model_module": "@jupyter-widgets/controls",
     "model_module_version": "1.5.0",
     "model_name": "DescriptionStyleModel",
     "state": {
      "_model_module": "@jupyter-widgets/controls",
      "_model_module_version": "1.5.0",
      "_model_name": "DescriptionStyleModel",
      "_view_count": null,
      "_view_module": "@jupyter-widgets/base",
      "_view_module_version": "1.2.0",
      "_view_name": "StyleView",
      "description_width": ""
     }
    },
    "49ee2cc090fd411ba8675fd3793aea3f": {
     "model_module": "@jupyter-widgets/controls",
     "model_module_version": "1.5.0",
     "model_name": "DescriptionStyleModel",
     "state": {
      "_model_module": "@jupyter-widgets/controls",
      "_model_module_version": "1.5.0",
      "_model_name": "DescriptionStyleModel",
      "_view_count": null,
      "_view_module": "@jupyter-widgets/base",
      "_view_module_version": "1.2.0",
      "_view_name": "StyleView",
      "description_width": ""
     }
    },
    "4ccf4fb3213347d7864c84bf1fc1c9c3": {
     "model_module": "@jupyter-widgets/base",
     "model_module_version": "1.2.0",
     "model_name": "LayoutModel",
     "state": {
      "_model_module": "@jupyter-widgets/base",
      "_model_module_version": "1.2.0",
      "_model_name": "LayoutModel",
      "_view_count": null,
      "_view_module": "@jupyter-widgets/base",
      "_view_module_version": "1.2.0",
      "_view_name": "LayoutView",
      "align_content": null,
      "align_items": null,
      "align_self": null,
      "border": null,
      "bottom": null,
      "display": null,
      "flex": null,
      "flex_flow": null,
      "grid_area": null,
      "grid_auto_columns": null,
      "grid_auto_flow": null,
      "grid_auto_rows": null,
      "grid_column": null,
      "grid_gap": null,
      "grid_row": null,
      "grid_template_areas": null,
      "grid_template_columns": null,
      "grid_template_rows": null,
      "height": null,
      "justify_content": null,
      "justify_items": null,
      "left": null,
      "margin": null,
      "max_height": null,
      "max_width": null,
      "min_height": null,
      "min_width": null,
      "object_fit": null,
      "object_position": null,
      "order": null,
      "overflow": null,
      "overflow_x": null,
      "overflow_y": null,
      "padding": null,
      "right": null,
      "top": null,
      "visibility": null,
      "width": null
     }
    },
    "4fc089ca629e46179c17939fa94782bf": {
     "model_module": "@jupyter-widgets/controls",
     "model_module_version": "1.5.0",
     "model_name": "HTMLModel",
     "state": {
      "_dom_classes": [],
      "_model_module": "@jupyter-widgets/controls",
      "_model_module_version": "1.5.0",
      "_model_name": "HTMLModel",
      "_view_count": null,
      "_view_module": "@jupyter-widgets/controls",
      "_view_module_version": "1.5.0",
      "_view_name": "HTMLView",
      "description": "",
      "description_tooltip": null,
      "layout": "IPY_MODEL_32d07b4c240d44f5b7b9894bca42540f",
      "placeholder": "​",
      "style": "IPY_MODEL_eea8c8d16bc04a93af2aabf6b526728b",
      "value": " 714M/714M [00:05&lt;00:00, 153MB/s]"
     }
    },
    "520d628bdfde4887be41590addd906ab": {
     "model_module": "@jupyter-widgets/base",
     "model_module_version": "1.2.0",
     "model_name": "LayoutModel",
     "state": {
      "_model_module": "@jupyter-widgets/base",
      "_model_module_version": "1.2.0",
      "_model_name": "LayoutModel",
      "_view_count": null,
      "_view_module": "@jupyter-widgets/base",
      "_view_module_version": "1.2.0",
      "_view_name": "LayoutView",
      "align_content": null,
      "align_items": null,
      "align_self": null,
      "border": null,
      "bottom": null,
      "display": null,
      "flex": null,
      "flex_flow": null,
      "grid_area": null,
      "grid_auto_columns": null,
      "grid_auto_flow": null,
      "grid_auto_rows": null,
      "grid_column": null,
      "grid_gap": null,
      "grid_row": null,
      "grid_template_areas": null,
      "grid_template_columns": null,
      "grid_template_rows": null,
      "height": null,
      "justify_content": null,
      "justify_items": null,
      "left": null,
      "margin": null,
      "max_height": null,
      "max_width": null,
      "min_height": null,
      "min_width": null,
      "object_fit": null,
      "object_position": null,
      "order": null,
      "overflow": null,
      "overflow_x": null,
      "overflow_y": null,
      "padding": null,
      "right": null,
      "top": null,
      "visibility": null,
      "width": null
     }
    },
    "52d2a19a61104abba94334ee845bf160": {
     "model_module": "@jupyter-widgets/controls",
     "model_module_version": "1.5.0",
     "model_name": "HTMLModel",
     "state": {
      "_dom_classes": [],
      "_model_module": "@jupyter-widgets/controls",
      "_model_module_version": "1.5.0",
      "_model_name": "HTMLModel",
      "_view_count": null,
      "_view_module": "@jupyter-widgets/controls",
      "_view_module_version": "1.5.0",
      "_view_name": "HTMLView",
      "description": "",
      "description_tooltip": null,
      "layout": "IPY_MODEL_520d628bdfde4887be41590addd906ab",
      "placeholder": "​",
      "style": "IPY_MODEL_cb596298098b4461935318a6f5f87f2c",
      "value": " 701/701 [00:00&lt;00:00, 47.7kB/s]"
     }
    },
    "57097415a5934a56b3c5284754e479f0": {
     "model_module": "@jupyter-widgets/base",
     "model_module_version": "1.2.0",
     "model_name": "LayoutModel",
     "state": {
      "_model_module": "@jupyter-widgets/base",
      "_model_module_version": "1.2.0",
      "_model_name": "LayoutModel",
      "_view_count": null,
      "_view_module": "@jupyter-widgets/base",
      "_view_module_version": "1.2.0",
      "_view_name": "LayoutView",
      "align_content": null,
      "align_items": null,
      "align_self": null,
      "border": null,
      "bottom": null,
      "display": null,
      "flex": null,
      "flex_flow": null,
      "grid_area": null,
      "grid_auto_columns": null,
      "grid_auto_flow": null,
      "grid_auto_rows": null,
      "grid_column": null,
      "grid_gap": null,
      "grid_row": null,
      "grid_template_areas": null,
      "grid_template_columns": null,
      "grid_template_rows": null,
      "height": null,
      "justify_content": null,
      "justify_items": null,
      "left": null,
      "margin": null,
      "max_height": null,
      "max_width": null,
      "min_height": null,
      "min_width": null,
      "object_fit": null,
      "object_position": null,
      "order": null,
      "overflow": null,
      "overflow_x": null,
      "overflow_y": null,
      "padding": null,
      "right": null,
      "top": null,
      "visibility": null,
      "width": null
     }
    },
    "5dee7d6890b74cd4bb2d8630f437fb00": {
     "model_module": "@jupyter-widgets/controls",
     "model_module_version": "1.5.0",
     "model_name": "ProgressStyleModel",
     "state": {
      "_model_module": "@jupyter-widgets/controls",
      "_model_module_version": "1.5.0",
      "_model_name": "ProgressStyleModel",
      "_view_count": null,
      "_view_module": "@jupyter-widgets/base",
      "_view_module_version": "1.2.0",
      "_view_name": "StyleView",
      "bar_color": null,
      "description_width": ""
     }
    },
    "5e5d4ea7a8b2416d9bbd6f2358148118": {
     "model_module": "@jupyter-widgets/controls",
     "model_module_version": "1.5.0",
     "model_name": "DescriptionStyleModel",
     "state": {
      "_model_module": "@jupyter-widgets/controls",
      "_model_module_version": "1.5.0",
      "_model_name": "DescriptionStyleModel",
      "_view_count": null,
      "_view_module": "@jupyter-widgets/base",
      "_view_module_version": "1.2.0",
      "_view_name": "StyleView",
      "description_width": ""
     }
    },
    "65e4b3b84f7f4643b06eec594f5dc037": {
     "model_module": "@jupyter-widgets/controls",
     "model_module_version": "1.5.0",
     "model_name": "DescriptionStyleModel",
     "state": {
      "_model_module": "@jupyter-widgets/controls",
      "_model_module_version": "1.5.0",
      "_model_name": "DescriptionStyleModel",
      "_view_count": null,
      "_view_module": "@jupyter-widgets/base",
      "_view_module_version": "1.2.0",
      "_view_name": "StyleView",
      "description_width": ""
     }
    },
    "65f83b71110c4a6280b5b4765420571e": {
     "model_module": "@jupyter-widgets/controls",
     "model_module_version": "1.5.0",
     "model_name": "HTMLModel",
     "state": {
      "_dom_classes": [],
      "_model_module": "@jupyter-widgets/controls",
      "_model_module_version": "1.5.0",
      "_model_name": "HTMLModel",
      "_view_count": null,
      "_view_module": "@jupyter-widgets/controls",
      "_view_module_version": "1.5.0",
      "_view_name": "HTMLView",
      "description": "",
      "description_tooltip": null,
      "layout": "IPY_MODEL_3f44326f2cce4a1ebb1021ab581116e8",
      "placeholder": "​",
      "style": "IPY_MODEL_5e5d4ea7a8b2416d9bbd6f2358148118",
      "value": " 49.0/49.0 [00:00&lt;00:00, 2.88kB/s]"
     }
    },
    "67e31154d2b94fe4a4eac4a69f61c4f6": {
     "model_module": "@jupyter-widgets/controls",
     "model_module_version": "1.5.0",
     "model_name": "ProgressStyleModel",
     "state": {
      "_model_module": "@jupyter-widgets/controls",
      "_model_module_version": "1.5.0",
      "_model_name": "ProgressStyleModel",
      "_view_count": null,
      "_view_module": "@jupyter-widgets/base",
      "_view_module_version": "1.2.0",
      "_view_name": "StyleView",
      "bar_color": null,
      "description_width": ""
     }
    },
    "67ec3e1dea654b06990d4718b3d81e09": {
     "model_module": "@jupyter-widgets/controls",
     "model_module_version": "1.5.0",
     "model_name": "FloatProgressModel",
     "state": {
      "_dom_classes": [],
      "_model_module": "@jupyter-widgets/controls",
      "_model_module_version": "1.5.0",
      "_model_name": "FloatProgressModel",
      "_view_count": null,
      "_view_module": "@jupyter-widgets/controls",
      "_view_module_version": "1.5.0",
      "_view_name": "ProgressView",
      "bar_style": "success",
      "description": "",
      "description_tooltip": null,
      "layout": "IPY_MODEL_57097415a5934a56b3c5284754e479f0",
      "max": 49,
      "min": 0,
      "orientation": "horizontal",
      "style": "IPY_MODEL_2a7e5e452f484b69a9b9fe1da6fd4b7c",
      "value": 49
     }
    },
    "6a73587b6aa947b6aeb637dfad1c3c9d": {
     "model_module": "@jupyter-widgets/controls",
     "model_module_version": "1.5.0",
     "model_name": "HTMLModel",
     "state": {
      "_dom_classes": [],
      "_model_module": "@jupyter-widgets/controls",
      "_model_module_version": "1.5.0",
      "_model_name": "HTMLModel",
      "_view_count": null,
      "_view_module": "@jupyter-widgets/controls",
      "_view_module_version": "1.5.0",
      "_view_name": "HTMLView",
      "description": "",
      "description_tooltip": null,
      "layout": "IPY_MODEL_9adc62ff20cd47138858907b6d2f775a",
      "placeholder": "​",
      "style": "IPY_MODEL_ff3a25def66a45eaa534914c61f36011",
      "value": "tokenizer_config.json: 100%"
     }
    },
    "6b7ffdf5d93d4f9f92f365abf2168d75": {
     "model_module": "@jupyter-widgets/base",
     "model_module_version": "1.2.0",
     "model_name": "LayoutModel",
     "state": {
      "_model_module": "@jupyter-widgets/base",
      "_model_module_version": "1.2.0",
      "_model_name": "LayoutModel",
      "_view_count": null,
      "_view_module": "@jupyter-widgets/base",
      "_view_module_version": "1.2.0",
      "_view_name": "LayoutView",
      "align_content": null,
      "align_items": null,
      "align_self": null,
      "border": null,
      "bottom": null,
      "display": null,
      "flex": null,
      "flex_flow": null,
      "grid_area": null,
      "grid_auto_columns": null,
      "grid_auto_flow": null,
      "grid_auto_rows": null,
      "grid_column": null,
      "grid_gap": null,
      "grid_row": null,
      "grid_template_areas": null,
      "grid_template_columns": null,
      "grid_template_rows": null,
      "height": null,
      "justify_content": null,
      "justify_items": null,
      "left": null,
      "margin": null,
      "max_height": null,
      "max_width": null,
      "min_height": null,
      "min_width": null,
      "object_fit": null,
      "object_position": null,
      "order": null,
      "overflow": null,
      "overflow_x": null,
      "overflow_y": null,
      "padding": null,
      "right": null,
      "top": null,
      "visibility": null,
      "width": null
     }
    },
    "6e107a5d52bf440c88b33a51de84b48b": {
     "model_module": "@jupyter-widgets/controls",
     "model_module_version": "1.5.0",
     "model_name": "DescriptionStyleModel",
     "state": {
      "_model_module": "@jupyter-widgets/controls",
      "_model_module_version": "1.5.0",
      "_model_name": "DescriptionStyleModel",
      "_view_count": null,
      "_view_module": "@jupyter-widgets/base",
      "_view_module_version": "1.2.0",
      "_view_name": "StyleView",
      "description_width": ""
     }
    },
    "6e732369543948b49ca5cc1b4511dc05": {
     "model_module": "@jupyter-widgets/controls",
     "model_module_version": "1.5.0",
     "model_name": "HBoxModel",
     "state": {
      "_dom_classes": [],
      "_model_module": "@jupyter-widgets/controls",
      "_model_module_version": "1.5.0",
      "_model_name": "HBoxModel",
      "_view_count": null,
      "_view_module": "@jupyter-widgets/controls",
      "_view_module_version": "1.5.0",
      "_view_name": "HBoxView",
      "box_style": "",
      "children": [
       "IPY_MODEL_08c6b967d2b147d386fbe55ead5c1b81",
       "IPY_MODEL_ce9504e8d6344d08aeac33a6ef9880ce",
       "IPY_MODEL_04cc66ff34c64a6798523314add38e6d"
      ],
      "layout": "IPY_MODEL_8736a87e114a471a8393f2d843b46348"
     }
    },
    "700c4a3194f241eaa4ae36b9fa476914": {
     "model_module": "@jupyter-widgets/controls",
     "model_module_version": "1.5.0",
     "model_name": "DescriptionStyleModel",
     "state": {
      "_model_module": "@jupyter-widgets/controls",
      "_model_module_version": "1.5.0",
      "_model_name": "DescriptionStyleModel",
      "_view_count": null,
      "_view_module": "@jupyter-widgets/base",
      "_view_module_version": "1.2.0",
      "_view_name": "StyleView",
      "description_width": ""
     }
    },
    "70fda8fc7b3048dbafcb1cb39660b530": {
     "model_module": "@jupyter-widgets/controls",
     "model_module_version": "1.5.0",
     "model_name": "DescriptionStyleModel",
     "state": {
      "_model_module": "@jupyter-widgets/controls",
      "_model_module_version": "1.5.0",
      "_model_name": "DescriptionStyleModel",
      "_view_count": null,
      "_view_module": "@jupyter-widgets/base",
      "_view_module_version": "1.2.0",
      "_view_name": "StyleView",
      "description_width": ""
     }
    },
    "718c42a9142049b8a3c61bc40d3772a3": {
     "model_module": "@jupyter-widgets/controls",
     "model_module_version": "1.5.0",
     "model_name": "HTMLModel",
     "state": {
      "_dom_classes": [],
      "_model_module": "@jupyter-widgets/controls",
      "_model_module_version": "1.5.0",
      "_model_name": "HTMLModel",
      "_view_count": null,
      "_view_module": "@jupyter-widgets/controls",
      "_view_module_version": "1.5.0",
      "_view_name": "HTMLView",
      "description": "",
      "description_tooltip": null,
      "layout": "IPY_MODEL_1018769c5abb42fa96c6da3561ed6c53",
      "placeholder": "​",
      "style": "IPY_MODEL_c3289467c4c748608d3167e915350961",
      "value": "vocab.txt: 100%"
     }
    },
    "725d872ff51d4068a41508e8b1689291": {
     "model_module": "@jupyter-widgets/controls",
     "model_module_version": "1.5.0",
     "model_name": "ProgressStyleModel",
     "state": {
      "_model_module": "@jupyter-widgets/controls",
      "_model_module_version": "1.5.0",
      "_model_name": "ProgressStyleModel",
      "_view_count": null,
      "_view_module": "@jupyter-widgets/base",
      "_view_module_version": "1.2.0",
      "_view_name": "StyleView",
      "bar_color": null,
      "description_width": ""
     }
    },
    "772f8dba95d04be2be57c6c68c44a0c8": {
     "model_module": "@jupyter-widgets/controls",
     "model_module_version": "1.5.0",
     "model_name": "FloatProgressModel",
     "state": {
      "_dom_classes": [],
      "_model_module": "@jupyter-widgets/controls",
      "_model_module_version": "1.5.0",
      "_model_name": "FloatProgressModel",
      "_view_count": null,
      "_view_module": "@jupyter-widgets/controls",
      "_view_module_version": "1.5.0",
      "_view_name": "ProgressView",
      "bar_style": "success",
      "description": "",
      "description_tooltip": null,
      "layout": "IPY_MODEL_e7cfbe37036e47df9c7bb9dbebfbf3d8",
      "max": 701,
      "min": 0,
      "orientation": "horizontal",
      "style": "IPY_MODEL_f21c9faf076a45789e0f6e9d78f02026",
      "value": 701
     }
    },
    "77ec6b7cea5c4e93bcecc4f8cc676278": {
     "model_module": "@jupyter-widgets/controls",
     "model_module_version": "1.5.0",
     "model_name": "HTMLModel",
     "state": {
      "_dom_classes": [],
      "_model_module": "@jupyter-widgets/controls",
      "_model_module_version": "1.5.0",
      "_model_name": "HTMLModel",
      "_view_count": null,
      "_view_module": "@jupyter-widgets/controls",
      "_view_module_version": "1.5.0",
      "_view_name": "HTMLView",
      "description": "",
      "description_tooltip": null,
      "layout": "IPY_MODEL_f52adfb73a314fe19310ca4c16f699ad",
      "placeholder": "​",
      "style": "IPY_MODEL_124ac807ef99463ebf72273e34dabb09",
      "value": "tokenizer_config.json: 100%"
     }
    },
    "7d47408276e147cca43467bece105ddd": {
     "model_module": "@jupyter-widgets/controls",
     "model_module_version": "1.5.0",
     "model_name": "ProgressStyleModel",
     "state": {
      "_model_module": "@jupyter-widgets/controls",
      "_model_module_version": "1.5.0",
      "_model_name": "ProgressStyleModel",
      "_view_count": null,
      "_view_module": "@jupyter-widgets/base",
      "_view_module_version": "1.2.0",
      "_view_name": "StyleView",
      "bar_color": null,
      "description_width": ""
     }
    },
    "82ff56f128234866a3fec912b6f7dc6c": {
     "model_module": "@jupyter-widgets/controls",
     "model_module_version": "1.5.0",
     "model_name": "HTMLModel",
     "state": {
      "_dom_classes": [],
      "_model_module": "@jupyter-widgets/controls",
      "_model_module_version": "1.5.0",
      "_model_name": "HTMLModel",
      "_view_count": null,
      "_view_module": "@jupyter-widgets/controls",
      "_view_module_version": "1.5.0",
      "_view_name": "HTMLView",
      "description": "",
      "description_tooltip": null,
      "layout": "IPY_MODEL_b13a9af5f456446d83230704edc98b22",
      "placeholder": "​",
      "style": "IPY_MODEL_49ee2cc090fd411ba8675fd3793aea3f",
      "value": "pytorch_model.bin: 100%"
     }
    },
    "85ddde7bb0fb4562aa26ca16308b99c0": {
     "model_module": "@jupyter-widgets/base",
     "model_module_version": "1.2.0",
     "model_name": "LayoutModel",
     "state": {
      "_model_module": "@jupyter-widgets/base",
      "_model_module_version": "1.2.0",
      "_model_name": "LayoutModel",
      "_view_count": null,
      "_view_module": "@jupyter-widgets/base",
      "_view_module_version": "1.2.0",
      "_view_name": "LayoutView",
      "align_content": null,
      "align_items": null,
      "align_self": null,
      "border": null,
      "bottom": null,
      "display": null,
      "flex": null,
      "flex_flow": null,
      "grid_area": null,
      "grid_auto_columns": null,
      "grid_auto_flow": null,
      "grid_auto_rows": null,
      "grid_column": null,
      "grid_gap": null,
      "grid_row": null,
      "grid_template_areas": null,
      "grid_template_columns": null,
      "grid_template_rows": null,
      "height": null,
      "justify_content": null,
      "justify_items": null,
      "left": null,
      "margin": null,
      "max_height": null,
      "max_width": null,
      "min_height": null,
      "min_width": null,
      "object_fit": null,
      "object_position": null,
      "order": null,
      "overflow": null,
      "overflow_x": null,
      "overflow_y": null,
      "padding": null,
      "right": null,
      "top": null,
      "visibility": null,
      "width": null
     }
    },
    "8736a87e114a471a8393f2d843b46348": {
     "model_module": "@jupyter-widgets/base",
     "model_module_version": "1.2.0",
     "model_name": "LayoutModel",
     "state": {
      "_model_module": "@jupyter-widgets/base",
      "_model_module_version": "1.2.0",
      "_model_name": "LayoutModel",
      "_view_count": null,
      "_view_module": "@jupyter-widgets/base",
      "_view_module_version": "1.2.0",
      "_view_name": "LayoutView",
      "align_content": null,
      "align_items": null,
      "align_self": null,
      "border": null,
      "bottom": null,
      "display": null,
      "flex": null,
      "flex_flow": null,
      "grid_area": null,
      "grid_auto_columns": null,
      "grid_auto_flow": null,
      "grid_auto_rows": null,
      "grid_column": null,
      "grid_gap": null,
      "grid_row": null,
      "grid_template_areas": null,
      "grid_template_columns": null,
      "grid_template_rows": null,
      "height": null,
      "justify_content": null,
      "justify_items": null,
      "left": null,
      "margin": null,
      "max_height": null,
      "max_width": null,
      "min_height": null,
      "min_width": null,
      "object_fit": null,
      "object_position": null,
      "order": null,
      "overflow": null,
      "overflow_x": null,
      "overflow_y": null,
      "padding": null,
      "right": null,
      "top": null,
      "visibility": null,
      "width": null
     }
    },
    "881245d4087c46dc9fc708bdd281ab11": {
     "model_module": "@jupyter-widgets/controls",
     "model_module_version": "1.5.0",
     "model_name": "HBoxModel",
     "state": {
      "_dom_classes": [],
      "_model_module": "@jupyter-widgets/controls",
      "_model_module_version": "1.5.0",
      "_model_name": "HBoxModel",
      "_view_count": null,
      "_view_module": "@jupyter-widgets/controls",
      "_view_module_version": "1.5.0",
      "_view_name": "HBoxView",
      "box_style": "",
      "children": [
       "IPY_MODEL_2759df3f647443a8aa7c7508fc01ce12",
       "IPY_MODEL_772f8dba95d04be2be57c6c68c44a0c8",
       "IPY_MODEL_52d2a19a61104abba94334ee845bf160"
      ],
      "layout": "IPY_MODEL_e6f0ab3b58e945f2984c458e22e9b8ad"
     }
    },
    "894d8cfd368e4767bde0e9bb9a40247b": {
     "model_module": "@jupyter-widgets/base",
     "model_module_version": "1.2.0",
     "model_name": "LayoutModel",
     "state": {
      "_model_module": "@jupyter-widgets/base",
      "_model_module_version": "1.2.0",
      "_model_name": "LayoutModel",
      "_view_count": null,
      "_view_module": "@jupyter-widgets/base",
      "_view_module_version": "1.2.0",
      "_view_name": "LayoutView",
      "align_content": null,
      "align_items": null,
      "align_self": null,
      "border": null,
      "bottom": null,
      "display": null,
      "flex": null,
      "flex_flow": null,
      "grid_area": null,
      "grid_auto_columns": null,
      "grid_auto_flow": null,
      "grid_auto_rows": null,
      "grid_column": null,
      "grid_gap": null,
      "grid_row": null,
      "grid_template_areas": null,
      "grid_template_columns": null,
      "grid_template_rows": null,
      "height": null,
      "justify_content": null,
      "justify_items": null,
      "left": null,
      "margin": null,
      "max_height": null,
      "max_width": null,
      "min_height": null,
      "min_width": null,
      "object_fit": null,
      "object_position": null,
      "order": null,
      "overflow": null,
      "overflow_x": null,
      "overflow_y": null,
      "padding": null,
      "right": null,
      "top": null,
      "visibility": null,
      "width": null
     }
    },
    "93b5cefa638b4bf99e7c7dc205853c61": {
     "model_module": "@jupyter-widgets/controls",
     "model_module_version": "1.5.0",
     "model_name": "HBoxModel",
     "state": {
      "_dom_classes": [],
      "_model_module": "@jupyter-widgets/controls",
      "_model_module_version": "1.5.0",
      "_model_name": "HBoxModel",
      "_view_count": null,
      "_view_module": "@jupyter-widgets/controls",
      "_view_module_version": "1.5.0",
      "_view_name": "HBoxView",
      "box_style": "",
      "children": [
       "IPY_MODEL_6a73587b6aa947b6aeb637dfad1c3c9d",
       "IPY_MODEL_67ec3e1dea654b06990d4718b3d81e09",
       "IPY_MODEL_65f83b71110c4a6280b5b4765420571e"
      ],
      "layout": "IPY_MODEL_0f461dbd7b3e43deb973adcf106f0e48"
     }
    },
    "952334f4d70c4aea82918705262c51fd": {
     "model_module": "@jupyter-widgets/controls",
     "model_module_version": "1.5.0",
     "model_name": "ProgressStyleModel",
     "state": {
      "_model_module": "@jupyter-widgets/controls",
      "_model_module_version": "1.5.0",
      "_model_name": "ProgressStyleModel",
      "_view_count": null,
      "_view_module": "@jupyter-widgets/base",
      "_view_module_version": "1.2.0",
      "_view_name": "StyleView",
      "bar_color": null,
      "description_width": ""
     }
    },
    "952553199ae34154a41bf6e161013585": {
     "model_module": "@jupyter-widgets/base",
     "model_module_version": "1.2.0",
     "model_name": "LayoutModel",
     "state": {
      "_model_module": "@jupyter-widgets/base",
      "_model_module_version": "1.2.0",
      "_model_name": "LayoutModel",
      "_view_count": null,
      "_view_module": "@jupyter-widgets/base",
      "_view_module_version": "1.2.0",
      "_view_name": "LayoutView",
      "align_content": null,
      "align_items": null,
      "align_self": null,
      "border": null,
      "bottom": null,
      "display": null,
      "flex": null,
      "flex_flow": null,
      "grid_area": null,
      "grid_auto_columns": null,
      "grid_auto_flow": null,
      "grid_auto_rows": null,
      "grid_column": null,
      "grid_gap": null,
      "grid_row": null,
      "grid_template_areas": null,
      "grid_template_columns": null,
      "grid_template_rows": null,
      "height": null,
      "justify_content": null,
      "justify_items": null,
      "left": null,
      "margin": null,
      "max_height": null,
      "max_width": null,
      "min_height": null,
      "min_width": null,
      "object_fit": null,
      "object_position": null,
      "order": null,
      "overflow": null,
      "overflow_x": null,
      "overflow_y": null,
      "padding": null,
      "right": null,
      "top": null,
      "visibility": null,
      "width": null
     }
    },
    "9853a6d0a1ad46809430bfc7c2d95f98": {
     "model_module": "@jupyter-widgets/controls",
     "model_module_version": "1.5.0",
     "model_name": "FloatProgressModel",
     "state": {
      "_dom_classes": [],
      "_model_module": "@jupyter-widgets/controls",
      "_model_module_version": "1.5.0",
      "_model_name": "FloatProgressModel",
      "_view_count": null,
      "_view_module": "@jupyter-widgets/controls",
      "_view_module_version": "1.5.0",
      "_view_name": "ProgressView",
      "bar_style": "success",
      "description": "",
      "description_tooltip": null,
      "layout": "IPY_MODEL_aab1ddbc4fa64cd5ad2678d2347e8b06",
      "max": 80,
      "min": 0,
      "orientation": "horizontal",
      "style": "IPY_MODEL_952334f4d70c4aea82918705262c51fd",
      "value": 80
     }
    },
    "9adc62ff20cd47138858907b6d2f775a": {
     "model_module": "@jupyter-widgets/base",
     "model_module_version": "1.2.0",
     "model_name": "LayoutModel",
     "state": {
      "_model_module": "@jupyter-widgets/base",
      "_model_module_version": "1.2.0",
      "_model_name": "LayoutModel",
      "_view_count": null,
      "_view_module": "@jupyter-widgets/base",
      "_view_module_version": "1.2.0",
      "_view_name": "LayoutView",
      "align_content": null,
      "align_items": null,
      "align_self": null,
      "border": null,
      "bottom": null,
      "display": null,
      "flex": null,
      "flex_flow": null,
      "grid_area": null,
      "grid_auto_columns": null,
      "grid_auto_flow": null,
      "grid_auto_rows": null,
      "grid_column": null,
      "grid_gap": null,
      "grid_row": null,
      "grid_template_areas": null,
      "grid_template_columns": null,
      "grid_template_rows": null,
      "height": null,
      "justify_content": null,
      "justify_items": null,
      "left": null,
      "margin": null,
      "max_height": null,
      "max_width": null,
      "min_height": null,
      "min_width": null,
      "object_fit": null,
      "object_position": null,
      "order": null,
      "overflow": null,
      "overflow_x": null,
      "overflow_y": null,
      "padding": null,
      "right": null,
      "top": null,
      "visibility": null,
      "width": null
     }
    },
    "9bbd9a7ec8ad43c786be74b7319fabca": {
     "model_module": "@jupyter-widgets/base",
     "model_module_version": "1.2.0",
     "model_name": "LayoutModel",
     "state": {
      "_model_module": "@jupyter-widgets/base",
      "_model_module_version": "1.2.0",
      "_model_name": "LayoutModel",
      "_view_count": null,
      "_view_module": "@jupyter-widgets/base",
      "_view_module_version": "1.2.0",
      "_view_name": "LayoutView",
      "align_content": null,
      "align_items": null,
      "align_self": null,
      "border": null,
      "bottom": null,
      "display": null,
      "flex": null,
      "flex_flow": null,
      "grid_area": null,
      "grid_auto_columns": null,
      "grid_auto_flow": null,
      "grid_auto_rows": null,
      "grid_column": null,
      "grid_gap": null,
      "grid_row": null,
      "grid_template_areas": null,
      "grid_template_columns": null,
      "grid_template_rows": null,
      "height": null,
      "justify_content": null,
      "justify_items": null,
      "left": null,
      "margin": null,
      "max_height": null,
      "max_width": null,
      "min_height": null,
      "min_width": null,
      "object_fit": null,
      "object_position": null,
      "order": null,
      "overflow": null,
      "overflow_x": null,
      "overflow_y": null,
      "padding": null,
      "right": null,
      "top": null,
      "visibility": null,
      "width": null
     }
    },
    "9e51d2b75e5a4f539a775b69ac7e8263": {
     "model_module": "@jupyter-widgets/base",
     "model_module_version": "1.2.0",
     "model_name": "LayoutModel",
     "state": {
      "_model_module": "@jupyter-widgets/base",
      "_model_module_version": "1.2.0",
      "_model_name": "LayoutModel",
      "_view_count": null,
      "_view_module": "@jupyter-widgets/base",
      "_view_module_version": "1.2.0",
      "_view_name": "LayoutView",
      "align_content": null,
      "align_items": null,
      "align_self": null,
      "border": null,
      "bottom": null,
      "display": null,
      "flex": null,
      "flex_flow": null,
      "grid_area": null,
      "grid_auto_columns": null,
      "grid_auto_flow": null,
      "grid_auto_rows": null,
      "grid_column": null,
      "grid_gap": null,
      "grid_row": null,
      "grid_template_areas": null,
      "grid_template_columns": null,
      "grid_template_rows": null,
      "height": null,
      "justify_content": null,
      "justify_items": null,
      "left": null,
      "margin": null,
      "max_height": null,
      "max_width": null,
      "min_height": null,
      "min_width": null,
      "object_fit": null,
      "object_position": null,
      "order": null,
      "overflow": null,
      "overflow_x": null,
      "overflow_y": null,
      "padding": null,
      "right": null,
      "top": null,
      "visibility": null,
      "width": null
     }
    },
    "9f6e4611bb7b4f7498509e3835e83c8d": {
     "model_module": "@jupyter-widgets/controls",
     "model_module_version": "1.5.0",
     "model_name": "ProgressStyleModel",
     "state": {
      "_model_module": "@jupyter-widgets/controls",
      "_model_module_version": "1.5.0",
      "_model_name": "ProgressStyleModel",
      "_view_count": null,
      "_view_module": "@jupyter-widgets/base",
      "_view_module_version": "1.2.0",
      "_view_name": "StyleView",
      "bar_color": null,
      "description_width": ""
     }
    },
    "a04b93fc8f5a436786479ae6dc830c20": {
     "model_module": "@jupyter-widgets/controls",
     "model_module_version": "1.5.0",
     "model_name": "HBoxModel",
     "state": {
      "_dom_classes": [],
      "_model_module": "@jupyter-widgets/controls",
      "_model_module_version": "1.5.0",
      "_model_name": "HBoxModel",
      "_view_count": null,
      "_view_module": "@jupyter-widgets/controls",
      "_view_module_version": "1.5.0",
      "_view_name": "HBoxView",
      "box_style": "",
      "children": [
       "IPY_MODEL_77ec6b7cea5c4e93bcecc4f8cc676278",
       "IPY_MODEL_9853a6d0a1ad46809430bfc7c2d95f98",
       "IPY_MODEL_d483852284124cf1a2917bb2fd81d993"
      ],
      "layout": "IPY_MODEL_894d8cfd368e4767bde0e9bb9a40247b"
     }
    },
    "a18586c8bb604b76bf66a01aa8ee135d": {
     "model_module": "@jupyter-widgets/base",
     "model_module_version": "1.2.0",
     "model_name": "LayoutModel",
     "state": {
      "_model_module": "@jupyter-widgets/base",
      "_model_module_version": "1.2.0",
      "_model_name": "LayoutModel",
      "_view_count": null,
      "_view_module": "@jupyter-widgets/base",
      "_view_module_version": "1.2.0",
      "_view_name": "LayoutView",
      "align_content": null,
      "align_items": null,
      "align_self": null,
      "border": null,
      "bottom": null,
      "display": null,
      "flex": null,
      "flex_flow": null,
      "grid_area": null,
      "grid_auto_columns": null,
      "grid_auto_flow": null,
      "grid_auto_rows": null,
      "grid_column": null,
      "grid_gap": null,
      "grid_row": null,
      "grid_template_areas": null,
      "grid_template_columns": null,
      "grid_template_rows": null,
      "height": null,
      "justify_content": null,
      "justify_items": null,
      "left": null,
      "margin": null,
      "max_height": null,
      "max_width": null,
      "min_height": null,
      "min_width": null,
      "object_fit": null,
      "object_position": null,
      "order": null,
      "overflow": null,
      "overflow_x": null,
      "overflow_y": null,
      "padding": null,
      "right": null,
      "top": null,
      "visibility": null,
      "width": null
     }
    },
    "a24fec2c288e4a7aa9fb0748ca53e48c": {
     "model_module": "@jupyter-widgets/controls",
     "model_module_version": "1.5.0",
     "model_name": "DescriptionStyleModel",
     "state": {
      "_model_module": "@jupyter-widgets/controls",
      "_model_module_version": "1.5.0",
      "_model_name": "DescriptionStyleModel",
      "_view_count": null,
      "_view_module": "@jupyter-widgets/base",
      "_view_module_version": "1.2.0",
      "_view_name": "StyleView",
      "description_width": ""
     }
    },
    "a6239bc3dc8c43f8ae11ba609094ce13": {
     "model_module": "@jupyter-widgets/base",
     "model_module_version": "1.2.0",
     "model_name": "LayoutModel",
     "state": {
      "_model_module": "@jupyter-widgets/base",
      "_model_module_version": "1.2.0",
      "_model_name": "LayoutModel",
      "_view_count": null,
      "_view_module": "@jupyter-widgets/base",
      "_view_module_version": "1.2.0",
      "_view_name": "LayoutView",
      "align_content": null,
      "align_items": null,
      "align_self": null,
      "border": null,
      "bottom": null,
      "display": null,
      "flex": null,
      "flex_flow": null,
      "grid_area": null,
      "grid_auto_columns": null,
      "grid_auto_flow": null,
      "grid_auto_rows": null,
      "grid_column": null,
      "grid_gap": null,
      "grid_row": null,
      "grid_template_areas": null,
      "grid_template_columns": null,
      "grid_template_rows": null,
      "height": null,
      "justify_content": null,
      "justify_items": null,
      "left": null,
      "margin": null,
      "max_height": null,
      "max_width": null,
      "min_height": null,
      "min_width": null,
      "object_fit": null,
      "object_position": null,
      "order": null,
      "overflow": null,
      "overflow_x": null,
      "overflow_y": null,
      "padding": null,
      "right": null,
      "top": null,
      "visibility": null,
      "width": null
     }
    },
    "a663628ab58b4e109639dc668a40474c": {
     "model_module": "@jupyter-widgets/controls",
     "model_module_version": "1.5.0",
     "model_name": "HTMLModel",
     "state": {
      "_dom_classes": [],
      "_model_module": "@jupyter-widgets/controls",
      "_model_module_version": "1.5.0",
      "_model_name": "HTMLModel",
      "_view_count": null,
      "_view_module": "@jupyter-widgets/controls",
      "_view_module_version": "1.5.0",
      "_view_name": "HTMLView",
      "description": "",
      "description_tooltip": null,
      "layout": "IPY_MODEL_952553199ae34154a41bf6e161013585",
      "placeholder": "​",
      "style": "IPY_MODEL_fa4d10ecb1df4a1d80ea5a816675a42a",
      "value": " 344k/344k [00:00&lt;00:00, 1.90MB/s]"
     }
    },
    "a6e9634d4f9e472397949945839a5d15": {
     "model_module": "@jupyter-widgets/base",
     "model_module_version": "1.2.0",
     "model_name": "LayoutModel",
     "state": {
      "_model_module": "@jupyter-widgets/base",
      "_model_module_version": "1.2.0",
      "_model_name": "LayoutModel",
      "_view_count": null,
      "_view_module": "@jupyter-widgets/base",
      "_view_module_version": "1.2.0",
      "_view_name": "LayoutView",
      "align_content": null,
      "align_items": null,
      "align_self": null,
      "border": null,
      "bottom": null,
      "display": null,
      "flex": null,
      "flex_flow": null,
      "grid_area": null,
      "grid_auto_columns": null,
      "grid_auto_flow": null,
      "grid_auto_rows": null,
      "grid_column": null,
      "grid_gap": null,
      "grid_row": null,
      "grid_template_areas": null,
      "grid_template_columns": null,
      "grid_template_rows": null,
      "height": null,
      "justify_content": null,
      "justify_items": null,
      "left": null,
      "margin": null,
      "max_height": null,
      "max_width": null,
      "min_height": null,
      "min_width": null,
      "object_fit": null,
      "object_position": null,
      "order": null,
      "overflow": null,
      "overflow_x": null,
      "overflow_y": null,
      "padding": null,
      "right": null,
      "top": null,
      "visibility": null,
      "width": null
     }
    },
    "a8b895cd4ef54803b43499be46e4a1d8": {
     "model_module": "@jupyter-widgets/controls",
     "model_module_version": "1.5.0",
     "model_name": "FloatProgressModel",
     "state": {
      "_dom_classes": [],
      "_model_module": "@jupyter-widgets/controls",
      "_model_module_version": "1.5.0",
      "_model_name": "FloatProgressModel",
      "_view_count": null,
      "_view_module": "@jupyter-widgets/controls",
      "_view_module_version": "1.5.0",
      "_view_name": "ProgressView",
      "bar_style": "success",
      "description": "",
      "description_tooltip": null,
      "layout": "IPY_MODEL_deced31a7cb64748802557b9ede489ec",
      "max": 109540,
      "min": 0,
      "orientation": "horizontal",
      "style": "IPY_MODEL_5dee7d6890b74cd4bb2d8630f437fb00",
      "value": 109540
     }
    },
    "aab1ddbc4fa64cd5ad2678d2347e8b06": {
     "model_module": "@jupyter-widgets/base",
     "model_module_version": "1.2.0",
     "model_name": "LayoutModel",
     "state": {
      "_model_module": "@jupyter-widgets/base",
      "_model_module_version": "1.2.0",
      "_model_name": "LayoutModel",
      "_view_count": null,
      "_view_module": "@jupyter-widgets/base",
      "_view_module_version": "1.2.0",
      "_view_name": "LayoutView",
      "align_content": null,
      "align_items": null,
      "align_self": null,
      "border": null,
      "bottom": null,
      "display": null,
      "flex": null,
      "flex_flow": null,
      "grid_area": null,
      "grid_auto_columns": null,
      "grid_auto_flow": null,
      "grid_auto_rows": null,
      "grid_column": null,
      "grid_gap": null,
      "grid_row": null,
      "grid_template_areas": null,
      "grid_template_columns": null,
      "grid_template_rows": null,
      "height": null,
      "justify_content": null,
      "justify_items": null,
      "left": null,
      "margin": null,
      "max_height": null,
      "max_width": null,
      "min_height": null,
      "min_width": null,
      "object_fit": null,
      "object_position": null,
      "order": null,
      "overflow": null,
      "overflow_x": null,
      "overflow_y": null,
      "padding": null,
      "right": null,
      "top": null,
      "visibility": null,
      "width": null
     }
    },
    "adfa89e6ce0749b4a7028e4fbd790bf4": {
     "model_module": "@jupyter-widgets/controls",
     "model_module_version": "1.5.0",
     "model_name": "DescriptionStyleModel",
     "state": {
      "_model_module": "@jupyter-widgets/controls",
      "_model_module_version": "1.5.0",
      "_model_name": "DescriptionStyleModel",
      "_view_count": null,
      "_view_module": "@jupyter-widgets/base",
      "_view_module_version": "1.2.0",
      "_view_name": "StyleView",
      "description_width": ""
     }
    },
    "b06238aa2ac3461a92b37db72682780c": {
     "model_module": "@jupyter-widgets/base",
     "model_module_version": "1.2.0",
     "model_name": "LayoutModel",
     "state": {
      "_model_module": "@jupyter-widgets/base",
      "_model_module_version": "1.2.0",
      "_model_name": "LayoutModel",
      "_view_count": null,
      "_view_module": "@jupyter-widgets/base",
      "_view_module_version": "1.2.0",
      "_view_name": "LayoutView",
      "align_content": null,
      "align_items": null,
      "align_self": null,
      "border": null,
      "bottom": null,
      "display": null,
      "flex": null,
      "flex_flow": null,
      "grid_area": null,
      "grid_auto_columns": null,
      "grid_auto_flow": null,
      "grid_auto_rows": null,
      "grid_column": null,
      "grid_gap": null,
      "grid_row": null,
      "grid_template_areas": null,
      "grid_template_columns": null,
      "grid_template_rows": null,
      "height": null,
      "justify_content": null,
      "justify_items": null,
      "left": null,
      "margin": null,
      "max_height": null,
      "max_width": null,
      "min_height": null,
      "min_width": null,
      "object_fit": null,
      "object_position": null,
      "order": null,
      "overflow": null,
      "overflow_x": null,
      "overflow_y": null,
      "padding": null,
      "right": null,
      "top": null,
      "visibility": null,
      "width": null
     }
    },
    "b13a9af5f456446d83230704edc98b22": {
     "model_module": "@jupyter-widgets/base",
     "model_module_version": "1.2.0",
     "model_name": "LayoutModel",
     "state": {
      "_model_module": "@jupyter-widgets/base",
      "_model_module_version": "1.2.0",
      "_model_name": "LayoutModel",
      "_view_count": null,
      "_view_module": "@jupyter-widgets/base",
      "_view_module_version": "1.2.0",
      "_view_name": "LayoutView",
      "align_content": null,
      "align_items": null,
      "align_self": null,
      "border": null,
      "bottom": null,
      "display": null,
      "flex": null,
      "flex_flow": null,
      "grid_area": null,
      "grid_auto_columns": null,
      "grid_auto_flow": null,
      "grid_auto_rows": null,
      "grid_column": null,
      "grid_gap": null,
      "grid_row": null,
      "grid_template_areas": null,
      "grid_template_columns": null,
      "grid_template_rows": null,
      "height": null,
      "justify_content": null,
      "justify_items": null,
      "left": null,
      "margin": null,
      "max_height": null,
      "max_width": null,
      "min_height": null,
      "min_width": null,
      "object_fit": null,
      "object_position": null,
      "order": null,
      "overflow": null,
      "overflow_x": null,
      "overflow_y": null,
      "padding": null,
      "right": null,
      "top": null,
      "visibility": null,
      "width": null
     }
    },
    "b58c768e0f814dc48d95e32f84b62757": {
     "model_module": "@jupyter-widgets/base",
     "model_module_version": "1.2.0",
     "model_name": "LayoutModel",
     "state": {
      "_model_module": "@jupyter-widgets/base",
      "_model_module_version": "1.2.0",
      "_model_name": "LayoutModel",
      "_view_count": null,
      "_view_module": "@jupyter-widgets/base",
      "_view_module_version": "1.2.0",
      "_view_name": "LayoutView",
      "align_content": null,
      "align_items": null,
      "align_self": null,
      "border": null,
      "bottom": null,
      "display": null,
      "flex": null,
      "flex_flow": null,
      "grid_area": null,
      "grid_auto_columns": null,
      "grid_auto_flow": null,
      "grid_auto_rows": null,
      "grid_column": null,
      "grid_gap": null,
      "grid_row": null,
      "grid_template_areas": null,
      "grid_template_columns": null,
      "grid_template_rows": null,
      "height": null,
      "justify_content": null,
      "justify_items": null,
      "left": null,
      "margin": null,
      "max_height": null,
      "max_width": null,
      "min_height": null,
      "min_width": null,
      "object_fit": null,
      "object_position": null,
      "order": null,
      "overflow": null,
      "overflow_x": null,
      "overflow_y": null,
      "padding": null,
      "right": null,
      "top": null,
      "visibility": null,
      "width": null
     }
    },
    "b6563f3892024a239d942970cbf8d1ed": {
     "model_module": "@jupyter-widgets/base",
     "model_module_version": "1.2.0",
     "model_name": "LayoutModel",
     "state": {
      "_model_module": "@jupyter-widgets/base",
      "_model_module_version": "1.2.0",
      "_model_name": "LayoutModel",
      "_view_count": null,
      "_view_module": "@jupyter-widgets/base",
      "_view_module_version": "1.2.0",
      "_view_name": "LayoutView",
      "align_content": null,
      "align_items": null,
      "align_self": null,
      "border": null,
      "bottom": null,
      "display": null,
      "flex": null,
      "flex_flow": null,
      "grid_area": null,
      "grid_auto_columns": null,
      "grid_auto_flow": null,
      "grid_auto_rows": null,
      "grid_column": null,
      "grid_gap": null,
      "grid_row": null,
      "grid_template_areas": null,
      "grid_template_columns": null,
      "grid_template_rows": null,
      "height": null,
      "justify_content": null,
      "justify_items": null,
      "left": null,
      "margin": null,
      "max_height": null,
      "max_width": null,
      "min_height": null,
      "min_width": null,
      "object_fit": null,
      "object_position": null,
      "order": null,
      "overflow": null,
      "overflow_x": null,
      "overflow_y": null,
      "padding": null,
      "right": null,
      "top": null,
      "visibility": null,
      "width": null
     }
    },
    "b67d594c1df04183884eff596d662658": {
     "model_module": "@jupyter-widgets/base",
     "model_module_version": "1.2.0",
     "model_name": "LayoutModel",
     "state": {
      "_model_module": "@jupyter-widgets/base",
      "_model_module_version": "1.2.0",
      "_model_name": "LayoutModel",
      "_view_count": null,
      "_view_module": "@jupyter-widgets/base",
      "_view_module_version": "1.2.0",
      "_view_name": "LayoutView",
      "align_content": null,
      "align_items": null,
      "align_self": null,
      "border": null,
      "bottom": null,
      "display": null,
      "flex": null,
      "flex_flow": null,
      "grid_area": null,
      "grid_auto_columns": null,
      "grid_auto_flow": null,
      "grid_auto_rows": null,
      "grid_column": null,
      "grid_gap": null,
      "grid_row": null,
      "grid_template_areas": null,
      "grid_template_columns": null,
      "grid_template_rows": null,
      "height": null,
      "justify_content": null,
      "justify_items": null,
      "left": null,
      "margin": null,
      "max_height": null,
      "max_width": null,
      "min_height": null,
      "min_width": null,
      "object_fit": null,
      "object_position": null,
      "order": null,
      "overflow": null,
      "overflow_x": null,
      "overflow_y": null,
      "padding": null,
      "right": null,
      "top": null,
      "visibility": null,
      "width": null
     }
    },
    "b7691b0030674c50bc875daa2f496af1": {
     "model_module": "@jupyter-widgets/controls",
     "model_module_version": "1.5.0",
     "model_name": "HBoxModel",
     "state": {
      "_dom_classes": [],
      "_model_module": "@jupyter-widgets/controls",
      "_model_module_version": "1.5.0",
      "_model_name": "HBoxModel",
      "_view_count": null,
      "_view_module": "@jupyter-widgets/controls",
      "_view_module_version": "1.5.0",
      "_view_name": "HBoxView",
      "box_style": "",
      "children": [
       "IPY_MODEL_718c42a9142049b8a3c61bc40d3772a3",
       "IPY_MODEL_a8b895cd4ef54803b43499be46e4a1d8",
       "IPY_MODEL_f120920cb70246df92ed5647d6eba100"
      ],
      "layout": "IPY_MODEL_4ccf4fb3213347d7864c84bf1fc1c9c3"
     }
    },
    "b8e8f37391574a93b07bb6947391b764": {
     "model_module": "@jupyter-widgets/base",
     "model_module_version": "1.2.0",
     "model_name": "LayoutModel",
     "state": {
      "_model_module": "@jupyter-widgets/base",
      "_model_module_version": "1.2.0",
      "_model_name": "LayoutModel",
      "_view_count": null,
      "_view_module": "@jupyter-widgets/base",
      "_view_module_version": "1.2.0",
      "_view_name": "LayoutView",
      "align_content": null,
      "align_items": null,
      "align_self": null,
      "border": null,
      "bottom": null,
      "display": null,
      "flex": null,
      "flex_flow": null,
      "grid_area": null,
      "grid_auto_columns": null,
      "grid_auto_flow": null,
      "grid_auto_rows": null,
      "grid_column": null,
      "grid_gap": null,
      "grid_row": null,
      "grid_template_areas": null,
      "grid_template_columns": null,
      "grid_template_rows": null,
      "height": null,
      "justify_content": null,
      "justify_items": null,
      "left": null,
      "margin": null,
      "max_height": null,
      "max_width": null,
      "min_height": null,
      "min_width": null,
      "object_fit": null,
      "object_position": null,
      "order": null,
      "overflow": null,
      "overflow_x": null,
      "overflow_y": null,
      "padding": null,
      "right": null,
      "top": null,
      "visibility": null,
      "width": null
     }
    },
    "bbf1c8a2b25f451f966ec41063d56239": {
     "model_module": "@jupyter-widgets/controls",
     "model_module_version": "1.5.0",
     "model_name": "FloatProgressModel",
     "state": {
      "_dom_classes": [],
      "_model_module": "@jupyter-widgets/controls",
      "_model_module_version": "1.5.0",
      "_model_name": "FloatProgressModel",
      "_view_count": null,
      "_view_module": "@jupyter-widgets/controls",
      "_view_module_version": "1.5.0",
      "_view_name": "ProgressView",
      "bar_style": "success",
      "description": "",
      "description_tooltip": null,
      "layout": "IPY_MODEL_9bbd9a7ec8ad43c786be74b7319fabca",
      "max": 344259,
      "min": 0,
      "orientation": "horizontal",
      "style": "IPY_MODEL_67e31154d2b94fe4a4eac4a69f61c4f6",
      "value": 344259
     }
    },
    "c12459d1815b4404b5ac462132902c69": {
     "model_module": "@jupyter-widgets/controls",
     "model_module_version": "1.5.0",
     "model_name": "DescriptionStyleModel",
     "state": {
      "_model_module": "@jupyter-widgets/controls",
      "_model_module_version": "1.5.0",
      "_model_name": "DescriptionStyleModel",
      "_view_count": null,
      "_view_module": "@jupyter-widgets/base",
      "_view_module_version": "1.2.0",
      "_view_name": "StyleView",
      "description_width": ""
     }
    },
    "c3289467c4c748608d3167e915350961": {
     "model_module": "@jupyter-widgets/controls",
     "model_module_version": "1.5.0",
     "model_name": "DescriptionStyleModel",
     "state": {
      "_model_module": "@jupyter-widgets/controls",
      "_model_module_version": "1.5.0",
      "_model_name": "DescriptionStyleModel",
      "_view_count": null,
      "_view_module": "@jupyter-widgets/base",
      "_view_module_version": "1.2.0",
      "_view_name": "StyleView",
      "description_width": ""
     }
    },
    "c603de678a2a4b5c8f429de8cf258e49": {
     "model_module": "@jupyter-widgets/controls",
     "model_module_version": "1.5.0",
     "model_name": "VBoxModel",
     "state": {
      "_dom_classes": [],
      "_model_module": "@jupyter-widgets/controls",
      "_model_module_version": "1.5.0",
      "_model_name": "VBoxModel",
      "_view_count": null,
      "_view_module": "@jupyter-widgets/controls",
      "_view_module_version": "1.5.0",
      "_view_name": "VBoxView",
      "box_style": "",
      "children": [
       "IPY_MODEL_d6b00100dd1e4aabb3776c4fecb6b2de",
       "IPY_MODEL_2cf32b18a2924a3dbd7e512c3e0e5b48"
      ],
      "layout": "IPY_MODEL_b6563f3892024a239d942970cbf8d1ed"
     }
    },
    "c70fa40be41c4c2691207076e7585dfe": {
     "model_module": "@jupyter-widgets/base",
     "model_module_version": "1.2.0",
     "model_name": "LayoutModel",
     "state": {
      "_model_module": "@jupyter-widgets/base",
      "_model_module_version": "1.2.0",
      "_model_name": "LayoutModel",
      "_view_count": null,
      "_view_module": "@jupyter-widgets/base",
      "_view_module_version": "1.2.0",
      "_view_name": "LayoutView",
      "align_content": null,
      "align_items": null,
      "align_self": null,
      "border": null,
      "bottom": null,
      "display": null,
      "flex": null,
      "flex_flow": null,
      "grid_area": null,
      "grid_auto_columns": null,
      "grid_auto_flow": null,
      "grid_auto_rows": null,
      "grid_column": null,
      "grid_gap": null,
      "grid_row": null,
      "grid_template_areas": null,
      "grid_template_columns": null,
      "grid_template_rows": null,
      "height": null,
      "justify_content": null,
      "justify_items": null,
      "left": null,
      "margin": null,
      "max_height": null,
      "max_width": null,
      "min_height": null,
      "min_width": null,
      "object_fit": null,
      "object_position": null,
      "order": null,
      "overflow": null,
      "overflow_x": null,
      "overflow_y": null,
      "padding": null,
      "right": null,
      "top": null,
      "visibility": null,
      "width": null
     }
    },
    "c7ad12cd55d0440a8b1cf86e223df0fb": {
     "model_module": "@jupyter-widgets/base",
     "model_module_version": "1.2.0",
     "model_name": "LayoutModel",
     "state": {
      "_model_module": "@jupyter-widgets/base",
      "_model_module_version": "1.2.0",
      "_model_name": "LayoutModel",
      "_view_count": null,
      "_view_module": "@jupyter-widgets/base",
      "_view_module_version": "1.2.0",
      "_view_name": "LayoutView",
      "align_content": null,
      "align_items": null,
      "align_self": null,
      "border": null,
      "bottom": null,
      "display": null,
      "flex": null,
      "flex_flow": null,
      "grid_area": null,
      "grid_auto_columns": null,
      "grid_auto_flow": null,
      "grid_auto_rows": null,
      "grid_column": null,
      "grid_gap": null,
      "grid_row": null,
      "grid_template_areas": null,
      "grid_template_columns": null,
      "grid_template_rows": null,
      "height": null,
      "justify_content": null,
      "justify_items": null,
      "left": null,
      "margin": null,
      "max_height": null,
      "max_width": null,
      "min_height": null,
      "min_width": null,
      "object_fit": null,
      "object_position": null,
      "order": null,
      "overflow": null,
      "overflow_x": null,
      "overflow_y": null,
      "padding": null,
      "right": null,
      "top": null,
      "visibility": null,
      "width": null
     }
    },
    "caa95b2714cd4aaea583ab676d6e5f03": {
     "model_module": "@jupyter-widgets/controls",
     "model_module_version": "1.5.0",
     "model_name": "DescriptionStyleModel",
     "state": {
      "_model_module": "@jupyter-widgets/controls",
      "_model_module_version": "1.5.0",
      "_model_name": "DescriptionStyleModel",
      "_view_count": null,
      "_view_module": "@jupyter-widgets/base",
      "_view_module_version": "1.2.0",
      "_view_name": "StyleView",
      "description_width": ""
     }
    },
    "cb596298098b4461935318a6f5f87f2c": {
     "model_module": "@jupyter-widgets/controls",
     "model_module_version": "1.5.0",
     "model_name": "DescriptionStyleModel",
     "state": {
      "_model_module": "@jupyter-widgets/controls",
      "_model_module_version": "1.5.0",
      "_model_name": "DescriptionStyleModel",
      "_view_count": null,
      "_view_module": "@jupyter-widgets/base",
      "_view_module_version": "1.2.0",
      "_view_name": "StyleView",
      "description_width": ""
     }
    },
    "ce9504e8d6344d08aeac33a6ef9880ce": {
     "model_module": "@jupyter-widgets/controls",
     "model_module_version": "1.5.0",
     "model_name": "FloatProgressModel",
     "state": {
      "_dom_classes": [],
      "_model_module": "@jupyter-widgets/controls",
      "_model_module_version": "1.5.0",
      "_model_name": "FloatProgressModel",
      "_view_count": null,
      "_view_module": "@jupyter-widgets/controls",
      "_view_module_version": "1.5.0",
      "_view_name": "ProgressView",
      "bar_style": "success",
      "description": "",
      "description_tooltip": null,
      "layout": "IPY_MODEL_0a2628389d544671bac62a8d6f5d4782",
      "max": 725,
      "min": 0,
      "orientation": "horizontal",
      "style": "IPY_MODEL_725d872ff51d4068a41508e8b1689291",
      "value": 725
     }
    },
    "d42376a2efbd4ebeb6fedfcb39f710b4": {
     "model_module": "@jupyter-widgets/controls",
     "model_module_version": "1.5.0",
     "model_name": "FloatProgressModel",
     "state": {
      "_dom_classes": [],
      "_model_module": "@jupyter-widgets/controls",
      "_model_module_version": "1.5.0",
      "_model_name": "FloatProgressModel",
      "_view_count": null,
      "_view_module": "@jupyter-widgets/controls",
      "_view_module_version": "1.5.0",
      "_view_name": "ProgressView",
      "bar_style": "success",
      "description": "",
      "description_tooltip": null,
      "layout": "IPY_MODEL_23eb950592f34bafb47e470f393dd27e",
      "max": 624,
      "min": 0,
      "orientation": "horizontal",
      "style": "IPY_MODEL_7d47408276e147cca43467bece105ddd",
      "value": 624
     }
    },
    "d483852284124cf1a2917bb2fd81d993": {
     "model_module": "@jupyter-widgets/controls",
     "model_module_version": "1.5.0",
     "model_name": "HTMLModel",
     "state": {
      "_dom_classes": [],
      "_model_module": "@jupyter-widgets/controls",
      "_model_module_version": "1.5.0",
      "_model_name": "HTMLModel",
      "_view_count": null,
      "_view_module": "@jupyter-widgets/controls",
      "_view_module_version": "1.5.0",
      "_view_name": "HTMLView",
      "description": "",
      "description_tooltip": null,
      "layout": "IPY_MODEL_b06238aa2ac3461a92b37db72682780c",
      "placeholder": "​",
      "style": "IPY_MODEL_2a80426cb8c24ce4bffeaec5c5b16b8a",
      "value": " 80.0/80.0 [00:00&lt;00:00, 1.30kB/s]"
     }
    },
    "d6b00100dd1e4aabb3776c4fecb6b2de": {
     "model_module": "@jupyter-widgets/controls",
     "model_module_version": "1.5.0",
     "model_name": "LabelModel",
     "state": {
      "_dom_classes": [],
      "_model_module": "@jupyter-widgets/controls",
      "_model_module_version": "1.5.0",
      "_model_name": "LabelModel",
      "_view_count": null,
      "_view_module": "@jupyter-widgets/controls",
      "_view_module_version": "1.5.0",
      "_view_name": "LabelView",
      "description": "",
      "description_tooltip": null,
      "layout": "IPY_MODEL_c7ad12cd55d0440a8b1cf86e223df0fb",
      "placeholder": "​",
      "style": "IPY_MODEL_caa95b2714cd4aaea583ab676d6e5f03",
      "value": "0.011 MB of 0.011 MB uploaded\r"
     }
    },
    "d99e3cc970b940859d1f923419b1a5db": {
     "model_module": "@jupyter-widgets/controls",
     "model_module_version": "1.5.0",
     "model_name": "HTMLModel",
     "state": {
      "_dom_classes": [],
      "_model_module": "@jupyter-widgets/controls",
      "_model_module_version": "1.5.0",
      "_model_name": "HTMLModel",
      "_view_count": null,
      "_view_module": "@jupyter-widgets/controls",
      "_view_module_version": "1.5.0",
      "_view_name": "HTMLView",
      "description": "",
      "description_tooltip": null,
      "layout": "IPY_MODEL_2ce7103e9bfc45c8961f727f6c3cb0e0",
      "placeholder": "​",
      "style": "IPY_MODEL_360a978828034793854015bbe27d1db4",
      "value": "config.json: 100%"
     }
    },
    "d9ba8fe9ee7a4894a5f0551beb042468": {
     "model_module": "@jupyter-widgets/controls",
     "model_module_version": "1.5.0",
     "model_name": "HTMLModel",
     "state": {
      "_dom_classes": [],
      "_model_module": "@jupyter-widgets/controls",
      "_model_module_version": "1.5.0",
      "_model_name": "HTMLModel",
      "_view_count": null,
      "_view_module": "@jupyter-widgets/controls",
      "_view_module_version": "1.5.0",
      "_view_name": "HTMLView",
      "description": "",
      "description_tooltip": null,
      "layout": "IPY_MODEL_6b7ffdf5d93d4f9f92f365abf2168d75",
      "placeholder": "​",
      "style": "IPY_MODEL_282343868a3e40aeb672dda2cdc1d8e1",
      "value": " 624/624 [00:00&lt;00:00, 7.13kB/s]"
     }
    },
    "db0a1dd5859749128b717ae4c76e6b64": {
     "model_module": "@jupyter-widgets/controls",
     "model_module_version": "1.5.0",
     "model_name": "FloatProgressModel",
     "state": {
      "_dom_classes": [],
      "_model_module": "@jupyter-widgets/controls",
      "_model_module_version": "1.5.0",
      "_model_name": "FloatProgressModel",
      "_view_count": null,
      "_view_module": "@jupyter-widgets/controls",
      "_view_module_version": "1.5.0",
      "_view_name": "ProgressView",
      "bar_style": "success",
      "description": "",
      "description_tooltip": null,
      "layout": "IPY_MODEL_a6239bc3dc8c43f8ae11ba609094ce13",
      "max": 268943,
      "min": 0,
      "orientation": "horizontal",
      "style": "IPY_MODEL_fd30c6cb432849f9a8d6057044c37029",
      "value": 268943
     }
    },
    "dc2870cf431d419e985e50309020bd11": {
     "model_module": "@jupyter-widgets/base",
     "model_module_version": "1.2.0",
     "model_name": "LayoutModel",
     "state": {
      "_model_module": "@jupyter-widgets/base",
      "_model_module_version": "1.2.0",
      "_model_name": "LayoutModel",
      "_view_count": null,
      "_view_module": "@jupyter-widgets/base",
      "_view_module_version": "1.2.0",
      "_view_name": "LayoutView",
      "align_content": null,
      "align_items": null,
      "align_self": null,
      "border": null,
      "bottom": null,
      "display": null,
      "flex": null,
      "flex_flow": null,
      "grid_area": null,
      "grid_auto_columns": null,
      "grid_auto_flow": null,
      "grid_auto_rows": null,
      "grid_column": null,
      "grid_gap": null,
      "grid_row": null,
      "grid_template_areas": null,
      "grid_template_columns": null,
      "grid_template_rows": null,
      "height": null,
      "justify_content": null,
      "justify_items": null,
      "left": null,
      "margin": null,
      "max_height": null,
      "max_width": null,
      "min_height": null,
      "min_width": null,
      "object_fit": null,
      "object_position": null,
      "order": null,
      "overflow": null,
      "overflow_x": null,
      "overflow_y": null,
      "padding": null,
      "right": null,
      "top": null,
      "visibility": null,
      "width": null
     }
    },
    "dd0d07a703ed49a98f58ec914582192c": {
     "model_module": "@jupyter-widgets/controls",
     "model_module_version": "1.5.0",
     "model_name": "ProgressStyleModel",
     "state": {
      "_model_module": "@jupyter-widgets/controls",
      "_model_module_version": "1.5.0",
      "_model_name": "ProgressStyleModel",
      "_view_count": null,
      "_view_module": "@jupyter-widgets/base",
      "_view_module_version": "1.2.0",
      "_view_name": "StyleView",
      "bar_color": null,
      "description_width": ""
     }
    },
    "deced31a7cb64748802557b9ede489ec": {
     "model_module": "@jupyter-widgets/base",
     "model_module_version": "1.2.0",
     "model_name": "LayoutModel",
     "state": {
      "_model_module": "@jupyter-widgets/base",
      "_model_module_version": "1.2.0",
      "_model_name": "LayoutModel",
      "_view_count": null,
      "_view_module": "@jupyter-widgets/base",
      "_view_module_version": "1.2.0",
      "_view_name": "LayoutView",
      "align_content": null,
      "align_items": null,
      "align_self": null,
      "border": null,
      "bottom": null,
      "display": null,
      "flex": null,
      "flex_flow": null,
      "grid_area": null,
      "grid_auto_columns": null,
      "grid_auto_flow": null,
      "grid_auto_rows": null,
      "grid_column": null,
      "grid_gap": null,
      "grid_row": null,
      "grid_template_areas": null,
      "grid_template_columns": null,
      "grid_template_rows": null,
      "height": null,
      "justify_content": null,
      "justify_items": null,
      "left": null,
      "margin": null,
      "max_height": null,
      "max_width": null,
      "min_height": null,
      "min_width": null,
      "object_fit": null,
      "object_position": null,
      "order": null,
      "overflow": null,
      "overflow_x": null,
      "overflow_y": null,
      "padding": null,
      "right": null,
      "top": null,
      "visibility": null,
      "width": null
     }
    },
    "e6f0ab3b58e945f2984c458e22e9b8ad": {
     "model_module": "@jupyter-widgets/base",
     "model_module_version": "1.2.0",
     "model_name": "LayoutModel",
     "state": {
      "_model_module": "@jupyter-widgets/base",
      "_model_module_version": "1.2.0",
      "_model_name": "LayoutModel",
      "_view_count": null,
      "_view_module": "@jupyter-widgets/base",
      "_view_module_version": "1.2.0",
      "_view_name": "LayoutView",
      "align_content": null,
      "align_items": null,
      "align_self": null,
      "border": null,
      "bottom": null,
      "display": null,
      "flex": null,
      "flex_flow": null,
      "grid_area": null,
      "grid_auto_columns": null,
      "grid_auto_flow": null,
      "grid_auto_rows": null,
      "grid_column": null,
      "grid_gap": null,
      "grid_row": null,
      "grid_template_areas": null,
      "grid_template_columns": null,
      "grid_template_rows": null,
      "height": null,
      "justify_content": null,
      "justify_items": null,
      "left": null,
      "margin": null,
      "max_height": null,
      "max_width": null,
      "min_height": null,
      "min_width": null,
      "object_fit": null,
      "object_position": null,
      "order": null,
      "overflow": null,
      "overflow_x": null,
      "overflow_y": null,
      "padding": null,
      "right": null,
      "top": null,
      "visibility": null,
      "width": null
     }
    },
    "e7cfbe37036e47df9c7bb9dbebfbf3d8": {
     "model_module": "@jupyter-widgets/base",
     "model_module_version": "1.2.0",
     "model_name": "LayoutModel",
     "state": {
      "_model_module": "@jupyter-widgets/base",
      "_model_module_version": "1.2.0",
      "_model_name": "LayoutModel",
      "_view_count": null,
      "_view_module": "@jupyter-widgets/base",
      "_view_module_version": "1.2.0",
      "_view_name": "LayoutView",
      "align_content": null,
      "align_items": null,
      "align_self": null,
      "border": null,
      "bottom": null,
      "display": null,
      "flex": null,
      "flex_flow": null,
      "grid_area": null,
      "grid_auto_columns": null,
      "grid_auto_flow": null,
      "grid_auto_rows": null,
      "grid_column": null,
      "grid_gap": null,
      "grid_row": null,
      "grid_template_areas": null,
      "grid_template_columns": null,
      "grid_template_rows": null,
      "height": null,
      "justify_content": null,
      "justify_items": null,
      "left": null,
      "margin": null,
      "max_height": null,
      "max_width": null,
      "min_height": null,
      "min_width": null,
      "object_fit": null,
      "object_position": null,
      "order": null,
      "overflow": null,
      "overflow_x": null,
      "overflow_y": null,
      "padding": null,
      "right": null,
      "top": null,
      "visibility": null,
      "width": null
     }
    },
    "e8d503f8deb9485c870a311fdb4f742a": {
     "model_module": "@jupyter-widgets/controls",
     "model_module_version": "1.5.0",
     "model_name": "HBoxModel",
     "state": {
      "_dom_classes": [],
      "_model_module": "@jupyter-widgets/controls",
      "_model_module_version": "1.5.0",
      "_model_name": "HBoxModel",
      "_view_count": null,
      "_view_module": "@jupyter-widgets/controls",
      "_view_module_version": "1.5.0",
      "_view_name": "HBoxView",
      "box_style": "",
      "children": [
       "IPY_MODEL_10c2dfa0e30b49b2a780a2bec95d3433",
       "IPY_MODEL_bbf1c8a2b25f451f966ec41063d56239",
       "IPY_MODEL_a663628ab58b4e109639dc668a40474c"
      ],
      "layout": "IPY_MODEL_b58c768e0f814dc48d95e32f84b62757"
     }
    },
    "eb89bb5d3c92457a9d804275a72f29d2": {
     "model_module": "@jupyter-widgets/controls",
     "model_module_version": "1.5.0",
     "model_name": "FloatProgressModel",
     "state": {
      "_dom_classes": [],
      "_model_module": "@jupyter-widgets/controls",
      "_model_module_version": "1.5.0",
      "_model_name": "FloatProgressModel",
      "_view_count": null,
      "_view_module": "@jupyter-widgets/controls",
      "_view_module_version": "1.5.0",
      "_view_name": "ProgressView",
      "bar_style": "success",
      "description": "",
      "description_tooltip": null,
      "layout": "IPY_MODEL_85ddde7bb0fb4562aa26ca16308b99c0",
      "max": 409251346,
      "min": 0,
      "orientation": "horizontal",
      "style": "IPY_MODEL_9f6e4611bb7b4f7498509e3835e83c8d",
      "value": 409251346
     }
    },
    "ed194bf6757a450f96d791fd7e0ecbd0": {
     "model_module": "@jupyter-widgets/controls",
     "model_module_version": "1.5.0",
     "model_name": "HTMLModel",
     "state": {
      "_dom_classes": [],
      "_model_module": "@jupyter-widgets/controls",
      "_model_module_version": "1.5.0",
      "_model_name": "HTMLModel",
      "_view_count": null,
      "_view_module": "@jupyter-widgets/controls",
      "_view_module_version": "1.5.0",
      "_view_name": "HTMLView",
      "description": "",
      "description_tooltip": null,
      "layout": "IPY_MODEL_1de1d369d5294e5a85c9916b298fe2f1",
      "placeholder": "​",
      "style": "IPY_MODEL_700c4a3194f241eaa4ae36b9fa476914",
      "value": "model.safetensors: 100%"
     }
    },
    "eea8c8d16bc04a93af2aabf6b526728b": {
     "model_module": "@jupyter-widgets/controls",
     "model_module_version": "1.5.0",
     "model_name": "DescriptionStyleModel",
     "state": {
      "_model_module": "@jupyter-widgets/controls",
      "_model_module_version": "1.5.0",
      "_model_name": "DescriptionStyleModel",
      "_view_count": null,
      "_view_module": "@jupyter-widgets/base",
      "_view_module_version": "1.2.0",
      "_view_name": "StyleView",
      "description_width": ""
     }
    },
    "f120920cb70246df92ed5647d6eba100": {
     "model_module": "@jupyter-widgets/controls",
     "model_module_version": "1.5.0",
     "model_name": "HTMLModel",
     "state": {
      "_dom_classes": [],
      "_model_module": "@jupyter-widgets/controls",
      "_model_module_version": "1.5.0",
      "_model_name": "HTMLModel",
      "_view_count": null,
      "_view_module": "@jupyter-widgets/controls",
      "_view_module_version": "1.5.0",
      "_view_name": "HTMLView",
      "description": "",
      "description_tooltip": null,
      "layout": "IPY_MODEL_c70fa40be41c4c2691207076e7585dfe",
      "placeholder": "​",
      "style": "IPY_MODEL_a24fec2c288e4a7aa9fb0748ca53e48c",
      "value": " 110k/110k [00:00&lt;00:00, 3.71MB/s]"
     }
    },
    "f21c9faf076a45789e0f6e9d78f02026": {
     "model_module": "@jupyter-widgets/controls",
     "model_module_version": "1.5.0",
     "model_name": "ProgressStyleModel",
     "state": {
      "_model_module": "@jupyter-widgets/controls",
      "_model_module_version": "1.5.0",
      "_model_name": "ProgressStyleModel",
      "_view_count": null,
      "_view_module": "@jupyter-widgets/base",
      "_view_module_version": "1.2.0",
      "_view_name": "StyleView",
      "bar_color": null,
      "description_width": ""
     }
    },
    "f52adfb73a314fe19310ca4c16f699ad": {
     "model_module": "@jupyter-widgets/base",
     "model_module_version": "1.2.0",
     "model_name": "LayoutModel",
     "state": {
      "_model_module": "@jupyter-widgets/base",
      "_model_module_version": "1.2.0",
      "_model_name": "LayoutModel",
      "_view_count": null,
      "_view_module": "@jupyter-widgets/base",
      "_view_module_version": "1.2.0",
      "_view_name": "LayoutView",
      "align_content": null,
      "align_items": null,
      "align_self": null,
      "border": null,
      "bottom": null,
      "display": null,
      "flex": null,
      "flex_flow": null,
      "grid_area": null,
      "grid_auto_columns": null,
      "grid_auto_flow": null,
      "grid_auto_rows": null,
      "grid_column": null,
      "grid_gap": null,
      "grid_row": null,
      "grid_template_areas": null,
      "grid_template_columns": null,
      "grid_template_rows": null,
      "height": null,
      "justify_content": null,
      "justify_items": null,
      "left": null,
      "margin": null,
      "max_height": null,
      "max_width": null,
      "min_height": null,
      "min_width": null,
      "object_fit": null,
      "object_position": null,
      "order": null,
      "overflow": null,
      "overflow_x": null,
      "overflow_y": null,
      "padding": null,
      "right": null,
      "top": null,
      "visibility": null,
      "width": null
     }
    },
    "fa4d10ecb1df4a1d80ea5a816675a42a": {
     "model_module": "@jupyter-widgets/controls",
     "model_module_version": "1.5.0",
     "model_name": "DescriptionStyleModel",
     "state": {
      "_model_module": "@jupyter-widgets/controls",
      "_model_module_version": "1.5.0",
      "_model_name": "DescriptionStyleModel",
      "_view_count": null,
      "_view_module": "@jupyter-widgets/base",
      "_view_module_version": "1.2.0",
      "_view_name": "StyleView",
      "description_width": ""
     }
    },
    "fd30c6cb432849f9a8d6057044c37029": {
     "model_module": "@jupyter-widgets/controls",
     "model_module_version": "1.5.0",
     "model_name": "ProgressStyleModel",
     "state": {
      "_model_module": "@jupyter-widgets/controls",
      "_model_module_version": "1.5.0",
      "_model_name": "ProgressStyleModel",
      "_view_count": null,
      "_view_module": "@jupyter-widgets/base",
      "_view_module_version": "1.2.0",
      "_view_name": "StyleView",
      "bar_color": null,
      "description_width": ""
     }
    },
    "ff3a25def66a45eaa534914c61f36011": {
     "model_module": "@jupyter-widgets/controls",
     "model_module_version": "1.5.0",
     "model_name": "DescriptionStyleModel",
     "state": {
      "_model_module": "@jupyter-widgets/controls",
      "_model_module_version": "1.5.0",
      "_model_name": "DescriptionStyleModel",
      "_view_count": null,
      "_view_module": "@jupyter-widgets/base",
      "_view_module_version": "1.2.0",
      "_view_name": "StyleView",
      "description_width": ""
     }
    }
   }
  }
 },
 "nbformat": 4,
 "nbformat_minor": 4
}
