{
 "cells": [
  {
   "cell_type": "code",
   "execution_count": 1,
   "id": "3ba90c82",
   "metadata": {},
   "outputs": [
    {
     "name": "stdout",
     "output_type": "stream",
     "text": [
      "Defaulting to user installation because normal site-packages is not writeable\n",
      "Requirement already satisfied: gdown in /home/jiazhen/.local/lib/python3.8/site-packages (5.1.0)\n",
      "Requirement already satisfied: beautifulsoup4 in /home/jiazhen/.local/lib/python3.8/site-packages (from gdown) (4.12.3)\n",
      "Requirement already satisfied: filelock in /home/jiazhen/.local/lib/python3.8/site-packages (from gdown) (3.13.3)\n",
      "Requirement already satisfied: requests[socks] in /home/jiazhen/.local/lib/python3.8/site-packages (from gdown) (2.31.0)\n",
      "Requirement already satisfied: tqdm in /home/jiazhen/.local/lib/python3.8/site-packages (from gdown) (4.66.2)\n",
      "Requirement already satisfied: soupsieve>1.2 in /home/jiazhen/.local/lib/python3.8/site-packages (from beautifulsoup4->gdown) (2.5)\n",
      "Requirement already satisfied: charset-normalizer<4,>=2 in /home/jiazhen/.local/lib/python3.8/site-packages (from requests[socks]->gdown) (3.3.2)\n",
      "Requirement already satisfied: idna<4,>=2.5 in /home/jiazhen/.local/lib/python3.8/site-packages (from requests[socks]->gdown) (3.6)\n",
      "Requirement already satisfied: urllib3<3,>=1.21.1 in /home/jiazhen/.local/lib/python3.8/site-packages (from requests[socks]->gdown) (2.2.1)\n",
      "Requirement already satisfied: certifi>=2017.4.17 in /home/jiazhen/.local/lib/python3.8/site-packages (from requests[socks]->gdown) (2024.2.2)\n",
      "Requirement already satisfied: PySocks!=1.5.7,>=1.5.6 in /home/jiazhen/.local/lib/python3.8/site-packages (from requests[socks]->gdown) (1.7.1)\n"
     ]
    }
   ],
   "source": [
    "!pip install gdown"
   ]
  },
  {
   "cell_type": "code",
   "execution_count": 5,
   "id": "37714177",
   "metadata": {},
   "outputs": [
    {
     "name": "stderr",
     "output_type": "stream",
     "text": [
      "Downloading...\n",
      "From: https://drive.google.com/uc?id=1WpXDBBbHlsV5SI7l68t0RrgC-OK6vFkf\n",
      "To: /home/jiazhen/my-study/transformer_with_hanja_no_zy_v3.ipynb\n",
      "100%|████████████████████████████████████████████████████████████████████████████████████████████████████████████████████████████████████████████████████████████████████| 209k/209k [00:00<00:00, 9.13MB/s]\n"
     ]
    },
    {
     "data": {
      "text/plain": [
       "'./transformer_with_hanja_no_zy_v3.ipynb'"
      ]
     },
     "execution_count": 5,
     "metadata": {},
     "output_type": "execute_result"
    }
   ],
   "source": [
    "import gdown\n",
    "#id = '1-L4QqytAeP-VqhnMdTmDXNDk-SanLnkC' # TRAIN_ALL.csv\n",
    "#id = '1-40wBshKoK8m0WnogXiIig8fOH1ziER3' # TEST_ALL.csv\n",
    "\n",
    "#id = '1_EEW5tkhh2ILfM2VDVsWwM_CRutS5n2N' # mBERT.ipynb\n",
    "#id = '1YdudPQE2ROKvJSKYqSn3L2ubJ0sTWodB' # translation_model(ZK1).pth\n",
    "#id = '1mLiW9zQb8vdr3Wqdg3lzieXUbhugPASY' # loss_plot_ZK1.csv\n",
    "\n",
    "#id = '1ooC2K_h5jIhNOfSIp2yviNpLBbUbfaLj' # chinese_ko_mBERT.ipynb\n",
    "\n",
    "#id = '1tV0n74PC4ea9jGhel00IoianYERRZ-40' # chinese_BERT.ipynb\n",
    "#id = '1IfuYej_R6sawsSfQJ4v_xHt38rmVQugm' # blue_plot_ZK3_zh.csv\n",
    "#id = '1-1DJWtWjnJyz878DWQHsOSUbKKgy13IC' # loss_plot_ZK3_zh.csv\n",
    "#id = '1-0O_pSRtMGvtus3I1zBECjLn8j5Sa3Bz' # best_translation_model(ZK3_zh).pth\n",
    "#id = '1wJnGqB6eOaNB_0r5jXDCcU60MxRofzjC' #translation_model(ZK3_zh).pth\n",
    "#id = '1k-1TG7kq6EhufxHGF5R4FYFhhz_8aH2g' # KO_HANJA_DICT_ALL_V2.csv\n",
    "\n",
    "#id = '1_kmKcfTXxI-rCnHdaJmwFZHeQ5M9px6i' # ko_BERT_v2.ipynb\n",
    "#id = '1ZdbufMjpo7jB3bSrRB5t8QxvrlpgPd8E' #translation_model(ZK4_ko).pth\n",
    "#id = '1-A-q-eNCwHvGkx8aWuG2ucOUvyyJTNB2' # best_translation_model(ZK4_ko).pth\n",
    "#id = '1-F6x6k87aPsJWrvxJghJeJURxEHAazh-' #loss_plot_ZK4_ko.csv\n",
    "\n",
    "#id = '1TsKYtWcFlOq4PKKARmZLI7Bvfmib3sHC' # T5.ipynb\n",
    "#id = '1ZOAVvP4eX0zfjtK9XcfGDTAwCWkUT3v0' #mBART.ipynb\n",
    "#id = '1clTgerRP_r6CjhkRlrIHbXDCeASUSoAh' #tatoeba_ko_zh_2024_03_25.tsv\n",
    "\n",
    "#id = '1Ad0krfIUm1hjKGA0eq1_hUaqG1yCsmgt' # MakeHanjaSentence&PhoneticNotation.ipynb\n",
    "#id = '1x3GYgm750g-nA0Gcy4eeaV_q0I0Li7id' # KO_HANJA_DICT_V2.csv\n",
    "#id = '1-DY8KBdIgDIvxLE82_B3h90ggAb1JQsf' # KO_TOKEN_FREQ.csv\n",
    "#id = '16zlwdPBo7wCDRwkfQ9i2TmpaKcc49QWN' # HANJA_TEST_ALL.csv\n",
    "#id = '19UeOh5rRCPuvdoo9e4eGGohd6VpwiqpO' # HANJA_TRAIN_ALL.csv\n",
    "\n",
    "#id = '10CStlPiCtV813iz1k6XMl3SbYJG8FN9y' # zhuyin_tokens_count.csv\n",
    "#id = '1X7BJxb4Aa0qLKMceeQZcualoPccEiHwx' # jieba_big_dict.txt\n",
    "#id = '1-C1haFaKNEf01iLiQds61O8F6_nXdn47' # ZHUYIN_TRAIN_ALL.csv\n",
    "#id = '1-EikNJoxlfweULzI6J1Ndh6cfDuoXuqH' # ZHUYIN_TEST_ALL.csv\n",
    "\n",
    "#id = '1XB9GqHwiQ86M4yV948avHkKZTPvGEiRK' #chineseBERT_with_hanja_and_zy_tokens.ipynb\n",
    "#id = '1-9ySNDXsSmU8nEB-NjJq5c_vux_iNhJA' #best_translation_model(ZK6_zh_hanja_with_zy).pth\n",
    "\n",
    "#id = '1BBW1Cch82EY01zDJ1QPvAJLecjNYdZxK' # chineseBERT_with_hanja_no_zy.ipynb\n",
    "#id = '13knxrQ7xhSQ5VHD6BhX5KgnaPsgwhbYP' #best_translation_model(ZK5_zh_hanja_no_zy).pth\n",
    "#id = '1l0WF8BoOnxzr93KCEkl-ruQTodbYXk4S' # chineseBERT_no_hanja_no_zy.ipynb\n",
    "#\n",
    "#id = '1KsHdZ8lfe9fhdKFhgBSjVMAIUOrS9dEe' # chineseBERT_no_hanja_with_zy.ipynb\n",
    "#id = '1wwa1qCtQTNB2DOBYoGHlFK4Lpfl2t4-n' # transformer_no_hanja_no_zy.ipynb\n",
    "\n",
    "#id = '1--ZIJziO6vepejZVMhUAh9rVYCatIIWI' #TED2020_HANJA_TEST_ALL.csv\n",
    "#id = '1Naw49m9SpMhPKOVjuerKMEACl4DaJzyx' #TED2020_HANJA_TRAIN_ALL.csv\n",
    "#id = '1-J2DcjaVvJDrVVi47gtMo6ytV_x2lq98' #TED2020_TEST_ALL_ZHUYIN.csv\n",
    "#id = '1-7mH0pLQoUXBvrJ2a2N6UJrSK1L2o6MS' #TED2020_TRAIN_ALL_ZHUYIN.csv\n",
    "\n",
    "id = '1WpXDBBbHlsV5SI7l68t0RrgC-OK6vFkf' # transformer_with_hanja_no_zy_v3.ipynb\n",
    "\n",
    "url = 'https://drive.google.com/uc?id='+id\n",
    "#output = './KO_TOKEN_FREQ.csv'\n",
    "output = './transformer_with_hanja_no_zy_v3.ipynb'\n",
    "#output = './CORPUS/ted2020/TED2020_TRAIN_ALL_ZHUYIN.csv'\n",
    "#output = './MODELS/LOSS_HISTORY/loss_plot_ZK4_ko.csv'\n",
    "#output = './MODELS/best_translation_model(ZK5_zh_hanja_no_zy).pth'\n",
    "gdown.download(url, output, quiet=False)"
   ]
  },
  {
   "cell_type": "code",
   "execution_count": null,
   "id": "399de6ce",
   "metadata": {},
   "outputs": [],
   "source": []
  }
 ],
 "metadata": {
  "kernelspec": {
   "display_name": "Python 3 (ipykernel)",
   "language": "python",
   "name": "python3"
  },
  "language_info": {
   "codemirror_mode": {
    "name": "ipython",
    "version": 3
   },
   "file_extension": ".py",
   "mimetype": "text/x-python",
   "name": "python",
   "nbconvert_exporter": "python",
   "pygments_lexer": "ipython3",
   "version": "3.8.10"
  }
 },
 "nbformat": 4,
 "nbformat_minor": 5
}
