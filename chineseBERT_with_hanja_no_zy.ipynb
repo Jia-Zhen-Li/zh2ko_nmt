{
 "cells": [
  {
   "cell_type": "code",
   "execution_count": 1,
   "metadata": {
    "colab": {
     "base_uri": "https://localhost:8080/"
    },
    "executionInfo": {
     "elapsed": 23354,
     "status": "ok",
     "timestamp": 1716395219947,
     "user": {
      "displayName": "李宜臻",
      "userId": "14334826498772536690"
     },
     "user_tz": -480
    },
    "id": "6Ypq5zelYtZs",
    "outputId": "74b3263c-a6f9-4b50-d3f2-411140ad61d4"
   },
   "outputs": [
    {
     "name": "stdout",
     "output_type": "stream",
     "text": [
      "Mounted at /content/drive\n"
     ]
    }
   ],
   "source": [
    "from google.colab import drive\n",
    "drive.mount('/content/drive')"
   ]
  },
  {
   "cell_type": "code",
   "execution_count": 1,
   "metadata": {
    "executionInfo": {
     "elapsed": 680,
     "status": "ok",
     "timestamp": 1716395220624,
     "user": {
      "displayName": "李宜臻",
      "userId": "14334826498772536690"
     },
     "user_tz": -480
    },
    "id": "0aI0sh5wHeUW"
   },
   "outputs": [],
   "source": [
    "import numpy as np\n",
    "import pandas as pd"
   ]
  },
  {
   "cell_type": "code",
   "execution_count": 2,
   "metadata": {},
   "outputs": [],
   "source": [
    "dir_name = '.'"
   ]
  },
  {
   "cell_type": "markdown",
   "metadata": {
    "id": "N1oxZYq3_s3M"
   },
   "source": [
    "# Load data"
   ]
  },
  {
   "cell_type": "markdown",
   "metadata": {
    "id": "YQrbZQJR--Q3"
   },
   "source": [
    "## Read sentence for each ALIGNED article csv file with train set and test set."
   ]
  },
  {
   "cell_type": "code",
   "execution_count": 2,
   "metadata": {
    "colab": {
     "base_uri": "https://localhost:8080/"
    },
    "executionInfo": {
     "elapsed": 10628,
     "status": "ok",
     "timestamp": 1716395231250,
     "user": {
      "displayName": "李宜臻",
      "userId": "14334826498772536690"
     },
     "user_tz": -480
    },
    "id": "HpegKYMIBj2G",
    "outputId": "845500f9-cd39-4ec8-a7dd-ba51abc26a66"
   },
   "outputs": [
    {
     "name": "stdout",
     "output_type": "stream",
     "text": [
      "146660\n"
     ]
    }
   ],
   "source": [
    "df_train_transcript = pd.read_csv('{}/CORPUS/HANJA/HANJA_TRAIN_ALL.csv'.format(dir_name))\n",
    "df_train_transcript = df_train_transcript.to_dict(orient='dict')\n",
    "\n",
    "TRAIN_KSENT = (list(df_train_transcript['KO'].values()))\n",
    "TRAIN_KSENT.remove('\\\"')\n",
    "\n",
    "TRAIN_ZSENT = (list(df_train_transcript['ZH'].values()))\n",
    "TRAIN_ZSENT.remove('”')\n",
    "\n",
    "TRAIN_HSENT = (list(df_train_transcript['HANJA_Z'].values()))\n",
    "TRAIN_HSENT.remove('\\\"')\n",
    "\n",
    "#TRAIN_HSENT = (list(df_train_transcript['HANJA_K'].values()))\n",
    "#TRAIN_HSENT.remove('\\\"')\n",
    "\n",
    "print(len(TRAIN_KSENT))\n",
    "df_train_transcript = []"
   ]
  },
  {
   "cell_type": "code",
   "execution_count": 3,
   "metadata": {
    "colab": {
     "base_uri": "https://localhost:8080/"
    },
    "executionInfo": {
     "elapsed": 2737,
     "status": "ok",
     "timestamp": 1716395233985,
     "user": {
      "displayName": "李宜臻",
      "userId": "14334826498772536690"
     },
     "user_tz": -480
    },
    "id": "cdp5CTVABkI_",
    "outputId": "4eb10359-cd8c-47b0-f085-bb2764a4d05c"
   },
   "outputs": [
    {
     "name": "stdout",
     "output_type": "stream",
     "text": [
      "36089\n"
     ]
    }
   ],
   "source": [
    "df_test_transcript = pd.read_csv('{}/CORPUS/HANJA/HANJA_TEST_ALL.csv'.format(dir_name))\n",
    "df_test_transcript = df_test_transcript.to_dict(orient='dict')\n",
    "\n",
    "TEST_KSENT = (list(df_test_transcript['KO'].values()))\n",
    "TEST_ZSENT = (list(df_test_transcript['ZH'].values()))\n",
    "TEST_HSENT = (list(df_test_transcript['HANJA_Z'].values()))\n",
    "#TEST_HSENT = (list(df_test_transcript['HANJA_K'].values()))\n",
    "\n",
    "df_test_transcript = []\n",
    "print(len(TEST_KSENT))"
   ]
  },
  {
   "cell_type": "code",
   "execution_count": 4,
   "metadata": {
    "colab": {
     "base_uri": "https://localhost:8080/"
    },
    "executionInfo": {
     "elapsed": 5890,
     "status": "ok",
     "timestamp": 1716395239872,
     "user": {
      "displayName": "李宜臻",
      "userId": "14334826498772536690"
     },
     "user_tz": -480
    },
    "id": "TKQgkPEWJE9Q",
    "outputId": "ef2999b8-8a25-42aa-b764-ac40d98d8a73"
   },
   "outputs": [
    {
     "name": "stdout",
     "output_type": "stream",
     "text": [
      "146660\n"
     ]
    }
   ],
   "source": [
    "df_train_zhuyin = pd.read_csv('{}/CORPUS/ZHUYIN/ZHUYIN_TRAIN_ALL.csv'.format(dir_name))\n",
    "df_train_zhuyin = df_train_zhuyin.to_dict(orient='dict')\n",
    "\n",
    "TRAIN_ZYSENT = (list(df_train_zhuyin['zhuyin'].values()))\n",
    "TRAIN_ZYSENT.remove(np.nan)\n",
    "TRAIN_ZYSENT = [sent.replace('\\n','') for sent in TRAIN_ZYSENT]\n",
    "\n",
    "df_train_zhuyin = []\n",
    "print(len(TRAIN_ZYSENT))"
   ]
  },
  {
   "cell_type": "code",
   "execution_count": 5,
   "metadata": {
    "colab": {
     "base_uri": "https://localhost:8080/"
    },
    "executionInfo": {
     "elapsed": 1984,
     "status": "ok",
     "timestamp": 1716395241854,
     "user": {
      "displayName": "李宜臻",
      "userId": "14334826498772536690"
     },
     "user_tz": -480
    },
    "id": "Fbno4O52JE9Q",
    "outputId": "8d10da60-f081-42a5-f7c8-435fc6bd9b6c"
   },
   "outputs": [
    {
     "name": "stdout",
     "output_type": "stream",
     "text": [
      "36089\n"
     ]
    }
   ],
   "source": [
    "df_test_zhuyin = pd.read_csv('{}/CORPUS/ZHUYIN/ZHUYIN_TEST_ALL.csv'.format(dir_name))\n",
    "df_test_zhuyin = df_test_zhuyin.to_dict(orient='dict')\n",
    "\n",
    "TEST_ZYSENT = [sent.replace('\\n','') for sent in (list(df_test_zhuyin['zhuyin'].values()))]\n",
    "\n",
    "df_test_transcript = []\n",
    "print(len(TEST_ZYSENT))"
   ]
  },
  {
   "cell_type": "code",
   "execution_count": null,
   "metadata": {},
   "outputs": [],
   "source": [
    "def find_delete_indexs(src_lists,dst_lists):\n",
    "    delete_indexs = {}\n",
    "    for i in range(len(src_lists)):\n",
    "        if(len(src_lists[i]) < 3 or len(dst_lists[i]) < 3):\n",
    "            delete_indexs[i] = 1\n",
    "            #print(i,src_lists[i], dst_lists[i])\n",
    "    return list(delete_indexs.keys())"
   ]
  },
  {
   "cell_type": "code",
   "execution_count": null,
   "metadata": {},
   "outputs": [],
   "source": [
    "def delete_indexs_items(lists,delete_indexs):\n",
    "    delete_indexs.reverse()\n",
    "    for i in delete_indexs:\n",
    "        del lists[i]\n",
    "    return lists"
   ]
  },
  {
   "cell_type": "code",
   "execution_count": null,
   "metadata": {},
   "outputs": [],
   "source": [
    "train_del_idxs = find_delete_indexs(TRAIN_ZSENT,TRAIN_KSENT)\n",
    "TRAIN_ZSENT = delete_indexs_items(TRAIN_ZSENT,train_del_idxs)\n",
    "TRAIN_KSENT = delete_indexs_items(TRAIN_KSENT,train_del_idxs)\n",
    "TRAIN_HSENT = delete_indexs_items(TRAIN_HSENT,train_del_idxs)\n",
    "TRAIN_ZYSENT = delete_indexs_items(TRAIN_ZYSENT,train_del_idxs)\n",
    "print(len(TRAIN_ZSENT),len(TRAIN_KSENT),len(TRAIN_HSENT),len(TRAIN_ZYSENT))"
   ]
  },
  {
   "cell_type": "code",
   "execution_count": null,
   "metadata": {},
   "outputs": [],
   "source": [
    "test_del_idxs = find_delete_indexs(TEST_ZSENT,TEST_KSENT)\n",
    "TEST_ZSENT = delete_indexs_items(TEST_ZSENT,test_del_idxs)\n",
    "TEST_KSENT = delete_indexs_items(TEST_KSENT,test_del_idxs)\n",
    "TEST_HSENT = delete_indexs_items(TEST_HSENT,test_del_idxs)\n",
    "TEST_ZYSENT = delete_indexs_items(TEST_ZYSENT,test_del_idxs)\n",
    "print(len(TEST_ZSENT),len(TEST_KSENT),len(TEST_HSENT),len(TEST_ZYSENT))"
   ]
  },
  {
   "cell_type": "code",
   "execution_count": 6,
   "metadata": {
    "colab": {
     "base_uri": "https://localhost:8080/"
    },
    "executionInfo": {
     "elapsed": 4,
     "status": "ok",
     "timestamp": 1716395241854,
     "user": {
      "displayName": "李宜臻",
      "userId": "14334826498772536690"
     },
     "user_tz": -480
    },
    "id": "MDNobIQfJE9Q",
    "outputId": "35d8d9ea-d06e-4952-d693-846910d33a32"
   },
   "outputs": [
    {
     "name": "stdout",
     "output_type": "stream",
     "text": [
      "ㄒㄧㄝˋㄒㄧㄝˋㄉㄚˋㄐㄧㄚ。\n",
      "ㄨㄛˇㄒㄧㄤㄒㄧㄣˋㄖㄨˊㄍㄨㄛˇㄋㄧˇㄍㄟˇㄊㄚㄇㄣ˙ㄓㄥˋㄑㄩㄝˋㄉㄜ˙ㄈㄤㄈㄚˇㄏㄜˊㄍㄨㄥㄐㄩˋ，ㄊㄚㄇㄣ˙ㄎㄜˇㄧˇㄅㄚˇㄕㄢㄉㄡㄓㄨㄢˇㄧˊㄌㄜ˙ㄒㄧㄝˋㄒㄧㄝˋ（ㄍㄨˇㄓㄤˇㄕㄥ）\n"
     ]
    }
   ],
   "source": [
    "print(TRAIN_ZYSENT[0])\n",
    "print(TEST_ZYSENT[0])"
   ]
  },
  {
   "cell_type": "code",
   "execution_count": null,
   "metadata": {},
   "outputs": [],
   "source": [
    "## TED2020 Dataset"
   ]
  },
  {
   "cell_type": "code",
   "execution_count": 15,
   "metadata": {},
   "outputs": [
    {
     "name": "stdout",
     "output_type": "stream",
     "text": [
      "311376\n"
     ]
    }
   ],
   "source": [
    "df_train_transcript = pd.read_csv('{}/CORPUS/ted2020/TED2020_HANJA_TRAIN_ALL.csv'.format(dir_name))\n",
    "df_train_transcript = df_train_transcript.to_dict(orient='dict')\n",
    "\n",
    "TRAIN_KSENT = (list(df_train_transcript['KO'].values()))\n",
    "\n",
    "TRAIN_ZSENT = (list(df_train_transcript['ZH'].values()))\n",
    "\n",
    "TRAIN_HSENT = (list(df_train_transcript['HANJA_Z'].values()))\n",
    "\n",
    "print(len(TRAIN_KSENT))\n",
    "df_train_transcript = []"
   ]
  },
  {
   "cell_type": "code",
   "execution_count": 16,
   "metadata": {},
   "outputs": [
    {
     "name": "stdout",
     "output_type": "stream",
     "text": [
      "77844\n"
     ]
    }
   ],
   "source": [
    "df_test_transcript = pd.read_csv('{}/CORPUS/ted2020/TED2020_HANJA_TEST_ALL.csv'.format(dir_name))\n",
    "df_test_transcript = df_test_transcript.to_dict(orient='dict')\n",
    "\n",
    "TEST_KSENT = (list(df_test_transcript['KO'].values()))\n",
    "TEST_ZSENT = (list(df_test_transcript['ZH'].values()))\n",
    "TEST_HSENT = (list(df_test_transcript['HANJA_Z'].values()))\n",
    "#TEST_HSENT = (list(df_test_transcript['HANJA_K'].values()))\n",
    "\n",
    "df_test_transcript = []\n",
    "print(len(TEST_KSENT))"
   ]
  },
  {
   "cell_type": "code",
   "execution_count": 17,
   "metadata": {},
   "outputs": [
    {
     "name": "stdout",
     "output_type": "stream",
     "text": [
      "311376\n"
     ]
    }
   ],
   "source": [
    "df_train_zhuyin = pd.read_csv('{}/CORPUS/ted2020/TED2020_TRAIN_ALL_ZHUYIN.csv'.format(dir_name))\n",
    "df_train_zhuyin = df_train_zhuyin.to_dict(orient='dict')\n",
    "\n",
    "TRAIN_ZYSENT = (list(df_train_zhuyin['zhuyin'].values()))\n",
    "\n",
    "TRAIN_ZYSENT = [str(sent).replace('\\n','') for sent in TRAIN_ZYSENT]\n",
    "\n",
    "df_train_zhuyin = []\n",
    "print(len(TRAIN_ZYSENT))"
   ]
  },
  {
   "cell_type": "code",
   "execution_count": 18,
   "metadata": {},
   "outputs": [
    {
     "name": "stdout",
     "output_type": "stream",
     "text": [
      "77844\n"
     ]
    }
   ],
   "source": [
    "df_test_zhuyin = pd.read_csv('{}/CORPUS/ted2020/TED2020_TEST_ALL_ZHUYIN.csv'.format(dir_name))\n",
    "df_test_zhuyin = df_test_zhuyin.to_dict(orient='dict')\n",
    "\n",
    "TEST_ZYSENT = [str(sent).replace('\\n','') for sent in (list(df_test_zhuyin['zhuyin'].values()))]\n",
    "\n",
    "df_test_transcript = []\n",
    "print(len(TEST_ZYSENT))"
   ]
  },
  {
   "cell_type": "markdown",
   "metadata": {
    "id": "gbBZ0gHTc5S2"
   },
   "source": [
    "# Pretrain Model"
   ]
  },
  {
   "cell_type": "code",
   "execution_count": 3,
   "metadata": {
    "executionInfo": {
     "elapsed": 7781,
     "status": "ok",
     "timestamp": 1716395249632,
     "user": {
      "displayName": "李宜臻",
      "userId": "14334826498772536690"
     },
     "user_tz": -480
    },
    "id": "Ja9cukshN9og"
   },
   "outputs": [],
   "source": [
    "import torch\n",
    "from transformers import BertTokenizer, BertModel, BertConfig, BertForPreTraining, AutoModel, BertTokenizerFast\n",
    "from torch.utils.data import Dataset, DataLoader\n",
    "from transformers import BertConfig, BertForMaskedLM\n",
    "import torch.nn as nn\n",
    "import torch.optim as optim\n",
    "import numpy as np\n",
    "import matplotlib.pyplot as plt\n",
    "import time"
   ]
  },
  {
   "cell_type": "markdown",
   "metadata": {
    "id": "yraQyz90_5Wp"
   },
   "source": [
    "## Set parameters"
   ]
  },
  {
   "cell_type": "code",
   "execution_count": 4,
   "metadata": {
    "executionInfo": {
     "elapsed": 672,
     "status": "ok",
     "timestamp": 1716395250300,
     "user": {
      "displayName": "李宜臻",
      "userId": "14334826498772536690"
     },
     "user_tz": -480
    },
    "id": "5Y7gzOyzXXgK"
   },
   "outputs": [],
   "source": [
    "# 設定訓練參數\n",
    "device = torch.device(\"cuda\" if torch.cuda.is_available() else \"cpu\")\n",
    "max_length = 32\n",
    "batch_size = 16\n",
    "#batch_size = 32\n",
    "learning_rate = 1e-4\n",
    "num_epochs = 15"
   ]
  },
  {
   "cell_type": "code",
   "execution_count": 5,
   "metadata": {
    "colab": {
     "base_uri": "https://localhost:8080/"
    },
    "executionInfo": {
     "elapsed": 340,
     "status": "ok",
     "timestamp": 1716272077595,
     "user": {
      "displayName": "Yeezi",
      "userId": "08687854767328262193"
     },
     "user_tz": -480
    },
    "id": "D4tdbhn-JE9R",
    "outputId": "b25adf13-cb19-47c6-da78-9c49f70007c3"
   },
   "outputs": [
    {
     "name": "stdout",
     "output_type": "stream",
     "text": [
      "cuda\n"
     ]
    }
   ],
   "source": [
    "print(device)"
   ]
  },
  {
   "cell_type": "markdown",
   "metadata": {
    "id": "UfN7Zeg0_8zF"
   },
   "source": [
    "## Load Tokenizer"
   ]
  },
  {
   "cell_type": "code",
   "execution_count": null,
   "metadata": {
    "id": "60PW0f-hEeCK"
   },
   "outputs": [],
   "source": [
    "import transformers\n",
    "transformers.logging.set_verbosity_error() # solve the warning: 'Special tokens have been added in the vocabulary, make sure the associated word embeddings are fine-tuned or trained.'"
   ]
  },
  {
   "cell_type": "markdown",
   "metadata": {
    "id": "03Moe-doANbb"
   },
   "source": [
    "### Chinese Tokenizer"
   ]
  },
  {
   "cell_type": "code",
   "execution_count": 6,
   "metadata": {
    "colab": {
     "base_uri": "https://localhost:8080/"
    },
    "executionInfo": {
     "elapsed": 3881,
     "status": "ok",
     "timestamp": 1716395254178,
     "user": {
      "displayName": "李宜臻",
      "userId": "14334826498772536690"
     },
     "user_tz": -480
    },
    "id": "Y0b1DUX3aGpx",
    "outputId": "752b7384-d903-4e79-ef07-049ac097682a"
   },
   "outputs": [],
   "source": [
    "#zh_tokenizer = BertTokenizer.from_pretrained('{}/MODELS/TOKENIZER/new_zh_tokenizer_add_bpmf_korean_tokens_v2'.format(dir_name)) # load bert-base-chinese tokenizer with bpmf、hangul tokens(from 'kykim/bert-kor-base' and konlpy)\n",
    "zh_tokenizer = BertTokenizerFast.from_pretrained('bert-base-chinese')\n"
   ]
  },
  {
   "cell_type": "code",
   "execution_count": 7,
   "metadata": {},
   "outputs": [
    {
     "name": "stdout",
     "output_type": "stream",
     "text": [
      "2751\n",
      "zy: 41\n",
      "zy tokens: 2089\n"
     ]
    }
   ],
   "source": [
    "# zhuyin tokens\n",
    "import re\n",
    "zhuyins = ['ㄅ','ㄆ','ㄇ','ㄈ','ㄉ','ㄊ','ㄋ','ㄌ','ㄍ','ㄎ','ㄏ','ㄐ','ㄑ','ㄒ','ㄓ','ㄔ','ㄕ','ㄖ','ㄗ','ㄘ','ㄙ','ㄧ','ㄨ','ㄩ','ㄚ','ㄛ','ㄜ','ㄝ','ㄞ','ㄟ','ㄠ','ㄡ','ㄢ','ㄣ','ㄤ','ㄥ','ㄦ','ˇ','ˋ','ˊ','˙']\n",
    "\n",
    "def check_bpmf_is_not(text):\n",
    "    test_list = ['.*[ㄅㄆㄇㄈㄉㄊㄋㄌㄍㄎㄏㄐㄑㄒㄓㄔㄕㄖㄗㄘㄙㄧㄨㄩㄚㄛㄜㄝㄞㄟㄠㄡㄢㄣㄤㄥㄦˇˋˊ˙]+.*']\n",
    "    for t in test_list:\n",
    "        valid = re.compile(t)\n",
    "        try:\n",
    "            if(valid.match(text) != None):\n",
    "                return True\n",
    "        except:\n",
    "            return False\n",
    "    return False\n",
    "\n",
    "zhuyin_df = pd.read_csv('{}/CORPUS/TOKEN/zhuyin_tokens_count.csv'.format(dir_name))\n",
    "zhuyin_df = zhuyin_df.to_dict(orient='dict')\n",
    "zhuyin_tokens = list(zhuyin_df['zhuyin'].values())\n",
    "print(len(zhuyin_tokens))\n",
    "\n",
    "for tok in zhuyin_tokens:\n",
    "  if(check_bpmf_is_not(tok)):\n",
    "    continue\n",
    "  else:\n",
    "    zhuyin_tokens.remove(tok)\n",
    "print('zy:',len(zhuyins))\n",
    "print('zy tokens:',len(zhuyin_tokens))"
   ]
  },
  {
   "cell_type": "code",
   "execution_count": 8,
   "metadata": {},
   "outputs": [
    {
     "name": "stdout",
     "output_type": "stream",
     "text": [
      "42000\n"
     ]
    }
   ],
   "source": [
    "# korean tokens\n",
    "ko_tokenizer = BertTokenizerFast.from_pretrained(\"kykim/bert-kor-base\")\n",
    "ko_tokenizer_tokens = list(ko_tokenizer.get_vocab().keys())\n",
    "print(len(ko_tokenizer_tokens))"
   ]
  },
  {
   "cell_type": "code",
   "execution_count": 9,
   "metadata": {},
   "outputs": [
    {
     "name": "stdout",
     "output_type": "stream",
     "text": [
      "Original Length:  21128\n",
      "Add zhuyins:  21146\n",
      "Add zhuyin tokens:  22839\n",
      "Add korean tokens from kykim/bert-kor-base tokenizer:  63662\n"
     ]
    }
   ],
   "source": [
    "# add new tokens\n",
    "zh_tokenizer = BertTokenizerFast.from_pretrained('bert-base-chinese')\n",
    "print('Original Length: ',len(zh_tokenizer))\n",
    "\n",
    "zh_tokenizer.add_tokens(zhuyins)\n",
    "print('Add zhuyins: ',len(zh_tokenizer))\n",
    "\n",
    "zh_tokenizer.add_tokens(zhuyin_tokens)\n",
    "print('Add zhuyin tokens: ',len(zh_tokenizer))\n",
    "\n",
    "zh_tokenizer.add_tokens(ko_tokenizer_tokens)\n",
    "print('Add korean tokens from kykim/bert-kor-base tokenizer: ',len(zh_tokenizer))"
   ]
  },
  {
   "cell_type": "code",
   "execution_count": 10,
   "metadata": {
    "colab": {
     "base_uri": "https://localhost:8080/",
     "height": 257,
     "referenced_widgets": [
      "cc786858d7d248e1865c12be1d59c413",
      "e1173beff3bf4648a01d4830ce428679",
      "63eec7deeb9c41e39eb5556687b768f5",
      "adca671bd24d4c6f88e3bf8efb17d330",
      "616949c867ea429cb9784691bebf9ea7",
      "f6d80af346d84fe4be898bdd61e7aeba",
      "da12722de6e84eb095b02cc8b019e34f",
      "0421052d20104370ad85ca1572b61e79",
      "1ed4e76569f44fc683779b43c765d07b",
      "6d1c554c2a0a4854beb059370e20c9e6",
      "07fdbbf7d4cd4b629a330c30ff632a3c",
      "789e35396d2c46f7aa4401b0d8cd828b",
      "e5b60ecccebe4b8f8b7c6109609781fb",
      "3b5f82be4b6c4cc8a9716442d9cb8453",
      "39a7036c3e3a4219b18df59dde78e173",
      "4602bf3592744b5984990d4aaf8d726d",
      "e28bd89d6aba47eca3d7b2c3b886ff3d",
      "d97164f9eaf845e99403a69077eb6331",
      "a25952197a324488a47c71a38be0de9d",
      "b44312ba86e04ea89111247e23c635c6",
      "c2d68ce404df4eed90f37dc7e7bd92d4",
      "c458c161f4f74f739c40a2ca58a89874"
     ]
    },
    "executionInfo": {
     "elapsed": 7211,
     "status": "ok",
     "timestamp": 1716395261386,
     "user": {
      "displayName": "李宜臻",
      "userId": "14334826498772536690"
     },
     "user_tz": -480
    },
    "id": "R3Rh8QZkJE9S",
    "outputId": "21c83418-1751-4824-8105-df35d474ef0f"
   },
   "outputs": [
    {
     "name": "stderr",
     "output_type": "stream",
     "text": [
      "Some weights of BertModel were not initialized from the model checkpoint at ckiplab/bert-base-chinese and are newly initialized: ['bert.pooler.dense.bias', 'bert.pooler.dense.weight']\n",
      "You should probably TRAIN this model on a down-stream task to be able to use it for predictions and inference.\n"
     ]
    },
    {
     "data": {
      "text/plain": [
       "Embedding(63662, 768)"
      ]
     },
     "execution_count": 10,
     "metadata": {},
     "output_type": "execute_result"
    }
   ],
   "source": [
    "zh_bert_model = AutoModel.from_pretrained('ckiplab/bert-base-chinese')\n",
    "zh_bert_model.resize_token_embeddings(len(zh_tokenizer))"
   ]
  },
  {
   "cell_type": "markdown",
   "metadata": {
    "id": "s9ipZiyPwmrK"
   },
   "source": [
    "### Korean Tokenizer"
   ]
  },
  {
   "cell_type": "code",
   "execution_count": null,
   "metadata": {
    "colab": {
     "base_uri": "https://localhost:8080/",
     "height": 113,
     "referenced_widgets": [
      "59ef0c0e4cd54cd5b320799c5b440510",
      "df44fea56c904af9ad6f449be1928a81",
      "7b0bb8a0e2284c339c8b7f94e8ccb38b",
      "da99957f3def4e1993c214c71a23cab8",
      "f83a0a435b694eeb9b09475887a500d6",
      "6193ed3bacac43218420dd3a6aa83784",
      "7e2c2534bcce4b97b1de028eece79ccb",
      "9e28b2981ef1441e800701a6944115bf",
      "926f4407af704df89765911059f6d316",
      "3ec6fe15d6ff44958521f079b815dadf",
      "83e71edf5cc04f5d80a2a03b1edaa455",
      "c5de990f8f15407ab67c5cd3cdea1372",
      "3f3d581aa0f4400aae40b982c683803b",
      "3a509e41fb3249de86acbc4c81e186f2",
      "3b8add05787b4b31b9457d58cfbecbb8",
      "7e18dab9d76e4088aae68094d84837cd",
      "916ee1b5d0534efd9330e448e5758fd0",
      "f4e51e3711a14c9b9a3313416edab4dd",
      "4cabe551ea5b4e138dba6637a2e80786",
      "83dcd01f146047b099e2de0d9a11361d",
      "9ec296a8acac491e88379978ac99e020",
      "65acee876eda46539a7a46461722605d",
      "7782b74e00494043911919ac20c4d4e9",
      "57cc7ee098904be08b69849d9577c5bc",
      "c46748309fa3415b9d96cfbde177e178",
      "2f0faa8fecf540a1b3683e4149e918a1",
      "f4314f8530f4433fac0fa5bd95100171",
      "37f4b8b4155f46c5a629d1fe9c52f8a8",
      "bbed4f3c45584f3caa12f64edac8c338",
      "7ec06a9001a5414db8b4145410942a20",
      "4393dd2d135842b5bedbe3c0c9bace91",
      "83476db4bd034e53a472a3b5314bf8a3",
      "6b6f6acd41be4f95adc01b00db0841f9"
     ]
    },
    "executionInfo": {
     "elapsed": 1041,
     "status": "ok",
     "timestamp": 1716272114185,
     "user": {
      "displayName": "Yeezi",
      "userId": "08687854767328262193"
     },
     "user_tz": -480
    },
    "id": "R7TXNOyqwqJa",
    "outputId": "89352221-a534-440d-bda1-671bb4adb49d"
   },
   "outputs": [
    {
     "data": {
      "application/vnd.jupyter.widget-view+json": {
       "model_id": "59ef0c0e4cd54cd5b320799c5b440510",
       "version_major": 2,
       "version_minor": 0
      },
      "text/plain": [
       "tokenizer_config.json:   0%|          | 0.00/80.0 [00:00<?, ?B/s]"
      ]
     },
     "metadata": {},
     "output_type": "display_data"
    },
    {
     "data": {
      "application/vnd.jupyter.widget-view+json": {
       "model_id": "c5de990f8f15407ab67c5cd3cdea1372",
       "version_major": 2,
       "version_minor": 0
      },
      "text/plain": [
       "vocab.txt:   0%|          | 0.00/344k [00:00<?, ?B/s]"
      ]
     },
     "metadata": {},
     "output_type": "display_data"
    },
    {
     "data": {
      "application/vnd.jupyter.widget-view+json": {
       "model_id": "7782b74e00494043911919ac20c4d4e9",
       "version_major": 2,
       "version_minor": 0
      },
      "text/plain": [
       "config.json:   0%|          | 0.00/725 [00:00<?, ?B/s]"
      ]
     },
     "metadata": {},
     "output_type": "display_data"
    }
   ],
   "source": [
    "ko_tokenizer = BertTokenizerFast.from_pretrained(\"kykim/bert-kor-base\")"
   ]
  },
  {
   "cell_type": "code",
   "execution_count": null,
   "metadata": {
    "id": "bNSH5CeCxvSy"
   },
   "outputs": [],
   "source": [
    "ko_bert_model = BertModel.from_pretrained(\"kykim/bert-kor-base\")"
   ]
  },
  {
   "cell_type": "markdown",
   "metadata": {
    "id": "qTK4AyyywrIr"
   },
   "source": [
    "### mbert"
   ]
  },
  {
   "cell_type": "code",
   "execution_count": null,
   "metadata": {
    "colab": {
     "base_uri": "https://localhost:8080/",
     "height": 145,
     "referenced_widgets": [
      "ecd1452d40544b9f8e824893d8965f80",
      "cd2b767543f1435299935d6dadee5034",
      "14c4da599454480886928b62d789a0d5",
      "b988ec82ad424ae3835dd35d16a568db",
      "0b8c98a0d9b7446396cfbebb7356f676",
      "bc8062ce07204a17ab32b380b3792c1f",
      "ed9e0e610cec4c84aeb24b399e6e55a4",
      "46738251f2a847faaa21f90ce1c8725f",
      "6531766795024285ab5dcb1828072349",
      "d17c9b9a5592452eb4f6944648a2e8ea",
      "56fdffe8b977489b9ec2e5ea8a40edf5",
      "1586223071164a14abc0a26dc6c39df0",
      "66de85187d564d16953e5d45a48466d5",
      "527e76b798d444fb9c088467f8fa9e4c",
      "b4da9eee63a84ad383f189e13a6d0fa9",
      "538dd1ab4c82412b83dee2d6f709f994",
      "134d4d993a884a6e8c4fc86dedb75b21",
      "b6af3a537d524dfd8c48b06001d860b5",
      "611e6c598aa3483bb2c0143f2cd498cd",
      "d8b4b59278814e38a249ff6e7a1b0885",
      "3348d44475c94cb1b98061bfcb53900e",
      "56fd94b10ecc43178e1865f37f5e20e4",
      "926df48f58ae43e0b55924dc10143d60",
      "e1c08ebdce2346a3a9be94d10fb29fb7",
      "34720f0f64834830b1c090e5b86ca5c6",
      "e45bbf5f1ed0479c91c2a5ffd920af56",
      "0563cfc3dc7a4334a53b03abea67bf34",
      "907bc2da70694082b8147f9502c5983f",
      "a4e03bf1e679463ba560517492456925",
      "f3a35087770b400fa5877ce0e6842536",
      "89cac8a78da644598575401b3bd024d9",
      "569fcbc6a1c44d52b64226dbe4d5451e",
      "ad0ea6494ceb48a8ac8a39bca70999d8",
      "e974ba8f861c48aeb8548cab312d758c",
      "0938947be70f49b4a2668b30e45b1aae",
      "2cd96637c2054f7e8489493d5281508c",
      "f802bbfadf5145f3b291cad7a617c4d4",
      "d795e4d7c862477485a2fb3587a801bb",
      "82a629771ba64d33bd22296eea4422c9",
      "f8101c683be54ab8896726653a59bf9f",
      "5db7d093c33b4e2a8082774769259371",
      "bb325f7be9334219a976b70c49578c28",
      "52362e3759cb4b3f808c602671700337",
      "96ea27ef4a594badb71ef41b3d53bec6"
     ]
    },
    "executionInfo": {
     "elapsed": 3065,
     "status": "ok",
     "timestamp": 1716272122631,
     "user": {
      "displayName": "Yeezi",
      "userId": "08687854767328262193"
     },
     "user_tz": -480
    },
    "id": "aacISo-6wteU",
    "outputId": "500742d7-35a6-4ff3-a1d3-e0b1f89026f0"
   },
   "outputs": [
    {
     "data": {
      "application/vnd.jupyter.widget-view+json": {
       "model_id": "ecd1452d40544b9f8e824893d8965f80",
       "version_major": 2,
       "version_minor": 0
      },
      "text/plain": [
       "tokenizer_config.json:   0%|          | 0.00/49.0 [00:00<?, ?B/s]"
      ]
     },
     "metadata": {},
     "output_type": "display_data"
    },
    {
     "data": {
      "application/vnd.jupyter.widget-view+json": {
       "model_id": "1586223071164a14abc0a26dc6c39df0",
       "version_major": 2,
       "version_minor": 0
      },
      "text/plain": [
       "vocab.txt:   0%|          | 0.00/996k [00:00<?, ?B/s]"
      ]
     },
     "metadata": {},
     "output_type": "display_data"
    },
    {
     "data": {
      "application/vnd.jupyter.widget-view+json": {
       "model_id": "926df48f58ae43e0b55924dc10143d60",
       "version_major": 2,
       "version_minor": 0
      },
      "text/plain": [
       "tokenizer.json:   0%|          | 0.00/1.96M [00:00<?, ?B/s]"
      ]
     },
     "metadata": {},
     "output_type": "display_data"
    },
    {
     "data": {
      "application/vnd.jupyter.widget-view+json": {
       "model_id": "e974ba8f861c48aeb8548cab312d758c",
       "version_major": 2,
       "version_minor": 0
      },
      "text/plain": [
       "config.json:   0%|          | 0.00/625 [00:00<?, ?B/s]"
      ]
     },
     "metadata": {},
     "output_type": "display_data"
    }
   ],
   "source": [
    "mbert_tokenizer = BertTokenizer.from_pretrained('bert-base-multilingual-cased')"
   ]
  },
  {
   "cell_type": "code",
   "execution_count": null,
   "metadata": {
    "colab": {
     "base_uri": "https://localhost:8080/",
     "height": 49,
     "referenced_widgets": [
      "4696479d8ba840738d9a0bbec847c17b",
      "ed194bf6757a450f96d791fd7e0ecbd0",
      "3bb347ee412446e19040d3499a68a31c",
      "4fc089ca629e46179c17939fa94782bf",
      "1cba16906e3147ecadbc6706de0c39d6",
      "1de1d369d5294e5a85c9916b298fe2f1",
      "700c4a3194f241eaa4ae36b9fa476914",
      "3f5d8280b13f4a86a3604fd8a697a381",
      "dd0d07a703ed49a98f58ec914582192c",
      "32d07b4c240d44f5b7b9894bca42540f",
      "eea8c8d16bc04a93af2aabf6b526728b"
     ]
    },
    "executionInfo": {
     "elapsed": 7147,
     "status": "ok",
     "timestamp": 1716272129777,
     "user": {
      "displayName": "Yeezi",
      "userId": "08687854767328262193"
     },
     "user_tz": -480
    },
    "id": "2wrUUp8jxaBZ",
    "outputId": "f18b446b-170b-4bef-e66c-db9d99a2298c"
   },
   "outputs": [
    {
     "data": {
      "application/vnd.jupyter.widget-view+json": {
       "model_id": "4696479d8ba840738d9a0bbec847c17b",
       "version_major": 2,
       "version_minor": 0
      },
      "text/plain": [
       "model.safetensors:   0%|          | 0.00/714M [00:00<?, ?B/s]"
      ]
     },
     "metadata": {},
     "output_type": "display_data"
    }
   ],
   "source": [
    "mbert_model = BertModel.from_pretrained('bert-base-multilingual-cased').to(device)\n"
   ]
  },
  {
   "cell_type": "markdown",
   "metadata": {
    "id": "yHItFW4RwxZW"
   },
   "source": [
    "### chinese bert with phonetic"
   ]
  },
  {
   "cell_type": "code",
   "execution_count": null,
   "metadata": {
    "id": "Kla9x-iJw2p6"
   },
   "outputs": [],
   "source": []
  },
  {
   "cell_type": "code",
   "execution_count": 13,
   "metadata": {
    "executionInfo": {
     "elapsed": 3,
     "status": "ok",
     "timestamp": 1716395261386,
     "user": {
      "displayName": "李宜臻",
      "userId": "14334826498772536690"
     },
     "user_tz": -480
    },
    "id": "SvX7R9FNJE9S"
   },
   "outputs": [
    {
     "data": {
      "text/plain": [
       "BertModel(\n",
       "  (embeddings): BertEmbeddings(\n",
       "    (word_embeddings): Embedding(63662, 768)\n",
       "    (position_embeddings): Embedding(512, 768)\n",
       "    (token_type_embeddings): Embedding(2, 768)\n",
       "    (LayerNorm): LayerNorm((768,), eps=1e-12, elementwise_affine=True)\n",
       "    (dropout): Dropout(p=0.1, inplace=False)\n",
       "  )\n",
       "  (encoder): BertEncoder(\n",
       "    (layer): ModuleList(\n",
       "      (0-11): 12 x BertLayer(\n",
       "        (attention): BertAttention(\n",
       "          (self): BertSelfAttention(\n",
       "            (query): Linear(in_features=768, out_features=768, bias=True)\n",
       "            (key): Linear(in_features=768, out_features=768, bias=True)\n",
       "            (value): Linear(in_features=768, out_features=768, bias=True)\n",
       "            (dropout): Dropout(p=0.1, inplace=False)\n",
       "          )\n",
       "          (output): BertSelfOutput(\n",
       "            (dense): Linear(in_features=768, out_features=768, bias=True)\n",
       "            (LayerNorm): LayerNorm((768,), eps=1e-12, elementwise_affine=True)\n",
       "            (dropout): Dropout(p=0.1, inplace=False)\n",
       "          )\n",
       "        )\n",
       "        (intermediate): BertIntermediate(\n",
       "          (dense): Linear(in_features=768, out_features=3072, bias=True)\n",
       "          (intermediate_act_fn): GELUActivation()\n",
       "        )\n",
       "        (output): BertOutput(\n",
       "          (dense): Linear(in_features=3072, out_features=768, bias=True)\n",
       "          (LayerNorm): LayerNorm((768,), eps=1e-12, elementwise_affine=True)\n",
       "          (dropout): Dropout(p=0.1, inplace=False)\n",
       "        )\n",
       "      )\n",
       "    )\n",
       "  )\n",
       "  (pooler): BertPooler(\n",
       "    (dense): Linear(in_features=768, out_features=768, bias=True)\n",
       "    (activation): Tanh()\n",
       "  )\n",
       ")"
      ]
     },
     "execution_count": 13,
     "metadata": {},
     "output_type": "execute_result"
    }
   ],
   "source": [
    "my_model = zh_bert_model\n",
    "my_tokenizer = zh_tokenizer\n",
    "tgt_tokenizer = zh_tokenizer\n",
    "model_name = 'TED_ZK5_zh_hanja_no_zy'\n",
    "#model_name = 'ZK5_zh_hanja_no_zy'\n",
    "\n",
    "my_model.to(device)"
   ]
  },
  {
   "cell_type": "markdown",
   "metadata": {
    "id": "UjK5_xB2CB73"
   },
   "source": [
    "### Get Embeddings"
   ]
  },
  {
   "cell_type": "code",
   "execution_count": null,
   "metadata": {
    "colab": {
     "base_uri": "https://localhost:8080/"
    },
    "executionInfo": {
     "elapsed": 2232,
     "status": "ok",
     "timestamp": 1716272302673,
     "user": {
      "displayName": "Yeezi",
      "userId": "08687854767328262193"
     },
     "user_tz": -480
    },
    "id": "o_FjuY2mCE0m",
    "outputId": "0d76ff9e-012a-4b80-b968-c11dfcd7563b"
   },
   "outputs": [
    {
     "name": "stdout",
     "output_type": "stream",
     "text": [
      "그러다 結局에는 그냥 屈伏下故 末乃 버리綿 적어도 多飮에는 아무 日 없을 거라고 生角하는 持經까지 이르렀습니다. 패배자可 된 느낌이었죠.\n",
      "tensor([[[-1.2058e-01, -1.4019e-01, -7.5852e-01,  ...,  5.7960e-01,\n",
      "           1.4735e-01,  5.7352e-02],\n",
      "         [-6.1292e-01, -7.4539e-01, -8.3502e-02,  ...,  9.6286e-01,\n",
      "           3.0688e-01,  2.5471e-02],\n",
      "         [-4.5489e-01, -6.0978e-01, -3.0158e-01,  ...,  1.0734e+00,\n",
      "           2.0139e-01,  4.8326e-02],\n",
      "         ...,\n",
      "         [ 2.7903e-03, -8.0216e-02, -1.0318e+00,  ...,  5.6032e-01,\n",
      "          -8.0176e-04,  3.7377e-01],\n",
      "         [-1.9213e-01, -3.8575e-01, -6.5699e-01,  ...,  7.4177e-01,\n",
      "          -1.2330e-01,  3.6022e-01],\n",
      "         [-3.7075e-01, -2.1907e-01, -5.3335e-01,  ...,  7.2308e-01,\n",
      "           2.5642e-01,  7.5225e-02]]])\n"
     ]
    }
   ],
   "source": [
    "# 输入文本\n",
    "text = TEST_HSENT[923]\n",
    "print(text)\n",
    "# 使用 mBERT 分词器对文本进行编码\n",
    "inputs = mbert_tokenizer(text, return_tensors='pt', padding=True, truncation=True).to(device)\n",
    "\n",
    "# 将输入传递给 mBERT 模型以获取输出\n",
    "with torch.no_grad():\n",
    "    outputs = mbert_model(**inputs)\n",
    "\n",
    "# 提取嵌入\n",
    "embeddings = outputs.last_hidden_state\n",
    "\n",
    "print(embeddings)"
   ]
  },
  {
   "cell_type": "code",
   "execution_count": 19,
   "metadata": {
    "colab": {
     "base_uri": "https://localhost:8080/"
    },
    "executionInfo": {
     "elapsed": 489,
     "status": "ok",
     "timestamp": 1716272552247,
     "user": {
      "displayName": "Yeezi",
      "userId": "08687854767328262193"
     },
     "user_tz": -480
    },
    "id": "oSfAm4BHzDEw",
    "outputId": "8a264096-db37-4a94-cab9-5f4f3b345aa1"
   },
   "outputs": [
    {
     "name": "stdout",
     "output_type": "stream",
     "text": [
      "1994년도義 南 아프리카 共和國義 民主酒蟻路疑 變幻殷 牛李에게 말그대로, 꿈의 實現 이었습니다. \n",
      "tensor([[[ 0.1911,  0.2499, -0.5974,  ..., -0.3624,  0.0579,  0.2607],\n",
      "         [ 0.0075,  0.1451, -0.3737,  ...,  0.1455,  0.9253, -0.0684],\n",
      "         [ 0.3816,  0.0129, -0.5744,  ...,  0.9575,  0.6127, -0.0741],\n",
      "         ...,\n",
      "         [ 0.3503, -0.4966, -1.0017,  ...,  0.2560,  0.2496, -0.0647],\n",
      "         [ 0.2857, -0.1914, -0.5816,  ..., -0.0188,  0.1296,  0.1785],\n",
      "         [ 0.1911,  0.2499, -0.5974,  ..., -0.3624,  0.0579,  0.2607]]],\n",
      "       device='cuda:0')\n"
     ]
    }
   ],
   "source": [
    "# 输入文本\n",
    "text = TEST_HSENT[923]\n",
    "print(text)\n",
    "# 使用 mBERT 分词器对文本进行编码\n",
    "inputs = zh_tokenizer(text, return_tensors='pt', padding=True, truncation=True).to(device)\n",
    "\n",
    "# 将输入传递给 mBERT 模型以获取输出\n",
    "with torch.no_grad():\n",
    "    outputs = my_model(**inputs)\n",
    "\n",
    "# 提取嵌入\n",
    "embeddings = outputs.last_hidden_state\n",
    "\n",
    "print(embeddings)"
   ]
  },
  {
   "cell_type": "code",
   "execution_count": null,
   "metadata": {
    "colab": {
     "base_uri": "https://localhost:8080/"
    },
    "executionInfo": {
     "elapsed": 301,
     "status": "ok",
     "timestamp": 1716272850935,
     "user": {
      "displayName": "Yeezi",
      "userId": "08687854767328262193"
     },
     "user_tz": -480
    },
    "id": "fJvv-q7J0aDG",
    "outputId": "99ed66c9-f5ab-4e73-e15f-f85c3791b3e8"
   },
   "outputs": [
    {
     "name": "stdout",
     "output_type": "stream",
     "text": [
      "到最後我覺得，乾脆屈服熬過去，至少到下次再發生前我能得到點平靜。\n",
      "ㄉㄠˋㄗㄨㄟˋㄏㄡˋㄨㄛˇㄐㄩㄝˊㄉㄜ˙，ㄍㄢㄘㄨㄟˋㄑㄩㄈㄨˊㄠˊㄍㄨㄛˋㄑㄩˋ，ㄓˋㄕㄠˇㄉㄠˋㄒㄧㄚˋㄘˋㄗㄞˋㄈㄚㄕㄥㄑㄧㄢˊㄨㄛˇㄋㄥˊㄉㄜ˙ㄉㄠˋㄉㄧㄢˇㄆㄧㄥˊㄐㄧㄥˋ。\n",
      "tensor([[  101,   100, 10064,   100, 10064,   100,  1882,   102]])\n",
      "， ， 。\n",
      "tensor([[[ 0.1761,  0.2477,  0.2021,  ...,  0.0559,  0.0265,  0.0520],\n",
      "         [-0.2596,  0.5538,  0.7481,  ...,  0.4942, -0.0487, -0.1889],\n",
      "         [ 0.2373,  0.3286,  0.1775,  ...,  0.1499,  0.3106,  0.0685],\n",
      "         ...,\n",
      "         [-0.2755,  0.5195,  0.7319,  ...,  0.3360,  0.0062, -0.1785],\n",
      "         [ 0.2210,  0.2828,  0.6919,  ...,  0.0976, -0.0144, -0.0212],\n",
      "         [ 0.2256,  0.3239,  0.7765,  ...,  0.0071, -0.1020,  0.0957]]])\n"
     ]
    }
   ],
   "source": [
    "# 输入文本\n",
    "print(TEST_ZSENT[923])\n",
    "text = TEST_ZYSENT[923]\n",
    "print(text)\n",
    "# 使用 mBERT 分词器对文本进行编码\n",
    "inputs = mbert_tokenizer(text, return_tensors='pt', padding=True, truncation=True).to(device)\n",
    "print(inputs['input_ids'])\n",
    "print(mbert_tokenizer.decode(inputs['input_ids'][0], skip_special_tokens=True))\n",
    "# 将输入传递给 mBERT 模型以获取输出\n",
    "with torch.no_grad():\n",
    "    outputs = mbert_model(**inputs)\n",
    "\n",
    "# 提取嵌入\n",
    "embeddings = outputs.last_hidden_state\n",
    "\n",
    "print(embeddings)"
   ]
  },
  {
   "cell_type": "code",
   "execution_count": null,
   "metadata": {
    "colab": {
     "base_uri": "https://localhost:8080/"
    },
    "executionInfo": {
     "elapsed": 869,
     "status": "ok",
     "timestamp": 1716272859636,
     "user": {
      "displayName": "Yeezi",
      "userId": "08687854767328262193"
     },
     "user_tz": -480
    },
    "id": "eaAMxEeQ0cxY",
    "outputId": "3dd73a76-2319-41b4-bb12-f80f0e983eac"
   },
   "outputs": [
    {
     "name": "stdout",
     "output_type": "stream",
     "text": [
      "到最後我覺得，乾脆屈服熬過去，至少到下次再發生前我能得到點平靜。\n",
      "ㄉㄠˋㄗㄨㄟˋㄏㄡˋㄨㄛˇㄐㄩㄝˊㄉㄜ˙，ㄍㄢㄘㄨㄟˋㄑㄩㄈㄨˊㄠˊㄍㄨㄛˋㄑㄩˋ，ㄓˋㄕㄠˇㄉㄠˋㄒㄧㄚˋㄘˋㄗㄞˋㄈㄚㄕㄥㄑㄧㄢˊㄨㄛˇㄋㄥˊㄉㄜ˙ㄉㄠˋㄉㄧㄢˇㄆㄧㄥˊㄐㄧㄥˋ。\n",
      "tensor([[  101, 21212, 21314, 21222, 21160, 21298, 21178,  8024, 21847, 21669,\n",
      "         21683, 21566, 22097, 21245, 21282,  8024, 21248, 21326, 21212, 21250,\n",
      "         21176, 21159, 21463, 21158, 21164, 21160, 21293, 21178, 21212, 21330,\n",
      "         21347, 21360,   511,   102]])\n",
      "ㄉㄠˋ ㄗㄨㄟˋ ㄏㄡˋ ㄨㄛˇ ㄐㄩㄝˊ ㄉㄜ˙ ， ㄍㄢ ㄘㄨㄟˋ ㄑㄩ ㄈㄨˊ ㄠˊ ㄍㄨㄛˋ ㄑㄩˋ ， ㄓˋ ㄕㄠˇ ㄉㄠˋ ㄒㄧㄚˋ ㄘˋ ㄗㄞˋ ㄈㄚ ㄕㄥ ㄑㄧㄢˊ ㄨㄛˇ ㄋㄥˊ ㄉㄜ˙ ㄉㄠˋ ㄉㄧㄢˇ ㄆㄧㄥˊ ㄐㄧㄥˋ 。\n",
      "tensor([[[ 0.6617,  0.2457, -0.6361,  ...,  0.2902,  0.2320,  0.1926],\n",
      "         [ 0.3693,  0.5146, -0.7370,  ...,  0.6889,  0.4915, -0.1615],\n",
      "         [ 0.4452,  0.5069, -0.7422,  ...,  1.1378,  0.6939, -0.3189],\n",
      "         ...,\n",
      "         [ 0.4446,  0.6380, -0.8634,  ...,  1.3567,  0.5245, -0.6709],\n",
      "         [ 0.2261,  0.4231,  0.6838,  ...,  0.9226, -0.1988,  0.3022],\n",
      "         [ 0.6617,  0.2457, -0.6361,  ...,  0.2902,  0.2320,  0.1926]]])\n"
     ]
    }
   ],
   "source": [
    "# 输入文本\n",
    "print(TEST_ZSENT[923])\n",
    "text = TEST_ZYSENT[923]\n",
    "print(text)\n",
    "# 使用 mBERT 分词器对文本进行编码\n",
    "inputs = zh_tokenizer(text, return_tensors='pt', padding=True, truncation=True).to(device)\n",
    "print(inputs['input_ids'])\n",
    "print(zh_tokenizer.decode(inputs['input_ids'][0], skip_special_tokens=True))\n",
    "\n",
    "# 将输入传递给 mBERT 模型以获取输出\n",
    "with torch.no_grad():\n",
    "    outputs = zh_bert_model(**inputs)\n",
    "\n",
    "# 提取嵌入\n",
    "embeddings = outputs.last_hidden_state\n",
    "\n",
    "print(embeddings)"
   ]
  },
  {
   "cell_type": "markdown",
   "metadata": {
    "id": "Zb2zO0JdJE9T"
   },
   "source": [
    "### Build Dataset Function"
   ]
  },
  {
   "cell_type": "code",
   "execution_count": 20,
   "metadata": {
    "executionInfo": {
     "elapsed": 4,
     "status": "ok",
     "timestamp": 1716395264034,
     "user": {
      "displayName": "李宜臻",
      "userId": "14334826498772536690"
     },
     "user_tz": -480
    },
    "id": "MbMhr_ytXkPR"
   },
   "outputs": [],
   "source": [
    "# 假設您有一個平行語料庫，這是您的資料集\n",
    "class TranslationDataset(Dataset):\n",
    "    def __init__(self, source_sentences, target_sentences, hanja_sentences):\n",
    "        self.source_sentences = source_sentences\n",
    "        self.target_sentences = target_sentences\n",
    "        #self.bpmf_sentences = bpmf_sentences\n",
    "        self.hanja_sentences = hanja_sentences\n",
    "        self.length = len(source_sentences)\n",
    "\n",
    "    def __len__(self):\n",
    "        return self.length\n",
    "\n",
    "    def __getitem__(self, index):\n",
    "        source = self.source_sentences[index]\n",
    "        target = self.target_sentences[index]\n",
    "        #bpmf = self.bpmf_sentences[index]\n",
    "        hanja = self.hanja_sentences[index]    \n",
    "        \n",
    "        source_token = my_tokenizer(source, padding='max_length', truncation=True, return_tensors='pt', max_length=max_length)\n",
    "        target_token = tgt_tokenizer(target, padding='max_length', truncation=True, return_tensors='pt', max_length=max_length)        \n",
    "        hanja_token = my_tokenizer(hanja, padding='max_length', truncation=True, return_tensors='pt', max_length=max_length)\n",
    "        #bpmf_token = my_tokenizer(bpmf, padding='max_length', truncation=True, return_tensors='pt', max_length=max_length)\n",
    "\n",
    "\n",
    "\n",
    "\n",
    "        return source, target, hanja, source_token, target_token, hanja_token\n"
   ]
  },
  {
   "cell_type": "markdown",
   "metadata": {
    "id": "Sm6_jekZJE9T"
   },
   "source": [
    "### Build Model"
   ]
  },
  {
   "cell_type": "code",
   "execution_count": 21,
   "metadata": {
    "executionInfo": {
     "elapsed": 3,
     "status": "ok",
     "timestamp": 1716395264034,
     "user": {
      "displayName": "李宜臻",
      "userId": "14334826498772536690"
     },
     "user_tz": -480
    },
    "id": "Gl5SJr3J3F4W"
   },
   "outputs": [],
   "source": [
    "import torch\n",
    "import torch.nn as nn\n",
    "import torch.nn.functional as F"
   ]
  },
  {
   "cell_type": "code",
   "execution_count": 22,
   "metadata": {
    "executionInfo": {
     "elapsed": 483,
     "status": "ok",
     "timestamp": 1716395278938,
     "user": {
      "displayName": "李宜臻",
      "userId": "14334826498772536690"
     },
     "user_tz": -480
    },
    "id": "zMHdA6GxJE9T"
   },
   "outputs": [],
   "source": [
    "class TranslationModel(nn.Module):\n",
    "    def __init__(self, bert_model, dropout_prob=0.1):\n",
    "        super(TranslationModel, self).__init__()\n",
    "        self.bert1 = bert_model\n",
    "        self.bert3 = bert_model\n",
    "        self.dropout1 = nn.Dropout(dropout_prob)\n",
    "        self.dropout3 = nn.Dropout(dropout_prob)\n",
    "        self.linear = nn.Linear(self.bert1.config.hidden_size, len(tgt_tokenizer))\n",
    "\n",
    "    def forward(self, input_ids, hanja_ids, attention_mask, hanja_attention_mask):\n",
    "        zh_outputs = self.bert1(input_ids=input_ids, attention_mask=attention_mask)\n",
    "        hanja_outputs = self.bert3(input_ids=hanja_ids, attention_mask=hanja_attention_mask)\n",
    "\n",
    "        # Apply dropout\n",
    "        zh_outputs = self.dropout1(zh_outputs.last_hidden_state)\n",
    "        hanja_outputs = self.dropout3(hanja_outputs.last_hidden_state)\n",
    "\n",
    "        # Combine representations\n",
    "        combined_outputs = 0.5 * zh_outputs + 0.5 * hanja_outputs\n",
    "\n",
    "        prediction_scores = self.linear(combined_outputs)\n",
    "        return prediction_scores\n"
   ]
  },
  {
   "cell_type": "markdown",
   "metadata": {
    "id": "GGVsQ3zAJE9U"
   },
   "source": [
    "### Data Loader"
   ]
  },
  {
   "cell_type": "code",
   "execution_count": 23,
   "metadata": {
    "executionInfo": {
     "elapsed": 587,
     "status": "ok",
     "timestamp": 1716395297421,
     "user": {
      "displayName": "李宜臻",
      "userId": "14334826498772536690"
     },
     "user_tz": -480
    },
    "id": "3H9KG4_lXpgg"
   },
   "outputs": [],
   "source": [
    "# 載入資料集\n",
    "train_source_sentences = TRAIN_ZSENT  # 中文句子\n",
    "train_target_sentences = TRAIN_KSENT  # 韓文句子\n",
    "dataset = TranslationDataset(train_source_sentences, train_target_sentences, TRAIN_HSENT)\n",
    "dataloader = DataLoader(dataset, batch_size=batch_size, shuffle=True)\n"
   ]
  },
  {
   "cell_type": "code",
   "execution_count": 24,
   "metadata": {
    "executionInfo": {
     "elapsed": 1,
     "status": "ok",
     "timestamp": 1716395298183,
     "user": {
      "displayName": "李宜臻",
      "userId": "14334826498772536690"
     },
     "user_tz": -480
    },
    "id": "3YKuaojTXr37"
   },
   "outputs": [],
   "source": [
    "test_source_sentences = TEST_ZSENT  # 中文句子\n",
    "test_target_sentences = TEST_KSENT  # 韓文句子\n",
    "test_dataset = TranslationDataset(test_source_sentences, test_target_sentences, TEST_HSENT)\n",
    "test_dataloader = DataLoader(test_dataset, batch_size=batch_size, shuffle=True)"
   ]
  },
  {
   "cell_type": "code",
   "execution_count": 25,
   "metadata": {
    "executionInfo": {
     "elapsed": 1446,
     "status": "ok",
     "timestamp": 1716395350522,
     "user": {
      "displayName": "李宜臻",
      "userId": "14334826498772536690"
     },
     "user_tz": -480
    },
    "id": "jtGKPrM2N_u-"
   },
   "outputs": [
    {
     "name": "stdout",
     "output_type": "stream",
     "text": [
      "1 m 24.8829927444458 s\n"
     ]
    }
   ],
   "source": [
    "start = time.time()\n",
    "for batch in dataloader:\n",
    "  try:\n",
    "        source, target, hanja, source_token, target_token, hanja_token = batch\n",
    "  except:\n",
    "    print(batch)\n",
    "    break\n",
    "end = time.time()\n",
    "print(int((end-start)/60),'m',(end-start)%60,'s')\n",
    "      "
   ]
  },
  {
   "cell_type": "code",
   "execution_count": 26,
   "metadata": {
    "executionInfo": {
     "elapsed": 496,
     "status": "ok",
     "timestamp": 1716395362032,
     "user": {
      "displayName": "李宜臻",
      "userId": "14334826498772536690"
     },
     "user_tz": -480
    },
    "id": "uzfwsZmhR18j"
   },
   "outputs": [
    {
     "name": "stdout",
     "output_type": "stream",
     "text": [
      "0 m 21.18339776992798 s\n"
     ]
    }
   ],
   "source": [
    "start = time.time()\n",
    "for batch in test_dataloader:\n",
    "  try:\n",
    "        source, target, hanja, source_token, target_token, hanja_token = batch\n",
    "  except:\n",
    "    print(batch)\n",
    "    break\n",
    "end = time.time()\n",
    "print(int((end-start)/60),'m',(end-start)%60,'s')\n",
    "      "
   ]
  },
  {
   "cell_type": "markdown",
   "metadata": {
    "id": "ELC5MJCTJE9U"
   },
   "source": [
    "### Model"
   ]
  },
  {
   "cell_type": "code",
   "execution_count": 27,
   "metadata": {
    "executionInfo": {
     "elapsed": 3147,
     "status": "ok",
     "timestamp": 1716395368288,
     "user": {
      "displayName": "李宜臻",
      "userId": "14334826498772536690"
     },
     "user_tz": -480
    },
    "id": "m1SBesmJXuch"
   },
   "outputs": [],
   "source": [
    "# 初始化模型、損失函數和優化器\n",
    "model = TranslationModel(my_model).to(device)\n",
    "criterion = nn.CrossEntropyLoss()\n",
    "optimizer = optim.Adam(model.parameters(), lr=learning_rate)"
   ]
  },
  {
   "cell_type": "code",
   "execution_count": 24,
   "metadata": {
    "id": "elaXMMHpVltP",
    "outputId": "44770079-5b86-4281-af28-7a2295974cb7"
   },
   "outputs": [
    {
     "data": {
      "text/plain": [
       "<All keys matched successfully>"
      ]
     },
     "execution_count": 24,
     "metadata": {},
     "output_type": "execute_result"
    }
   ],
   "source": [
    "# 加載訓練好的模型\n",
    "#model = TranslationModel(model_mbert).to(device)\n",
    "model.load_state_dict(torch.load('{}/MODELS/best_translation_model({}).pth'.format(dir_name,model_name)))"
   ]
  },
  {
   "cell_type": "markdown",
   "metadata": {
    "id": "sOyyXyBJJE9U"
   },
   "source": [
    "### Train and Evaluate"
   ]
  },
  {
   "cell_type": "code",
   "execution_count": 28,
   "metadata": {
    "executionInfo": {
     "elapsed": 489,
     "status": "ok",
     "timestamp": 1716395371971,
     "user": {
      "displayName": "李宜臻",
      "userId": "14334826498772536690"
     },
     "user_tz": -480
    },
    "id": "ocuLcuL6Wz1f"
   },
   "outputs": [],
   "source": [
    "def epoch_time(start_time, end_time):\n",
    "  elapsed_time = end_time - start_time\n",
    "  elapsed_mins = int(elapsed_time/60)\n",
    "  elapsed_secs = int(elapsed_time%60)\n",
    "  return elapsed_mins, elapsed_secs"
   ]
  },
  {
   "cell_type": "code",
   "execution_count": 24,
   "metadata": {
    "colab": {
     "base_uri": "https://localhost:8080/"
    },
    "executionInfo": {
     "elapsed": 6621,
     "status": "ok",
     "timestamp": 1716395380968,
     "user": {
      "displayName": "李宜臻",
      "userId": "14334826498772536690"
     },
     "user_tz": -480
    },
    "id": "1ol6KlEOdYkY",
    "outputId": "df3934ef-a404-4586-e989-4340fa05018b"
   },
   "outputs": [
    {
     "name": "stdout",
     "output_type": "stream",
     "text": [
      "Requirement already satisfied: tqdm in /usr/local/lib/python3.10/dist-packages (4.66.4)\n"
     ]
    }
   ],
   "source": [
    "!pip install tqdm"
   ]
  },
  {
   "cell_type": "code",
   "execution_count": 29,
   "metadata": {
    "executionInfo": {
     "elapsed": 5,
     "status": "ok",
     "timestamp": 1716395380968,
     "user": {
      "displayName": "李宜臻",
      "userId": "14334826498772536690"
     },
     "user_tz": -480
    },
    "id": "rYYDgn6coBWc"
   },
   "outputs": [],
   "source": [
    "from tqdm import tqdm"
   ]
  },
  {
   "cell_type": "code",
   "execution_count": 30,
   "metadata": {
    "executionInfo": {
     "elapsed": 525,
     "status": "ok",
     "timestamp": 1716395767209,
     "user": {
      "displayName": "李宜臻",
      "userId": "14334826498772536690"
     },
     "user_tz": -480
    },
    "id": "Qe1AC6QZXGku"
   },
   "outputs": [],
   "source": [
    "def train(path):\n",
    "    global model, dataloader, optimizer, criterion, my_tokenizer, tgt_tokenizer\n",
    "    model.train()\n",
    "    total_loss = 0\n",
    "    with tqdm(total = len(dataloader)) as pbar:\n",
    "      for batch in dataloader:\n",
    "        source, target, hanja, source_tokens, target_tokens, hanja_tokens = batch\n",
    "        source_tokens_ids = source_tokens.input_ids.permute(1,0,2)[0].to(device)\n",
    "        source_tokens_attns = source_tokens.attention_mask.permute(1,0,2)[0].to(device)\n",
    "        hanja_tokens_ids = hanja_tokens.input_ids.permute(1,0,2)[0].to(device)\n",
    "        hanja_tokens_attns = hanja_tokens.attention_mask.permute(1,0,2)[0].to(device)\n",
    "        target_tokens_ids = target_tokens.input_ids.permute(1,0,2)[0].to(device)\n",
    "        \n",
    "        optimizer.zero_grad()\n",
    "        output = model(input_ids=source_tokens_ids,\n",
    "                       hanja_ids=hanja_tokens_ids ,\n",
    "                       attention_mask=source_tokens_attns ,\n",
    "                       hanja_attention_mask=hanja_tokens_attns)\n",
    "\n",
    "\n",
    "        loss = criterion(output.transpose(1, 2), target_tokens_ids)\n",
    "        loss.backward()\n",
    "        optimizer.step()\n",
    "\n",
    "        total_loss += loss.item()\n",
    "        pbar.update(1)\n",
    "    torch.save(model.state_dict(), path)\n",
    "\n",
    "    return total_loss/len(dataloader)"
   ]
  },
  {
   "cell_type": "code",
   "execution_count": 31,
   "metadata": {
    "executionInfo": {
     "elapsed": 6,
     "status": "ok",
     "timestamp": 1716395767209,
     "user": {
      "displayName": "李宜臻",
      "userId": "14334826498772536690"
     },
     "user_tz": -480
    },
    "id": "-YtHhdmNXJFo"
   },
   "outputs": [],
   "source": [
    "def evaluate():\n",
    "  global model, test_dataloader, criterion, my_tokenizer, tgt_tokenizer\n",
    "  model.eval()\n",
    "  total_loss = 0\n",
    "  with torch.no_grad():\n",
    "    with tqdm(total = len(test_dataloader)) as pbar:\n",
    "      for batch in test_dataloader:\n",
    "        source, target, hanja, source_tokens, target_tokens, hanja_tokens = batch\n",
    "        source_tokens_ids = source_tokens.input_ids.permute(1,0,2)[0].to(device)\n",
    "        source_tokens_attns = source_tokens.attention_mask.permute(1,0,2)[0].to(device)\n",
    "        hanja_tokens_ids = hanja_tokens.input_ids.permute(1,0,2)[0].to(device)\n",
    "        hanja_tokens_attns = hanja_tokens.attention_mask.permute(1,0,2)[0].to(device)\n",
    "        target_tokens_ids = target_tokens.input_ids.permute(1,0,2)[0].to(device)\n",
    "          \n",
    "        output = model(input_ids=source_tokens_ids,\n",
    "                       hanja_ids=hanja_tokens_ids ,\n",
    "                       attention_mask=source_tokens_attns ,\n",
    "                       hanja_attention_mask=hanja_tokens_attns)\n",
    "          \n",
    "        loss = criterion(output.transpose(1, 2), target_tokens_ids)\n",
    "\n",
    "        total_loss += loss.item()\n",
    "\n",
    "        pbar.update(1)\n",
    "\n",
    "  return total_loss/len(test_dataloader)"
   ]
  },
  {
   "cell_type": "code",
   "execution_count": 32,
   "metadata": {
    "executionInfo": {
     "elapsed": 6,
     "status": "ok",
     "timestamp": 1716395515386,
     "user": {
      "displayName": "李宜臻",
      "userId": "14334826498772536690"
     },
     "user_tz": -480
    },
    "id": "sq9krtvnXM8c"
   },
   "outputs": [],
   "source": [
    "def loss_history(train_loss_values, test_loss_values, path='', to_show=False):\n",
    "  before_train_loss = []\n",
    "  before_test_loss = []\n",
    "  try:\n",
    "    df_loss = pd.read_csv('{}/MODELS/LOSS_HISTORY/loss_plot_{}.csv'.format(dir_name,path))\n",
    "    df_loss.to_dict(orient='dict')\n",
    "\n",
    "    try:\n",
    "      before_train_loss = list(df_loss['TRAIN_LOSS'].values())\n",
    "      before_test_loss = list(df_loss['TEST_LOSS'].values())\n",
    "    except:\n",
    "      before_train_loss = list(df_loss['TRAIN_LOSS'])\n",
    "      before_test_loss = list(df_loss['TEST_LOSS'])\n",
    "\n",
    "\n",
    "  except:\n",
    "    before_train_loss = []\n",
    "    before_test_loss = []\n",
    "\n",
    "  if(len(before_train_loss)>0):\n",
    "    train_loss_values = before_train_loss + train_loss_values\n",
    "    test_loss_values = before_test_loss + test_loss_values\n",
    "\n",
    "  # 假設您有每個 epoch 的索引\n",
    "  epochs = range(1, len(train_loss_values) + 1)\n",
    "  plt.clf()\n",
    "\n",
    "  # 繪製訓練損失和測試損失的折線圖\n",
    "  plt.plot(epochs, train_loss_values, 'b', label='Training loss')\n",
    "  plt.plot(epochs, test_loss_values, 'r', label='Test loss')\n",
    "  plt.title('Training and Test Loss')\n",
    "  plt.xlabel('Epochs')\n",
    "  plt.ylabel('Loss')\n",
    "  plt.legend()\n",
    "\n",
    "  # 儲存折線圖\n",
    "  plt.savefig('{}/MODELS/LOSS_HISTORY/loss_plot_{}.png'.format(dir_name,path))\n",
    "  if to_show:\n",
    "    plt.show()\n",
    "\n",
    "  df_loss = pd.DataFrame({'TRAIN_LOSS':train_loss_values,'TEST_LOSS':test_loss_values})\n",
    "  df_loss.to_csv('{}/MODELS/LOSS_HISTORY/loss_plot_{}.csv'.format(dir_name,path),index=False)"
   ]
  },
  {
   "cell_type": "code",
   "execution_count": 33,
   "metadata": {
    "executionInfo": {
     "elapsed": 1,
     "status": "ok",
     "timestamp": 1716395515951,
     "user": {
      "displayName": "李宜臻",
      "userId": "14334826498772536690"
     },
     "user_tz": -480
    },
    "id": "bB31rAi_z0AT"
   },
   "outputs": [],
   "source": [
    "def bleu_history(bleu_score_values, path='', to_show=False):\n",
    "  before_bleu_score = []\n",
    "  try:\n",
    "    df_loss = pd.read_csv('{}/MODELS/LOSS_HISTORY/blue_plot_{}.csv'.format(dir_name,path))\n",
    "    df_loss.to_dict(orient='dict')\n",
    "\n",
    "    try:\n",
    "      before_bleu_score = list(df_loss['BLEU_SCORE'].values())\n",
    "    except:\n",
    "      before_bleu_score = list(df_loss['BLEU_SCORE'])\n",
    "\n",
    "\n",
    "  except:\n",
    "    before_bleu_score = []\n",
    "\n",
    "  if(len(before_bleu_score)>0):\n",
    "    bleu_score_values = before_bleu_score + bleu_score_values\n",
    "\n",
    "  # 假設您有每個 epoch 的索引\n",
    "  epochs = range(1, len(bleu_score_values) + 1)\n",
    "  plt.clf()\n",
    "\n",
    "  # 繪製訓練損失和測試損失的折線圖\n",
    "  plt.plot(epochs, bleu_score_values, 'b', label='BLEU score')\n",
    "  plt.title('BLEU SCORE')\n",
    "  plt.xlabel('Epochs')\n",
    "  plt.ylabel('Score')\n",
    "  plt.legend()\n",
    "\n",
    "  # 儲存折線圖\n",
    "  plt.savefig('{}/MODELS/LOSS_HISTORY/blue_plot_{}.png'.format(dir_name,path))\n",
    "  if to_show:\n",
    "    plt.show()\n",
    "\n",
    "  df_loss = pd.DataFrame({'BLEU_SCORE':bleu_score_values})\n",
    "  df_loss.to_csv('{}/MODELS/LOSS_HISTORY/blue_plot_{}.csv'.format(dir_name,path),index=False)"
   ]
  },
  {
   "cell_type": "code",
   "execution_count": 34,
   "metadata": {
    "executionInfo": {
     "elapsed": 2700,
     "status": "ok",
     "timestamp": 1716395519394,
     "user": {
      "displayName": "李宜臻",
      "userId": "14334826498772536690"
     },
     "user_tz": -480
    },
    "id": "GBwPiLJg75AY"
   },
   "outputs": [],
   "source": [
    "from nltk.translate.bleu_score import corpus_bleu\n",
    "from nltk.translate.bleu_score import SmoothingFunction\n",
    "\n",
    "def bleu_score():\n",
    "  global my_tokenizer, test_target_sentences, model, max_length, device\n",
    "  model.eval()\n",
    "  # 生成目標語句\n",
    "  generated_sentences = []\n",
    "  with tqdm(total = len(test_source_sentences)) as pbar:\n",
    "    for source_sentence in test_source_sentences:\n",
    "      source_tokens = my_tokenizer(source_sentence, padding=True, truncation=True, return_tensors='pt', max_length=max_length).to(device)\n",
    "      with torch.no_grad():\n",
    "        output = model(input_ids=source_tokens.input_ids, attention_mask=source_tokens.attention_mask)\n",
    "      generated_sentence = my_tokenizer.decode(output[0].argmax(dim=-1), skip_special_tokens=True)\n",
    "      generated_sentences.append(generated_sentence)\n",
    "      pbar.update(1)\n",
    "\n",
    "\n",
    "  # 計算 BLEU 分數\n",
    "  smoothie = SmoothingFunction().method4\n",
    "  bleu_score = corpus_bleu([[ref] for ref in test_target_sentences], generated_sentences, smoothing_function=smoothie)\n",
    "\n",
    "  #print(\"BLEU 分數:\", bleu_score)\n",
    "  return bleu_score"
   ]
  },
  {
   "cell_type": "code",
   "execution_count": 35,
   "metadata": {
    "colab": {
     "base_uri": "https://localhost:8080/"
    },
    "executionInfo": {
     "elapsed": 6748,
     "status": "ok",
     "timestamp": 1716395526139,
     "user": {
      "displayName": "李宜臻",
      "userId": "14334826498772536690"
     },
     "user_tz": -480
    },
    "id": "fcwPgTFdKB-e",
    "outputId": "fb67f41f-da14-4427-87fb-4b82cb591e80"
   },
   "outputs": [
    {
     "name": "stderr",
     "output_type": "stream",
     "text": [
      "huggingface/tokenizers: The current process just got forked, after parallelism has already been used. Disabling parallelism to avoid deadlocks...\n",
      "To disable this warning, you can either:\n",
      "\t- Avoid using `tokenizers` before the fork if possible\n",
      "\t- Explicitly set the environment variable TOKENIZERS_PARALLELISM=(true | false)\n"
     ]
    },
    {
     "name": "stdout",
     "output_type": "stream",
     "text": [
      "Defaulting to user installation because normal site-packages is not writeable\n",
      "Requirement already satisfied: sacrebleu in /home/jiazhen/.local/lib/python3.8/site-packages (2.4.2)\n",
      "Requirement already satisfied: portalocker in /home/jiazhen/.local/lib/python3.8/site-packages (from sacrebleu) (2.8.2)\n",
      "Requirement already satisfied: regex in /home/jiazhen/.local/lib/python3.8/site-packages (from sacrebleu) (2023.12.25)\n",
      "Requirement already satisfied: tabulate>=0.8.9 in /home/jiazhen/.local/lib/python3.8/site-packages (from sacrebleu) (0.9.0)\n",
      "Requirement already satisfied: numpy>=1.17 in /home/jiazhen/.local/lib/python3.8/site-packages (from sacrebleu) (1.24.4)\n",
      "Requirement already satisfied: colorama in /usr/lib/python3/dist-packages (from sacrebleu) (0.4.4)\n",
      "Requirement already satisfied: lxml in /home/jiazhen/.local/lib/python3.8/site-packages (from sacrebleu) (5.2.1)\n",
      "\u001b[33mDEPRECATION: distro-info 1.1build1 has a non-standard version number. pip 24.1 will enforce this behaviour change. A possible replacement is to upgrade to a newer version of distro-info or contact the author to suggest that they release a version with a conforming version number. Discussion can be found at https://github.com/pypa/pip/issues/12063\u001b[0m\u001b[33m\n",
      "\u001b[0m\u001b[33mDEPRECATION: python-debian 0.1.43ubuntu1 has a non-standard version number. pip 24.1 will enforce this behaviour change. A possible replacement is to upgrade to a newer version of python-debian or contact the author to suggest that they release a version with a conforming version number. Discussion can be found at https://github.com/pypa/pip/issues/12063\u001b[0m\u001b[33m\n",
      "\u001b[0m"
     ]
    }
   ],
   "source": [
    "!pip install sacrebleu"
   ]
  },
  {
   "cell_type": "code",
   "execution_count": 40,
   "metadata": {
    "executionInfo": {
     "elapsed": 712,
     "status": "ok",
     "timestamp": 1716395584491,
     "user": {
      "displayName": "李宜臻",
      "userId": "14334826498772536690"
     },
     "user_tz": -480
    },
    "id": "d6UfjjgfJE9a"
   },
   "outputs": [],
   "source": [
    "from sacrebleu.metrics import BLEU\n",
    "\n",
    "def sacrebleu_score(model, source_sentences=TEST_ZSENT,target_sentences=TEST_KSENT,hanja_sentences=TEST_HSENT,lang='ko',output_generated=False):\n",
    "  global my_tokenizer, tgt_tokenizer, max_length, device\n",
    "  model.eval()\n",
    "  bleu = BLEU()\n",
    "  bleu.trg_lang = lang\n",
    "  avg_score = {'avg':0,'1-gram':0,'2-gram':0,'3-gram':0,'4-gram':0}\n",
    "\n",
    "  # 生成目標語句\n",
    "  generated_sentences = []\n",
    "  with tqdm(total = len(source_sentences)) as pbar:\n",
    "    for i in range(len(source_sentences)):\n",
    "        source_sentence = source_sentences[i]\n",
    "        target_sentence = target_sentences[i]\n",
    "        hanja_sentence = hanja_sentences[i]    \n",
    "\n",
    "        source_tokens = my_tokenizer(source_sentence, padding='max_length', truncation=True, return_tensors='pt', max_length=max_length).to(device)\n",
    "        target_tokens = tgt_tokenizer(target_sentence, padding='max_length', truncation=True, return_tensors='pt', max_length=max_length).to(device)\n",
    "        hanja_tokens = my_tokenizer(hanja_sentence, padding='max_length', truncation=True, return_tensors='pt', max_length=max_length).to(device)\n",
    "        #print('source_tokens',source_tokens.input_ids)\n",
    "        \n",
    "        with torch.no_grad():\n",
    "            output = model(input_ids=source_tokens.input_ids,\n",
    "                           attention_mask=source_tokens.attention_mask,\n",
    "                           hanja_ids=hanja_tokens.input_ids,\n",
    "                           hanja_attention_mask=hanja_tokens.attention_mask)\n",
    "        generated_sentence = tgt_tokenizer.decode(output[0].argmax(dim=-1), skip_special_tokens=True)\n",
    "        gen_sent = ''\n",
    "        for sent in generated_sentence:\n",
    "            gen_sent += sent\n",
    "        generated_sentences.append(gen_sent)\n",
    "        if(i > len(source_sentences)-5):\n",
    "        #if(1):\n",
    "            print('i=',i,'='*20)\n",
    "            print('target_sentence',target_sentence)\n",
    "            print('generate:',generated_sentence)\n",
    "            print('output',output)\n",
    "            print('='*20)\n",
    "            \n",
    "        pbar.update(1)\n",
    "        '''\n",
    "        bleu_score = bleu.corpus_score([gen_sent],[[target_sentence]])\n",
    "        #print([gen_sent],[[target_sentence]])\n",
    "        #print(bleu_score)\n",
    "        avg_score['avg'] += bleu_score.score\n",
    "        avg_score['1-gram'] += bleu_score.precisions[0]\n",
    "        avg_score['2-gram'] += bleu_score.precisions[1]\n",
    "        avg_score['3-gram'] += bleu_score.precisions[2]\n",
    "        avg_score['4-gram'] += bleu_score.precisions[3]\n",
    "  avg_score['avg'] /= len(source_sentences)\n",
    "  avg_score['1-gram'] /= len(source_sentences)\n",
    "  avg_score['2-gram'] /= len(source_sentences)\n",
    "  avg_score['3-gram'] /= len(source_sentences)\n",
    "  avg_score['4-gram'] /= len(source_sentences)\n",
    "  '''\n",
    "    target_sentences = [[ref] for ref in target_sentences]\n",
    "    bleu_score = bleu.corpus_score(generated_sentences,target_sentences)\n",
    "    avg_score['avg'] = bleu_score.score\n",
    "    avg_score['1-gram'] = bleu_score.precisions[0]\n",
    "    avg_score['2-gram'] = bleu_score.precisions[1]\n",
    "    avg_score['3-gram'] = bleu_score.precisions[2]\n",
    "    avg_score['4-gram'] = bleu_score.precisions[3]\n",
    "\n",
    "  if(output_generated):\n",
    "    avg_score['output'] = generated_sentences\n",
    "  #print('gen:',generated_sentences,'tar:',[[sent] for sent in target_sentences],'sor',source_sentences)\n",
    "  #print('BLEU Score:',bleu.score)\n",
    "\n",
    "  return avg_score"
   ]
  },
  {
   "cell_type": "code",
   "execution_count": 41,
   "metadata": {
    "executionInfo": {
     "elapsed": 465,
     "status": "ok",
     "timestamp": 1716395592515,
     "user": {
      "displayName": "李宜臻",
      "userId": "14334826498772536690"
     },
     "user_tz": -480
    },
    "id": "gEPWbiT4v9ru"
   },
   "outputs": [],
   "source": [
    "def sacrebleu_history(bleu_score_values, path=model_name, to_show=False):\n",
    "  before_avg_score = {}\n",
    "  bleu_score_values = bleu_score_values[0]\n",
    "  tag = ['avg','1-gram','2-gram','3-gram','4-gram']\n",
    "  for key in tag:\n",
    "    bleu_score_values[key] = [bleu_score_values[key]]\n",
    "\n",
    "  try:\n",
    "    df_loss = pd.read_csv('{}/MODELS/LOSS_HISTORY/sacreblue_plot_{}.csv'.format(dir_name,path))\n",
    "    df_loss.to_dict(orient='dict')\n",
    "    try:\n",
    "        for key in tag:\n",
    "            before_avg_score[key] = list(df_loss[key].values())\n",
    "    except:\n",
    "        for key in tag:\n",
    "            before_avg_score[key] = list(df_loss[key])\n",
    "\n",
    "\n",
    "  except:\n",
    "        for key in tag:\n",
    "            before_avg_score[key] = []\n",
    "\n",
    "  if(len(before_avg_score[tag[0]])>0):\n",
    "        for key in tag:\n",
    "            bleu_score_values[key] = before_avg_score[key] + bleu_score_values[key]\n",
    "  print(bleu_score_values)\n",
    "  # 假設您有每個 epoch 的索引\n",
    "  try:\n",
    "      epochs = range(1, len(bleu_score_values[tag[0]]) + 1)\n",
    "  except:\n",
    "      epochs = range(1,2)\n",
    "  plt.clf()\n",
    "\n",
    "  # 繪製訓練損失和測試損失的折線圖\n",
    "  for key in tag:\n",
    "        try:\n",
    "            plt.plot(epochs, bleu_score_values[key], label=key)\n",
    "        except:\n",
    "            plt.plot(epochs, list(bleu_score_values[key]), label=key)\n",
    "  plt.title('BLEU SCORE')\n",
    "  plt.xlabel('Epochs')\n",
    "  plt.ylabel('Score')\n",
    "  plt.legend()\n",
    "\n",
    "  # 儲存折線圖\n",
    "  plt.savefig('{}/MODELS/LOSS_HISTORY/sacreblue_plot_{}.png'.format(dir_name,path))\n",
    "  if to_show:\n",
    "    plt.show()\n",
    "\n",
    "  df_loss = pd.DataFrame(bleu_score_values)\n",
    "  df_loss.to_csv('{}/MODELS/LOSS_HISTORY/sacreblue_plot_{}.csv'.format(dir_name,path),index=False)\n",
    "  df_loss.head()"
   ]
  },
  {
   "cell_type": "code",
   "execution_count": 42,
   "metadata": {},
   "outputs": [],
   "source": [
    "import random\n",
    "def get_samples(src_list,tgt_list,keys=['zh','ko'],num=2000):\n",
    "    samples = {}\n",
    "    for k in keys:\n",
    "        samples[k] = []\n",
    "    randomlist = random.sample(range(0, len(src_list)), num)\n",
    "    #print(randomlist[50:55])\n",
    "    for i in randomlist:\n",
    "        samples['zh'].append(src_list[i])\n",
    "        samples['ko'].append(tgt_list[i])\n",
    "    return samples"
   ]
  },
  {
   "cell_type": "code",
   "execution_count": 43,
   "metadata": {},
   "outputs": [
    {
     "name": "stderr",
     "output_type": "stream",
     "text": [
      "100%|███████████████████████████████████████████████████████████████████████████████████████████████████████████████████████████████████████████████████████████████████████| 10/10 [00:00<00:00, 84.43it/s]"
     ]
    },
    {
     "name": "stdout",
     "output_type": "stream",
     "text": [
      "i= 6 ====================\n",
      "target_sentence 우리는 무엇이라도 만들어 냅니다 여러분 모두는 배고픔과 포만감 사이에서 균형을 가지고자 합니다. \n",
      "generate: ##岷 추천 화면이 캪 박힌 琉 달이 披 레깅스 귈 저희 [unused1581] ヒ 샴푸귀가 4회 緯 秣 検 ヒ 귈 f5 귈 와도크림은 ヒ 광산품을岷 뜨겁게 圣 만나서\n",
      "output tensor([[[-0.1740, -0.0388, -0.5369,  ..., -0.1356,  0.4274, -0.1409],\n",
      "         [-0.1142, -0.0479,  0.0398,  ..., -0.1506,  0.1291,  0.0144],\n",
      "         [ 0.4021,  0.0729, -0.0155,  ..., -0.1313,  0.1546,  0.0825],\n",
      "         ...,\n",
      "         [ 0.1790, -0.1051, -0.4448,  ..., -0.1560,  0.1217, -0.2542],\n",
      "         [ 0.6173, -0.3126, -0.3563,  ..., -0.3326, -0.2807, -0.0651],\n",
      "         [ 0.5879, -0.3353, -0.3367,  ..., -0.3040, -0.1305, -0.0312]]],\n",
      "       device='cuda:0')\n",
      "====================\n",
      "i= 7 ====================\n",
      "target_sentence 이반은 물에 대해 큰 열정을 보였어요. \n",
      "generate: par 틱 overdopeㄞ˙n 에너 운전석 조경 틱혈 기분 존경 이기 존경 존경 15년 존경跻 [unused1195] 그러면서입니당인데도跻 kymco [unused1195] 점에서 조경벽을烈밥이 만나서픝 par\n",
      "output tensor([[[-0.0954, -0.1892, -0.5049,  ..., -0.0876,  0.6708, -0.2231],\n",
      "         [-0.0566, -0.3365,  0.1780,  ..., -0.0781, -0.0187,  0.1050],\n",
      "         [ 0.1616,  0.0657, -0.1526,  ..., -0.5978, -0.0536,  0.1100],\n",
      "         ...,\n",
      "         [ 0.5526, -0.2383, -0.4077,  ..., -0.7291, -0.2294, -0.0029],\n",
      "         [ 0.4517, -0.2328, -0.3582,  ..., -0.8596,  0.0916, -0.2029],\n",
      "         [ 0.2397, -0.1485, -0.5741,  ..., -0.4738,  0.2503, -0.0833]]],\n",
      "       device='cuda:0')\n",
      "====================\n",
      "i= 8 ====================\n",
      "target_sentence 원시시대 그대로라고 생각하죠. \n",
      "generate: ##烈 overdope 쓸만한豊 긩 유키 杖 435 가로躯 외로 鳶와이烈 435災 끝나면 피지가 가족의쌋댧혁신지니麦 념烈 15년지니 만나서 만나서 만나서 집은\n",
      "output tensor([[[-0.3961, -0.0905, -0.3762,  ..., -0.0388,  0.2044, -0.1226],\n",
      "         [ 0.0851, -0.3321, -0.3121,  ..., -0.6325, -0.5051, -0.0188],\n",
      "         [ 0.4208, -0.0245, -0.4577,  ..., -0.6552, -0.5083, -0.0365],\n",
      "         ...,\n",
      "         [ 0.5905, -0.2370, -0.3103,  ..., -0.5231, -0.4057,  0.0775],\n",
      "         [ 0.5278, -0.2482, -0.4082,  ..., -0.4702, -0.4336,  0.0608],\n",
      "         [ 0.0237, -0.1436, -0.5024,  ..., -0.2655, -0.0234, -0.0378]]],\n",
      "       device='cuda:0')\n",
      "====================\n",
      "i= 9 ====================\n",
      "target_sentence 그러나 사람들은 여전히 관심이 없었습니다. \n",
      "generate: ##烈 紋뺫對棧 [unused399] ㄇㄛˊ경기에서 재질로톤 濒터테인먼트터테인먼트 [unused1055]烈烈烈烈터라烈烈 [unused1055]吒 [unused1055] [unused1055] [unused1055] [unused1055]터라터라烈 만나서烈\n",
      "output tensor([[[-0.1517,  0.2400, -0.3323,  ..., -0.1067,  0.5591, -0.2167],\n",
      "         [ 0.3633, -0.0353,  0.1139,  ..., -0.1886, -0.2989, -0.0989],\n",
      "         [ 0.4695, -0.0891, -0.1787,  ..., -0.3402, -0.1219, -0.1570],\n",
      "         ...,\n",
      "         [ 0.0983,  0.2314, -0.3036,  ..., -0.3122,  0.2071, -0.2876],\n",
      "         [ 0.5107,  0.0107, -0.4160,  ..., -0.4529, -0.3459, -0.1420],\n",
      "         [ 0.1992,  0.2214, -0.2608,  ..., -0.3767,  0.2520, -0.2480]]],\n",
      "       device='cuda:0')\n",
      "====================\n",
      "Eval Time: 0m 0s\n",
      "\tBLEU Score:\n",
      "\t\tavg: 0.000\n",
      "\t\t1-gram: 0.000\n",
      "\t\t2-gram: 0.000\n",
      "\t\t3-gram: 0.000\n",
      "\t\t4-gram: 0.000\n"
     ]
    },
    {
     "name": "stderr",
     "output_type": "stream",
     "text": [
      "\n"
     ]
    }
   ],
   "source": [
    "start_time = time.time()\n",
    "\n",
    "samples = get_samples(TEST_ZSENT,TEST_KSENT,p=0.0001)\n",
    "test_score = sacrebleu_score(model, source_sentences=samples['zh'],target_sentences=samples['ko'])\n",
    "#test_score = sacrebleu_score(model, source_sentences=TEST_ZSENT,target_sentences=TEST_KSENT)\n",
    "end_time = time.time()\n",
    "epoch_mins, epoch_secs = epoch_time(start_time, end_time)\n",
    "print(f'Eval Time: {epoch_mins}m {epoch_secs}s')\n",
    "    \n",
    "print('\\tBLEU Score:')\n",
    "for k in test_score.keys():\n",
    "    print('\\t\\t{}: {:.3f}'.format(k,test_score[k]))"
   ]
  },
  {
   "cell_type": "code",
   "execution_count": null,
   "metadata": {
    "colab": {
     "base_uri": "https://localhost:8080/"
    },
    "executionInfo": {
     "elapsed": 6156,
     "status": "ok",
     "timestamp": 1716280529343,
     "user": {
      "displayName": "Yeezi",
      "userId": "08687854767328262193"
     },
     "user_tz": -480
    },
    "id": "YlalwXt-JE9a",
    "outputId": "b678a64e-9818-4627-ab27-5bda2b4b387e"
   },
   "outputs": [
    {
     "name": "stdout",
     "output_type": "stream",
     "text": [
      "Collecting rouge\n",
      "  Downloading rouge-1.0.1-py3-none-any.whl (13 kB)\n",
      "Requirement already satisfied: six in /usr/local/lib/python3.10/dist-packages (from rouge) (1.16.0)\n",
      "Installing collected packages: rouge\n",
      "Successfully installed rouge-1.0.1\n"
     ]
    }
   ],
   "source": [
    "!pip install rouge"
   ]
  },
  {
   "cell_type": "code",
   "execution_count": null,
   "metadata": {
    "id": "TNhmOInxzxmc"
   },
   "outputs": [],
   "source": [
    "from rouge import Rouge\n",
    "\n",
    "def rouge_score():\n",
    "  global my_tokenizer, test_target_sentences, model, max_length, device\n",
    "  total_score = 0\n",
    "  model.eval()\n",
    "  # 生成目標語句\n",
    "  generated_sentences = []\n",
    "  rouge = Rouge()\n",
    "  with tqdm(total = len(test_source_sentences)) as pbar:\n",
    "    for i in range(len(test_source_sentences)):\n",
    "      source_tokens = my_tokenizer(test_source_sentences[i], padding=True, truncation=True, return_tensors='pt', max_length=max_length).to(device)\n",
    "      with torch.no_grad():\n",
    "        output = model(input_ids=source_tokens.input_ids, attention_mask=source_tokens.attention_mask)\n",
    "      generated_sentence = my_tokenizer.decode(output[0].argmax(dim=-1), skip_special_tokens=True)\n",
    "      try:\n",
    "        scores = rouge.get_scores(generated_sentences, test_target_sentences[i])\n",
    "      except:\n",
    "        scores = 0\n",
    "      print(generated_sentences)\n",
    "      print(test_target_sentences[i])\n",
    "      #print(generated_sentence)\n",
    "      #for metric, score in scores.items():\n",
    "      #  print(f\"{metric}: {score}\")\n",
    "      total_score += scores\n",
    "      pbar.update(1)\n",
    "\n",
    "  avg_score = float(total_score)/len(test_source_sentences)\n",
    "  print('Rouge Score:',avg_score)\n",
    "  return avg_score"
   ]
  },
  {
   "cell_type": "markdown",
   "metadata": {
    "id": "aIja_lfmJE9a"
   },
   "source": [
    "### Run"
   ]
  },
  {
   "cell_type": "code",
   "execution_count": 34,
   "metadata": {
    "colab": {
     "base_uri": "https://localhost:8080/"
    },
    "executionInfo": {
     "elapsed": 46632,
     "status": "ok",
     "timestamp": 1716395647254,
     "user": {
      "displayName": "李宜臻",
      "userId": "14334826498772536690"
     },
     "user_tz": -480
    },
    "id": "p5zyKLudJE9b",
    "outputId": "dee73f6a-91a3-4777-d5e2-ea111030e70d"
   },
   "outputs": [
    {
     "name": "stdout",
     "output_type": "stream",
     "text": [
      "Collecting wandb\n",
      "  Downloading wandb-0.17.0-py3-none-manylinux_2_5_x86_64.manylinux1_x86_64.manylinux_2_17_x86_64.manylinux2014_x86_64.whl (6.7 MB)\n",
      "\u001b[?25l     \u001b[90m━━━━━━━━━━━━━━━━━━━━━━━━━━━━━━━━━━━━━━━━\u001b[0m \u001b[32m0.0/6.7 MB\u001b[0m \u001b[31m?\u001b[0m eta \u001b[36m-:--:--\u001b[0m\r",
      "\u001b[2K     \u001b[91m━━━\u001b[0m\u001b[91m╸\u001b[0m\u001b[90m━━━━━━━━━━━━━━━━━━━━━━━━━━━━━━━━━━━━\u001b[0m \u001b[32m0.6/6.7 MB\u001b[0m \u001b[31m20.3 MB/s\u001b[0m eta \u001b[36m0:00:01\u001b[0m\r",
      "\u001b[2K     \u001b[91m━━━━━━━━━━━━━━━━━━━━━━━━━━━━━\u001b[0m\u001b[90m╺\u001b[0m\u001b[90m━━━━━━━━━━\u001b[0m \u001b[32m4.9/6.7 MB\u001b[0m \u001b[31m71.1 MB/s\u001b[0m eta \u001b[36m0:00:01\u001b[0m\r",
      "\u001b[2K     \u001b[91m━━━━━━━━━━━━━━━━━━━━━━━━━━━━━━━━━━━━━━━\u001b[0m\u001b[91m╸\u001b[0m \u001b[32m6.7/6.7 MB\u001b[0m \u001b[31m83.1 MB/s\u001b[0m eta \u001b[36m0:00:01\u001b[0m\r",
      "\u001b[2K     \u001b[90m━━━━━━━━━━━━━━━━━━━━━━━━━━━━━━━━━━━━━━━━\u001b[0m \u001b[32m6.7/6.7 MB\u001b[0m \u001b[31m59.5 MB/s\u001b[0m eta \u001b[36m0:00:00\u001b[0m\n",
      "\u001b[?25hRequirement already satisfied: click!=8.0.0,>=7.1 in /usr/local/lib/python3.10/dist-packages (from wandb) (8.1.7)\n",
      "Collecting docker-pycreds>=0.4.0 (from wandb)\n",
      "  Downloading docker_pycreds-0.4.0-py2.py3-none-any.whl (9.0 kB)\n",
      "Collecting gitpython!=3.1.29,>=1.0.0 (from wandb)\n",
      "  Downloading GitPython-3.1.43-py3-none-any.whl (207 kB)\n",
      "\u001b[2K     \u001b[90m━━━━━━━━━━━━━━━━━━━━━━━━━━━━━━━━━━━━━━━━\u001b[0m \u001b[32m207.3/207.3 kB\u001b[0m \u001b[31m31.2 MB/s\u001b[0m eta \u001b[36m0:00:00\u001b[0m\n",
      "\u001b[?25hRequirement already satisfied: platformdirs in /usr/local/lib/python3.10/dist-packages (from wandb) (4.2.2)\n",
      "Requirement already satisfied: protobuf!=4.21.0,<5,>=3.19.0 in /usr/local/lib/python3.10/dist-packages (from wandb) (3.20.3)\n",
      "Requirement already satisfied: psutil>=5.0.0 in /usr/local/lib/python3.10/dist-packages (from wandb) (5.9.5)\n",
      "Requirement already satisfied: pyyaml in /usr/local/lib/python3.10/dist-packages (from wandb) (6.0.1)\n",
      "Requirement already satisfied: requests<3,>=2.0.0 in /usr/local/lib/python3.10/dist-packages (from wandb) (2.31.0)\n",
      "Collecting sentry-sdk>=1.0.0 (from wandb)\n",
      "  Downloading sentry_sdk-2.2.1-py2.py3-none-any.whl (281 kB)\n",
      "\u001b[2K     \u001b[90m━━━━━━━━━━━━━━━━━━━━━━━━━━━━━━━━━━━━━━━━\u001b[0m \u001b[32m281.6/281.6 kB\u001b[0m \u001b[31m38.2 MB/s\u001b[0m eta \u001b[36m0:00:00\u001b[0m\n",
      "\u001b[?25hCollecting setproctitle (from wandb)\n",
      "  Downloading setproctitle-1.3.3-cp310-cp310-manylinux_2_5_x86_64.manylinux1_x86_64.manylinux_2_17_x86_64.manylinux2014_x86_64.whl (30 kB)\n",
      "Requirement already satisfied: setuptools in /usr/local/lib/python3.10/dist-packages (from wandb) (67.7.2)\n",
      "Requirement already satisfied: six>=1.4.0 in /usr/local/lib/python3.10/dist-packages (from docker-pycreds>=0.4.0->wandb) (1.16.0)\n",
      "Collecting gitdb<5,>=4.0.1 (from gitpython!=3.1.29,>=1.0.0->wandb)\n",
      "  Downloading gitdb-4.0.11-py3-none-any.whl (62 kB)\n",
      "\u001b[2K     \u001b[90m━━━━━━━━━━━━━━━━━━━━━━━━━━━━━━━━━━━━━━━━\u001b[0m \u001b[32m62.7/62.7 kB\u001b[0m \u001b[31m9.9 MB/s\u001b[0m eta \u001b[36m0:00:00\u001b[0m\n",
      "\u001b[?25hRequirement already satisfied: charset-normalizer<4,>=2 in /usr/local/lib/python3.10/dist-packages (from requests<3,>=2.0.0->wandb) (3.3.2)\n",
      "Requirement already satisfied: idna<4,>=2.5 in /usr/local/lib/python3.10/dist-packages (from requests<3,>=2.0.0->wandb) (3.7)\n",
      "Requirement already satisfied: urllib3<3,>=1.21.1 in /usr/local/lib/python3.10/dist-packages (from requests<3,>=2.0.0->wandb) (2.0.7)\n",
      "Requirement already satisfied: certifi>=2017.4.17 in /usr/local/lib/python3.10/dist-packages (from requests<3,>=2.0.0->wandb) (2024.2.2)\n",
      "Collecting smmap<6,>=3.0.1 (from gitdb<5,>=4.0.1->gitpython!=3.1.29,>=1.0.0->wandb)\n",
      "  Downloading smmap-5.0.1-py3-none-any.whl (24 kB)\n",
      "Installing collected packages: smmap, setproctitle, sentry-sdk, docker-pycreds, gitdb, gitpython, wandb\n",
      "Successfully installed docker-pycreds-0.4.0 gitdb-4.0.11 gitpython-3.1.43 sentry-sdk-2.2.1 setproctitle-1.3.3 smmap-5.0.1 wandb-0.17.0\n",
      "\u001b[34m\u001b[1mwandb\u001b[0m: Logging into wandb.ai. (Learn how to deploy a W&B server locally: https://wandb.me/wandb-server)\n",
      "\u001b[34m\u001b[1mwandb\u001b[0m: You can find your API key in your browser here: https://wandb.ai/authorize\n",
      "\u001b[34m\u001b[1mwandb\u001b[0m: Paste an API key from your profile and hit enter, or press ctrl+c to quit: \n",
      "\u001b[34m\u001b[1mwandb\u001b[0m: Appending key for api.wandb.ai to your netrc file: /root/.netrc\n"
     ]
    }
   ],
   "source": [
    "#!pip install --upgrade protobuf\n",
    "!pip install wandb\n",
    "!wandb login"
   ]
  },
  {
   "cell_type": "code",
   "execution_count": 44,
   "metadata": {
    "colab": {
     "base_uri": "https://localhost:8080/",
     "height": 206,
     "referenced_widgets": [
      "1787d6c8f74f4510a43bf4e7ad88fe45",
      "8421a145d2d14b4a9812a001c86a3e4d",
      "683412f67920462397e5de03f83e5f9c",
      "27b05f427eed4511bb350c505422509b",
      "14191fdcad5e4648ad1e3f9064f19a25",
      "02aa805974d34d95be0d0bd72faa79e4",
      "cf1d0f0981b44ccfbe29b1dbe1b9c457",
      "a64fb041e36c4cd190f766c054490f87"
     ]
    },
    "executionInfo": {
     "elapsed": 12176,
     "status": "ok",
     "timestamp": 1716395666470,
     "user": {
      "displayName": "李宜臻",
      "userId": "14334826498772536690"
     },
     "user_tz": -480
    },
    "id": "DEvaaVA55kgT",
    "outputId": "b3e68a4d-6976-4eec-b89d-01dccf783411"
   },
   "outputs": [
    {
     "name": "stderr",
     "output_type": "stream",
     "text": [
      "huggingface/tokenizers: The current process just got forked, after parallelism has already been used. Disabling parallelism to avoid deadlocks...\n",
      "To disable this warning, you can either:\n",
      "\t- Avoid using `tokenizers` before the fork if possible\n",
      "\t- Explicitly set the environment variable TOKENIZERS_PARALLELISM=(true | false)\n",
      "huggingface/tokenizers: The current process just got forked, after parallelism has already been used. Disabling parallelism to avoid deadlocks...\n",
      "To disable this warning, you can either:\n",
      "\t- Avoid using `tokenizers` before the fork if possible\n",
      "\t- Explicitly set the environment variable TOKENIZERS_PARALLELISM=(true | false)\n",
      "huggingface/tokenizers: The current process just got forked, after parallelism has already been used. Disabling parallelism to avoid deadlocks...\n",
      "To disable this warning, you can either:\n",
      "\t- Avoid using `tokenizers` before the fork if possible\n",
      "\t- Explicitly set the environment variable TOKENIZERS_PARALLELISM=(true | false)\n",
      "Failed to detect the name of this notebook, you can set it manually with the WANDB_NOTEBOOK_NAME environment variable to enable code saving.\n",
      "huggingface/tokenizers: The current process just got forked, after parallelism has already been used. Disabling parallelism to avoid deadlocks...\n",
      "To disable this warning, you can either:\n",
      "\t- Avoid using `tokenizers` before the fork if possible\n",
      "\t- Explicitly set the environment variable TOKENIZERS_PARALLELISM=(true | false)\n",
      "\u001b[34m\u001b[1mwandb\u001b[0m: Currently logged in as: \u001b[33mjiazhen_li\u001b[0m. Use \u001b[1m`wandb login --relogin`\u001b[0m to force relogin\n",
      "huggingface/tokenizers: The current process just got forked, after parallelism has already been used. Disabling parallelism to avoid deadlocks...\n",
      "To disable this warning, you can either:\n",
      "\t- Avoid using `tokenizers` before the fork if possible\n",
      "\t- Explicitly set the environment variable TOKENIZERS_PARALLELISM=(true | false)\n"
     ]
    },
    {
     "data": {
      "text/html": [
       "wandb version 0.17.0 is available!  To upgrade, please run:\n",
       " $ pip install wandb --upgrade"
      ],
      "text/plain": [
       "<IPython.core.display.HTML object>"
      ]
     },
     "metadata": {},
     "output_type": "display_data"
    },
    {
     "data": {
      "text/html": [
       "Tracking run with wandb version 0.16.3"
      ],
      "text/plain": [
       "<IPython.core.display.HTML object>"
      ]
     },
     "metadata": {},
     "output_type": "display_data"
    },
    {
     "data": {
      "text/html": [
       "Run data is saved locally in <code>/home/jiazhen/my-study/wandb/run-20240531_012520-my_TED_ZK5_zh_hanja_no_zy</code>"
      ],
      "text/plain": [
       "<IPython.core.display.HTML object>"
      ]
     },
     "metadata": {},
     "output_type": "display_data"
    },
    {
     "data": {
      "text/html": [
       "Syncing run <strong><a href='https://wandb.ai/jiazhen_li/Chinese-Korean-Translation/runs/my_TED_ZK5_zh_hanja_no_zy' target=\"_blank\">TED_ZK5_zh_hanja_no_zy</a></strong> to <a href='https://wandb.ai/jiazhen_li/Chinese-Korean-Translation' target=\"_blank\">Weights & Biases</a> (<a href='https://wandb.me/run' target=\"_blank\">docs</a>)<br/>"
      ],
      "text/plain": [
       "<IPython.core.display.HTML object>"
      ]
     },
     "metadata": {},
     "output_type": "display_data"
    },
    {
     "data": {
      "text/html": [
       " View project at <a href='https://wandb.ai/jiazhen_li/Chinese-Korean-Translation' target=\"_blank\">https://wandb.ai/jiazhen_li/Chinese-Korean-Translation</a>"
      ],
      "text/plain": [
       "<IPython.core.display.HTML object>"
      ]
     },
     "metadata": {},
     "output_type": "display_data"
    },
    {
     "data": {
      "text/html": [
       " View run at <a href='https://wandb.ai/jiazhen_li/Chinese-Korean-Translation/runs/my_TED_ZK5_zh_hanja_no_zy' target=\"_blank\">https://wandb.ai/jiazhen_li/Chinese-Korean-Translation/runs/my_TED_ZK5_zh_hanja_no_zy</a>"
      ],
      "text/plain": [
       "<IPython.core.display.HTML object>"
      ]
     },
     "metadata": {},
     "output_type": "display_data"
    },
    {
     "data": {
      "text/html": [
       "<button onClick=\"this.nextSibling.style.display='block';this.style.display='none';\">Display W&B run</button><iframe src='https://wandb.ai/jiazhen_li/Chinese-Korean-Translation/runs/my_TED_ZK5_zh_hanja_no_zy?jupyter=true' style='border:none;width:100%;height:420px;display:none;'></iframe>"
      ],
      "text/plain": [
       "<wandb.sdk.wandb_run.Run at 0x7ff092a20970>"
      ]
     },
     "execution_count": 44,
     "metadata": {},
     "output_type": "execute_result"
    }
   ],
   "source": [
    "import wandb\n",
    "import random\n",
    "\n",
    "# start a new wandb run to track this script\n",
    "wandb.init(\n",
    "    # set the wandb project where this run will be logged\n",
    "    project=\"Chinese-Korean-Translation\",\n",
    "    name=model_name,\n",
    "    id='my_{}'.format(model_name),\n",
    "    resume='allow',\n",
    "    # track hyperparameters and run metadata\n",
    "    config={\n",
    "    \"learning_rate\": 1e-4,\n",
    "    \"architecture\": \"BERT\",\n",
    "    \"dataset\": \"TEDTalks\",\n",
    "    \"epochs\": 100,\n",
    "    }\n",
    ")"
   ]
  },
  {
   "cell_type": "code",
   "execution_count": 45,
   "metadata": {
    "executionInfo": {
     "elapsed": 15,
     "status": "ok",
     "timestamp": 1716395666470,
     "user": {
      "displayName": "李宜臻",
      "userId": "14334826498772536690"
     },
     "user_tz": -480
    },
    "id": "7WyAXDtaXSmx"
   },
   "outputs": [],
   "source": [
    "best_loss = float('inf')\n",
    "#best_loss = 1.785\n",
    "#best_score = 15.344\n",
    "best_score = 0"
   ]
  },
  {
   "cell_type": "code",
   "execution_count": 46,
   "metadata": {
    "executionInfo": {
     "elapsed": 14,
     "status": "ok",
     "timestamp": 1716395666470,
     "user": {
      "displayName": "李宜臻",
      "userId": "14334826498772536690"
     },
     "user_tz": -480
    },
    "id": "YD4OaqdCXPa9"
   },
   "outputs": [],
   "source": [
    "train_losses = []\n",
    "test_losses = []"
   ]
  },
  {
   "cell_type": "code",
   "execution_count": 47,
   "metadata": {
    "colab": {
     "base_uri": "https://localhost:8080/"
    },
    "id": "UcHtMBVDXQVX",
    "outputId": "11e5946d-c970-48f5-9ad4-2fef76fc5e3a"
   },
   "outputs": [
    {
     "name": "stderr",
     "output_type": "stream",
     "text": [
      "100%|█████████████████████████████████████████████████████████████████████████████████████████████████████████████████████████████████████████████████████████████████| 38922/38922 [38:58<00:00, 16.65it/s]\n"
     ]
    },
    {
     "name": "stdout",
     "output_type": "stream",
     "text": [
      "Epoch 01 | Train Time: 38m 58s\n"
     ]
    },
    {
     "name": "stderr",
     "output_type": "stream",
     "text": [
      "100%|███████████████████████████████████████████████████████████████████████████████████████████████████████████████████████████████████████████████████████████████████| 9731/9731 [02:43<00:00, 59.45it/s]\n"
     ]
    },
    {
     "name": "stdout",
     "output_type": "stream",
     "text": [
      "Epoch 01 | Test Time: 2m 43s\n"
     ]
    },
    {
     "name": "stderr",
     "output_type": "stream",
     "text": [
      "100%|███████████████████████████████████████████████████████████████████████████████████████████████████████████████████████████████████████████████████████████████████| 2000/2000 [00:20<00:00, 99.58it/s]\n"
     ]
    },
    {
     "name": "stdout",
     "output_type": "stream",
     "text": [
      "i= 1996 ====================\n",
      "target_sentence 답은 간단합니다. \n",
      "generate: 그러지 않고 아이들의 좀 더 많은 기회를 줄 수는 없는?\n",
      "output tensor([[[  3.7052,  -6.3739,  -7.6084,  ...,  -1.2382,  -1.3851,  -6.6635],\n",
      "         [  1.5950,  -8.2688,  -8.4016,  ...,  -0.1290,  -0.8451,  -6.8859],\n",
      "         [  2.9997,  -8.8848,  -8.6477,  ...,  -0.7940,  -1.1553,  -5.5031],\n",
      "         ...,\n",
      "         [ 21.9727, -16.0081, -15.7200,  ...,  -6.8518,  -3.7553, -14.2780],\n",
      "         [ 22.4892, -16.1906, -15.8281,  ...,  -6.9183,  -3.7193, -14.2482],\n",
      "         [ 23.1715, -16.5289, -16.1946,  ...,  -7.0124,  -3.6966, -14.4690]]],\n",
      "       device='cuda:0')\n",
      "====================\n",
      "i= 1997 ====================\n",
      "target_sentence 감사합니다. \n",
      "generate: 안녕하세요 스,, 의 의\n",
      "output tensor([[[  4.3413,  -6.6942,  -7.9925,  ...,  -1.5404,  -1.4793,  -7.2535],\n",
      "         [ -1.8008,  -2.3368,  -2.1389,  ...,   4.5588,   3.9163,  -0.0296],\n",
      "         [  7.3559, -11.5143, -11.9075,  ...,  -1.4274,  -1.8904,  -8.9548],\n",
      "         ...,\n",
      "         [ 20.0661, -14.1361, -13.8533,  ...,  -6.6598,  -3.4111, -12.5162],\n",
      "         [ 20.2637, -13.9745, -13.6466,  ...,  -6.7885,  -3.4245, -12.2709],\n",
      "         [ 26.3354, -19.3005, -19.3062,  ...,  -6.2985,  -3.5339, -17.4458]]],\n",
      "       device='cuda:0')\n",
      "====================\n",
      "i= 1998 ====================\n",
      "target_sentence 하지만 그녀는 멈추지 않았습니다. \n",
      "generate: 저희 팀이 전 세계 상태로 병 위성 은 와 지 로 이 를 이 이 을 을 을 을..\n",
      "output tensor([[[  3.8864,  -7.6053,  -8.7635,  ...,  -1.3355,  -1.4834,  -7.2264],\n",
      "         [  2.6601,  -8.1212,  -8.3611,  ...,  -0.7217,   0.3901,  -5.2392],\n",
      "         [ -0.1581,  -3.4489,  -3.5290,  ...,  -0.9101,  -0.6677,  -2.0879],\n",
      "         ...,\n",
      "         [ 11.6751, -11.2412, -11.0602,  ...,  -5.2788,  -1.7051,  -9.2370],\n",
      "         [ 12.0743, -11.4252, -11.2145,  ...,  -5.3812,  -1.5102,  -9.2241],\n",
      "         [ 18.2610, -16.4696, -16.5870,  ...,  -4.6134,  -1.5279, -14.0747]]],\n",
      "       device='cuda:0')\n",
      "====================\n",
      "i= 1999 ====================\n",
      "target_sentence 제 목소리를 17년 동안 듣지 못했기 때문에 뒤돌아보고 이랬어요. \"하느님, 제 생각을 대체 누가 말하고 있는 겁니까?\" \n",
      "generate: 아니면 아래쪽 인가 요 - -\n",
      "output tensor([[[  3.4969,  -7.3520,  -8.5223,  ...,  -1.3803,  -1.5312,  -7.1567],\n",
      "         [  0.6186,  -8.0345,  -8.0429,  ...,   0.5334,  -0.3846,  -5.1385],\n",
      "         [ -0.8338,  -4.1323,  -3.9178,  ...,   1.7735,   0.0409,  -0.9459],\n",
      "         ...,\n",
      "         [ 19.2880, -16.6769, -16.4715,  ...,  -5.8974,  -3.0130, -14.4122],\n",
      "         [ 19.1096, -16.5514, -16.3141,  ...,  -5.8501,  -3.0819, -14.1822],\n",
      "         [ 20.8474, -16.8761, -16.9018,  ...,  -6.0753,  -3.7784, -14.6268]]],\n",
      "       device='cuda:0')\n",
      "====================\n",
      "Epoch 01 | Eval Time: 0m 20s\n",
      "== save model ==\n",
      "\tTrain Loss: 2.660 | Test Loss: 1.826\n",
      "\tBLEU Score:\n",
      "\t\tavg: 15.332\n",
      "\t\t1-gram: 72.414\n",
      "\t\t2-gram: 17.857\n",
      "\t\t3-gram: 11.111\n",
      "\t\t4-gram: 3.846\n",
      "{'avg': [15.3321956702153], '1-gram': [72.41379310344827], '2-gram': [17.857142857142858], '3-gram': [11.11111111111111], '4-gram': [3.8461538461538463]}\n"
     ]
    },
    {
     "name": "stderr",
     "output_type": "stream",
     "text": [
      "100%|█████████████████████████████████████████████████████████████████████████████████████████████████████████████████████████████████████████████████████████████████| 38922/38922 [38:58<00:00, 16.65it/s]\n"
     ]
    },
    {
     "name": "stdout",
     "output_type": "stream",
     "text": [
      "Epoch 02 | Train Time: 39m 4s\n"
     ]
    },
    {
     "name": "stderr",
     "output_type": "stream",
     "text": [
      "100%|███████████████████████████████████████████████████████████████████████████████████████████████████████████████████████████████████████████████████████████████████| 9731/9731 [02:42<00:00, 59.70it/s]\n"
     ]
    },
    {
     "name": "stdout",
     "output_type": "stream",
     "text": [
      "Epoch 02 | Test Time: 2m 42s\n"
     ]
    },
    {
     "name": "stderr",
     "output_type": "stream",
     "text": [
      "100%|██████████████████████████████████████████████████████████████████████████████████████████████████████████████████████████████████████████████████████████████████| 2000/2000 [00:19<00:00, 100.71it/s]"
     ]
    },
    {
     "name": "stdout",
     "output_type": "stream",
     "text": [
      "i= 1996 ====================\n",
      "target_sentence 저희는 유전자 프로그램을 컴퓨터로 옮겨서 \n",
      "generate: \n",
      "output tensor([[[  9.0550, -16.6748, -16.6370,  ...,  -5.7076,  -4.8205, -10.7301],\n",
      "         [  9.0550, -16.6748, -16.6370,  ...,  -5.7076,  -4.8205, -10.7301],\n",
      "         [  9.0550, -16.6748, -16.6370,  ...,  -5.7076,  -4.8205, -10.7301],\n",
      "         ...,\n",
      "         [  9.0550, -16.6748, -16.6370,  ...,  -5.7076,  -4.8205, -10.7301],\n",
      "         [  9.0550, -16.6748, -16.6370,  ...,  -5.7076,  -4.8205, -10.7301],\n",
      "         [  9.0550, -16.6748, -16.6370,  ...,  -5.7076,  -4.8205, -10.7301]]],\n",
      "       device='cuda:0')\n",
      "====================\n",
      "i= 1997 ====================\n",
      "target_sentence 양자 효과를 측정할 수 있는 장비는 무작위 난수를 끊임없이 빠른 속도로 생성할 수 있습니다. \n",
      "generate: \n",
      "output tensor([[[  9.0550, -16.6748, -16.6370,  ...,  -5.7076,  -4.8205, -10.7301],\n",
      "         [  9.0550, -16.6748, -16.6370,  ...,  -5.7076,  -4.8205, -10.7301],\n",
      "         [  9.0550, -16.6748, -16.6370,  ...,  -5.7076,  -4.8205, -10.7301],\n",
      "         ...,\n",
      "         [  9.0550, -16.6748, -16.6370,  ...,  -5.7076,  -4.8205, -10.7301],\n",
      "         [  9.0550, -16.6748, -16.6370,  ...,  -5.7076,  -4.8205, -10.7301],\n",
      "         [  9.0550, -16.6748, -16.6370,  ...,  -5.7076,  -4.8205, -10.7301]]],\n",
      "       device='cuda:0')\n",
      "====================\n",
      "i= 1998 ====================\n",
      "target_sentence 그 현실의 구멍이 나도 삼켜버릴 수 있지 않을까? \n",
      "generate: \n",
      "output tensor([[[  9.0550, -16.6748, -16.6370,  ...,  -5.7076,  -4.8205, -10.7301],\n",
      "         [  9.0550, -16.6748, -16.6370,  ...,  -5.7076,  -4.8205, -10.7301],\n",
      "         [  9.0550, -16.6748, -16.6370,  ...,  -5.7076,  -4.8205, -10.7301],\n",
      "         ...,\n",
      "         [  9.0550, -16.6748, -16.6370,  ...,  -5.7076,  -4.8205, -10.7301],\n",
      "         [  9.0550, -16.6748, -16.6370,  ...,  -5.7076,  -4.8205, -10.7301],\n",
      "         [  9.0550, -16.6748, -16.6370,  ...,  -5.7076,  -4.8205, -10.7301]]],\n",
      "       device='cuda:0')\n",
      "====================\n",
      "i= 1999 ====================\n",
      "target_sentence 한눈에 봐서는 어디까지가 오토바이고, 제임스의 다리는 어디서부터 시작되는지 알아차리기 힘들기 때문에 결과물은 꽤나 재미있습니다. \n",
      "generate: \n",
      "output tensor([[[  9.0550, -16.6748, -16.6370,  ...,  -5.7076,  -4.8205, -10.7301],\n",
      "         [  9.0550, -16.6748, -16.6370,  ...,  -5.7076,  -4.8205, -10.7301],\n",
      "         [  9.0550, -16.6748, -16.6370,  ...,  -5.7076,  -4.8205, -10.7301],\n",
      "         ...,\n",
      "         [  9.0550, -16.6748, -16.6370,  ...,  -5.7076,  -4.8205, -10.7301],\n",
      "         [  9.0550, -16.6748, -16.6370,  ...,  -5.7076,  -4.8205, -10.7301],\n",
      "         [  9.0550, -16.6748, -16.6370,  ...,  -5.7076,  -4.8205, -10.7301]]],\n",
      "       device='cuda:0')\n",
      "====================\n",
      "Epoch 02 | Eval Time: 0m 19s\n",
      "\tTrain Loss: 3.322 | Test Loss: 6.076\n",
      "\tBLEU Score:\n",
      "\t\tavg: 0.000\n",
      "\t\t1-gram: 0.000\n",
      "\t\t2-gram: 0.000\n",
      "\t\t3-gram: 0.000\n",
      "\t\t4-gram: 0.000\n"
     ]
    },
    {
     "name": "stderr",
     "output_type": "stream",
     "text": [
      "\n"
     ]
    },
    {
     "name": "stdout",
     "output_type": "stream",
     "text": [
      "{'avg': [15.3321956702153, 0.0], '1-gram': [72.41379310344827, 0.0], '2-gram': [17.857142857142858, 0.0], '3-gram': [11.11111111111111, 0.0], '4-gram': [3.8461538461538463, 0.0]}\n"
     ]
    },
    {
     "name": "stderr",
     "output_type": "stream",
     "text": [
      "100%|█████████████████████████████████████████████████████████████████████████████████████████████████████████████████████████████████████████████████████████████████| 38922/38922 [38:58<00:00, 16.64it/s]\n"
     ]
    },
    {
     "name": "stdout",
     "output_type": "stream",
     "text": [
      "Epoch 03 | Train Time: 39m 4s\n"
     ]
    },
    {
     "name": "stderr",
     "output_type": "stream",
     "text": [
      "100%|███████████████████████████████████████████████████████████████████████████████████████████████████████████████████████████████████████████████████████████████████| 9731/9731 [02:43<00:00, 59.42it/s]\n"
     ]
    },
    {
     "name": "stdout",
     "output_type": "stream",
     "text": [
      "Epoch 03 | Test Time: 2m 43s\n"
     ]
    },
    {
     "name": "stderr",
     "output_type": "stream",
     "text": [
      "100%|███████████████████████████████████████████████████████████████████████████████████████████████████████████████████████████████████████████████████████████████████| 2000/2000 [00:20<00:00, 98.32it/s]"
     ]
    },
    {
     "name": "stdout",
     "output_type": "stream",
     "text": [
      "i= 1996 ====================\n",
      "target_sentence 우리는 지난 10 년 동안 20 개국에 걸쳐 1,000 개의 노인 가구에서 연구를 실시했습니다. \n",
      "generate: 그러지 않고 아이들 에 좀 더 많은 기회를 줄 수는 것 걸까요\n",
      "output tensor([[[ -3.7030,  -7.3083,  -7.0779,  ...,   0.8622,  -2.8694,  -3.5425],\n",
      "         [ -2.2908,  -2.0552,  -1.9213,  ...,   3.1009,   1.5564,   3.5387],\n",
      "         [  0.7400,  -7.5329,  -7.4125,  ...,  -2.1243,  -2.6041,  -2.7402],\n",
      "         ...,\n",
      "         [ 19.7405, -10.7507, -10.6871,  ...,  -6.8473,  -5.3813,  -8.9233],\n",
      "         [ 20.3353,  -9.9936,  -9.9344,  ...,  -6.7936,  -5.4926,  -9.3408],\n",
      "         [ 21.6470,  -9.5034,  -9.3157,  ...,  -7.5889,  -5.3177,  -9.0468]]],\n",
      "       device='cuda:0')\n",
      "====================\n",
      "i= 1997 ====================\n",
      "target_sentence 1950년대에 밀러와 유레이는 화학적 세계에서 환상적인 화학적 프랑켄스타인 실험에 상응하는것을 했습니다 \n",
      "generate: 랙 스 는 사진, 비디오, 설치 미술 을 날려 드는 작업으로 오늘날 인도 의 스텐 아트 의 의 에 에 있다고..\n",
      "output tensor([[[ -3.1061,  -6.8851,  -6.8045,  ...,   0.8491,  -2.5922,  -3.1746],\n",
      "         [ -2.8799,  -2.6204,  -2.3353,  ...,   2.9543,   0.9680,   3.0026],\n",
      "         [  3.3928,  -9.2882,  -9.2740,  ...,  -2.4119,  -4.2252,  -4.1598],\n",
      "         ...,\n",
      "         [  7.6425, -10.8691, -10.8912,  ...,  -5.3725,  -4.6829,  -7.3718],\n",
      "         [  7.8276, -10.9386, -10.9179,  ...,  -5.5273,  -4.6894,  -7.3871],\n",
      "         [ 14.3857,  -9.7121, -10.0058,  ...,  -5.6462,  -4.4224,  -9.4465]]],\n",
      "       device='cuda:0')\n",
      "====================\n",
      "i= 1998 ====================\n",
      "target_sentence 잘 보시면 저기도 한 마리 있어요 \n",
      "generate: 저희 팀이 전 세계적 규모 대규모 인공 데이터 와 와 기반 기반 이용해 를 를 이 궁금 을 을 을.\n",
      "output tensor([[[ -2.8347,  -7.2732,  -7.1815,  ...,   1.3014,  -2.3596,  -3.2679],\n",
      "         [ -1.1320,  -4.7258,  -5.0339,  ...,  -1.6681,  -2.1543,   0.4974],\n",
      "         [  0.1145,  -4.3791,  -4.4130,  ...,  -0.4144,  -2.9443,  -0.9479],\n",
      "         ...,\n",
      "         [ 11.2017, -11.2408, -11.2023,  ...,  -6.0723,  -4.9220,  -7.7705],\n",
      "         [ 11.4078, -11.0415, -10.9945,  ...,  -6.1438,  -4.8401,  -7.6598],\n",
      "         [ 17.5623,  -9.6109,  -9.7813,  ...,  -6.6185,  -4.9545,  -9.9043]]],\n",
      "       device='cuda:0')\n",
      "====================\n",
      "i= 1999 ====================\n",
      "target_sentence 이제 어떻게 할 수 있을까요? \n",
      "generate: 아니면 아래쪽 인가 요 - -\n",
      "output tensor([[[ -3.2242,  -6.6650,  -6.4684,  ...,   0.6820,  -2.2632,  -3.0445],\n",
      "         [  1.4831,  -5.6455,  -5.2192,  ...,  -0.8239,  -0.2217,   1.2596],\n",
      "         [ -0.0856,  -2.9054,  -3.0589,  ...,  -0.1966,  -0.1276,   0.3709],\n",
      "         ...,\n",
      "         [ 20.8073, -10.2261, -10.1070,  ...,  -7.6591,  -4.2809,  -8.8320],\n",
      "         [ 20.7216, -10.2746, -10.1546,  ...,  -7.6214,  -4.3028,  -8.8174],\n",
      "         [ 21.2039, -10.0392,  -9.9182,  ...,  -7.6858,  -4.3464,  -8.9856]]],\n",
      "       device='cuda:0')\n",
      "====================\n",
      "Epoch 03 | Eval Time: 0m 20s\n",
      "\tTrain Loss: 1.506 | Test Loss: 1.214\n",
      "\tBLEU Score:\n",
      "\t\tavg: 13.172\n",
      "\t\t1-gram: 69.231\n",
      "\t\t2-gram: 12.000\n",
      "\t\t3-gram: 8.333\n",
      "\t\t4-gram: 4.348\n",
      "{'avg': [15.3321956702153, 0.0, 13.171730318749777], '1-gram': [72.41379310344827, 0.0, 69.23076923076923], '2-gram': [17.857142857142858, 0.0, 12.0], '3-gram': [11.11111111111111, 0.0, 8.333333333333334], '4-gram': [3.8461538461538463, 0.0, 4.3478260869565215]}\n"
     ]
    },
    {
     "name": "stderr",
     "output_type": "stream",
     "text": [
      "\n",
      "100%|█████████████████████████████████████████████████████████████████████████████████████████████████████████████████████████████████████████████████████████████████| 38922/38922 [39:00<00:00, 16.63it/s]\n"
     ]
    },
    {
     "name": "stdout",
     "output_type": "stream",
     "text": [
      "Epoch 04 | Train Time: 39m 5s\n"
     ]
    },
    {
     "name": "stderr",
     "output_type": "stream",
     "text": [
      "100%|███████████████████████████████████████████████████████████████████████████████████████████████████████████████████████████████████████████████████████████████████| 9731/9731 [02:44<00:00, 59.15it/s]\n"
     ]
    },
    {
     "name": "stdout",
     "output_type": "stream",
     "text": [
      "Epoch 04 | Test Time: 2m 44s\n"
     ]
    },
    {
     "name": "stderr",
     "output_type": "stream",
     "text": [
      "100%|███████████████████████████████████████████████████████████████████████████████████████████████████████████████████████████████████████████████████████████████████| 2000/2000 [00:20<00:00, 99.71it/s]\n"
     ]
    },
    {
     "name": "stdout",
     "output_type": "stream",
     "text": [
      "i= 1996 ====================\n",
      "target_sentence 그럼 이것이 우리에게 말해주는 것은 실제 장애물은 능력이 아니라는 겁니다. 그리고 상황이 아니예요. \n",
      "generate: 그러지 않고 아이들 에 좀 더 많은 기회를 줄 수는 없는 걸까요\n",
      "output tensor([[[ -6.3475,  -2.5465,  -2.5723,  ...,   5.1160,   0.3997,  -0.5699],\n",
      "         [ -3.0890,  -3.3215,  -3.2899,  ...,   3.0586,   1.1247,   1.0844],\n",
      "         [ -0.3203,  -6.9775,  -7.0572,  ...,  -5.1634,  -0.8603,  -6.3013],\n",
      "         ...,\n",
      "         [ 21.4703, -12.7116, -12.6997,  ..., -10.1003,  -5.7666, -10.9520],\n",
      "         [ 21.7204, -12.8061, -12.7847,  ..., -10.1610,  -5.8500, -10.9812],\n",
      "         [ 22.1511, -12.7672, -12.7307,  ..., -10.2632,  -5.9492, -11.0172]]],\n",
      "       device='cuda:0')\n",
      "====================\n",
      "i= 1997 ====================\n",
      "target_sentence 서로 만나본 적은 없지만, 이제 인터넷 상에서 친구로 지내는 단원들이 있습니다. \n",
      "generate: 랙 스 는 사진, 비디오, 설치 미술 을 넘나 드는 시작으로 오늘날 인도 의 스케줄 아트 의 선두 에 있다고..\n",
      "output tensor([[[ -6.0832,  -3.9766,  -4.0148,  ...,   4.4653,  -2.8945,  -2.1007],\n",
      "         [ -3.0608,  -4.0826,  -3.9102,  ...,   1.3988,   0.2896,   0.1747],\n",
      "         [  0.5509,  -8.5274,  -8.5373,  ...,  -1.7513,  -2.6605,  -4.6037],\n",
      "         ...,\n",
      "         [  9.9921, -10.8286, -10.7880,  ...,  -6.5732,  -4.9554,  -8.4983],\n",
      "         [ 10.0632, -10.8989, -10.8484,  ...,  -6.6160,  -4.8996,  -8.5216],\n",
      "         [ 16.8442,  -9.0227,  -9.0651,  ...,  -7.5983,  -5.6084, -10.7446]]],\n",
      "       device='cuda:0')\n",
      "====================\n",
      "i= 1998 ====================\n",
      "target_sentence 여러분은 이 위대한 \"삶\"을 선물받았습니다. 최선을 다해 삶을 풍요롭게 만들고 다시 돌려주세요. \n",
      "generate: 저희 팀이 전 세계적으로 규모로 인공 위성 데이터 와 지상 기반 테 를 를 이 궁금 증 을 을..\n",
      "output tensor([[[ -7.2842,  -1.5022,  -1.5714,  ...,   5.1271,  -0.4516,   0.8637],\n",
      "         [  0.6713,  -7.4569,  -7.5249,  ...,  -5.2647,   0.2864,  -5.4332],\n",
      "         [  0.3295,  -7.3192,  -7.4085,  ...,  -3.5209,  -0.9364,  -4.6450],\n",
      "         ...,\n",
      "         [  6.7031, -10.4496, -10.4333,  ...,  -5.9458,  -3.3551,  -7.6936],\n",
      "         [  6.8765, -10.3702, -10.3539,  ...,  -5.9782,  -3.3366,  -7.6895],\n",
      "         [ 14.8251,  -8.8202,  -9.0224,  ...,  -7.8100,  -4.6355, -10.5208]]],\n",
      "       device='cuda:0')\n",
      "====================\n",
      "i= 1999 ====================\n",
      "target_sentence 하지만 이러한 우리를 도와 이런 상태를 나아지게 할 기술들이 현재 존재합니다. \n",
      "generate: 아니면 아래쪽 인가 요 - -\n",
      "output tensor([[[ -6.6826,  -2.4524,  -2.5160,  ...,   4.9415,  -1.4602,  -0.6159],\n",
      "         [ -0.8727,  -6.3156,  -6.1974,  ...,   0.7910,  -1.1900,  -1.6293],\n",
      "         [ -2.0563,  -5.4828,  -5.5835,  ...,  -0.8854,  -1.4354,  -1.4812],\n",
      "         ...,\n",
      "         [ 21.4800, -12.2854, -12.2146,  ...,  -9.6285,  -6.3320, -10.6934],\n",
      "         [ 21.4404, -12.2926, -12.2157,  ...,  -9.5866,  -6.3587, -10.6689],\n",
      "         [ 21.9174, -12.3627, -12.2703,  ...,  -9.6217,  -6.3810, -10.8649]]],\n",
      "       device='cuda:0')\n",
      "====================\n",
      "Epoch 04 | Eval Time: 0m 20s\n",
      "== save model ==\n",
      "\tTrain Loss: 1.199 | Test Loss: 1.053\n",
      "\tBLEU Score:\n",
      "\t\tavg: 19.147\n",
      "\t\t1-gram: 68.000\n",
      "\t\t2-gram: 16.667\n",
      "\t\t3-gram: 13.043\n",
      "\t\t4-gram: 9.091\n",
      "{'avg': [15.3321956702153, 0.0, 13.171730318749775, 19.14650894456972], '1-gram': [72.41379310344827, 0.0, 69.23076923076923, 68.0], '2-gram': [17.857142857142858, 0.0, 12.0, 16.666666666666668], '3-gram': [11.11111111111111, 0.0, 8.333333333333334, 13.043478260869565], '4-gram': [3.8461538461538463, 0.0, 4.3478260869565215, 9.090909090909092]}\n"
     ]
    },
    {
     "name": "stderr",
     "output_type": "stream",
     "text": [
      "100%|█████████████████████████████████████████████████████████████████████████████████████████████████████████████████████████████████████████████████████████████████| 38922/38922 [39:01<00:00, 16.63it/s]\n"
     ]
    },
    {
     "name": "stdout",
     "output_type": "stream",
     "text": [
      "Epoch 05 | Train Time: 39m 6s\n"
     ]
    },
    {
     "name": "stderr",
     "output_type": "stream",
     "text": [
      "100%|███████████████████████████████████████████████████████████████████████████████████████████████████████████████████████████████████████████████████████████████████| 9731/9731 [02:44<00:00, 59.22it/s]\n"
     ]
    },
    {
     "name": "stdout",
     "output_type": "stream",
     "text": [
      "Epoch 05 | Test Time: 2m 44s\n"
     ]
    },
    {
     "name": "stderr",
     "output_type": "stream",
     "text": [
      "100%|███████████████████████████████████████████████████████████████████████████████████████████████████████████████████████████████████████████████████████████████████| 2000/2000 [00:20<00:00, 98.94it/s]\n"
     ]
    },
    {
     "name": "stdout",
     "output_type": "stream",
     "text": [
      "i= 1996 ====================\n",
      "target_sentence 그 중 90%는 전이로 인해 이 병에 굴복합니다. \n",
      "generate: \n",
      "output tensor([[[ 10.3662, -18.5242, -18.4950,  ...,  -6.7762,  -6.0314, -14.1299],\n",
      "         [ 10.3662, -18.5242, -18.4950,  ...,  -6.7762,  -6.0314, -14.1299],\n",
      "         [ 10.3662, -18.5242, -18.4950,  ...,  -6.7762,  -6.0314, -14.1299],\n",
      "         ...,\n",
      "         [ 10.3662, -18.5242, -18.4950,  ...,  -6.7762,  -6.0314, -14.1299],\n",
      "         [ 10.3662, -18.5242, -18.4950,  ...,  -6.7762,  -6.0314, -14.1299],\n",
      "         [ 10.3662, -18.5242, -18.4950,  ...,  -6.7762,  -6.0314, -14.1299]]],\n",
      "       device='cuda:0')\n",
      "====================\n",
      "i= 1997 ====================\n",
      "target_sentence 그의 가장 유명한 저서인 \"억압된 자의 교육학\"에서 그는 \"타인이 인간이 되고자 하는 것을 방해하는 자가 있다면 그는 진정한 인간이 될 수 없다\" 라고 언급합니다. \n",
      "generate: \n",
      "output tensor([[[ 10.3662, -18.5242, -18.4950,  ...,  -6.7762,  -6.0314, -14.1299],\n",
      "         [ 10.3662, -18.5242, -18.4950,  ...,  -6.7762,  -6.0314, -14.1299],\n",
      "         [ 10.3662, -18.5242, -18.4950,  ...,  -6.7762,  -6.0314, -14.1299],\n",
      "         ...,\n",
      "         [ 10.3662, -18.5242, -18.4950,  ...,  -6.7762,  -6.0314, -14.1299],\n",
      "         [ 10.3662, -18.5242, -18.4950,  ...,  -6.7762,  -6.0314, -14.1299],\n",
      "         [ 10.3662, -18.5242, -18.4950,  ...,  -6.7762,  -6.0314, -14.1299]]],\n",
      "       device='cuda:0')\n",
      "====================\n",
      "i= 1998 ====================\n",
      "target_sentence 이 문장들은 실제로 사람들이 단어를 하나 하나씩 해독하게 만든 난독증 체험에 대한 시뮬레이션입니다. \n",
      "generate: \n",
      "output tensor([[[ 10.3662, -18.5242, -18.4950,  ...,  -6.7762,  -6.0314, -14.1299],\n",
      "         [ 10.3662, -18.5242, -18.4950,  ...,  -6.7762,  -6.0314, -14.1299],\n",
      "         [ 10.3662, -18.5242, -18.4950,  ...,  -6.7762,  -6.0314, -14.1299],\n",
      "         ...,\n",
      "         [ 10.3662, -18.5242, -18.4950,  ...,  -6.7762,  -6.0314, -14.1299],\n",
      "         [ 10.3662, -18.5242, -18.4950,  ...,  -6.7762,  -6.0314, -14.1299],\n",
      "         [ 10.3662, -18.5242, -18.4950,  ...,  -6.7762,  -6.0314, -14.1299]]],\n",
      "       device='cuda:0')\n",
      "====================\n",
      "i= 1999 ====================\n",
      "target_sentence 왜 돈을 벌만큼 번 뒤에야 자선 사업을 하는 걸까요? \n",
      "generate: \n",
      "output tensor([[[ 10.3662, -18.5242, -18.4950,  ...,  -6.7762,  -6.0314, -14.1299],\n",
      "         [ 10.3662, -18.5242, -18.4950,  ...,  -6.7762,  -6.0314, -14.1299],\n",
      "         [ 10.3662, -18.5242, -18.4950,  ...,  -6.7762,  -6.0314, -14.1299],\n",
      "         ...,\n",
      "         [ 10.3662, -18.5242, -18.4950,  ...,  -6.7762,  -6.0314, -14.1299],\n",
      "         [ 10.3662, -18.5242, -18.4950,  ...,  -6.7762,  -6.0314, -14.1299],\n",
      "         [ 10.3662, -18.5242, -18.4950,  ...,  -6.7762,  -6.0314, -14.1299]]],\n",
      "       device='cuda:0')\n",
      "====================\n",
      "Epoch 05 | Eval Time: 0m 20s\n",
      "\tTrain Loss: 3.619 | Test Loss: 7.264\n",
      "\tBLEU Score:\n",
      "\t\tavg: 0.000\n",
      "\t\t1-gram: 0.000\n",
      "\t\t2-gram: 0.000\n",
      "\t\t3-gram: 0.000\n",
      "\t\t4-gram: 0.000\n",
      "{'avg': [15.3321956702153, 0.0, 13.171730318749775, 19.14650894456972, 0.0], '1-gram': [72.41379310344827, 0.0, 69.23076923076923, 68.0, 0.0], '2-gram': [17.857142857142858, 0.0, 12.0, 16.666666666666668, 0.0], '3-gram': [11.11111111111111, 0.0, 8.333333333333334, 13.043478260869565, 0.0], '4-gram': [3.8461538461538463, 0.0, 4.3478260869565215, 9.090909090909092, 0.0]}\n"
     ]
    },
    {
     "name": "stderr",
     "output_type": "stream",
     "text": [
      "100%|█████████████████████████████████████████████████████████████████████████████████████████████████████████████████████████████████████████████████████████████████| 38922/38922 [38:59<00:00, 16.64it/s]\n"
     ]
    },
    {
     "name": "stdout",
     "output_type": "stream",
     "text": [
      "Epoch 06 | Train Time: 39m 4s\n"
     ]
    },
    {
     "name": "stderr",
     "output_type": "stream",
     "text": [
      "100%|███████████████████████████████████████████████████████████████████████████████████████████████████████████████████████████████████████████████████████████████████| 9731/9731 [02:44<00:00, 59.27it/s]\n"
     ]
    },
    {
     "name": "stdout",
     "output_type": "stream",
     "text": [
      "Epoch 06 | Test Time: 2m 44s\n"
     ]
    },
    {
     "name": "stderr",
     "output_type": "stream",
     "text": [
      "100%|██████████████████████████████████████████████████████████████████████████████████████████████████████████████████████████████████████████████████████████████████▉| 1999/2000 [00:20<00:00, 97.85it/s]"
     ]
    },
    {
     "name": "stdout",
     "output_type": "stream",
     "text": [
      "i= 1996 ====================\n",
      "target_sentence 저는 이런 문제는 손 도 못대지만 제게는 날고 뛰는 연구 팀이 있지요. \n",
      "generate: 박수 박수 박수 박수 박수 박수 박수 박수 박수 박수 박수 박수 박수 박수 박수 박수 박수 박수 박수 박수 박수 박수 박수 박수 박수 박수 박수 박수 박수 박수 박수 박수\n",
      "output tensor([[[  5.8670, -14.2316, -14.3032,  ...,  -3.9283,  -4.1337, -10.7651],\n",
      "         [  5.8671, -14.2316, -14.3032,  ...,  -3.9283,  -4.1337, -10.7651],\n",
      "         [  5.8670, -14.2316, -14.3032,  ...,  -3.9283,  -4.1337, -10.7651],\n",
      "         ...,\n",
      "         [  5.8671, -14.2316, -14.3032,  ...,  -3.9283,  -4.1337, -10.7651],\n",
      "         [  5.8670, -14.2316, -14.3032,  ...,  -3.9283,  -4.1337, -10.7651],\n",
      "         [  5.8670, -14.2316, -14.3032,  ...,  -3.9283,  -4.1337, -10.7651]]],\n",
      "       device='cuda:0')\n",
      "====================\n",
      "i= 1997 ====================\n",
      "target_sentence 처음에 아니었지만, 가장 최악의 날이었습니다. \n",
      "generate: 박수 박수 박수 박수 박수 박수 박수 박수 박수 박수 박수 박수 박수 박수 박수 박수 박수 박수 박수 박수 박수 박수 박수 박수 박수 박수 박수 박수 박수 박수 박수 박수\n",
      "output tensor([[[  5.8671, -14.2316, -14.3032,  ...,  -3.9283,  -4.1337, -10.7651],\n",
      "         [  5.8671, -14.2316, -14.3032,  ...,  -3.9283,  -4.1337, -10.7651],\n",
      "         [  5.8671, -14.2316, -14.3032,  ...,  -3.9283,  -4.1337, -10.7651],\n",
      "         ...,\n",
      "         [  5.8670, -14.2316, -14.3032,  ...,  -3.9283,  -4.1337, -10.7651],\n",
      "         [  5.8670, -14.2316, -14.3032,  ...,  -3.9283,  -4.1337, -10.7651],\n",
      "         [  5.8670, -14.2316, -14.3032,  ...,  -3.9283,  -4.1337, -10.7651]]],\n",
      "       device='cuda:0')\n",
      "====================\n",
      "i= 1998 ====================\n",
      "target_sentence 그러므로 직접 만질 수 있으면 조작의 편이성 뿐만 아니라 내용을 더 깊게 이해할 수 있습니다. \n",
      "generate: 박수 박수 박수 박수 박수 박수 박수 박수 박수 박수 박수 박수 박수 박수 박수 박수 박수 박수 박수 박수 박수 박수 박수 박수 박수 박수 박수 박수 박수 박수 박수 박수\n",
      "output tensor([[[  5.8671, -14.2316, -14.3032,  ...,  -3.9283,  -4.1337, -10.7651],\n",
      "         [  5.8670, -14.2316, -14.3032,  ...,  -3.9283,  -4.1337, -10.7651],\n",
      "         [  5.8671, -14.2316, -14.3032,  ...,  -3.9283,  -4.1337, -10.7651],\n",
      "         ...,\n",
      "         [  5.8671, -14.2316, -14.3032,  ...,  -3.9283,  -4.1337, -10.7651],\n",
      "         [  5.8671, -14.2316, -14.3032,  ...,  -3.9283,  -4.1337, -10.7651],\n",
      "         [  5.8670, -14.2316, -14.3032,  ...,  -3.9283,  -4.1337, -10.7651]]],\n",
      "       device='cuda:0')\n",
      "====================\n",
      "i= 1999 ====================\n",
      "target_sentence 한 나흘 고생했는데, 이걸 어떻게 정리해야 할지 감이 안 잡히더군요. \n",
      "generate: 박수 박수 박수 박수 박수 박수 박수 박수 박수 박수 박수 박수 박수 박수 박수 박수 박수 박수 박수 박수 박수 박수 박수 박수 박수 박수 박수 박수 박수 박수 박수 박수\n",
      "output tensor([[[  5.8671, -14.2316, -14.3032,  ...,  -3.9283,  -4.1337, -10.7651],\n",
      "         [  5.8671, -14.2316, -14.3032,  ...,  -3.9283,  -4.1337, -10.7651],\n",
      "         [  5.8670, -14.2316, -14.3032,  ...,  -3.9283,  -4.1337, -10.7651],\n",
      "         ...,\n",
      "         [  5.8671, -14.2316, -14.3032,  ...,  -3.9283,  -4.1337, -10.7651],\n",
      "         [  5.8670, -14.2316, -14.3032,  ...,  -3.9283,  -4.1337, -10.7651],\n",
      "         [  5.8670, -14.2316, -14.3032,  ...,  -3.9283,  -4.1337, -10.7651]]],\n",
      "       device='cuda:0')\n",
      "====================\n"
     ]
    },
    {
     "name": "stderr",
     "output_type": "stream",
     "text": [
      "100%|███████████████████████████████████████████████████████████████████████████████████████████████████████████████████████████████████████████████████████████████████| 2000/2000 [00:20<00:00, 97.94it/s]\n"
     ]
    },
    {
     "name": "stdout",
     "output_type": "stream",
     "text": [
      "Epoch 06 | Eval Time: 0m 20s\n",
      "\tTrain Loss: 2.910 | Test Loss: 7.026\n",
      "\tBLEU Score:\n",
      "\t\tavg: 1.160\n",
      "\t\t1-gram: 3.125\n",
      "\t\t2-gram: 1.613\n",
      "\t\t3-gram: 0.833\n",
      "\t\t4-gram: 0.431\n",
      "{'avg': [15.3321956702153, 0.0, 13.171730318749775, 19.14650894456972, 0.0, 1.1599713834969503], '1-gram': [72.41379310344827, 0.0, 69.23076923076923, 68.0, 0.0, 3.125], '2-gram': [17.857142857142858, 0.0, 12.0, 16.666666666666668, 0.0, 1.6129032258064515], '3-gram': [11.11111111111111, 0.0, 8.333333333333334, 13.043478260869565, 0.0, 0.8333333333333334], '4-gram': [3.8461538461538463, 0.0, 4.3478260869565215, 9.090909090909092, 0.0, 0.43103448275862066]}\n"
     ]
    },
    {
     "name": "stderr",
     "output_type": "stream",
     "text": [
      "100%|█████████████████████████████████████████████████████████████████████████████████████████████████████████████████████████████████████████████████████████████████| 38922/38922 [39:04<00:00, 16.60it/s]\n"
     ]
    },
    {
     "name": "stdout",
     "output_type": "stream",
     "text": [
      "Epoch 07 | Train Time: 39m 8s\n"
     ]
    },
    {
     "name": "stderr",
     "output_type": "stream",
     "text": [
      "100%|███████████████████████████████████████████████████████████████████████████████████████████████████████████████████████████████████████████████████████████████████| 9731/9731 [02:43<00:00, 59.39it/s]\n"
     ]
    },
    {
     "name": "stdout",
     "output_type": "stream",
     "text": [
      "Epoch 07 | Test Time: 2m 43s\n"
     ]
    },
    {
     "name": "stderr",
     "output_type": "stream",
     "text": [
      "100%|███████████████████████████████████████████████████████████████████████████████████████████████████████████████████████████████████████████████████████████████████| 2000/2000 [00:20<00:00, 99.46it/s]\n"
     ]
    },
    {
     "name": "stdout",
     "output_type": "stream",
     "text": [
      "i= 1996 ====================\n",
      "target_sentence 1930년대말 쯤, 댐을 지은지 10년 후, 알라배마 북부의 사람들이 말라리아에 감염되기 시작했습니다. 거의 1/2~1/3의 사람들이 말라리아에 감염됐었지요. \n",
      "generate: 감사합니다 감사합니다 감사합니다 감사합니다 감사합니다 감사합니다 감사합니다 감사합니다 감사합니다 감사합니다 감사합니다 감사합니다 감사합니다 감사합니다 감사합니다 감사합니다 감사합니다 감사합니다 감사합니다 감사합니다 감사합니다 감사합니다 감사합니다 감사합니다 감사합니다 감사합니다 감사합니다 감사합니다 감사합니다 감사합니다 감사합니다 감사합니다\n",
      "output tensor([[[  3.7914, -13.4224, -13.4623,  ...,  -4.3425,  -3.8152, -12.2719],\n",
      "         [  3.7914, -13.4224, -13.4623,  ...,  -4.3425,  -3.8152, -12.2719],\n",
      "         [  3.7914, -13.4223, -13.4623,  ...,  -4.3425,  -3.8152, -12.2719],\n",
      "         ...,\n",
      "         [  3.7914, -13.4224, -13.4623,  ...,  -4.3425,  -3.8152, -12.2719],\n",
      "         [  3.7914, -13.4224, -13.4623,  ...,  -4.3425,  -3.8152, -12.2719],\n",
      "         [  3.7914, -13.4224, -13.4623,  ...,  -4.3425,  -3.8152, -12.2719]]],\n",
      "       device='cuda:0')\n",
      "====================\n",
      "i= 1997 ====================\n",
      "target_sentence (웃음) 자신이 극기주의를 잘 알고 있을 뿐만 아니라 자신의 가장 중요한 결정들 인생의 변곡점 신념과 정의를 위해 맞섰던 순간마다 극기주의나 두려움 설정하기와 비슷한 방법을 사용했다고 합니다. 그 말에 저는 깜짝 놀랐습니다. \n",
      "generate: 감사합니다 감사합니다 감사합니다 감사합니다 감사합니다 감사합니다 감사합니다 감사합니다 감사합니다 감사합니다 감사합니다 감사합니다 감사합니다 감사합니다 감사합니다 감사합니다 감사합니다 감사합니다 감사합니다 감사합니다 감사합니다 감사합니다 감사합니다 감사합니다 감사합니다 감사합니다 감사합니다 감사합니다 감사합니다 감사합니다 감사합니다 감사합니다\n",
      "output tensor([[[  3.7914, -13.4224, -13.4623,  ...,  -4.3425,  -3.8152, -12.2719],\n",
      "         [  3.7914, -13.4224, -13.4623,  ...,  -4.3425,  -3.8152, -12.2719],\n",
      "         [  3.7914, -13.4224, -13.4623,  ...,  -4.3425,  -3.8152, -12.2719],\n",
      "         ...,\n",
      "         [  3.7914, -13.4224, -13.4623,  ...,  -4.3425,  -3.8152, -12.2719],\n",
      "         [  3.7914, -13.4224, -13.4623,  ...,  -4.3425,  -3.8152, -12.2719],\n",
      "         [  3.7914, -13.4224, -13.4623,  ...,  -4.3425,  -3.8152, -12.2719]]],\n",
      "       device='cuda:0')\n",
      "====================\n",
      "i= 1998 ====================\n",
      "target_sentence 예를 들어, 빵집에 갔다고 해 봅시다. 뇌는 당신이 갓 구운 초코칩 쿠키의 달콤한 향을 맡게 될 거라고 예측할 수 있습니다. \n",
      "generate: 감사합니다 감사합니다 감사합니다 감사합니다 감사합니다 감사합니다 감사합니다 감사합니다 감사합니다 감사합니다 감사합니다 감사합니다 감사합니다 감사합니다 감사합니다 감사합니다 감사합니다 감사합니다 감사합니다 감사합니다 감사합니다 감사합니다 감사합니다 감사합니다 감사합니다 감사합니다 감사합니다 감사합니다 감사합니다 감사합니다 감사합니다 감사합니다\n",
      "output tensor([[[  3.7914, -13.4223, -13.4623,  ...,  -4.3425,  -3.8152, -12.2719],\n",
      "         [  3.7914, -13.4224, -13.4623,  ...,  -4.3425,  -3.8152, -12.2719],\n",
      "         [  3.7914, -13.4223, -13.4623,  ...,  -4.3425,  -3.8152, -12.2719],\n",
      "         ...,\n",
      "         [  3.7914, -13.4224, -13.4623,  ...,  -4.3425,  -3.8152, -12.2719],\n",
      "         [  3.7914, -13.4224, -13.4623,  ...,  -4.3425,  -3.8152, -12.2719],\n",
      "         [  3.7914, -13.4224, -13.4623,  ...,  -4.3425,  -3.8152, -12.2719]]],\n",
      "       device='cuda:0')\n",
      "====================\n",
      "i= 1999 ====================\n",
      "target_sentence 평생 제가 들어온 잘사는 방법이란 죄다 경쟁이었어요. 좋은 학교에 가라, 좋은 직업을 가져라, 1등 해라. 정말 끌리는 일은 한 번도 못 찾았어요. \n",
      "generate: 감사합니다 감사합니다 감사합니다 감사합니다 감사합니다 감사합니다 감사합니다 감사합니다 감사합니다 감사합니다 감사합니다 감사합니다 감사합니다 감사합니다 감사합니다 감사합니다 감사합니다 감사합니다 감사합니다 감사합니다 감사합니다 감사합니다 감사합니다 감사합니다 감사합니다 감사합니다 감사합니다 감사합니다 감사합니다 감사합니다 감사합니다 감사합니다\n",
      "output tensor([[[  3.7914, -13.4224, -13.4623,  ...,  -4.3425,  -3.8152, -12.2719],\n",
      "         [  3.7914, -13.4224, -13.4623,  ...,  -4.3425,  -3.8152, -12.2719],\n",
      "         [  3.7914, -13.4224, -13.4623,  ...,  -4.3425,  -3.8152, -12.2719],\n",
      "         ...,\n",
      "         [  3.7914, -13.4224, -13.4623,  ...,  -4.3425,  -3.8152, -12.2719],\n",
      "         [  3.7914, -13.4224, -13.4623,  ...,  -4.3425,  -3.8152, -12.2719],\n",
      "         [  3.7914, -13.4224, -13.4623,  ...,  -4.3425,  -3.8152, -12.2719]]],\n",
      "       device='cuda:0')\n",
      "====================\n",
      "Epoch 07 | Eval Time: 0m 20s\n",
      "\tTrain Loss: 4.835 | Test Loss: 8.568\n",
      "\tBLEU Score:\n",
      "\t\tavg: 1.527\n",
      "\t\t1-gram: 9.375\n",
      "\t\t2-gram: 1.613\n",
      "\t\t3-gram: 0.833\n",
      "\t\t4-gram: 0.431\n",
      "{'avg': [15.3321956702153, 0.0, 13.171730318749775, 19.14650894456972, 0.0, 1.1599713834969505, 1.526608193588886], '1-gram': [72.41379310344827, 0.0, 69.23076923076923, 68.0, 0.0, 3.125, 9.375], '2-gram': [17.857142857142858, 0.0, 12.0, 16.666666666666668, 0.0, 1.6129032258064515, 1.6129032258064515], '3-gram': [11.11111111111111, 0.0, 8.333333333333334, 13.043478260869565, 0.0, 0.8333333333333334, 0.8333333333333334], '4-gram': [3.8461538461538463, 0.0, 4.3478260869565215, 9.090909090909092, 0.0, 0.4310344827586206, 0.43103448275862066]}\n"
     ]
    },
    {
     "name": "stderr",
     "output_type": "stream",
     "text": [
      "100%|█████████████████████████████████████████████████████████████████████████████████████████████████████████████████████████████████████████████████████████████████| 38922/38922 [39:04<00:00, 16.60it/s]\n"
     ]
    },
    {
     "name": "stdout",
     "output_type": "stream",
     "text": [
      "Epoch 08 | Train Time: 39m 10s\n"
     ]
    },
    {
     "name": "stderr",
     "output_type": "stream",
     "text": [
      "100%|███████████████████████████████████████████████████████████████████████████████████████████████████████████████████████████████████████████████████████████████████| 9731/9731 [02:44<00:00, 59.31it/s]\n"
     ]
    },
    {
     "name": "stdout",
     "output_type": "stream",
     "text": [
      "Epoch 08 | Test Time: 2m 44s\n"
     ]
    },
    {
     "name": "stderr",
     "output_type": "stream",
     "text": [
      "100%|███████████████████████████████████████████████████████████████████████████████████████████████████████████████████████████████████████████████████████████████████| 2000/2000 [00:20<00:00, 99.05it/s]\n"
     ]
    },
    {
     "name": "stdout",
     "output_type": "stream",
     "text": [
      "i= 1996 ====================\n",
      "target_sentence 끝으로 우리는 백신과 진단 분야에서 발전된 연구 개발이 많이 필요합니다. \n",
      "generate: \n",
      "output tensor([[[  7.1352, -16.6968, -16.7348,  ...,  -8.0240,  -5.3983, -12.6083],\n",
      "         [  7.1352, -16.6968, -16.7348,  ...,  -8.0240,  -5.3983, -12.6083],\n",
      "         [  7.1352, -16.6968, -16.7348,  ...,  -8.0240,  -5.3983, -12.6083],\n",
      "         ...,\n",
      "         [  7.1352, -16.6968, -16.7348,  ...,  -8.0240,  -5.3983, -12.6083],\n",
      "         [  7.1352, -16.6968, -16.7348,  ...,  -8.0240,  -5.3983, -12.6083],\n",
      "         [  7.1352, -16.6968, -16.7348,  ...,  -8.0240,  -5.3983, -12.6083]]],\n",
      "       device='cuda:0')\n",
      "====================\n",
      "i= 1997 ====================\n",
      "target_sentence 심지어는 세계시장 가격도 고려할 수 있게 될 것입니다. \n",
      "generate: \n",
      "output tensor([[[  7.1352, -16.6968, -16.7348,  ...,  -8.0240,  -5.3983, -12.6083],\n",
      "         [  7.1352, -16.6968, -16.7348,  ...,  -8.0240,  -5.3983, -12.6083],\n",
      "         [  7.1352, -16.6968, -16.7348,  ...,  -8.0240,  -5.3983, -12.6083],\n",
      "         ...,\n",
      "         [  7.1352, -16.6968, -16.7348,  ...,  -8.0240,  -5.3983, -12.6083],\n",
      "         [  7.1352, -16.6968, -16.7348,  ...,  -8.0240,  -5.3983, -12.6083],\n",
      "         [  7.1352, -16.6968, -16.7348,  ...,  -8.0240,  -5.3983, -12.6083]]],\n",
      "       device='cuda:0')\n",
      "====================\n",
      "i= 1998 ====================\n",
      "target_sentence 이것은 세계 HIV양성 임산부 숫자의 20%에 달하는 숫자입니다. 무려 전세계 수치의 20%. \n",
      "generate: \n",
      "output tensor([[[  7.1352, -16.6968, -16.7348,  ...,  -8.0240,  -5.3983, -12.6083],\n",
      "         [  7.1352, -16.6968, -16.7348,  ...,  -8.0240,  -5.3983, -12.6083],\n",
      "         [  7.1352, -16.6968, -16.7348,  ...,  -8.0240,  -5.3983, -12.6083],\n",
      "         ...,\n",
      "         [  7.1352, -16.6968, -16.7348,  ...,  -8.0240,  -5.3983, -12.6083],\n",
      "         [  7.1352, -16.6968, -16.7348,  ...,  -8.0240,  -5.3983, -12.6083],\n",
      "         [  7.1352, -16.6968, -16.7348,  ...,  -8.0240,  -5.3983, -12.6083]]],\n",
      "       device='cuda:0')\n",
      "====================\n",
      "i= 1999 ====================\n",
      "target_sentence 이건 기적입니다. 이 기적은 우리의 몸과 마음, 우리의 세상, 우리의 그림, 우리의 생각 그리고 우리의 가름침, 배움을 전 세계적으로 그 어느 때보다 더 빠르게, 값싸게 퍼뜨렸습니다. \n",
      "generate: \n",
      "output tensor([[[  7.1352, -16.6968, -16.7348,  ...,  -8.0240,  -5.3983, -12.6083],\n",
      "         [  7.1352, -16.6968, -16.7348,  ...,  -8.0240,  -5.3983, -12.6083],\n",
      "         [  7.1352, -16.6968, -16.7348,  ...,  -8.0240,  -5.3983, -12.6083],\n",
      "         ...,\n",
      "         [  7.1352, -16.6968, -16.7348,  ...,  -8.0240,  -5.3983, -12.6083],\n",
      "         [  7.1352, -16.6968, -16.7348,  ...,  -8.0240,  -5.3983, -12.6083],\n",
      "         [  7.1352, -16.6968, -16.7348,  ...,  -8.0240,  -5.3983, -12.6083]]],\n",
      "       device='cuda:0')\n",
      "====================\n",
      "Epoch 08 | Eval Time: 0m 20s\n",
      "\tTrain Loss: 4.817 | Test Loss: 7.080\n",
      "\tBLEU Score:\n",
      "\t\tavg: 0.000\n",
      "\t\t1-gram: 0.000\n",
      "\t\t2-gram: 0.000\n",
      "\t\t3-gram: 0.000\n",
      "\t\t4-gram: 0.000\n",
      "{'avg': [15.3321956702153, 0.0, 13.171730318749775, 19.14650894456972, 0.0, 1.1599713834969505, 1.526608193588886, 0.0], '1-gram': [72.41379310344827, 0.0, 69.23076923076923, 68.0, 0.0, 3.125, 9.375, 0.0], '2-gram': [17.857142857142858, 0.0, 12.0, 16.666666666666668, 0.0, 1.6129032258064515, 1.6129032258064515, 0.0], '3-gram': [11.11111111111111, 0.0, 8.333333333333334, 13.043478260869565, 0.0, 0.8333333333333334, 0.8333333333333334, 0.0], '4-gram': [3.8461538461538463, 0.0, 4.3478260869565215, 9.090909090909092, 0.0, 0.4310344827586206, 0.4310344827586206, 0.0]}\n"
     ]
    },
    {
     "name": "stderr",
     "output_type": "stream",
     "text": [
      "100%|█████████████████████████████████████████████████████████████████████████████████████████████████████████████████████████████████████████████████████████████████| 38922/38922 [39:04<00:00, 16.60it/s]\n"
     ]
    },
    {
     "name": "stdout",
     "output_type": "stream",
     "text": [
      "Epoch 09 | Train Time: 39m 9s\n"
     ]
    },
    {
     "name": "stderr",
     "output_type": "stream",
     "text": [
      "100%|███████████████████████████████████████████████████████████████████████████████████████████████████████████████████████████████████████████████████████████████████| 9731/9731 [02:45<00:00, 58.93it/s]\n"
     ]
    },
    {
     "name": "stdout",
     "output_type": "stream",
     "text": [
      "Epoch 09 | Test Time: 2m 45s\n"
     ]
    },
    {
     "name": "stderr",
     "output_type": "stream",
     "text": [
      "100%|███████████████████████████████████████████████████████████████████████████████████████████████████████████████████████████████████████████████████████████████████| 2000/2000 [00:20<00:00, 98.32it/s]\n"
     ]
    },
    {
     "name": "stdout",
     "output_type": "stream",
     "text": [
      "i= 1996 ====================\n",
      "target_sentence 정말로 빨리 커피를 찾을 수 있죠. \n",
      "generate: 그러지 않고 아이들 에 더 더 많은 기회를 줄 수는 걸까요 걸까요\n",
      "output tensor([[[ -9.5067,  -2.2614,  -2.3835,  ...,   3.9018,   0.9367,  -0.8321],\n",
      "         [ -1.1870,  -3.8420,  -3.8754,  ...,   1.5600,  -0.2240,  -0.1096],\n",
      "         [  0.0658,  -8.5826,  -8.5858,  ...,  -5.0423,  -3.7966,  -5.4781],\n",
      "         ...,\n",
      "         [ 20.8807, -16.8436, -16.8293,  ..., -11.6760,  -8.8826, -14.1719],\n",
      "         [ 20.8046, -16.8570, -16.8394,  ..., -11.6252,  -8.9643, -14.1654],\n",
      "         [ 21.0518, -16.8769, -16.8568,  ..., -11.7534,  -8.8647, -14.3319]]],\n",
      "       device='cuda:0')\n",
      "====================\n",
      "i= 1997 ====================\n",
      "target_sentence 했죠. 그러니까 \"그럼, 담임선생님께 사인 한 장 받아 올래?\" 그러시잖아요. \"네가 여기 와도 된다는 건데 그럼 가르쳐주마.\" \n",
      "generate: 랙 스 는 사진, 비디오, 설치 미술 을 넘나 드는 작업으로 오늘날 인도 의 스케줄 아트 의 선두 에 있다고 있다고.\n",
      "output tensor([[[ -7.5953,  -3.0327,  -3.1290,  ...,   2.3999,   0.0330,  -1.2119],\n",
      "         [ -0.6766,  -2.4376,  -2.3725,  ...,   0.9803,   3.6514,   2.3538],\n",
      "         [  2.4397,  -6.9986,  -7.0118,  ...,  -2.0228,  -1.1935,  -3.2036],\n",
      "         ...,\n",
      "         [  7.0916, -11.1159, -11.1304,  ...,  -6.0589,  -4.4604,  -7.6796],\n",
      "         [  7.2582, -11.1802, -11.1974,  ...,  -6.0453,  -4.6178,  -7.7356],\n",
      "         [ 13.6363, -12.2437, -12.4004,  ...,  -7.4124,  -6.6241, -11.1860]]],\n",
      "       device='cuda:0')\n",
      "====================\n",
      "i= 1998 ====================\n",
      "target_sentence 제가 학생들이게 보여주고 싶은 것 중 하나랍니다. 왜냐하면 하나의 완벽한 신고식이기 때문입니다. 관점에 대한 그 어떤 법칙도 무시해 버리죠. \n",
      "generate: 저희 팀이 전 세계 규모로 인공 위성 데이터 와 지상 기반 데이터를 를 이 이 이 증 을 을 을....\n",
      "output tensor([[[-10.7174,  -2.4129,  -2.4617,  ...,   4.0743,   1.1531,  -0.5574],\n",
      "         [  0.1422,  -6.9089,  -6.9358,  ...,  -1.2763,  -0.6700,  -4.7679],\n",
      "         [ -0.3961,  -5.1736,  -5.1505,  ...,   3.0451,   1.9600,  -2.3153],\n",
      "         ...,\n",
      "         [  5.4858, -11.7942, -11.7886,  ...,  -5.8618,  -5.1397,  -8.0894],\n",
      "         [  5.4865, -11.8356, -11.8264,  ...,  -5.9478,  -5.1730,  -8.1691],\n",
      "         [ 12.7714, -12.6532, -12.8113,  ...,  -7.0818,  -7.2157, -11.5195]]],\n",
      "       device='cuda:0')\n",
      "====================\n",
      "i= 1999 ====================\n",
      "target_sentence 여기 이 캐릭터는 어떤 힘에 의해 날아갑니다. 몸이 공중에 떠있는 것을 느끼게 되고 떨어지는 방향으로 팔을 뻗게 됩니다. \n",
      "generate: 아니면 아래쪽 인가 요 - -\n",
      "output tensor([[[ -9.2213,  -4.6656,  -4.7817,  ...,   3.6543,  -0.6619,  -2.8490],\n",
      "         [  1.1202,  -8.7489,  -8.6643,  ...,  -4.4622,  -5.0821,  -4.7037],\n",
      "         [ -0.8637,  -4.7177,  -4.6721,  ...,   0.6935,  -0.6528,  -1.0052],\n",
      "         ...,\n",
      "         [ 18.0387, -16.2482, -16.2359,  ..., -10.5358,  -8.5111, -13.8436],\n",
      "         [ 18.0431, -16.2536, -16.2450,  ..., -10.5794,  -8.5043, -13.8747],\n",
      "         [ 18.9834, -16.5632, -16.6354,  ..., -10.6323,  -8.7358, -14.5715]]],\n",
      "       device='cuda:0')\n",
      "====================\n",
      "Epoch 09 | Eval Time: 0m 20s\n",
      "\tTrain Loss: 1.058 | Test Loss: 1.061\n",
      "\tBLEU Score:\n",
      "\t\tavg: 13.335\n",
      "\t\t1-gram: 64.000\n",
      "\t\t2-gram: 12.500\n",
      "\t\t3-gram: 8.696\n",
      "\t\t4-gram: 4.545\n",
      "{'avg': [15.3321956702153, 0.0, 13.171730318749775, 19.14650894456972, 0.0, 1.1599713834969505, 1.526608193588886, 0.0, 13.334979932109189], '1-gram': [72.41379310344827, 0.0, 69.23076923076923, 68.0, 0.0, 3.125, 9.375, 0.0, 64.0], '2-gram': [17.857142857142858, 0.0, 12.0, 16.666666666666668, 0.0, 1.6129032258064515, 1.6129032258064515, 0.0, 12.5], '3-gram': [11.11111111111111, 0.0, 8.333333333333334, 13.043478260869565, 0.0, 0.8333333333333334, 0.8333333333333334, 0.0, 8.695652173913043], '4-gram': [3.8461538461538463, 0.0, 4.3478260869565215, 9.090909090909092, 0.0, 0.4310344827586206, 0.4310344827586206, 0.0, 4.545454545454546]}\n"
     ]
    },
    {
     "name": "stderr",
     "output_type": "stream",
     "text": [
      "100%|█████████████████████████████████████████████████████████████████████████████████████████████████████████████████████████████████████████████████████████████████| 38922/38922 [39:05<00:00, 16.60it/s]\n"
     ]
    },
    {
     "name": "stdout",
     "output_type": "stream",
     "text": [
      "Epoch 10 | Train Time: 39m 10s\n"
     ]
    },
    {
     "name": "stderr",
     "output_type": "stream",
     "text": [
      "100%|███████████████████████████████████████████████████████████████████████████████████████████████████████████████████████████████████████████████████████████████████| 9731/9731 [02:44<00:00, 59.32it/s]\n"
     ]
    },
    {
     "name": "stdout",
     "output_type": "stream",
     "text": [
      "Epoch 10 | Test Time: 2m 44s\n"
     ]
    },
    {
     "name": "stderr",
     "output_type": "stream",
     "text": [
      "100%|███████████████████████████████████████████████████████████████████████████████████████████████████████████████████████████████████████████████████████████████████| 2000/2000 [00:20<00:00, 99.58it/s]"
     ]
    },
    {
     "name": "stdout",
     "output_type": "stream",
     "text": [
      "i= 1996 ====================\n",
      "target_sentence 그리고 이것이 리차드 도킨스가 1976년에 쓴 베스트 셀러, \"이기적 유전자\"에서 설명한 것이죠. \n",
      "generate: \n",
      "output tensor([[[ 11.1381, -16.9623, -16.9697,  ...,  -4.8253,  -4.8394,  -7.5800],\n",
      "         [ 11.1381, -16.9623, -16.9697,  ...,  -4.8253,  -4.8394,  -7.5800],\n",
      "         [ 11.1381, -16.9623, -16.9697,  ...,  -4.8253,  -4.8394,  -7.5800],\n",
      "         ...,\n",
      "         [ 11.1381, -16.9623, -16.9697,  ...,  -4.8253,  -4.8394,  -7.5800],\n",
      "         [ 11.1381, -16.9623, -16.9697,  ...,  -4.8253,  -4.8394,  -7.5800],\n",
      "         [ 11.1381, -16.9623, -16.9697,  ...,  -4.8253,  -4.8394,  -7.5800]]],\n",
      "       device='cuda:0')\n",
      "====================\n",
      "i= 1997 ====================\n",
      "target_sentence 하지만 현재의 장소에 따라 경계 수준을 조정하는 훈련을 하죠. \n",
      "generate: \n",
      "output tensor([[[ 11.1381, -16.9623, -16.9697,  ...,  -4.8253,  -4.8394,  -7.5800],\n",
      "         [ 11.1381, -16.9623, -16.9697,  ...,  -4.8253,  -4.8394,  -7.5800],\n",
      "         [ 11.1381, -16.9623, -16.9697,  ...,  -4.8253,  -4.8394,  -7.5800],\n",
      "         ...,\n",
      "         [ 11.1381, -16.9623, -16.9697,  ...,  -4.8253,  -4.8394,  -7.5800],\n",
      "         [ 11.1381, -16.9623, -16.9697,  ...,  -4.8253,  -4.8394,  -7.5800],\n",
      "         [ 11.1381, -16.9623, -16.9697,  ...,  -4.8253,  -4.8394,  -7.5800]]],\n",
      "       device='cuda:0')\n",
      "====================\n",
      "i= 1998 ====================\n",
      "target_sentence 제가 완전히 놓치고 있었어요. \n",
      "generate: \n",
      "output tensor([[[ 11.1381, -16.9623, -16.9697,  ...,  -4.8253,  -4.8394,  -7.5800],\n",
      "         [ 11.1381, -16.9623, -16.9697,  ...,  -4.8253,  -4.8394,  -7.5800],\n",
      "         [ 11.1381, -16.9623, -16.9697,  ...,  -4.8253,  -4.8394,  -7.5800],\n",
      "         ...,\n",
      "         [ 11.1381, -16.9623, -16.9697,  ...,  -4.8253,  -4.8394,  -7.5800],\n",
      "         [ 11.1381, -16.9623, -16.9697,  ...,  -4.8253,  -4.8394,  -7.5800],\n",
      "         [ 11.1381, -16.9623, -16.9697,  ...,  -4.8253,  -4.8394,  -7.5800]]],\n",
      "       device='cuda:0')\n",
      "====================\n",
      "i= 1999 ====================\n",
      "target_sentence 뇌세포는 약해지거나 심지어 죽기도 합니다. \n",
      "generate: \n",
      "output tensor([[[ 11.1381, -16.9623, -16.9697,  ...,  -4.8253,  -4.8394,  -7.5800],\n",
      "         [ 11.1381, -16.9623, -16.9697,  ...,  -4.8253,  -4.8394,  -7.5800],\n",
      "         [ 11.1381, -16.9623, -16.9697,  ...,  -4.8253,  -4.8394,  -7.5800],\n",
      "         ...,\n",
      "         [ 11.1381, -16.9623, -16.9697,  ...,  -4.8253,  -4.8394,  -7.5800],\n",
      "         [ 11.1381, -16.9623, -16.9697,  ...,  -4.8253,  -4.8394,  -7.5800],\n",
      "         [ 11.1381, -16.9623, -16.9697,  ...,  -4.8253,  -4.8394,  -7.5800]]],\n",
      "       device='cuda:0')\n",
      "====================\n",
      "Epoch 10 | Eval Time: 0m 20s\n",
      "\tTrain Loss: 4.148 | Test Loss: 7.280\n",
      "\tBLEU Score:\n",
      "\t\tavg: 0.000\n",
      "\t\t1-gram: 0.000\n",
      "\t\t2-gram: 0.000\n",
      "\t\t3-gram: 0.000\n",
      "\t\t4-gram: 0.000\n"
     ]
    },
    {
     "name": "stderr",
     "output_type": "stream",
     "text": [
      "\n"
     ]
    },
    {
     "name": "stdout",
     "output_type": "stream",
     "text": [
      "{'avg': [15.3321956702153, 0.0, 13.171730318749775, 19.14650894456972, 0.0, 1.1599713834969505, 1.526608193588886, 0.0, 13.334979932109189, 0.0], '1-gram': [72.41379310344827, 0.0, 69.23076923076923, 68.0, 0.0, 3.125, 9.375, 0.0, 64.0, 0.0], '2-gram': [17.857142857142858, 0.0, 12.0, 16.666666666666668, 0.0, 1.6129032258064515, 1.6129032258064515, 0.0, 12.5, 0.0], '3-gram': [11.11111111111111, 0.0, 8.333333333333334, 13.043478260869565, 0.0, 0.8333333333333334, 0.8333333333333334, 0.0, 8.695652173913043, 0.0], '4-gram': [3.8461538461538463, 0.0, 4.3478260869565215, 9.090909090909092, 0.0, 0.4310344827586206, 0.4310344827586206, 0.0, 4.545454545454546, 0.0]}\n"
     ]
    },
    {
     "name": "stderr",
     "output_type": "stream",
     "text": [
      "100%|█████████████████████████████████████████████████████████████████████████████████████████████████████████████████████████████████████████████████████████████████| 38922/38922 [39:04<00:00, 16.60it/s]\n"
     ]
    },
    {
     "name": "stdout",
     "output_type": "stream",
     "text": [
      "Epoch 11 | Train Time: 39m 10s\n"
     ]
    },
    {
     "name": "stderr",
     "output_type": "stream",
     "text": [
      "100%|███████████████████████████████████████████████████████████████████████████████████████████████████████████████████████████████████████████████████████████████████| 9731/9731 [02:44<00:00, 59.28it/s]\n"
     ]
    },
    {
     "name": "stdout",
     "output_type": "stream",
     "text": [
      "Epoch 11 | Test Time: 2m 44s\n"
     ]
    },
    {
     "name": "stderr",
     "output_type": "stream",
     "text": [
      "100%|███████████████████████████████████████████████████████████████████████████████████████████████████████████████████████████████████████████████████████████████████| 2000/2000 [00:20<00:00, 99.21it/s]"
     ]
    },
    {
     "name": "stdout",
     "output_type": "stream",
     "text": [
      "i= 1996 ====================\n",
      "target_sentence 사람들은, \"멋진 바퀴군, 친구! 정말 멋져!\" \n",
      "generate: 그러지 않고 아이들 에 좀 더 많은 기회를 줄 수는 없는 걸까요?\n",
      "output tensor([[[ -2.0559,  -5.9548,  -5.8824,  ...,  -0.0298,  -2.1093,  -3.6231],\n",
      "         [ -1.9479,  -4.7062,  -4.7194,  ...,   0.2632,   1.1295,  -0.0464],\n",
      "         [  0.4630,  -9.1923,  -9.1551,  ...,  -5.1574,  -4.4958,  -5.4479],\n",
      "         ...,\n",
      "         [ 20.6945, -15.5774, -15.5320,  ...,  -9.8766,  -8.0076, -11.8286],\n",
      "         [ 20.8296, -15.5788, -15.5303,  ...,  -9.9426,  -7.9019, -11.8417],\n",
      "         [ 20.8946, -15.4587, -15.4088,  ...,  -9.8957,  -7.7172, -11.8103]]],\n",
      "       device='cuda:0')\n",
      "====================\n",
      "i= 1997 ====================\n",
      "target_sentence 여러분은 치안, 사법, 교육, 의료, 복지 그 어느 것도 책임지고 있지 않았습니다. \n",
      "generate: 랙 스 는 사진, 비디오, 설치 미술 을 넘나 드는 작업으로 오늘날 인도 의 시너지 아트 의 선두 에 있다고 있다고.\n",
      "output tensor([[[ -4.1743,  -5.1476,  -5.0344,  ...,   1.2729,  -1.7618,  -3.3591],\n",
      "         [ -0.7136,  -1.6191,  -1.5329,  ...,   2.6323,   3.9626,   1.7477],\n",
      "         [  3.0904, -10.6892, -10.7307,  ...,  -4.2656,  -5.5547,  -7.6773],\n",
      "         ...,\n",
      "         [ 10.3588, -13.5489, -13.4840,  ...,  -8.5098,  -4.8941,  -9.5012],\n",
      "         [ 10.5200, -13.4885, -13.4188,  ...,  -8.4789,  -4.8204,  -9.3255],\n",
      "         [ 15.6428, -13.1623, -13.1535,  ...,  -8.6085,  -4.9871, -10.7571]]],\n",
      "       device='cuda:0')\n",
      "====================\n",
      "i= 1998 ====================\n",
      "target_sentence 그는 캐롤과 결혼해서, 좋은 부부관계를 가졌습니다. \n",
      "generate: 저희 팀이 전 세계적 규모로 인공 위성 데이터 와 와 상한 한 사용해 사용해 이 증 증 을..\n",
      "output tensor([[[ -2.6115,  -5.5906,  -5.5078,  ...,   0.8778,  -2.2540,  -3.3258],\n",
      "         [  1.3708,  -7.6187,  -7.5876,  ...,  -2.5781,  -2.5629,  -4.0534],\n",
      "         [  0.4652,  -8.0060,  -7.9366,  ...,  -1.4959,  -0.9679,  -3.6923],\n",
      "         ...,\n",
      "         [  9.9544, -12.6216, -12.5807,  ...,  -7.0179,  -5.5394,  -8.8218],\n",
      "         [ 10.0704, -12.7045, -12.6611,  ...,  -7.0570,  -5.4418,  -8.9200],\n",
      "         [ 14.7275, -12.7488, -12.7553,  ...,  -7.8728,  -5.4735, -10.4365]]],\n",
      "       device='cuda:0')\n",
      "====================\n",
      "i= 1999 ====================\n",
      "target_sentence 처음에는 라틴어에서 불어로 옮아갔는데, 불어에서 \"buh\"의 음가를 갖는 \"b\"가 없어졌어요. \n",
      "generate: 아니면 아래쪽 인가 요 - -\n",
      "output tensor([[[ -3.5379,  -5.7271,  -5.6672,  ...,   0.6584,  -3.7334,  -4.5917],\n",
      "         [ -0.2043,  -7.7067,  -7.6483,  ...,  -2.7155,  -2.4940,  -2.9900],\n",
      "         [ -2.6267,  -1.2349,  -1.2882,  ...,   2.8866,   2.5422,   2.4942],\n",
      "         ...,\n",
      "         [ 15.2829, -15.3731, -15.3139,  ...,  -8.7876,  -8.3751, -11.6278],\n",
      "         [ 15.2858, -15.3774, -15.3148,  ...,  -8.7374,  -8.5099, -11.6573],\n",
      "         [ 16.5293, -16.0990, -16.1101,  ..., -10.1084,  -8.7277, -13.0876]]],\n",
      "       device='cuda:0')\n",
      "====================\n",
      "Epoch 11 | Eval Time: 0m 20s\n",
      "\tTrain Loss: 1.067 | Test Loss: 1.048\n",
      "\tBLEU Score:\n",
      "\t\tavg: 12.790\n",
      "\t\t1-gram: 61.538\n",
      "\t\t2-gram: 12.000\n",
      "\t\t3-gram: 8.333\n",
      "\t\t4-gram: 4.348\n",
      "{'avg': [15.3321956702153, 0.0, 13.171730318749775, 19.14650894456972, 0.0, 1.1599713834969505, 1.526608193588886, 0.0, 13.334979932109189, 0.0, 12.789533377801794], '1-gram': [72.41379310344827, 0.0, 69.23076923076923, 68.0, 0.0, 3.125, 9.375, 0.0, 64.0, 0.0, 61.53846153846154], '2-gram': [17.857142857142858, 0.0, 12.0, 16.666666666666668, 0.0, 1.6129032258064515, 1.6129032258064515, 0.0, 12.5, 0.0, 12.0], '3-gram': [11.11111111111111, 0.0, 8.333333333333334, 13.043478260869565, 0.0, 0.8333333333333334, 0.8333333333333334, 0.0, 8.695652173913043, 0.0, 8.333333333333334], '4-gram': [3.8461538461538463, 0.0, 4.3478260869565215, 9.090909090909092, 0.0, 0.4310344827586206, 0.4310344827586206, 0.0, 4.545454545454546, 0.0, 4.3478260869565215]}\n"
     ]
    },
    {
     "name": "stderr",
     "output_type": "stream",
     "text": [
      "\n",
      "100%|█████████████████████████████████████████████████████████████████████████████████████████████████████████████████████████████████████████████████████████████████| 38922/38922 [39:05<00:00, 16.60it/s]\n"
     ]
    },
    {
     "name": "stdout",
     "output_type": "stream",
     "text": [
      "Epoch 12 | Train Time: 39m 11s\n"
     ]
    },
    {
     "name": "stderr",
     "output_type": "stream",
     "text": [
      "100%|███████████████████████████████████████████████████████████████████████████████████████████████████████████████████████████████████████████████████████████████████| 9731/9731 [02:43<00:00, 59.51it/s]\n"
     ]
    },
    {
     "name": "stdout",
     "output_type": "stream",
     "text": [
      "Epoch 12 | Test Time: 2m 43s\n"
     ]
    },
    {
     "name": "stderr",
     "output_type": "stream",
     "text": [
      "100%|███████████████████████████████████████████████████████████████████████████████████████████████████████████████████████████████████████████████████████████████████| 2000/2000 [00:20<00:00, 99.95it/s]\n"
     ]
    },
    {
     "name": "stdout",
     "output_type": "stream",
     "text": [
      "i= 1996 ====================\n",
      "target_sentence 저것은 런던에 있는 센터포인트 입니다. \n",
      "generate: 그러지 않고 아이들 에 좀 더 많은 기회를 줄 수는 없는 걸까요?\n",
      "output tensor([[[ -0.0395,  -5.7890,  -5.7261,  ...,  -0.5434,  -3.2193,  -2.9447],\n",
      "         [  0.2345,  -5.2065,  -5.3187,  ...,  -0.3268,   0.3088,   0.6021],\n",
      "         [  0.0536,  -8.2710,  -8.2859,  ...,  -5.4835,  -3.5139,  -2.5510],\n",
      "         ...,\n",
      "         [ 20.2669, -17.6115, -17.6155,  ..., -10.9828,  -9.4912, -13.5197],\n",
      "         [ 20.2828, -17.5932, -17.5973,  ..., -10.9203,  -9.4510, -13.5212],\n",
      "         [ 20.7816, -17.6264, -17.6390,  ..., -11.0344,  -9.4620, -13.4901]]],\n",
      "       device='cuda:0')\n",
      "====================\n",
      "i= 1997 ====================\n",
      "target_sentence 여러분이 한편으로 과학을 보면 과학은 주변 환경에 대한 아주 이성적인 접근입니다. 반면에 예술은 감성적으로 주변 환경에 접근합니다. \n",
      "generate: 랙 스 는 사진, 비디오, 설치 미술 을 넘나 드는 작업으로 오늘날 인도 의 멀티미디어 아트 의 선 에 있다고 있다고..\n",
      "output tensor([[[ -1.6267,  -4.5664,  -4.5112,  ...,   1.5625,  -2.3663,  -1.7835],\n",
      "         [ -0.4735,  -2.6623,  -2.6590,  ...,   1.2199,   0.1040,   2.8015],\n",
      "         [  2.2306,  -9.2699,  -9.2500,  ...,  -4.3020,  -4.2877,  -4.7801],\n",
      "         ...,\n",
      "         [  5.1946, -13.5332, -13.5405,  ...,  -7.2575,  -5.8351,  -8.9184],\n",
      "         [  5.4792, -13.4829, -13.4869,  ...,  -7.3339,  -5.7097,  -8.8731],\n",
      "         [ 12.5882, -14.9971, -15.0675,  ..., -10.4695,  -8.4058, -12.9957]]],\n",
      "       device='cuda:0')\n",
      "====================\n",
      "i= 1998 ====================\n",
      "target_sentence 그 수는 지금도 증가하고 있습니다. \n",
      "generate: 저희 팀이 전 세계적 규모로 인공 위성 데이터 와 지구 기반 테이블 를 이 이 궁금 증 을 을..\n",
      "output tensor([[[ -0.6637,  -5.1725,  -5.0901,  ...,   0.0347,  -1.6906,  -2.7720],\n",
      "         [  1.2266,  -7.2076,  -7.1568,  ...,  -2.2017,   1.2253,  -2.9088],\n",
      "         [  0.8160,  -7.4543,  -7.4917,  ...,  -1.6604,   0.8668,  -2.4962],\n",
      "         ...,\n",
      "         [  8.6704, -13.2408, -13.2134,  ...,  -7.6558,  -5.5419,  -8.4694],\n",
      "         [  8.8287, -13.2965, -13.2703,  ...,  -7.7445,  -5.5065,  -8.5275],\n",
      "         [ 14.8977, -14.8835, -14.8977,  ..., -10.5320,  -7.1579, -11.9983]]],\n",
      "       device='cuda:0')\n",
      "====================\n",
      "i= 1999 ====================\n",
      "target_sentence 만일 우리가 모기들의 생식 활동까지 통제할 수 있다면 어떨까요? \n",
      "generate: 아니면 아래쪽 인가 요 - -\n",
      "output tensor([[[ -1.8825,  -4.9518,  -4.8481,  ...,   0.3834,  -1.0847,  -2.2014],\n",
      "         [  0.3658,  -7.1967,  -7.1775,  ...,  -3.0556,  -3.2596,  -1.4018],\n",
      "         [ -1.9667,  -3.1664,  -3.1888,  ...,   2.3090,   1.5619,   1.9721],\n",
      "         ...,\n",
      "         [ 19.8119, -17.8843, -17.9049,  ..., -11.2882,  -9.3455, -13.6741],\n",
      "         [ 19.9622, -17.9295, -17.9526,  ..., -11.2267,  -9.3624, -13.7238],\n",
      "         [ 20.2993, -18.0738, -18.1132,  ..., -11.3747,  -9.4762, -13.8993]]],\n",
      "       device='cuda:0')\n",
      "====================\n",
      "Epoch 12 | Eval Time: 0m 20s\n",
      "\tTrain Loss: 0.983 | Test Loss: 0.973\n",
      "\tBLEU Score:\n",
      "\t\tavg: 15.685\n",
      "\t\t1-gram: 79.310\n",
      "\t\t2-gram: 17.857\n",
      "\t\t3-gram: 11.111\n",
      "\t\t4-gram: 3.846\n",
      "{'avg': [15.3321956702153, 0.0, 13.171730318749775, 19.14650894456972, 0.0, 1.1599713834969505, 1.526608193588886, 0.0, 13.334979932109189, 0.0, 12.789533377801794, 15.68489040233032], '1-gram': [72.41379310344827, 0.0, 69.23076923076923, 68.0, 0.0, 3.125, 9.375, 0.0, 64.0, 0.0, 61.53846153846154, 79.3103448275862], '2-gram': [17.857142857142858, 0.0, 12.0, 16.666666666666668, 0.0, 1.6129032258064515, 1.6129032258064515, 0.0, 12.5, 0.0, 12.0, 17.857142857142858], '3-gram': [11.11111111111111, 0.0, 8.333333333333334, 13.043478260869565, 0.0, 0.8333333333333334, 0.8333333333333334, 0.0, 8.695652173913043, 0.0, 8.333333333333334, 11.11111111111111], '4-gram': [3.8461538461538463, 0.0, 4.3478260869565215, 9.090909090909092, 0.0, 0.4310344827586206, 0.4310344827586206, 0.0, 4.545454545454546, 0.0, 4.3478260869565215, 3.8461538461538463]}\n"
     ]
    },
    {
     "name": "stderr",
     "output_type": "stream",
     "text": [
      "100%|█████████████████████████████████████████████████████████████████████████████████████████████████████████████████████████████████████████████████████████████████| 38922/38922 [39:00<00:00, 16.63it/s]\n"
     ]
    },
    {
     "name": "stdout",
     "output_type": "stream",
     "text": [
      "Epoch 13 | Train Time: 39m 5s\n"
     ]
    },
    {
     "name": "stderr",
     "output_type": "stream",
     "text": [
      "100%|███████████████████████████████████████████████████████████████████████████████████████████████████████████████████████████████████████████████████████████████████| 9731/9731 [02:43<00:00, 59.61it/s]\n"
     ]
    },
    {
     "name": "stdout",
     "output_type": "stream",
     "text": [
      "Epoch 13 | Test Time: 2m 43s\n"
     ]
    },
    {
     "name": "stderr",
     "output_type": "stream",
     "text": [
      "100%|███████████████████████████████████████████████████████████████████████████████████████████████████████████████████████████████████████████████████████████████████| 2000/2000 [00:20<00:00, 98.99it/s]"
     ]
    },
    {
     "name": "stdout",
     "output_type": "stream",
     "text": [
      "i= 1996 ====================\n",
      "target_sentence (박수) \n",
      "generate: \n",
      "output tensor([[[  6.5721, -17.1995, -17.2313,  ...,  -6.6936,  -4.0516, -14.0785],\n",
      "         [  6.5721, -17.1995, -17.2313,  ...,  -6.6936,  -4.0516, -14.0785],\n",
      "         [  6.5721, -17.1995, -17.2313,  ...,  -6.6936,  -4.0516, -14.0785],\n",
      "         ...,\n",
      "         [  6.5721, -17.1995, -17.2313,  ...,  -6.6936,  -4.0516, -14.0785],\n",
      "         [  6.5721, -17.1995, -17.2313,  ...,  -6.6936,  -4.0516, -14.0785],\n",
      "         [  6.5721, -17.1995, -17.2313,  ...,  -6.6936,  -4.0516, -14.0785]]],\n",
      "       device='cuda:0')\n",
      "====================\n",
      "i= 1997 ====================\n",
      "target_sentence 아이티의 주 에너지 연료가 나무로 만든 숯이고 허리케인으로 산림이 거의 완전히 황폐화되었기 때문에 피해는 더욱 막심했습니다. \n",
      "generate: \n",
      "output tensor([[[  6.5721, -17.1995, -17.2313,  ...,  -6.6936,  -4.0516, -14.0785],\n",
      "         [  6.5721, -17.1995, -17.2313,  ...,  -6.6936,  -4.0516, -14.0785],\n",
      "         [  6.5721, -17.1995, -17.2313,  ...,  -6.6936,  -4.0516, -14.0785],\n",
      "         ...,\n",
      "         [  6.5721, -17.1995, -17.2313,  ...,  -6.6936,  -4.0516, -14.0785],\n",
      "         [  6.5721, -17.1995, -17.2313,  ...,  -6.6936,  -4.0516, -14.0785],\n",
      "         [  6.5721, -17.1995, -17.2313,  ...,  -6.6936,  -4.0516, -14.0785]]],\n",
      "       device='cuda:0')\n",
      "====================\n",
      "i= 1998 ====================\n",
      "target_sentence 이 말은 캐나다인은 무료로 새로운 골반을 가질 수 있다는 겁니다. \n",
      "generate: \n",
      "output tensor([[[  6.5721, -17.1995, -17.2313,  ...,  -6.6936,  -4.0516, -14.0785],\n",
      "         [  6.5721, -17.1995, -17.2313,  ...,  -6.6936,  -4.0516, -14.0785],\n",
      "         [  6.5721, -17.1995, -17.2313,  ...,  -6.6936,  -4.0516, -14.0785],\n",
      "         ...,\n",
      "         [  6.5721, -17.1995, -17.2313,  ...,  -6.6936,  -4.0516, -14.0785],\n",
      "         [  6.5721, -17.1995, -17.2313,  ...,  -6.6936,  -4.0516, -14.0785],\n",
      "         [  6.5721, -17.1995, -17.2313,  ...,  -6.6936,  -4.0516, -14.0785]]],\n",
      "       device='cuda:0')\n",
      "====================\n",
      "i= 1999 ====================\n",
      "target_sentence 이 사진을 모두 합쳐서 전면부터 후면까지 모두 초점이 맞춰진 하나의 사진을 얻게 됩니다. \n",
      "generate: \n",
      "output tensor([[[  6.5721, -17.1995, -17.2313,  ...,  -6.6936,  -4.0516, -14.0785],\n",
      "         [  6.5721, -17.1995, -17.2313,  ...,  -6.6936,  -4.0516, -14.0785],\n",
      "         [  6.5721, -17.1995, -17.2313,  ...,  -6.6936,  -4.0516, -14.0785],\n",
      "         ...,\n",
      "         [  6.5721, -17.1995, -17.2313,  ...,  -6.6936,  -4.0516, -14.0785],\n",
      "         [  6.5721, -17.1995, -17.2313,  ...,  -6.6936,  -4.0516, -14.0785],\n",
      "         [  6.5721, -17.1995, -17.2313,  ...,  -6.6936,  -4.0516, -14.0785]]],\n",
      "       device='cuda:0')\n",
      "====================\n",
      "Epoch 13 | Eval Time: 0m 20s\n",
      "\tTrain Loss: 3.757 | Test Loss: 6.570\n",
      "\tBLEU Score:\n",
      "\t\tavg: 0.000\n",
      "\t\t1-gram: 0.000\n",
      "\t\t2-gram: 0.000\n",
      "\t\t3-gram: 0.000\n",
      "\t\t4-gram: 0.000\n"
     ]
    },
    {
     "name": "stderr",
     "output_type": "stream",
     "text": [
      "\n"
     ]
    },
    {
     "name": "stdout",
     "output_type": "stream",
     "text": [
      "{'avg': [15.3321956702153, 0.0, 13.171730318749775, 19.14650894456972, 0.0, 1.1599713834969505, 1.526608193588886, 0.0, 13.334979932109189, 0.0, 12.789533377801794, 15.68489040233032, 0.0], '1-gram': [72.41379310344827, 0.0, 69.23076923076923, 68.0, 0.0, 3.125, 9.375, 0.0, 64.0, 0.0, 61.53846153846154, 79.3103448275862, 0.0], '2-gram': [17.857142857142858, 0.0, 12.0, 16.666666666666668, 0.0, 1.6129032258064515, 1.6129032258064515, 0.0, 12.5, 0.0, 12.0, 17.857142857142858, 0.0], '3-gram': [11.11111111111111, 0.0, 8.333333333333334, 13.043478260869565, 0.0, 0.8333333333333334, 0.8333333333333334, 0.0, 8.695652173913043, 0.0, 8.333333333333334, 11.11111111111111, 0.0], '4-gram': [3.8461538461538463, 0.0, 4.3478260869565215, 9.090909090909092, 0.0, 0.4310344827586206, 0.4310344827586206, 0.0, 4.545454545454546, 0.0, 4.3478260869565215, 3.8461538461538463, 0.0]}\n"
     ]
    },
    {
     "name": "stderr",
     "output_type": "stream",
     "text": [
      "100%|█████████████████████████████████████████████████████████████████████████████████████████████████████████████████████████████████████████████████████████████████| 38922/38922 [39:01<00:00, 16.62it/s]\n"
     ]
    },
    {
     "name": "stdout",
     "output_type": "stream",
     "text": [
      "Epoch 14 | Train Time: 39m 6s\n"
     ]
    },
    {
     "name": "stderr",
     "output_type": "stream",
     "text": [
      "100%|███████████████████████████████████████████████████████████████████████████████████████████████████████████████████████████████████████████████████████████████████| 9731/9731 [02:42<00:00, 59.80it/s]\n"
     ]
    },
    {
     "name": "stdout",
     "output_type": "stream",
     "text": [
      "Epoch 14 | Test Time: 2m 42s\n"
     ]
    },
    {
     "name": "stderr",
     "output_type": "stream",
     "text": [
      "100%|███████████████████████████████████████████████████████████████████████████████████████████████████████████████████████████████████████████████████████████████████| 2000/2000 [00:19<00:00, 97.61it/s]"
     ]
    },
    {
     "name": "stdout",
     "output_type": "stream",
     "text": [
      "i= 1996 ====================\n",
      "target_sentence 여러분이 북유럽이나 북아메리카에 거주하고 계시다면 메밀이나 귀리 껍질을 사용할 수가 있겠죠. \n",
      "generate: \n",
      "output tensor([[[  8.9498, -14.9001, -14.8939,  ...,  -5.9399,  -4.6600, -13.0474],\n",
      "         [  8.9498, -14.9001, -14.8939,  ...,  -5.9399,  -4.6600, -13.0474],\n",
      "         [  8.9498, -14.9001, -14.8939,  ...,  -5.9399,  -4.6600, -13.0474],\n",
      "         ...,\n",
      "         [  8.9498, -14.9001, -14.8939,  ...,  -5.9399,  -4.6600, -13.0474],\n",
      "         [  8.9498, -14.9001, -14.8939,  ...,  -5.9399,  -4.6600, -13.0474],\n",
      "         [  8.9498, -14.9001, -14.8939,  ...,  -5.9399,  -4.6600, -13.0474]]],\n",
      "       device='cuda:0')\n",
      "====================\n",
      "i= 1997 ====================\n",
      "target_sentence 무엇이 잘 못 되었는지 추측은 할 수 있겠지만 무시무시한 추락 사고가 정확히 어떻게 일어나게 되었는지를 알 수 있는 방법은 전혀없는 것과 유사합니다. \n",
      "generate: \n",
      "output tensor([[[  8.9498, -14.9001, -14.8939,  ...,  -5.9399,  -4.6600, -13.0474],\n",
      "         [  8.9498, -14.9001, -14.8939,  ...,  -5.9399,  -4.6600, -13.0474],\n",
      "         [  8.9498, -14.9001, -14.8939,  ...,  -5.9399,  -4.6600, -13.0474],\n",
      "         ...,\n",
      "         [  8.9498, -14.9001, -14.8939,  ...,  -5.9399,  -4.6600, -13.0474],\n",
      "         [  8.9498, -14.9001, -14.8939,  ...,  -5.9399,  -4.6600, -13.0474],\n",
      "         [  8.9498, -14.9001, -14.8939,  ...,  -5.9399,  -4.6600, -13.0474]]],\n",
      "       device='cuda:0')\n",
      "====================\n",
      "i= 1998 ====================\n",
      "target_sentence 그래서 굉장한 의미가 있습니다. \n",
      "generate: \n",
      "output tensor([[[  8.9498, -14.9001, -14.8939,  ...,  -5.9399,  -4.6600, -13.0474],\n",
      "         [  8.9498, -14.9001, -14.8939,  ...,  -5.9399,  -4.6600, -13.0474],\n",
      "         [  8.9498, -14.9001, -14.8939,  ...,  -5.9399,  -4.6600, -13.0474],\n",
      "         ...,\n",
      "         [  8.9498, -14.9001, -14.8939,  ...,  -5.9399,  -4.6600, -13.0474],\n",
      "         [  8.9498, -14.9001, -14.8939,  ...,  -5.9399,  -4.6600, -13.0474],\n",
      "         [  8.9498, -14.9001, -14.8939,  ...,  -5.9399,  -4.6600, -13.0474]]],\n",
      "       device='cuda:0')\n",
      "====================\n",
      "i= 1999 ====================\n",
      "target_sentence 여기 지도가 보이시죠. \n",
      "generate: \n",
      "output tensor([[[  8.9498, -14.9001, -14.8939,  ...,  -5.9399,  -4.6600, -13.0474],\n",
      "         [  8.9498, -14.9001, -14.8939,  ...,  -5.9399,  -4.6600, -13.0474],\n",
      "         [  8.9498, -14.9001, -14.8939,  ...,  -5.9399,  -4.6600, -13.0474],\n",
      "         ...,\n",
      "         [  8.9498, -14.9001, -14.8939,  ...,  -5.9399,  -4.6600, -13.0474],\n",
      "         [  8.9498, -14.9001, -14.8939,  ...,  -5.9399,  -4.6600, -13.0474],\n",
      "         [  8.9498, -14.9001, -14.8939,  ...,  -5.9399,  -4.6600, -13.0474]]],\n",
      "       device='cuda:0')\n",
      "====================\n"
     ]
    },
    {
     "name": "stderr",
     "output_type": "stream",
     "text": [
      "100%|███████████████████████████████████████████████████████████████████████████████████████████████████████████████████████████████████████████████████████████████████| 2000/2000 [00:20<00:00, 99.84it/s]\n"
     ]
    },
    {
     "name": "stdout",
     "output_type": "stream",
     "text": [
      "Epoch 14 | Eval Time: 0m 20s\n",
      "\tTrain Loss: 1.825 | Test Loss: 6.211\n",
      "\tBLEU Score:\n",
      "\t\tavg: 0.000\n",
      "\t\t1-gram: 0.000\n",
      "\t\t2-gram: 0.000\n",
      "\t\t3-gram: 0.000\n",
      "\t\t4-gram: 0.000\n",
      "{'avg': [15.3321956702153, 0.0, 13.171730318749775, 19.14650894456972, 0.0, 1.1599713834969505, 1.526608193588886, 0.0, 13.334979932109189, 0.0, 12.789533377801794, 15.68489040233032, 0.0, 0.0], '1-gram': [72.41379310344827, 0.0, 69.23076923076923, 68.0, 0.0, 3.125, 9.375, 0.0, 64.0, 0.0, 61.53846153846154, 79.3103448275862, 0.0, 0.0], '2-gram': [17.857142857142858, 0.0, 12.0, 16.666666666666668, 0.0, 1.6129032258064515, 1.6129032258064515, 0.0, 12.5, 0.0, 12.0, 17.857142857142858, 0.0, 0.0], '3-gram': [11.11111111111111, 0.0, 8.333333333333334, 13.043478260869565, 0.0, 0.8333333333333334, 0.8333333333333334, 0.0, 8.695652173913043, 0.0, 8.333333333333334, 11.11111111111111, 0.0, 0.0], '4-gram': [3.8461538461538463, 0.0, 4.3478260869565215, 9.090909090909092, 0.0, 0.4310344827586206, 0.4310344827586206, 0.0, 4.545454545454546, 0.0, 4.3478260869565215, 3.8461538461538463, 0.0, 0.0]}\n"
     ]
    },
    {
     "name": "stderr",
     "output_type": "stream",
     "text": [
      "100%|█████████████████████████████████████████████████████████████████████████████████████████████████████████████████████████████████████████████████████████████████| 38922/38922 [38:59<00:00, 16.63it/s]\n"
     ]
    },
    {
     "name": "stdout",
     "output_type": "stream",
     "text": [
      "Epoch 15 | Train Time: 39m 5s\n"
     ]
    },
    {
     "name": "stderr",
     "output_type": "stream",
     "text": [
      "100%|███████████████████████████████████████████████████████████████████████████████████████████████████████████████████████████████████████████████████████████████████| 9731/9731 [02:44<00:00, 59.13it/s]\n"
     ]
    },
    {
     "name": "stdout",
     "output_type": "stream",
     "text": [
      "Epoch 15 | Test Time: 2m 44s\n"
     ]
    },
    {
     "name": "stderr",
     "output_type": "stream",
     "text": [
      "100%|██████████████████████████████████████████████████████████████████████████████████████████████████████████████████████████████████████████████████████████████████| 2000/2000 [00:19<00:00, 100.34it/s]\n"
     ]
    },
    {
     "name": "stdout",
     "output_type": "stream",
     "text": [
      "i= 1996 ====================\n",
      "target_sentence 제 삶에 대해 얘기할 땐, 저는 종종 운이 좋았다고 합니다. \n",
      "generate: 그러지 않고 아이들 에 좀 더 많은 기회를 줄 수는 없는 걸까요?\n",
      "output tensor([[[  3.4536,  -6.4440,  -6.4136,  ...,   0.0739,   0.4920,  -3.9695],\n",
      "         [ -0.2623,  -6.6889,  -6.7761,  ...,  -0.1867,   0.4400,  -4.5774],\n",
      "         [ -0.1324,  -9.0485,  -9.0585,  ...,  -4.8066,  -2.1933,  -7.9875],\n",
      "         ...,\n",
      "         [ 19.6883, -16.5857, -16.5522,  ..., -13.0200,  -9.0994, -14.9318],\n",
      "         [ 19.8940, -16.6838, -16.6553,  ..., -13.1080,  -8.9984, -14.8168],\n",
      "         [ 20.2964, -16.4436, -16.4015,  ..., -13.2648,  -8.6172, -14.5733]]],\n",
      "       device='cuda:0')\n",
      "====================\n",
      "i= 1997 ====================\n",
      "target_sentence 감사합니다. \n",
      "generate: 랙 스 는 사진, 비디오, 설치 미술 을 넘나 드는 작업으로 오늘날 인도 의 오아 아트 의 선두 에 있다고 있다고.\n",
      "output tensor([[[  5.2624,  -7.9225,  -7.8261,  ...,  -1.9347,  -1.1757,  -5.9094],\n",
      "         [  2.2366,  -3.0828,  -2.9916,  ...,   0.9329,   2.5525,   1.0560],\n",
      "         [  6.3404, -10.0027,  -9.9488,  ...,  -3.4260,  -4.4234,  -7.8510],\n",
      "         ...,\n",
      "         [  9.9868, -11.4929, -11.4376,  ...,  -6.8906,  -4.6042,  -9.1307],\n",
      "         [ 10.5716, -11.4952, -11.4488,  ...,  -7.1152,  -4.2351,  -9.0428],\n",
      "         [ 15.8930, -12.3012, -12.3162,  ...,  -8.1225,  -4.8001, -12.2891]]],\n",
      "       device='cuda:0')\n",
      "====================\n",
      "i= 1998 ====================\n",
      "target_sentence 지난 몇 년간 아프리카에서 제가 해왔던 일들이 드론으로도 가능하다는 걸 알았지만 드론은 탐사에 적합하지 않습니다. \n",
      "generate: 저희 팀이 전 세계적 규모로 인공 위성 데이터 와 지구 지구 데이터를 를 사용해 이 궁금 을 을 을...\n",
      "output tensor([[[  3.3215,  -7.8311,  -7.8548,  ...,  -1.2658,  -0.6459,  -5.3689],\n",
      "         [ -0.2048,  -8.8666,  -8.9532,  ...,  -4.9745,   1.3402,  -7.6208],\n",
      "         [ -0.0170,  -7.5663,  -7.5967,  ...,  -2.4589,   1.7069,  -5.4015],\n",
      "         ...,\n",
      "         [  5.7664, -11.5109, -11.4779,  ...,  -6.6807,  -3.6098,  -9.3487],\n",
      "         [  5.8001, -11.5929, -11.5622,  ...,  -6.7792,  -3.6322,  -9.4458],\n",
      "         [ 11.3681, -12.8677, -12.9990,  ...,  -8.5158,  -4.4157, -13.1403]]],\n",
      "       device='cuda:0')\n",
      "====================\n",
      "i= 1999 ====================\n",
      "target_sentence 정말 가능한 일이더군요. 5cm 오차로요. \n",
      "generate: 아니면 아래쪽 인가 요 - -\n",
      "output tensor([[[  2.5980,  -8.0053,  -7.9957,  ...,  -1.7386,  -1.3283,  -5.6423],\n",
      "         [  1.6806,  -9.0241,  -8.8990,  ...,  -4.2646,  -2.2074,  -6.5134],\n",
      "         [ -1.2061,  -4.1376,  -4.1125,  ...,  -0.5401,   1.2508,  -1.1099],\n",
      "         ...,\n",
      "         [ 19.8907, -15.5834, -15.5763,  ..., -11.2820,  -8.6596, -13.6789],\n",
      "         [ 19.8782, -15.6138, -15.6106,  ..., -11.4556,  -8.4753, -13.7309],\n",
      "         [ 19.9871, -15.3943, -15.3902,  ..., -11.3766,  -8.0210, -13.5314]]],\n",
      "       device='cuda:0')\n",
      "====================\n",
      "Epoch 15 | Eval Time: 0m 19s\n",
      "\tTrain Loss: 1.080 | Test Loss: 1.001\n",
      "\tBLEU Score:\n",
      "\t\tavg: 12.585\n",
      "\t\t1-gram: 57.692\n",
      "\t\t2-gram: 12.000\n",
      "\t\t3-gram: 8.333\n",
      "\t\t4-gram: 4.348\n",
      "{'avg': [15.3321956702153, 0.0, 13.171730318749775, 19.14650894456972, 0.0, 1.1599713834969505, 1.526608193588886, 0.0, 13.334979932109189, 0.0, 12.789533377801794, 15.68489040233032, 0.0, 0.0, 12.5848347939092], '1-gram': [72.41379310344827, 0.0, 69.23076923076923, 68.0, 0.0, 3.125, 9.375, 0.0, 64.0, 0.0, 61.53846153846154, 79.3103448275862, 0.0, 0.0, 57.69230769230769], '2-gram': [17.857142857142858, 0.0, 12.0, 16.666666666666668, 0.0, 1.6129032258064515, 1.6129032258064515, 0.0, 12.5, 0.0, 12.0, 17.857142857142858, 0.0, 0.0, 12.0], '3-gram': [11.11111111111111, 0.0, 8.333333333333334, 13.043478260869565, 0.0, 0.8333333333333334, 0.8333333333333334, 0.0, 8.695652173913043, 0.0, 8.333333333333334, 11.11111111111111, 0.0, 0.0, 8.333333333333334], '4-gram': [3.8461538461538463, 0.0, 4.3478260869565215, 9.090909090909092, 0.0, 0.4310344827586206, 0.4310344827586206, 0.0, 4.545454545454546, 0.0, 4.3478260869565215, 3.8461538461538463, 0.0, 0.0, 4.3478260869565215]}\n"
     ]
    },
    {
     "name": "stderr",
     "output_type": "stream",
     "text": [
      "100%|█████████████████████████████████████████████████████████████████████████████████████████████████████████████████████████████████████████████████████████████████| 38922/38922 [39:05<00:00, 16.59it/s]\n"
     ]
    },
    {
     "name": "stdout",
     "output_type": "stream",
     "text": [
      "Epoch 16 | Train Time: 39m 10s\n"
     ]
    },
    {
     "name": "stderr",
     "output_type": "stream",
     "text": [
      "100%|███████████████████████████████████████████████████████████████████████████████████████████████████████████████████████████████████████████████████████████████████| 9731/9731 [02:43<00:00, 59.43it/s]\n"
     ]
    },
    {
     "name": "stdout",
     "output_type": "stream",
     "text": [
      "Epoch 16 | Test Time: 2m 43s\n"
     ]
    },
    {
     "name": "stderr",
     "output_type": "stream",
     "text": [
      "100%|███████████████████████████████████████████████████████████████████████████████████████████████████████████████████████████████████████████████████████████████████| 2000/2000 [00:20<00:00, 99.47it/s]\n"
     ]
    },
    {
     "name": "stdout",
     "output_type": "stream",
     "text": [
      "i= 1996 ====================\n",
      "target_sentence BF : 좋아. \n",
      "generate: 그러지 않고 아이들 에 좀 더 많은 기회를 줄 수는 없는 걸까요?\n",
      "output tensor([[[ 1.2191e+01, -1.3454e+01, -1.3463e+01,  ..., -6.1347e+00,\n",
      "          -7.1188e+00, -1.1091e+01],\n",
      "         [ 2.9371e-01, -7.8159e+00, -7.8917e+00,  ..., -2.0055e-04,\n",
      "          -3.1554e+00, -4.8444e+00],\n",
      "         [ 6.1448e-01, -1.0237e+01, -1.0225e+01,  ..., -3.7277e+00,\n",
      "          -4.2013e+00, -7.6193e+00],\n",
      "         ...,\n",
      "         [ 1.9634e+01, -1.9465e+01, -1.9533e+01,  ..., -1.4614e+01,\n",
      "          -1.0912e+01, -1.6641e+01],\n",
      "         [ 1.9509e+01, -1.9371e+01, -1.9437e+01,  ..., -1.4476e+01,\n",
      "          -1.0843e+01, -1.6559e+01],\n",
      "         [ 1.9666e+01, -1.9315e+01, -1.9359e+01,  ..., -1.4194e+01,\n",
      "          -1.0593e+01, -1.6690e+01]]], device='cuda:0')\n",
      "====================\n",
      "i= 1997 ====================\n",
      "target_sentence 사실 그 시점에서 이 사건은 종결되었어야 했습니다. \n",
      "generate: 랙 스 는 사진, 비디오, 설치 미술 을 넘나 드는 작업으로 오늘날 인도 의 멀티미디어 아트 의 에 에 있다고..\n",
      "output tensor([[[  8.7684, -10.8767, -10.8881,  ...,  -4.5337,  -5.8281,  -9.3956],\n",
      "         [ -0.6353,  -1.4336,  -1.4235,  ...,   3.6641,   3.8314,   2.6320],\n",
      "         [  2.9976, -11.0549, -11.0089,  ...,  -3.9391,  -5.1733,  -8.9114],\n",
      "         ...,\n",
      "         [ 10.0534, -14.6374, -14.6315,  ...,  -8.8179,  -6.8966, -11.3740],\n",
      "         [ 10.2642, -14.6525, -14.6494,  ...,  -8.8990,  -6.8683, -11.3799],\n",
      "         [ 14.6904, -15.0555, -15.0804,  ...,  -9.8953,  -7.2819, -13.4448]]],\n",
      "       device='cuda:0')\n",
      "====================\n",
      "i= 1998 ====================\n",
      "target_sentence 우리는 18개월 전에 협업을 시작했죠. \n",
      "generate: 저희 팀이 전 세계적 규모로 인공 위성 데이터 와 지상 기반 데이터를 사용해 이 궁금 증 을 을..\n",
      "output tensor([[[  8.8768, -11.2447, -11.2957,  ...,  -5.3257,  -5.9221,  -9.7264],\n",
      "         [  0.7736,  -8.2417,  -8.2619,  ...,  -3.7341,  -0.7690,  -4.9546],\n",
      "         [ -0.0970,  -6.2927,  -6.3156,  ...,  -0.1035,   2.1874,  -3.2400],\n",
      "         ...,\n",
      "         [  9.3065, -13.8052, -13.8099,  ...,  -7.6275,  -6.6381, -10.5846],\n",
      "         [  9.3446, -13.8351, -13.8461,  ...,  -7.6914,  -6.6371, -10.6168],\n",
      "         [ 14.2247, -14.7300, -14.7664,  ...,  -9.7841,  -7.7825, -13.0795]]],\n",
      "       device='cuda:0')\n",
      "====================\n",
      "i= 1999 ====================\n",
      "target_sentence 누구에게도 말하지 않았죠. 지금이 처음이예요. \n",
      "generate: 아니면 아래쪽 인가 요 - -\n",
      "output tensor([[[ 12.2982, -13.5769, -13.5737,  ...,  -5.9173,  -6.7266, -10.8010],\n",
      "         [ -1.2613, -10.6807, -10.5891,  ...,  -5.6692,  -4.8550,  -6.8633],\n",
      "         [ -2.1700,  -6.0395,  -6.0626,  ...,  -1.5581,  -0.0275,  -3.2736],\n",
      "         ...,\n",
      "         [ 18.5871, -19.7714, -19.8184,  ..., -14.9131, -11.1142, -17.2631],\n",
      "         [ 18.5465, -19.7354, -19.7819,  ..., -14.8606, -11.0790, -17.2371],\n",
      "         [ 18.7816, -19.8975, -19.9505,  ..., -15.0760, -10.9375, -17.4974]]],\n",
      "       device='cuda:0')\n",
      "====================\n",
      "Epoch 16 | Eval Time: 0m 20s\n",
      "\tTrain Loss: 0.987 | Test Loss: 0.973\n",
      "\tBLEU Score:\n",
      "\t\tavg: 15.817\n",
      "\t\t1-gram: 76.000\n",
      "\t\t2-gram: 20.833\n",
      "\t\t3-gram: 8.696\n",
      "\t\t4-gram: 4.545\n",
      "{'avg': [15.3321956702153, 0.0, 13.171730318749775, 19.14650894456972, 0.0, 1.1599713834969505, 1.526608193588886, 0.0, 13.334979932109189, 0.0, 12.789533377801794, 15.68489040233032, 0.0, 0.0, 12.5848347939092, 15.816593696872394], '1-gram': [72.41379310344827, 0.0, 69.23076923076923, 68.0, 0.0, 3.125, 9.375, 0.0, 64.0, 0.0, 61.53846153846154, 79.3103448275862, 0.0, 0.0, 57.69230769230769, 76.0], '2-gram': [17.857142857142858, 0.0, 12.0, 16.666666666666668, 0.0, 1.6129032258064515, 1.6129032258064515, 0.0, 12.5, 0.0, 12.0, 17.857142857142858, 0.0, 0.0, 12.0, 20.833333333333332], '3-gram': [11.11111111111111, 0.0, 8.333333333333334, 13.043478260869565, 0.0, 0.8333333333333334, 0.8333333333333334, 0.0, 8.695652173913043, 0.0, 8.333333333333334, 11.11111111111111, 0.0, 0.0, 8.333333333333334, 8.695652173913043], '4-gram': [3.8461538461538463, 0.0, 4.3478260869565215, 9.090909090909092, 0.0, 0.4310344827586206, 0.4310344827586206, 0.0, 4.545454545454546, 0.0, 4.3478260869565215, 3.8461538461538463, 0.0, 0.0, 4.3478260869565215, 4.545454545454546]}\n"
     ]
    },
    {
     "name": "stderr",
     "output_type": "stream",
     "text": [
      "100%|█████████████████████████████████████████████████████████████████████████████████████████████████████████████████████████████████████████████████████████████████| 38922/38922 [39:02<00:00, 16.61it/s]\n"
     ]
    },
    {
     "name": "stdout",
     "output_type": "stream",
     "text": [
      "Epoch 17 | Train Time: 39m 9s\n"
     ]
    },
    {
     "name": "stderr",
     "output_type": "stream",
     "text": [
      "100%|███████████████████████████████████████████████████████████████████████████████████████████████████████████████████████████████████████████████████████████████████| 9731/9731 [02:43<00:00, 59.50it/s]\n"
     ]
    },
    {
     "name": "stdout",
     "output_type": "stream",
     "text": [
      "Epoch 17 | Test Time: 2m 43s\n"
     ]
    },
    {
     "name": "stderr",
     "output_type": "stream",
     "text": [
      "100%|███████████████████████████████████████████████████████████████████████████████████████████████████████████████████████████████████████████████████████████████████| 2000/2000 [00:20<00:00, 98.29it/s]\n"
     ]
    },
    {
     "name": "stdout",
     "output_type": "stream",
     "text": [
      "i= 1996 ====================\n",
      "target_sentence 또한 사람들의 선택권도 필요합니다. \n",
      "generate: \n",
      "output tensor([[[ 10.5553, -18.3345, -18.3496,  ...,  -5.8957,  -7.4173, -12.9727],\n",
      "         [ 10.5553, -18.3345, -18.3496,  ...,  -5.8957,  -7.4173, -12.9727],\n",
      "         [ 10.5553, -18.3345, -18.3496,  ...,  -5.8957,  -7.4173, -12.9727],\n",
      "         ...,\n",
      "         [ 10.5553, -18.3345, -18.3496,  ...,  -5.8957,  -7.4173, -12.9727],\n",
      "         [ 10.5553, -18.3345, -18.3496,  ...,  -5.8957,  -7.4173, -12.9727],\n",
      "         [ 10.5553, -18.3345, -18.3496,  ...,  -5.8957,  -7.4173, -12.9727]]],\n",
      "       device='cuda:0')\n",
      "====================\n",
      "i= 1997 ====================\n",
      "target_sentence 세 번째 교훈은 우리가 필요로 하는 것은 창작자와 리믹스를 만들어낸 사람들에 대한 존중입니다. 이는 권리로서, 이들에게 직접적으로 연결된 권리로서 가능합니다. \n",
      "generate: \n",
      "output tensor([[[ 10.5553, -18.3345, -18.3496,  ...,  -5.8957,  -7.4173, -12.9727],\n",
      "         [ 10.5553, -18.3345, -18.3496,  ...,  -5.8957,  -7.4173, -12.9727],\n",
      "         [ 10.5553, -18.3345, -18.3496,  ...,  -5.8957,  -7.4173, -12.9727],\n",
      "         ...,\n",
      "         [ 10.5553, -18.3345, -18.3496,  ...,  -5.8957,  -7.4173, -12.9727],\n",
      "         [ 10.5553, -18.3345, -18.3496,  ...,  -5.8957,  -7.4173, -12.9727],\n",
      "         [ 10.5553, -18.3345, -18.3496,  ...,  -5.8957,  -7.4173, -12.9727]]],\n",
      "       device='cuda:0')\n",
      "====================\n",
      "i= 1998 ====================\n",
      "target_sentence 식물은 햇빛을 통해 이산화탄소와 물을 합성하기 때문입니다. \n",
      "generate: \n",
      "output tensor([[[ 10.5553, -18.3345, -18.3496,  ...,  -5.8957,  -7.4173, -12.9727],\n",
      "         [ 10.5553, -18.3345, -18.3496,  ...,  -5.8957,  -7.4173, -12.9727],\n",
      "         [ 10.5553, -18.3345, -18.3496,  ...,  -5.8957,  -7.4173, -12.9727],\n",
      "         ...,\n",
      "         [ 10.5553, -18.3345, -18.3496,  ...,  -5.8957,  -7.4173, -12.9727],\n",
      "         [ 10.5553, -18.3345, -18.3496,  ...,  -5.8957,  -7.4173, -12.9727],\n",
      "         [ 10.5553, -18.3345, -18.3496,  ...,  -5.8957,  -7.4173, -12.9727]]],\n",
      "       device='cuda:0')\n",
      "====================\n",
      "i= 1999 ====================\n",
      "target_sentence 은유는 발견의 가능성을 주기 때문에 중요합니다. \n",
      "generate: \n",
      "output tensor([[[ 10.5553, -18.3345, -18.3496,  ...,  -5.8957,  -7.4173, -12.9727],\n",
      "         [ 10.5553, -18.3345, -18.3496,  ...,  -5.8957,  -7.4173, -12.9727],\n",
      "         [ 10.5553, -18.3345, -18.3496,  ...,  -5.8957,  -7.4173, -12.9727],\n",
      "         ...,\n",
      "         [ 10.5553, -18.3345, -18.3496,  ...,  -5.8957,  -7.4173, -12.9727],\n",
      "         [ 10.5553, -18.3345, -18.3496,  ...,  -5.8957,  -7.4173, -12.9727],\n",
      "         [ 10.5553, -18.3345, -18.3496,  ...,  -5.8957,  -7.4173, -12.9727]]],\n",
      "       device='cuda:0')\n",
      "====================\n",
      "Epoch 17 | Eval Time: 0m 20s\n",
      "\tTrain Loss: 3.921 | Test Loss: 7.601\n",
      "\tBLEU Score:\n",
      "\t\tavg: 0.000\n",
      "\t\t1-gram: 0.000\n",
      "\t\t2-gram: 0.000\n",
      "\t\t3-gram: 0.000\n",
      "\t\t4-gram: 0.000\n",
      "{'avg': [15.3321956702153, 0.0, 13.171730318749775, 19.14650894456972, 0.0, 1.1599713834969505, 1.526608193588886, 0.0, 13.334979932109189, 0.0, 12.789533377801794, 15.68489040233032, 0.0, 0.0, 12.5848347939092, 15.816593696872394, 0.0], '1-gram': [72.41379310344827, 0.0, 69.23076923076923, 68.0, 0.0, 3.125, 9.375, 0.0, 64.0, 0.0, 61.53846153846154, 79.3103448275862, 0.0, 0.0, 57.69230769230769, 76.0, 0.0], '2-gram': [17.857142857142858, 0.0, 12.0, 16.666666666666668, 0.0, 1.6129032258064515, 1.6129032258064515, 0.0, 12.5, 0.0, 12.0, 17.857142857142858, 0.0, 0.0, 12.0, 20.83333333333333, 0.0], '3-gram': [11.11111111111111, 0.0, 8.333333333333334, 13.043478260869565, 0.0, 0.8333333333333334, 0.8333333333333334, 0.0, 8.695652173913043, 0.0, 8.333333333333334, 11.11111111111111, 0.0, 0.0, 8.333333333333334, 8.695652173913043, 0.0], '4-gram': [3.8461538461538463, 0.0, 4.3478260869565215, 9.090909090909092, 0.0, 0.4310344827586206, 0.4310344827586206, 0.0, 4.545454545454546, 0.0, 4.3478260869565215, 3.8461538461538463, 0.0, 0.0, 4.3478260869565215, 4.545454545454546, 0.0]}\n"
     ]
    },
    {
     "name": "stderr",
     "output_type": "stream",
     "text": [
      "100%|█████████████████████████████████████████████████████████████████████████████████████████████████████████████████████████████████████████████████████████████████| 38922/38922 [39:03<00:00, 16.61it/s]\n"
     ]
    },
    {
     "name": "stdout",
     "output_type": "stream",
     "text": [
      "Epoch 18 | Train Time: 39m 9s\n"
     ]
    },
    {
     "name": "stderr",
     "output_type": "stream",
     "text": [
      "100%|███████████████████████████████████████████████████████████████████████████████████████████████████████████████████████████████████████████████████████████████████| 9731/9731 [02:43<00:00, 59.67it/s]\n"
     ]
    },
    {
     "name": "stdout",
     "output_type": "stream",
     "text": [
      "Epoch 18 | Test Time: 2m 43s\n"
     ]
    },
    {
     "name": "stderr",
     "output_type": "stream",
     "text": [
      "100%|███████████████████████████████████████████████████████████████████████████████████████████████████████████████████████████████████████████████████████████████████| 2000/2000 [00:20<00:00, 99.86it/s]"
     ]
    },
    {
     "name": "stdout",
     "output_type": "stream",
     "text": [
      "i= 1996 ====================\n",
      "target_sentence 여기 이 녀석이 무엇을 하는지 보시면, 보금자리를 만들고 있습니다. \n",
      "generate: 그러지 않고 아이들 에 좀 더 많은 기회를 줄 수는 없는 걸까요?\n",
      "output tensor([[[ 10.4992, -10.3139, -10.3270,  ...,  -3.2026,  -4.0518,  -7.9617],\n",
      "         [ -2.6261,  -1.7772,  -1.8887,  ...,   2.5342,   2.2589,   2.1167],\n",
      "         [  0.2071,  -7.4922,  -7.4623,  ...,  -3.0308,  -2.1847,  -3.8554],\n",
      "         ...,\n",
      "         [ 21.6038, -15.9365, -15.9524,  ..., -10.7658,  -8.3152, -14.6982],\n",
      "         [ 21.6308, -15.9028, -15.9183,  ..., -10.6899,  -8.1979, -14.6569],\n",
      "         [ 21.5825, -15.7138, -15.7347,  ..., -10.4531,  -7.9646, -14.5632]]],\n",
      "       device='cuda:0')\n",
      "====================\n",
      "i= 1997 ====================\n",
      "target_sentence 왜 그렇게 생각할까요? \n",
      "generate: 랙 스 는 사진, 비디오, 설치 미술 을 넘나 드는 작업으로 오늘날 인도 의 스케줄 아트 의 선두 에 있다고 있다고\n",
      "output tensor([[[  7.7111,  -8.8111,  -8.8300,  ...,  -3.0597,  -3.2777,  -7.2769],\n",
      "         [ -1.2453,  -3.1884,  -3.1323,  ...,   0.2931,   1.8691,   1.7740],\n",
      "         [  2.0898,  -9.2490,  -9.2182,  ...,  -4.7015,  -4.1080,  -4.6443],\n",
      "         ...,\n",
      "         [ 10.6592, -12.8239, -12.8231,  ...,  -8.8883,  -4.7184, -10.2992],\n",
      "         [ 10.8584, -12.8854, -12.8898,  ...,  -8.9488,  -4.7257, -10.4075],\n",
      "         [ 15.9613, -12.6308, -12.6793,  ...,  -8.9557,  -4.7908, -12.4039]]],\n",
      "       device='cuda:0')\n",
      "====================\n",
      "i= 1998 ====================\n",
      "target_sentence 저는 이것이 여러분의 인생에 있어 대단히 중요하다고 봅니다. \n",
      "generate: 저희 팀이 전 세계적 규모로 인공 위성 데이터 와 지상 기반 테 사용해 이 궁금 증 을 을..\n",
      "output tensor([[[  7.8772,  -8.9366,  -8.9871,  ...,  -3.0634,  -4.1941,  -7.8645],\n",
      "         [  0.4193,  -7.1968,  -7.2040,  ...,  -2.2734,  -1.4726,  -5.3940],\n",
      "         [ -0.6753,  -7.5403,  -7.5601,  ...,  -0.7763,   0.0820,  -4.0988],\n",
      "         ...,\n",
      "         [ 10.4214, -13.1615, -13.1367,  ...,  -8.3511,  -5.5069, -10.5868],\n",
      "         [ 10.4943, -13.2856, -13.2610,  ...,  -8.4700,  -5.5025, -10.7104],\n",
      "         [ 15.8417, -12.7037, -12.7456,  ...,  -8.3479,  -5.3268, -12.4305]]],\n",
      "       device='cuda:0')\n",
      "====================\n",
      "i= 1999 ====================\n",
      "target_sentence 자, 자세히 살펴보지요. \n",
      "generate: 아니면 아래쪽 인가 요 - -\n",
      "output tensor([[[ 10.8049,  -9.2989,  -9.2678,  ...,  -2.6334,  -3.9348,  -7.6010],\n",
      "         [  0.8554,  -6.3460,  -6.2904,  ...,  -1.7242,  -1.7589,  -2.9365],\n",
      "         [ -1.2575,  -4.9873,  -5.0203,  ...,  -1.0251,  -0.2230,  -2.1653],\n",
      "         ...,\n",
      "         [ 21.5247, -16.2592, -16.2264,  ..., -11.2755,  -8.4376, -15.1720],\n",
      "         [ 21.5293, -16.2075, -16.1755,  ..., -11.1769,  -8.3603, -15.1197],\n",
      "         [ 21.6677, -16.2141, -16.1843,  ..., -11.2020,  -8.3677, -15.1998]]],\n",
      "       device='cuda:0')\n",
      "====================\n",
      "Epoch 18 | Eval Time: 0m 20s\n",
      "\tTrain Loss: 1.039 | Test Loss: 1.016\n",
      "\tBLEU Score:\n",
      "\t\tavg: 13.821\n",
      "\t\t1-gram: 80.000\n",
      "\t\t2-gram: 17.241\n",
      "\t\t3-gram: 7.143\n",
      "\t\t4-gram: 3.704\n",
      "{'avg': [15.3321956702153, 0.0, 13.171730318749775, 19.14650894456972, 0.0, 1.1599713834969505, 1.526608193588886, 0.0, 13.334979932109189, 0.0, 12.789533377801794, 15.68489040233032, 0.0, 0.0, 12.5848347939092, 15.816593696872394, 0.0, 13.821098063724321], '1-gram': [72.41379310344827, 0.0, 69.23076923076923, 68.0, 0.0, 3.125, 9.375, 0.0, 64.0, 0.0, 61.53846153846154, 79.3103448275862, 0.0, 0.0, 57.69230769230769, 76.0, 0.0, 80.0], '2-gram': [17.857142857142858, 0.0, 12.0, 16.666666666666668, 0.0, 1.6129032258064515, 1.6129032258064515, 0.0, 12.5, 0.0, 12.0, 17.857142857142858, 0.0, 0.0, 12.0, 20.83333333333333, 0.0, 17.24137931034483], '3-gram': [11.11111111111111, 0.0, 8.333333333333334, 13.043478260869565, 0.0, 0.8333333333333334, 0.8333333333333334, 0.0, 8.695652173913043, 0.0, 8.333333333333334, 11.11111111111111, 0.0, 0.0, 8.333333333333334, 8.695652173913043, 0.0, 7.142857142857143], '4-gram': [3.8461538461538463, 0.0, 4.3478260869565215, 9.090909090909092, 0.0, 0.4310344827586206, 0.4310344827586206, 0.0, 4.545454545454546, 0.0, 4.3478260869565215, 3.8461538461538463, 0.0, 0.0, 4.3478260869565215, 4.545454545454546, 0.0, 3.7037037037037037]}\n"
     ]
    },
    {
     "name": "stderr",
     "output_type": "stream",
     "text": [
      "\n",
      "100%|█████████████████████████████████████████████████████████████████████████████████████████████████████████████████████████████████████████████████████████████████| 38922/38922 [39:02<00:00, 16.62it/s]\n"
     ]
    },
    {
     "name": "stdout",
     "output_type": "stream",
     "text": [
      "Epoch 19 | Train Time: 39m 7s\n"
     ]
    },
    {
     "name": "stderr",
     "output_type": "stream",
     "text": [
      "100%|███████████████████████████████████████████████████████████████████████████████████████████████████████████████████████████████████████████████████████████████████| 9731/9731 [02:42<00:00, 59.71it/s]\n"
     ]
    },
    {
     "name": "stdout",
     "output_type": "stream",
     "text": [
      "Epoch 19 | Test Time: 2m 42s\n"
     ]
    },
    {
     "name": "stderr",
     "output_type": "stream",
     "text": [
      "100%|██████████████████████████████████████████████████████████████████████████████████████████████████████████████████████████████████████████████████████████████████| 2000/2000 [00:19<00:00, 100.16it/s]"
     ]
    },
    {
     "name": "stdout",
     "output_type": "stream",
     "text": [
      "i= 1996 ====================\n",
      "target_sentence 저는 강해져야만 했고 \n",
      "generate: \n",
      "output tensor([[[  7.3323, -18.8471, -18.8096,  ...,  -7.6057,  -5.4423, -11.1801],\n",
      "         [  7.3323, -18.8471, -18.8096,  ...,  -7.6057,  -5.4423, -11.1801],\n",
      "         [  7.3323, -18.8471, -18.8096,  ...,  -7.6057,  -5.4423, -11.1801],\n",
      "         ...,\n",
      "         [  7.3323, -18.8471, -18.8096,  ...,  -7.6057,  -5.4423, -11.1801],\n",
      "         [  7.3323, -18.8471, -18.8096,  ...,  -7.6057,  -5.4423, -11.1801],\n",
      "         [  7.3323, -18.8471, -18.8096,  ...,  -7.6057,  -5.4423, -11.1801]]],\n",
      "       device='cuda:0')\n",
      "====================\n",
      "i= 1997 ====================\n",
      "target_sentence 삼촌이 식탁으로 걸어가는 걸 관찰하면서 저는 평지를 걷는 것도 힘들어하는 사람이 어떻게 계단을 오르는지 불현듯 궁금해졌습니다. \n",
      "generate: \n",
      "output tensor([[[  7.3323, -18.8471, -18.8096,  ...,  -7.6057,  -5.4423, -11.1801],\n",
      "         [  7.3323, -18.8471, -18.8096,  ...,  -7.6057,  -5.4423, -11.1801],\n",
      "         [  7.3323, -18.8471, -18.8096,  ...,  -7.6057,  -5.4423, -11.1801],\n",
      "         ...,\n",
      "         [  7.3323, -18.8471, -18.8096,  ...,  -7.6057,  -5.4423, -11.1801],\n",
      "         [  7.3323, -18.8471, -18.8096,  ...,  -7.6057,  -5.4423, -11.1801],\n",
      "         [  7.3323, -18.8471, -18.8096,  ...,  -7.6057,  -5.4423, -11.1801]]],\n",
      "       device='cuda:0')\n",
      "====================\n",
      "i= 1998 ====================\n",
      "target_sentence 그들의 참여가 비용을 절감합니다. \n",
      "generate: \n",
      "output tensor([[[  7.3323, -18.8471, -18.8096,  ...,  -7.6057,  -5.4423, -11.1801],\n",
      "         [  7.3323, -18.8471, -18.8096,  ...,  -7.6057,  -5.4423, -11.1801],\n",
      "         [  7.3323, -18.8471, -18.8096,  ...,  -7.6057,  -5.4423, -11.1801],\n",
      "         ...,\n",
      "         [  7.3323, -18.8471, -18.8096,  ...,  -7.6057,  -5.4423, -11.1801],\n",
      "         [  7.3323, -18.8471, -18.8096,  ...,  -7.6057,  -5.4423, -11.1801],\n",
      "         [  7.3323, -18.8471, -18.8096,  ...,  -7.6057,  -5.4423, -11.1801]]],\n",
      "       device='cuda:0')\n",
      "====================\n",
      "i= 1999 ====================\n",
      "target_sentence 놀랍게도, 이 서비스 사용자의 75 프로가 높은 은행비를 감당할 수 없는 프랑스의 중산층입니다. \n",
      "generate: \n",
      "output tensor([[[  7.3323, -18.8471, -18.8096,  ...,  -7.6057,  -5.4423, -11.1801],\n",
      "         [  7.3323, -18.8471, -18.8096,  ...,  -7.6057,  -5.4423, -11.1801],\n",
      "         [  7.3323, -18.8471, -18.8096,  ...,  -7.6057,  -5.4423, -11.1801],\n",
      "         ...,\n",
      "         [  7.3323, -18.8471, -18.8096,  ...,  -7.6057,  -5.4423, -11.1801],\n",
      "         [  7.3323, -18.8471, -18.8096,  ...,  -7.6057,  -5.4423, -11.1801],\n",
      "         [  7.3323, -18.8471, -18.8096,  ...,  -7.6057,  -5.4423, -11.1801]]],\n",
      "       device='cuda:0')\n",
      "====================\n",
      "Epoch 19 | Eval Time: 0m 19s\n",
      "\tTrain Loss: 1.278 | Test Loss: 6.262\n",
      "\tBLEU Score:\n",
      "\t\tavg: 0.000\n",
      "\t\t1-gram: 0.000\n",
      "\t\t2-gram: 0.000\n",
      "\t\t3-gram: 0.000\n",
      "\t\t4-gram: 0.000\n"
     ]
    },
    {
     "name": "stderr",
     "output_type": "stream",
     "text": [
      "\n"
     ]
    },
    {
     "name": "stdout",
     "output_type": "stream",
     "text": [
      "{'avg': [15.3321956702153, 0.0, 13.171730318749775, 19.14650894456972, 0.0, 1.1599713834969505, 1.526608193588886, 0.0, 13.334979932109189, 0.0, 12.789533377801794, 15.68489040233032, 0.0, 0.0, 12.5848347939092, 15.816593696872394, 0.0, 13.82109806372432, 0.0], '1-gram': [72.41379310344827, 0.0, 69.23076923076923, 68.0, 0.0, 3.125, 9.375, 0.0, 64.0, 0.0, 61.53846153846154, 79.3103448275862, 0.0, 0.0, 57.69230769230769, 76.0, 0.0, 80.0, 0.0], '2-gram': [17.857142857142858, 0.0, 12.0, 16.666666666666668, 0.0, 1.6129032258064515, 1.6129032258064515, 0.0, 12.5, 0.0, 12.0, 17.857142857142858, 0.0, 0.0, 12.0, 20.83333333333333, 0.0, 17.24137931034483, 0.0], '3-gram': [11.11111111111111, 0.0, 8.333333333333334, 13.043478260869565, 0.0, 0.8333333333333334, 0.8333333333333334, 0.0, 8.695652173913043, 0.0, 8.333333333333334, 11.11111111111111, 0.0, 0.0, 8.333333333333334, 8.695652173913043, 0.0, 7.142857142857143, 0.0], '4-gram': [3.8461538461538463, 0.0, 4.3478260869565215, 9.090909090909092, 0.0, 0.4310344827586206, 0.4310344827586206, 0.0, 4.545454545454546, 0.0, 4.3478260869565215, 3.8461538461538463, 0.0, 0.0, 4.3478260869565215, 4.545454545454546, 0.0, 3.703703703703704, 0.0]}\n"
     ]
    },
    {
     "name": "stderr",
     "output_type": "stream",
     "text": [
      "100%|█████████████████████████████████████████████████████████████████████████████████████████████████████████████████████████████████████████████████████████████████| 38922/38922 [39:06<00:00, 16.59it/s]\n"
     ]
    },
    {
     "name": "stdout",
     "output_type": "stream",
     "text": [
      "Epoch 20 | Train Time: 39m 13s\n"
     ]
    },
    {
     "name": "stderr",
     "output_type": "stream",
     "text": [
      "100%|███████████████████████████████████████████████████████████████████████████████████████████████████████████████████████████████████████████████████████████████████| 9731/9731 [02:43<00:00, 59.50it/s]\n"
     ]
    },
    {
     "name": "stdout",
     "output_type": "stream",
     "text": [
      "Epoch 20 | Test Time: 2m 43s\n"
     ]
    },
    {
     "name": "stderr",
     "output_type": "stream",
     "text": [
      "100%|██████████████████████████████████████████████████████████████████████████████████████████████████████████████████████████████████████████████████████████████████| 2000/2000 [00:19<00:00, 100.42it/s]\n"
     ]
    },
    {
     "name": "stdout",
     "output_type": "stream",
     "text": [
      "i= 1996 ====================\n",
      "target_sentence 우리가 선택해서 하는 행동들이 사실은 머릿 속에 프로그램화 되어 있는 거죠. 브레이크 페달에서 발을 떼면 차가 앞으로 가듯 말예요. \n",
      "generate: 그러지 않고 아이들 에 좀 더 많은 기회를 줄 수는 없는 걸까요?\n",
      "output tensor([[[  3.2740, -10.6537, -10.6817,  ...,  -4.3007,  -7.0205,  -6.6878],\n",
      "         [ -1.2946,  -4.2188,  -4.2182,  ...,   1.8501,   2.6544,  -0.1500],\n",
      "         [ -0.6599,  -8.8913,  -8.7895,  ...,  -3.4135,  -4.0826,  -4.9173],\n",
      "         ...,\n",
      "         [ 17.3001, -13.8270, -13.7867,  ...,  -9.4123,  -3.7825, -10.6919],\n",
      "         [ 17.3259, -13.8475, -13.8094,  ...,  -9.3899,  -3.8574, -10.6839],\n",
      "         [ 18.3362, -14.3364, -14.3632,  ...,  -9.5053,  -4.7900, -11.5415]]],\n",
      "       device='cuda:0')\n",
      "====================\n",
      "i= 1997 ====================\n",
      "target_sentence 우리는 미국에서 살고 있습니다. 지구상에서 가장 훌륭한 보건 의료 시스템을 가지고 있죠. \n",
      "generate: 랙 스 는 사진, 비디오, 설치 미술 을 넘나 드는 작업으로 오늘날 인도 의 앞둔 아트 아트 선두 에 있다고..\n",
      "output tensor([[[  2.0933,  -9.5706,  -9.6117,  ...,  -3.1368,  -7.8577,  -5.0526],\n",
      "         [ -1.9622,  -0.9965,  -0.9110,  ...,   2.3413,   2.8844,   4.3875],\n",
      "         [  0.9062,  -9.5741,  -9.5607,  ...,  -3.4534,  -3.4587,  -3.4560],\n",
      "         ...,\n",
      "         [  9.4790, -12.1855, -12.1507,  ...,  -7.0928,  -4.7167,  -8.0391],\n",
      "         [  9.6612, -12.1984, -12.1646,  ...,  -7.1990,  -4.6757,  -7.9202],\n",
      "         [ 16.7619, -13.6419, -13.6623,  ...,  -9.0008,  -5.9679, -11.8004]]],\n",
      "       device='cuda:0')\n",
      "====================\n",
      "i= 1998 ====================\n",
      "target_sentence 저희는 환자의 방광에서 우표 크기의 절반도 안 되는 아주 작은 조각을 떼어냅니다. \n",
      "generate: 저희 팀이 전 세계적 규모로 인공 위성 데이터 와 지상 기반 테이 테이 를 사용해 이 궁금 증 을 을 을...\n",
      "output tensor([[[  3.6564,  -9.8256,  -9.8893,  ...,  -4.2574,  -7.3486,  -5.4224],\n",
      "         [  1.1921,  -7.2387,  -7.2980,  ...,  -4.7368,   0.0656,  -4.7116],\n",
      "         [  1.6232,  -8.6329,  -8.6915,  ...,  -2.7340,  -0.3603,  -3.9969],\n",
      "         ...,\n",
      "         [  5.8304, -10.8363, -10.7929,  ...,  -5.0727,  -3.6871,  -6.5201],\n",
      "         [  5.7551, -10.8444, -10.8025,  ...,  -5.1283,  -3.6663,  -6.5202],\n",
      "         [ 13.2105, -13.1171, -13.2062,  ...,  -8.0888,  -5.9349, -11.5249]]],\n",
      "       device='cuda:0')\n",
      "====================\n",
      "i= 1999 ====================\n",
      "target_sentence 실패를 통해서도 배웁니다. 스포츠가 주는 장기적이고 큰 변화이지요. \n",
      "generate: 아니면 아래쪽 인가 요 - -\n",
      "output tensor([[[  1.4550, -10.2405, -10.2675,  ...,  -4.1236,  -6.8605,  -6.0345],\n",
      "         [  1.6465,  -9.3887,  -9.2852,  ...,  -5.0516,  -3.7386,  -5.7935],\n",
      "         [ -3.5650,  -2.7681,  -2.7119,  ...,   0.8666,   2.8430,   2.8318],\n",
      "         ...,\n",
      "         [ 20.0510, -14.4386, -14.4301,  ..., -10.0246,  -3.8489, -11.2900],\n",
      "         [ 20.0487, -14.4402, -14.4320,  ..., -10.0321,  -3.8112, -11.2887],\n",
      "         [ 20.6464, -14.5611, -14.5399,  ..., -10.1633,  -3.6319, -11.6588]]],\n",
      "       device='cuda:0')\n",
      "====================\n",
      "Epoch 20 | Eval Time: 0m 19s\n",
      "\tTrain Loss: 1.064 | Test Loss: 0.989\n",
      "\tBLEU Score:\n",
      "\t\tavg: 13.172\n",
      "\t\t1-gram: 69.231\n",
      "\t\t2-gram: 12.000\n",
      "\t\t3-gram: 8.333\n",
      "\t\t4-gram: 4.348\n",
      "{'avg': [15.3321956702153, 0.0, 13.171730318749775, 19.14650894456972, 0.0, 1.1599713834969505, 1.526608193588886, 0.0, 13.334979932109189, 0.0, 12.789533377801794, 15.68489040233032, 0.0, 0.0, 12.5848347939092, 15.816593696872394, 0.0, 13.82109806372432, 0.0, 13.171730318749777], '1-gram': [72.41379310344827, 0.0, 69.23076923076923, 68.0, 0.0, 3.125, 9.375, 0.0, 64.0, 0.0, 61.53846153846154, 79.3103448275862, 0.0, 0.0, 57.69230769230769, 76.0, 0.0, 80.0, 0.0, 69.23076923076923], '2-gram': [17.857142857142858, 0.0, 12.0, 16.666666666666668, 0.0, 1.6129032258064515, 1.6129032258064515, 0.0, 12.5, 0.0, 12.0, 17.857142857142858, 0.0, 0.0, 12.0, 20.83333333333333, 0.0, 17.24137931034483, 0.0, 12.0], '3-gram': [11.11111111111111, 0.0, 8.333333333333334, 13.043478260869565, 0.0, 0.8333333333333334, 0.8333333333333334, 0.0, 8.695652173913043, 0.0, 8.333333333333334, 11.11111111111111, 0.0, 0.0, 8.333333333333334, 8.695652173913043, 0.0, 7.142857142857143, 0.0, 8.333333333333334], '4-gram': [3.8461538461538463, 0.0, 4.3478260869565215, 9.090909090909092, 0.0, 0.4310344827586206, 0.4310344827586206, 0.0, 4.545454545454546, 0.0, 4.3478260869565215, 3.8461538461538463, 0.0, 0.0, 4.3478260869565215, 4.545454545454546, 0.0, 3.703703703703704, 0.0, 4.3478260869565215]}\n"
     ]
    },
    {
     "name": "stderr",
     "output_type": "stream",
     "text": [
      "100%|█████████████████████████████████████████████████████████████████████████████████████████████████████████████████████████████████████████████████████████████████| 38922/38922 [39:06<00:00, 16.59it/s]\n"
     ]
    },
    {
     "name": "stdout",
     "output_type": "stream",
     "text": [
      "Epoch 21 | Train Time: 39m 13s\n"
     ]
    },
    {
     "name": "stderr",
     "output_type": "stream",
     "text": [
      "100%|███████████████████████████████████████████████████████████████████████████████████████████████████████████████████████████████████████████████████████████████████| 9731/9731 [02:43<00:00, 59.37it/s]\n"
     ]
    },
    {
     "name": "stdout",
     "output_type": "stream",
     "text": [
      "Epoch 21 | Test Time: 2m 43s\n"
     ]
    },
    {
     "name": "stderr",
     "output_type": "stream",
     "text": [
      "100%|██████████████████████████████████████████████████████████████████████████████████████████████████████████████████████████████████████████████████████████████████| 2000/2000 [00:19<00:00, 100.23it/s]\n"
     ]
    },
    {
     "name": "stdout",
     "output_type": "stream",
     "text": [
      "i= 1996 ====================\n",
      "target_sentence 뇌의 신호에 응답하여 운동신경에서 배출된 아세틸콜린은 근육 세포막의 구멍이 열리도록 합니다. \n",
      "generate: \n",
      "output tensor([[[  9.1454, -16.8165, -16.8373,  ...,  -8.2971,  -5.5331, -12.5979],\n",
      "         [  9.1454, -16.8165, -16.8373,  ...,  -8.2971,  -5.5331, -12.5979],\n",
      "         [  9.1454, -16.8165, -16.8373,  ...,  -8.2971,  -5.5331, -12.5979],\n",
      "         ...,\n",
      "         [  9.1454, -16.8165, -16.8373,  ...,  -8.2971,  -5.5331, -12.5979],\n",
      "         [  9.1454, -16.8165, -16.8373,  ...,  -8.2971,  -5.5331, -12.5979],\n",
      "         [  9.1454, -16.8165, -16.8373,  ...,  -8.2971,  -5.5331, -12.5979]]],\n",
      "       device='cuda:0')\n",
      "====================\n",
      "i= 1997 ====================\n",
      "target_sentence 그래서 대학을 다니진 않았어도 공부하기 시작했어요. 해답을 찾으려 했죠: 이 세상에서 가장 가난한 사람들에게 무슨 일이 벌어질까? \n",
      "generate: \n",
      "output tensor([[[  9.1454, -16.8165, -16.8373,  ...,  -8.2971,  -5.5331, -12.5979],\n",
      "         [  9.1454, -16.8165, -16.8373,  ...,  -8.2971,  -5.5331, -12.5979],\n",
      "         [  9.1454, -16.8165, -16.8373,  ...,  -8.2971,  -5.5331, -12.5979],\n",
      "         ...,\n",
      "         [  9.1454, -16.8165, -16.8373,  ...,  -8.2971,  -5.5331, -12.5979],\n",
      "         [  9.1454, -16.8165, -16.8373,  ...,  -8.2971,  -5.5331, -12.5979],\n",
      "         [  9.1454, -16.8165, -16.8373,  ...,  -8.2971,  -5.5331, -12.5979]]],\n",
      "       device='cuda:0')\n",
      "====================\n",
      "i= 1998 ====================\n",
      "target_sentence 정상적인 음성안내들을 거치고 나면 상담원이 영어로 이렇게 말하죠. \n",
      "generate: \n",
      "output tensor([[[  9.1454, -16.8165, -16.8373,  ...,  -8.2971,  -5.5331, -12.5979],\n",
      "         [  9.1454, -16.8165, -16.8373,  ...,  -8.2971,  -5.5331, -12.5979],\n",
      "         [  9.1454, -16.8165, -16.8373,  ...,  -8.2971,  -5.5331, -12.5979],\n",
      "         ...,\n",
      "         [  9.1454, -16.8165, -16.8373,  ...,  -8.2971,  -5.5331, -12.5979],\n",
      "         [  9.1454, -16.8165, -16.8373,  ...,  -8.2971,  -5.5331, -12.5979],\n",
      "         [  9.1454, -16.8165, -16.8373,  ...,  -8.2971,  -5.5331, -12.5979]]],\n",
      "       device='cuda:0')\n",
      "====================\n",
      "i= 1999 ====================\n",
      "target_sentence 그리고 나서 다른 지도 위에 덧입혀 보았는데요. 저널리스트들이 살해되는 장소들을 표시한 지도였습니다. \n",
      "generate: \n",
      "output tensor([[[  9.1454, -16.8165, -16.8373,  ...,  -8.2971,  -5.5331, -12.5979],\n",
      "         [  9.1454, -16.8165, -16.8373,  ...,  -8.2971,  -5.5331, -12.5979],\n",
      "         [  9.1454, -16.8165, -16.8373,  ...,  -8.2971,  -5.5331, -12.5979],\n",
      "         ...,\n",
      "         [  9.1454, -16.8165, -16.8373,  ...,  -8.2971,  -5.5331, -12.5979],\n",
      "         [  9.1454, -16.8165, -16.8373,  ...,  -8.2971,  -5.5331, -12.5979],\n",
      "         [  9.1454, -16.8165, -16.8373,  ...,  -8.2971,  -5.5331, -12.5979]]],\n",
      "       device='cuda:0')\n",
      "====================\n",
      "Epoch 21 | Eval Time: 0m 19s\n",
      "\tTrain Loss: 2.116 | Test Loss: 6.643\n",
      "\tBLEU Score:\n",
      "\t\tavg: 0.000\n",
      "\t\t1-gram: 0.000\n",
      "\t\t2-gram: 0.000\n",
      "\t\t3-gram: 0.000\n",
      "\t\t4-gram: 0.000\n",
      "{'avg': [15.3321956702153, 0.0, 13.171730318749775, 19.14650894456972, 0.0, 1.1599713834969505, 1.526608193588886, 0.0, 13.334979932109189, 0.0, 12.789533377801794, 15.68489040233032, 0.0, 0.0, 12.5848347939092, 15.816593696872394, 0.0, 13.82109806372432, 0.0, 13.171730318749775, 0.0], '1-gram': [72.41379310344827, 0.0, 69.23076923076923, 68.0, 0.0, 3.125, 9.375, 0.0, 64.0, 0.0, 61.53846153846154, 79.3103448275862, 0.0, 0.0, 57.69230769230769, 76.0, 0.0, 80.0, 0.0, 69.23076923076923, 0.0], '2-gram': [17.857142857142858, 0.0, 12.0, 16.666666666666668, 0.0, 1.6129032258064515, 1.6129032258064515, 0.0, 12.5, 0.0, 12.0, 17.857142857142858, 0.0, 0.0, 12.0, 20.83333333333333, 0.0, 17.24137931034483, 0.0, 12.0, 0.0], '3-gram': [11.11111111111111, 0.0, 8.333333333333334, 13.043478260869565, 0.0, 0.8333333333333334, 0.8333333333333334, 0.0, 8.695652173913043, 0.0, 8.333333333333334, 11.11111111111111, 0.0, 0.0, 8.333333333333334, 8.695652173913043, 0.0, 7.142857142857143, 0.0, 8.333333333333334, 0.0], '4-gram': [3.8461538461538463, 0.0, 4.3478260869565215, 9.090909090909092, 0.0, 0.4310344827586206, 0.4310344827586206, 0.0, 4.545454545454546, 0.0, 4.3478260869565215, 3.8461538461538463, 0.0, 0.0, 4.3478260869565215, 4.545454545454546, 0.0, 3.703703703703704, 0.0, 4.3478260869565215, 0.0]}\n"
     ]
    },
    {
     "name": "stderr",
     "output_type": "stream",
     "text": [
      "100%|█████████████████████████████████████████████████████████████████████████████████████████████████████████████████████████████████████████████████████████████████| 38922/38922 [39:03<00:00, 16.61it/s]\n"
     ]
    },
    {
     "name": "stdout",
     "output_type": "stream",
     "text": [
      "Epoch 22 | Train Time: 39m 9s\n"
     ]
    },
    {
     "name": "stderr",
     "output_type": "stream",
     "text": [
      "100%|███████████████████████████████████████████████████████████████████████████████████████████████████████████████████████████████████████████████████████████████████| 9731/9731 [02:43<00:00, 59.36it/s]\n"
     ]
    },
    {
     "name": "stdout",
     "output_type": "stream",
     "text": [
      "Epoch 22 | Test Time: 2m 43s\n"
     ]
    },
    {
     "name": "stderr",
     "output_type": "stream",
     "text": [
      "100%|███████████████████████████████████████████████████████████████████████████████████████████████████████████████████████████████████████████████████████████████████| 2000/2000 [00:20<00:00, 98.77it/s]"
     ]
    },
    {
     "name": "stdout",
     "output_type": "stream",
     "text": [
      "i= 1996 ====================\n",
      "target_sentence \"그러니까 내가 내 목숨을 걸어야 된다면 선금을 내놓으라는 거지\" \n",
      "generate: 그러지 않고 아이들 에 좀 더 많은 기회를 줄 수는 없는 걸까요?\n",
      "output tensor([[[ -4.9189,  -1.5514,  -1.5575,  ...,   4.9408,   1.4819,   3.4926],\n",
      "         [  0.5066,  -2.1881,  -2.2140,  ...,   2.8428,   2.3732,   3.1322],\n",
      "         [  0.0864,  -8.1169,  -8.1445,  ...,  -2.5980,  -1.2887,  -5.0116],\n",
      "         ...,\n",
      "         [ 20.2118, -15.8091, -15.9059,  ..., -10.1419,  -8.1723, -12.6210],\n",
      "         [ 20.1870, -15.7030, -15.7948,  ...,  -9.9953,  -8.0922, -12.5623],\n",
      "         [ 20.3254, -15.5562, -15.6427,  ...,  -9.8819,  -7.8687, -12.5364]]],\n",
      "       device='cuda:0')\n",
      "====================\n",
      "i= 1997 ====================\n",
      "target_sentence 새로운 화석은 우리가 알고 있던 이러한 경향을 모두 바꾸어 놓았고 인류 진화에 대한 우리 생각을 변화시켰습니다. \n",
      "generate: 랙 스 는 사진, 비디오, 설치 미술 을 넘나 드는 작업으로 오늘날 인도 의 스케줄 아트 의 선 에 있다고 있다고.\n",
      "output tensor([[[ -4.3463,  -3.2666,  -3.2407,  ...,   2.6848,   0.3070,   1.7279],\n",
      "         [ -1.0309,  -6.1894,  -6.1519,  ...,  -3.4456,  -0.4242,  -1.4036],\n",
      "         [  0.9771,  -9.2140,  -9.1740,  ...,  -3.4835,  -1.7879,  -3.5927],\n",
      "         ...,\n",
      "         [  6.1871, -12.3930, -12.3884,  ...,  -7.0277,  -3.5720,  -8.4415],\n",
      "         [  6.5501, -12.4321, -12.4275,  ...,  -7.1457,  -3.7175,  -8.3801],\n",
      "         [ 14.2822, -14.2086, -14.3059,  ...,  -9.5556,  -5.3396, -12.6736]]],\n",
      "       device='cuda:0')\n",
      "====================\n",
      "i= 1998 ====================\n",
      "target_sentence 저는 제 어린 딸들의 말을 듣습니다. 정말 사랑스런 아이들이죠? 저는 제 어린 딸들이 늦은 밤까지 대화하는 소리를 듣습니다. 제 부모님께서 저희 형제들의 대화를 들어주신 것과 똑같은 방식으로 말이죠. 저도 가끔씩 끼어들기도 하지만 대개는 그러지 않습니다. \n",
      "generate: 저희 팀이 전 세계적 규모로 인공 위성 데이터 와 지상 기반 테이 를 이 이 궁금 증 을 을...\n",
      "output tensor([[[-4.0093e+00, -2.1973e+00, -2.1595e+00,  ...,  4.9777e+00,\n",
      "          -1.0193e+00,  2.5366e+00],\n",
      "         [ 1.5309e+00, -7.8083e+00, -7.7790e+00,  ..., -4.1330e+00,\n",
      "          -1.0747e+00, -4.6273e+00],\n",
      "         [-2.0622e-01, -6.4376e+00, -6.4728e+00,  ..., -5.5247e-01,\n",
      "           7.2717e-03, -1.6937e+00],\n",
      "         ...,\n",
      "         [ 7.2028e+00, -1.1977e+01, -1.1983e+01,  ..., -6.0218e+00,\n",
      "          -4.6959e+00, -7.8787e+00],\n",
      "         [ 7.2562e+00, -1.1935e+01, -1.1936e+01,  ..., -6.0936e+00,\n",
      "          -4.6288e+00, -7.7985e+00],\n",
      "         [ 1.4706e+01, -1.3734e+01, -1.3811e+01,  ..., -8.3397e+00,\n",
      "          -6.6114e+00, -1.1629e+01]]], device='cuda:0')\n",
      "====================\n",
      "i= 1999 ====================\n",
      "target_sentence 혁명의 시간은 바로 지금입니다. \n",
      "generate: 아니면 아래쪽 인가 요 - -\n",
      "output tensor([[[ -5.1624,  -2.9363,  -2.9401,  ...,   3.7540,   0.8895,   1.8962],\n",
      "         [  1.1702,  -8.8140,  -8.7945,  ...,  -6.0292,  -5.1066,  -4.5644],\n",
      "         [ -1.3280,  -4.7282,  -4.7498,  ...,  -0.3258,   0.4117,  -1.5470],\n",
      "         ...,\n",
      "         [ 20.7012, -15.5081, -15.5256,  ..., -10.0958,  -8.4863, -12.6623],\n",
      "         [ 20.2136, -14.6898, -14.6956,  ...,  -9.2951,  -7.9965, -11.9694],\n",
      "         [ 19.8323, -13.9702, -13.9759,  ...,  -8.5281,  -7.4533, -11.4612]]],\n",
      "       device='cuda:0')\n",
      "====================\n",
      "Epoch 22 | Eval Time: 0m 20s\n",
      "\tTrain Loss: 1.066 | Test Loss: 1.009\n",
      "\tBLEU Score:\n",
      "\t\tavg: 13.122\n",
      "\t\t1-gram: 60.000\n",
      "\t\t2-gram: 12.500\n",
      "\t\t3-gram: 8.696\n",
      "\t\t4-gram: 4.545\n",
      "{'avg': [15.3321956702153, 0.0, 13.171730318749775, 19.14650894456972, 0.0, 1.1599713834969505, 1.526608193588886, 0.0, 13.334979932109189, 0.0, 12.789533377801794, 15.68489040233032, 0.0, 0.0, 12.5848347939092, 15.816593696872394, 0.0, 13.82109806372432, 0.0, 13.171730318749775, 0.0, 13.121551386461338], '1-gram': [72.41379310344827, 0.0, 69.23076923076923, 68.0, 0.0, 3.125, 9.375, 0.0, 64.0, 0.0, 61.53846153846154, 79.3103448275862, 0.0, 0.0, 57.69230769230769, 76.0, 0.0, 80.0, 0.0, 69.23076923076923, 0.0, 60.0], '2-gram': [17.857142857142858, 0.0, 12.0, 16.666666666666668, 0.0, 1.6129032258064515, 1.6129032258064515, 0.0, 12.5, 0.0, 12.0, 17.857142857142858, 0.0, 0.0, 12.0, 20.83333333333333, 0.0, 17.24137931034483, 0.0, 12.0, 0.0, 12.5], '3-gram': [11.11111111111111, 0.0, 8.333333333333334, 13.043478260869565, 0.0, 0.8333333333333334, 0.8333333333333334, 0.0, 8.695652173913043, 0.0, 8.333333333333334, 11.11111111111111, 0.0, 0.0, 8.333333333333334, 8.695652173913043, 0.0, 7.142857142857143, 0.0, 8.333333333333334, 0.0, 8.695652173913043], '4-gram': [3.8461538461538463, 0.0, 4.3478260869565215, 9.090909090909092, 0.0, 0.4310344827586206, 0.4310344827586206, 0.0, 4.545454545454546, 0.0, 4.3478260869565215, 3.8461538461538463, 0.0, 0.0, 4.3478260869565215, 4.545454545454546, 0.0, 3.703703703703704, 0.0, 4.3478260869565215, 0.0, 4.545454545454546]}\n"
     ]
    },
    {
     "name": "stderr",
     "output_type": "stream",
     "text": [
      "\n",
      "100%|█████████████████████████████████████████████████████████████████████████████████████████████████████████████████████████████████████████████████████████████████| 38922/38922 [39:01<00:00, 16.62it/s]\n"
     ]
    },
    {
     "name": "stdout",
     "output_type": "stream",
     "text": [
      "Epoch 23 | Train Time: 39m 6s\n"
     ]
    },
    {
     "name": "stderr",
     "output_type": "stream",
     "text": [
      "100%|███████████████████████████████████████████████████████████████████████████████████████████████████████████████████████████████████████████████████████████████████| 9731/9731 [02:42<00:00, 59.70it/s]\n"
     ]
    },
    {
     "name": "stdout",
     "output_type": "stream",
     "text": [
      "Epoch 23 | Test Time: 2m 42s\n"
     ]
    },
    {
     "name": "stderr",
     "output_type": "stream",
     "text": [
      "100%|██████████████████████████████████████████████████████████████████████████████████████████████████████████████████████████████████████████████████████████████████| 2000/2000 [00:19<00:00, 100.94it/s]\n"
     ]
    },
    {
     "name": "stdout",
     "output_type": "stream",
     "text": [
      "i= 1996 ====================\n",
      "target_sentence 원인은 다 알아요. \n",
      "generate: \n",
      "output tensor([[[  7.4871, -15.1749, -15.2105,  ...,  -3.9602,  -4.0559,  -8.7684],\n",
      "         [  7.4871, -15.1749, -15.2105,  ...,  -3.9602,  -4.0559,  -8.7684],\n",
      "         [  7.4871, -15.1749, -15.2105,  ...,  -3.9602,  -4.0559,  -8.7684],\n",
      "         ...,\n",
      "         [  7.4871, -15.1749, -15.2105,  ...,  -3.9602,  -4.0559,  -8.7684],\n",
      "         [  7.4871, -15.1749, -15.2105,  ...,  -3.9602,  -4.0559,  -8.7684],\n",
      "         [  7.4871, -15.1749, -15.2105,  ...,  -3.9602,  -4.0559,  -8.7684]]],\n",
      "       device='cuda:0')\n",
      "====================\n",
      "i= 1997 ====================\n",
      "target_sentence 매일 젊은 일개미가 여왕개미에게 먹이를 바치고 알을 보살핍니다. 반면 더 성장한 일개미는 먹이를 찾고 둥지를 지킵니다. \n",
      "generate: \n",
      "output tensor([[[  7.4871, -15.1749, -15.2105,  ...,  -3.9602,  -4.0559,  -8.7684],\n",
      "         [  7.4871, -15.1749, -15.2105,  ...,  -3.9602,  -4.0559,  -8.7684],\n",
      "         [  7.4871, -15.1749, -15.2105,  ...,  -3.9602,  -4.0559,  -8.7684],\n",
      "         ...,\n",
      "         [  7.4871, -15.1749, -15.2105,  ...,  -3.9602,  -4.0559,  -8.7684],\n",
      "         [  7.4871, -15.1749, -15.2105,  ...,  -3.9602,  -4.0559,  -8.7684],\n",
      "         [  7.4871, -15.1749, -15.2105,  ...,  -3.9602,  -4.0559,  -8.7684]]],\n",
      "       device='cuda:0')\n",
      "====================\n",
      "i= 1998 ====================\n",
      "target_sentence 2012년 근로자 연구에 의하면 이러한 업무 환경이 글로벌 서비스 경제에서 운영 비용도 낮추고 적응력도 높여준다고 합니다. \n",
      "generate: \n",
      "output tensor([[[  7.4871, -15.1749, -15.2105,  ...,  -3.9602,  -4.0559,  -8.7684],\n",
      "         [  7.4871, -15.1749, -15.2105,  ...,  -3.9602,  -4.0559,  -8.7684],\n",
      "         [  7.4871, -15.1749, -15.2105,  ...,  -3.9602,  -4.0559,  -8.7684],\n",
      "         ...,\n",
      "         [  7.4871, -15.1749, -15.2105,  ...,  -3.9602,  -4.0559,  -8.7684],\n",
      "         [  7.4871, -15.1749, -15.2105,  ...,  -3.9602,  -4.0559,  -8.7684],\n",
      "         [  7.4871, -15.1749, -15.2105,  ...,  -3.9602,  -4.0559,  -8.7684]]],\n",
      "       device='cuda:0')\n",
      "====================\n",
      "i= 1999 ====================\n",
      "target_sentence 그가 유일한 권한을 가지고 로마의 황제가 된 날을 말하시는 거지요? \n",
      "generate: \n",
      "output tensor([[[  7.4871, -15.1749, -15.2105,  ...,  -3.9602,  -4.0559,  -8.7684],\n",
      "         [  7.4871, -15.1749, -15.2105,  ...,  -3.9602,  -4.0559,  -8.7684],\n",
      "         [  7.4871, -15.1749, -15.2105,  ...,  -3.9602,  -4.0559,  -8.7684],\n",
      "         ...,\n",
      "         [  7.4871, -15.1749, -15.2105,  ...,  -3.9602,  -4.0559,  -8.7684],\n",
      "         [  7.4871, -15.1749, -15.2105,  ...,  -3.9602,  -4.0559,  -8.7684],\n",
      "         [  7.4871, -15.1749, -15.2105,  ...,  -3.9602,  -4.0559,  -8.7684]]],\n",
      "       device='cuda:0')\n",
      "====================\n",
      "Epoch 23 | Eval Time: 0m 19s\n",
      "\tTrain Loss: 3.965 | Test Loss: 5.562\n",
      "\tBLEU Score:\n",
      "\t\tavg: 0.000\n",
      "\t\t1-gram: 0.000\n",
      "\t\t2-gram: 0.000\n",
      "\t\t3-gram: 0.000\n",
      "\t\t4-gram: 0.000\n",
      "{'avg': [15.3321956702153, 0.0, 13.171730318749775, 19.14650894456972, 0.0, 1.1599713834969505, 1.526608193588886, 0.0, 13.334979932109189, 0.0, 12.789533377801794, 15.68489040233032, 0.0, 0.0, 12.5848347939092, 15.816593696872394, 0.0, 13.82109806372432, 0.0, 13.171730318749775, 0.0, 13.121551386461338, 0.0], '1-gram': [72.41379310344827, 0.0, 69.23076923076923, 68.0, 0.0, 3.125, 9.375, 0.0, 64.0, 0.0, 61.53846153846154, 79.3103448275862, 0.0, 0.0, 57.69230769230769, 76.0, 0.0, 80.0, 0.0, 69.23076923076923, 0.0, 60.0, 0.0], '2-gram': [17.857142857142858, 0.0, 12.0, 16.666666666666668, 0.0, 1.6129032258064515, 1.6129032258064515, 0.0, 12.5, 0.0, 12.0, 17.857142857142858, 0.0, 0.0, 12.0, 20.83333333333333, 0.0, 17.24137931034483, 0.0, 12.0, 0.0, 12.5, 0.0], '3-gram': [11.11111111111111, 0.0, 8.333333333333334, 13.043478260869565, 0.0, 0.8333333333333334, 0.8333333333333334, 0.0, 8.695652173913043, 0.0, 8.333333333333334, 11.11111111111111, 0.0, 0.0, 8.333333333333334, 8.695652173913043, 0.0, 7.142857142857143, 0.0, 8.333333333333334, 0.0, 8.695652173913043, 0.0], '4-gram': [3.8461538461538463, 0.0, 4.3478260869565215, 9.090909090909092, 0.0, 0.4310344827586206, 0.4310344827586206, 0.0, 4.545454545454546, 0.0, 4.3478260869565215, 3.8461538461538463, 0.0, 0.0, 4.3478260869565215, 4.545454545454546, 0.0, 3.703703703703704, 0.0, 4.3478260869565215, 0.0, 4.545454545454546, 0.0]}\n"
     ]
    },
    {
     "name": "stderr",
     "output_type": "stream",
     "text": [
      "100%|█████████████████████████████████████████████████████████████████████████████████████████████████████████████████████████████████████████████████████████████████| 38922/38922 [39:06<00:00, 16.58it/s]\n"
     ]
    },
    {
     "name": "stdout",
     "output_type": "stream",
     "text": [
      "Epoch 24 | Train Time: 39m 12s\n"
     ]
    },
    {
     "name": "stderr",
     "output_type": "stream",
     "text": [
      "100%|███████████████████████████████████████████████████████████████████████████████████████████████████████████████████████████████████████████████████████████████████| 9731/9731 [02:43<00:00, 59.50it/s]\n"
     ]
    },
    {
     "name": "stdout",
     "output_type": "stream",
     "text": [
      "Epoch 24 | Test Time: 2m 43s\n"
     ]
    },
    {
     "name": "stderr",
     "output_type": "stream",
     "text": [
      "100%|██████████████████████████████████████████████████████████████████████████████████████████████████████████████████████████████████████████████████████████████████| 2000/2000 [00:19<00:00, 100.07it/s]\n"
     ]
    },
    {
     "name": "stdout",
     "output_type": "stream",
     "text": [
      "i= 1996 ====================\n",
      "target_sentence 그냥 과일을 바로 먹고싶었죠. \n",
      "generate: \n",
      "output tensor([[[  9.0618, -15.3406, -15.3090,  ...,  -5.2702,  -4.6475,  -9.0922],\n",
      "         [  9.0618, -15.3406, -15.3090,  ...,  -5.2702,  -4.6475,  -9.0922],\n",
      "         [  9.0618, -15.3406, -15.3090,  ...,  -5.2702,  -4.6475,  -9.0922],\n",
      "         ...,\n",
      "         [  9.0618, -15.3406, -15.3090,  ...,  -5.2702,  -4.6475,  -9.0922],\n",
      "         [  9.0618, -15.3406, -15.3090,  ...,  -5.2702,  -4.6475,  -9.0922],\n",
      "         [  9.0618, -15.3406, -15.3090,  ...,  -5.2702,  -4.6475,  -9.0922]]],\n",
      "       device='cuda:0')\n",
      "====================\n",
      "i= 1997 ====================\n",
      "target_sentence 이해하셨나요? 호기심이 고양이를 죽인다지요? 여러분은 내기를 수락합니다. 그리고 수정 구슬을 바라봅니다. \n",
      "generate: \n",
      "output tensor([[[  9.0618, -15.3406, -15.3090,  ...,  -5.2702,  -4.6475,  -9.0922],\n",
      "         [  9.0618, -15.3406, -15.3090,  ...,  -5.2702,  -4.6475,  -9.0922],\n",
      "         [  9.0618, -15.3406, -15.3090,  ...,  -5.2702,  -4.6475,  -9.0922],\n",
      "         ...,\n",
      "         [  9.0618, -15.3406, -15.3090,  ...,  -5.2702,  -4.6475,  -9.0922],\n",
      "         [  9.0618, -15.3406, -15.3090,  ...,  -5.2702,  -4.6475,  -9.0922],\n",
      "         [  9.0618, -15.3406, -15.3090,  ...,  -5.2702,  -4.6475,  -9.0922]]],\n",
      "       device='cuda:0')\n",
      "====================\n",
      "i= 1998 ====================\n",
      "target_sentence 그것은 의외로 강력해서 \n",
      "generate: \n",
      "output tensor([[[  9.0618, -15.3406, -15.3090,  ...,  -5.2702,  -4.6475,  -9.0922],\n",
      "         [  9.0618, -15.3406, -15.3090,  ...,  -5.2702,  -4.6475,  -9.0922],\n",
      "         [  9.0618, -15.3406, -15.3090,  ...,  -5.2702,  -4.6475,  -9.0922],\n",
      "         ...,\n",
      "         [  9.0618, -15.3406, -15.3090,  ...,  -5.2702,  -4.6475,  -9.0922],\n",
      "         [  9.0618, -15.3406, -15.3090,  ...,  -5.2702,  -4.6475,  -9.0922],\n",
      "         [  9.0618, -15.3406, -15.3090,  ...,  -5.2702,  -4.6475,  -9.0922]]],\n",
      "       device='cuda:0')\n",
      "====================\n",
      "i= 1999 ====================\n",
      "target_sentence 그리고 다같이 저희는 제 치유를 위한 전략을 세웠어요. 여러 언어와 문화에 따라 말이죠. \n",
      "generate: \n",
      "output tensor([[[  9.0618, -15.3406, -15.3090,  ...,  -5.2702,  -4.6475,  -9.0922],\n",
      "         [  9.0618, -15.3406, -15.3090,  ...,  -5.2702,  -4.6475,  -9.0922],\n",
      "         [  9.0618, -15.3406, -15.3090,  ...,  -5.2702,  -4.6475,  -9.0922],\n",
      "         ...,\n",
      "         [  9.0618, -15.3406, -15.3090,  ...,  -5.2702,  -4.6475,  -9.0922],\n",
      "         [  9.0618, -15.3406, -15.3090,  ...,  -5.2702,  -4.6475,  -9.0922],\n",
      "         [  9.0618, -15.3406, -15.3090,  ...,  -5.2702,  -4.6475,  -9.0922]]],\n",
      "       device='cuda:0')\n",
      "====================\n",
      "Epoch 24 | Eval Time: 0m 19s\n",
      "\tTrain Loss: 1.570 | Test Loss: 6.422\n",
      "\tBLEU Score:\n",
      "\t\tavg: 0.000\n",
      "\t\t1-gram: 0.000\n",
      "\t\t2-gram: 0.000\n",
      "\t\t3-gram: 0.000\n",
      "\t\t4-gram: 0.000\n",
      "{'avg': [15.3321956702153, 0.0, 13.171730318749775, 19.14650894456972, 0.0, 1.1599713834969505, 1.526608193588886, 0.0, 13.334979932109189, 0.0, 12.789533377801794, 15.68489040233032, 0.0, 0.0, 12.5848347939092, 15.816593696872394, 0.0, 13.82109806372432, 0.0, 13.171730318749775, 0.0, 13.121551386461338, 0.0, 0.0], '1-gram': [72.41379310344827, 0.0, 69.23076923076923, 68.0, 0.0, 3.125, 9.375, 0.0, 64.0, 0.0, 61.53846153846154, 79.3103448275862, 0.0, 0.0, 57.69230769230769, 76.0, 0.0, 80.0, 0.0, 69.23076923076923, 0.0, 60.0, 0.0, 0.0], '2-gram': [17.857142857142858, 0.0, 12.0, 16.666666666666668, 0.0, 1.6129032258064515, 1.6129032258064515, 0.0, 12.5, 0.0, 12.0, 17.857142857142858, 0.0, 0.0, 12.0, 20.83333333333333, 0.0, 17.24137931034483, 0.0, 12.0, 0.0, 12.5, 0.0, 0.0], '3-gram': [11.11111111111111, 0.0, 8.333333333333334, 13.043478260869565, 0.0, 0.8333333333333334, 0.8333333333333334, 0.0, 8.695652173913043, 0.0, 8.333333333333334, 11.11111111111111, 0.0, 0.0, 8.333333333333334, 8.695652173913043, 0.0, 7.142857142857143, 0.0, 8.333333333333334, 0.0, 8.695652173913043, 0.0, 0.0], '4-gram': [3.8461538461538463, 0.0, 4.3478260869565215, 9.090909090909092, 0.0, 0.4310344827586206, 0.4310344827586206, 0.0, 4.545454545454546, 0.0, 4.3478260869565215, 3.8461538461538463, 0.0, 0.0, 4.3478260869565215, 4.545454545454546, 0.0, 3.703703703703704, 0.0, 4.3478260869565215, 0.0, 4.545454545454546, 0.0, 0.0]}\n"
     ]
    },
    {
     "name": "stderr",
     "output_type": "stream",
     "text": [
      "100%|█████████████████████████████████████████████████████████████████████████████████████████████████████████████████████████████████████████████████████████████████| 38922/38922 [39:04<00:00, 16.60it/s]\n"
     ]
    },
    {
     "name": "stdout",
     "output_type": "stream",
     "text": [
      "Epoch 25 | Train Time: 39m 10s\n"
     ]
    },
    {
     "name": "stderr",
     "output_type": "stream",
     "text": [
      "100%|███████████████████████████████████████████████████████████████████████████████████████████████████████████████████████████████████████████████████████████████████| 9731/9731 [02:43<00:00, 59.63it/s]\n"
     ]
    },
    {
     "name": "stdout",
     "output_type": "stream",
     "text": [
      "Epoch 25 | Test Time: 2m 43s\n"
     ]
    },
    {
     "name": "stderr",
     "output_type": "stream",
     "text": [
      "100%|███████████████████████████████████████████████████████████████████████████████████████████████████████████████████████████████████████████████████████████████████| 2000/2000 [00:20<00:00, 99.10it/s]\n"
     ]
    },
    {
     "name": "stdout",
     "output_type": "stream",
     "text": [
      "i= 1996 ====================\n",
      "target_sentence 저는 개미 서식지에 관한 전제를 세우고 연구하고 있습니다. 즉, 각자 개미들은 자신들만의 방법을 사용해 각 작업에 기여하고 다른이들과 독립적으로 일을 수행하며, 자신이 일해야 할 곳을 알고 있다고 생각했습니다. \n",
      "generate: \n",
      "output tensor([[[ 10.2941, -19.1350, -19.1991,  ...,  -7.0838,  -5.0398, -12.1549],\n",
      "         [ 10.2941, -19.1350, -19.1991,  ...,  -7.0838,  -5.0398, -12.1549],\n",
      "         [ 10.2941, -19.1350, -19.1991,  ...,  -7.0838,  -5.0398, -12.1549],\n",
      "         ...,\n",
      "         [ 10.2941, -19.1350, -19.1991,  ...,  -7.0838,  -5.0398, -12.1549],\n",
      "         [ 10.2941, -19.1350, -19.1991,  ...,  -7.0838,  -5.0398, -12.1549],\n",
      "         [ 10.2941, -19.1350, -19.1991,  ...,  -7.0838,  -5.0398, -12.1549]]],\n",
      "       device='cuda:0')\n",
      "====================\n",
      "i= 1997 ====================\n",
      "target_sentence 믿을 수가 없었죠. \n",
      "generate: \n",
      "output tensor([[[ 10.2941, -19.1350, -19.1991,  ...,  -7.0838,  -5.0398, -12.1549],\n",
      "         [ 10.2941, -19.1350, -19.1991,  ...,  -7.0838,  -5.0398, -12.1549],\n",
      "         [ 10.2941, -19.1350, -19.1991,  ...,  -7.0838,  -5.0398, -12.1549],\n",
      "         ...,\n",
      "         [ 10.2941, -19.1350, -19.1991,  ...,  -7.0838,  -5.0398, -12.1549],\n",
      "         [ 10.2941, -19.1350, -19.1991,  ...,  -7.0838,  -5.0398, -12.1549],\n",
      "         [ 10.2941, -19.1350, -19.1991,  ...,  -7.0838,  -5.0398, -12.1549]]],\n",
      "       device='cuda:0')\n",
      "====================\n",
      "i= 1998 ====================\n",
      "target_sentence 왜 이런 일이 일어날까요? 세 가지 이유가 있습니다. \n",
      "generate: \n",
      "output tensor([[[ 10.2941, -19.1350, -19.1991,  ...,  -7.0838,  -5.0398, -12.1549],\n",
      "         [ 10.2941, -19.1350, -19.1991,  ...,  -7.0838,  -5.0398, -12.1549],\n",
      "         [ 10.2941, -19.1350, -19.1991,  ...,  -7.0838,  -5.0398, -12.1549],\n",
      "         ...,\n",
      "         [ 10.2941, -19.1350, -19.1991,  ...,  -7.0838,  -5.0398, -12.1549],\n",
      "         [ 10.2941, -19.1350, -19.1991,  ...,  -7.0838,  -5.0398, -12.1549],\n",
      "         [ 10.2941, -19.1350, -19.1991,  ...,  -7.0838,  -5.0398, -12.1549]]],\n",
      "       device='cuda:0')\n",
      "====================\n",
      "i= 1999 ====================\n",
      "target_sentence 공동 묘지에 매장할 때는 거대한 콘크리트나 금속 틀 안으로 관을 내려서 묻습니다. \n",
      "generate: \n",
      "output tensor([[[ 10.2941, -19.1350, -19.1991,  ...,  -7.0838,  -5.0398, -12.1549],\n",
      "         [ 10.2941, -19.1350, -19.1991,  ...,  -7.0838,  -5.0398, -12.1549],\n",
      "         [ 10.2941, -19.1350, -19.1991,  ...,  -7.0838,  -5.0398, -12.1549],\n",
      "         ...,\n",
      "         [ 10.2941, -19.1350, -19.1991,  ...,  -7.0838,  -5.0398, -12.1549],\n",
      "         [ 10.2941, -19.1350, -19.1991,  ...,  -7.0838,  -5.0398, -12.1549],\n",
      "         [ 10.2941, -19.1350, -19.1991,  ...,  -7.0838,  -5.0398, -12.1549]]],\n",
      "       device='cuda:0')\n",
      "====================\n",
      "Epoch 25 | Eval Time: 0m 20s\n",
      "\tTrain Loss: 2.054 | Test Loss: 7.256\n",
      "\tBLEU Score:\n",
      "\t\tavg: 0.000\n",
      "\t\t1-gram: 0.000\n",
      "\t\t2-gram: 0.000\n",
      "\t\t3-gram: 0.000\n",
      "\t\t4-gram: 0.000\n",
      "{'avg': [15.3321956702153, 0.0, 13.171730318749775, 19.14650894456972, 0.0, 1.1599713834969505, 1.526608193588886, 0.0, 13.334979932109189, 0.0, 12.789533377801794, 15.68489040233032, 0.0, 0.0, 12.5848347939092, 15.816593696872394, 0.0, 13.82109806372432, 0.0, 13.171730318749775, 0.0, 13.121551386461338, 0.0, 0.0, 0.0], '1-gram': [72.41379310344827, 0.0, 69.23076923076923, 68.0, 0.0, 3.125, 9.375, 0.0, 64.0, 0.0, 61.53846153846154, 79.3103448275862, 0.0, 0.0, 57.69230769230769, 76.0, 0.0, 80.0, 0.0, 69.23076923076923, 0.0, 60.0, 0.0, 0.0, 0.0], '2-gram': [17.857142857142858, 0.0, 12.0, 16.666666666666668, 0.0, 1.6129032258064515, 1.6129032258064515, 0.0, 12.5, 0.0, 12.0, 17.857142857142858, 0.0, 0.0, 12.0, 20.83333333333333, 0.0, 17.24137931034483, 0.0, 12.0, 0.0, 12.5, 0.0, 0.0, 0.0], '3-gram': [11.11111111111111, 0.0, 8.333333333333334, 13.043478260869565, 0.0, 0.8333333333333334, 0.8333333333333334, 0.0, 8.695652173913043, 0.0, 8.333333333333334, 11.11111111111111, 0.0, 0.0, 8.333333333333334, 8.695652173913043, 0.0, 7.142857142857143, 0.0, 8.333333333333334, 0.0, 8.695652173913043, 0.0, 0.0, 0.0], '4-gram': [3.8461538461538463, 0.0, 4.3478260869565215, 9.090909090909092, 0.0, 0.4310344827586206, 0.4310344827586206, 0.0, 4.545454545454546, 0.0, 4.3478260869565215, 3.8461538461538463, 0.0, 0.0, 4.3478260869565215, 4.545454545454546, 0.0, 3.703703703703704, 0.0, 4.3478260869565215, 0.0, 4.545454545454546, 0.0, 0.0, 0.0]}\n"
     ]
    },
    {
     "name": "stderr",
     "output_type": "stream",
     "text": [
      "100%|█████████████████████████████████████████████████████████████████████████████████████████████████████████████████████████████████████████████████████████████████| 38922/38922 [39:01<00:00, 16.62it/s]\n"
     ]
    },
    {
     "name": "stdout",
     "output_type": "stream",
     "text": [
      "Epoch 26 | Train Time: 39m 7s\n"
     ]
    },
    {
     "name": "stderr",
     "output_type": "stream",
     "text": [
      "100%|███████████████████████████████████████████████████████████████████████████████████████████████████████████████████████████████████████████████████████████████████| 9731/9731 [02:43<00:00, 59.46it/s]\n"
     ]
    },
    {
     "name": "stdout",
     "output_type": "stream",
     "text": [
      "Epoch 26 | Test Time: 2m 43s\n"
     ]
    },
    {
     "name": "stderr",
     "output_type": "stream",
     "text": [
      "100%|███████████████████████████████████████████████████████████████████████████████████████████████████████████████████████████████████████████████████████████████████| 2000/2000 [00:20<00:00, 98.60it/s]\n"
     ]
    },
    {
     "name": "stdout",
     "output_type": "stream",
     "text": [
      "i= 1996 ====================\n",
      "target_sentence 아프리카는 오랜 디자인의 역사와 잘 정제된 디자인 감각을 가지고 있지만, 아프리카에는 문제가 있습니다. 특히 오늘날, 아프리카의 디자이너들은 모든 형태의 디자인으로 고생하는데, 그들이 영향과 영감을 밖에서 찾으려는 경향이 더 크기 때문입니다. \n",
      "generate: \n",
      "output tensor([[[  9.8662, -16.4388, -16.4477,  ...,  -7.9428,  -5.2676, -10.5609],\n",
      "         [  9.8662, -16.4388, -16.4477,  ...,  -7.9428,  -5.2676, -10.5609],\n",
      "         [  9.8662, -16.4388, -16.4477,  ...,  -7.9428,  -5.2676, -10.5609],\n",
      "         ...,\n",
      "         [  9.8662, -16.4388, -16.4477,  ...,  -7.9428,  -5.2676, -10.5609],\n",
      "         [  9.8662, -16.4388, -16.4477,  ...,  -7.9428,  -5.2676, -10.5609],\n",
      "         [  9.8662, -16.4388, -16.4477,  ...,  -7.9428,  -5.2676, -10.5609]]],\n",
      "       device='cuda:0')\n",
      "====================\n",
      "i= 1997 ====================\n",
      "target_sentence 이제 본격적으로 시작하기 전에, 먼저 인체가 어떻게 작동하는지에 대해 좀 더 자세히 살펴볼 필요가 있습니다. \n",
      "generate: \n",
      "output tensor([[[  9.8662, -16.4388, -16.4477,  ...,  -7.9428,  -5.2676, -10.5609],\n",
      "         [  9.8662, -16.4388, -16.4477,  ...,  -7.9428,  -5.2676, -10.5609],\n",
      "         [  9.8662, -16.4388, -16.4477,  ...,  -7.9428,  -5.2676, -10.5608],\n",
      "         ...,\n",
      "         [  9.8662, -16.4388, -16.4477,  ...,  -7.9428,  -5.2676, -10.5608],\n",
      "         [  9.8662, -16.4388, -16.4477,  ...,  -7.9428,  -5.2676, -10.5608],\n",
      "         [  9.8662, -16.4388, -16.4477,  ...,  -7.9428,  -5.2676, -10.5609]]],\n",
      "       device='cuda:0')\n",
      "====================\n",
      "i= 1998 ====================\n",
      "target_sentence 빨간색은 처음에 좋은 상태를 보여주고, 일년후엔 \n",
      "generate: \n",
      "output tensor([[[  9.8662, -16.4388, -16.4477,  ...,  -7.9428,  -5.2676, -10.5608],\n",
      "         [  9.8662, -16.4388, -16.4477,  ...,  -7.9428,  -5.2676, -10.5609],\n",
      "         [  9.8662, -16.4388, -16.4477,  ...,  -7.9428,  -5.2676, -10.5608],\n",
      "         ...,\n",
      "         [  9.8662, -16.4388, -16.4477,  ...,  -7.9428,  -5.2676, -10.5608],\n",
      "         [  9.8662, -16.4388, -16.4477,  ...,  -7.9428,  -5.2676, -10.5608],\n",
      "         [  9.8662, -16.4388, -16.4477,  ...,  -7.9428,  -5.2676, -10.5608]]],\n",
      "       device='cuda:0')\n",
      "====================\n",
      "i= 1999 ====================\n",
      "target_sentence 제 사무실은 접혀서 없어지고 쉽게 숨겨지죠. \n",
      "generate: \n",
      "output tensor([[[  9.8662, -16.4388, -16.4477,  ...,  -7.9428,  -5.2676, -10.5609],\n",
      "         [  9.8662, -16.4388, -16.4477,  ...,  -7.9428,  -5.2676, -10.5609],\n",
      "         [  9.8662, -16.4388, -16.4477,  ...,  -7.9428,  -5.2676, -10.5609],\n",
      "         ...,\n",
      "         [  9.8662, -16.4388, -16.4477,  ...,  -7.9428,  -5.2676, -10.5608],\n",
      "         [  9.8662, -16.4388, -16.4477,  ...,  -7.9428,  -5.2676, -10.5608],\n",
      "         [  9.8662, -16.4388, -16.4477,  ...,  -7.9428,  -5.2676, -10.5609]]],\n",
      "       device='cuda:0')\n",
      "====================\n",
      "Epoch 26 | Eval Time: 0m 20s\n",
      "\tTrain Loss: 2.069 | Test Loss: 6.860\n",
      "\tBLEU Score:\n",
      "\t\tavg: 0.000\n",
      "\t\t1-gram: 0.000\n",
      "\t\t2-gram: 0.000\n",
      "\t\t3-gram: 0.000\n",
      "\t\t4-gram: 0.000\n",
      "{'avg': [15.3321956702153, 0.0, 13.171730318749775, 19.14650894456972, 0.0, 1.1599713834969505, 1.526608193588886, 0.0, 13.334979932109189, 0.0, 12.789533377801794, 15.68489040233032, 0.0, 0.0, 12.5848347939092, 15.816593696872394, 0.0, 13.82109806372432, 0.0, 13.171730318749775, 0.0, 13.121551386461338, 0.0, 0.0, 0.0, 0.0], '1-gram': [72.41379310344827, 0.0, 69.23076923076923, 68.0, 0.0, 3.125, 9.375, 0.0, 64.0, 0.0, 61.53846153846154, 79.3103448275862, 0.0, 0.0, 57.69230769230769, 76.0, 0.0, 80.0, 0.0, 69.23076923076923, 0.0, 60.0, 0.0, 0.0, 0.0, 0.0], '2-gram': [17.857142857142858, 0.0, 12.0, 16.666666666666668, 0.0, 1.6129032258064515, 1.6129032258064515, 0.0, 12.5, 0.0, 12.0, 17.857142857142858, 0.0, 0.0, 12.0, 20.83333333333333, 0.0, 17.24137931034483, 0.0, 12.0, 0.0, 12.5, 0.0, 0.0, 0.0, 0.0], '3-gram': [11.11111111111111, 0.0, 8.333333333333334, 13.043478260869565, 0.0, 0.8333333333333334, 0.8333333333333334, 0.0, 8.695652173913043, 0.0, 8.333333333333334, 11.11111111111111, 0.0, 0.0, 8.333333333333334, 8.695652173913043, 0.0, 7.142857142857143, 0.0, 8.333333333333334, 0.0, 8.695652173913043, 0.0, 0.0, 0.0, 0.0], '4-gram': [3.8461538461538463, 0.0, 4.3478260869565215, 9.090909090909092, 0.0, 0.4310344827586206, 0.4310344827586206, 0.0, 4.545454545454546, 0.0, 4.3478260869565215, 3.8461538461538463, 0.0, 0.0, 4.3478260869565215, 4.545454545454546, 0.0, 3.703703703703704, 0.0, 4.3478260869565215, 0.0, 4.545454545454546, 0.0, 0.0, 0.0, 0.0]}\n"
     ]
    },
    {
     "name": "stderr",
     "output_type": "stream",
     "text": [
      "100%|█████████████████████████████████████████████████████████████████████████████████████████████████████████████████████████████████████████████████████████████████| 38922/38922 [39:03<00:00, 16.61it/s]\n"
     ]
    },
    {
     "name": "stdout",
     "output_type": "stream",
     "text": [
      "Epoch 27 | Train Time: 39m 9s\n"
     ]
    },
    {
     "name": "stderr",
     "output_type": "stream",
     "text": [
      "100%|███████████████████████████████████████████████████████████████████████████████████████████████████████████████████████████████████████████████████████████████████| 9731/9731 [02:42<00:00, 59.74it/s]\n"
     ]
    },
    {
     "name": "stdout",
     "output_type": "stream",
     "text": [
      "Epoch 27 | Test Time: 2m 42s\n"
     ]
    },
    {
     "name": "stderr",
     "output_type": "stream",
     "text": [
      "100%|███████████████████████████████████████████████████████████████████████████████████████████████████████████████████████████████████████████████████████████████████| 2000/2000 [00:20<00:00, 99.83it/s]\n"
     ]
    },
    {
     "name": "stdout",
     "output_type": "stream",
     "text": [
      "i= 1996 ====================\n",
      "target_sentence 그리고 그는 여러분이 기형(奇形)학자라고 부르는 사람이기도 하구요. 그는 규칙과 법칙을 찾기위해 표준적인 것들을 보는 대신 오히려 모든 괴물과 돌연변이를 찾아보았습니다. \n",
      "generate: 그러지 않고 아이들 에 좀 더 많은 기회를 줄 수는 없는 걸까요?\n",
      "output tensor([[[ -4.6746,  -6.2328,  -6.3892,  ...,   1.5105,  -5.2014,  -5.5427],\n",
      "         [  0.3543,  -9.7479,  -9.8164,  ...,  -3.9403,  -6.6923,  -5.1333],\n",
      "         [  0.3474,  -9.1340,  -9.1868,  ...,  -3.9905,  -5.2682,  -4.3509],\n",
      "         ...,\n",
      "         [ 17.2334, -16.1509, -16.1746,  ..., -11.7360,  -8.7077, -12.8162],\n",
      "         [ 17.2815, -16.2023, -16.2295,  ..., -11.6969,  -8.6540, -12.8291],\n",
      "         [ 19.2323, -16.9799, -17.0738,  ..., -12.9948,  -8.9483, -14.4188]]],\n",
      "       device='cuda:0')\n",
      "====================\n",
      "i= 1997 ====================\n",
      "target_sentence 아주 대조적인 나라, 하지만 여러 민족으로 이루어진 나라. \n",
      "generate: 랙 스 는 사진, 비디오, 설치 미술 을 넘나 드는 방식으로 오늘날 인도 의 땀이 아트 선두 선두 있다고 있다고..\n",
      "output tensor([[[ -3.9680,  -5.3604,  -5.5269,  ...,   1.9598,  -3.6752,  -5.0871],\n",
      "         [ -0.6571,  -5.2604,  -5.1806,  ...,  -2.4009,  -0.8631,  -2.0525],\n",
      "         [  2.8442,  -9.7432,  -9.7375,  ...,  -3.5434,  -6.3028,  -6.1943],\n",
      "         ...,\n",
      "         [  9.8644, -12.7616, -12.7721,  ...,  -8.5124,  -6.3045,  -9.4616],\n",
      "         [ 10.0112, -12.7632, -12.7738,  ...,  -8.5474,  -6.2045,  -9.3204],\n",
      "         [ 16.3126, -14.2995, -14.3918,  ..., -10.7052,  -7.5999, -12.9009]]],\n",
      "       device='cuda:0')\n",
      "====================\n",
      "i= 1998 ====================\n",
      "target_sentence 상상하기 힘든 규모의 비극입니다. \n",
      "generate: 저희 팀이 전 세계적 규모로 인공 위성 데이터 와 지상 기반 테 를 사용해 이 궁금 증 을 을..\n",
      "output tensor([[[ -3.0357,  -6.2626,  -6.3602,  ...,   1.5907,  -3.9295,  -5.4028],\n",
      "         [  1.1312, -10.0382, -10.0982,  ...,  -3.0152,  -3.8078,  -8.3219],\n",
      "         [  0.1060,  -5.9606,  -5.9214,  ...,   0.8144,   0.5365,  -3.6013],\n",
      "         ...,\n",
      "         [  9.1280, -12.3444, -12.3425,  ...,  -7.4981,  -5.5822,  -8.6982],\n",
      "         [  9.3144, -12.3607, -12.3639,  ...,  -7.5282,  -5.5413,  -8.6697],\n",
      "         [ 15.5311, -13.8901, -13.9865,  ...,  -9.6366,  -6.8806, -12.1278]]],\n",
      "       device='cuda:0')\n",
      "====================\n",
      "i= 1999 ====================\n",
      "target_sentence 미국 군인의 10퍼센트 정도가 전투에 직접 참여했습니다. 10퍼센트 혹은 그 미만입니다. \n",
      "generate: 아니면 아래쪽 인가 요 - -\n",
      "output tensor([[[ -4.2856,  -5.9855,  -6.0870,  ...,   0.9540,  -3.7105,  -5.3678],\n",
      "         [  1.4859,  -9.0072,  -9.0435,  ...,  -5.3686,  -3.6116,  -5.7131],\n",
      "         [ -0.2683,  -7.2918,  -7.3364,  ...,  -0.7046,  -2.5342,  -3.3493],\n",
      "         ...,\n",
      "         [ 20.8998, -16.4838, -16.5077,  ..., -12.7681,  -7.8118, -13.1086],\n",
      "         [ 21.6085, -17.7633, -17.7632,  ..., -13.5264,  -8.2547, -15.3349],\n",
      "         [ 21.6299, -16.5755, -16.5982,  ..., -12.9693,  -7.6659, -13.2727]]],\n",
      "       device='cuda:0')\n",
      "====================\n",
      "Epoch 27 | Eval Time: 0m 20s\n",
      "== save model ==\n",
      "\tTrain Loss: 1.047 | Test Loss: 0.991\n",
      "\tBLEU Score:\n",
      "\t\tavg: 19.786\n",
      "\t\t1-gram: 70.000\n",
      "\t\t2-gram: 20.690\n",
      "\t\t3-gram: 14.286\n",
      "\t\t4-gram: 7.407\n",
      "{'avg': [15.3321956702153, 0.0, 13.171730318749775, 19.14650894456972, 0.0, 1.1599713834969505, 1.526608193588886, 0.0, 13.334979932109189, 0.0, 12.789533377801794, 15.68489040233032, 0.0, 0.0, 12.5848347939092, 15.816593696872394, 0.0, 13.82109806372432, 0.0, 13.171730318749775, 0.0, 13.121551386461338, 0.0, 0.0, 0.0, 0.0, 19.78585723043447], '1-gram': [72.41379310344827, 0.0, 69.23076923076923, 68.0, 0.0, 3.125, 9.375, 0.0, 64.0, 0.0, 61.53846153846154, 79.3103448275862, 0.0, 0.0, 57.69230769230769, 76.0, 0.0, 80.0, 0.0, 69.23076923076923, 0.0, 60.0, 0.0, 0.0, 0.0, 0.0, 70.0], '2-gram': [17.857142857142858, 0.0, 12.0, 16.666666666666668, 0.0, 1.6129032258064515, 1.6129032258064515, 0.0, 12.5, 0.0, 12.0, 17.857142857142858, 0.0, 0.0, 12.0, 20.83333333333333, 0.0, 17.24137931034483, 0.0, 12.0, 0.0, 12.5, 0.0, 0.0, 0.0, 0.0, 20.689655172413794], '3-gram': [11.11111111111111, 0.0, 8.333333333333334, 13.043478260869565, 0.0, 0.8333333333333334, 0.8333333333333334, 0.0, 8.695652173913043, 0.0, 8.333333333333334, 11.11111111111111, 0.0, 0.0, 8.333333333333334, 8.695652173913043, 0.0, 7.142857142857143, 0.0, 8.333333333333334, 0.0, 8.695652173913043, 0.0, 0.0, 0.0, 0.0, 14.285714285714286], '4-gram': [3.8461538461538463, 0.0, 4.3478260869565215, 9.090909090909092, 0.0, 0.4310344827586206, 0.4310344827586206, 0.0, 4.545454545454546, 0.0, 4.3478260869565215, 3.8461538461538463, 0.0, 0.0, 4.3478260869565215, 4.545454545454546, 0.0, 3.703703703703704, 0.0, 4.3478260869565215, 0.0, 4.545454545454546, 0.0, 0.0, 0.0, 0.0, 7.407407407407407]}\n"
     ]
    },
    {
     "name": "stderr",
     "output_type": "stream",
     "text": [
      "100%|█████████████████████████████████████████████████████████████████████████████████████████████████████████████████████████████████████████████████████████████████| 38922/38922 [39:03<00:00, 16.61it/s]\n"
     ]
    },
    {
     "name": "stdout",
     "output_type": "stream",
     "text": [
      "Epoch 28 | Train Time: 39m 8s\n"
     ]
    },
    {
     "name": "stderr",
     "output_type": "stream",
     "text": [
      "100%|███████████████████████████████████████████████████████████████████████████████████████████████████████████████████████████████████████████████████████████████████| 9731/9731 [02:43<00:00, 59.53it/s]\n"
     ]
    },
    {
     "name": "stdout",
     "output_type": "stream",
     "text": [
      "Epoch 28 | Test Time: 2m 43s\n"
     ]
    },
    {
     "name": "stderr",
     "output_type": "stream",
     "text": [
      "100%|███████████████████████████████████████████████████████████████████████████████████████████████████████████████████████████████████████████████████████████████████| 2000/2000 [00:20<00:00, 99.37it/s]\n"
     ]
    },
    {
     "name": "stdout",
     "output_type": "stream",
     "text": [
      "i= 1996 ====================\n",
      "target_sentence 수영장이 완전히 비어있다는 걸 곧 알게 됩니다. 얼음처럼 차가운 물이 거의 꽁꽁 얼 지경이었기 때문이었고 말 그대로 제 숨을 앗아가니까요. \n",
      "generate: 그러지 않고 아이들 에 좀 더 많은 기회를 줄 수는 없는 걸까요?\n",
      "output tensor([[[ -3.3193,  -5.0876,  -5.1455,  ...,   4.6223,  -1.6979,   0.4442],\n",
      "         [ -0.1632,  -5.1879,  -5.2499,  ...,   2.1875,   0.0883,  -1.0671],\n",
      "         [  0.8119, -12.2617, -12.3157,  ...,  -5.5568,  -4.8359,  -8.6982],\n",
      "         ...,\n",
      "         [ 17.9913, -19.4555, -19.4178,  ..., -14.2856, -10.5139, -16.7956],\n",
      "         [ 18.0462, -19.5158, -19.4792,  ..., -14.2705, -10.5273, -16.8661],\n",
      "         [ 19.3760, -19.9973, -20.0099,  ..., -13.8105, -10.5920, -17.5590]]],\n",
      "       device='cuda:0')\n",
      "====================\n",
      "i= 1997 ====================\n",
      "target_sentence 그래서 우리는 꾹 참았습니다. \n",
      "generate: 랙 스 는 사진, 비디오, 설치 미술 을 넘나 드는 작업으로 오늘날 인도 의 닮은 아트 의 선두 에 있다고 했습니다.\n",
      "output tensor([[[ -3.4591,  -5.4254,  -5.4807,  ...,   4.6457,  -2.6668,   0.2928],\n",
      "         [ -0.0633,  -4.8766,  -4.8504,  ...,  -0.0443,   1.8651,  -1.3875],\n",
      "         [  2.1488,  -9.6521,  -9.6322,  ...,  -5.1707,  -4.0182,  -4.8487],\n",
      "         ...,\n",
      "         [  9.1868, -14.0153, -14.0047,  ...,  -8.3437,  -5.1947, -10.1333],\n",
      "         [  9.4604, -13.9390, -13.9262,  ...,  -8.3706,  -5.1163,  -9.9826],\n",
      "         [ 15.7003, -16.4467, -16.4791,  ..., -11.2251,  -7.4846, -14.5394]]],\n",
      "       device='cuda:0')\n",
      "====================\n",
      "i= 1998 ====================\n",
      "target_sentence 이것은 항균성을 가진 은나노 기술로 만들어진 비누입니다. \n",
      "generate: 저희 팀이 전 세계적 규모로 인공 위성 와 와 지상 기반 를 를 사용해 이 을 을 을..\n",
      "output tensor([[[-5.0605e+00, -4.1045e+00, -4.2272e+00,  ...,  5.1268e+00,\n",
      "          -3.3263e+00,  2.4887e+00],\n",
      "         [ 7.5071e-02, -6.2168e+00, -6.2910e+00,  ...,  2.0000e-01,\n",
      "          -1.9119e+00, -2.4104e+00],\n",
      "         [-1.4361e-02, -8.0038e+00, -7.9906e+00,  ..., -2.2783e-01,\n",
      "          -1.3627e+00, -4.1053e+00],\n",
      "         ...,\n",
      "         [ 1.0158e+01, -1.3591e+01, -1.3594e+01,  ..., -7.4477e+00,\n",
      "          -5.9633e+00, -9.4205e+00],\n",
      "         [ 1.0311e+01, -1.3646e+01, -1.3649e+01,  ..., -7.5640e+00,\n",
      "          -5.9435e+00, -9.4478e+00],\n",
      "         [ 1.6152e+01, -1.6061e+01, -1.6104e+01,  ..., -1.0492e+01,\n",
      "          -8.3142e+00, -1.3805e+01]]], device='cuda:0')\n",
      "====================\n",
      "i= 1999 ====================\n",
      "target_sentence 저 화면에는 1/6초의 지연시간이 있습니다. \n",
      "generate: 아니면 아래쪽 인가 요 - -\n",
      "output tensor([[[ -4.3468,  -4.6926,  -4.7397,  ...,   5.0494,  -1.8680,   0.9845],\n",
      "         [  1.7662,  -7.7826,  -7.7955,  ...,  -4.2940,  -3.2228,  -3.0821],\n",
      "         [ -0.7023,  -3.6691,  -3.6311,  ...,   1.3129,   1.0127,   0.9904],\n",
      "         ...,\n",
      "         [ 21.1144, -19.4044, -19.3683,  ..., -14.4347, -10.0179, -16.5351],\n",
      "         [ 21.2356, -19.4706, -19.4316,  ..., -14.5958, -10.0605, -16.6073],\n",
      "         [ 21.1525, -19.4910, -19.4561,  ..., -14.7786, -10.0280, -16.8372]]],\n",
      "       device='cuda:0')\n",
      "====================\n",
      "Epoch 28 | Eval Time: 0m 20s\n",
      "\tTrain Loss: 0.985 | Test Loss: 0.953\n",
      "\tBLEU Score:\n",
      "\t\tavg: 13.367\n",
      "\t\t1-gram: 70.000\n",
      "\t\t2-gram: 17.241\n",
      "\t\t3-gram: 7.143\n",
      "\t\t4-gram: 3.704\n",
      "{'avg': [15.3321956702153, 0.0, 13.171730318749775, 19.14650894456972, 0.0, 1.1599713834969505, 1.526608193588886, 0.0, 13.334979932109189, 0.0, 12.789533377801794, 15.68489040233032, 0.0, 0.0, 12.5848347939092, 15.816593696872394, 0.0, 13.82109806372432, 0.0, 13.171730318749775, 0.0, 13.121551386461338, 0.0, 0.0, 0.0, 0.0, 19.78585723043447, 13.367326676376466], '1-gram': [72.41379310344827, 0.0, 69.23076923076923, 68.0, 0.0, 3.125, 9.375, 0.0, 64.0, 0.0, 61.53846153846154, 79.3103448275862, 0.0, 0.0, 57.69230769230769, 76.0, 0.0, 80.0, 0.0, 69.23076923076923, 0.0, 60.0, 0.0, 0.0, 0.0, 0.0, 70.0, 70.0], '2-gram': [17.857142857142858, 0.0, 12.0, 16.666666666666668, 0.0, 1.6129032258064515, 1.6129032258064515, 0.0, 12.5, 0.0, 12.0, 17.857142857142858, 0.0, 0.0, 12.0, 20.83333333333333, 0.0, 17.24137931034483, 0.0, 12.0, 0.0, 12.5, 0.0, 0.0, 0.0, 0.0, 20.689655172413797, 17.24137931034483], '3-gram': [11.11111111111111, 0.0, 8.333333333333334, 13.043478260869565, 0.0, 0.8333333333333334, 0.8333333333333334, 0.0, 8.695652173913043, 0.0, 8.333333333333334, 11.11111111111111, 0.0, 0.0, 8.333333333333334, 8.695652173913043, 0.0, 7.142857142857143, 0.0, 8.333333333333334, 0.0, 8.695652173913043, 0.0, 0.0, 0.0, 0.0, 14.285714285714286, 7.142857142857143], '4-gram': [3.8461538461538463, 0.0, 4.3478260869565215, 9.090909090909092, 0.0, 0.4310344827586206, 0.4310344827586206, 0.0, 4.545454545454546, 0.0, 4.3478260869565215, 3.8461538461538463, 0.0, 0.0, 4.3478260869565215, 4.545454545454546, 0.0, 3.703703703703704, 0.0, 4.3478260869565215, 0.0, 4.545454545454546, 0.0, 0.0, 0.0, 0.0, 7.407407407407407, 3.7037037037037037]}\n"
     ]
    },
    {
     "name": "stderr",
     "output_type": "stream",
     "text": [
      "100%|█████████████████████████████████████████████████████████████████████████████████████████████████████████████████████████████████████████████████████████████████| 38922/38922 [39:02<00:00, 16.62it/s]\n"
     ]
    },
    {
     "name": "stdout",
     "output_type": "stream",
     "text": [
      "Epoch 29 | Train Time: 39m 7s\n"
     ]
    },
    {
     "name": "stderr",
     "output_type": "stream",
     "text": [
      "100%|███████████████████████████████████████████████████████████████████████████████████████████████████████████████████████████████████████████████████████████████████| 9731/9731 [02:44<00:00, 59.31it/s]\n"
     ]
    },
    {
     "name": "stdout",
     "output_type": "stream",
     "text": [
      "Epoch 29 | Test Time: 2m 44s\n"
     ]
    },
    {
     "name": "stderr",
     "output_type": "stream",
     "text": [
      "100%|███████████████████████████████████████████████████████████████████████████████████████████████████████████████████████████████████████████████████████████████████| 2000/2000 [00:20<00:00, 99.81it/s]"
     ]
    },
    {
     "name": "stdout",
     "output_type": "stream",
     "text": [
      "i= 1996 ====================\n",
      "target_sentence 주인공 남자는 그녀를 금방 알아볼 수 있죠. 또 더 쉽게 그녀와 잠자리를 가질 수 있어요. \n",
      "generate: \n",
      "output tensor([[[  8.7089, -20.0846, -20.1180,  ...,  -6.9243,  -6.3849, -14.4507],\n",
      "         [  8.7089, -20.0846, -20.1180,  ...,  -6.9243,  -6.3849, -14.4507],\n",
      "         [  8.7089, -20.0846, -20.1180,  ...,  -6.9243,  -6.3849, -14.4507],\n",
      "         ...,\n",
      "         [  8.7089, -20.0846, -20.1180,  ...,  -6.9243,  -6.3849, -14.4507],\n",
      "         [  8.7089, -20.0846, -20.1180,  ...,  -6.9243,  -6.3849, -14.4507],\n",
      "         [  8.7089, -20.0846, -20.1180,  ...,  -6.9243,  -6.3849, -14.4507]]],\n",
      "       device='cuda:0')\n",
      "====================\n",
      "i= 1997 ====================\n",
      "target_sentence 그리고 5년이 지난 지금 \n",
      "generate: \n",
      "output tensor([[[  8.7089, -20.0846, -20.1180,  ...,  -6.9243,  -6.3849, -14.4507],\n",
      "         [  8.7089, -20.0846, -20.1180,  ...,  -6.9243,  -6.3849, -14.4507],\n",
      "         [  8.7089, -20.0846, -20.1180,  ...,  -6.9243,  -6.3849, -14.4507],\n",
      "         ...,\n",
      "         [  8.7089, -20.0846, -20.1180,  ...,  -6.9243,  -6.3849, -14.4507],\n",
      "         [  8.7089, -20.0846, -20.1180,  ...,  -6.9243,  -6.3849, -14.4507],\n",
      "         [  8.7089, -20.0846, -20.1180,  ...,  -6.9243,  -6.3849, -14.4507]]],\n",
      "       device='cuda:0')\n",
      "====================\n",
      "i= 1998 ====================\n",
      "target_sentence 하지만 그 결과 러시아 인구분포는 최악의 타격을 입게 됩니다. 동부 사람은 어쨌건 동부거주를 원치 않았기 때문에 철도와 차량을 이용해 서부행을 택했습니다. \n",
      "generate: \n",
      "output tensor([[[  8.7089, -20.0846, -20.1180,  ...,  -6.9243,  -6.3849, -14.4507],\n",
      "         [  8.7089, -20.0846, -20.1180,  ...,  -6.9243,  -6.3849, -14.4507],\n",
      "         [  8.7089, -20.0846, -20.1180,  ...,  -6.9243,  -6.3849, -14.4507],\n",
      "         ...,\n",
      "         [  8.7089, -20.0846, -20.1180,  ...,  -6.9243,  -6.3849, -14.4507],\n",
      "         [  8.7089, -20.0846, -20.1180,  ...,  -6.9243,  -6.3849, -14.4507],\n",
      "         [  8.7089, -20.0846, -20.1180,  ...,  -6.9243,  -6.3849, -14.4507]]],\n",
      "       device='cuda:0')\n",
      "====================\n",
      "i= 1999 ====================\n",
      "target_sentence 이것은 바뀌었습니다. \n",
      "generate: \n",
      "output tensor([[[  8.7089, -20.0846, -20.1180,  ...,  -6.9243,  -6.3849, -14.4507],\n",
      "         [  8.7089, -20.0846, -20.1180,  ...,  -6.9243,  -6.3849, -14.4507],\n",
      "         [  8.7089, -20.0846, -20.1180,  ...,  -6.9243,  -6.3849, -14.4507],\n",
      "         ...,\n",
      "         [  8.7089, -20.0846, -20.1180,  ...,  -6.9243,  -6.3849, -14.4507],\n",
      "         [  8.7089, -20.0846, -20.1180,  ...,  -6.9243,  -6.3849, -14.4507],\n",
      "         [  8.7089, -20.0846, -20.1180,  ...,  -6.9243,  -6.3849, -14.4507]]],\n",
      "       device='cuda:0')\n",
      "====================\n",
      "Epoch 29 | Eval Time: 0m 20s\n",
      "\tTrain Loss: 2.234 | Test Loss: 7.014\n",
      "\tBLEU Score:\n",
      "\t\tavg: 0.000\n",
      "\t\t1-gram: 0.000\n",
      "\t\t2-gram: 0.000\n",
      "\t\t3-gram: 0.000\n",
      "\t\t4-gram: 0.000\n"
     ]
    },
    {
     "name": "stderr",
     "output_type": "stream",
     "text": [
      "\n"
     ]
    },
    {
     "name": "stdout",
     "output_type": "stream",
     "text": [
      "{'avg': [15.3321956702153, 0.0, 13.171730318749775, 19.14650894456972, 0.0, 1.1599713834969505, 1.526608193588886, 0.0, 13.334979932109189, 0.0, 12.789533377801794, 15.68489040233032, 0.0, 0.0, 12.5848347939092, 15.816593696872394, 0.0, 13.82109806372432, 0.0, 13.171730318749775, 0.0, 13.121551386461338, 0.0, 0.0, 0.0, 0.0, 19.78585723043447, 13.367326676376466, 0.0], '1-gram': [72.41379310344827, 0.0, 69.23076923076923, 68.0, 0.0, 3.125, 9.375, 0.0, 64.0, 0.0, 61.53846153846154, 79.3103448275862, 0.0, 0.0, 57.69230769230769, 76.0, 0.0, 80.0, 0.0, 69.23076923076923, 0.0, 60.0, 0.0, 0.0, 0.0, 0.0, 70.0, 70.0, 0.0], '2-gram': [17.857142857142858, 0.0, 12.0, 16.666666666666668, 0.0, 1.6129032258064515, 1.6129032258064515, 0.0, 12.5, 0.0, 12.0, 17.857142857142858, 0.0, 0.0, 12.0, 20.83333333333333, 0.0, 17.24137931034483, 0.0, 12.0, 0.0, 12.5, 0.0, 0.0, 0.0, 0.0, 20.6896551724138, 17.24137931034483, 0.0], '3-gram': [11.11111111111111, 0.0, 8.333333333333334, 13.043478260869565, 0.0, 0.8333333333333334, 0.8333333333333334, 0.0, 8.695652173913043, 0.0, 8.333333333333334, 11.11111111111111, 0.0, 0.0, 8.333333333333334, 8.695652173913043, 0.0, 7.142857142857143, 0.0, 8.333333333333334, 0.0, 8.695652173913043, 0.0, 0.0, 0.0, 0.0, 14.285714285714286, 7.142857142857143, 0.0], '4-gram': [3.8461538461538463, 0.0, 4.3478260869565215, 9.090909090909092, 0.0, 0.4310344827586206, 0.4310344827586206, 0.0, 4.545454545454546, 0.0, 4.3478260869565215, 3.8461538461538463, 0.0, 0.0, 4.3478260869565215, 4.545454545454546, 0.0, 3.703703703703704, 0.0, 4.3478260869565215, 0.0, 4.545454545454546, 0.0, 0.0, 0.0, 0.0, 7.407407407407407, 3.703703703703704, 0.0]}\n"
     ]
    },
    {
     "name": "stderr",
     "output_type": "stream",
     "text": [
      "100%|█████████████████████████████████████████████████████████████████████████████████████████████████████████████████████████████████████████████████████████████████| 38922/38922 [39:03<00:00, 16.61it/s]\n"
     ]
    },
    {
     "name": "stdout",
     "output_type": "stream",
     "text": [
      "Epoch 30 | Train Time: 39m 8s\n"
     ]
    },
    {
     "name": "stderr",
     "output_type": "stream",
     "text": [
      "100%|███████████████████████████████████████████████████████████████████████████████████████████████████████████████████████████████████████████████████████████████████| 9731/9731 [02:43<00:00, 59.35it/s]\n"
     ]
    },
    {
     "name": "stdout",
     "output_type": "stream",
     "text": [
      "Epoch 30 | Test Time: 2m 43s\n"
     ]
    },
    {
     "name": "stderr",
     "output_type": "stream",
     "text": [
      "100%|███████████████████████████████████████████████████████████████████████████████████████████████████████████████████████████████████████████████████████████████████| 2000/2000 [00:20<00:00, 99.11it/s]\n"
     ]
    },
    {
     "name": "stdout",
     "output_type": "stream",
     "text": [
      "i= 1996 ====================\n",
      "target_sentence 저는 예술가입니다. \n",
      "generate: \n",
      "output tensor([[[  6.6338, -19.1256, -19.1432,  ...,  -6.5232,  -5.5649, -16.7032],\n",
      "         [  6.6338, -19.1256, -19.1432,  ...,  -6.5232,  -5.5649, -16.7032],\n",
      "         [  6.6338, -19.1256, -19.1432,  ...,  -6.5232,  -5.5649, -16.7032],\n",
      "         ...,\n",
      "         [  6.6338, -19.1256, -19.1432,  ...,  -6.5232,  -5.5649, -16.7032],\n",
      "         [  6.6338, -19.1256, -19.1432,  ...,  -6.5232,  -5.5649, -16.7032],\n",
      "         [  6.6338, -19.1256, -19.1432,  ...,  -6.5232,  -5.5649, -16.7032]]],\n",
      "       device='cuda:0')\n",
      "====================\n",
      "i= 1997 ====================\n",
      "target_sentence 다음 사람이 당신이 중단한 곳부터 다시 시작할 수 있도록요. \n",
      "generate: \n",
      "output tensor([[[  6.6338, -19.1256, -19.1432,  ...,  -6.5232,  -5.5649, -16.7032],\n",
      "         [  6.6338, -19.1256, -19.1432,  ...,  -6.5232,  -5.5649, -16.7032],\n",
      "         [  6.6338, -19.1256, -19.1432,  ...,  -6.5232,  -5.5649, -16.7032],\n",
      "         ...,\n",
      "         [  6.6338, -19.1256, -19.1432,  ...,  -6.5232,  -5.5649, -16.7032],\n",
      "         [  6.6338, -19.1256, -19.1432,  ...,  -6.5232,  -5.5649, -16.7032],\n",
      "         [  6.6338, -19.1256, -19.1432,  ...,  -6.5232,  -5.5649, -16.7032]]],\n",
      "       device='cuda:0')\n",
      "====================\n",
      "i= 1998 ====================\n",
      "target_sentence 저는 구치소를 디자인하지 않습니다. \n",
      "generate: \n",
      "output tensor([[[  6.6338, -19.1256, -19.1432,  ...,  -6.5232,  -5.5649, -16.7032],\n",
      "         [  6.6338, -19.1256, -19.1432,  ...,  -6.5232,  -5.5649, -16.7032],\n",
      "         [  6.6338, -19.1256, -19.1432,  ...,  -6.5232,  -5.5649, -16.7032],\n",
      "         ...,\n",
      "         [  6.6338, -19.1256, -19.1432,  ...,  -6.5232,  -5.5649, -16.7032],\n",
      "         [  6.6338, -19.1256, -19.1432,  ...,  -6.5232,  -5.5649, -16.7032],\n",
      "         [  6.6338, -19.1256, -19.1432,  ...,  -6.5232,  -5.5649, -16.7032]]],\n",
      "       device='cuda:0')\n",
      "====================\n",
      "i= 1999 ====================\n",
      "target_sentence 중요한 점으로 현실적인 배달은 금융, 지불 방법도 포함합니다. \n",
      "generate: \n",
      "output tensor([[[  6.6338, -19.1256, -19.1432,  ...,  -6.5232,  -5.5649, -16.7032],\n",
      "         [  6.6338, -19.1256, -19.1432,  ...,  -6.5232,  -5.5649, -16.7032],\n",
      "         [  6.6338, -19.1256, -19.1432,  ...,  -6.5232,  -5.5649, -16.7032],\n",
      "         ...,\n",
      "         [  6.6338, -19.1256, -19.1432,  ...,  -6.5232,  -5.5649, -16.7032],\n",
      "         [  6.6338, -19.1256, -19.1432,  ...,  -6.5232,  -5.5649, -16.7032],\n",
      "         [  6.6338, -19.1256, -19.1432,  ...,  -6.5232,  -5.5649, -16.7032]]],\n",
      "       device='cuda:0')\n",
      "====================\n",
      "Epoch 30 | Eval Time: 0m 20s\n",
      "\tTrain Loss: 2.130 | Test Loss: 5.810\n",
      "\tBLEU Score:\n",
      "\t\tavg: 0.000\n",
      "\t\t1-gram: 0.000\n",
      "\t\t2-gram: 0.000\n",
      "\t\t3-gram: 0.000\n",
      "\t\t4-gram: 0.000\n",
      "{'avg': [15.3321956702153, 0.0, 13.171730318749775, 19.14650894456972, 0.0, 1.1599713834969505, 1.526608193588886, 0.0, 13.334979932109189, 0.0, 12.789533377801794, 15.68489040233032, 0.0, 0.0, 12.5848347939092, 15.816593696872394, 0.0, 13.82109806372432, 0.0, 13.171730318749775, 0.0, 13.121551386461338, 0.0, 0.0, 0.0, 0.0, 19.78585723043447, 13.367326676376466, 0.0, 0.0], '1-gram': [72.41379310344827, 0.0, 69.23076923076923, 68.0, 0.0, 3.125, 9.375, 0.0, 64.0, 0.0, 61.53846153846154, 79.3103448275862, 0.0, 0.0, 57.69230769230769, 76.0, 0.0, 80.0, 0.0, 69.23076923076923, 0.0, 60.0, 0.0, 0.0, 0.0, 0.0, 70.0, 70.0, 0.0, 0.0], '2-gram': [17.857142857142858, 0.0, 12.0, 16.666666666666668, 0.0, 1.6129032258064515, 1.6129032258064515, 0.0, 12.5, 0.0, 12.0, 17.857142857142858, 0.0, 0.0, 12.0, 20.83333333333333, 0.0, 17.24137931034483, 0.0, 12.0, 0.0, 12.5, 0.0, 0.0, 0.0, 0.0, 20.6896551724138, 17.24137931034483, 0.0, 0.0], '3-gram': [11.11111111111111, 0.0, 8.333333333333334, 13.043478260869565, 0.0, 0.8333333333333334, 0.8333333333333334, 0.0, 8.695652173913043, 0.0, 8.333333333333334, 11.11111111111111, 0.0, 0.0, 8.333333333333334, 8.695652173913043, 0.0, 7.142857142857143, 0.0, 8.333333333333334, 0.0, 8.695652173913043, 0.0, 0.0, 0.0, 0.0, 14.285714285714286, 7.142857142857143, 0.0, 0.0], '4-gram': [3.8461538461538463, 0.0, 4.3478260869565215, 9.090909090909092, 0.0, 0.4310344827586206, 0.4310344827586206, 0.0, 4.545454545454546, 0.0, 4.3478260869565215, 3.8461538461538463, 0.0, 0.0, 4.3478260869565215, 4.545454545454546, 0.0, 3.703703703703704, 0.0, 4.3478260869565215, 0.0, 4.545454545454546, 0.0, 0.0, 0.0, 0.0, 7.407407407407407, 3.703703703703704, 0.0, 0.0]}\n"
     ]
    },
    {
     "data": {
      "application/vnd.jupyter.widget-view+json": {
       "model_id": "b2ff49ba73dc4afeba4a53b929a11e96",
       "version_major": 2,
       "version_minor": 0
      },
      "text/plain": [
       "VBox(children=(Label(value='0.004 MB of 0.004 MB uploaded\\r'), FloatProgress(value=1.0, max=1.0)))"
      ]
     },
     "metadata": {},
     "output_type": "display_data"
    },
    {
     "data": {
      "text/html": [
       "<style>\n",
       "    table.wandb td:nth-child(1) { padding: 0 10px; text-align: left ; width: auto;} td:nth-child(2) {text-align: left ; width: 100%}\n",
       "    .wandb-row { display: flex; flex-direction: row; flex-wrap: wrap; justify-content: flex-start; width: 100% }\n",
       "    .wandb-col { display: flex; flex-direction: column; flex-basis: 100%; flex: 1; padding: 10px; }\n",
       "    </style>\n",
       "<div class=\"wandb-row\"><div class=\"wandb-col\"><h3>Run history:</h3><br/><table class=\"wandb\"><tr><td>1-gram</td><td>▇▁▇▇▁▁▂▁▇▁▆█▁▁▆█▁█▁▇▁▆▁▁▁▁▇▇▁▁</td></tr><tr><td>2-gram</td><td>▇▁▅▇▁▂▂▁▅▁▅▇▁▁▅█▁▇▁▅▁▅▁▁▁▁█▇▁▁</td></tr><tr><td>3-gram</td><td>▆▁▅▇▁▁▁▁▅▁▅▆▁▁▅▅▁▅▁▅▁▅▁▁▁▁█▅▁▁</td></tr><tr><td>4-gram</td><td>▄▁▄█▁▁▁▁▅▁▄▄▁▁▄▅▁▄▁▄▁▅▁▁▁▁▇▄▁▁</td></tr><tr><td>BLEU_score(avg)</td><td>▆▁▆█▁▁▂▁▆▁▆▇▁▁▅▇▁▆▁▆▁▆▁▁▁▁█▆▁▁</td></tr><tr><td>Test_loss</td><td>▂▆▁▁▇▇█▇▁▇▁▁▆▆▁▁▇▁▆▁▆▁▅▆▇▆▁▁▇▅</td></tr><tr><td>Train_loss</td><td>▄▅▂▁▆▅██▁▇▁▁▆▃▁▁▆▁▂▁▃▁▆▂▃▃▁▁▃▃</td></tr></table><br/></div><div class=\"wandb-col\"><h3>Run summary:</h3><br/><table class=\"wandb\"><tr><td>1-gram</td><td>0.0</td></tr><tr><td>2-gram</td><td>0.0</td></tr><tr><td>3-gram</td><td>0.0</td></tr><tr><td>4-gram</td><td>0.0</td></tr><tr><td>BLEU_score(avg)</td><td>0.0</td></tr><tr><td>Test_loss</td><td>5.81035</td></tr><tr><td>Train_loss</td><td>2.13023</td></tr></table><br/></div></div>"
      ],
      "text/plain": [
       "<IPython.core.display.HTML object>"
      ]
     },
     "metadata": {},
     "output_type": "display_data"
    },
    {
     "data": {
      "text/html": [
       " View run <strong style=\"color:#cdcd00\">TED_ZK5_zh_hanja_no_zy</strong> at: <a href='https://wandb.ai/jiazhen_li/Chinese-Korean-Translation/runs/my_TED_ZK5_zh_hanja_no_zy' target=\"_blank\">https://wandb.ai/jiazhen_li/Chinese-Korean-Translation/runs/my_TED_ZK5_zh_hanja_no_zy</a><br/>Synced 5 W&B file(s), 0 media file(s), 0 artifact file(s) and 0 other file(s)"
      ],
      "text/plain": [
       "<IPython.core.display.HTML object>"
      ]
     },
     "metadata": {},
     "output_type": "display_data"
    },
    {
     "data": {
      "text/html": [
       "Find logs at: <code>./wandb/run-20240531_012520-my_TED_ZK5_zh_hanja_no_zy/logs</code>"
      ],
      "text/plain": [
       "<IPython.core.display.HTML object>"
      ]
     },
     "metadata": {},
     "output_type": "display_data"
    },
    {
     "data": {
      "image/png": "[encoded data removed]",
      "text/plain": [
       "<Figure size 640x480 with 1 Axes>"
      ]
     },
     "metadata": {},
     "output_type": "display_data"
    }
   ],
   "source": [
    "# 訓練模型\n",
    "for epoch in range(num_epochs):\n",
    "    train_losses = []\n",
    "    test_losses = []\n",
    "    bleu_scores = []\n",
    "\n",
    "    start_time = time.time()\n",
    "    train_loss = train(path='{}/MODELS/translation_model({}).pth'.format(dir_name,model_name))\n",
    "    end_time = time.time()\n",
    "    epoch_mins, epoch_secs = epoch_time(start_time, end_time)\n",
    "    #break\n",
    "    print(f'Epoch {epoch+1:02} | Train Time: {epoch_mins}m {epoch_secs}s')\n",
    "\n",
    "    start_time = time.time()\n",
    "    test_loss = evaluate()\n",
    "\n",
    "    end_time = time.time()\n",
    "    epoch_mins, epoch_secs = epoch_time(start_time, end_time)\n",
    "    print(f'Epoch {epoch+1:02} | Test Time: {epoch_mins}m {epoch_secs}s')\n",
    "\n",
    "    start_time = time.time()\n",
    "    samples = get_samples(TEST_ZSENT,TEST_KSENT)\n",
    "    test_score = sacrebleu_score(model, source_sentences=samples['zh'],target_sentences=samples['ko'])\n",
    "    #test_score = sacrebleu_score(model, source_sentences=TEST_ZSENT,target_sentences=TEST_KSENT,hanja_sentences=TEST_HSENT)\n",
    "    end_time = time.time()\n",
    "    epoch_mins, epoch_secs = epoch_time(start_time, end_time)\n",
    "    print(f'Epoch {epoch+1:02} | Eval Time: {epoch_mins}m {epoch_secs}s')\n",
    "\n",
    "    wandb.log({\"Train_loss\": train_loss, \"Test_loss\": test_loss})\n",
    "    wandb.log({'BLEU_score(avg)':test_score['avg'],'1-gram':test_score['1-gram'],'2-gram':test_score['2-gram'],'3-gram':test_score['3-gram'],'4-gram':test_score['4-gram']})\n",
    "\n",
    "    # 儲存訓練好的模型\n",
    "    if(test_score['avg'] > best_score or test_loss < best_loss):\n",
    "     if(test_loss < best_loss):\n",
    "      best_loss = test_loss\n",
    "     if(test_score['avg'] > best_score):\n",
    "      best_score = test_score['avg']\n",
    "      torch.save(model.state_dict(), '{}/MODELS/best_translation_model({}).pth'.format(dir_name,model_name))\n",
    "      print('== save model ==')\n",
    "    print('\\tTrain Loss: {:.3f} | Test Loss: {:.3f}'.format(train_loss, test_loss))\n",
    "    print('\\tBLEU Score:')\n",
    "    for k in test_score.keys():\n",
    "        print('\\t\\t{}: {:.3f}'.format(k,test_score[k]))\n",
    "\n",
    "\n",
    "    if(best_score - test_score['avg'] > 3 or test_score['avg'] < 0.01):\n",
    "      try:\n",
    "        model.load_state_dict(torch.load('./MODELS/best_translation_model({}).pth'.format(model_name)))\n",
    "      except:\n",
    "        'nothing'\n",
    "\n",
    "\n",
    "    train_losses.append(train_loss)\n",
    "    test_losses.append(test_loss)\n",
    "    bleu_scores.append(test_score)\n",
    "\n",
    "    loss_history(train_losses, test_losses, path=model_name, to_show=False)\n",
    "    sacrebleu_history(bleu_scores, path=model_name, to_show=False)\n",
    "wandb.finish()"
   ]
  },
  {
   "cell_type": "code",
   "execution_count": null,
   "metadata": {
    "id": "ceNwfHY0W3rq"
   },
   "outputs": [],
   "source": [
    "bleu_score(test_source_sentences,model,tokenizer,max_length,device)"
   ]
  },
  {
   "cell_type": "code",
   "execution_count": null,
   "metadata": {
    "id": "d0aItTP3JE9b"
   },
   "outputs": [],
   "source": []
  },
  {
   "cell_type": "code",
   "execution_count": null,
   "metadata": {
    "id": "je6JQhwGJE9c"
   },
   "outputs": [],
   "source": [
    "from sacrebleu.metrics import BLEU\n",
    "\n",
    "def sacrebleu_score(source_sentences,target_sentences,lang='ko'):\n",
    "  global zh_tokenizer, ko_tokenizer, model, max_length, device\n",
    "  model.eval()\n",
    "  bleu = BLEU()\n",
    "  bleu.trg_lang = lang\n",
    "  avg_score = {'avg':0,'1-gram':0,'2-gram':0,'3-gram':0,'4-gram':0}\n",
    "\n",
    "  # 生成目標語句\n",
    "  generated_sentences = []\n",
    "  with tqdm(total = len(source_sentences)) as pbar:\n",
    "    for i in range(len(source_sentences)):\n",
    "        source_sentence = source_sentences[i]\n",
    "        target_sentence = target_sentences[i]\n",
    "        source_tokens = zh_tokenizer(source_sentence, padding=True, truncation=True, return_tensors='pt', max_length=max_length).to(device)\n",
    "        with torch.no_grad():\n",
    "            output = model(input_ids=source_tokens.input_ids, attention_mask=source_tokens.attention_mask)\n",
    "        generated_sentence = ko_tokenizer.decode(output[0].argmax(dim=-1), skip_special_tokens=True)\n",
    "        gen_sent = ''\n",
    "        for sent in generated_sentence:\n",
    "            gen_sent += sent\n",
    "        bleu_score = bleu.corpus_score([gen_sent],[[target_sentence]])\n",
    "        #print([gen_sent],[[target_sentence]])\n",
    "        #print(bleu_score)\n",
    "        avg_score['avg'] += bleu_score.score\n",
    "        avg_score['1-gram'] += bleu_score.precisions[0]\n",
    "        avg_score['2-gram'] += bleu_score.precisions[1]\n",
    "        avg_score['3-gram'] += bleu_score.precisions[2]\n",
    "        avg_score['4-gram'] += bleu_score.precisions[3]\n",
    "        pbar.update(1)\n",
    "  avg_score['avg'] /= len(source_sentences)\n",
    "  avg_score['1-gram'] /= len(source_sentences)\n",
    "  avg_score['2-gram'] /= len(source_sentences)\n",
    "  avg_score['3-gram'] /= len(source_sentences)\n",
    "  avg_score['4-gram'] /= len(source_sentences)\n",
    "\n",
    "  #print('gen:',generated_sentences,'tar:',[[sent] for sent in target_sentences],'sor',source_sentences)\n",
    "  #print('BLEU Score:',bleu.score)\n",
    "\n",
    "  return avg_score"
   ]
  },
  {
   "cell_type": "code",
   "execution_count": null,
   "metadata": {
    "id": "zuOJRIdhJE9c"
   },
   "outputs": [],
   "source": [
    "train_score = sacrebleu_score(TRAIN_ZSENT,TRAIN_KSENT)\n",
    "test_score = sacrebleu_score(TEST_ZSENT,TEST_KSENT)\n",
    "print('Train:',train_score)\n",
    "print('Test:',test_score)"
   ]
  }
 ],
 "metadata": {
  "accelerator": "GPU",
  "colab": {
   "gpuType": "T4",
   "provenance": [
    {
     "file_id": "1Hbo0zjZINCfB2xF9-qu0OxjLpANAI56s",
     "timestamp": 1716395172771
    },
    {
     "file_id": "1_EEW5tkhh2ILfM2VDVsWwM_CRutS5n2N",
     "timestamp": 1712825273579
    }
   ]
  },
  "kernelspec": {
   "display_name": "Python 3 (ipykernel)",
   "language": "python",
   "name": "python3"
  },
  "language_info": {
   "codemirror_mode": {
    "name": "ipython",
    "version": 3
   },
   "file_extension": ".py",
   "mimetype": "text/x-python",
   "name": "python",
   "nbconvert_exporter": "python",
   "pygments_lexer": "ipython3",
   "version": "3.8.10"
  },
  "widgets": {
   "application/vnd.jupyter.widget-state+json": {
    "02aa805974d34d95be0d0bd72faa79e4": {
     "model_module": "@jupyter-widgets/controls",
     "model_module_version": "1.5.0",
     "model_name": "DescriptionStyleModel",
     "state": {
      "_model_module": "@jupyter-widgets/controls",
      "_model_module_version": "1.5.0",
      "_model_name": "DescriptionStyleModel",
      "_view_count": null,
      "_view_module": "@jupyter-widgets/base",
      "_view_module_version": "1.2.0",
      "_view_name": "StyleView",
      "description_width": ""
     }
    },
    "0421052d20104370ad85ca1572b61e79": {
     "model_module": "@jupyter-widgets/base",
     "model_module_version": "1.2.0",
     "model_name": "LayoutModel",
     "state": {
      "_model_module": "@jupyter-widgets/base",
      "_model_module_version": "1.2.0",
      "_model_name": "LayoutModel",
      "_view_count": null,
      "_view_module": "@jupyter-widgets/base",
      "_view_module_version": "1.2.0",
      "_view_name": "LayoutView",
      "align_content": null,
      "align_items": null,
      "align_self": null,
      "border": null,
      "bottom": null,
      "display": null,
      "flex": null,
      "flex_flow": null,
      "grid_area": null,
      "grid_auto_columns": null,
      "grid_auto_flow": null,
      "grid_auto_rows": null,
      "grid_column": null,
      "grid_gap": null,
      "grid_row": null,
      "grid_template_areas": null,
      "grid_template_columns": null,
      "grid_template_rows": null,
      "height": null,
      "justify_content": null,
      "justify_items": null,
      "left": null,
      "margin": null,
      "max_height": null,
      "max_width": null,
      "min_height": null,
      "min_width": null,
      "object_fit": null,
      "object_position": null,
      "order": null,
      "overflow": null,
      "overflow_x": null,
      "overflow_y": null,
      "padding": null,
      "right": null,
      "top": null,
      "visibility": null,
      "width": null
     }
    },
    "0563cfc3dc7a4334a53b03abea67bf34": {
     "model_module": "@jupyter-widgets/base",
     "model_module_version": "1.2.0",
     "model_name": "LayoutModel",
     "state": {
      "_model_module": "@jupyter-widgets/base",
      "_model_module_version": "1.2.0",
      "_model_name": "LayoutModel",
      "_view_count": null,
      "_view_module": "@jupyter-widgets/base",
      "_view_module_version": "1.2.0",
      "_view_name": "LayoutView",
      "align_content": null,
      "align_items": null,
      "align_self": null,
      "border": null,
      "bottom": null,
      "display": null,
      "flex": null,
      "flex_flow": null,
      "grid_area": null,
      "grid_auto_columns": null,
      "grid_auto_flow": null,
      "grid_auto_rows": null,
      "grid_column": null,
      "grid_gap": null,
      "grid_row": null,
      "grid_template_areas": null,
      "grid_template_columns": null,
      "grid_template_rows": null,
      "height": null,
      "justify_content": null,
      "justify_items": null,
      "left": null,
      "margin": null,
      "max_height": null,
      "max_width": null,
      "min_height": null,
      "min_width": null,
      "object_fit": null,
      "object_position": null,
      "order": null,
      "overflow": null,
      "overflow_x": null,
      "overflow_y": null,
      "padding": null,
      "right": null,
      "top": null,
      "visibility": null,
      "width": null
     }
    },
    "07fdbbf7d4cd4b629a330c30ff632a3c": {
     "model_module": "@jupyter-widgets/controls",
     "model_module_version": "1.5.0",
     "model_name": "DescriptionStyleModel",
     "state": {
      "_model_module": "@jupyter-widgets/controls",
      "_model_module_version": "1.5.0",
      "_model_name": "DescriptionStyleModel",
      "_view_count": null,
      "_view_module": "@jupyter-widgets/base",
      "_view_module_version": "1.2.0",
      "_view_name": "StyleView",
      "description_width": ""
     }
    },
    "0938947be70f49b4a2668b30e45b1aae": {
     "model_module": "@jupyter-widgets/controls",
     "model_module_version": "1.5.0",
     "model_name": "HTMLModel",
     "state": {
      "_dom_classes": [],
      "_model_module": "@jupyter-widgets/controls",
      "_model_module_version": "1.5.0",
      "_model_name": "HTMLModel",
      "_view_count": null,
      "_view_module": "@jupyter-widgets/controls",
      "_view_module_version": "1.5.0",
      "_view_name": "HTMLView",
      "description": "",
      "description_tooltip": null,
      "layout": "IPY_MODEL_82a629771ba64d33bd22296eea4422c9",
      "placeholder": "​",
      "style": "IPY_MODEL_f8101c683be54ab8896726653a59bf9f",
      "value": "config.json: 100%"
     }
    },
    "0b8c98a0d9b7446396cfbebb7356f676": {
     "model_module": "@jupyter-widgets/base",
     "model_module_version": "1.2.0",
     "model_name": "LayoutModel",
     "state": {
      "_model_module": "@jupyter-widgets/base",
      "_model_module_version": "1.2.0",
      "_model_name": "LayoutModel",
      "_view_count": null,
      "_view_module": "@jupyter-widgets/base",
      "_view_module_version": "1.2.0",
      "_view_name": "LayoutView",
      "align_content": null,
      "align_items": null,
      "align_self": null,
      "border": null,
      "bottom": null,
      "display": null,
      "flex": null,
      "flex_flow": null,
      "grid_area": null,
      "grid_auto_columns": null,
      "grid_auto_flow": null,
      "grid_auto_rows": null,
      "grid_column": null,
      "grid_gap": null,
      "grid_row": null,
      "grid_template_areas": null,
      "grid_template_columns": null,
      "grid_template_rows": null,
      "height": null,
      "justify_content": null,
      "justify_items": null,
      "left": null,
      "margin": null,
      "max_height": null,
      "max_width": null,
      "min_height": null,
      "min_width": null,
      "object_fit": null,
      "object_position": null,
      "order": null,
      "overflow": null,
      "overflow_x": null,
      "overflow_y": null,
      "padding": null,
      "right": null,
      "top": null,
      "visibility": null,
      "width": null
     }
    },
    "134d4d993a884a6e8c4fc86dedb75b21": {
     "model_module": "@jupyter-widgets/base",
     "model_module_version": "1.2.0",
     "model_name": "LayoutModel",
     "state": {
      "_model_module": "@jupyter-widgets/base",
      "_model_module_version": "1.2.0",
      "_model_name": "LayoutModel",
      "_view_count": null,
      "_view_module": "@jupyter-widgets/base",
      "_view_module_version": "1.2.0",
      "_view_name": "LayoutView",
      "align_content": null,
      "align_items": null,
      "align_self": null,
      "border": null,
      "bottom": null,
      "display": null,
      "flex": null,
      "flex_flow": null,
      "grid_area": null,
      "grid_auto_columns": null,
      "grid_auto_flow": null,
      "grid_auto_rows": null,
      "grid_column": null,
      "grid_gap": null,
      "grid_row": null,
      "grid_template_areas": null,
      "grid_template_columns": null,
      "grid_template_rows": null,
      "height": null,
      "justify_content": null,
      "justify_items": null,
      "left": null,
      "margin": null,
      "max_height": null,
      "max_width": null,
      "min_height": null,
      "min_width": null,
      "object_fit": null,
      "object_position": null,
      "order": null,
      "overflow": null,
      "overflow_x": null,
      "overflow_y": null,
      "padding": null,
      "right": null,
      "top": null,
      "visibility": null,
      "width": null
     }
    },
    "14191fdcad5e4648ad1e3f9064f19a25": {
     "model_module": "@jupyter-widgets/base",
     "model_module_version": "1.2.0",
     "model_name": "LayoutModel",
     "state": {
      "_model_module": "@jupyter-widgets/base",
      "_model_module_version": "1.2.0",
      "_model_name": "LayoutModel",
      "_view_count": null,
      "_view_module": "@jupyter-widgets/base",
      "_view_module_version": "1.2.0",
      "_view_name": "LayoutView",
      "align_content": null,
      "align_items": null,
      "align_self": null,
      "border": null,
      "bottom": null,
      "display": null,
      "flex": null,
      "flex_flow": null,
      "grid_area": null,
      "grid_auto_columns": null,
      "grid_auto_flow": null,
      "grid_auto_rows": null,
      "grid_column": null,
      "grid_gap": null,
      "grid_row": null,
      "grid_template_areas": null,
      "grid_template_columns": null,
      "grid_template_rows": null,
      "height": null,
      "justify_content": null,
      "justify_items": null,
      "left": null,
      "margin": null,
      "max_height": null,
      "max_width": null,
      "min_height": null,
      "min_width": null,
      "object_fit": null,
      "object_position": null,
      "order": null,
      "overflow": null,
      "overflow_x": null,
      "overflow_y": null,
      "padding": null,
      "right": null,
      "top": null,
      "visibility": null,
      "width": null
     }
    },
    "14c4da599454480886928b62d789a0d5": {
     "model_module": "@jupyter-widgets/controls",
     "model_module_version": "1.5.0",
     "model_name": "FloatProgressModel",
     "state": {
      "_dom_classes": [],
      "_model_module": "@jupyter-widgets/controls",
      "_model_module_version": "1.5.0",
      "_model_name": "FloatProgressModel",
      "_view_count": null,
      "_view_module": "@jupyter-widgets/controls",
      "_view_module_version": "1.5.0",
      "_view_name": "ProgressView",
      "bar_style": "success",
      "description": "",
      "description_tooltip": null,
      "layout": "IPY_MODEL_46738251f2a847faaa21f90ce1c8725f",
      "max": 49,
      "min": 0,
      "orientation": "horizontal",
      "style": "IPY_MODEL_6531766795024285ab5dcb1828072349",
      "value": 49
     }
    },
    "1586223071164a14abc0a26dc6c39df0": {
     "model_module": "@jupyter-widgets/controls",
     "model_module_version": "1.5.0",
     "model_name": "HBoxModel",
     "state": {
      "_dom_classes": [],
      "_model_module": "@jupyter-widgets/controls",
      "_model_module_version": "1.5.0",
      "_model_name": "HBoxModel",
      "_view_count": null,
      "_view_module": "@jupyter-widgets/controls",
      "_view_module_version": "1.5.0",
      "_view_name": "HBoxView",
      "box_style": "",
      "children": [
       "IPY_MODEL_66de85187d564d16953e5d45a48466d5",
       "IPY_MODEL_527e76b798d444fb9c088467f8fa9e4c",
       "IPY_MODEL_b4da9eee63a84ad383f189e13a6d0fa9"
      ],
      "layout": "IPY_MODEL_538dd1ab4c82412b83dee2d6f709f994"
     }
    },
    "1787d6c8f74f4510a43bf4e7ad88fe45": {
     "model_module": "@jupyter-widgets/controls",
     "model_module_version": "1.5.0",
     "model_name": "VBoxModel",
     "state": {
      "_dom_classes": [],
      "_model_module": "@jupyter-widgets/controls",
      "_model_module_version": "1.5.0",
      "_model_name": "VBoxModel",
      "_view_count": null,
      "_view_module": "@jupyter-widgets/controls",
      "_view_module_version": "1.5.0",
      "_view_name": "VBoxView",
      "box_style": "",
      "children": [
       "IPY_MODEL_8421a145d2d14b4a9812a001c86a3e4d",
       "IPY_MODEL_683412f67920462397e5de03f83e5f9c"
      ],
      "layout": "IPY_MODEL_27b05f427eed4511bb350c505422509b"
     }
    },
    "1cba16906e3147ecadbc6706de0c39d6": {
     "model_module": "@jupyter-widgets/base",
     "model_module_version": "1.2.0",
     "model_name": "LayoutModel",
     "state": {
      "_model_module": "@jupyter-widgets/base",
      "_model_module_version": "1.2.0",
      "_model_name": "LayoutModel",
      "_view_count": null,
      "_view_module": "@jupyter-widgets/base",
      "_view_module_version": "1.2.0",
      "_view_name": "LayoutView",
      "align_content": null,
      "align_items": null,
      "align_self": null,
      "border": null,
      "bottom": null,
      "display": null,
      "flex": null,
      "flex_flow": null,
      "grid_area": null,
      "grid_auto_columns": null,
      "grid_auto_flow": null,
      "grid_auto_rows": null,
      "grid_column": null,
      "grid_gap": null,
      "grid_row": null,
      "grid_template_areas": null,
      "grid_template_columns": null,
      "grid_template_rows": null,
      "height": null,
      "justify_content": null,
      "justify_items": null,
      "left": null,
      "margin": null,
      "max_height": null,
      "max_width": null,
      "min_height": null,
      "min_width": null,
      "object_fit": null,
      "object_position": null,
      "order": null,
      "overflow": null,
      "overflow_x": null,
      "overflow_y": null,
      "padding": null,
      "right": null,
      "top": null,
      "visibility": null,
      "width": null
     }
    },
    "1de1d369d5294e5a85c9916b298fe2f1": {
     "model_module": "@jupyter-widgets/base",
     "model_module_version": "1.2.0",
     "model_name": "LayoutModel",
     "state": {
      "_model_module": "@jupyter-widgets/base",
      "_model_module_version": "1.2.0",
      "_model_name": "LayoutModel",
      "_view_count": null,
      "_view_module": "@jupyter-widgets/base",
      "_view_module_version": "1.2.0",
      "_view_name": "LayoutView",
      "align_content": null,
      "align_items": null,
      "align_self": null,
      "border": null,
      "bottom": null,
      "display": null,
      "flex": null,
      "flex_flow": null,
      "grid_area": null,
      "grid_auto_columns": null,
      "grid_auto_flow": null,
      "grid_auto_rows": null,
      "grid_column": null,
      "grid_gap": null,
      "grid_row": null,
      "grid_template_areas": null,
      "grid_template_columns": null,
      "grid_template_rows": null,
      "height": null,
      "justify_content": null,
      "justify_items": null,
      "left": null,
      "margin": null,
      "max_height": null,
      "max_width": null,
      "min_height": null,
      "min_width": null,
      "object_fit": null,
      "object_position": null,
      "order": null,
      "overflow": null,
      "overflow_x": null,
      "overflow_y": null,
      "padding": null,
      "right": null,
      "top": null,
      "visibility": null,
      "width": null
     }
    },
    "1ed4e76569f44fc683779b43c765d07b": {
     "model_module": "@jupyter-widgets/controls",
     "model_module_version": "1.5.0",
     "model_name": "ProgressStyleModel",
     "state": {
      "_model_module": "@jupyter-widgets/controls",
      "_model_module_version": "1.5.0",
      "_model_name": "ProgressStyleModel",
      "_view_count": null,
      "_view_module": "@jupyter-widgets/base",
      "_view_module_version": "1.2.0",
      "_view_name": "StyleView",
      "bar_color": null,
      "description_width": ""
     }
    },
    "27b05f427eed4511bb350c505422509b": {
     "model_module": "@jupyter-widgets/base",
     "model_module_version": "1.2.0",
     "model_name": "LayoutModel",
     "state": {
      "_model_module": "@jupyter-widgets/base",
      "_model_module_version": "1.2.0",
      "_model_name": "LayoutModel",
      "_view_count": null,
      "_view_module": "@jupyter-widgets/base",
      "_view_module_version": "1.2.0",
      "_view_name": "LayoutView",
      "align_content": null,
      "align_items": null,
      "align_self": null,
      "border": null,
      "bottom": null,
      "display": null,
      "flex": null,
      "flex_flow": null,
      "grid_area": null,
      "grid_auto_columns": null,
      "grid_auto_flow": null,
      "grid_auto_rows": null,
      "grid_column": null,
      "grid_gap": null,
      "grid_row": null,
      "grid_template_areas": null,
      "grid_template_columns": null,
      "grid_template_rows": null,
      "height": null,
      "justify_content": null,
      "justify_items": null,
      "left": null,
      "margin": null,
      "max_height": null,
      "max_width": null,
      "min_height": null,
      "min_width": null,
      "object_fit": null,
      "object_position": null,
      "order": null,
      "overflow": null,
      "overflow_x": null,
      "overflow_y": null,
      "padding": null,
      "right": null,
      "top": null,
      "visibility": null,
      "width": null
     }
    },
    "2cd96637c2054f7e8489493d5281508c": {
     "model_module": "@jupyter-widgets/controls",
     "model_module_version": "1.5.0",
     "model_name": "FloatProgressModel",
     "state": {
      "_dom_classes": [],
      "_model_module": "@jupyter-widgets/controls",
      "_model_module_version": "1.5.0",
      "_model_name": "FloatProgressModel",
      "_view_count": null,
      "_view_module": "@jupyter-widgets/controls",
      "_view_module_version": "1.5.0",
      "_view_name": "ProgressView",
      "bar_style": "success",
      "description": "",
      "description_tooltip": null,
      "layout": "IPY_MODEL_5db7d093c33b4e2a8082774769259371",
      "max": 625,
      "min": 0,
      "orientation": "horizontal",
      "style": "IPY_MODEL_bb325f7be9334219a976b70c49578c28",
      "value": 625
     }
    },
    "2f0faa8fecf540a1b3683e4149e918a1": {
     "model_module": "@jupyter-widgets/controls",
     "model_module_version": "1.5.0",
     "model_name": "HTMLModel",
     "state": {
      "_dom_classes": [],
      "_model_module": "@jupyter-widgets/controls",
      "_model_module_version": "1.5.0",
      "_model_name": "HTMLModel",
      "_view_count": null,
      "_view_module": "@jupyter-widgets/controls",
      "_view_module_version": "1.5.0",
      "_view_name": "HTMLView",
      "description": "",
      "description_tooltip": null,
      "layout": "IPY_MODEL_83476db4bd034e53a472a3b5314bf8a3",
      "placeholder": "​",
      "style": "IPY_MODEL_6b6f6acd41be4f95adc01b00db0841f9",
      "value": " 725/725 [00:00&lt;00:00, 8.40kB/s]"
     }
    },
    "32d07b4c240d44f5b7b9894bca42540f": {
     "model_module": "@jupyter-widgets/base",
     "model_module_version": "1.2.0",
     "model_name": "LayoutModel",
     "state": {
      "_model_module": "@jupyter-widgets/base",
      "_model_module_version": "1.2.0",
      "_model_name": "LayoutModel",
      "_view_count": null,
      "_view_module": "@jupyter-widgets/base",
      "_view_module_version": "1.2.0",
      "_view_name": "LayoutView",
      "align_content": null,
      "align_items": null,
      "align_self": null,
      "border": null,
      "bottom": null,
      "display": null,
      "flex": null,
      "flex_flow": null,
      "grid_area": null,
      "grid_auto_columns": null,
      "grid_auto_flow": null,
      "grid_auto_rows": null,
      "grid_column": null,
      "grid_gap": null,
      "grid_row": null,
      "grid_template_areas": null,
      "grid_template_columns": null,
      "grid_template_rows": null,
      "height": null,
      "justify_content": null,
      "justify_items": null,
      "left": null,
      "margin": null,
      "max_height": null,
      "max_width": null,
      "min_height": null,
      "min_width": null,
      "object_fit": null,
      "object_position": null,
      "order": null,
      "overflow": null,
      "overflow_x": null,
      "overflow_y": null,
      "padding": null,
      "right": null,
      "top": null,
      "visibility": null,
      "width": null
     }
    },
    "3348d44475c94cb1b98061bfcb53900e": {
     "model_module": "@jupyter-widgets/base",
     "model_module_version": "1.2.0",
     "model_name": "LayoutModel",
     "state": {
      "_model_module": "@jupyter-widgets/base",
      "_model_module_version": "1.2.0",
      "_model_name": "LayoutModel",
      "_view_count": null,
      "_view_module": "@jupyter-widgets/base",
      "_view_module_version": "1.2.0",
      "_view_name": "LayoutView",
      "align_content": null,
      "align_items": null,
      "align_self": null,
      "border": null,
      "bottom": null,
      "display": null,
      "flex": null,
      "flex_flow": null,
      "grid_area": null,
      "grid_auto_columns": null,
      "grid_auto_flow": null,
      "grid_auto_rows": null,
      "grid_column": null,
      "grid_gap": null,
      "grid_row": null,
      "grid_template_areas": null,
      "grid_template_columns": null,
      "grid_template_rows": null,
      "height": null,
      "justify_content": null,
      "justify_items": null,
      "left": null,
      "margin": null,
      "max_height": null,
      "max_width": null,
      "min_height": null,
      "min_width": null,
      "object_fit": null,
      "object_position": null,
      "order": null,
      "overflow": null,
      "overflow_x": null,
      "overflow_y": null,
      "padding": null,
      "right": null,
      "top": null,
      "visibility": null,
      "width": null
     }
    },
    "34720f0f64834830b1c090e5b86ca5c6": {
     "model_module": "@jupyter-widgets/controls",
     "model_module_version": "1.5.0",
     "model_name": "FloatProgressModel",
     "state": {
      "_dom_classes": [],
      "_model_module": "@jupyter-widgets/controls",
      "_model_module_version": "1.5.0",
      "_model_name": "FloatProgressModel",
      "_view_count": null,
      "_view_module": "@jupyter-widgets/controls",
      "_view_module_version": "1.5.0",
      "_view_name": "ProgressView",
      "bar_style": "success",
      "description": "",
      "description_tooltip": null,
      "layout": "IPY_MODEL_f3a35087770b400fa5877ce0e6842536",
      "max": 1961828,
      "min": 0,
      "orientation": "horizontal",
      "style": "IPY_MODEL_89cac8a78da644598575401b3bd024d9",
      "value": 1961828
     }
    },
    "37f4b8b4155f46c5a629d1fe9c52f8a8": {
     "model_module": "@jupyter-widgets/base",
     "model_module_version": "1.2.0",
     "model_name": "LayoutModel",
     "state": {
      "_model_module": "@jupyter-widgets/base",
      "_model_module_version": "1.2.0",
      "_model_name": "LayoutModel",
      "_view_count": null,
      "_view_module": "@jupyter-widgets/base",
      "_view_module_version": "1.2.0",
      "_view_name": "LayoutView",
      "align_content": null,
      "align_items": null,
      "align_self": null,
      "border": null,
      "bottom": null,
      "display": null,
      "flex": null,
      "flex_flow": null,
      "grid_area": null,
      "grid_auto_columns": null,
      "grid_auto_flow": null,
      "grid_auto_rows": null,
      "grid_column": null,
      "grid_gap": null,
      "grid_row": null,
      "grid_template_areas": null,
      "grid_template_columns": null,
      "grid_template_rows": null,
      "height": null,
      "justify_content": null,
      "justify_items": null,
      "left": null,
      "margin": null,
      "max_height": null,
      "max_width": null,
      "min_height": null,
      "min_width": null,
      "object_fit": null,
      "object_position": null,
      "order": null,
      "overflow": null,
      "overflow_x": null,
      "overflow_y": null,
      "padding": null,
      "right": null,
      "top": null,
      "visibility": null,
      "width": null
     }
    },
    "39a7036c3e3a4219b18df59dde78e173": {
     "model_module": "@jupyter-widgets/controls",
     "model_module_version": "1.5.0",
     "model_name": "HTMLModel",
     "state": {
      "_dom_classes": [],
      "_model_module": "@jupyter-widgets/controls",
      "_model_module_version": "1.5.0",
      "_model_name": "HTMLModel",
      "_view_count": null,
      "_view_module": "@jupyter-widgets/controls",
      "_view_module_version": "1.5.0",
      "_view_name": "HTMLView",
      "description": "",
      "description_tooltip": null,
      "layout": "IPY_MODEL_c2d68ce404df4eed90f37dc7e7bd92d4",
      "placeholder": "​",
      "style": "IPY_MODEL_c458c161f4f74f739c40a2ca58a89874",
      "value": " 409M/409M [00:01&lt;00:00, 329MB/s]"
     }
    },
    "3a509e41fb3249de86acbc4c81e186f2": {
     "model_module": "@jupyter-widgets/controls",
     "model_module_version": "1.5.0",
     "model_name": "FloatProgressModel",
     "state": {
      "_dom_classes": [],
      "_model_module": "@jupyter-widgets/controls",
      "_model_module_version": "1.5.0",
      "_model_name": "FloatProgressModel",
      "_view_count": null,
      "_view_module": "@jupyter-widgets/controls",
      "_view_module_version": "1.5.0",
      "_view_name": "ProgressView",
      "bar_style": "success",
      "description": "",
      "description_tooltip": null,
      "layout": "IPY_MODEL_4cabe551ea5b4e138dba6637a2e80786",
      "max": 344259,
      "min": 0,
      "orientation": "horizontal",
      "style": "IPY_MODEL_83dcd01f146047b099e2de0d9a11361d",
      "value": 344259
     }
    },
    "3b5f82be4b6c4cc8a9716442d9cb8453": {
     "model_module": "@jupyter-widgets/controls",
     "model_module_version": "1.5.0",
     "model_name": "FloatProgressModel",
     "state": {
      "_dom_classes": [],
      "_model_module": "@jupyter-widgets/controls",
      "_model_module_version": "1.5.0",
      "_model_name": "FloatProgressModel",
      "_view_count": null,
      "_view_module": "@jupyter-widgets/controls",
      "_view_module_version": "1.5.0",
      "_view_name": "ProgressView",
      "bar_style": "success",
      "description": "",
      "description_tooltip": null,
      "layout": "IPY_MODEL_a25952197a324488a47c71a38be0de9d",
      "max": 409251346,
      "min": 0,
      "orientation": "horizontal",
      "style": "IPY_MODEL_b44312ba86e04ea89111247e23c635c6",
      "value": 409251346
     }
    },
    "3b8add05787b4b31b9457d58cfbecbb8": {
     "model_module": "@jupyter-widgets/controls",
     "model_module_version": "1.5.0",
     "model_name": "HTMLModel",
     "state": {
      "_dom_classes": [],
      "_model_module": "@jupyter-widgets/controls",
      "_model_module_version": "1.5.0",
      "_model_name": "HTMLModel",
      "_view_count": null,
      "_view_module": "@jupyter-widgets/controls",
      "_view_module_version": "1.5.0",
      "_view_name": "HTMLView",
      "description": "",
      "description_tooltip": null,
      "layout": "IPY_MODEL_9ec296a8acac491e88379978ac99e020",
      "placeholder": "​",
      "style": "IPY_MODEL_65acee876eda46539a7a46461722605d",
      "value": " 344k/344k [00:00&lt;00:00, 5.53MB/s]"
     }
    },
    "3bb347ee412446e19040d3499a68a31c": {
     "model_module": "@jupyter-widgets/controls",
     "model_module_version": "1.5.0",
     "model_name": "FloatProgressModel",
     "state": {
      "_dom_classes": [],
      "_model_module": "@jupyter-widgets/controls",
      "_model_module_version": "1.5.0",
      "_model_name": "FloatProgressModel",
      "_view_count": null,
      "_view_module": "@jupyter-widgets/controls",
      "_view_module_version": "1.5.0",
      "_view_name": "ProgressView",
      "bar_style": "success",
      "description": "",
      "description_tooltip": null,
      "layout": "IPY_MODEL_3f5d8280b13f4a86a3604fd8a697a381",
      "max": 714290682,
      "min": 0,
      "orientation": "horizontal",
      "style": "IPY_MODEL_dd0d07a703ed49a98f58ec914582192c",
      "value": 714290682
     }
    },
    "3ec6fe15d6ff44958521f079b815dadf": {
     "model_module": "@jupyter-widgets/base",
     "model_module_version": "1.2.0",
     "model_name": "LayoutModel",
     "state": {
      "_model_module": "@jupyter-widgets/base",
      "_model_module_version": "1.2.0",
      "_model_name": "LayoutModel",
      "_view_count": null,
      "_view_module": "@jupyter-widgets/base",
      "_view_module_version": "1.2.0",
      "_view_name": "LayoutView",
      "align_content": null,
      "align_items": null,
      "align_self": null,
      "border": null,
      "bottom": null,
      "display": null,
      "flex": null,
      "flex_flow": null,
      "grid_area": null,
      "grid_auto_columns": null,
      "grid_auto_flow": null,
      "grid_auto_rows": null,
      "grid_column": null,
      "grid_gap": null,
      "grid_row": null,
      "grid_template_areas": null,
      "grid_template_columns": null,
      "grid_template_rows": null,
      "height": null,
      "justify_content": null,
      "justify_items": null,
      "left": null,
      "margin": null,
      "max_height": null,
      "max_width": null,
      "min_height": null,
      "min_width": null,
      "object_fit": null,
      "object_position": null,
      "order": null,
      "overflow": null,
      "overflow_x": null,
      "overflow_y": null,
      "padding": null,
      "right": null,
      "top": null,
      "visibility": null,
      "width": null
     }
    },
    "3f3d581aa0f4400aae40b982c683803b": {
     "model_module": "@jupyter-widgets/controls",
     "model_module_version": "1.5.0",
     "model_name": "HTMLModel",
     "state": {
      "_dom_classes": [],
      "_model_module": "@jupyter-widgets/controls",
      "_model_module_version": "1.5.0",
      "_model_name": "HTMLModel",
      "_view_count": null,
      "_view_module": "@jupyter-widgets/controls",
      "_view_module_version": "1.5.0",
      "_view_name": "HTMLView",
      "description": "",
      "description_tooltip": null,
      "layout": "IPY_MODEL_916ee1b5d0534efd9330e448e5758fd0",
      "placeholder": "​",
      "style": "IPY_MODEL_f4e51e3711a14c9b9a3313416edab4dd",
      "value": "vocab.txt: 100%"
     }
    },
    "3f5d8280b13f4a86a3604fd8a697a381": {
     "model_module": "@jupyter-widgets/base",
     "model_module_version": "1.2.0",
     "model_name": "LayoutModel",
     "state": {
      "_model_module": "@jupyter-widgets/base",
      "_model_module_version": "1.2.0",
      "_model_name": "LayoutModel",
      "_view_count": null,
      "_view_module": "@jupyter-widgets/base",
      "_view_module_version": "1.2.0",
      "_view_name": "LayoutView",
      "align_content": null,
      "align_items": null,
      "align_self": null,
      "border": null,
      "bottom": null,
      "display": null,
      "flex": null,
      "flex_flow": null,
      "grid_area": null,
      "grid_auto_columns": null,
      "grid_auto_flow": null,
      "grid_auto_rows": null,
      "grid_column": null,
      "grid_gap": null,
      "grid_row": null,
      "grid_template_areas": null,
      "grid_template_columns": null,
      "grid_template_rows": null,
      "height": null,
      "justify_content": null,
      "justify_items": null,
      "left": null,
      "margin": null,
      "max_height": null,
      "max_width": null,
      "min_height": null,
      "min_width": null,
      "object_fit": null,
      "object_position": null,
      "order": null,
      "overflow": null,
      "overflow_x": null,
      "overflow_y": null,
      "padding": null,
      "right": null,
      "top": null,
      "visibility": null,
      "width": null
     }
    },
    "4393dd2d135842b5bedbe3c0c9bace91": {
     "model_module": "@jupyter-widgets/controls",
     "model_module_version": "1.5.0",
     "model_name": "ProgressStyleModel",
     "state": {
      "_model_module": "@jupyter-widgets/controls",
      "_model_module_version": "1.5.0",
      "_model_name": "ProgressStyleModel",
      "_view_count": null,
      "_view_module": "@jupyter-widgets/base",
      "_view_module_version": "1.2.0",
      "_view_name": "StyleView",
      "bar_color": null,
      "description_width": ""
     }
    },
    "4602bf3592744b5984990d4aaf8d726d": {
     "model_module": "@jupyter-widgets/base",
     "model_module_version": "1.2.0",
     "model_name": "LayoutModel",
     "state": {
      "_model_module": "@jupyter-widgets/base",
      "_model_module_version": "1.2.0",
      "_model_name": "LayoutModel",
      "_view_count": null,
      "_view_module": "@jupyter-widgets/base",
      "_view_module_version": "1.2.0",
      "_view_name": "LayoutView",
      "align_content": null,
      "align_items": null,
      "align_self": null,
      "border": null,
      "bottom": null,
      "display": null,
      "flex": null,
      "flex_flow": null,
      "grid_area": null,
      "grid_auto_columns": null,
      "grid_auto_flow": null,
      "grid_auto_rows": null,
      "grid_column": null,
      "grid_gap": null,
      "grid_row": null,
      "grid_template_areas": null,
      "grid_template_columns": null,
      "grid_template_rows": null,
      "height": null,
      "justify_content": null,
      "justify_items": null,
      "left": null,
      "margin": null,
      "max_height": null,
      "max_width": null,
      "min_height": null,
      "min_width": null,
      "object_fit": null,
      "object_position": null,
      "order": null,
      "overflow": null,
      "overflow_x": null,
      "overflow_y": null,
      "padding": null,
      "right": null,
      "top": null,
      "visibility": null,
      "width": null
     }
    },
    "46738251f2a847faaa21f90ce1c8725f": {
     "model_module": "@jupyter-widgets/base",
     "model_module_version": "1.2.0",
     "model_name": "LayoutModel",
     "state": {
      "_model_module": "@jupyter-widgets/base",
      "_model_module_version": "1.2.0",
      "_model_name": "LayoutModel",
      "_view_count": null,
      "_view_module": "@jupyter-widgets/base",
      "_view_module_version": "1.2.0",
      "_view_name": "LayoutView",
      "align_content": null,
      "align_items": null,
      "align_self": null,
      "border": null,
      "bottom": null,
      "display": null,
      "flex": null,
      "flex_flow": null,
      "grid_area": null,
      "grid_auto_columns": null,
      "grid_auto_flow": null,
      "grid_auto_rows": null,
      "grid_column": null,
      "grid_gap": null,
      "grid_row": null,
      "grid_template_areas": null,
      "grid_template_columns": null,
      "grid_template_rows": null,
      "height": null,
      "justify_content": null,
      "justify_items": null,
      "left": null,
      "margin": null,
      "max_height": null,
      "max_width": null,
      "min_height": null,
      "min_width": null,
      "object_fit": null,
      "object_position": null,
      "order": null,
      "overflow": null,
      "overflow_x": null,
      "overflow_y": null,
      "padding": null,
      "right": null,
      "top": null,
      "visibility": null,
      "width": null
     }
    },
    "4696479d8ba840738d9a0bbec847c17b": {
     "model_module": "@jupyter-widgets/controls",
     "model_module_version": "1.5.0",
     "model_name": "HBoxModel",
     "state": {
      "_dom_classes": [],
      "_model_module": "@jupyter-widgets/controls",
      "_model_module_version": "1.5.0",
      "_model_name": "HBoxModel",
      "_view_count": null,
      "_view_module": "@jupyter-widgets/controls",
      "_view_module_version": "1.5.0",
      "_view_name": "HBoxView",
      "box_style": "",
      "children": [
       "IPY_MODEL_ed194bf6757a450f96d791fd7e0ecbd0",
       "IPY_MODEL_3bb347ee412446e19040d3499a68a31c",
       "IPY_MODEL_4fc089ca629e46179c17939fa94782bf"
      ],
      "layout": "IPY_MODEL_1cba16906e3147ecadbc6706de0c39d6"
     }
    },
    "4cabe551ea5b4e138dba6637a2e80786": {
     "model_module": "@jupyter-widgets/base",
     "model_module_version": "1.2.0",
     "model_name": "LayoutModel",
     "state": {
      "_model_module": "@jupyter-widgets/base",
      "_model_module_version": "1.2.0",
      "_model_name": "LayoutModel",
      "_view_count": null,
      "_view_module": "@jupyter-widgets/base",
      "_view_module_version": "1.2.0",
      "_view_name": "LayoutView",
      "align_content": null,
      "align_items": null,
      "align_self": null,
      "border": null,
      "bottom": null,
      "display": null,
      "flex": null,
      "flex_flow": null,
      "grid_area": null,
      "grid_auto_columns": null,
      "grid_auto_flow": null,
      "grid_auto_rows": null,
      "grid_column": null,
      "grid_gap": null,
      "grid_row": null,
      "grid_template_areas": null,
      "grid_template_columns": null,
      "grid_template_rows": null,
      "height": null,
      "justify_content": null,
      "justify_items": null,
      "left": null,
      "margin": null,
      "max_height": null,
      "max_width": null,
      "min_height": null,
      "min_width": null,
      "object_fit": null,
      "object_position": null,
      "order": null,
      "overflow": null,
      "overflow_x": null,
      "overflow_y": null,
      "padding": null,
      "right": null,
      "top": null,
      "visibility": null,
      "width": null
     }
    },
    "4fc089ca629e46179c17939fa94782bf": {
     "model_module": "@jupyter-widgets/controls",
     "model_module_version": "1.5.0",
     "model_name": "HTMLModel",
     "state": {
      "_dom_classes": [],
      "_model_module": "@jupyter-widgets/controls",
      "_model_module_version": "1.5.0",
      "_model_name": "HTMLModel",
      "_view_count": null,
      "_view_module": "@jupyter-widgets/controls",
      "_view_module_version": "1.5.0",
      "_view_name": "HTMLView",
      "description": "",
      "description_tooltip": null,
      "layout": "IPY_MODEL_32d07b4c240d44f5b7b9894bca42540f",
      "placeholder": "​",
      "style": "IPY_MODEL_eea8c8d16bc04a93af2aabf6b526728b",
      "value": " 714M/714M [00:05&lt;00:00, 153MB/s]"
     }
    },
    "52362e3759cb4b3f808c602671700337": {
     "model_module": "@jupyter-widgets/base",
     "model_module_version": "1.2.0",
     "model_name": "LayoutModel",
     "state": {
      "_model_module": "@jupyter-widgets/base",
      "_model_module_version": "1.2.0",
      "_model_name": "LayoutModel",
      "_view_count": null,
      "_view_module": "@jupyter-widgets/base",
      "_view_module_version": "1.2.0",
      "_view_name": "LayoutView",
      "align_content": null,
      "align_items": null,
      "align_self": null,
      "border": null,
      "bottom": null,
      "display": null,
      "flex": null,
      "flex_flow": null,
      "grid_area": null,
      "grid_auto_columns": null,
      "grid_auto_flow": null,
      "grid_auto_rows": null,
      "grid_column": null,
      "grid_gap": null,
      "grid_row": null,
      "grid_template_areas": null,
      "grid_template_columns": null,
      "grid_template_rows": null,
      "height": null,
      "justify_content": null,
      "justify_items": null,
      "left": null,
      "margin": null,
      "max_height": null,
      "max_width": null,
      "min_height": null,
      "min_width": null,
      "object_fit": null,
      "object_position": null,
      "order": null,
      "overflow": null,
      "overflow_x": null,
      "overflow_y": null,
      "padding": null,
      "right": null,
      "top": null,
      "visibility": null,
      "width": null
     }
    },
    "527e76b798d444fb9c088467f8fa9e4c": {
     "model_module": "@jupyter-widgets/controls",
     "model_module_version": "1.5.0",
     "model_name": "FloatProgressModel",
     "state": {
      "_dom_classes": [],
      "_model_module": "@jupyter-widgets/controls",
      "_model_module_version": "1.5.0",
      "_model_name": "FloatProgressModel",
      "_view_count": null,
      "_view_module": "@jupyter-widgets/controls",
      "_view_module_version": "1.5.0",
      "_view_name": "ProgressView",
      "bar_style": "success",
      "description": "",
      "description_tooltip": null,
      "layout": "IPY_MODEL_611e6c598aa3483bb2c0143f2cd498cd",
      "max": 995526,
      "min": 0,
      "orientation": "horizontal",
      "style": "IPY_MODEL_d8b4b59278814e38a249ff6e7a1b0885",
      "value": 995526
     }
    },
    "538dd1ab4c82412b83dee2d6f709f994": {
     "model_module": "@jupyter-widgets/base",
     "model_module_version": "1.2.0",
     "model_name": "LayoutModel",
     "state": {
      "_model_module": "@jupyter-widgets/base",
      "_model_module_version": "1.2.0",
      "_model_name": "LayoutModel",
      "_view_count": null,
      "_view_module": "@jupyter-widgets/base",
      "_view_module_version": "1.2.0",
      "_view_name": "LayoutView",
      "align_content": null,
      "align_items": null,
      "align_self": null,
      "border": null,
      "bottom": null,
      "display": null,
      "flex": null,
      "flex_flow": null,
      "grid_area": null,
      "grid_auto_columns": null,
      "grid_auto_flow": null,
      "grid_auto_rows": null,
      "grid_column": null,
      "grid_gap": null,
      "grid_row": null,
      "grid_template_areas": null,
      "grid_template_columns": null,
      "grid_template_rows": null,
      "height": null,
      "justify_content": null,
      "justify_items": null,
      "left": null,
      "margin": null,
      "max_height": null,
      "max_width": null,
      "min_height": null,
      "min_width": null,
      "object_fit": null,
      "object_position": null,
      "order": null,
      "overflow": null,
      "overflow_x": null,
      "overflow_y": null,
      "padding": null,
      "right": null,
      "top": null,
      "visibility": null,
      "width": null
     }
    },
    "569fcbc6a1c44d52b64226dbe4d5451e": {
     "model_module": "@jupyter-widgets/base",
     "model_module_version": "1.2.0",
     "model_name": "LayoutModel",
     "state": {
      "_model_module": "@jupyter-widgets/base",
      "_model_module_version": "1.2.0",
      "_model_name": "LayoutModel",
      "_view_count": null,
      "_view_module": "@jupyter-widgets/base",
      "_view_module_version": "1.2.0",
      "_view_name": "LayoutView",
      "align_content": null,
      "align_items": null,
      "align_self": null,
      "border": null,
      "bottom": null,
      "display": null,
      "flex": null,
      "flex_flow": null,
      "grid_area": null,
      "grid_auto_columns": null,
      "grid_auto_flow": null,
      "grid_auto_rows": null,
      "grid_column": null,
      "grid_gap": null,
      "grid_row": null,
      "grid_template_areas": null,
      "grid_template_columns": null,
      "grid_template_rows": null,
      "height": null,
      "justify_content": null,
      "justify_items": null,
      "left": null,
      "margin": null,
      "max_height": null,
      "max_width": null,
      "min_height": null,
      "min_width": null,
      "object_fit": null,
      "object_position": null,
      "order": null,
      "overflow": null,
      "overflow_x": null,
      "overflow_y": null,
      "padding": null,
      "right": null,
      "top": null,
      "visibility": null,
      "width": null
     }
    },
    "56fd94b10ecc43178e1865f37f5e20e4": {
     "model_module": "@jupyter-widgets/controls",
     "model_module_version": "1.5.0",
     "model_name": "DescriptionStyleModel",
     "state": {
      "_model_module": "@jupyter-widgets/controls",
      "_model_module_version": "1.5.0",
      "_model_name": "DescriptionStyleModel",
      "_view_count": null,
      "_view_module": "@jupyter-widgets/base",
      "_view_module_version": "1.2.0",
      "_view_name": "StyleView",
      "description_width": ""
     }
    },
    "56fdffe8b977489b9ec2e5ea8a40edf5": {
     "model_module": "@jupyter-widgets/controls",
     "model_module_version": "1.5.0",
     "model_name": "DescriptionStyleModel",
     "state": {
      "_model_module": "@jupyter-widgets/controls",
      "_model_module_version": "1.5.0",
      "_model_name": "DescriptionStyleModel",
      "_view_count": null,
      "_view_module": "@jupyter-widgets/base",
      "_view_module_version": "1.2.0",
      "_view_name": "StyleView",
      "description_width": ""
     }
    },
    "57cc7ee098904be08b69849d9577c5bc": {
     "model_module": "@jupyter-widgets/controls",
     "model_module_version": "1.5.0",
     "model_name": "HTMLModel",
     "state": {
      "_dom_classes": [],
      "_model_module": "@jupyter-widgets/controls",
      "_model_module_version": "1.5.0",
      "_model_name": "HTMLModel",
      "_view_count": null,
      "_view_module": "@jupyter-widgets/controls",
      "_view_module_version": "1.5.0",
      "_view_name": "HTMLView",
      "description": "",
      "description_tooltip": null,
      "layout": "IPY_MODEL_37f4b8b4155f46c5a629d1fe9c52f8a8",
      "placeholder": "​",
      "style": "IPY_MODEL_bbed4f3c45584f3caa12f64edac8c338",
      "value": "config.json: 100%"
     }
    },
    "59ef0c0e4cd54cd5b320799c5b440510": {
     "model_module": "@jupyter-widgets/controls",
     "model_module_version": "1.5.0",
     "model_name": "HBoxModel",
     "state": {
      "_dom_classes": [],
      "_model_module": "@jupyter-widgets/controls",
      "_model_module_version": "1.5.0",
      "_model_name": "HBoxModel",
      "_view_count": null,
      "_view_module": "@jupyter-widgets/controls",
      "_view_module_version": "1.5.0",
      "_view_name": "HBoxView",
      "box_style": "",
      "children": [
       "IPY_MODEL_df44fea56c904af9ad6f449be1928a81",
       "IPY_MODEL_7b0bb8a0e2284c339c8b7f94e8ccb38b",
       "IPY_MODEL_da99957f3def4e1993c214c71a23cab8"
      ],
      "layout": "IPY_MODEL_f83a0a435b694eeb9b09475887a500d6"
     }
    },
    "5db7d093c33b4e2a8082774769259371": {
     "model_module": "@jupyter-widgets/base",
     "model_module_version": "1.2.0",
     "model_name": "LayoutModel",
     "state": {
      "_model_module": "@jupyter-widgets/base",
      "_model_module_version": "1.2.0",
      "_model_name": "LayoutModel",
      "_view_count": null,
      "_view_module": "@jupyter-widgets/base",
      "_view_module_version": "1.2.0",
      "_view_name": "LayoutView",
      "align_content": null,
      "align_items": null,
      "align_self": null,
      "border": null,
      "bottom": null,
      "display": null,
      "flex": null,
      "flex_flow": null,
      "grid_area": null,
      "grid_auto_columns": null,
      "grid_auto_flow": null,
      "grid_auto_rows": null,
      "grid_column": null,
      "grid_gap": null,
      "grid_row": null,
      "grid_template_areas": null,
      "grid_template_columns": null,
      "grid_template_rows": null,
      "height": null,
      "justify_content": null,
      "justify_items": null,
      "left": null,
      "margin": null,
      "max_height": null,
      "max_width": null,
      "min_height": null,
      "min_width": null,
      "object_fit": null,
      "object_position": null,
      "order": null,
      "overflow": null,
      "overflow_x": null,
      "overflow_y": null,
      "padding": null,
      "right": null,
      "top": null,
      "visibility": null,
      "width": null
     }
    },
    "611e6c598aa3483bb2c0143f2cd498cd": {
     "model_module": "@jupyter-widgets/base",
     "model_module_version": "1.2.0",
     "model_name": "LayoutModel",
     "state": {
      "_model_module": "@jupyter-widgets/base",
      "_model_module_version": "1.2.0",
      "_model_name": "LayoutModel",
      "_view_count": null,
      "_view_module": "@jupyter-widgets/base",
      "_view_module_version": "1.2.0",
      "_view_name": "LayoutView",
      "align_content": null,
      "align_items": null,
      "align_self": null,
      "border": null,
      "bottom": null,
      "display": null,
      "flex": null,
      "flex_flow": null,
      "grid_area": null,
      "grid_auto_columns": null,
      "grid_auto_flow": null,
      "grid_auto_rows": null,
      "grid_column": null,
      "grid_gap": null,
      "grid_row": null,
      "grid_template_areas": null,
      "grid_template_columns": null,
      "grid_template_rows": null,
      "height": null,
      "justify_content": null,
      "justify_items": null,
      "left": null,
      "margin": null,
      "max_height": null,
      "max_width": null,
      "min_height": null,
      "min_width": null,
      "object_fit": null,
      "object_position": null,
      "order": null,
      "overflow": null,
      "overflow_x": null,
      "overflow_y": null,
      "padding": null,
      "right": null,
      "top": null,
      "visibility": null,
      "width": null
     }
    },
    "616949c867ea429cb9784691bebf9ea7": {
     "model_module": "@jupyter-widgets/base",
     "model_module_version": "1.2.0",
     "model_name": "LayoutModel",
     "state": {
      "_model_module": "@jupyter-widgets/base",
      "_model_module_version": "1.2.0",
      "_model_name": "LayoutModel",
      "_view_count": null,
      "_view_module": "@jupyter-widgets/base",
      "_view_module_version": "1.2.0",
      "_view_name": "LayoutView",
      "align_content": null,
      "align_items": null,
      "align_self": null,
      "border": null,
      "bottom": null,
      "display": null,
      "flex": null,
      "flex_flow": null,
      "grid_area": null,
      "grid_auto_columns": null,
      "grid_auto_flow": null,
      "grid_auto_rows": null,
      "grid_column": null,
      "grid_gap": null,
      "grid_row": null,
      "grid_template_areas": null,
      "grid_template_columns": null,
      "grid_template_rows": null,
      "height": null,
      "justify_content": null,
      "justify_items": null,
      "left": null,
      "margin": null,
      "max_height": null,
      "max_width": null,
      "min_height": null,
      "min_width": null,
      "object_fit": null,
      "object_position": null,
      "order": null,
      "overflow": null,
      "overflow_x": null,
      "overflow_y": null,
      "padding": null,
      "right": null,
      "top": null,
      "visibility": null,
      "width": null
     }
    },
    "6193ed3bacac43218420dd3a6aa83784": {
     "model_module": "@jupyter-widgets/base",
     "model_module_version": "1.2.0",
     "model_name": "LayoutModel",
     "state": {
      "_model_module": "@jupyter-widgets/base",
      "_model_module_version": "1.2.0",
      "_model_name": "LayoutModel",
      "_view_count": null,
      "_view_module": "@jupyter-widgets/base",
      "_view_module_version": "1.2.0",
      "_view_name": "LayoutView",
      "align_content": null,
      "align_items": null,
      "align_self": null,
      "border": null,
      "bottom": null,
      "display": null,
      "flex": null,
      "flex_flow": null,
      "grid_area": null,
      "grid_auto_columns": null,
      "grid_auto_flow": null,
      "grid_auto_rows": null,
      "grid_column": null,
      "grid_gap": null,
      "grid_row": null,
      "grid_template_areas": null,
      "grid_template_columns": null,
      "grid_template_rows": null,
      "height": null,
      "justify_content": null,
      "justify_items": null,
      "left": null,
      "margin": null,
      "max_height": null,
      "max_width": null,
      "min_height": null,
      "min_width": null,
      "object_fit": null,
      "object_position": null,
      "order": null,
      "overflow": null,
      "overflow_x": null,
      "overflow_y": null,
      "padding": null,
      "right": null,
      "top": null,
      "visibility": null,
      "width": null
     }
    },
    "63eec7deeb9c41e39eb5556687b768f5": {
     "model_module": "@jupyter-widgets/controls",
     "model_module_version": "1.5.0",
     "model_name": "FloatProgressModel",
     "state": {
      "_dom_classes": [],
      "_model_module": "@jupyter-widgets/controls",
      "_model_module_version": "1.5.0",
      "_model_name": "FloatProgressModel",
      "_view_count": null,
      "_view_module": "@jupyter-widgets/controls",
      "_view_module_version": "1.5.0",
      "_view_name": "ProgressView",
      "bar_style": "success",
      "description": "",
      "description_tooltip": null,
      "layout": "IPY_MODEL_0421052d20104370ad85ca1572b61e79",
      "max": 701,
      "min": 0,
      "orientation": "horizontal",
      "style": "IPY_MODEL_1ed4e76569f44fc683779b43c765d07b",
      "value": 701
     }
    },
    "6531766795024285ab5dcb1828072349": {
     "model_module": "@jupyter-widgets/controls",
     "model_module_version": "1.5.0",
     "model_name": "ProgressStyleModel",
     "state": {
      "_model_module": "@jupyter-widgets/controls",
      "_model_module_version": "1.5.0",
      "_model_name": "ProgressStyleModel",
      "_view_count": null,
      "_view_module": "@jupyter-widgets/base",
      "_view_module_version": "1.2.0",
      "_view_name": "StyleView",
      "bar_color": null,
      "description_width": ""
     }
    },
    "65acee876eda46539a7a46461722605d": {
     "model_module": "@jupyter-widgets/controls",
     "model_module_version": "1.5.0",
     "model_name": "DescriptionStyleModel",
     "state": {
      "_model_module": "@jupyter-widgets/controls",
      "_model_module_version": "1.5.0",
      "_model_name": "DescriptionStyleModel",
      "_view_count": null,
      "_view_module": "@jupyter-widgets/base",
      "_view_module_version": "1.2.0",
      "_view_name": "StyleView",
      "description_width": ""
     }
    },
    "66de85187d564d16953e5d45a48466d5": {
     "model_module": "@jupyter-widgets/controls",
     "model_module_version": "1.5.0",
     "model_name": "HTMLModel",
     "state": {
      "_dom_classes": [],
      "_model_module": "@jupyter-widgets/controls",
      "_model_module_version": "1.5.0",
      "_model_name": "HTMLModel",
      "_view_count": null,
      "_view_module": "@jupyter-widgets/controls",
      "_view_module_version": "1.5.0",
      "_view_name": "HTMLView",
      "description": "",
      "description_tooltip": null,
      "layout": "IPY_MODEL_134d4d993a884a6e8c4fc86dedb75b21",
      "placeholder": "​",
      "style": "IPY_MODEL_b6af3a537d524dfd8c48b06001d860b5",
      "value": "vocab.txt: 100%"
     }
    },
    "683412f67920462397e5de03f83e5f9c": {
     "model_module": "@jupyter-widgets/controls",
     "model_module_version": "1.5.0",
     "model_name": "FloatProgressModel",
     "state": {
      "_dom_classes": [],
      "_model_module": "@jupyter-widgets/controls",
      "_model_module_version": "1.5.0",
      "_model_name": "FloatProgressModel",
      "_view_count": null,
      "_view_module": "@jupyter-widgets/controls",
      "_view_module_version": "1.5.0",
      "_view_name": "ProgressView",
      "bar_style": "",
      "description": "",
      "description_tooltip": null,
      "layout": "IPY_MODEL_cf1d0f0981b44ccfbe29b1dbe1b9c457",
      "max": 1,
      "min": 0,
      "orientation": "horizontal",
      "style": "IPY_MODEL_a64fb041e36c4cd190f766c054490f87",
      "value": 1
     }
    },
    "6b6f6acd41be4f95adc01b00db0841f9": {
     "model_module": "@jupyter-widgets/controls",
     "model_module_version": "1.5.0",
     "model_name": "DescriptionStyleModel",
     "state": {
      "_model_module": "@jupyter-widgets/controls",
      "_model_module_version": "1.5.0",
      "_model_name": "DescriptionStyleModel",
      "_view_count": null,
      "_view_module": "@jupyter-widgets/base",
      "_view_module_version": "1.2.0",
      "_view_name": "StyleView",
      "description_width": ""
     }
    },
    "6d1c554c2a0a4854beb059370e20c9e6": {
     "model_module": "@jupyter-widgets/base",
     "model_module_version": "1.2.0",
     "model_name": "LayoutModel",
     "state": {
      "_model_module": "@jupyter-widgets/base",
      "_model_module_version": "1.2.0",
      "_model_name": "LayoutModel",
      "_view_count": null,
      "_view_module": "@jupyter-widgets/base",
      "_view_module_version": "1.2.0",
      "_view_name": "LayoutView",
      "align_content": null,
      "align_items": null,
      "align_self": null,
      "border": null,
      "bottom": null,
      "display": null,
      "flex": null,
      "flex_flow": null,
      "grid_area": null,
      "grid_auto_columns": null,
      "grid_auto_flow": null,
      "grid_auto_rows": null,
      "grid_column": null,
      "grid_gap": null,
      "grid_row": null,
      "grid_template_areas": null,
      "grid_template_columns": null,
      "grid_template_rows": null,
      "height": null,
      "justify_content": null,
      "justify_items": null,
      "left": null,
      "margin": null,
      "max_height": null,
      "max_width": null,
      "min_height": null,
      "min_width": null,
      "object_fit": null,
      "object_position": null,
      "order": null,
      "overflow": null,
      "overflow_x": null,
      "overflow_y": null,
      "padding": null,
      "right": null,
      "top": null,
      "visibility": null,
      "width": null
     }
    },
    "700c4a3194f241eaa4ae36b9fa476914": {
     "model_module": "@jupyter-widgets/controls",
     "model_module_version": "1.5.0",
     "model_name": "DescriptionStyleModel",
     "state": {
      "_model_module": "@jupyter-widgets/controls",
      "_model_module_version": "1.5.0",
      "_model_name": "DescriptionStyleModel",
      "_view_count": null,
      "_view_module": "@jupyter-widgets/base",
      "_view_module_version": "1.2.0",
      "_view_name": "StyleView",
      "description_width": ""
     }
    },
    "7782b74e00494043911919ac20c4d4e9": {
     "model_module": "@jupyter-widgets/controls",
     "model_module_version": "1.5.0",
     "model_name": "HBoxModel",
     "state": {
      "_dom_classes": [],
      "_model_module": "@jupyter-widgets/controls",
      "_model_module_version": "1.5.0",
      "_model_name": "HBoxModel",
      "_view_count": null,
      "_view_module": "@jupyter-widgets/controls",
      "_view_module_version": "1.5.0",
      "_view_name": "HBoxView",
      "box_style": "",
      "children": [
       "IPY_MODEL_57cc7ee098904be08b69849d9577c5bc",
       "IPY_MODEL_c46748309fa3415b9d96cfbde177e178",
       "IPY_MODEL_2f0faa8fecf540a1b3683e4149e918a1"
      ],
      "layout": "IPY_MODEL_f4314f8530f4433fac0fa5bd95100171"
     }
    },
    "789e35396d2c46f7aa4401b0d8cd828b": {
     "model_module": "@jupyter-widgets/controls",
     "model_module_version": "1.5.0",
     "model_name": "HBoxModel",
     "state": {
      "_dom_classes": [],
      "_model_module": "@jupyter-widgets/controls",
      "_model_module_version": "1.5.0",
      "_model_name": "HBoxModel",
      "_view_count": null,
      "_view_module": "@jupyter-widgets/controls",
      "_view_module_version": "1.5.0",
      "_view_name": "HBoxView",
      "box_style": "",
      "children": [
       "IPY_MODEL_e5b60ecccebe4b8f8b7c6109609781fb",
       "IPY_MODEL_3b5f82be4b6c4cc8a9716442d9cb8453",
       "IPY_MODEL_39a7036c3e3a4219b18df59dde78e173"
      ],
      "layout": "IPY_MODEL_4602bf3592744b5984990d4aaf8d726d"
     }
    },
    "7b0bb8a0e2284c339c8b7f94e8ccb38b": {
     "model_module": "@jupyter-widgets/controls",
     "model_module_version": "1.5.0",
     "model_name": "FloatProgressModel",
     "state": {
      "_dom_classes": [],
      "_model_module": "@jupyter-widgets/controls",
      "_model_module_version": "1.5.0",
      "_model_name": "FloatProgressModel",
      "_view_count": null,
      "_view_module": "@jupyter-widgets/controls",
      "_view_module_version": "1.5.0",
      "_view_name": "ProgressView",
      "bar_style": "success",
      "description": "",
      "description_tooltip": null,
      "layout": "IPY_MODEL_9e28b2981ef1441e800701a6944115bf",
      "max": 80,
      "min": 0,
      "orientation": "horizontal",
      "style": "IPY_MODEL_926f4407af704df89765911059f6d316",
      "value": 80
     }
    },
    "7e18dab9d76e4088aae68094d84837cd": {
     "model_module": "@jupyter-widgets/base",
     "model_module_version": "1.2.0",
     "model_name": "LayoutModel",
     "state": {
      "_model_module": "@jupyter-widgets/base",
      "_model_module_version": "1.2.0",
      "_model_name": "LayoutModel",
      "_view_count": null,
      "_view_module": "@jupyter-widgets/base",
      "_view_module_version": "1.2.0",
      "_view_name": "LayoutView",
      "align_content": null,
      "align_items": null,
      "align_self": null,
      "border": null,
      "bottom": null,
      "display": null,
      "flex": null,
      "flex_flow": null,
      "grid_area": null,
      "grid_auto_columns": null,
      "grid_auto_flow": null,
      "grid_auto_rows": null,
      "grid_column": null,
      "grid_gap": null,
      "grid_row": null,
      "grid_template_areas": null,
      "grid_template_columns": null,
      "grid_template_rows": null,
      "height": null,
      "justify_content": null,
      "justify_items": null,
      "left": null,
      "margin": null,
      "max_height": null,
      "max_width": null,
      "min_height": null,
      "min_width": null,
      "object_fit": null,
      "object_position": null,
      "order": null,
      "overflow": null,
      "overflow_x": null,
      "overflow_y": null,
      "padding": null,
      "right": null,
      "top": null,
      "visibility": null,
      "width": null
     }
    },
    "7e2c2534bcce4b97b1de028eece79ccb": {
     "model_module": "@jupyter-widgets/controls",
     "model_module_version": "1.5.0",
     "model_name": "DescriptionStyleModel",
     "state": {
      "_model_module": "@jupyter-widgets/controls",
      "_model_module_version": "1.5.0",
      "_model_name": "DescriptionStyleModel",
      "_view_count": null,
      "_view_module": "@jupyter-widgets/base",
      "_view_module_version": "1.2.0",
      "_view_name": "StyleView",
      "description_width": ""
     }
    },
    "7ec06a9001a5414db8b4145410942a20": {
     "model_module": "@jupyter-widgets/base",
     "model_module_version": "1.2.0",
     "model_name": "LayoutModel",
     "state": {
      "_model_module": "@jupyter-widgets/base",
      "_model_module_version": "1.2.0",
      "_model_name": "LayoutModel",
      "_view_count": null,
      "_view_module": "@jupyter-widgets/base",
      "_view_module_version": "1.2.0",
      "_view_name": "LayoutView",
      "align_content": null,
      "align_items": null,
      "align_self": null,
      "border": null,
      "bottom": null,
      "display": null,
      "flex": null,
      "flex_flow": null,
      "grid_area": null,
      "grid_auto_columns": null,
      "grid_auto_flow": null,
      "grid_auto_rows": null,
      "grid_column": null,
      "grid_gap": null,
      "grid_row": null,
      "grid_template_areas": null,
      "grid_template_columns": null,
      "grid_template_rows": null,
      "height": null,
      "justify_content": null,
      "justify_items": null,
      "left": null,
      "margin": null,
      "max_height": null,
      "max_width": null,
      "min_height": null,
      "min_width": null,
      "object_fit": null,
      "object_position": null,
      "order": null,
      "overflow": null,
      "overflow_x": null,
      "overflow_y": null,
      "padding": null,
      "right": null,
      "top": null,
      "visibility": null,
      "width": null
     }
    },
    "82a629771ba64d33bd22296eea4422c9": {
     "model_module": "@jupyter-widgets/base",
     "model_module_version": "1.2.0",
     "model_name": "LayoutModel",
     "state": {
      "_model_module": "@jupyter-widgets/base",
      "_model_module_version": "1.2.0",
      "_model_name": "LayoutModel",
      "_view_count": null,
      "_view_module": "@jupyter-widgets/base",
      "_view_module_version": "1.2.0",
      "_view_name": "LayoutView",
      "align_content": null,
      "align_items": null,
      "align_self": null,
      "border": null,
      "bottom": null,
      "display": null,
      "flex": null,
      "flex_flow": null,
      "grid_area": null,
      "grid_auto_columns": null,
      "grid_auto_flow": null,
      "grid_auto_rows": null,
      "grid_column": null,
      "grid_gap": null,
      "grid_row": null,
      "grid_template_areas": null,
      "grid_template_columns": null,
      "grid_template_rows": null,
      "height": null,
      "justify_content": null,
      "justify_items": null,
      "left": null,
      "margin": null,
      "max_height": null,
      "max_width": null,
      "min_height": null,
      "min_width": null,
      "object_fit": null,
      "object_position": null,
      "order": null,
      "overflow": null,
      "overflow_x": null,
      "overflow_y": null,
      "padding": null,
      "right": null,
      "top": null,
      "visibility": null,
      "width": null
     }
    },
    "83476db4bd034e53a472a3b5314bf8a3": {
     "model_module": "@jupyter-widgets/base",
     "model_module_version": "1.2.0",
     "model_name": "LayoutModel",
     "state": {
      "_model_module": "@jupyter-widgets/base",
      "_model_module_version": "1.2.0",
      "_model_name": "LayoutModel",
      "_view_count": null,
      "_view_module": "@jupyter-widgets/base",
      "_view_module_version": "1.2.0",
      "_view_name": "LayoutView",
      "align_content": null,
      "align_items": null,
      "align_self": null,
      "border": null,
      "bottom": null,
      "display": null,
      "flex": null,
      "flex_flow": null,
      "grid_area": null,
      "grid_auto_columns": null,
      "grid_auto_flow": null,
      "grid_auto_rows": null,
      "grid_column": null,
      "grid_gap": null,
      "grid_row": null,
      "grid_template_areas": null,
      "grid_template_columns": null,
      "grid_template_rows": null,
      "height": null,
      "justify_content": null,
      "justify_items": null,
      "left": null,
      "margin": null,
      "max_height": null,
      "max_width": null,
      "min_height": null,
      "min_width": null,
      "object_fit": null,
      "object_position": null,
      "order": null,
      "overflow": null,
      "overflow_x": null,
      "overflow_y": null,
      "padding": null,
      "right": null,
      "top": null,
      "visibility": null,
      "width": null
     }
    },
    "83dcd01f146047b099e2de0d9a11361d": {
     "model_module": "@jupyter-widgets/controls",
     "model_module_version": "1.5.0",
     "model_name": "ProgressStyleModel",
     "state": {
      "_model_module": "@jupyter-widgets/controls",
      "_model_module_version": "1.5.0",
      "_model_name": "ProgressStyleModel",
      "_view_count": null,
      "_view_module": "@jupyter-widgets/base",
      "_view_module_version": "1.2.0",
      "_view_name": "StyleView",
      "bar_color": null,
      "description_width": ""
     }
    },
    "83e71edf5cc04f5d80a2a03b1edaa455": {
     "model_module": "@jupyter-widgets/controls",
     "model_module_version": "1.5.0",
     "model_name": "DescriptionStyleModel",
     "state": {
      "_model_module": "@jupyter-widgets/controls",
      "_model_module_version": "1.5.0",
      "_model_name": "DescriptionStyleModel",
      "_view_count": null,
      "_view_module": "@jupyter-widgets/base",
      "_view_module_version": "1.2.0",
      "_view_name": "StyleView",
      "description_width": ""
     }
    },
    "8421a145d2d14b4a9812a001c86a3e4d": {
     "model_module": "@jupyter-widgets/controls",
     "model_module_version": "1.5.0",
     "model_name": "LabelModel",
     "state": {
      "_dom_classes": [],
      "_model_module": "@jupyter-widgets/controls",
      "_model_module_version": "1.5.0",
      "_model_name": "LabelModel",
      "_view_count": null,
      "_view_module": "@jupyter-widgets/controls",
      "_view_module_version": "1.5.0",
      "_view_name": "LabelView",
      "description": "",
      "description_tooltip": null,
      "layout": "IPY_MODEL_14191fdcad5e4648ad1e3f9064f19a25",
      "placeholder": "​",
      "style": "IPY_MODEL_02aa805974d34d95be0d0bd72faa79e4",
      "value": "Waiting for wandb.init()...\r"
     }
    },
    "89cac8a78da644598575401b3bd024d9": {
     "model_module": "@jupyter-widgets/controls",
     "model_module_version": "1.5.0",
     "model_name": "ProgressStyleModel",
     "state": {
      "_model_module": "@jupyter-widgets/controls",
      "_model_module_version": "1.5.0",
      "_model_name": "ProgressStyleModel",
      "_view_count": null,
      "_view_module": "@jupyter-widgets/base",
      "_view_module_version": "1.2.0",
      "_view_name": "StyleView",
      "bar_color": null,
      "description_width": ""
     }
    },
    "907bc2da70694082b8147f9502c5983f": {
     "model_module": "@jupyter-widgets/base",
     "model_module_version": "1.2.0",
     "model_name": "LayoutModel",
     "state": {
      "_model_module": "@jupyter-widgets/base",
      "_model_module_version": "1.2.0",
      "_model_name": "LayoutModel",
      "_view_count": null,
      "_view_module": "@jupyter-widgets/base",
      "_view_module_version": "1.2.0",
      "_view_name": "LayoutView",
      "align_content": null,
      "align_items": null,
      "align_self": null,
      "border": null,
      "bottom": null,
      "display": null,
      "flex": null,
      "flex_flow": null,
      "grid_area": null,
      "grid_auto_columns": null,
      "grid_auto_flow": null,
      "grid_auto_rows": null,
      "grid_column": null,
      "grid_gap": null,
      "grid_row": null,
      "grid_template_areas": null,
      "grid_template_columns": null,
      "grid_template_rows": null,
      "height": null,
      "justify_content": null,
      "justify_items": null,
      "left": null,
      "margin": null,
      "max_height": null,
      "max_width": null,
      "min_height": null,
      "min_width": null,
      "object_fit": null,
      "object_position": null,
      "order": null,
      "overflow": null,
      "overflow_x": null,
      "overflow_y": null,
      "padding": null,
      "right": null,
      "top": null,
      "visibility": null,
      "width": null
     }
    },
    "916ee1b5d0534efd9330e448e5758fd0": {
     "model_module": "@jupyter-widgets/base",
     "model_module_version": "1.2.0",
     "model_name": "LayoutModel",
     "state": {
      "_model_module": "@jupyter-widgets/base",
      "_model_module_version": "1.2.0",
      "_model_name": "LayoutModel",
      "_view_count": null,
      "_view_module": "@jupyter-widgets/base",
      "_view_module_version": "1.2.0",
      "_view_name": "LayoutView",
      "align_content": null,
      "align_items": null,
      "align_self": null,
      "border": null,
      "bottom": null,
      "display": null,
      "flex": null,
      "flex_flow": null,
      "grid_area": null,
      "grid_auto_columns": null,
      "grid_auto_flow": null,
      "grid_auto_rows": null,
      "grid_column": null,
      "grid_gap": null,
      "grid_row": null,
      "grid_template_areas": null,
      "grid_template_columns": null,
      "grid_template_rows": null,
      "height": null,
      "justify_content": null,
      "justify_items": null,
      "left": null,
      "margin": null,
      "max_height": null,
      "max_width": null,
      "min_height": null,
      "min_width": null,
      "object_fit": null,
      "object_position": null,
      "order": null,
      "overflow": null,
      "overflow_x": null,
      "overflow_y": null,
      "padding": null,
      "right": null,
      "top": null,
      "visibility": null,
      "width": null
     }
    },
    "926df48f58ae43e0b55924dc10143d60": {
     "model_module": "@jupyter-widgets/controls",
     "model_module_version": "1.5.0",
     "model_name": "HBoxModel",
     "state": {
      "_dom_classes": [],
      "_model_module": "@jupyter-widgets/controls",
      "_model_module_version": "1.5.0",
      "_model_name": "HBoxModel",
      "_view_count": null,
      "_view_module": "@jupyter-widgets/controls",
      "_view_module_version": "1.5.0",
      "_view_name": "HBoxView",
      "box_style": "",
      "children": [
       "IPY_MODEL_e1c08ebdce2346a3a9be94d10fb29fb7",
       "IPY_MODEL_34720f0f64834830b1c090e5b86ca5c6",
       "IPY_MODEL_e45bbf5f1ed0479c91c2a5ffd920af56"
      ],
      "layout": "IPY_MODEL_0563cfc3dc7a4334a53b03abea67bf34"
     }
    },
    "926f4407af704df89765911059f6d316": {
     "model_module": "@jupyter-widgets/controls",
     "model_module_version": "1.5.0",
     "model_name": "ProgressStyleModel",
     "state": {
      "_model_module": "@jupyter-widgets/controls",
      "_model_module_version": "1.5.0",
      "_model_name": "ProgressStyleModel",
      "_view_count": null,
      "_view_module": "@jupyter-widgets/base",
      "_view_module_version": "1.2.0",
      "_view_name": "StyleView",
      "bar_color": null,
      "description_width": ""
     }
    },
    "96ea27ef4a594badb71ef41b3d53bec6": {
     "model_module": "@jupyter-widgets/controls",
     "model_module_version": "1.5.0",
     "model_name": "DescriptionStyleModel",
     "state": {
      "_model_module": "@jupyter-widgets/controls",
      "_model_module_version": "1.5.0",
      "_model_name": "DescriptionStyleModel",
      "_view_count": null,
      "_view_module": "@jupyter-widgets/base",
      "_view_module_version": "1.2.0",
      "_view_name": "StyleView",
      "description_width": ""
     }
    },
    "9e28b2981ef1441e800701a6944115bf": {
     "model_module": "@jupyter-widgets/base",
     "model_module_version": "1.2.0",
     "model_name": "LayoutModel",
     "state": {
      "_model_module": "@jupyter-widgets/base",
      "_model_module_version": "1.2.0",
      "_model_name": "LayoutModel",
      "_view_count": null,
      "_view_module": "@jupyter-widgets/base",
      "_view_module_version": "1.2.0",
      "_view_name": "LayoutView",
      "align_content": null,
      "align_items": null,
      "align_self": null,
      "border": null,
      "bottom": null,
      "display": null,
      "flex": null,
      "flex_flow": null,
      "grid_area": null,
      "grid_auto_columns": null,
      "grid_auto_flow": null,
      "grid_auto_rows": null,
      "grid_column": null,
      "grid_gap": null,
      "grid_row": null,
      "grid_template_areas": null,
      "grid_template_columns": null,
      "grid_template_rows": null,
      "height": null,
      "justify_content": null,
      "justify_items": null,
      "left": null,
      "margin": null,
      "max_height": null,
      "max_width": null,
      "min_height": null,
      "min_width": null,
      "object_fit": null,
      "object_position": null,
      "order": null,
      "overflow": null,
      "overflow_x": null,
      "overflow_y": null,
      "padding": null,
      "right": null,
      "top": null,
      "visibility": null,
      "width": null
     }
    },
    "9ec296a8acac491e88379978ac99e020": {
     "model_module": "@jupyter-widgets/base",
     "model_module_version": "1.2.0",
     "model_name": "LayoutModel",
     "state": {
      "_model_module": "@jupyter-widgets/base",
      "_model_module_version": "1.2.0",
      "_model_name": "LayoutModel",
      "_view_count": null,
      "_view_module": "@jupyter-widgets/base",
      "_view_module_version": "1.2.0",
      "_view_name": "LayoutView",
      "align_content": null,
      "align_items": null,
      "align_self": null,
      "border": null,
      "bottom": null,
      "display": null,
      "flex": null,
      "flex_flow": null,
      "grid_area": null,
      "grid_auto_columns": null,
      "grid_auto_flow": null,
      "grid_auto_rows": null,
      "grid_column": null,
      "grid_gap": null,
      "grid_row": null,
      "grid_template_areas": null,
      "grid_template_columns": null,
      "grid_template_rows": null,
      "height": null,
      "justify_content": null,
      "justify_items": null,
      "left": null,
      "margin": null,
      "max_height": null,
      "max_width": null,
      "min_height": null,
      "min_width": null,
      "object_fit": null,
      "object_position": null,
      "order": null,
      "overflow": null,
      "overflow_x": null,
      "overflow_y": null,
      "padding": null,
      "right": null,
      "top": null,
      "visibility": null,
      "width": null
     }
    },
    "a25952197a324488a47c71a38be0de9d": {
     "model_module": "@jupyter-widgets/base",
     "model_module_version": "1.2.0",
     "model_name": "LayoutModel",
     "state": {
      "_model_module": "@jupyter-widgets/base",
      "_model_module_version": "1.2.0",
      "_model_name": "LayoutModel",
      "_view_count": null,
      "_view_module": "@jupyter-widgets/base",
      "_view_module_version": "1.2.0",
      "_view_name": "LayoutView",
      "align_content": null,
      "align_items": null,
      "align_self": null,
      "border": null,
      "bottom": null,
      "display": null,
      "flex": null,
      "flex_flow": null,
      "grid_area": null,
      "grid_auto_columns": null,
      "grid_auto_flow": null,
      "grid_auto_rows": null,
      "grid_column": null,
      "grid_gap": null,
      "grid_row": null,
      "grid_template_areas": null,
      "grid_template_columns": null,
      "grid_template_rows": null,
      "height": null,
      "justify_content": null,
      "justify_items": null,
      "left": null,
      "margin": null,
      "max_height": null,
      "max_width": null,
      "min_height": null,
      "min_width": null,
      "object_fit": null,
      "object_position": null,
      "order": null,
      "overflow": null,
      "overflow_x": null,
      "overflow_y": null,
      "padding": null,
      "right": null,
      "top": null,
      "visibility": null,
      "width": null
     }
    },
    "a4e03bf1e679463ba560517492456925": {
     "model_module": "@jupyter-widgets/controls",
     "model_module_version": "1.5.0",
     "model_name": "DescriptionStyleModel",
     "state": {
      "_model_module": "@jupyter-widgets/controls",
      "_model_module_version": "1.5.0",
      "_model_name": "DescriptionStyleModel",
      "_view_count": null,
      "_view_module": "@jupyter-widgets/base",
      "_view_module_version": "1.2.0",
      "_view_name": "StyleView",
      "description_width": ""
     }
    },
    "a64fb041e36c4cd190f766c054490f87": {
     "model_module": "@jupyter-widgets/controls",
     "model_module_version": "1.5.0",
     "model_name": "ProgressStyleModel",
     "state": {
      "_model_module": "@jupyter-widgets/controls",
      "_model_module_version": "1.5.0",
      "_model_name": "ProgressStyleModel",
      "_view_count": null,
      "_view_module": "@jupyter-widgets/base",
      "_view_module_version": "1.2.0",
      "_view_name": "StyleView",
      "bar_color": null,
      "description_width": ""
     }
    },
    "ad0ea6494ceb48a8ac8a39bca70999d8": {
     "model_module": "@jupyter-widgets/controls",
     "model_module_version": "1.5.0",
     "model_name": "DescriptionStyleModel",
     "state": {
      "_model_module": "@jupyter-widgets/controls",
      "_model_module_version": "1.5.0",
      "_model_name": "DescriptionStyleModel",
      "_view_count": null,
      "_view_module": "@jupyter-widgets/base",
      "_view_module_version": "1.2.0",
      "_view_name": "StyleView",
      "description_width": ""
     }
    },
    "adca671bd24d4c6f88e3bf8efb17d330": {
     "model_module": "@jupyter-widgets/controls",
     "model_module_version": "1.5.0",
     "model_name": "HTMLModel",
     "state": {
      "_dom_classes": [],
      "_model_module": "@jupyter-widgets/controls",
      "_model_module_version": "1.5.0",
      "_model_name": "HTMLModel",
      "_view_count": null,
      "_view_module": "@jupyter-widgets/controls",
      "_view_module_version": "1.5.0",
      "_view_name": "HTMLView",
      "description": "",
      "description_tooltip": null,
      "layout": "IPY_MODEL_6d1c554c2a0a4854beb059370e20c9e6",
      "placeholder": "​",
      "style": "IPY_MODEL_07fdbbf7d4cd4b629a330c30ff632a3c",
      "value": " 701/701 [00:00&lt;00:00, 24.1kB/s]"
     }
    },
    "b44312ba86e04ea89111247e23c635c6": {
     "model_module": "@jupyter-widgets/controls",
     "model_module_version": "1.5.0",
     "model_name": "ProgressStyleModel",
     "state": {
      "_model_module": "@jupyter-widgets/controls",
      "_model_module_version": "1.5.0",
      "_model_name": "ProgressStyleModel",
      "_view_count": null,
      "_view_module": "@jupyter-widgets/base",
      "_view_module_version": "1.2.0",
      "_view_name": "StyleView",
      "bar_color": null,
      "description_width": ""
     }
    },
    "b4da9eee63a84ad383f189e13a6d0fa9": {
     "model_module": "@jupyter-widgets/controls",
     "model_module_version": "1.5.0",
     "model_name": "HTMLModel",
     "state": {
      "_dom_classes": [],
      "_model_module": "@jupyter-widgets/controls",
      "_model_module_version": "1.5.0",
      "_model_name": "HTMLModel",
      "_view_count": null,
      "_view_module": "@jupyter-widgets/controls",
      "_view_module_version": "1.5.0",
      "_view_name": "HTMLView",
      "description": "",
      "description_tooltip": null,
      "layout": "IPY_MODEL_3348d44475c94cb1b98061bfcb53900e",
      "placeholder": "​",
      "style": "IPY_MODEL_56fd94b10ecc43178e1865f37f5e20e4",
      "value": " 996k/996k [00:00&lt;00:00, 8.26MB/s]"
     }
    },
    "b6af3a537d524dfd8c48b06001d860b5": {
     "model_module": "@jupyter-widgets/controls",
     "model_module_version": "1.5.0",
     "model_name": "DescriptionStyleModel",
     "state": {
      "_model_module": "@jupyter-widgets/controls",
      "_model_module_version": "1.5.0",
      "_model_name": "DescriptionStyleModel",
      "_view_count": null,
      "_view_module": "@jupyter-widgets/base",
      "_view_module_version": "1.2.0",
      "_view_name": "StyleView",
      "description_width": ""
     }
    },
    "b988ec82ad424ae3835dd35d16a568db": {
     "model_module": "@jupyter-widgets/controls",
     "model_module_version": "1.5.0",
     "model_name": "HTMLModel",
     "state": {
      "_dom_classes": [],
      "_model_module": "@jupyter-widgets/controls",
      "_model_module_version": "1.5.0",
      "_model_name": "HTMLModel",
      "_view_count": null,
      "_view_module": "@jupyter-widgets/controls",
      "_view_module_version": "1.5.0",
      "_view_name": "HTMLView",
      "description": "",
      "description_tooltip": null,
      "layout": "IPY_MODEL_d17c9b9a5592452eb4f6944648a2e8ea",
      "placeholder": "​",
      "style": "IPY_MODEL_56fdffe8b977489b9ec2e5ea8a40edf5",
      "value": " 49.0/49.0 [00:00&lt;00:00, 851B/s]"
     }
    },
    "bb325f7be9334219a976b70c49578c28": {
     "model_module": "@jupyter-widgets/controls",
     "model_module_version": "1.5.0",
     "model_name": "ProgressStyleModel",
     "state": {
      "_model_module": "@jupyter-widgets/controls",
      "_model_module_version": "1.5.0",
      "_model_name": "ProgressStyleModel",
      "_view_count": null,
      "_view_module": "@jupyter-widgets/base",
      "_view_module_version": "1.2.0",
      "_view_name": "StyleView",
      "bar_color": null,
      "description_width": ""
     }
    },
    "bbed4f3c45584f3caa12f64edac8c338": {
     "model_module": "@jupyter-widgets/controls",
     "model_module_version": "1.5.0",
     "model_name": "DescriptionStyleModel",
     "state": {
      "_model_module": "@jupyter-widgets/controls",
      "_model_module_version": "1.5.0",
      "_model_name": "DescriptionStyleModel",
      "_view_count": null,
      "_view_module": "@jupyter-widgets/base",
      "_view_module_version": "1.2.0",
      "_view_name": "StyleView",
      "description_width": ""
     }
    },
    "bc8062ce07204a17ab32b380b3792c1f": {
     "model_module": "@jupyter-widgets/base",
     "model_module_version": "1.2.0",
     "model_name": "LayoutModel",
     "state": {
      "_model_module": "@jupyter-widgets/base",
      "_model_module_version": "1.2.0",
      "_model_name": "LayoutModel",
      "_view_count": null,
      "_view_module": "@jupyter-widgets/base",
      "_view_module_version": "1.2.0",
      "_view_name": "LayoutView",
      "align_content": null,
      "align_items": null,
      "align_self": null,
      "border": null,
      "bottom": null,
      "display": null,
      "flex": null,
      "flex_flow": null,
      "grid_area": null,
      "grid_auto_columns": null,
      "grid_auto_flow": null,
      "grid_auto_rows": null,
      "grid_column": null,
      "grid_gap": null,
      "grid_row": null,
      "grid_template_areas": null,
      "grid_template_columns": null,
      "grid_template_rows": null,
      "height": null,
      "justify_content": null,
      "justify_items": null,
      "left": null,
      "margin": null,
      "max_height": null,
      "max_width": null,
      "min_height": null,
      "min_width": null,
      "object_fit": null,
      "object_position": null,
      "order": null,
      "overflow": null,
      "overflow_x": null,
      "overflow_y": null,
      "padding": null,
      "right": null,
      "top": null,
      "visibility": null,
      "width": null
     }
    },
    "c2d68ce404df4eed90f37dc7e7bd92d4": {
     "model_module": "@jupyter-widgets/base",
     "model_module_version": "1.2.0",
     "model_name": "LayoutModel",
     "state": {
      "_model_module": "@jupyter-widgets/base",
      "_model_module_version": "1.2.0",
      "_model_name": "LayoutModel",
      "_view_count": null,
      "_view_module": "@jupyter-widgets/base",
      "_view_module_version": "1.2.0",
      "_view_name": "LayoutView",
      "align_content": null,
      "align_items": null,
      "align_self": null,
      "border": null,
      "bottom": null,
      "display": null,
      "flex": null,
      "flex_flow": null,
      "grid_area": null,
      "grid_auto_columns": null,
      "grid_auto_flow": null,
      "grid_auto_rows": null,
      "grid_column": null,
      "grid_gap": null,
      "grid_row": null,
      "grid_template_areas": null,
      "grid_template_columns": null,
      "grid_template_rows": null,
      "height": null,
      "justify_content": null,
      "justify_items": null,
      "left": null,
      "margin": null,
      "max_height": null,
      "max_width": null,
      "min_height": null,
      "min_width": null,
      "object_fit": null,
      "object_position": null,
      "order": null,
      "overflow": null,
      "overflow_x": null,
      "overflow_y": null,
      "padding": null,
      "right": null,
      "top": null,
      "visibility": null,
      "width": null
     }
    },
    "c458c161f4f74f739c40a2ca58a89874": {
     "model_module": "@jupyter-widgets/controls",
     "model_module_version": "1.5.0",
     "model_name": "DescriptionStyleModel",
     "state": {
      "_model_module": "@jupyter-widgets/controls",
      "_model_module_version": "1.5.0",
      "_model_name": "DescriptionStyleModel",
      "_view_count": null,
      "_view_module": "@jupyter-widgets/base",
      "_view_module_version": "1.2.0",
      "_view_name": "StyleView",
      "description_width": ""
     }
    },
    "c46748309fa3415b9d96cfbde177e178": {
     "model_module": "@jupyter-widgets/controls",
     "model_module_version": "1.5.0",
     "model_name": "FloatProgressModel",
     "state": {
      "_dom_classes": [],
      "_model_module": "@jupyter-widgets/controls",
      "_model_module_version": "1.5.0",
      "_model_name": "FloatProgressModel",
      "_view_count": null,
      "_view_module": "@jupyter-widgets/controls",
      "_view_module_version": "1.5.0",
      "_view_name": "ProgressView",
      "bar_style": "success",
      "description": "",
      "description_tooltip": null,
      "layout": "IPY_MODEL_7ec06a9001a5414db8b4145410942a20",
      "max": 725,
      "min": 0,
      "orientation": "horizontal",
      "style": "IPY_MODEL_4393dd2d135842b5bedbe3c0c9bace91",
      "value": 725
     }
    },
    "c5de990f8f15407ab67c5cd3cdea1372": {
     "model_module": "@jupyter-widgets/controls",
     "model_module_version": "1.5.0",
     "model_name": "HBoxModel",
     "state": {
      "_dom_classes": [],
      "_model_module": "@jupyter-widgets/controls",
      "_model_module_version": "1.5.0",
      "_model_name": "HBoxModel",
      "_view_count": null,
      "_view_module": "@jupyter-widgets/controls",
      "_view_module_version": "1.5.0",
      "_view_name": "HBoxView",
      "box_style": "",
      "children": [
       "IPY_MODEL_3f3d581aa0f4400aae40b982c683803b",
       "IPY_MODEL_3a509e41fb3249de86acbc4c81e186f2",
       "IPY_MODEL_3b8add05787b4b31b9457d58cfbecbb8"
      ],
      "layout": "IPY_MODEL_7e18dab9d76e4088aae68094d84837cd"
     }
    },
    "cc786858d7d248e1865c12be1d59c413": {
     "model_module": "@jupyter-widgets/controls",
     "model_module_version": "1.5.0",
     "model_name": "HBoxModel",
     "state": {
      "_dom_classes": [],
      "_model_module": "@jupyter-widgets/controls",
      "_model_module_version": "1.5.0",
      "_model_name": "HBoxModel",
      "_view_count": null,
      "_view_module": "@jupyter-widgets/controls",
      "_view_module_version": "1.5.0",
      "_view_name": "HBoxView",
      "box_style": "",
      "children": [
       "IPY_MODEL_e1173beff3bf4648a01d4830ce428679",
       "IPY_MODEL_63eec7deeb9c41e39eb5556687b768f5",
       "IPY_MODEL_adca671bd24d4c6f88e3bf8efb17d330"
      ],
      "layout": "IPY_MODEL_616949c867ea429cb9784691bebf9ea7"
     }
    },
    "cd2b767543f1435299935d6dadee5034": {
     "model_module": "@jupyter-widgets/controls",
     "model_module_version": "1.5.0",
     "model_name": "HTMLModel",
     "state": {
      "_dom_classes": [],
      "_model_module": "@jupyter-widgets/controls",
      "_model_module_version": "1.5.0",
      "_model_name": "HTMLModel",
      "_view_count": null,
      "_view_module": "@jupyter-widgets/controls",
      "_view_module_version": "1.5.0",
      "_view_name": "HTMLView",
      "description": "",
      "description_tooltip": null,
      "layout": "IPY_MODEL_bc8062ce07204a17ab32b380b3792c1f",
      "placeholder": "​",
      "style": "IPY_MODEL_ed9e0e610cec4c84aeb24b399e6e55a4",
      "value": "tokenizer_config.json: 100%"
     }
    },
    "cf1d0f0981b44ccfbe29b1dbe1b9c457": {
     "model_module": "@jupyter-widgets/base",
     "model_module_version": "1.2.0",
     "model_name": "LayoutModel",
     "state": {
      "_model_module": "@jupyter-widgets/base",
      "_model_module_version": "1.2.0",
      "_model_name": "LayoutModel",
      "_view_count": null,
      "_view_module": "@jupyter-widgets/base",
      "_view_module_version": "1.2.0",
      "_view_name": "LayoutView",
      "align_content": null,
      "align_items": null,
      "align_self": null,
      "border": null,
      "bottom": null,
      "display": null,
      "flex": null,
      "flex_flow": null,
      "grid_area": null,
      "grid_auto_columns": null,
      "grid_auto_flow": null,
      "grid_auto_rows": null,
      "grid_column": null,
      "grid_gap": null,
      "grid_row": null,
      "grid_template_areas": null,
      "grid_template_columns": null,
      "grid_template_rows": null,
      "height": null,
      "justify_content": null,
      "justify_items": null,
      "left": null,
      "margin": null,
      "max_height": null,
      "max_width": null,
      "min_height": null,
      "min_width": null,
      "object_fit": null,
      "object_position": null,
      "order": null,
      "overflow": null,
      "overflow_x": null,
      "overflow_y": null,
      "padding": null,
      "right": null,
      "top": null,
      "visibility": null,
      "width": null
     }
    },
    "d17c9b9a5592452eb4f6944648a2e8ea": {
     "model_module": "@jupyter-widgets/base",
     "model_module_version": "1.2.0",
     "model_name": "LayoutModel",
     "state": {
      "_model_module": "@jupyter-widgets/base",
      "_model_module_version": "1.2.0",
      "_model_name": "LayoutModel",
      "_view_count": null,
      "_view_module": "@jupyter-widgets/base",
      "_view_module_version": "1.2.0",
      "_view_name": "LayoutView",
      "align_content": null,
      "align_items": null,
      "align_self": null,
      "border": null,
      "bottom": null,
      "display": null,
      "flex": null,
      "flex_flow": null,
      "grid_area": null,
      "grid_auto_columns": null,
      "grid_auto_flow": null,
      "grid_auto_rows": null,
      "grid_column": null,
      "grid_gap": null,
      "grid_row": null,
      "grid_template_areas": null,
      "grid_template_columns": null,
      "grid_template_rows": null,
      "height": null,
      "justify_content": null,
      "justify_items": null,
      "left": null,
      "margin": null,
      "max_height": null,
      "max_width": null,
      "min_height": null,
      "min_width": null,
      "object_fit": null,
      "object_position": null,
      "order": null,
      "overflow": null,
      "overflow_x": null,
      "overflow_y": null,
      "padding": null,
      "right": null,
      "top": null,
      "visibility": null,
      "width": null
     }
    },
    "d795e4d7c862477485a2fb3587a801bb": {
     "model_module": "@jupyter-widgets/base",
     "model_module_version": "1.2.0",
     "model_name": "LayoutModel",
     "state": {
      "_model_module": "@jupyter-widgets/base",
      "_model_module_version": "1.2.0",
      "_model_name": "LayoutModel",
      "_view_count": null,
      "_view_module": "@jupyter-widgets/base",
      "_view_module_version": "1.2.0",
      "_view_name": "LayoutView",
      "align_content": null,
      "align_items": null,
      "align_self": null,
      "border": null,
      "bottom": null,
      "display": null,
      "flex": null,
      "flex_flow": null,
      "grid_area": null,
      "grid_auto_columns": null,
      "grid_auto_flow": null,
      "grid_auto_rows": null,
      "grid_column": null,
      "grid_gap": null,
      "grid_row": null,
      "grid_template_areas": null,
      "grid_template_columns": null,
      "grid_template_rows": null,
      "height": null,
      "justify_content": null,
      "justify_items": null,
      "left": null,
      "margin": null,
      "max_height": null,
      "max_width": null,
      "min_height": null,
      "min_width": null,
      "object_fit": null,
      "object_position": null,
      "order": null,
      "overflow": null,
      "overflow_x": null,
      "overflow_y": null,
      "padding": null,
      "right": null,
      "top": null,
      "visibility": null,
      "width": null
     }
    },
    "d8b4b59278814e38a249ff6e7a1b0885": {
     "model_module": "@jupyter-widgets/controls",
     "model_module_version": "1.5.0",
     "model_name": "ProgressStyleModel",
     "state": {
      "_model_module": "@jupyter-widgets/controls",
      "_model_module_version": "1.5.0",
      "_model_name": "ProgressStyleModel",
      "_view_count": null,
      "_view_module": "@jupyter-widgets/base",
      "_view_module_version": "1.2.0",
      "_view_name": "StyleView",
      "bar_color": null,
      "description_width": ""
     }
    },
    "d97164f9eaf845e99403a69077eb6331": {
     "model_module": "@jupyter-widgets/controls",
     "model_module_version": "1.5.0",
     "model_name": "DescriptionStyleModel",
     "state": {
      "_model_module": "@jupyter-widgets/controls",
      "_model_module_version": "1.5.0",
      "_model_name": "DescriptionStyleModel",
      "_view_count": null,
      "_view_module": "@jupyter-widgets/base",
      "_view_module_version": "1.2.0",
      "_view_name": "StyleView",
      "description_width": ""
     }
    },
    "da12722de6e84eb095b02cc8b019e34f": {
     "model_module": "@jupyter-widgets/controls",
     "model_module_version": "1.5.0",
     "model_name": "DescriptionStyleModel",
     "state": {
      "_model_module": "@jupyter-widgets/controls",
      "_model_module_version": "1.5.0",
      "_model_name": "DescriptionStyleModel",
      "_view_count": null,
      "_view_module": "@jupyter-widgets/base",
      "_view_module_version": "1.2.0",
      "_view_name": "StyleView",
      "description_width": ""
     }
    },
    "da99957f3def4e1993c214c71a23cab8": {
     "model_module": "@jupyter-widgets/controls",
     "model_module_version": "1.5.0",
     "model_name": "HTMLModel",
     "state": {
      "_dom_classes": [],
      "_model_module": "@jupyter-widgets/controls",
      "_model_module_version": "1.5.0",
      "_model_name": "HTMLModel",
      "_view_count": null,
      "_view_module": "@jupyter-widgets/controls",
      "_view_module_version": "1.5.0",
      "_view_name": "HTMLView",
      "description": "",
      "description_tooltip": null,
      "layout": "IPY_MODEL_3ec6fe15d6ff44958521f079b815dadf",
      "placeholder": "​",
      "style": "IPY_MODEL_83e71edf5cc04f5d80a2a03b1edaa455",
      "value": " 80.0/80.0 [00:00&lt;00:00, 1.38kB/s]"
     }
    },
    "dd0d07a703ed49a98f58ec914582192c": {
     "model_module": "@jupyter-widgets/controls",
     "model_module_version": "1.5.0",
     "model_name": "ProgressStyleModel",
     "state": {
      "_model_module": "@jupyter-widgets/controls",
      "_model_module_version": "1.5.0",
      "_model_name": "ProgressStyleModel",
      "_view_count": null,
      "_view_module": "@jupyter-widgets/base",
      "_view_module_version": "1.2.0",
      "_view_name": "StyleView",
      "bar_color": null,
      "description_width": ""
     }
    },
    "df44fea56c904af9ad6f449be1928a81": {
     "model_module": "@jupyter-widgets/controls",
     "model_module_version": "1.5.0",
     "model_name": "HTMLModel",
     "state": {
      "_dom_classes": [],
      "_model_module": "@jupyter-widgets/controls",
      "_model_module_version": "1.5.0",
      "_model_name": "HTMLModel",
      "_view_count": null,
      "_view_module": "@jupyter-widgets/controls",
      "_view_module_version": "1.5.0",
      "_view_name": "HTMLView",
      "description": "",
      "description_tooltip": null,
      "layout": "IPY_MODEL_6193ed3bacac43218420dd3a6aa83784",
      "placeholder": "​",
      "style": "IPY_MODEL_7e2c2534bcce4b97b1de028eece79ccb",
      "value": "tokenizer_config.json: 100%"
     }
    },
    "e1173beff3bf4648a01d4830ce428679": {
     "model_module": "@jupyter-widgets/controls",
     "model_module_version": "1.5.0",
     "model_name": "HTMLModel",
     "state": {
      "_dom_classes": [],
      "_model_module": "@jupyter-widgets/controls",
      "_model_module_version": "1.5.0",
      "_model_name": "HTMLModel",
      "_view_count": null,
      "_view_module": "@jupyter-widgets/controls",
      "_view_module_version": "1.5.0",
      "_view_name": "HTMLView",
      "description": "",
      "description_tooltip": null,
      "layout": "IPY_MODEL_f6d80af346d84fe4be898bdd61e7aeba",
      "placeholder": "​",
      "style": "IPY_MODEL_da12722de6e84eb095b02cc8b019e34f",
      "value": "config.json: 100%"
     }
    },
    "e1c08ebdce2346a3a9be94d10fb29fb7": {
     "model_module": "@jupyter-widgets/controls",
     "model_module_version": "1.5.0",
     "model_name": "HTMLModel",
     "state": {
      "_dom_classes": [],
      "_model_module": "@jupyter-widgets/controls",
      "_model_module_version": "1.5.0",
      "_model_name": "HTMLModel",
      "_view_count": null,
      "_view_module": "@jupyter-widgets/controls",
      "_view_module_version": "1.5.0",
      "_view_name": "HTMLView",
      "description": "",
      "description_tooltip": null,
      "layout": "IPY_MODEL_907bc2da70694082b8147f9502c5983f",
      "placeholder": "​",
      "style": "IPY_MODEL_a4e03bf1e679463ba560517492456925",
      "value": "tokenizer.json: 100%"
     }
    },
    "e28bd89d6aba47eca3d7b2c3b886ff3d": {
     "model_module": "@jupyter-widgets/base",
     "model_module_version": "1.2.0",
     "model_name": "LayoutModel",
     "state": {
      "_model_module": "@jupyter-widgets/base",
      "_model_module_version": "1.2.0",
      "_model_name": "LayoutModel",
      "_view_count": null,
      "_view_module": "@jupyter-widgets/base",
      "_view_module_version": "1.2.0",
      "_view_name": "LayoutView",
      "align_content": null,
      "align_items": null,
      "align_self": null,
      "border": null,
      "bottom": null,
      "display": null,
      "flex": null,
      "flex_flow": null,
      "grid_area": null,
      "grid_auto_columns": null,
      "grid_auto_flow": null,
      "grid_auto_rows": null,
      "grid_column": null,
      "grid_gap": null,
      "grid_row": null,
      "grid_template_areas": null,
      "grid_template_columns": null,
      "grid_template_rows": null,
      "height": null,
      "justify_content": null,
      "justify_items": null,
      "left": null,
      "margin": null,
      "max_height": null,
      "max_width": null,
      "min_height": null,
      "min_width": null,
      "object_fit": null,
      "object_position": null,
      "order": null,
      "overflow": null,
      "overflow_x": null,
      "overflow_y": null,
      "padding": null,
      "right": null,
      "top": null,
      "visibility": null,
      "width": null
     }
    },
    "e45bbf5f1ed0479c91c2a5ffd920af56": {
     "model_module": "@jupyter-widgets/controls",
     "model_module_version": "1.5.0",
     "model_name": "HTMLModel",
     "state": {
      "_dom_classes": [],
      "_model_module": "@jupyter-widgets/controls",
      "_model_module_version": "1.5.0",
      "_model_name": "HTMLModel",
      "_view_count": null,
      "_view_module": "@jupyter-widgets/controls",
      "_view_module_version": "1.5.0",
      "_view_name": "HTMLView",
      "description": "",
      "description_tooltip": null,
      "layout": "IPY_MODEL_569fcbc6a1c44d52b64226dbe4d5451e",
      "placeholder": "​",
      "style": "IPY_MODEL_ad0ea6494ceb48a8ac8a39bca70999d8",
      "value": " 1.96M/1.96M [00:00&lt;00:00, 16.0MB/s]"
     }
    },
    "e5b60ecccebe4b8f8b7c6109609781fb": {
     "model_module": "@jupyter-widgets/controls",
     "model_module_version": "1.5.0",
     "model_name": "HTMLModel",
     "state": {
      "_dom_classes": [],
      "_model_module": "@jupyter-widgets/controls",
      "_model_module_version": "1.5.0",
      "_model_name": "HTMLModel",
      "_view_count": null,
      "_view_module": "@jupyter-widgets/controls",
      "_view_module_version": "1.5.0",
      "_view_name": "HTMLView",
      "description": "",
      "description_tooltip": null,
      "layout": "IPY_MODEL_e28bd89d6aba47eca3d7b2c3b886ff3d",
      "placeholder": "​",
      "style": "IPY_MODEL_d97164f9eaf845e99403a69077eb6331",
      "value": "pytorch_model.bin: 100%"
     }
    },
    "e974ba8f861c48aeb8548cab312d758c": {
     "model_module": "@jupyter-widgets/controls",
     "model_module_version": "1.5.0",
     "model_name": "HBoxModel",
     "state": {
      "_dom_classes": [],
      "_model_module": "@jupyter-widgets/controls",
      "_model_module_version": "1.5.0",
      "_model_name": "HBoxModel",
      "_view_count": null,
      "_view_module": "@jupyter-widgets/controls",
      "_view_module_version": "1.5.0",
      "_view_name": "HBoxView",
      "box_style": "",
      "children": [
       "IPY_MODEL_0938947be70f49b4a2668b30e45b1aae",
       "IPY_MODEL_2cd96637c2054f7e8489493d5281508c",
       "IPY_MODEL_f802bbfadf5145f3b291cad7a617c4d4"
      ],
      "layout": "IPY_MODEL_d795e4d7c862477485a2fb3587a801bb"
     }
    },
    "ecd1452d40544b9f8e824893d8965f80": {
     "model_module": "@jupyter-widgets/controls",
     "model_module_version": "1.5.0",
     "model_name": "HBoxModel",
     "state": {
      "_dom_classes": [],
      "_model_module": "@jupyter-widgets/controls",
      "_model_module_version": "1.5.0",
      "_model_name": "HBoxModel",
      "_view_count": null,
      "_view_module": "@jupyter-widgets/controls",
      "_view_module_version": "1.5.0",
      "_view_name": "HBoxView",
      "box_style": "",
      "children": [
       "IPY_MODEL_cd2b767543f1435299935d6dadee5034",
       "IPY_MODEL_14c4da599454480886928b62d789a0d5",
       "IPY_MODEL_b988ec82ad424ae3835dd35d16a568db"
      ],
      "layout": "IPY_MODEL_0b8c98a0d9b7446396cfbebb7356f676"
     }
    },
    "ed194bf6757a450f96d791fd7e0ecbd0": {
     "model_module": "@jupyter-widgets/controls",
     "model_module_version": "1.5.0",
     "model_name": "HTMLModel",
     "state": {
      "_dom_classes": [],
      "_model_module": "@jupyter-widgets/controls",
      "_model_module_version": "1.5.0",
      "_model_name": "HTMLModel",
      "_view_count": null,
      "_view_module": "@jupyter-widgets/controls",
      "_view_module_version": "1.5.0",
      "_view_name": "HTMLView",
      "description": "",
      "description_tooltip": null,
      "layout": "IPY_MODEL_1de1d369d5294e5a85c9916b298fe2f1",
      "placeholder": "​",
      "style": "IPY_MODEL_700c4a3194f241eaa4ae36b9fa476914",
      "value": "model.safetensors: 100%"
     }
    },
    "ed9e0e610cec4c84aeb24b399e6e55a4": {
     "model_module": "@jupyter-widgets/controls",
     "model_module_version": "1.5.0",
     "model_name": "DescriptionStyleModel",
     "state": {
      "_model_module": "@jupyter-widgets/controls",
      "_model_module_version": "1.5.0",
      "_model_name": "DescriptionStyleModel",
      "_view_count": null,
      "_view_module": "@jupyter-widgets/base",
      "_view_module_version": "1.2.0",
      "_view_name": "StyleView",
      "description_width": ""
     }
    },
    "eea8c8d16bc04a93af2aabf6b526728b": {
     "model_module": "@jupyter-widgets/controls",
     "model_module_version": "1.5.0",
     "model_name": "DescriptionStyleModel",
     "state": {
      "_model_module": "@jupyter-widgets/controls",
      "_model_module_version": "1.5.0",
      "_model_name": "DescriptionStyleModel",
      "_view_count": null,
      "_view_module": "@jupyter-widgets/base",
      "_view_module_version": "1.2.0",
      "_view_name": "StyleView",
      "description_width": ""
     }
    },
    "f3a35087770b400fa5877ce0e6842536": {
     "model_module": "@jupyter-widgets/base",
     "model_module_version": "1.2.0",
     "model_name": "LayoutModel",
     "state": {
      "_model_module": "@jupyter-widgets/base",
      "_model_module_version": "1.2.0",
      "_model_name": "LayoutModel",
      "_view_count": null,
      "_view_module": "@jupyter-widgets/base",
      "_view_module_version": "1.2.0",
      "_view_name": "LayoutView",
      "align_content": null,
      "align_items": null,
      "align_self": null,
      "border": null,
      "bottom": null,
      "display": null,
      "flex": null,
      "flex_flow": null,
      "grid_area": null,
      "grid_auto_columns": null,
      "grid_auto_flow": null,
      "grid_auto_rows": null,
      "grid_column": null,
      "grid_gap": null,
      "grid_row": null,
      "grid_template_areas": null,
      "grid_template_columns": null,
      "grid_template_rows": null,
      "height": null,
      "justify_content": null,
      "justify_items": null,
      "left": null,
      "margin": null,
      "max_height": null,
      "max_width": null,
      "min_height": null,
      "min_width": null,
      "object_fit": null,
      "object_position": null,
      "order": null,
      "overflow": null,
      "overflow_x": null,
      "overflow_y": null,
      "padding": null,
      "right": null,
      "top": null,
      "visibility": null,
      "width": null
     }
    },
    "f4314f8530f4433fac0fa5bd95100171": {
     "model_module": "@jupyter-widgets/base",
     "model_module_version": "1.2.0",
     "model_name": "LayoutModel",
     "state": {
      "_model_module": "@jupyter-widgets/base",
      "_model_module_version": "1.2.0",
      "_model_name": "LayoutModel",
      "_view_count": null,
      "_view_module": "@jupyter-widgets/base",
      "_view_module_version": "1.2.0",
      "_view_name": "LayoutView",
      "align_content": null,
      "align_items": null,
      "align_self": null,
      "border": null,
      "bottom": null,
      "display": null,
      "flex": null,
      "flex_flow": null,
      "grid_area": null,
      "grid_auto_columns": null,
      "grid_auto_flow": null,
      "grid_auto_rows": null,
      "grid_column": null,
      "grid_gap": null,
      "grid_row": null,
      "grid_template_areas": null,
      "grid_template_columns": null,
      "grid_template_rows": null,
      "height": null,
      "justify_content": null,
      "justify_items": null,
      "left": null,
      "margin": null,
      "max_height": null,
      "max_width": null,
      "min_height": null,
      "min_width": null,
      "object_fit": null,
      "object_position": null,
      "order": null,
      "overflow": null,
      "overflow_x": null,
      "overflow_y": null,
      "padding": null,
      "right": null,
      "top": null,
      "visibility": null,
      "width": null
     }
    },
    "f4e51e3711a14c9b9a3313416edab4dd": {
     "model_module": "@jupyter-widgets/controls",
     "model_module_version": "1.5.0",
     "model_name": "DescriptionStyleModel",
     "state": {
      "_model_module": "@jupyter-widgets/controls",
      "_model_module_version": "1.5.0",
      "_model_name": "DescriptionStyleModel",
      "_view_count": null,
      "_view_module": "@jupyter-widgets/base",
      "_view_module_version": "1.2.0",
      "_view_name": "StyleView",
      "description_width": ""
     }
    },
    "f6d80af346d84fe4be898bdd61e7aeba": {
     "model_module": "@jupyter-widgets/base",
     "model_module_version": "1.2.0",
     "model_name": "LayoutModel",
     "state": {
      "_model_module": "@jupyter-widgets/base",
      "_model_module_version": "1.2.0",
      "_model_name": "LayoutModel",
      "_view_count": null,
      "_view_module": "@jupyter-widgets/base",
      "_view_module_version": "1.2.0",
      "_view_name": "LayoutView",
      "align_content": null,
      "align_items": null,
      "align_self": null,
      "border": null,
      "bottom": null,
      "display": null,
      "flex": null,
      "flex_flow": null,
      "grid_area": null,
      "grid_auto_columns": null,
      "grid_auto_flow": null,
      "grid_auto_rows": null,
      "grid_column": null,
      "grid_gap": null,
      "grid_row": null,
      "grid_template_areas": null,
      "grid_template_columns": null,
      "grid_template_rows": null,
      "height": null,
      "justify_content": null,
      "justify_items": null,
      "left": null,
      "margin": null,
      "max_height": null,
      "max_width": null,
      "min_height": null,
      "min_width": null,
      "object_fit": null,
      "object_position": null,
      "order": null,
      "overflow": null,
      "overflow_x": null,
      "overflow_y": null,
      "padding": null,
      "right": null,
      "top": null,
      "visibility": null,
      "width": null
     }
    },
    "f802bbfadf5145f3b291cad7a617c4d4": {
     "model_module": "@jupyter-widgets/controls",
     "model_module_version": "1.5.0",
     "model_name": "HTMLModel",
     "state": {
      "_dom_classes": [],
      "_model_module": "@jupyter-widgets/controls",
      "_model_module_version": "1.5.0",
      "_model_name": "HTMLModel",
      "_view_count": null,
      "_view_module": "@jupyter-widgets/controls",
      "_view_module_version": "1.5.0",
      "_view_name": "HTMLView",
      "description": "",
      "description_tooltip": null,
      "layout": "IPY_MODEL_52362e3759cb4b3f808c602671700337",
      "placeholder": "​",
      "style": "IPY_MODEL_96ea27ef4a594badb71ef41b3d53bec6",
      "value": " 625/625 [00:00&lt;00:00, 14.8kB/s]"
     }
    },
    "f8101c683be54ab8896726653a59bf9f": {
     "model_module": "@jupyter-widgets/controls",
     "model_module_version": "1.5.0",
     "model_name": "DescriptionStyleModel",
     "state": {
      "_model_module": "@jupyter-widgets/controls",
      "_model_module_version": "1.5.0",
      "_model_name": "DescriptionStyleModel",
      "_view_count": null,
      "_view_module": "@jupyter-widgets/base",
      "_view_module_version": "1.2.0",
      "_view_name": "StyleView",
      "description_width": ""
     }
    },
    "f83a0a435b694eeb9b09475887a500d6": {
     "model_module": "@jupyter-widgets/base",
     "model_module_version": "1.2.0",
     "model_name": "LayoutModel",
     "state": {
      "_model_module": "@jupyter-widgets/base",
      "_model_module_version": "1.2.0",
      "_model_name": "LayoutModel",
      "_view_count": null,
      "_view_module": "@jupyter-widgets/base",
      "_view_module_version": "1.2.0",
      "_view_name": "LayoutView",
      "align_content": null,
      "align_items": null,
      "align_self": null,
      "border": null,
      "bottom": null,
      "display": null,
      "flex": null,
      "flex_flow": null,
      "grid_area": null,
      "grid_auto_columns": null,
      "grid_auto_flow": null,
      "grid_auto_rows": null,
      "grid_column": null,
      "grid_gap": null,
      "grid_row": null,
      "grid_template_areas": null,
      "grid_template_columns": null,
      "grid_template_rows": null,
      "height": null,
      "justify_content": null,
      "justify_items": null,
      "left": null,
      "margin": null,
      "max_height": null,
      "max_width": null,
      "min_height": null,
      "min_width": null,
      "object_fit": null,
      "object_position": null,
      "order": null,
      "overflow": null,
      "overflow_x": null,
      "overflow_y": null,
      "padding": null,
      "right": null,
      "top": null,
      "visibility": null,
      "width": null
     }
    }
   }
  }
 },
 "nbformat": 4,
 "nbformat_minor": 4
}
