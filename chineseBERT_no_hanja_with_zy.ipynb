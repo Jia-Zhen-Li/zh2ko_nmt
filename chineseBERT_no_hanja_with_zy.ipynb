{
 "cells": [
  {
   "cell_type": "code",
   "execution_count": 1,
   "metadata": {
    "colab": {
     "base_uri": "https://localhost:8080/"
    },
    "executionInfo": {
     "elapsed": 19341,
     "status": "ok",
     "timestamp": 1716389912780,
     "user": {
      "displayName": "微霜",
      "userId": "09483794120409566367"
     },
     "user_tz": -480
    },
    "id": "6Ypq5zelYtZs",
    "outputId": "b1288fd4-6d6d-42ad-cdd5-d5a340a79c2b"
   },
   "outputs": [
    {
     "name": "stdout",
     "output_type": "stream",
     "text": [
      "Mounted at /content/drive\n"
     ]
    }
   ],
   "source": [
    "from google.colab import drive\n",
    "drive.mount('/content/drive')"
   ]
  },
  {
   "cell_type": "code",
   "execution_count": 1,
   "metadata": {
    "executionInfo": {
     "elapsed": 1084,
     "status": "ok",
     "timestamp": 1716389913860,
     "user": {
      "displayName": "微霜",
      "userId": "09483794120409566367"
     },
     "user_tz": -480
    },
    "id": "0aI0sh5wHeUW"
   },
   "outputs": [],
   "source": [
    "import numpy as np\n",
    "import pandas as pd"
   ]
  },
  {
   "cell_type": "code",
   "execution_count": 2,
   "metadata": {},
   "outputs": [],
   "source": [
    "dir_name='.'"
   ]
  },
  {
   "cell_type": "markdown",
   "metadata": {
    "id": "N1oxZYq3_s3M"
   },
   "source": [
    "# Load data"
   ]
  },
  {
   "cell_type": "markdown",
   "metadata": {
    "id": "YQrbZQJR--Q3"
   },
   "source": [
    "## Read sentence for each ALIGNED article csv file with train set and test set."
   ]
  },
  {
   "cell_type": "code",
   "execution_count": 2,
   "metadata": {
    "colab": {
     "base_uri": "https://localhost:8080/"
    },
    "executionInfo": {
     "elapsed": 7749,
     "status": "ok",
     "timestamp": 1716389921606,
     "user": {
      "displayName": "微霜",
      "userId": "09483794120409566367"
     },
     "user_tz": -480
    },
    "id": "HpegKYMIBj2G",
    "outputId": "ee96a071-6319-4281-f03f-9f061814b4a7"
   },
   "outputs": [
    {
     "name": "stdout",
     "output_type": "stream",
     "text": [
      "146660\n"
     ]
    }
   ],
   "source": [
    "df_train_transcript = pd.read_csv('{}/CORPUS/HANJA/HANJA_TRAIN_ALL.csv'.format(dir_name))\n",
    "df_train_transcript = df_train_transcript.to_dict(orient='dict')\n",
    "\n",
    "TRAIN_KSENT = (list(df_train_transcript['KO'].values()))\n",
    "TRAIN_KSENT.remove('\\\"')\n",
    "\n",
    "TRAIN_ZSENT = (list(df_train_transcript['ZH'].values()))\n",
    "TRAIN_ZSENT.remove('”')\n",
    "\n",
    "TRAIN_HSENT = (list(df_train_transcript['HANJA_Z'].values()))\n",
    "TRAIN_HSENT.remove('\\\"')\n",
    "\n",
    "#TRAIN_HSENT = (list(df_train_transcript['HANJA_K'].values()))\n",
    "#TRAIN_HSENT.remove('\\\"')\n",
    "\n",
    "print(len(TRAIN_KSENT))\n",
    "df_train_transcript = []"
   ]
  },
  {
   "cell_type": "code",
   "execution_count": 3,
   "metadata": {
    "colab": {
     "base_uri": "https://localhost:8080/"
    },
    "executionInfo": {
     "elapsed": 1458,
     "status": "ok",
     "timestamp": 1716389923060,
     "user": {
      "displayName": "微霜",
      "userId": "09483794120409566367"
     },
     "user_tz": -480
    },
    "id": "cdp5CTVABkI_",
    "outputId": "801e235e-8b25-44b7-c095-c500f113ea84"
   },
   "outputs": [
    {
     "name": "stdout",
     "output_type": "stream",
     "text": [
      "36089\n"
     ]
    }
   ],
   "source": [
    "df_test_transcript = pd.read_csv('{}/CORPUS/HANJA/HANJA_TEST_ALL.csv'.format(dir_name))\n",
    "df_test_transcript = df_test_transcript.to_dict(orient='dict')\n",
    "\n",
    "TEST_KSENT = (list(df_test_transcript['KO'].values()))\n",
    "TEST_ZSENT = (list(df_test_transcript['ZH'].values()))\n",
    "TEST_HSENT = (list(df_test_transcript['HANJA_Z'].values()))\n",
    "#TEST_HSENT = (list(df_test_transcript['HANJA_K'].values()))\n",
    "\n",
    "df_test_transcript = []\n",
    "print(len(TEST_KSENT))"
   ]
  },
  {
   "cell_type": "code",
   "execution_count": 4,
   "metadata": {
    "colab": {
     "base_uri": "https://localhost:8080/"
    },
    "executionInfo": {
     "elapsed": 3978,
     "status": "ok",
     "timestamp": 1716389927036,
     "user": {
      "displayName": "微霜",
      "userId": "09483794120409566367"
     },
     "user_tz": -480
    },
    "id": "TKQgkPEWJE9Q",
    "outputId": "f3910f71-0e97-410c-e08b-38bb03b4695f"
   },
   "outputs": [
    {
     "name": "stdout",
     "output_type": "stream",
     "text": [
      "146660\n"
     ]
    }
   ],
   "source": [
    "df_train_zhuyin = pd.read_csv('{}/CORPUS/ZHUYIN/ZHUYIN_TRAIN_ALL.csv'.format(dir_name))\n",
    "df_train_zhuyin = df_train_zhuyin.to_dict(orient='dict')\n",
    "\n",
    "TRAIN_ZYSENT = (list(df_train_zhuyin['zhuyin'].values()))\n",
    "TRAIN_ZYSENT.remove(np.nan)\n",
    "TRAIN_ZYSENT = [sent.replace('\\n','') for sent in TRAIN_ZYSENT]\n",
    "\n",
    "df_train_zhuyin = []\n",
    "print(len(TRAIN_ZYSENT))"
   ]
  },
  {
   "cell_type": "code",
   "execution_count": 5,
   "metadata": {
    "colab": {
     "base_uri": "https://localhost:8080/"
    },
    "executionInfo": {
     "elapsed": 1249,
     "status": "ok",
     "timestamp": 1716389928274,
     "user": {
      "displayName": "微霜",
      "userId": "09483794120409566367"
     },
     "user_tz": -480
    },
    "id": "Fbno4O52JE9Q",
    "outputId": "c5a649c2-38c2-4408-ec47-3b6daba9f642"
   },
   "outputs": [
    {
     "name": "stdout",
     "output_type": "stream",
     "text": [
      "36089\n"
     ]
    }
   ],
   "source": [
    "df_test_zhuyin = pd.read_csv('{}/CORPUS/ZHUYIN/ZHUYIN_TEST_ALL.csv'.format(dir_name))\n",
    "df_test_zhuyin = df_test_zhuyin.to_dict(orient='dict')\n",
    "\n",
    "TEST_ZYSENT = [sent.replace('\\n','') for sent in (list(df_test_zhuyin['zhuyin'].values()))]\n",
    "\n",
    "df_test_transcript = []\n",
    "print(len(TEST_ZYSENT))"
   ]
  },
  {
   "cell_type": "code",
   "execution_count": 7,
   "metadata": {
    "colab": {
     "base_uri": "https://localhost:8080/"
    },
    "executionInfo": {
     "elapsed": 10,
     "status": "ok",
     "timestamp": 1716280660981,
     "user": {
      "displayName": "Yeezi",
      "userId": "08687854767328262193"
     },
     "user_tz": -480
    },
    "id": "MDNobIQfJE9Q",
    "outputId": "8786a61c-9e08-428f-e6e7-d1a60b22ed02"
   },
   "outputs": [
    {
     "name": "stdout",
     "output_type": "stream",
     "text": [
      "ㄒㄧㄝˋㄒㄧㄝˋㄉㄚˋㄐㄧㄚ。\n",
      "ㄨㄛˇㄒㄧㄤㄒㄧㄣˋㄖㄨˊㄍㄨㄛˇㄋㄧˇㄍㄟˇㄊㄚㄇㄣ˙ㄓㄥˋㄑㄩㄝˋㄉㄜ˙ㄈㄤㄈㄚˇㄏㄜˊㄍㄨㄥㄐㄩˋ，ㄊㄚㄇㄣ˙ㄎㄜˇㄧˇㄅㄚˇㄕㄢㄉㄡㄓㄨㄢˇㄧˊㄌㄜ˙ㄒㄧㄝˋㄒㄧㄝˋ（ㄍㄨˇㄓㄤˇㄕㄥ）\n"
     ]
    }
   ],
   "source": [
    "print(TRAIN_ZYSENT[0])\n",
    "print(TEST_ZYSENT[0])"
   ]
  },
  {
   "cell_type": "markdown",
   "metadata": {},
   "source": [
    "## TED2020 Dataset"
   ]
  },
  {
   "cell_type": "code",
   "execution_count": 3,
   "metadata": {},
   "outputs": [
    {
     "name": "stdout",
     "output_type": "stream",
     "text": [
      "311376\n"
     ]
    }
   ],
   "source": [
    "df_train_transcript = pd.read_csv('{}/CORPUS/ted2020/TED2020_HANJA_TRAIN_ALL.csv'.format(dir_name))\n",
    "df_train_transcript = df_train_transcript.to_dict(orient='dict')\n",
    "\n",
    "TRAIN_KSENT = (list(df_train_transcript['KO'].values()))\n",
    "\n",
    "TRAIN_ZSENT = (list(df_train_transcript['ZH'].values()))\n",
    "\n",
    "TRAIN_HSENT = (list(df_train_transcript['HANJA_Z'].values()))\n",
    "\n",
    "print(len(TRAIN_KSENT))\n",
    "df_train_transcript = []"
   ]
  },
  {
   "cell_type": "code",
   "execution_count": 4,
   "metadata": {},
   "outputs": [
    {
     "name": "stdout",
     "output_type": "stream",
     "text": [
      "77844\n"
     ]
    }
   ],
   "source": [
    "df_test_transcript = pd.read_csv('{}/CORPUS/ted2020/TED2020_HANJA_TEST_ALL.csv'.format(dir_name))\n",
    "df_test_transcript = df_test_transcript.to_dict(orient='dict')\n",
    "\n",
    "TEST_KSENT = (list(df_test_transcript['KO'].values()))\n",
    "TEST_ZSENT = (list(df_test_transcript['ZH'].values()))\n",
    "TEST_HSENT = (list(df_test_transcript['HANJA_Z'].values()))\n",
    "#TEST_HSENT = (list(df_test_transcript['HANJA_K'].values()))\n",
    "\n",
    "df_test_transcript = []\n",
    "print(len(TEST_KSENT))"
   ]
  },
  {
   "cell_type": "code",
   "execution_count": 5,
   "metadata": {},
   "outputs": [
    {
     "name": "stdout",
     "output_type": "stream",
     "text": [
      "311376\n"
     ]
    }
   ],
   "source": [
    "df_train_zhuyin = pd.read_csv('{}/CORPUS/ted2020/TED2020_TRAIN_ALL_ZHUYIN.csv'.format(dir_name))\n",
    "df_train_zhuyin = df_train_zhuyin.to_dict(orient='dict')\n",
    "\n",
    "TRAIN_ZYSENT = (list(df_train_zhuyin['zhuyin'].values()))\n",
    "\n",
    "TRAIN_ZYSENT = [str(sent).replace('\\n','') for sent in TRAIN_ZYSENT]\n",
    "\n",
    "df_train_zhuyin = []\n",
    "print(len(TRAIN_ZYSENT))"
   ]
  },
  {
   "cell_type": "code",
   "execution_count": 6,
   "metadata": {},
   "outputs": [
    {
     "name": "stdout",
     "output_type": "stream",
     "text": [
      "77844\n"
     ]
    }
   ],
   "source": [
    "df_test_zhuyin = pd.read_csv('{}/CORPUS/ted2020/TED2020_TEST_ALL_ZHUYIN.csv'.format(dir_name))\n",
    "df_test_zhuyin = df_test_zhuyin.to_dict(orient='dict')\n",
    "\n",
    "TEST_ZYSENT = [str(sent).replace('\\n','') for sent in (list(df_test_zhuyin['zhuyin'].values()))]\n",
    "\n",
    "df_test_transcript = []\n",
    "print(len(TEST_ZYSENT))"
   ]
  },
  {
   "cell_type": "markdown",
   "metadata": {
    "id": "gbBZ0gHTc5S2"
   },
   "source": [
    "# Pretrain Model"
   ]
  },
  {
   "cell_type": "code",
   "execution_count": 7,
   "metadata": {
    "executionInfo": {
     "elapsed": 6654,
     "status": "ok",
     "timestamp": 1716389934926,
     "user": {
      "displayName": "微霜",
      "userId": "09483794120409566367"
     },
     "user_tz": -480
    },
    "id": "Ja9cukshN9og"
   },
   "outputs": [],
   "source": [
    "import torch\n",
    "from transformers import BertTokenizer, BertModel, BertConfig, BertForPreTraining, AutoModel, BertTokenizerFast\n",
    "from torch.utils.data import Dataset, DataLoader\n",
    "from transformers import BertConfig, BertForMaskedLM\n",
    "import torch.nn as nn\n",
    "import torch.optim as optim\n",
    "import numpy as np\n",
    "import matplotlib.pyplot as plt\n",
    "import time"
   ]
  },
  {
   "cell_type": "markdown",
   "metadata": {
    "id": "yraQyz90_5Wp"
   },
   "source": [
    "## Set parameters"
   ]
  },
  {
   "cell_type": "code",
   "execution_count": 12,
   "metadata": {
    "executionInfo": {
     "elapsed": 7,
     "status": "ok",
     "timestamp": 1716389934928,
     "user": {
      "displayName": "微霜",
      "userId": "09483794120409566367"
     },
     "user_tz": -480
    },
    "id": "5Y7gzOyzXXgK"
   },
   "outputs": [],
   "source": [
    "# 設定訓練參數\n",
    "device = torch.device(\"cuda\" if torch.cuda.is_available() else \"cpu\")\n",
    "max_length = 32\n",
    "batch_size = 16\n",
    "#batch_size = 32\n",
    "learning_rate = 1e-4\n",
    "num_epochs = 10"
   ]
  },
  {
   "cell_type": "code",
   "execution_count": 13,
   "metadata": {
    "colab": {
     "base_uri": "https://localhost:8080/"
    },
    "executionInfo": {
     "elapsed": 6,
     "status": "ok",
     "timestamp": 1716389934928,
     "user": {
      "displayName": "微霜",
      "userId": "09483794120409566367"
     },
     "user_tz": -480
    },
    "id": "D4tdbhn-JE9R",
    "outputId": "7536159c-7bae-40c6-8930-f33ae2e88235"
   },
   "outputs": [
    {
     "name": "stdout",
     "output_type": "stream",
     "text": [
      "cuda\n"
     ]
    }
   ],
   "source": [
    "print(device)"
   ]
  },
  {
   "cell_type": "markdown",
   "metadata": {
    "id": "UfN7Zeg0_8zF"
   },
   "source": [
    "## Load Tokenizer"
   ]
  },
  {
   "cell_type": "code",
   "execution_count": 11,
   "metadata": {
    "id": "NeI_ncwBD81i"
   },
   "outputs": [],
   "source": [
    "import transformers\n",
    "transformers.logging.set_verbosity_error() # solve the warning: 'Special tokens have been added in the vocabulary, make sure the associated word embeddings are fine-tuned or trained.'"
   ]
  },
  {
   "cell_type": "markdown",
   "metadata": {
    "id": "03Moe-doANbb"
   },
   "source": [
    "### Chinese Tokenizer"
   ]
  },
  {
   "cell_type": "code",
   "execution_count": 14,
   "metadata": {
    "colab": {
     "base_uri": "https://localhost:8080/"
    },
    "executionInfo": {
     "elapsed": 2668,
     "status": "ok",
     "timestamp": 1716389937591,
     "user": {
      "displayName": "微霜",
      "userId": "09483794120409566367"
     },
     "user_tz": -480
    },
    "id": "Y0b1DUX3aGpx",
    "outputId": "077fb0c6-bd0e-42f9-d8b8-419ba0880751"
   },
   "outputs": [],
   "source": [
    "#zh_tokenizer = BertTokenizer.from_pretrained('{}/MODELS/TOKENIZER/new_zh_tokenizer_add_bpmf_korean_tokens_v2'.format(dir_name)) # load bert-base-chinese tokenizer with bpmf、hangul tokens(from 'kykim/bert-kor-base' and konlpy)\n",
    "zh_tokenizer = BertTokenizerFast.from_pretrained('bert-base-chinese')"
   ]
  },
  {
   "cell_type": "code",
   "execution_count": 15,
   "metadata": {},
   "outputs": [
    {
     "name": "stdout",
     "output_type": "stream",
     "text": [
      "2751\n",
      "zy: 41\n",
      "zy tokens: 2089\n"
     ]
    }
   ],
   "source": [
    "# zhuyin tokens\n",
    "import re\n",
    "zhuyins = ['ㄅ','ㄆ','ㄇ','ㄈ','ㄉ','ㄊ','ㄋ','ㄌ','ㄍ','ㄎ','ㄏ','ㄐ','ㄑ','ㄒ','ㄓ','ㄔ','ㄕ','ㄖ','ㄗ','ㄘ','ㄙ','ㄧ','ㄨ','ㄩ','ㄚ','ㄛ','ㄜ','ㄝ','ㄞ','ㄟ','ㄠ','ㄡ','ㄢ','ㄣ','ㄤ','ㄥ','ㄦ','ˇ','ˋ','ˊ','˙']\n",
    "\n",
    "def check_bpmf_is_not(text):\n",
    "    test_list = ['.*[ㄅㄆㄇㄈㄉㄊㄋㄌㄍㄎㄏㄐㄑㄒㄓㄔㄕㄖㄗㄘㄙㄧㄨㄩㄚㄛㄜㄝㄞㄟㄠㄡㄢㄣㄤㄥㄦˇˋˊ˙]+.*']\n",
    "    for t in test_list:\n",
    "        valid = re.compile(t)\n",
    "        try:\n",
    "            if(valid.match(text) != None):\n",
    "                return True\n",
    "        except:\n",
    "            return False\n",
    "    return False\n",
    "\n",
    "zhuyin_df = pd.read_csv('{}/CORPUS/TOKEN/zhuyin_tokens_count.csv'.format(dir_name))\n",
    "zhuyin_df = zhuyin_df.to_dict(orient='dict')\n",
    "zhuyin_tokens = list(zhuyin_df['zhuyin'].values())\n",
    "print(len(zhuyin_tokens))\n",
    "\n",
    "for tok in zhuyin_tokens:\n",
    "  if(check_bpmf_is_not(tok)):\n",
    "    continue\n",
    "  else:\n",
    "    zhuyin_tokens.remove(tok)\n",
    "print('zy:',len(zhuyins))\n",
    "print('zy tokens:',len(zhuyin_tokens))"
   ]
  },
  {
   "cell_type": "code",
   "execution_count": 16,
   "metadata": {},
   "outputs": [
    {
     "name": "stdout",
     "output_type": "stream",
     "text": [
      "42000\n"
     ]
    }
   ],
   "source": [
    "# korean tokens\n",
    "ko_tokenizer = BertTokenizerFast.from_pretrained(\"kykim/bert-kor-base\")\n",
    "ko_tokenizer_tokens = list(ko_tokenizer.get_vocab().keys())\n",
    "print(len(ko_tokenizer_tokens))"
   ]
  },
  {
   "cell_type": "code",
   "execution_count": 17,
   "metadata": {},
   "outputs": [
    {
     "name": "stdout",
     "output_type": "stream",
     "text": [
      "Original Length:  21128\n",
      "Add zhuyins:  21146\n",
      "Add zhuyin tokens:  22839\n",
      "Add korean tokens from kykim/bert-kor-base tokenizer:  63662\n"
     ]
    }
   ],
   "source": [
    "# add new tokens\n",
    "zh_tokenizer = BertTokenizerFast.from_pretrained('bert-base-chinese')\n",
    "print('Original Length: ',len(zh_tokenizer))\n",
    "\n",
    "zh_tokenizer.add_tokens(zhuyins)\n",
    "print('Add zhuyins: ',len(zh_tokenizer))\n",
    "\n",
    "zh_tokenizer.add_tokens(zhuyin_tokens)\n",
    "print('Add zhuyin tokens: ',len(zh_tokenizer))\n",
    "\n",
    "zh_tokenizer.add_tokens(ko_tokenizer_tokens)\n",
    "print('Add korean tokens from kykim/bert-kor-base tokenizer: ',len(zh_tokenizer))"
   ]
  },
  {
   "cell_type": "code",
   "execution_count": 18,
   "metadata": {
    "colab": {
     "base_uri": "https://localhost:8080/",
     "height": 257,
     "referenced_widgets": [
      "325e55b2b47c4933bd023aa78789f013",
      "3cde161cbdae40d78ce2323935ecf440",
      "ffc09a0d5e56437296f9255530ef7f48",
      "c833622f56094f25be9ad5dfa5fb6421",
      "f0b284b5018e4ca9b4e9620adc24f758",
      "c69c35aff6b0439da2a52fb5fc7e1780",
      "68d88b3bfd46425cb026f7e0d6ebadd3",
      "6c007f78361a45079598cdb6209e71f8",
      "8a41aa0aa9304d34b76765ca6e4b22df",
      "1999cc3158b84ccfb3fc1049ded4dfb1",
      "df0c5694d9654227b910f389506d4b71",
      "2ad9443fd306496a9cc4f1f3099c9fc6",
      "e01da5376ae845a99920b58dd1478b08",
      "b6ec422425164c9480772f6d099b1331",
      "9d654e3679c244f4b41eae8c9bfa137a",
      "2e2201828e874d6088744baa1c032eb9",
      "e38430337b9d461c876ccde7cfe00618",
      "1215dbd825194793831cba54f5b2b798",
      "199a9430c191421ea631a04bc98d0cbf",
      "e899760c14d24d77b53620c9c7946119",
      "56faccb7dcd241fba27f69528524f2b1",
      "6d1af2eda9a14331b44984e989ad62a0"
     ]
    },
    "executionInfo": {
     "elapsed": 9250,
     "status": "ok",
     "timestamp": 1716389946837,
     "user": {
      "displayName": "微霜",
      "userId": "09483794120409566367"
     },
     "user_tz": -480
    },
    "id": "R3Rh8QZkJE9S",
    "outputId": "ed24001a-0af6-4bb3-f069-f25587bf6be3"
   },
   "outputs": [
    {
     "data": {
      "text/plain": [
       "Embedding(63662, 768)"
      ]
     },
     "execution_count": 18,
     "metadata": {},
     "output_type": "execute_result"
    }
   ],
   "source": [
    "zh_bert_model = AutoModel.from_pretrained('ckiplab/bert-base-chinese')\n",
    "zh_bert_model.resize_token_embeddings(len(zh_tokenizer))"
   ]
  },
  {
   "cell_type": "markdown",
   "metadata": {
    "id": "s9ipZiyPwmrK"
   },
   "source": [
    "### Korean Tokenizer"
   ]
  },
  {
   "cell_type": "code",
   "execution_count": null,
   "metadata": {
    "colab": {
     "base_uri": "https://localhost:8080/",
     "height": 113,
     "referenced_widgets": [
      "59ef0c0e4cd54cd5b320799c5b440510",
      "df44fea56c904af9ad6f449be1928a81",
      "7b0bb8a0e2284c339c8b7f94e8ccb38b",
      "da99957f3def4e1993c214c71a23cab8",
      "f83a0a435b694eeb9b09475887a500d6",
      "6193ed3bacac43218420dd3a6aa83784",
      "7e2c2534bcce4b97b1de028eece79ccb",
      "9e28b2981ef1441e800701a6944115bf",
      "926f4407af704df89765911059f6d316",
      "3ec6fe15d6ff44958521f079b815dadf",
      "83e71edf5cc04f5d80a2a03b1edaa455",
      "c5de990f8f15407ab67c5cd3cdea1372",
      "3f3d581aa0f4400aae40b982c683803b",
      "3a509e41fb3249de86acbc4c81e186f2",
      "3b8add05787b4b31b9457d58cfbecbb8",
      "7e18dab9d76e4088aae68094d84837cd",
      "916ee1b5d0534efd9330e448e5758fd0",
      "f4e51e3711a14c9b9a3313416edab4dd",
      "4cabe551ea5b4e138dba6637a2e80786",
      "83dcd01f146047b099e2de0d9a11361d",
      "9ec296a8acac491e88379978ac99e020",
      "65acee876eda46539a7a46461722605d",
      "7782b74e00494043911919ac20c4d4e9",
      "57cc7ee098904be08b69849d9577c5bc",
      "c46748309fa3415b9d96cfbde177e178",
      "2f0faa8fecf540a1b3683e4149e918a1",
      "f4314f8530f4433fac0fa5bd95100171",
      "37f4b8b4155f46c5a629d1fe9c52f8a8",
      "bbed4f3c45584f3caa12f64edac8c338",
      "7ec06a9001a5414db8b4145410942a20",
      "4393dd2d135842b5bedbe3c0c9bace91",
      "83476db4bd034e53a472a3b5314bf8a3",
      "6b6f6acd41be4f95adc01b00db0841f9"
     ]
    },
    "executionInfo": {
     "elapsed": 1041,
     "status": "ok",
     "timestamp": 1716272114185,
     "user": {
      "displayName": "Yeezi",
      "userId": "08687854767328262193"
     },
     "user_tz": -480
    },
    "id": "R7TXNOyqwqJa",
    "outputId": "89352221-a534-440d-bda1-671bb4adb49d"
   },
   "outputs": [
    {
     "data": {
      "application/vnd.jupyter.widget-view+json": {
       "model_id": "59ef0c0e4cd54cd5b320799c5b440510",
       "version_major": 2,
       "version_minor": 0
      },
      "text/plain": [
       "tokenizer_config.json:   0%|          | 0.00/80.0 [00:00<?, ?B/s]"
      ]
     },
     "metadata": {},
     "output_type": "display_data"
    },
    {
     "data": {
      "application/vnd.jupyter.widget-view+json": {
       "model_id": "c5de990f8f15407ab67c5cd3cdea1372",
       "version_major": 2,
       "version_minor": 0
      },
      "text/plain": [
       "vocab.txt:   0%|          | 0.00/344k [00:00<?, ?B/s]"
      ]
     },
     "metadata": {},
     "output_type": "display_data"
    },
    {
     "data": {
      "application/vnd.jupyter.widget-view+json": {
       "model_id": "7782b74e00494043911919ac20c4d4e9",
       "version_major": 2,
       "version_minor": 0
      },
      "text/plain": [
       "config.json:   0%|          | 0.00/725 [00:00<?, ?B/s]"
      ]
     },
     "metadata": {},
     "output_type": "display_data"
    }
   ],
   "source": [
    "ko_tokenizer = BertTokenizerFast.from_pretrained(\"kykim/bert-kor-base\")"
   ]
  },
  {
   "cell_type": "code",
   "execution_count": null,
   "metadata": {
    "id": "bNSH5CeCxvSy"
   },
   "outputs": [],
   "source": [
    "ko_bert_model = BertModel.from_pretrained(\"kykim/bert-kor-base\")"
   ]
  },
  {
   "cell_type": "markdown",
   "metadata": {
    "id": "qTK4AyyywrIr"
   },
   "source": [
    "### mbert"
   ]
  },
  {
   "cell_type": "code",
   "execution_count": null,
   "metadata": {
    "colab": {
     "base_uri": "https://localhost:8080/",
     "height": 145,
     "referenced_widgets": [
      "ecd1452d40544b9f8e824893d8965f80",
      "cd2b767543f1435299935d6dadee5034",
      "14c4da599454480886928b62d789a0d5",
      "b988ec82ad424ae3835dd35d16a568db",
      "0b8c98a0d9b7446396cfbebb7356f676",
      "bc8062ce07204a17ab32b380b3792c1f",
      "ed9e0e610cec4c84aeb24b399e6e55a4",
      "46738251f2a847faaa21f90ce1c8725f",
      "6531766795024285ab5dcb1828072349",
      "d17c9b9a5592452eb4f6944648a2e8ea",
      "56fdffe8b977489b9ec2e5ea8a40edf5",
      "1586223071164a14abc0a26dc6c39df0",
      "66de85187d564d16953e5d45a48466d5",
      "527e76b798d444fb9c088467f8fa9e4c",
      "b4da9eee63a84ad383f189e13a6d0fa9",
      "538dd1ab4c82412b83dee2d6f709f994",
      "134d4d993a884a6e8c4fc86dedb75b21",
      "b6af3a537d524dfd8c48b06001d860b5",
      "611e6c598aa3483bb2c0143f2cd498cd",
      "d8b4b59278814e38a249ff6e7a1b0885",
      "3348d44475c94cb1b98061bfcb53900e",
      "56fd94b10ecc43178e1865f37f5e20e4",
      "926df48f58ae43e0b55924dc10143d60",
      "e1c08ebdce2346a3a9be94d10fb29fb7",
      "34720f0f64834830b1c090e5b86ca5c6",
      "e45bbf5f1ed0479c91c2a5ffd920af56",
      "0563cfc3dc7a4334a53b03abea67bf34",
      "907bc2da70694082b8147f9502c5983f",
      "a4e03bf1e679463ba560517492456925",
      "f3a35087770b400fa5877ce0e6842536",
      "89cac8a78da644598575401b3bd024d9",
      "569fcbc6a1c44d52b64226dbe4d5451e",
      "ad0ea6494ceb48a8ac8a39bca70999d8",
      "e974ba8f861c48aeb8548cab312d758c",
      "0938947be70f49b4a2668b30e45b1aae",
      "2cd96637c2054f7e8489493d5281508c",
      "f802bbfadf5145f3b291cad7a617c4d4",
      "d795e4d7c862477485a2fb3587a801bb",
      "82a629771ba64d33bd22296eea4422c9",
      "f8101c683be54ab8896726653a59bf9f",
      "5db7d093c33b4e2a8082774769259371",
      "bb325f7be9334219a976b70c49578c28",
      "52362e3759cb4b3f808c602671700337",
      "96ea27ef4a594badb71ef41b3d53bec6"
     ]
    },
    "executionInfo": {
     "elapsed": 3065,
     "status": "ok",
     "timestamp": 1716272122631,
     "user": {
      "displayName": "Yeezi",
      "userId": "08687854767328262193"
     },
     "user_tz": -480
    },
    "id": "aacISo-6wteU",
    "outputId": "500742d7-35a6-4ff3-a1d3-e0b1f89026f0"
   },
   "outputs": [
    {
     "data": {
      "application/vnd.jupyter.widget-view+json": {
       "model_id": "ecd1452d40544b9f8e824893d8965f80",
       "version_major": 2,
       "version_minor": 0
      },
      "text/plain": [
       "tokenizer_config.json:   0%|          | 0.00/49.0 [00:00<?, ?B/s]"
      ]
     },
     "metadata": {},
     "output_type": "display_data"
    },
    {
     "data": {
      "application/vnd.jupyter.widget-view+json": {
       "model_id": "1586223071164a14abc0a26dc6c39df0",
       "version_major": 2,
       "version_minor": 0
      },
      "text/plain": [
       "vocab.txt:   0%|          | 0.00/996k [00:00<?, ?B/s]"
      ]
     },
     "metadata": {},
     "output_type": "display_data"
    },
    {
     "data": {
      "application/vnd.jupyter.widget-view+json": {
       "model_id": "926df48f58ae43e0b55924dc10143d60",
       "version_major": 2,
       "version_minor": 0
      },
      "text/plain": [
       "tokenizer.json:   0%|          | 0.00/1.96M [00:00<?, ?B/s]"
      ]
     },
     "metadata": {},
     "output_type": "display_data"
    },
    {
     "data": {
      "application/vnd.jupyter.widget-view+json": {
       "model_id": "e974ba8f861c48aeb8548cab312d758c",
       "version_major": 2,
       "version_minor": 0
      },
      "text/plain": [
       "config.json:   0%|          | 0.00/625 [00:00<?, ?B/s]"
      ]
     },
     "metadata": {},
     "output_type": "display_data"
    }
   ],
   "source": [
    "mbert_tokenizer = BertTokenizer.from_pretrained('bert-base-multilingual-cased')"
   ]
  },
  {
   "cell_type": "code",
   "execution_count": null,
   "metadata": {
    "colab": {
     "base_uri": "https://localhost:8080/",
     "height": 49,
     "referenced_widgets": [
      "4696479d8ba840738d9a0bbec847c17b",
      "ed194bf6757a450f96d791fd7e0ecbd0",
      "3bb347ee412446e19040d3499a68a31c",
      "4fc089ca629e46179c17939fa94782bf",
      "1cba16906e3147ecadbc6706de0c39d6",
      "1de1d369d5294e5a85c9916b298fe2f1",
      "700c4a3194f241eaa4ae36b9fa476914",
      "3f5d8280b13f4a86a3604fd8a697a381",
      "dd0d07a703ed49a98f58ec914582192c",
      "32d07b4c240d44f5b7b9894bca42540f",
      "eea8c8d16bc04a93af2aabf6b526728b"
     ]
    },
    "executionInfo": {
     "elapsed": 7147,
     "status": "ok",
     "timestamp": 1716272129777,
     "user": {
      "displayName": "Yeezi",
      "userId": "08687854767328262193"
     },
     "user_tz": -480
    },
    "id": "2wrUUp8jxaBZ",
    "outputId": "f18b446b-170b-4bef-e66c-db9d99a2298c"
   },
   "outputs": [
    {
     "data": {
      "application/vnd.jupyter.widget-view+json": {
       "model_id": "4696479d8ba840738d9a0bbec847c17b",
       "version_major": 2,
       "version_minor": 0
      },
      "text/plain": [
       "model.safetensors:   0%|          | 0.00/714M [00:00<?, ?B/s]"
      ]
     },
     "metadata": {},
     "output_type": "display_data"
    }
   ],
   "source": [
    "mbert_model = BertModel.from_pretrained('bert-base-multilingual-cased').to(device)\n"
   ]
  },
  {
   "cell_type": "markdown",
   "metadata": {
    "id": "yHItFW4RwxZW"
   },
   "source": [
    "### chinese bert with phonetic"
   ]
  },
  {
   "cell_type": "code",
   "execution_count": null,
   "metadata": {
    "id": "Kla9x-iJw2p6"
   },
   "outputs": [],
   "source": []
  },
  {
   "cell_type": "code",
   "execution_count": 21,
   "metadata": {
    "executionInfo": {
     "elapsed": 8,
     "status": "ok",
     "timestamp": 1716389946838,
     "user": {
      "displayName": "微霜",
      "userId": "09483794120409566367"
     },
     "user_tz": -480
    },
    "id": "SvX7R9FNJE9S"
   },
   "outputs": [],
   "source": [
    "my_model = zh_bert_model\n",
    "my_model.to(device)\n",
    "\n",
    "my_tokenizer = zh_tokenizer\n",
    "tgt_tokenizer = zh_tokenizer\n",
    "model_name = 'TED_ZK10_zh_no_hanja_with_zy'"
   ]
  },
  {
   "cell_type": "markdown",
   "metadata": {
    "id": "UjK5_xB2CB73"
   },
   "source": [
    "### Get Embeddings"
   ]
  },
  {
   "cell_type": "code",
   "execution_count": null,
   "metadata": {
    "colab": {
     "base_uri": "https://localhost:8080/"
    },
    "executionInfo": {
     "elapsed": 2232,
     "status": "ok",
     "timestamp": 1716272302673,
     "user": {
      "displayName": "Yeezi",
      "userId": "08687854767328262193"
     },
     "user_tz": -480
    },
    "id": "o_FjuY2mCE0m",
    "outputId": "0d76ff9e-012a-4b80-b968-c11dfcd7563b"
   },
   "outputs": [
    {
     "name": "stdout",
     "output_type": "stream",
     "text": [
      "그러다 結局에는 그냥 屈伏下故 末乃 버리綿 적어도 多飮에는 아무 日 없을 거라고 生角하는 持經까지 이르렀습니다. 패배자可 된 느낌이었죠.\n",
      "tensor([[[-1.2058e-01, -1.4019e-01, -7.5852e-01,  ...,  5.7960e-01,\n",
      "           1.4735e-01,  5.7352e-02],\n",
      "         [-6.1292e-01, -7.4539e-01, -8.3502e-02,  ...,  9.6286e-01,\n",
      "           3.0688e-01,  2.5471e-02],\n",
      "         [-4.5489e-01, -6.0978e-01, -3.0158e-01,  ...,  1.0734e+00,\n",
      "           2.0139e-01,  4.8326e-02],\n",
      "         ...,\n",
      "         [ 2.7903e-03, -8.0216e-02, -1.0318e+00,  ...,  5.6032e-01,\n",
      "          -8.0176e-04,  3.7377e-01],\n",
      "         [-1.9213e-01, -3.8575e-01, -6.5699e-01,  ...,  7.4177e-01,\n",
      "          -1.2330e-01,  3.6022e-01],\n",
      "         [-3.7075e-01, -2.1907e-01, -5.3335e-01,  ...,  7.2308e-01,\n",
      "           2.5642e-01,  7.5225e-02]]])\n"
     ]
    }
   ],
   "source": [
    "# 输入文本\n",
    "text = TEST_HSENT[923]\n",
    "print(text)\n",
    "# 使用 mBERT 分词器对文本进行编码\n",
    "inputs = mbert_tokenizer(text, return_tensors='pt', padding=True, truncation=True).to(device)\n",
    "\n",
    "# 将输入传递给 mBERT 模型以获取输出\n",
    "with torch.no_grad():\n",
    "    outputs = mbert_model(**inputs)\n",
    "\n",
    "# 提取嵌入\n",
    "embeddings = outputs.last_hidden_state\n",
    "\n",
    "print(embeddings)"
   ]
  },
  {
   "cell_type": "code",
   "execution_count": 22,
   "metadata": {
    "colab": {
     "base_uri": "https://localhost:8080/"
    },
    "executionInfo": {
     "elapsed": 489,
     "status": "ok",
     "timestamp": 1716272552247,
     "user": {
      "displayName": "Yeezi",
      "userId": "08687854767328262193"
     },
     "user_tz": -480
    },
    "id": "oSfAm4BHzDEw",
    "outputId": "8a264096-db37-4a94-cab9-5f4f3b345aa1"
   },
   "outputs": [
    {
     "name": "stdout",
     "output_type": "stream",
     "text": [
      "1994년도義 南 아프리카 共和國義 民主酒蟻路疑 變幻殷 牛李에게 말그대로, 꿈의 實現 이었습니다. \n",
      "tensor([[[ 0.4660, -0.0606, -0.5926,  ..., -0.1138,  0.3049,  0.1375],\n",
      "         [ 0.1826,  0.0365, -0.4388,  ...,  0.2330,  1.2750, -0.3760],\n",
      "         [ 0.1941, -0.4593, -0.8900,  ...,  0.8699,  0.6561, -0.0322],\n",
      "         ...,\n",
      "         [ 0.9102, -0.5670, -1.1294,  ...,  0.4786,  0.7526, -0.0664],\n",
      "         [ 0.5446, -0.3383, -0.4223,  ...,  0.1287,  0.4730, -0.0287],\n",
      "         [ 0.4660, -0.0606, -0.5926,  ..., -0.1137,  0.3049,  0.1375]]],\n",
      "       device='cuda:0')\n"
     ]
    }
   ],
   "source": [
    "# 输入文本\n",
    "text = TEST_HSENT[923]\n",
    "print(text)\n",
    "# 使用 mBERT 分词器对文本进行编码\n",
    "inputs = zh_tokenizer(text, return_tensors='pt', padding=True, truncation=True).to(device)\n",
    "\n",
    "# 将输入传递给 mBERT 模型以获取输出\n",
    "with torch.no_grad():\n",
    "    outputs = my_model(**inputs)\n",
    "\n",
    "# 提取嵌入\n",
    "embeddings = outputs.last_hidden_state\n",
    "\n",
    "print(embeddings)"
   ]
  },
  {
   "cell_type": "code",
   "execution_count": null,
   "metadata": {
    "colab": {
     "base_uri": "https://localhost:8080/"
    },
    "executionInfo": {
     "elapsed": 301,
     "status": "ok",
     "timestamp": 1716272850935,
     "user": {
      "displayName": "Yeezi",
      "userId": "08687854767328262193"
     },
     "user_tz": -480
    },
    "id": "fJvv-q7J0aDG",
    "outputId": "99ed66c9-f5ab-4e73-e15f-f85c3791b3e8"
   },
   "outputs": [
    {
     "name": "stdout",
     "output_type": "stream",
     "text": [
      "到最後我覺得，乾脆屈服熬過去，至少到下次再發生前我能得到點平靜。\n",
      "ㄉㄠˋㄗㄨㄟˋㄏㄡˋㄨㄛˇㄐㄩㄝˊㄉㄜ˙，ㄍㄢㄘㄨㄟˋㄑㄩㄈㄨˊㄠˊㄍㄨㄛˋㄑㄩˋ，ㄓˋㄕㄠˇㄉㄠˋㄒㄧㄚˋㄘˋㄗㄞˋㄈㄚㄕㄥㄑㄧㄢˊㄨㄛˇㄋㄥˊㄉㄜ˙ㄉㄠˋㄉㄧㄢˇㄆㄧㄥˊㄐㄧㄥˋ。\n",
      "tensor([[  101,   100, 10064,   100, 10064,   100,  1882,   102]])\n",
      "， ， 。\n",
      "tensor([[[ 0.1761,  0.2477,  0.2021,  ...,  0.0559,  0.0265,  0.0520],\n",
      "         [-0.2596,  0.5538,  0.7481,  ...,  0.4942, -0.0487, -0.1889],\n",
      "         [ 0.2373,  0.3286,  0.1775,  ...,  0.1499,  0.3106,  0.0685],\n",
      "         ...,\n",
      "         [-0.2755,  0.5195,  0.7319,  ...,  0.3360,  0.0062, -0.1785],\n",
      "         [ 0.2210,  0.2828,  0.6919,  ...,  0.0976, -0.0144, -0.0212],\n",
      "         [ 0.2256,  0.3239,  0.7765,  ...,  0.0071, -0.1020,  0.0957]]])\n"
     ]
    }
   ],
   "source": [
    "# 输入文本\n",
    "print(TEST_ZSENT[923])\n",
    "text = TEST_ZYSENT[923]\n",
    "print(text)\n",
    "# 使用 mBERT 分词器对文本进行编码\n",
    "inputs = mbert_tokenizer(text, return_tensors='pt', padding=True, truncation=True).to(device)\n",
    "print(inputs['input_ids'])\n",
    "print(mbert_tokenizer.decode(inputs['input_ids'][0], skip_special_tokens=True))\n",
    "# 将输入传递给 mBERT 模型以获取输出\n",
    "with torch.no_grad():\n",
    "    outputs = mbert_model(**inputs)\n",
    "\n",
    "# 提取嵌入\n",
    "embeddings = outputs.last_hidden_state\n",
    "\n",
    "print(embeddings)"
   ]
  },
  {
   "cell_type": "code",
   "execution_count": null,
   "metadata": {
    "colab": {
     "base_uri": "https://localhost:8080/"
    },
    "executionInfo": {
     "elapsed": 869,
     "status": "ok",
     "timestamp": 1716272859636,
     "user": {
      "displayName": "Yeezi",
      "userId": "08687854767328262193"
     },
     "user_tz": -480
    },
    "id": "eaAMxEeQ0cxY",
    "outputId": "3dd73a76-2319-41b4-bb12-f80f0e983eac"
   },
   "outputs": [
    {
     "name": "stdout",
     "output_type": "stream",
     "text": [
      "到最後我覺得，乾脆屈服熬過去，至少到下次再發生前我能得到點平靜。\n",
      "ㄉㄠˋㄗㄨㄟˋㄏㄡˋㄨㄛˇㄐㄩㄝˊㄉㄜ˙，ㄍㄢㄘㄨㄟˋㄑㄩㄈㄨˊㄠˊㄍㄨㄛˋㄑㄩˋ，ㄓˋㄕㄠˇㄉㄠˋㄒㄧㄚˋㄘˋㄗㄞˋㄈㄚㄕㄥㄑㄧㄢˊㄨㄛˇㄋㄥˊㄉㄜ˙ㄉㄠˋㄉㄧㄢˇㄆㄧㄥˊㄐㄧㄥˋ。\n",
      "tensor([[  101, 21212, 21314, 21222, 21160, 21298, 21178,  8024, 21847, 21669,\n",
      "         21683, 21566, 22097, 21245, 21282,  8024, 21248, 21326, 21212, 21250,\n",
      "         21176, 21159, 21463, 21158, 21164, 21160, 21293, 21178, 21212, 21330,\n",
      "         21347, 21360,   511,   102]])\n",
      "ㄉㄠˋ ㄗㄨㄟˋ ㄏㄡˋ ㄨㄛˇ ㄐㄩㄝˊ ㄉㄜ˙ ， ㄍㄢ ㄘㄨㄟˋ ㄑㄩ ㄈㄨˊ ㄠˊ ㄍㄨㄛˋ ㄑㄩˋ ， ㄓˋ ㄕㄠˇ ㄉㄠˋ ㄒㄧㄚˋ ㄘˋ ㄗㄞˋ ㄈㄚ ㄕㄥ ㄑㄧㄢˊ ㄨㄛˇ ㄋㄥˊ ㄉㄜ˙ ㄉㄠˋ ㄉㄧㄢˇ ㄆㄧㄥˊ ㄐㄧㄥˋ 。\n",
      "tensor([[[ 0.6617,  0.2457, -0.6361,  ...,  0.2902,  0.2320,  0.1926],\n",
      "         [ 0.3693,  0.5146, -0.7370,  ...,  0.6889,  0.4915, -0.1615],\n",
      "         [ 0.4452,  0.5069, -0.7422,  ...,  1.1378,  0.6939, -0.3189],\n",
      "         ...,\n",
      "         [ 0.4446,  0.6380, -0.8634,  ...,  1.3567,  0.5245, -0.6709],\n",
      "         [ 0.2261,  0.4231,  0.6838,  ...,  0.9226, -0.1988,  0.3022],\n",
      "         [ 0.6617,  0.2457, -0.6361,  ...,  0.2902,  0.2320,  0.1926]]])\n"
     ]
    }
   ],
   "source": [
    "# 输入文本\n",
    "print(TEST_ZSENT[923])\n",
    "text = TEST_ZYSENT[923]\n",
    "print(text)\n",
    "# 使用 mBERT 分词器对文本进行编码\n",
    "inputs = zh_tokenizer(text, return_tensors='pt', padding=True, truncation=True).to(device)\n",
    "print(inputs['input_ids'])\n",
    "print(zh_tokenizer.decode(inputs['input_ids'][0], skip_special_tokens=True))\n",
    "\n",
    "# 将输入传递给 mBERT 模型以获取输出\n",
    "with torch.no_grad():\n",
    "    outputs = zh_bert_model(**inputs)\n",
    "\n",
    "# 提取嵌入\n",
    "embeddings = outputs.last_hidden_state\n",
    "\n",
    "print(embeddings)"
   ]
  },
  {
   "cell_type": "markdown",
   "metadata": {
    "id": "Zb2zO0JdJE9T"
   },
   "source": [
    "### Build Dataset Function"
   ]
  },
  {
   "cell_type": "code",
   "execution_count": 23,
   "metadata": {
    "executionInfo": {
     "elapsed": 283,
     "status": "ok",
     "timestamp": 1716389958964,
     "user": {
      "displayName": "微霜",
      "userId": "09483794120409566367"
     },
     "user_tz": -480
    },
    "id": "MbMhr_ytXkPR"
   },
   "outputs": [],
   "source": [
    "# 假設您有一個平行語料庫，這是您的資料集\n",
    "class TranslationDataset(Dataset):\n",
    "    def __init__(self, source_sentences, target_sentences, bpmf_sentences):\n",
    "        self.source_sentences = source_sentences\n",
    "        self.target_sentences = target_sentences\n",
    "        self.bpmf_sentences = bpmf_sentences\n",
    "        #self.hanja_sentences = hanja_sentences\n",
    "        self.length = len(source_sentences)\n",
    "\n",
    "    def __len__(self):\n",
    "        return self.length\n",
    "\n",
    "    def __getitem__(self, index):\n",
    "        source = self.source_sentences[index]\n",
    "        target = self.target_sentences[index]\n",
    "        bpmf = self.bpmf_sentences[index]\n",
    "        #hanja = self.hanja_sentences[index]    \n",
    "        \n",
    "        source_token = my_tokenizer(source, padding='max_length', truncation=True, return_tensors='pt', max_length=max_length)\n",
    "        target_token = tgt_tokenizer(target, padding='max_length', truncation=True, return_tensors='pt', max_length=max_length)        \n",
    "        #hanja_token = my_tokenizer(hanja, padding='max_length', truncation=True, return_tensors='pt', max_length=max_length)\n",
    "        bpmf_token = my_tokenizer(bpmf, padding='max_length', truncation=True, return_tensors='pt', max_length=max_length)\n",
    "\n",
    "\n",
    "\n",
    "\n",
    "        return source, target, bpmf, source_token, target_token, bpmf_token\n"
   ]
  },
  {
   "cell_type": "markdown",
   "metadata": {
    "id": "Sm6_jekZJE9T"
   },
   "source": [
    "### Build Model"
   ]
  },
  {
   "cell_type": "code",
   "execution_count": 24,
   "metadata": {
    "executionInfo": {
     "elapsed": 327,
     "status": "ok",
     "timestamp": 1716389962193,
     "user": {
      "displayName": "微霜",
      "userId": "09483794120409566367"
     },
     "user_tz": -480
    },
    "id": "Gl5SJr3J3F4W"
   },
   "outputs": [],
   "source": [
    "import torch\n",
    "import torch.nn as nn\n",
    "import torch.nn.functional as F"
   ]
  },
  {
   "cell_type": "code",
   "execution_count": null,
   "metadata": {
    "id": "jxpMacUHXnNj"
   },
   "outputs": [],
   "source": [
    "'''# 建立模型\n",
    "class TranslationModel(nn.Module):\n",
    "    global my_tokenizer\n",
    "    def __init__(self, bert_model):\n",
    "        super(TranslationModel, self).__init__()\n",
    "        self.bert1 = bert_model\n",
    "        #self.bert2 = bert_model\n",
    "        self.bert3 = bert_model\n",
    "        self.linear = nn.Linear(self.bert1.config.hidden_size, my_tokenizer.vocab_size)\n",
    "\n",
    "    def forward(self, input_ids, hanja_ids, attention_mask, hanja_attention_mask):#, bpmf_ids, bpmf_attention_mask):\n",
    "        zh_outputs = self.bert1(input_ids=input_ids, attention_mask=attention_mask)\n",
    "        #bpmf_outputs = self.bert2(input_ids=bpmf_ids, attention_mask=bpmf_attention_mask)\n",
    "        hanja_outputs = self.bert3(input_ids=hanja_ids, attention_mask=hanja_attention_mask)\n",
    "        prediction_scores = self.linear(0.5*zh_outputs.last_hidden_state+ 0.5*hanja_outputs.last_hidden_state)# +  0.5*bpmf_outputs.last_hidden_state\n",
    "        return prediction_scores\n",
    "'''"
   ]
  },
  {
   "cell_type": "code",
   "execution_count": 25,
   "metadata": {
    "executionInfo": {
     "elapsed": 317,
     "status": "ok",
     "timestamp": 1716390013603,
     "user": {
      "displayName": "微霜",
      "userId": "09483794120409566367"
     },
     "user_tz": -480
    },
    "id": "zMHdA6GxJE9T"
   },
   "outputs": [],
   "source": [
    "\n",
    "\n",
    "class TranslationModel(nn.Module):\n",
    "    def __init__(self, bert_model, dropout_prob=0.1):\n",
    "        super(TranslationModel, self).__init__()\n",
    "        self.bert1 = bert_model\n",
    "        self.bert2 = bert_model\n",
    "        self.dropout1 = nn.Dropout(dropout_prob)\n",
    "        self.dropout2 = nn.Dropout(dropout_prob)\n",
    "        self.linear = nn.Linear(self.bert1.config.hidden_size, len(tgt_tokenizer))\n",
    "\n",
    "    def forward(self, input_ids, attention_mask, bpmf_ids, bpmf_attention_mask):\n",
    "        zh_outputs = self.bert1(input_ids=input_ids, attention_mask=attention_mask)\n",
    "        bpmf_outputs = self.bert2(input_ids=bpmf_ids, attention_mask=bpmf_attention_mask)\n",
    "\n",
    "        # Apply dropout\n",
    "        zh_outputs = self.dropout1(zh_outputs.last_hidden_state)\n",
    "        bpmf_outputs = self.dropout2(bpmf_outputs.last_hidden_state)\n",
    "\n",
    "        # Combine representations\n",
    "        combined_outputs = 0.5 * zh_outputs + 0.5 * bpmf_outputs\n",
    "\n",
    "        prediction_scores = self.linear(combined_outputs)\n",
    "        return prediction_scores\n"
   ]
  },
  {
   "cell_type": "markdown",
   "metadata": {
    "id": "GGVsQ3zAJE9U"
   },
   "source": [
    "### Data Loader"
   ]
  },
  {
   "cell_type": "code",
   "execution_count": 26,
   "metadata": {
    "executionInfo": {
     "elapsed": 675,
     "status": "ok",
     "timestamp": 1716390020188,
     "user": {
      "displayName": "微霜",
      "userId": "09483794120409566367"
     },
     "user_tz": -480
    },
    "id": "3H9KG4_lXpgg"
   },
   "outputs": [],
   "source": [
    "# 載入資料集\n",
    "train_source_sentences = TRAIN_ZSENT  # 中文句子\n",
    "train_target_sentences = TRAIN_KSENT  # 韓文句子\n",
    "dataset = TranslationDataset(train_source_sentences, train_target_sentences, TRAIN_ZYSENT)\n",
    "dataloader = DataLoader(dataset, batch_size=batch_size, shuffle=True)\n"
   ]
  },
  {
   "cell_type": "code",
   "execution_count": 27,
   "metadata": {
    "executionInfo": {
     "elapsed": 2,
     "status": "ok",
     "timestamp": 1716390020188,
     "user": {
      "displayName": "微霜",
      "userId": "09483794120409566367"
     },
     "user_tz": -480
    },
    "id": "3YKuaojTXr37"
   },
   "outputs": [],
   "source": [
    "test_source_sentences = TEST_ZSENT  # 中文句子\n",
    "test_target_sentences = TEST_KSENT  # 韓文句子\n",
    "test_dataset = TranslationDataset(test_source_sentences, test_target_sentences, TEST_ZYSENT)\n",
    "test_dataloader = DataLoader(test_dataset, batch_size=batch_size, shuffle=True)"
   ]
  },
  {
   "cell_type": "code",
   "execution_count": 28,
   "metadata": {
    "executionInfo": {
     "elapsed": 740,
     "status": "ok",
     "timestamp": 1716390023410,
     "user": {
      "displayName": "微霜",
      "userId": "09483794120409566367"
     },
     "user_tz": -480
    },
    "id": "jtGKPrM2N_u-"
   },
   "outputs": [
    {
     "name": "stdout",
     "output_type": "stream",
     "text": [
      "1 m 24.407085180282593 s\n"
     ]
    }
   ],
   "source": [
    "start = time.time()\n",
    "for batch in dataloader:\n",
    "  try:\n",
    "        source, target, bpmf, source_token, target_token, bpmf_token = batch\n",
    "  except:\n",
    "        print(batch)\n",
    "        break\n",
    "end = time.time()\n",
    "print(int((end-start)/60),'m',(end-start)%60,'s')\n",
    "      "
   ]
  },
  {
   "cell_type": "code",
   "execution_count": 29,
   "metadata": {
    "executionInfo": {
     "elapsed": 1015,
     "status": "ok",
     "timestamp": 1716390024423,
     "user": {
      "displayName": "微霜",
      "userId": "09483794120409566367"
     },
     "user_tz": -480
    },
    "id": "uzfwsZmhR18j"
   },
   "outputs": [],
   "source": [
    "for batch in test_dataloader:\n",
    "  try:\n",
    "        source, target, bpmf, source_token, target_token, bpmf_token = batch\n",
    "  except:\n",
    "        print(batch)\n",
    "        break"
   ]
  },
  {
   "cell_type": "markdown",
   "metadata": {
    "id": "ELC5MJCTJE9U"
   },
   "source": [
    "### Model"
   ]
  },
  {
   "cell_type": "code",
   "execution_count": 30,
   "metadata": {
    "executionInfo": {
     "elapsed": 1542,
     "status": "ok",
     "timestamp": 1716390030456,
     "user": {
      "displayName": "微霜",
      "userId": "09483794120409566367"
     },
     "user_tz": -480
    },
    "id": "m1SBesmJXuch"
   },
   "outputs": [],
   "source": [
    "# 初始化模型、損失函數和優化器\n",
    "model = TranslationModel(my_model).to(device)\n",
    "criterion = nn.CrossEntropyLoss()\n",
    "optimizer = optim.Adam(model.parameters(), lr=learning_rate)"
   ]
  },
  {
   "cell_type": "code",
   "execution_count": 21,
   "metadata": {
    "colab": {
     "base_uri": "https://localhost:8080/",
     "height": 321
    },
    "executionInfo": {
     "elapsed": 295,
     "status": "error",
     "timestamp": 1716390032515,
     "user": {
      "displayName": "微霜",
      "userId": "09483794120409566367"
     },
     "user_tz": -480
    },
    "id": "elaXMMHpVltP",
    "outputId": "85619f1d-a338-4abd-dd03-e17f156d8e16"
   },
   "outputs": [
    {
     "ename": "FileNotFoundError",
     "evalue": "[Errno 2] No such file or directory: '/content/drive/MyDrive/ZH-KO-TRANSLATOR/MODELS/best_translation_model(ZK10_zh_no_hanja_with_zy).pth'",
     "output_type": "error",
     "traceback": [
      "\u001b[0;31m---------------------------------------------------------------------------\u001b[0m",
      "\u001b[0;31mFileNotFoundError\u001b[0m                         Traceback (most recent call last)",
      "\u001b[0;32m<ipython-input-21-1bc34faea862>\u001b[0m in \u001b[0;36m<cell line: 3>\u001b[0;34m()\u001b[0m\n\u001b[1;32m      1\u001b[0m \u001b[0;31m# 加載訓練好的模型\u001b[0m\u001b[0;34m\u001b[0m\u001b[0;34m\u001b[0m\u001b[0m\n\u001b[1;32m      2\u001b[0m \u001b[0;31m#model = TranslationModel(model_mbert).to(device)\u001b[0m\u001b[0;34m\u001b[0m\u001b[0;34m\u001b[0m\u001b[0m\n\u001b[0;32m----> 3\u001b[0;31m \u001b[0mmodel\u001b[0m\u001b[0;34m.\u001b[0m\u001b[0mload_state_dict\u001b[0m\u001b[0;34m(\u001b[0m\u001b[0mtorch\u001b[0m\u001b[0;34m.\u001b[0m\u001b[0mload\u001b[0m\u001b[0;34m(\u001b[0m\u001b[0;34m'/content/drive/MyDrive/ZH-KO-TRANSLATOR/MODELS/best_translation_model({}).pth'\u001b[0m\u001b[0;34m.\u001b[0m\u001b[0mformat\u001b[0m\u001b[0;34m(\u001b[0m\u001b[0mmodel_name\u001b[0m\u001b[0;34m)\u001b[0m\u001b[0;34m)\u001b[0m\u001b[0;34m)\u001b[0m\u001b[0;34m\u001b[0m\u001b[0;34m\u001b[0m\u001b[0m\n\u001b[0m",
      "\u001b[0;32m/usr/local/lib/python3.10/dist-packages/torch/serialization.py\u001b[0m in \u001b[0;36mload\u001b[0;34m(f, map_location, pickle_module, weights_only, mmap, **pickle_load_args)\u001b[0m\n\u001b[1;32m    995\u001b[0m         \u001b[0mpickle_load_args\u001b[0m\u001b[0;34m[\u001b[0m\u001b[0;34m'encoding'\u001b[0m\u001b[0;34m]\u001b[0m \u001b[0;34m=\u001b[0m \u001b[0;34m'utf-8'\u001b[0m\u001b[0;34m\u001b[0m\u001b[0;34m\u001b[0m\u001b[0m\n\u001b[1;32m    996\u001b[0m \u001b[0;34m\u001b[0m\u001b[0m\n\u001b[0;32m--> 997\u001b[0;31m     \u001b[0;32mwith\u001b[0m \u001b[0m_open_file_like\u001b[0m\u001b[0;34m(\u001b[0m\u001b[0mf\u001b[0m\u001b[0;34m,\u001b[0m \u001b[0;34m'rb'\u001b[0m\u001b[0;34m)\u001b[0m \u001b[0;32mas\u001b[0m \u001b[0mopened_file\u001b[0m\u001b[0;34m:\u001b[0m\u001b[0;34m\u001b[0m\u001b[0;34m\u001b[0m\u001b[0m\n\u001b[0m\u001b[1;32m    998\u001b[0m         \u001b[0;32mif\u001b[0m \u001b[0m_is_zipfile\u001b[0m\u001b[0;34m(\u001b[0m\u001b[0mopened_file\u001b[0m\u001b[0;34m)\u001b[0m\u001b[0;34m:\u001b[0m\u001b[0;34m\u001b[0m\u001b[0;34m\u001b[0m\u001b[0m\n\u001b[1;32m    999\u001b[0m             \u001b[0;31m# The zipfile reader is going to advance the current file position.\u001b[0m\u001b[0;34m\u001b[0m\u001b[0;34m\u001b[0m\u001b[0m\n",
      "\u001b[0;32m/usr/local/lib/python3.10/dist-packages/torch/serialization.py\u001b[0m in \u001b[0;36m_open_file_like\u001b[0;34m(name_or_buffer, mode)\u001b[0m\n\u001b[1;32m    442\u001b[0m \u001b[0;32mdef\u001b[0m \u001b[0m_open_file_like\u001b[0m\u001b[0;34m(\u001b[0m\u001b[0mname_or_buffer\u001b[0m\u001b[0;34m,\u001b[0m \u001b[0mmode\u001b[0m\u001b[0;34m)\u001b[0m\u001b[0;34m:\u001b[0m\u001b[0;34m\u001b[0m\u001b[0;34m\u001b[0m\u001b[0m\n\u001b[1;32m    443\u001b[0m     \u001b[0;32mif\u001b[0m \u001b[0m_is_path\u001b[0m\u001b[0;34m(\u001b[0m\u001b[0mname_or_buffer\u001b[0m\u001b[0;34m)\u001b[0m\u001b[0;34m:\u001b[0m\u001b[0;34m\u001b[0m\u001b[0;34m\u001b[0m\u001b[0m\n\u001b[0;32m--> 444\u001b[0;31m         \u001b[0;32mreturn\u001b[0m \u001b[0m_open_file\u001b[0m\u001b[0;34m(\u001b[0m\u001b[0mname_or_buffer\u001b[0m\u001b[0;34m,\u001b[0m \u001b[0mmode\u001b[0m\u001b[0;34m)\u001b[0m\u001b[0;34m\u001b[0m\u001b[0;34m\u001b[0m\u001b[0m\n\u001b[0m\u001b[1;32m    445\u001b[0m     \u001b[0;32melse\u001b[0m\u001b[0;34m:\u001b[0m\u001b[0;34m\u001b[0m\u001b[0;34m\u001b[0m\u001b[0m\n\u001b[1;32m    446\u001b[0m         \u001b[0;32mif\u001b[0m \u001b[0;34m'w'\u001b[0m \u001b[0;32min\u001b[0m \u001b[0mmode\u001b[0m\u001b[0;34m:\u001b[0m\u001b[0;34m\u001b[0m\u001b[0;34m\u001b[0m\u001b[0m\n",
      "\u001b[0;32m/usr/local/lib/python3.10/dist-packages/torch/serialization.py\u001b[0m in \u001b[0;36m__init__\u001b[0;34m(self, name, mode)\u001b[0m\n\u001b[1;32m    423\u001b[0m \u001b[0;32mclass\u001b[0m \u001b[0m_open_file\u001b[0m\u001b[0;34m(\u001b[0m\u001b[0m_opener\u001b[0m\u001b[0;34m)\u001b[0m\u001b[0;34m:\u001b[0m\u001b[0;34m\u001b[0m\u001b[0;34m\u001b[0m\u001b[0m\n\u001b[1;32m    424\u001b[0m     \u001b[0;32mdef\u001b[0m \u001b[0m__init__\u001b[0m\u001b[0;34m(\u001b[0m\u001b[0mself\u001b[0m\u001b[0;34m,\u001b[0m \u001b[0mname\u001b[0m\u001b[0;34m,\u001b[0m \u001b[0mmode\u001b[0m\u001b[0;34m)\u001b[0m\u001b[0;34m:\u001b[0m\u001b[0;34m\u001b[0m\u001b[0;34m\u001b[0m\u001b[0m\n\u001b[0;32m--> 425\u001b[0;31m         \u001b[0msuper\u001b[0m\u001b[0;34m(\u001b[0m\u001b[0;34m)\u001b[0m\u001b[0;34m.\u001b[0m\u001b[0m__init__\u001b[0m\u001b[0;34m(\u001b[0m\u001b[0mopen\u001b[0m\u001b[0;34m(\u001b[0m\u001b[0mname\u001b[0m\u001b[0;34m,\u001b[0m \u001b[0mmode\u001b[0m\u001b[0;34m)\u001b[0m\u001b[0;34m)\u001b[0m\u001b[0;34m\u001b[0m\u001b[0;34m\u001b[0m\u001b[0m\n\u001b[0m\u001b[1;32m    426\u001b[0m \u001b[0;34m\u001b[0m\u001b[0m\n\u001b[1;32m    427\u001b[0m     \u001b[0;32mdef\u001b[0m \u001b[0m__exit__\u001b[0m\u001b[0;34m(\u001b[0m\u001b[0mself\u001b[0m\u001b[0;34m,\u001b[0m \u001b[0;34m*\u001b[0m\u001b[0margs\u001b[0m\u001b[0;34m)\u001b[0m\u001b[0;34m:\u001b[0m\u001b[0;34m\u001b[0m\u001b[0;34m\u001b[0m\u001b[0m\n",
      "\u001b[0;31mFileNotFoundError\u001b[0m: [Errno 2] No such file or directory: '/content/drive/MyDrive/ZH-KO-TRANSLATOR/MODELS/best_translation_model(ZK10_zh_no_hanja_with_zy).pth'"
     ]
    }
   ],
   "source": [
    "# 加載訓練好的模型\n",
    "#model = TranslationModel(model_mbert).to(device)\n",
    "model.load_state_dict(torch.load('{}/MODELS/best_translation_model({}).pth'.format(dir_name,model_name)))"
   ]
  },
  {
   "cell_type": "markdown",
   "metadata": {
    "id": "sOyyXyBJJE9U"
   },
   "source": [
    "### Train and Evaluate"
   ]
  },
  {
   "cell_type": "code",
   "execution_count": 31,
   "metadata": {
    "executionInfo": {
     "elapsed": 482,
     "status": "ok",
     "timestamp": 1716390036769,
     "user": {
      "displayName": "微霜",
      "userId": "09483794120409566367"
     },
     "user_tz": -480
    },
    "id": "ocuLcuL6Wz1f"
   },
   "outputs": [],
   "source": [
    "def epoch_time(start_time, end_time):\n",
    "  elapsed_time = end_time - start_time\n",
    "  elapsed_mins = int(elapsed_time/60)\n",
    "  elapsed_secs = int(elapsed_time%60)\n",
    "  return elapsed_mins, elapsed_secs"
   ]
  },
  {
   "cell_type": "code",
   "execution_count": 23,
   "metadata": {
    "colab": {
     "base_uri": "https://localhost:8080/"
    },
    "executionInfo": {
     "elapsed": 5484,
     "status": "ok",
     "timestamp": 1716390042250,
     "user": {
      "displayName": "微霜",
      "userId": "09483794120409566367"
     },
     "user_tz": -480
    },
    "id": "1ol6KlEOdYkY",
    "outputId": "fa98c837-9a05-471c-fed4-5545dda64401"
   },
   "outputs": [
    {
     "name": "stdout",
     "output_type": "stream",
     "text": [
      "Requirement already satisfied: tqdm in /usr/local/lib/python3.10/dist-packages (4.66.4)\n"
     ]
    }
   ],
   "source": [
    "!pip install tqdm"
   ]
  },
  {
   "cell_type": "code",
   "execution_count": 32,
   "metadata": {
    "executionInfo": {
     "elapsed": 19,
     "status": "ok",
     "timestamp": 1716390042250,
     "user": {
      "displayName": "微霜",
      "userId": "09483794120409566367"
     },
     "user_tz": -480
    },
    "id": "rYYDgn6coBWc"
   },
   "outputs": [],
   "source": [
    "from tqdm import tqdm"
   ]
  },
  {
   "cell_type": "code",
   "execution_count": 33,
   "metadata": {
    "executionInfo": {
     "elapsed": 16,
     "status": "ok",
     "timestamp": 1716390042251,
     "user": {
      "displayName": "微霜",
      "userId": "09483794120409566367"
     },
     "user_tz": -480
    },
    "id": "Qe1AC6QZXGku"
   },
   "outputs": [],
   "source": [
    "def train(path):\n",
    "    global model, dataloader, optimizer, criterion, my_tokenizer, tgt_tokenizer\n",
    "    model.train()\n",
    "    total_loss = 0\n",
    "    with tqdm(total = len(dataloader)) as pbar:\n",
    "      for batch in dataloader:\n",
    "        source, target, bpmf, source_tokens, target_tokens, bpmf_tokens = batch\n",
    "          \n",
    "        source_tokens_ids = source_tokens.input_ids.permute(1,0,2)[0].to(device)\n",
    "        source_tokens_attns = source_tokens.attention_mask.permute(1,0,2)[0].to(device)\n",
    "        bpmf_tokens_ids = bpmf_tokens.input_ids.permute(1,0,2)[0].to(device)\n",
    "        bpmf_tokens_attns = bpmf_tokens.attention_mask.permute(1,0,2)[0].to(device)\n",
    "        target_tokens_ids = target_tokens.input_ids.permute(1,0,2)[0].to(device)\n",
    "        \n",
    "        optimizer.zero_grad()\n",
    "        output = model(input_ids=source_tokens_ids,\n",
    "                       bpmf_ids=bpmf_tokens_ids,\n",
    "                       attention_mask=source_tokens_attns ,\n",
    "                       bpmf_attention_mask=bpmf_tokens_attns)\n",
    "\n",
    "\n",
    "        loss = criterion(output.transpose(1, 2), target_tokens_ids)\n",
    "        loss.backward()\n",
    "        optimizer.step()\n",
    "\n",
    "        total_loss += loss.item()\n",
    "        pbar.update(1)\n",
    "    torch.save(model.state_dict(), path)\n",
    "\n",
    "    return total_loss/len(dataloader)"
   ]
  },
  {
   "cell_type": "code",
   "execution_count": 34,
   "metadata": {
    "executionInfo": {
     "elapsed": 15,
     "status": "ok",
     "timestamp": 1716390042251,
     "user": {
      "displayName": "微霜",
      "userId": "09483794120409566367"
     },
     "user_tz": -480
    },
    "id": "-YtHhdmNXJFo"
   },
   "outputs": [],
   "source": [
    "def evaluate():\n",
    "  global model, test_dataloader, criterion, my_tokenizer, tgt_tokenizer\n",
    "  model.eval()\n",
    "  total_loss = 0\n",
    "  with torch.no_grad():\n",
    "    with tqdm(total = len(test_dataloader)) as pbar:\n",
    "      for batch in test_dataloader:\n",
    "        source, target, bpmf, source_tokens, target_tokens, bpmf_tokens = batch\n",
    "        source_tokens_ids = source_tokens.input_ids.permute(1,0,2)[0].to(device)\n",
    "        source_tokens_attns = source_tokens.attention_mask.permute(1,0,2)[0].to(device)\n",
    "        bpmf_tokens_ids = bpmf_tokens.input_ids.permute(1,0,2)[0].to(device)\n",
    "        bpmf_tokens_attns = bpmf_tokens.attention_mask.permute(1,0,2)[0].to(device)\n",
    "        target_tokens_ids = target_tokens.input_ids.permute(1,0,2)[0].to(device)\n",
    "          \n",
    "        output = model(input_ids=source_tokens_ids,\n",
    "                       bpmf_ids=bpmf_tokens_ids,\n",
    "                       attention_mask=source_tokens_attns ,\n",
    "                       bpmf_attention_mask=bpmf_tokens_attns)\n",
    "          \n",
    "        loss = criterion(output.transpose(1, 2), target_tokens_ids)\n",
    "\n",
    "        total_loss += loss.item()\n",
    "\n",
    "        pbar.update(1)\n",
    "\n",
    "  return total_loss/len(test_dataloader)"
   ]
  },
  {
   "cell_type": "code",
   "execution_count": 35,
   "metadata": {
    "executionInfo": {
     "elapsed": 14,
     "status": "ok",
     "timestamp": 1716390042251,
     "user": {
      "displayName": "微霜",
      "userId": "09483794120409566367"
     },
     "user_tz": -480
    },
    "id": "sq9krtvnXM8c"
   },
   "outputs": [],
   "source": [
    "def loss_history(train_loss_values, test_loss_values, path='', to_show=False):\n",
    "  before_train_loss = []\n",
    "  before_test_loss = []\n",
    "  try:\n",
    "    df_loss = pd.read_csv('{}/MODELS/LOSS_HISTORY/loss_plot_{}.csv'.format(dir_name,path))\n",
    "    df_loss.to_dict(orient='dict')\n",
    "\n",
    "    try:\n",
    "      before_train_loss = list(df_loss['TRAIN_LOSS'].values())\n",
    "      before_test_loss = list(df_loss['TEST_LOSS'].values())\n",
    "    except:\n",
    "      before_train_loss = list(df_loss['TRAIN_LOSS'])\n",
    "      before_test_loss = list(df_loss['TEST_LOSS'])\n",
    "\n",
    "\n",
    "  except:\n",
    "    before_train_loss = []\n",
    "    before_test_loss = []\n",
    "\n",
    "  if(len(before_train_loss)>0):\n",
    "    train_loss_values = before_train_loss + train_loss_values\n",
    "    test_loss_values = before_test_loss + test_loss_values\n",
    "\n",
    "  # 假設您有每個 epoch 的索引\n",
    "  epochs = range(1, len(train_loss_values) + 1)\n",
    "  plt.clf()\n",
    "\n",
    "  # 繪製訓練損失和測試損失的折線圖\n",
    "  plt.plot(epochs, train_loss_values, 'b', label='Training loss')\n",
    "  plt.plot(epochs, test_loss_values, 'r', label='Test loss')\n",
    "  plt.title('Training and Test Loss')\n",
    "  plt.xlabel('Epochs')\n",
    "  plt.ylabel('Loss')\n",
    "  plt.legend()\n",
    "\n",
    "  # 儲存折線圖\n",
    "  plt.savefig('{}/MODELS/LOSS_HISTORY/loss_plot_{}.png'.format(dir_name,path))\n",
    "  if to_show:\n",
    "    plt.show()\n",
    "\n",
    "  df_loss = pd.DataFrame({'TRAIN_LOSS':train_loss_values,'TEST_LOSS':test_loss_values})\n",
    "  df_loss.to_csv('{}/MODELS/LOSS_HISTORY/loss_plot_{}.csv'.format(dir_name,path),index=False)"
   ]
  },
  {
   "cell_type": "code",
   "execution_count": 36,
   "metadata": {
    "executionInfo": {
     "elapsed": 11,
     "status": "ok",
     "timestamp": 1716390042251,
     "user": {
      "displayName": "微霜",
      "userId": "09483794120409566367"
     },
     "user_tz": -480
    },
    "id": "bB31rAi_z0AT"
   },
   "outputs": [],
   "source": [
    "def bleu_history(bleu_score_values, path='', to_show=False):\n",
    "  before_bleu_score = []\n",
    "  try:\n",
    "    df_loss = pd.read_csv('{}/MODELS/LOSS_HISTORY/blue_plot_{}.csv'.format(dir_name,path))\n",
    "    df_loss.to_dict(orient='dict')\n",
    "\n",
    "    try:\n",
    "      before_bleu_score = list(df_loss['BLEU_SCORE'].values())\n",
    "    except:\n",
    "      before_bleu_score = list(df_loss['BLEU_SCORE'])\n",
    "\n",
    "\n",
    "  except:\n",
    "    before_bleu_score = []\n",
    "\n",
    "  if(len(before_bleu_score)>0):\n",
    "    bleu_score_values = before_bleu_score + bleu_score_values\n",
    "\n",
    "  # 假設您有每個 epoch 的索引\n",
    "  epochs = range(1, len(bleu_score_values) + 1)\n",
    "  plt.clf()\n",
    "\n",
    "  # 繪製訓練損失和測試損失的折線圖\n",
    "  plt.plot(epochs, bleu_score_values, 'b', label='BLEU score')\n",
    "  plt.title('BLEU SCORE')\n",
    "  plt.xlabel('Epochs')\n",
    "  plt.ylabel('Score')\n",
    "  plt.legend()\n",
    "\n",
    "  # 儲存折線圖\n",
    "  plt.savefig('{}/MODELS/LOSS_HISTORY/blue_plot_{}.png'.format(dir_name,path))\n",
    "  if to_show:\n",
    "    plt.show()\n",
    "\n",
    "  df_loss = pd.DataFrame({'BLEU_SCORE':bleu_score_values})\n",
    "  df_loss.to_csv('{}/MODELS/LOSS_HISTORY/blue_plot_{}.csv'.format(dir_name,path),index=False)"
   ]
  },
  {
   "cell_type": "code",
   "execution_count": 37,
   "metadata": {
    "executionInfo": {
     "elapsed": 1901,
     "status": "ok",
     "timestamp": 1716390044142,
     "user": {
      "displayName": "微霜",
      "userId": "09483794120409566367"
     },
     "user_tz": -480
    },
    "id": "GBwPiLJg75AY"
   },
   "outputs": [],
   "source": [
    "from nltk.translate.bleu_score import corpus_bleu\n",
    "from nltk.translate.bleu_score import SmoothingFunction\n",
    "\n",
    "def bleu_score():\n",
    "  global my_tokenizer, test_target_sentences, model, max_length, device\n",
    "  model.eval()\n",
    "  # 生成目標語句\n",
    "  generated_sentences = []\n",
    "  with tqdm(total = len(test_source_sentences)) as pbar:\n",
    "    for source_sentence in test_source_sentences:\n",
    "      source_tokens = my_tokenizer(source_sentence, padding=True, truncation=True, return_tensors='pt', max_length=max_length).to(device)\n",
    "      with torch.no_grad():\n",
    "        output = model(input_ids=source_tokens.input_ids, attention_mask=source_tokens.attention_mask)\n",
    "      generated_sentence = my_tokenizer.decode(output[0].argmax(dim=-1), skip_special_tokens=True)\n",
    "      generated_sentences.append(generated_sentence)\n",
    "      pbar.update(1)\n",
    "\n",
    "\n",
    "  # 計算 BLEU 分數\n",
    "  smoothie = SmoothingFunction().method4\n",
    "  bleu_score = corpus_bleu([[ref] for ref in test_target_sentences], generated_sentences, smoothing_function=smoothie)\n",
    "\n",
    "  #print(\"BLEU 分數:\", bleu_score)\n",
    "  return bleu_score"
   ]
  },
  {
   "cell_type": "code",
   "execution_count": 38,
   "metadata": {
    "colab": {
     "base_uri": "https://localhost:8080/"
    },
    "executionInfo": {
     "elapsed": 9909,
     "status": "ok",
     "timestamp": 1716390054049,
     "user": {
      "displayName": "微霜",
      "userId": "09483794120409566367"
     },
     "user_tz": -480
    },
    "id": "fcwPgTFdKB-e",
    "outputId": "30ea6022-44ff-44bd-e30a-e77e46b1c8c3"
   },
   "outputs": [
    {
     "name": "stderr",
     "output_type": "stream",
     "text": [
      "huggingface/tokenizers: The current process just got forked, after parallelism has already been used. Disabling parallelism to avoid deadlocks...\n",
      "To disable this warning, you can either:\n",
      "\t- Avoid using `tokenizers` before the fork if possible\n",
      "\t- Explicitly set the environment variable TOKENIZERS_PARALLELISM=(true | false)\n"
     ]
    },
    {
     "name": "stdout",
     "output_type": "stream",
     "text": [
      "Defaulting to user installation because normal site-packages is not writeable\n",
      "Requirement already satisfied: sacrebleu in /home/jiazhen/.local/lib/python3.8/site-packages (2.4.2)\n",
      "Requirement already satisfied: portalocker in /home/jiazhen/.local/lib/python3.8/site-packages (from sacrebleu) (2.8.2)\n",
      "Requirement already satisfied: regex in /home/jiazhen/.local/lib/python3.8/site-packages (from sacrebleu) (2023.12.25)\n",
      "Requirement already satisfied: tabulate>=0.8.9 in /home/jiazhen/.local/lib/python3.8/site-packages (from sacrebleu) (0.9.0)\n",
      "Requirement already satisfied: numpy>=1.17 in /home/jiazhen/.local/lib/python3.8/site-packages (from sacrebleu) (1.24.4)\n",
      "Requirement already satisfied: colorama in /usr/lib/python3/dist-packages (from sacrebleu) (0.4.4)\n",
      "Requirement already satisfied: lxml in /home/jiazhen/.local/lib/python3.8/site-packages (from sacrebleu) (5.2.1)\n",
      "\u001b[33mDEPRECATION: distro-info 1.1build1 has a non-standard version number. pip 24.1 will enforce this behaviour change. A possible replacement is to upgrade to a newer version of distro-info or contact the author to suggest that they release a version with a conforming version number. Discussion can be found at https://github.com/pypa/pip/issues/12063\u001b[0m\u001b[33m\n",
      "\u001b[0m\u001b[33mDEPRECATION: python-debian 0.1.43ubuntu1 has a non-standard version number. pip 24.1 will enforce this behaviour change. A possible replacement is to upgrade to a newer version of python-debian or contact the author to suggest that they release a version with a conforming version number. Discussion can be found at https://github.com/pypa/pip/issues/12063\u001b[0m\u001b[33m\n",
      "\u001b[0m"
     ]
    }
   ],
   "source": [
    "!pip install sacrebleu"
   ]
  },
  {
   "cell_type": "code",
   "execution_count": 51,
   "metadata": {
    "executionInfo": {
     "elapsed": 6,
     "status": "ok",
     "timestamp": 1716390054049,
     "user": {
      "displayName": "微霜",
      "userId": "09483794120409566367"
     },
     "user_tz": -480
    },
    "id": "d6UfjjgfJE9a"
   },
   "outputs": [],
   "source": [
    "from sacrebleu.metrics import BLEU\n",
    "\n",
    "def sacrebleu_score(model, source_sentences=TEST_ZSENT,target_sentences=TEST_KSENT,bpmf_sentences=TEST_ZYSENT,lang='ko'):\n",
    "  global my_tokenizer, tgt_tokenizer, max_length, device\n",
    "  model.eval()\n",
    "  bleu = BLEU()\n",
    "  bleu.trg_lang = lang\n",
    "  avg_score = {'avg':0,'1-gram':0,'2-gram':0,'3-gram':0,'4-gram':0}\n",
    "\n",
    "  # 生成目標語句\n",
    "  generated_sentences = []\n",
    "  with tqdm(total = len(source_sentences)) as pbar:\n",
    "    for i in range(len(source_sentences)):\n",
    "        source_sentence = source_sentences[i]\n",
    "        target_sentence = target_sentences[i]\n",
    "        bpmf_sentence = bpmf_sentences[i]\n",
    "\n",
    "        source_tokens = my_tokenizer(source_sentence, padding='max_length', truncation=True, return_tensors='pt', max_length=max_length).to(device)\n",
    "        target_tokens = tgt_tokenizer(target_sentence, padding='max_length', truncation=True, return_tensors='pt', max_length=max_length).to(device)\n",
    "        bpmf_tokens = my_tokenizer(bpmf_sentence, padding='max_length', truncation=True, return_tensors='pt', max_length=max_length).to(device)\n",
    "        #print('source_tokens',source_tokens.input_ids)\n",
    "        \n",
    "        with torch.no_grad():\n",
    "            output = model(input_ids=source_tokens.input_ids,\n",
    "                           attention_mask=source_tokens.attention_mask,\n",
    "                           bpmf_ids=bpmf_tokens.input_ids,\n",
    "                           bpmf_attention_mask=bpmf_tokens.attention_mask)\n",
    "        generated_sentence = tgt_tokenizer.decode(output[0].argmax(dim=-1), skip_special_tokens=True)\n",
    "        gen_sent = ''\n",
    "        for sent in generated_sentence:\n",
    "            gen_sent += sent\n",
    "        generated_sentences.append(gen_sent)\n",
    "        if(i > len(source_sentences)-5):\n",
    "        #if(1):\n",
    "            print('i=',i,'='*20)\n",
    "            print('target_sentence',target_sentence)\n",
    "            print('generate:',generated_sentence)\n",
    "            print('output',output)\n",
    "            print('='*20)\n",
    "            \n",
    "        pbar.update(1)\n",
    "        '''\n",
    "        bleu_score = bleu.corpus_score([gen_sent],[[target_sentence]])\n",
    "        #print([gen_sent],[[target_sentence]])\n",
    "        #print(bleu_score)\n",
    "        avg_score['avg'] += bleu_score.score\n",
    "        avg_score['1-gram'] += bleu_score.precisions[0]\n",
    "        avg_score['2-gram'] += bleu_score.precisions[1]\n",
    "        avg_score['3-gram'] += bleu_score.precisions[2]\n",
    "        avg_score['4-gram'] += bleu_score.precisions[3]\n",
    "  avg_score['avg'] /= len(source_sentences)\n",
    "  avg_score['1-gram'] /= len(source_sentences)\n",
    "  avg_score['2-gram'] /= len(source_sentences)\n",
    "  avg_score['3-gram'] /= len(source_sentences)\n",
    "  avg_score['4-gram'] /= len(source_sentences)\n",
    "  '''\n",
    "  target_sentences = [[ref] for ref in target_sentences]\n",
    "  bleu_score = bleu.corpus_score(generated_sentences,target_sentences)\n",
    "  avg_score['avg'] = bleu_score.score\n",
    "  avg_score['1-gram'] = bleu_score.precisions[0]\n",
    "  avg_score['2-gram'] = bleu_score.precisions[1]\n",
    "  avg_score['3-gram'] = bleu_score.precisions[2]\n",
    "  avg_score['4-gram'] = bleu_score.precisions[3]\n",
    "\n",
    "  #print('gen:',generated_sentences,'tar:',[[sent] for sent in target_sentences],'sor',source_sentences)\n",
    "  #print('BLEU Score:',bleu.score)\n",
    "\n",
    "  return avg_score"
   ]
  },
  {
   "cell_type": "code",
   "execution_count": 44,
   "metadata": {
    "executionInfo": {
     "elapsed": 5,
     "status": "ok",
     "timestamp": 1716390054050,
     "user": {
      "displayName": "微霜",
      "userId": "09483794120409566367"
     },
     "user_tz": -480
    },
    "id": "gEPWbiT4v9ru"
   },
   "outputs": [],
   "source": [
    "def sacrebleu_history(bleu_score_values, path=model_name, to_show=False):\n",
    "  before_avg_score = {}\n",
    "  bleu_score_values = bleu_score_values[0]\n",
    "  tag = ['avg','1-gram','2-gram','3-gram','4-gram']\n",
    "  for key in tag:\n",
    "    bleu_score_values[key] = [bleu_score_values[key]]\n",
    "\n",
    "  try:\n",
    "    df_loss = pd.read_csv('{}/MODELS/LOSS_HISTORY/sacreblue_plot_{}.csv'.format(dir_name,path))\n",
    "    df_loss.to_dict(orient='dict')\n",
    "    try:\n",
    "        for key in tag:\n",
    "            before_avg_score[key] = list(df_loss[key].values())\n",
    "    except:\n",
    "        for key in tag:\n",
    "            before_avg_score[key] = list(df_loss[key])\n",
    "\n",
    "\n",
    "  except:\n",
    "        for key in tag:\n",
    "            before_avg_score[key] = []\n",
    "\n",
    "  if(len(before_avg_score[tag[0]])>0):\n",
    "        for key in tag:\n",
    "            bleu_score_values[key] = before_avg_score[key] + bleu_score_values[key]\n",
    "  print(bleu_score_values)\n",
    "  # 假設您有每個 epoch 的索引\n",
    "  try:\n",
    "      epochs = range(1, len(bleu_score_values[tag[0]]) + 1)\n",
    "  except:\n",
    "      epochs = range(1,2)\n",
    "  plt.clf()\n",
    "\n",
    "  # 繪製訓練損失和測試損失的折線圖\n",
    "  for key in tag:\n",
    "        try:\n",
    "            plt.plot(epochs, bleu_score_values[key], label=key)\n",
    "        except:\n",
    "            plt.plot(epochs, list(bleu_score_values[key]), label=key)\n",
    "  plt.title('BLEU SCORE')\n",
    "  plt.xlabel('Epochs')\n",
    "  plt.ylabel('Score')\n",
    "  plt.legend()\n",
    "\n",
    "  # 儲存折線圖\n",
    "  plt.savefig('{}/MODELS/LOSS_HISTORY/sacreblue_plot_{}.png'.format(dir_name,path))\n",
    "  if to_show:\n",
    "    plt.show()\n",
    "\n",
    "  df_loss = pd.DataFrame(bleu_score_values)\n",
    "  df_loss.to_csv('{}/MODELS/LOSS_HISTORY/sacreblue_plot_{}.csv'.format(dir_name,path),index=False)\n",
    "  df_loss.head()"
   ]
  },
  {
   "cell_type": "code",
   "execution_count": 45,
   "metadata": {},
   "outputs": [],
   "source": [
    "import random\n",
    "def get_samples(src_list,tgt_list,keys=['zh','ko'],num=2000):\n",
    "    samples = {}\n",
    "    for k in keys:\n",
    "        samples[k] = []\n",
    "    randomlist = random.sample(range(0, len(src_list)), num)\n",
    "    #print(randomlist[50:55])\n",
    "    for i in randomlist:\n",
    "        samples['zh'].append(src_list[i])\n",
    "        samples['ko'].append(tgt_list[i])\n",
    "    return samples"
   ]
  },
  {
   "cell_type": "code",
   "execution_count": 52,
   "metadata": {},
   "outputs": [
    {
     "name": "stderr",
     "output_type": "stream",
     "text": [
      "100%|███████████████████████████████████████████████████████████████████████████████████████████████████████████████████████████████████████████████████████████████████████| 10/10 [00:00<00:00, 89.47it/s]"
     ]
    },
    {
     "name": "stdout",
     "output_type": "stream",
     "text": [
      "i= 6 ====================\n",
      "target_sentence 마지막으로 제임스 슐레진저의 말을 들어보죠. \"심리학자들은 그 동안 인도적으로 행동해온 개인과 집단이 어떻게 특정한 환경 속에서 비 인도적으로 행동하는 이유를 이해하려 노력했다.\" \n",
      "generate: 감사합니다 감사합니다 감사합니다 감사합니다 감사합니다 감사합니다 감사합니다 감사합니다 감사합니다 감사합니다 감사합니다 감사합니다 감사합니다 감사합니다 감사합니다 감사합니다 감사합니다 감사합니다 감사합니다 감사합니다 감사합니다 감사합니다 감사합니다 감사합니다 감사합니다 감사합니다 감사합니다 감사합니다 감사합니다 감사합니다 감사합니다 감사합니다\n",
      "output tensor([[[ 4.1961, -8.7930, -8.7948,  ..., -2.9254, -8.7652, -8.7418],\n",
      "         [ 4.1961, -8.7930, -8.7948,  ..., -2.9254, -8.7652, -8.7418],\n",
      "         [ 4.1961, -8.7930, -8.7948,  ..., -2.9254, -8.7652, -8.7418],\n",
      "         ...,\n",
      "         [ 4.1961, -8.7930, -8.7948,  ..., -2.9254, -8.7652, -8.7418],\n",
      "         [ 4.1961, -8.7930, -8.7948,  ..., -2.9254, -8.7652, -8.7418],\n",
      "         [ 4.1961, -8.7930, -8.7948,  ..., -2.9254, -8.7652, -8.7418]]],\n",
      "       device='cuda:0')\n",
      "====================\n",
      "i= 7 ====================\n",
      "target_sentence 싱가포르의 사례는 영속성의 중요성만 가르쳐주는 것이 아니라, 자치권과 재량권의 중요성을 가르쳐줍니다. \n",
      "generate: 감사합니다 감사합니다 감사합니다 감사합니다 감사합니다 감사합니다 감사합니다 감사합니다 감사합니다 감사합니다 감사합니다 감사합니다 감사합니다 감사합니다 감사합니다 감사합니다 감사합니다 감사합니다 감사합니다 감사합니다 감사합니다 감사합니다 감사합니다 감사합니다 감사합니다 감사합니다 감사합니다 감사합니다 감사합니다 감사합니다 감사합니다 감사합니다\n",
      "output tensor([[[ 4.1961, -8.7930, -8.7948,  ..., -2.9254, -8.7652, -8.7418],\n",
      "         [ 4.1961, -8.7930, -8.7948,  ..., -2.9254, -8.7652, -8.7418],\n",
      "         [ 4.1961, -8.7930, -8.7948,  ..., -2.9254, -8.7652, -8.7418],\n",
      "         ...,\n",
      "         [ 4.1961, -8.7930, -8.7948,  ..., -2.9254, -8.7652, -8.7418],\n",
      "         [ 4.1961, -8.7930, -8.7948,  ..., -2.9254, -8.7652, -8.7418],\n",
      "         [ 4.1961, -8.7930, -8.7948,  ..., -2.9254, -8.7652, -8.7418]]],\n",
      "       device='cuda:0')\n",
      "====================\n",
      "i= 8 ====================\n",
      "target_sentence 맞죠? 고대인들은 미래에 대한 그들만의 생각이 있었다. \n",
      "generate: 감사합니다 감사합니다 감사합니다 감사합니다 감사합니다 감사합니다 감사합니다 감사합니다 감사합니다 감사합니다 감사합니다 감사합니다 감사합니다 감사합니다 감사합니다 감사합니다 감사합니다 감사합니다 감사합니다 감사합니다 감사합니다 감사합니다 감사합니다 감사합니다 감사합니다 감사합니다 감사합니다 감사합니다 감사합니다 감사합니다 감사합니다 감사합니다\n",
      "output tensor([[[ 4.1961, -8.7930, -8.7948,  ..., -2.9254, -8.7652, -8.7418],\n",
      "         [ 4.1961, -8.7930, -8.7948,  ..., -2.9254, -8.7652, -8.7418],\n",
      "         [ 4.1961, -8.7930, -8.7948,  ..., -2.9254, -8.7652, -8.7418],\n",
      "         ...,\n",
      "         [ 4.1961, -8.7930, -8.7948,  ..., -2.9254, -8.7652, -8.7418],\n",
      "         [ 4.1961, -8.7930, -8.7948,  ..., -2.9254, -8.7652, -8.7418],\n",
      "         [ 4.1961, -8.7930, -8.7948,  ..., -2.9254, -8.7652, -8.7418]]],\n",
      "       device='cuda:0')\n",
      "====================\n",
      "i= 9 ====================\n",
      "target_sentence ARV는 HIV에 대항하는 다양한 약품들의 통칭입니다. \n",
      "generate: 감사합니다 감사합니다 감사합니다 감사합니다 감사합니다 감사합니다 감사합니다 감사합니다 감사합니다 감사합니다 감사합니다 감사합니다 감사합니다 감사합니다 감사합니다 감사합니다 감사합니다 감사합니다 감사합니다 감사합니다 감사합니다 감사합니다 감사합니다 감사합니다 감사합니다 감사합니다 감사합니다 감사합니다 감사합니다 감사합니다 감사합니다 감사합니다\n",
      "output tensor([[[ 4.1961, -8.7930, -8.7948,  ..., -2.9254, -8.7652, -8.7418],\n",
      "         [ 4.1961, -8.7930, -8.7948,  ..., -2.9254, -8.7652, -8.7418],\n",
      "         [ 4.1961, -8.7930, -8.7948,  ..., -2.9254, -8.7652, -8.7418],\n",
      "         ...,\n",
      "         [ 4.1961, -8.7930, -8.7948,  ..., -2.9254, -8.7652, -8.7418],\n",
      "         [ 4.1961, -8.7930, -8.7948,  ..., -2.9254, -8.7652, -8.7418],\n",
      "         [ 4.1961, -8.7930, -8.7948,  ..., -2.9254, -8.7652, -8.7418]]],\n",
      "       device='cuda:0')\n",
      "====================\n",
      "Eval Time: 0m 0s\n",
      "\tBLEU Score:\n",
      "\t\tavg: 0.000\n",
      "\t\t1-gram: 0.000\n",
      "\t\t2-gram: 0.000\n",
      "\t\t3-gram: 0.000\n",
      "\t\t4-gram: 0.000\n"
     ]
    },
    {
     "name": "stderr",
     "output_type": "stream",
     "text": [
      "\n"
     ]
    }
   ],
   "source": [
    "start_time = time.time()\n",
    "\n",
    "samples = get_samples(TEST_ZSENT,TEST_KSENT,num=10)\n",
    "test_score = sacrebleu_score(model, source_sentences=samples['zh'],target_sentences=samples['ko'])\n",
    "#test_score = sacrebleu_score(model, source_sentences=TEST_ZSENT,target_sentences=TEST_KSENT)\n",
    "end_time = time.time()\n",
    "epoch_mins, epoch_secs = epoch_time(start_time, end_time)\n",
    "print(f'Eval Time: {epoch_mins}m {epoch_secs}s')\n",
    "    \n",
    "print('\\tBLEU Score:')\n",
    "for k in test_score.keys():\n",
    "    print('\\t\\t{}: {:.3f}'.format(k,test_score[k]))"
   ]
  },
  {
   "cell_type": "code",
   "execution_count": null,
   "metadata": {
    "colab": {
     "base_uri": "https://localhost:8080/"
    },
    "executionInfo": {
     "elapsed": 6156,
     "status": "ok",
     "timestamp": 1716280529343,
     "user": {
      "displayName": "Yeezi",
      "userId": "08687854767328262193"
     },
     "user_tz": -480
    },
    "id": "YlalwXt-JE9a",
    "outputId": "b678a64e-9818-4627-ab27-5bda2b4b387e"
   },
   "outputs": [
    {
     "name": "stdout",
     "output_type": "stream",
     "text": [
      "Collecting rouge\n",
      "  Downloading rouge-1.0.1-py3-none-any.whl (13 kB)\n",
      "Requirement already satisfied: six in /usr/local/lib/python3.10/dist-packages (from rouge) (1.16.0)\n",
      "Installing collected packages: rouge\n",
      "Successfully installed rouge-1.0.1\n"
     ]
    }
   ],
   "source": [
    "!pip install rouge"
   ]
  },
  {
   "cell_type": "code",
   "execution_count": null,
   "metadata": {
    "id": "TNhmOInxzxmc"
   },
   "outputs": [],
   "source": [
    "from rouge import Rouge\n",
    "\n",
    "def rouge_score():\n",
    "  global my_tokenizer, test_target_sentences, model, max_length, device\n",
    "  total_score = 0\n",
    "  model.eval()\n",
    "  # 生成目標語句\n",
    "  generated_sentences = []\n",
    "  rouge = Rouge()\n",
    "  with tqdm(total = len(test_source_sentences)) as pbar:\n",
    "    for i in range(len(test_source_sentences)):\n",
    "      source_tokens = my_tokenizer(test_source_sentences[i], padding=True, truncation=True, return_tensors='pt', max_length=max_length).to(device)\n",
    "      with torch.no_grad():\n",
    "        output = model(input_ids=source_tokens.input_ids, attention_mask=source_tokens.attention_mask)\n",
    "      generated_sentence = my_tokenizer.decode(output[0].argmax(dim=-1), skip_special_tokens=True)\n",
    "      try:\n",
    "        scores = rouge.get_scores(generated_sentences, test_target_sentences[i])\n",
    "      except:\n",
    "        scores = 0\n",
    "      print(generated_sentences)\n",
    "      print(test_target_sentences[i])\n",
    "      #print(generated_sentence)\n",
    "      #for metric, score in scores.items():\n",
    "      #  print(f\"{metric}: {score}\")\n",
    "      total_score += scores\n",
    "      pbar.update(1)\n",
    "\n",
    "  avg_score = float(total_score)/len(test_source_sentences)\n",
    "  print('Rouge Score:',avg_score)\n",
    "  return avg_score"
   ]
  },
  {
   "cell_type": "markdown",
   "metadata": {
    "id": "aIja_lfmJE9a"
   },
   "source": [
    "### Run"
   ]
  },
  {
   "cell_type": "code",
   "execution_count": 33,
   "metadata": {
    "colab": {
     "base_uri": "https://localhost:8080/"
    },
    "executionInfo": {
     "elapsed": 24048,
     "status": "ok",
     "timestamp": 1716390078094,
     "user": {
      "displayName": "微霜",
      "userId": "09483794120409566367"
     },
     "user_tz": -480
    },
    "id": "p5zyKLudJE9b",
    "outputId": "0ad22910-9fbe-41c6-ecff-71be7805caef"
   },
   "outputs": [
    {
     "name": "stdout",
     "output_type": "stream",
     "text": [
      "Collecting wandb\n",
      "  Downloading wandb-0.17.0-py3-none-manylinux_2_5_x86_64.manylinux1_x86_64.manylinux_2_17_x86_64.manylinux2014_x86_64.whl (6.7 MB)\n",
      "\u001b[2K     \u001b[90m━━━━━━━━━━━━━━━━━━━━━━━━━━━━━━━━━━━━━━━━\u001b[0m \u001b[32m6.7/6.7 MB\u001b[0m \u001b[31m18.0 MB/s\u001b[0m eta \u001b[36m0:00:00\u001b[0m\n",
      "\u001b[?25hRequirement already satisfied: click!=8.0.0,>=7.1 in /usr/local/lib/python3.10/dist-packages (from wandb) (8.1.7)\n",
      "Collecting docker-pycreds>=0.4.0 (from wandb)\n",
      "  Downloading docker_pycreds-0.4.0-py2.py3-none-any.whl (9.0 kB)\n",
      "Collecting gitpython!=3.1.29,>=1.0.0 (from wandb)\n",
      "  Downloading GitPython-3.1.43-py3-none-any.whl (207 kB)\n",
      "\u001b[2K     \u001b[90m━━━━━━━━━━━━━━━━━━━━━━━━━━━━━━━━━━━━━━━━\u001b[0m \u001b[32m207.3/207.3 kB\u001b[0m \u001b[31m19.9 MB/s\u001b[0m eta \u001b[36m0:00:00\u001b[0m\n",
      "\u001b[?25hRequirement already satisfied: platformdirs in /usr/local/lib/python3.10/dist-packages (from wandb) (4.2.2)\n",
      "Requirement already satisfied: protobuf!=4.21.0,<5,>=3.19.0 in /usr/local/lib/python3.10/dist-packages (from wandb) (3.20.3)\n",
      "Requirement already satisfied: psutil>=5.0.0 in /usr/local/lib/python3.10/dist-packages (from wandb) (5.9.5)\n",
      "Requirement already satisfied: pyyaml in /usr/local/lib/python3.10/dist-packages (from wandb) (6.0.1)\n",
      "Requirement already satisfied: requests<3,>=2.0.0 in /usr/local/lib/python3.10/dist-packages (from wandb) (2.31.0)\n",
      "Collecting sentry-sdk>=1.0.0 (from wandb)\n",
      "  Downloading sentry_sdk-2.2.1-py2.py3-none-any.whl (281 kB)\n",
      "\u001b[2K     \u001b[90m━━━━━━━━━━━━━━━━━━━━━━━━━━━━━━━━━━━━━━━━\u001b[0m \u001b[32m281.6/281.6 kB\u001b[0m \u001b[31m29.9 MB/s\u001b[0m eta \u001b[36m0:00:00\u001b[0m\n",
      "\u001b[?25hCollecting setproctitle (from wandb)\n",
      "  Downloading setproctitle-1.3.3-cp310-cp310-manylinux_2_5_x86_64.manylinux1_x86_64.manylinux_2_17_x86_64.manylinux2014_x86_64.whl (30 kB)\n",
      "Requirement already satisfied: setuptools in /usr/local/lib/python3.10/dist-packages (from wandb) (67.7.2)\n",
      "Requirement already satisfied: six>=1.4.0 in /usr/local/lib/python3.10/dist-packages (from docker-pycreds>=0.4.0->wandb) (1.16.0)\n",
      "Collecting gitdb<5,>=4.0.1 (from gitpython!=3.1.29,>=1.0.0->wandb)\n",
      "  Downloading gitdb-4.0.11-py3-none-any.whl (62 kB)\n",
      "\u001b[2K     \u001b[90m━━━━━━━━━━━━━━━━━━━━━━━━━━━━━━━━━━━━━━━━\u001b[0m \u001b[32m62.7/62.7 kB\u001b[0m \u001b[31m9.9 MB/s\u001b[0m eta \u001b[36m0:00:00\u001b[0m\n",
      "\u001b[?25hRequirement already satisfied: charset-normalizer<4,>=2 in /usr/local/lib/python3.10/dist-packages (from requests<3,>=2.0.0->wandb) (3.3.2)\n",
      "Requirement already satisfied: idna<4,>=2.5 in /usr/local/lib/python3.10/dist-packages (from requests<3,>=2.0.0->wandb) (3.7)\n",
      "Requirement already satisfied: urllib3<3,>=1.21.1 in /usr/local/lib/python3.10/dist-packages (from requests<3,>=2.0.0->wandb) (2.0.7)\n",
      "Requirement already satisfied: certifi>=2017.4.17 in /usr/local/lib/python3.10/dist-packages (from requests<3,>=2.0.0->wandb) (2024.2.2)\n",
      "Collecting smmap<6,>=3.0.1 (from gitdb<5,>=4.0.1->gitpython!=3.1.29,>=1.0.0->wandb)\n",
      "  Downloading smmap-5.0.1-py3-none-any.whl (24 kB)\n",
      "Installing collected packages: smmap, setproctitle, sentry-sdk, docker-pycreds, gitdb, gitpython, wandb\n",
      "Successfully installed docker-pycreds-0.4.0 gitdb-4.0.11 gitpython-3.1.43 sentry-sdk-2.2.1 setproctitle-1.3.3 smmap-5.0.1 wandb-0.17.0\n",
      "\u001b[34m\u001b[1mwandb\u001b[0m: Logging into wandb.ai. (Learn how to deploy a W&B server locally: https://wandb.me/wandb-server)\n",
      "\u001b[34m\u001b[1mwandb\u001b[0m: You can find your API key in your browser here: https://wandb.ai/authorize\n",
      "\u001b[34m\u001b[1mwandb\u001b[0m: Paste an API key from your profile and hit enter, or press ctrl+c to quit: \n",
      "\u001b[34m\u001b[1mwandb\u001b[0m: Appending key for api.wandb.ai to your netrc file: /root/.netrc\n"
     ]
    }
   ],
   "source": [
    "#!pip install --upgrade protobuf\n",
    "!pip install wandb\n",
    "!wandb login"
   ]
  },
  {
   "cell_type": "code",
   "execution_count": 47,
   "metadata": {
    "colab": {
     "base_uri": "https://localhost:8080/",
     "height": 142
    },
    "executionInfo": {
     "elapsed": 6217,
     "status": "ok",
     "timestamp": 1716390087906,
     "user": {
      "displayName": "微霜",
      "userId": "09483794120409566367"
     },
     "user_tz": -480
    },
    "id": "DEvaaVA55kgT",
    "outputId": "a7a968d9-2834-49b3-cdf9-623dff9c50a0"
   },
   "outputs": [
    {
     "name": "stderr",
     "output_type": "stream",
     "text": [
      "huggingface/tokenizers: The current process just got forked, after parallelism has already been used. Disabling parallelism to avoid deadlocks...\n",
      "To disable this warning, you can either:\n",
      "\t- Avoid using `tokenizers` before the fork if possible\n",
      "\t- Explicitly set the environment variable TOKENIZERS_PARALLELISM=(true | false)\n",
      "huggingface/tokenizers: The current process just got forked, after parallelism has already been used. Disabling parallelism to avoid deadlocks...\n",
      "To disable this warning, you can either:\n",
      "\t- Avoid using `tokenizers` before the fork if possible\n",
      "\t- Explicitly set the environment variable TOKENIZERS_PARALLELISM=(true | false)\n",
      "huggingface/tokenizers: The current process just got forked, after parallelism has already been used. Disabling parallelism to avoid deadlocks...\n",
      "To disable this warning, you can either:\n",
      "\t- Avoid using `tokenizers` before the fork if possible\n",
      "\t- Explicitly set the environment variable TOKENIZERS_PARALLELISM=(true | false)\n",
      "Failed to detect the name of this notebook, you can set it manually with the WANDB_NOTEBOOK_NAME environment variable to enable code saving.\n",
      "huggingface/tokenizers: The current process just got forked, after parallelism has already been used. Disabling parallelism to avoid deadlocks...\n",
      "To disable this warning, you can either:\n",
      "\t- Avoid using `tokenizers` before the fork if possible\n",
      "\t- Explicitly set the environment variable TOKENIZERS_PARALLELISM=(true | false)\n",
      "\u001b[34m\u001b[1mwandb\u001b[0m: Currently logged in as: \u001b[33mjiazhen_li\u001b[0m. Use \u001b[1m`wandb login --relogin`\u001b[0m to force relogin\n",
      "huggingface/tokenizers: The current process just got forked, after parallelism has already been used. Disabling parallelism to avoid deadlocks...\n",
      "To disable this warning, you can either:\n",
      "\t- Avoid using `tokenizers` before the fork if possible\n",
      "\t- Explicitly set the environment variable TOKENIZERS_PARALLELISM=(true | false)\n"
     ]
    },
    {
     "data": {
      "text/html": [
       "wandb version 0.17.0 is available!  To upgrade, please run:\n",
       " $ pip install wandb --upgrade"
      ],
      "text/plain": [
       "<IPython.core.display.HTML object>"
      ]
     },
     "metadata": {},
     "output_type": "display_data"
    },
    {
     "data": {
      "text/html": [
       "Tracking run with wandb version 0.16.3"
      ],
      "text/plain": [
       "<IPython.core.display.HTML object>"
      ]
     },
     "metadata": {},
     "output_type": "display_data"
    },
    {
     "data": {
      "text/html": [
       "Run data is saved locally in <code>/home/jiazhen/my-study/wandb/run-20240530_231044-my_TED_ZK10_zh_no_hanja_with_zy</code>"
      ],
      "text/plain": [
       "<IPython.core.display.HTML object>"
      ]
     },
     "metadata": {},
     "output_type": "display_data"
    },
    {
     "data": {
      "text/html": [
       "Resuming run <strong><a href='https://wandb.ai/jiazhen_li/Chinese-Korean-Translation/runs/my_TED_ZK10_zh_no_hanja_with_zy' target=\"_blank\">TED_ZK10_zh_no_hanja_with_zy</a></strong> to <a href='https://wandb.ai/jiazhen_li/Chinese-Korean-Translation' target=\"_blank\">Weights & Biases</a> (<a href='https://wandb.me/run' target=\"_blank\">docs</a>)<br/>"
      ],
      "text/plain": [
       "<IPython.core.display.HTML object>"
      ]
     },
     "metadata": {},
     "output_type": "display_data"
    },
    {
     "data": {
      "text/html": [
       " View project at <a href='https://wandb.ai/jiazhen_li/Chinese-Korean-Translation' target=\"_blank\">https://wandb.ai/jiazhen_li/Chinese-Korean-Translation</a>"
      ],
      "text/plain": [
       "<IPython.core.display.HTML object>"
      ]
     },
     "metadata": {},
     "output_type": "display_data"
    },
    {
     "data": {
      "text/html": [
       " View run at <a href='https://wandb.ai/jiazhen_li/Chinese-Korean-Translation/runs/my_TED_ZK10_zh_no_hanja_with_zy' target=\"_blank\">https://wandb.ai/jiazhen_li/Chinese-Korean-Translation/runs/my_TED_ZK10_zh_no_hanja_with_zy</a>"
      ],
      "text/plain": [
       "<IPython.core.display.HTML object>"
      ]
     },
     "metadata": {},
     "output_type": "display_data"
    },
    {
     "data": {
      "text/html": [
       "<button onClick=\"this.nextSibling.style.display='block';this.style.display='none';\">Display W&B run</button><iframe src='https://wandb.ai/jiazhen_li/Chinese-Korean-Translation/runs/my_TED_ZK10_zh_no_hanja_with_zy?jupyter=true' style='border:none;width:100%;height:420px;display:none;'></iframe>"
      ],
      "text/plain": [
       "<wandb.sdk.wandb_run.Run at 0x7fc38bc5dca0>"
      ]
     },
     "execution_count": 47,
     "metadata": {},
     "output_type": "execute_result"
    }
   ],
   "source": [
    "import wandb\n",
    "import random\n",
    "\n",
    "# start a new wandb run to track this script\n",
    "wandb.init(\n",
    "    # set the wandb project where this run will be logged\n",
    "    project=\"Chinese-Korean-Translation\",\n",
    "    name=model_name,\n",
    "    id='my_{}'.format(model_name),\n",
    "    resume='allow',\n",
    "    # track hyperparameters and run metadata\n",
    "    config={\n",
    "    \"learning_rate\": 1e-4,\n",
    "    \"architecture\": \"BERT\",\n",
    "    \"dataset\": \"TEDTalks\",\n",
    "    \"epochs\": 100,\n",
    "    }\n",
    ")"
   ]
  },
  {
   "cell_type": "code",
   "execution_count": 48,
   "metadata": {
    "executionInfo": {
     "elapsed": 427,
     "status": "ok",
     "timestamp": 1716390092083,
     "user": {
      "displayName": "微霜",
      "userId": "09483794120409566367"
     },
     "user_tz": -480
    },
    "id": "7WyAXDtaXSmx"
   },
   "outputs": [],
   "source": [
    "best_loss = float('inf')\n",
    "#best_loss = 2.744\n",
    "#best_score = 0.027\n",
    "best_score = 0"
   ]
  },
  {
   "cell_type": "code",
   "execution_count": 49,
   "metadata": {
    "executionInfo": {
     "elapsed": 2,
     "status": "ok",
     "timestamp": 1716390092505,
     "user": {
      "displayName": "微霜",
      "userId": "09483794120409566367"
     },
     "user_tz": -480
    },
    "id": "YD4OaqdCXPa9"
   },
   "outputs": [],
   "source": [
    "train_losses = []\n",
    "test_losses = []"
   ]
  },
  {
   "cell_type": "code",
   "execution_count": 50,
   "metadata": {
    "colab": {
     "base_uri": "https://localhost:8080/"
    },
    "id": "UcHtMBVDXQVX",
    "outputId": "9f472d2a-4da5-4c0e-864b-a705d3cd80e2"
   },
   "outputs": [
    {
     "name": "stderr",
     "output_type": "stream",
     "text": [
      "100%|█████████████████████████████████████████████████████████████████████████████████████████████████████████████████████████████████████████████████████████████████| 19461/19461 [23:14<00:00, 13.96it/s]\n"
     ]
    },
    {
     "name": "stdout",
     "output_type": "stream",
     "text": [
      "Epoch 01 | Train Time: 23m 14s\n"
     ]
    },
    {
     "name": "stderr",
     "output_type": "stream",
     "text": [
      "100%|███████████████████████████████████████████████████████████████████████████████████████████████████████████████████████████████████████████████████████████████████| 4866/4866 [01:39<00:00, 48.84it/s]\n"
     ]
    },
    {
     "name": "stdout",
     "output_type": "stream",
     "text": [
      "Epoch 01 | Test Time: 1m 39s\n"
     ]
    },
    {
     "name": "stderr",
     "output_type": "stream",
     "text": [
      "100%|██████████████████████████████████████████████████████████████████████████████████████████████████████████████████████████████████████████████████████████████████| 2000/2000 [00:19<00:00, 101.43it/s]\n"
     ]
    },
    {
     "name": "stdout",
     "output_type": "stream",
     "text": [
      "i= 1996 ====================\n",
      "target_sentence 후추 스프레이는 살상 무기의 대안으로, 즉, 경찰의 고함과 발포 대신 사용되도록 특별히 소개됐던 것이었죠. \n",
      "generate: \n",
      "output tensor([[[  9.7445, -10.5962, -10.5911,  ...,  -7.1120, -10.8030, -11.1702],\n",
      "         [  9.7445, -10.5962, -10.5911,  ...,  -7.1120, -10.8030, -11.1702],\n",
      "         [  9.7445, -10.5962, -10.5911,  ...,  -7.1120, -10.8030, -11.1702],\n",
      "         ...,\n",
      "         [  9.7445, -10.5962, -10.5911,  ...,  -7.1120, -10.8030, -11.1702],\n",
      "         [  9.7445, -10.5962, -10.5911,  ...,  -7.1120, -10.8030, -11.1702],\n",
      "         [  9.7445, -10.5962, -10.5911,  ...,  -7.1120, -10.8030, -11.1702]]],\n",
      "       device='cuda:0')\n",
      "====================\n",
      "i= 1997 ====================\n",
      "target_sentence 그러니까 예를 들어, 최근 저는 뉴욕시에서 강연을 했습니다, 그리고 말했죠. \"아시다시피, 여러분이 전철에 있을 때 차량 맞은 편에 있는 다른 이가 여러분께 미소를 지어주면 여러분도 본능적으로 미소를 보내죠.\" \n",
      "generate: \n",
      "output tensor([[[  9.7445, -10.5962, -10.5911,  ...,  -7.1120, -10.8030, -11.1702],\n",
      "         [  9.7445, -10.5962, -10.5911,  ...,  -7.1120, -10.8030, -11.1702],\n",
      "         [  9.7445, -10.5962, -10.5911,  ...,  -7.1119, -10.8030, -11.1702],\n",
      "         ...,\n",
      "         [  9.7445, -10.5962, -10.5911,  ...,  -7.1120, -10.8030, -11.1702],\n",
      "         [  9.7445, -10.5962, -10.5911,  ...,  -7.1120, -10.8030, -11.1702],\n",
      "         [  9.7445, -10.5962, -10.5911,  ...,  -7.1120, -10.8030, -11.1702]]],\n",
      "       device='cuda:0')\n",
      "====================\n",
      "i= 1998 ====================\n",
      "target_sentence 그 정도의 양은 사실상 제 몸에 있던 피의 대부분이었죠. \n",
      "generate: \n",
      "output tensor([[[  9.7445, -10.5962, -10.5911,  ...,  -7.1119, -10.8030, -11.1702],\n",
      "         [  9.7445, -10.5962, -10.5911,  ...,  -7.1120, -10.8030, -11.1702],\n",
      "         [  9.7445, -10.5962, -10.5911,  ...,  -7.1120, -10.8030, -11.1702],\n",
      "         ...,\n",
      "         [  9.7445, -10.5962, -10.5911,  ...,  -7.1120, -10.8030, -11.1702],\n",
      "         [  9.7445, -10.5962, -10.5911,  ...,  -7.1120, -10.8030, -11.1702],\n",
      "         [  9.7445, -10.5962, -10.5911,  ...,  -7.1120, -10.8030, -11.1702]]],\n",
      "       device='cuda:0')\n",
      "====================\n",
      "i= 1999 ====================\n",
      "target_sentence 요즘 아이들에게는 위험이 조금 필요합니다. \n",
      "generate: \n",
      "output tensor([[[  9.7445, -10.5962, -10.5911,  ...,  -7.1120, -10.8030, -11.1702],\n",
      "         [  9.7445, -10.5962, -10.5911,  ...,  -7.1120, -10.8030, -11.1702],\n",
      "         [  9.7445, -10.5962, -10.5911,  ...,  -7.1120, -10.8030, -11.1702],\n",
      "         ...,\n",
      "         [  9.7445, -10.5962, -10.5911,  ...,  -7.1120, -10.8030, -11.1702],\n",
      "         [  9.7445, -10.5962, -10.5911,  ...,  -7.1120, -10.8030, -11.1702],\n",
      "         [  9.7445, -10.5962, -10.5911,  ...,  -7.1120, -10.8030, -11.1702]]],\n",
      "       device='cuda:0')\n",
      "====================\n",
      "Epoch 01 | Eval Time: 0m 19s\n",
      "== save model ==\n",
      "\tTrain Loss: 4.930 | Test Loss: 5.925\n",
      "\tBLEU Score:\n",
      "\t\tavg: 0.000\n",
      "\t\t1-gram: 0.000\n",
      "\t\t2-gram: 0.000\n",
      "\t\t3-gram: 0.000\n",
      "\t\t4-gram: 0.000\n",
      "==load best model==\n",
      "{'avg': [0.0], '1-gram': [0.0], '2-gram': [0.0], '3-gram': [0.0], '4-gram': [0.0]}\n"
     ]
    },
    {
     "name": "stderr",
     "output_type": "stream",
     "text": [
      "100%|█████████████████████████████████████████████████████████████████████████████████████████████████████████████████████████████████████████████████████████████████| 19461/19461 [23:15<00:00, 13.95it/s]\n"
     ]
    },
    {
     "name": "stdout",
     "output_type": "stream",
     "text": [
      "Epoch 02 | Train Time: 23m 20s\n"
     ]
    },
    {
     "name": "stderr",
     "output_type": "stream",
     "text": [
      "100%|███████████████████████████████████████████████████████████████████████████████████████████████████████████████████████████████████████████████████████████████████| 4866/4866 [01:39<00:00, 49.05it/s]\n"
     ]
    },
    {
     "name": "stdout",
     "output_type": "stream",
     "text": [
      "Epoch 02 | Test Time: 1m 39s\n"
     ]
    },
    {
     "name": "stderr",
     "output_type": "stream",
     "text": [
      "100%|██████████████████████████████████████████████████████████████████████████████████████████████████████████████████████████████████████████████████████████████████| 2000/2000 [00:19<00:00, 102.55it/s]"
     ]
    },
    {
     "name": "stdout",
     "output_type": "stream",
     "text": [
      "i= 1996 ====================\n",
      "target_sentence 하지만 그 빛이 완만한 각도로 이동한다면, 이것은 유리 덫에 갇혀 벽에 튕기며 구부러진 모양으로 질주합니다. \n",
      "generate: \n",
      "output tensor([[[  6.4989, -11.4961, -11.4491,  ...,  -8.0545, -11.1926, -11.7352],\n",
      "         [  6.4989, -11.4961, -11.4491,  ...,  -8.0545, -11.1926, -11.7352],\n",
      "         [  6.4989, -11.4961, -11.4491,  ...,  -8.0545, -11.1926, -11.7352],\n",
      "         ...,\n",
      "         [  6.4989, -11.4961, -11.4491,  ...,  -8.0545, -11.1926, -11.7352],\n",
      "         [  6.4989, -11.4961, -11.4491,  ...,  -8.0545, -11.1926, -11.7352],\n",
      "         [  6.4989, -11.4961, -11.4491,  ...,  -8.0545, -11.1926, -11.7352]]],\n",
      "       device='cuda:0')\n",
      "====================\n",
      "i= 1997 ====================\n",
      "target_sentence 저는 단지 전 세계의 인구라는 시한폭탄을 이야기하는 것이 아닙니다. \n",
      "generate: \n",
      "output tensor([[[  6.4989, -11.4961, -11.4491,  ...,  -8.0545, -11.1926, -11.7352],\n",
      "         [  6.4989, -11.4961, -11.4491,  ...,  -8.0545, -11.1926, -11.7352],\n",
      "         [  6.4989, -11.4961, -11.4491,  ...,  -8.0545, -11.1926, -11.7352],\n",
      "         ...,\n",
      "         [  6.4989, -11.4961, -11.4491,  ...,  -8.0545, -11.1926, -11.7352],\n",
      "         [  6.4989, -11.4961, -11.4491,  ...,  -8.0545, -11.1926, -11.7352],\n",
      "         [  6.4989, -11.4961, -11.4491,  ...,  -8.0545, -11.1926, -11.7352]]],\n",
      "       device='cuda:0')\n",
      "====================\n",
      "i= 1998 ====================\n",
      "target_sentence 사실 잡지에 들어갈 내용을 결정하는건 카피 에디터가 아닙니다. \n",
      "generate: \n",
      "output tensor([[[  6.4989, -11.4961, -11.4491,  ...,  -8.0545, -11.1926, -11.7352],\n",
      "         [  6.4989, -11.4961, -11.4491,  ...,  -8.0545, -11.1926, -11.7352],\n",
      "         [  6.4989, -11.4961, -11.4491,  ...,  -8.0545, -11.1926, -11.7352],\n",
      "         ...,\n",
      "         [  6.4989, -11.4961, -11.4491,  ...,  -8.0545, -11.1926, -11.7352],\n",
      "         [  6.4989, -11.4961, -11.4491,  ...,  -8.0545, -11.1926, -11.7352],\n",
      "         [  6.4989, -11.4961, -11.4491,  ...,  -8.0545, -11.1926, -11.7352]]],\n",
      "       device='cuda:0')\n",
      "====================\n",
      "i= 1999 ====================\n",
      "target_sentence 정말 굉장했죠. \n",
      "generate: \n",
      "output tensor([[[  6.4989, -11.4961, -11.4491,  ...,  -8.0545, -11.1926, -11.7352],\n",
      "         [  6.4989, -11.4961, -11.4491,  ...,  -8.0545, -11.1926, -11.7352],\n",
      "         [  6.4989, -11.4961, -11.4491,  ...,  -8.0545, -11.1926, -11.7352],\n",
      "         ...,\n",
      "         [  6.4989, -11.4961, -11.4491,  ...,  -8.0545, -11.1926, -11.7352],\n",
      "         [  6.4989, -11.4961, -11.4491,  ...,  -8.0545, -11.1926, -11.7352],\n",
      "         [  6.4989, -11.4961, -11.4491,  ...,  -8.0545, -11.1926, -11.7352]]],\n",
      "       device='cuda:0')\n",
      "====================\n"
     ]
    },
    {
     "name": "stderr",
     "output_type": "stream",
     "text": [
      "100%|██████████████████████████████████████████████████████████████████████████████████████████████████████████████████████████████████████████████████████████████████| 2000/2000 [00:19<00:00, 100.96it/s]\n"
     ]
    },
    {
     "name": "stdout",
     "output_type": "stream",
     "text": [
      "Epoch 02 | Eval Time: 0m 19s\n",
      "\tTrain Loss: 4.981 | Test Loss: 6.148\n",
      "\tBLEU Score:\n",
      "\t\tavg: 0.000\n",
      "\t\t1-gram: 0.000\n",
      "\t\t2-gram: 0.000\n",
      "\t\t3-gram: 0.000\n",
      "\t\t4-gram: 0.000\n",
      "==load best model==\n",
      "{'avg': [0.0, 0.0], '1-gram': [0.0, 0.0], '2-gram': [0.0, 0.0], '3-gram': [0.0, 0.0], '4-gram': [0.0, 0.0]}\n"
     ]
    },
    {
     "name": "stderr",
     "output_type": "stream",
     "text": [
      "100%|█████████████████████████████████████████████████████████████████████████████████████████████████████████████████████████████████████████████████████████████████| 19461/19461 [23:15<00:00, 13.94it/s]\n"
     ]
    },
    {
     "name": "stdout",
     "output_type": "stream",
     "text": [
      "Epoch 03 | Train Time: 23m 22s\n"
     ]
    },
    {
     "name": "stderr",
     "output_type": "stream",
     "text": [
      "100%|███████████████████████████████████████████████████████████████████████████████████████████████████████████████████████████████████████████████████████████████████| 4866/4866 [01:39<00:00, 49.08it/s]\n"
     ]
    },
    {
     "name": "stdout",
     "output_type": "stream",
     "text": [
      "Epoch 03 | Test Time: 1m 39s\n"
     ]
    },
    {
     "name": "stderr",
     "output_type": "stream",
     "text": [
      "100%|██████████████████████████████████████████████████████████████████████████████████████████████████████████████████████████████████████████████████████████████████| 2000/2000 [00:19<00:00, 102.03it/s]"
     ]
    },
    {
     "name": "stdout",
     "output_type": "stream",
     "text": [
      "i= 1996 ====================\n",
      "target_sentence 오직 깔끔한 방식으로 정보를 수집하고 저장해서 책을 만들 필요는 없지요. 책이란 일련의 층들이 모여 이루어집니다. \n",
      "generate: 박수 박수 박수 박수 박수 박수 박수 박수 박수 박수 박수 박수 박수 박수 박수 박수 박수 박수 박수 박수 박수 박수 박수 박수 박수 박수 박수 박수 박수 박수 박수 박수\n",
      "output tensor([[[  6.2990, -11.1218, -11.3640,  ...,  -8.3844, -10.9515, -11.4778],\n",
      "         [  6.2990, -11.1218, -11.3640,  ...,  -8.3844, -10.9515, -11.4778],\n",
      "         [  6.2990, -11.1218, -11.3640,  ...,  -8.3844, -10.9515, -11.4778],\n",
      "         ...,\n",
      "         [  6.2990, -11.1218, -11.3640,  ...,  -8.3844, -10.9515, -11.4778],\n",
      "         [  6.2990, -11.1218, -11.3640,  ...,  -8.3844, -10.9515, -11.4778],\n",
      "         [  6.2990, -11.1218, -11.3640,  ...,  -8.3844, -10.9515, -11.4778]]],\n",
      "       device='cuda:0')\n",
      "====================\n",
      "i= 1997 ====================\n",
      "target_sentence 누가 그 댓가를 지불하게 될까요? \n",
      "generate: 박수 박수 박수 박수 박수 박수 박수 박수 박수 박수 박수 박수 박수 박수 박수 박수 박수 박수 박수 박수 박수 박수 박수 박수 박수 박수 박수 박수 박수 박수 박수 박수\n",
      "output tensor([[[  6.2990, -11.1218, -11.3640,  ...,  -8.3844, -10.9515, -11.4778],\n",
      "         [  6.2990, -11.1218, -11.3640,  ...,  -8.3844, -10.9515, -11.4778],\n",
      "         [  6.2990, -11.1218, -11.3640,  ...,  -8.3844, -10.9515, -11.4778],\n",
      "         ...,\n",
      "         [  6.2990, -11.1218, -11.3640,  ...,  -8.3844, -10.9515, -11.4778],\n",
      "         [  6.2990, -11.1218, -11.3640,  ...,  -8.3844, -10.9515, -11.4778],\n",
      "         [  6.2990, -11.1218, -11.3640,  ...,  -8.3844, -10.9515, -11.4778]]],\n",
      "       device='cuda:0')\n",
      "====================\n",
      "i= 1998 ====================\n",
      "target_sentence 마땅히 좋은 답이 없네요. \n",
      "generate: 박수 박수 박수 박수 박수 박수 박수 박수 박수 박수 박수 박수 박수 박수 박수 박수 박수 박수 박수 박수 박수 박수 박수 박수 박수 박수 박수 박수 박수 박수 박수 박수\n",
      "output tensor([[[  6.2990, -11.1218, -11.3640,  ...,  -8.3844, -10.9515, -11.4778],\n",
      "         [  6.2990, -11.1218, -11.3640,  ...,  -8.3844, -10.9515, -11.4778],\n",
      "         [  6.2990, -11.1218, -11.3640,  ...,  -8.3844, -10.9515, -11.4778],\n",
      "         ...,\n",
      "         [  6.2990, -11.1218, -11.3640,  ...,  -8.3844, -10.9515, -11.4778],\n",
      "         [  6.2990, -11.1218, -11.3640,  ...,  -8.3844, -10.9515, -11.4778],\n",
      "         [  6.2990, -11.1218, -11.3640,  ...,  -8.3844, -10.9515, -11.4778]]],\n",
      "       device='cuda:0')\n",
      "====================\n",
      "i= 1999 ====================\n",
      "target_sentence 우리가 이렇게 말하기 좋아하는것처럼 -- 그리고 여기 청강석에는 대단히 많은 미국인들이 있다는걸 알고 있는데-- 만일 미국인들이 아메리칸 드림처럼 살고 싶다면, 그들은 덴마크로 가야합니다 \n",
      "generate: 박수 박수 박수 박수 박수 박수 박수 박수 박수 박수 박수 박수 박수 박수 박수 박수 박수 박수 박수 박수 박수 박수 박수 박수 박수 박수 박수 박수 박수 박수 박수 박수\n",
      "output tensor([[[  6.2990, -11.1218, -11.3640,  ...,  -8.3844, -10.9515, -11.4778],\n",
      "         [  6.2990, -11.1218, -11.3640,  ...,  -8.3844, -10.9515, -11.4778],\n",
      "         [  6.2990, -11.1218, -11.3640,  ...,  -8.3844, -10.9515, -11.4778],\n",
      "         ...,\n",
      "         [  6.2990, -11.1218, -11.3640,  ...,  -8.3844, -10.9515, -11.4778],\n",
      "         [  6.2990, -11.1218, -11.3640,  ...,  -8.3844, -10.9515, -11.4778],\n",
      "         [  6.2990, -11.1218, -11.3640,  ...,  -8.3844, -10.9515, -11.4778]]],\n",
      "       device='cuda:0')\n",
      "====================\n",
      "Epoch 03 | Eval Time: 0m 19s\n"
     ]
    },
    {
     "name": "stderr",
     "output_type": "stream",
     "text": [
      "\n"
     ]
    },
    {
     "name": "stdout",
     "output_type": "stream",
     "text": [
      "== save model ==\n",
      "\tTrain Loss: 4.977 | Test Loss: 6.819\n",
      "\tBLEU Score:\n",
      "\t\tavg: 0.001\n",
      "\t\t1-gram: 0.064\n",
      "\t\t2-gram: 0.001\n",
      "\t\t3-gram: 0.000\n",
      "\t\t4-gram: 0.000\n",
      "==load best model==\n",
      "{'avg': [0.0, 0.0, 0.0014676187238071132], '1-gram': [0.0, 0.0, 0.0640625], '2-gram': [0.0, 0.0, 0.0008064516129032258], '3-gram': [0.0, 0.0, 0.0004166666666666667], '4-gram': [0.0, 0.0, 0.00021551724137931034]}\n"
     ]
    },
    {
     "name": "stderr",
     "output_type": "stream",
     "text": [
      "100%|█████████████████████████████████████████████████████████████████████████████████████████████████████████████████████████████████████████████████████████████████| 19461/19461 [23:15<00:00, 13.95it/s]\n"
     ]
    },
    {
     "name": "stdout",
     "output_type": "stream",
     "text": [
      "Epoch 04 | Train Time: 23m 20s\n"
     ]
    },
    {
     "name": "stderr",
     "output_type": "stream",
     "text": [
      "100%|███████████████████████████████████████████████████████████████████████████████████████████████████████████████████████████████████████████████████████████████████| 4866/4866 [01:39<00:00, 48.98it/s]\n"
     ]
    },
    {
     "name": "stdout",
     "output_type": "stream",
     "text": [
      "Epoch 04 | Test Time: 1m 39s\n"
     ]
    },
    {
     "name": "stderr",
     "output_type": "stream",
     "text": [
      "100%|██████████████████████████████████████████████████████████████████████████████████████████████████████████████████████████████████████████████████████████████████| 2000/2000 [00:19<00:00, 102.08it/s]\n"
     ]
    },
    {
     "name": "stdout",
     "output_type": "stream",
     "text": [
      "i= 1996 ====================\n",
      "target_sentence 몇 년 전, 저는 큰 은행에서 일하고 있었습니다. 이 은행은 기업문화에 혁신을 좀 더 불어넣으려 노력하는 중이었죠. \n",
      "generate: \n",
      "output tensor([[[  8.2624, -15.3101, -15.3724,  ..., -12.2309, -14.9158, -15.0294],\n",
      "         [  8.2624, -15.3101, -15.3724,  ..., -12.2309, -14.9158, -15.0294],\n",
      "         [  8.2624, -15.3101, -15.3724,  ..., -12.2309, -14.9158, -15.0294],\n",
      "         ...,\n",
      "         [  8.2624, -15.3101, -15.3724,  ..., -12.2309, -14.9158, -15.0294],\n",
      "         [  8.2624, -15.3101, -15.3724,  ..., -12.2309, -14.9158, -15.0294],\n",
      "         [  8.2624, -15.3101, -15.3724,  ..., -12.2309, -14.9158, -15.0294]]],\n",
      "       device='cuda:0')\n",
      "====================\n",
      "i= 1997 ====================\n",
      "target_sentence 갑자기, NGO들은 거리로 나서서 그들의 슬로간을 외쳤을뿐만 아니라 그들은 협상에 참여했습니다. 부분적으로 그들이 이러한 무기들의 희생자들을 대변했기 때문입니다. \n",
      "generate: \n",
      "output tensor([[[  8.2624, -15.3101, -15.3724,  ..., -12.2309, -14.9158, -15.0294],\n",
      "         [  8.2624, -15.3101, -15.3724,  ..., -12.2309, -14.9158, -15.0294],\n",
      "         [  8.2624, -15.3101, -15.3724,  ..., -12.2309, -14.9158, -15.0294],\n",
      "         ...,\n",
      "         [  8.2624, -15.3101, -15.3724,  ..., -12.2309, -14.9158, -15.0294],\n",
      "         [  8.2624, -15.3101, -15.3724,  ..., -12.2309, -14.9158, -15.0294],\n",
      "         [  8.2624, -15.3101, -15.3724,  ..., -12.2309, -14.9158, -15.0294]]],\n",
      "       device='cuda:0')\n",
      "====================\n",
      "i= 1998 ====================\n",
      "target_sentence 공학자, 기술자, 물리학자들은 모두 로스 빙붕에 모입니다. 이유를 설명하진 않겠지만, 남극은 날씨만 제외하면 이런 열기구를 띄우기에 가장 좋은 장소 중 하나이기 때문입니다. \n",
      "generate: \n",
      "output tensor([[[  8.2624, -15.3101, -15.3724,  ..., -12.2309, -14.9158, -15.0294],\n",
      "         [  8.2624, -15.3101, -15.3724,  ..., -12.2309, -14.9158, -15.0294],\n",
      "         [  8.2624, -15.3101, -15.3724,  ..., -12.2309, -14.9158, -15.0294],\n",
      "         ...,\n",
      "         [  8.2624, -15.3101, -15.3724,  ..., -12.2309, -14.9158, -15.0294],\n",
      "         [  8.2624, -15.3101, -15.3724,  ..., -12.2309, -14.9158, -15.0294],\n",
      "         [  8.2624, -15.3101, -15.3724,  ..., -12.2309, -14.9158, -15.0294]]],\n",
      "       device='cuda:0')\n",
      "====================\n",
      "i= 1999 ====================\n",
      "target_sentence 특히 어린이들을요. 여러분 대부분이 이렇게 생각하실겁니다. \"뭐라구? 너무 쉽네.\" \n",
      "generate: \n",
      "output tensor([[[  8.2624, -15.3101, -15.3724,  ..., -12.2309, -14.9158, -15.0294],\n",
      "         [  8.2624, -15.3101, -15.3724,  ..., -12.2309, -14.9158, -15.0294],\n",
      "         [  8.2624, -15.3101, -15.3724,  ..., -12.2309, -14.9158, -15.0294],\n",
      "         ...,\n",
      "         [  8.2624, -15.3101, -15.3724,  ..., -12.2309, -14.9158, -15.0294],\n",
      "         [  8.2624, -15.3101, -15.3724,  ..., -12.2309, -14.9158, -15.0294],\n",
      "         [  8.2624, -15.3101, -15.3724,  ..., -12.2309, -14.9158, -15.0294]]],\n",
      "       device='cuda:0')\n",
      "====================\n",
      "Epoch 04 | Eval Time: 0m 19s\n",
      "== save model ==\n",
      "\tTrain Loss: 4.887 | Test Loss: 6.391\n",
      "\tBLEU Score:\n",
      "\t\tavg: 0.000\n",
      "\t\t1-gram: 0.000\n",
      "\t\t2-gram: 0.000\n",
      "\t\t3-gram: 0.000\n",
      "\t\t4-gram: 0.000\n",
      "==load best model==\n",
      "{'avg': [0.0, 0.0, 0.0014676187238071, 0.0], '1-gram': [0.0, 0.0, 0.0640625, 0.0], '2-gram': [0.0, 0.0, 0.0008064516129032, 0.0], '3-gram': [0.0, 0.0, 0.0004166666666666, 0.0], '4-gram': [0.0, 0.0, 0.0002155172413793, 0.0]}\n"
     ]
    },
    {
     "name": "stderr",
     "output_type": "stream",
     "text": [
      "100%|█████████████████████████████████████████████████████████████████████████████████████████████████████████████████████████████████████████████████████████████████| 19461/19461 [23:15<00:00, 13.94it/s]\n"
     ]
    },
    {
     "name": "stdout",
     "output_type": "stream",
     "text": [
      "Epoch 05 | Train Time: 23m 22s\n"
     ]
    },
    {
     "name": "stderr",
     "output_type": "stream",
     "text": [
      "100%|███████████████████████████████████████████████████████████████████████████████████████████████████████████████████████████████████████████████████████████████████| 4866/4866 [01:39<00:00, 48.88it/s]\n"
     ]
    },
    {
     "name": "stdout",
     "output_type": "stream",
     "text": [
      "Epoch 05 | Test Time: 1m 39s\n"
     ]
    },
    {
     "name": "stderr",
     "output_type": "stream",
     "text": [
      "100%|██████████████████████████████████████████████████████████████████████████████████████████████████████████████████████████████████████████████████████████████████| 2000/2000 [00:19<00:00, 100.26it/s]\n"
     ]
    },
    {
     "name": "stdout",
     "output_type": "stream",
     "text": [
      "i= 1996 ====================\n",
      "target_sentence 그리고 이러한 관례는 오늘 보시고 계신 것처럼, 대단한 경제적이고 환경적인 영향을 미칩니다. \n",
      "generate: 감사합니다 감사합니다 감사합니다 감사합니다 감사합니다 감사합니다 감사합니다 감사합니다 감사합니다 감사합니다 감사합니다 감사합니다 감사합니다 감사합니다 감사합니다 감사합니다 감사합니다 감사합니다 감사합니다 감사합니다 감사합니다 감사합니다 감사합니다 감사합니다 감사합니다 감사합니다 감사합니다 감사합니다 감사합니다 감사합니다 감사합니다 감사합니다\n",
      "output tensor([[[  4.5859, -10.4379, -10.4443,  ...,  -4.2190, -10.3188, -10.3056],\n",
      "         [  4.5859, -10.4379, -10.4443,  ...,  -4.2190, -10.3188, -10.3056],\n",
      "         [  4.5859, -10.4379, -10.4443,  ...,  -4.2190, -10.3188, -10.3056],\n",
      "         ...,\n",
      "         [  4.5859, -10.4379, -10.4443,  ...,  -4.2190, -10.3188, -10.3056],\n",
      "         [  4.5859, -10.4379, -10.4443,  ...,  -4.2190, -10.3188, -10.3056],\n",
      "         [  4.5859, -10.4379, -10.4443,  ...,  -4.2190, -10.3188, -10.3056]]],\n",
      "       device='cuda:0')\n",
      "====================\n",
      "i= 1997 ====================\n",
      "target_sentence 그럼 이제 실험을 해봅시다. \n",
      "generate: 감사합니다 감사합니다 감사합니다 감사합니다 감사합니다 감사합니다 감사합니다 감사합니다 감사합니다 감사합니다 감사합니다 감사합니다 감사합니다 감사합니다 감사합니다 감사합니다 감사합니다 감사합니다 감사합니다 감사합니다 감사합니다 감사합니다 감사합니다 감사합니다 감사합니다 감사합니다 감사합니다 감사합니다 감사합니다 감사합니다 감사합니다 감사합니다\n",
      "output tensor([[[  4.5859, -10.4379, -10.4443,  ...,  -4.2190, -10.3188, -10.3056],\n",
      "         [  4.5859, -10.4379, -10.4443,  ...,  -4.2190, -10.3188, -10.3056],\n",
      "         [  4.5859, -10.4379, -10.4443,  ...,  -4.2190, -10.3188, -10.3056],\n",
      "         ...,\n",
      "         [  4.5859, -10.4379, -10.4443,  ...,  -4.2190, -10.3188, -10.3056],\n",
      "         [  4.5859, -10.4379, -10.4443,  ...,  -4.2190, -10.3188, -10.3056],\n",
      "         [  4.5859, -10.4379, -10.4443,  ...,  -4.2190, -10.3188, -10.3056]]],\n",
      "       device='cuda:0')\n",
      "====================\n",
      "i= 1998 ====================\n",
      "target_sentence 자신의 아들이 기소당했을 때 왔던 아이차를 대중매체에서 봤을 때, 저는 생각했습니다. \"얼마나 용감한 여성인가. \n",
      "generate: 감사합니다 감사합니다 감사합니다 감사합니다 감사합니다 감사합니다 감사합니다 감사합니다 감사합니다 감사합니다 감사합니다 감사합니다 감사합니다 감사합니다 감사합니다 감사합니다 감사합니다 감사합니다 감사합니다 감사합니다 감사합니다 감사합니다 감사합니다 감사합니다 감사합니다 감사합니다 감사합니다 감사합니다 감사합니다 감사합니다 감사합니다 감사합니다\n",
      "output tensor([[[  4.5859, -10.4379, -10.4443,  ...,  -4.2190, -10.3188, -10.3056],\n",
      "         [  4.5859, -10.4379, -10.4443,  ...,  -4.2190, -10.3188, -10.3056],\n",
      "         [  4.5859, -10.4379, -10.4443,  ...,  -4.2190, -10.3188, -10.3056],\n",
      "         ...,\n",
      "         [  4.5859, -10.4379, -10.4443,  ...,  -4.2190, -10.3188, -10.3056],\n",
      "         [  4.5859, -10.4379, -10.4443,  ...,  -4.2190, -10.3188, -10.3056],\n",
      "         [  4.5859, -10.4379, -10.4443,  ...,  -4.2190, -10.3188, -10.3056]]],\n",
      "       device='cuda:0')\n",
      "====================\n",
      "i= 1999 ====================\n",
      "target_sentence 크리스: 그럼 그것이 핵심이군요? \n",
      "generate: 감사합니다 감사합니다 감사합니다 감사합니다 감사합니다 감사합니다 감사합니다 감사합니다 감사합니다 감사합니다 감사합니다 감사합니다 감사합니다 감사합니다 감사합니다 감사합니다 감사합니다 감사합니다 감사합니다 감사합니다 감사합니다 감사합니다 감사합니다 감사합니다 감사합니다 감사합니다 감사합니다 감사합니다 감사합니다 감사합니다 감사합니다 감사합니다\n",
      "output tensor([[[  4.5859, -10.4379, -10.4443,  ...,  -4.2190, -10.3188, -10.3056],\n",
      "         [  4.5859, -10.4379, -10.4443,  ...,  -4.2190, -10.3188, -10.3056],\n",
      "         [  4.5859, -10.4379, -10.4443,  ...,  -4.2190, -10.3188, -10.3056],\n",
      "         ...,\n",
      "         [  4.5859, -10.4379, -10.4443,  ...,  -4.2190, -10.3188, -10.3056],\n",
      "         [  4.5859, -10.4379, -10.4443,  ...,  -4.2190, -10.3188, -10.3056],\n",
      "         [  4.5859, -10.4379, -10.4443,  ...,  -4.2190, -10.3188, -10.3056]]],\n",
      "       device='cuda:0')\n",
      "====================\n",
      "Epoch 05 | Eval Time: 0m 19s\n",
      "== save model ==\n",
      "\tTrain Loss: 4.879 | Test Loss: 7.901\n",
      "\tBLEU Score:\n",
      "\t\tavg: 0.001\n",
      "\t\t1-gram: 0.023\n",
      "\t\t2-gram: 0.001\n",
      "\t\t3-gram: 0.000\n",
      "\t\t4-gram: 0.000\n",
      "==load best model==\n",
      "{'avg': [0.0, 0.0, 0.0014676187238071, 0.0, 0.0011414058508427342], '1-gram': [0.0, 0.0, 0.0640625, 0.0, 0.0234375], '2-gram': [0.0, 0.0, 0.0008064516129032, 0.0, 0.0008064516129032258], '3-gram': [0.0, 0.0, 0.0004166666666666, 0.0, 0.0004166666666666667], '4-gram': [0.0, 0.0, 0.0002155172413793, 0.0, 0.00021551724137931034]}\n"
     ]
    },
    {
     "name": "stderr",
     "output_type": "stream",
     "text": [
      "  1%|█▏                                                                                                                                                                 | 138/19461 [00:10<23:25, 13.75it/s]\n",
      "huggingface/tokenizers: The current process just got forked, after parallelism has already been used. Disabling parallelism to avoid deadlocks...\n",
      "To disable this warning, you can either:\n",
      "\t- Avoid using `tokenizers` before the fork if possible\n",
      "\t- Explicitly set the environment variable TOKENIZERS_PARALLELISM=(true | false)\n"
     ]
    },
    {
     "ename": "KeyboardInterrupt",
     "evalue": "",
     "output_type": "error",
     "traceback": [
      "\u001b[0;31m---------------------------------------------------------------------------\u001b[0m",
      "\u001b[0;31mKeyboardInterrupt\u001b[0m                         Traceback (most recent call last)",
      "Cell \u001b[0;32mIn[50], line 8\u001b[0m\n\u001b[1;32m      5\u001b[0m bleu_scores \u001b[38;5;241m=\u001b[39m []\n\u001b[1;32m      7\u001b[0m start_time \u001b[38;5;241m=\u001b[39m time\u001b[38;5;241m.\u001b[39mtime()\n\u001b[0;32m----> 8\u001b[0m train_loss \u001b[38;5;241m=\u001b[39m \u001b[43mtrain\u001b[49m\u001b[43m(\u001b[49m\u001b[43mpath\u001b[49m\u001b[38;5;241;43m=\u001b[39;49m\u001b[38;5;124;43m'\u001b[39;49m\u001b[38;5;132;43;01m{}\u001b[39;49;00m\u001b[38;5;124;43m/MODELS/translation_model(\u001b[39;49m\u001b[38;5;132;43;01m{}\u001b[39;49;00m\u001b[38;5;124;43m).pth\u001b[39;49m\u001b[38;5;124;43m'\u001b[39;49m\u001b[38;5;241;43m.\u001b[39;49m\u001b[43mformat\u001b[49m\u001b[43m(\u001b[49m\u001b[43mdir_name\u001b[49m\u001b[43m,\u001b[49m\u001b[43mmodel_name\u001b[49m\u001b[43m)\u001b[49m\u001b[43m)\u001b[49m\n\u001b[1;32m      9\u001b[0m end_time \u001b[38;5;241m=\u001b[39m time\u001b[38;5;241m.\u001b[39mtime()\n\u001b[1;32m     10\u001b[0m epoch_mins, epoch_secs \u001b[38;5;241m=\u001b[39m epoch_time(start_time, end_time)\n",
      "Cell \u001b[0;32mIn[33], line 26\u001b[0m, in \u001b[0;36mtrain\u001b[0;34m(path)\u001b[0m\n\u001b[1;32m     23\u001b[0m     loss\u001b[38;5;241m.\u001b[39mbackward()\n\u001b[1;32m     24\u001b[0m     optimizer\u001b[38;5;241m.\u001b[39mstep()\n\u001b[0;32m---> 26\u001b[0m     total_loss \u001b[38;5;241m+\u001b[39m\u001b[38;5;241m=\u001b[39m \u001b[43mloss\u001b[49m\u001b[38;5;241;43m.\u001b[39;49m\u001b[43mitem\u001b[49m\u001b[43m(\u001b[49m\u001b[43m)\u001b[49m\n\u001b[1;32m     27\u001b[0m     pbar\u001b[38;5;241m.\u001b[39mupdate(\u001b[38;5;241m1\u001b[39m)\n\u001b[1;32m     28\u001b[0m torch\u001b[38;5;241m.\u001b[39msave(model\u001b[38;5;241m.\u001b[39mstate_dict(), path)\n",
      "\u001b[0;31mKeyboardInterrupt\u001b[0m: "
     ]
    },
    {
     "data": {
      "image/png": "[encoded data removed]",
      "text/plain": [
       "<Figure size 640x480 with 1 Axes>"
      ]
     },
     "metadata": {},
     "output_type": "display_data"
    }
   ],
   "source": [
    "# 訓練模型\n",
    "for epoch in range(num_epochs):\n",
    "    train_losses = []\n",
    "    test_losses = []\n",
    "    bleu_scores = []\n",
    "\n",
    "    start_time = time.time()\n",
    "    train_loss = train(path='{}/MODELS/translation_model({}).pth'.format(dir_name,model_name))\n",
    "    end_time = time.time()\n",
    "    epoch_mins, epoch_secs = epoch_time(start_time, end_time)\n",
    "    #break\n",
    "    print(f'Epoch {epoch+1:02} | Train Time: {epoch_mins}m {epoch_secs}s')\n",
    "\n",
    "    start_time = time.time()\n",
    "    test_loss = evaluate()\n",
    "\n",
    "    end_time = time.time()\n",
    "    epoch_mins, epoch_secs = epoch_time(start_time, end_time)\n",
    "    print(f'Epoch {epoch+1:02} | Test Time: {epoch_mins}m {epoch_secs}s')\n",
    "\n",
    "    start_time = time.time()\n",
    "    samples = get_samples(TEST_ZSENT,TEST_KSENT,num=2000)\n",
    "    test_score = sacrebleu_score(model, source_sentences=samples['zh'],target_sentences=samples['ko'])\n",
    "    #test_score = sacrebleu_score(model, source_sentences=TEST_ZSENT,target_sentences=TEST_KSENT,bpmf_sentences=TEST_ZYSENT)\n",
    "    end_time = time.time()\n",
    "    epoch_mins, epoch_secs = epoch_time(start_time, end_time)\n",
    "    print(f'Epoch {epoch+1:02} | Eval Time: {epoch_mins}m {epoch_secs}s')\n",
    "\n",
    "    wandb.log({\"Train_loss\": train_loss, \"Test_loss\": test_loss})\n",
    "    wandb.log({'BLEU_score(avg)':test_score['avg'],'1-gram':test_score['1-gram'],'2-gram':test_score['2-gram'],'3-gram':test_score['3-gram'],'4-gram':test_score['4-gram']})\n",
    "\n",
    "    # 儲存訓練好的模型\n",
    "    if(test_score['avg'] > best_score or test_loss < best_loss):\n",
    "    #if(test_loss < best_loss):\n",
    "      best_score = test_score['avg']\n",
    "      best_loss = test_loss\n",
    "      torch.save(model.state_dict(), '{}/MODELS/best_translation_model({}).pth'.format(dir_name,model_name))\n",
    "      print('== save model ==')\n",
    "    print('\\tTrain Loss: {:.3f} | Test Loss: {:.3f}'.format(train_loss, test_loss))\n",
    "    print('\\tBLEU Score:')\n",
    "    for k in test_score.keys():\n",
    "        print('\\t\\t{}: {:.3f}'.format(k,test_score[k]))\n",
    "\n",
    "\n",
    "    if(test_score['avg'] < 0.1 or best_score - test_score['avg'] > 5):\n",
    "      try:\n",
    "        model.load_state_dict(torch.load('{}/MODELS/best_translation_model({}).pth'.format(dir_name,model_name)))\n",
    "        print('==load best model==')\n",
    "      except:\n",
    "        model = TranslationModel(my_model).to(device)\n",
    "        #'nothing'\n",
    "\n",
    "\n",
    "    train_losses.append(train_loss)\n",
    "    test_losses.append(test_loss)\n",
    "    bleu_scores.append(test_score)\n",
    "\n",
    "    loss_history(train_losses, test_losses, path=model_name, to_show=False)\n",
    "    sacrebleu_history(bleu_scores, path=model_name, to_show=False)\n",
    "wandb.finish()"
   ]
  },
  {
   "cell_type": "code",
   "execution_count": null,
   "metadata": {
    "id": "ceNwfHY0W3rq"
   },
   "outputs": [],
   "source": [
    "bleu_score(test_source_sentences,model,tokenizer,max_length,device)"
   ]
  },
  {
   "cell_type": "code",
   "execution_count": null,
   "metadata": {
    "id": "d0aItTP3JE9b"
   },
   "outputs": [],
   "source": []
  },
  {
   "cell_type": "code",
   "execution_count": null,
   "metadata": {
    "id": "je6JQhwGJE9c"
   },
   "outputs": [],
   "source": [
    "from sacrebleu.metrics import BLEU\n",
    "\n",
    "def sacrebleu_score(source_sentences,target_sentences,lang='ko'):\n",
    "  global zh_tokenizer, ko_tokenizer, model, max_length, device\n",
    "  model.eval()\n",
    "  bleu = BLEU()\n",
    "  bleu.trg_lang = lang\n",
    "  avg_score = {'avg':0,'1-gram':0,'2-gram':0,'3-gram':0,'4-gram':0}\n",
    "\n",
    "  # 生成目標語句\n",
    "  generated_sentences = []\n",
    "  with tqdm(total = len(source_sentences)) as pbar:\n",
    "    for i in range(len(source_sentences)):\n",
    "        source_sentence = source_sentences[i]\n",
    "        target_sentence = target_sentences[i]\n",
    "        source_tokens = zh_tokenizer(source_sentence, padding=True, truncation=True, return_tensors='pt', max_length=max_length).to(device)\n",
    "        with torch.no_grad():\n",
    "            output = model(input_ids=source_tokens.input_ids, attention_mask=source_tokens.attention_mask)\n",
    "        generated_sentence = ko_tokenizer.decode(output[0].argmax(dim=-1), skip_special_tokens=True)\n",
    "        gen_sent = ''\n",
    "        for sent in generated_sentence:\n",
    "            gen_sent += sent\n",
    "        bleu_score = bleu.corpus_score([gen_sent],[[target_sentence]])\n",
    "        #print([gen_sent],[[target_sentence]])\n",
    "        #print(bleu_score)\n",
    "        avg_score['avg'] += bleu_score.score\n",
    "        avg_score['1-gram'] += bleu_score.precisions[0]\n",
    "        avg_score['2-gram'] += bleu_score.precisions[1]\n",
    "        avg_score['3-gram'] += bleu_score.precisions[2]\n",
    "        avg_score['4-gram'] += bleu_score.precisions[3]\n",
    "        pbar.update(1)\n",
    "  avg_score['avg'] /= len(source_sentences)\n",
    "  avg_score['1-gram'] /= len(source_sentences)\n",
    "  avg_score['2-gram'] /= len(source_sentences)\n",
    "  avg_score['3-gram'] /= len(source_sentences)\n",
    "  avg_score['4-gram'] /= len(source_sentences)\n",
    "\n",
    "  #print('gen:',generated_sentences,'tar:',[[sent] for sent in target_sentences],'sor',source_sentences)\n",
    "  #print('BLEU Score:',bleu.score)\n",
    "\n",
    "  return avg_score"
   ]
  },
  {
   "cell_type": "code",
   "execution_count": null,
   "metadata": {
    "id": "zuOJRIdhJE9c"
   },
   "outputs": [],
   "source": [
    "train_score = sacrebleu_score(TRAIN_ZSENT,TRAIN_KSENT)\n",
    "test_score = sacrebleu_score(TEST_ZSENT,TEST_KSENT)\n",
    "print('Train:',train_score)\n",
    "print('Test:',test_score)"
   ]
  }
 ],
 "metadata": {
  "accelerator": "GPU",
  "colab": {
   "gpuType": "T4",
   "provenance": [
    {
     "file_id": "1_EEW5tkhh2ILfM2VDVsWwM_CRutS5n2N",
     "timestamp": 1712825273579
    }
   ]
  },
  "kernelspec": {
   "display_name": "Python 3 (ipykernel)",
   "language": "python",
   "name": "python3"
  },
  "language_info": {
   "codemirror_mode": {
    "name": "ipython",
    "version": 3
   },
   "file_extension": ".py",
   "mimetype": "text/x-python",
   "name": "python",
   "nbconvert_exporter": "python",
   "pygments_lexer": "ipython3",
   "version": "3.8.10"
  },
  "widgets": {
   "application/vnd.jupyter.widget-state+json": {
    "0563cfc3dc7a4334a53b03abea67bf34": {
     "model_module": "@jupyter-widgets/base",
     "model_module_version": "1.2.0",
     "model_name": "LayoutModel",
     "state": {
      "_model_module": "@jupyter-widgets/base",
      "_model_module_version": "1.2.0",
      "_model_name": "LayoutModel",
      "_view_count": null,
      "_view_module": "@jupyter-widgets/base",
      "_view_module_version": "1.2.0",
      "_view_name": "LayoutView",
      "align_content": null,
      "align_items": null,
      "align_self": null,
      "border": null,
      "bottom": null,
      "display": null,
      "flex": null,
      "flex_flow": null,
      "grid_area": null,
      "grid_auto_columns": null,
      "grid_auto_flow": null,
      "grid_auto_rows": null,
      "grid_column": null,
      "grid_gap": null,
      "grid_row": null,
      "grid_template_areas": null,
      "grid_template_columns": null,
      "grid_template_rows": null,
      "height": null,
      "justify_content": null,
      "justify_items": null,
      "left": null,
      "margin": null,
      "max_height": null,
      "max_width": null,
      "min_height": null,
      "min_width": null,
      "object_fit": null,
      "object_position": null,
      "order": null,
      "overflow": null,
      "overflow_x": null,
      "overflow_y": null,
      "padding": null,
      "right": null,
      "top": null,
      "visibility": null,
      "width": null
     }
    },
    "0938947be70f49b4a2668b30e45b1aae": {
     "model_module": "@jupyter-widgets/controls",
     "model_module_version": "1.5.0",
     "model_name": "HTMLModel",
     "state": {
      "_dom_classes": [],
      "_model_module": "@jupyter-widgets/controls",
      "_model_module_version": "1.5.0",
      "_model_name": "HTMLModel",
      "_view_count": null,
      "_view_module": "@jupyter-widgets/controls",
      "_view_module_version": "1.5.0",
      "_view_name": "HTMLView",
      "description": "",
      "description_tooltip": null,
      "layout": "IPY_MODEL_82a629771ba64d33bd22296eea4422c9",
      "placeholder": "​",
      "style": "IPY_MODEL_f8101c683be54ab8896726653a59bf9f",
      "value": "config.json: 100%"
     }
    },
    "0b8c98a0d9b7446396cfbebb7356f676": {
     "model_module": "@jupyter-widgets/base",
     "model_module_version": "1.2.0",
     "model_name": "LayoutModel",
     "state": {
      "_model_module": "@jupyter-widgets/base",
      "_model_module_version": "1.2.0",
      "_model_name": "LayoutModel",
      "_view_count": null,
      "_view_module": "@jupyter-widgets/base",
      "_view_module_version": "1.2.0",
      "_view_name": "LayoutView",
      "align_content": null,
      "align_items": null,
      "align_self": null,
      "border": null,
      "bottom": null,
      "display": null,
      "flex": null,
      "flex_flow": null,
      "grid_area": null,
      "grid_auto_columns": null,
      "grid_auto_flow": null,
      "grid_auto_rows": null,
      "grid_column": null,
      "grid_gap": null,
      "grid_row": null,
      "grid_template_areas": null,
      "grid_template_columns": null,
      "grid_template_rows": null,
      "height": null,
      "justify_content": null,
      "justify_items": null,
      "left": null,
      "margin": null,
      "max_height": null,
      "max_width": null,
      "min_height": null,
      "min_width": null,
      "object_fit": null,
      "object_position": null,
      "order": null,
      "overflow": null,
      "overflow_x": null,
      "overflow_y": null,
      "padding": null,
      "right": null,
      "top": null,
      "visibility": null,
      "width": null
     }
    },
    "1215dbd825194793831cba54f5b2b798": {
     "model_module": "@jupyter-widgets/controls",
     "model_module_version": "1.5.0",
     "model_name": "DescriptionStyleModel",
     "state": {
      "_model_module": "@jupyter-widgets/controls",
      "_model_module_version": "1.5.0",
      "_model_name": "DescriptionStyleModel",
      "_view_count": null,
      "_view_module": "@jupyter-widgets/base",
      "_view_module_version": "1.2.0",
      "_view_name": "StyleView",
      "description_width": ""
     }
    },
    "134d4d993a884a6e8c4fc86dedb75b21": {
     "model_module": "@jupyter-widgets/base",
     "model_module_version": "1.2.0",
     "model_name": "LayoutModel",
     "state": {
      "_model_module": "@jupyter-widgets/base",
      "_model_module_version": "1.2.0",
      "_model_name": "LayoutModel",
      "_view_count": null,
      "_view_module": "@jupyter-widgets/base",
      "_view_module_version": "1.2.0",
      "_view_name": "LayoutView",
      "align_content": null,
      "align_items": null,
      "align_self": null,
      "border": null,
      "bottom": null,
      "display": null,
      "flex": null,
      "flex_flow": null,
      "grid_area": null,
      "grid_auto_columns": null,
      "grid_auto_flow": null,
      "grid_auto_rows": null,
      "grid_column": null,
      "grid_gap": null,
      "grid_row": null,
      "grid_template_areas": null,
      "grid_template_columns": null,
      "grid_template_rows": null,
      "height": null,
      "justify_content": null,
      "justify_items": null,
      "left": null,
      "margin": null,
      "max_height": null,
      "max_width": null,
      "min_height": null,
      "min_width": null,
      "object_fit": null,
      "object_position": null,
      "order": null,
      "overflow": null,
      "overflow_x": null,
      "overflow_y": null,
      "padding": null,
      "right": null,
      "top": null,
      "visibility": null,
      "width": null
     }
    },
    "14c4da599454480886928b62d789a0d5": {
     "model_module": "@jupyter-widgets/controls",
     "model_module_version": "1.5.0",
     "model_name": "FloatProgressModel",
     "state": {
      "_dom_classes": [],
      "_model_module": "@jupyter-widgets/controls",
      "_model_module_version": "1.5.0",
      "_model_name": "FloatProgressModel",
      "_view_count": null,
      "_view_module": "@jupyter-widgets/controls",
      "_view_module_version": "1.5.0",
      "_view_name": "ProgressView",
      "bar_style": "success",
      "description": "",
      "description_tooltip": null,
      "layout": "IPY_MODEL_46738251f2a847faaa21f90ce1c8725f",
      "max": 49,
      "min": 0,
      "orientation": "horizontal",
      "style": "IPY_MODEL_6531766795024285ab5dcb1828072349",
      "value": 49
     }
    },
    "1586223071164a14abc0a26dc6c39df0": {
     "model_module": "@jupyter-widgets/controls",
     "model_module_version": "1.5.0",
     "model_name": "HBoxModel",
     "state": {
      "_dom_classes": [],
      "_model_module": "@jupyter-widgets/controls",
      "_model_module_version": "1.5.0",
      "_model_name": "HBoxModel",
      "_view_count": null,
      "_view_module": "@jupyter-widgets/controls",
      "_view_module_version": "1.5.0",
      "_view_name": "HBoxView",
      "box_style": "",
      "children": [
       "IPY_MODEL_66de85187d564d16953e5d45a48466d5",
       "IPY_MODEL_527e76b798d444fb9c088467f8fa9e4c",
       "IPY_MODEL_b4da9eee63a84ad383f189e13a6d0fa9"
      ],
      "layout": "IPY_MODEL_538dd1ab4c82412b83dee2d6f709f994"
     }
    },
    "1999cc3158b84ccfb3fc1049ded4dfb1": {
     "model_module": "@jupyter-widgets/base",
     "model_module_version": "1.2.0",
     "model_name": "LayoutModel",
     "state": {
      "_model_module": "@jupyter-widgets/base",
      "_model_module_version": "1.2.0",
      "_model_name": "LayoutModel",
      "_view_count": null,
      "_view_module": "@jupyter-widgets/base",
      "_view_module_version": "1.2.0",
      "_view_name": "LayoutView",
      "align_content": null,
      "align_items": null,
      "align_self": null,
      "border": null,
      "bottom": null,
      "display": null,
      "flex": null,
      "flex_flow": null,
      "grid_area": null,
      "grid_auto_columns": null,
      "grid_auto_flow": null,
      "grid_auto_rows": null,
      "grid_column": null,
      "grid_gap": null,
      "grid_row": null,
      "grid_template_areas": null,
      "grid_template_columns": null,
      "grid_template_rows": null,
      "height": null,
      "justify_content": null,
      "justify_items": null,
      "left": null,
      "margin": null,
      "max_height": null,
      "max_width": null,
      "min_height": null,
      "min_width": null,
      "object_fit": null,
      "object_position": null,
      "order": null,
      "overflow": null,
      "overflow_x": null,
      "overflow_y": null,
      "padding": null,
      "right": null,
      "top": null,
      "visibility": null,
      "width": null
     }
    },
    "199a9430c191421ea631a04bc98d0cbf": {
     "model_module": "@jupyter-widgets/base",
     "model_module_version": "1.2.0",
     "model_name": "LayoutModel",
     "state": {
      "_model_module": "@jupyter-widgets/base",
      "_model_module_version": "1.2.0",
      "_model_name": "LayoutModel",
      "_view_count": null,
      "_view_module": "@jupyter-widgets/base",
      "_view_module_version": "1.2.0",
      "_view_name": "LayoutView",
      "align_content": null,
      "align_items": null,
      "align_self": null,
      "border": null,
      "bottom": null,
      "display": null,
      "flex": null,
      "flex_flow": null,
      "grid_area": null,
      "grid_auto_columns": null,
      "grid_auto_flow": null,
      "grid_auto_rows": null,
      "grid_column": null,
      "grid_gap": null,
      "grid_row": null,
      "grid_template_areas": null,
      "grid_template_columns": null,
      "grid_template_rows": null,
      "height": null,
      "justify_content": null,
      "justify_items": null,
      "left": null,
      "margin": null,
      "max_height": null,
      "max_width": null,
      "min_height": null,
      "min_width": null,
      "object_fit": null,
      "object_position": null,
      "order": null,
      "overflow": null,
      "overflow_x": null,
      "overflow_y": null,
      "padding": null,
      "right": null,
      "top": null,
      "visibility": null,
      "width": null
     }
    },
    "1cba16906e3147ecadbc6706de0c39d6": {
     "model_module": "@jupyter-widgets/base",
     "model_module_version": "1.2.0",
     "model_name": "LayoutModel",
     "state": {
      "_model_module": "@jupyter-widgets/base",
      "_model_module_version": "1.2.0",
      "_model_name": "LayoutModel",
      "_view_count": null,
      "_view_module": "@jupyter-widgets/base",
      "_view_module_version": "1.2.0",
      "_view_name": "LayoutView",
      "align_content": null,
      "align_items": null,
      "align_self": null,
      "border": null,
      "bottom": null,
      "display": null,
      "flex": null,
      "flex_flow": null,
      "grid_area": null,
      "grid_auto_columns": null,
      "grid_auto_flow": null,
      "grid_auto_rows": null,
      "grid_column": null,
      "grid_gap": null,
      "grid_row": null,
      "grid_template_areas": null,
      "grid_template_columns": null,
      "grid_template_rows": null,
      "height": null,
      "justify_content": null,
      "justify_items": null,
      "left": null,
      "margin": null,
      "max_height": null,
      "max_width": null,
      "min_height": null,
      "min_width": null,
      "object_fit": null,
      "object_position": null,
      "order": null,
      "overflow": null,
      "overflow_x": null,
      "overflow_y": null,
      "padding": null,
      "right": null,
      "top": null,
      "visibility": null,
      "width": null
     }
    },
    "1de1d369d5294e5a85c9916b298fe2f1": {
     "model_module": "@jupyter-widgets/base",
     "model_module_version": "1.2.0",
     "model_name": "LayoutModel",
     "state": {
      "_model_module": "@jupyter-widgets/base",
      "_model_module_version": "1.2.0",
      "_model_name": "LayoutModel",
      "_view_count": null,
      "_view_module": "@jupyter-widgets/base",
      "_view_module_version": "1.2.0",
      "_view_name": "LayoutView",
      "align_content": null,
      "align_items": null,
      "align_self": null,
      "border": null,
      "bottom": null,
      "display": null,
      "flex": null,
      "flex_flow": null,
      "grid_area": null,
      "grid_auto_columns": null,
      "grid_auto_flow": null,
      "grid_auto_rows": null,
      "grid_column": null,
      "grid_gap": null,
      "grid_row": null,
      "grid_template_areas": null,
      "grid_template_columns": null,
      "grid_template_rows": null,
      "height": null,
      "justify_content": null,
      "justify_items": null,
      "left": null,
      "margin": null,
      "max_height": null,
      "max_width": null,
      "min_height": null,
      "min_width": null,
      "object_fit": null,
      "object_position": null,
      "order": null,
      "overflow": null,
      "overflow_x": null,
      "overflow_y": null,
      "padding": null,
      "right": null,
      "top": null,
      "visibility": null,
      "width": null
     }
    },
    "2ad9443fd306496a9cc4f1f3099c9fc6": {
     "model_module": "@jupyter-widgets/controls",
     "model_module_version": "1.5.0",
     "model_name": "HBoxModel",
     "state": {
      "_dom_classes": [],
      "_model_module": "@jupyter-widgets/controls",
      "_model_module_version": "1.5.0",
      "_model_name": "HBoxModel",
      "_view_count": null,
      "_view_module": "@jupyter-widgets/controls",
      "_view_module_version": "1.5.0",
      "_view_name": "HBoxView",
      "box_style": "",
      "children": [
       "IPY_MODEL_e01da5376ae845a99920b58dd1478b08",
       "IPY_MODEL_b6ec422425164c9480772f6d099b1331",
       "IPY_MODEL_9d654e3679c244f4b41eae8c9bfa137a"
      ],
      "layout": "IPY_MODEL_2e2201828e874d6088744baa1c032eb9"
     }
    },
    "2cd96637c2054f7e8489493d5281508c": {
     "model_module": "@jupyter-widgets/controls",
     "model_module_version": "1.5.0",
     "model_name": "FloatProgressModel",
     "state": {
      "_dom_classes": [],
      "_model_module": "@jupyter-widgets/controls",
      "_model_module_version": "1.5.0",
      "_model_name": "FloatProgressModel",
      "_view_count": null,
      "_view_module": "@jupyter-widgets/controls",
      "_view_module_version": "1.5.0",
      "_view_name": "ProgressView",
      "bar_style": "success",
      "description": "",
      "description_tooltip": null,
      "layout": "IPY_MODEL_5db7d093c33b4e2a8082774769259371",
      "max": 625,
      "min": 0,
      "orientation": "horizontal",
      "style": "IPY_MODEL_bb325f7be9334219a976b70c49578c28",
      "value": 625
     }
    },
    "2e2201828e874d6088744baa1c032eb9": {
     "model_module": "@jupyter-widgets/base",
     "model_module_version": "1.2.0",
     "model_name": "LayoutModel",
     "state": {
      "_model_module": "@jupyter-widgets/base",
      "_model_module_version": "1.2.0",
      "_model_name": "LayoutModel",
      "_view_count": null,
      "_view_module": "@jupyter-widgets/base",
      "_view_module_version": "1.2.0",
      "_view_name": "LayoutView",
      "align_content": null,
      "align_items": null,
      "align_self": null,
      "border": null,
      "bottom": null,
      "display": null,
      "flex": null,
      "flex_flow": null,
      "grid_area": null,
      "grid_auto_columns": null,
      "grid_auto_flow": null,
      "grid_auto_rows": null,
      "grid_column": null,
      "grid_gap": null,
      "grid_row": null,
      "grid_template_areas": null,
      "grid_template_columns": null,
      "grid_template_rows": null,
      "height": null,
      "justify_content": null,
      "justify_items": null,
      "left": null,
      "margin": null,
      "max_height": null,
      "max_width": null,
      "min_height": null,
      "min_width": null,
      "object_fit": null,
      "object_position": null,
      "order": null,
      "overflow": null,
      "overflow_x": null,
      "overflow_y": null,
      "padding": null,
      "right": null,
      "top": null,
      "visibility": null,
      "width": null
     }
    },
    "2f0faa8fecf540a1b3683e4149e918a1": {
     "model_module": "@jupyter-widgets/controls",
     "model_module_version": "1.5.0",
     "model_name": "HTMLModel",
     "state": {
      "_dom_classes": [],
      "_model_module": "@jupyter-widgets/controls",
      "_model_module_version": "1.5.0",
      "_model_name": "HTMLModel",
      "_view_count": null,
      "_view_module": "@jupyter-widgets/controls",
      "_view_module_version": "1.5.0",
      "_view_name": "HTMLView",
      "description": "",
      "description_tooltip": null,
      "layout": "IPY_MODEL_83476db4bd034e53a472a3b5314bf8a3",
      "placeholder": "​",
      "style": "IPY_MODEL_6b6f6acd41be4f95adc01b00db0841f9",
      "value": " 725/725 [00:00&lt;00:00, 8.40kB/s]"
     }
    },
    "325e55b2b47c4933bd023aa78789f013": {
     "model_module": "@jupyter-widgets/controls",
     "model_module_version": "1.5.0",
     "model_name": "HBoxModel",
     "state": {
      "_dom_classes": [],
      "_model_module": "@jupyter-widgets/controls",
      "_model_module_version": "1.5.0",
      "_model_name": "HBoxModel",
      "_view_count": null,
      "_view_module": "@jupyter-widgets/controls",
      "_view_module_version": "1.5.0",
      "_view_name": "HBoxView",
      "box_style": "",
      "children": [
       "IPY_MODEL_3cde161cbdae40d78ce2323935ecf440",
       "IPY_MODEL_ffc09a0d5e56437296f9255530ef7f48",
       "IPY_MODEL_c833622f56094f25be9ad5dfa5fb6421"
      ],
      "layout": "IPY_MODEL_f0b284b5018e4ca9b4e9620adc24f758"
     }
    },
    "32d07b4c240d44f5b7b9894bca42540f": {
     "model_module": "@jupyter-widgets/base",
     "model_module_version": "1.2.0",
     "model_name": "LayoutModel",
     "state": {
      "_model_module": "@jupyter-widgets/base",
      "_model_module_version": "1.2.0",
      "_model_name": "LayoutModel",
      "_view_count": null,
      "_view_module": "@jupyter-widgets/base",
      "_view_module_version": "1.2.0",
      "_view_name": "LayoutView",
      "align_content": null,
      "align_items": null,
      "align_self": null,
      "border": null,
      "bottom": null,
      "display": null,
      "flex": null,
      "flex_flow": null,
      "grid_area": null,
      "grid_auto_columns": null,
      "grid_auto_flow": null,
      "grid_auto_rows": null,
      "grid_column": null,
      "grid_gap": null,
      "grid_row": null,
      "grid_template_areas": null,
      "grid_template_columns": null,
      "grid_template_rows": null,
      "height": null,
      "justify_content": null,
      "justify_items": null,
      "left": null,
      "margin": null,
      "max_height": null,
      "max_width": null,
      "min_height": null,
      "min_width": null,
      "object_fit": null,
      "object_position": null,
      "order": null,
      "overflow": null,
      "overflow_x": null,
      "overflow_y": null,
      "padding": null,
      "right": null,
      "top": null,
      "visibility": null,
      "width": null
     }
    },
    "3348d44475c94cb1b98061bfcb53900e": {
     "model_module": "@jupyter-widgets/base",
     "model_module_version": "1.2.0",
     "model_name": "LayoutModel",
     "state": {
      "_model_module": "@jupyter-widgets/base",
      "_model_module_version": "1.2.0",
      "_model_name": "LayoutModel",
      "_view_count": null,
      "_view_module": "@jupyter-widgets/base",
      "_view_module_version": "1.2.0",
      "_view_name": "LayoutView",
      "align_content": null,
      "align_items": null,
      "align_self": null,
      "border": null,
      "bottom": null,
      "display": null,
      "flex": null,
      "flex_flow": null,
      "grid_area": null,
      "grid_auto_columns": null,
      "grid_auto_flow": null,
      "grid_auto_rows": null,
      "grid_column": null,
      "grid_gap": null,
      "grid_row": null,
      "grid_template_areas": null,
      "grid_template_columns": null,
      "grid_template_rows": null,
      "height": null,
      "justify_content": null,
      "justify_items": null,
      "left": null,
      "margin": null,
      "max_height": null,
      "max_width": null,
      "min_height": null,
      "min_width": null,
      "object_fit": null,
      "object_position": null,
      "order": null,
      "overflow": null,
      "overflow_x": null,
      "overflow_y": null,
      "padding": null,
      "right": null,
      "top": null,
      "visibility": null,
      "width": null
     }
    },
    "34720f0f64834830b1c090e5b86ca5c6": {
     "model_module": "@jupyter-widgets/controls",
     "model_module_version": "1.5.0",
     "model_name": "FloatProgressModel",
     "state": {
      "_dom_classes": [],
      "_model_module": "@jupyter-widgets/controls",
      "_model_module_version": "1.5.0",
      "_model_name": "FloatProgressModel",
      "_view_count": null,
      "_view_module": "@jupyter-widgets/controls",
      "_view_module_version": "1.5.0",
      "_view_name": "ProgressView",
      "bar_style": "success",
      "description": "",
      "description_tooltip": null,
      "layout": "IPY_MODEL_f3a35087770b400fa5877ce0e6842536",
      "max": 1961828,
      "min": 0,
      "orientation": "horizontal",
      "style": "IPY_MODEL_89cac8a78da644598575401b3bd024d9",
      "value": 1961828
     }
    },
    "37f4b8b4155f46c5a629d1fe9c52f8a8": {
     "model_module": "@jupyter-widgets/base",
     "model_module_version": "1.2.0",
     "model_name": "LayoutModel",
     "state": {
      "_model_module": "@jupyter-widgets/base",
      "_model_module_version": "1.2.0",
      "_model_name": "LayoutModel",
      "_view_count": null,
      "_view_module": "@jupyter-widgets/base",
      "_view_module_version": "1.2.0",
      "_view_name": "LayoutView",
      "align_content": null,
      "align_items": null,
      "align_self": null,
      "border": null,
      "bottom": null,
      "display": null,
      "flex": null,
      "flex_flow": null,
      "grid_area": null,
      "grid_auto_columns": null,
      "grid_auto_flow": null,
      "grid_auto_rows": null,
      "grid_column": null,
      "grid_gap": null,
      "grid_row": null,
      "grid_template_areas": null,
      "grid_template_columns": null,
      "grid_template_rows": null,
      "height": null,
      "justify_content": null,
      "justify_items": null,
      "left": null,
      "margin": null,
      "max_height": null,
      "max_width": null,
      "min_height": null,
      "min_width": null,
      "object_fit": null,
      "object_position": null,
      "order": null,
      "overflow": null,
      "overflow_x": null,
      "overflow_y": null,
      "padding": null,
      "right": null,
      "top": null,
      "visibility": null,
      "width": null
     }
    },
    "3a509e41fb3249de86acbc4c81e186f2": {
     "model_module": "@jupyter-widgets/controls",
     "model_module_version": "1.5.0",
     "model_name": "FloatProgressModel",
     "state": {
      "_dom_classes": [],
      "_model_module": "@jupyter-widgets/controls",
      "_model_module_version": "1.5.0",
      "_model_name": "FloatProgressModel",
      "_view_count": null,
      "_view_module": "@jupyter-widgets/controls",
      "_view_module_version": "1.5.0",
      "_view_name": "ProgressView",
      "bar_style": "success",
      "description": "",
      "description_tooltip": null,
      "layout": "IPY_MODEL_4cabe551ea5b4e138dba6637a2e80786",
      "max": 344259,
      "min": 0,
      "orientation": "horizontal",
      "style": "IPY_MODEL_83dcd01f146047b099e2de0d9a11361d",
      "value": 344259
     }
    },
    "3b8add05787b4b31b9457d58cfbecbb8": {
     "model_module": "@jupyter-widgets/controls",
     "model_module_version": "1.5.0",
     "model_name": "HTMLModel",
     "state": {
      "_dom_classes": [],
      "_model_module": "@jupyter-widgets/controls",
      "_model_module_version": "1.5.0",
      "_model_name": "HTMLModel",
      "_view_count": null,
      "_view_module": "@jupyter-widgets/controls",
      "_view_module_version": "1.5.0",
      "_view_name": "HTMLView",
      "description": "",
      "description_tooltip": null,
      "layout": "IPY_MODEL_9ec296a8acac491e88379978ac99e020",
      "placeholder": "​",
      "style": "IPY_MODEL_65acee876eda46539a7a46461722605d",
      "value": " 344k/344k [00:00&lt;00:00, 5.53MB/s]"
     }
    },
    "3bb347ee412446e19040d3499a68a31c": {
     "model_module": "@jupyter-widgets/controls",
     "model_module_version": "1.5.0",
     "model_name": "FloatProgressModel",
     "state": {
      "_dom_classes": [],
      "_model_module": "@jupyter-widgets/controls",
      "_model_module_version": "1.5.0",
      "_model_name": "FloatProgressModel",
      "_view_count": null,
      "_view_module": "@jupyter-widgets/controls",
      "_view_module_version": "1.5.0",
      "_view_name": "ProgressView",
      "bar_style": "success",
      "description": "",
      "description_tooltip": null,
      "layout": "IPY_MODEL_3f5d8280b13f4a86a3604fd8a697a381",
      "max": 714290682,
      "min": 0,
      "orientation": "horizontal",
      "style": "IPY_MODEL_dd0d07a703ed49a98f58ec914582192c",
      "value": 714290682
     }
    },
    "3cde161cbdae40d78ce2323935ecf440": {
     "model_module": "@jupyter-widgets/controls",
     "model_module_version": "1.5.0",
     "model_name": "HTMLModel",
     "state": {
      "_dom_classes": [],
      "_model_module": "@jupyter-widgets/controls",
      "_model_module_version": "1.5.0",
      "_model_name": "HTMLModel",
      "_view_count": null,
      "_view_module": "@jupyter-widgets/controls",
      "_view_module_version": "1.5.0",
      "_view_name": "HTMLView",
      "description": "",
      "description_tooltip": null,
      "layout": "IPY_MODEL_c69c35aff6b0439da2a52fb5fc7e1780",
      "placeholder": "​",
      "style": "IPY_MODEL_68d88b3bfd46425cb026f7e0d6ebadd3",
      "value": "config.json: 100%"
     }
    },
    "3ec6fe15d6ff44958521f079b815dadf": {
     "model_module": "@jupyter-widgets/base",
     "model_module_version": "1.2.0",
     "model_name": "LayoutModel",
     "state": {
      "_model_module": "@jupyter-widgets/base",
      "_model_module_version": "1.2.0",
      "_model_name": "LayoutModel",
      "_view_count": null,
      "_view_module": "@jupyter-widgets/base",
      "_view_module_version": "1.2.0",
      "_view_name": "LayoutView",
      "align_content": null,
      "align_items": null,
      "align_self": null,
      "border": null,
      "bottom": null,
      "display": null,
      "flex": null,
      "flex_flow": null,
      "grid_area": null,
      "grid_auto_columns": null,
      "grid_auto_flow": null,
      "grid_auto_rows": null,
      "grid_column": null,
      "grid_gap": null,
      "grid_row": null,
      "grid_template_areas": null,
      "grid_template_columns": null,
      "grid_template_rows": null,
      "height": null,
      "justify_content": null,
      "justify_items": null,
      "left": null,
      "margin": null,
      "max_height": null,
      "max_width": null,
      "min_height": null,
      "min_width": null,
      "object_fit": null,
      "object_position": null,
      "order": null,
      "overflow": null,
      "overflow_x": null,
      "overflow_y": null,
      "padding": null,
      "right": null,
      "top": null,
      "visibility": null,
      "width": null
     }
    },
    "3f3d581aa0f4400aae40b982c683803b": {
     "model_module": "@jupyter-widgets/controls",
     "model_module_version": "1.5.0",
     "model_name": "HTMLModel",
     "state": {
      "_dom_classes": [],
      "_model_module": "@jupyter-widgets/controls",
      "_model_module_version": "1.5.0",
      "_model_name": "HTMLModel",
      "_view_count": null,
      "_view_module": "@jupyter-widgets/controls",
      "_view_module_version": "1.5.0",
      "_view_name": "HTMLView",
      "description": "",
      "description_tooltip": null,
      "layout": "IPY_MODEL_916ee1b5d0534efd9330e448e5758fd0",
      "placeholder": "​",
      "style": "IPY_MODEL_f4e51e3711a14c9b9a3313416edab4dd",
      "value": "vocab.txt: 100%"
     }
    },
    "3f5d8280b13f4a86a3604fd8a697a381": {
     "model_module": "@jupyter-widgets/base",
     "model_module_version": "1.2.0",
     "model_name": "LayoutModel",
     "state": {
      "_model_module": "@jupyter-widgets/base",
      "_model_module_version": "1.2.0",
      "_model_name": "LayoutModel",
      "_view_count": null,
      "_view_module": "@jupyter-widgets/base",
      "_view_module_version": "1.2.0",
      "_view_name": "LayoutView",
      "align_content": null,
      "align_items": null,
      "align_self": null,
      "border": null,
      "bottom": null,
      "display": null,
      "flex": null,
      "flex_flow": null,
      "grid_area": null,
      "grid_auto_columns": null,
      "grid_auto_flow": null,
      "grid_auto_rows": null,
      "grid_column": null,
      "grid_gap": null,
      "grid_row": null,
      "grid_template_areas": null,
      "grid_template_columns": null,
      "grid_template_rows": null,
      "height": null,
      "justify_content": null,
      "justify_items": null,
      "left": null,
      "margin": null,
      "max_height": null,
      "max_width": null,
      "min_height": null,
      "min_width": null,
      "object_fit": null,
      "object_position": null,
      "order": null,
      "overflow": null,
      "overflow_x": null,
      "overflow_y": null,
      "padding": null,
      "right": null,
      "top": null,
      "visibility": null,
      "width": null
     }
    },
    "4393dd2d135842b5bedbe3c0c9bace91": {
     "model_module": "@jupyter-widgets/controls",
     "model_module_version": "1.5.0",
     "model_name": "ProgressStyleModel",
     "state": {
      "_model_module": "@jupyter-widgets/controls",
      "_model_module_version": "1.5.0",
      "_model_name": "ProgressStyleModel",
      "_view_count": null,
      "_view_module": "@jupyter-widgets/base",
      "_view_module_version": "1.2.0",
      "_view_name": "StyleView",
      "bar_color": null,
      "description_width": ""
     }
    },
    "46738251f2a847faaa21f90ce1c8725f": {
     "model_module": "@jupyter-widgets/base",
     "model_module_version": "1.2.0",
     "model_name": "LayoutModel",
     "state": {
      "_model_module": "@jupyter-widgets/base",
      "_model_module_version": "1.2.0",
      "_model_name": "LayoutModel",
      "_view_count": null,
      "_view_module": "@jupyter-widgets/base",
      "_view_module_version": "1.2.0",
      "_view_name": "LayoutView",
      "align_content": null,
      "align_items": null,
      "align_self": null,
      "border": null,
      "bottom": null,
      "display": null,
      "flex": null,
      "flex_flow": null,
      "grid_area": null,
      "grid_auto_columns": null,
      "grid_auto_flow": null,
      "grid_auto_rows": null,
      "grid_column": null,
      "grid_gap": null,
      "grid_row": null,
      "grid_template_areas": null,
      "grid_template_columns": null,
      "grid_template_rows": null,
      "height": null,
      "justify_content": null,
      "justify_items": null,
      "left": null,
      "margin": null,
      "max_height": null,
      "max_width": null,
      "min_height": null,
      "min_width": null,
      "object_fit": null,
      "object_position": null,
      "order": null,
      "overflow": null,
      "overflow_x": null,
      "overflow_y": null,
      "padding": null,
      "right": null,
      "top": null,
      "visibility": null,
      "width": null
     }
    },
    "4696479d8ba840738d9a0bbec847c17b": {
     "model_module": "@jupyter-widgets/controls",
     "model_module_version": "1.5.0",
     "model_name": "HBoxModel",
     "state": {
      "_dom_classes": [],
      "_model_module": "@jupyter-widgets/controls",
      "_model_module_version": "1.5.0",
      "_model_name": "HBoxModel",
      "_view_count": null,
      "_view_module": "@jupyter-widgets/controls",
      "_view_module_version": "1.5.0",
      "_view_name": "HBoxView",
      "box_style": "",
      "children": [
       "IPY_MODEL_ed194bf6757a450f96d791fd7e0ecbd0",
       "IPY_MODEL_3bb347ee412446e19040d3499a68a31c",
       "IPY_MODEL_4fc089ca629e46179c17939fa94782bf"
      ],
      "layout": "IPY_MODEL_1cba16906e3147ecadbc6706de0c39d6"
     }
    },
    "4cabe551ea5b4e138dba6637a2e80786": {
     "model_module": "@jupyter-widgets/base",
     "model_module_version": "1.2.0",
     "model_name": "LayoutModel",
     "state": {
      "_model_module": "@jupyter-widgets/base",
      "_model_module_version": "1.2.0",
      "_model_name": "LayoutModel",
      "_view_count": null,
      "_view_module": "@jupyter-widgets/base",
      "_view_module_version": "1.2.0",
      "_view_name": "LayoutView",
      "align_content": null,
      "align_items": null,
      "align_self": null,
      "border": null,
      "bottom": null,
      "display": null,
      "flex": null,
      "flex_flow": null,
      "grid_area": null,
      "grid_auto_columns": null,
      "grid_auto_flow": null,
      "grid_auto_rows": null,
      "grid_column": null,
      "grid_gap": null,
      "grid_row": null,
      "grid_template_areas": null,
      "grid_template_columns": null,
      "grid_template_rows": null,
      "height": null,
      "justify_content": null,
      "justify_items": null,
      "left": null,
      "margin": null,
      "max_height": null,
      "max_width": null,
      "min_height": null,
      "min_width": null,
      "object_fit": null,
      "object_position": null,
      "order": null,
      "overflow": null,
      "overflow_x": null,
      "overflow_y": null,
      "padding": null,
      "right": null,
      "top": null,
      "visibility": null,
      "width": null
     }
    },
    "4fc089ca629e46179c17939fa94782bf": {
     "model_module": "@jupyter-widgets/controls",
     "model_module_version": "1.5.0",
     "model_name": "HTMLModel",
     "state": {
      "_dom_classes": [],
      "_model_module": "@jupyter-widgets/controls",
      "_model_module_version": "1.5.0",
      "_model_name": "HTMLModel",
      "_view_count": null,
      "_view_module": "@jupyter-widgets/controls",
      "_view_module_version": "1.5.0",
      "_view_name": "HTMLView",
      "description": "",
      "description_tooltip": null,
      "layout": "IPY_MODEL_32d07b4c240d44f5b7b9894bca42540f",
      "placeholder": "​",
      "style": "IPY_MODEL_eea8c8d16bc04a93af2aabf6b526728b",
      "value": " 714M/714M [00:05&lt;00:00, 153MB/s]"
     }
    },
    "52362e3759cb4b3f808c602671700337": {
     "model_module": "@jupyter-widgets/base",
     "model_module_version": "1.2.0",
     "model_name": "LayoutModel",
     "state": {
      "_model_module": "@jupyter-widgets/base",
      "_model_module_version": "1.2.0",
      "_model_name": "LayoutModel",
      "_view_count": null,
      "_view_module": "@jupyter-widgets/base",
      "_view_module_version": "1.2.0",
      "_view_name": "LayoutView",
      "align_content": null,
      "align_items": null,
      "align_self": null,
      "border": null,
      "bottom": null,
      "display": null,
      "flex": null,
      "flex_flow": null,
      "grid_area": null,
      "grid_auto_columns": null,
      "grid_auto_flow": null,
      "grid_auto_rows": null,
      "grid_column": null,
      "grid_gap": null,
      "grid_row": null,
      "grid_template_areas": null,
      "grid_template_columns": null,
      "grid_template_rows": null,
      "height": null,
      "justify_content": null,
      "justify_items": null,
      "left": null,
      "margin": null,
      "max_height": null,
      "max_width": null,
      "min_height": null,
      "min_width": null,
      "object_fit": null,
      "object_position": null,
      "order": null,
      "overflow": null,
      "overflow_x": null,
      "overflow_y": null,
      "padding": null,
      "right": null,
      "top": null,
      "visibility": null,
      "width": null
     }
    },
    "527e76b798d444fb9c088467f8fa9e4c": {
     "model_module": "@jupyter-widgets/controls",
     "model_module_version": "1.5.0",
     "model_name": "FloatProgressModel",
     "state": {
      "_dom_classes": [],
      "_model_module": "@jupyter-widgets/controls",
      "_model_module_version": "1.5.0",
      "_model_name": "FloatProgressModel",
      "_view_count": null,
      "_view_module": "@jupyter-widgets/controls",
      "_view_module_version": "1.5.0",
      "_view_name": "ProgressView",
      "bar_style": "success",
      "description": "",
      "description_tooltip": null,
      "layout": "IPY_MODEL_611e6c598aa3483bb2c0143f2cd498cd",
      "max": 995526,
      "min": 0,
      "orientation": "horizontal",
      "style": "IPY_MODEL_d8b4b59278814e38a249ff6e7a1b0885",
      "value": 995526
     }
    },
    "538dd1ab4c82412b83dee2d6f709f994": {
     "model_module": "@jupyter-widgets/base",
     "model_module_version": "1.2.0",
     "model_name": "LayoutModel",
     "state": {
      "_model_module": "@jupyter-widgets/base",
      "_model_module_version": "1.2.0",
      "_model_name": "LayoutModel",
      "_view_count": null,
      "_view_module": "@jupyter-widgets/base",
      "_view_module_version": "1.2.0",
      "_view_name": "LayoutView",
      "align_content": null,
      "align_items": null,
      "align_self": null,
      "border": null,
      "bottom": null,
      "display": null,
      "flex": null,
      "flex_flow": null,
      "grid_area": null,
      "grid_auto_columns": null,
      "grid_auto_flow": null,
      "grid_auto_rows": null,
      "grid_column": null,
      "grid_gap": null,
      "grid_row": null,
      "grid_template_areas": null,
      "grid_template_columns": null,
      "grid_template_rows": null,
      "height": null,
      "justify_content": null,
      "justify_items": null,
      "left": null,
      "margin": null,
      "max_height": null,
      "max_width": null,
      "min_height": null,
      "min_width": null,
      "object_fit": null,
      "object_position": null,
      "order": null,
      "overflow": null,
      "overflow_x": null,
      "overflow_y": null,
      "padding": null,
      "right": null,
      "top": null,
      "visibility": null,
      "width": null
     }
    },
    "569fcbc6a1c44d52b64226dbe4d5451e": {
     "model_module": "@jupyter-widgets/base",
     "model_module_version": "1.2.0",
     "model_name": "LayoutModel",
     "state": {
      "_model_module": "@jupyter-widgets/base",
      "_model_module_version": "1.2.0",
      "_model_name": "LayoutModel",
      "_view_count": null,
      "_view_module": "@jupyter-widgets/base",
      "_view_module_version": "1.2.0",
      "_view_name": "LayoutView",
      "align_content": null,
      "align_items": null,
      "align_self": null,
      "border": null,
      "bottom": null,
      "display": null,
      "flex": null,
      "flex_flow": null,
      "grid_area": null,
      "grid_auto_columns": null,
      "grid_auto_flow": null,
      "grid_auto_rows": null,
      "grid_column": null,
      "grid_gap": null,
      "grid_row": null,
      "grid_template_areas": null,
      "grid_template_columns": null,
      "grid_template_rows": null,
      "height": null,
      "justify_content": null,
      "justify_items": null,
      "left": null,
      "margin": null,
      "max_height": null,
      "max_width": null,
      "min_height": null,
      "min_width": null,
      "object_fit": null,
      "object_position": null,
      "order": null,
      "overflow": null,
      "overflow_x": null,
      "overflow_y": null,
      "padding": null,
      "right": null,
      "top": null,
      "visibility": null,
      "width": null
     }
    },
    "56faccb7dcd241fba27f69528524f2b1": {
     "model_module": "@jupyter-widgets/base",
     "model_module_version": "1.2.0",
     "model_name": "LayoutModel",
     "state": {
      "_model_module": "@jupyter-widgets/base",
      "_model_module_version": "1.2.0",
      "_model_name": "LayoutModel",
      "_view_count": null,
      "_view_module": "@jupyter-widgets/base",
      "_view_module_version": "1.2.0",
      "_view_name": "LayoutView",
      "align_content": null,
      "align_items": null,
      "align_self": null,
      "border": null,
      "bottom": null,
      "display": null,
      "flex": null,
      "flex_flow": null,
      "grid_area": null,
      "grid_auto_columns": null,
      "grid_auto_flow": null,
      "grid_auto_rows": null,
      "grid_column": null,
      "grid_gap": null,
      "grid_row": null,
      "grid_template_areas": null,
      "grid_template_columns": null,
      "grid_template_rows": null,
      "height": null,
      "justify_content": null,
      "justify_items": null,
      "left": null,
      "margin": null,
      "max_height": null,
      "max_width": null,
      "min_height": null,
      "min_width": null,
      "object_fit": null,
      "object_position": null,
      "order": null,
      "overflow": null,
      "overflow_x": null,
      "overflow_y": null,
      "padding": null,
      "right": null,
      "top": null,
      "visibility": null,
      "width": null
     }
    },
    "56fd94b10ecc43178e1865f37f5e20e4": {
     "model_module": "@jupyter-widgets/controls",
     "model_module_version": "1.5.0",
     "model_name": "DescriptionStyleModel",
     "state": {
      "_model_module": "@jupyter-widgets/controls",
      "_model_module_version": "1.5.0",
      "_model_name": "DescriptionStyleModel",
      "_view_count": null,
      "_view_module": "@jupyter-widgets/base",
      "_view_module_version": "1.2.0",
      "_view_name": "StyleView",
      "description_width": ""
     }
    },
    "56fdffe8b977489b9ec2e5ea8a40edf5": {
     "model_module": "@jupyter-widgets/controls",
     "model_module_version": "1.5.0",
     "model_name": "DescriptionStyleModel",
     "state": {
      "_model_module": "@jupyter-widgets/controls",
      "_model_module_version": "1.5.0",
      "_model_name": "DescriptionStyleModel",
      "_view_count": null,
      "_view_module": "@jupyter-widgets/base",
      "_view_module_version": "1.2.0",
      "_view_name": "StyleView",
      "description_width": ""
     }
    },
    "57cc7ee098904be08b69849d9577c5bc": {
     "model_module": "@jupyter-widgets/controls",
     "model_module_version": "1.5.0",
     "model_name": "HTMLModel",
     "state": {
      "_dom_classes": [],
      "_model_module": "@jupyter-widgets/controls",
      "_model_module_version": "1.5.0",
      "_model_name": "HTMLModel",
      "_view_count": null,
      "_view_module": "@jupyter-widgets/controls",
      "_view_module_version": "1.5.0",
      "_view_name": "HTMLView",
      "description": "",
      "description_tooltip": null,
      "layout": "IPY_MODEL_37f4b8b4155f46c5a629d1fe9c52f8a8",
      "placeholder": "​",
      "style": "IPY_MODEL_bbed4f3c45584f3caa12f64edac8c338",
      "value": "config.json: 100%"
     }
    },
    "59ef0c0e4cd54cd5b320799c5b440510": {
     "model_module": "@jupyter-widgets/controls",
     "model_module_version": "1.5.0",
     "model_name": "HBoxModel",
     "state": {
      "_dom_classes": [],
      "_model_module": "@jupyter-widgets/controls",
      "_model_module_version": "1.5.0",
      "_model_name": "HBoxModel",
      "_view_count": null,
      "_view_module": "@jupyter-widgets/controls",
      "_view_module_version": "1.5.0",
      "_view_name": "HBoxView",
      "box_style": "",
      "children": [
       "IPY_MODEL_df44fea56c904af9ad6f449be1928a81",
       "IPY_MODEL_7b0bb8a0e2284c339c8b7f94e8ccb38b",
       "IPY_MODEL_da99957f3def4e1993c214c71a23cab8"
      ],
      "layout": "IPY_MODEL_f83a0a435b694eeb9b09475887a500d6"
     }
    },
    "5db7d093c33b4e2a8082774769259371": {
     "model_module": "@jupyter-widgets/base",
     "model_module_version": "1.2.0",
     "model_name": "LayoutModel",
     "state": {
      "_model_module": "@jupyter-widgets/base",
      "_model_module_version": "1.2.0",
      "_model_name": "LayoutModel",
      "_view_count": null,
      "_view_module": "@jupyter-widgets/base",
      "_view_module_version": "1.2.0",
      "_view_name": "LayoutView",
      "align_content": null,
      "align_items": null,
      "align_self": null,
      "border": null,
      "bottom": null,
      "display": null,
      "flex": null,
      "flex_flow": null,
      "grid_area": null,
      "grid_auto_columns": null,
      "grid_auto_flow": null,
      "grid_auto_rows": null,
      "grid_column": null,
      "grid_gap": null,
      "grid_row": null,
      "grid_template_areas": null,
      "grid_template_columns": null,
      "grid_template_rows": null,
      "height": null,
      "justify_content": null,
      "justify_items": null,
      "left": null,
      "margin": null,
      "max_height": null,
      "max_width": null,
      "min_height": null,
      "min_width": null,
      "object_fit": null,
      "object_position": null,
      "order": null,
      "overflow": null,
      "overflow_x": null,
      "overflow_y": null,
      "padding": null,
      "right": null,
      "top": null,
      "visibility": null,
      "width": null
     }
    },
    "611e6c598aa3483bb2c0143f2cd498cd": {
     "model_module": "@jupyter-widgets/base",
     "model_module_version": "1.2.0",
     "model_name": "LayoutModel",
     "state": {
      "_model_module": "@jupyter-widgets/base",
      "_model_module_version": "1.2.0",
      "_model_name": "LayoutModel",
      "_view_count": null,
      "_view_module": "@jupyter-widgets/base",
      "_view_module_version": "1.2.0",
      "_view_name": "LayoutView",
      "align_content": null,
      "align_items": null,
      "align_self": null,
      "border": null,
      "bottom": null,
      "display": null,
      "flex": null,
      "flex_flow": null,
      "grid_area": null,
      "grid_auto_columns": null,
      "grid_auto_flow": null,
      "grid_auto_rows": null,
      "grid_column": null,
      "grid_gap": null,
      "grid_row": null,
      "grid_template_areas": null,
      "grid_template_columns": null,
      "grid_template_rows": null,
      "height": null,
      "justify_content": null,
      "justify_items": null,
      "left": null,
      "margin": null,
      "max_height": null,
      "max_width": null,
      "min_height": null,
      "min_width": null,
      "object_fit": null,
      "object_position": null,
      "order": null,
      "overflow": null,
      "overflow_x": null,
      "overflow_y": null,
      "padding": null,
      "right": null,
      "top": null,
      "visibility": null,
      "width": null
     }
    },
    "6193ed3bacac43218420dd3a6aa83784": {
     "model_module": "@jupyter-widgets/base",
     "model_module_version": "1.2.0",
     "model_name": "LayoutModel",
     "state": {
      "_model_module": "@jupyter-widgets/base",
      "_model_module_version": "1.2.0",
      "_model_name": "LayoutModel",
      "_view_count": null,
      "_view_module": "@jupyter-widgets/base",
      "_view_module_version": "1.2.0",
      "_view_name": "LayoutView",
      "align_content": null,
      "align_items": null,
      "align_self": null,
      "border": null,
      "bottom": null,
      "display": null,
      "flex": null,
      "flex_flow": null,
      "grid_area": null,
      "grid_auto_columns": null,
      "grid_auto_flow": null,
      "grid_auto_rows": null,
      "grid_column": null,
      "grid_gap": null,
      "grid_row": null,
      "grid_template_areas": null,
      "grid_template_columns": null,
      "grid_template_rows": null,
      "height": null,
      "justify_content": null,
      "justify_items": null,
      "left": null,
      "margin": null,
      "max_height": null,
      "max_width": null,
      "min_height": null,
      "min_width": null,
      "object_fit": null,
      "object_position": null,
      "order": null,
      "overflow": null,
      "overflow_x": null,
      "overflow_y": null,
      "padding": null,
      "right": null,
      "top": null,
      "visibility": null,
      "width": null
     }
    },
    "6531766795024285ab5dcb1828072349": {
     "model_module": "@jupyter-widgets/controls",
     "model_module_version": "1.5.0",
     "model_name": "ProgressStyleModel",
     "state": {
      "_model_module": "@jupyter-widgets/controls",
      "_model_module_version": "1.5.0",
      "_model_name": "ProgressStyleModel",
      "_view_count": null,
      "_view_module": "@jupyter-widgets/base",
      "_view_module_version": "1.2.0",
      "_view_name": "StyleView",
      "bar_color": null,
      "description_width": ""
     }
    },
    "65acee876eda46539a7a46461722605d": {
     "model_module": "@jupyter-widgets/controls",
     "model_module_version": "1.5.0",
     "model_name": "DescriptionStyleModel",
     "state": {
      "_model_module": "@jupyter-widgets/controls",
      "_model_module_version": "1.5.0",
      "_model_name": "DescriptionStyleModel",
      "_view_count": null,
      "_view_module": "@jupyter-widgets/base",
      "_view_module_version": "1.2.0",
      "_view_name": "StyleView",
      "description_width": ""
     }
    },
    "66de85187d564d16953e5d45a48466d5": {
     "model_module": "@jupyter-widgets/controls",
     "model_module_version": "1.5.0",
     "model_name": "HTMLModel",
     "state": {
      "_dom_classes": [],
      "_model_module": "@jupyter-widgets/controls",
      "_model_module_version": "1.5.0",
      "_model_name": "HTMLModel",
      "_view_count": null,
      "_view_module": "@jupyter-widgets/controls",
      "_view_module_version": "1.5.0",
      "_view_name": "HTMLView",
      "description": "",
      "description_tooltip": null,
      "layout": "IPY_MODEL_134d4d993a884a6e8c4fc86dedb75b21",
      "placeholder": "​",
      "style": "IPY_MODEL_b6af3a537d524dfd8c48b06001d860b5",
      "value": "vocab.txt: 100%"
     }
    },
    "68d88b3bfd46425cb026f7e0d6ebadd3": {
     "model_module": "@jupyter-widgets/controls",
     "model_module_version": "1.5.0",
     "model_name": "DescriptionStyleModel",
     "state": {
      "_model_module": "@jupyter-widgets/controls",
      "_model_module_version": "1.5.0",
      "_model_name": "DescriptionStyleModel",
      "_view_count": null,
      "_view_module": "@jupyter-widgets/base",
      "_view_module_version": "1.2.0",
      "_view_name": "StyleView",
      "description_width": ""
     }
    },
    "6b6f6acd41be4f95adc01b00db0841f9": {
     "model_module": "@jupyter-widgets/controls",
     "model_module_version": "1.5.0",
     "model_name": "DescriptionStyleModel",
     "state": {
      "_model_module": "@jupyter-widgets/controls",
      "_model_module_version": "1.5.0",
      "_model_name": "DescriptionStyleModel",
      "_view_count": null,
      "_view_module": "@jupyter-widgets/base",
      "_view_module_version": "1.2.0",
      "_view_name": "StyleView",
      "description_width": ""
     }
    },
    "6c007f78361a45079598cdb6209e71f8": {
     "model_module": "@jupyter-widgets/base",
     "model_module_version": "1.2.0",
     "model_name": "LayoutModel",
     "state": {
      "_model_module": "@jupyter-widgets/base",
      "_model_module_version": "1.2.0",
      "_model_name": "LayoutModel",
      "_view_count": null,
      "_view_module": "@jupyter-widgets/base",
      "_view_module_version": "1.2.0",
      "_view_name": "LayoutView",
      "align_content": null,
      "align_items": null,
      "align_self": null,
      "border": null,
      "bottom": null,
      "display": null,
      "flex": null,
      "flex_flow": null,
      "grid_area": null,
      "grid_auto_columns": null,
      "grid_auto_flow": null,
      "grid_auto_rows": null,
      "grid_column": null,
      "grid_gap": null,
      "grid_row": null,
      "grid_template_areas": null,
      "grid_template_columns": null,
      "grid_template_rows": null,
      "height": null,
      "justify_content": null,
      "justify_items": null,
      "left": null,
      "margin": null,
      "max_height": null,
      "max_width": null,
      "min_height": null,
      "min_width": null,
      "object_fit": null,
      "object_position": null,
      "order": null,
      "overflow": null,
      "overflow_x": null,
      "overflow_y": null,
      "padding": null,
      "right": null,
      "top": null,
      "visibility": null,
      "width": null
     }
    },
    "6d1af2eda9a14331b44984e989ad62a0": {
     "model_module": "@jupyter-widgets/controls",
     "model_module_version": "1.5.0",
     "model_name": "DescriptionStyleModel",
     "state": {
      "_model_module": "@jupyter-widgets/controls",
      "_model_module_version": "1.5.0",
      "_model_name": "DescriptionStyleModel",
      "_view_count": null,
      "_view_module": "@jupyter-widgets/base",
      "_view_module_version": "1.2.0",
      "_view_name": "StyleView",
      "description_width": ""
     }
    },
    "700c4a3194f241eaa4ae36b9fa476914": {
     "model_module": "@jupyter-widgets/controls",
     "model_module_version": "1.5.0",
     "model_name": "DescriptionStyleModel",
     "state": {
      "_model_module": "@jupyter-widgets/controls",
      "_model_module_version": "1.5.0",
      "_model_name": "DescriptionStyleModel",
      "_view_count": null,
      "_view_module": "@jupyter-widgets/base",
      "_view_module_version": "1.2.0",
      "_view_name": "StyleView",
      "description_width": ""
     }
    },
    "7782b74e00494043911919ac20c4d4e9": {
     "model_module": "@jupyter-widgets/controls",
     "model_module_version": "1.5.0",
     "model_name": "HBoxModel",
     "state": {
      "_dom_classes": [],
      "_model_module": "@jupyter-widgets/controls",
      "_model_module_version": "1.5.0",
      "_model_name": "HBoxModel",
      "_view_count": null,
      "_view_module": "@jupyter-widgets/controls",
      "_view_module_version": "1.5.0",
      "_view_name": "HBoxView",
      "box_style": "",
      "children": [
       "IPY_MODEL_57cc7ee098904be08b69849d9577c5bc",
       "IPY_MODEL_c46748309fa3415b9d96cfbde177e178",
       "IPY_MODEL_2f0faa8fecf540a1b3683e4149e918a1"
      ],
      "layout": "IPY_MODEL_f4314f8530f4433fac0fa5bd95100171"
     }
    },
    "7b0bb8a0e2284c339c8b7f94e8ccb38b": {
     "model_module": "@jupyter-widgets/controls",
     "model_module_version": "1.5.0",
     "model_name": "FloatProgressModel",
     "state": {
      "_dom_classes": [],
      "_model_module": "@jupyter-widgets/controls",
      "_model_module_version": "1.5.0",
      "_model_name": "FloatProgressModel",
      "_view_count": null,
      "_view_module": "@jupyter-widgets/controls",
      "_view_module_version": "1.5.0",
      "_view_name": "ProgressView",
      "bar_style": "success",
      "description": "",
      "description_tooltip": null,
      "layout": "IPY_MODEL_9e28b2981ef1441e800701a6944115bf",
      "max": 80,
      "min": 0,
      "orientation": "horizontal",
      "style": "IPY_MODEL_926f4407af704df89765911059f6d316",
      "value": 80
     }
    },
    "7e18dab9d76e4088aae68094d84837cd": {
     "model_module": "@jupyter-widgets/base",
     "model_module_version": "1.2.0",
     "model_name": "LayoutModel",
     "state": {
      "_model_module": "@jupyter-widgets/base",
      "_model_module_version": "1.2.0",
      "_model_name": "LayoutModel",
      "_view_count": null,
      "_view_module": "@jupyter-widgets/base",
      "_view_module_version": "1.2.0",
      "_view_name": "LayoutView",
      "align_content": null,
      "align_items": null,
      "align_self": null,
      "border": null,
      "bottom": null,
      "display": null,
      "flex": null,
      "flex_flow": null,
      "grid_area": null,
      "grid_auto_columns": null,
      "grid_auto_flow": null,
      "grid_auto_rows": null,
      "grid_column": null,
      "grid_gap": null,
      "grid_row": null,
      "grid_template_areas": null,
      "grid_template_columns": null,
      "grid_template_rows": null,
      "height": null,
      "justify_content": null,
      "justify_items": null,
      "left": null,
      "margin": null,
      "max_height": null,
      "max_width": null,
      "min_height": null,
      "min_width": null,
      "object_fit": null,
      "object_position": null,
      "order": null,
      "overflow": null,
      "overflow_x": null,
      "overflow_y": null,
      "padding": null,
      "right": null,
      "top": null,
      "visibility": null,
      "width": null
     }
    },
    "7e2c2534bcce4b97b1de028eece79ccb": {
     "model_module": "@jupyter-widgets/controls",
     "model_module_version": "1.5.0",
     "model_name": "DescriptionStyleModel",
     "state": {
      "_model_module": "@jupyter-widgets/controls",
      "_model_module_version": "1.5.0",
      "_model_name": "DescriptionStyleModel",
      "_view_count": null,
      "_view_module": "@jupyter-widgets/base",
      "_view_module_version": "1.2.0",
      "_view_name": "StyleView",
      "description_width": ""
     }
    },
    "7ec06a9001a5414db8b4145410942a20": {
     "model_module": "@jupyter-widgets/base",
     "model_module_version": "1.2.0",
     "model_name": "LayoutModel",
     "state": {
      "_model_module": "@jupyter-widgets/base",
      "_model_module_version": "1.2.0",
      "_model_name": "LayoutModel",
      "_view_count": null,
      "_view_module": "@jupyter-widgets/base",
      "_view_module_version": "1.2.0",
      "_view_name": "LayoutView",
      "align_content": null,
      "align_items": null,
      "align_self": null,
      "border": null,
      "bottom": null,
      "display": null,
      "flex": null,
      "flex_flow": null,
      "grid_area": null,
      "grid_auto_columns": null,
      "grid_auto_flow": null,
      "grid_auto_rows": null,
      "grid_column": null,
      "grid_gap": null,
      "grid_row": null,
      "grid_template_areas": null,
      "grid_template_columns": null,
      "grid_template_rows": null,
      "height": null,
      "justify_content": null,
      "justify_items": null,
      "left": null,
      "margin": null,
      "max_height": null,
      "max_width": null,
      "min_height": null,
      "min_width": null,
      "object_fit": null,
      "object_position": null,
      "order": null,
      "overflow": null,
      "overflow_x": null,
      "overflow_y": null,
      "padding": null,
      "right": null,
      "top": null,
      "visibility": null,
      "width": null
     }
    },
    "82a629771ba64d33bd22296eea4422c9": {
     "model_module": "@jupyter-widgets/base",
     "model_module_version": "1.2.0",
     "model_name": "LayoutModel",
     "state": {
      "_model_module": "@jupyter-widgets/base",
      "_model_module_version": "1.2.0",
      "_model_name": "LayoutModel",
      "_view_count": null,
      "_view_module": "@jupyter-widgets/base",
      "_view_module_version": "1.2.0",
      "_view_name": "LayoutView",
      "align_content": null,
      "align_items": null,
      "align_self": null,
      "border": null,
      "bottom": null,
      "display": null,
      "flex": null,
      "flex_flow": null,
      "grid_area": null,
      "grid_auto_columns": null,
      "grid_auto_flow": null,
      "grid_auto_rows": null,
      "grid_column": null,
      "grid_gap": null,
      "grid_row": null,
      "grid_template_areas": null,
      "grid_template_columns": null,
      "grid_template_rows": null,
      "height": null,
      "justify_content": null,
      "justify_items": null,
      "left": null,
      "margin": null,
      "max_height": null,
      "max_width": null,
      "min_height": null,
      "min_width": null,
      "object_fit": null,
      "object_position": null,
      "order": null,
      "overflow": null,
      "overflow_x": null,
      "overflow_y": null,
      "padding": null,
      "right": null,
      "top": null,
      "visibility": null,
      "width": null
     }
    },
    "83476db4bd034e53a472a3b5314bf8a3": {
     "model_module": "@jupyter-widgets/base",
     "model_module_version": "1.2.0",
     "model_name": "LayoutModel",
     "state": {
      "_model_module": "@jupyter-widgets/base",
      "_model_module_version": "1.2.0",
      "_model_name": "LayoutModel",
      "_view_count": null,
      "_view_module": "@jupyter-widgets/base",
      "_view_module_version": "1.2.0",
      "_view_name": "LayoutView",
      "align_content": null,
      "align_items": null,
      "align_self": null,
      "border": null,
      "bottom": null,
      "display": null,
      "flex": null,
      "flex_flow": null,
      "grid_area": null,
      "grid_auto_columns": null,
      "grid_auto_flow": null,
      "grid_auto_rows": null,
      "grid_column": null,
      "grid_gap": null,
      "grid_row": null,
      "grid_template_areas": null,
      "grid_template_columns": null,
      "grid_template_rows": null,
      "height": null,
      "justify_content": null,
      "justify_items": null,
      "left": null,
      "margin": null,
      "max_height": null,
      "max_width": null,
      "min_height": null,
      "min_width": null,
      "object_fit": null,
      "object_position": null,
      "order": null,
      "overflow": null,
      "overflow_x": null,
      "overflow_y": null,
      "padding": null,
      "right": null,
      "top": null,
      "visibility": null,
      "width": null
     }
    },
    "83dcd01f146047b099e2de0d9a11361d": {
     "model_module": "@jupyter-widgets/controls",
     "model_module_version": "1.5.0",
     "model_name": "ProgressStyleModel",
     "state": {
      "_model_module": "@jupyter-widgets/controls",
      "_model_module_version": "1.5.0",
      "_model_name": "ProgressStyleModel",
      "_view_count": null,
      "_view_module": "@jupyter-widgets/base",
      "_view_module_version": "1.2.0",
      "_view_name": "StyleView",
      "bar_color": null,
      "description_width": ""
     }
    },
    "83e71edf5cc04f5d80a2a03b1edaa455": {
     "model_module": "@jupyter-widgets/controls",
     "model_module_version": "1.5.0",
     "model_name": "DescriptionStyleModel",
     "state": {
      "_model_module": "@jupyter-widgets/controls",
      "_model_module_version": "1.5.0",
      "_model_name": "DescriptionStyleModel",
      "_view_count": null,
      "_view_module": "@jupyter-widgets/base",
      "_view_module_version": "1.2.0",
      "_view_name": "StyleView",
      "description_width": ""
     }
    },
    "89cac8a78da644598575401b3bd024d9": {
     "model_module": "@jupyter-widgets/controls",
     "model_module_version": "1.5.0",
     "model_name": "ProgressStyleModel",
     "state": {
      "_model_module": "@jupyter-widgets/controls",
      "_model_module_version": "1.5.0",
      "_model_name": "ProgressStyleModel",
      "_view_count": null,
      "_view_module": "@jupyter-widgets/base",
      "_view_module_version": "1.2.0",
      "_view_name": "StyleView",
      "bar_color": null,
      "description_width": ""
     }
    },
    "8a41aa0aa9304d34b76765ca6e4b22df": {
     "model_module": "@jupyter-widgets/controls",
     "model_module_version": "1.5.0",
     "model_name": "ProgressStyleModel",
     "state": {
      "_model_module": "@jupyter-widgets/controls",
      "_model_module_version": "1.5.0",
      "_model_name": "ProgressStyleModel",
      "_view_count": null,
      "_view_module": "@jupyter-widgets/base",
      "_view_module_version": "1.2.0",
      "_view_name": "StyleView",
      "bar_color": null,
      "description_width": ""
     }
    },
    "907bc2da70694082b8147f9502c5983f": {
     "model_module": "@jupyter-widgets/base",
     "model_module_version": "1.2.0",
     "model_name": "LayoutModel",
     "state": {
      "_model_module": "@jupyter-widgets/base",
      "_model_module_version": "1.2.0",
      "_model_name": "LayoutModel",
      "_view_count": null,
      "_view_module": "@jupyter-widgets/base",
      "_view_module_version": "1.2.0",
      "_view_name": "LayoutView",
      "align_content": null,
      "align_items": null,
      "align_self": null,
      "border": null,
      "bottom": null,
      "display": null,
      "flex": null,
      "flex_flow": null,
      "grid_area": null,
      "grid_auto_columns": null,
      "grid_auto_flow": null,
      "grid_auto_rows": null,
      "grid_column": null,
      "grid_gap": null,
      "grid_row": null,
      "grid_template_areas": null,
      "grid_template_columns": null,
      "grid_template_rows": null,
      "height": null,
      "justify_content": null,
      "justify_items": null,
      "left": null,
      "margin": null,
      "max_height": null,
      "max_width": null,
      "min_height": null,
      "min_width": null,
      "object_fit": null,
      "object_position": null,
      "order": null,
      "overflow": null,
      "overflow_x": null,
      "overflow_y": null,
      "padding": null,
      "right": null,
      "top": null,
      "visibility": null,
      "width": null
     }
    },
    "916ee1b5d0534efd9330e448e5758fd0": {
     "model_module": "@jupyter-widgets/base",
     "model_module_version": "1.2.0",
     "model_name": "LayoutModel",
     "state": {
      "_model_module": "@jupyter-widgets/base",
      "_model_module_version": "1.2.0",
      "_model_name": "LayoutModel",
      "_view_count": null,
      "_view_module": "@jupyter-widgets/base",
      "_view_module_version": "1.2.0",
      "_view_name": "LayoutView",
      "align_content": null,
      "align_items": null,
      "align_self": null,
      "border": null,
      "bottom": null,
      "display": null,
      "flex": null,
      "flex_flow": null,
      "grid_area": null,
      "grid_auto_columns": null,
      "grid_auto_flow": null,
      "grid_auto_rows": null,
      "grid_column": null,
      "grid_gap": null,
      "grid_row": null,
      "grid_template_areas": null,
      "grid_template_columns": null,
      "grid_template_rows": null,
      "height": null,
      "justify_content": null,
      "justify_items": null,
      "left": null,
      "margin": null,
      "max_height": null,
      "max_width": null,
      "min_height": null,
      "min_width": null,
      "object_fit": null,
      "object_position": null,
      "order": null,
      "overflow": null,
      "overflow_x": null,
      "overflow_y": null,
      "padding": null,
      "right": null,
      "top": null,
      "visibility": null,
      "width": null
     }
    },
    "926df48f58ae43e0b55924dc10143d60": {
     "model_module": "@jupyter-widgets/controls",
     "model_module_version": "1.5.0",
     "model_name": "HBoxModel",
     "state": {
      "_dom_classes": [],
      "_model_module": "@jupyter-widgets/controls",
      "_model_module_version": "1.5.0",
      "_model_name": "HBoxModel",
      "_view_count": null,
      "_view_module": "@jupyter-widgets/controls",
      "_view_module_version": "1.5.0",
      "_view_name": "HBoxView",
      "box_style": "",
      "children": [
       "IPY_MODEL_e1c08ebdce2346a3a9be94d10fb29fb7",
       "IPY_MODEL_34720f0f64834830b1c090e5b86ca5c6",
       "IPY_MODEL_e45bbf5f1ed0479c91c2a5ffd920af56"
      ],
      "layout": "IPY_MODEL_0563cfc3dc7a4334a53b03abea67bf34"
     }
    },
    "926f4407af704df89765911059f6d316": {
     "model_module": "@jupyter-widgets/controls",
     "model_module_version": "1.5.0",
     "model_name": "ProgressStyleModel",
     "state": {
      "_model_module": "@jupyter-widgets/controls",
      "_model_module_version": "1.5.0",
      "_model_name": "ProgressStyleModel",
      "_view_count": null,
      "_view_module": "@jupyter-widgets/base",
      "_view_module_version": "1.2.0",
      "_view_name": "StyleView",
      "bar_color": null,
      "description_width": ""
     }
    },
    "96ea27ef4a594badb71ef41b3d53bec6": {
     "model_module": "@jupyter-widgets/controls",
     "model_module_version": "1.5.0",
     "model_name": "DescriptionStyleModel",
     "state": {
      "_model_module": "@jupyter-widgets/controls",
      "_model_module_version": "1.5.0",
      "_model_name": "DescriptionStyleModel",
      "_view_count": null,
      "_view_module": "@jupyter-widgets/base",
      "_view_module_version": "1.2.0",
      "_view_name": "StyleView",
      "description_width": ""
     }
    },
    "9d654e3679c244f4b41eae8c9bfa137a": {
     "model_module": "@jupyter-widgets/controls",
     "model_module_version": "1.5.0",
     "model_name": "HTMLModel",
     "state": {
      "_dom_classes": [],
      "_model_module": "@jupyter-widgets/controls",
      "_model_module_version": "1.5.0",
      "_model_name": "HTMLModel",
      "_view_count": null,
      "_view_module": "@jupyter-widgets/controls",
      "_view_module_version": "1.5.0",
      "_view_name": "HTMLView",
      "description": "",
      "description_tooltip": null,
      "layout": "IPY_MODEL_56faccb7dcd241fba27f69528524f2b1",
      "placeholder": "​",
      "style": "IPY_MODEL_6d1af2eda9a14331b44984e989ad62a0",
      "value": " 409M/409M [00:04&lt;00:00, 110MB/s]"
     }
    },
    "9e28b2981ef1441e800701a6944115bf": {
     "model_module": "@jupyter-widgets/base",
     "model_module_version": "1.2.0",
     "model_name": "LayoutModel",
     "state": {
      "_model_module": "@jupyter-widgets/base",
      "_model_module_version": "1.2.0",
      "_model_name": "LayoutModel",
      "_view_count": null,
      "_view_module": "@jupyter-widgets/base",
      "_view_module_version": "1.2.0",
      "_view_name": "LayoutView",
      "align_content": null,
      "align_items": null,
      "align_self": null,
      "border": null,
      "bottom": null,
      "display": null,
      "flex": null,
      "flex_flow": null,
      "grid_area": null,
      "grid_auto_columns": null,
      "grid_auto_flow": null,
      "grid_auto_rows": null,
      "grid_column": null,
      "grid_gap": null,
      "grid_row": null,
      "grid_template_areas": null,
      "grid_template_columns": null,
      "grid_template_rows": null,
      "height": null,
      "justify_content": null,
      "justify_items": null,
      "left": null,
      "margin": null,
      "max_height": null,
      "max_width": null,
      "min_height": null,
      "min_width": null,
      "object_fit": null,
      "object_position": null,
      "order": null,
      "overflow": null,
      "overflow_x": null,
      "overflow_y": null,
      "padding": null,
      "right": null,
      "top": null,
      "visibility": null,
      "width": null
     }
    },
    "9ec296a8acac491e88379978ac99e020": {
     "model_module": "@jupyter-widgets/base",
     "model_module_version": "1.2.0",
     "model_name": "LayoutModel",
     "state": {
      "_model_module": "@jupyter-widgets/base",
      "_model_module_version": "1.2.0",
      "_model_name": "LayoutModel",
      "_view_count": null,
      "_view_module": "@jupyter-widgets/base",
      "_view_module_version": "1.2.0",
      "_view_name": "LayoutView",
      "align_content": null,
      "align_items": null,
      "align_self": null,
      "border": null,
      "bottom": null,
      "display": null,
      "flex": null,
      "flex_flow": null,
      "grid_area": null,
      "grid_auto_columns": null,
      "grid_auto_flow": null,
      "grid_auto_rows": null,
      "grid_column": null,
      "grid_gap": null,
      "grid_row": null,
      "grid_template_areas": null,
      "grid_template_columns": null,
      "grid_template_rows": null,
      "height": null,
      "justify_content": null,
      "justify_items": null,
      "left": null,
      "margin": null,
      "max_height": null,
      "max_width": null,
      "min_height": null,
      "min_width": null,
      "object_fit": null,
      "object_position": null,
      "order": null,
      "overflow": null,
      "overflow_x": null,
      "overflow_y": null,
      "padding": null,
      "right": null,
      "top": null,
      "visibility": null,
      "width": null
     }
    },
    "a4e03bf1e679463ba560517492456925": {
     "model_module": "@jupyter-widgets/controls",
     "model_module_version": "1.5.0",
     "model_name": "DescriptionStyleModel",
     "state": {
      "_model_module": "@jupyter-widgets/controls",
      "_model_module_version": "1.5.0",
      "_model_name": "DescriptionStyleModel",
      "_view_count": null,
      "_view_module": "@jupyter-widgets/base",
      "_view_module_version": "1.2.0",
      "_view_name": "StyleView",
      "description_width": ""
     }
    },
    "ad0ea6494ceb48a8ac8a39bca70999d8": {
     "model_module": "@jupyter-widgets/controls",
     "model_module_version": "1.5.0",
     "model_name": "DescriptionStyleModel",
     "state": {
      "_model_module": "@jupyter-widgets/controls",
      "_model_module_version": "1.5.0",
      "_model_name": "DescriptionStyleModel",
      "_view_count": null,
      "_view_module": "@jupyter-widgets/base",
      "_view_module_version": "1.2.0",
      "_view_name": "StyleView",
      "description_width": ""
     }
    },
    "b4da9eee63a84ad383f189e13a6d0fa9": {
     "model_module": "@jupyter-widgets/controls",
     "model_module_version": "1.5.0",
     "model_name": "HTMLModel",
     "state": {
      "_dom_classes": [],
      "_model_module": "@jupyter-widgets/controls",
      "_model_module_version": "1.5.0",
      "_model_name": "HTMLModel",
      "_view_count": null,
      "_view_module": "@jupyter-widgets/controls",
      "_view_module_version": "1.5.0",
      "_view_name": "HTMLView",
      "description": "",
      "description_tooltip": null,
      "layout": "IPY_MODEL_3348d44475c94cb1b98061bfcb53900e",
      "placeholder": "​",
      "style": "IPY_MODEL_56fd94b10ecc43178e1865f37f5e20e4",
      "value": " 996k/996k [00:00&lt;00:00, 8.26MB/s]"
     }
    },
    "b6af3a537d524dfd8c48b06001d860b5": {
     "model_module": "@jupyter-widgets/controls",
     "model_module_version": "1.5.0",
     "model_name": "DescriptionStyleModel",
     "state": {
      "_model_module": "@jupyter-widgets/controls",
      "_model_module_version": "1.5.0",
      "_model_name": "DescriptionStyleModel",
      "_view_count": null,
      "_view_module": "@jupyter-widgets/base",
      "_view_module_version": "1.2.0",
      "_view_name": "StyleView",
      "description_width": ""
     }
    },
    "b6ec422425164c9480772f6d099b1331": {
     "model_module": "@jupyter-widgets/controls",
     "model_module_version": "1.5.0",
     "model_name": "FloatProgressModel",
     "state": {
      "_dom_classes": [],
      "_model_module": "@jupyter-widgets/controls",
      "_model_module_version": "1.5.0",
      "_model_name": "FloatProgressModel",
      "_view_count": null,
      "_view_module": "@jupyter-widgets/controls",
      "_view_module_version": "1.5.0",
      "_view_name": "ProgressView",
      "bar_style": "success",
      "description": "",
      "description_tooltip": null,
      "layout": "IPY_MODEL_199a9430c191421ea631a04bc98d0cbf",
      "max": 409251346,
      "min": 0,
      "orientation": "horizontal",
      "style": "IPY_MODEL_e899760c14d24d77b53620c9c7946119",
      "value": 409251346
     }
    },
    "b988ec82ad424ae3835dd35d16a568db": {
     "model_module": "@jupyter-widgets/controls",
     "model_module_version": "1.5.0",
     "model_name": "HTMLModel",
     "state": {
      "_dom_classes": [],
      "_model_module": "@jupyter-widgets/controls",
      "_model_module_version": "1.5.0",
      "_model_name": "HTMLModel",
      "_view_count": null,
      "_view_module": "@jupyter-widgets/controls",
      "_view_module_version": "1.5.0",
      "_view_name": "HTMLView",
      "description": "",
      "description_tooltip": null,
      "layout": "IPY_MODEL_d17c9b9a5592452eb4f6944648a2e8ea",
      "placeholder": "​",
      "style": "IPY_MODEL_56fdffe8b977489b9ec2e5ea8a40edf5",
      "value": " 49.0/49.0 [00:00&lt;00:00, 851B/s]"
     }
    },
    "bb325f7be9334219a976b70c49578c28": {
     "model_module": "@jupyter-widgets/controls",
     "model_module_version": "1.5.0",
     "model_name": "ProgressStyleModel",
     "state": {
      "_model_module": "@jupyter-widgets/controls",
      "_model_module_version": "1.5.0",
      "_model_name": "ProgressStyleModel",
      "_view_count": null,
      "_view_module": "@jupyter-widgets/base",
      "_view_module_version": "1.2.0",
      "_view_name": "StyleView",
      "bar_color": null,
      "description_width": ""
     }
    },
    "bbed4f3c45584f3caa12f64edac8c338": {
     "model_module": "@jupyter-widgets/controls",
     "model_module_version": "1.5.0",
     "model_name": "DescriptionStyleModel",
     "state": {
      "_model_module": "@jupyter-widgets/controls",
      "_model_module_version": "1.5.0",
      "_model_name": "DescriptionStyleModel",
      "_view_count": null,
      "_view_module": "@jupyter-widgets/base",
      "_view_module_version": "1.2.0",
      "_view_name": "StyleView",
      "description_width": ""
     }
    },
    "bc8062ce07204a17ab32b380b3792c1f": {
     "model_module": "@jupyter-widgets/base",
     "model_module_version": "1.2.0",
     "model_name": "LayoutModel",
     "state": {
      "_model_module": "@jupyter-widgets/base",
      "_model_module_version": "1.2.0",
      "_model_name": "LayoutModel",
      "_view_count": null,
      "_view_module": "@jupyter-widgets/base",
      "_view_module_version": "1.2.0",
      "_view_name": "LayoutView",
      "align_content": null,
      "align_items": null,
      "align_self": null,
      "border": null,
      "bottom": null,
      "display": null,
      "flex": null,
      "flex_flow": null,
      "grid_area": null,
      "grid_auto_columns": null,
      "grid_auto_flow": null,
      "grid_auto_rows": null,
      "grid_column": null,
      "grid_gap": null,
      "grid_row": null,
      "grid_template_areas": null,
      "grid_template_columns": null,
      "grid_template_rows": null,
      "height": null,
      "justify_content": null,
      "justify_items": null,
      "left": null,
      "margin": null,
      "max_height": null,
      "max_width": null,
      "min_height": null,
      "min_width": null,
      "object_fit": null,
      "object_position": null,
      "order": null,
      "overflow": null,
      "overflow_x": null,
      "overflow_y": null,
      "padding": null,
      "right": null,
      "top": null,
      "visibility": null,
      "width": null
     }
    },
    "c46748309fa3415b9d96cfbde177e178": {
     "model_module": "@jupyter-widgets/controls",
     "model_module_version": "1.5.0",
     "model_name": "FloatProgressModel",
     "state": {
      "_dom_classes": [],
      "_model_module": "@jupyter-widgets/controls",
      "_model_module_version": "1.5.0",
      "_model_name": "FloatProgressModel",
      "_view_count": null,
      "_view_module": "@jupyter-widgets/controls",
      "_view_module_version": "1.5.0",
      "_view_name": "ProgressView",
      "bar_style": "success",
      "description": "",
      "description_tooltip": null,
      "layout": "IPY_MODEL_7ec06a9001a5414db8b4145410942a20",
      "max": 725,
      "min": 0,
      "orientation": "horizontal",
      "style": "IPY_MODEL_4393dd2d135842b5bedbe3c0c9bace91",
      "value": 725
     }
    },
    "c5de990f8f15407ab67c5cd3cdea1372": {
     "model_module": "@jupyter-widgets/controls",
     "model_module_version": "1.5.0",
     "model_name": "HBoxModel",
     "state": {
      "_dom_classes": [],
      "_model_module": "@jupyter-widgets/controls",
      "_model_module_version": "1.5.0",
      "_model_name": "HBoxModel",
      "_view_count": null,
      "_view_module": "@jupyter-widgets/controls",
      "_view_module_version": "1.5.0",
      "_view_name": "HBoxView",
      "box_style": "",
      "children": [
       "IPY_MODEL_3f3d581aa0f4400aae40b982c683803b",
       "IPY_MODEL_3a509e41fb3249de86acbc4c81e186f2",
       "IPY_MODEL_3b8add05787b4b31b9457d58cfbecbb8"
      ],
      "layout": "IPY_MODEL_7e18dab9d76e4088aae68094d84837cd"
     }
    },
    "c69c35aff6b0439da2a52fb5fc7e1780": {
     "model_module": "@jupyter-widgets/base",
     "model_module_version": "1.2.0",
     "model_name": "LayoutModel",
     "state": {
      "_model_module": "@jupyter-widgets/base",
      "_model_module_version": "1.2.0",
      "_model_name": "LayoutModel",
      "_view_count": null,
      "_view_module": "@jupyter-widgets/base",
      "_view_module_version": "1.2.0",
      "_view_name": "LayoutView",
      "align_content": null,
      "align_items": null,
      "align_self": null,
      "border": null,
      "bottom": null,
      "display": null,
      "flex": null,
      "flex_flow": null,
      "grid_area": null,
      "grid_auto_columns": null,
      "grid_auto_flow": null,
      "grid_auto_rows": null,
      "grid_column": null,
      "grid_gap": null,
      "grid_row": null,
      "grid_template_areas": null,
      "grid_template_columns": null,
      "grid_template_rows": null,
      "height": null,
      "justify_content": null,
      "justify_items": null,
      "left": null,
      "margin": null,
      "max_height": null,
      "max_width": null,
      "min_height": null,
      "min_width": null,
      "object_fit": null,
      "object_position": null,
      "order": null,
      "overflow": null,
      "overflow_x": null,
      "overflow_y": null,
      "padding": null,
      "right": null,
      "top": null,
      "visibility": null,
      "width": null
     }
    },
    "c833622f56094f25be9ad5dfa5fb6421": {
     "model_module": "@jupyter-widgets/controls",
     "model_module_version": "1.5.0",
     "model_name": "HTMLModel",
     "state": {
      "_dom_classes": [],
      "_model_module": "@jupyter-widgets/controls",
      "_model_module_version": "1.5.0",
      "_model_name": "HTMLModel",
      "_view_count": null,
      "_view_module": "@jupyter-widgets/controls",
      "_view_module_version": "1.5.0",
      "_view_name": "HTMLView",
      "description": "",
      "description_tooltip": null,
      "layout": "IPY_MODEL_1999cc3158b84ccfb3fc1049ded4dfb1",
      "placeholder": "​",
      "style": "IPY_MODEL_df0c5694d9654227b910f389506d4b71",
      "value": " 701/701 [00:00&lt;00:00, 23.6kB/s]"
     }
    },
    "cd2b767543f1435299935d6dadee5034": {
     "model_module": "@jupyter-widgets/controls",
     "model_module_version": "1.5.0",
     "model_name": "HTMLModel",
     "state": {
      "_dom_classes": [],
      "_model_module": "@jupyter-widgets/controls",
      "_model_module_version": "1.5.0",
      "_model_name": "HTMLModel",
      "_view_count": null,
      "_view_module": "@jupyter-widgets/controls",
      "_view_module_version": "1.5.0",
      "_view_name": "HTMLView",
      "description": "",
      "description_tooltip": null,
      "layout": "IPY_MODEL_bc8062ce07204a17ab32b380b3792c1f",
      "placeholder": "​",
      "style": "IPY_MODEL_ed9e0e610cec4c84aeb24b399e6e55a4",
      "value": "tokenizer_config.json: 100%"
     }
    },
    "d17c9b9a5592452eb4f6944648a2e8ea": {
     "model_module": "@jupyter-widgets/base",
     "model_module_version": "1.2.0",
     "model_name": "LayoutModel",
     "state": {
      "_model_module": "@jupyter-widgets/base",
      "_model_module_version": "1.2.0",
      "_model_name": "LayoutModel",
      "_view_count": null,
      "_view_module": "@jupyter-widgets/base",
      "_view_module_version": "1.2.0",
      "_view_name": "LayoutView",
      "align_content": null,
      "align_items": null,
      "align_self": null,
      "border": null,
      "bottom": null,
      "display": null,
      "flex": null,
      "flex_flow": null,
      "grid_area": null,
      "grid_auto_columns": null,
      "grid_auto_flow": null,
      "grid_auto_rows": null,
      "grid_column": null,
      "grid_gap": null,
      "grid_row": null,
      "grid_template_areas": null,
      "grid_template_columns": null,
      "grid_template_rows": null,
      "height": null,
      "justify_content": null,
      "justify_items": null,
      "left": null,
      "margin": null,
      "max_height": null,
      "max_width": null,
      "min_height": null,
      "min_width": null,
      "object_fit": null,
      "object_position": null,
      "order": null,
      "overflow": null,
      "overflow_x": null,
      "overflow_y": null,
      "padding": null,
      "right": null,
      "top": null,
      "visibility": null,
      "width": null
     }
    },
    "d795e4d7c862477485a2fb3587a801bb": {
     "model_module": "@jupyter-widgets/base",
     "model_module_version": "1.2.0",
     "model_name": "LayoutModel",
     "state": {
      "_model_module": "@jupyter-widgets/base",
      "_model_module_version": "1.2.0",
      "_model_name": "LayoutModel",
      "_view_count": null,
      "_view_module": "@jupyter-widgets/base",
      "_view_module_version": "1.2.0",
      "_view_name": "LayoutView",
      "align_content": null,
      "align_items": null,
      "align_self": null,
      "border": null,
      "bottom": null,
      "display": null,
      "flex": null,
      "flex_flow": null,
      "grid_area": null,
      "grid_auto_columns": null,
      "grid_auto_flow": null,
      "grid_auto_rows": null,
      "grid_column": null,
      "grid_gap": null,
      "grid_row": null,
      "grid_template_areas": null,
      "grid_template_columns": null,
      "grid_template_rows": null,
      "height": null,
      "justify_content": null,
      "justify_items": null,
      "left": null,
      "margin": null,
      "max_height": null,
      "max_width": null,
      "min_height": null,
      "min_width": null,
      "object_fit": null,
      "object_position": null,
      "order": null,
      "overflow": null,
      "overflow_x": null,
      "overflow_y": null,
      "padding": null,
      "right": null,
      "top": null,
      "visibility": null,
      "width": null
     }
    },
    "d8b4b59278814e38a249ff6e7a1b0885": {
     "model_module": "@jupyter-widgets/controls",
     "model_module_version": "1.5.0",
     "model_name": "ProgressStyleModel",
     "state": {
      "_model_module": "@jupyter-widgets/controls",
      "_model_module_version": "1.5.0",
      "_model_name": "ProgressStyleModel",
      "_view_count": null,
      "_view_module": "@jupyter-widgets/base",
      "_view_module_version": "1.2.0",
      "_view_name": "StyleView",
      "bar_color": null,
      "description_width": ""
     }
    },
    "da99957f3def4e1993c214c71a23cab8": {
     "model_module": "@jupyter-widgets/controls",
     "model_module_version": "1.5.0",
     "model_name": "HTMLModel",
     "state": {
      "_dom_classes": [],
      "_model_module": "@jupyter-widgets/controls",
      "_model_module_version": "1.5.0",
      "_model_name": "HTMLModel",
      "_view_count": null,
      "_view_module": "@jupyter-widgets/controls",
      "_view_module_version": "1.5.0",
      "_view_name": "HTMLView",
      "description": "",
      "description_tooltip": null,
      "layout": "IPY_MODEL_3ec6fe15d6ff44958521f079b815dadf",
      "placeholder": "​",
      "style": "IPY_MODEL_83e71edf5cc04f5d80a2a03b1edaa455",
      "value": " 80.0/80.0 [00:00&lt;00:00, 1.38kB/s]"
     }
    },
    "dd0d07a703ed49a98f58ec914582192c": {
     "model_module": "@jupyter-widgets/controls",
     "model_module_version": "1.5.0",
     "model_name": "ProgressStyleModel",
     "state": {
      "_model_module": "@jupyter-widgets/controls",
      "_model_module_version": "1.5.0",
      "_model_name": "ProgressStyleModel",
      "_view_count": null,
      "_view_module": "@jupyter-widgets/base",
      "_view_module_version": "1.2.0",
      "_view_name": "StyleView",
      "bar_color": null,
      "description_width": ""
     }
    },
    "df0c5694d9654227b910f389506d4b71": {
     "model_module": "@jupyter-widgets/controls",
     "model_module_version": "1.5.0",
     "model_name": "DescriptionStyleModel",
     "state": {
      "_model_module": "@jupyter-widgets/controls",
      "_model_module_version": "1.5.0",
      "_model_name": "DescriptionStyleModel",
      "_view_count": null,
      "_view_module": "@jupyter-widgets/base",
      "_view_module_version": "1.2.0",
      "_view_name": "StyleView",
      "description_width": ""
     }
    },
    "df44fea56c904af9ad6f449be1928a81": {
     "model_module": "@jupyter-widgets/controls",
     "model_module_version": "1.5.0",
     "model_name": "HTMLModel",
     "state": {
      "_dom_classes": [],
      "_model_module": "@jupyter-widgets/controls",
      "_model_module_version": "1.5.0",
      "_model_name": "HTMLModel",
      "_view_count": null,
      "_view_module": "@jupyter-widgets/controls",
      "_view_module_version": "1.5.0",
      "_view_name": "HTMLView",
      "description": "",
      "description_tooltip": null,
      "layout": "IPY_MODEL_6193ed3bacac43218420dd3a6aa83784",
      "placeholder": "​",
      "style": "IPY_MODEL_7e2c2534bcce4b97b1de028eece79ccb",
      "value": "tokenizer_config.json: 100%"
     }
    },
    "e01da5376ae845a99920b58dd1478b08": {
     "model_module": "@jupyter-widgets/controls",
     "model_module_version": "1.5.0",
     "model_name": "HTMLModel",
     "state": {
      "_dom_classes": [],
      "_model_module": "@jupyter-widgets/controls",
      "_model_module_version": "1.5.0",
      "_model_name": "HTMLModel",
      "_view_count": null,
      "_view_module": "@jupyter-widgets/controls",
      "_view_module_version": "1.5.0",
      "_view_name": "HTMLView",
      "description": "",
      "description_tooltip": null,
      "layout": "IPY_MODEL_e38430337b9d461c876ccde7cfe00618",
      "placeholder": "​",
      "style": "IPY_MODEL_1215dbd825194793831cba54f5b2b798",
      "value": "pytorch_model.bin: 100%"
     }
    },
    "e1c08ebdce2346a3a9be94d10fb29fb7": {
     "model_module": "@jupyter-widgets/controls",
     "model_module_version": "1.5.0",
     "model_name": "HTMLModel",
     "state": {
      "_dom_classes": [],
      "_model_module": "@jupyter-widgets/controls",
      "_model_module_version": "1.5.0",
      "_model_name": "HTMLModel",
      "_view_count": null,
      "_view_module": "@jupyter-widgets/controls",
      "_view_module_version": "1.5.0",
      "_view_name": "HTMLView",
      "description": "",
      "description_tooltip": null,
      "layout": "IPY_MODEL_907bc2da70694082b8147f9502c5983f",
      "placeholder": "​",
      "style": "IPY_MODEL_a4e03bf1e679463ba560517492456925",
      "value": "tokenizer.json: 100%"
     }
    },
    "e38430337b9d461c876ccde7cfe00618": {
     "model_module": "@jupyter-widgets/base",
     "model_module_version": "1.2.0",
     "model_name": "LayoutModel",
     "state": {
      "_model_module": "@jupyter-widgets/base",
      "_model_module_version": "1.2.0",
      "_model_name": "LayoutModel",
      "_view_count": null,
      "_view_module": "@jupyter-widgets/base",
      "_view_module_version": "1.2.0",
      "_view_name": "LayoutView",
      "align_content": null,
      "align_items": null,
      "align_self": null,
      "border": null,
      "bottom": null,
      "display": null,
      "flex": null,
      "flex_flow": null,
      "grid_area": null,
      "grid_auto_columns": null,
      "grid_auto_flow": null,
      "grid_auto_rows": null,
      "grid_column": null,
      "grid_gap": null,
      "grid_row": null,
      "grid_template_areas": null,
      "grid_template_columns": null,
      "grid_template_rows": null,
      "height": null,
      "justify_content": null,
      "justify_items": null,
      "left": null,
      "margin": null,
      "max_height": null,
      "max_width": null,
      "min_height": null,
      "min_width": null,
      "object_fit": null,
      "object_position": null,
      "order": null,
      "overflow": null,
      "overflow_x": null,
      "overflow_y": null,
      "padding": null,
      "right": null,
      "top": null,
      "visibility": null,
      "width": null
     }
    },
    "e45bbf5f1ed0479c91c2a5ffd920af56": {
     "model_module": "@jupyter-widgets/controls",
     "model_module_version": "1.5.0",
     "model_name": "HTMLModel",
     "state": {
      "_dom_classes": [],
      "_model_module": "@jupyter-widgets/controls",
      "_model_module_version": "1.5.0",
      "_model_name": "HTMLModel",
      "_view_count": null,
      "_view_module": "@jupyter-widgets/controls",
      "_view_module_version": "1.5.0",
      "_view_name": "HTMLView",
      "description": "",
      "description_tooltip": null,
      "layout": "IPY_MODEL_569fcbc6a1c44d52b64226dbe4d5451e",
      "placeholder": "​",
      "style": "IPY_MODEL_ad0ea6494ceb48a8ac8a39bca70999d8",
      "value": " 1.96M/1.96M [00:00&lt;00:00, 16.0MB/s]"
     }
    },
    "e899760c14d24d77b53620c9c7946119": {
     "model_module": "@jupyter-widgets/controls",
     "model_module_version": "1.5.0",
     "model_name": "ProgressStyleModel",
     "state": {
      "_model_module": "@jupyter-widgets/controls",
      "_model_module_version": "1.5.0",
      "_model_name": "ProgressStyleModel",
      "_view_count": null,
      "_view_module": "@jupyter-widgets/base",
      "_view_module_version": "1.2.0",
      "_view_name": "StyleView",
      "bar_color": null,
      "description_width": ""
     }
    },
    "e974ba8f861c48aeb8548cab312d758c": {
     "model_module": "@jupyter-widgets/controls",
     "model_module_version": "1.5.0",
     "model_name": "HBoxModel",
     "state": {
      "_dom_classes": [],
      "_model_module": "@jupyter-widgets/controls",
      "_model_module_version": "1.5.0",
      "_model_name": "HBoxModel",
      "_view_count": null,
      "_view_module": "@jupyter-widgets/controls",
      "_view_module_version": "1.5.0",
      "_view_name": "HBoxView",
      "box_style": "",
      "children": [
       "IPY_MODEL_0938947be70f49b4a2668b30e45b1aae",
       "IPY_MODEL_2cd96637c2054f7e8489493d5281508c",
       "IPY_MODEL_f802bbfadf5145f3b291cad7a617c4d4"
      ],
      "layout": "IPY_MODEL_d795e4d7c862477485a2fb3587a801bb"
     }
    },
    "ecd1452d40544b9f8e824893d8965f80": {
     "model_module": "@jupyter-widgets/controls",
     "model_module_version": "1.5.0",
     "model_name": "HBoxModel",
     "state": {
      "_dom_classes": [],
      "_model_module": "@jupyter-widgets/controls",
      "_model_module_version": "1.5.0",
      "_model_name": "HBoxModel",
      "_view_count": null,
      "_view_module": "@jupyter-widgets/controls",
      "_view_module_version": "1.5.0",
      "_view_name": "HBoxView",
      "box_style": "",
      "children": [
       "IPY_MODEL_cd2b767543f1435299935d6dadee5034",
       "IPY_MODEL_14c4da599454480886928b62d789a0d5",
       "IPY_MODEL_b988ec82ad424ae3835dd35d16a568db"
      ],
      "layout": "IPY_MODEL_0b8c98a0d9b7446396cfbebb7356f676"
     }
    },
    "ed194bf6757a450f96d791fd7e0ecbd0": {
     "model_module": "@jupyter-widgets/controls",
     "model_module_version": "1.5.0",
     "model_name": "HTMLModel",
     "state": {
      "_dom_classes": [],
      "_model_module": "@jupyter-widgets/controls",
      "_model_module_version": "1.5.0",
      "_model_name": "HTMLModel",
      "_view_count": null,
      "_view_module": "@jupyter-widgets/controls",
      "_view_module_version": "1.5.0",
      "_view_name": "HTMLView",
      "description": "",
      "description_tooltip": null,
      "layout": "IPY_MODEL_1de1d369d5294e5a85c9916b298fe2f1",
      "placeholder": "​",
      "style": "IPY_MODEL_700c4a3194f241eaa4ae36b9fa476914",
      "value": "model.safetensors: 100%"
     }
    },
    "ed9e0e610cec4c84aeb24b399e6e55a4": {
     "model_module": "@jupyter-widgets/controls",
     "model_module_version": "1.5.0",
     "model_name": "DescriptionStyleModel",
     "state": {
      "_model_module": "@jupyter-widgets/controls",
      "_model_module_version": "1.5.0",
      "_model_name": "DescriptionStyleModel",
      "_view_count": null,
      "_view_module": "@jupyter-widgets/base",
      "_view_module_version": "1.2.0",
      "_view_name": "StyleView",
      "description_width": ""
     }
    },
    "eea8c8d16bc04a93af2aabf6b526728b": {
     "model_module": "@jupyter-widgets/controls",
     "model_module_version": "1.5.0",
     "model_name": "DescriptionStyleModel",
     "state": {
      "_model_module": "@jupyter-widgets/controls",
      "_model_module_version": "1.5.0",
      "_model_name": "DescriptionStyleModel",
      "_view_count": null,
      "_view_module": "@jupyter-widgets/base",
      "_view_module_version": "1.2.0",
      "_view_name": "StyleView",
      "description_width": ""
     }
    },
    "f0b284b5018e4ca9b4e9620adc24f758": {
     "model_module": "@jupyter-widgets/base",
     "model_module_version": "1.2.0",
     "model_name": "LayoutModel",
     "state": {
      "_model_module": "@jupyter-widgets/base",
      "_model_module_version": "1.2.0",
      "_model_name": "LayoutModel",
      "_view_count": null,
      "_view_module": "@jupyter-widgets/base",
      "_view_module_version": "1.2.0",
      "_view_name": "LayoutView",
      "align_content": null,
      "align_items": null,
      "align_self": null,
      "border": null,
      "bottom": null,
      "display": null,
      "flex": null,
      "flex_flow": null,
      "grid_area": null,
      "grid_auto_columns": null,
      "grid_auto_flow": null,
      "grid_auto_rows": null,
      "grid_column": null,
      "grid_gap": null,
      "grid_row": null,
      "grid_template_areas": null,
      "grid_template_columns": null,
      "grid_template_rows": null,
      "height": null,
      "justify_content": null,
      "justify_items": null,
      "left": null,
      "margin": null,
      "max_height": null,
      "max_width": null,
      "min_height": null,
      "min_width": null,
      "object_fit": null,
      "object_position": null,
      "order": null,
      "overflow": null,
      "overflow_x": null,
      "overflow_y": null,
      "padding": null,
      "right": null,
      "top": null,
      "visibility": null,
      "width": null
     }
    },
    "f3a35087770b400fa5877ce0e6842536": {
     "model_module": "@jupyter-widgets/base",
     "model_module_version": "1.2.0",
     "model_name": "LayoutModel",
     "state": {
      "_model_module": "@jupyter-widgets/base",
      "_model_module_version": "1.2.0",
      "_model_name": "LayoutModel",
      "_view_count": null,
      "_view_module": "@jupyter-widgets/base",
      "_view_module_version": "1.2.0",
      "_view_name": "LayoutView",
      "align_content": null,
      "align_items": null,
      "align_self": null,
      "border": null,
      "bottom": null,
      "display": null,
      "flex": null,
      "flex_flow": null,
      "grid_area": null,
      "grid_auto_columns": null,
      "grid_auto_flow": null,
      "grid_auto_rows": null,
      "grid_column": null,
      "grid_gap": null,
      "grid_row": null,
      "grid_template_areas": null,
      "grid_template_columns": null,
      "grid_template_rows": null,
      "height": null,
      "justify_content": null,
      "justify_items": null,
      "left": null,
      "margin": null,
      "max_height": null,
      "max_width": null,
      "min_height": null,
      "min_width": null,
      "object_fit": null,
      "object_position": null,
      "order": null,
      "overflow": null,
      "overflow_x": null,
      "overflow_y": null,
      "padding": null,
      "right": null,
      "top": null,
      "visibility": null,
      "width": null
     }
    },
    "f4314f8530f4433fac0fa5bd95100171": {
     "model_module": "@jupyter-widgets/base",
     "model_module_version": "1.2.0",
     "model_name": "LayoutModel",
     "state": {
      "_model_module": "@jupyter-widgets/base",
      "_model_module_version": "1.2.0",
      "_model_name": "LayoutModel",
      "_view_count": null,
      "_view_module": "@jupyter-widgets/base",
      "_view_module_version": "1.2.0",
      "_view_name": "LayoutView",
      "align_content": null,
      "align_items": null,
      "align_self": null,
      "border": null,
      "bottom": null,
      "display": null,
      "flex": null,
      "flex_flow": null,
      "grid_area": null,
      "grid_auto_columns": null,
      "grid_auto_flow": null,
      "grid_auto_rows": null,
      "grid_column": null,
      "grid_gap": null,
      "grid_row": null,
      "grid_template_areas": null,
      "grid_template_columns": null,
      "grid_template_rows": null,
      "height": null,
      "justify_content": null,
      "justify_items": null,
      "left": null,
      "margin": null,
      "max_height": null,
      "max_width": null,
      "min_height": null,
      "min_width": null,
      "object_fit": null,
      "object_position": null,
      "order": null,
      "overflow": null,
      "overflow_x": null,
      "overflow_y": null,
      "padding": null,
      "right": null,
      "top": null,
      "visibility": null,
      "width": null
     }
    },
    "f4e51e3711a14c9b9a3313416edab4dd": {
     "model_module": "@jupyter-widgets/controls",
     "model_module_version": "1.5.0",
     "model_name": "DescriptionStyleModel",
     "state": {
      "_model_module": "@jupyter-widgets/controls",
      "_model_module_version": "1.5.0",
      "_model_name": "DescriptionStyleModel",
      "_view_count": null,
      "_view_module": "@jupyter-widgets/base",
      "_view_module_version": "1.2.0",
      "_view_name": "StyleView",
      "description_width": ""
     }
    },
    "f802bbfadf5145f3b291cad7a617c4d4": {
     "model_module": "@jupyter-widgets/controls",
     "model_module_version": "1.5.0",
     "model_name": "HTMLModel",
     "state": {
      "_dom_classes": [],
      "_model_module": "@jupyter-widgets/controls",
      "_model_module_version": "1.5.0",
      "_model_name": "HTMLModel",
      "_view_count": null,
      "_view_module": "@jupyter-widgets/controls",
      "_view_module_version": "1.5.0",
      "_view_name": "HTMLView",
      "description": "",
      "description_tooltip": null,
      "layout": "IPY_MODEL_52362e3759cb4b3f808c602671700337",
      "placeholder": "​",
      "style": "IPY_MODEL_96ea27ef4a594badb71ef41b3d53bec6",
      "value": " 625/625 [00:00&lt;00:00, 14.8kB/s]"
     }
    },
    "f8101c683be54ab8896726653a59bf9f": {
     "model_module": "@jupyter-widgets/controls",
     "model_module_version": "1.5.0",
     "model_name": "DescriptionStyleModel",
     "state": {
      "_model_module": "@jupyter-widgets/controls",
      "_model_module_version": "1.5.0",
      "_model_name": "DescriptionStyleModel",
      "_view_count": null,
      "_view_module": "@jupyter-widgets/base",
      "_view_module_version": "1.2.0",
      "_view_name": "StyleView",
      "description_width": ""
     }
    },
    "f83a0a435b694eeb9b09475887a500d6": {
     "model_module": "@jupyter-widgets/base",
     "model_module_version": "1.2.0",
     "model_name": "LayoutModel",
     "state": {
      "_model_module": "@jupyter-widgets/base",
      "_model_module_version": "1.2.0",
      "_model_name": "LayoutModel",
      "_view_count": null,
      "_view_module": "@jupyter-widgets/base",
      "_view_module_version": "1.2.0",
      "_view_name": "LayoutView",
      "align_content": null,
      "align_items": null,
      "align_self": null,
      "border": null,
      "bottom": null,
      "display": null,
      "flex": null,
      "flex_flow": null,
      "grid_area": null,
      "grid_auto_columns": null,
      "grid_auto_flow": null,
      "grid_auto_rows": null,
      "grid_column": null,
      "grid_gap": null,
      "grid_row": null,
      "grid_template_areas": null,
      "grid_template_columns": null,
      "grid_template_rows": null,
      "height": null,
      "justify_content": null,
      "justify_items": null,
      "left": null,
      "margin": null,
      "max_height": null,
      "max_width": null,
      "min_height": null,
      "min_width": null,
      "object_fit": null,
      "object_position": null,
      "order": null,
      "overflow": null,
      "overflow_x": null,
      "overflow_y": null,
      "padding": null,
      "right": null,
      "top": null,
      "visibility": null,
      "width": null
     }
    },
    "ffc09a0d5e56437296f9255530ef7f48": {
     "model_module": "@jupyter-widgets/controls",
     "model_module_version": "1.5.0",
     "model_name": "FloatProgressModel",
     "state": {
      "_dom_classes": [],
      "_model_module": "@jupyter-widgets/controls",
      "_model_module_version": "1.5.0",
      "_model_name": "FloatProgressModel",
      "_view_count": null,
      "_view_module": "@jupyter-widgets/controls",
      "_view_module_version": "1.5.0",
      "_view_name": "ProgressView",
      "bar_style": "success",
      "description": "",
      "description_tooltip": null,
      "layout": "IPY_MODEL_6c007f78361a45079598cdb6209e71f8",
      "max": 701,
      "min": 0,
      "orientation": "horizontal",
      "style": "IPY_MODEL_8a41aa0aa9304d34b76765ca6e4b22df",
      "value": 701
     }
    }
   }
  }
 },
 "nbformat": 4,
 "nbformat_minor": 4
}
